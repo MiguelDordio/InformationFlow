{
 "cells": [
  {
   "cell_type": "code",
   "execution_count": 259,
   "metadata": {
    "collapsed": true,
    "pycharm": {
     "name": "#%%\n"
    }
   },
   "outputs": [],
   "source": [
    "from os import walk\n",
    "\n",
    "import joblib\n",
    "import pandas as pd\n",
    "import datetime\n",
    "import seaborn as sns\n",
    "from matplotlib import pyplot as plt\n",
    "sns.set()"
   ]
  },
  {
   "cell_type": "code",
   "execution_count": 260,
   "outputs": [],
   "source": [
    "from sklearn.linear_model import LassoCV\n",
    "from sklearn.feature_selection import RFE\n",
    "from sklearn.discriminant_analysis import LinearDiscriminantAnalysis\n",
    "from sklearn.linear_model import LogisticRegression\n",
    "from sklearn.naive_bayes import GaussianNB\n",
    "from sklearn.tree import DecisionTreeClassifier\n",
    "from imblearn.over_sampling import SMOTE\n",
    "from collections import Counter\n",
    "from sklearn.ensemble import RandomForestClassifier, AdaBoostClassifier, GradientBoostingClassifier, ExtraTreesClassifier\n",
    "from sklearn.model_selection import GridSearchCV, KFold, cross_val_score\n",
    "from sklearn.preprocessing import StandardScaler\n",
    "from sklearn.metrics import classification_report, confusion_matrix, accuracy_score\n",
    "from sklearn.feature_selection import chi2\n",
    "from sklearn.feature_selection import f_classif\n",
    "from sklearn.feature_selection import SelectKBest"
   ],
   "metadata": {
    "collapsed": false,
    "pycharm": {
     "name": "#%%\n"
    }
   }
  },
  {
   "cell_type": "code",
   "execution_count": 261,
   "outputs": [],
   "source": [
    "def get_test_train_data(sort):\n",
    "    filenames = next(walk(BASE_FOLDER), (None, None, []))[2]\n",
    "    print(filenames)\n",
    "\n",
    "    train_df, test_df = pd.DataFrame(), pd.DataFrame()\n",
    "    if len(filenames) == 2:\n",
    "        train_df = pd.read_csv(filepath_or_buffer=BASE_FOLDER + filenames[0], sep=\",\")\n",
    "        test_df = pd.read_csv(filepath_or_buffer=BASE_FOLDER + filenames[1], sep=\",\")\n",
    "    elif len(filenames) > 2:\n",
    "        test_df = pd.read_csv(filepath_or_buffer=BASE_FOLDER + filenames[len(filenames) - 1], sep=\",\")\n",
    "        test_df = convert_and_sort_time(test_df, sort)\n",
    "\n",
    "        train_df = pd.DataFrame()\n",
    "        for i in range(len(filenames) - 1):\n",
    "            df_temp = pd.read_csv(filepath_or_buffer=BASE_FOLDER + filenames[i], sep=\",\")\n",
    "            df_temp = convert_and_sort_time(df_temp, sort)\n",
    "            train_df = pd.concat([train_df, pd.DataFrame.from_records(df_temp)])\n",
    "\n",
    "    return train_df, test_df"
   ],
   "metadata": {
    "collapsed": false,
    "pycharm": {
     "name": "#%%\n"
    }
   }
  },
  {
   "cell_type": "code",
   "execution_count": 262,
   "outputs": [],
   "source": [
    "def convert_and_sort_time(df, sort):\n",
    "    df['timestamp'] = pd.to_datetime(df['timestamp'])\n",
    "    df['timestamp'] = [i.replace(tzinfo=datetime.timezone.utc) for i in df['timestamp']]\n",
    "    if sort:\n",
    "        df = df.sort_values(by='timestamp', ascending=True)\n",
    "    return df"
   ],
   "metadata": {
    "collapsed": false,
    "pycharm": {
     "name": "#%%\n"
    }
   }
  },
  {
   "cell_type": "code",
   "execution_count": 263,
   "outputs": [],
   "source": [
    "def prepare_model_data(df):\n",
    "    df = df[df['topics_ids'] != -1].copy()\n",
    "    df['popularity'] = [0 if retweets == 0 else 1 for retweets in df['retweet_count']]\n",
    "    return df"
   ],
   "metadata": {
    "collapsed": false,
    "pycharm": {
     "name": "#%%\n"
    }
   }
  },
  {
   "cell_type": "code",
   "execution_count": 264,
   "outputs": [],
   "source": [
    "def split_data(train_df, test_df):\n",
    "    X_train = train_df.drop('popularity', axis=1)\n",
    "    y_train = train_df['popularity']\n",
    "    print(X_train.shape)\n",
    "    print(y_train.shape)\n",
    "    X_test = test_df.drop('popularity', axis=1)\n",
    "    y_test = test_df['popularity']\n",
    "    print(X_test.shape)\n",
    "    print(y_test.shape)\n",
    "    return X_train, y_train, X_test, y_test"
   ],
   "metadata": {
    "collapsed": false,
    "pycharm": {
     "name": "#%%\n"
    }
   }
  },
  {
   "cell_type": "code",
   "execution_count": 265,
   "outputs": [],
   "source": [
    "BASE_FOLDER = \"../../data/processed_tweets/\"\n",
    "\n",
    "num_vars = ['followers', 'following', 'tweet_count', 'seniority']\n",
    "cat_vars = ['topics_ids', 'sentiment_enc', 'hashtags_enc', 'verified_enc', 'day_phase_enc', 'day_of_week_enc', 'month_enc']\n",
    "\n",
    "variables_to_predict = ['followers', 'following', 'tweet_count', 'seniority', 'verified_enc', 'day_phase_enc', 'day_of_week_enc', 'month_enc', 'topics_ids', 'sentiment_enc', 'hashtags_enc']"
   ],
   "metadata": {
    "collapsed": false,
    "pycharm": {
     "name": "#%%\n"
    }
   }
  },
  {
   "cell_type": "code",
   "execution_count": 266,
   "outputs": [
    {
     "name": "stdout",
     "output_type": "stream",
     "text": [
      "['tweets_2019.csv', 'tweets_2020.csv', 'tweets_2021.csv']\n"
     ]
    }
   ],
   "source": [
    "train_df, test_df = get_test_train_data(False)"
   ],
   "metadata": {
    "collapsed": false,
    "pycharm": {
     "name": "#%%\n"
    }
   }
  },
  {
   "cell_type": "code",
   "execution_count": 267,
   "outputs": [],
   "source": [
    "train_df = prepare_model_data(train_df)\n",
    "test_df = prepare_model_data(test_df)"
   ],
   "metadata": {
    "collapsed": false,
    "pycharm": {
     "name": "#%%\n"
    }
   }
  },
  {
   "cell_type": "code",
   "execution_count": 268,
   "outputs": [
    {
     "name": "stdout",
     "output_type": "stream",
     "text": [
      "(383207, 34)\n",
      "(383207,)\n",
      "(174108, 34)\n",
      "(174108,)\n"
     ]
    }
   ],
   "source": [
    "X_train, y_train, X_test, y_test = split_data(train_df, test_df)"
   ],
   "metadata": {
    "collapsed": false,
    "pycharm": {
     "name": "#%%\n"
    }
   }
  },
  {
   "cell_type": "markdown",
   "source": [
    "## Standardization"
   ],
   "metadata": {
    "collapsed": false,
    "pycharm": {
     "name": "#%% md\n"
    }
   }
  },
  {
   "cell_type": "code",
   "execution_count": 269,
   "outputs": [],
   "source": [
    "X_train_cats = X_train[cat_vars]\n",
    "scaler = StandardScaler().fit(X_train[num_vars])\n",
    "X_train_num_scaled = scaler.transform(X_train[num_vars])\n",
    "X_train_num_scaled = pd.DataFrame(X_train_num_scaled, columns=X_train[num_vars].columns).set_index(X_train.index)\n",
    "\n",
    "X_test_num_scaled = scaler.transform(X_test[num_vars])\n",
    "X_test_num_scaled = pd.DataFrame(X_test_num_scaled, columns=X_test[num_vars].columns).set_index(X_test.index)"
   ],
   "metadata": {
    "collapsed": false,
    "pycharm": {
     "name": "#%%\n"
    }
   }
  },
  {
   "cell_type": "markdown",
   "source": [
    "## Feature Selection"
   ],
   "metadata": {
    "collapsed": false,
    "pycharm": {
     "name": "#%% md\n"
    }
   }
  },
  {
   "cell_type": "code",
   "execution_count": 270,
   "outputs": [],
   "source": [
    "num_feat_to_keep = pd.DataFrame(index=X_train_cats.columns)\n",
    "cat_feat_to_keep = pd.DataFrame(index=X_train_num_scaled.columns)"
   ],
   "metadata": {
    "collapsed": false,
    "pycharm": {
     "name": "#%%\n"
    }
   }
  },
  {
   "cell_type": "code",
   "execution_count": 271,
   "outputs": [],
   "source": [
    "def add_feature_selection_res(df_res, features_to_keep, name):\n",
    "    df_res[name] = 'Discard'\n",
    "    for var in features_to_keep:\n",
    "        df_res.loc[var, name] = 'Keep'"
   ],
   "metadata": {
    "collapsed": false,
    "pycharm": {
     "name": "#%%\n"
    }
   }
  },
  {
   "cell_type": "markdown",
   "source": [
    "### Categorical variables selection"
   ],
   "metadata": {
    "collapsed": false,
    "pycharm": {
     "name": "#%% md\n"
    }
   }
  },
  {
   "cell_type": "markdown",
   "source": [
    "#### Chi-square"
   ],
   "metadata": {
    "collapsed": false,
    "pycharm": {
     "name": "#%% md\n"
    }
   }
  },
  {
   "cell_type": "code",
   "execution_count": 272,
   "outputs": [],
   "source": [
    "def chi_analysis(num_feat_to_keep, X_train, y_train):\n",
    "    chi2_features = SelectKBest(chi2, k=6)\n",
    "    chi2_features.fit_transform(X_train, y_train)\n",
    "    features_to_keep = chi2_features.get_feature_names_out()\n",
    "    add_feature_selection_res(num_feat_to_keep, features_to_keep, 'Chi2')"
   ],
   "metadata": {
    "collapsed": false,
    "pycharm": {
     "name": "#%%\n"
    }
   }
  },
  {
   "cell_type": "code",
   "execution_count": 273,
   "outputs": [],
   "source": [
    "chi_analysis(cat_feat_to_keep, X_train_cats, y_train)"
   ],
   "metadata": {
    "collapsed": false,
    "pycharm": {
     "name": "#%%\n"
    }
   }
  },
  {
   "cell_type": "markdown",
   "source": [
    "### Numerical variables selection"
   ],
   "metadata": {
    "collapsed": false,
    "pycharm": {
     "name": "#%% md\n"
    }
   }
  },
  {
   "cell_type": "markdown",
   "source": [
    "#### ANOVA"
   ],
   "metadata": {
    "collapsed": false,
    "pycharm": {
     "name": "#%% md\n"
    }
   }
  },
  {
   "cell_type": "code",
   "execution_count": 274,
   "outputs": [],
   "source": [
    "def anova_analysis(num_feat_to_keep, X_train, y_train):\n",
    "    fvalue_selector = SelectKBest(f_classif, k=3)\n",
    "    fvalue_selector.fit_transform(X_train, y_train)\n",
    "    features_to_keep = X_train.columns[fvalue_selector.get_support(indices=True)].to_list()\n",
    "    add_feature_selection_res(num_feat_to_keep, features_to_keep, 'ANOVA')"
   ],
   "metadata": {
    "collapsed": false,
    "pycharm": {
     "name": "#%%\n"
    }
   }
  },
  {
   "cell_type": "code",
   "execution_count": 275,
   "outputs": [],
   "source": [
    "anova_analysis(num_feat_to_keep, X_train_num_scaled, y_train)"
   ],
   "metadata": {
    "collapsed": false,
    "pycharm": {
     "name": "#%%\n"
    }
   }
  },
  {
   "cell_type": "markdown",
   "source": [
    "#### Tree-based"
   ],
   "metadata": {
    "collapsed": false,
    "pycharm": {
     "name": "#%% md\n"
    }
   }
  },
  {
   "cell_type": "code",
   "execution_count": 276,
   "outputs": [],
   "source": [
    "def tree_analysis(num_feat_to_keep, X_train, y_train):\n",
    "    clf = ExtraTreesClassifier(n_estimators=50)\n",
    "    clf = clf.fit(X_train, y_train)\n",
    "    features_to_keep = pd.Series(clf.feature_importances_, index=X_train.columns).nlargest(3).index\n",
    "    add_feature_selection_res(num_feat_to_keep, features_to_keep, 'Trees')"
   ],
   "metadata": {
    "collapsed": false,
    "pycharm": {
     "name": "#%%\n"
    }
   }
  },
  {
   "cell_type": "code",
   "execution_count": 277,
   "outputs": [],
   "source": [
    "tree_analysis(num_feat_to_keep, X_train_num_scaled, y_train)"
   ],
   "metadata": {
    "collapsed": false,
    "pycharm": {
     "name": "#%%\n"
    }
   }
  },
  {
   "cell_type": "markdown",
   "source": [
    "#### LASSO Regression"
   ],
   "metadata": {
    "collapsed": false,
    "pycharm": {
     "name": "#%% md\n"
    }
   }
  },
  {
   "cell_type": "code",
   "execution_count": 278,
   "outputs": [],
   "source": [
    "def lasso_analysis(num_feat_to_keep, X_train, y_train):\n",
    "    reg = LassoCV()\n",
    "    reg.fit(X_train, y_train)\n",
    "    coef = pd.Series(abs(reg.coef_), index=X_train.columns)  #Check the coefficients associated with each of the variables\n",
    "    features_to_keep = coef.nlargest(3).index\n",
    "    add_feature_selection_res(num_feat_to_keep, features_to_keep, 'Lasso Regression')"
   ],
   "metadata": {
    "collapsed": false,
    "pycharm": {
     "name": "#%%\n"
    }
   }
  },
  {
   "cell_type": "code",
   "execution_count": 279,
   "outputs": [],
   "source": [
    "lasso_analysis(num_feat_to_keep, X_train_num_scaled, y_train)"
   ],
   "metadata": {
    "collapsed": false,
    "pycharm": {
     "name": "#%%\n"
    }
   }
  },
  {
   "cell_type": "markdown",
   "source": [
    "#### Recursive Feature Elimination"
   ],
   "metadata": {
    "collapsed": false,
    "pycharm": {
     "name": "#%% md\n"
    }
   }
  },
  {
   "cell_type": "code",
   "execution_count": 280,
   "outputs": [],
   "source": [
    "def rfe_analysis(num_feat_to_keep, X_train, y_train):\n",
    "    rfe = RFE(estimator=RandomForestClassifier(), n_features_to_select=3)\n",
    "    rfe.fit(X_train, y_train)\n",
    "    features_to_keep = X_train.columns[rfe.support_]\n",
    "    add_feature_selection_res(num_feat_to_keep, features_to_keep, 'RFE')"
   ],
   "metadata": {
    "collapsed": false,
    "pycharm": {
     "name": "#%%\n"
    }
   }
  },
  {
   "cell_type": "code",
   "execution_count": 281,
   "outputs": [],
   "source": [
    "rfe_analysis(num_feat_to_keep, X_train_num_scaled, y_train)"
   ],
   "metadata": {
    "collapsed": false,
    "pycharm": {
     "name": "#%%\n"
    }
   }
  },
  {
   "cell_type": "markdown",
   "source": [
    "### Final variables"
   ],
   "metadata": {
    "collapsed": false,
    "pycharm": {
     "name": "#%% md\n"
    }
   }
  },
  {
   "cell_type": "code",
   "execution_count": 282,
   "outputs": [
    {
     "data": {
      "text/plain": "               ANOVA    Trees Lasso Regression      RFE  Discard Nr\nfollowers       Keep     Keep             Keep     Keep           0\nfollowing       Keep     Keep          Discard     Keep           1\ntweet_count  Discard     Keep             Keep     Keep           1\nseniority       Keep  Discard             Keep  Discard           2",
      "text/html": "<div>\n<style scoped>\n    .dataframe tbody tr th:only-of-type {\n        vertical-align: middle;\n    }\n\n    .dataframe tbody tr th {\n        vertical-align: top;\n    }\n\n    .dataframe thead th {\n        text-align: right;\n    }\n</style>\n<table border=\"1\" class=\"dataframe\">\n  <thead>\n    <tr style=\"text-align: right;\">\n      <th></th>\n      <th>ANOVA</th>\n      <th>Trees</th>\n      <th>Lasso Regression</th>\n      <th>RFE</th>\n      <th>Discard Nr</th>\n    </tr>\n  </thead>\n  <tbody>\n    <tr>\n      <th>followers</th>\n      <td>Keep</td>\n      <td>Keep</td>\n      <td>Keep</td>\n      <td>Keep</td>\n      <td>0</td>\n    </tr>\n    <tr>\n      <th>following</th>\n      <td>Keep</td>\n      <td>Keep</td>\n      <td>Discard</td>\n      <td>Keep</td>\n      <td>1</td>\n    </tr>\n    <tr>\n      <th>tweet_count</th>\n      <td>Discard</td>\n      <td>Keep</td>\n      <td>Keep</td>\n      <td>Keep</td>\n      <td>1</td>\n    </tr>\n    <tr>\n      <th>seniority</th>\n      <td>Keep</td>\n      <td>Discard</td>\n      <td>Keep</td>\n      <td>Discard</td>\n      <td>2</td>\n    </tr>\n  </tbody>\n</table>\n</div>"
     },
     "execution_count": 282,
     "metadata": {},
     "output_type": "execute_result"
    }
   ],
   "source": [
    "num_feat_to_keep['Discard Nr'] = num_feat_to_keep.apply(lambda x: x.str.findall('Discard').str.len()).sum(axis = 1).astype(int)\n",
    "num_feat_to_keep"
   ],
   "metadata": {
    "collapsed": false,
    "pycharm": {
     "name": "#%%\n"
    }
   }
  },
  {
   "cell_type": "code",
   "execution_count": 283,
   "outputs": [],
   "source": [
    "cat_feat_to_keep['Discard Nr'] = cat_feat_to_keep.apply(lambda x: x.str.findall('Discard').str.len()).sum(axis = 1).astype(int)"
   ],
   "metadata": {
    "collapsed": false,
    "pycharm": {
     "name": "#%%\n"
    }
   }
  },
  {
   "cell_type": "code",
   "execution_count": 284,
   "outputs": [],
   "source": [
    "cat_to_keep = cat_feat_to_keep[cat_feat_to_keep['Discard Nr'] < 1].index.tolist()\n",
    "num_to_keep = num_feat_to_keep[num_feat_to_keep['Discard Nr'] < 2].index.to_list()\n",
    "print(cat_to_keep + num_to_keep)"
   ],
   "metadata": {
    "collapsed": false,
    "pycharm": {
     "name": "#%%\n"
    }
   }
  },
  {
   "cell_type": "code",
   "execution_count": 285,
   "outputs": [],
   "source": [
    "X_train = X_train[cat_to_keep].copy()\n",
    "X_train[num_to_keep] = X_train_num_scaled[num_to_keep]"
   ],
   "metadata": {
    "collapsed": false,
    "pycharm": {
     "name": "#%%\n"
    }
   }
  },
  {
   "cell_type": "code",
   "execution_count": 286,
   "outputs": [],
   "source": [
    "X_test = X_test[cat_to_keep].copy()\n",
    "X_test[num_to_keep] = X_test_num_scaled[num_to_keep]"
   ],
   "metadata": {
    "collapsed": false,
    "pycharm": {
     "name": "#%%\n"
    }
   }
  },
  {
   "cell_type": "markdown",
   "source": [
    "## Balacing the dataset"
   ],
   "metadata": {
    "collapsed": false,
    "pycharm": {
     "name": "#%% md\n"
    }
   }
  },
  {
   "cell_type": "markdown",
   "source": [
    "### SMOTE Method"
   ],
   "metadata": {
    "collapsed": false,
    "pycharm": {
     "name": "#%% md\n"
    }
   }
  },
  {
   "cell_type": "code",
   "execution_count": 287,
   "outputs": [
    {
     "name": "stdout",
     "output_type": "stream",
     "text": [
      "Before over sampling:  Counter({0: 322530, 1: 60677})\n",
      "After over sampling:  Counter({1: 322530, 0: 322530})\n"
     ]
    }
   ],
   "source": [
    "print(\"Before over sampling: \", Counter(y_train))\n",
    "over_sample = SMOTE(random_state=7)\n",
    "X_train_over, y_train_over = over_sample.fit_resample(X_train, y_train)\n",
    "print(\"After over sampling: \", Counter(y_train_over))"
   ],
   "metadata": {
    "collapsed": false,
    "pycharm": {
     "name": "#%%\n"
    }
   }
  },
  {
   "cell_type": "markdown",
   "source": [
    "## Models"
   ],
   "metadata": {
    "collapsed": false,
    "pycharm": {
     "name": "#%% md\n"
    }
   }
  },
  {
   "cell_type": "code",
   "execution_count": 288,
   "outputs": [],
   "source": [
    "def compare_base_models(models, X_train, y_train, scoring, num_folds):\n",
    "    results = []\n",
    "    results_means = []\n",
    "    names = []\n",
    "    df_res = pd.DataFrame(columns=['model', 'score_accuracy'])\n",
    "    for name, model in models:\n",
    "        kfold = KFold(n_splits=num_folds)\n",
    "        cv_results = cross_val_score(model, X_train, y_train, cv=kfold, scoring=scoring)\n",
    "\n",
    "        for res in cv_results:\n",
    "            df_res.loc[len(df_res.index)] = [name, res]\n",
    "\n",
    "        results.append(cv_results)\n",
    "        results_means.append(cv_results.mean())\n",
    "        names.append(name)\n",
    "        msg = \"%s: %f (%f)\" % (name, cv_results.mean(), cv_results.std())\n",
    "        print(msg)\n",
    "\n",
    "    index_min = max(range(len(results_means)), key=results_means.__getitem__)\n",
    "    return models[index_min]"
   ],
   "metadata": {
    "collapsed": false,
    "pycharm": {
     "name": "#%%\n"
    }
   }
  },
  {
   "cell_type": "code",
   "execution_count": 289,
   "outputs": [],
   "source": [
    "def algorithm_comparison_chart(title, models_names, results):\n",
    "    fig = plt.figure()\n",
    "    fig.suptitle(title)\n",
    "    ax = fig.add_subplot(111)\n",
    "    plt.boxplot(results)\n",
    "    ax.set_xticklabels(models_names)\n",
    "    plt.figure(figsize=(16, 9))\n",
    "    plt.show()"
   ],
   "metadata": {
    "collapsed": false,
    "pycharm": {
     "name": "#%%\n"
    }
   }
  },
  {
   "cell_type": "code",
   "execution_count": 290,
   "outputs": [
    {
     "name": "stderr",
     "output_type": "stream",
     "text": [
      "C:\\Users\\Miguel\\PycharmProjects\\maleOrFemaleEyes\\venv\\lib\\site-packages\\sklearn\\linear_model\\_logistic.py:444: ConvergenceWarning: lbfgs failed to converge (status=1):\n",
      "STOP: TOTAL NO. of ITERATIONS REACHED LIMIT.\n",
      "\n",
      "Increase the number of iterations (max_iter) or scale the data as shown in:\n",
      "    https://scikit-learn.org/stable/modules/preprocessing.html\n",
      "Please also refer to the documentation for alternative solver options:\n",
      "    https://scikit-learn.org/stable/modules/linear_model.html#logistic-regression\n",
      "  n_iter_i = _check_optimize_result(\n",
      "C:\\Users\\Miguel\\PycharmProjects\\maleOrFemaleEyes\\venv\\lib\\site-packages\\sklearn\\linear_model\\_logistic.py:444: ConvergenceWarning: lbfgs failed to converge (status=1):\n",
      "STOP: TOTAL NO. of ITERATIONS REACHED LIMIT.\n",
      "\n",
      "Increase the number of iterations (max_iter) or scale the data as shown in:\n",
      "    https://scikit-learn.org/stable/modules/preprocessing.html\n",
      "Please also refer to the documentation for alternative solver options:\n",
      "    https://scikit-learn.org/stable/modules/linear_model.html#logistic-regression\n",
      "  n_iter_i = _check_optimize_result(\n",
      "C:\\Users\\Miguel\\PycharmProjects\\maleOrFemaleEyes\\venv\\lib\\site-packages\\sklearn\\linear_model\\_logistic.py:444: ConvergenceWarning: lbfgs failed to converge (status=1):\n",
      "STOP: TOTAL NO. of ITERATIONS REACHED LIMIT.\n",
      "\n",
      "Increase the number of iterations (max_iter) or scale the data as shown in:\n",
      "    https://scikit-learn.org/stable/modules/preprocessing.html\n",
      "Please also refer to the documentation for alternative solver options:\n",
      "    https://scikit-learn.org/stable/modules/linear_model.html#logistic-regression\n",
      "  n_iter_i = _check_optimize_result(\n"
     ]
    },
    {
     "name": "stdout",
     "output_type": "stream",
     "text": [
      "LR: 0.263783 (0.084296)\n",
      "LDA: 0.204359 (0.059215)\n",
      "CART: 0.587285 (0.014152)\n",
      "NB: 0.540688 (0.305546)\n",
      "AB: 0.452401 (0.073017)\n",
      "GBM: 0.472556 (0.050840)\n",
      "RFC: 0.632178 (0.013794)\n",
      "ET: 0.711731 (0.024027)\n"
     ]
    },
    {
     "data": {
      "text/plain": "<Figure size 432x288 with 1 Axes>",
      "image/png": "[encoded data removed]"
     },
     "metadata": {},
     "output_type": "display_data"
    },
    {
     "data": {
      "text/plain": "<Figure size 1152x648 with 0 Axes>"
     },
     "metadata": {},
     "output_type": "display_data"
    }
   ],
   "source": [
    "models = [('LR', LogisticRegression(solver='lbfgs')), ('LDA', LinearDiscriminantAnalysis()), ('CART', DecisionTreeClassifier()), ('NB', GaussianNB()),\n",
    "          ('AB', AdaBoostClassifier()), ('GBM', GradientBoostingClassifier()), ('RFC', RandomForestClassifier(n_estimators=100)), ('ET', ExtraTreesClassifier())]\n",
    "num_folds = 5\n",
    "seed = 7\n",
    "scoring = 'accuracy'\n",
    "res, results, names = compare_base_models(models, X_train_over, y_train_over, scoring, num_folds)\n",
    "algorithm_comparison_chart(\"\", names, results)"
   ],
   "metadata": {
    "collapsed": false,
    "pycharm": {
     "name": "#%%\n"
    }
   }
  },
  {
   "cell_type": "markdown",
   "source": [
    "## Hyperparameter Optimization"
   ],
   "metadata": {
    "collapsed": false,
    "pycharm": {
     "name": "#%% md\n"
    }
   }
  },
  {
   "cell_type": "code",
   "execution_count": 296,
   "outputs": [],
   "source": [
    "def find_best_params(model, param_grid, X_train, y_train):\n",
    "    grid_search = GridSearchCV(estimator=model, param_grid=param_grid, cv=5, n_jobs=-1, verbose=2)\n",
    "    grid_result = grid_search.fit(X_train, y_train)\n",
    "    print(\"Best: %f using %s\" % (grid_result.best_score_, grid_result.best_params_))"
   ],
   "metadata": {
    "collapsed": false,
    "pycharm": {
     "name": "#%%\n"
    }
   }
  },
  {
   "cell_type": "code",
   "execution_count": 298,
   "outputs": [
    {
     "name": "stdout",
     "output_type": "stream",
     "text": [
      "Fitting 5 folds for each of 2 candidates, totalling 10 fits\n",
      "Best: 0.749239 using {'bootstrap': True, 'max_depth': 80, 'max_features': 2, 'min_samples_leaf': 3, 'min_samples_split': 8, 'n_estimators': 200}\n"
     ]
    }
   ],
   "source": [
    "param_grid = {\n",
    "    'bootstrap': [True],\n",
    "    'max_depth': [80],\n",
    "    'max_features': [2],\n",
    "    'min_samples_leaf': [3],\n",
    "    'min_samples_split': [8],\n",
    "    'n_estimators': [100, 200]\n",
    "}\n",
    "model = RandomForestClassifier()\n",
    "find_best_params(model, param_grid, X_train_over, y_train_over)"
   ],
   "metadata": {
    "collapsed": false,
    "pycharm": {
     "name": "#%%\n"
    }
   }
  },
  {
   "cell_type": "markdown",
   "source": [
    "## Test final model"
   ],
   "metadata": {
    "collapsed": false,
    "pycharm": {
     "name": "#%% md\n"
    }
   }
  },
  {
   "cell_type": "code",
   "execution_count": 293,
   "outputs": [],
   "source": [
    "def train_evaluate_save(model, X_train, y_train, X_test, y_test):\n",
    "    model.fit(X_train, y_train)\n",
    "    predictions = model.predict(X_test)\n",
    "    accuracy = accuracy_score(y_test, predictions)\n",
    "    print('Model Performance')\n",
    "    print('Accuracy: {:0.2f}%'.format(accuracy))\n",
    "    joblib.dump(model, '../../data/models/popularity.joblib')\n",
    "    return accuracy"
   ],
   "metadata": {
    "collapsed": false,
    "pycharm": {
     "name": "#%%\n"
    }
   }
  },
  {
   "cell_type": "code",
   "execution_count": 294,
   "outputs": [
    {
     "name": "stdout",
     "output_type": "stream",
     "text": [
      "Model Performance\n",
      "Accuracy: 0.72%\n"
     ]
    },
    {
     "data": {
      "text/plain": "0.7181060031704459"
     },
     "execution_count": 294,
     "metadata": {},
     "output_type": "execute_result"
    }
   ],
   "source": [
    "model_optimized = RandomForestClassifier(bootstrap=True, max_depth=90, max_features=2, min_samples_leaf=4, min_samples_split=10, n_estimators=100)\n",
    "train_evaluate_save(model_optimized, X_train_over, y_train_over, X_test, y_test)"
   ],
   "metadata": {
    "collapsed": false,
    "pycharm": {
     "name": "#%%\n"
    }
   }
  },
  {
   "cell_type": "code",
   "execution_count": 295,
   "outputs": [
    {
     "name": "stdout",
     "output_type": "stream",
     "text": [
      "0.7181060031704459\n",
      "[[109240  36055]\n",
      " [ 13025  15788]]\n",
      "              precision    recall  f1-score   support\n",
      "\n",
      "           0       0.89      0.75      0.82    145295\n",
      "           1       0.30      0.55      0.39     28813\n",
      "\n",
      "    accuracy                           0.72    174108\n",
      "   macro avg       0.60      0.65      0.60    174108\n",
      "weighted avg       0.80      0.72      0.75    174108\n",
      "\n"
     ]
    }
   ],
   "source": [
    "popularity_model = joblib.load('../../data/models/popularity.joblib')\n",
    "predictions = popularity_model.predict(X_test)\n",
    "print(accuracy_score(y_test, predictions))\n",
    "print(confusion_matrix(y_test, predictions))\n",
    "print(classification_report(y_test, predictions))"
   ],
   "metadata": {
    "collapsed": false,
    "pycharm": {
     "name": "#%%\n"
    }
   }
  }
 ],
 "metadata": {
  "kernelspec": {
   "display_name": "Python 3",
   "language": "python",
   "name": "python3"
  },
  "language_info": {
   "codemirror_mode": {
    "name": "ipython",
    "version": 2
   },
   "file_extension": ".py",
   "mimetype": "text/x-python",
   "name": "python",
   "nbconvert_exporter": "python",
   "pygments_lexer": "ipython2",
   "version": "2.7.6"
  }
 },
 "nbformat": 4,
 "nbformat_minor": 0
}