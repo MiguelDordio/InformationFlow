{
 "cells": [
  {
   "cell_type": "code",
   "execution_count": 93,
   "metadata": {
    "collapsed": true,
    "pycharm": {
     "name": "#%%\n"
    }
   },
   "outputs": [],
   "source": [
    "import pandas as pd\n",
    "import seaborn as sns\n",
    "from matplotlib import pyplot as plt\n",
    "sns.set()"
   ]
  },
  {
   "cell_type": "code",
   "execution_count": 94,
   "outputs": [],
   "source": [
    "from Twitter.analysis_v2.data_prediction_ml import get_test_train_data\n",
    "from Twitter.analysis_v2.data_prediction_ml import prepare_model_data\n",
    "from Twitter.analysis_v2.data_prediction_ml import split_data\n",
    "from Twitter.analysis_v2.data_prediction_ml import compare_base_models\n",
    "from Twitter.analysis_v2.data_prediction_ml import find_best_params\n",
    "from Twitter.analysis_v2.data_prediction_ml import train_evaluate_save\n",
    "from Twitter.analysis_v2.data_prediction_ml import tree_analysis\n",
    "from Twitter.analysis_v2.data_prediction_ml import anova_analysis\n",
    "from Twitter.analysis_v2.data_prediction_ml import chi_analysis\n",
    "from Twitter.analysis_v2.data_prediction_ml import lasso_analysis\n",
    "from Twitter.analysis_v2.data_prediction_ml import rfe_analysis\n",
    "from Twitter.analysis_v2.data_prediction_ml import algorithm_comparison_chart"
   ],
   "metadata": {
    "collapsed": false,
    "pycharm": {
     "name": "#%%\n"
    }
   }
  },
  {
   "cell_type": "code",
   "execution_count": 95,
   "outputs": [],
   "source": [
    "from sklearn.discriminant_analysis import LinearDiscriminantAnalysis\n",
    "from sklearn.linear_model import LogisticRegression\n",
    "from sklearn.naive_bayes import GaussianNB\n",
    "from sklearn.tree import DecisionTreeClassifier\n",
    "from imblearn.over_sampling import SMOTE\n",
    "from collections import Counter\n",
    "from sklearn.ensemble import RandomForestClassifier, AdaBoostClassifier, GradientBoostingClassifier, ExtraTreesClassifier\n",
    "from sklearn.preprocessing import StandardScaler"
   ],
   "metadata": {
    "collapsed": false,
    "pycharm": {
     "name": "#%%\n"
    }
   }
  },
  {
   "cell_type": "code",
   "execution_count": 96,
   "outputs": [],
   "source": [
    "BASE_FOLDER = \"../../data/processed_tweets/\"\n",
    "\n",
    "num_vars = ['followers', 'following', 'tweet_count', 'seniority']\n",
    "cat_vars = ['topics', 'sentiment', 'hashtags', 'verified', 'day_phase', 'day_of_week', 'month']\n",
    "cat_vars_enc = ['topics_ids', 'sentiment_enc', 'hashtags_enc', 'verified_enc', 'day_phase_enc', 'day_of_week_enc', 'month_enc']\n",
    "\n",
    "variables_to_predict = ['followers', 'following', 'tweet_count', 'seniority', 'verified_enc', 'day_phase_enc', 'day_of_week_enc', 'month_enc', 'topics_ids', 'sentiment_enc', 'hashtags_enc']"
   ],
   "metadata": {
    "collapsed": false,
    "pycharm": {
     "name": "#%%\n"
    }
   }
  },
  {
   "cell_type": "code",
   "execution_count": 97,
   "outputs": [
    {
     "name": "stdout",
     "output_type": "stream",
     "text": [
      "['tweets_2019.csv', 'tweets_2020.csv', 'tweets_2021.csv']\n"
     ]
    }
   ],
   "source": [
    "train_df, test_df = get_test_train_data(False)"
   ],
   "metadata": {
    "collapsed": false,
    "pycharm": {
     "name": "#%%\n"
    }
   }
  },
  {
   "cell_type": "code",
   "execution_count": 98,
   "outputs": [],
   "source": [
    "train_df = prepare_model_data(train_df)\n",
    "test_df = prepare_model_data(test_df)"
   ],
   "metadata": {
    "collapsed": false,
    "pycharm": {
     "name": "#%%\n"
    }
   }
  },
  {
   "cell_type": "code",
   "execution_count": 99,
   "outputs": [
    {
     "name": "stdout",
     "output_type": "stream",
     "text": [
      "(383207, 72)\n",
      "(383207,)\n",
      "(174108, 72)\n",
      "(174108,)\n"
     ]
    }
   ],
   "source": [
    "X_train, y_train, X_test, y_test = split_data(train_df, test_df)"
   ],
   "metadata": {
    "collapsed": false,
    "pycharm": {
     "name": "#%%\n"
    }
   }
  },
  {
   "cell_type": "code",
   "execution_count": 100,
   "outputs": [],
   "source": [
    "def get_encoded_cols():\n",
    "    encoded_cols = []\n",
    "    for cat in cat_vars:\n",
    "        content = [x for x in X_train.columns[X_train.columns.str.startswith(cat)].tolist() if (x not in cat_vars_enc) and (x not in cat_vars) and (x != 'topics_cleaned')]\n",
    "        encoded_cols += content\n",
    "    print(len(encoded_cols), \"encoded cols found\")\n",
    "    return encoded_cols"
   ],
   "metadata": {
    "collapsed": false,
    "pycharm": {
     "name": "#%%\n"
    }
   }
  },
  {
   "cell_type": "code",
   "execution_count": 101,
   "outputs": [
    {
     "name": "stdout",
     "output_type": "stream",
     "text": [
      "38 encoded cols found\n"
     ]
    }
   ],
   "source": [
    "cat_vars_encoded = get_encoded_cols()"
   ],
   "metadata": {
    "collapsed": false,
    "pycharm": {
     "name": "#%%\n"
    }
   }
  },
  {
   "cell_type": "code",
   "execution_count": 102,
   "outputs": [],
   "source": [
    "for cat in cat_vars_encoded:\n",
    "    X_train[cat] = X_train[cat].fillna(0)"
   ],
   "metadata": {
    "collapsed": false,
    "pycharm": {
     "name": "#%%\n"
    }
   }
  },
  {
   "cell_type": "markdown",
   "source": [
    "## Standardization"
   ],
   "metadata": {
    "collapsed": false,
    "pycharm": {
     "name": "#%% md\n"
    }
   }
  },
  {
   "cell_type": "code",
   "execution_count": 103,
   "outputs": [],
   "source": [
    "X_train_cats = X_train[cat_vars_encoded]\n",
    "scaler = StandardScaler().fit(X_train[num_vars])\n",
    "X_train_num_scaled = scaler.transform(X_train[num_vars])\n",
    "X_train_num_scaled = pd.DataFrame(X_train_num_scaled, columns=X_train[num_vars].columns).set_index(X_train.index)\n",
    "\n",
    "X_test_num_scaled = scaler.transform(X_test[num_vars])\n",
    "X_test_num_scaled = pd.DataFrame(X_test_num_scaled, columns=X_test[num_vars].columns).set_index(X_test.index)"
   ],
   "metadata": {
    "collapsed": false,
    "pycharm": {
     "name": "#%%\n"
    }
   }
  },
  {
   "cell_type": "markdown",
   "source": [
    "## Feature Selection"
   ],
   "metadata": {
    "collapsed": false,
    "pycharm": {
     "name": "#%% md\n"
    }
   }
  },
  {
   "cell_type": "code",
   "execution_count": 104,
   "outputs": [],
   "source": [
    "num_feat_to_keep = pd.DataFrame(index=X_train_cats.columns)\n",
    "cat_feat_to_keep = pd.DataFrame(index=X_train_num_scaled.columns)"
   ],
   "metadata": {
    "collapsed": false,
    "pycharm": {
     "name": "#%%\n"
    }
   }
  },
  {
   "cell_type": "markdown",
   "source": [
    "### Categorical variables selection"
   ],
   "metadata": {
    "collapsed": false,
    "pycharm": {
     "name": "#%% md\n"
    }
   }
  },
  {
   "cell_type": "markdown",
   "source": [
    "#### Chi-square"
   ],
   "metadata": {
    "collapsed": false,
    "pycharm": {
     "name": "#%% md\n"
    }
   }
  },
  {
   "cell_type": "code",
   "execution_count": 105,
   "outputs": [
    {
     "name": "stdout",
     "output_type": "stream",
     "text": [
      "Chi-square analysis\n"
     ]
    }
   ],
   "source": [
    "chi_analysis(cat_feat_to_keep, X_train_cats, y_train)"
   ],
   "metadata": {
    "collapsed": false,
    "pycharm": {
     "name": "#%%\n"
    }
   }
  },
  {
   "cell_type": "markdown",
   "source": [
    "### Numerical variables selection"
   ],
   "metadata": {
    "collapsed": false,
    "pycharm": {
     "name": "#%% md\n"
    }
   }
  },
  {
   "cell_type": "markdown",
   "source": [
    "#### ANOVA"
   ],
   "metadata": {
    "collapsed": false,
    "pycharm": {
     "name": "#%% md\n"
    }
   }
  },
  {
   "cell_type": "code",
   "execution_count": 106,
   "outputs": [
    {
     "name": "stdout",
     "output_type": "stream",
     "text": [
      "ANOVA analysis\n"
     ]
    }
   ],
   "source": [
    "anova_analysis(num_feat_to_keep, X_train_num_scaled, y_train)"
   ],
   "metadata": {
    "collapsed": false,
    "pycharm": {
     "name": "#%%\n"
    }
   }
  },
  {
   "cell_type": "markdown",
   "source": [
    "#### Tree-based"
   ],
   "metadata": {
    "collapsed": false,
    "pycharm": {
     "name": "#%% md\n"
    }
   }
  },
  {
   "cell_type": "code",
   "execution_count": 107,
   "outputs": [
    {
     "name": "stdout",
     "output_type": "stream",
     "text": [
      "Tree based analysis\n"
     ]
    }
   ],
   "source": [
    "tree_analysis(num_feat_to_keep, X_train_num_scaled, y_train)"
   ],
   "metadata": {
    "collapsed": false,
    "pycharm": {
     "name": "#%%\n"
    }
   }
  },
  {
   "cell_type": "markdown",
   "source": [
    "#### LASSO Regression"
   ],
   "metadata": {
    "collapsed": false,
    "pycharm": {
     "name": "#%% md\n"
    }
   }
  },
  {
   "cell_type": "code",
   "execution_count": 108,
   "outputs": [
    {
     "name": "stdout",
     "output_type": "stream",
     "text": [
      "Lasso analysis\n"
     ]
    }
   ],
   "source": [
    "lasso_analysis(num_feat_to_keep, X_train_num_scaled, y_train)"
   ],
   "metadata": {
    "collapsed": false,
    "pycharm": {
     "name": "#%%\n"
    }
   }
  },
  {
   "cell_type": "markdown",
   "source": [
    "#### Recursive Feature Elimination"
   ],
   "metadata": {
    "collapsed": false,
    "pycharm": {
     "name": "#%% md\n"
    }
   }
  },
  {
   "cell_type": "code",
   "execution_count": 109,
   "outputs": [
    {
     "name": "stdout",
     "output_type": "stream",
     "text": [
      "Recursive feature extraction analysis\n"
     ]
    }
   ],
   "source": [
    "rfe_analysis(num_feat_to_keep, X_train_num_scaled, y_train)"
   ],
   "metadata": {
    "collapsed": false,
    "pycharm": {
     "name": "#%%\n"
    }
   }
  },
  {
   "cell_type": "markdown",
   "source": [
    "### Final variables"
   ],
   "metadata": {
    "collapsed": false,
    "pycharm": {
     "name": "#%% md\n"
    }
   }
  },
  {
   "cell_type": "code",
   "execution_count": 110,
   "outputs": [
    {
     "data": {
      "text/plain": "                                       ANOVA    Trees Lasso Regression  \\\ntopics_cleaned_Brand                 Discard  Discard          Discard   \ntopics_cleaned_Entities              Discard  Discard          Discard   \ntopics_cleaned_Holiday               Discard  Discard          Discard   \ntopics_cleaned_Interest and Hobbies  Discard  Discard          Discard   \ntopics_cleaned_Music                 Discard  Discard          Discard   \ntopics_cleaned_Other                 Discard  Discard          Discard   \ntopics_cleaned_Person                Discard  Discard          Discard   \ntopics_cleaned_Political             Discard  Discard          Discard   \ntopics_cleaned_Sport                 Discard  Discard          Discard   \ntopics_cleaned_TV and Movies         Discard  Discard          Discard   \ntopics_cleaned_Video Game            Discard  Discard          Discard   \ntopics_cleaned_None                  Discard  Discard          Discard   \ntopics_cleaned_News                  Discard  Discard          Discard   \nsentiment_Neutral                    Discard  Discard          Discard   \nsentiment_Positive                   Discard  Discard          Discard   \nhashtags_True                        Discard  Discard          Discard   \nverified_True                        Discard  Discard          Discard   \nday_phase_Dusk                       Discard  Discard          Discard   \nday_phase_Middle of the night        Discard  Discard          Discard   \nday_phase_Morning                    Discard  Discard          Discard   \nday_phase_Night                      Discard  Discard          Discard   \nday_of_week_Monday                   Discard  Discard          Discard   \nday_of_week_Saturday                 Discard  Discard          Discard   \nday_of_week_Sunday                   Discard  Discard          Discard   \nday_of_week_Thursday                 Discard  Discard          Discard   \nday_of_week_Tuesday                  Discard  Discard          Discard   \nday_of_week_Wednesday                Discard  Discard          Discard   \nmonth_August                         Discard  Discard          Discard   \nmonth_December                       Discard  Discard          Discard   \nmonth_February                       Discard  Discard          Discard   \nmonth_January                        Discard  Discard          Discard   \nmonth_July                           Discard  Discard          Discard   \nmonth_June                           Discard  Discard          Discard   \nmonth_March                          Discard  Discard          Discard   \nmonth_May                            Discard  Discard          Discard   \nmonth_November                       Discard  Discard          Discard   \nmonth_October                        Discard  Discard          Discard   \nmonth_September                      Discard  Discard          Discard   \nfollowers                               Keep     Keep             Keep   \nfollowing                               Keep     Keep          Discard   \nseniority                               Keep  Discard             Keep   \ntweet_count                              NaN     Keep             Keep   \n\n                                         RFE  Discard Nr  \ntopics_cleaned_Brand                 Discard           4  \ntopics_cleaned_Entities              Discard           4  \ntopics_cleaned_Holiday               Discard           4  \ntopics_cleaned_Interest and Hobbies  Discard           4  \ntopics_cleaned_Music                 Discard           4  \ntopics_cleaned_Other                 Discard           4  \ntopics_cleaned_Person                Discard           4  \ntopics_cleaned_Political             Discard           4  \ntopics_cleaned_Sport                 Discard           4  \ntopics_cleaned_TV and Movies         Discard           4  \ntopics_cleaned_Video Game            Discard           4  \ntopics_cleaned_None                  Discard           4  \ntopics_cleaned_News                  Discard           4  \nsentiment_Neutral                    Discard           4  \nsentiment_Positive                   Discard           4  \nhashtags_True                        Discard           4  \nverified_True                        Discard           4  \nday_phase_Dusk                       Discard           4  \nday_phase_Middle of the night        Discard           4  \nday_phase_Morning                    Discard           4  \nday_phase_Night                      Discard           4  \nday_of_week_Monday                   Discard           4  \nday_of_week_Saturday                 Discard           4  \nday_of_week_Sunday                   Discard           4  \nday_of_week_Thursday                 Discard           4  \nday_of_week_Tuesday                  Discard           4  \nday_of_week_Wednesday                Discard           4  \nmonth_August                         Discard           4  \nmonth_December                       Discard           4  \nmonth_February                       Discard           4  \nmonth_January                        Discard           4  \nmonth_July                           Discard           4  \nmonth_June                           Discard           4  \nmonth_March                          Discard           4  \nmonth_May                            Discard           4  \nmonth_November                       Discard           4  \nmonth_October                        Discard           4  \nmonth_September                      Discard           4  \nfollowers                               Keep           0  \nfollowing                               Keep           1  \nseniority                            Discard           2  \ntweet_count                             Keep           0  ",
      "text/html": "<div>\n<style scoped>\n    .dataframe tbody tr th:only-of-type {\n        vertical-align: middle;\n    }\n\n    .dataframe tbody tr th {\n        vertical-align: top;\n    }\n\n    .dataframe thead th {\n        text-align: right;\n    }\n</style>\n<table border=\"1\" class=\"dataframe\">\n  <thead>\n    <tr style=\"text-align: right;\">\n      <th></th>\n      <th>ANOVA</th>\n      <th>Trees</th>\n      <th>Lasso Regression</th>\n      <th>RFE</th>\n      <th>Discard Nr</th>\n    </tr>\n  </thead>\n  <tbody>\n    <tr>\n      <th>topics_cleaned_Brand</th>\n      <td>Discard</td>\n      <td>Discard</td>\n      <td>Discard</td>\n      <td>Discard</td>\n      <td>4</td>\n    </tr>\n    <tr>\n      <th>topics_cleaned_Entities</th>\n      <td>Discard</td>\n      <td>Discard</td>\n      <td>Discard</td>\n      <td>Discard</td>\n      <td>4</td>\n    </tr>\n    <tr>\n      <th>topics_cleaned_Holiday</th>\n      <td>Discard</td>\n      <td>Discard</td>\n      <td>Discard</td>\n      <td>Discard</td>\n      <td>4</td>\n    </tr>\n    <tr>\n      <th>topics_cleaned_Interest and Hobbies</th>\n      <td>Discard</td>\n      <td>Discard</td>\n      <td>Discard</td>\n      <td>Discard</td>\n      <td>4</td>\n    </tr>\n    <tr>\n      <th>topics_cleaned_Music</th>\n      <td>Discard</td>\n      <td>Discard</td>\n      <td>Discard</td>\n      <td>Discard</td>\n      <td>4</td>\n    </tr>\n    <tr>\n      <th>topics_cleaned_Other</th>\n      <td>Discard</td>\n      <td>Discard</td>\n      <td>Discard</td>\n      <td>Discard</td>\n      <td>4</td>\n    </tr>\n    <tr>\n      <th>topics_cleaned_Person</th>\n      <td>Discard</td>\n      <td>Discard</td>\n      <td>Discard</td>\n      <td>Discard</td>\n      <td>4</td>\n    </tr>\n    <tr>\n      <th>topics_cleaned_Political</th>\n      <td>Discard</td>\n      <td>Discard</td>\n      <td>Discard</td>\n      <td>Discard</td>\n      <td>4</td>\n    </tr>\n    <tr>\n      <th>topics_cleaned_Sport</th>\n      <td>Discard</td>\n      <td>Discard</td>\n      <td>Discard</td>\n      <td>Discard</td>\n      <td>4</td>\n    </tr>\n    <tr>\n      <th>topics_cleaned_TV and Movies</th>\n      <td>Discard</td>\n      <td>Discard</td>\n      <td>Discard</td>\n      <td>Discard</td>\n      <td>4</td>\n    </tr>\n    <tr>\n      <th>topics_cleaned_Video Game</th>\n      <td>Discard</td>\n      <td>Discard</td>\n      <td>Discard</td>\n      <td>Discard</td>\n      <td>4</td>\n    </tr>\n    <tr>\n      <th>topics_cleaned_None</th>\n      <td>Discard</td>\n      <td>Discard</td>\n      <td>Discard</td>\n      <td>Discard</td>\n      <td>4</td>\n    </tr>\n    <tr>\n      <th>topics_cleaned_News</th>\n      <td>Discard</td>\n      <td>Discard</td>\n      <td>Discard</td>\n      <td>Discard</td>\n      <td>4</td>\n    </tr>\n    <tr>\n      <th>sentiment_Neutral</th>\n      <td>Discard</td>\n      <td>Discard</td>\n      <td>Discard</td>\n      <td>Discard</td>\n      <td>4</td>\n    </tr>\n    <tr>\n      <th>sentiment_Positive</th>\n      <td>Discard</td>\n      <td>Discard</td>\n      <td>Discard</td>\n      <td>Discard</td>\n      <td>4</td>\n    </tr>\n    <tr>\n      <th>hashtags_True</th>\n      <td>Discard</td>\n      <td>Discard</td>\n      <td>Discard</td>\n      <td>Discard</td>\n      <td>4</td>\n    </tr>\n    <tr>\n      <th>verified_True</th>\n      <td>Discard</td>\n      <td>Discard</td>\n      <td>Discard</td>\n      <td>Discard</td>\n      <td>4</td>\n    </tr>\n    <tr>\n      <th>day_phase_Dusk</th>\n      <td>Discard</td>\n      <td>Discard</td>\n      <td>Discard</td>\n      <td>Discard</td>\n      <td>4</td>\n    </tr>\n    <tr>\n      <th>day_phase_Middle of the night</th>\n      <td>Discard</td>\n      <td>Discard</td>\n      <td>Discard</td>\n      <td>Discard</td>\n      <td>4</td>\n    </tr>\n    <tr>\n      <th>day_phase_Morning</th>\n      <td>Discard</td>\n      <td>Discard</td>\n      <td>Discard</td>\n      <td>Discard</td>\n      <td>4</td>\n    </tr>\n    <tr>\n      <th>day_phase_Night</th>\n      <td>Discard</td>\n      <td>Discard</td>\n      <td>Discard</td>\n      <td>Discard</td>\n      <td>4</td>\n    </tr>\n    <tr>\n      <th>day_of_week_Monday</th>\n      <td>Discard</td>\n      <td>Discard</td>\n      <td>Discard</td>\n      <td>Discard</td>\n      <td>4</td>\n    </tr>\n    <tr>\n      <th>day_of_week_Saturday</th>\n      <td>Discard</td>\n      <td>Discard</td>\n      <td>Discard</td>\n      <td>Discard</td>\n      <td>4</td>\n    </tr>\n    <tr>\n      <th>day_of_week_Sunday</th>\n      <td>Discard</td>\n      <td>Discard</td>\n      <td>Discard</td>\n      <td>Discard</td>\n      <td>4</td>\n    </tr>\n    <tr>\n      <th>day_of_week_Thursday</th>\n      <td>Discard</td>\n      <td>Discard</td>\n      <td>Discard</td>\n      <td>Discard</td>\n      <td>4</td>\n    </tr>\n    <tr>\n      <th>day_of_week_Tuesday</th>\n      <td>Discard</td>\n      <td>Discard</td>\n      <td>Discard</td>\n      <td>Discard</td>\n      <td>4</td>\n    </tr>\n    <tr>\n      <th>day_of_week_Wednesday</th>\n      <td>Discard</td>\n      <td>Discard</td>\n      <td>Discard</td>\n      <td>Discard</td>\n      <td>4</td>\n    </tr>\n    <tr>\n      <th>month_August</th>\n      <td>Discard</td>\n      <td>Discard</td>\n      <td>Discard</td>\n      <td>Discard</td>\n      <td>4</td>\n    </tr>\n    <tr>\n      <th>month_December</th>\n      <td>Discard</td>\n      <td>Discard</td>\n      <td>Discard</td>\n      <td>Discard</td>\n      <td>4</td>\n    </tr>\n    <tr>\n      <th>month_February</th>\n      <td>Discard</td>\n      <td>Discard</td>\n      <td>Discard</td>\n      <td>Discard</td>\n      <td>4</td>\n    </tr>\n    <tr>\n      <th>month_January</th>\n      <td>Discard</td>\n      <td>Discard</td>\n      <td>Discard</td>\n      <td>Discard</td>\n      <td>4</td>\n    </tr>\n    <tr>\n      <th>month_July</th>\n      <td>Discard</td>\n      <td>Discard</td>\n      <td>Discard</td>\n      <td>Discard</td>\n      <td>4</td>\n    </tr>\n    <tr>\n      <th>month_June</th>\n      <td>Discard</td>\n      <td>Discard</td>\n      <td>Discard</td>\n      <td>Discard</td>\n      <td>4</td>\n    </tr>\n    <tr>\n      <th>month_March</th>\n      <td>Discard</td>\n      <td>Discard</td>\n      <td>Discard</td>\n      <td>Discard</td>\n      <td>4</td>\n    </tr>\n    <tr>\n      <th>month_May</th>\n      <td>Discard</td>\n      <td>Discard</td>\n      <td>Discard</td>\n      <td>Discard</td>\n      <td>4</td>\n    </tr>\n    <tr>\n      <th>month_November</th>\n      <td>Discard</td>\n      <td>Discard</td>\n      <td>Discard</td>\n      <td>Discard</td>\n      <td>4</td>\n    </tr>\n    <tr>\n      <th>month_October</th>\n      <td>Discard</td>\n      <td>Discard</td>\n      <td>Discard</td>\n      <td>Discard</td>\n      <td>4</td>\n    </tr>\n    <tr>\n      <th>month_September</th>\n      <td>Discard</td>\n      <td>Discard</td>\n      <td>Discard</td>\n      <td>Discard</td>\n      <td>4</td>\n    </tr>\n    <tr>\n      <th>followers</th>\n      <td>Keep</td>\n      <td>Keep</td>\n      <td>Keep</td>\n      <td>Keep</td>\n      <td>0</td>\n    </tr>\n    <tr>\n      <th>following</th>\n      <td>Keep</td>\n      <td>Keep</td>\n      <td>Discard</td>\n      <td>Keep</td>\n      <td>1</td>\n    </tr>\n    <tr>\n      <th>seniority</th>\n      <td>Keep</td>\n      <td>Discard</td>\n      <td>Keep</td>\n      <td>Discard</td>\n      <td>2</td>\n    </tr>\n    <tr>\n      <th>tweet_count</th>\n      <td>NaN</td>\n      <td>Keep</td>\n      <td>Keep</td>\n      <td>Keep</td>\n      <td>0</td>\n    </tr>\n  </tbody>\n</table>\n</div>"
     },
     "execution_count": 110,
     "metadata": {},
     "output_type": "execute_result"
    }
   ],
   "source": [
    "num_feat_to_keep['Discard Nr'] = num_feat_to_keep.apply(lambda x: x.str.findall('Discard').str.len()).sum(axis = 1).astype(int)\n",
    "num_feat_to_keep"
   ],
   "metadata": {
    "collapsed": false,
    "pycharm": {
     "name": "#%%\n"
    }
   }
  },
  {
   "cell_type": "code",
   "execution_count": 111,
   "outputs": [
    {
     "data": {
      "text/plain": "                         Chi2  Discard Nr\nfollowers             Discard           1\nfollowing             Discard           1\ntweet_count           Discard           1\nseniority             Discard           1\ntopics_cleaned_Sport     Keep           0\nsentiment_Neutral        Keep           0\nsentiment_Positive       Keep           0\nhashtags_True            Keep           0\nverified_True            Keep           0\nday_phase_Morning        Keep           0",
      "text/html": "<div>\n<style scoped>\n    .dataframe tbody tr th:only-of-type {\n        vertical-align: middle;\n    }\n\n    .dataframe tbody tr th {\n        vertical-align: top;\n    }\n\n    .dataframe thead th {\n        text-align: right;\n    }\n</style>\n<table border=\"1\" class=\"dataframe\">\n  <thead>\n    <tr style=\"text-align: right;\">\n      <th></th>\n      <th>Chi2</th>\n      <th>Discard Nr</th>\n    </tr>\n  </thead>\n  <tbody>\n    <tr>\n      <th>followers</th>\n      <td>Discard</td>\n      <td>1</td>\n    </tr>\n    <tr>\n      <th>following</th>\n      <td>Discard</td>\n      <td>1</td>\n    </tr>\n    <tr>\n      <th>tweet_count</th>\n      <td>Discard</td>\n      <td>1</td>\n    </tr>\n    <tr>\n      <th>seniority</th>\n      <td>Discard</td>\n      <td>1</td>\n    </tr>\n    <tr>\n      <th>topics_cleaned_Sport</th>\n      <td>Keep</td>\n      <td>0</td>\n    </tr>\n    <tr>\n      <th>sentiment_Neutral</th>\n      <td>Keep</td>\n      <td>0</td>\n    </tr>\n    <tr>\n      <th>sentiment_Positive</th>\n      <td>Keep</td>\n      <td>0</td>\n    </tr>\n    <tr>\n      <th>hashtags_True</th>\n      <td>Keep</td>\n      <td>0</td>\n    </tr>\n    <tr>\n      <th>verified_True</th>\n      <td>Keep</td>\n      <td>0</td>\n    </tr>\n    <tr>\n      <th>day_phase_Morning</th>\n      <td>Keep</td>\n      <td>0</td>\n    </tr>\n  </tbody>\n</table>\n</div>"
     },
     "execution_count": 111,
     "metadata": {},
     "output_type": "execute_result"
    }
   ],
   "source": [
    "cat_feat_to_keep['Discard Nr'] = cat_feat_to_keep.apply(lambda x: x.str.findall('Discard').str.len()).sum(axis = 1).astype(int)\n",
    "cat_feat_to_keep"
   ],
   "metadata": {
    "collapsed": false,
    "pycharm": {
     "name": "#%%\n"
    }
   }
  },
  {
   "cell_type": "code",
   "execution_count": 112,
   "outputs": [
    {
     "name": "stdout",
     "output_type": "stream",
     "text": [
      "['topics_cleaned_Sport', 'sentiment_Neutral', 'sentiment_Positive', 'hashtags_True', 'verified_True', 'day_phase_Morning', 'followers', 'following', 'seniority', 'tweet_count']\n"
     ]
    }
   ],
   "source": [
    "cat_to_keep = cat_feat_to_keep[cat_feat_to_keep['Discard Nr'] < 1].index.tolist()\n",
    "num_to_keep = num_feat_to_keep[num_feat_to_keep['Discard Nr'] < 3].index.to_list()\n",
    "print(cat_to_keep + num_to_keep)"
   ],
   "metadata": {
    "collapsed": false,
    "pycharm": {
     "name": "#%%\n"
    }
   }
  },
  {
   "cell_type": "code",
   "execution_count": 113,
   "outputs": [],
   "source": [
    "X_train = X_train[cat_to_keep].copy()\n",
    "X_train[num_to_keep] = X_train_num_scaled[num_to_keep]"
   ],
   "metadata": {
    "collapsed": false,
    "pycharm": {
     "name": "#%%\n"
    }
   }
  },
  {
   "cell_type": "code",
   "execution_count": 114,
   "outputs": [],
   "source": [
    "X_test = X_test[cat_to_keep].copy()\n",
    "X_test[num_to_keep] = X_test_num_scaled[num_to_keep]"
   ],
   "metadata": {
    "collapsed": false,
    "pycharm": {
     "name": "#%%\n"
    }
   }
  },
  {
   "cell_type": "markdown",
   "source": [
    "## Balacing the dataset"
   ],
   "metadata": {
    "collapsed": false,
    "pycharm": {
     "name": "#%% md\n"
    }
   }
  },
  {
   "cell_type": "markdown",
   "source": [
    "### SMOTE Method"
   ],
   "metadata": {
    "collapsed": false,
    "pycharm": {
     "name": "#%% md\n"
    }
   }
  },
  {
   "cell_type": "code",
   "execution_count": 115,
   "outputs": [
    {
     "name": "stdout",
     "output_type": "stream",
     "text": [
      "Before over sampling:  Counter({0: 322530, 1: 60677})\n",
      "After over sampling:  Counter({1: 322530, 0: 322530})\n"
     ]
    }
   ],
   "source": [
    "print(\"Before over sampling: \", Counter(y_train))\n",
    "over_sample = SMOTE(random_state=7)\n",
    "X_train, y_train = over_sample.fit_resample(X_train, y_train)\n",
    "print(\"After over sampling: \", Counter(y_train))"
   ],
   "metadata": {
    "collapsed": false,
    "pycharm": {
     "name": "#%%\n"
    }
   }
  },
  {
   "cell_type": "markdown",
   "source": [
    "## Models"
   ],
   "metadata": {
    "collapsed": false,
    "pycharm": {
     "name": "#%% md\n"
    }
   }
  },
  {
   "cell_type": "code",
   "execution_count": 117,
   "outputs": [
    {
     "name": "stdout",
     "output_type": "stream",
     "text": [
      "LR: 0.343517 (0.114059)\n",
      "LDA: 0.296067 (0.093531)\n",
      "CART: 0.632261 (0.033863)\n",
      "NB: 0.568958 (0.281192)\n",
      "AB: 0.484470 (0.075111)\n",
      "GBM: 0.490260 (0.058543)\n",
      "RFC: 0.704820 (0.029343)\n",
      "ET: 0.735851 (0.031040)\n"
     ]
    },
    {
     "data": {
      "text/plain": "<Figure size 432x288 with 1 Axes>",
      "image/png": "[encoded data removed]"
     },
     "metadata": {},
     "output_type": "display_data"
    },
    {
     "data": {
      "text/plain": "<Figure size 1800x1296 with 0 Axes>"
     },
     "metadata": {},
     "output_type": "display_data"
    }
   ],
   "source": [
    "models = [('LR', LogisticRegression(solver='lbfgs')), ('LDA', LinearDiscriminantAnalysis()), ('CART', DecisionTreeClassifier()), ('NB', GaussianNB()),\n",
    "          ('AB', AdaBoostClassifier()), ('GBM', GradientBoostingClassifier()), ('RFC', RandomForestClassifier(n_estimators=100)), ('ET', ExtraTreesClassifier())]\n",
    "num_folds = 5\n",
    "seed = 7\n",
    "scoring = 'accuracy'\n",
    "best_base_model, names, results = compare_base_models(models, X_train, y_train, scoring, num_folds)\n",
    "algorithm_comparison_chart('Comparação dos modelos base', 'modelos', 'precisão (0-1)', names, results, False)"
   ],
   "metadata": {
    "collapsed": false,
    "pycharm": {
     "name": "#%%\n"
    }
   }
  },
  {
   "cell_type": "markdown",
   "source": [
    "## Hyperparameter Optimization"
   ],
   "metadata": {
    "collapsed": false,
    "pycharm": {
     "name": "#%% md\n"
    }
   }
  },
  {
   "cell_type": "code",
   "execution_count": 38,
   "outputs": [
    {
     "name": "stdout",
     "output_type": "stream",
     "text": [
      "Fitting 5 folds for each of 72 candidates, totalling 360 fits\n",
      "Best: 0.684668 using {'bootstrap': True, 'max_depth': 110, 'max_features': 3, 'min_samples_leaf': 3, 'min_samples_split': 8}\n"
     ]
    },
    {
     "data": {
      "text/plain": "{'bootstrap': True,\n 'max_depth': 110,\n 'max_features': 3,\n 'min_samples_leaf': 3,\n 'min_samples_split': 8}"
     },
     "execution_count": 38,
     "metadata": {},
     "output_type": "execute_result"
    }
   ],
   "source": [
    "param_grid = {\n",
    "    'bootstrap': [True],\n",
    "    'max_depth': [80, 90, 100, 110],\n",
    "    'max_features': [2, 3],\n",
    "    'min_samples_leaf': [3, 4, 5],\n",
    "    'min_samples_split': [8, 10, 12],\n",
    "    'n_estimators': [100, 200, 400]\n",
    "}\n",
    "best_params = find_best_params(best_base_model[1], param_grid, X_train, y_train)\n",
    "best_params"
   ],
   "metadata": {
    "collapsed": false,
    "pycharm": {
     "name": "#%%\n"
    }
   }
  },
  {
   "cell_type": "code",
   "execution_count": 39,
   "outputs": [],
   "source": [
    "optimized_model = ExtraTreesClassifier(bootstrap=best_params['bootstrap'], max_depth=best_params['max_depth'], max_features=best_params['max_features'],\n",
    "                       min_samples_leaf=best_params['min_samples_leaf'], min_samples_split=best_params['min_samples_split'], n_estimators=best_params['n_estimators'])"
   ],
   "metadata": {
    "collapsed": false,
    "pycharm": {
     "name": "#%%\n"
    }
   }
  },
  {
   "cell_type": "code",
   "execution_count": 60,
   "outputs": [],
   "source": [
    "optimized_model_fixed = ExtraTreesClassifier(bootstrap=True, max_depth=110, max_features=3,\n",
    "                       min_samples_leaf=3, min_samples_split=8, n_estimators=200)"
   ],
   "metadata": {
    "collapsed": false,
    "pycharm": {
     "name": "#%%\n"
    }
   }
  },
  {
   "cell_type": "markdown",
   "source": [
    "## Test final model"
   ],
   "metadata": {
    "collapsed": false,
    "pycharm": {
     "name": "#%% md\n"
    }
   }
  },
  {
   "cell_type": "code",
   "execution_count": 61,
   "outputs": [
    {
     "name": "stdout",
     "output_type": "stream",
     "text": [
      "Model Performance\n",
      "Accuracy: 0.75%\n"
     ]
    },
    {
     "data": {
      "text/plain": "0.7528143451191215"
     },
     "execution_count": 61,
     "metadata": {},
     "output_type": "execute_result"
    }
   ],
   "source": [
    "train_evaluate_save(optimized_model, X_train, y_train, X_test, y_test)"
   ],
   "metadata": {
    "collapsed": false,
    "pycharm": {
     "name": "#%%\n"
    }
   }
  }
 ],
 "metadata": {
  "kernelspec": {
   "display_name": "Python 3",
   "language": "python",
   "name": "python3"
  },
  "language_info": {
   "codemirror_mode": {
    "name": "ipython",
    "version": 2
   },
   "file_extension": ".py",
   "mimetype": "text/x-python",
   "name": "python",
   "nbconvert_exporter": "python",
   "pygments_lexer": "ipython2",
   "version": "2.7.6"
  }
 },
 "nbformat": 4,
 "nbformat_minor": 0
}