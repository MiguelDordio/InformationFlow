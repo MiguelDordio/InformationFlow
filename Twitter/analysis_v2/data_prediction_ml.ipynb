{
 "cells": [
  {
   "cell_type": "code",
   "execution_count": null,
   "metadata": {
    "collapsed": true,
    "pycharm": {
     "name": "#%%\n"
    }
   },
   "outputs": [],
   "source": [
    "import math\n",
    "from os import walk\n",
    "\n",
    "import joblib\n",
    "import numpy as np\n",
    "import pandas as pd\n",
    "import datetime"
   ]
  },
  {
   "cell_type": "code",
   "execution_count": 19,
   "outputs": [],
   "source": [
    "from sklearn.feature_selection import RFE\n",
    "from sklearn.feature_selection import chi2\n",
    "from sklearn.linear_model import LassoCV\n",
    "from sklearn.linear_model import RidgeCV\n",
    "from sklearn.feature_selection import f_classif\n",
    "from sklearn.feature_selection import SelectKBest\n",
    "from sklearn.discriminant_analysis import LinearDiscriminantAnalysis\n",
    "from sklearn.linear_model import LogisticRegression\n",
    "from sklearn.naive_bayes import GaussianNB\n",
    "from sklearn.tree import DecisionTreeClassifier\n",
    "from imblearn.over_sampling import SMOTE\n",
    "from sklearn.neighbors import KNeighborsClassifier\n",
    "from collections import Counter\n",
    "from sklearn.ensemble import RandomForestClassifier, AdaBoostClassifier, GradientBoostingClassifier, ExtraTreesClassifier\n",
    "from sklearn.model_selection import train_test_split, GridSearchCV, KFold, cross_val_score\n",
    "from sklearn.preprocessing import StandardScaler\n",
    "from sklearn.metrics import classification_report, confusion_matrix, accuracy_score"
   ],
   "metadata": {
    "collapsed": false,
    "pycharm": {
     "name": "#%%\n"
    }
   }
  },
  {
   "cell_type": "code",
   "execution_count": 20,
   "outputs": [],
   "source": [
    "def get_test_train_data():\n",
    "    filenames = next(walk(BASE_FOLDER), (None, None, []))[2]\n",
    "    print(filenames)\n",
    "\n",
    "    train_df, test_df = pd.DataFrame(), pd.DataFrame()\n",
    "    if len(filenames) == 2:\n",
    "        train_df = pd.read_csv(filepath_or_buffer=BASE_FOLDER + filenames[0], sep=\",\")\n",
    "        test_df = pd.read_csv(filepath_or_buffer=BASE_FOLDER + filenames[1], sep=\",\")\n",
    "    elif len(filenames) > 2:\n",
    "        test_df = pd.read_csv(filepath_or_buffer=BASE_FOLDER + filenames[len(filenames) - 1], sep=\",\")\n",
    "        test_df = convert_and_sort_time(test_df)\n",
    "\n",
    "        train_df = pd.DataFrame()\n",
    "        for i in range(len(filenames) - 1):\n",
    "            df_temp = pd.read_csv(filepath_or_buffer=BASE_FOLDER + filenames[i], sep=\",\")\n",
    "            df_temp = convert_and_sort_time(df_temp)\n",
    "            train_df = pd.concat([train_df, pd.DataFrame.from_records(df_temp)])\n",
    "\n",
    "    return train_df, test_df"
   ],
   "metadata": {
    "collapsed": false,
    "pycharm": {
     "name": "#%%\n"
    }
   }
  },
  {
   "cell_type": "code",
   "execution_count": 21,
   "outputs": [],
   "source": [
    "def convert_and_sort_time(df):\n",
    "    df['timestamp'] = pd.to_datetime(df['timestamp'])\n",
    "    df['timestamp'] = [i.replace(tzinfo=datetime.timezone.utc) for i in df['timestamp']]\n",
    "    return df.sort_values(by='timestamp', ascending=True)"
   ],
   "metadata": {
    "collapsed": false,
    "pycharm": {
     "name": "#%%\n"
    }
   }
  },
  {
   "cell_type": "code",
   "execution_count": 28,
   "outputs": [],
   "source": [
    "def prepare_model_data(df):\n",
    "    df = df[df['topics_ids'] != -1].copy()\n",
    "    df['popularity'] = [0 if retweets == 0 else 1 for retweets in df['retweet_count']]\n",
    "    return df"
   ],
   "metadata": {
    "collapsed": false,
    "pycharm": {
     "name": "#%%\n"
    }
   }
  },
  {
   "cell_type": "code",
   "execution_count": 23,
   "outputs": [],
   "source": [
    "def split_data(train_df, test_df):\n",
    "    X_train = train_df.drop('popularity', axis=1)\n",
    "    y_train = train_df['popularity']\n",
    "    print(X_train.shape)\n",
    "    print(y_train.shape)\n",
    "    X_test = test_df.drop('popularity', axis=1)\n",
    "    y_test = test_df['popularity']\n",
    "    print(X_test.shape)\n",
    "    print(y_test.shape)\n",
    "    return X_train, y_train, X_test, y_test"
   ],
   "metadata": {
    "collapsed": false,
    "pycharm": {
     "name": "#%%\n"
    }
   }
  },
  {
   "cell_type": "code",
   "execution_count": 24,
   "outputs": [],
   "source": [
    "num_folds = 7\n",
    "seed = 7\n",
    "scoring = 'accuracy'\n",
    "validation_size = 0.70\n",
    "BASE_FOLDER = \"../../data/processed_tweets/\"\n",
    "vars = ['like_count', 'retweet_count', 'quote_count', 'reply_count', 'reach', 'topics_ids', 'sentiment_enc', 'day_phase_enc', 'day_of_week_enc', 'month_enc', 'popularity', 'followers', 'following', 'tweet_count', 'verified_enc', 'seniority']\n",
    "tweet_vars = ['like_count', 'retweet_count', 'quote_count', 'reply_count', 'reach', 'sentiment_enc', 'day_phase_enc', 'day_of_week_enc', 'month_enc', 'topics_ids']\n",
    "users_vars = ['followers', 'following', 'tweet_count', 'verified_enc', 'seniority']\n",
    "num_vars = ['like_count', 'retweet_count', 'quote_count', 'reply_count', 'reach', 'followers', 'following', 'tweet_count', 'seniority']\n",
    "cat_vars = ['sentiment_enc', 'verified_enc', 'day_of_week_enc', 'day_phase_enc', 'month_enc']\n",
    "variables_to_predict = ['followers', 'following', 'tweet_count', 'seniority', 'verified_enc', 'day_phase_enc', 'day_of_week_enc', 'month_enc', 'topics_ids', 'sentiment_enc', 'hashtags_enc']"
   ],
   "metadata": {
    "collapsed": false,
    "pycharm": {
     "name": "#%%\n"
    }
   }
  },
  {
   "cell_type": "code",
   "execution_count": 25,
   "outputs": [
    {
     "name": "stdout",
     "output_type": "stream",
     "text": [
      "['tweets_2021.csv', 'tweets_2020.csv', 'tweets_2019.csv']\n"
     ]
    }
   ],
   "source": [
    "train_df, test_df = get_test_train_data()"
   ],
   "metadata": {
    "collapsed": false,
    "pycharm": {
     "name": "#%%\n"
    }
   }
  },
  {
   "cell_type": "code",
   "execution_count": 29,
   "outputs": [],
   "source": [
    "train_df = prepare_model_data(train_df)\n",
    "test_df = prepare_model_data(test_df)"
   ],
   "metadata": {
    "collapsed": false,
    "pycharm": {
     "name": "#%%\n"
    }
   }
  },
  {
   "cell_type": "code",
   "execution_count": 30,
   "outputs": [
    {
     "name": "stdout",
     "output_type": "stream",
     "text": [
      "(363328, 34)\n",
      "(363328,)\n",
      "(193987, 34)\n",
      "(193987,)\n"
     ]
    }
   ],
   "source": [
    "X_train, y_train, X_test, y_test = split_data(train_df, test_df)"
   ],
   "metadata": {
    "collapsed": false,
    "pycharm": {
     "name": "#%%\n"
    }
   }
  },
  {
   "cell_type": "markdown",
   "source": [
    "## Standardization"
   ],
   "metadata": {
    "collapsed": false,
    "pycharm": {
     "name": "#%% md\n"
    }
   }
  },
  {
   "cell_type": "markdown",
   "source": [
    "## Feature Selection"
   ],
   "metadata": {
    "collapsed": false,
    "pycharm": {
     "name": "#%% md\n"
    }
   }
  },
  {
   "cell_type": "code",
   "execution_count": 31,
   "outputs": [],
   "source": [
    "X_train = X_train[variables_to_predict]\n",
    "X_test = X_test[variables_to_predict]"
   ],
   "metadata": {
    "collapsed": false,
    "pycharm": {
     "name": "#%%\n"
    }
   }
  },
  {
   "cell_type": "markdown",
   "source": [
    "## Balacing the dataset"
   ],
   "metadata": {
    "collapsed": false,
    "pycharm": {
     "name": "#%% md\n"
    }
   }
  },
  {
   "cell_type": "markdown",
   "source": [
    "### SMOTE Method"
   ],
   "metadata": {
    "collapsed": false,
    "pycharm": {
     "name": "#%% md\n"
    }
   }
  },
  {
   "cell_type": "code",
   "execution_count": 32,
   "outputs": [
    {
     "name": "stdout",
     "output_type": "stream",
     "text": [
      "Before over sampling:  Counter({0: 304662, 1: 58666})\n",
      "After over sampling:  Counter({0: 304662, 1: 304662})\n"
     ]
    }
   ],
   "source": [
    "# summarize class distribution\n",
    "print(\"Before over sampling: \", Counter(y_train))\n",
    "over_sample = SMOTE(random_state=seed)\n",
    "X_train_over, y_train_over = over_sample.fit_resample(X_train, y_train)\n",
    "# summarize class distribution\n",
    "print(\"After over sampling: \", Counter(y_train_over))"
   ],
   "metadata": {
    "collapsed": false,
    "pycharm": {
     "name": "#%%\n"
    }
   }
  },
  {
   "cell_type": "markdown",
   "source": [
    "## Models"
   ],
   "metadata": {
    "collapsed": false,
    "pycharm": {
     "name": "#%% md\n"
    }
   }
  },
  {
   "cell_type": "code",
   "execution_count": null,
   "outputs": [],
   "source": [
    "def compare_models(models, X_train, y_train, scoring, num_folds):\n",
    "    results = []\n",
    "    names = []\n",
    "    df_res = pd.DataFrame(columns=['model', 'score_accuracy'])\n",
    "    for name, model in models:\n",
    "        kfold = KFold(n_splits=num_folds)\n",
    "        cv_results = cross_val_score(model, X_train, y_train, cv=kfold, scoring=scoring)\n",
    "\n",
    "        df_res.loc[len(df_res.index)] = [name, cv_results]\n",
    "\n",
    "        results.append(cv_results)\n",
    "        names.append(name)\n",
    "        msg = \"%s: %f (%f)\" % (name, cv_results.mean(), cv_results.std())\n",
    "        print(msg)\n",
    "    return df_res"
   ],
   "metadata": {
    "collapsed": false,
    "pycharm": {
     "name": "#%%\n"
    }
   }
  },
  {
   "cell_type": "code",
   "execution_count": 51,
   "outputs": [
    {
     "name": "stderr",
     "output_type": "stream",
     "text": [
      "/Users/migueloliveira/opt/anaconda3/envs/pythonProject2/lib/python3.10/site-packages/sklearn/model_selection/_validation.py:372: FitFailedWarning: \n",
      "7 fits failed out of a total of 7.\n",
      "The score on these train-test partitions for these parameters will be set to nan.\n",
      "If these failures are not expected, you can try to debug them by setting error_score='raise'.\n",
      "\n",
      "Below are more details about the failures:\n",
      "--------------------------------------------------------------------------------\n",
      "7 fits failed with the following error:\n",
      "Traceback (most recent call last):\n",
      "  File \"/Users/migueloliveira/opt/anaconda3/envs/pythonProject2/lib/python3.10/site-packages/numpy/core/getlimits.py\", line 459, in __new__\n",
      "    dtype = numeric.dtype(dtype)\n",
      "TypeError: 'NoneType' object is not callable\n",
      "\n",
      "During handling of the above exception, another exception occurred:\n",
      "\n",
      "Traceback (most recent call last):\n",
      "  File \"/Users/migueloliveira/opt/anaconda3/envs/pythonProject2/lib/python3.10/site-packages/sklearn/model_selection/_validation.py\", line 680, in _fit_and_score\n",
      "    estimator.fit(X_train, y_train, **fit_params)\n",
      "  File \"/Users/migueloliveira/opt/anaconda3/envs/pythonProject2/lib/python3.10/site-packages/sklearn/linear_model/_logistic.py\", line 1589, in fit\n",
      "    fold_coefs_ = Parallel(\n",
      "  File \"/Users/migueloliveira/opt/anaconda3/envs/pythonProject2/lib/python3.10/site-packages/joblib/parallel.py\", line 1043, in __call__\n",
      "    if self.dispatch_one_batch(iterator):\n",
      "  File \"/Users/migueloliveira/opt/anaconda3/envs/pythonProject2/lib/python3.10/site-packages/joblib/parallel.py\", line 861, in dispatch_one_batch\n",
      "    self._dispatch(tasks)\n",
      "  File \"/Users/migueloliveira/opt/anaconda3/envs/pythonProject2/lib/python3.10/site-packages/joblib/parallel.py\", line 779, in _dispatch\n",
      "    job = self._backend.apply_async(batch, callback=cb)\n",
      "  File \"/Users/migueloliveira/opt/anaconda3/envs/pythonProject2/lib/python3.10/site-packages/joblib/_parallel_backends.py\", line 208, in apply_async\n",
      "    result = ImmediateResult(func)\n",
      "  File \"/Users/migueloliveira/opt/anaconda3/envs/pythonProject2/lib/python3.10/site-packages/joblib/_parallel_backends.py\", line 572, in __init__\n",
      "    self.results = batch()\n",
      "  File \"/Users/migueloliveira/opt/anaconda3/envs/pythonProject2/lib/python3.10/site-packages/joblib/parallel.py\", line 262, in __call__\n",
      "    return [func(*args, **kwargs)\n",
      "  File \"/Users/migueloliveira/opt/anaconda3/envs/pythonProject2/lib/python3.10/site-packages/joblib/parallel.py\", line 262, in <listcomp>\n",
      "    return [func(*args, **kwargs)\n",
      "  File \"/Users/migueloliveira/opt/anaconda3/envs/pythonProject2/lib/python3.10/site-packages/sklearn/utils/fixes.py\", line 216, in __call__\n",
      "    return self.function(*args, **kwargs)\n",
      "  File \"/Users/migueloliveira/opt/anaconda3/envs/pythonProject2/lib/python3.10/site-packages/sklearn/linear_model/_logistic.py\", line 806, in _logistic_regression_path\n",
      "    opt_res = optimize.minimize(\n",
      "  File \"/Users/migueloliveira/opt/anaconda3/envs/pythonProject2/lib/python3.10/site-packages/scipy/optimize/_minimize.py\", line 623, in minimize\n",
      "    return _minimize_lbfgsb(fun, x0, args, jac, bounds,\n",
      "  File \"/Users/migueloliveira/opt/anaconda3/envs/pythonProject2/lib/python3.10/site-packages/scipy/optimize/lbfgsb.py\", line 276, in _minimize_lbfgsb\n",
      "    factr = ftol / np.finfo(float).eps\n",
      "  File \"/Users/migueloliveira/opt/anaconda3/envs/pythonProject2/lib/python3.10/site-packages/numpy/core/getlimits.py\", line 462, in __new__\n",
      "    dtype = numeric.dtype(type(dtype))\n",
      "TypeError: 'NoneType' object is not callable\n",
      "\n",
      "  warnings.warn(some_fits_failed_message, FitFailedWarning)\n"
     ]
    },
    {
     "ename": "KeyboardInterrupt",
     "evalue": "",
     "output_type": "error",
     "traceback": [
      "\u001B[0;31m---------------------------------------------------------------------------\u001B[0m",
      "\u001B[0;31mKeyboardInterrupt\u001B[0m                         Traceback (most recent call last)",
      "Input \u001B[0;32mIn [51]\u001B[0m, in \u001B[0;36m<cell line: 5>\u001B[0;34m()\u001B[0m\n\u001B[1;32m      3\u001B[0m seed \u001B[38;5;241m=\u001B[39m \u001B[38;5;241m7\u001B[39m\n\u001B[1;32m      4\u001B[0m scoring \u001B[38;5;241m=\u001B[39m \u001B[38;5;124m'\u001B[39m\u001B[38;5;124maccuracy\u001B[39m\u001B[38;5;124m'\u001B[39m\n\u001B[0;32m----> 5\u001B[0m res \u001B[38;5;241m=\u001B[39m\u001B[43mcompare_models\u001B[49m\u001B[43m(\u001B[49m\u001B[43mmodels\u001B[49m\u001B[43m,\u001B[49m\u001B[43m \u001B[49m\u001B[43mX_train_over\u001B[49m\u001B[43m,\u001B[49m\u001B[43m \u001B[49m\u001B[43my_train_over\u001B[49m\u001B[43m,\u001B[49m\u001B[43m \u001B[49m\u001B[43mscoring\u001B[49m\u001B[43m,\u001B[49m\u001B[43m \u001B[49m\u001B[43mnum_folds\u001B[49m\u001B[43m)\u001B[49m\n\u001B[1;32m      6\u001B[0m res\n",
      "Input \u001B[0;32mIn [49]\u001B[0m, in \u001B[0;36mcompare_models\u001B[0;34m(models, X_train, y_train, scoring, num_folds)\u001B[0m\n\u001B[1;32m      6\u001B[0m kfold \u001B[38;5;241m=\u001B[39m KFold(n_splits\u001B[38;5;241m=\u001B[39mnum_folds)\n\u001B[1;32m      7\u001B[0m cv_results \u001B[38;5;241m=\u001B[39m cross_val_score(model, X_train, y_train, cv\u001B[38;5;241m=\u001B[39mkfold, scoring\u001B[38;5;241m=\u001B[39mscoring)\n\u001B[0;32m----> 9\u001B[0m df_res\u001B[38;5;241m.\u001B[39mloc[\u001B[38;5;28mlen\u001B[39m(df_res\u001B[38;5;241m.\u001B[39mindex)] \u001B[38;5;241m=\u001B[39m [\u001B[43mname\u001B[49m, cv_results]\n\u001B[1;32m     11\u001B[0m results\u001B[38;5;241m.\u001B[39mappend(cv_results)\n\u001B[1;32m     12\u001B[0m names\u001B[38;5;241m.\u001B[39mappend(name)\n",
      "Input \u001B[0;32mIn [49]\u001B[0m, in \u001B[0;36mcompare_models\u001B[0;34m(models, X_train, y_train, scoring, num_folds)\u001B[0m\n\u001B[1;32m      6\u001B[0m kfold \u001B[38;5;241m=\u001B[39m KFold(n_splits\u001B[38;5;241m=\u001B[39mnum_folds)\n\u001B[1;32m      7\u001B[0m cv_results \u001B[38;5;241m=\u001B[39m cross_val_score(model, X_train, y_train, cv\u001B[38;5;241m=\u001B[39mkfold, scoring\u001B[38;5;241m=\u001B[39mscoring)\n\u001B[0;32m----> 9\u001B[0m df_res\u001B[38;5;241m.\u001B[39mloc[\u001B[38;5;28mlen\u001B[39m(df_res\u001B[38;5;241m.\u001B[39mindex)] \u001B[38;5;241m=\u001B[39m [\u001B[43mname\u001B[49m, cv_results]\n\u001B[1;32m     11\u001B[0m results\u001B[38;5;241m.\u001B[39mappend(cv_results)\n\u001B[1;32m     12\u001B[0m names\u001B[38;5;241m.\u001B[39mappend(name)\n",
      "File \u001B[0;32m_pydevd_bundle/pydevd_cython_darwin_310_64.pyx:1179\u001B[0m, in \u001B[0;36m_pydevd_bundle.pydevd_cython_darwin_310_64.SafeCallWrapper.__call__\u001B[0;34m()\u001B[0m\n",
      "File \u001B[0;32m_pydevd_bundle/pydevd_cython_darwin_310_64.pyx:620\u001B[0m, in \u001B[0;36m_pydevd_bundle.pydevd_cython_darwin_310_64.PyDBFrame.trace_dispatch\u001B[0;34m()\u001B[0m\n",
      "File \u001B[0;32m_pydevd_bundle/pydevd_cython_darwin_310_64.pyx:929\u001B[0m, in \u001B[0;36m_pydevd_bundle.pydevd_cython_darwin_310_64.PyDBFrame.trace_dispatch\u001B[0;34m()\u001B[0m\n",
      "File \u001B[0;32m_pydevd_bundle/pydevd_cython_darwin_310_64.pyx:920\u001B[0m, in \u001B[0;36m_pydevd_bundle.pydevd_cython_darwin_310_64.PyDBFrame.trace_dispatch\u001B[0;34m()\u001B[0m\n",
      "File \u001B[0;32m_pydevd_bundle/pydevd_cython_darwin_310_64.pyx:317\u001B[0m, in \u001B[0;36m_pydevd_bundle.pydevd_cython_darwin_310_64.PyDBFrame.do_wait_suspend\u001B[0;34m()\u001B[0m\n",
      "File \u001B[0;32m/Applications/PyCharm.app/Contents/plugins/python/helpers/pydev/pydevd.py:1155\u001B[0m, in \u001B[0;36mPyDB.do_wait_suspend\u001B[0;34m(self, thread, frame, event, arg, send_suspend_message, is_unhandled_exception)\u001B[0m\n\u001B[1;32m   1152\u001B[0m         from_this_thread\u001B[38;5;241m.\u001B[39mappend(frame_id)\n\u001B[1;32m   1154\u001B[0m \u001B[38;5;28;01mwith\u001B[39;00m \u001B[38;5;28mself\u001B[39m\u001B[38;5;241m.\u001B[39m_threads_suspended_single_notification\u001B[38;5;241m.\u001B[39mnotify_thread_suspended(thread_id, stop_reason):\n\u001B[0;32m-> 1155\u001B[0m     \u001B[38;5;28;43mself\u001B[39;49m\u001B[38;5;241;43m.\u001B[39;49m\u001B[43m_do_wait_suspend\u001B[49m\u001B[43m(\u001B[49m\u001B[43mthread\u001B[49m\u001B[43m,\u001B[49m\u001B[43m \u001B[49m\u001B[43mframe\u001B[49m\u001B[43m,\u001B[49m\u001B[43m \u001B[49m\u001B[43mevent\u001B[49m\u001B[43m,\u001B[49m\u001B[43m \u001B[49m\u001B[43marg\u001B[49m\u001B[43m,\u001B[49m\u001B[43m \u001B[49m\u001B[43msuspend_type\u001B[49m\u001B[43m,\u001B[49m\u001B[43m \u001B[49m\u001B[43mfrom_this_thread\u001B[49m\u001B[43m)\u001B[49m\n",
      "File \u001B[0;32m/Applications/PyCharm.app/Contents/plugins/python/helpers/pydev/pydevd.py:1170\u001B[0m, in \u001B[0;36mPyDB._do_wait_suspend\u001B[0;34m(self, thread, frame, event, arg, suspend_type, from_this_thread)\u001B[0m\n\u001B[1;32m   1167\u001B[0m             \u001B[38;5;28mself\u001B[39m\u001B[38;5;241m.\u001B[39m_call_mpl_hook()\n\u001B[1;32m   1169\u001B[0m         \u001B[38;5;28mself\u001B[39m\u001B[38;5;241m.\u001B[39mprocess_internal_commands()\n\u001B[0;32m-> 1170\u001B[0m         \u001B[43mtime\u001B[49m\u001B[38;5;241;43m.\u001B[39;49m\u001B[43msleep\u001B[49m\u001B[43m(\u001B[49m\u001B[38;5;241;43m0.01\u001B[39;49m\u001B[43m)\u001B[49m\n\u001B[1;32m   1172\u001B[0m \u001B[38;5;28mself\u001B[39m\u001B[38;5;241m.\u001B[39mcancel_async_evaluation(get_current_thread_id(thread), \u001B[38;5;28mstr\u001B[39m(\u001B[38;5;28mid\u001B[39m(frame)))\n\u001B[1;32m   1174\u001B[0m \u001B[38;5;66;03m# process any stepping instructions\u001B[39;00m\n",
      "\u001B[0;31mKeyboardInterrupt\u001B[0m: "
     ]
    }
   ],
   "source": [
    "models = [('LR', LogisticRegression(solver='lbfgs')), ('LDA', LinearDiscriminantAnalysis()), ('CART', DecisionTreeClassifier()), ('NB', GaussianNB())]\n",
    "num_folds = 7\n",
    "seed = 7\n",
    "scoring = 'accuracy'\n",
    "res =compare_models(models, X_train_over, y_train_over, scoring, num_folds)\n",
    "res"
   ],
   "metadata": {
    "collapsed": false,
    "pycharm": {
     "name": "#%%\n"
    }
   }
  },
  {
   "cell_type": "code",
   "execution_count": 52,
   "outputs": [
    {
     "name": "stderr",
     "output_type": "stream",
     "text": [
      "/Users/migueloliveira/opt/anaconda3/envs/pythonProject2/lib/python3.10/site-packages/sklearn/model_selection/_validation.py:372: FitFailedWarning: \n",
      "7 fits failed out of a total of 7.\n",
      "The score on these train-test partitions for these parameters will be set to nan.\n",
      "If these failures are not expected, you can try to debug them by setting error_score='raise'.\n",
      "\n",
      "Below are more details about the failures:\n",
      "--------------------------------------------------------------------------------\n",
      "7 fits failed with the following error:\n",
      "Traceback (most recent call last):\n",
      "  File \"/Users/migueloliveira/opt/anaconda3/envs/pythonProject2/lib/python3.10/site-packages/numpy/core/getlimits.py\", line 459, in __new__\n",
      "    dtype = numeric.dtype(dtype)\n",
      "TypeError: 'NoneType' object is not callable\n",
      "\n",
      "During handling of the above exception, another exception occurred:\n",
      "\n",
      "Traceback (most recent call last):\n",
      "  File \"/Users/migueloliveira/opt/anaconda3/envs/pythonProject2/lib/python3.10/site-packages/sklearn/model_selection/_validation.py\", line 680, in _fit_and_score\n",
      "    estimator.fit(X_train, y_train, **fit_params)\n",
      "  File \"/Users/migueloliveira/opt/anaconda3/envs/pythonProject2/lib/python3.10/site-packages/sklearn/linear_model/_logistic.py\", line 1589, in fit\n",
      "    fold_coefs_ = Parallel(\n",
      "  File \"/Users/migueloliveira/opt/anaconda3/envs/pythonProject2/lib/python3.10/site-packages/joblib/parallel.py\", line 1043, in __call__\n",
      "    if self.dispatch_one_batch(iterator):\n",
      "  File \"/Users/migueloliveira/opt/anaconda3/envs/pythonProject2/lib/python3.10/site-packages/joblib/parallel.py\", line 861, in dispatch_one_batch\n",
      "    self._dispatch(tasks)\n",
      "  File \"/Users/migueloliveira/opt/anaconda3/envs/pythonProject2/lib/python3.10/site-packages/joblib/parallel.py\", line 779, in _dispatch\n",
      "    job = self._backend.apply_async(batch, callback=cb)\n",
      "  File \"/Users/migueloliveira/opt/anaconda3/envs/pythonProject2/lib/python3.10/site-packages/joblib/_parallel_backends.py\", line 208, in apply_async\n",
      "    result = ImmediateResult(func)\n",
      "  File \"/Users/migueloliveira/opt/anaconda3/envs/pythonProject2/lib/python3.10/site-packages/joblib/_parallel_backends.py\", line 572, in __init__\n",
      "    self.results = batch()\n",
      "  File \"/Users/migueloliveira/opt/anaconda3/envs/pythonProject2/lib/python3.10/site-packages/joblib/parallel.py\", line 262, in __call__\n",
      "    return [func(*args, **kwargs)\n",
      "  File \"/Users/migueloliveira/opt/anaconda3/envs/pythonProject2/lib/python3.10/site-packages/joblib/parallel.py\", line 262, in <listcomp>\n",
      "    return [func(*args, **kwargs)\n",
      "  File \"/Users/migueloliveira/opt/anaconda3/envs/pythonProject2/lib/python3.10/site-packages/sklearn/utils/fixes.py\", line 216, in __call__\n",
      "    return self.function(*args, **kwargs)\n",
      "  File \"/Users/migueloliveira/opt/anaconda3/envs/pythonProject2/lib/python3.10/site-packages/sklearn/linear_model/_logistic.py\", line 806, in _logistic_regression_path\n",
      "    opt_res = optimize.minimize(\n",
      "  File \"/Users/migueloliveira/opt/anaconda3/envs/pythonProject2/lib/python3.10/site-packages/scipy/optimize/_minimize.py\", line 623, in minimize\n",
      "    return _minimize_lbfgsb(fun, x0, args, jac, bounds,\n",
      "  File \"/Users/migueloliveira/opt/anaconda3/envs/pythonProject2/lib/python3.10/site-packages/scipy/optimize/lbfgsb.py\", line 276, in _minimize_lbfgsb\n",
      "    factr = ftol / np.finfo(float).eps\n",
      "  File \"/Users/migueloliveira/opt/anaconda3/envs/pythonProject2/lib/python3.10/site-packages/numpy/core/getlimits.py\", line 462, in __new__\n",
      "    dtype = numeric.dtype(type(dtype))\n",
      "TypeError: 'NoneType' object is not callable\n",
      "\n",
      "  warnings.warn(some_fits_failed_message, FitFailedWarning)\n"
     ]
    },
    {
     "ename": "TypeError",
     "evalue": "must be real number, not builtin_function_or_method",
     "output_type": "error",
     "traceback": [
      "\u001B[0;31m---------------------------------------------------------------------------\u001B[0m",
      "\u001B[0;31mTypeError\u001B[0m                                 Traceback (most recent call last)",
      "Input \u001B[0;32mIn [52]\u001B[0m, in \u001B[0;36m<cell line: 5>\u001B[0;34m()\u001B[0m\n\u001B[1;32m      7\u001B[0m cv_results \u001B[38;5;241m=\u001B[39m cross_val_score(model, X_train_over, y_train_over, cv\u001B[38;5;241m=\u001B[39mkfold, scoring\u001B[38;5;241m=\u001B[39mscoring)\n\u001B[1;32m      8\u001B[0m res[name] \u001B[38;5;241m=\u001B[39m cv_results\n\u001B[0;32m----> 9\u001B[0m msg \u001B[38;5;241m=\u001B[39m \u001B[38;5;124;43m\"\u001B[39;49m\u001B[38;5;132;43;01m%s\u001B[39;49;00m\u001B[38;5;124;43m: \u001B[39;49m\u001B[38;5;132;43;01m%f\u001B[39;49;00m\u001B[38;5;124;43m (\u001B[39;49m\u001B[38;5;132;43;01m%f\u001B[39;49;00m\u001B[38;5;124;43m)\u001B[39;49m\u001B[38;5;124;43m\"\u001B[39;49m\u001B[43m \u001B[49m\u001B[38;5;241;43m%\u001B[39;49m\u001B[43m \u001B[49m\u001B[43m(\u001B[49m\u001B[43mname\u001B[49m\u001B[43m,\u001B[49m\u001B[43m \u001B[49m\u001B[43mcv_results\u001B[49m\u001B[38;5;241;43m.\u001B[39;49m\u001B[43mmean\u001B[49m\u001B[43m(\u001B[49m\u001B[43m)\u001B[49m\u001B[43m,\u001B[49m\u001B[43m \u001B[49m\u001B[43mcv_results\u001B[49m\u001B[38;5;241;43m.\u001B[39;49m\u001B[43mstd\u001B[49m\u001B[43m)\u001B[49m\n\u001B[1;32m     10\u001B[0m \u001B[38;5;28mprint\u001B[39m(msg)\n",
      "\u001B[0;31mTypeError\u001B[0m: must be real number, not builtin_function_or_method"
     ]
    }
   ],
   "source": [
    "results = []\n",
    "names = []\n",
    "res = dict()\n",
    "df_res = pd.DataFrame(columns=['model', 'score_accuracy'])\n",
    "for name, model in models:\n",
    "    kfold = KFold(n_splits=num_folds)\n",
    "    cv_results = cross_val_score(model, X_train_over, y_train_over, cv=kfold, scoring=scoring)\n",
    "    res[name] = cv_results\n",
    "    msg = \"%s: %f (%f)\" % (name, cv_results.mean(), cv_results.std)\n",
    "    print(msg)"
   ],
   "metadata": {
    "collapsed": false,
    "pycharm": {
     "name": "#%%\n"
    }
   }
  },
  {
   "cell_type": "code",
   "execution_count": null,
   "outputs": [],
   "source": [],
   "metadata": {
    "collapsed": false,
    "pycharm": {
     "name": "#%%\n"
    }
   }
  }
 ],
 "metadata": {
  "kernelspec": {
   "display_name": "Python 3",
   "language": "python",
   "name": "python3"
  },
  "language_info": {
   "codemirror_mode": {
    "name": "ipython",
    "version": 2
   },
   "file_extension": ".py",
   "mimetype": "text/x-python",
   "name": "python",
   "nbconvert_exporter": "python",
   "pygments_lexer": "ipython2",
   "version": "2.7.6"
  }
 },
 "nbformat": 4,
 "nbformat_minor": 0
}