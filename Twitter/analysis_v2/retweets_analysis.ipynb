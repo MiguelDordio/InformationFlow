{
 "cells": [
  {
   "cell_type": "code",
   "execution_count": 84,
   "outputs": [],
   "source": [
    "from Twitter.analysis_v2.retweets_analysis import *"
   ],
   "metadata": {
    "collapsed": false,
    "pycharm": {
     "name": "#%%\n"
    }
   }
  },
  {
   "cell_type": "markdown",
   "source": [
    "# Data Import and overview"
   ],
   "metadata": {
    "collapsed": false,
    "pycharm": {
     "name": "#%% md\n"
    }
   }
  },
  {
   "cell_type": "code",
   "execution_count": 85,
   "outputs": [],
   "source": [
    "DATASETS_PATH = \"../../data/processed_tweets/\"\n",
    "DATASETS_RETWEETS_PATH = \"../../data/processed_retweets/\"\n",
    "\n",
    "processed_filenames = next(walk(DATASETS_PATH), (None, None, []))[2]\n",
    "filenames = [DATASETS_PATH + \"/\" + filename for filename in processed_filenames]\n",
    "\n",
    "processed_retweets_filenames = next(walk(DATASETS_RETWEETS_PATH), (None, None, []))[2]\n",
    "retweets_filenames = [DATASETS_RETWEETS_PATH + \"/\" + filename for filename in processed_retweets_filenames]"
   ],
   "metadata": {
    "collapsed": false,
    "pycharm": {
     "name": "#%%\n"
    }
   }
  },
  {
   "cell_type": "code",
   "execution_count": 86,
   "outputs": [
    {
     "data": {
      "text/plain": "          index             tweet_id  \\\n0             0  1079904885246705665   \n1             1  1079904884445581312   \n2             2  1079904885175476224   \n3             3  1079904885531791360   \n4             4  1079904886513430528   \n...         ...                  ...   \n1595869  533370  1477036834261770241   \n1595870  533371  1477036835603836932   \n1595871  533372  1477036838217035777   \n1595872  533373  1477036840024567809   \n1595873  533374  1477036841933185025   \n\n                                                      text  \\\n0                               I’ll never salt you down 😌   \n1        You know who you are; but some of you I’ve fol...   \n2             Oh she a freak freak https://t.co/uJqYxJUGgg   \n3                       Don’t forget your red thong ladies   \n4        Mirage Mirror Hour of Devastation Artist Greg ...   \n...                                                    ...   \n1595869            …. them crawfish was so good yall lmfao   \n1595870  Damn all the freaks are at the New Bev right n...   \n1595871  Fast And Professional Vehicle Lockout Service ...   \n1595872             Very much this https://t.co/b3bgtstLfr   \n1595873           Best thread ever https://t.co/EBo4JkTCx4   \n\n                  timestamp             user_id  like_count  retweet_count  \\\n0       2019-01-01 00:59:22           497001647           0              0   \n1       2019-01-01 00:59:22           112542289           2              1   \n2       2019-01-01 00:59:22          2372981097           0              0   \n3       2019-01-01 00:59:23          2446281619           2              0   \n4       2019-01-01 00:59:23            71949265           0              0   \n...                     ...                 ...         ...            ...   \n1595869 2021-12-31 21:59:57  795707439219884037           0              0   \n1595870 2021-12-31 21:59:58            34679503          26              0   \n1595871 2021-12-31 21:59:58           210241982           0              0   \n1595872 2021-12-31 21:59:59           883576549           3              0   \n1595873 2021-12-31 21:59:59           131371694           0              0   \n\n         quote_count  reply_count  reach  ...            day_phase week_idx  \\\n0                  0            0   1468  ...  Middle of the night  2019-01   \n1                  0            0   2969  ...  Middle of the night  2019-01   \n2                  0            0    809  ...  Middle of the night  2019-01   \n3                  0            0    112  ...  Middle of the night  2019-01   \n4                  0            0     49  ...  Middle of the night  2019-01   \n...              ...          ...    ...  ...                  ...      ...   \n1595869            0            0   1826  ...                Night  2021-52   \n1595870            0            0  10636  ...                Night  2021-52   \n1595871            0            0    394  ...                Night  2021-52   \n1595872            0            0    702  ...                Night  2021-52   \n1595873            0            0     57  ...                Night  2021-52   \n\n        day_phase_enc day_of_week_enc  month_enc  year_enc  sentiment_enc  \\\n0                   2               5          4         0              2   \n1                   2               5          4         0              2   \n2                   2               5          4         0              0   \n3                   2               5          4         0              0   \n4                   2               5          4         0              0   \n...               ...             ...        ...       ...            ...   \n1595869             4               0          2         0              2   \n1595870             4               0          2         0              1   \n1595871             4               0          2         0              0   \n1595872             4               0          2         0              1   \n1595873             4               0          2         0              2   \n\n         verified_enc  hashtags_enc  seniority  \n0                   0             0         10  \n1                   0             0         12  \n2                   0             0          8  \n3                   0             0          8  \n4                   0             0         12  \n...               ...           ...        ...  \n1595869             0             0          5  \n1595870             0             0         13  \n1595871             0             0         11  \n1595872             0             0          9  \n1595873             0             0         12  \n\n[1595874 rows x 34 columns]",
      "text/html": "<div>\n<style scoped>\n    .dataframe tbody tr th:only-of-type {\n        vertical-align: middle;\n    }\n\n    .dataframe tbody tr th {\n        vertical-align: top;\n    }\n\n    .dataframe thead th {\n        text-align: right;\n    }\n</style>\n<table border=\"1\" class=\"dataframe\">\n  <thead>\n    <tr style=\"text-align: right;\">\n      <th></th>\n      <th>index</th>\n      <th>tweet_id</th>\n      <th>text</th>\n      <th>timestamp</th>\n      <th>user_id</th>\n      <th>like_count</th>\n      <th>retweet_count</th>\n      <th>quote_count</th>\n      <th>reply_count</th>\n      <th>reach</th>\n      <th>...</th>\n      <th>day_phase</th>\n      <th>week_idx</th>\n      <th>day_phase_enc</th>\n      <th>day_of_week_enc</th>\n      <th>month_enc</th>\n      <th>year_enc</th>\n      <th>sentiment_enc</th>\n      <th>verified_enc</th>\n      <th>hashtags_enc</th>\n      <th>seniority</th>\n    </tr>\n  </thead>\n  <tbody>\n    <tr>\n      <th>0</th>\n      <td>0</td>\n      <td>1079904885246705665</td>\n      <td>I’ll never salt you down 😌</td>\n      <td>2019-01-01 00:59:22</td>\n      <td>497001647</td>\n      <td>0</td>\n      <td>0</td>\n      <td>0</td>\n      <td>0</td>\n      <td>1468</td>\n      <td>...</td>\n      <td>Middle of the night</td>\n      <td>2019-01</td>\n      <td>2</td>\n      <td>5</td>\n      <td>4</td>\n      <td>0</td>\n      <td>2</td>\n      <td>0</td>\n      <td>0</td>\n      <td>10</td>\n    </tr>\n    <tr>\n      <th>1</th>\n      <td>1</td>\n      <td>1079904884445581312</td>\n      <td>You know who you are; but some of you I’ve fol...</td>\n      <td>2019-01-01 00:59:22</td>\n      <td>112542289</td>\n      <td>2</td>\n      <td>1</td>\n      <td>0</td>\n      <td>0</td>\n      <td>2969</td>\n      <td>...</td>\n      <td>Middle of the night</td>\n      <td>2019-01</td>\n      <td>2</td>\n      <td>5</td>\n      <td>4</td>\n      <td>0</td>\n      <td>2</td>\n      <td>0</td>\n      <td>0</td>\n      <td>12</td>\n    </tr>\n    <tr>\n      <th>2</th>\n      <td>2</td>\n      <td>1079904885175476224</td>\n      <td>Oh she a freak freak https://t.co/uJqYxJUGgg</td>\n      <td>2019-01-01 00:59:22</td>\n      <td>2372981097</td>\n      <td>0</td>\n      <td>0</td>\n      <td>0</td>\n      <td>0</td>\n      <td>809</td>\n      <td>...</td>\n      <td>Middle of the night</td>\n      <td>2019-01</td>\n      <td>2</td>\n      <td>5</td>\n      <td>4</td>\n      <td>0</td>\n      <td>0</td>\n      <td>0</td>\n      <td>0</td>\n      <td>8</td>\n    </tr>\n    <tr>\n      <th>3</th>\n      <td>3</td>\n      <td>1079904885531791360</td>\n      <td>Don’t forget your red thong ladies</td>\n      <td>2019-01-01 00:59:23</td>\n      <td>2446281619</td>\n      <td>2</td>\n      <td>0</td>\n      <td>0</td>\n      <td>0</td>\n      <td>112</td>\n      <td>...</td>\n      <td>Middle of the night</td>\n      <td>2019-01</td>\n      <td>2</td>\n      <td>5</td>\n      <td>4</td>\n      <td>0</td>\n      <td>0</td>\n      <td>0</td>\n      <td>0</td>\n      <td>8</td>\n    </tr>\n    <tr>\n      <th>4</th>\n      <td>4</td>\n      <td>1079904886513430528</td>\n      <td>Mirage Mirror Hour of Devastation Artist Greg ...</td>\n      <td>2019-01-01 00:59:23</td>\n      <td>71949265</td>\n      <td>0</td>\n      <td>0</td>\n      <td>0</td>\n      <td>0</td>\n      <td>49</td>\n      <td>...</td>\n      <td>Middle of the night</td>\n      <td>2019-01</td>\n      <td>2</td>\n      <td>5</td>\n      <td>4</td>\n      <td>0</td>\n      <td>0</td>\n      <td>0</td>\n      <td>0</td>\n      <td>12</td>\n    </tr>\n    <tr>\n      <th>...</th>\n      <td>...</td>\n      <td>...</td>\n      <td>...</td>\n      <td>...</td>\n      <td>...</td>\n      <td>...</td>\n      <td>...</td>\n      <td>...</td>\n      <td>...</td>\n      <td>...</td>\n      <td>...</td>\n      <td>...</td>\n      <td>...</td>\n      <td>...</td>\n      <td>...</td>\n      <td>...</td>\n      <td>...</td>\n      <td>...</td>\n      <td>...</td>\n      <td>...</td>\n      <td>...</td>\n    </tr>\n    <tr>\n      <th>1595869</th>\n      <td>533370</td>\n      <td>1477036834261770241</td>\n      <td>…. them crawfish was so good yall lmfao</td>\n      <td>2021-12-31 21:59:57</td>\n      <td>795707439219884037</td>\n      <td>0</td>\n      <td>0</td>\n      <td>0</td>\n      <td>0</td>\n      <td>1826</td>\n      <td>...</td>\n      <td>Night</td>\n      <td>2021-52</td>\n      <td>4</td>\n      <td>0</td>\n      <td>2</td>\n      <td>0</td>\n      <td>2</td>\n      <td>0</td>\n      <td>0</td>\n      <td>5</td>\n    </tr>\n    <tr>\n      <th>1595870</th>\n      <td>533371</td>\n      <td>1477036835603836932</td>\n      <td>Damn all the freaks are at the New Bev right n...</td>\n      <td>2021-12-31 21:59:58</td>\n      <td>34679503</td>\n      <td>26</td>\n      <td>0</td>\n      <td>0</td>\n      <td>0</td>\n      <td>10636</td>\n      <td>...</td>\n      <td>Night</td>\n      <td>2021-52</td>\n      <td>4</td>\n      <td>0</td>\n      <td>2</td>\n      <td>0</td>\n      <td>1</td>\n      <td>0</td>\n      <td>0</td>\n      <td>13</td>\n    </tr>\n    <tr>\n      <th>1595871</th>\n      <td>533372</td>\n      <td>1477036838217035777</td>\n      <td>Fast And Professional Vehicle Lockout Service ...</td>\n      <td>2021-12-31 21:59:58</td>\n      <td>210241982</td>\n      <td>0</td>\n      <td>0</td>\n      <td>0</td>\n      <td>0</td>\n      <td>394</td>\n      <td>...</td>\n      <td>Night</td>\n      <td>2021-52</td>\n      <td>4</td>\n      <td>0</td>\n      <td>2</td>\n      <td>0</td>\n      <td>0</td>\n      <td>0</td>\n      <td>0</td>\n      <td>11</td>\n    </tr>\n    <tr>\n      <th>1595872</th>\n      <td>533373</td>\n      <td>1477036840024567809</td>\n      <td>Very much this https://t.co/b3bgtstLfr</td>\n      <td>2021-12-31 21:59:59</td>\n      <td>883576549</td>\n      <td>3</td>\n      <td>0</td>\n      <td>0</td>\n      <td>0</td>\n      <td>702</td>\n      <td>...</td>\n      <td>Night</td>\n      <td>2021-52</td>\n      <td>4</td>\n      <td>0</td>\n      <td>2</td>\n      <td>0</td>\n      <td>1</td>\n      <td>0</td>\n      <td>0</td>\n      <td>9</td>\n    </tr>\n    <tr>\n      <th>1595873</th>\n      <td>533374</td>\n      <td>1477036841933185025</td>\n      <td>Best thread ever https://t.co/EBo4JkTCx4</td>\n      <td>2021-12-31 21:59:59</td>\n      <td>131371694</td>\n      <td>0</td>\n      <td>0</td>\n      <td>0</td>\n      <td>0</td>\n      <td>57</td>\n      <td>...</td>\n      <td>Night</td>\n      <td>2021-52</td>\n      <td>4</td>\n      <td>0</td>\n      <td>2</td>\n      <td>0</td>\n      <td>2</td>\n      <td>0</td>\n      <td>0</td>\n      <td>12</td>\n    </tr>\n  </tbody>\n</table>\n<p>1595874 rows × 34 columns</p>\n</div>"
     },
     "execution_count": 86,
     "metadata": {},
     "output_type": "execute_result"
    }
   ],
   "source": [
    "df = essemble_dataset(filenames)\n",
    "df"
   ],
   "metadata": {
    "collapsed": false,
    "pycharm": {
     "name": "#%%\n"
    }
   }
  },
  {
   "cell_type": "code",
   "execution_count": 87,
   "outputs": [
    {
     "data": {
      "text/plain": "2021    533375\n2019    531272\n2020    531227\nName: year, dtype: int64"
     },
     "execution_count": 87,
     "metadata": {},
     "output_type": "execute_result"
    }
   ],
   "source": [
    "df['year'].value_counts()"
   ],
   "metadata": {
    "collapsed": false,
    "pycharm": {
     "name": "#%%\n"
    }
   }
  },
  {
   "cell_type": "code",
   "execution_count": 88,
   "outputs": [
    {
     "data": {
      "text/plain": "         index             tweet_id  \\\n0            0  1079904986971156480   \n1            1  1079905009767133185   \n2            2  1079905092256624642   \n3            3  1079905147898286080   \n4            4  1079905204521250816   \n...        ...                  ...   \n401969  105741  1542057750598934528   \n401970  105742  1542081917050314752   \n401971  105743  1542254711469793280   \n401972  105744  1542263990444851201   \n401973  105745  1542267162185699328   \n\n                                                     text           timestamp  \\\n0       RT @FaZeClan: January, 2018 https://t.co/bxyyn... 2019-01-01 00:59:47   \n1       RT @IrwindalePolice: The second group of @Rose... 2019-01-01 00:59:52   \n2       RT @FaZeClan: January, 2018 https://t.co/bxyyn... 2019-01-01 01:00:12   \n3       RT @FaZeClan: January, 2018 https://t.co/bxyyn... 2019-01-01 01:00:25   \n4       RT @FaZeClan: January, 2018 https://t.co/bxyyn... 2019-01-01 01:00:39   \n...                                                   ...                 ...   \n401969  RT @Bandzzmollydon: Bitches be killing me subb... 2022-06-29 08:09:52   \n401970  RT @theRAWbussy: Let me spread that pretty pin... 2022-06-29 09:45:54   \n401971  RT @Evanknxxx: honestly i’m at my horniest aft... 2022-06-29 21:12:31   \n401972  RT @Tsmckenziee: #𝑅𝐸𝒯𝒲𝐸𝐸𝒯 𝐼𝐹 𝐼 𝒞𝒜𝒩 𝒞𝑅𝐸𝒜𝑀 𝒪𝒩 𝒴𝒪... 2022-06-29 21:49:23   \n401973  RT @realmenreallife: Brian @furrycritter572 … ... 2022-06-29 22:02:00   \n\n                    user_id  like_count  retweet_count  quote_count  \\\n0        863014342538776577           0            171            0   \n1                  67143433           0             10            0   \n2        887062199189078020           0            171            0   \n3                3069273057           0            171            0   \n4        996735592275705856           0            171            0   \n...                     ...         ...            ...          ...   \n401969  1477447673745657863           0             47            0   \n401970  1105220957839462402           0            257            0   \n401971  1537565677908856837           0            180            0   \n401972  1350913747209117697           0            699            0   \n401973  1135209890807308288           0           1073            0   \n\n        reply_count                                  referenced_tweets  \\\n0                 0  [ReferencedTweet(id: 1079904942729523200, type...   \n1                 0  [ReferencedTweet(id: 1079904903596666880, type...   \n2                 0  [ReferencedTweet(id: 1079904942729523200, type...   \n3                 0  [ReferencedTweet(id: 1079904942729523200, type...   \n4                 0  [ReferencedTweet(id: 1079904942729523200, type...   \n...             ...                                                ...   \n401969            0  [ReferencedTweet(id: 1384990228373557248, type...   \n401970            0  [ReferencedTweet(id: 1400255663394144257, type...   \n401971            0  [ReferencedTweet(id: 1401342747819249671, type...   \n401972            0  [ReferencedTweet(id: 1469064283354972173, type...   \n401973            0  [ReferencedTweet(id: 1465394814573293581, type...   \n\n        followers  following  tweet_count  verified           created_at  \\\n0            2589       4948       235553     False  2017-05-12 12:53:48   \n1           20384       7487        14743      True  2009-08-19 22:29:24   \n2              26         89         1617     False  2017-07-17 21:31:24   \n3             262        873         6195     False  2015-03-04 06:11:31   \n4              14        140           93     False  2018-05-16 12:54:18   \n...           ...        ...          ...       ...                  ...   \n401969         32         34          130     False  2022-01-02 01:12:42   \n401970       1715       4999        86338     False  2019-03-11 21:36:25   \n401971          3         30          139     False  2022-06-16 22:40:10   \n401972        138       1854         3849     False  2021-01-17 21:12:15   \n401973        252       1905        67013     False  2019-06-02 15:41:43   \n\n               ref_tweed_id  \n0       1079904942729523200  \n1       1079904903596666880  \n2       1079904942729523200  \n3       1079904942729523200  \n4       1079904942729523200  \n...                     ...  \n401969  1384990228373557248  \n401970  1400255663394144257  \n401971  1401342747819249671  \n401972  1469064283354972173  \n401973  1465394814573293581  \n\n[401974 rows x 16 columns]",
      "text/html": "<div>\n<style scoped>\n    .dataframe tbody tr th:only-of-type {\n        vertical-align: middle;\n    }\n\n    .dataframe tbody tr th {\n        vertical-align: top;\n    }\n\n    .dataframe thead th {\n        text-align: right;\n    }\n</style>\n<table border=\"1\" class=\"dataframe\">\n  <thead>\n    <tr style=\"text-align: right;\">\n      <th></th>\n      <th>index</th>\n      <th>tweet_id</th>\n      <th>text</th>\n      <th>timestamp</th>\n      <th>user_id</th>\n      <th>like_count</th>\n      <th>retweet_count</th>\n      <th>quote_count</th>\n      <th>reply_count</th>\n      <th>referenced_tweets</th>\n      <th>followers</th>\n      <th>following</th>\n      <th>tweet_count</th>\n      <th>verified</th>\n      <th>created_at</th>\n      <th>ref_tweed_id</th>\n    </tr>\n  </thead>\n  <tbody>\n    <tr>\n      <th>0</th>\n      <td>0</td>\n      <td>1079904986971156480</td>\n      <td>RT @FaZeClan: January, 2018 https://t.co/bxyyn...</td>\n      <td>2019-01-01 00:59:47</td>\n      <td>863014342538776577</td>\n      <td>0</td>\n      <td>171</td>\n      <td>0</td>\n      <td>0</td>\n      <td>[ReferencedTweet(id: 1079904942729523200, type...</td>\n      <td>2589</td>\n      <td>4948</td>\n      <td>235553</td>\n      <td>False</td>\n      <td>2017-05-12 12:53:48</td>\n      <td>1079904942729523200</td>\n    </tr>\n    <tr>\n      <th>1</th>\n      <td>1</td>\n      <td>1079905009767133185</td>\n      <td>RT @IrwindalePolice: The second group of @Rose...</td>\n      <td>2019-01-01 00:59:52</td>\n      <td>67143433</td>\n      <td>0</td>\n      <td>10</td>\n      <td>0</td>\n      <td>0</td>\n      <td>[ReferencedTweet(id: 1079904903596666880, type...</td>\n      <td>20384</td>\n      <td>7487</td>\n      <td>14743</td>\n      <td>True</td>\n      <td>2009-08-19 22:29:24</td>\n      <td>1079904903596666880</td>\n    </tr>\n    <tr>\n      <th>2</th>\n      <td>2</td>\n      <td>1079905092256624642</td>\n      <td>RT @FaZeClan: January, 2018 https://t.co/bxyyn...</td>\n      <td>2019-01-01 01:00:12</td>\n      <td>887062199189078020</td>\n      <td>0</td>\n      <td>171</td>\n      <td>0</td>\n      <td>0</td>\n      <td>[ReferencedTweet(id: 1079904942729523200, type...</td>\n      <td>26</td>\n      <td>89</td>\n      <td>1617</td>\n      <td>False</td>\n      <td>2017-07-17 21:31:24</td>\n      <td>1079904942729523200</td>\n    </tr>\n    <tr>\n      <th>3</th>\n      <td>3</td>\n      <td>1079905147898286080</td>\n      <td>RT @FaZeClan: January, 2018 https://t.co/bxyyn...</td>\n      <td>2019-01-01 01:00:25</td>\n      <td>3069273057</td>\n      <td>0</td>\n      <td>171</td>\n      <td>0</td>\n      <td>0</td>\n      <td>[ReferencedTweet(id: 1079904942729523200, type...</td>\n      <td>262</td>\n      <td>873</td>\n      <td>6195</td>\n      <td>False</td>\n      <td>2015-03-04 06:11:31</td>\n      <td>1079904942729523200</td>\n    </tr>\n    <tr>\n      <th>4</th>\n      <td>4</td>\n      <td>1079905204521250816</td>\n      <td>RT @FaZeClan: January, 2018 https://t.co/bxyyn...</td>\n      <td>2019-01-01 01:00:39</td>\n      <td>996735592275705856</td>\n      <td>0</td>\n      <td>171</td>\n      <td>0</td>\n      <td>0</td>\n      <td>[ReferencedTweet(id: 1079904942729523200, type...</td>\n      <td>14</td>\n      <td>140</td>\n      <td>93</td>\n      <td>False</td>\n      <td>2018-05-16 12:54:18</td>\n      <td>1079904942729523200</td>\n    </tr>\n    <tr>\n      <th>...</th>\n      <td>...</td>\n      <td>...</td>\n      <td>...</td>\n      <td>...</td>\n      <td>...</td>\n      <td>...</td>\n      <td>...</td>\n      <td>...</td>\n      <td>...</td>\n      <td>...</td>\n      <td>...</td>\n      <td>...</td>\n      <td>...</td>\n      <td>...</td>\n      <td>...</td>\n      <td>...</td>\n    </tr>\n    <tr>\n      <th>401969</th>\n      <td>105741</td>\n      <td>1542057750598934528</td>\n      <td>RT @Bandzzmollydon: Bitches be killing me subb...</td>\n      <td>2022-06-29 08:09:52</td>\n      <td>1477447673745657863</td>\n      <td>0</td>\n      <td>47</td>\n      <td>0</td>\n      <td>0</td>\n      <td>[ReferencedTweet(id: 1384990228373557248, type...</td>\n      <td>32</td>\n      <td>34</td>\n      <td>130</td>\n      <td>False</td>\n      <td>2022-01-02 01:12:42</td>\n      <td>1384990228373557248</td>\n    </tr>\n    <tr>\n      <th>401970</th>\n      <td>105742</td>\n      <td>1542081917050314752</td>\n      <td>RT @theRAWbussy: Let me spread that pretty pin...</td>\n      <td>2022-06-29 09:45:54</td>\n      <td>1105220957839462402</td>\n      <td>0</td>\n      <td>257</td>\n      <td>0</td>\n      <td>0</td>\n      <td>[ReferencedTweet(id: 1400255663394144257, type...</td>\n      <td>1715</td>\n      <td>4999</td>\n      <td>86338</td>\n      <td>False</td>\n      <td>2019-03-11 21:36:25</td>\n      <td>1400255663394144257</td>\n    </tr>\n    <tr>\n      <th>401971</th>\n      <td>105743</td>\n      <td>1542254711469793280</td>\n      <td>RT @Evanknxxx: honestly i’m at my horniest aft...</td>\n      <td>2022-06-29 21:12:31</td>\n      <td>1537565677908856837</td>\n      <td>0</td>\n      <td>180</td>\n      <td>0</td>\n      <td>0</td>\n      <td>[ReferencedTweet(id: 1401342747819249671, type...</td>\n      <td>3</td>\n      <td>30</td>\n      <td>139</td>\n      <td>False</td>\n      <td>2022-06-16 22:40:10</td>\n      <td>1401342747819249671</td>\n    </tr>\n    <tr>\n      <th>401972</th>\n      <td>105744</td>\n      <td>1542263990444851201</td>\n      <td>RT @Tsmckenziee: #𝑅𝐸𝒯𝒲𝐸𝐸𝒯 𝐼𝐹 𝐼 𝒞𝒜𝒩 𝒞𝑅𝐸𝒜𝑀 𝒪𝒩 𝒴𝒪...</td>\n      <td>2022-06-29 21:49:23</td>\n      <td>1350913747209117697</td>\n      <td>0</td>\n      <td>699</td>\n      <td>0</td>\n      <td>0</td>\n      <td>[ReferencedTweet(id: 1469064283354972173, type...</td>\n      <td>138</td>\n      <td>1854</td>\n      <td>3849</td>\n      <td>False</td>\n      <td>2021-01-17 21:12:15</td>\n      <td>1469064283354972173</td>\n    </tr>\n    <tr>\n      <th>401973</th>\n      <td>105745</td>\n      <td>1542267162185699328</td>\n      <td>RT @realmenreallife: Brian @furrycritter572 … ...</td>\n      <td>2022-06-29 22:02:00</td>\n      <td>1135209890807308288</td>\n      <td>0</td>\n      <td>1073</td>\n      <td>0</td>\n      <td>0</td>\n      <td>[ReferencedTweet(id: 1465394814573293581, type...</td>\n      <td>252</td>\n      <td>1905</td>\n      <td>67013</td>\n      <td>False</td>\n      <td>2019-06-02 15:41:43</td>\n      <td>1465394814573293581</td>\n    </tr>\n  </tbody>\n</table>\n<p>401974 rows × 16 columns</p>\n</div>"
     },
     "execution_count": 88,
     "metadata": {},
     "output_type": "execute_result"
    }
   ],
   "source": [
    "df_retweets_info = essemble_dataset(retweets_filenames)\n",
    "df_retweets_info"
   ],
   "metadata": {
    "collapsed": false,
    "pycharm": {
     "name": "#%%\n"
    }
   }
  },
  {
   "cell_type": "code",
   "execution_count": 89,
   "outputs": [],
   "source": [
    "topics_categories = ['Brand', 'Holiday', 'Person', 'Interest and Hobbies', 'Sport',\n",
    "       'TV and Movies', 'Other', 'Video Game', 'Entities', 'Political',\n",
    "       'Music', 'Book', 'News']\n",
    "palette = ['#006D77', '#FBD1A2', '#7DCFB6', '#E29578', '#254E70', '#C33C54', '#FFDDD2', '#004346', '#faf3dd', '#00B2CA', '#37718E', '#aed9e0', '#09BC8A']\n",
    "offline_charts = False"
   ],
   "metadata": {
    "collapsed": false,
    "pycharm": {
     "name": "#%%\n"
    }
   }
  },
  {
   "cell_type": "markdown",
   "source": [
    "## Retweets Analysis"
   ],
   "metadata": {
    "collapsed": false,
    "pycharm": {
     "name": "#%% md\n"
    }
   }
  },
  {
   "cell_type": "markdown",
   "source": [
    "### Analysing average followers count between shared tweets and not shared by topic"
   ],
   "metadata": {
    "collapsed": false,
    "pycharm": {
     "name": "#%% md\n"
    }
   }
  },
  {
   "cell_type": "code",
   "execution_count": 90,
   "outputs": [
    {
     "data": {
      "text/plain": "    Year        topics_cleaned  not shared followers mean  followers mean  \\\n0   2019                 Brand                1838.500721     2360.986277   \n1   2019               Holiday                 764.000000      764.000000   \n2   2019                Person                2111.111731     2927.879829   \n3   2019  Interest and Hobbies                1792.537682     2168.935550   \n4   2019                 Sport                1909.432129     2917.076986   \n5   2019         TV and Movies                1833.471737     2588.880345   \n6   2019                 Other                1858.333063     2533.108406   \n7   2019            Video Game                1599.512005     2197.337531   \n8   2019              Entities                1628.844168     2009.895811   \n9   2019             Political                2506.321252     3175.375350   \n10  2019                 Music                2140.395363     2479.904224   \n11  2019                  Book                1203.413333     2348.490385   \n12  2019                  News                        NaN             NaN   \n0   2020                 Brand                1765.855183     2288.812798   \n1   2020               Holiday                1620.227440     2119.018189   \n2   2020                Person                1830.800064     2602.017142   \n3   2020  Interest and Hobbies                1577.044907     2030.484402   \n4   2020                 Sport                1751.337030     2613.751903   \n5   2020         TV and Movies                1773.959262     2430.639694   \n6   2020                 Other                1422.408177     1991.726678   \n7   2020            Video Game                1269.988824     1643.010878   \n8   2020              Entities                1679.107147     2088.751206   \n9   2020             Political                1804.933108     2705.049522   \n10  2020                 Music                1856.628470     2343.131084   \n11  2020                  Book                2165.906061     2328.596939   \n12  2020                  News                1833.600753     2606.625076   \n0   2021                 Brand                1939.076998     2539.004476   \n1   2021               Holiday                1631.679215     2513.941426   \n2   2021                Person                1911.208882     2738.046134   \n3   2021  Interest and Hobbies                1597.779613     2058.247554   \n4   2021                 Sport                1848.861720     2573.559543   \n5   2021         TV and Movies                1783.428693     2529.727203   \n6   2021                 Other                1619.499286     2131.634356   \n7   2021            Video Game                1332.462644     1805.684029   \n8   2021              Entities                1731.069742     2237.818116   \n9   2021             Political                2433.251736     3776.884429   \n10  2021                 Music                1712.025918     2261.191304   \n11  2021                  Book                1635.214815     2193.611621   \n12  2021                  News                2013.451272     2938.256183   \n\n    shared followers mean  \n0             5057.219099  \n1                     NaN  \n2             7395.971600  \n3             4289.903250  \n4             6455.002463  \n5             6761.926760  \n6             6039.042937  \n7             5319.523511  \n8             4147.762890  \n9             6970.850467  \n10            3881.554156  \n11            5309.896552  \n12                    NaN  \n0             5165.764180  \n1             4584.031854  \n2             6923.757127  \n3             4443.191603  \n4             6178.097671  \n5             6238.900370  \n6             4996.246575  \n7             3453.575472  \n8             4544.076446  \n9             7190.478114  \n10            4499.280105  \n11            3194.532258  \n12            5752.379040  \n0             5670.247206  \n1             6054.253191  \n2             7009.252998  \n3             4480.030259  \n4             4967.080506  \n5             6633.108573  \n6             5259.529070  \n7             4596.888136  \n8             4927.079310  \n9             9059.699659  \n10            4531.401786  \n11            4838.649123  \n12            6649.510959  ",
      "text/html": "<div>\n<style scoped>\n    .dataframe tbody tr th:only-of-type {\n        vertical-align: middle;\n    }\n\n    .dataframe tbody tr th {\n        vertical-align: top;\n    }\n\n    .dataframe thead th {\n        text-align: right;\n    }\n</style>\n<table border=\"1\" class=\"dataframe\">\n  <thead>\n    <tr style=\"text-align: right;\">\n      <th></th>\n      <th>Year</th>\n      <th>topics_cleaned</th>\n      <th>not shared followers mean</th>\n      <th>followers mean</th>\n      <th>shared followers mean</th>\n    </tr>\n  </thead>\n  <tbody>\n    <tr>\n      <th>0</th>\n      <td>2019</td>\n      <td>Brand</td>\n      <td>1838.500721</td>\n      <td>2360.986277</td>\n      <td>5057.219099</td>\n    </tr>\n    <tr>\n      <th>1</th>\n      <td>2019</td>\n      <td>Holiday</td>\n      <td>764.000000</td>\n      <td>764.000000</td>\n      <td>NaN</td>\n    </tr>\n    <tr>\n      <th>2</th>\n      <td>2019</td>\n      <td>Person</td>\n      <td>2111.111731</td>\n      <td>2927.879829</td>\n      <td>7395.971600</td>\n    </tr>\n    <tr>\n      <th>3</th>\n      <td>2019</td>\n      <td>Interest and Hobbies</td>\n      <td>1792.537682</td>\n      <td>2168.935550</td>\n      <td>4289.903250</td>\n    </tr>\n    <tr>\n      <th>4</th>\n      <td>2019</td>\n      <td>Sport</td>\n      <td>1909.432129</td>\n      <td>2917.076986</td>\n      <td>6455.002463</td>\n    </tr>\n    <tr>\n      <th>5</th>\n      <td>2019</td>\n      <td>TV and Movies</td>\n      <td>1833.471737</td>\n      <td>2588.880345</td>\n      <td>6761.926760</td>\n    </tr>\n    <tr>\n      <th>6</th>\n      <td>2019</td>\n      <td>Other</td>\n      <td>1858.333063</td>\n      <td>2533.108406</td>\n      <td>6039.042937</td>\n    </tr>\n    <tr>\n      <th>7</th>\n      <td>2019</td>\n      <td>Video Game</td>\n      <td>1599.512005</td>\n      <td>2197.337531</td>\n      <td>5319.523511</td>\n    </tr>\n    <tr>\n      <th>8</th>\n      <td>2019</td>\n      <td>Entities</td>\n      <td>1628.844168</td>\n      <td>2009.895811</td>\n      <td>4147.762890</td>\n    </tr>\n    <tr>\n      <th>9</th>\n      <td>2019</td>\n      <td>Political</td>\n      <td>2506.321252</td>\n      <td>3175.375350</td>\n      <td>6970.850467</td>\n    </tr>\n    <tr>\n      <th>10</th>\n      <td>2019</td>\n      <td>Music</td>\n      <td>2140.395363</td>\n      <td>2479.904224</td>\n      <td>3881.554156</td>\n    </tr>\n    <tr>\n      <th>11</th>\n      <td>2019</td>\n      <td>Book</td>\n      <td>1203.413333</td>\n      <td>2348.490385</td>\n      <td>5309.896552</td>\n    </tr>\n    <tr>\n      <th>12</th>\n      <td>2019</td>\n      <td>News</td>\n      <td>NaN</td>\n      <td>NaN</td>\n      <td>NaN</td>\n    </tr>\n    <tr>\n      <th>0</th>\n      <td>2020</td>\n      <td>Brand</td>\n      <td>1765.855183</td>\n      <td>2288.812798</td>\n      <td>5165.764180</td>\n    </tr>\n    <tr>\n      <th>1</th>\n      <td>2020</td>\n      <td>Holiday</td>\n      <td>1620.227440</td>\n      <td>2119.018189</td>\n      <td>4584.031854</td>\n    </tr>\n    <tr>\n      <th>2</th>\n      <td>2020</td>\n      <td>Person</td>\n      <td>1830.800064</td>\n      <td>2602.017142</td>\n      <td>6923.757127</td>\n    </tr>\n    <tr>\n      <th>3</th>\n      <td>2020</td>\n      <td>Interest and Hobbies</td>\n      <td>1577.044907</td>\n      <td>2030.484402</td>\n      <td>4443.191603</td>\n    </tr>\n    <tr>\n      <th>4</th>\n      <td>2020</td>\n      <td>Sport</td>\n      <td>1751.337030</td>\n      <td>2613.751903</td>\n      <td>6178.097671</td>\n    </tr>\n    <tr>\n      <th>5</th>\n      <td>2020</td>\n      <td>TV and Movies</td>\n      <td>1773.959262</td>\n      <td>2430.639694</td>\n      <td>6238.900370</td>\n    </tr>\n    <tr>\n      <th>6</th>\n      <td>2020</td>\n      <td>Other</td>\n      <td>1422.408177</td>\n      <td>1991.726678</td>\n      <td>4996.246575</td>\n    </tr>\n    <tr>\n      <th>7</th>\n      <td>2020</td>\n      <td>Video Game</td>\n      <td>1269.988824</td>\n      <td>1643.010878</td>\n      <td>3453.575472</td>\n    </tr>\n    <tr>\n      <th>8</th>\n      <td>2020</td>\n      <td>Entities</td>\n      <td>1679.107147</td>\n      <td>2088.751206</td>\n      <td>4544.076446</td>\n    </tr>\n    <tr>\n      <th>9</th>\n      <td>2020</td>\n      <td>Political</td>\n      <td>1804.933108</td>\n      <td>2705.049522</td>\n      <td>7190.478114</td>\n    </tr>\n    <tr>\n      <th>10</th>\n      <td>2020</td>\n      <td>Music</td>\n      <td>1856.628470</td>\n      <td>2343.131084</td>\n      <td>4499.280105</td>\n    </tr>\n    <tr>\n      <th>11</th>\n      <td>2020</td>\n      <td>Book</td>\n      <td>2165.906061</td>\n      <td>2328.596939</td>\n      <td>3194.532258</td>\n    </tr>\n    <tr>\n      <th>12</th>\n      <td>2020</td>\n      <td>News</td>\n      <td>1833.600753</td>\n      <td>2606.625076</td>\n      <td>5752.379040</td>\n    </tr>\n    <tr>\n      <th>0</th>\n      <td>2021</td>\n      <td>Brand</td>\n      <td>1939.076998</td>\n      <td>2539.004476</td>\n      <td>5670.247206</td>\n    </tr>\n    <tr>\n      <th>1</th>\n      <td>2021</td>\n      <td>Holiday</td>\n      <td>1631.679215</td>\n      <td>2513.941426</td>\n      <td>6054.253191</td>\n    </tr>\n    <tr>\n      <th>2</th>\n      <td>2021</td>\n      <td>Person</td>\n      <td>1911.208882</td>\n      <td>2738.046134</td>\n      <td>7009.252998</td>\n    </tr>\n    <tr>\n      <th>3</th>\n      <td>2021</td>\n      <td>Interest and Hobbies</td>\n      <td>1597.779613</td>\n      <td>2058.247554</td>\n      <td>4480.030259</td>\n    </tr>\n    <tr>\n      <th>4</th>\n      <td>2021</td>\n      <td>Sport</td>\n      <td>1848.861720</td>\n      <td>2573.559543</td>\n      <td>4967.080506</td>\n    </tr>\n    <tr>\n      <th>5</th>\n      <td>2021</td>\n      <td>TV and Movies</td>\n      <td>1783.428693</td>\n      <td>2529.727203</td>\n      <td>6633.108573</td>\n    </tr>\n    <tr>\n      <th>6</th>\n      <td>2021</td>\n      <td>Other</td>\n      <td>1619.499286</td>\n      <td>2131.634356</td>\n      <td>5259.529070</td>\n    </tr>\n    <tr>\n      <th>7</th>\n      <td>2021</td>\n      <td>Video Game</td>\n      <td>1332.462644</td>\n      <td>1805.684029</td>\n      <td>4596.888136</td>\n    </tr>\n    <tr>\n      <th>8</th>\n      <td>2021</td>\n      <td>Entities</td>\n      <td>1731.069742</td>\n      <td>2237.818116</td>\n      <td>4927.079310</td>\n    </tr>\n    <tr>\n      <th>9</th>\n      <td>2021</td>\n      <td>Political</td>\n      <td>2433.251736</td>\n      <td>3776.884429</td>\n      <td>9059.699659</td>\n    </tr>\n    <tr>\n      <th>10</th>\n      <td>2021</td>\n      <td>Music</td>\n      <td>1712.025918</td>\n      <td>2261.191304</td>\n      <td>4531.401786</td>\n    </tr>\n    <tr>\n      <th>11</th>\n      <td>2021</td>\n      <td>Book</td>\n      <td>1635.214815</td>\n      <td>2193.611621</td>\n      <td>4838.649123</td>\n    </tr>\n    <tr>\n      <th>12</th>\n      <td>2021</td>\n      <td>News</td>\n      <td>2013.451272</td>\n      <td>2938.256183</td>\n      <td>6649.510959</td>\n    </tr>\n  </tbody>\n</table>\n</div>"
     },
     "execution_count": 90,
     "metadata": {},
     "output_type": "execute_result"
    }
   ],
   "source": [
    "df_analysis = shared_tweets(df, 'topics_cleaned', topics_categories)\n",
    "df_analysis"
   ],
   "metadata": {
    "collapsed": false,
    "pycharm": {
     "name": "#%%\n"
    }
   }
  },
  {
   "cell_type": "code",
   "execution_count": 91,
   "outputs": [
    {
     "data": {
      "application/vnd.plotly.v1+json": {
       "data": [
        {
         "marker": {
          "color": "#006D77"
         },
         "name": "Not shared tweet's followers mean 2019",
         "text": [
          "2360.9862770097975",
          "764.0",
          "2927.8798287941986",
          "2168.93554970131",
          "2917.076986076986",
          "2588.8803446075303",
          "2533.1084057791663",
          "2197.337531486146",
          "2009.8958112662494",
          "3175.375350140056",
          "2479.904223968566",
          "2348.4903846153848",
          "nan"
         ],
         "textposition": "inside",
         "width": 0.28,
         "x": [
          "Brand",
          "Holiday",
          "Person",
          "Interest and Hobbies",
          "Sport",
          "TV and Movies",
          "Other",
          "Video Game",
          "Entities",
          "Political",
          "Music",
          "Book",
          "News"
         ],
         "y": [
          2360.9862770097975,
          764.0,
          2927.8798287941986,
          2168.93554970131,
          2917.076986076986,
          2588.8803446075303,
          2533.1084057791663,
          2197.337531486146,
          2009.8958112662494,
          3175.375350140056,
          2479.904223968566,
          2348.4903846153848,
          null
         ],
         "type": "bar",
         "xaxis": "x",
         "yaxis": "y"
        },
        {
         "marker": {
          "color": "#00B2CA"
         },
         "name": "Shared tweet's followers mean 2019",
         "x": [
          "Brand",
          "Holiday",
          "Person",
          "Interest and Hobbies",
          "Sport",
          "TV and Movies",
          "Other",
          "Video Game",
          "Entities",
          "Political",
          "Music",
          "Book",
          "News"
         ],
         "y": [
          1838.5007209805335,
          764.0,
          2111.111730942861,
          1792.5376818559134,
          1909.4321290775167,
          1833.4717368961974,
          1858.3330627905261,
          1599.5120048019207,
          1628.8441683685046,
          2506.321252059308,
          2140.3953630262354,
          1203.4133333333334,
          null
         ],
         "type": "scatter",
         "xaxis": "x",
         "yaxis": "y2"
        },
        {
         "marker": {
          "color": "#FBD1A2"
         },
         "name": "Not shared tweet's followers mean 2020",
         "text": [
          "2288.8127977988056",
          "2119.018188780394",
          "2602.017142018902",
          "2030.484402049108",
          "2613.7519028103043",
          "2430.6396938812522",
          "1991.7266775777414",
          "1643.0108783239323",
          "2088.751206302314",
          "2705.0495216657287",
          "2343.1310843373494",
          "2328.5969387755104",
          "2606.6250755084234"
         ],
         "textposition": "inside",
         "width": 0.28,
         "x": [
          "Brand",
          "Holiday",
          "Person",
          "Interest and Hobbies",
          "Sport",
          "TV and Movies",
          "Other",
          "Video Game",
          "Entities",
          "Political",
          "Music",
          "Book",
          "News"
         ],
         "y": [
          2288.8127977988056,
          2119.018188780394,
          2602.017142018902,
          2030.484402049108,
          2613.7519028103043,
          2430.6396938812522,
          1991.7266775777414,
          1643.0108783239323,
          2088.751206302314,
          2705.0495216657287,
          2343.1310843373494,
          2328.5969387755104,
          2606.6250755084234
         ],
         "type": "bar",
         "xaxis": "x",
         "yaxis": "y"
        },
        {
         "marker": {
          "color": "#1D4E89"
         },
         "name": "Shared tweet's followers mean 2020",
         "x": [
          "Brand",
          "Holiday",
          "Person",
          "Interest and Hobbies",
          "Sport",
          "TV and Movies",
          "Other",
          "Video Game",
          "Entities",
          "Political",
          "Music",
          "Book",
          "News"
         ],
         "y": [
          1765.8551828059324,
          1620.2274401473296,
          1830.8000642086286,
          1577.044907038234,
          1751.337029630976,
          1773.959261779214,
          1422.4081765087606,
          1269.988824101069,
          1679.107146960818,
          1804.9331081081082,
          1856.6284701712937,
          2165.9060606060607,
          1833.6007525083612
         ],
         "type": "scatter",
         "xaxis": "x",
         "yaxis": "y2"
        },
        {
         "marker": {
          "color": "#7DCFB6"
         },
         "name": "Not shared tweet's followers mean 2021",
         "text": [
          "2539.004475965327",
          "2513.94142614601",
          "2738.0461342260483",
          "2058.2475537016103",
          "2573.5595434219817",
          "2529.727202970297",
          "2131.634355828221",
          "1805.6840294840295",
          "2237.8181155458356",
          "3776.884429065744",
          "2261.191304347826",
          "2193.6116207951072",
          "2938.2561825385983"
         ],
         "textposition": "inside",
         "width": 0.28,
         "x": [
          "Brand",
          "Holiday",
          "Person",
          "Interest and Hobbies",
          "Sport",
          "TV and Movies",
          "Other",
          "Video Game",
          "Entities",
          "Political",
          "Music",
          "Book",
          "News"
         ],
         "y": [
          2539.004475965327,
          2513.94142614601,
          2738.0461342260483,
          2058.2475537016103,
          2573.5595434219817,
          2529.727202970297,
          2131.634355828221,
          1805.6840294840295,
          2237.8181155458356,
          3776.884429065744,
          2261.191304347826,
          2193.6116207951072,
          2938.2561825385983
         ],
         "type": "bar",
         "xaxis": "x",
         "yaxis": "y"
        },
        {
         "marker": {
          "color": "#F79256"
         },
         "name": "Shared tweet's followers mean 2021",
         "x": [
          "Brand",
          "Holiday",
          "Person",
          "Interest and Hobbies",
          "Sport",
          "TV and Movies",
          "Other",
          "Video Game",
          "Entities",
          "Political",
          "Music",
          "Book",
          "News"
         ],
         "y": [
          1939.0769981971155,
          1631.6792152704136,
          1911.2088819544867,
          1597.7796130469076,
          1848.8617200674537,
          1783.428692624989,
          1619.49928605426,
          1332.462643678161,
          1731.0697422568767,
          2433.2517361111113,
          1712.0259179265659,
          1635.2148148148149,
          2013.4512715480457
         ],
         "type": "scatter",
         "xaxis": "x",
         "yaxis": "y2"
        }
       ],
       "layout": {
        "template": {
         "data": {
          "histogram2dcontour": [
           {
            "type": "histogram2dcontour",
            "colorbar": {
             "outlinewidth": 0,
             "ticks": ""
            },
            "colorscale": [
             [
              0.0,
              "#0d0887"
             ],
             [
              0.1111111111111111,
              "#46039f"
             ],
             [
              0.2222222222222222,
              "#7201a8"
             ],
             [
              0.3333333333333333,
              "#9c179e"
             ],
             [
              0.4444444444444444,
              "#bd3786"
             ],
             [
              0.5555555555555556,
              "#d8576b"
             ],
             [
              0.6666666666666666,
              "#ed7953"
             ],
             [
              0.7777777777777778,
              "#fb9f3a"
             ],
             [
              0.8888888888888888,
              "#fdca26"
             ],
             [
              1.0,
              "#f0f921"
             ]
            ]
           }
          ],
          "choropleth": [
           {
            "type": "choropleth",
            "colorbar": {
             "outlinewidth": 0,
             "ticks": ""
            }
           }
          ],
          "histogram2d": [
           {
            "type": "histogram2d",
            "colorbar": {
             "outlinewidth": 0,
             "ticks": ""
            },
            "colorscale": [
             [
              0.0,
              "#0d0887"
             ],
             [
              0.1111111111111111,
              "#46039f"
             ],
             [
              0.2222222222222222,
              "#7201a8"
             ],
             [
              0.3333333333333333,
              "#9c179e"
             ],
             [
              0.4444444444444444,
              "#bd3786"
             ],
             [
              0.5555555555555556,
              "#d8576b"
             ],
             [
              0.6666666666666666,
              "#ed7953"
             ],
             [
              0.7777777777777778,
              "#fb9f3a"
             ],
             [
              0.8888888888888888,
              "#fdca26"
             ],
             [
              1.0,
              "#f0f921"
             ]
            ]
           }
          ],
          "heatmap": [
           {
            "type": "heatmap",
            "colorbar": {
             "outlinewidth": 0,
             "ticks": ""
            },
            "colorscale": [
             [
              0.0,
              "#0d0887"
             ],
             [
              0.1111111111111111,
              "#46039f"
             ],
             [
              0.2222222222222222,
              "#7201a8"
             ],
             [
              0.3333333333333333,
              "#9c179e"
             ],
             [
              0.4444444444444444,
              "#bd3786"
             ],
             [
              0.5555555555555556,
              "#d8576b"
             ],
             [
              0.6666666666666666,
              "#ed7953"
             ],
             [
              0.7777777777777778,
              "#fb9f3a"
             ],
             [
              0.8888888888888888,
              "#fdca26"
             ],
             [
              1.0,
              "#f0f921"
             ]
            ]
           }
          ],
          "heatmapgl": [
           {
            "type": "heatmapgl",
            "colorbar": {
             "outlinewidth": 0,
             "ticks": ""
            },
            "colorscale": [
             [
              0.0,
              "#0d0887"
             ],
             [
              0.1111111111111111,
              "#46039f"
             ],
             [
              0.2222222222222222,
              "#7201a8"
             ],
             [
              0.3333333333333333,
              "#9c179e"
             ],
             [
              0.4444444444444444,
              "#bd3786"
             ],
             [
              0.5555555555555556,
              "#d8576b"
             ],
             [
              0.6666666666666666,
              "#ed7953"
             ],
             [
              0.7777777777777778,
              "#fb9f3a"
             ],
             [
              0.8888888888888888,
              "#fdca26"
             ],
             [
              1.0,
              "#f0f921"
             ]
            ]
           }
          ],
          "contourcarpet": [
           {
            "type": "contourcarpet",
            "colorbar": {
             "outlinewidth": 0,
             "ticks": ""
            }
           }
          ],
          "contour": [
           {
            "type": "contour",
            "colorbar": {
             "outlinewidth": 0,
             "ticks": ""
            },
            "colorscale": [
             [
              0.0,
              "#0d0887"
             ],
             [
              0.1111111111111111,
              "#46039f"
             ],
             [
              0.2222222222222222,
              "#7201a8"
             ],
             [
              0.3333333333333333,
              "#9c179e"
             ],
             [
              0.4444444444444444,
              "#bd3786"
             ],
             [
              0.5555555555555556,
              "#d8576b"
             ],
             [
              0.6666666666666666,
              "#ed7953"
             ],
             [
              0.7777777777777778,
              "#fb9f3a"
             ],
             [
              0.8888888888888888,
              "#fdca26"
             ],
             [
              1.0,
              "#f0f921"
             ]
            ]
           }
          ],
          "surface": [
           {
            "type": "surface",
            "colorbar": {
             "outlinewidth": 0,
             "ticks": ""
            },
            "colorscale": [
             [
              0.0,
              "#0d0887"
             ],
             [
              0.1111111111111111,
              "#46039f"
             ],
             [
              0.2222222222222222,
              "#7201a8"
             ],
             [
              0.3333333333333333,
              "#9c179e"
             ],
             [
              0.4444444444444444,
              "#bd3786"
             ],
             [
              0.5555555555555556,
              "#d8576b"
             ],
             [
              0.6666666666666666,
              "#ed7953"
             ],
             [
              0.7777777777777778,
              "#fb9f3a"
             ],
             [
              0.8888888888888888,
              "#fdca26"
             ],
             [
              1.0,
              "#f0f921"
             ]
            ]
           }
          ],
          "mesh3d": [
           {
            "type": "mesh3d",
            "colorbar": {
             "outlinewidth": 0,
             "ticks": ""
            }
           }
          ],
          "scatter": [
           {
            "fillpattern": {
             "fillmode": "overlay",
             "size": 10,
             "solidity": 0.2
            },
            "type": "scatter"
           }
          ],
          "parcoords": [
           {
            "type": "parcoords",
            "line": {
             "colorbar": {
              "outlinewidth": 0,
              "ticks": ""
             }
            }
           }
          ],
          "scatterpolargl": [
           {
            "type": "scatterpolargl",
            "marker": {
             "colorbar": {
              "outlinewidth": 0,
              "ticks": ""
             }
            }
           }
          ],
          "bar": [
           {
            "error_x": {
             "color": "#2a3f5f"
            },
            "error_y": {
             "color": "#2a3f5f"
            },
            "marker": {
             "line": {
              "color": "#E5ECF6",
              "width": 0.5
             },
             "pattern": {
              "fillmode": "overlay",
              "size": 10,
              "solidity": 0.2
             }
            },
            "type": "bar"
           }
          ],
          "scattergeo": [
           {
            "type": "scattergeo",
            "marker": {
             "colorbar": {
              "outlinewidth": 0,
              "ticks": ""
             }
            }
           }
          ],
          "scatterpolar": [
           {
            "type": "scatterpolar",
            "marker": {
             "colorbar": {
              "outlinewidth": 0,
              "ticks": ""
             }
            }
           }
          ],
          "histogram": [
           {
            "marker": {
             "pattern": {
              "fillmode": "overlay",
              "size": 10,
              "solidity": 0.2
             }
            },
            "type": "histogram"
           }
          ],
          "scattergl": [
           {
            "type": "scattergl",
            "marker": {
             "colorbar": {
              "outlinewidth": 0,
              "ticks": ""
             }
            }
           }
          ],
          "scatter3d": [
           {
            "type": "scatter3d",
            "line": {
             "colorbar": {
              "outlinewidth": 0,
              "ticks": ""
             }
            },
            "marker": {
             "colorbar": {
              "outlinewidth": 0,
              "ticks": ""
             }
            }
           }
          ],
          "scattermapbox": [
           {
            "type": "scattermapbox",
            "marker": {
             "colorbar": {
              "outlinewidth": 0,
              "ticks": ""
             }
            }
           }
          ],
          "scatterternary": [
           {
            "type": "scatterternary",
            "marker": {
             "colorbar": {
              "outlinewidth": 0,
              "ticks": ""
             }
            }
           }
          ],
          "scattercarpet": [
           {
            "type": "scattercarpet",
            "marker": {
             "colorbar": {
              "outlinewidth": 0,
              "ticks": ""
             }
            }
           }
          ],
          "carpet": [
           {
            "aaxis": {
             "endlinecolor": "#2a3f5f",
             "gridcolor": "white",
             "linecolor": "white",
             "minorgridcolor": "white",
             "startlinecolor": "#2a3f5f"
            },
            "baxis": {
             "endlinecolor": "#2a3f5f",
             "gridcolor": "white",
             "linecolor": "white",
             "minorgridcolor": "white",
             "startlinecolor": "#2a3f5f"
            },
            "type": "carpet"
           }
          ],
          "table": [
           {
            "cells": {
             "fill": {
              "color": "#EBF0F8"
             },
             "line": {
              "color": "white"
             }
            },
            "header": {
             "fill": {
              "color": "#C8D4E3"
             },
             "line": {
              "color": "white"
             }
            },
            "type": "table"
           }
          ],
          "barpolar": [
           {
            "marker": {
             "line": {
              "color": "#E5ECF6",
              "width": 0.5
             },
             "pattern": {
              "fillmode": "overlay",
              "size": 10,
              "solidity": 0.2
             }
            },
            "type": "barpolar"
           }
          ],
          "pie": [
           {
            "automargin": true,
            "type": "pie"
           }
          ]
         },
         "layout": {
          "autotypenumbers": "strict",
          "colorway": [
           "#636efa",
           "#EF553B",
           "#00cc96",
           "#ab63fa",
           "#FFA15A",
           "#19d3f3",
           "#FF6692",
           "#B6E880",
           "#FF97FF",
           "#FECB52"
          ],
          "font": {
           "color": "#2a3f5f"
          },
          "hovermode": "closest",
          "hoverlabel": {
           "align": "left"
          },
          "paper_bgcolor": "white",
          "plot_bgcolor": "#E5ECF6",
          "polar": {
           "bgcolor": "#E5ECF6",
           "angularaxis": {
            "gridcolor": "white",
            "linecolor": "white",
            "ticks": ""
           },
           "radialaxis": {
            "gridcolor": "white",
            "linecolor": "white",
            "ticks": ""
           }
          },
          "ternary": {
           "bgcolor": "#E5ECF6",
           "aaxis": {
            "gridcolor": "white",
            "linecolor": "white",
            "ticks": ""
           },
           "baxis": {
            "gridcolor": "white",
            "linecolor": "white",
            "ticks": ""
           },
           "caxis": {
            "gridcolor": "white",
            "linecolor": "white",
            "ticks": ""
           }
          },
          "coloraxis": {
           "colorbar": {
            "outlinewidth": 0,
            "ticks": ""
           }
          },
          "colorscale": {
           "sequential": [
            [
             0.0,
             "#0d0887"
            ],
            [
             0.1111111111111111,
             "#46039f"
            ],
            [
             0.2222222222222222,
             "#7201a8"
            ],
            [
             0.3333333333333333,
             "#9c179e"
            ],
            [
             0.4444444444444444,
             "#bd3786"
            ],
            [
             0.5555555555555556,
             "#d8576b"
            ],
            [
             0.6666666666666666,
             "#ed7953"
            ],
            [
             0.7777777777777778,
             "#fb9f3a"
            ],
            [
             0.8888888888888888,
             "#fdca26"
            ],
            [
             1.0,
             "#f0f921"
            ]
           ],
           "sequentialminus": [
            [
             0.0,
             "#0d0887"
            ],
            [
             0.1111111111111111,
             "#46039f"
            ],
            [
             0.2222222222222222,
             "#7201a8"
            ],
            [
             0.3333333333333333,
             "#9c179e"
            ],
            [
             0.4444444444444444,
             "#bd3786"
            ],
            [
             0.5555555555555556,
             "#d8576b"
            ],
            [
             0.6666666666666666,
             "#ed7953"
            ],
            [
             0.7777777777777778,
             "#fb9f3a"
            ],
            [
             0.8888888888888888,
             "#fdca26"
            ],
            [
             1.0,
             "#f0f921"
            ]
           ],
           "diverging": [
            [
             0,
             "#8e0152"
            ],
            [
             0.1,
             "#c51b7d"
            ],
            [
             0.2,
             "#de77ae"
            ],
            [
             0.3,
             "#f1b6da"
            ],
            [
             0.4,
             "#fde0ef"
            ],
            [
             0.5,
             "#f7f7f7"
            ],
            [
             0.6,
             "#e6f5d0"
            ],
            [
             0.7,
             "#b8e186"
            ],
            [
             0.8,
             "#7fbc41"
            ],
            [
             0.9,
             "#4d9221"
            ],
            [
             1,
             "#276419"
            ]
           ]
          },
          "xaxis": {
           "gridcolor": "white",
           "linecolor": "white",
           "ticks": "",
           "title": {
            "standoff": 15
           },
           "zerolinecolor": "white",
           "automargin": true,
           "zerolinewidth": 2
          },
          "yaxis": {
           "gridcolor": "white",
           "linecolor": "white",
           "ticks": "",
           "title": {
            "standoff": 15
           },
           "zerolinecolor": "white",
           "automargin": true,
           "zerolinewidth": 2
          },
          "scene": {
           "xaxis": {
            "backgroundcolor": "#E5ECF6",
            "gridcolor": "white",
            "linecolor": "white",
            "showbackground": true,
            "ticks": "",
            "zerolinecolor": "white",
            "gridwidth": 2
           },
           "yaxis": {
            "backgroundcolor": "#E5ECF6",
            "gridcolor": "white",
            "linecolor": "white",
            "showbackground": true,
            "ticks": "",
            "zerolinecolor": "white",
            "gridwidth": 2
           },
           "zaxis": {
            "backgroundcolor": "#E5ECF6",
            "gridcolor": "white",
            "linecolor": "white",
            "showbackground": true,
            "ticks": "",
            "zerolinecolor": "white",
            "gridwidth": 2
           }
          },
          "shapedefaults": {
           "line": {
            "color": "#2a3f5f"
           }
          },
          "annotationdefaults": {
           "arrowcolor": "#2a3f5f",
           "arrowhead": 0,
           "arrowwidth": 1
          },
          "geo": {
           "bgcolor": "white",
           "landcolor": "#E5ECF6",
           "subunitcolor": "white",
           "showland": true,
           "showlakes": true,
           "lakecolor": "white"
          },
          "title": {
           "x": 0.05
          },
          "mapbox": {
           "style": "light"
          }
         }
        },
        "xaxis": {
         "anchor": "y",
         "domain": [
          0.0,
          0.94
         ],
         "title": {
          "text": "Topics"
         }
        },
        "yaxis": {
         "anchor": "x",
         "domain": [
          0.0,
          1.0
         ],
         "title": {
          "text": "Not shared tweet's followers mean"
         }
        },
        "yaxis2": {
         "anchor": "x",
         "overlaying": "y",
         "side": "right",
         "title": {
          "text": "Shared tweet's followers mean"
         }
        },
        "title": {
         "text": "Average followers between shared tweets and not shared by topic"
        },
        "width": 1100,
        "height": 500
       },
       "config": {
        "plotlyServerURL": "https://plot.ly"
       }
      },
      "text/html": "<div>                            <div id=\"0aaf68b0-bea1-49a6-b1c1-9b1e04456c2a\" class=\"plotly-graph-div\" style=\"height:500px; width:1100px;\"></div>            <script type=\"text/javascript\">                require([\"plotly\"], function(Plotly) {                    window.PLOTLYENV=window.PLOTLYENV || {};                                    if (document.getElementById(\"0aaf68b0-bea1-49a6-b1c1-9b1e04456c2a\")) {                    Plotly.newPlot(                        \"0aaf68b0-bea1-49a6-b1c1-9b1e04456c2a\",                        [{\"marker\":{\"color\":\"#006D77\"},\"name\":\"Not shared tweet's followers mean 2019\",\"text\":[\"2360.9862770097975\",\"764.0\",\"2927.8798287941986\",\"2168.93554970131\",\"2917.076986076986\",\"2588.8803446075303\",\"2533.1084057791663\",\"2197.337531486146\",\"2009.8958112662494\",\"3175.375350140056\",\"2479.904223968566\",\"2348.4903846153848\",\"nan\"],\"textposition\":\"inside\",\"width\":0.28,\"x\":[\"Brand\",\"Holiday\",\"Person\",\"Interest and Hobbies\",\"Sport\",\"TV and Movies\",\"Other\",\"Video Game\",\"Entities\",\"Political\",\"Music\",\"Book\",\"News\"],\"y\":[2360.9862770097975,764.0,2927.8798287941986,2168.93554970131,2917.076986076986,2588.8803446075303,2533.1084057791663,2197.337531486146,2009.8958112662494,3175.375350140056,2479.904223968566,2348.4903846153848,null],\"type\":\"bar\",\"xaxis\":\"x\",\"yaxis\":\"y\"},{\"marker\":{\"color\":\"#00B2CA\"},\"name\":\"Shared tweet's followers mean 2019\",\"x\":[\"Brand\",\"Holiday\",\"Person\",\"Interest and Hobbies\",\"Sport\",\"TV and Movies\",\"Other\",\"Video Game\",\"Entities\",\"Political\",\"Music\",\"Book\",\"News\"],\"y\":[1838.5007209805335,764.0,2111.111730942861,1792.5376818559134,1909.4321290775167,1833.4717368961974,1858.3330627905261,1599.5120048019207,1628.8441683685046,2506.321252059308,2140.3953630262354,1203.4133333333334,null],\"type\":\"scatter\",\"xaxis\":\"x\",\"yaxis\":\"y2\"},{\"marker\":{\"color\":\"#FBD1A2\"},\"name\":\"Not shared tweet's followers mean 2020\",\"text\":[\"2288.8127977988056\",\"2119.018188780394\",\"2602.017142018902\",\"2030.484402049108\",\"2613.7519028103043\",\"2430.6396938812522\",\"1991.7266775777414\",\"1643.0108783239323\",\"2088.751206302314\",\"2705.0495216657287\",\"2343.1310843373494\",\"2328.5969387755104\",\"2606.6250755084234\"],\"textposition\":\"inside\",\"width\":0.28,\"x\":[\"Brand\",\"Holiday\",\"Person\",\"Interest and Hobbies\",\"Sport\",\"TV and Movies\",\"Other\",\"Video Game\",\"Entities\",\"Political\",\"Music\",\"Book\",\"News\"],\"y\":[2288.8127977988056,2119.018188780394,2602.017142018902,2030.484402049108,2613.7519028103043,2430.6396938812522,1991.7266775777414,1643.0108783239323,2088.751206302314,2705.0495216657287,2343.1310843373494,2328.5969387755104,2606.6250755084234],\"type\":\"bar\",\"xaxis\":\"x\",\"yaxis\":\"y\"},{\"marker\":{\"color\":\"#1D4E89\"},\"name\":\"Shared tweet's followers mean 2020\",\"x\":[\"Brand\",\"Holiday\",\"Person\",\"Interest and Hobbies\",\"Sport\",\"TV and Movies\",\"Other\",\"Video Game\",\"Entities\",\"Political\",\"Music\",\"Book\",\"News\"],\"y\":[1765.8551828059324,1620.2274401473296,1830.8000642086286,1577.044907038234,1751.337029630976,1773.959261779214,1422.4081765087606,1269.988824101069,1679.107146960818,1804.9331081081082,1856.6284701712937,2165.9060606060607,1833.6007525083612],\"type\":\"scatter\",\"xaxis\":\"x\",\"yaxis\":\"y2\"},{\"marker\":{\"color\":\"#7DCFB6\"},\"name\":\"Not shared tweet's followers mean 2021\",\"text\":[\"2539.004475965327\",\"2513.94142614601\",\"2738.0461342260483\",\"2058.2475537016103\",\"2573.5595434219817\",\"2529.727202970297\",\"2131.634355828221\",\"1805.6840294840295\",\"2237.8181155458356\",\"3776.884429065744\",\"2261.191304347826\",\"2193.6116207951072\",\"2938.2561825385983\"],\"textposition\":\"inside\",\"width\":0.28,\"x\":[\"Brand\",\"Holiday\",\"Person\",\"Interest and Hobbies\",\"Sport\",\"TV and Movies\",\"Other\",\"Video Game\",\"Entities\",\"Political\",\"Music\",\"Book\",\"News\"],\"y\":[2539.004475965327,2513.94142614601,2738.0461342260483,2058.2475537016103,2573.5595434219817,2529.727202970297,2131.634355828221,1805.6840294840295,2237.8181155458356,3776.884429065744,2261.191304347826,2193.6116207951072,2938.2561825385983],\"type\":\"bar\",\"xaxis\":\"x\",\"yaxis\":\"y\"},{\"marker\":{\"color\":\"#F79256\"},\"name\":\"Shared tweet's followers mean 2021\",\"x\":[\"Brand\",\"Holiday\",\"Person\",\"Interest and Hobbies\",\"Sport\",\"TV and Movies\",\"Other\",\"Video Game\",\"Entities\",\"Political\",\"Music\",\"Book\",\"News\"],\"y\":[1939.0769981971155,1631.6792152704136,1911.2088819544867,1597.7796130469076,1848.8617200674537,1783.428692624989,1619.49928605426,1332.462643678161,1731.0697422568767,2433.2517361111113,1712.0259179265659,1635.2148148148149,2013.4512715480457],\"type\":\"scatter\",\"xaxis\":\"x\",\"yaxis\":\"y2\"}],                        {\"template\":{\"data\":{\"histogram2dcontour\":[{\"type\":\"histogram2dcontour\",\"colorbar\":{\"outlinewidth\":0,\"ticks\":\"\"},\"colorscale\":[[0.0,\"#0d0887\"],[0.1111111111111111,\"#46039f\"],[0.2222222222222222,\"#7201a8\"],[0.3333333333333333,\"#9c179e\"],[0.4444444444444444,\"#bd3786\"],[0.5555555555555556,\"#d8576b\"],[0.6666666666666666,\"#ed7953\"],[0.7777777777777778,\"#fb9f3a\"],[0.8888888888888888,\"#fdca26\"],[1.0,\"#f0f921\"]]}],\"choropleth\":[{\"type\":\"choropleth\",\"colorbar\":{\"outlinewidth\":0,\"ticks\":\"\"}}],\"histogram2d\":[{\"type\":\"histogram2d\",\"colorbar\":{\"outlinewidth\":0,\"ticks\":\"\"},\"colorscale\":[[0.0,\"#0d0887\"],[0.1111111111111111,\"#46039f\"],[0.2222222222222222,\"#7201a8\"],[0.3333333333333333,\"#9c179e\"],[0.4444444444444444,\"#bd3786\"],[0.5555555555555556,\"#d8576b\"],[0.6666666666666666,\"#ed7953\"],[0.7777777777777778,\"#fb9f3a\"],[0.8888888888888888,\"#fdca26\"],[1.0,\"#f0f921\"]]}],\"heatmap\":[{\"type\":\"heatmap\",\"colorbar\":{\"outlinewidth\":0,\"ticks\":\"\"},\"colorscale\":[[0.0,\"#0d0887\"],[0.1111111111111111,\"#46039f\"],[0.2222222222222222,\"#7201a8\"],[0.3333333333333333,\"#9c179e\"],[0.4444444444444444,\"#bd3786\"],[0.5555555555555556,\"#d8576b\"],[0.6666666666666666,\"#ed7953\"],[0.7777777777777778,\"#fb9f3a\"],[0.8888888888888888,\"#fdca26\"],[1.0,\"#f0f921\"]]}],\"heatmapgl\":[{\"type\":\"heatmapgl\",\"colorbar\":{\"outlinewidth\":0,\"ticks\":\"\"},\"colorscale\":[[0.0,\"#0d0887\"],[0.1111111111111111,\"#46039f\"],[0.2222222222222222,\"#7201a8\"],[0.3333333333333333,\"#9c179e\"],[0.4444444444444444,\"#bd3786\"],[0.5555555555555556,\"#d8576b\"],[0.6666666666666666,\"#ed7953\"],[0.7777777777777778,\"#fb9f3a\"],[0.8888888888888888,\"#fdca26\"],[1.0,\"#f0f921\"]]}],\"contourcarpet\":[{\"type\":\"contourcarpet\",\"colorbar\":{\"outlinewidth\":0,\"ticks\":\"\"}}],\"contour\":[{\"type\":\"contour\",\"colorbar\":{\"outlinewidth\":0,\"ticks\":\"\"},\"colorscale\":[[0.0,\"#0d0887\"],[0.1111111111111111,\"#46039f\"],[0.2222222222222222,\"#7201a8\"],[0.3333333333333333,\"#9c179e\"],[0.4444444444444444,\"#bd3786\"],[0.5555555555555556,\"#d8576b\"],[0.6666666666666666,\"#ed7953\"],[0.7777777777777778,\"#fb9f3a\"],[0.8888888888888888,\"#fdca26\"],[1.0,\"#f0f921\"]]}],\"surface\":[{\"type\":\"surface\",\"colorbar\":{\"outlinewidth\":0,\"ticks\":\"\"},\"colorscale\":[[0.0,\"#0d0887\"],[0.1111111111111111,\"#46039f\"],[0.2222222222222222,\"#7201a8\"],[0.3333333333333333,\"#9c179e\"],[0.4444444444444444,\"#bd3786\"],[0.5555555555555556,\"#d8576b\"],[0.6666666666666666,\"#ed7953\"],[0.7777777777777778,\"#fb9f3a\"],[0.8888888888888888,\"#fdca26\"],[1.0,\"#f0f921\"]]}],\"mesh3d\":[{\"type\":\"mesh3d\",\"colorbar\":{\"outlinewidth\":0,\"ticks\":\"\"}}],\"scatter\":[{\"fillpattern\":{\"fillmode\":\"overlay\",\"size\":10,\"solidity\":0.2},\"type\":\"scatter\"}],\"parcoords\":[{\"type\":\"parcoords\",\"line\":{\"colorbar\":{\"outlinewidth\":0,\"ticks\":\"\"}}}],\"scatterpolargl\":[{\"type\":\"scatterpolargl\",\"marker\":{\"colorbar\":{\"outlinewidth\":0,\"ticks\":\"\"}}}],\"bar\":[{\"error_x\":{\"color\":\"#2a3f5f\"},\"error_y\":{\"color\":\"#2a3f5f\"},\"marker\":{\"line\":{\"color\":\"#E5ECF6\",\"width\":0.5},\"pattern\":{\"fillmode\":\"overlay\",\"size\":10,\"solidity\":0.2}},\"type\":\"bar\"}],\"scattergeo\":[{\"type\":\"scattergeo\",\"marker\":{\"colorbar\":{\"outlinewidth\":0,\"ticks\":\"\"}}}],\"scatterpolar\":[{\"type\":\"scatterpolar\",\"marker\":{\"colorbar\":{\"outlinewidth\":0,\"ticks\":\"\"}}}],\"histogram\":[{\"marker\":{\"pattern\":{\"fillmode\":\"overlay\",\"size\":10,\"solidity\":0.2}},\"type\":\"histogram\"}],\"scattergl\":[{\"type\":\"scattergl\",\"marker\":{\"colorbar\":{\"outlinewidth\":0,\"ticks\":\"\"}}}],\"scatter3d\":[{\"type\":\"scatter3d\",\"line\":{\"colorbar\":{\"outlinewidth\":0,\"ticks\":\"\"}},\"marker\":{\"colorbar\":{\"outlinewidth\":0,\"ticks\":\"\"}}}],\"scattermapbox\":[{\"type\":\"scattermapbox\",\"marker\":{\"colorbar\":{\"outlinewidth\":0,\"ticks\":\"\"}}}],\"scatterternary\":[{\"type\":\"scatterternary\",\"marker\":{\"colorbar\":{\"outlinewidth\":0,\"ticks\":\"\"}}}],\"scattercarpet\":[{\"type\":\"scattercarpet\",\"marker\":{\"colorbar\":{\"outlinewidth\":0,\"ticks\":\"\"}}}],\"carpet\":[{\"aaxis\":{\"endlinecolor\":\"#2a3f5f\",\"gridcolor\":\"white\",\"linecolor\":\"white\",\"minorgridcolor\":\"white\",\"startlinecolor\":\"#2a3f5f\"},\"baxis\":{\"endlinecolor\":\"#2a3f5f\",\"gridcolor\":\"white\",\"linecolor\":\"white\",\"minorgridcolor\":\"white\",\"startlinecolor\":\"#2a3f5f\"},\"type\":\"carpet\"}],\"table\":[{\"cells\":{\"fill\":{\"color\":\"#EBF0F8\"},\"line\":{\"color\":\"white\"}},\"header\":{\"fill\":{\"color\":\"#C8D4E3\"},\"line\":{\"color\":\"white\"}},\"type\":\"table\"}],\"barpolar\":[{\"marker\":{\"line\":{\"color\":\"#E5ECF6\",\"width\":0.5},\"pattern\":{\"fillmode\":\"overlay\",\"size\":10,\"solidity\":0.2}},\"type\":\"barpolar\"}],\"pie\":[{\"automargin\":true,\"type\":\"pie\"}]},\"layout\":{\"autotypenumbers\":\"strict\",\"colorway\":[\"#636efa\",\"#EF553B\",\"#00cc96\",\"#ab63fa\",\"#FFA15A\",\"#19d3f3\",\"#FF6692\",\"#B6E880\",\"#FF97FF\",\"#FECB52\"],\"font\":{\"color\":\"#2a3f5f\"},\"hovermode\":\"closest\",\"hoverlabel\":{\"align\":\"left\"},\"paper_bgcolor\":\"white\",\"plot_bgcolor\":\"#E5ECF6\",\"polar\":{\"bgcolor\":\"#E5ECF6\",\"angularaxis\":{\"gridcolor\":\"white\",\"linecolor\":\"white\",\"ticks\":\"\"},\"radialaxis\":{\"gridcolor\":\"white\",\"linecolor\":\"white\",\"ticks\":\"\"}},\"ternary\":{\"bgcolor\":\"#E5ECF6\",\"aaxis\":{\"gridcolor\":\"white\",\"linecolor\":\"white\",\"ticks\":\"\"},\"baxis\":{\"gridcolor\":\"white\",\"linecolor\":\"white\",\"ticks\":\"\"},\"caxis\":{\"gridcolor\":\"white\",\"linecolor\":\"white\",\"ticks\":\"\"}},\"coloraxis\":{\"colorbar\":{\"outlinewidth\":0,\"ticks\":\"\"}},\"colorscale\":{\"sequential\":[[0.0,\"#0d0887\"],[0.1111111111111111,\"#46039f\"],[0.2222222222222222,\"#7201a8\"],[0.3333333333333333,\"#9c179e\"],[0.4444444444444444,\"#bd3786\"],[0.5555555555555556,\"#d8576b\"],[0.6666666666666666,\"#ed7953\"],[0.7777777777777778,\"#fb9f3a\"],[0.8888888888888888,\"#fdca26\"],[1.0,\"#f0f921\"]],\"sequentialminus\":[[0.0,\"#0d0887\"],[0.1111111111111111,\"#46039f\"],[0.2222222222222222,\"#7201a8\"],[0.3333333333333333,\"#9c179e\"],[0.4444444444444444,\"#bd3786\"],[0.5555555555555556,\"#d8576b\"],[0.6666666666666666,\"#ed7953\"],[0.7777777777777778,\"#fb9f3a\"],[0.8888888888888888,\"#fdca26\"],[1.0,\"#f0f921\"]],\"diverging\":[[0,\"#8e0152\"],[0.1,\"#c51b7d\"],[0.2,\"#de77ae\"],[0.3,\"#f1b6da\"],[0.4,\"#fde0ef\"],[0.5,\"#f7f7f7\"],[0.6,\"#e6f5d0\"],[0.7,\"#b8e186\"],[0.8,\"#7fbc41\"],[0.9,\"#4d9221\"],[1,\"#276419\"]]},\"xaxis\":{\"gridcolor\":\"white\",\"linecolor\":\"white\",\"ticks\":\"\",\"title\":{\"standoff\":15},\"zerolinecolor\":\"white\",\"automargin\":true,\"zerolinewidth\":2},\"yaxis\":{\"gridcolor\":\"white\",\"linecolor\":\"white\",\"ticks\":\"\",\"title\":{\"standoff\":15},\"zerolinecolor\":\"white\",\"automargin\":true,\"zerolinewidth\":2},\"scene\":{\"xaxis\":{\"backgroundcolor\":\"#E5ECF6\",\"gridcolor\":\"white\",\"linecolor\":\"white\",\"showbackground\":true,\"ticks\":\"\",\"zerolinecolor\":\"white\",\"gridwidth\":2},\"yaxis\":{\"backgroundcolor\":\"#E5ECF6\",\"gridcolor\":\"white\",\"linecolor\":\"white\",\"showbackground\":true,\"ticks\":\"\",\"zerolinecolor\":\"white\",\"gridwidth\":2},\"zaxis\":{\"backgroundcolor\":\"#E5ECF6\",\"gridcolor\":\"white\",\"linecolor\":\"white\",\"showbackground\":true,\"ticks\":\"\",\"zerolinecolor\":\"white\",\"gridwidth\":2}},\"shapedefaults\":{\"line\":{\"color\":\"#2a3f5f\"}},\"annotationdefaults\":{\"arrowcolor\":\"#2a3f5f\",\"arrowhead\":0,\"arrowwidth\":1},\"geo\":{\"bgcolor\":\"white\",\"landcolor\":\"#E5ECF6\",\"subunitcolor\":\"white\",\"showland\":true,\"showlakes\":true,\"lakecolor\":\"white\"},\"title\":{\"x\":0.05},\"mapbox\":{\"style\":\"light\"}}},\"xaxis\":{\"anchor\":\"y\",\"domain\":[0.0,0.94],\"title\":{\"text\":\"Topics\"}},\"yaxis\":{\"anchor\":\"x\",\"domain\":[0.0,1.0],\"title\":{\"text\":\"Not shared tweet's followers mean\"}},\"yaxis2\":{\"anchor\":\"x\",\"overlaying\":\"y\",\"side\":\"right\",\"title\":{\"text\":\"Shared tweet's followers mean\"}},\"title\":{\"text\":\"Average followers between shared tweets and not shared by topic\"},\"width\":1100,\"height\":500},                        {\"responsive\": true}                    ).then(function(){\n                            \nvar gd = document.getElementById('0aaf68b0-bea1-49a6-b1c1-9b1e04456c2a');\nvar x = new MutationObserver(function (mutations, observer) {{\n        var display = window.getComputedStyle(gd).display;\n        if (!display || display === 'none') {{\n            console.log([gd, 'removed!']);\n            Plotly.purge(gd);\n            observer.disconnect();\n        }}\n}});\n\n// Listen for the removal of the full notebook cells\nvar notebookContainer = gd.closest('#notebook-container');\nif (notebookContainer) {{\n    x.observe(notebookContainer, {childList: true});\n}}\n\n// Listen for the clearing of the current output cell\nvar outputEl = gd.closest('.output');\nif (outputEl) {{\n    x.observe(outputEl, {childList: true});\n}}\n\n                        })                };                });            </script>        </div>"
     },
     "metadata": {},
     "output_type": "display_data"
    }
   ],
   "source": [
    "analysis_chart(df_analysis, \"topics_cleaned\", 'followers mean', \"not shared followers mean\", \"Topics\", 'Not shared tweet\\'s followers mean', 'Shared tweet\\'s followers mean', \"Average followers between shared tweets and not shared by topic\", offline_charts)"
   ],
   "metadata": {
    "collapsed": false,
    "pycharm": {
     "name": "#%%\n"
    }
   }
  },
  {
   "cell_type": "markdown",
   "source": [
    "### Analysing retweeters characteristics"
   ],
   "metadata": {
    "collapsed": false,
    "pycharm": {
     "name": "#%% md\n"
    }
   }
  },
  {
   "cell_type": "code",
   "execution_count": null,
   "outputs": [],
   "source": [
    "df_retweeters_chars = retweeters_characteristics(df, df_retweets_info, 0)\n",
    "df_retweeters_chars"
   ],
   "metadata": {
    "collapsed": false,
    "pycharm": {
     "name": "#%%\n",
     "is_executing": true
    }
   }
  },
  {
   "cell_type": "markdown",
   "source": [
    "### Analysing average followers count of retweeters per topic"
   ],
   "metadata": {
    "collapsed": false,
    "pycharm": {
     "name": "#%% md\n"
    }
   }
  },
  {
   "cell_type": "code",
   "execution_count": null,
   "outputs": [],
   "source": [
    "retweeters_info_chart(df_retweeters_chars, topics_categories, \"Topic\", 'Average Retweeters Followers', \"Analysing average followers count of retweeters per topic\", offline_charts)"
   ],
   "metadata": {
    "collapsed": false,
    "pycharm": {
     "name": "#%%\n",
     "is_executing": true
    }
   }
  },
  {
   "cell_type": "markdown",
   "source": [
    "### Analysing average retweet time ratio of retweeters per topic"
   ],
   "metadata": {
    "collapsed": false,
    "pycharm": {
     "name": "#%% md\n"
    }
   }
  },
  {
   "cell_type": "code",
   "execution_count": null,
   "outputs": [],
   "source": [
    "retweeters_info_chart(df_retweeters_chars, topics_categories, \"Topic\", \"Average Retweets Time\", \"Analysing average retweet time ratio of retweeters per topic\", offline_charts)"
   ],
   "metadata": {
    "collapsed": false,
    "pycharm": {
     "name": "#%%\n",
     "is_executing": true
    }
   }
  },
  {
   "cell_type": "markdown",
   "source": [
    "### Analysing average retweeter's account age per topic"
   ],
   "metadata": {
    "collapsed": false,
    "pycharm": {
     "name": "#%% md\n"
    }
   }
  },
  {
   "cell_type": "code",
   "execution_count": null,
   "outputs": [],
   "source": [
    "retweeters_info_chart(df_retweeters_chars, topics_categories, \"Topic\", \"Average Retweeters Account Age\", \"Analysing average retweeters account age per topic\", offline_charts)"
   ],
   "metadata": {
    "collapsed": false,
    "pycharm": {
     "name": "#%%\n",
     "is_executing": true
    }
   }
  },
  {
   "cell_type": "markdown",
   "source": [
    "### Analysing influencers impact on tweet sharing in popular tweets"
   ],
   "metadata": {
    "collapsed": false,
    "pycharm": {
     "name": "#%% md\n"
    }
   }
  },
  {
   "cell_type": "code",
   "execution_count": null,
   "outputs": [],
   "source": [
    "df[df['retweet_count'] > 10].shape[0] / df[df['retweet_count'] > 0].shape[0]"
   ],
   "metadata": {
    "collapsed": false,
    "pycharm": {
     "name": "#%%\n",
     "is_executing": true
    }
   }
  },
  {
   "cell_type": "code",
   "execution_count": null,
   "outputs": [],
   "source": [
    "df_retweeters_chars_10 = retweeters_characteristics(10)\n",
    "df_retweeters_chars_10"
   ],
   "metadata": {
    "collapsed": false,
    "pycharm": {
     "name": "#%%\n",
     "is_executing": true
    }
   }
  },
  {
   "cell_type": "code",
   "execution_count": null,
   "outputs": [],
   "source": [
    "analysis_chart(df_retweeters_chars_10, \"Topic\", 'Average Retweeters Half Time', 'Average Retweeters Total Time', \"Topics\", 'Average nº of hours to get 50% retweets', 'Average nº of hours to get all retweets', \"Average number of hours to get the retweets split by median\", offline_charts)"
   ],
   "metadata": {
    "collapsed": false,
    "pycharm": {
     "name": "#%%\n",
     "is_executing": true
    }
   }
  },
  {
   "cell_type": "code",
   "execution_count": null,
   "outputs": [],
   "source": [
    "analysis_chart(df_retweeters_chars_10, \"Topic\", 'Average Retweeters Followers First Half', 'Average Retweeters Followers Second Half', \"Topics\", 'Average Retweeters Followers First Half', 'Average Retweeters Followers Second Half', \"Average retweeters followers count split by median\", offline_charts)"
   ],
   "metadata": {
    "collapsed": false,
    "pycharm": {
     "name": "#%%\n",
     "is_executing": true
    }
   }
  },
  {
   "cell_type": "code",
   "execution_count": null,
   "outputs": [],
   "source": [],
   "metadata": {
    "collapsed": false,
    "pycharm": {
     "name": "#%%\n",
     "is_executing": true
    }
   }
  }
 ],
 "metadata": {
  "kernelspec": {
   "display_name": "Python 3",
   "language": "python",
   "name": "python3"
  },
  "language_info": {
   "codemirror_mode": {
    "name": "ipython",
    "version": 2
   },
   "file_extension": ".py",
   "mimetype": "text/x-python",
   "name": "python",
   "nbconvert_exporter": "python",
   "pygments_lexer": "ipython2",
   "version": "2.7.6"
  }
 },
 "nbformat": 4,
 "nbformat_minor": 0
}