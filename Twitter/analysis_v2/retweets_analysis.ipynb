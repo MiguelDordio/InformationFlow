{
 "cells": [
  {
   "cell_type": "code",
   "execution_count": 1,
   "outputs": [],
   "source": [
    "import pandas as pd\n",
    "\n",
    "from Twitter.analysis_v2.retweets_analysis import *\n",
    "from os import walk"
   ],
   "metadata": {
    "collapsed": false,
    "pycharm": {
     "name": "#%%\n"
    }
   }
  },
  {
   "cell_type": "markdown",
   "source": [
    "# Data Import and overview"
   ],
   "metadata": {
    "collapsed": false,
    "pycharm": {
     "name": "#%% md\n"
    }
   }
  },
  {
   "cell_type": "code",
   "execution_count": 2,
   "outputs": [],
   "source": [
    "DATASETS_PATH = \"../../data/processed_tweets/\"\n",
    "DATASETS_RETWEETS_PATH = \"../../data/processed_retweets/\"\n",
    "\n",
    "processed_filenames = next(walk(DATASETS_PATH), (None, None, []))[2]\n",
    "filenames = [DATASETS_PATH + \"/\" + filename for filename in processed_filenames]\n",
    "\n",
    "processed_retweets_filenames = next(walk(DATASETS_RETWEETS_PATH), (None, None, []))[2]\n",
    "retweets_filenames = [DATASETS_RETWEETS_PATH + \"/\" + filename for filename in processed_retweets_filenames]"
   ],
   "metadata": {
    "collapsed": false,
    "pycharm": {
     "name": "#%%\n"
    }
   }
  },
  {
   "cell_type": "code",
   "execution_count": 3,
   "outputs": [
    {
     "data": {
      "text/plain": "          index             tweet_id  \\\n0             0  1344810320217432065   \n1             1  1344810320485728256   \n2             2  1344810321270202369   \n3             3  1344810321777717250   \n4             4  1344810324587905025   \n...         ...                  ...   \n1595869  531267  1212131309591547906   \n1595870  531268  1212131310455721985   \n1595871  531269  1212131312561250309   \n1595872  531270  1212131311952941056   \n1595873  531271  1212131312892555264   \n\n                                                      text  \\\n0        leave all negative energy in 2020😇😇you have th...   \n1        Watching my last sunset of 2020 and anticipati...   \n2        This guy voted for a tax breaks for the riches...   \n3        Strictly raised off pimpin not simpin, show no...   \n4        Happy New Years Eve🎆 All of our locations will...   \n...                                                    ...   \n1595869  Thousands of Iraqi protesters have gathered at...   \n1595870  America’s values are being led astray.  #Statu...   \n1595871  .@pdub116 and I put a bow on 2019 with our Top...   \n1595872  It’d be rude to keep retweeting this to @realD...   \n1595873  Soon as I pulled up in Columbus @CoreyGrand ha...   \n\n                  timestamp             user_id  like_count  retweet_count  \\\n0       2021-01-01 00:59:00          2960799243          10              0   \n1       2021-01-01 00:59:00  720858537446879232          16              0   \n2       2021-01-01 00:59:00            93440753          18              3   \n3       2021-01-01 00:59:00  769731512308609025           2              1   \n4       2021-01-01 00:59:01            27752921           0              0   \n...                     ...                 ...         ...            ...   \n1595869 2019-12-31 21:59:59           780562134           0              0   \n1595870 2019-12-31 21:59:59            45918770           0              0   \n1595871 2019-12-31 21:59:59          2987814013           0              1   \n1595872 2019-12-31 21:59:59            23696215           2              0   \n1595873 2019-12-31 21:59:59            24166044           0              0   \n\n         quote_count  reply_count  reach  ...            day_phase week_idx  \\\n0                  0            0    603  ...  Middle of the night  2021-53   \n1                  0            2    889  ...  Middle of the night  2021-53   \n2                  0            5  11282  ...  Middle of the night  2021-53   \n3                  0            0    492  ...  Middle of the night  2021-53   \n4                  0            0   2417  ...  Middle of the night  2021-53   \n...              ...          ...    ...  ...                  ...      ...   \n1595869            0            0   6022  ...                Night  2019-01   \n1595870            0            0    633  ...                Night  2019-01   \n1595871            0            0    538  ...                Night  2019-01   \n1595872            0            0   1032  ...                Night  2019-01   \n1595873            1            0   1761  ...                Night  2019-01   \n\n        day_phase_enc day_of_week_enc  month_enc  year_enc  sentiment_enc  \\\n0                   2               0          4         0              2   \n1                   2               0          4         0              2   \n2                   2               0          4         0              2   \n3                   2               0          4         0              2   \n4                   2               0          4         0              2   \n...               ...             ...        ...       ...            ...   \n1595869             4               5          2         0              0   \n1595870             4               5          2         0              2   \n1595871             4               5          2         0              2   \n1595872             4               5          2         0              0   \n1595873             4               5          2         0              1   \n\n         verified_enc  hashtags_enc  seniority  \n0                   0             0          6  \n1                   0             1          5  \n2                   1             0         12  \n3                   0             0          5  \n4                   0             0         12  \n...               ...           ...        ...  \n1595869             0             0          7  \n1595870             0             1         10  \n1595871             0             1          4  \n1595872             0             0         10  \n1595873             0             0         10  \n\n[1595874 rows x 34 columns]",
      "text/html": "<div>\n<style scoped>\n    .dataframe tbody tr th:only-of-type {\n        vertical-align: middle;\n    }\n\n    .dataframe tbody tr th {\n        vertical-align: top;\n    }\n\n    .dataframe thead th {\n        text-align: right;\n    }\n</style>\n<table border=\"1\" class=\"dataframe\">\n  <thead>\n    <tr style=\"text-align: right;\">\n      <th></th>\n      <th>index</th>\n      <th>tweet_id</th>\n      <th>text</th>\n      <th>timestamp</th>\n      <th>user_id</th>\n      <th>like_count</th>\n      <th>retweet_count</th>\n      <th>quote_count</th>\n      <th>reply_count</th>\n      <th>reach</th>\n      <th>...</th>\n      <th>day_phase</th>\n      <th>week_idx</th>\n      <th>day_phase_enc</th>\n      <th>day_of_week_enc</th>\n      <th>month_enc</th>\n      <th>year_enc</th>\n      <th>sentiment_enc</th>\n      <th>verified_enc</th>\n      <th>hashtags_enc</th>\n      <th>seniority</th>\n    </tr>\n  </thead>\n  <tbody>\n    <tr>\n      <th>0</th>\n      <td>0</td>\n      <td>1344810320217432065</td>\n      <td>leave all negative energy in 2020😇😇you have th...</td>\n      <td>2021-01-01 00:59:00</td>\n      <td>2960799243</td>\n      <td>10</td>\n      <td>0</td>\n      <td>0</td>\n      <td>0</td>\n      <td>603</td>\n      <td>...</td>\n      <td>Middle of the night</td>\n      <td>2021-53</td>\n      <td>2</td>\n      <td>0</td>\n      <td>4</td>\n      <td>0</td>\n      <td>2</td>\n      <td>0</td>\n      <td>0</td>\n      <td>6</td>\n    </tr>\n    <tr>\n      <th>1</th>\n      <td>1</td>\n      <td>1344810320485728256</td>\n      <td>Watching my last sunset of 2020 and anticipati...</td>\n      <td>2021-01-01 00:59:00</td>\n      <td>720858537446879232</td>\n      <td>16</td>\n      <td>0</td>\n      <td>0</td>\n      <td>2</td>\n      <td>889</td>\n      <td>...</td>\n      <td>Middle of the night</td>\n      <td>2021-53</td>\n      <td>2</td>\n      <td>0</td>\n      <td>4</td>\n      <td>0</td>\n      <td>2</td>\n      <td>0</td>\n      <td>1</td>\n      <td>5</td>\n    </tr>\n    <tr>\n      <th>2</th>\n      <td>2</td>\n      <td>1344810321270202369</td>\n      <td>This guy voted for a tax breaks for the riches...</td>\n      <td>2021-01-01 00:59:00</td>\n      <td>93440753</td>\n      <td>18</td>\n      <td>3</td>\n      <td>0</td>\n      <td>5</td>\n      <td>11282</td>\n      <td>...</td>\n      <td>Middle of the night</td>\n      <td>2021-53</td>\n      <td>2</td>\n      <td>0</td>\n      <td>4</td>\n      <td>0</td>\n      <td>2</td>\n      <td>1</td>\n      <td>0</td>\n      <td>12</td>\n    </tr>\n    <tr>\n      <th>3</th>\n      <td>3</td>\n      <td>1344810321777717250</td>\n      <td>Strictly raised off pimpin not simpin, show no...</td>\n      <td>2021-01-01 00:59:00</td>\n      <td>769731512308609025</td>\n      <td>2</td>\n      <td>1</td>\n      <td>0</td>\n      <td>0</td>\n      <td>492</td>\n      <td>...</td>\n      <td>Middle of the night</td>\n      <td>2021-53</td>\n      <td>2</td>\n      <td>0</td>\n      <td>4</td>\n      <td>0</td>\n      <td>2</td>\n      <td>0</td>\n      <td>0</td>\n      <td>5</td>\n    </tr>\n    <tr>\n      <th>4</th>\n      <td>4</td>\n      <td>1344810324587905025</td>\n      <td>Happy New Years Eve🎆 All of our locations will...</td>\n      <td>2021-01-01 00:59:01</td>\n      <td>27752921</td>\n      <td>0</td>\n      <td>0</td>\n      <td>0</td>\n      <td>0</td>\n      <td>2417</td>\n      <td>...</td>\n      <td>Middle of the night</td>\n      <td>2021-53</td>\n      <td>2</td>\n      <td>0</td>\n      <td>4</td>\n      <td>0</td>\n      <td>2</td>\n      <td>0</td>\n      <td>0</td>\n      <td>12</td>\n    </tr>\n    <tr>\n      <th>...</th>\n      <td>...</td>\n      <td>...</td>\n      <td>...</td>\n      <td>...</td>\n      <td>...</td>\n      <td>...</td>\n      <td>...</td>\n      <td>...</td>\n      <td>...</td>\n      <td>...</td>\n      <td>...</td>\n      <td>...</td>\n      <td>...</td>\n      <td>...</td>\n      <td>...</td>\n      <td>...</td>\n      <td>...</td>\n      <td>...</td>\n      <td>...</td>\n      <td>...</td>\n      <td>...</td>\n    </tr>\n    <tr>\n      <th>1595869</th>\n      <td>531267</td>\n      <td>1212131309591547906</td>\n      <td>Thousands of Iraqi protesters have gathered at...</td>\n      <td>2019-12-31 21:59:59</td>\n      <td>780562134</td>\n      <td>0</td>\n      <td>0</td>\n      <td>0</td>\n      <td>0</td>\n      <td>6022</td>\n      <td>...</td>\n      <td>Night</td>\n      <td>2019-01</td>\n      <td>4</td>\n      <td>5</td>\n      <td>2</td>\n      <td>0</td>\n      <td>0</td>\n      <td>0</td>\n      <td>0</td>\n      <td>7</td>\n    </tr>\n    <tr>\n      <th>1595870</th>\n      <td>531268</td>\n      <td>1212131310455721985</td>\n      <td>America’s values are being led astray.  #Statu...</td>\n      <td>2019-12-31 21:59:59</td>\n      <td>45918770</td>\n      <td>0</td>\n      <td>0</td>\n      <td>0</td>\n      <td>0</td>\n      <td>633</td>\n      <td>...</td>\n      <td>Night</td>\n      <td>2019-01</td>\n      <td>4</td>\n      <td>5</td>\n      <td>2</td>\n      <td>0</td>\n      <td>2</td>\n      <td>0</td>\n      <td>1</td>\n      <td>10</td>\n    </tr>\n    <tr>\n      <th>1595871</th>\n      <td>531269</td>\n      <td>1212131312561250309</td>\n      <td>.@pdub116 and I put a bow on 2019 with our Top...</td>\n      <td>2019-12-31 21:59:59</td>\n      <td>2987814013</td>\n      <td>0</td>\n      <td>1</td>\n      <td>0</td>\n      <td>0</td>\n      <td>538</td>\n      <td>...</td>\n      <td>Night</td>\n      <td>2019-01</td>\n      <td>4</td>\n      <td>5</td>\n      <td>2</td>\n      <td>0</td>\n      <td>2</td>\n      <td>0</td>\n      <td>1</td>\n      <td>4</td>\n    </tr>\n    <tr>\n      <th>1595872</th>\n      <td>531270</td>\n      <td>1212131311952941056</td>\n      <td>It’d be rude to keep retweeting this to @realD...</td>\n      <td>2019-12-31 21:59:59</td>\n      <td>23696215</td>\n      <td>2</td>\n      <td>0</td>\n      <td>0</td>\n      <td>0</td>\n      <td>1032</td>\n      <td>...</td>\n      <td>Night</td>\n      <td>2019-01</td>\n      <td>4</td>\n      <td>5</td>\n      <td>2</td>\n      <td>0</td>\n      <td>0</td>\n      <td>0</td>\n      <td>0</td>\n      <td>10</td>\n    </tr>\n    <tr>\n      <th>1595873</th>\n      <td>531271</td>\n      <td>1212131312892555264</td>\n      <td>Soon as I pulled up in Columbus @CoreyGrand ha...</td>\n      <td>2019-12-31 21:59:59</td>\n      <td>24166044</td>\n      <td>0</td>\n      <td>0</td>\n      <td>1</td>\n      <td>0</td>\n      <td>1761</td>\n      <td>...</td>\n      <td>Night</td>\n      <td>2019-01</td>\n      <td>4</td>\n      <td>5</td>\n      <td>2</td>\n      <td>0</td>\n      <td>1</td>\n      <td>0</td>\n      <td>0</td>\n      <td>10</td>\n    </tr>\n  </tbody>\n</table>\n<p>1595874 rows × 34 columns</p>\n</div>"
     },
     "execution_count": 3,
     "metadata": {},
     "output_type": "execute_result"
    }
   ],
   "source": [
    "df = ensemble_dataset(filenames)\n",
    "df"
   ],
   "metadata": {
    "collapsed": false,
    "pycharm": {
     "name": "#%%\n"
    }
   }
  },
  {
   "cell_type": "code",
   "execution_count": 4,
   "outputs": [
    {
     "data": {
      "text/plain": "2021    533375\n2019    531272\n2020    531227\nName: year, dtype: int64"
     },
     "execution_count": 4,
     "metadata": {},
     "output_type": "execute_result"
    }
   ],
   "source": [
    "df['year'].value_counts()"
   ],
   "metadata": {
    "collapsed": false,
    "pycharm": {
     "name": "#%%\n"
    }
   }
  },
  {
   "cell_type": "code",
   "execution_count": 5,
   "outputs": [
    {
     "data": {
      "text/plain": "         index             tweet_id  \\\n0            0  1212176450679377921   \n1            1  1212176611627458560   \n2            2  1212176685002571776   \n3            3  1212176835603288064   \n4            4  1212176943380074496   \n...        ...                  ...   \n401969  130591  1532509093746733056   \n401970  130592  1534304055597596676   \n401971  130593  1537134783653888005   \n401972  130594  1538071696137244673   \n401973  130595  1538183437034586114   \n\n                                                     text           timestamp  \\\n0       This is the way and only way Jay Armstrong Cut... 2020-01-01 00:59:21   \n1       RT @LexingtonPD: TRAFFIC ALERT - A collision o... 2020-01-01 01:00:00   \n2       RT @alsilicaniyours: This is the way and only ... 2020-01-01 01:00:17   \n3       RT @LexingtonPD: TRAFFIC ALERT - A collision o... 2020-01-01 01:00:53   \n4       RT @LexingtonPD: TRAFFIC ALERT - A collision o... 2020-01-01 01:01:19   \n...                                                   ...                 ...   \n401969  RT @lovetravelingto: My view right now.  At Mo... 2022-06-02 23:46:55   \n401970  RT @jackstoneagain: I am the FireTV Master 🐐 #... 2022-06-07 22:39:27   \n401971  RT @jolietrefinery: Great afternoon assembling... 2022-06-15 18:07:45   \n401972  RT @oortcloudfilms: Good question. Petition an... 2022-06-18 08:10:43   \n401973       RT @AtimCharlotte: 🥺 https://t.co/oQO45ZZPxB 2022-06-18 15:34:44   \n\n                    user_id  like_count  retweet_count  quote_count  \\\n0        833382201785978882           1              1            0   \n1                3028245479           0              4            0   \n2        833382201785978882           0              1            0   \n3       1012475880248143873           0              4            0   \n4                  17164488           0              4            0   \n...                     ...         ...            ...          ...   \n401969            173014316           0              1            0   \n401970  1136465938986012673           0              1            0   \n401971  1515226795217403906           0              1            0   \n401972  1468645579500707842           0              9            0   \n401973  1022560787552985088           0              1            0   \n\n        reply_count                                  referenced_tweets  \\\n0                 0  [ReferencedTweet(id: 1212175890785996801, type...   \n1                 0  [ReferencedTweet(id: 1212176549769830401, type...   \n2                 0  [ReferencedTweet(id: 1212176450679377921, type...   \n3                 0  [ReferencedTweet(id: 1212176549769830401, type...   \n4                 0  [ReferencedTweet(id: 1212176549769830401, type...   \n...             ...                                                ...   \n401969            0  [ReferencedTweet(id: 1128011875801657344, type...   \n401970            0  [ReferencedTweet(id: 1125399669578899457, type...   \n401971            0  [ReferencedTweet(id: 1202754364147949569, type...   \n401972            0  [ReferencedTweet(id: 1201102738660216832, type...   \n401973            0  [ReferencedTweet(id: 1538097886352769026, type...   \n\n        followers  following  tweet_count  verified           created_at  \\\n0              19        620         1637     False  2017-02-19 00:00:00   \n1           11251       4220         7112      True  2015-02-10 00:00:00   \n2              19        620         1637     False  2017-02-19 00:00:00   \n3           11594      12640       769364     False  2018-06-28 00:00:00   \n4           44767       4343       149914      True  2008-11-04 00:00:00   \n...           ...        ...          ...       ...                  ...   \n401969       1275       2679        32462     False  2010-07-31 00:00:00   \n401970        782       1248        75272     False  2019-06-06 00:00:00   \n401971         51        866         2846     False  2022-04-16 00:00:00   \n401972        267        486          255     False  2021-12-08 00:00:00   \n401973       1175        659        47962     False  2018-07-26 00:00:00   \n\n               ref_tweed_id  seniority  \n0       1212175890785996801          3  \n1       1212176549769830401          5  \n2       1212176450679377921          3  \n3       1212176549769830401          2  \n4       1212176549769830401         12  \n...                     ...        ...  \n401969  1128011875801657344          9  \n401970  1125399669578899457          0  \n401971  1202754364147949569         -2  \n401972  1201102738660216832         -1  \n401973  1538097886352769026          1  \n\n[401974 rows x 17 columns]",
      "text/html": "<div>\n<style scoped>\n    .dataframe tbody tr th:only-of-type {\n        vertical-align: middle;\n    }\n\n    .dataframe tbody tr th {\n        vertical-align: top;\n    }\n\n    .dataframe thead th {\n        text-align: right;\n    }\n</style>\n<table border=\"1\" class=\"dataframe\">\n  <thead>\n    <tr style=\"text-align: right;\">\n      <th></th>\n      <th>index</th>\n      <th>tweet_id</th>\n      <th>text</th>\n      <th>timestamp</th>\n      <th>user_id</th>\n      <th>like_count</th>\n      <th>retweet_count</th>\n      <th>quote_count</th>\n      <th>reply_count</th>\n      <th>referenced_tweets</th>\n      <th>followers</th>\n      <th>following</th>\n      <th>tweet_count</th>\n      <th>verified</th>\n      <th>created_at</th>\n      <th>ref_tweed_id</th>\n      <th>seniority</th>\n    </tr>\n  </thead>\n  <tbody>\n    <tr>\n      <th>0</th>\n      <td>0</td>\n      <td>1212176450679377921</td>\n      <td>This is the way and only way Jay Armstrong Cut...</td>\n      <td>2020-01-01 00:59:21</td>\n      <td>833382201785978882</td>\n      <td>1</td>\n      <td>1</td>\n      <td>0</td>\n      <td>0</td>\n      <td>[ReferencedTweet(id: 1212175890785996801, type...</td>\n      <td>19</td>\n      <td>620</td>\n      <td>1637</td>\n      <td>False</td>\n      <td>2017-02-19 00:00:00</td>\n      <td>1212175890785996801</td>\n      <td>3</td>\n    </tr>\n    <tr>\n      <th>1</th>\n      <td>1</td>\n      <td>1212176611627458560</td>\n      <td>RT @LexingtonPD: TRAFFIC ALERT - A collision o...</td>\n      <td>2020-01-01 01:00:00</td>\n      <td>3028245479</td>\n      <td>0</td>\n      <td>4</td>\n      <td>0</td>\n      <td>0</td>\n      <td>[ReferencedTweet(id: 1212176549769830401, type...</td>\n      <td>11251</td>\n      <td>4220</td>\n      <td>7112</td>\n      <td>True</td>\n      <td>2015-02-10 00:00:00</td>\n      <td>1212176549769830401</td>\n      <td>5</td>\n    </tr>\n    <tr>\n      <th>2</th>\n      <td>2</td>\n      <td>1212176685002571776</td>\n      <td>RT @alsilicaniyours: This is the way and only ...</td>\n      <td>2020-01-01 01:00:17</td>\n      <td>833382201785978882</td>\n      <td>0</td>\n      <td>1</td>\n      <td>0</td>\n      <td>0</td>\n      <td>[ReferencedTweet(id: 1212176450679377921, type...</td>\n      <td>19</td>\n      <td>620</td>\n      <td>1637</td>\n      <td>False</td>\n      <td>2017-02-19 00:00:00</td>\n      <td>1212176450679377921</td>\n      <td>3</td>\n    </tr>\n    <tr>\n      <th>3</th>\n      <td>3</td>\n      <td>1212176835603288064</td>\n      <td>RT @LexingtonPD: TRAFFIC ALERT - A collision o...</td>\n      <td>2020-01-01 01:00:53</td>\n      <td>1012475880248143873</td>\n      <td>0</td>\n      <td>4</td>\n      <td>0</td>\n      <td>0</td>\n      <td>[ReferencedTweet(id: 1212176549769830401, type...</td>\n      <td>11594</td>\n      <td>12640</td>\n      <td>769364</td>\n      <td>False</td>\n      <td>2018-06-28 00:00:00</td>\n      <td>1212176549769830401</td>\n      <td>2</td>\n    </tr>\n    <tr>\n      <th>4</th>\n      <td>4</td>\n      <td>1212176943380074496</td>\n      <td>RT @LexingtonPD: TRAFFIC ALERT - A collision o...</td>\n      <td>2020-01-01 01:01:19</td>\n      <td>17164488</td>\n      <td>0</td>\n      <td>4</td>\n      <td>0</td>\n      <td>0</td>\n      <td>[ReferencedTweet(id: 1212176549769830401, type...</td>\n      <td>44767</td>\n      <td>4343</td>\n      <td>149914</td>\n      <td>True</td>\n      <td>2008-11-04 00:00:00</td>\n      <td>1212176549769830401</td>\n      <td>12</td>\n    </tr>\n    <tr>\n      <th>...</th>\n      <td>...</td>\n      <td>...</td>\n      <td>...</td>\n      <td>...</td>\n      <td>...</td>\n      <td>...</td>\n      <td>...</td>\n      <td>...</td>\n      <td>...</td>\n      <td>...</td>\n      <td>...</td>\n      <td>...</td>\n      <td>...</td>\n      <td>...</td>\n      <td>...</td>\n      <td>...</td>\n      <td>...</td>\n    </tr>\n    <tr>\n      <th>401969</th>\n      <td>130591</td>\n      <td>1532509093746733056</td>\n      <td>RT @lovetravelingto: My view right now.  At Mo...</td>\n      <td>2022-06-02 23:46:55</td>\n      <td>173014316</td>\n      <td>0</td>\n      <td>1</td>\n      <td>0</td>\n      <td>0</td>\n      <td>[ReferencedTweet(id: 1128011875801657344, type...</td>\n      <td>1275</td>\n      <td>2679</td>\n      <td>32462</td>\n      <td>False</td>\n      <td>2010-07-31 00:00:00</td>\n      <td>1128011875801657344</td>\n      <td>9</td>\n    </tr>\n    <tr>\n      <th>401970</th>\n      <td>130592</td>\n      <td>1534304055597596676</td>\n      <td>RT @jackstoneagain: I am the FireTV Master 🐐 #...</td>\n      <td>2022-06-07 22:39:27</td>\n      <td>1136465938986012673</td>\n      <td>0</td>\n      <td>1</td>\n      <td>0</td>\n      <td>0</td>\n      <td>[ReferencedTweet(id: 1125399669578899457, type...</td>\n      <td>782</td>\n      <td>1248</td>\n      <td>75272</td>\n      <td>False</td>\n      <td>2019-06-06 00:00:00</td>\n      <td>1125399669578899457</td>\n      <td>0</td>\n    </tr>\n    <tr>\n      <th>401971</th>\n      <td>130593</td>\n      <td>1537134783653888005</td>\n      <td>RT @jolietrefinery: Great afternoon assembling...</td>\n      <td>2022-06-15 18:07:45</td>\n      <td>1515226795217403906</td>\n      <td>0</td>\n      <td>1</td>\n      <td>0</td>\n      <td>0</td>\n      <td>[ReferencedTweet(id: 1202754364147949569, type...</td>\n      <td>51</td>\n      <td>866</td>\n      <td>2846</td>\n      <td>False</td>\n      <td>2022-04-16 00:00:00</td>\n      <td>1202754364147949569</td>\n      <td>-2</td>\n    </tr>\n    <tr>\n      <th>401972</th>\n      <td>130594</td>\n      <td>1538071696137244673</td>\n      <td>RT @oortcloudfilms: Good question. Petition an...</td>\n      <td>2022-06-18 08:10:43</td>\n      <td>1468645579500707842</td>\n      <td>0</td>\n      <td>9</td>\n      <td>0</td>\n      <td>0</td>\n      <td>[ReferencedTweet(id: 1201102738660216832, type...</td>\n      <td>267</td>\n      <td>486</td>\n      <td>255</td>\n      <td>False</td>\n      <td>2021-12-08 00:00:00</td>\n      <td>1201102738660216832</td>\n      <td>-1</td>\n    </tr>\n    <tr>\n      <th>401973</th>\n      <td>130595</td>\n      <td>1538183437034586114</td>\n      <td>RT @AtimCharlotte: 🥺 https://t.co/oQO45ZZPxB</td>\n      <td>2022-06-18 15:34:44</td>\n      <td>1022560787552985088</td>\n      <td>0</td>\n      <td>1</td>\n      <td>0</td>\n      <td>0</td>\n      <td>[ReferencedTweet(id: 1538097886352769026, type...</td>\n      <td>1175</td>\n      <td>659</td>\n      <td>47962</td>\n      <td>False</td>\n      <td>2018-07-26 00:00:00</td>\n      <td>1538097886352769026</td>\n      <td>1</td>\n    </tr>\n  </tbody>\n</table>\n<p>401974 rows × 17 columns</p>\n</div>"
     },
     "execution_count": 5,
     "metadata": {},
     "output_type": "execute_result"
    }
   ],
   "source": [
    "df_retweets_info = ensemble_dataset(retweets_filenames)\n",
    "df_retweets_info"
   ],
   "metadata": {
    "collapsed": false,
    "pycharm": {
     "name": "#%%\n"
    }
   }
  },
  {
   "cell_type": "code",
   "execution_count": 6,
   "outputs": [],
   "source": [
    "topics_categories = ['Brand', 'Holiday', 'Person', 'Interest and Hobbies', 'Sport',\n",
    "       'TV and Movies', 'Other', 'Video Game', 'Entities', 'Political',\n",
    "       'Music', 'Book', 'News']\n",
    "offline_charts = False"
   ],
   "metadata": {
    "collapsed": false,
    "pycharm": {
     "name": "#%%\n"
    }
   }
  },
  {
   "cell_type": "markdown",
   "source": [
    "## Retweets Analysis"
   ],
   "metadata": {
    "collapsed": false,
    "pycharm": {
     "name": "#%% md\n"
    }
   }
  },
  {
   "cell_type": "markdown",
   "source": [
    "### Analysing average followers count between shared tweets and not shared by topic"
   ],
   "metadata": {
    "collapsed": false,
    "pycharm": {
     "name": "#%% md\n"
    }
   }
  },
  {
   "cell_type": "code",
   "execution_count": 7,
   "outputs": [
    {
     "data": {
      "text/plain": "    Year        topics_cleaned  not shared followers mean  followers mean  \\\n0   2019                 Brand                1838.500721     2360.986277   \n1   2019               Holiday                 764.000000      764.000000   \n2   2019                Person                2111.111731     2927.879829   \n3   2019  Interest and Hobbies                1792.537682     2168.935550   \n4   2019                 Sport                1909.432129     2917.076986   \n5   2019         TV and Movies                1833.471737     2588.880345   \n6   2019                 Other                1858.333063     2533.108406   \n7   2019            Video Game                1599.512005     2197.337531   \n8   2019              Entities                1628.844168     2009.895811   \n9   2019             Political                2506.321252     3175.375350   \n10  2019                 Music                2140.395363     2479.904224   \n11  2019                  Book                1203.413333     2348.490385   \n12  2019                  News                        NaN             NaN   \n0   2020                 Brand                1765.855183     2288.812798   \n1   2020               Holiday                1620.227440     2119.018189   \n2   2020                Person                1830.800064     2602.017142   \n3   2020  Interest and Hobbies                1577.044907     2030.484402   \n4   2020                 Sport                1751.337030     2613.751903   \n5   2020         TV and Movies                1773.959262     2430.639694   \n6   2020                 Other                1422.408177     1991.726678   \n7   2020            Video Game                1269.988824     1643.010878   \n8   2020              Entities                1679.107147     2088.751206   \n9   2020             Political                1804.933108     2705.049522   \n10  2020                 Music                1856.628470     2343.131084   \n11  2020                  Book                2165.906061     2328.596939   \n12  2020                  News                1833.600753     2606.625076   \n0   2021                 Brand                1939.076998     2539.004476   \n1   2021               Holiday                1631.679215     2513.941426   \n2   2021                Person                1911.208882     2738.046134   \n3   2021  Interest and Hobbies                1597.779613     2058.247554   \n4   2021                 Sport                1848.861720     2573.559543   \n5   2021         TV and Movies                1783.428693     2529.727203   \n6   2021                 Other                1619.499286     2131.634356   \n7   2021            Video Game                1332.462644     1805.684029   \n8   2021              Entities                1731.069742     2237.818116   \n9   2021             Political                2433.251736     3776.884429   \n10  2021                 Music                1712.025918     2261.191304   \n11  2021                  Book                1635.214815     2193.611621   \n12  2021                  News                2013.451272     2938.256183   \n\n    shared followers mean  \n0             5057.219099  \n1                     NaN  \n2             7395.971600  \n3             4289.903250  \n4             6455.002463  \n5             6761.926760  \n6             6039.042937  \n7             5319.523511  \n8             4147.762890  \n9             6970.850467  \n10            3881.554156  \n11            5309.896552  \n12                    NaN  \n0             5165.764180  \n1             4584.031854  \n2             6923.757127  \n3             4443.191603  \n4             6178.097671  \n5             6238.900370  \n6             4996.246575  \n7             3453.575472  \n8             4544.076446  \n9             7190.478114  \n10            4499.280105  \n11            3194.532258  \n12            5752.379040  \n0             5670.247206  \n1             6054.253191  \n2             7009.252998  \n3             4480.030259  \n4             4967.080506  \n5             6633.108573  \n6             5259.529070  \n7             4596.888136  \n8             4927.079310  \n9             9059.699659  \n10            4531.401786  \n11            4838.649123  \n12            6649.510959  ",
      "text/html": "<div>\n<style scoped>\n    .dataframe tbody tr th:only-of-type {\n        vertical-align: middle;\n    }\n\n    .dataframe tbody tr th {\n        vertical-align: top;\n    }\n\n    .dataframe thead th {\n        text-align: right;\n    }\n</style>\n<table border=\"1\" class=\"dataframe\">\n  <thead>\n    <tr style=\"text-align: right;\">\n      <th></th>\n      <th>Year</th>\n      <th>topics_cleaned</th>\n      <th>not shared followers mean</th>\n      <th>followers mean</th>\n      <th>shared followers mean</th>\n    </tr>\n  </thead>\n  <tbody>\n    <tr>\n      <th>0</th>\n      <td>2019</td>\n      <td>Brand</td>\n      <td>1838.500721</td>\n      <td>2360.986277</td>\n      <td>5057.219099</td>\n    </tr>\n    <tr>\n      <th>1</th>\n      <td>2019</td>\n      <td>Holiday</td>\n      <td>764.000000</td>\n      <td>764.000000</td>\n      <td>NaN</td>\n    </tr>\n    <tr>\n      <th>2</th>\n      <td>2019</td>\n      <td>Person</td>\n      <td>2111.111731</td>\n      <td>2927.879829</td>\n      <td>7395.971600</td>\n    </tr>\n    <tr>\n      <th>3</th>\n      <td>2019</td>\n      <td>Interest and Hobbies</td>\n      <td>1792.537682</td>\n      <td>2168.935550</td>\n      <td>4289.903250</td>\n    </tr>\n    <tr>\n      <th>4</th>\n      <td>2019</td>\n      <td>Sport</td>\n      <td>1909.432129</td>\n      <td>2917.076986</td>\n      <td>6455.002463</td>\n    </tr>\n    <tr>\n      <th>5</th>\n      <td>2019</td>\n      <td>TV and Movies</td>\n      <td>1833.471737</td>\n      <td>2588.880345</td>\n      <td>6761.926760</td>\n    </tr>\n    <tr>\n      <th>6</th>\n      <td>2019</td>\n      <td>Other</td>\n      <td>1858.333063</td>\n      <td>2533.108406</td>\n      <td>6039.042937</td>\n    </tr>\n    <tr>\n      <th>7</th>\n      <td>2019</td>\n      <td>Video Game</td>\n      <td>1599.512005</td>\n      <td>2197.337531</td>\n      <td>5319.523511</td>\n    </tr>\n    <tr>\n      <th>8</th>\n      <td>2019</td>\n      <td>Entities</td>\n      <td>1628.844168</td>\n      <td>2009.895811</td>\n      <td>4147.762890</td>\n    </tr>\n    <tr>\n      <th>9</th>\n      <td>2019</td>\n      <td>Political</td>\n      <td>2506.321252</td>\n      <td>3175.375350</td>\n      <td>6970.850467</td>\n    </tr>\n    <tr>\n      <th>10</th>\n      <td>2019</td>\n      <td>Music</td>\n      <td>2140.395363</td>\n      <td>2479.904224</td>\n      <td>3881.554156</td>\n    </tr>\n    <tr>\n      <th>11</th>\n      <td>2019</td>\n      <td>Book</td>\n      <td>1203.413333</td>\n      <td>2348.490385</td>\n      <td>5309.896552</td>\n    </tr>\n    <tr>\n      <th>12</th>\n      <td>2019</td>\n      <td>News</td>\n      <td>NaN</td>\n      <td>NaN</td>\n      <td>NaN</td>\n    </tr>\n    <tr>\n      <th>0</th>\n      <td>2020</td>\n      <td>Brand</td>\n      <td>1765.855183</td>\n      <td>2288.812798</td>\n      <td>5165.764180</td>\n    </tr>\n    <tr>\n      <th>1</th>\n      <td>2020</td>\n      <td>Holiday</td>\n      <td>1620.227440</td>\n      <td>2119.018189</td>\n      <td>4584.031854</td>\n    </tr>\n    <tr>\n      <th>2</th>\n      <td>2020</td>\n      <td>Person</td>\n      <td>1830.800064</td>\n      <td>2602.017142</td>\n      <td>6923.757127</td>\n    </tr>\n    <tr>\n      <th>3</th>\n      <td>2020</td>\n      <td>Interest and Hobbies</td>\n      <td>1577.044907</td>\n      <td>2030.484402</td>\n      <td>4443.191603</td>\n    </tr>\n    <tr>\n      <th>4</th>\n      <td>2020</td>\n      <td>Sport</td>\n      <td>1751.337030</td>\n      <td>2613.751903</td>\n      <td>6178.097671</td>\n    </tr>\n    <tr>\n      <th>5</th>\n      <td>2020</td>\n      <td>TV and Movies</td>\n      <td>1773.959262</td>\n      <td>2430.639694</td>\n      <td>6238.900370</td>\n    </tr>\n    <tr>\n      <th>6</th>\n      <td>2020</td>\n      <td>Other</td>\n      <td>1422.408177</td>\n      <td>1991.726678</td>\n      <td>4996.246575</td>\n    </tr>\n    <tr>\n      <th>7</th>\n      <td>2020</td>\n      <td>Video Game</td>\n      <td>1269.988824</td>\n      <td>1643.010878</td>\n      <td>3453.575472</td>\n    </tr>\n    <tr>\n      <th>8</th>\n      <td>2020</td>\n      <td>Entities</td>\n      <td>1679.107147</td>\n      <td>2088.751206</td>\n      <td>4544.076446</td>\n    </tr>\n    <tr>\n      <th>9</th>\n      <td>2020</td>\n      <td>Political</td>\n      <td>1804.933108</td>\n      <td>2705.049522</td>\n      <td>7190.478114</td>\n    </tr>\n    <tr>\n      <th>10</th>\n      <td>2020</td>\n      <td>Music</td>\n      <td>1856.628470</td>\n      <td>2343.131084</td>\n      <td>4499.280105</td>\n    </tr>\n    <tr>\n      <th>11</th>\n      <td>2020</td>\n      <td>Book</td>\n      <td>2165.906061</td>\n      <td>2328.596939</td>\n      <td>3194.532258</td>\n    </tr>\n    <tr>\n      <th>12</th>\n      <td>2020</td>\n      <td>News</td>\n      <td>1833.600753</td>\n      <td>2606.625076</td>\n      <td>5752.379040</td>\n    </tr>\n    <tr>\n      <th>0</th>\n      <td>2021</td>\n      <td>Brand</td>\n      <td>1939.076998</td>\n      <td>2539.004476</td>\n      <td>5670.247206</td>\n    </tr>\n    <tr>\n      <th>1</th>\n      <td>2021</td>\n      <td>Holiday</td>\n      <td>1631.679215</td>\n      <td>2513.941426</td>\n      <td>6054.253191</td>\n    </tr>\n    <tr>\n      <th>2</th>\n      <td>2021</td>\n      <td>Person</td>\n      <td>1911.208882</td>\n      <td>2738.046134</td>\n      <td>7009.252998</td>\n    </tr>\n    <tr>\n      <th>3</th>\n      <td>2021</td>\n      <td>Interest and Hobbies</td>\n      <td>1597.779613</td>\n      <td>2058.247554</td>\n      <td>4480.030259</td>\n    </tr>\n    <tr>\n      <th>4</th>\n      <td>2021</td>\n      <td>Sport</td>\n      <td>1848.861720</td>\n      <td>2573.559543</td>\n      <td>4967.080506</td>\n    </tr>\n    <tr>\n      <th>5</th>\n      <td>2021</td>\n      <td>TV and Movies</td>\n      <td>1783.428693</td>\n      <td>2529.727203</td>\n      <td>6633.108573</td>\n    </tr>\n    <tr>\n      <th>6</th>\n      <td>2021</td>\n      <td>Other</td>\n      <td>1619.499286</td>\n      <td>2131.634356</td>\n      <td>5259.529070</td>\n    </tr>\n    <tr>\n      <th>7</th>\n      <td>2021</td>\n      <td>Video Game</td>\n      <td>1332.462644</td>\n      <td>1805.684029</td>\n      <td>4596.888136</td>\n    </tr>\n    <tr>\n      <th>8</th>\n      <td>2021</td>\n      <td>Entities</td>\n      <td>1731.069742</td>\n      <td>2237.818116</td>\n      <td>4927.079310</td>\n    </tr>\n    <tr>\n      <th>9</th>\n      <td>2021</td>\n      <td>Political</td>\n      <td>2433.251736</td>\n      <td>3776.884429</td>\n      <td>9059.699659</td>\n    </tr>\n    <tr>\n      <th>10</th>\n      <td>2021</td>\n      <td>Music</td>\n      <td>1712.025918</td>\n      <td>2261.191304</td>\n      <td>4531.401786</td>\n    </tr>\n    <tr>\n      <th>11</th>\n      <td>2021</td>\n      <td>Book</td>\n      <td>1635.214815</td>\n      <td>2193.611621</td>\n      <td>4838.649123</td>\n    </tr>\n    <tr>\n      <th>12</th>\n      <td>2021</td>\n      <td>News</td>\n      <td>2013.451272</td>\n      <td>2938.256183</td>\n      <td>6649.510959</td>\n    </tr>\n  </tbody>\n</table>\n</div>"
     },
     "execution_count": 7,
     "metadata": {},
     "output_type": "execute_result"
    }
   ],
   "source": [
    "df_analysis = shared_tweets(df, 'topics_cleaned', topics_categories)\n",
    "df_analysis"
   ],
   "metadata": {
    "collapsed": false,
    "pycharm": {
     "name": "#%%\n"
    }
   }
  },
  {
   "cell_type": "code",
   "execution_count": 10,
   "outputs": [
    {
     "data": {
      "application/vnd.plotly.v1+json": {
       "data": [
        {
         "marker": {
          "color": "#006D77"
         },
         "name": "Shared tweet's followers mean 2019",
         "textposition": "inside",
         "width": 0.28,
         "x": [
          "Brand",
          "Holiday",
          "Person",
          "Interest and Hobbies",
          "Sport",
          "TV and Movies",
          "Other",
          "Video Game",
          "Entities",
          "Political",
          "Music",
          "Book",
          "News"
         ],
         "y": [
          5057.219098801157,
          null,
          7395.971599929441,
          4289.903249630724,
          6455.0024630541875,
          6761.92676003028,
          6039.042936553575,
          5319.523510971787,
          4147.762889879058,
          6970.85046728972,
          3881.554156171285,
          5309.896551724138,
          null
         ],
         "type": "bar",
         "xaxis": "x",
         "yaxis": "y"
        },
        {
         "marker": {
          "color": "#E29578"
         },
         "name": "Not shared tweet's followers mean 2019",
         "x": [
          "Brand",
          "Holiday",
          "Person",
          "Interest and Hobbies",
          "Sport",
          "TV and Movies",
          "Other",
          "Video Game",
          "Entities",
          "Political",
          "Music",
          "Book",
          "News"
         ],
         "y": [
          1838.5007209805335,
          764.0,
          2111.111730942861,
          1792.5376818559134,
          1909.4321290775167,
          1833.4717368961974,
          1858.3330627905261,
          1599.5120048019207,
          1628.8441683685046,
          2506.321252059308,
          2140.3953630262354,
          1203.4133333333334,
          null
         ],
         "type": "scatter",
         "xaxis": "x",
         "yaxis": "y2"
        },
        {
         "marker": {
          "color": "#FBD1A2"
         },
         "name": "Shared tweet's followers mean 2020",
         "textposition": "inside",
         "width": 0.28,
         "x": [
          "Brand",
          "Holiday",
          "Person",
          "Interest and Hobbies",
          "Sport",
          "TV and Movies",
          "Other",
          "Video Game",
          "Entities",
          "Political",
          "Music",
          "Book",
          "News"
         ],
         "y": [
          5165.764179755672,
          4584.031854379978,
          6923.75712704124,
          4443.191603394373,
          6178.097670924117,
          6238.9003699136865,
          4996.246575342466,
          3453.5754716981132,
          4544.076446280992,
          7190.478114478115,
          4499.280104712042,
          3194.532258064516,
          5752.379040489963
         ],
         "type": "bar",
         "xaxis": "x",
         "yaxis": "y"
        },
        {
         "marker": {
          "color": "#254E70"
         },
         "name": "Not shared tweet's followers mean 2020",
         "x": [
          "Brand",
          "Holiday",
          "Person",
          "Interest and Hobbies",
          "Sport",
          "TV and Movies",
          "Other",
          "Video Game",
          "Entities",
          "Political",
          "Music",
          "Book",
          "News"
         ],
         "y": [
          1765.8551828059324,
          1620.2274401473296,
          1830.8000642086286,
          1577.044907038234,
          1751.337029630976,
          1773.959261779214,
          1422.4081765087606,
          1269.988824101069,
          1679.107146960818,
          1804.9331081081082,
          1856.6284701712937,
          2165.9060606060607,
          1833.6007525083612
         ],
         "type": "scatter",
         "xaxis": "x",
         "yaxis": "y2"
        },
        {
         "marker": {
          "color": "#7DCFB6"
         },
         "name": "Shared tweet's followers mean 2021",
         "textposition": "inside",
         "width": 0.28,
         "x": [
          "Brand",
          "Holiday",
          "Person",
          "Interest and Hobbies",
          "Sport",
          "TV and Movies",
          "Other",
          "Video Game",
          "Entities",
          "Political",
          "Music",
          "Book",
          "News"
         ],
         "y": [
          5670.247206430112,
          6054.253191489362,
          7009.252997837625,
          4480.030258662762,
          4967.080506329114,
          6633.108573266849,
          5259.529069767442,
          4596.88813559322,
          4927.079310344828,
          9059.699658703072,
          4531.401785714285,
          4838.649122807017,
          6649.510958904109
         ],
         "type": "bar",
         "xaxis": "x",
         "yaxis": "y"
        },
        {
         "marker": {
          "color": "#C33C54"
         },
         "name": "Not shared tweet's followers mean 2021",
         "x": [
          "Brand",
          "Holiday",
          "Person",
          "Interest and Hobbies",
          "Sport",
          "TV and Movies",
          "Other",
          "Video Game",
          "Entities",
          "Political",
          "Music",
          "Book",
          "News"
         ],
         "y": [
          1939.0769981971155,
          1631.6792152704136,
          1911.2088819544867,
          1597.7796130469076,
          1848.8617200674537,
          1783.428692624989,
          1619.49928605426,
          1332.462643678161,
          1731.0697422568767,
          2433.2517361111113,
          1712.0259179265659,
          1635.2148148148149,
          2013.4512715480457
         ],
         "type": "scatter",
         "xaxis": "x",
         "yaxis": "y2"
        }
       ],
       "layout": {
        "template": {
         "data": {
          "bar": [
           {
            "error_x": {
             "color": "#2a3f5f"
            },
            "error_y": {
             "color": "#2a3f5f"
            },
            "marker": {
             "line": {
              "color": "#E5ECF6",
              "width": 0.5
             },
             "pattern": {
              "fillmode": "overlay",
              "size": 10,
              "solidity": 0.2
             }
            },
            "type": "bar"
           }
          ],
          "barpolar": [
           {
            "marker": {
             "line": {
              "color": "#E5ECF6",
              "width": 0.5
             },
             "pattern": {
              "fillmode": "overlay",
              "size": 10,
              "solidity": 0.2
             }
            },
            "type": "barpolar"
           }
          ],
          "carpet": [
           {
            "aaxis": {
             "endlinecolor": "#2a3f5f",
             "gridcolor": "white",
             "linecolor": "white",
             "minorgridcolor": "white",
             "startlinecolor": "#2a3f5f"
            },
            "baxis": {
             "endlinecolor": "#2a3f5f",
             "gridcolor": "white",
             "linecolor": "white",
             "minorgridcolor": "white",
             "startlinecolor": "#2a3f5f"
            },
            "type": "carpet"
           }
          ],
          "choropleth": [
           {
            "colorbar": {
             "outlinewidth": 0,
             "ticks": ""
            },
            "type": "choropleth"
           }
          ],
          "contour": [
           {
            "colorbar": {
             "outlinewidth": 0,
             "ticks": ""
            },
            "colorscale": [
             [
              0.0,
              "#0d0887"
             ],
             [
              0.1111111111111111,
              "#46039f"
             ],
             [
              0.2222222222222222,
              "#7201a8"
             ],
             [
              0.3333333333333333,
              "#9c179e"
             ],
             [
              0.4444444444444444,
              "#bd3786"
             ],
             [
              0.5555555555555556,
              "#d8576b"
             ],
             [
              0.6666666666666666,
              "#ed7953"
             ],
             [
              0.7777777777777778,
              "#fb9f3a"
             ],
             [
              0.8888888888888888,
              "#fdca26"
             ],
             [
              1.0,
              "#f0f921"
             ]
            ],
            "type": "contour"
           }
          ],
          "contourcarpet": [
           {
            "colorbar": {
             "outlinewidth": 0,
             "ticks": ""
            },
            "type": "contourcarpet"
           }
          ],
          "heatmap": [
           {
            "colorbar": {
             "outlinewidth": 0,
             "ticks": ""
            },
            "colorscale": [
             [
              0.0,
              "#0d0887"
             ],
             [
              0.1111111111111111,
              "#46039f"
             ],
             [
              0.2222222222222222,
              "#7201a8"
             ],
             [
              0.3333333333333333,
              "#9c179e"
             ],
             [
              0.4444444444444444,
              "#bd3786"
             ],
             [
              0.5555555555555556,
              "#d8576b"
             ],
             [
              0.6666666666666666,
              "#ed7953"
             ],
             [
              0.7777777777777778,
              "#fb9f3a"
             ],
             [
              0.8888888888888888,
              "#fdca26"
             ],
             [
              1.0,
              "#f0f921"
             ]
            ],
            "type": "heatmap"
           }
          ],
          "heatmapgl": [
           {
            "colorbar": {
             "outlinewidth": 0,
             "ticks": ""
            },
            "colorscale": [
             [
              0.0,
              "#0d0887"
             ],
             [
              0.1111111111111111,
              "#46039f"
             ],
             [
              0.2222222222222222,
              "#7201a8"
             ],
             [
              0.3333333333333333,
              "#9c179e"
             ],
             [
              0.4444444444444444,
              "#bd3786"
             ],
             [
              0.5555555555555556,
              "#d8576b"
             ],
             [
              0.6666666666666666,
              "#ed7953"
             ],
             [
              0.7777777777777778,
              "#fb9f3a"
             ],
             [
              0.8888888888888888,
              "#fdca26"
             ],
             [
              1.0,
              "#f0f921"
             ]
            ],
            "type": "heatmapgl"
           }
          ],
          "histogram": [
           {
            "marker": {
             "pattern": {
              "fillmode": "overlay",
              "size": 10,
              "solidity": 0.2
             }
            },
            "type": "histogram"
           }
          ],
          "histogram2d": [
           {
            "colorbar": {
             "outlinewidth": 0,
             "ticks": ""
            },
            "colorscale": [
             [
              0.0,
              "#0d0887"
             ],
             [
              0.1111111111111111,
              "#46039f"
             ],
             [
              0.2222222222222222,
              "#7201a8"
             ],
             [
              0.3333333333333333,
              "#9c179e"
             ],
             [
              0.4444444444444444,
              "#bd3786"
             ],
             [
              0.5555555555555556,
              "#d8576b"
             ],
             [
              0.6666666666666666,
              "#ed7953"
             ],
             [
              0.7777777777777778,
              "#fb9f3a"
             ],
             [
              0.8888888888888888,
              "#fdca26"
             ],
             [
              1.0,
              "#f0f921"
             ]
            ],
            "type": "histogram2d"
           }
          ],
          "histogram2dcontour": [
           {
            "colorbar": {
             "outlinewidth": 0,
             "ticks": ""
            },
            "colorscale": [
             [
              0.0,
              "#0d0887"
             ],
             [
              0.1111111111111111,
              "#46039f"
             ],
             [
              0.2222222222222222,
              "#7201a8"
             ],
             [
              0.3333333333333333,
              "#9c179e"
             ],
             [
              0.4444444444444444,
              "#bd3786"
             ],
             [
              0.5555555555555556,
              "#d8576b"
             ],
             [
              0.6666666666666666,
              "#ed7953"
             ],
             [
              0.7777777777777778,
              "#fb9f3a"
             ],
             [
              0.8888888888888888,
              "#fdca26"
             ],
             [
              1.0,
              "#f0f921"
             ]
            ],
            "type": "histogram2dcontour"
           }
          ],
          "mesh3d": [
           {
            "colorbar": {
             "outlinewidth": 0,
             "ticks": ""
            },
            "type": "mesh3d"
           }
          ],
          "parcoords": [
           {
            "line": {
             "colorbar": {
              "outlinewidth": 0,
              "ticks": ""
             }
            },
            "type": "parcoords"
           }
          ],
          "pie": [
           {
            "automargin": true,
            "type": "pie"
           }
          ],
          "scatter": [
           {
            "marker": {
             "colorbar": {
              "outlinewidth": 0,
              "ticks": ""
             }
            },
            "type": "scatter"
           }
          ],
          "scatter3d": [
           {
            "line": {
             "colorbar": {
              "outlinewidth": 0,
              "ticks": ""
             }
            },
            "marker": {
             "colorbar": {
              "outlinewidth": 0,
              "ticks": ""
             }
            },
            "type": "scatter3d"
           }
          ],
          "scattercarpet": [
           {
            "marker": {
             "colorbar": {
              "outlinewidth": 0,
              "ticks": ""
             }
            },
            "type": "scattercarpet"
           }
          ],
          "scattergeo": [
           {
            "marker": {
             "colorbar": {
              "outlinewidth": 0,
              "ticks": ""
             }
            },
            "type": "scattergeo"
           }
          ],
          "scattergl": [
           {
            "marker": {
             "colorbar": {
              "outlinewidth": 0,
              "ticks": ""
             }
            },
            "type": "scattergl"
           }
          ],
          "scattermapbox": [
           {
            "marker": {
             "colorbar": {
              "outlinewidth": 0,
              "ticks": ""
             }
            },
            "type": "scattermapbox"
           }
          ],
          "scatterpolar": [
           {
            "marker": {
             "colorbar": {
              "outlinewidth": 0,
              "ticks": ""
             }
            },
            "type": "scatterpolar"
           }
          ],
          "scatterpolargl": [
           {
            "marker": {
             "colorbar": {
              "outlinewidth": 0,
              "ticks": ""
             }
            },
            "type": "scatterpolargl"
           }
          ],
          "scatterternary": [
           {
            "marker": {
             "colorbar": {
              "outlinewidth": 0,
              "ticks": ""
             }
            },
            "type": "scatterternary"
           }
          ],
          "surface": [
           {
            "colorbar": {
             "outlinewidth": 0,
             "ticks": ""
            },
            "colorscale": [
             [
              0.0,
              "#0d0887"
             ],
             [
              0.1111111111111111,
              "#46039f"
             ],
             [
              0.2222222222222222,
              "#7201a8"
             ],
             [
              0.3333333333333333,
              "#9c179e"
             ],
             [
              0.4444444444444444,
              "#bd3786"
             ],
             [
              0.5555555555555556,
              "#d8576b"
             ],
             [
              0.6666666666666666,
              "#ed7953"
             ],
             [
              0.7777777777777778,
              "#fb9f3a"
             ],
             [
              0.8888888888888888,
              "#fdca26"
             ],
             [
              1.0,
              "#f0f921"
             ]
            ],
            "type": "surface"
           }
          ],
          "table": [
           {
            "cells": {
             "fill": {
              "color": "#EBF0F8"
             },
             "line": {
              "color": "white"
             }
            },
            "header": {
             "fill": {
              "color": "#C8D4E3"
             },
             "line": {
              "color": "white"
             }
            },
            "type": "table"
           }
          ]
         },
         "layout": {
          "annotationdefaults": {
           "arrowcolor": "#2a3f5f",
           "arrowhead": 0,
           "arrowwidth": 1
          },
          "autotypenumbers": "strict",
          "coloraxis": {
           "colorbar": {
            "outlinewidth": 0,
            "ticks": ""
           }
          },
          "colorscale": {
           "diverging": [
            [
             0,
             "#8e0152"
            ],
            [
             0.1,
             "#c51b7d"
            ],
            [
             0.2,
             "#de77ae"
            ],
            [
             0.3,
             "#f1b6da"
            ],
            [
             0.4,
             "#fde0ef"
            ],
            [
             0.5,
             "#f7f7f7"
            ],
            [
             0.6,
             "#e6f5d0"
            ],
            [
             0.7,
             "#b8e186"
            ],
            [
             0.8,
             "#7fbc41"
            ],
            [
             0.9,
             "#4d9221"
            ],
            [
             1,
             "#276419"
            ]
           ],
           "sequential": [
            [
             0.0,
             "#0d0887"
            ],
            [
             0.1111111111111111,
             "#46039f"
            ],
            [
             0.2222222222222222,
             "#7201a8"
            ],
            [
             0.3333333333333333,
             "#9c179e"
            ],
            [
             0.4444444444444444,
             "#bd3786"
            ],
            [
             0.5555555555555556,
             "#d8576b"
            ],
            [
             0.6666666666666666,
             "#ed7953"
            ],
            [
             0.7777777777777778,
             "#fb9f3a"
            ],
            [
             0.8888888888888888,
             "#fdca26"
            ],
            [
             1.0,
             "#f0f921"
            ]
           ],
           "sequentialminus": [
            [
             0.0,
             "#0d0887"
            ],
            [
             0.1111111111111111,
             "#46039f"
            ],
            [
             0.2222222222222222,
             "#7201a8"
            ],
            [
             0.3333333333333333,
             "#9c179e"
            ],
            [
             0.4444444444444444,
             "#bd3786"
            ],
            [
             0.5555555555555556,
             "#d8576b"
            ],
            [
             0.6666666666666666,
             "#ed7953"
            ],
            [
             0.7777777777777778,
             "#fb9f3a"
            ],
            [
             0.8888888888888888,
             "#fdca26"
            ],
            [
             1.0,
             "#f0f921"
            ]
           ]
          },
          "colorway": [
           "#636efa",
           "#EF553B",
           "#00cc96",
           "#ab63fa",
           "#FFA15A",
           "#19d3f3",
           "#FF6692",
           "#B6E880",
           "#FF97FF",
           "#FECB52"
          ],
          "font": {
           "color": "#2a3f5f"
          },
          "geo": {
           "bgcolor": "white",
           "lakecolor": "white",
           "landcolor": "#E5ECF6",
           "showlakes": true,
           "showland": true,
           "subunitcolor": "white"
          },
          "hoverlabel": {
           "align": "left"
          },
          "hovermode": "closest",
          "mapbox": {
           "style": "light"
          },
          "paper_bgcolor": "white",
          "plot_bgcolor": "#E5ECF6",
          "polar": {
           "angularaxis": {
            "gridcolor": "white",
            "linecolor": "white",
            "ticks": ""
           },
           "bgcolor": "#E5ECF6",
           "radialaxis": {
            "gridcolor": "white",
            "linecolor": "white",
            "ticks": ""
           }
          },
          "scene": {
           "xaxis": {
            "backgroundcolor": "#E5ECF6",
            "gridcolor": "white",
            "gridwidth": 2,
            "linecolor": "white",
            "showbackground": true,
            "ticks": "",
            "zerolinecolor": "white"
           },
           "yaxis": {
            "backgroundcolor": "#E5ECF6",
            "gridcolor": "white",
            "gridwidth": 2,
            "linecolor": "white",
            "showbackground": true,
            "ticks": "",
            "zerolinecolor": "white"
           },
           "zaxis": {
            "backgroundcolor": "#E5ECF6",
            "gridcolor": "white",
            "gridwidth": 2,
            "linecolor": "white",
            "showbackground": true,
            "ticks": "",
            "zerolinecolor": "white"
           }
          },
          "shapedefaults": {
           "line": {
            "color": "#2a3f5f"
           }
          },
          "ternary": {
           "aaxis": {
            "gridcolor": "white",
            "linecolor": "white",
            "ticks": ""
           },
           "baxis": {
            "gridcolor": "white",
            "linecolor": "white",
            "ticks": ""
           },
           "bgcolor": "#E5ECF6",
           "caxis": {
            "gridcolor": "white",
            "linecolor": "white",
            "ticks": ""
           }
          },
          "title": {
           "x": 0.05
          },
          "xaxis": {
           "automargin": true,
           "gridcolor": "white",
           "linecolor": "white",
           "ticks": "",
           "title": {
            "standoff": 15
           },
           "zerolinecolor": "white",
           "zerolinewidth": 2
          },
          "yaxis": {
           "automargin": true,
           "gridcolor": "white",
           "linecolor": "white",
           "ticks": "",
           "title": {
            "standoff": 15
           },
           "zerolinecolor": "white",
           "zerolinewidth": 2
          }
         }
        },
        "xaxis": {
         "anchor": "y",
         "domain": [
          0.0,
          0.94
         ],
         "title": {
          "text": "Topics"
         }
        },
        "yaxis": {
         "anchor": "x",
         "domain": [
          0.0,
          1.0
         ],
         "title": {
          "text": "Shared tweet's followers mean"
         }
        },
        "yaxis2": {
         "anchor": "x",
         "overlaying": "y",
         "side": "right",
         "title": {
          "text": "Not shared tweet's followers mean"
         }
        },
        "title": {
         "text": "Average followers between shared tweets and not shared by topic"
        },
        "width": 1100,
        "height": 500
       },
       "config": {
        "plotlyServerURL": "https://plot.ly"
       }
      },
      "text/html": "<div>                            <div id=\"e61a1117-1a30-4b7a-aa67-e7a4e6321da5\" class=\"plotly-graph-div\" style=\"height:500px; width:1100px;\"></div>            <script type=\"text/javascript\">                require([\"plotly\"], function(Plotly) {                    window.PLOTLYENV=window.PLOTLYENV || {};                                    if (document.getElementById(\"e61a1117-1a30-4b7a-aa67-e7a4e6321da5\")) {                    Plotly.newPlot(                        \"e61a1117-1a30-4b7a-aa67-e7a4e6321da5\",                        [{\"marker\":{\"color\":\"#006D77\"},\"name\":\"Shared tweet's followers mean 2019\",\"textposition\":\"inside\",\"width\":0.28,\"x\":[\"Brand\",\"Holiday\",\"Person\",\"Interest and Hobbies\",\"Sport\",\"TV and Movies\",\"Other\",\"Video Game\",\"Entities\",\"Political\",\"Music\",\"Book\",\"News\"],\"y\":[5057.219098801157,null,7395.971599929441,4289.903249630724,6455.0024630541875,6761.92676003028,6039.042936553575,5319.523510971787,4147.762889879058,6970.85046728972,3881.554156171285,5309.896551724138,null],\"type\":\"bar\",\"xaxis\":\"x\",\"yaxis\":\"y\"},{\"marker\":{\"color\":\"#E29578\"},\"name\":\"Not shared tweet's followers mean 2019\",\"x\":[\"Brand\",\"Holiday\",\"Person\",\"Interest and Hobbies\",\"Sport\",\"TV and Movies\",\"Other\",\"Video Game\",\"Entities\",\"Political\",\"Music\",\"Book\",\"News\"],\"y\":[1838.5007209805335,764.0,2111.111730942861,1792.5376818559134,1909.4321290775167,1833.4717368961974,1858.3330627905261,1599.5120048019207,1628.8441683685046,2506.321252059308,2140.3953630262354,1203.4133333333334,null],\"type\":\"scatter\",\"xaxis\":\"x\",\"yaxis\":\"y2\"},{\"marker\":{\"color\":\"#FBD1A2\"},\"name\":\"Shared tweet's followers mean 2020\",\"textposition\":\"inside\",\"width\":0.28,\"x\":[\"Brand\",\"Holiday\",\"Person\",\"Interest and Hobbies\",\"Sport\",\"TV and Movies\",\"Other\",\"Video Game\",\"Entities\",\"Political\",\"Music\",\"Book\",\"News\"],\"y\":[5165.764179755672,4584.031854379978,6923.75712704124,4443.191603394373,6178.097670924117,6238.9003699136865,4996.246575342466,3453.5754716981132,4544.076446280992,7190.478114478115,4499.280104712042,3194.532258064516,5752.379040489963],\"type\":\"bar\",\"xaxis\":\"x\",\"yaxis\":\"y\"},{\"marker\":{\"color\":\"#254E70\"},\"name\":\"Not shared tweet's followers mean 2020\",\"x\":[\"Brand\",\"Holiday\",\"Person\",\"Interest and Hobbies\",\"Sport\",\"TV and Movies\",\"Other\",\"Video Game\",\"Entities\",\"Political\",\"Music\",\"Book\",\"News\"],\"y\":[1765.8551828059324,1620.2274401473296,1830.8000642086286,1577.044907038234,1751.337029630976,1773.959261779214,1422.4081765087606,1269.988824101069,1679.107146960818,1804.9331081081082,1856.6284701712937,2165.9060606060607,1833.6007525083612],\"type\":\"scatter\",\"xaxis\":\"x\",\"yaxis\":\"y2\"},{\"marker\":{\"color\":\"#7DCFB6\"},\"name\":\"Shared tweet's followers mean 2021\",\"textposition\":\"inside\",\"width\":0.28,\"x\":[\"Brand\",\"Holiday\",\"Person\",\"Interest and Hobbies\",\"Sport\",\"TV and Movies\",\"Other\",\"Video Game\",\"Entities\",\"Political\",\"Music\",\"Book\",\"News\"],\"y\":[5670.247206430112,6054.253191489362,7009.252997837625,4480.030258662762,4967.080506329114,6633.108573266849,5259.529069767442,4596.88813559322,4927.079310344828,9059.699658703072,4531.401785714285,4838.649122807017,6649.510958904109],\"type\":\"bar\",\"xaxis\":\"x\",\"yaxis\":\"y\"},{\"marker\":{\"color\":\"#C33C54\"},\"name\":\"Not shared tweet's followers mean 2021\",\"x\":[\"Brand\",\"Holiday\",\"Person\",\"Interest and Hobbies\",\"Sport\",\"TV and Movies\",\"Other\",\"Video Game\",\"Entities\",\"Political\",\"Music\",\"Book\",\"News\"],\"y\":[1939.0769981971155,1631.6792152704136,1911.2088819544867,1597.7796130469076,1848.8617200674537,1783.428692624989,1619.49928605426,1332.462643678161,1731.0697422568767,2433.2517361111113,1712.0259179265659,1635.2148148148149,2013.4512715480457],\"type\":\"scatter\",\"xaxis\":\"x\",\"yaxis\":\"y2\"}],                        {\"template\":{\"data\":{\"bar\":[{\"error_x\":{\"color\":\"#2a3f5f\"},\"error_y\":{\"color\":\"#2a3f5f\"},\"marker\":{\"line\":{\"color\":\"#E5ECF6\",\"width\":0.5},\"pattern\":{\"fillmode\":\"overlay\",\"size\":10,\"solidity\":0.2}},\"type\":\"bar\"}],\"barpolar\":[{\"marker\":{\"line\":{\"color\":\"#E5ECF6\",\"width\":0.5},\"pattern\":{\"fillmode\":\"overlay\",\"size\":10,\"solidity\":0.2}},\"type\":\"barpolar\"}],\"carpet\":[{\"aaxis\":{\"endlinecolor\":\"#2a3f5f\",\"gridcolor\":\"white\",\"linecolor\":\"white\",\"minorgridcolor\":\"white\",\"startlinecolor\":\"#2a3f5f\"},\"baxis\":{\"endlinecolor\":\"#2a3f5f\",\"gridcolor\":\"white\",\"linecolor\":\"white\",\"minorgridcolor\":\"white\",\"startlinecolor\":\"#2a3f5f\"},\"type\":\"carpet\"}],\"choropleth\":[{\"colorbar\":{\"outlinewidth\":0,\"ticks\":\"\"},\"type\":\"choropleth\"}],\"contour\":[{\"colorbar\":{\"outlinewidth\":0,\"ticks\":\"\"},\"colorscale\":[[0.0,\"#0d0887\"],[0.1111111111111111,\"#46039f\"],[0.2222222222222222,\"#7201a8\"],[0.3333333333333333,\"#9c179e\"],[0.4444444444444444,\"#bd3786\"],[0.5555555555555556,\"#d8576b\"],[0.6666666666666666,\"#ed7953\"],[0.7777777777777778,\"#fb9f3a\"],[0.8888888888888888,\"#fdca26\"],[1.0,\"#f0f921\"]],\"type\":\"contour\"}],\"contourcarpet\":[{\"colorbar\":{\"outlinewidth\":0,\"ticks\":\"\"},\"type\":\"contourcarpet\"}],\"heatmap\":[{\"colorbar\":{\"outlinewidth\":0,\"ticks\":\"\"},\"colorscale\":[[0.0,\"#0d0887\"],[0.1111111111111111,\"#46039f\"],[0.2222222222222222,\"#7201a8\"],[0.3333333333333333,\"#9c179e\"],[0.4444444444444444,\"#bd3786\"],[0.5555555555555556,\"#d8576b\"],[0.6666666666666666,\"#ed7953\"],[0.7777777777777778,\"#fb9f3a\"],[0.8888888888888888,\"#fdca26\"],[1.0,\"#f0f921\"]],\"type\":\"heatmap\"}],\"heatmapgl\":[{\"colorbar\":{\"outlinewidth\":0,\"ticks\":\"\"},\"colorscale\":[[0.0,\"#0d0887\"],[0.1111111111111111,\"#46039f\"],[0.2222222222222222,\"#7201a8\"],[0.3333333333333333,\"#9c179e\"],[0.4444444444444444,\"#bd3786\"],[0.5555555555555556,\"#d8576b\"],[0.6666666666666666,\"#ed7953\"],[0.7777777777777778,\"#fb9f3a\"],[0.8888888888888888,\"#fdca26\"],[1.0,\"#f0f921\"]],\"type\":\"heatmapgl\"}],\"histogram\":[{\"marker\":{\"pattern\":{\"fillmode\":\"overlay\",\"size\":10,\"solidity\":0.2}},\"type\":\"histogram\"}],\"histogram2d\":[{\"colorbar\":{\"outlinewidth\":0,\"ticks\":\"\"},\"colorscale\":[[0.0,\"#0d0887\"],[0.1111111111111111,\"#46039f\"],[0.2222222222222222,\"#7201a8\"],[0.3333333333333333,\"#9c179e\"],[0.4444444444444444,\"#bd3786\"],[0.5555555555555556,\"#d8576b\"],[0.6666666666666666,\"#ed7953\"],[0.7777777777777778,\"#fb9f3a\"],[0.8888888888888888,\"#fdca26\"],[1.0,\"#f0f921\"]],\"type\":\"histogram2d\"}],\"histogram2dcontour\":[{\"colorbar\":{\"outlinewidth\":0,\"ticks\":\"\"},\"colorscale\":[[0.0,\"#0d0887\"],[0.1111111111111111,\"#46039f\"],[0.2222222222222222,\"#7201a8\"],[0.3333333333333333,\"#9c179e\"],[0.4444444444444444,\"#bd3786\"],[0.5555555555555556,\"#d8576b\"],[0.6666666666666666,\"#ed7953\"],[0.7777777777777778,\"#fb9f3a\"],[0.8888888888888888,\"#fdca26\"],[1.0,\"#f0f921\"]],\"type\":\"histogram2dcontour\"}],\"mesh3d\":[{\"colorbar\":{\"outlinewidth\":0,\"ticks\":\"\"},\"type\":\"mesh3d\"}],\"parcoords\":[{\"line\":{\"colorbar\":{\"outlinewidth\":0,\"ticks\":\"\"}},\"type\":\"parcoords\"}],\"pie\":[{\"automargin\":true,\"type\":\"pie\"}],\"scatter\":[{\"marker\":{\"colorbar\":{\"outlinewidth\":0,\"ticks\":\"\"}},\"type\":\"scatter\"}],\"scatter3d\":[{\"line\":{\"colorbar\":{\"outlinewidth\":0,\"ticks\":\"\"}},\"marker\":{\"colorbar\":{\"outlinewidth\":0,\"ticks\":\"\"}},\"type\":\"scatter3d\"}],\"scattercarpet\":[{\"marker\":{\"colorbar\":{\"outlinewidth\":0,\"ticks\":\"\"}},\"type\":\"scattercarpet\"}],\"scattergeo\":[{\"marker\":{\"colorbar\":{\"outlinewidth\":0,\"ticks\":\"\"}},\"type\":\"scattergeo\"}],\"scattergl\":[{\"marker\":{\"colorbar\":{\"outlinewidth\":0,\"ticks\":\"\"}},\"type\":\"scattergl\"}],\"scattermapbox\":[{\"marker\":{\"colorbar\":{\"outlinewidth\":0,\"ticks\":\"\"}},\"type\":\"scattermapbox\"}],\"scatterpolar\":[{\"marker\":{\"colorbar\":{\"outlinewidth\":0,\"ticks\":\"\"}},\"type\":\"scatterpolar\"}],\"scatterpolargl\":[{\"marker\":{\"colorbar\":{\"outlinewidth\":0,\"ticks\":\"\"}},\"type\":\"scatterpolargl\"}],\"scatterternary\":[{\"marker\":{\"colorbar\":{\"outlinewidth\":0,\"ticks\":\"\"}},\"type\":\"scatterternary\"}],\"surface\":[{\"colorbar\":{\"outlinewidth\":0,\"ticks\":\"\"},\"colorscale\":[[0.0,\"#0d0887\"],[0.1111111111111111,\"#46039f\"],[0.2222222222222222,\"#7201a8\"],[0.3333333333333333,\"#9c179e\"],[0.4444444444444444,\"#bd3786\"],[0.5555555555555556,\"#d8576b\"],[0.6666666666666666,\"#ed7953\"],[0.7777777777777778,\"#fb9f3a\"],[0.8888888888888888,\"#fdca26\"],[1.0,\"#f0f921\"]],\"type\":\"surface\"}],\"table\":[{\"cells\":{\"fill\":{\"color\":\"#EBF0F8\"},\"line\":{\"color\":\"white\"}},\"header\":{\"fill\":{\"color\":\"#C8D4E3\"},\"line\":{\"color\":\"white\"}},\"type\":\"table\"}]},\"layout\":{\"annotationdefaults\":{\"arrowcolor\":\"#2a3f5f\",\"arrowhead\":0,\"arrowwidth\":1},\"autotypenumbers\":\"strict\",\"coloraxis\":{\"colorbar\":{\"outlinewidth\":0,\"ticks\":\"\"}},\"colorscale\":{\"diverging\":[[0,\"#8e0152\"],[0.1,\"#c51b7d\"],[0.2,\"#de77ae\"],[0.3,\"#f1b6da\"],[0.4,\"#fde0ef\"],[0.5,\"#f7f7f7\"],[0.6,\"#e6f5d0\"],[0.7,\"#b8e186\"],[0.8,\"#7fbc41\"],[0.9,\"#4d9221\"],[1,\"#276419\"]],\"sequential\":[[0.0,\"#0d0887\"],[0.1111111111111111,\"#46039f\"],[0.2222222222222222,\"#7201a8\"],[0.3333333333333333,\"#9c179e\"],[0.4444444444444444,\"#bd3786\"],[0.5555555555555556,\"#d8576b\"],[0.6666666666666666,\"#ed7953\"],[0.7777777777777778,\"#fb9f3a\"],[0.8888888888888888,\"#fdca26\"],[1.0,\"#f0f921\"]],\"sequentialminus\":[[0.0,\"#0d0887\"],[0.1111111111111111,\"#46039f\"],[0.2222222222222222,\"#7201a8\"],[0.3333333333333333,\"#9c179e\"],[0.4444444444444444,\"#bd3786\"],[0.5555555555555556,\"#d8576b\"],[0.6666666666666666,\"#ed7953\"],[0.7777777777777778,\"#fb9f3a\"],[0.8888888888888888,\"#fdca26\"],[1.0,\"#f0f921\"]]},\"colorway\":[\"#636efa\",\"#EF553B\",\"#00cc96\",\"#ab63fa\",\"#FFA15A\",\"#19d3f3\",\"#FF6692\",\"#B6E880\",\"#FF97FF\",\"#FECB52\"],\"font\":{\"color\":\"#2a3f5f\"},\"geo\":{\"bgcolor\":\"white\",\"lakecolor\":\"white\",\"landcolor\":\"#E5ECF6\",\"showlakes\":true,\"showland\":true,\"subunitcolor\":\"white\"},\"hoverlabel\":{\"align\":\"left\"},\"hovermode\":\"closest\",\"mapbox\":{\"style\":\"light\"},\"paper_bgcolor\":\"white\",\"plot_bgcolor\":\"#E5ECF6\",\"polar\":{\"angularaxis\":{\"gridcolor\":\"white\",\"linecolor\":\"white\",\"ticks\":\"\"},\"bgcolor\":\"#E5ECF6\",\"radialaxis\":{\"gridcolor\":\"white\",\"linecolor\":\"white\",\"ticks\":\"\"}},\"scene\":{\"xaxis\":{\"backgroundcolor\":\"#E5ECF6\",\"gridcolor\":\"white\",\"gridwidth\":2,\"linecolor\":\"white\",\"showbackground\":true,\"ticks\":\"\",\"zerolinecolor\":\"white\"},\"yaxis\":{\"backgroundcolor\":\"#E5ECF6\",\"gridcolor\":\"white\",\"gridwidth\":2,\"linecolor\":\"white\",\"showbackground\":true,\"ticks\":\"\",\"zerolinecolor\":\"white\"},\"zaxis\":{\"backgroundcolor\":\"#E5ECF6\",\"gridcolor\":\"white\",\"gridwidth\":2,\"linecolor\":\"white\",\"showbackground\":true,\"ticks\":\"\",\"zerolinecolor\":\"white\"}},\"shapedefaults\":{\"line\":{\"color\":\"#2a3f5f\"}},\"ternary\":{\"aaxis\":{\"gridcolor\":\"white\",\"linecolor\":\"white\",\"ticks\":\"\"},\"baxis\":{\"gridcolor\":\"white\",\"linecolor\":\"white\",\"ticks\":\"\"},\"bgcolor\":\"#E5ECF6\",\"caxis\":{\"gridcolor\":\"white\",\"linecolor\":\"white\",\"ticks\":\"\"}},\"title\":{\"x\":0.05},\"xaxis\":{\"automargin\":true,\"gridcolor\":\"white\",\"linecolor\":\"white\",\"ticks\":\"\",\"title\":{\"standoff\":15},\"zerolinecolor\":\"white\",\"zerolinewidth\":2},\"yaxis\":{\"automargin\":true,\"gridcolor\":\"white\",\"linecolor\":\"white\",\"ticks\":\"\",\"title\":{\"standoff\":15},\"zerolinecolor\":\"white\",\"zerolinewidth\":2}}},\"xaxis\":{\"anchor\":\"y\",\"domain\":[0.0,0.94],\"title\":{\"text\":\"Topics\"}},\"yaxis\":{\"anchor\":\"x\",\"domain\":[0.0,1.0],\"title\":{\"text\":\"Shared tweet's followers mean\"}},\"yaxis2\":{\"anchor\":\"x\",\"overlaying\":\"y\",\"side\":\"right\",\"title\":{\"text\":\"Not shared tweet's followers mean\"}},\"title\":{\"text\":\"Average followers between shared tweets and not shared by topic\"},\"width\":1100,\"height\":500},                        {\"responsive\": true}                    ).then(function(){\n                            \nvar gd = document.getElementById('e61a1117-1a30-4b7a-aa67-e7a4e6321da5');\nvar x = new MutationObserver(function (mutations, observer) {{\n        var display = window.getComputedStyle(gd).display;\n        if (!display || display === 'none') {{\n            console.log([gd, 'removed!']);\n            Plotly.purge(gd);\n            observer.disconnect();\n        }}\n}});\n\n// Listen for the removal of the full notebook cells\nvar notebookContainer = gd.closest('#notebook-container');\nif (notebookContainer) {{\n    x.observe(notebookContainer, {childList: true});\n}}\n\n// Listen for the clearing of the current output cell\nvar outputEl = gd.closest('.output');\nif (outputEl) {{\n    x.observe(outputEl, {childList: true});\n}}\n\n                        })                };                });            </script>        </div>"
     },
     "metadata": {},
     "output_type": "display_data"
    }
   ],
   "source": [
    "analysis_chart(df_analysis, \"topics_cleaned\", 'shared followers mean', \"not shared followers mean\", \"Topics\", 'Shared tweet\\'s followers mean', 'Not shared tweet\\'s followers mean', \"Followers mean between shared tweets and not shared by topic\", offline_charts)"
   ],
   "metadata": {
    "collapsed": false,
    "pycharm": {
     "name": "#%%\n"
    }
   }
  },
  {
   "cell_type": "markdown",
   "source": [
    "### Analysing retweeters characteristics"
   ],
   "metadata": {
    "collapsed": false,
    "pycharm": {
     "name": "#%% md\n"
    }
   }
  },
  {
   "cell_type": "code",
   "execution_count": 11,
   "outputs": [
    {
     "data": {
      "text/plain": "                   Topic  Average Retweeters Followers  Average Retweets Time  \\\n0                  Brand                          5996                    214   \n1                Holiday                             0                      0   \n2                 Person                          7644                    177   \n3   Interest and Hobbies                          4842                    143   \n4                  Sport                          4974                     96   \n5          TV and Movies                          9105                     76   \n6                  Other                          6338                    139   \n7             Video Game                          4796                    266   \n8               Entities                          4797                    117   \n9              Political                         10669                    149   \n10                 Music                          4646                    253   \n11                  Book                          5347                    112   \n0                  Brand                          6064                    160   \n1                Holiday                          4363                     85   \n2                 Person                          6535                     71   \n3   Interest and Hobbies                          6287                     97   \n4                  Sport                          4862                     55   \n5          TV and Movies                          9898                     80   \n6                  Other                          4054                    107   \n7             Video Game                          2809                     77   \n8               Entities                          4966                    143   \n9              Political                          5563                     69   \n10                 Music                         13073                     94   \n11                  Book                          3144                     61   \n12                  News                          8568                    141   \n0                  Brand                          5970                     91   \n1                Holiday                          7855                     52   \n2                 Person                          8095                     77   \n3   Interest and Hobbies                          5346                     82   \n4                  Sport                          4745                     24   \n5          TV and Movies                          7516                     36   \n6                  Other                          2526                     94   \n7             Video Game                          3938                     16   \n8               Entities                          5448                     62   \n9              Political                          4649                    127   \n10                 Music                          3425                     46   \n11                  Book                          7028                     10   \n12                  News                          7138                     20   \n\n    Average Retweeters Account Age  Average Retweeters Half Time  \\\n0                         8.352528                    212.009213   \n1                         0.000000                      0.000000   \n2                         8.394011                    182.992533   \n3                         8.264911                    132.963512   \n4                         8.288558                     84.507354   \n5                         8.722799                     65.859117   \n6                         8.431085                    133.675698   \n7                         7.331808                    178.614622   \n8                         8.422078                    121.188784   \n9                         8.582818                    134.198338   \n10                        8.302510                    256.365203   \n11                        9.402381                     59.743323   \n0                         7.816850                    150.381472   \n1                         7.990657                     55.122563   \n2                         7.930042                     74.426955   \n3                         7.716718                     82.622955   \n4                         7.793962                     47.651096   \n5                         8.146859                     70.440549   \n6                         7.423611                     72.567057   \n7                         7.003111                     71.912545   \n8                         7.854256                    124.605195   \n9                         8.571248                     59.498586   \n10                        7.789195                    132.158456   \n11                        7.515599                     53.066322   \n12                        8.423353                    160.778619   \n0                         6.923154                     98.811576   \n1                         7.320189                     44.896378   \n2                         7.134337                     75.883644   \n3                         6.753560                     81.259294   \n4                         7.118475                     16.485426   \n5                         7.540271                     35.638966   \n6                         6.621318                     86.572520   \n7                         6.236769                     15.432311   \n8                         7.177975                     56.909417   \n9                         7.144933                    157.463340   \n10                        7.796558                     30.887843   \n11                        7.803509                      8.984518   \n12                        8.013721                     12.641451   \n\n    Average Retweeters Total Time  % Time to get 50% retweets  \\\n0                      419.307408                        51.0   \n1                        0.000000                         0.0   \n2                      327.107198                        56.0   \n3                      281.288451                        47.0   \n4                      229.870827                        37.0   \n5                      202.157971                        33.0   \n6                      304.121573                        44.0   \n7                      585.821888                        30.0   \n8                      206.625629                        59.0   \n9                      402.049854                        33.0   \n10                     275.070768                        93.0   \n11                     324.526875                        18.0   \n0                      348.634154                        43.0   \n1                      240.611375                        23.0   \n2                      198.353902                        38.0   \n3                      224.862595                        37.0   \n4                      136.623606                        35.0   \n5                      179.007270                        39.0   \n6                      285.594218                        25.0   \n7                      119.788609                        60.0   \n8                      301.300224                        41.0   \n9                      257.647046                        23.0   \n10                     211.412076                        63.0   \n11                     109.502289                        48.0   \n12                     256.477053                        63.0   \n0                      195.193151                        51.0   \n1                      143.186958                        31.0   \n2                      168.100647                        45.0   \n3                      176.307309                        46.0   \n4                       75.030545                        22.0   \n5                       98.621680                        36.0   \n6                      188.643437                        46.0   \n7                       32.041607                        48.0   \n8                      158.494441                        36.0   \n9                      205.503065                        77.0   \n10                     109.918698                        28.0   \n11                      15.235219                        59.0   \n12                      81.439719                        16.0   \n\n    Average Retweeters Followers First Half  \\\n0                              11105.391071   \n1                                  0.000000   \n2                              15829.620317   \n3                               7282.800259   \n4                               8590.860558   \n5                              15741.194760   \n6                               9935.923560   \n7                              10151.492260   \n8                               9079.116136   \n9                               7418.477871   \n10                             11556.391715   \n11                              3113.170588   \n0                               9697.050715   \n1                              11375.801188   \n2                              13056.671267   \n3                              11193.941616   \n4                               8572.634510   \n5                              12334.300922   \n6                               9882.104803   \n7                               4740.722971   \n8                               6859.379723   \n9                               5928.389871   \n10                              5088.294787   \n11                              3796.265625   \n12                             11557.322335   \n0                               8857.319066   \n1                              15587.557913   \n2                              18339.616320   \n3                              10001.400499   \n4                               7397.461241   \n5                              10832.519087   \n6                               4451.763258   \n7                               4670.011728   \n8                               8290.959927   \n9                               9292.441305   \n10                              4689.127288   \n11                             11578.772727   \n12                             16470.363014   \n\n    Average Retweeters Followers Second Half  Year  \n0                               10061.662206  2019  \n1                                   0.000000  2019  \n2                               12109.044672  2019  \n3                                6245.824490  2019  \n4                                6439.157341  2019  \n5                               11741.224729  2019  \n6                                9065.060399  2019  \n7                                9482.790495  2019  \n8                                7239.322178  2019  \n9                                5909.045949  2019  \n10                               7378.488063  2019  \n11                               3067.820261  2019  \n0                                8057.164332  2020  \n1                                9148.127624  2020  \n2                               11743.674047  2020  \n3                               10256.456811  2020  \n4                                6689.225957  2020  \n5                               10969.450735  2020  \n6                               11019.379886  2020  \n7                                3894.824857  2020  \n8                                6208.138050  2020  \n9                                7305.696864  2020  \n10                               4526.600360  2020  \n11                               3375.940693  2020  \n12                               8860.506752  2020  \n0                                7118.450890  2021  \n1                               13173.154251  2021  \n2                               12210.715824  2021  \n3                                9873.135195  2021  \n4                                6250.938792  2021  \n5                                8748.360102  2021  \n6                                4088.439696  2021  \n7                                4609.064290  2021  \n8                                7826.047826  2021  \n9                                6770.397193  2021  \n10                               4460.061057  2021  \n11                               7651.747934  2021  \n12                              12957.986821  2021  ",
      "text/html": "<div>\n<style scoped>\n    .dataframe tbody tr th:only-of-type {\n        vertical-align: middle;\n    }\n\n    .dataframe tbody tr th {\n        vertical-align: top;\n    }\n\n    .dataframe thead th {\n        text-align: right;\n    }\n</style>\n<table border=\"1\" class=\"dataframe\">\n  <thead>\n    <tr style=\"text-align: right;\">\n      <th></th>\n      <th>Topic</th>\n      <th>Average Retweeters Followers</th>\n      <th>Average Retweets Time</th>\n      <th>Average Retweeters Account Age</th>\n      <th>Average Retweeters Half Time</th>\n      <th>Average Retweeters Total Time</th>\n      <th>% Time to get 50% retweets</th>\n      <th>Average Retweeters Followers First Half</th>\n      <th>Average Retweeters Followers Second Half</th>\n      <th>Year</th>\n    </tr>\n  </thead>\n  <tbody>\n    <tr>\n      <th>0</th>\n      <td>Brand</td>\n      <td>5996</td>\n      <td>214</td>\n      <td>8.352528</td>\n      <td>212.009213</td>\n      <td>419.307408</td>\n      <td>51.0</td>\n      <td>11105.391071</td>\n      <td>10061.662206</td>\n      <td>2019</td>\n    </tr>\n    <tr>\n      <th>1</th>\n      <td>Holiday</td>\n      <td>0</td>\n      <td>0</td>\n      <td>0.000000</td>\n      <td>0.000000</td>\n      <td>0.000000</td>\n      <td>0.0</td>\n      <td>0.000000</td>\n      <td>0.000000</td>\n      <td>2019</td>\n    </tr>\n    <tr>\n      <th>2</th>\n      <td>Person</td>\n      <td>7644</td>\n      <td>177</td>\n      <td>8.394011</td>\n      <td>182.992533</td>\n      <td>327.107198</td>\n      <td>56.0</td>\n      <td>15829.620317</td>\n      <td>12109.044672</td>\n      <td>2019</td>\n    </tr>\n    <tr>\n      <th>3</th>\n      <td>Interest and Hobbies</td>\n      <td>4842</td>\n      <td>143</td>\n      <td>8.264911</td>\n      <td>132.963512</td>\n      <td>281.288451</td>\n      <td>47.0</td>\n      <td>7282.800259</td>\n      <td>6245.824490</td>\n      <td>2019</td>\n    </tr>\n    <tr>\n      <th>4</th>\n      <td>Sport</td>\n      <td>4974</td>\n      <td>96</td>\n      <td>8.288558</td>\n      <td>84.507354</td>\n      <td>229.870827</td>\n      <td>37.0</td>\n      <td>8590.860558</td>\n      <td>6439.157341</td>\n      <td>2019</td>\n    </tr>\n    <tr>\n      <th>5</th>\n      <td>TV and Movies</td>\n      <td>9105</td>\n      <td>76</td>\n      <td>8.722799</td>\n      <td>65.859117</td>\n      <td>202.157971</td>\n      <td>33.0</td>\n      <td>15741.194760</td>\n      <td>11741.224729</td>\n      <td>2019</td>\n    </tr>\n    <tr>\n      <th>6</th>\n      <td>Other</td>\n      <td>6338</td>\n      <td>139</td>\n      <td>8.431085</td>\n      <td>133.675698</td>\n      <td>304.121573</td>\n      <td>44.0</td>\n      <td>9935.923560</td>\n      <td>9065.060399</td>\n      <td>2019</td>\n    </tr>\n    <tr>\n      <th>7</th>\n      <td>Video Game</td>\n      <td>4796</td>\n      <td>266</td>\n      <td>7.331808</td>\n      <td>178.614622</td>\n      <td>585.821888</td>\n      <td>30.0</td>\n      <td>10151.492260</td>\n      <td>9482.790495</td>\n      <td>2019</td>\n    </tr>\n    <tr>\n      <th>8</th>\n      <td>Entities</td>\n      <td>4797</td>\n      <td>117</td>\n      <td>8.422078</td>\n      <td>121.188784</td>\n      <td>206.625629</td>\n      <td>59.0</td>\n      <td>9079.116136</td>\n      <td>7239.322178</td>\n      <td>2019</td>\n    </tr>\n    <tr>\n      <th>9</th>\n      <td>Political</td>\n      <td>10669</td>\n      <td>149</td>\n      <td>8.582818</td>\n      <td>134.198338</td>\n      <td>402.049854</td>\n      <td>33.0</td>\n      <td>7418.477871</td>\n      <td>5909.045949</td>\n      <td>2019</td>\n    </tr>\n    <tr>\n      <th>10</th>\n      <td>Music</td>\n      <td>4646</td>\n      <td>253</td>\n      <td>8.302510</td>\n      <td>256.365203</td>\n      <td>275.070768</td>\n      <td>93.0</td>\n      <td>11556.391715</td>\n      <td>7378.488063</td>\n      <td>2019</td>\n    </tr>\n    <tr>\n      <th>11</th>\n      <td>Book</td>\n      <td>5347</td>\n      <td>112</td>\n      <td>9.402381</td>\n      <td>59.743323</td>\n      <td>324.526875</td>\n      <td>18.0</td>\n      <td>3113.170588</td>\n      <td>3067.820261</td>\n      <td>2019</td>\n    </tr>\n    <tr>\n      <th>0</th>\n      <td>Brand</td>\n      <td>6064</td>\n      <td>160</td>\n      <td>7.816850</td>\n      <td>150.381472</td>\n      <td>348.634154</td>\n      <td>43.0</td>\n      <td>9697.050715</td>\n      <td>8057.164332</td>\n      <td>2020</td>\n    </tr>\n    <tr>\n      <th>1</th>\n      <td>Holiday</td>\n      <td>4363</td>\n      <td>85</td>\n      <td>7.990657</td>\n      <td>55.122563</td>\n      <td>240.611375</td>\n      <td>23.0</td>\n      <td>11375.801188</td>\n      <td>9148.127624</td>\n      <td>2020</td>\n    </tr>\n    <tr>\n      <th>2</th>\n      <td>Person</td>\n      <td>6535</td>\n      <td>71</td>\n      <td>7.930042</td>\n      <td>74.426955</td>\n      <td>198.353902</td>\n      <td>38.0</td>\n      <td>13056.671267</td>\n      <td>11743.674047</td>\n      <td>2020</td>\n    </tr>\n    <tr>\n      <th>3</th>\n      <td>Interest and Hobbies</td>\n      <td>6287</td>\n      <td>97</td>\n      <td>7.716718</td>\n      <td>82.622955</td>\n      <td>224.862595</td>\n      <td>37.0</td>\n      <td>11193.941616</td>\n      <td>10256.456811</td>\n      <td>2020</td>\n    </tr>\n    <tr>\n      <th>4</th>\n      <td>Sport</td>\n      <td>4862</td>\n      <td>55</td>\n      <td>7.793962</td>\n      <td>47.651096</td>\n      <td>136.623606</td>\n      <td>35.0</td>\n      <td>8572.634510</td>\n      <td>6689.225957</td>\n      <td>2020</td>\n    </tr>\n    <tr>\n      <th>5</th>\n      <td>TV and Movies</td>\n      <td>9898</td>\n      <td>80</td>\n      <td>8.146859</td>\n      <td>70.440549</td>\n      <td>179.007270</td>\n      <td>39.0</td>\n      <td>12334.300922</td>\n      <td>10969.450735</td>\n      <td>2020</td>\n    </tr>\n    <tr>\n      <th>6</th>\n      <td>Other</td>\n      <td>4054</td>\n      <td>107</td>\n      <td>7.423611</td>\n      <td>72.567057</td>\n      <td>285.594218</td>\n      <td>25.0</td>\n      <td>9882.104803</td>\n      <td>11019.379886</td>\n      <td>2020</td>\n    </tr>\n    <tr>\n      <th>7</th>\n      <td>Video Game</td>\n      <td>2809</td>\n      <td>77</td>\n      <td>7.003111</td>\n      <td>71.912545</td>\n      <td>119.788609</td>\n      <td>60.0</td>\n      <td>4740.722971</td>\n      <td>3894.824857</td>\n      <td>2020</td>\n    </tr>\n    <tr>\n      <th>8</th>\n      <td>Entities</td>\n      <td>4966</td>\n      <td>143</td>\n      <td>7.854256</td>\n      <td>124.605195</td>\n      <td>301.300224</td>\n      <td>41.0</td>\n      <td>6859.379723</td>\n      <td>6208.138050</td>\n      <td>2020</td>\n    </tr>\n    <tr>\n      <th>9</th>\n      <td>Political</td>\n      <td>5563</td>\n      <td>69</td>\n      <td>8.571248</td>\n      <td>59.498586</td>\n      <td>257.647046</td>\n      <td>23.0</td>\n      <td>5928.389871</td>\n      <td>7305.696864</td>\n      <td>2020</td>\n    </tr>\n    <tr>\n      <th>10</th>\n      <td>Music</td>\n      <td>13073</td>\n      <td>94</td>\n      <td>7.789195</td>\n      <td>132.158456</td>\n      <td>211.412076</td>\n      <td>63.0</td>\n      <td>5088.294787</td>\n      <td>4526.600360</td>\n      <td>2020</td>\n    </tr>\n    <tr>\n      <th>11</th>\n      <td>Book</td>\n      <td>3144</td>\n      <td>61</td>\n      <td>7.515599</td>\n      <td>53.066322</td>\n      <td>109.502289</td>\n      <td>48.0</td>\n      <td>3796.265625</td>\n      <td>3375.940693</td>\n      <td>2020</td>\n    </tr>\n    <tr>\n      <th>12</th>\n      <td>News</td>\n      <td>8568</td>\n      <td>141</td>\n      <td>8.423353</td>\n      <td>160.778619</td>\n      <td>256.477053</td>\n      <td>63.0</td>\n      <td>11557.322335</td>\n      <td>8860.506752</td>\n      <td>2020</td>\n    </tr>\n    <tr>\n      <th>0</th>\n      <td>Brand</td>\n      <td>5970</td>\n      <td>91</td>\n      <td>6.923154</td>\n      <td>98.811576</td>\n      <td>195.193151</td>\n      <td>51.0</td>\n      <td>8857.319066</td>\n      <td>7118.450890</td>\n      <td>2021</td>\n    </tr>\n    <tr>\n      <th>1</th>\n      <td>Holiday</td>\n      <td>7855</td>\n      <td>52</td>\n      <td>7.320189</td>\n      <td>44.896378</td>\n      <td>143.186958</td>\n      <td>31.0</td>\n      <td>15587.557913</td>\n      <td>13173.154251</td>\n      <td>2021</td>\n    </tr>\n    <tr>\n      <th>2</th>\n      <td>Person</td>\n      <td>8095</td>\n      <td>77</td>\n      <td>7.134337</td>\n      <td>75.883644</td>\n      <td>168.100647</td>\n      <td>45.0</td>\n      <td>18339.616320</td>\n      <td>12210.715824</td>\n      <td>2021</td>\n    </tr>\n    <tr>\n      <th>3</th>\n      <td>Interest and Hobbies</td>\n      <td>5346</td>\n      <td>82</td>\n      <td>6.753560</td>\n      <td>81.259294</td>\n      <td>176.307309</td>\n      <td>46.0</td>\n      <td>10001.400499</td>\n      <td>9873.135195</td>\n      <td>2021</td>\n    </tr>\n    <tr>\n      <th>4</th>\n      <td>Sport</td>\n      <td>4745</td>\n      <td>24</td>\n      <td>7.118475</td>\n      <td>16.485426</td>\n      <td>75.030545</td>\n      <td>22.0</td>\n      <td>7397.461241</td>\n      <td>6250.938792</td>\n      <td>2021</td>\n    </tr>\n    <tr>\n      <th>5</th>\n      <td>TV and Movies</td>\n      <td>7516</td>\n      <td>36</td>\n      <td>7.540271</td>\n      <td>35.638966</td>\n      <td>98.621680</td>\n      <td>36.0</td>\n      <td>10832.519087</td>\n      <td>8748.360102</td>\n      <td>2021</td>\n    </tr>\n    <tr>\n      <th>6</th>\n      <td>Other</td>\n      <td>2526</td>\n      <td>94</td>\n      <td>6.621318</td>\n      <td>86.572520</td>\n      <td>188.643437</td>\n      <td>46.0</td>\n      <td>4451.763258</td>\n      <td>4088.439696</td>\n      <td>2021</td>\n    </tr>\n    <tr>\n      <th>7</th>\n      <td>Video Game</td>\n      <td>3938</td>\n      <td>16</td>\n      <td>6.236769</td>\n      <td>15.432311</td>\n      <td>32.041607</td>\n      <td>48.0</td>\n      <td>4670.011728</td>\n      <td>4609.064290</td>\n      <td>2021</td>\n    </tr>\n    <tr>\n      <th>8</th>\n      <td>Entities</td>\n      <td>5448</td>\n      <td>62</td>\n      <td>7.177975</td>\n      <td>56.909417</td>\n      <td>158.494441</td>\n      <td>36.0</td>\n      <td>8290.959927</td>\n      <td>7826.047826</td>\n      <td>2021</td>\n    </tr>\n    <tr>\n      <th>9</th>\n      <td>Political</td>\n      <td>4649</td>\n      <td>127</td>\n      <td>7.144933</td>\n      <td>157.463340</td>\n      <td>205.503065</td>\n      <td>77.0</td>\n      <td>9292.441305</td>\n      <td>6770.397193</td>\n      <td>2021</td>\n    </tr>\n    <tr>\n      <th>10</th>\n      <td>Music</td>\n      <td>3425</td>\n      <td>46</td>\n      <td>7.796558</td>\n      <td>30.887843</td>\n      <td>109.918698</td>\n      <td>28.0</td>\n      <td>4689.127288</td>\n      <td>4460.061057</td>\n      <td>2021</td>\n    </tr>\n    <tr>\n      <th>11</th>\n      <td>Book</td>\n      <td>7028</td>\n      <td>10</td>\n      <td>7.803509</td>\n      <td>8.984518</td>\n      <td>15.235219</td>\n      <td>59.0</td>\n      <td>11578.772727</td>\n      <td>7651.747934</td>\n      <td>2021</td>\n    </tr>\n    <tr>\n      <th>12</th>\n      <td>News</td>\n      <td>7138</td>\n      <td>20</td>\n      <td>8.013721</td>\n      <td>12.641451</td>\n      <td>81.439719</td>\n      <td>16.0</td>\n      <td>16470.363014</td>\n      <td>12957.986821</td>\n      <td>2021</td>\n    </tr>\n  </tbody>\n</table>\n</div>"
     },
     "execution_count": 11,
     "metadata": {},
     "output_type": "execute_result"
    }
   ],
   "source": [
    "df_retweeters_chars = retweeters_characteristics(df, df_retweets_info, 0)\n",
    "df_retweeters_chars"
   ],
   "metadata": {
    "collapsed": false,
    "pycharm": {
     "name": "#%%\n"
    }
   }
  },
  {
   "cell_type": "markdown",
   "source": [
    "### Analysing average followers count of retweeters per topic"
   ],
   "metadata": {
    "collapsed": false,
    "pycharm": {
     "name": "#%% md\n"
    }
   }
  },
  {
   "cell_type": "code",
   "execution_count": 12,
   "outputs": [
    {
     "data": {
      "application/vnd.plotly.v1+json": {
       "data": [
        {
         "alignmentgroup": "True",
         "hovertemplate": "Year=2019<br>Topic=%{x}<br>Average Retweeters Followers=%{y}<extra></extra>",
         "legendgroup": "2019",
         "marker": {
          "color": "#006D77",
          "pattern": {
           "shape": ""
          }
         },
         "name": "2019",
         "offsetgroup": "2019",
         "orientation": "v",
         "showlegend": true,
         "textposition": "auto",
         "x": [
          "Brand",
          "Holiday",
          "Person",
          "Interest and Hobbies",
          "Sport",
          "TV and Movies",
          "Other",
          "Video Game",
          "Entities",
          "Political",
          "Music",
          "Book"
         ],
         "xaxis": "x",
         "y": [
          5996,
          0,
          7644,
          4842,
          4974,
          9105,
          6338,
          4796,
          4797,
          10669,
          4646,
          5347
         ],
         "yaxis": "y",
         "type": "bar"
        },
        {
         "alignmentgroup": "True",
         "hovertemplate": "Year=2020<br>Topic=%{x}<br>Average Retweeters Followers=%{y}<extra></extra>",
         "legendgroup": "2020",
         "marker": {
          "color": "#FBD1A2",
          "pattern": {
           "shape": ""
          }
         },
         "name": "2020",
         "offsetgroup": "2020",
         "orientation": "v",
         "showlegend": true,
         "textposition": "auto",
         "x": [
          "Brand",
          "Holiday",
          "Person",
          "Interest and Hobbies",
          "Sport",
          "TV and Movies",
          "Other",
          "Video Game",
          "Entities",
          "Political",
          "Music",
          "Book",
          "News"
         ],
         "xaxis": "x",
         "y": [
          6064,
          4363,
          6535,
          6287,
          4862,
          9898,
          4054,
          2809,
          4966,
          5563,
          13073,
          3144,
          8568
         ],
         "yaxis": "y",
         "type": "bar"
        },
        {
         "alignmentgroup": "True",
         "hovertemplate": "Year=2021<br>Topic=%{x}<br>Average Retweeters Followers=%{y}<extra></extra>",
         "legendgroup": "2021",
         "marker": {
          "color": "#7DCFB6",
          "pattern": {
           "shape": ""
          }
         },
         "name": "2021",
         "offsetgroup": "2021",
         "orientation": "v",
         "showlegend": true,
         "textposition": "auto",
         "x": [
          "Brand",
          "Holiday",
          "Person",
          "Interest and Hobbies",
          "Sport",
          "TV and Movies",
          "Other",
          "Video Game",
          "Entities",
          "Political",
          "Music",
          "Book",
          "News"
         ],
         "xaxis": "x",
         "y": [
          5970,
          7855,
          8095,
          5346,
          4745,
          7516,
          2526,
          3938,
          5448,
          4649,
          3425,
          7028,
          7138
         ],
         "yaxis": "y",
         "type": "bar"
        }
       ],
       "layout": {
        "template": {
         "data": {
          "bar": [
           {
            "error_x": {
             "color": "#2a3f5f"
            },
            "error_y": {
             "color": "#2a3f5f"
            },
            "marker": {
             "line": {
              "color": "#E5ECF6",
              "width": 0.5
             },
             "pattern": {
              "fillmode": "overlay",
              "size": 10,
              "solidity": 0.2
             }
            },
            "type": "bar"
           }
          ],
          "barpolar": [
           {
            "marker": {
             "line": {
              "color": "#E5ECF6",
              "width": 0.5
             },
             "pattern": {
              "fillmode": "overlay",
              "size": 10,
              "solidity": 0.2
             }
            },
            "type": "barpolar"
           }
          ],
          "carpet": [
           {
            "aaxis": {
             "endlinecolor": "#2a3f5f",
             "gridcolor": "white",
             "linecolor": "white",
             "minorgridcolor": "white",
             "startlinecolor": "#2a3f5f"
            },
            "baxis": {
             "endlinecolor": "#2a3f5f",
             "gridcolor": "white",
             "linecolor": "white",
             "minorgridcolor": "white",
             "startlinecolor": "#2a3f5f"
            },
            "type": "carpet"
           }
          ],
          "choropleth": [
           {
            "colorbar": {
             "outlinewidth": 0,
             "ticks": ""
            },
            "type": "choropleth"
           }
          ],
          "contour": [
           {
            "colorbar": {
             "outlinewidth": 0,
             "ticks": ""
            },
            "colorscale": [
             [
              0.0,
              "#0d0887"
             ],
             [
              0.1111111111111111,
              "#46039f"
             ],
             [
              0.2222222222222222,
              "#7201a8"
             ],
             [
              0.3333333333333333,
              "#9c179e"
             ],
             [
              0.4444444444444444,
              "#bd3786"
             ],
             [
              0.5555555555555556,
              "#d8576b"
             ],
             [
              0.6666666666666666,
              "#ed7953"
             ],
             [
              0.7777777777777778,
              "#fb9f3a"
             ],
             [
              0.8888888888888888,
              "#fdca26"
             ],
             [
              1.0,
              "#f0f921"
             ]
            ],
            "type": "contour"
           }
          ],
          "contourcarpet": [
           {
            "colorbar": {
             "outlinewidth": 0,
             "ticks": ""
            },
            "type": "contourcarpet"
           }
          ],
          "heatmap": [
           {
            "colorbar": {
             "outlinewidth": 0,
             "ticks": ""
            },
            "colorscale": [
             [
              0.0,
              "#0d0887"
             ],
             [
              0.1111111111111111,
              "#46039f"
             ],
             [
              0.2222222222222222,
              "#7201a8"
             ],
             [
              0.3333333333333333,
              "#9c179e"
             ],
             [
              0.4444444444444444,
              "#bd3786"
             ],
             [
              0.5555555555555556,
              "#d8576b"
             ],
             [
              0.6666666666666666,
              "#ed7953"
             ],
             [
              0.7777777777777778,
              "#fb9f3a"
             ],
             [
              0.8888888888888888,
              "#fdca26"
             ],
             [
              1.0,
              "#f0f921"
             ]
            ],
            "type": "heatmap"
           }
          ],
          "heatmapgl": [
           {
            "colorbar": {
             "outlinewidth": 0,
             "ticks": ""
            },
            "colorscale": [
             [
              0.0,
              "#0d0887"
             ],
             [
              0.1111111111111111,
              "#46039f"
             ],
             [
              0.2222222222222222,
              "#7201a8"
             ],
             [
              0.3333333333333333,
              "#9c179e"
             ],
             [
              0.4444444444444444,
              "#bd3786"
             ],
             [
              0.5555555555555556,
              "#d8576b"
             ],
             [
              0.6666666666666666,
              "#ed7953"
             ],
             [
              0.7777777777777778,
              "#fb9f3a"
             ],
             [
              0.8888888888888888,
              "#fdca26"
             ],
             [
              1.0,
              "#f0f921"
             ]
            ],
            "type": "heatmapgl"
           }
          ],
          "histogram": [
           {
            "marker": {
             "pattern": {
              "fillmode": "overlay",
              "size": 10,
              "solidity": 0.2
             }
            },
            "type": "histogram"
           }
          ],
          "histogram2d": [
           {
            "colorbar": {
             "outlinewidth": 0,
             "ticks": ""
            },
            "colorscale": [
             [
              0.0,
              "#0d0887"
             ],
             [
              0.1111111111111111,
              "#46039f"
             ],
             [
              0.2222222222222222,
              "#7201a8"
             ],
             [
              0.3333333333333333,
              "#9c179e"
             ],
             [
              0.4444444444444444,
              "#bd3786"
             ],
             [
              0.5555555555555556,
              "#d8576b"
             ],
             [
              0.6666666666666666,
              "#ed7953"
             ],
             [
              0.7777777777777778,
              "#fb9f3a"
             ],
             [
              0.8888888888888888,
              "#fdca26"
             ],
             [
              1.0,
              "#f0f921"
             ]
            ],
            "type": "histogram2d"
           }
          ],
          "histogram2dcontour": [
           {
            "colorbar": {
             "outlinewidth": 0,
             "ticks": ""
            },
            "colorscale": [
             [
              0.0,
              "#0d0887"
             ],
             [
              0.1111111111111111,
              "#46039f"
             ],
             [
              0.2222222222222222,
              "#7201a8"
             ],
             [
              0.3333333333333333,
              "#9c179e"
             ],
             [
              0.4444444444444444,
              "#bd3786"
             ],
             [
              0.5555555555555556,
              "#d8576b"
             ],
             [
              0.6666666666666666,
              "#ed7953"
             ],
             [
              0.7777777777777778,
              "#fb9f3a"
             ],
             [
              0.8888888888888888,
              "#fdca26"
             ],
             [
              1.0,
              "#f0f921"
             ]
            ],
            "type": "histogram2dcontour"
           }
          ],
          "mesh3d": [
           {
            "colorbar": {
             "outlinewidth": 0,
             "ticks": ""
            },
            "type": "mesh3d"
           }
          ],
          "parcoords": [
           {
            "line": {
             "colorbar": {
              "outlinewidth": 0,
              "ticks": ""
             }
            },
            "type": "parcoords"
           }
          ],
          "pie": [
           {
            "automargin": true,
            "type": "pie"
           }
          ],
          "scatter": [
           {
            "marker": {
             "colorbar": {
              "outlinewidth": 0,
              "ticks": ""
             }
            },
            "type": "scatter"
           }
          ],
          "scatter3d": [
           {
            "line": {
             "colorbar": {
              "outlinewidth": 0,
              "ticks": ""
             }
            },
            "marker": {
             "colorbar": {
              "outlinewidth": 0,
              "ticks": ""
             }
            },
            "type": "scatter3d"
           }
          ],
          "scattercarpet": [
           {
            "marker": {
             "colorbar": {
              "outlinewidth": 0,
              "ticks": ""
             }
            },
            "type": "scattercarpet"
           }
          ],
          "scattergeo": [
           {
            "marker": {
             "colorbar": {
              "outlinewidth": 0,
              "ticks": ""
             }
            },
            "type": "scattergeo"
           }
          ],
          "scattergl": [
           {
            "marker": {
             "colorbar": {
              "outlinewidth": 0,
              "ticks": ""
             }
            },
            "type": "scattergl"
           }
          ],
          "scattermapbox": [
           {
            "marker": {
             "colorbar": {
              "outlinewidth": 0,
              "ticks": ""
             }
            },
            "type": "scattermapbox"
           }
          ],
          "scatterpolar": [
           {
            "marker": {
             "colorbar": {
              "outlinewidth": 0,
              "ticks": ""
             }
            },
            "type": "scatterpolar"
           }
          ],
          "scatterpolargl": [
           {
            "marker": {
             "colorbar": {
              "outlinewidth": 0,
              "ticks": ""
             }
            },
            "type": "scatterpolargl"
           }
          ],
          "scatterternary": [
           {
            "marker": {
             "colorbar": {
              "outlinewidth": 0,
              "ticks": ""
             }
            },
            "type": "scatterternary"
           }
          ],
          "surface": [
           {
            "colorbar": {
             "outlinewidth": 0,
             "ticks": ""
            },
            "colorscale": [
             [
              0.0,
              "#0d0887"
             ],
             [
              0.1111111111111111,
              "#46039f"
             ],
             [
              0.2222222222222222,
              "#7201a8"
             ],
             [
              0.3333333333333333,
              "#9c179e"
             ],
             [
              0.4444444444444444,
              "#bd3786"
             ],
             [
              0.5555555555555556,
              "#d8576b"
             ],
             [
              0.6666666666666666,
              "#ed7953"
             ],
             [
              0.7777777777777778,
              "#fb9f3a"
             ],
             [
              0.8888888888888888,
              "#fdca26"
             ],
             [
              1.0,
              "#f0f921"
             ]
            ],
            "type": "surface"
           }
          ],
          "table": [
           {
            "cells": {
             "fill": {
              "color": "#EBF0F8"
             },
             "line": {
              "color": "white"
             }
            },
            "header": {
             "fill": {
              "color": "#C8D4E3"
             },
             "line": {
              "color": "white"
             }
            },
            "type": "table"
           }
          ]
         },
         "layout": {
          "annotationdefaults": {
           "arrowcolor": "#2a3f5f",
           "arrowhead": 0,
           "arrowwidth": 1
          },
          "autotypenumbers": "strict",
          "coloraxis": {
           "colorbar": {
            "outlinewidth": 0,
            "ticks": ""
           }
          },
          "colorscale": {
           "diverging": [
            [
             0,
             "#8e0152"
            ],
            [
             0.1,
             "#c51b7d"
            ],
            [
             0.2,
             "#de77ae"
            ],
            [
             0.3,
             "#f1b6da"
            ],
            [
             0.4,
             "#fde0ef"
            ],
            [
             0.5,
             "#f7f7f7"
            ],
            [
             0.6,
             "#e6f5d0"
            ],
            [
             0.7,
             "#b8e186"
            ],
            [
             0.8,
             "#7fbc41"
            ],
            [
             0.9,
             "#4d9221"
            ],
            [
             1,
             "#276419"
            ]
           ],
           "sequential": [
            [
             0.0,
             "#0d0887"
            ],
            [
             0.1111111111111111,
             "#46039f"
            ],
            [
             0.2222222222222222,
             "#7201a8"
            ],
            [
             0.3333333333333333,
             "#9c179e"
            ],
            [
             0.4444444444444444,
             "#bd3786"
            ],
            [
             0.5555555555555556,
             "#d8576b"
            ],
            [
             0.6666666666666666,
             "#ed7953"
            ],
            [
             0.7777777777777778,
             "#fb9f3a"
            ],
            [
             0.8888888888888888,
             "#fdca26"
            ],
            [
             1.0,
             "#f0f921"
            ]
           ],
           "sequentialminus": [
            [
             0.0,
             "#0d0887"
            ],
            [
             0.1111111111111111,
             "#46039f"
            ],
            [
             0.2222222222222222,
             "#7201a8"
            ],
            [
             0.3333333333333333,
             "#9c179e"
            ],
            [
             0.4444444444444444,
             "#bd3786"
            ],
            [
             0.5555555555555556,
             "#d8576b"
            ],
            [
             0.6666666666666666,
             "#ed7953"
            ],
            [
             0.7777777777777778,
             "#fb9f3a"
            ],
            [
             0.8888888888888888,
             "#fdca26"
            ],
            [
             1.0,
             "#f0f921"
            ]
           ]
          },
          "colorway": [
           "#636efa",
           "#EF553B",
           "#00cc96",
           "#ab63fa",
           "#FFA15A",
           "#19d3f3",
           "#FF6692",
           "#B6E880",
           "#FF97FF",
           "#FECB52"
          ],
          "font": {
           "color": "#2a3f5f"
          },
          "geo": {
           "bgcolor": "white",
           "lakecolor": "white",
           "landcolor": "#E5ECF6",
           "showlakes": true,
           "showland": true,
           "subunitcolor": "white"
          },
          "hoverlabel": {
           "align": "left"
          },
          "hovermode": "closest",
          "mapbox": {
           "style": "light"
          },
          "paper_bgcolor": "white",
          "plot_bgcolor": "#E5ECF6",
          "polar": {
           "angularaxis": {
            "gridcolor": "white",
            "linecolor": "white",
            "ticks": ""
           },
           "bgcolor": "#E5ECF6",
           "radialaxis": {
            "gridcolor": "white",
            "linecolor": "white",
            "ticks": ""
           }
          },
          "scene": {
           "xaxis": {
            "backgroundcolor": "#E5ECF6",
            "gridcolor": "white",
            "gridwidth": 2,
            "linecolor": "white",
            "showbackground": true,
            "ticks": "",
            "zerolinecolor": "white"
           },
           "yaxis": {
            "backgroundcolor": "#E5ECF6",
            "gridcolor": "white",
            "gridwidth": 2,
            "linecolor": "white",
            "showbackground": true,
            "ticks": "",
            "zerolinecolor": "white"
           },
           "zaxis": {
            "backgroundcolor": "#E5ECF6",
            "gridcolor": "white",
            "gridwidth": 2,
            "linecolor": "white",
            "showbackground": true,
            "ticks": "",
            "zerolinecolor": "white"
           }
          },
          "shapedefaults": {
           "line": {
            "color": "#2a3f5f"
           }
          },
          "ternary": {
           "aaxis": {
            "gridcolor": "white",
            "linecolor": "white",
            "ticks": ""
           },
           "baxis": {
            "gridcolor": "white",
            "linecolor": "white",
            "ticks": ""
           },
           "bgcolor": "#E5ECF6",
           "caxis": {
            "gridcolor": "white",
            "linecolor": "white",
            "ticks": ""
           }
          },
          "title": {
           "x": 0.05
          },
          "xaxis": {
           "automargin": true,
           "gridcolor": "white",
           "linecolor": "white",
           "ticks": "",
           "title": {
            "standoff": 15
           },
           "zerolinecolor": "white",
           "zerolinewidth": 2
          },
          "yaxis": {
           "automargin": true,
           "gridcolor": "white",
           "linecolor": "white",
           "ticks": "",
           "title": {
            "standoff": 15
           },
           "zerolinecolor": "white",
           "zerolinewidth": 2
          }
         }
        },
        "xaxis": {
         "anchor": "y",
         "domain": [
          0.0,
          1.0
         ],
         "title": {
          "text": "Topic"
         },
         "categoryorder": "array",
         "categoryarray": [
          "Brand",
          "Holiday",
          "Person",
          "Interest and Hobbies",
          "Sport",
          "TV and Movies",
          "Other",
          "Video Game",
          "Entities",
          "Political",
          "Music",
          "Book",
          "News"
         ]
        },
        "yaxis": {
         "anchor": "x",
         "domain": [
          0.0,
          1.0
         ],
         "title": {
          "text": "Average Retweeters Followers"
         }
        },
        "legend": {
         "title": {
          "text": "Year"
         },
         "tracegroupgap": 0
        },
        "margin": {
         "t": 60
        },
        "barmode": "group",
        "title": {
         "text": "Analysing average followers count of retweeters per topic"
        },
        "width": 1100,
        "height": 500
       },
       "config": {
        "plotlyServerURL": "https://plot.ly"
       }
      },
      "text/html": "<div>                            <div id=\"7d7ce029-7ff1-4885-a7a8-c7f5891e2ad3\" class=\"plotly-graph-div\" style=\"height:500px; width:1100px;\"></div>            <script type=\"text/javascript\">                require([\"plotly\"], function(Plotly) {                    window.PLOTLYENV=window.PLOTLYENV || {};                                    if (document.getElementById(\"7d7ce029-7ff1-4885-a7a8-c7f5891e2ad3\")) {                    Plotly.newPlot(                        \"7d7ce029-7ff1-4885-a7a8-c7f5891e2ad3\",                        [{\"alignmentgroup\":\"True\",\"hovertemplate\":\"Year=2019<br>Topic=%{x}<br>Average Retweeters Followers=%{y}<extra></extra>\",\"legendgroup\":\"2019\",\"marker\":{\"color\":\"#006D77\",\"pattern\":{\"shape\":\"\"}},\"name\":\"2019\",\"offsetgroup\":\"2019\",\"orientation\":\"v\",\"showlegend\":true,\"textposition\":\"auto\",\"x\":[\"Brand\",\"Holiday\",\"Person\",\"Interest and Hobbies\",\"Sport\",\"TV and Movies\",\"Other\",\"Video Game\",\"Entities\",\"Political\",\"Music\",\"Book\"],\"xaxis\":\"x\",\"y\":[5996,0,7644,4842,4974,9105,6338,4796,4797,10669,4646,5347],\"yaxis\":\"y\",\"type\":\"bar\"},{\"alignmentgroup\":\"True\",\"hovertemplate\":\"Year=2020<br>Topic=%{x}<br>Average Retweeters Followers=%{y}<extra></extra>\",\"legendgroup\":\"2020\",\"marker\":{\"color\":\"#FBD1A2\",\"pattern\":{\"shape\":\"\"}},\"name\":\"2020\",\"offsetgroup\":\"2020\",\"orientation\":\"v\",\"showlegend\":true,\"textposition\":\"auto\",\"x\":[\"Brand\",\"Holiday\",\"Person\",\"Interest and Hobbies\",\"Sport\",\"TV and Movies\",\"Other\",\"Video Game\",\"Entities\",\"Political\",\"Music\",\"Book\",\"News\"],\"xaxis\":\"x\",\"y\":[6064,4363,6535,6287,4862,9898,4054,2809,4966,5563,13073,3144,8568],\"yaxis\":\"y\",\"type\":\"bar\"},{\"alignmentgroup\":\"True\",\"hovertemplate\":\"Year=2021<br>Topic=%{x}<br>Average Retweeters Followers=%{y}<extra></extra>\",\"legendgroup\":\"2021\",\"marker\":{\"color\":\"#7DCFB6\",\"pattern\":{\"shape\":\"\"}},\"name\":\"2021\",\"offsetgroup\":\"2021\",\"orientation\":\"v\",\"showlegend\":true,\"textposition\":\"auto\",\"x\":[\"Brand\",\"Holiday\",\"Person\",\"Interest and Hobbies\",\"Sport\",\"TV and Movies\",\"Other\",\"Video Game\",\"Entities\",\"Political\",\"Music\",\"Book\",\"News\"],\"xaxis\":\"x\",\"y\":[5970,7855,8095,5346,4745,7516,2526,3938,5448,4649,3425,7028,7138],\"yaxis\":\"y\",\"type\":\"bar\"}],                        {\"template\":{\"data\":{\"bar\":[{\"error_x\":{\"color\":\"#2a3f5f\"},\"error_y\":{\"color\":\"#2a3f5f\"},\"marker\":{\"line\":{\"color\":\"#E5ECF6\",\"width\":0.5},\"pattern\":{\"fillmode\":\"overlay\",\"size\":10,\"solidity\":0.2}},\"type\":\"bar\"}],\"barpolar\":[{\"marker\":{\"line\":{\"color\":\"#E5ECF6\",\"width\":0.5},\"pattern\":{\"fillmode\":\"overlay\",\"size\":10,\"solidity\":0.2}},\"type\":\"barpolar\"}],\"carpet\":[{\"aaxis\":{\"endlinecolor\":\"#2a3f5f\",\"gridcolor\":\"white\",\"linecolor\":\"white\",\"minorgridcolor\":\"white\",\"startlinecolor\":\"#2a3f5f\"},\"baxis\":{\"endlinecolor\":\"#2a3f5f\",\"gridcolor\":\"white\",\"linecolor\":\"white\",\"minorgridcolor\":\"white\",\"startlinecolor\":\"#2a3f5f\"},\"type\":\"carpet\"}],\"choropleth\":[{\"colorbar\":{\"outlinewidth\":0,\"ticks\":\"\"},\"type\":\"choropleth\"}],\"contour\":[{\"colorbar\":{\"outlinewidth\":0,\"ticks\":\"\"},\"colorscale\":[[0.0,\"#0d0887\"],[0.1111111111111111,\"#46039f\"],[0.2222222222222222,\"#7201a8\"],[0.3333333333333333,\"#9c179e\"],[0.4444444444444444,\"#bd3786\"],[0.5555555555555556,\"#d8576b\"],[0.6666666666666666,\"#ed7953\"],[0.7777777777777778,\"#fb9f3a\"],[0.8888888888888888,\"#fdca26\"],[1.0,\"#f0f921\"]],\"type\":\"contour\"}],\"contourcarpet\":[{\"colorbar\":{\"outlinewidth\":0,\"ticks\":\"\"},\"type\":\"contourcarpet\"}],\"heatmap\":[{\"colorbar\":{\"outlinewidth\":0,\"ticks\":\"\"},\"colorscale\":[[0.0,\"#0d0887\"],[0.1111111111111111,\"#46039f\"],[0.2222222222222222,\"#7201a8\"],[0.3333333333333333,\"#9c179e\"],[0.4444444444444444,\"#bd3786\"],[0.5555555555555556,\"#d8576b\"],[0.6666666666666666,\"#ed7953\"],[0.7777777777777778,\"#fb9f3a\"],[0.8888888888888888,\"#fdca26\"],[1.0,\"#f0f921\"]],\"type\":\"heatmap\"}],\"heatmapgl\":[{\"colorbar\":{\"outlinewidth\":0,\"ticks\":\"\"},\"colorscale\":[[0.0,\"#0d0887\"],[0.1111111111111111,\"#46039f\"],[0.2222222222222222,\"#7201a8\"],[0.3333333333333333,\"#9c179e\"],[0.4444444444444444,\"#bd3786\"],[0.5555555555555556,\"#d8576b\"],[0.6666666666666666,\"#ed7953\"],[0.7777777777777778,\"#fb9f3a\"],[0.8888888888888888,\"#fdca26\"],[1.0,\"#f0f921\"]],\"type\":\"heatmapgl\"}],\"histogram\":[{\"marker\":{\"pattern\":{\"fillmode\":\"overlay\",\"size\":10,\"solidity\":0.2}},\"type\":\"histogram\"}],\"histogram2d\":[{\"colorbar\":{\"outlinewidth\":0,\"ticks\":\"\"},\"colorscale\":[[0.0,\"#0d0887\"],[0.1111111111111111,\"#46039f\"],[0.2222222222222222,\"#7201a8\"],[0.3333333333333333,\"#9c179e\"],[0.4444444444444444,\"#bd3786\"],[0.5555555555555556,\"#d8576b\"],[0.6666666666666666,\"#ed7953\"],[0.7777777777777778,\"#fb9f3a\"],[0.8888888888888888,\"#fdca26\"],[1.0,\"#f0f921\"]],\"type\":\"histogram2d\"}],\"histogram2dcontour\":[{\"colorbar\":{\"outlinewidth\":0,\"ticks\":\"\"},\"colorscale\":[[0.0,\"#0d0887\"],[0.1111111111111111,\"#46039f\"],[0.2222222222222222,\"#7201a8\"],[0.3333333333333333,\"#9c179e\"],[0.4444444444444444,\"#bd3786\"],[0.5555555555555556,\"#d8576b\"],[0.6666666666666666,\"#ed7953\"],[0.7777777777777778,\"#fb9f3a\"],[0.8888888888888888,\"#fdca26\"],[1.0,\"#f0f921\"]],\"type\":\"histogram2dcontour\"}],\"mesh3d\":[{\"colorbar\":{\"outlinewidth\":0,\"ticks\":\"\"},\"type\":\"mesh3d\"}],\"parcoords\":[{\"line\":{\"colorbar\":{\"outlinewidth\":0,\"ticks\":\"\"}},\"type\":\"parcoords\"}],\"pie\":[{\"automargin\":true,\"type\":\"pie\"}],\"scatter\":[{\"marker\":{\"colorbar\":{\"outlinewidth\":0,\"ticks\":\"\"}},\"type\":\"scatter\"}],\"scatter3d\":[{\"line\":{\"colorbar\":{\"outlinewidth\":0,\"ticks\":\"\"}},\"marker\":{\"colorbar\":{\"outlinewidth\":0,\"ticks\":\"\"}},\"type\":\"scatter3d\"}],\"scattercarpet\":[{\"marker\":{\"colorbar\":{\"outlinewidth\":0,\"ticks\":\"\"}},\"type\":\"scattercarpet\"}],\"scattergeo\":[{\"marker\":{\"colorbar\":{\"outlinewidth\":0,\"ticks\":\"\"}},\"type\":\"scattergeo\"}],\"scattergl\":[{\"marker\":{\"colorbar\":{\"outlinewidth\":0,\"ticks\":\"\"}},\"type\":\"scattergl\"}],\"scattermapbox\":[{\"marker\":{\"colorbar\":{\"outlinewidth\":0,\"ticks\":\"\"}},\"type\":\"scattermapbox\"}],\"scatterpolar\":[{\"marker\":{\"colorbar\":{\"outlinewidth\":0,\"ticks\":\"\"}},\"type\":\"scatterpolar\"}],\"scatterpolargl\":[{\"marker\":{\"colorbar\":{\"outlinewidth\":0,\"ticks\":\"\"}},\"type\":\"scatterpolargl\"}],\"scatterternary\":[{\"marker\":{\"colorbar\":{\"outlinewidth\":0,\"ticks\":\"\"}},\"type\":\"scatterternary\"}],\"surface\":[{\"colorbar\":{\"outlinewidth\":0,\"ticks\":\"\"},\"colorscale\":[[0.0,\"#0d0887\"],[0.1111111111111111,\"#46039f\"],[0.2222222222222222,\"#7201a8\"],[0.3333333333333333,\"#9c179e\"],[0.4444444444444444,\"#bd3786\"],[0.5555555555555556,\"#d8576b\"],[0.6666666666666666,\"#ed7953\"],[0.7777777777777778,\"#fb9f3a\"],[0.8888888888888888,\"#fdca26\"],[1.0,\"#f0f921\"]],\"type\":\"surface\"}],\"table\":[{\"cells\":{\"fill\":{\"color\":\"#EBF0F8\"},\"line\":{\"color\":\"white\"}},\"header\":{\"fill\":{\"color\":\"#C8D4E3\"},\"line\":{\"color\":\"white\"}},\"type\":\"table\"}]},\"layout\":{\"annotationdefaults\":{\"arrowcolor\":\"#2a3f5f\",\"arrowhead\":0,\"arrowwidth\":1},\"autotypenumbers\":\"strict\",\"coloraxis\":{\"colorbar\":{\"outlinewidth\":0,\"ticks\":\"\"}},\"colorscale\":{\"diverging\":[[0,\"#8e0152\"],[0.1,\"#c51b7d\"],[0.2,\"#de77ae\"],[0.3,\"#f1b6da\"],[0.4,\"#fde0ef\"],[0.5,\"#f7f7f7\"],[0.6,\"#e6f5d0\"],[0.7,\"#b8e186\"],[0.8,\"#7fbc41\"],[0.9,\"#4d9221\"],[1,\"#276419\"]],\"sequential\":[[0.0,\"#0d0887\"],[0.1111111111111111,\"#46039f\"],[0.2222222222222222,\"#7201a8\"],[0.3333333333333333,\"#9c179e\"],[0.4444444444444444,\"#bd3786\"],[0.5555555555555556,\"#d8576b\"],[0.6666666666666666,\"#ed7953\"],[0.7777777777777778,\"#fb9f3a\"],[0.8888888888888888,\"#fdca26\"],[1.0,\"#f0f921\"]],\"sequentialminus\":[[0.0,\"#0d0887\"],[0.1111111111111111,\"#46039f\"],[0.2222222222222222,\"#7201a8\"],[0.3333333333333333,\"#9c179e\"],[0.4444444444444444,\"#bd3786\"],[0.5555555555555556,\"#d8576b\"],[0.6666666666666666,\"#ed7953\"],[0.7777777777777778,\"#fb9f3a\"],[0.8888888888888888,\"#fdca26\"],[1.0,\"#f0f921\"]]},\"colorway\":[\"#636efa\",\"#EF553B\",\"#00cc96\",\"#ab63fa\",\"#FFA15A\",\"#19d3f3\",\"#FF6692\",\"#B6E880\",\"#FF97FF\",\"#FECB52\"],\"font\":{\"color\":\"#2a3f5f\"},\"geo\":{\"bgcolor\":\"white\",\"lakecolor\":\"white\",\"landcolor\":\"#E5ECF6\",\"showlakes\":true,\"showland\":true,\"subunitcolor\":\"white\"},\"hoverlabel\":{\"align\":\"left\"},\"hovermode\":\"closest\",\"mapbox\":{\"style\":\"light\"},\"paper_bgcolor\":\"white\",\"plot_bgcolor\":\"#E5ECF6\",\"polar\":{\"angularaxis\":{\"gridcolor\":\"white\",\"linecolor\":\"white\",\"ticks\":\"\"},\"bgcolor\":\"#E5ECF6\",\"radialaxis\":{\"gridcolor\":\"white\",\"linecolor\":\"white\",\"ticks\":\"\"}},\"scene\":{\"xaxis\":{\"backgroundcolor\":\"#E5ECF6\",\"gridcolor\":\"white\",\"gridwidth\":2,\"linecolor\":\"white\",\"showbackground\":true,\"ticks\":\"\",\"zerolinecolor\":\"white\"},\"yaxis\":{\"backgroundcolor\":\"#E5ECF6\",\"gridcolor\":\"white\",\"gridwidth\":2,\"linecolor\":\"white\",\"showbackground\":true,\"ticks\":\"\",\"zerolinecolor\":\"white\"},\"zaxis\":{\"backgroundcolor\":\"#E5ECF6\",\"gridcolor\":\"white\",\"gridwidth\":2,\"linecolor\":\"white\",\"showbackground\":true,\"ticks\":\"\",\"zerolinecolor\":\"white\"}},\"shapedefaults\":{\"line\":{\"color\":\"#2a3f5f\"}},\"ternary\":{\"aaxis\":{\"gridcolor\":\"white\",\"linecolor\":\"white\",\"ticks\":\"\"},\"baxis\":{\"gridcolor\":\"white\",\"linecolor\":\"white\",\"ticks\":\"\"},\"bgcolor\":\"#E5ECF6\",\"caxis\":{\"gridcolor\":\"white\",\"linecolor\":\"white\",\"ticks\":\"\"}},\"title\":{\"x\":0.05},\"xaxis\":{\"automargin\":true,\"gridcolor\":\"white\",\"linecolor\":\"white\",\"ticks\":\"\",\"title\":{\"standoff\":15},\"zerolinecolor\":\"white\",\"zerolinewidth\":2},\"yaxis\":{\"automargin\":true,\"gridcolor\":\"white\",\"linecolor\":\"white\",\"ticks\":\"\",\"title\":{\"standoff\":15},\"zerolinecolor\":\"white\",\"zerolinewidth\":2}}},\"xaxis\":{\"anchor\":\"y\",\"domain\":[0.0,1.0],\"title\":{\"text\":\"Topic\"},\"categoryorder\":\"array\",\"categoryarray\":[\"Brand\",\"Holiday\",\"Person\",\"Interest and Hobbies\",\"Sport\",\"TV and Movies\",\"Other\",\"Video Game\",\"Entities\",\"Political\",\"Music\",\"Book\",\"News\"]},\"yaxis\":{\"anchor\":\"x\",\"domain\":[0.0,1.0],\"title\":{\"text\":\"Average Retweeters Followers\"}},\"legend\":{\"title\":{\"text\":\"Year\"},\"tracegroupgap\":0},\"margin\":{\"t\":60},\"barmode\":\"group\",\"title\":{\"text\":\"Analysing average followers count of retweeters per topic\"},\"width\":1100,\"height\":500},                        {\"responsive\": true}                    ).then(function(){\n                            \nvar gd = document.getElementById('7d7ce029-7ff1-4885-a7a8-c7f5891e2ad3');\nvar x = new MutationObserver(function (mutations, observer) {{\n        var display = window.getComputedStyle(gd).display;\n        if (!display || display === 'none') {{\n            console.log([gd, 'removed!']);\n            Plotly.purge(gd);\n            observer.disconnect();\n        }}\n}});\n\n// Listen for the removal of the full notebook cells\nvar notebookContainer = gd.closest('#notebook-container');\nif (notebookContainer) {{\n    x.observe(notebookContainer, {childList: true});\n}}\n\n// Listen for the clearing of the current output cell\nvar outputEl = gd.closest('.output');\nif (outputEl) {{\n    x.observe(outputEl, {childList: true});\n}}\n\n                        })                };                });            </script>        </div>"
     },
     "metadata": {},
     "output_type": "display_data"
    }
   ],
   "source": [
    "retweeters_info_chart(df_retweeters_chars, topics_categories, \"Topic\", 'Average Retweeters Followers', \"Analysing average followers count of retweeters per topic\", offline_charts)"
   ],
   "metadata": {
    "collapsed": false,
    "pycharm": {
     "name": "#%%\n"
    }
   }
  },
  {
   "cell_type": "markdown",
   "source": [
    "### Analysing average retweet time ratio of retweeters per topic"
   ],
   "metadata": {
    "collapsed": false,
    "pycharm": {
     "name": "#%% md\n"
    }
   }
  },
  {
   "cell_type": "code",
   "execution_count": null,
   "outputs": [],
   "source": [
    "retweeters_info_chart(df_retweeters_chars, topics_categories, \"Topic\", \"Average Retweets Time\", \"Analysing average retweet time ratio of retweeters per topic\", offline_charts)"
   ],
   "metadata": {
    "collapsed": false,
    "pycharm": {
     "name": "#%%\n"
    }
   }
  },
  {
   "cell_type": "markdown",
   "source": [
    "### Analysing average retweeter's account age per topic"
   ],
   "metadata": {
    "collapsed": false,
    "pycharm": {
     "name": "#%% md\n"
    }
   }
  },
  {
   "cell_type": "code",
   "execution_count": null,
   "outputs": [],
   "source": [
    "retweeters_info_chart(df_retweeters_chars, topics_categories, \"Topic\", \"Average Retweeters Account Age\", \"Analysing average retweeters account age per topic\", offline_charts)"
   ],
   "metadata": {
    "collapsed": false,
    "pycharm": {
     "name": "#%%\n"
    }
   }
  },
  {
   "cell_type": "markdown",
   "source": [
    "### Analysing influencers impact on tweet sharing in popular tweets"
   ],
   "metadata": {
    "collapsed": false,
    "pycharm": {
     "name": "#%% md\n"
    }
   }
  },
  {
   "cell_type": "code",
   "execution_count": null,
   "outputs": [],
   "source": [
    "df[df['retweet_count'] > 10].shape[0] / df[df['retweet_count'] > 0].shape[0]"
   ],
   "metadata": {
    "collapsed": false,
    "pycharm": {
     "name": "#%%\n"
    }
   }
  },
  {
   "cell_type": "code",
   "execution_count": null,
   "outputs": [],
   "source": [
    "df_retweeters_chars_10 = retweeters_characteristics(df, df_retweets_info, 10)\n",
    "df_retweeters_chars_10"
   ],
   "metadata": {
    "collapsed": false,
    "pycharm": {
     "name": "#%%\n"
    }
   }
  },
  {
   "cell_type": "code",
   "execution_count": null,
   "outputs": [],
   "source": [
    "analysis_chart(df_retweeters_chars_10, \"Topic\", 'Average Retweeters Half Time', 'Average Retweeters Total Time', \"Topics\", 'Average nº of hours to get 50% retweets', 'Average nº of hours to get all retweets', \"Average number of hours to get the retweets split by median\", offline_charts)"
   ],
   "metadata": {
    "collapsed": false,
    "pycharm": {
     "name": "#%%\n"
    }
   }
  },
  {
   "cell_type": "code",
   "execution_count": null,
   "outputs": [],
   "source": [
    "analysis_chart(df_retweeters_chars_10, \"Topic\", 'Average Retweeters Followers First Half', 'Average Retweeters Followers Second Half', \"Topics\", 'Average Retweeters Followers First Half', 'Average Retweeters Followers Second Half', \"Average retweeters followers count split by median\", offline_charts)"
   ],
   "metadata": {
    "collapsed": false,
    "pycharm": {
     "name": "#%%\n"
    }
   }
  },
  {
   "cell_type": "code",
   "execution_count": null,
   "outputs": [],
   "source": [],
   "metadata": {
    "collapsed": false,
    "pycharm": {
     "name": "#%%\n"
    }
   }
  }
 ],
 "metadata": {
  "kernelspec": {
   "display_name": "Python 3",
   "language": "python",
   "name": "python3"
  },
  "language_info": {
   "codemirror_mode": {
    "name": "ipython",
    "version": 2
   },
   "file_extension": ".py",
   "mimetype": "text/x-python",
   "name": "python",
   "nbconvert_exporter": "python",
   "pygments_lexer": "ipython2",
   "version": "2.7.6"
  }
 },
 "nbformat": 4,
 "nbformat_minor": 0
}