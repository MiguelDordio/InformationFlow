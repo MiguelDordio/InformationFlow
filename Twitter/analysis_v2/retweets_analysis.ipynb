{
 "cells": [
  {
   "cell_type": "code",
   "execution_count": 58,
   "outputs": [],
   "source": [
    "import numpy as np\n",
    "import pandas as pd\n",
    "import plotly\n",
    "import plotly.graph_objects as go\n",
    "import plotly.express as px\n",
    "from plotly.subplots import make_subplots\n",
    "from os import walk\n",
    "import datetime\n",
    "from statistics import mean\n",
    "from dateutil.relativedelta import relativedelta\n",
    "import seaborn as sns\n",
    "sns.set()"
   ],
   "metadata": {
    "collapsed": false,
    "pycharm": {
     "name": "#%%\n"
    }
   }
  },
  {
   "cell_type": "markdown",
   "source": [
    "# Data Import and overview"
   ],
   "metadata": {
    "collapsed": false,
    "pycharm": {
     "name": "#%% md\n"
    }
   }
  },
  {
   "cell_type": "code",
   "execution_count": 31,
   "outputs": [],
   "source": [
    "DATASETS_PATH = \"../../data/processed_tweets/\"\n",
    "DATASETS_RETWEETS_PATH = \"../../data/processed_retweets/\"\n",
    "\n",
    "processed_filenames = next(walk(DATASETS_PATH), (None, None, []))[2]\n",
    "filenames = [DATASETS_PATH + \"/\" + filename for filename in processed_filenames]\n",
    "\n",
    "processed_retweets_filenames = next(walk(DATASETS_RETWEETS_PATH), (None, None, []))[2]\n",
    "retweets_filenames = [DATASETS_RETWEETS_PATH + \"/\" + filename for filename in processed_retweets_filenames]"
   ],
   "metadata": {
    "collapsed": false,
    "pycharm": {
     "name": "#%%\n"
    }
   }
  },
  {
   "cell_type": "code",
   "execution_count": 32,
   "outputs": [],
   "source": [
    "def essemble_dataset(filenames):\n",
    "    df = pd.DataFrame()\n",
    "    for filename in filenames:\n",
    "        df_temp = pd.read_csv(filepath_or_buffer=filename, sep=\",\", engine=None)\n",
    "        df_temp['timestamp'] = pd.to_datetime(df_temp['timestamp'])\n",
    "        df_temp['timestamp'] = [i.replace(tzinfo=datetime.timezone.utc) for i in df_temp['timestamp']]\n",
    "        df_temp = df_temp.sort_values(by='timestamp', ascending=True)\n",
    "        df_temp = df_temp.drop(['index', 'Unnamed: 0'], axis=1)\n",
    "        df = pd.concat([df, pd.DataFrame.from_records(df_temp)])\n",
    "    return df.reset_index()"
   ],
   "metadata": {
    "collapsed": false,
    "pycharm": {
     "name": "#%%\n"
    }
   }
  },
  {
   "cell_type": "code",
   "execution_count": 33,
   "outputs": [
    {
     "data": {
      "text/plain": "          index             tweet_id  \\\n0             0  1079904885246705665   \n1             1  1079904884445581312   \n2             2  1079904885175476224   \n3             3  1079904885531791360   \n4             4  1079904886513430528   \n...         ...                  ...   \n1595869  533370  1477036834261770241   \n1595870  533371  1477036835603836932   \n1595871  533372  1477036838217035777   \n1595872  533373  1477036840024567809   \n1595873  533374  1477036841933185025   \n\n                                                      text  \\\n0                               I’ll never salt you down 😌   \n1        You know who you are; but some of you I’ve fol...   \n2             Oh she a freak freak https://t.co/uJqYxJUGgg   \n3                       Don’t forget your red thong ladies   \n4        Mirage Mirror Hour of Devastation Artist Greg ...   \n...                                                    ...   \n1595869            …. them crawfish was so good yall lmfao   \n1595870  Damn all the freaks are at the New Bev right n...   \n1595871  Fast And Professional Vehicle Lockout Service ...   \n1595872             Very much this https://t.co/b3bgtstLfr   \n1595873           Best thread ever https://t.co/EBo4JkTCx4   \n\n                  timestamp             user_id  like_count  retweet_count  \\\n0       2019-01-01 00:59:22           497001647           0              0   \n1       2019-01-01 00:59:22           112542289           2              1   \n2       2019-01-01 00:59:22          2372981097           0              0   \n3       2019-01-01 00:59:23          2446281619           2              0   \n4       2019-01-01 00:59:23            71949265           0              0   \n...                     ...                 ...         ...            ...   \n1595869 2021-12-31 21:59:57  795707439219884037           0              0   \n1595870 2021-12-31 21:59:58            34679503          26              0   \n1595871 2021-12-31 21:59:58           210241982           0              0   \n1595872 2021-12-31 21:59:59           883576549           3              0   \n1595873 2021-12-31 21:59:59           131371694           0              0   \n\n         quote_count  reply_count  reach  ...            day_phase week_idx  \\\n0                  0            0   1468  ...  Middle of the night  2019-01   \n1                  0            0   2969  ...  Middle of the night  2019-01   \n2                  0            0    809  ...  Middle of the night  2019-01   \n3                  0            0    112  ...  Middle of the night  2019-01   \n4                  0            0     49  ...  Middle of the night  2019-01   \n...              ...          ...    ...  ...                  ...      ...   \n1595869            0            0   1826  ...                Night  2021-52   \n1595870            0            0  10636  ...                Night  2021-52   \n1595871            0            0    394  ...                Night  2021-52   \n1595872            0            0    702  ...                Night  2021-52   \n1595873            0            0     57  ...                Night  2021-52   \n\n        day_phase_enc day_of_week_enc  month_enc  year_enc  sentiment_enc  \\\n0                   2               5          4         0              2   \n1                   2               5          4         0              2   \n2                   2               5          4         0              0   \n3                   2               5          4         0              0   \n4                   2               5          4         0              0   \n...               ...             ...        ...       ...            ...   \n1595869             4               0          2         0              2   \n1595870             4               0          2         0              1   \n1595871             4               0          2         0              0   \n1595872             4               0          2         0              1   \n1595873             4               0          2         0              2   \n\n         verified_enc  hashtags_enc  seniority  \n0                   0             0         10  \n1                   0             0         12  \n2                   0             0          8  \n3                   0             0          8  \n4                   0             0         12  \n...               ...           ...        ...  \n1595869             0             0          5  \n1595870             0             0         13  \n1595871             0             0         11  \n1595872             0             0          9  \n1595873             0             0         12  \n\n[1595874 rows x 34 columns]",
      "text/html": "<div>\n<style scoped>\n    .dataframe tbody tr th:only-of-type {\n        vertical-align: middle;\n    }\n\n    .dataframe tbody tr th {\n        vertical-align: top;\n    }\n\n    .dataframe thead th {\n        text-align: right;\n    }\n</style>\n<table border=\"1\" class=\"dataframe\">\n  <thead>\n    <tr style=\"text-align: right;\">\n      <th></th>\n      <th>index</th>\n      <th>tweet_id</th>\n      <th>text</th>\n      <th>timestamp</th>\n      <th>user_id</th>\n      <th>like_count</th>\n      <th>retweet_count</th>\n      <th>quote_count</th>\n      <th>reply_count</th>\n      <th>reach</th>\n      <th>...</th>\n      <th>day_phase</th>\n      <th>week_idx</th>\n      <th>day_phase_enc</th>\n      <th>day_of_week_enc</th>\n      <th>month_enc</th>\n      <th>year_enc</th>\n      <th>sentiment_enc</th>\n      <th>verified_enc</th>\n      <th>hashtags_enc</th>\n      <th>seniority</th>\n    </tr>\n  </thead>\n  <tbody>\n    <tr>\n      <th>0</th>\n      <td>0</td>\n      <td>1079904885246705665</td>\n      <td>I’ll never salt you down 😌</td>\n      <td>2019-01-01 00:59:22</td>\n      <td>497001647</td>\n      <td>0</td>\n      <td>0</td>\n      <td>0</td>\n      <td>0</td>\n      <td>1468</td>\n      <td>...</td>\n      <td>Middle of the night</td>\n      <td>2019-01</td>\n      <td>2</td>\n      <td>5</td>\n      <td>4</td>\n      <td>0</td>\n      <td>2</td>\n      <td>0</td>\n      <td>0</td>\n      <td>10</td>\n    </tr>\n    <tr>\n      <th>1</th>\n      <td>1</td>\n      <td>1079904884445581312</td>\n      <td>You know who you are; but some of you I’ve fol...</td>\n      <td>2019-01-01 00:59:22</td>\n      <td>112542289</td>\n      <td>2</td>\n      <td>1</td>\n      <td>0</td>\n      <td>0</td>\n      <td>2969</td>\n      <td>...</td>\n      <td>Middle of the night</td>\n      <td>2019-01</td>\n      <td>2</td>\n      <td>5</td>\n      <td>4</td>\n      <td>0</td>\n      <td>2</td>\n      <td>0</td>\n      <td>0</td>\n      <td>12</td>\n    </tr>\n    <tr>\n      <th>2</th>\n      <td>2</td>\n      <td>1079904885175476224</td>\n      <td>Oh she a freak freak https://t.co/uJqYxJUGgg</td>\n      <td>2019-01-01 00:59:22</td>\n      <td>2372981097</td>\n      <td>0</td>\n      <td>0</td>\n      <td>0</td>\n      <td>0</td>\n      <td>809</td>\n      <td>...</td>\n      <td>Middle of the night</td>\n      <td>2019-01</td>\n      <td>2</td>\n      <td>5</td>\n      <td>4</td>\n      <td>0</td>\n      <td>0</td>\n      <td>0</td>\n      <td>0</td>\n      <td>8</td>\n    </tr>\n    <tr>\n      <th>3</th>\n      <td>3</td>\n      <td>1079904885531791360</td>\n      <td>Don’t forget your red thong ladies</td>\n      <td>2019-01-01 00:59:23</td>\n      <td>2446281619</td>\n      <td>2</td>\n      <td>0</td>\n      <td>0</td>\n      <td>0</td>\n      <td>112</td>\n      <td>...</td>\n      <td>Middle of the night</td>\n      <td>2019-01</td>\n      <td>2</td>\n      <td>5</td>\n      <td>4</td>\n      <td>0</td>\n      <td>0</td>\n      <td>0</td>\n      <td>0</td>\n      <td>8</td>\n    </tr>\n    <tr>\n      <th>4</th>\n      <td>4</td>\n      <td>1079904886513430528</td>\n      <td>Mirage Mirror Hour of Devastation Artist Greg ...</td>\n      <td>2019-01-01 00:59:23</td>\n      <td>71949265</td>\n      <td>0</td>\n      <td>0</td>\n      <td>0</td>\n      <td>0</td>\n      <td>49</td>\n      <td>...</td>\n      <td>Middle of the night</td>\n      <td>2019-01</td>\n      <td>2</td>\n      <td>5</td>\n      <td>4</td>\n      <td>0</td>\n      <td>0</td>\n      <td>0</td>\n      <td>0</td>\n      <td>12</td>\n    </tr>\n    <tr>\n      <th>...</th>\n      <td>...</td>\n      <td>...</td>\n      <td>...</td>\n      <td>...</td>\n      <td>...</td>\n      <td>...</td>\n      <td>...</td>\n      <td>...</td>\n      <td>...</td>\n      <td>...</td>\n      <td>...</td>\n      <td>...</td>\n      <td>...</td>\n      <td>...</td>\n      <td>...</td>\n      <td>...</td>\n      <td>...</td>\n      <td>...</td>\n      <td>...</td>\n      <td>...</td>\n      <td>...</td>\n    </tr>\n    <tr>\n      <th>1595869</th>\n      <td>533370</td>\n      <td>1477036834261770241</td>\n      <td>…. them crawfish was so good yall lmfao</td>\n      <td>2021-12-31 21:59:57</td>\n      <td>795707439219884037</td>\n      <td>0</td>\n      <td>0</td>\n      <td>0</td>\n      <td>0</td>\n      <td>1826</td>\n      <td>...</td>\n      <td>Night</td>\n      <td>2021-52</td>\n      <td>4</td>\n      <td>0</td>\n      <td>2</td>\n      <td>0</td>\n      <td>2</td>\n      <td>0</td>\n      <td>0</td>\n      <td>5</td>\n    </tr>\n    <tr>\n      <th>1595870</th>\n      <td>533371</td>\n      <td>1477036835603836932</td>\n      <td>Damn all the freaks are at the New Bev right n...</td>\n      <td>2021-12-31 21:59:58</td>\n      <td>34679503</td>\n      <td>26</td>\n      <td>0</td>\n      <td>0</td>\n      <td>0</td>\n      <td>10636</td>\n      <td>...</td>\n      <td>Night</td>\n      <td>2021-52</td>\n      <td>4</td>\n      <td>0</td>\n      <td>2</td>\n      <td>0</td>\n      <td>1</td>\n      <td>0</td>\n      <td>0</td>\n      <td>13</td>\n    </tr>\n    <tr>\n      <th>1595871</th>\n      <td>533372</td>\n      <td>1477036838217035777</td>\n      <td>Fast And Professional Vehicle Lockout Service ...</td>\n      <td>2021-12-31 21:59:58</td>\n      <td>210241982</td>\n      <td>0</td>\n      <td>0</td>\n      <td>0</td>\n      <td>0</td>\n      <td>394</td>\n      <td>...</td>\n      <td>Night</td>\n      <td>2021-52</td>\n      <td>4</td>\n      <td>0</td>\n      <td>2</td>\n      <td>0</td>\n      <td>0</td>\n      <td>0</td>\n      <td>0</td>\n      <td>11</td>\n    </tr>\n    <tr>\n      <th>1595872</th>\n      <td>533373</td>\n      <td>1477036840024567809</td>\n      <td>Very much this https://t.co/b3bgtstLfr</td>\n      <td>2021-12-31 21:59:59</td>\n      <td>883576549</td>\n      <td>3</td>\n      <td>0</td>\n      <td>0</td>\n      <td>0</td>\n      <td>702</td>\n      <td>...</td>\n      <td>Night</td>\n      <td>2021-52</td>\n      <td>4</td>\n      <td>0</td>\n      <td>2</td>\n      <td>0</td>\n      <td>1</td>\n      <td>0</td>\n      <td>0</td>\n      <td>9</td>\n    </tr>\n    <tr>\n      <th>1595873</th>\n      <td>533374</td>\n      <td>1477036841933185025</td>\n      <td>Best thread ever https://t.co/EBo4JkTCx4</td>\n      <td>2021-12-31 21:59:59</td>\n      <td>131371694</td>\n      <td>0</td>\n      <td>0</td>\n      <td>0</td>\n      <td>0</td>\n      <td>57</td>\n      <td>...</td>\n      <td>Night</td>\n      <td>2021-52</td>\n      <td>4</td>\n      <td>0</td>\n      <td>2</td>\n      <td>0</td>\n      <td>2</td>\n      <td>0</td>\n      <td>0</td>\n      <td>12</td>\n    </tr>\n  </tbody>\n</table>\n<p>1595874 rows × 34 columns</p>\n</div>"
     },
     "execution_count": 33,
     "metadata": {},
     "output_type": "execute_result"
    }
   ],
   "source": [
    "df = essemble_dataset(filenames)\n",
    "df"
   ],
   "metadata": {
    "collapsed": false,
    "pycharm": {
     "name": "#%%\n"
    }
   }
  },
  {
   "cell_type": "code",
   "execution_count": 34,
   "outputs": [
    {
     "data": {
      "text/plain": "2021    533375\n2019    531272\n2020    531227\nName: year, dtype: int64"
     },
     "execution_count": 34,
     "metadata": {},
     "output_type": "execute_result"
    }
   ],
   "source": [
    "df['year'].value_counts()"
   ],
   "metadata": {
    "collapsed": false,
    "pycharm": {
     "name": "#%%\n"
    }
   }
  },
  {
   "cell_type": "code",
   "execution_count": 38,
   "outputs": [
    {
     "data": {
      "text/plain": "         index             tweet_id  \\\n0            0  1079904986971156480   \n1            1  1079905009767133185   \n2            2  1079905092256624642   \n3            3  1079905147898286080   \n4            4  1079905204521250816   \n...        ...                  ...   \n401969  105741  1542057750598934528   \n401970  105742  1542081917050314752   \n401971  105743  1542254711469793280   \n401972  105744  1542263990444851201   \n401973  105745  1542267162185699328   \n\n                                                     text           timestamp  \\\n0       RT @FaZeClan: January, 2018 https://t.co/bxyyn... 2019-01-01 00:59:47   \n1       RT @IrwindalePolice: The second group of @Rose... 2019-01-01 00:59:52   \n2       RT @FaZeClan: January, 2018 https://t.co/bxyyn... 2019-01-01 01:00:12   \n3       RT @FaZeClan: January, 2018 https://t.co/bxyyn... 2019-01-01 01:00:25   \n4       RT @FaZeClan: January, 2018 https://t.co/bxyyn... 2019-01-01 01:00:39   \n...                                                   ...                 ...   \n401969  RT @Bandzzmollydon: Bitches be killing me subb... 2022-06-29 08:09:52   \n401970  RT @theRAWbussy: Let me spread that pretty pin... 2022-06-29 09:45:54   \n401971  RT @Evanknxxx: honestly i’m at my horniest aft... 2022-06-29 21:12:31   \n401972  RT @Tsmckenziee: #𝑅𝐸𝒯𝒲𝐸𝐸𝒯 𝐼𝐹 𝐼 𝒞𝒜𝒩 𝒞𝑅𝐸𝒜𝑀 𝒪𝒩 𝒴𝒪... 2022-06-29 21:49:23   \n401973  RT @realmenreallife: Brian @furrycritter572 … ... 2022-06-29 22:02:00   \n\n                    user_id  like_count  retweet_count  quote_count  \\\n0        863014342538776577           0            171            0   \n1                  67143433           0             10            0   \n2        887062199189078020           0            171            0   \n3                3069273057           0            171            0   \n4        996735592275705856           0            171            0   \n...                     ...         ...            ...          ...   \n401969  1477447673745657863           0             47            0   \n401970  1105220957839462402           0            257            0   \n401971  1537565677908856837           0            180            0   \n401972  1350913747209117697           0            699            0   \n401973  1135209890807308288           0           1073            0   \n\n        reply_count                                  referenced_tweets  \\\n0                 0  [ReferencedTweet(id: 1079904942729523200, type...   \n1                 0  [ReferencedTweet(id: 1079904903596666880, type...   \n2                 0  [ReferencedTweet(id: 1079904942729523200, type...   \n3                 0  [ReferencedTweet(id: 1079904942729523200, type...   \n4                 0  [ReferencedTweet(id: 1079904942729523200, type...   \n...             ...                                                ...   \n401969            0  [ReferencedTweet(id: 1384990228373557248, type...   \n401970            0  [ReferencedTweet(id: 1400255663394144257, type...   \n401971            0  [ReferencedTweet(id: 1401342747819249671, type...   \n401972            0  [ReferencedTweet(id: 1469064283354972173, type...   \n401973            0  [ReferencedTweet(id: 1465394814573293581, type...   \n\n        followers  following  tweet_count  verified           created_at  \\\n0            2589       4948       235553     False  2017-05-12 12:53:48   \n1           20384       7487        14743      True  2009-08-19 22:29:24   \n2              26         89         1617     False  2017-07-17 21:31:24   \n3             262        873         6195     False  2015-03-04 06:11:31   \n4              14        140           93     False  2018-05-16 12:54:18   \n...           ...        ...          ...       ...                  ...   \n401969         32         34          130     False  2022-01-02 01:12:42   \n401970       1715       4999        86338     False  2019-03-11 21:36:25   \n401971          3         30          139     False  2022-06-16 22:40:10   \n401972        138       1854         3849     False  2021-01-17 21:12:15   \n401973        252       1905        67013     False  2019-06-02 15:41:43   \n\n               ref_tweed_id  \n0       1079904942729523200  \n1       1079904903596666880  \n2       1079904942729523200  \n3       1079904942729523200  \n4       1079904942729523200  \n...                     ...  \n401969  1384990228373557248  \n401970  1400255663394144257  \n401971  1401342747819249671  \n401972  1469064283354972173  \n401973  1465394814573293581  \n\n[401974 rows x 16 columns]",
      "text/html": "<div>\n<style scoped>\n    .dataframe tbody tr th:only-of-type {\n        vertical-align: middle;\n    }\n\n    .dataframe tbody tr th {\n        vertical-align: top;\n    }\n\n    .dataframe thead th {\n        text-align: right;\n    }\n</style>\n<table border=\"1\" class=\"dataframe\">\n  <thead>\n    <tr style=\"text-align: right;\">\n      <th></th>\n      <th>index</th>\n      <th>tweet_id</th>\n      <th>text</th>\n      <th>timestamp</th>\n      <th>user_id</th>\n      <th>like_count</th>\n      <th>retweet_count</th>\n      <th>quote_count</th>\n      <th>reply_count</th>\n      <th>referenced_tweets</th>\n      <th>followers</th>\n      <th>following</th>\n      <th>tweet_count</th>\n      <th>verified</th>\n      <th>created_at</th>\n      <th>ref_tweed_id</th>\n    </tr>\n  </thead>\n  <tbody>\n    <tr>\n      <th>0</th>\n      <td>0</td>\n      <td>1079904986971156480</td>\n      <td>RT @FaZeClan: January, 2018 https://t.co/bxyyn...</td>\n      <td>2019-01-01 00:59:47</td>\n      <td>863014342538776577</td>\n      <td>0</td>\n      <td>171</td>\n      <td>0</td>\n      <td>0</td>\n      <td>[ReferencedTweet(id: 1079904942729523200, type...</td>\n      <td>2589</td>\n      <td>4948</td>\n      <td>235553</td>\n      <td>False</td>\n      <td>2017-05-12 12:53:48</td>\n      <td>1079904942729523200</td>\n    </tr>\n    <tr>\n      <th>1</th>\n      <td>1</td>\n      <td>1079905009767133185</td>\n      <td>RT @IrwindalePolice: The second group of @Rose...</td>\n      <td>2019-01-01 00:59:52</td>\n      <td>67143433</td>\n      <td>0</td>\n      <td>10</td>\n      <td>0</td>\n      <td>0</td>\n      <td>[ReferencedTweet(id: 1079904903596666880, type...</td>\n      <td>20384</td>\n      <td>7487</td>\n      <td>14743</td>\n      <td>True</td>\n      <td>2009-08-19 22:29:24</td>\n      <td>1079904903596666880</td>\n    </tr>\n    <tr>\n      <th>2</th>\n      <td>2</td>\n      <td>1079905092256624642</td>\n      <td>RT @FaZeClan: January, 2018 https://t.co/bxyyn...</td>\n      <td>2019-01-01 01:00:12</td>\n      <td>887062199189078020</td>\n      <td>0</td>\n      <td>171</td>\n      <td>0</td>\n      <td>0</td>\n      <td>[ReferencedTweet(id: 1079904942729523200, type...</td>\n      <td>26</td>\n      <td>89</td>\n      <td>1617</td>\n      <td>False</td>\n      <td>2017-07-17 21:31:24</td>\n      <td>1079904942729523200</td>\n    </tr>\n    <tr>\n      <th>3</th>\n      <td>3</td>\n      <td>1079905147898286080</td>\n      <td>RT @FaZeClan: January, 2018 https://t.co/bxyyn...</td>\n      <td>2019-01-01 01:00:25</td>\n      <td>3069273057</td>\n      <td>0</td>\n      <td>171</td>\n      <td>0</td>\n      <td>0</td>\n      <td>[ReferencedTweet(id: 1079904942729523200, type...</td>\n      <td>262</td>\n      <td>873</td>\n      <td>6195</td>\n      <td>False</td>\n      <td>2015-03-04 06:11:31</td>\n      <td>1079904942729523200</td>\n    </tr>\n    <tr>\n      <th>4</th>\n      <td>4</td>\n      <td>1079905204521250816</td>\n      <td>RT @FaZeClan: January, 2018 https://t.co/bxyyn...</td>\n      <td>2019-01-01 01:00:39</td>\n      <td>996735592275705856</td>\n      <td>0</td>\n      <td>171</td>\n      <td>0</td>\n      <td>0</td>\n      <td>[ReferencedTweet(id: 1079904942729523200, type...</td>\n      <td>14</td>\n      <td>140</td>\n      <td>93</td>\n      <td>False</td>\n      <td>2018-05-16 12:54:18</td>\n      <td>1079904942729523200</td>\n    </tr>\n    <tr>\n      <th>...</th>\n      <td>...</td>\n      <td>...</td>\n      <td>...</td>\n      <td>...</td>\n      <td>...</td>\n      <td>...</td>\n      <td>...</td>\n      <td>...</td>\n      <td>...</td>\n      <td>...</td>\n      <td>...</td>\n      <td>...</td>\n      <td>...</td>\n      <td>...</td>\n      <td>...</td>\n      <td>...</td>\n    </tr>\n    <tr>\n      <th>401969</th>\n      <td>105741</td>\n      <td>1542057750598934528</td>\n      <td>RT @Bandzzmollydon: Bitches be killing me subb...</td>\n      <td>2022-06-29 08:09:52</td>\n      <td>1477447673745657863</td>\n      <td>0</td>\n      <td>47</td>\n      <td>0</td>\n      <td>0</td>\n      <td>[ReferencedTweet(id: 1384990228373557248, type...</td>\n      <td>32</td>\n      <td>34</td>\n      <td>130</td>\n      <td>False</td>\n      <td>2022-01-02 01:12:42</td>\n      <td>1384990228373557248</td>\n    </tr>\n    <tr>\n      <th>401970</th>\n      <td>105742</td>\n      <td>1542081917050314752</td>\n      <td>RT @theRAWbussy: Let me spread that pretty pin...</td>\n      <td>2022-06-29 09:45:54</td>\n      <td>1105220957839462402</td>\n      <td>0</td>\n      <td>257</td>\n      <td>0</td>\n      <td>0</td>\n      <td>[ReferencedTweet(id: 1400255663394144257, type...</td>\n      <td>1715</td>\n      <td>4999</td>\n      <td>86338</td>\n      <td>False</td>\n      <td>2019-03-11 21:36:25</td>\n      <td>1400255663394144257</td>\n    </tr>\n    <tr>\n      <th>401971</th>\n      <td>105743</td>\n      <td>1542254711469793280</td>\n      <td>RT @Evanknxxx: honestly i’m at my horniest aft...</td>\n      <td>2022-06-29 21:12:31</td>\n      <td>1537565677908856837</td>\n      <td>0</td>\n      <td>180</td>\n      <td>0</td>\n      <td>0</td>\n      <td>[ReferencedTweet(id: 1401342747819249671, type...</td>\n      <td>3</td>\n      <td>30</td>\n      <td>139</td>\n      <td>False</td>\n      <td>2022-06-16 22:40:10</td>\n      <td>1401342747819249671</td>\n    </tr>\n    <tr>\n      <th>401972</th>\n      <td>105744</td>\n      <td>1542263990444851201</td>\n      <td>RT @Tsmckenziee: #𝑅𝐸𝒯𝒲𝐸𝐸𝒯 𝐼𝐹 𝐼 𝒞𝒜𝒩 𝒞𝑅𝐸𝒜𝑀 𝒪𝒩 𝒴𝒪...</td>\n      <td>2022-06-29 21:49:23</td>\n      <td>1350913747209117697</td>\n      <td>0</td>\n      <td>699</td>\n      <td>0</td>\n      <td>0</td>\n      <td>[ReferencedTweet(id: 1469064283354972173, type...</td>\n      <td>138</td>\n      <td>1854</td>\n      <td>3849</td>\n      <td>False</td>\n      <td>2021-01-17 21:12:15</td>\n      <td>1469064283354972173</td>\n    </tr>\n    <tr>\n      <th>401973</th>\n      <td>105745</td>\n      <td>1542267162185699328</td>\n      <td>RT @realmenreallife: Brian @furrycritter572 … ...</td>\n      <td>2022-06-29 22:02:00</td>\n      <td>1135209890807308288</td>\n      <td>0</td>\n      <td>1073</td>\n      <td>0</td>\n      <td>0</td>\n      <td>[ReferencedTweet(id: 1465394814573293581, type...</td>\n      <td>252</td>\n      <td>1905</td>\n      <td>67013</td>\n      <td>False</td>\n      <td>2019-06-02 15:41:43</td>\n      <td>1465394814573293581</td>\n    </tr>\n  </tbody>\n</table>\n<p>401974 rows × 16 columns</p>\n</div>"
     },
     "execution_count": 35,
     "metadata": {},
     "output_type": "execute_result"
    },
    {
     "data": {
      "text/plain": "         index             tweet_id  \\\n0            0  1079904986971156480   \n1            1  1079905009767133185   \n2            2  1079905092256624642   \n3            3  1079905147898286080   \n4            4  1079905204521250816   \n...        ...                  ...   \n401969  105741  1542057750598934528   \n401970  105742  1542081917050314752   \n401971  105743  1542254711469793280   \n401972  105744  1542263990444851201   \n401973  105745  1542267162185699328   \n\n                                                     text           timestamp  \\\n0       RT @FaZeClan: January, 2018 https://t.co/bxyyn... 2019-01-01 00:59:47   \n1       RT @IrwindalePolice: The second group of @Rose... 2019-01-01 00:59:52   \n2       RT @FaZeClan: January, 2018 https://t.co/bxyyn... 2019-01-01 01:00:12   \n3       RT @FaZeClan: January, 2018 https://t.co/bxyyn... 2019-01-01 01:00:25   \n4       RT @FaZeClan: January, 2018 https://t.co/bxyyn... 2019-01-01 01:00:39   \n...                                                   ...                 ...   \n401969  RT @Bandzzmollydon: Bitches be killing me subb... 2022-06-29 08:09:52   \n401970  RT @theRAWbussy: Let me spread that pretty pin... 2022-06-29 09:45:54   \n401971  RT @Evanknxxx: honestly i’m at my horniest aft... 2022-06-29 21:12:31   \n401972  RT @Tsmckenziee: #𝑅𝐸𝒯𝒲𝐸𝐸𝒯 𝐼𝐹 𝐼 𝒞𝒜𝒩 𝒞𝑅𝐸𝒜𝑀 𝒪𝒩 𝒴𝒪... 2022-06-29 21:49:23   \n401973  RT @realmenreallife: Brian @furrycritter572 … ... 2022-06-29 22:02:00   \n\n                    user_id  like_count  retweet_count  quote_count  \\\n0        863014342538776577           0            171            0   \n1                  67143433           0             10            0   \n2        887062199189078020           0            171            0   \n3                3069273057           0            171            0   \n4        996735592275705856           0            171            0   \n...                     ...         ...            ...          ...   \n401969  1477447673745657863           0             47            0   \n401970  1105220957839462402           0            257            0   \n401971  1537565677908856837           0            180            0   \n401972  1350913747209117697           0            699            0   \n401973  1135209890807308288           0           1073            0   \n\n        reply_count                                  referenced_tweets  \\\n0                 0  [ReferencedTweet(id: 1079904942729523200, type...   \n1                 0  [ReferencedTweet(id: 1079904903596666880, type...   \n2                 0  [ReferencedTweet(id: 1079904942729523200, type...   \n3                 0  [ReferencedTweet(id: 1079904942729523200, type...   \n4                 0  [ReferencedTweet(id: 1079904942729523200, type...   \n...             ...                                                ...   \n401969            0  [ReferencedTweet(id: 1384990228373557248, type...   \n401970            0  [ReferencedTweet(id: 1400255663394144257, type...   \n401971            0  [ReferencedTweet(id: 1401342747819249671, type...   \n401972            0  [ReferencedTweet(id: 1469064283354972173, type...   \n401973            0  [ReferencedTweet(id: 1465394814573293581, type...   \n\n        followers  following  tweet_count  verified           created_at  \\\n0            2589       4948       235553     False  2017-05-12 12:53:48   \n1           20384       7487        14743      True  2009-08-19 22:29:24   \n2              26         89         1617     False  2017-07-17 21:31:24   \n3             262        873         6195     False  2015-03-04 06:11:31   \n4              14        140           93     False  2018-05-16 12:54:18   \n...           ...        ...          ...       ...                  ...   \n401969         32         34          130     False  2022-01-02 01:12:42   \n401970       1715       4999        86338     False  2019-03-11 21:36:25   \n401971          3         30          139     False  2022-06-16 22:40:10   \n401972        138       1854         3849     False  2021-01-17 21:12:15   \n401973        252       1905        67013     False  2019-06-02 15:41:43   \n\n               ref_tweed_id  \n0       1079904942729523200  \n1       1079904903596666880  \n2       1079904942729523200  \n3       1079904942729523200  \n4       1079904942729523200  \n...                     ...  \n401969  1384990228373557248  \n401970  1400255663394144257  \n401971  1401342747819249671  \n401972  1469064283354972173  \n401973  1465394814573293581  \n\n[401974 rows x 16 columns]",
      "text/html": "<div>\n<style scoped>\n    .dataframe tbody tr th:only-of-type {\n        vertical-align: middle;\n    }\n\n    .dataframe tbody tr th {\n        vertical-align: top;\n    }\n\n    .dataframe thead th {\n        text-align: right;\n    }\n</style>\n<table border=\"1\" class=\"dataframe\">\n  <thead>\n    <tr style=\"text-align: right;\">\n      <th></th>\n      <th>index</th>\n      <th>tweet_id</th>\n      <th>text</th>\n      <th>timestamp</th>\n      <th>user_id</th>\n      <th>like_count</th>\n      <th>retweet_count</th>\n      <th>quote_count</th>\n      <th>reply_count</th>\n      <th>referenced_tweets</th>\n      <th>followers</th>\n      <th>following</th>\n      <th>tweet_count</th>\n      <th>verified</th>\n      <th>created_at</th>\n      <th>ref_tweed_id</th>\n    </tr>\n  </thead>\n  <tbody>\n    <tr>\n      <th>0</th>\n      <td>0</td>\n      <td>1079904986971156480</td>\n      <td>RT @FaZeClan: January, 2018 https://t.co/bxyyn...</td>\n      <td>2019-01-01 00:59:47</td>\n      <td>863014342538776577</td>\n      <td>0</td>\n      <td>171</td>\n      <td>0</td>\n      <td>0</td>\n      <td>[ReferencedTweet(id: 1079904942729523200, type...</td>\n      <td>2589</td>\n      <td>4948</td>\n      <td>235553</td>\n      <td>False</td>\n      <td>2017-05-12 12:53:48</td>\n      <td>1079904942729523200</td>\n    </tr>\n    <tr>\n      <th>1</th>\n      <td>1</td>\n      <td>1079905009767133185</td>\n      <td>RT @IrwindalePolice: The second group of @Rose...</td>\n      <td>2019-01-01 00:59:52</td>\n      <td>67143433</td>\n      <td>0</td>\n      <td>10</td>\n      <td>0</td>\n      <td>0</td>\n      <td>[ReferencedTweet(id: 1079904903596666880, type...</td>\n      <td>20384</td>\n      <td>7487</td>\n      <td>14743</td>\n      <td>True</td>\n      <td>2009-08-19 22:29:24</td>\n      <td>1079904903596666880</td>\n    </tr>\n    <tr>\n      <th>2</th>\n      <td>2</td>\n      <td>1079905092256624642</td>\n      <td>RT @FaZeClan: January, 2018 https://t.co/bxyyn...</td>\n      <td>2019-01-01 01:00:12</td>\n      <td>887062199189078020</td>\n      <td>0</td>\n      <td>171</td>\n      <td>0</td>\n      <td>0</td>\n      <td>[ReferencedTweet(id: 1079904942729523200, type...</td>\n      <td>26</td>\n      <td>89</td>\n      <td>1617</td>\n      <td>False</td>\n      <td>2017-07-17 21:31:24</td>\n      <td>1079904942729523200</td>\n    </tr>\n    <tr>\n      <th>3</th>\n      <td>3</td>\n      <td>1079905147898286080</td>\n      <td>RT @FaZeClan: January, 2018 https://t.co/bxyyn...</td>\n      <td>2019-01-01 01:00:25</td>\n      <td>3069273057</td>\n      <td>0</td>\n      <td>171</td>\n      <td>0</td>\n      <td>0</td>\n      <td>[ReferencedTweet(id: 1079904942729523200, type...</td>\n      <td>262</td>\n      <td>873</td>\n      <td>6195</td>\n      <td>False</td>\n      <td>2015-03-04 06:11:31</td>\n      <td>1079904942729523200</td>\n    </tr>\n    <tr>\n      <th>4</th>\n      <td>4</td>\n      <td>1079905204521250816</td>\n      <td>RT @FaZeClan: January, 2018 https://t.co/bxyyn...</td>\n      <td>2019-01-01 01:00:39</td>\n      <td>996735592275705856</td>\n      <td>0</td>\n      <td>171</td>\n      <td>0</td>\n      <td>0</td>\n      <td>[ReferencedTweet(id: 1079904942729523200, type...</td>\n      <td>14</td>\n      <td>140</td>\n      <td>93</td>\n      <td>False</td>\n      <td>2018-05-16 12:54:18</td>\n      <td>1079904942729523200</td>\n    </tr>\n    <tr>\n      <th>...</th>\n      <td>...</td>\n      <td>...</td>\n      <td>...</td>\n      <td>...</td>\n      <td>...</td>\n      <td>...</td>\n      <td>...</td>\n      <td>...</td>\n      <td>...</td>\n      <td>...</td>\n      <td>...</td>\n      <td>...</td>\n      <td>...</td>\n      <td>...</td>\n      <td>...</td>\n      <td>...</td>\n    </tr>\n    <tr>\n      <th>401969</th>\n      <td>105741</td>\n      <td>1542057750598934528</td>\n      <td>RT @Bandzzmollydon: Bitches be killing me subb...</td>\n      <td>2022-06-29 08:09:52</td>\n      <td>1477447673745657863</td>\n      <td>0</td>\n      <td>47</td>\n      <td>0</td>\n      <td>0</td>\n      <td>[ReferencedTweet(id: 1384990228373557248, type...</td>\n      <td>32</td>\n      <td>34</td>\n      <td>130</td>\n      <td>False</td>\n      <td>2022-01-02 01:12:42</td>\n      <td>1384990228373557248</td>\n    </tr>\n    <tr>\n      <th>401970</th>\n      <td>105742</td>\n      <td>1542081917050314752</td>\n      <td>RT @theRAWbussy: Let me spread that pretty pin...</td>\n      <td>2022-06-29 09:45:54</td>\n      <td>1105220957839462402</td>\n      <td>0</td>\n      <td>257</td>\n      <td>0</td>\n      <td>0</td>\n      <td>[ReferencedTweet(id: 1400255663394144257, type...</td>\n      <td>1715</td>\n      <td>4999</td>\n      <td>86338</td>\n      <td>False</td>\n      <td>2019-03-11 21:36:25</td>\n      <td>1400255663394144257</td>\n    </tr>\n    <tr>\n      <th>401971</th>\n      <td>105743</td>\n      <td>1542254711469793280</td>\n      <td>RT @Evanknxxx: honestly i’m at my horniest aft...</td>\n      <td>2022-06-29 21:12:31</td>\n      <td>1537565677908856837</td>\n      <td>0</td>\n      <td>180</td>\n      <td>0</td>\n      <td>0</td>\n      <td>[ReferencedTweet(id: 1401342747819249671, type...</td>\n      <td>3</td>\n      <td>30</td>\n      <td>139</td>\n      <td>False</td>\n      <td>2022-06-16 22:40:10</td>\n      <td>1401342747819249671</td>\n    </tr>\n    <tr>\n      <th>401972</th>\n      <td>105744</td>\n      <td>1542263990444851201</td>\n      <td>RT @Tsmckenziee: #𝑅𝐸𝒯𝒲𝐸𝐸𝒯 𝐼𝐹 𝐼 𝒞𝒜𝒩 𝒞𝑅𝐸𝒜𝑀 𝒪𝒩 𝒴𝒪...</td>\n      <td>2022-06-29 21:49:23</td>\n      <td>1350913747209117697</td>\n      <td>0</td>\n      <td>699</td>\n      <td>0</td>\n      <td>0</td>\n      <td>[ReferencedTweet(id: 1469064283354972173, type...</td>\n      <td>138</td>\n      <td>1854</td>\n      <td>3849</td>\n      <td>False</td>\n      <td>2021-01-17 21:12:15</td>\n      <td>1469064283354972173</td>\n    </tr>\n    <tr>\n      <th>401973</th>\n      <td>105745</td>\n      <td>1542267162185699328</td>\n      <td>RT @realmenreallife: Brian @furrycritter572 … ...</td>\n      <td>2022-06-29 22:02:00</td>\n      <td>1135209890807308288</td>\n      <td>0</td>\n      <td>1073</td>\n      <td>0</td>\n      <td>0</td>\n      <td>[ReferencedTweet(id: 1465394814573293581, type...</td>\n      <td>252</td>\n      <td>1905</td>\n      <td>67013</td>\n      <td>False</td>\n      <td>2019-06-02 15:41:43</td>\n      <td>1465394814573293581</td>\n    </tr>\n  </tbody>\n</table>\n<p>401974 rows × 16 columns</p>\n</div>"
     },
     "execution_count": 38,
     "metadata": {},
     "output_type": "execute_result"
    }
   ],
   "source": [
    "df_retweets_info = essemble_dataset(retweets_filenames)\n",
    "df_retweets_info"
   ],
   "metadata": {
    "collapsed": false,
    "pycharm": {
     "name": "#%%\n"
    }
   }
  },
  {
   "cell_type": "code",
   "execution_count": 175,
   "outputs": [],
   "source": [
    "topics_categories = ['Brand', 'Holiday', 'Person', 'Interest and Hobbies', 'Sport',\n",
    "       'TV and Movies', 'Other', 'Video Game', 'Entities', 'Political',\n",
    "       'Music', 'Book', 'News']\n",
    "palette = ['#006D77', '#FBD1A2', '#7DCFB6', '#00B2CA', '#1D4E89', '#F79256', '#aed9e0', '#b8f2e6', '#faf3dd', '#ffa69e', '#FE7F2D', '#FCCA46', '#ED7B84', '#F92A82']\n",
    "offline_charts = False"
   ],
   "metadata": {
    "collapsed": false,
    "pycharm": {
     "name": "#%%\n"
    }
   }
  },
  {
   "cell_type": "markdown",
   "source": [
    "## Retweets Analysis"
   ],
   "metadata": {
    "collapsed": false,
    "pycharm": {
     "name": "#%% md\n"
    }
   }
  },
  {
   "cell_type": "markdown",
   "source": [
    "### Analysing average followers count between shared tweets and not shared by topic"
   ],
   "metadata": {
    "collapsed": false,
    "pycharm": {
     "name": "#%% md\n"
    }
   }
  },
  {
   "cell_type": "code",
   "execution_count": 193,
   "outputs": [
    {
     "data": {
      "text/plain": "    year        topics_cleaned  count topics_cleaned  % topics_cleaned  \\\n0   2019                 Brand               29804.0         15.363916   \n1   2019               Holiday                   1.0          0.000515   \n2   2019                Person               36681.0         18.908999   \n3   2019  Interest and Hobbies               26951.0         13.893199   \n4   2019                 Sport                7326.0          3.776542   \n5   2019         TV and Movies               34474.0         17.771294   \n6   2019                 Other               32323.0         16.662457   \n7   2019            Video Game                1985.0          1.023264   \n8   2019              Entities               20770.0         10.706903   \n9   2019             Political                1428.0          0.736132   \n10  2019                 Music                2036.0          1.049555   \n11  2019                  Book                 208.0          0.107224   \n12  2019                  News                   NaN               NaN   \n0   2020                 Brand               29802.0         15.749921   \n1   2020               Holiday                5223.0          2.760279   \n2   2020                Person               47719.0         25.218793   \n3   2020  Interest and Hobbies               28305.0         14.958778   \n4   2020                 Sport                6832.0          3.610612   \n5   2020         TV and Movies               27571.0         14.570870   \n6   2020                 Other                1833.0          0.968714   \n7   2020            Video Game                2482.0          1.311701   \n8   2020              Entities               20310.0         10.733538   \n9   2020             Political                1777.0          0.939118   \n10  2020                 Music                2075.0          1.096607   \n11  2020                  Book                 392.0          0.207166   \n12  2020                  News               14899.0          7.873903   \n0   2021                 Brand               31725.0         18.221449   \n1   2021               Holiday                4712.0          2.706366   \n2   2021                Person               31365.0         18.014681   \n3   2021  Interest and Hobbies               25651.0         14.732810   \n4   2021                 Sport                8498.0          4.880879   \n5   2021         TV and Movies               40400.0         23.203988   \n6   2021                 Other                2445.0          1.404301   \n7   2021            Video Game                2035.0          1.168815   \n8   2021              Entities               16461.0          9.454477   \n9   2021             Political                1445.0          0.829945   \n10  2021                 Music                1725.0          0.990764   \n11  2021                  Book                 327.0          0.187814   \n12  2021                  News                7319.0          4.203713   \n\n    % with retweets  % with likes  followers mean  shared followers mean  \n0             16.23         48.83     2360.986277            5057.219099  \n1               NaN        100.00      764.000000                    NaN  \n2             15.45         44.01     2927.879829            7395.971600  \n3             15.07         48.49     2168.935550            4289.903250  \n4             22.17         59.10     2917.076986            6455.002463  \n5             15.33         51.57     2588.880345            6761.926760  \n6             16.14         46.38     2533.108406            6039.042937  \n7             16.07         55.01     2197.337531            5319.523511  \n8             15.13         50.12     2009.895811            4147.762890  \n9             14.99         31.86     3175.375350            6970.850467  \n10            19.50         52.90     2479.904224            3881.554156  \n11            27.88         57.69     2348.490385            5309.896552  \n12              NaN           NaN             NaN                    NaN  \n0             15.38         49.89     2288.812798            5165.764180  \n1             16.83         56.16     2119.018189            4584.031854  \n2             15.14         43.51     2602.017142            6923.757127  \n3             15.82         51.44     2030.484402            4443.191603  \n4             19.48         57.83     2613.751903            6178.097671  \n5             14.71         52.71     2430.639694            6238.900370  \n6             15.93         56.63     1991.726678            4996.246575  \n7             17.08         56.77     1643.010878            3453.575472  \n8             14.30         51.11     2088.751206            4544.076446  \n9             16.71         38.38     2705.049522            7190.478114  \n10            18.41         52.34     2343.131084            4499.280105  \n11            15.82         50.77     2328.596939            3194.532258  \n12            19.73         54.13     2606.625076            5752.379040  \n0             16.08         50.67     2539.004476            5670.247206  \n1             19.95         59.02     2513.941426            6054.253191  \n2             16.22         48.47     2738.046134            7009.252998  \n3             15.98         51.00     2058.247554            4480.030259  \n4             23.24         62.11     2573.559543            4967.080506  \n5             15.39         54.74     2529.727203            6633.108573  \n6             14.07         56.77     2131.634356            5259.529070  \n7             14.50         58.57     1805.684029            4596.888136  \n8             15.86         53.32     2237.818116            4927.079310  \n9             20.28         43.67     3776.884429            9059.699659  \n10            19.48         51.94     2261.191304            4531.401786  \n11            17.43         56.88     2193.611621            4838.649123  \n12            19.95         55.85     2938.256183            6649.510959  ",
      "text/html": "<div>\n<style scoped>\n    .dataframe tbody tr th:only-of-type {\n        vertical-align: middle;\n    }\n\n    .dataframe tbody tr th {\n        vertical-align: top;\n    }\n\n    .dataframe thead th {\n        text-align: right;\n    }\n</style>\n<table border=\"1\" class=\"dataframe\">\n  <thead>\n    <tr style=\"text-align: right;\">\n      <th></th>\n      <th>year</th>\n      <th>topics_cleaned</th>\n      <th>count topics_cleaned</th>\n      <th>% topics_cleaned</th>\n      <th>% with retweets</th>\n      <th>% with likes</th>\n      <th>followers mean</th>\n      <th>shared followers mean</th>\n    </tr>\n  </thead>\n  <tbody>\n    <tr>\n      <th>0</th>\n      <td>2019</td>\n      <td>Brand</td>\n      <td>29804.0</td>\n      <td>15.363916</td>\n      <td>16.23</td>\n      <td>48.83</td>\n      <td>2360.986277</td>\n      <td>5057.219099</td>\n    </tr>\n    <tr>\n      <th>1</th>\n      <td>2019</td>\n      <td>Holiday</td>\n      <td>1.0</td>\n      <td>0.000515</td>\n      <td>NaN</td>\n      <td>100.00</td>\n      <td>764.000000</td>\n      <td>NaN</td>\n    </tr>\n    <tr>\n      <th>2</th>\n      <td>2019</td>\n      <td>Person</td>\n      <td>36681.0</td>\n      <td>18.908999</td>\n      <td>15.45</td>\n      <td>44.01</td>\n      <td>2927.879829</td>\n      <td>7395.971600</td>\n    </tr>\n    <tr>\n      <th>3</th>\n      <td>2019</td>\n      <td>Interest and Hobbies</td>\n      <td>26951.0</td>\n      <td>13.893199</td>\n      <td>15.07</td>\n      <td>48.49</td>\n      <td>2168.935550</td>\n      <td>4289.903250</td>\n    </tr>\n    <tr>\n      <th>4</th>\n      <td>2019</td>\n      <td>Sport</td>\n      <td>7326.0</td>\n      <td>3.776542</td>\n      <td>22.17</td>\n      <td>59.10</td>\n      <td>2917.076986</td>\n      <td>6455.002463</td>\n    </tr>\n    <tr>\n      <th>5</th>\n      <td>2019</td>\n      <td>TV and Movies</td>\n      <td>34474.0</td>\n      <td>17.771294</td>\n      <td>15.33</td>\n      <td>51.57</td>\n      <td>2588.880345</td>\n      <td>6761.926760</td>\n    </tr>\n    <tr>\n      <th>6</th>\n      <td>2019</td>\n      <td>Other</td>\n      <td>32323.0</td>\n      <td>16.662457</td>\n      <td>16.14</td>\n      <td>46.38</td>\n      <td>2533.108406</td>\n      <td>6039.042937</td>\n    </tr>\n    <tr>\n      <th>7</th>\n      <td>2019</td>\n      <td>Video Game</td>\n      <td>1985.0</td>\n      <td>1.023264</td>\n      <td>16.07</td>\n      <td>55.01</td>\n      <td>2197.337531</td>\n      <td>5319.523511</td>\n    </tr>\n    <tr>\n      <th>8</th>\n      <td>2019</td>\n      <td>Entities</td>\n      <td>20770.0</td>\n      <td>10.706903</td>\n      <td>15.13</td>\n      <td>50.12</td>\n      <td>2009.895811</td>\n      <td>4147.762890</td>\n    </tr>\n    <tr>\n      <th>9</th>\n      <td>2019</td>\n      <td>Political</td>\n      <td>1428.0</td>\n      <td>0.736132</td>\n      <td>14.99</td>\n      <td>31.86</td>\n      <td>3175.375350</td>\n      <td>6970.850467</td>\n    </tr>\n    <tr>\n      <th>10</th>\n      <td>2019</td>\n      <td>Music</td>\n      <td>2036.0</td>\n      <td>1.049555</td>\n      <td>19.50</td>\n      <td>52.90</td>\n      <td>2479.904224</td>\n      <td>3881.554156</td>\n    </tr>\n    <tr>\n      <th>11</th>\n      <td>2019</td>\n      <td>Book</td>\n      <td>208.0</td>\n      <td>0.107224</td>\n      <td>27.88</td>\n      <td>57.69</td>\n      <td>2348.490385</td>\n      <td>5309.896552</td>\n    </tr>\n    <tr>\n      <th>12</th>\n      <td>2019</td>\n      <td>News</td>\n      <td>NaN</td>\n      <td>NaN</td>\n      <td>NaN</td>\n      <td>NaN</td>\n      <td>NaN</td>\n      <td>NaN</td>\n    </tr>\n    <tr>\n      <th>0</th>\n      <td>2020</td>\n      <td>Brand</td>\n      <td>29802.0</td>\n      <td>15.749921</td>\n      <td>15.38</td>\n      <td>49.89</td>\n      <td>2288.812798</td>\n      <td>5165.764180</td>\n    </tr>\n    <tr>\n      <th>1</th>\n      <td>2020</td>\n      <td>Holiday</td>\n      <td>5223.0</td>\n      <td>2.760279</td>\n      <td>16.83</td>\n      <td>56.16</td>\n      <td>2119.018189</td>\n      <td>4584.031854</td>\n    </tr>\n    <tr>\n      <th>2</th>\n      <td>2020</td>\n      <td>Person</td>\n      <td>47719.0</td>\n      <td>25.218793</td>\n      <td>15.14</td>\n      <td>43.51</td>\n      <td>2602.017142</td>\n      <td>6923.757127</td>\n    </tr>\n    <tr>\n      <th>3</th>\n      <td>2020</td>\n      <td>Interest and Hobbies</td>\n      <td>28305.0</td>\n      <td>14.958778</td>\n      <td>15.82</td>\n      <td>51.44</td>\n      <td>2030.484402</td>\n      <td>4443.191603</td>\n    </tr>\n    <tr>\n      <th>4</th>\n      <td>2020</td>\n      <td>Sport</td>\n      <td>6832.0</td>\n      <td>3.610612</td>\n      <td>19.48</td>\n      <td>57.83</td>\n      <td>2613.751903</td>\n      <td>6178.097671</td>\n    </tr>\n    <tr>\n      <th>5</th>\n      <td>2020</td>\n      <td>TV and Movies</td>\n      <td>27571.0</td>\n      <td>14.570870</td>\n      <td>14.71</td>\n      <td>52.71</td>\n      <td>2430.639694</td>\n      <td>6238.900370</td>\n    </tr>\n    <tr>\n      <th>6</th>\n      <td>2020</td>\n      <td>Other</td>\n      <td>1833.0</td>\n      <td>0.968714</td>\n      <td>15.93</td>\n      <td>56.63</td>\n      <td>1991.726678</td>\n      <td>4996.246575</td>\n    </tr>\n    <tr>\n      <th>7</th>\n      <td>2020</td>\n      <td>Video Game</td>\n      <td>2482.0</td>\n      <td>1.311701</td>\n      <td>17.08</td>\n      <td>56.77</td>\n      <td>1643.010878</td>\n      <td>3453.575472</td>\n    </tr>\n    <tr>\n      <th>8</th>\n      <td>2020</td>\n      <td>Entities</td>\n      <td>20310.0</td>\n      <td>10.733538</td>\n      <td>14.30</td>\n      <td>51.11</td>\n      <td>2088.751206</td>\n      <td>4544.076446</td>\n    </tr>\n    <tr>\n      <th>9</th>\n      <td>2020</td>\n      <td>Political</td>\n      <td>1777.0</td>\n      <td>0.939118</td>\n      <td>16.71</td>\n      <td>38.38</td>\n      <td>2705.049522</td>\n      <td>7190.478114</td>\n    </tr>\n    <tr>\n      <th>10</th>\n      <td>2020</td>\n      <td>Music</td>\n      <td>2075.0</td>\n      <td>1.096607</td>\n      <td>18.41</td>\n      <td>52.34</td>\n      <td>2343.131084</td>\n      <td>4499.280105</td>\n    </tr>\n    <tr>\n      <th>11</th>\n      <td>2020</td>\n      <td>Book</td>\n      <td>392.0</td>\n      <td>0.207166</td>\n      <td>15.82</td>\n      <td>50.77</td>\n      <td>2328.596939</td>\n      <td>3194.532258</td>\n    </tr>\n    <tr>\n      <th>12</th>\n      <td>2020</td>\n      <td>News</td>\n      <td>14899.0</td>\n      <td>7.873903</td>\n      <td>19.73</td>\n      <td>54.13</td>\n      <td>2606.625076</td>\n      <td>5752.379040</td>\n    </tr>\n    <tr>\n      <th>0</th>\n      <td>2021</td>\n      <td>Brand</td>\n      <td>31725.0</td>\n      <td>18.221449</td>\n      <td>16.08</td>\n      <td>50.67</td>\n      <td>2539.004476</td>\n      <td>5670.247206</td>\n    </tr>\n    <tr>\n      <th>1</th>\n      <td>2021</td>\n      <td>Holiday</td>\n      <td>4712.0</td>\n      <td>2.706366</td>\n      <td>19.95</td>\n      <td>59.02</td>\n      <td>2513.941426</td>\n      <td>6054.253191</td>\n    </tr>\n    <tr>\n      <th>2</th>\n      <td>2021</td>\n      <td>Person</td>\n      <td>31365.0</td>\n      <td>18.014681</td>\n      <td>16.22</td>\n      <td>48.47</td>\n      <td>2738.046134</td>\n      <td>7009.252998</td>\n    </tr>\n    <tr>\n      <th>3</th>\n      <td>2021</td>\n      <td>Interest and Hobbies</td>\n      <td>25651.0</td>\n      <td>14.732810</td>\n      <td>15.98</td>\n      <td>51.00</td>\n      <td>2058.247554</td>\n      <td>4480.030259</td>\n    </tr>\n    <tr>\n      <th>4</th>\n      <td>2021</td>\n      <td>Sport</td>\n      <td>8498.0</td>\n      <td>4.880879</td>\n      <td>23.24</td>\n      <td>62.11</td>\n      <td>2573.559543</td>\n      <td>4967.080506</td>\n    </tr>\n    <tr>\n      <th>5</th>\n      <td>2021</td>\n      <td>TV and Movies</td>\n      <td>40400.0</td>\n      <td>23.203988</td>\n      <td>15.39</td>\n      <td>54.74</td>\n      <td>2529.727203</td>\n      <td>6633.108573</td>\n    </tr>\n    <tr>\n      <th>6</th>\n      <td>2021</td>\n      <td>Other</td>\n      <td>2445.0</td>\n      <td>1.404301</td>\n      <td>14.07</td>\n      <td>56.77</td>\n      <td>2131.634356</td>\n      <td>5259.529070</td>\n    </tr>\n    <tr>\n      <th>7</th>\n      <td>2021</td>\n      <td>Video Game</td>\n      <td>2035.0</td>\n      <td>1.168815</td>\n      <td>14.50</td>\n      <td>58.57</td>\n      <td>1805.684029</td>\n      <td>4596.888136</td>\n    </tr>\n    <tr>\n      <th>8</th>\n      <td>2021</td>\n      <td>Entities</td>\n      <td>16461.0</td>\n      <td>9.454477</td>\n      <td>15.86</td>\n      <td>53.32</td>\n      <td>2237.818116</td>\n      <td>4927.079310</td>\n    </tr>\n    <tr>\n      <th>9</th>\n      <td>2021</td>\n      <td>Political</td>\n      <td>1445.0</td>\n      <td>0.829945</td>\n      <td>20.28</td>\n      <td>43.67</td>\n      <td>3776.884429</td>\n      <td>9059.699659</td>\n    </tr>\n    <tr>\n      <th>10</th>\n      <td>2021</td>\n      <td>Music</td>\n      <td>1725.0</td>\n      <td>0.990764</td>\n      <td>19.48</td>\n      <td>51.94</td>\n      <td>2261.191304</td>\n      <td>4531.401786</td>\n    </tr>\n    <tr>\n      <th>11</th>\n      <td>2021</td>\n      <td>Book</td>\n      <td>327.0</td>\n      <td>0.187814</td>\n      <td>17.43</td>\n      <td>56.88</td>\n      <td>2193.611621</td>\n      <td>4838.649123</td>\n    </tr>\n    <tr>\n      <th>12</th>\n      <td>2021</td>\n      <td>News</td>\n      <td>7319.0</td>\n      <td>4.203713</td>\n      <td>19.95</td>\n      <td>55.85</td>\n      <td>2938.256183</td>\n      <td>6649.510959</td>\n    </tr>\n  </tbody>\n</table>\n</div>"
     },
     "execution_count": 193,
     "metadata": {},
     "output_type": "execute_result"
    }
   ],
   "source": [
    "df_test = pd.DataFrame()\n",
    "cols = ['topics_cleaned']\n",
    "cats_sort = topics_categories\n",
    "\n",
    "for y in np.sort(df['year'].unique()):\n",
    "    dfy = df[df['year'] == y]\n",
    "    df_all = dfy.groupby(cols).agg(\n",
    "                                    **{\"count \" + cols[0]: pd.NamedAgg(column=cols[0], aggfunc=\"count\")},\n",
    "                                    **{\"retweets count\": pd.NamedAgg(column=\"retweet_count\", aggfunc=\"count\")},\n",
    "                                    **{\"retweets mean\": pd.NamedAgg(column=\"retweet_count\", aggfunc=\"mean\")},\n",
    "                                    **{\"followers\": pd.NamedAgg(column=\"followers\", aggfunc=\"mean\")},\n",
    "                                    )\n",
    "    df_rets = dfy[dfy['retweet_count'] > 0].groupby(cols).agg(\n",
    "                                                                **{\"count \" + cols[0]: pd.NamedAgg(column=cols[0], aggfunc=\"count\")},\n",
    "                                                                **{\"followers\": pd.NamedAgg(column=\"followers\", aggfunc=\"mean\")})\n",
    "    df_likes = dfy[dfy['like_count'] > 0].groupby(cols).agg(\n",
    "                                                            **{\"count \" + cols[0]: pd.NamedAgg(column=cols[0], aggfunc=\"count\")},\n",
    "                                                            **{\"followers\": pd.NamedAgg(column=\"followers\", aggfunc=\"mean\")})\n",
    "\n",
    "    df_all = df_all.reindex(cats_sort).reset_index()\n",
    "    df_rets = df_rets.reindex(cats_sort).reset_index()\n",
    "    df_likes = df_likes.reindex(cats_sort).reset_index()\n",
    "\n",
    "    df_all['year'] = [str(y) for i in range(len(cats_sort))]\n",
    "    df_all['sum'] = [df_all[\"count \" + cols[0]].sum() for i in range(df_all.shape[0])]\n",
    "    df_all['% ' + cols[0]] = (df_all[\"count \" + cols[0]] / df_all['sum']) * 100\n",
    "    df_all['% with retweets'] = np.round((df_rets[\"count \" + cols[0]] / df_all[\"count \" + cols[0]]) * 100, 2)\n",
    "    df_all['% with likes'] = np.round((df_likes[\"count \" + cols[0]] / df_all[\"count \" + cols[0]]) * 100, 2)\n",
    "\n",
    "    df_all['followers mean'] = df_all['followers']\n",
    "    df_all['shared followers mean'] = df_rets['followers']\n",
    "\n",
    "    df_test = pd.concat([df_test, pd.DataFrame.from_records(df_all)])\n",
    "\n",
    "df_test[['year', cols[0], \"count \" + cols[0], '% ' + cols[0], '% with retweets', '% with likes', 'followers mean', 'shared followers mean']]"
   ],
   "metadata": {
    "collapsed": false,
    "pycharm": {
     "name": "#%%\n"
    }
   }
  },
  {
   "cell_type": "code",
   "execution_count": 194,
   "outputs": [
    {
     "data": {
      "application/vnd.plotly.v1+json": {
       "data": [
        {
         "alignmentgroup": "True",
         "hovertemplate": "year=2019<br>topics_cleaned=%{x}<br>shared followers mean=%{y}<extra></extra>",
         "legendgroup": "2019",
         "marker": {
          "color": "#006D77",
          "pattern": {
           "shape": ""
          }
         },
         "name": "2019",
         "offsetgroup": "2019",
         "orientation": "v",
         "showlegend": true,
         "textposition": "auto",
         "x": [
          "Brand",
          "Holiday",
          "Person",
          "Interest and Hobbies",
          "Sport",
          "TV and Movies",
          "Other",
          "Video Game",
          "Entities",
          "Political",
          "Music",
          "Book",
          "News"
         ],
         "xaxis": "x",
         "y": [
          5057.219098801157,
          null,
          7395.971599929441,
          4289.903249630724,
          6455.0024630541875,
          6761.92676003028,
          6039.042936553575,
          5319.523510971787,
          4147.762889879058,
          6970.85046728972,
          3881.554156171285,
          5309.896551724138,
          null
         ],
         "yaxis": "y",
         "type": "bar"
        },
        {
         "alignmentgroup": "True",
         "hovertemplate": "year=2020<br>topics_cleaned=%{x}<br>shared followers mean=%{y}<extra></extra>",
         "legendgroup": "2020",
         "marker": {
          "color": "#FBD1A2",
          "pattern": {
           "shape": ""
          }
         },
         "name": "2020",
         "offsetgroup": "2020",
         "orientation": "v",
         "showlegend": true,
         "textposition": "auto",
         "x": [
          "Brand",
          "Holiday",
          "Person",
          "Interest and Hobbies",
          "Sport",
          "TV and Movies",
          "Other",
          "Video Game",
          "Entities",
          "Political",
          "Music",
          "Book",
          "News"
         ],
         "xaxis": "x",
         "y": [
          5165.764179755672,
          4584.031854379978,
          6923.75712704124,
          4443.191603394373,
          6178.097670924117,
          6238.9003699136865,
          4996.246575342466,
          3453.5754716981132,
          4544.076446280992,
          7190.478114478115,
          4499.280104712042,
          3194.532258064516,
          5752.379040489963
         ],
         "yaxis": "y",
         "type": "bar"
        },
        {
         "alignmentgroup": "True",
         "hovertemplate": "year=2021<br>topics_cleaned=%{x}<br>shared followers mean=%{y}<extra></extra>",
         "legendgroup": "2021",
         "marker": {
          "color": "#7DCFB6",
          "pattern": {
           "shape": ""
          }
         },
         "name": "2021",
         "offsetgroup": "2021",
         "orientation": "v",
         "showlegend": true,
         "textposition": "auto",
         "x": [
          "Brand",
          "Holiday",
          "Person",
          "Interest and Hobbies",
          "Sport",
          "TV and Movies",
          "Other",
          "Video Game",
          "Entities",
          "Political",
          "Music",
          "Book",
          "News"
         ],
         "xaxis": "x",
         "y": [
          5670.247206430112,
          6054.253191489362,
          7009.252997837625,
          4480.030258662762,
          4967.080506329114,
          6633.108573266849,
          5259.529069767442,
          4596.88813559322,
          4927.079310344828,
          9059.699658703072,
          4531.401785714285,
          4838.649122807017,
          6649.510958904109
         ],
         "yaxis": "y",
         "type": "bar"
        }
       ],
       "layout": {
        "template": {
         "data": {
          "histogram2dcontour": [
           {
            "type": "histogram2dcontour",
            "colorbar": {
             "outlinewidth": 0,
             "ticks": ""
            },
            "colorscale": [
             [
              0.0,
              "#0d0887"
             ],
             [
              0.1111111111111111,
              "#46039f"
             ],
             [
              0.2222222222222222,
              "#7201a8"
             ],
             [
              0.3333333333333333,
              "#9c179e"
             ],
             [
              0.4444444444444444,
              "#bd3786"
             ],
             [
              0.5555555555555556,
              "#d8576b"
             ],
             [
              0.6666666666666666,
              "#ed7953"
             ],
             [
              0.7777777777777778,
              "#fb9f3a"
             ],
             [
              0.8888888888888888,
              "#fdca26"
             ],
             [
              1.0,
              "#f0f921"
             ]
            ]
           }
          ],
          "choropleth": [
           {
            "type": "choropleth",
            "colorbar": {
             "outlinewidth": 0,
             "ticks": ""
            }
           }
          ],
          "histogram2d": [
           {
            "type": "histogram2d",
            "colorbar": {
             "outlinewidth": 0,
             "ticks": ""
            },
            "colorscale": [
             [
              0.0,
              "#0d0887"
             ],
             [
              0.1111111111111111,
              "#46039f"
             ],
             [
              0.2222222222222222,
              "#7201a8"
             ],
             [
              0.3333333333333333,
              "#9c179e"
             ],
             [
              0.4444444444444444,
              "#bd3786"
             ],
             [
              0.5555555555555556,
              "#d8576b"
             ],
             [
              0.6666666666666666,
              "#ed7953"
             ],
             [
              0.7777777777777778,
              "#fb9f3a"
             ],
             [
              0.8888888888888888,
              "#fdca26"
             ],
             [
              1.0,
              "#f0f921"
             ]
            ]
           }
          ],
          "heatmap": [
           {
            "type": "heatmap",
            "colorbar": {
             "outlinewidth": 0,
             "ticks": ""
            },
            "colorscale": [
             [
              0.0,
              "#0d0887"
             ],
             [
              0.1111111111111111,
              "#46039f"
             ],
             [
              0.2222222222222222,
              "#7201a8"
             ],
             [
              0.3333333333333333,
              "#9c179e"
             ],
             [
              0.4444444444444444,
              "#bd3786"
             ],
             [
              0.5555555555555556,
              "#d8576b"
             ],
             [
              0.6666666666666666,
              "#ed7953"
             ],
             [
              0.7777777777777778,
              "#fb9f3a"
             ],
             [
              0.8888888888888888,
              "#fdca26"
             ],
             [
              1.0,
              "#f0f921"
             ]
            ]
           }
          ],
          "heatmapgl": [
           {
            "type": "heatmapgl",
            "colorbar": {
             "outlinewidth": 0,
             "ticks": ""
            },
            "colorscale": [
             [
              0.0,
              "#0d0887"
             ],
             [
              0.1111111111111111,
              "#46039f"
             ],
             [
              0.2222222222222222,
              "#7201a8"
             ],
             [
              0.3333333333333333,
              "#9c179e"
             ],
             [
              0.4444444444444444,
              "#bd3786"
             ],
             [
              0.5555555555555556,
              "#d8576b"
             ],
             [
              0.6666666666666666,
              "#ed7953"
             ],
             [
              0.7777777777777778,
              "#fb9f3a"
             ],
             [
              0.8888888888888888,
              "#fdca26"
             ],
             [
              1.0,
              "#f0f921"
             ]
            ]
           }
          ],
          "contourcarpet": [
           {
            "type": "contourcarpet",
            "colorbar": {
             "outlinewidth": 0,
             "ticks": ""
            }
           }
          ],
          "contour": [
           {
            "type": "contour",
            "colorbar": {
             "outlinewidth": 0,
             "ticks": ""
            },
            "colorscale": [
             [
              0.0,
              "#0d0887"
             ],
             [
              0.1111111111111111,
              "#46039f"
             ],
             [
              0.2222222222222222,
              "#7201a8"
             ],
             [
              0.3333333333333333,
              "#9c179e"
             ],
             [
              0.4444444444444444,
              "#bd3786"
             ],
             [
              0.5555555555555556,
              "#d8576b"
             ],
             [
              0.6666666666666666,
              "#ed7953"
             ],
             [
              0.7777777777777778,
              "#fb9f3a"
             ],
             [
              0.8888888888888888,
              "#fdca26"
             ],
             [
              1.0,
              "#f0f921"
             ]
            ]
           }
          ],
          "surface": [
           {
            "type": "surface",
            "colorbar": {
             "outlinewidth": 0,
             "ticks": ""
            },
            "colorscale": [
             [
              0.0,
              "#0d0887"
             ],
             [
              0.1111111111111111,
              "#46039f"
             ],
             [
              0.2222222222222222,
              "#7201a8"
             ],
             [
              0.3333333333333333,
              "#9c179e"
             ],
             [
              0.4444444444444444,
              "#bd3786"
             ],
             [
              0.5555555555555556,
              "#d8576b"
             ],
             [
              0.6666666666666666,
              "#ed7953"
             ],
             [
              0.7777777777777778,
              "#fb9f3a"
             ],
             [
              0.8888888888888888,
              "#fdca26"
             ],
             [
              1.0,
              "#f0f921"
             ]
            ]
           }
          ],
          "mesh3d": [
           {
            "type": "mesh3d",
            "colorbar": {
             "outlinewidth": 0,
             "ticks": ""
            }
           }
          ],
          "scatter": [
           {
            "fillpattern": {
             "fillmode": "overlay",
             "size": 10,
             "solidity": 0.2
            },
            "type": "scatter"
           }
          ],
          "parcoords": [
           {
            "type": "parcoords",
            "line": {
             "colorbar": {
              "outlinewidth": 0,
              "ticks": ""
             }
            }
           }
          ],
          "scatterpolargl": [
           {
            "type": "scatterpolargl",
            "marker": {
             "colorbar": {
              "outlinewidth": 0,
              "ticks": ""
             }
            }
           }
          ],
          "bar": [
           {
            "error_x": {
             "color": "#2a3f5f"
            },
            "error_y": {
             "color": "#2a3f5f"
            },
            "marker": {
             "line": {
              "color": "#E5ECF6",
              "width": 0.5
             },
             "pattern": {
              "fillmode": "overlay",
              "size": 10,
              "solidity": 0.2
             }
            },
            "type": "bar"
           }
          ],
          "scattergeo": [
           {
            "type": "scattergeo",
            "marker": {
             "colorbar": {
              "outlinewidth": 0,
              "ticks": ""
             }
            }
           }
          ],
          "scatterpolar": [
           {
            "type": "scatterpolar",
            "marker": {
             "colorbar": {
              "outlinewidth": 0,
              "ticks": ""
             }
            }
           }
          ],
          "histogram": [
           {
            "marker": {
             "pattern": {
              "fillmode": "overlay",
              "size": 10,
              "solidity": 0.2
             }
            },
            "type": "histogram"
           }
          ],
          "scattergl": [
           {
            "type": "scattergl",
            "marker": {
             "colorbar": {
              "outlinewidth": 0,
              "ticks": ""
             }
            }
           }
          ],
          "scatter3d": [
           {
            "type": "scatter3d",
            "line": {
             "colorbar": {
              "outlinewidth": 0,
              "ticks": ""
             }
            },
            "marker": {
             "colorbar": {
              "outlinewidth": 0,
              "ticks": ""
             }
            }
           }
          ],
          "scattermapbox": [
           {
            "type": "scattermapbox",
            "marker": {
             "colorbar": {
              "outlinewidth": 0,
              "ticks": ""
             }
            }
           }
          ],
          "scatterternary": [
           {
            "type": "scatterternary",
            "marker": {
             "colorbar": {
              "outlinewidth": 0,
              "ticks": ""
             }
            }
           }
          ],
          "scattercarpet": [
           {
            "type": "scattercarpet",
            "marker": {
             "colorbar": {
              "outlinewidth": 0,
              "ticks": ""
             }
            }
           }
          ],
          "carpet": [
           {
            "aaxis": {
             "endlinecolor": "#2a3f5f",
             "gridcolor": "white",
             "linecolor": "white",
             "minorgridcolor": "white",
             "startlinecolor": "#2a3f5f"
            },
            "baxis": {
             "endlinecolor": "#2a3f5f",
             "gridcolor": "white",
             "linecolor": "white",
             "minorgridcolor": "white",
             "startlinecolor": "#2a3f5f"
            },
            "type": "carpet"
           }
          ],
          "table": [
           {
            "cells": {
             "fill": {
              "color": "#EBF0F8"
             },
             "line": {
              "color": "white"
             }
            },
            "header": {
             "fill": {
              "color": "#C8D4E3"
             },
             "line": {
              "color": "white"
             }
            },
            "type": "table"
           }
          ],
          "barpolar": [
           {
            "marker": {
             "line": {
              "color": "#E5ECF6",
              "width": 0.5
             },
             "pattern": {
              "fillmode": "overlay",
              "size": 10,
              "solidity": 0.2
             }
            },
            "type": "barpolar"
           }
          ],
          "pie": [
           {
            "automargin": true,
            "type": "pie"
           }
          ]
         },
         "layout": {
          "autotypenumbers": "strict",
          "colorway": [
           "#636efa",
           "#EF553B",
           "#00cc96",
           "#ab63fa",
           "#FFA15A",
           "#19d3f3",
           "#FF6692",
           "#B6E880",
           "#FF97FF",
           "#FECB52"
          ],
          "font": {
           "color": "#2a3f5f"
          },
          "hovermode": "closest",
          "hoverlabel": {
           "align": "left"
          },
          "paper_bgcolor": "white",
          "plot_bgcolor": "#E5ECF6",
          "polar": {
           "bgcolor": "#E5ECF6",
           "angularaxis": {
            "gridcolor": "white",
            "linecolor": "white",
            "ticks": ""
           },
           "radialaxis": {
            "gridcolor": "white",
            "linecolor": "white",
            "ticks": ""
           }
          },
          "ternary": {
           "bgcolor": "#E5ECF6",
           "aaxis": {
            "gridcolor": "white",
            "linecolor": "white",
            "ticks": ""
           },
           "baxis": {
            "gridcolor": "white",
            "linecolor": "white",
            "ticks": ""
           },
           "caxis": {
            "gridcolor": "white",
            "linecolor": "white",
            "ticks": ""
           }
          },
          "coloraxis": {
           "colorbar": {
            "outlinewidth": 0,
            "ticks": ""
           }
          },
          "colorscale": {
           "sequential": [
            [
             0.0,
             "#0d0887"
            ],
            [
             0.1111111111111111,
             "#46039f"
            ],
            [
             0.2222222222222222,
             "#7201a8"
            ],
            [
             0.3333333333333333,
             "#9c179e"
            ],
            [
             0.4444444444444444,
             "#bd3786"
            ],
            [
             0.5555555555555556,
             "#d8576b"
            ],
            [
             0.6666666666666666,
             "#ed7953"
            ],
            [
             0.7777777777777778,
             "#fb9f3a"
            ],
            [
             0.8888888888888888,
             "#fdca26"
            ],
            [
             1.0,
             "#f0f921"
            ]
           ],
           "sequentialminus": [
            [
             0.0,
             "#0d0887"
            ],
            [
             0.1111111111111111,
             "#46039f"
            ],
            [
             0.2222222222222222,
             "#7201a8"
            ],
            [
             0.3333333333333333,
             "#9c179e"
            ],
            [
             0.4444444444444444,
             "#bd3786"
            ],
            [
             0.5555555555555556,
             "#d8576b"
            ],
            [
             0.6666666666666666,
             "#ed7953"
            ],
            [
             0.7777777777777778,
             "#fb9f3a"
            ],
            [
             0.8888888888888888,
             "#fdca26"
            ],
            [
             1.0,
             "#f0f921"
            ]
           ],
           "diverging": [
            [
             0,
             "#8e0152"
            ],
            [
             0.1,
             "#c51b7d"
            ],
            [
             0.2,
             "#de77ae"
            ],
            [
             0.3,
             "#f1b6da"
            ],
            [
             0.4,
             "#fde0ef"
            ],
            [
             0.5,
             "#f7f7f7"
            ],
            [
             0.6,
             "#e6f5d0"
            ],
            [
             0.7,
             "#b8e186"
            ],
            [
             0.8,
             "#7fbc41"
            ],
            [
             0.9,
             "#4d9221"
            ],
            [
             1,
             "#276419"
            ]
           ]
          },
          "xaxis": {
           "gridcolor": "white",
           "linecolor": "white",
           "ticks": "",
           "title": {
            "standoff": 15
           },
           "zerolinecolor": "white",
           "automargin": true,
           "zerolinewidth": 2
          },
          "yaxis": {
           "gridcolor": "white",
           "linecolor": "white",
           "ticks": "",
           "title": {
            "standoff": 15
           },
           "zerolinecolor": "white",
           "automargin": true,
           "zerolinewidth": 2
          },
          "scene": {
           "xaxis": {
            "backgroundcolor": "#E5ECF6",
            "gridcolor": "white",
            "linecolor": "white",
            "showbackground": true,
            "ticks": "",
            "zerolinecolor": "white",
            "gridwidth": 2
           },
           "yaxis": {
            "backgroundcolor": "#E5ECF6",
            "gridcolor": "white",
            "linecolor": "white",
            "showbackground": true,
            "ticks": "",
            "zerolinecolor": "white",
            "gridwidth": 2
           },
           "zaxis": {
            "backgroundcolor": "#E5ECF6",
            "gridcolor": "white",
            "linecolor": "white",
            "showbackground": true,
            "ticks": "",
            "zerolinecolor": "white",
            "gridwidth": 2
           }
          },
          "shapedefaults": {
           "line": {
            "color": "#2a3f5f"
           }
          },
          "annotationdefaults": {
           "arrowcolor": "#2a3f5f",
           "arrowhead": 0,
           "arrowwidth": 1
          },
          "geo": {
           "bgcolor": "white",
           "landcolor": "#E5ECF6",
           "subunitcolor": "white",
           "showland": true,
           "showlakes": true,
           "lakecolor": "white"
          },
          "title": {
           "x": 0.05
          },
          "mapbox": {
           "style": "light"
          }
         }
        },
        "xaxis": {
         "anchor": "y",
         "domain": [
          0.0,
          1.0
         ],
         "title": {
          "text": "topics_cleaned"
         }
        },
        "yaxis": {
         "anchor": "x",
         "domain": [
          0.0,
          1.0
         ],
         "title": {
          "text": "Average followers count"
         }
        },
        "legend": {
         "title": {
          "text": "year"
         },
         "tracegroupgap": 0
        },
        "title": {
         "text": "Average followers between shared tweets and not shared by topic"
        },
        "barmode": "group",
        "height": 500,
        "width": 900
       },
       "config": {
        "plotlyServerURL": "https://plot.ly"
       }
      },
      "text/html": "<div>                            <div id=\"4299b71c-aa39-4413-abae-497dd0f1063b\" class=\"plotly-graph-div\" style=\"height:500px; width:900px;\"></div>            <script type=\"text/javascript\">                require([\"plotly\"], function(Plotly) {                    window.PLOTLYENV=window.PLOTLYENV || {};                                    if (document.getElementById(\"4299b71c-aa39-4413-abae-497dd0f1063b\")) {                    Plotly.newPlot(                        \"4299b71c-aa39-4413-abae-497dd0f1063b\",                        [{\"alignmentgroup\":\"True\",\"hovertemplate\":\"year=2019<br>topics_cleaned=%{x}<br>shared followers mean=%{y}<extra></extra>\",\"legendgroup\":\"2019\",\"marker\":{\"color\":\"#006D77\",\"pattern\":{\"shape\":\"\"}},\"name\":\"2019\",\"offsetgroup\":\"2019\",\"orientation\":\"v\",\"showlegend\":true,\"textposition\":\"auto\",\"x\":[\"Brand\",\"Holiday\",\"Person\",\"Interest and Hobbies\",\"Sport\",\"TV and Movies\",\"Other\",\"Video Game\",\"Entities\",\"Political\",\"Music\",\"Book\",\"News\"],\"xaxis\":\"x\",\"y\":[5057.219098801157,null,7395.971599929441,4289.903249630724,6455.0024630541875,6761.92676003028,6039.042936553575,5319.523510971787,4147.762889879058,6970.85046728972,3881.554156171285,5309.896551724138,null],\"yaxis\":\"y\",\"type\":\"bar\"},{\"alignmentgroup\":\"True\",\"hovertemplate\":\"year=2020<br>topics_cleaned=%{x}<br>shared followers mean=%{y}<extra></extra>\",\"legendgroup\":\"2020\",\"marker\":{\"color\":\"#FBD1A2\",\"pattern\":{\"shape\":\"\"}},\"name\":\"2020\",\"offsetgroup\":\"2020\",\"orientation\":\"v\",\"showlegend\":true,\"textposition\":\"auto\",\"x\":[\"Brand\",\"Holiday\",\"Person\",\"Interest and Hobbies\",\"Sport\",\"TV and Movies\",\"Other\",\"Video Game\",\"Entities\",\"Political\",\"Music\",\"Book\",\"News\"],\"xaxis\":\"x\",\"y\":[5165.764179755672,4584.031854379978,6923.75712704124,4443.191603394373,6178.097670924117,6238.9003699136865,4996.246575342466,3453.5754716981132,4544.076446280992,7190.478114478115,4499.280104712042,3194.532258064516,5752.379040489963],\"yaxis\":\"y\",\"type\":\"bar\"},{\"alignmentgroup\":\"True\",\"hovertemplate\":\"year=2021<br>topics_cleaned=%{x}<br>shared followers mean=%{y}<extra></extra>\",\"legendgroup\":\"2021\",\"marker\":{\"color\":\"#7DCFB6\",\"pattern\":{\"shape\":\"\"}},\"name\":\"2021\",\"offsetgroup\":\"2021\",\"orientation\":\"v\",\"showlegend\":true,\"textposition\":\"auto\",\"x\":[\"Brand\",\"Holiday\",\"Person\",\"Interest and Hobbies\",\"Sport\",\"TV and Movies\",\"Other\",\"Video Game\",\"Entities\",\"Political\",\"Music\",\"Book\",\"News\"],\"xaxis\":\"x\",\"y\":[5670.247206430112,6054.253191489362,7009.252997837625,4480.030258662762,4967.080506329114,6633.108573266849,5259.529069767442,4596.88813559322,4927.079310344828,9059.699658703072,4531.401785714285,4838.649122807017,6649.510958904109],\"yaxis\":\"y\",\"type\":\"bar\"}],                        {\"template\":{\"data\":{\"histogram2dcontour\":[{\"type\":\"histogram2dcontour\",\"colorbar\":{\"outlinewidth\":0,\"ticks\":\"\"},\"colorscale\":[[0.0,\"#0d0887\"],[0.1111111111111111,\"#46039f\"],[0.2222222222222222,\"#7201a8\"],[0.3333333333333333,\"#9c179e\"],[0.4444444444444444,\"#bd3786\"],[0.5555555555555556,\"#d8576b\"],[0.6666666666666666,\"#ed7953\"],[0.7777777777777778,\"#fb9f3a\"],[0.8888888888888888,\"#fdca26\"],[1.0,\"#f0f921\"]]}],\"choropleth\":[{\"type\":\"choropleth\",\"colorbar\":{\"outlinewidth\":0,\"ticks\":\"\"}}],\"histogram2d\":[{\"type\":\"histogram2d\",\"colorbar\":{\"outlinewidth\":0,\"ticks\":\"\"},\"colorscale\":[[0.0,\"#0d0887\"],[0.1111111111111111,\"#46039f\"],[0.2222222222222222,\"#7201a8\"],[0.3333333333333333,\"#9c179e\"],[0.4444444444444444,\"#bd3786\"],[0.5555555555555556,\"#d8576b\"],[0.6666666666666666,\"#ed7953\"],[0.7777777777777778,\"#fb9f3a\"],[0.8888888888888888,\"#fdca26\"],[1.0,\"#f0f921\"]]}],\"heatmap\":[{\"type\":\"heatmap\",\"colorbar\":{\"outlinewidth\":0,\"ticks\":\"\"},\"colorscale\":[[0.0,\"#0d0887\"],[0.1111111111111111,\"#46039f\"],[0.2222222222222222,\"#7201a8\"],[0.3333333333333333,\"#9c179e\"],[0.4444444444444444,\"#bd3786\"],[0.5555555555555556,\"#d8576b\"],[0.6666666666666666,\"#ed7953\"],[0.7777777777777778,\"#fb9f3a\"],[0.8888888888888888,\"#fdca26\"],[1.0,\"#f0f921\"]]}],\"heatmapgl\":[{\"type\":\"heatmapgl\",\"colorbar\":{\"outlinewidth\":0,\"ticks\":\"\"},\"colorscale\":[[0.0,\"#0d0887\"],[0.1111111111111111,\"#46039f\"],[0.2222222222222222,\"#7201a8\"],[0.3333333333333333,\"#9c179e\"],[0.4444444444444444,\"#bd3786\"],[0.5555555555555556,\"#d8576b\"],[0.6666666666666666,\"#ed7953\"],[0.7777777777777778,\"#fb9f3a\"],[0.8888888888888888,\"#fdca26\"],[1.0,\"#f0f921\"]]}],\"contourcarpet\":[{\"type\":\"contourcarpet\",\"colorbar\":{\"outlinewidth\":0,\"ticks\":\"\"}}],\"contour\":[{\"type\":\"contour\",\"colorbar\":{\"outlinewidth\":0,\"ticks\":\"\"},\"colorscale\":[[0.0,\"#0d0887\"],[0.1111111111111111,\"#46039f\"],[0.2222222222222222,\"#7201a8\"],[0.3333333333333333,\"#9c179e\"],[0.4444444444444444,\"#bd3786\"],[0.5555555555555556,\"#d8576b\"],[0.6666666666666666,\"#ed7953\"],[0.7777777777777778,\"#fb9f3a\"],[0.8888888888888888,\"#fdca26\"],[1.0,\"#f0f921\"]]}],\"surface\":[{\"type\":\"surface\",\"colorbar\":{\"outlinewidth\":0,\"ticks\":\"\"},\"colorscale\":[[0.0,\"#0d0887\"],[0.1111111111111111,\"#46039f\"],[0.2222222222222222,\"#7201a8\"],[0.3333333333333333,\"#9c179e\"],[0.4444444444444444,\"#bd3786\"],[0.5555555555555556,\"#d8576b\"],[0.6666666666666666,\"#ed7953\"],[0.7777777777777778,\"#fb9f3a\"],[0.8888888888888888,\"#fdca26\"],[1.0,\"#f0f921\"]]}],\"mesh3d\":[{\"type\":\"mesh3d\",\"colorbar\":{\"outlinewidth\":0,\"ticks\":\"\"}}],\"scatter\":[{\"fillpattern\":{\"fillmode\":\"overlay\",\"size\":10,\"solidity\":0.2},\"type\":\"scatter\"}],\"parcoords\":[{\"type\":\"parcoords\",\"line\":{\"colorbar\":{\"outlinewidth\":0,\"ticks\":\"\"}}}],\"scatterpolargl\":[{\"type\":\"scatterpolargl\",\"marker\":{\"colorbar\":{\"outlinewidth\":0,\"ticks\":\"\"}}}],\"bar\":[{\"error_x\":{\"color\":\"#2a3f5f\"},\"error_y\":{\"color\":\"#2a3f5f\"},\"marker\":{\"line\":{\"color\":\"#E5ECF6\",\"width\":0.5},\"pattern\":{\"fillmode\":\"overlay\",\"size\":10,\"solidity\":0.2}},\"type\":\"bar\"}],\"scattergeo\":[{\"type\":\"scattergeo\",\"marker\":{\"colorbar\":{\"outlinewidth\":0,\"ticks\":\"\"}}}],\"scatterpolar\":[{\"type\":\"scatterpolar\",\"marker\":{\"colorbar\":{\"outlinewidth\":0,\"ticks\":\"\"}}}],\"histogram\":[{\"marker\":{\"pattern\":{\"fillmode\":\"overlay\",\"size\":10,\"solidity\":0.2}},\"type\":\"histogram\"}],\"scattergl\":[{\"type\":\"scattergl\",\"marker\":{\"colorbar\":{\"outlinewidth\":0,\"ticks\":\"\"}}}],\"scatter3d\":[{\"type\":\"scatter3d\",\"line\":{\"colorbar\":{\"outlinewidth\":0,\"ticks\":\"\"}},\"marker\":{\"colorbar\":{\"outlinewidth\":0,\"ticks\":\"\"}}}],\"scattermapbox\":[{\"type\":\"scattermapbox\",\"marker\":{\"colorbar\":{\"outlinewidth\":0,\"ticks\":\"\"}}}],\"scatterternary\":[{\"type\":\"scatterternary\",\"marker\":{\"colorbar\":{\"outlinewidth\":0,\"ticks\":\"\"}}}],\"scattercarpet\":[{\"type\":\"scattercarpet\",\"marker\":{\"colorbar\":{\"outlinewidth\":0,\"ticks\":\"\"}}}],\"carpet\":[{\"aaxis\":{\"endlinecolor\":\"#2a3f5f\",\"gridcolor\":\"white\",\"linecolor\":\"white\",\"minorgridcolor\":\"white\",\"startlinecolor\":\"#2a3f5f\"},\"baxis\":{\"endlinecolor\":\"#2a3f5f\",\"gridcolor\":\"white\",\"linecolor\":\"white\",\"minorgridcolor\":\"white\",\"startlinecolor\":\"#2a3f5f\"},\"type\":\"carpet\"}],\"table\":[{\"cells\":{\"fill\":{\"color\":\"#EBF0F8\"},\"line\":{\"color\":\"white\"}},\"header\":{\"fill\":{\"color\":\"#C8D4E3\"},\"line\":{\"color\":\"white\"}},\"type\":\"table\"}],\"barpolar\":[{\"marker\":{\"line\":{\"color\":\"#E5ECF6\",\"width\":0.5},\"pattern\":{\"fillmode\":\"overlay\",\"size\":10,\"solidity\":0.2}},\"type\":\"barpolar\"}],\"pie\":[{\"automargin\":true,\"type\":\"pie\"}]},\"layout\":{\"autotypenumbers\":\"strict\",\"colorway\":[\"#636efa\",\"#EF553B\",\"#00cc96\",\"#ab63fa\",\"#FFA15A\",\"#19d3f3\",\"#FF6692\",\"#B6E880\",\"#FF97FF\",\"#FECB52\"],\"font\":{\"color\":\"#2a3f5f\"},\"hovermode\":\"closest\",\"hoverlabel\":{\"align\":\"left\"},\"paper_bgcolor\":\"white\",\"plot_bgcolor\":\"#E5ECF6\",\"polar\":{\"bgcolor\":\"#E5ECF6\",\"angularaxis\":{\"gridcolor\":\"white\",\"linecolor\":\"white\",\"ticks\":\"\"},\"radialaxis\":{\"gridcolor\":\"white\",\"linecolor\":\"white\",\"ticks\":\"\"}},\"ternary\":{\"bgcolor\":\"#E5ECF6\",\"aaxis\":{\"gridcolor\":\"white\",\"linecolor\":\"white\",\"ticks\":\"\"},\"baxis\":{\"gridcolor\":\"white\",\"linecolor\":\"white\",\"ticks\":\"\"},\"caxis\":{\"gridcolor\":\"white\",\"linecolor\":\"white\",\"ticks\":\"\"}},\"coloraxis\":{\"colorbar\":{\"outlinewidth\":0,\"ticks\":\"\"}},\"colorscale\":{\"sequential\":[[0.0,\"#0d0887\"],[0.1111111111111111,\"#46039f\"],[0.2222222222222222,\"#7201a8\"],[0.3333333333333333,\"#9c179e\"],[0.4444444444444444,\"#bd3786\"],[0.5555555555555556,\"#d8576b\"],[0.6666666666666666,\"#ed7953\"],[0.7777777777777778,\"#fb9f3a\"],[0.8888888888888888,\"#fdca26\"],[1.0,\"#f0f921\"]],\"sequentialminus\":[[0.0,\"#0d0887\"],[0.1111111111111111,\"#46039f\"],[0.2222222222222222,\"#7201a8\"],[0.3333333333333333,\"#9c179e\"],[0.4444444444444444,\"#bd3786\"],[0.5555555555555556,\"#d8576b\"],[0.6666666666666666,\"#ed7953\"],[0.7777777777777778,\"#fb9f3a\"],[0.8888888888888888,\"#fdca26\"],[1.0,\"#f0f921\"]],\"diverging\":[[0,\"#8e0152\"],[0.1,\"#c51b7d\"],[0.2,\"#de77ae\"],[0.3,\"#f1b6da\"],[0.4,\"#fde0ef\"],[0.5,\"#f7f7f7\"],[0.6,\"#e6f5d0\"],[0.7,\"#b8e186\"],[0.8,\"#7fbc41\"],[0.9,\"#4d9221\"],[1,\"#276419\"]]},\"xaxis\":{\"gridcolor\":\"white\",\"linecolor\":\"white\",\"ticks\":\"\",\"title\":{\"standoff\":15},\"zerolinecolor\":\"white\",\"automargin\":true,\"zerolinewidth\":2},\"yaxis\":{\"gridcolor\":\"white\",\"linecolor\":\"white\",\"ticks\":\"\",\"title\":{\"standoff\":15},\"zerolinecolor\":\"white\",\"automargin\":true,\"zerolinewidth\":2},\"scene\":{\"xaxis\":{\"backgroundcolor\":\"#E5ECF6\",\"gridcolor\":\"white\",\"linecolor\":\"white\",\"showbackground\":true,\"ticks\":\"\",\"zerolinecolor\":\"white\",\"gridwidth\":2},\"yaxis\":{\"backgroundcolor\":\"#E5ECF6\",\"gridcolor\":\"white\",\"linecolor\":\"white\",\"showbackground\":true,\"ticks\":\"\",\"zerolinecolor\":\"white\",\"gridwidth\":2},\"zaxis\":{\"backgroundcolor\":\"#E5ECF6\",\"gridcolor\":\"white\",\"linecolor\":\"white\",\"showbackground\":true,\"ticks\":\"\",\"zerolinecolor\":\"white\",\"gridwidth\":2}},\"shapedefaults\":{\"line\":{\"color\":\"#2a3f5f\"}},\"annotationdefaults\":{\"arrowcolor\":\"#2a3f5f\",\"arrowhead\":0,\"arrowwidth\":1},\"geo\":{\"bgcolor\":\"white\",\"landcolor\":\"#E5ECF6\",\"subunitcolor\":\"white\",\"showland\":true,\"showlakes\":true,\"lakecolor\":\"white\"},\"title\":{\"x\":0.05},\"mapbox\":{\"style\":\"light\"}}},\"xaxis\":{\"anchor\":\"y\",\"domain\":[0.0,1.0],\"title\":{\"text\":\"topics_cleaned\"}},\"yaxis\":{\"anchor\":\"x\",\"domain\":[0.0,1.0],\"title\":{\"text\":\"Average followers count\"}},\"legend\":{\"title\":{\"text\":\"year\"},\"tracegroupgap\":0},\"title\":{\"text\":\"Average followers between shared tweets and not shared by topic\"},\"barmode\":\"group\",\"height\":500,\"width\":900},                        {\"responsive\": true}                    ).then(function(){\n                            \nvar gd = document.getElementById('4299b71c-aa39-4413-abae-497dd0f1063b');\nvar x = new MutationObserver(function (mutations, observer) {{\n        var display = window.getComputedStyle(gd).display;\n        if (!display || display === 'none') {{\n            console.log([gd, 'removed!']);\n            Plotly.purge(gd);\n            observer.disconnect();\n        }}\n}});\n\n// Listen for the removal of the full notebook cells\nvar notebookContainer = gd.closest('#notebook-container');\nif (notebookContainer) {{\n    x.observe(notebookContainer, {childList: true});\n}}\n\n// Listen for the clearing of the current output cell\nvar outputEl = gd.closest('.output');\nif (outputEl) {{\n    x.observe(outputEl, {childList: true});\n}}\n\n                        })                };                });            </script>        </div>"
     },
     "metadata": {},
     "output_type": "display_data"
    }
   ],
   "source": [
    "fig = px.bar(df_test, x=\"topics_cleaned\", y=\"shared followers mean\", color=\"year\", color_discrete_sequence=palette, barmode=\"group\",\n",
    "             title=\"Average followers between shared tweets and not shared by topic\", width=900, height=500)\n",
    "fig.update_yaxes(title_text=\"Average followers count\")\n",
    "fig.show()\n",
    "#plotly.offline.plot(fig, filename='../../data/charts/Average followers between shared tweets and not shared by topic.html')"
   ],
   "metadata": {
    "collapsed": false,
    "pycharm": {
     "name": "#%%\n"
    }
   }
  },
  {
   "cell_type": "markdown",
   "source": [
    "### Analysing retweeters characteristics"
   ],
   "metadata": {
    "collapsed": false,
    "pycharm": {
     "name": "#%% md\n"
    }
   }
  },
  {
   "cell_type": "code",
   "execution_count": 109,
   "outputs": [],
   "source": [
    "def get_avg_followers_retweets(og_tweet_id):\n",
    "    matches = df_retweets_info[df_retweets_info['ref_tweed_id'] == og_tweet_id]\n",
    "    if matches.shape[0] == 0: return -1\n",
    "    return int(matches['followers'].mean())"
   ],
   "metadata": {
    "collapsed": false,
    "pycharm": {
     "name": "#%%\n"
    }
   }
  },
  {
   "cell_type": "code",
   "execution_count": 110,
   "outputs": [],
   "source": [
    "def time_diff_from_original_old(og_tweet_time, retweet_time):\n",
    "    return abs(og_tweet_time.replace(tzinfo=datetime.timezone.utc) - retweet_time.replace(tzinfo=datetime.timezone.utc)).total_seconds() / 3600.0"
   ],
   "metadata": {
    "collapsed": false,
    "pycharm": {
     "name": "#%%\n"
    }
   }
  },
  {
   "cell_type": "code",
   "execution_count": 111,
   "outputs": [],
   "source": [
    "def time_diff_from_original(og_tweet_time, retweet_time):\n",
    "    return abs(og_tweet_time - retweet_time).total_seconds() / 3600.0"
   ],
   "metadata": {
    "collapsed": false,
    "pycharm": {
     "name": "#%%\n"
    }
   }
  },
  {
   "cell_type": "code",
   "execution_count": 112,
   "outputs": [],
   "source": [
    "def get_avg_retweets_time(og_tweet_time, og_tweet_id):\n",
    "    matches = df_retweets_info[df_retweets_info['ref_tweed_id'] == og_tweet_id]\n",
    "    if matches.shape[0] == 0: return -1\n",
    "    t = [time_diff_from_original(og_tweet_time, retweet_time) for retweet_time in matches['timestamp']]\n",
    "    return mean(t)"
   ],
   "metadata": {
    "collapsed": false,
    "pycharm": {
     "name": "#%%\n"
    }
   }
  },
  {
   "cell_type": "code",
   "execution_count": 113,
   "outputs": [],
   "source": [
    "def get_avg_retweets_account_age_old(og_tweet_id):\n",
    "    matches = df_retweets_info[df_retweets_info['ref_tweed_id'] == og_tweet_id]\n",
    "    if matches.shape[0] == 0: return -1\n",
    "    t = [(datetime.datetime.now().replace(tzinfo=datetime.timezone.utc) - created_at.replace(tzinfo=datetime.timezone.utc)) / np.timedelta64(1, 'Y') for created_at in matches['created_at']]\n",
    "    return mean(t)"
   ],
   "metadata": {
    "collapsed": false,
    "pycharm": {
     "name": "#%%\n"
    }
   }
  },
  {
   "cell_type": "code",
   "execution_count": 114,
   "outputs": [],
   "source": [
    "def get_avg_retweets_account_age(og_tweet_id):\n",
    "    matches = df_retweets_info[df_retweets_info['ref_tweed_id'] == og_tweet_id]\n",
    "    if matches.shape[0] == 0: return -1\n",
    "\n",
    "    ages = pd.to_datetime(matches['created_at'], utc=True).dt.strftime(\"%Y-%m-%d\")\n",
    "    ages = pd.to_datetime(ages)\n",
    "    ages = ages.apply(lambda x: relativedelta(datetime.datetime.now(), x).years)\n",
    "\n",
    "    return ages.mean()"
   ],
   "metadata": {
    "collapsed": false,
    "pycharm": {
     "name": "#%%\n"
    }
   }
  },
  {
   "cell_type": "code",
   "execution_count": 115,
   "outputs": [],
   "source": [
    "def get_retweets_half_time(og_tweet_time, og_tweet_id):\n",
    "    matches = df_retweets_info[df_retweets_info['ref_tweed_id'] == og_tweet_id]\n",
    "    if matches.shape[0] == 0: return -1\n",
    "    fist_half_retweet_time = matches.iloc[int(len(matches)/2)]['timestamp']\n",
    "    fist_half_retweet_time_diff = time_diff_from_original(og_tweet_time, fist_half_retweet_time)\n",
    "    return fist_half_retweet_time_diff"
   ],
   "metadata": {
    "collapsed": false,
    "pycharm": {
     "name": "#%%\n"
    }
   }
  },
  {
   "cell_type": "code",
   "execution_count": 116,
   "outputs": [],
   "source": [
    "def get_retweets_total_time(og_tweet_time, og_tweet_id):\n",
    "    matches = df_retweets_info[df_retweets_info['ref_tweed_id'] == og_tweet_id]\n",
    "    if matches.shape[0] == 0: return -1\n",
    "    total_retweet_time = matches.iloc[int(len(matches) - 1)]['timestamp']\n",
    "    total_retweet_time_diff = time_diff_from_original(og_tweet_time, total_retweet_time)\n",
    "    return total_retweet_time_diff"
   ],
   "metadata": {
    "collapsed": false,
    "pycharm": {
     "name": "#%%\n"
    }
   }
  },
  {
   "cell_type": "code",
   "execution_count": 117,
   "outputs": [],
   "source": [
    "def get_retweets_followers_split(og_tweet_id):\n",
    "    matches = df_retweets_info[df_retweets_info['ref_tweed_id'] == og_tweet_id]\n",
    "    if matches.shape[0] == 0: return -1\n",
    "    return matches[:int(len(matches)/2)]['followers'].mean()"
   ],
   "metadata": {
    "collapsed": false,
    "pycharm": {
     "name": "#%%\n"
    }
   }
  },
  {
   "cell_type": "code",
   "execution_count": 118,
   "outputs": [],
   "source": [
    "def get_retweets_followers_second_split(og_tweet_id):\n",
    "    matches = df_retweets_info[df_retweets_info['ref_tweed_id'] == og_tweet_id]\n",
    "    if matches.shape[0] == 0: return -1\n",
    "    return matches[:int(len(matches) - 1)]['followers'].mean()"
   ],
   "metadata": {
    "collapsed": false,
    "pycharm": {
     "name": "#%%\n"
    }
   }
  },
  {
   "cell_type": "code",
   "execution_count": 181,
   "outputs": [],
   "source": [
    "def retweeters_characteristics(min_retweets):\n",
    "    df_final = pd.DataFrame()\n",
    "    for y in np.sort(df['year'].unique()):\n",
    "\n",
    "        dfy = df[df['year'] == y]\n",
    "        cats_vals = []\n",
    "\n",
    "        topics = dfy[~dfy['topics_cleaned'].isna()]['topics_cleaned'].unique()\n",
    "        topics = sorted(topics,key=topics_categories.index)\n",
    "\n",
    "        for topic in topics:\n",
    "            tweets_by_topic = dfy[(dfy['topics_cleaned'] == topic) & (dfy['retweet_count'] > min_retweets)].copy()\n",
    "\n",
    "            cat_vals = dict()\n",
    "            cat_vals['Year'] = str(y)\n",
    "            cat_vals['Topic'] = topic\n",
    "\n",
    "            get_basic_analysis(tweets_by_topic, cat_vals)\n",
    "            get_timing_analysis(tweets_by_topic, cat_vals)\n",
    "\n",
    "            cats_vals.append(cat_vals)\n",
    "\n",
    "\n",
    "        df_year = pd.DataFrame(cats_vals, columns=['Topic', 'Average Retweeters Followers', 'Average Retweets Time', 'Average Retweeters Account Age', 'Average Retweeters Half Time', 'Average Retweeters Total Time', '% Time to get 50% retweets', 'Average Retweeters Followers First Half', 'Average Retweeters Followers Second Half'])\n",
    "        df_year['Year'] = [str(y) for i in range(len(topics))]\n",
    "        df_final = pd.concat([df_final, pd.DataFrame.from_records(df_year)])\n",
    "\n",
    "    return df_final\n",
    "\n",
    "\n",
    "def get_basic_analysis(df, topic_values):\n",
    "    df['avg_retweeters_followers'] = [get_avg_followers_retweets(x) for x in zip(df['tweet_id'])]\n",
    "    df['avg_retweeters_time'] = [get_avg_retweets_time(x, y) for x, y in zip(df['timestamp'], df['tweet_id'])]\n",
    "    df['avg_retweeters_account_age'] = [get_avg_retweets_account_age(x) for x in df['tweet_id']]\n",
    "\n",
    "    avg_retweeters_followers = df[df['avg_retweeters_followers'] != -1]['avg_retweeters_followers'].mean()\n",
    "    avg_retweeters_time = df[df['avg_retweeters_time'] != -1]['avg_retweeters_time'].mean()\n",
    "    avg_retweeters_account_age = df[df['avg_retweeters_account_age'] != -1]['avg_retweeters_account_age'].mean()\n",
    "\n",
    "    if pd.isna(avg_retweeters_followers):\n",
    "        avg_retweeters_followers = 0\n",
    "\n",
    "    if pd.isna(avg_retweeters_time):\n",
    "        avg_retweeters_time = 0\n",
    "\n",
    "    if pd.isna(avg_retweeters_account_age):\n",
    "        avg_retweeters_account_age = 0\n",
    "\n",
    "    topic_values['Average Retweeters Followers'] = int(avg_retweeters_followers)\n",
    "    topic_values['Average Retweets Time'] = int(avg_retweeters_time)\n",
    "    topic_values['Average Retweeters Account Age'] = avg_retweeters_account_age\n",
    "\n",
    "\n",
    "def get_timing_analysis(df, topic_values):\n",
    "    df['first_half_time'] = [get_retweets_half_time(x, y) for x, y in zip(df['timestamp'], df['tweet_id'])]\n",
    "    df['total_time'] = [get_retweets_total_time(x, y) for x, y in zip(df['timestamp'], df['tweet_id'])]\n",
    "    df['first_half_avg_foll'] = [get_retweets_followers_split(x) for x in zip(df['tweet_id'])]\n",
    "    df['second_half_avg_foll'] = [get_retweets_followers_second_split(x) for x in zip(df['tweet_id'])]\n",
    "\n",
    "    avg_first_half_time = df[df['first_half_time'] != -1]['first_half_time'].mean()\n",
    "    avg_total_time = df[df['total_time'] != -1]['total_time'].mean()\n",
    "    avg_first_half_avg_foll = df[df['first_half_avg_foll'] != -1]['first_half_avg_foll'].mean()\n",
    "    avg_second_half_avg_foll = df[df['second_half_avg_foll'] != -1]['second_half_avg_foll'].mean()\n",
    "\n",
    "    if  pd.isna(avg_first_half_time):\n",
    "        avg_first_half_time = 0\n",
    "\n",
    "    if pd.isna(avg_total_time):\n",
    "        avg_total_time = 0\n",
    "\n",
    "    if pd.isna(avg_first_half_avg_foll):\n",
    "        avg_first_half_avg_foll = 0\n",
    "\n",
    "    if pd.isna(avg_second_half_avg_foll):\n",
    "        avg_second_half_avg_foll = 0\n",
    "\n",
    "    topic_values['Average Retweeters Half Time'] = avg_first_half_time\n",
    "    topic_values['Average Retweeters Total Time'] = avg_total_time\n",
    "    if avg_first_half_time != 0 and avg_total_time != 0:\n",
    "        topic_values['% Time to get 50% retweets'] = (np.round(avg_first_half_time / avg_total_time, 2)) * 100\n",
    "    else:\n",
    "        topic_values['% Time to get 50% retweets'] = 0\n",
    "    topic_values['Average Retweeters Followers First Half'] = avg_first_half_avg_foll\n",
    "    topic_values['Average Retweeters Followers Second Half'] = avg_second_half_avg_foll"
   ],
   "metadata": {
    "collapsed": false,
    "pycharm": {
     "name": "#%%\n"
    }
   }
  },
  {
   "cell_type": "code",
   "execution_count": null,
   "outputs": [],
   "source": [
    "def retweeters_info_chart(df, x_col_categories, x_col, y_col, title, offline):\n",
    "    fig = px.bar(df, x=x_col, y=y_col, color=\"Year\", color_discrete_sequence=palette, barmode=\"group\",\n",
    "                 category_orders={x_col: x_col_categories,\n",
    "                              'year': df['Year'].unique()})\n",
    "    fig.update_layout(title=title)\n",
    "    fig.show()\n",
    "    if offline:\n",
    "        plotly.offline.plot(fig, filename='../../data/charts/' + title + '.html')"
   ],
   "metadata": {
    "collapsed": false,
    "pycharm": {
     "name": "#%%\n"
    }
   }
  },
  {
   "cell_type": "code",
   "execution_count": null,
   "outputs": [],
   "source": [
    "def analysis_chart(df, x_col, y_bar, y_line, x_name, y_bar_name, y_line_name, title, offline):\n",
    "    fig = make_subplots(specs=[[{\"secondary_y\": True}]])\n",
    "    years = np.sort(df['Year'].unique())\n",
    "    years_count = len(df['Year'].unique())\n",
    "\n",
    "    for i in range(years_count):\n",
    "        year = years[i]\n",
    "        dfy = df[df['Year'] == year]\n",
    "        fig.add_trace(go.Bar(x=dfy[x_col], y=dfy[y_bar], text=list(map(str, dfy[y_bar].tolist())), name=y_bar_name + ' ' + str(year), marker_color=palette[i], width=0.28, textposition='inside'), secondary_y=False)\n",
    "        fig.add_trace(go.Scatter(x=dfy[x_col], y=dfy[y_line], name=y_line_name + ' ' + str(year), marker_color=palette[i+years_count]), secondary_y=True)\n",
    "\n",
    "    fig.update_yaxes(title_text=y_line_name, secondary_y=True)\n",
    "    fig.update_yaxes(title_text=y_bar_name, secondary_y=False)\n",
    "    fig.update_layout(title_text=title, width=1100, height=500)\n",
    "    fig.update_xaxes(title_text=x_name)\n",
    "    fig.show()\n",
    "    if offline:\n",
    "        plotly.offline.plot(fig, filename='../../data/charts/' + title + '.html')"
   ],
   "metadata": {
    "collapsed": false,
    "pycharm": {
     "name": "#%%\n"
    }
   }
  },
  {
   "cell_type": "code",
   "execution_count": 120,
   "outputs": [
    {
     "name": "stdout",
     "output_type": "stream",
     "text": [
      "avg_retweeters_followers: year 2019 topic: Holiday\n",
      "avg_retweeters_followers: year 2019 topic: Holiday\n",
      "avg_retweeters_followers: year 2019 topic: Holiday\n",
      "avg_first_half_time: year 2019 topic: Holiday\n",
      "avg_total_time: year 2019 topic: Holiday\n",
      "avg_first_half_avg_foll: year 2019 topic: Holiday\n",
      "avg_second_half_avg_foll: year 2019 topic: Holiday\n"
     ]
    },
    {
     "data": {
      "text/plain": "                   Topic  Average Retweeters Followers  Average Retweets Time  \\\n0                  Other                          6338                    139   \n1                 Person                          7644                    177   \n2          TV and Movies                          9105                     76   \n3               Entities                          4797                    117   \n4   Interest and Hobbies                          4842                    143   \n5                  Sport                          4974                     96   \n6                  Brand                          5996                    214   \n7                  Music                          4646                    253   \n8             Video Game                          4796                    266   \n9              Political                         10669                    149   \n10                  Book                          5347                    112   \n11               Holiday                             0                      0   \n0                  Brand                          6064                    160   \n1                Holiday                          4363                     85   \n2                 Person                          6535                     71   \n3   Interest and Hobbies                          6287                     97   \n4                  Sport                          4862                     55   \n5          TV and Movies                          9898                     80   \n6                  Other                          4054                    107   \n7             Video Game                          2809                     77   \n8               Entities                          4966                    143   \n9              Political                          5563                     69   \n10                 Music                         13073                     94   \n11                  Book                          3144                     61   \n12                  News                          8568                    141   \n0                Holiday                          7855                     52   \n1                  Brand                          5970                     91   \n2   Interest and Hobbies                          5346                     82   \n3          TV and Movies                          7516                     36   \n4                 Person                          8095                     77   \n5                   News                          7138                     20   \n6               Entities                          5448                     62   \n7                  Music                          3425                     46   \n8                  Other                          2526                     94   \n9             Video Game                          3938                     16   \n10                 Sport                          4745                     24   \n11                  Book                          7028                     10   \n12             Political                          4649                    127   \n\n    Average Retweeters Account Age  Year  \n0                         8.420843  2019  \n1                         8.385796  2019  \n2                         8.709884  2019  \n3                         8.412541  2019  \n4                         8.254813  2019  \n5                         8.282345  2019  \n6                         8.345952  2019  \n7                         8.280334  2019  \n8                         7.325862  2019  \n9                         8.578509  2019  \n10                        9.384524  2019  \n11                        0.000000  2019  \n0                         7.806268  2020  \n1                         7.987912  2020  \n2                         7.918523  2020  \n3                         7.709327  2020  \n4                         7.786436  2020  \n5                         8.138687  2020  \n6                         7.411603  2020  \n7                         6.988752  2020  \n8                         7.838190  2020  \n9                         8.570876  2020  \n10                        7.777815  2020  \n11                        7.511289  2020  \n12                        8.409155  2020  \n0                         7.311491  2021  \n1                         6.910178  2021  \n2                         6.743358  2021  \n3                         7.530460  2021  \n4                         7.122265  2021  \n5                         8.004095  2021  \n6                         7.169166  2021  \n7                         7.793759  2021  \n8                         6.611166  2021  \n9                         6.214273  2021  \n10                        7.109109  2021  \n11                        7.766667  2021  \n12                        7.126944  2021  ",
      "text/html": "<div>\n<style scoped>\n    .dataframe tbody tr th:only-of-type {\n        vertical-align: middle;\n    }\n\n    .dataframe tbody tr th {\n        vertical-align: top;\n    }\n\n    .dataframe thead th {\n        text-align: right;\n    }\n</style>\n<table border=\"1\" class=\"dataframe\">\n  <thead>\n    <tr style=\"text-align: right;\">\n      <th></th>\n      <th>Topic</th>\n      <th>Average Retweeters Followers</th>\n      <th>Average Retweets Time</th>\n      <th>Average Retweeters Account Age</th>\n      <th>Year</th>\n    </tr>\n  </thead>\n  <tbody>\n    <tr>\n      <th>0</th>\n      <td>Other</td>\n      <td>6338</td>\n      <td>139</td>\n      <td>8.420843</td>\n      <td>2019</td>\n    </tr>\n    <tr>\n      <th>1</th>\n      <td>Person</td>\n      <td>7644</td>\n      <td>177</td>\n      <td>8.385796</td>\n      <td>2019</td>\n    </tr>\n    <tr>\n      <th>2</th>\n      <td>TV and Movies</td>\n      <td>9105</td>\n      <td>76</td>\n      <td>8.709884</td>\n      <td>2019</td>\n    </tr>\n    <tr>\n      <th>3</th>\n      <td>Entities</td>\n      <td>4797</td>\n      <td>117</td>\n      <td>8.412541</td>\n      <td>2019</td>\n    </tr>\n    <tr>\n      <th>4</th>\n      <td>Interest and Hobbies</td>\n      <td>4842</td>\n      <td>143</td>\n      <td>8.254813</td>\n      <td>2019</td>\n    </tr>\n    <tr>\n      <th>5</th>\n      <td>Sport</td>\n      <td>4974</td>\n      <td>96</td>\n      <td>8.282345</td>\n      <td>2019</td>\n    </tr>\n    <tr>\n      <th>6</th>\n      <td>Brand</td>\n      <td>5996</td>\n      <td>214</td>\n      <td>8.345952</td>\n      <td>2019</td>\n    </tr>\n    <tr>\n      <th>7</th>\n      <td>Music</td>\n      <td>4646</td>\n      <td>253</td>\n      <td>8.280334</td>\n      <td>2019</td>\n    </tr>\n    <tr>\n      <th>8</th>\n      <td>Video Game</td>\n      <td>4796</td>\n      <td>266</td>\n      <td>7.325862</td>\n      <td>2019</td>\n    </tr>\n    <tr>\n      <th>9</th>\n      <td>Political</td>\n      <td>10669</td>\n      <td>149</td>\n      <td>8.578509</td>\n      <td>2019</td>\n    </tr>\n    <tr>\n      <th>10</th>\n      <td>Book</td>\n      <td>5347</td>\n      <td>112</td>\n      <td>9.384524</td>\n      <td>2019</td>\n    </tr>\n    <tr>\n      <th>11</th>\n      <td>Holiday</td>\n      <td>0</td>\n      <td>0</td>\n      <td>0.000000</td>\n      <td>2019</td>\n    </tr>\n    <tr>\n      <th>0</th>\n      <td>Brand</td>\n      <td>6064</td>\n      <td>160</td>\n      <td>7.806268</td>\n      <td>2020</td>\n    </tr>\n    <tr>\n      <th>1</th>\n      <td>Holiday</td>\n      <td>4363</td>\n      <td>85</td>\n      <td>7.987912</td>\n      <td>2020</td>\n    </tr>\n    <tr>\n      <th>2</th>\n      <td>Person</td>\n      <td>6535</td>\n      <td>71</td>\n      <td>7.918523</td>\n      <td>2020</td>\n    </tr>\n    <tr>\n      <th>3</th>\n      <td>Interest and Hobbies</td>\n      <td>6287</td>\n      <td>97</td>\n      <td>7.709327</td>\n      <td>2020</td>\n    </tr>\n    <tr>\n      <th>4</th>\n      <td>Sport</td>\n      <td>4862</td>\n      <td>55</td>\n      <td>7.786436</td>\n      <td>2020</td>\n    </tr>\n    <tr>\n      <th>5</th>\n      <td>TV and Movies</td>\n      <td>9898</td>\n      <td>80</td>\n      <td>8.138687</td>\n      <td>2020</td>\n    </tr>\n    <tr>\n      <th>6</th>\n      <td>Other</td>\n      <td>4054</td>\n      <td>107</td>\n      <td>7.411603</td>\n      <td>2020</td>\n    </tr>\n    <tr>\n      <th>7</th>\n      <td>Video Game</td>\n      <td>2809</td>\n      <td>77</td>\n      <td>6.988752</td>\n      <td>2020</td>\n    </tr>\n    <tr>\n      <th>8</th>\n      <td>Entities</td>\n      <td>4966</td>\n      <td>143</td>\n      <td>7.838190</td>\n      <td>2020</td>\n    </tr>\n    <tr>\n      <th>9</th>\n      <td>Political</td>\n      <td>5563</td>\n      <td>69</td>\n      <td>8.570876</td>\n      <td>2020</td>\n    </tr>\n    <tr>\n      <th>10</th>\n      <td>Music</td>\n      <td>13073</td>\n      <td>94</td>\n      <td>7.777815</td>\n      <td>2020</td>\n    </tr>\n    <tr>\n      <th>11</th>\n      <td>Book</td>\n      <td>3144</td>\n      <td>61</td>\n      <td>7.511289</td>\n      <td>2020</td>\n    </tr>\n    <tr>\n      <th>12</th>\n      <td>News</td>\n      <td>8568</td>\n      <td>141</td>\n      <td>8.409155</td>\n      <td>2020</td>\n    </tr>\n    <tr>\n      <th>0</th>\n      <td>Holiday</td>\n      <td>7855</td>\n      <td>52</td>\n      <td>7.311491</td>\n      <td>2021</td>\n    </tr>\n    <tr>\n      <th>1</th>\n      <td>Brand</td>\n      <td>5970</td>\n      <td>91</td>\n      <td>6.910178</td>\n      <td>2021</td>\n    </tr>\n    <tr>\n      <th>2</th>\n      <td>Interest and Hobbies</td>\n      <td>5346</td>\n      <td>82</td>\n      <td>6.743358</td>\n      <td>2021</td>\n    </tr>\n    <tr>\n      <th>3</th>\n      <td>TV and Movies</td>\n      <td>7516</td>\n      <td>36</td>\n      <td>7.530460</td>\n      <td>2021</td>\n    </tr>\n    <tr>\n      <th>4</th>\n      <td>Person</td>\n      <td>8095</td>\n      <td>77</td>\n      <td>7.122265</td>\n      <td>2021</td>\n    </tr>\n    <tr>\n      <th>5</th>\n      <td>News</td>\n      <td>7138</td>\n      <td>20</td>\n      <td>8.004095</td>\n      <td>2021</td>\n    </tr>\n    <tr>\n      <th>6</th>\n      <td>Entities</td>\n      <td>5448</td>\n      <td>62</td>\n      <td>7.169166</td>\n      <td>2021</td>\n    </tr>\n    <tr>\n      <th>7</th>\n      <td>Music</td>\n      <td>3425</td>\n      <td>46</td>\n      <td>7.793759</td>\n      <td>2021</td>\n    </tr>\n    <tr>\n      <th>8</th>\n      <td>Other</td>\n      <td>2526</td>\n      <td>94</td>\n      <td>6.611166</td>\n      <td>2021</td>\n    </tr>\n    <tr>\n      <th>9</th>\n      <td>Video Game</td>\n      <td>3938</td>\n      <td>16</td>\n      <td>6.214273</td>\n      <td>2021</td>\n    </tr>\n    <tr>\n      <th>10</th>\n      <td>Sport</td>\n      <td>4745</td>\n      <td>24</td>\n      <td>7.109109</td>\n      <td>2021</td>\n    </tr>\n    <tr>\n      <th>11</th>\n      <td>Book</td>\n      <td>7028</td>\n      <td>10</td>\n      <td>7.766667</td>\n      <td>2021</td>\n    </tr>\n    <tr>\n      <th>12</th>\n      <td>Political</td>\n      <td>4649</td>\n      <td>127</td>\n      <td>7.126944</td>\n      <td>2021</td>\n    </tr>\n  </tbody>\n</table>\n</div>"
     },
     "execution_count": 120,
     "metadata": {},
     "output_type": "execute_result"
    }
   ],
   "source": [
    "df_retweeters_chars = retweeters_characteristics(0)\n",
    "df_retweeters_chars"
   ],
   "metadata": {
    "collapsed": false,
    "pycharm": {
     "name": "#%%\n"
    }
   }
  },
  {
   "cell_type": "markdown",
   "source": [
    "### Analysing average followers count of retweeters per topic"
   ],
   "metadata": {
    "collapsed": false,
    "pycharm": {
     "name": "#%% md\n"
    }
   }
  },
  {
   "cell_type": "code",
   "execution_count": 99,
   "outputs": [
    {
     "data": {
      "application/vnd.plotly.v1+json": {
       "data": [
        {
         "alignmentgroup": "True",
         "hovertemplate": "Year=2019<br>Topic=%{x}<br>Average Retweeters Followers=%{y}<extra></extra>",
         "legendgroup": "2019",
         "marker": {
          "color": "#006D77",
          "pattern": {
           "shape": ""
          }
         },
         "name": "2019",
         "offsetgroup": "2019",
         "orientation": "v",
         "showlegend": true,
         "textposition": "auto",
         "x": [
          "Other",
          "Person",
          "TV and Movies",
          "Entities",
          "Interest and Hobbies",
          "Sport",
          "Brand",
          "Music",
          "Video Game",
          "Political",
          "Book",
          "Holiday"
         ],
         "xaxis": "x",
         "y": [
          6338,
          7644,
          9105,
          4797,
          4842,
          4974,
          5996,
          4646,
          4796,
          10669,
          5347,
          -1
         ],
         "yaxis": "y",
         "type": "bar"
        },
        {
         "alignmentgroup": "True",
         "hovertemplate": "Year=2020<br>Topic=%{x}<br>Average Retweeters Followers=%{y}<extra></extra>",
         "legendgroup": "2020",
         "marker": {
          "color": "#FBD1A2",
          "pattern": {
           "shape": ""
          }
         },
         "name": "2020",
         "offsetgroup": "2020",
         "orientation": "v",
         "showlegend": true,
         "textposition": "auto",
         "x": [
          "Brand",
          "Holiday",
          "Person",
          "Interest and Hobbies",
          "Sport",
          "TV and Movies",
          "Other",
          "Video Game",
          "Entities",
          "Political",
          "Music",
          "Book",
          "News"
         ],
         "xaxis": "x",
         "y": [
          6064,
          4363,
          6535,
          6287,
          4862,
          9898,
          4054,
          2809,
          4966,
          5563,
          13073,
          3144,
          8568
         ],
         "yaxis": "y",
         "type": "bar"
        },
        {
         "alignmentgroup": "True",
         "hovertemplate": "Year=2021<br>Topic=%{x}<br>Average Retweeters Followers=%{y}<extra></extra>",
         "legendgroup": "2021",
         "marker": {
          "color": "#7DCFB6",
          "pattern": {
           "shape": ""
          }
         },
         "name": "2021",
         "offsetgroup": "2021",
         "orientation": "v",
         "showlegend": true,
         "textposition": "auto",
         "x": [
          "Holiday",
          "Brand",
          "Interest and Hobbies",
          "TV and Movies",
          "Person",
          "News",
          "Entities",
          "Music",
          "Other",
          "Video Game",
          "Sport",
          "Book",
          "Political"
         ],
         "xaxis": "x",
         "y": [
          7855,
          5970,
          5346,
          7516,
          8095,
          7138,
          5448,
          3425,
          2526,
          3938,
          4745,
          7028,
          4649
         ],
         "yaxis": "y",
         "type": "bar"
        }
       ],
       "layout": {
        "template": {
         "data": {
          "histogram2dcontour": [
           {
            "type": "histogram2dcontour",
            "colorbar": {
             "outlinewidth": 0,
             "ticks": ""
            },
            "colorscale": [
             [
              0.0,
              "#0d0887"
             ],
             [
              0.1111111111111111,
              "#46039f"
             ],
             [
              0.2222222222222222,
              "#7201a8"
             ],
             [
              0.3333333333333333,
              "#9c179e"
             ],
             [
              0.4444444444444444,
              "#bd3786"
             ],
             [
              0.5555555555555556,
              "#d8576b"
             ],
             [
              0.6666666666666666,
              "#ed7953"
             ],
             [
              0.7777777777777778,
              "#fb9f3a"
             ],
             [
              0.8888888888888888,
              "#fdca26"
             ],
             [
              1.0,
              "#f0f921"
             ]
            ]
           }
          ],
          "choropleth": [
           {
            "type": "choropleth",
            "colorbar": {
             "outlinewidth": 0,
             "ticks": ""
            }
           }
          ],
          "histogram2d": [
           {
            "type": "histogram2d",
            "colorbar": {
             "outlinewidth": 0,
             "ticks": ""
            },
            "colorscale": [
             [
              0.0,
              "#0d0887"
             ],
             [
              0.1111111111111111,
              "#46039f"
             ],
             [
              0.2222222222222222,
              "#7201a8"
             ],
             [
              0.3333333333333333,
              "#9c179e"
             ],
             [
              0.4444444444444444,
              "#bd3786"
             ],
             [
              0.5555555555555556,
              "#d8576b"
             ],
             [
              0.6666666666666666,
              "#ed7953"
             ],
             [
              0.7777777777777778,
              "#fb9f3a"
             ],
             [
              0.8888888888888888,
              "#fdca26"
             ],
             [
              1.0,
              "#f0f921"
             ]
            ]
           }
          ],
          "heatmap": [
           {
            "type": "heatmap",
            "colorbar": {
             "outlinewidth": 0,
             "ticks": ""
            },
            "colorscale": [
             [
              0.0,
              "#0d0887"
             ],
             [
              0.1111111111111111,
              "#46039f"
             ],
             [
              0.2222222222222222,
              "#7201a8"
             ],
             [
              0.3333333333333333,
              "#9c179e"
             ],
             [
              0.4444444444444444,
              "#bd3786"
             ],
             [
              0.5555555555555556,
              "#d8576b"
             ],
             [
              0.6666666666666666,
              "#ed7953"
             ],
             [
              0.7777777777777778,
              "#fb9f3a"
             ],
             [
              0.8888888888888888,
              "#fdca26"
             ],
             [
              1.0,
              "#f0f921"
             ]
            ]
           }
          ],
          "heatmapgl": [
           {
            "type": "heatmapgl",
            "colorbar": {
             "outlinewidth": 0,
             "ticks": ""
            },
            "colorscale": [
             [
              0.0,
              "#0d0887"
             ],
             [
              0.1111111111111111,
              "#46039f"
             ],
             [
              0.2222222222222222,
              "#7201a8"
             ],
             [
              0.3333333333333333,
              "#9c179e"
             ],
             [
              0.4444444444444444,
              "#bd3786"
             ],
             [
              0.5555555555555556,
              "#d8576b"
             ],
             [
              0.6666666666666666,
              "#ed7953"
             ],
             [
              0.7777777777777778,
              "#fb9f3a"
             ],
             [
              0.8888888888888888,
              "#fdca26"
             ],
             [
              1.0,
              "#f0f921"
             ]
            ]
           }
          ],
          "contourcarpet": [
           {
            "type": "contourcarpet",
            "colorbar": {
             "outlinewidth": 0,
             "ticks": ""
            }
           }
          ],
          "contour": [
           {
            "type": "contour",
            "colorbar": {
             "outlinewidth": 0,
             "ticks": ""
            },
            "colorscale": [
             [
              0.0,
              "#0d0887"
             ],
             [
              0.1111111111111111,
              "#46039f"
             ],
             [
              0.2222222222222222,
              "#7201a8"
             ],
             [
              0.3333333333333333,
              "#9c179e"
             ],
             [
              0.4444444444444444,
              "#bd3786"
             ],
             [
              0.5555555555555556,
              "#d8576b"
             ],
             [
              0.6666666666666666,
              "#ed7953"
             ],
             [
              0.7777777777777778,
              "#fb9f3a"
             ],
             [
              0.8888888888888888,
              "#fdca26"
             ],
             [
              1.0,
              "#f0f921"
             ]
            ]
           }
          ],
          "surface": [
           {
            "type": "surface",
            "colorbar": {
             "outlinewidth": 0,
             "ticks": ""
            },
            "colorscale": [
             [
              0.0,
              "#0d0887"
             ],
             [
              0.1111111111111111,
              "#46039f"
             ],
             [
              0.2222222222222222,
              "#7201a8"
             ],
             [
              0.3333333333333333,
              "#9c179e"
             ],
             [
              0.4444444444444444,
              "#bd3786"
             ],
             [
              0.5555555555555556,
              "#d8576b"
             ],
             [
              0.6666666666666666,
              "#ed7953"
             ],
             [
              0.7777777777777778,
              "#fb9f3a"
             ],
             [
              0.8888888888888888,
              "#fdca26"
             ],
             [
              1.0,
              "#f0f921"
             ]
            ]
           }
          ],
          "mesh3d": [
           {
            "type": "mesh3d",
            "colorbar": {
             "outlinewidth": 0,
             "ticks": ""
            }
           }
          ],
          "scatter": [
           {
            "fillpattern": {
             "fillmode": "overlay",
             "size": 10,
             "solidity": 0.2
            },
            "type": "scatter"
           }
          ],
          "parcoords": [
           {
            "type": "parcoords",
            "line": {
             "colorbar": {
              "outlinewidth": 0,
              "ticks": ""
             }
            }
           }
          ],
          "scatterpolargl": [
           {
            "type": "scatterpolargl",
            "marker": {
             "colorbar": {
              "outlinewidth": 0,
              "ticks": ""
             }
            }
           }
          ],
          "bar": [
           {
            "error_x": {
             "color": "#2a3f5f"
            },
            "error_y": {
             "color": "#2a3f5f"
            },
            "marker": {
             "line": {
              "color": "#E5ECF6",
              "width": 0.5
             },
             "pattern": {
              "fillmode": "overlay",
              "size": 10,
              "solidity": 0.2
             }
            },
            "type": "bar"
           }
          ],
          "scattergeo": [
           {
            "type": "scattergeo",
            "marker": {
             "colorbar": {
              "outlinewidth": 0,
              "ticks": ""
             }
            }
           }
          ],
          "scatterpolar": [
           {
            "type": "scatterpolar",
            "marker": {
             "colorbar": {
              "outlinewidth": 0,
              "ticks": ""
             }
            }
           }
          ],
          "histogram": [
           {
            "marker": {
             "pattern": {
              "fillmode": "overlay",
              "size": 10,
              "solidity": 0.2
             }
            },
            "type": "histogram"
           }
          ],
          "scattergl": [
           {
            "type": "scattergl",
            "marker": {
             "colorbar": {
              "outlinewidth": 0,
              "ticks": ""
             }
            }
           }
          ],
          "scatter3d": [
           {
            "type": "scatter3d",
            "line": {
             "colorbar": {
              "outlinewidth": 0,
              "ticks": ""
             }
            },
            "marker": {
             "colorbar": {
              "outlinewidth": 0,
              "ticks": ""
             }
            }
           }
          ],
          "scattermapbox": [
           {
            "type": "scattermapbox",
            "marker": {
             "colorbar": {
              "outlinewidth": 0,
              "ticks": ""
             }
            }
           }
          ],
          "scatterternary": [
           {
            "type": "scatterternary",
            "marker": {
             "colorbar": {
              "outlinewidth": 0,
              "ticks": ""
             }
            }
           }
          ],
          "scattercarpet": [
           {
            "type": "scattercarpet",
            "marker": {
             "colorbar": {
              "outlinewidth": 0,
              "ticks": ""
             }
            }
           }
          ],
          "carpet": [
           {
            "aaxis": {
             "endlinecolor": "#2a3f5f",
             "gridcolor": "white",
             "linecolor": "white",
             "minorgridcolor": "white",
             "startlinecolor": "#2a3f5f"
            },
            "baxis": {
             "endlinecolor": "#2a3f5f",
             "gridcolor": "white",
             "linecolor": "white",
             "minorgridcolor": "white",
             "startlinecolor": "#2a3f5f"
            },
            "type": "carpet"
           }
          ],
          "table": [
           {
            "cells": {
             "fill": {
              "color": "#EBF0F8"
             },
             "line": {
              "color": "white"
             }
            },
            "header": {
             "fill": {
              "color": "#C8D4E3"
             },
             "line": {
              "color": "white"
             }
            },
            "type": "table"
           }
          ],
          "barpolar": [
           {
            "marker": {
             "line": {
              "color": "#E5ECF6",
              "width": 0.5
             },
             "pattern": {
              "fillmode": "overlay",
              "size": 10,
              "solidity": 0.2
             }
            },
            "type": "barpolar"
           }
          ],
          "pie": [
           {
            "automargin": true,
            "type": "pie"
           }
          ]
         },
         "layout": {
          "autotypenumbers": "strict",
          "colorway": [
           "#636efa",
           "#EF553B",
           "#00cc96",
           "#ab63fa",
           "#FFA15A",
           "#19d3f3",
           "#FF6692",
           "#B6E880",
           "#FF97FF",
           "#FECB52"
          ],
          "font": {
           "color": "#2a3f5f"
          },
          "hovermode": "closest",
          "hoverlabel": {
           "align": "left"
          },
          "paper_bgcolor": "white",
          "plot_bgcolor": "#E5ECF6",
          "polar": {
           "bgcolor": "#E5ECF6",
           "angularaxis": {
            "gridcolor": "white",
            "linecolor": "white",
            "ticks": ""
           },
           "radialaxis": {
            "gridcolor": "white",
            "linecolor": "white",
            "ticks": ""
           }
          },
          "ternary": {
           "bgcolor": "#E5ECF6",
           "aaxis": {
            "gridcolor": "white",
            "linecolor": "white",
            "ticks": ""
           },
           "baxis": {
            "gridcolor": "white",
            "linecolor": "white",
            "ticks": ""
           },
           "caxis": {
            "gridcolor": "white",
            "linecolor": "white",
            "ticks": ""
           }
          },
          "coloraxis": {
           "colorbar": {
            "outlinewidth": 0,
            "ticks": ""
           }
          },
          "colorscale": {
           "sequential": [
            [
             0.0,
             "#0d0887"
            ],
            [
             0.1111111111111111,
             "#46039f"
            ],
            [
             0.2222222222222222,
             "#7201a8"
            ],
            [
             0.3333333333333333,
             "#9c179e"
            ],
            [
             0.4444444444444444,
             "#bd3786"
            ],
            [
             0.5555555555555556,
             "#d8576b"
            ],
            [
             0.6666666666666666,
             "#ed7953"
            ],
            [
             0.7777777777777778,
             "#fb9f3a"
            ],
            [
             0.8888888888888888,
             "#fdca26"
            ],
            [
             1.0,
             "#f0f921"
            ]
           ],
           "sequentialminus": [
            [
             0.0,
             "#0d0887"
            ],
            [
             0.1111111111111111,
             "#46039f"
            ],
            [
             0.2222222222222222,
             "#7201a8"
            ],
            [
             0.3333333333333333,
             "#9c179e"
            ],
            [
             0.4444444444444444,
             "#bd3786"
            ],
            [
             0.5555555555555556,
             "#d8576b"
            ],
            [
             0.6666666666666666,
             "#ed7953"
            ],
            [
             0.7777777777777778,
             "#fb9f3a"
            ],
            [
             0.8888888888888888,
             "#fdca26"
            ],
            [
             1.0,
             "#f0f921"
            ]
           ],
           "diverging": [
            [
             0,
             "#8e0152"
            ],
            [
             0.1,
             "#c51b7d"
            ],
            [
             0.2,
             "#de77ae"
            ],
            [
             0.3,
             "#f1b6da"
            ],
            [
             0.4,
             "#fde0ef"
            ],
            [
             0.5,
             "#f7f7f7"
            ],
            [
             0.6,
             "#e6f5d0"
            ],
            [
             0.7,
             "#b8e186"
            ],
            [
             0.8,
             "#7fbc41"
            ],
            [
             0.9,
             "#4d9221"
            ],
            [
             1,
             "#276419"
            ]
           ]
          },
          "xaxis": {
           "gridcolor": "white",
           "linecolor": "white",
           "ticks": "",
           "title": {
            "standoff": 15
           },
           "zerolinecolor": "white",
           "automargin": true,
           "zerolinewidth": 2
          },
          "yaxis": {
           "gridcolor": "white",
           "linecolor": "white",
           "ticks": "",
           "title": {
            "standoff": 15
           },
           "zerolinecolor": "white",
           "automargin": true,
           "zerolinewidth": 2
          },
          "scene": {
           "xaxis": {
            "backgroundcolor": "#E5ECF6",
            "gridcolor": "white",
            "linecolor": "white",
            "showbackground": true,
            "ticks": "",
            "zerolinecolor": "white",
            "gridwidth": 2
           },
           "yaxis": {
            "backgroundcolor": "#E5ECF6",
            "gridcolor": "white",
            "linecolor": "white",
            "showbackground": true,
            "ticks": "",
            "zerolinecolor": "white",
            "gridwidth": 2
           },
           "zaxis": {
            "backgroundcolor": "#E5ECF6",
            "gridcolor": "white",
            "linecolor": "white",
            "showbackground": true,
            "ticks": "",
            "zerolinecolor": "white",
            "gridwidth": 2
           }
          },
          "shapedefaults": {
           "line": {
            "color": "#2a3f5f"
           }
          },
          "annotationdefaults": {
           "arrowcolor": "#2a3f5f",
           "arrowhead": 0,
           "arrowwidth": 1
          },
          "geo": {
           "bgcolor": "white",
           "landcolor": "#E5ECF6",
           "subunitcolor": "white",
           "showland": true,
           "showlakes": true,
           "lakecolor": "white"
          },
          "title": {
           "x": 0.05
          },
          "mapbox": {
           "style": "light"
          }
         }
        },
        "xaxis": {
         "anchor": "y",
         "domain": [
          0.0,
          1.0
         ],
         "title": {
          "text": "Topic"
         },
         "categoryorder": "array",
         "categoryarray": [
          "Other",
          "Person",
          "TV and Movies",
          "Entities",
          "Interest and Hobbies",
          "Sport",
          "Brand",
          "Music",
          "Video Game",
          "Political",
          "Book",
          "Holiday",
          "News"
         ]
        },
        "yaxis": {
         "anchor": "x",
         "domain": [
          0.0,
          1.0
         ],
         "title": {
          "text": "Average Retweeters Followers"
         }
        },
        "legend": {
         "title": {
          "text": "Year"
         },
         "tracegroupgap": 0
        },
        "margin": {
         "t": 60
        },
        "barmode": "group",
        "title": {
         "text": "Analysing average followers count of retweeters per topic"
        }
       },
       "config": {
        "plotlyServerURL": "https://plot.ly"
       }
      },
      "text/html": "<div>                            <div id=\"32f2da00-5c70-44f0-b524-9262ff920a81\" class=\"plotly-graph-div\" style=\"height:525px; width:100%;\"></div>            <script type=\"text/javascript\">                require([\"plotly\"], function(Plotly) {                    window.PLOTLYENV=window.PLOTLYENV || {};                                    if (document.getElementById(\"32f2da00-5c70-44f0-b524-9262ff920a81\")) {                    Plotly.newPlot(                        \"32f2da00-5c70-44f0-b524-9262ff920a81\",                        [{\"alignmentgroup\":\"True\",\"hovertemplate\":\"Year=2019<br>Topic=%{x}<br>Average Retweeters Followers=%{y}<extra></extra>\",\"legendgroup\":\"2019\",\"marker\":{\"color\":\"#006D77\",\"pattern\":{\"shape\":\"\"}},\"name\":\"2019\",\"offsetgroup\":\"2019\",\"orientation\":\"v\",\"showlegend\":true,\"textposition\":\"auto\",\"x\":[\"Other\",\"Person\",\"TV and Movies\",\"Entities\",\"Interest and Hobbies\",\"Sport\",\"Brand\",\"Music\",\"Video Game\",\"Political\",\"Book\",\"Holiday\"],\"xaxis\":\"x\",\"y\":[6338,7644,9105,4797,4842,4974,5996,4646,4796,10669,5347,-1],\"yaxis\":\"y\",\"type\":\"bar\"},{\"alignmentgroup\":\"True\",\"hovertemplate\":\"Year=2020<br>Topic=%{x}<br>Average Retweeters Followers=%{y}<extra></extra>\",\"legendgroup\":\"2020\",\"marker\":{\"color\":\"#FBD1A2\",\"pattern\":{\"shape\":\"\"}},\"name\":\"2020\",\"offsetgroup\":\"2020\",\"orientation\":\"v\",\"showlegend\":true,\"textposition\":\"auto\",\"x\":[\"Brand\",\"Holiday\",\"Person\",\"Interest and Hobbies\",\"Sport\",\"TV and Movies\",\"Other\",\"Video Game\",\"Entities\",\"Political\",\"Music\",\"Book\",\"News\"],\"xaxis\":\"x\",\"y\":[6064,4363,6535,6287,4862,9898,4054,2809,4966,5563,13073,3144,8568],\"yaxis\":\"y\",\"type\":\"bar\"},{\"alignmentgroup\":\"True\",\"hovertemplate\":\"Year=2021<br>Topic=%{x}<br>Average Retweeters Followers=%{y}<extra></extra>\",\"legendgroup\":\"2021\",\"marker\":{\"color\":\"#7DCFB6\",\"pattern\":{\"shape\":\"\"}},\"name\":\"2021\",\"offsetgroup\":\"2021\",\"orientation\":\"v\",\"showlegend\":true,\"textposition\":\"auto\",\"x\":[\"Holiday\",\"Brand\",\"Interest and Hobbies\",\"TV and Movies\",\"Person\",\"News\",\"Entities\",\"Music\",\"Other\",\"Video Game\",\"Sport\",\"Book\",\"Political\"],\"xaxis\":\"x\",\"y\":[7855,5970,5346,7516,8095,7138,5448,3425,2526,3938,4745,7028,4649],\"yaxis\":\"y\",\"type\":\"bar\"}],                        {\"template\":{\"data\":{\"histogram2dcontour\":[{\"type\":\"histogram2dcontour\",\"colorbar\":{\"outlinewidth\":0,\"ticks\":\"\"},\"colorscale\":[[0.0,\"#0d0887\"],[0.1111111111111111,\"#46039f\"],[0.2222222222222222,\"#7201a8\"],[0.3333333333333333,\"#9c179e\"],[0.4444444444444444,\"#bd3786\"],[0.5555555555555556,\"#d8576b\"],[0.6666666666666666,\"#ed7953\"],[0.7777777777777778,\"#fb9f3a\"],[0.8888888888888888,\"#fdca26\"],[1.0,\"#f0f921\"]]}],\"choropleth\":[{\"type\":\"choropleth\",\"colorbar\":{\"outlinewidth\":0,\"ticks\":\"\"}}],\"histogram2d\":[{\"type\":\"histogram2d\",\"colorbar\":{\"outlinewidth\":0,\"ticks\":\"\"},\"colorscale\":[[0.0,\"#0d0887\"],[0.1111111111111111,\"#46039f\"],[0.2222222222222222,\"#7201a8\"],[0.3333333333333333,\"#9c179e\"],[0.4444444444444444,\"#bd3786\"],[0.5555555555555556,\"#d8576b\"],[0.6666666666666666,\"#ed7953\"],[0.7777777777777778,\"#fb9f3a\"],[0.8888888888888888,\"#fdca26\"],[1.0,\"#f0f921\"]]}],\"heatmap\":[{\"type\":\"heatmap\",\"colorbar\":{\"outlinewidth\":0,\"ticks\":\"\"},\"colorscale\":[[0.0,\"#0d0887\"],[0.1111111111111111,\"#46039f\"],[0.2222222222222222,\"#7201a8\"],[0.3333333333333333,\"#9c179e\"],[0.4444444444444444,\"#bd3786\"],[0.5555555555555556,\"#d8576b\"],[0.6666666666666666,\"#ed7953\"],[0.7777777777777778,\"#fb9f3a\"],[0.8888888888888888,\"#fdca26\"],[1.0,\"#f0f921\"]]}],\"heatmapgl\":[{\"type\":\"heatmapgl\",\"colorbar\":{\"outlinewidth\":0,\"ticks\":\"\"},\"colorscale\":[[0.0,\"#0d0887\"],[0.1111111111111111,\"#46039f\"],[0.2222222222222222,\"#7201a8\"],[0.3333333333333333,\"#9c179e\"],[0.4444444444444444,\"#bd3786\"],[0.5555555555555556,\"#d8576b\"],[0.6666666666666666,\"#ed7953\"],[0.7777777777777778,\"#fb9f3a\"],[0.8888888888888888,\"#fdca26\"],[1.0,\"#f0f921\"]]}],\"contourcarpet\":[{\"type\":\"contourcarpet\",\"colorbar\":{\"outlinewidth\":0,\"ticks\":\"\"}}],\"contour\":[{\"type\":\"contour\",\"colorbar\":{\"outlinewidth\":0,\"ticks\":\"\"},\"colorscale\":[[0.0,\"#0d0887\"],[0.1111111111111111,\"#46039f\"],[0.2222222222222222,\"#7201a8\"],[0.3333333333333333,\"#9c179e\"],[0.4444444444444444,\"#bd3786\"],[0.5555555555555556,\"#d8576b\"],[0.6666666666666666,\"#ed7953\"],[0.7777777777777778,\"#fb9f3a\"],[0.8888888888888888,\"#fdca26\"],[1.0,\"#f0f921\"]]}],\"surface\":[{\"type\":\"surface\",\"colorbar\":{\"outlinewidth\":0,\"ticks\":\"\"},\"colorscale\":[[0.0,\"#0d0887\"],[0.1111111111111111,\"#46039f\"],[0.2222222222222222,\"#7201a8\"],[0.3333333333333333,\"#9c179e\"],[0.4444444444444444,\"#bd3786\"],[0.5555555555555556,\"#d8576b\"],[0.6666666666666666,\"#ed7953\"],[0.7777777777777778,\"#fb9f3a\"],[0.8888888888888888,\"#fdca26\"],[1.0,\"#f0f921\"]]}],\"mesh3d\":[{\"type\":\"mesh3d\",\"colorbar\":{\"outlinewidth\":0,\"ticks\":\"\"}}],\"scatter\":[{\"fillpattern\":{\"fillmode\":\"overlay\",\"size\":10,\"solidity\":0.2},\"type\":\"scatter\"}],\"parcoords\":[{\"type\":\"parcoords\",\"line\":{\"colorbar\":{\"outlinewidth\":0,\"ticks\":\"\"}}}],\"scatterpolargl\":[{\"type\":\"scatterpolargl\",\"marker\":{\"colorbar\":{\"outlinewidth\":0,\"ticks\":\"\"}}}],\"bar\":[{\"error_x\":{\"color\":\"#2a3f5f\"},\"error_y\":{\"color\":\"#2a3f5f\"},\"marker\":{\"line\":{\"color\":\"#E5ECF6\",\"width\":0.5},\"pattern\":{\"fillmode\":\"overlay\",\"size\":10,\"solidity\":0.2}},\"type\":\"bar\"}],\"scattergeo\":[{\"type\":\"scattergeo\",\"marker\":{\"colorbar\":{\"outlinewidth\":0,\"ticks\":\"\"}}}],\"scatterpolar\":[{\"type\":\"scatterpolar\",\"marker\":{\"colorbar\":{\"outlinewidth\":0,\"ticks\":\"\"}}}],\"histogram\":[{\"marker\":{\"pattern\":{\"fillmode\":\"overlay\",\"size\":10,\"solidity\":0.2}},\"type\":\"histogram\"}],\"scattergl\":[{\"type\":\"scattergl\",\"marker\":{\"colorbar\":{\"outlinewidth\":0,\"ticks\":\"\"}}}],\"scatter3d\":[{\"type\":\"scatter3d\",\"line\":{\"colorbar\":{\"outlinewidth\":0,\"ticks\":\"\"}},\"marker\":{\"colorbar\":{\"outlinewidth\":0,\"ticks\":\"\"}}}],\"scattermapbox\":[{\"type\":\"scattermapbox\",\"marker\":{\"colorbar\":{\"outlinewidth\":0,\"ticks\":\"\"}}}],\"scatterternary\":[{\"type\":\"scatterternary\",\"marker\":{\"colorbar\":{\"outlinewidth\":0,\"ticks\":\"\"}}}],\"scattercarpet\":[{\"type\":\"scattercarpet\",\"marker\":{\"colorbar\":{\"outlinewidth\":0,\"ticks\":\"\"}}}],\"carpet\":[{\"aaxis\":{\"endlinecolor\":\"#2a3f5f\",\"gridcolor\":\"white\",\"linecolor\":\"white\",\"minorgridcolor\":\"white\",\"startlinecolor\":\"#2a3f5f\"},\"baxis\":{\"endlinecolor\":\"#2a3f5f\",\"gridcolor\":\"white\",\"linecolor\":\"white\",\"minorgridcolor\":\"white\",\"startlinecolor\":\"#2a3f5f\"},\"type\":\"carpet\"}],\"table\":[{\"cells\":{\"fill\":{\"color\":\"#EBF0F8\"},\"line\":{\"color\":\"white\"}},\"header\":{\"fill\":{\"color\":\"#C8D4E3\"},\"line\":{\"color\":\"white\"}},\"type\":\"table\"}],\"barpolar\":[{\"marker\":{\"line\":{\"color\":\"#E5ECF6\",\"width\":0.5},\"pattern\":{\"fillmode\":\"overlay\",\"size\":10,\"solidity\":0.2}},\"type\":\"barpolar\"}],\"pie\":[{\"automargin\":true,\"type\":\"pie\"}]},\"layout\":{\"autotypenumbers\":\"strict\",\"colorway\":[\"#636efa\",\"#EF553B\",\"#00cc96\",\"#ab63fa\",\"#FFA15A\",\"#19d3f3\",\"#FF6692\",\"#B6E880\",\"#FF97FF\",\"#FECB52\"],\"font\":{\"color\":\"#2a3f5f\"},\"hovermode\":\"closest\",\"hoverlabel\":{\"align\":\"left\"},\"paper_bgcolor\":\"white\",\"plot_bgcolor\":\"#E5ECF6\",\"polar\":{\"bgcolor\":\"#E5ECF6\",\"angularaxis\":{\"gridcolor\":\"white\",\"linecolor\":\"white\",\"ticks\":\"\"},\"radialaxis\":{\"gridcolor\":\"white\",\"linecolor\":\"white\",\"ticks\":\"\"}},\"ternary\":{\"bgcolor\":\"#E5ECF6\",\"aaxis\":{\"gridcolor\":\"white\",\"linecolor\":\"white\",\"ticks\":\"\"},\"baxis\":{\"gridcolor\":\"white\",\"linecolor\":\"white\",\"ticks\":\"\"},\"caxis\":{\"gridcolor\":\"white\",\"linecolor\":\"white\",\"ticks\":\"\"}},\"coloraxis\":{\"colorbar\":{\"outlinewidth\":0,\"ticks\":\"\"}},\"colorscale\":{\"sequential\":[[0.0,\"#0d0887\"],[0.1111111111111111,\"#46039f\"],[0.2222222222222222,\"#7201a8\"],[0.3333333333333333,\"#9c179e\"],[0.4444444444444444,\"#bd3786\"],[0.5555555555555556,\"#d8576b\"],[0.6666666666666666,\"#ed7953\"],[0.7777777777777778,\"#fb9f3a\"],[0.8888888888888888,\"#fdca26\"],[1.0,\"#f0f921\"]],\"sequentialminus\":[[0.0,\"#0d0887\"],[0.1111111111111111,\"#46039f\"],[0.2222222222222222,\"#7201a8\"],[0.3333333333333333,\"#9c179e\"],[0.4444444444444444,\"#bd3786\"],[0.5555555555555556,\"#d8576b\"],[0.6666666666666666,\"#ed7953\"],[0.7777777777777778,\"#fb9f3a\"],[0.8888888888888888,\"#fdca26\"],[1.0,\"#f0f921\"]],\"diverging\":[[0,\"#8e0152\"],[0.1,\"#c51b7d\"],[0.2,\"#de77ae\"],[0.3,\"#f1b6da\"],[0.4,\"#fde0ef\"],[0.5,\"#f7f7f7\"],[0.6,\"#e6f5d0\"],[0.7,\"#b8e186\"],[0.8,\"#7fbc41\"],[0.9,\"#4d9221\"],[1,\"#276419\"]]},\"xaxis\":{\"gridcolor\":\"white\",\"linecolor\":\"white\",\"ticks\":\"\",\"title\":{\"standoff\":15},\"zerolinecolor\":\"white\",\"automargin\":true,\"zerolinewidth\":2},\"yaxis\":{\"gridcolor\":\"white\",\"linecolor\":\"white\",\"ticks\":\"\",\"title\":{\"standoff\":15},\"zerolinecolor\":\"white\",\"automargin\":true,\"zerolinewidth\":2},\"scene\":{\"xaxis\":{\"backgroundcolor\":\"#E5ECF6\",\"gridcolor\":\"white\",\"linecolor\":\"white\",\"showbackground\":true,\"ticks\":\"\",\"zerolinecolor\":\"white\",\"gridwidth\":2},\"yaxis\":{\"backgroundcolor\":\"#E5ECF6\",\"gridcolor\":\"white\",\"linecolor\":\"white\",\"showbackground\":true,\"ticks\":\"\",\"zerolinecolor\":\"white\",\"gridwidth\":2},\"zaxis\":{\"backgroundcolor\":\"#E5ECF6\",\"gridcolor\":\"white\",\"linecolor\":\"white\",\"showbackground\":true,\"ticks\":\"\",\"zerolinecolor\":\"white\",\"gridwidth\":2}},\"shapedefaults\":{\"line\":{\"color\":\"#2a3f5f\"}},\"annotationdefaults\":{\"arrowcolor\":\"#2a3f5f\",\"arrowhead\":0,\"arrowwidth\":1},\"geo\":{\"bgcolor\":\"white\",\"landcolor\":\"#E5ECF6\",\"subunitcolor\":\"white\",\"showland\":true,\"showlakes\":true,\"lakecolor\":\"white\"},\"title\":{\"x\":0.05},\"mapbox\":{\"style\":\"light\"}}},\"xaxis\":{\"anchor\":\"y\",\"domain\":[0.0,1.0],\"title\":{\"text\":\"Topic\"},\"categoryorder\":\"array\",\"categoryarray\":[\"Other\",\"Person\",\"TV and Movies\",\"Entities\",\"Interest and Hobbies\",\"Sport\",\"Brand\",\"Music\",\"Video Game\",\"Political\",\"Book\",\"Holiday\",\"News\"]},\"yaxis\":{\"anchor\":\"x\",\"domain\":[0.0,1.0],\"title\":{\"text\":\"Average Retweeters Followers\"}},\"legend\":{\"title\":{\"text\":\"Year\"},\"tracegroupgap\":0},\"margin\":{\"t\":60},\"barmode\":\"group\",\"title\":{\"text\":\"Analysing average followers count of retweeters per topic\"}},                        {\"responsive\": true}                    ).then(function(){\n                            \nvar gd = document.getElementById('32f2da00-5c70-44f0-b524-9262ff920a81');\nvar x = new MutationObserver(function (mutations, observer) {{\n        var display = window.getComputedStyle(gd).display;\n        if (!display || display === 'none') {{\n            console.log([gd, 'removed!']);\n            Plotly.purge(gd);\n            observer.disconnect();\n        }}\n}});\n\n// Listen for the removal of the full notebook cells\nvar notebookContainer = gd.closest('#notebook-container');\nif (notebookContainer) {{\n    x.observe(notebookContainer, {childList: true});\n}}\n\n// Listen for the clearing of the current output cell\nvar outputEl = gd.closest('.output');\nif (outputEl) {{\n    x.observe(outputEl, {childList: true});\n}}\n\n                        })                };                });            </script>        </div>"
     },
     "metadata": {},
     "output_type": "display_data"
    }
   ],
   "source": [
    "retweeters_info_chart(df_retweeters_chars, topics_categories, \"Topic\", 'Average Retweeters Followers', \"Analysing average followers count of retweeters per topic\", offline_charts)"
   ],
   "metadata": {
    "collapsed": false,
    "pycharm": {
     "name": "#%%\n"
    }
   }
  },
  {
   "cell_type": "markdown",
   "source": [
    "### Analysing average retweet time ratio of retweeters per topic"
   ],
   "metadata": {
    "collapsed": false,
    "pycharm": {
     "name": "#%% md\n"
    }
   }
  },
  {
   "cell_type": "code",
   "execution_count": 100,
   "outputs": [
    {
     "data": {
      "application/vnd.plotly.v1+json": {
       "data": [
        {
         "alignmentgroup": "True",
         "hovertemplate": "Year=2019<br>Topic=%{x}<br>Average Retweets Time=%{y}<extra></extra>",
         "legendgroup": "2019",
         "marker": {
          "color": "#006D77",
          "pattern": {
           "shape": ""
          }
         },
         "name": "2019",
         "offsetgroup": "2019",
         "orientation": "v",
         "showlegend": true,
         "textposition": "auto",
         "x": [
          "Other",
          "Person",
          "TV and Movies",
          "Entities",
          "Interest and Hobbies",
          "Sport",
          "Brand",
          "Music",
          "Video Game",
          "Political",
          "Book",
          "Holiday"
         ],
         "xaxis": "x",
         "y": [
          139,
          177,
          76,
          117,
          143,
          96,
          214,
          253,
          266,
          149,
          112,
          -1
         ],
         "yaxis": "y",
         "type": "bar"
        },
        {
         "alignmentgroup": "True",
         "hovertemplate": "Year=2020<br>Topic=%{x}<br>Average Retweets Time=%{y}<extra></extra>",
         "legendgroup": "2020",
         "marker": {
          "color": "#FBD1A2",
          "pattern": {
           "shape": ""
          }
         },
         "name": "2020",
         "offsetgroup": "2020",
         "orientation": "v",
         "showlegend": true,
         "textposition": "auto",
         "x": [
          "Brand",
          "Holiday",
          "Person",
          "Interest and Hobbies",
          "Sport",
          "TV and Movies",
          "Other",
          "Video Game",
          "Entities",
          "Political",
          "Music",
          "Book",
          "News"
         ],
         "xaxis": "x",
         "y": [
          160,
          85,
          71,
          97,
          55,
          80,
          107,
          77,
          143,
          69,
          94,
          61,
          141
         ],
         "yaxis": "y",
         "type": "bar"
        },
        {
         "alignmentgroup": "True",
         "hovertemplate": "Year=2021<br>Topic=%{x}<br>Average Retweets Time=%{y}<extra></extra>",
         "legendgroup": "2021",
         "marker": {
          "color": "#7DCFB6",
          "pattern": {
           "shape": ""
          }
         },
         "name": "2021",
         "offsetgroup": "2021",
         "orientation": "v",
         "showlegend": true,
         "textposition": "auto",
         "x": [
          "Holiday",
          "Brand",
          "Interest and Hobbies",
          "TV and Movies",
          "Person",
          "News",
          "Entities",
          "Music",
          "Other",
          "Video Game",
          "Sport",
          "Book",
          "Political"
         ],
         "xaxis": "x",
         "y": [
          52,
          91,
          82,
          36,
          77,
          20,
          62,
          46,
          94,
          16,
          24,
          10,
          127
         ],
         "yaxis": "y",
         "type": "bar"
        }
       ],
       "layout": {
        "template": {
         "data": {
          "histogram2dcontour": [
           {
            "type": "histogram2dcontour",
            "colorbar": {
             "outlinewidth": 0,
             "ticks": ""
            },
            "colorscale": [
             [
              0.0,
              "#0d0887"
             ],
             [
              0.1111111111111111,
              "#46039f"
             ],
             [
              0.2222222222222222,
              "#7201a8"
             ],
             [
              0.3333333333333333,
              "#9c179e"
             ],
             [
              0.4444444444444444,
              "#bd3786"
             ],
             [
              0.5555555555555556,
              "#d8576b"
             ],
             [
              0.6666666666666666,
              "#ed7953"
             ],
             [
              0.7777777777777778,
              "#fb9f3a"
             ],
             [
              0.8888888888888888,
              "#fdca26"
             ],
             [
              1.0,
              "#f0f921"
             ]
            ]
           }
          ],
          "choropleth": [
           {
            "type": "choropleth",
            "colorbar": {
             "outlinewidth": 0,
             "ticks": ""
            }
           }
          ],
          "histogram2d": [
           {
            "type": "histogram2d",
            "colorbar": {
             "outlinewidth": 0,
             "ticks": ""
            },
            "colorscale": [
             [
              0.0,
              "#0d0887"
             ],
             [
              0.1111111111111111,
              "#46039f"
             ],
             [
              0.2222222222222222,
              "#7201a8"
             ],
             [
              0.3333333333333333,
              "#9c179e"
             ],
             [
              0.4444444444444444,
              "#bd3786"
             ],
             [
              0.5555555555555556,
              "#d8576b"
             ],
             [
              0.6666666666666666,
              "#ed7953"
             ],
             [
              0.7777777777777778,
              "#fb9f3a"
             ],
             [
              0.8888888888888888,
              "#fdca26"
             ],
             [
              1.0,
              "#f0f921"
             ]
            ]
           }
          ],
          "heatmap": [
           {
            "type": "heatmap",
            "colorbar": {
             "outlinewidth": 0,
             "ticks": ""
            },
            "colorscale": [
             [
              0.0,
              "#0d0887"
             ],
             [
              0.1111111111111111,
              "#46039f"
             ],
             [
              0.2222222222222222,
              "#7201a8"
             ],
             [
              0.3333333333333333,
              "#9c179e"
             ],
             [
              0.4444444444444444,
              "#bd3786"
             ],
             [
              0.5555555555555556,
              "#d8576b"
             ],
             [
              0.6666666666666666,
              "#ed7953"
             ],
             [
              0.7777777777777778,
              "#fb9f3a"
             ],
             [
              0.8888888888888888,
              "#fdca26"
             ],
             [
              1.0,
              "#f0f921"
             ]
            ]
           }
          ],
          "heatmapgl": [
           {
            "type": "heatmapgl",
            "colorbar": {
             "outlinewidth": 0,
             "ticks": ""
            },
            "colorscale": [
             [
              0.0,
              "#0d0887"
             ],
             [
              0.1111111111111111,
              "#46039f"
             ],
             [
              0.2222222222222222,
              "#7201a8"
             ],
             [
              0.3333333333333333,
              "#9c179e"
             ],
             [
              0.4444444444444444,
              "#bd3786"
             ],
             [
              0.5555555555555556,
              "#d8576b"
             ],
             [
              0.6666666666666666,
              "#ed7953"
             ],
             [
              0.7777777777777778,
              "#fb9f3a"
             ],
             [
              0.8888888888888888,
              "#fdca26"
             ],
             [
              1.0,
              "#f0f921"
             ]
            ]
           }
          ],
          "contourcarpet": [
           {
            "type": "contourcarpet",
            "colorbar": {
             "outlinewidth": 0,
             "ticks": ""
            }
           }
          ],
          "contour": [
           {
            "type": "contour",
            "colorbar": {
             "outlinewidth": 0,
             "ticks": ""
            },
            "colorscale": [
             [
              0.0,
              "#0d0887"
             ],
             [
              0.1111111111111111,
              "#46039f"
             ],
             [
              0.2222222222222222,
              "#7201a8"
             ],
             [
              0.3333333333333333,
              "#9c179e"
             ],
             [
              0.4444444444444444,
              "#bd3786"
             ],
             [
              0.5555555555555556,
              "#d8576b"
             ],
             [
              0.6666666666666666,
              "#ed7953"
             ],
             [
              0.7777777777777778,
              "#fb9f3a"
             ],
             [
              0.8888888888888888,
              "#fdca26"
             ],
             [
              1.0,
              "#f0f921"
             ]
            ]
           }
          ],
          "surface": [
           {
            "type": "surface",
            "colorbar": {
             "outlinewidth": 0,
             "ticks": ""
            },
            "colorscale": [
             [
              0.0,
              "#0d0887"
             ],
             [
              0.1111111111111111,
              "#46039f"
             ],
             [
              0.2222222222222222,
              "#7201a8"
             ],
             [
              0.3333333333333333,
              "#9c179e"
             ],
             [
              0.4444444444444444,
              "#bd3786"
             ],
             [
              0.5555555555555556,
              "#d8576b"
             ],
             [
              0.6666666666666666,
              "#ed7953"
             ],
             [
              0.7777777777777778,
              "#fb9f3a"
             ],
             [
              0.8888888888888888,
              "#fdca26"
             ],
             [
              1.0,
              "#f0f921"
             ]
            ]
           }
          ],
          "mesh3d": [
           {
            "type": "mesh3d",
            "colorbar": {
             "outlinewidth": 0,
             "ticks": ""
            }
           }
          ],
          "scatter": [
           {
            "fillpattern": {
             "fillmode": "overlay",
             "size": 10,
             "solidity": 0.2
            },
            "type": "scatter"
           }
          ],
          "parcoords": [
           {
            "type": "parcoords",
            "line": {
             "colorbar": {
              "outlinewidth": 0,
              "ticks": ""
             }
            }
           }
          ],
          "scatterpolargl": [
           {
            "type": "scatterpolargl",
            "marker": {
             "colorbar": {
              "outlinewidth": 0,
              "ticks": ""
             }
            }
           }
          ],
          "bar": [
           {
            "error_x": {
             "color": "#2a3f5f"
            },
            "error_y": {
             "color": "#2a3f5f"
            },
            "marker": {
             "line": {
              "color": "#E5ECF6",
              "width": 0.5
             },
             "pattern": {
              "fillmode": "overlay",
              "size": 10,
              "solidity": 0.2
             }
            },
            "type": "bar"
           }
          ],
          "scattergeo": [
           {
            "type": "scattergeo",
            "marker": {
             "colorbar": {
              "outlinewidth": 0,
              "ticks": ""
             }
            }
           }
          ],
          "scatterpolar": [
           {
            "type": "scatterpolar",
            "marker": {
             "colorbar": {
              "outlinewidth": 0,
              "ticks": ""
             }
            }
           }
          ],
          "histogram": [
           {
            "marker": {
             "pattern": {
              "fillmode": "overlay",
              "size": 10,
              "solidity": 0.2
             }
            },
            "type": "histogram"
           }
          ],
          "scattergl": [
           {
            "type": "scattergl",
            "marker": {
             "colorbar": {
              "outlinewidth": 0,
              "ticks": ""
             }
            }
           }
          ],
          "scatter3d": [
           {
            "type": "scatter3d",
            "line": {
             "colorbar": {
              "outlinewidth": 0,
              "ticks": ""
             }
            },
            "marker": {
             "colorbar": {
              "outlinewidth": 0,
              "ticks": ""
             }
            }
           }
          ],
          "scattermapbox": [
           {
            "type": "scattermapbox",
            "marker": {
             "colorbar": {
              "outlinewidth": 0,
              "ticks": ""
             }
            }
           }
          ],
          "scatterternary": [
           {
            "type": "scatterternary",
            "marker": {
             "colorbar": {
              "outlinewidth": 0,
              "ticks": ""
             }
            }
           }
          ],
          "scattercarpet": [
           {
            "type": "scattercarpet",
            "marker": {
             "colorbar": {
              "outlinewidth": 0,
              "ticks": ""
             }
            }
           }
          ],
          "carpet": [
           {
            "aaxis": {
             "endlinecolor": "#2a3f5f",
             "gridcolor": "white",
             "linecolor": "white",
             "minorgridcolor": "white",
             "startlinecolor": "#2a3f5f"
            },
            "baxis": {
             "endlinecolor": "#2a3f5f",
             "gridcolor": "white",
             "linecolor": "white",
             "minorgridcolor": "white",
             "startlinecolor": "#2a3f5f"
            },
            "type": "carpet"
           }
          ],
          "table": [
           {
            "cells": {
             "fill": {
              "color": "#EBF0F8"
             },
             "line": {
              "color": "white"
             }
            },
            "header": {
             "fill": {
              "color": "#C8D4E3"
             },
             "line": {
              "color": "white"
             }
            },
            "type": "table"
           }
          ],
          "barpolar": [
           {
            "marker": {
             "line": {
              "color": "#E5ECF6",
              "width": 0.5
             },
             "pattern": {
              "fillmode": "overlay",
              "size": 10,
              "solidity": 0.2
             }
            },
            "type": "barpolar"
           }
          ],
          "pie": [
           {
            "automargin": true,
            "type": "pie"
           }
          ]
         },
         "layout": {
          "autotypenumbers": "strict",
          "colorway": [
           "#636efa",
           "#EF553B",
           "#00cc96",
           "#ab63fa",
           "#FFA15A",
           "#19d3f3",
           "#FF6692",
           "#B6E880",
           "#FF97FF",
           "#FECB52"
          ],
          "font": {
           "color": "#2a3f5f"
          },
          "hovermode": "closest",
          "hoverlabel": {
           "align": "left"
          },
          "paper_bgcolor": "white",
          "plot_bgcolor": "#E5ECF6",
          "polar": {
           "bgcolor": "#E5ECF6",
           "angularaxis": {
            "gridcolor": "white",
            "linecolor": "white",
            "ticks": ""
           },
           "radialaxis": {
            "gridcolor": "white",
            "linecolor": "white",
            "ticks": ""
           }
          },
          "ternary": {
           "bgcolor": "#E5ECF6",
           "aaxis": {
            "gridcolor": "white",
            "linecolor": "white",
            "ticks": ""
           },
           "baxis": {
            "gridcolor": "white",
            "linecolor": "white",
            "ticks": ""
           },
           "caxis": {
            "gridcolor": "white",
            "linecolor": "white",
            "ticks": ""
           }
          },
          "coloraxis": {
           "colorbar": {
            "outlinewidth": 0,
            "ticks": ""
           }
          },
          "colorscale": {
           "sequential": [
            [
             0.0,
             "#0d0887"
            ],
            [
             0.1111111111111111,
             "#46039f"
            ],
            [
             0.2222222222222222,
             "#7201a8"
            ],
            [
             0.3333333333333333,
             "#9c179e"
            ],
            [
             0.4444444444444444,
             "#bd3786"
            ],
            [
             0.5555555555555556,
             "#d8576b"
            ],
            [
             0.6666666666666666,
             "#ed7953"
            ],
            [
             0.7777777777777778,
             "#fb9f3a"
            ],
            [
             0.8888888888888888,
             "#fdca26"
            ],
            [
             1.0,
             "#f0f921"
            ]
           ],
           "sequentialminus": [
            [
             0.0,
             "#0d0887"
            ],
            [
             0.1111111111111111,
             "#46039f"
            ],
            [
             0.2222222222222222,
             "#7201a8"
            ],
            [
             0.3333333333333333,
             "#9c179e"
            ],
            [
             0.4444444444444444,
             "#bd3786"
            ],
            [
             0.5555555555555556,
             "#d8576b"
            ],
            [
             0.6666666666666666,
             "#ed7953"
            ],
            [
             0.7777777777777778,
             "#fb9f3a"
            ],
            [
             0.8888888888888888,
             "#fdca26"
            ],
            [
             1.0,
             "#f0f921"
            ]
           ],
           "diverging": [
            [
             0,
             "#8e0152"
            ],
            [
             0.1,
             "#c51b7d"
            ],
            [
             0.2,
             "#de77ae"
            ],
            [
             0.3,
             "#f1b6da"
            ],
            [
             0.4,
             "#fde0ef"
            ],
            [
             0.5,
             "#f7f7f7"
            ],
            [
             0.6,
             "#e6f5d0"
            ],
            [
             0.7,
             "#b8e186"
            ],
            [
             0.8,
             "#7fbc41"
            ],
            [
             0.9,
             "#4d9221"
            ],
            [
             1,
             "#276419"
            ]
           ]
          },
          "xaxis": {
           "gridcolor": "white",
           "linecolor": "white",
           "ticks": "",
           "title": {
            "standoff": 15
           },
           "zerolinecolor": "white",
           "automargin": true,
           "zerolinewidth": 2
          },
          "yaxis": {
           "gridcolor": "white",
           "linecolor": "white",
           "ticks": "",
           "title": {
            "standoff": 15
           },
           "zerolinecolor": "white",
           "automargin": true,
           "zerolinewidth": 2
          },
          "scene": {
           "xaxis": {
            "backgroundcolor": "#E5ECF6",
            "gridcolor": "white",
            "linecolor": "white",
            "showbackground": true,
            "ticks": "",
            "zerolinecolor": "white",
            "gridwidth": 2
           },
           "yaxis": {
            "backgroundcolor": "#E5ECF6",
            "gridcolor": "white",
            "linecolor": "white",
            "showbackground": true,
            "ticks": "",
            "zerolinecolor": "white",
            "gridwidth": 2
           },
           "zaxis": {
            "backgroundcolor": "#E5ECF6",
            "gridcolor": "white",
            "linecolor": "white",
            "showbackground": true,
            "ticks": "",
            "zerolinecolor": "white",
            "gridwidth": 2
           }
          },
          "shapedefaults": {
           "line": {
            "color": "#2a3f5f"
           }
          },
          "annotationdefaults": {
           "arrowcolor": "#2a3f5f",
           "arrowhead": 0,
           "arrowwidth": 1
          },
          "geo": {
           "bgcolor": "white",
           "landcolor": "#E5ECF6",
           "subunitcolor": "white",
           "showland": true,
           "showlakes": true,
           "lakecolor": "white"
          },
          "title": {
           "x": 0.05
          },
          "mapbox": {
           "style": "light"
          }
         }
        },
        "xaxis": {
         "anchor": "y",
         "domain": [
          0.0,
          1.0
         ],
         "title": {
          "text": "Topic"
         },
         "categoryorder": "array",
         "categoryarray": [
          "Other",
          "Person",
          "TV and Movies",
          "Entities",
          "Interest and Hobbies",
          "Sport",
          "Brand",
          "Music",
          "Video Game",
          "Political",
          "Book",
          "Holiday",
          "News"
         ]
        },
        "yaxis": {
         "anchor": "x",
         "domain": [
          0.0,
          1.0
         ],
         "title": {
          "text": "Average Retweets Time"
         }
        },
        "legend": {
         "title": {
          "text": "Year"
         },
         "tracegroupgap": 0
        },
        "margin": {
         "t": 60
        },
        "barmode": "group",
        "title": {
         "text": "Analysing average retweet time ratio of retweeters per topic"
        }
       },
       "config": {
        "plotlyServerURL": "https://plot.ly"
       }
      },
      "text/html": "<div>                            <div id=\"96110c93-f056-4cc5-b512-d0e68cf25a95\" class=\"plotly-graph-div\" style=\"height:525px; width:100%;\"></div>            <script type=\"text/javascript\">                require([\"plotly\"], function(Plotly) {                    window.PLOTLYENV=window.PLOTLYENV || {};                                    if (document.getElementById(\"96110c93-f056-4cc5-b512-d0e68cf25a95\")) {                    Plotly.newPlot(                        \"96110c93-f056-4cc5-b512-d0e68cf25a95\",                        [{\"alignmentgroup\":\"True\",\"hovertemplate\":\"Year=2019<br>Topic=%{x}<br>Average Retweets Time=%{y}<extra></extra>\",\"legendgroup\":\"2019\",\"marker\":{\"color\":\"#006D77\",\"pattern\":{\"shape\":\"\"}},\"name\":\"2019\",\"offsetgroup\":\"2019\",\"orientation\":\"v\",\"showlegend\":true,\"textposition\":\"auto\",\"x\":[\"Other\",\"Person\",\"TV and Movies\",\"Entities\",\"Interest and Hobbies\",\"Sport\",\"Brand\",\"Music\",\"Video Game\",\"Political\",\"Book\",\"Holiday\"],\"xaxis\":\"x\",\"y\":[139,177,76,117,143,96,214,253,266,149,112,-1],\"yaxis\":\"y\",\"type\":\"bar\"},{\"alignmentgroup\":\"True\",\"hovertemplate\":\"Year=2020<br>Topic=%{x}<br>Average Retweets Time=%{y}<extra></extra>\",\"legendgroup\":\"2020\",\"marker\":{\"color\":\"#FBD1A2\",\"pattern\":{\"shape\":\"\"}},\"name\":\"2020\",\"offsetgroup\":\"2020\",\"orientation\":\"v\",\"showlegend\":true,\"textposition\":\"auto\",\"x\":[\"Brand\",\"Holiday\",\"Person\",\"Interest and Hobbies\",\"Sport\",\"TV and Movies\",\"Other\",\"Video Game\",\"Entities\",\"Political\",\"Music\",\"Book\",\"News\"],\"xaxis\":\"x\",\"y\":[160,85,71,97,55,80,107,77,143,69,94,61,141],\"yaxis\":\"y\",\"type\":\"bar\"},{\"alignmentgroup\":\"True\",\"hovertemplate\":\"Year=2021<br>Topic=%{x}<br>Average Retweets Time=%{y}<extra></extra>\",\"legendgroup\":\"2021\",\"marker\":{\"color\":\"#7DCFB6\",\"pattern\":{\"shape\":\"\"}},\"name\":\"2021\",\"offsetgroup\":\"2021\",\"orientation\":\"v\",\"showlegend\":true,\"textposition\":\"auto\",\"x\":[\"Holiday\",\"Brand\",\"Interest and Hobbies\",\"TV and Movies\",\"Person\",\"News\",\"Entities\",\"Music\",\"Other\",\"Video Game\",\"Sport\",\"Book\",\"Political\"],\"xaxis\":\"x\",\"y\":[52,91,82,36,77,20,62,46,94,16,24,10,127],\"yaxis\":\"y\",\"type\":\"bar\"}],                        {\"template\":{\"data\":{\"histogram2dcontour\":[{\"type\":\"histogram2dcontour\",\"colorbar\":{\"outlinewidth\":0,\"ticks\":\"\"},\"colorscale\":[[0.0,\"#0d0887\"],[0.1111111111111111,\"#46039f\"],[0.2222222222222222,\"#7201a8\"],[0.3333333333333333,\"#9c179e\"],[0.4444444444444444,\"#bd3786\"],[0.5555555555555556,\"#d8576b\"],[0.6666666666666666,\"#ed7953\"],[0.7777777777777778,\"#fb9f3a\"],[0.8888888888888888,\"#fdca26\"],[1.0,\"#f0f921\"]]}],\"choropleth\":[{\"type\":\"choropleth\",\"colorbar\":{\"outlinewidth\":0,\"ticks\":\"\"}}],\"histogram2d\":[{\"type\":\"histogram2d\",\"colorbar\":{\"outlinewidth\":0,\"ticks\":\"\"},\"colorscale\":[[0.0,\"#0d0887\"],[0.1111111111111111,\"#46039f\"],[0.2222222222222222,\"#7201a8\"],[0.3333333333333333,\"#9c179e\"],[0.4444444444444444,\"#bd3786\"],[0.5555555555555556,\"#d8576b\"],[0.6666666666666666,\"#ed7953\"],[0.7777777777777778,\"#fb9f3a\"],[0.8888888888888888,\"#fdca26\"],[1.0,\"#f0f921\"]]}],\"heatmap\":[{\"type\":\"heatmap\",\"colorbar\":{\"outlinewidth\":0,\"ticks\":\"\"},\"colorscale\":[[0.0,\"#0d0887\"],[0.1111111111111111,\"#46039f\"],[0.2222222222222222,\"#7201a8\"],[0.3333333333333333,\"#9c179e\"],[0.4444444444444444,\"#bd3786\"],[0.5555555555555556,\"#d8576b\"],[0.6666666666666666,\"#ed7953\"],[0.7777777777777778,\"#fb9f3a\"],[0.8888888888888888,\"#fdca26\"],[1.0,\"#f0f921\"]]}],\"heatmapgl\":[{\"type\":\"heatmapgl\",\"colorbar\":{\"outlinewidth\":0,\"ticks\":\"\"},\"colorscale\":[[0.0,\"#0d0887\"],[0.1111111111111111,\"#46039f\"],[0.2222222222222222,\"#7201a8\"],[0.3333333333333333,\"#9c179e\"],[0.4444444444444444,\"#bd3786\"],[0.5555555555555556,\"#d8576b\"],[0.6666666666666666,\"#ed7953\"],[0.7777777777777778,\"#fb9f3a\"],[0.8888888888888888,\"#fdca26\"],[1.0,\"#f0f921\"]]}],\"contourcarpet\":[{\"type\":\"contourcarpet\",\"colorbar\":{\"outlinewidth\":0,\"ticks\":\"\"}}],\"contour\":[{\"type\":\"contour\",\"colorbar\":{\"outlinewidth\":0,\"ticks\":\"\"},\"colorscale\":[[0.0,\"#0d0887\"],[0.1111111111111111,\"#46039f\"],[0.2222222222222222,\"#7201a8\"],[0.3333333333333333,\"#9c179e\"],[0.4444444444444444,\"#bd3786\"],[0.5555555555555556,\"#d8576b\"],[0.6666666666666666,\"#ed7953\"],[0.7777777777777778,\"#fb9f3a\"],[0.8888888888888888,\"#fdca26\"],[1.0,\"#f0f921\"]]}],\"surface\":[{\"type\":\"surface\",\"colorbar\":{\"outlinewidth\":0,\"ticks\":\"\"},\"colorscale\":[[0.0,\"#0d0887\"],[0.1111111111111111,\"#46039f\"],[0.2222222222222222,\"#7201a8\"],[0.3333333333333333,\"#9c179e\"],[0.4444444444444444,\"#bd3786\"],[0.5555555555555556,\"#d8576b\"],[0.6666666666666666,\"#ed7953\"],[0.7777777777777778,\"#fb9f3a\"],[0.8888888888888888,\"#fdca26\"],[1.0,\"#f0f921\"]]}],\"mesh3d\":[{\"type\":\"mesh3d\",\"colorbar\":{\"outlinewidth\":0,\"ticks\":\"\"}}],\"scatter\":[{\"fillpattern\":{\"fillmode\":\"overlay\",\"size\":10,\"solidity\":0.2},\"type\":\"scatter\"}],\"parcoords\":[{\"type\":\"parcoords\",\"line\":{\"colorbar\":{\"outlinewidth\":0,\"ticks\":\"\"}}}],\"scatterpolargl\":[{\"type\":\"scatterpolargl\",\"marker\":{\"colorbar\":{\"outlinewidth\":0,\"ticks\":\"\"}}}],\"bar\":[{\"error_x\":{\"color\":\"#2a3f5f\"},\"error_y\":{\"color\":\"#2a3f5f\"},\"marker\":{\"line\":{\"color\":\"#E5ECF6\",\"width\":0.5},\"pattern\":{\"fillmode\":\"overlay\",\"size\":10,\"solidity\":0.2}},\"type\":\"bar\"}],\"scattergeo\":[{\"type\":\"scattergeo\",\"marker\":{\"colorbar\":{\"outlinewidth\":0,\"ticks\":\"\"}}}],\"scatterpolar\":[{\"type\":\"scatterpolar\",\"marker\":{\"colorbar\":{\"outlinewidth\":0,\"ticks\":\"\"}}}],\"histogram\":[{\"marker\":{\"pattern\":{\"fillmode\":\"overlay\",\"size\":10,\"solidity\":0.2}},\"type\":\"histogram\"}],\"scattergl\":[{\"type\":\"scattergl\",\"marker\":{\"colorbar\":{\"outlinewidth\":0,\"ticks\":\"\"}}}],\"scatter3d\":[{\"type\":\"scatter3d\",\"line\":{\"colorbar\":{\"outlinewidth\":0,\"ticks\":\"\"}},\"marker\":{\"colorbar\":{\"outlinewidth\":0,\"ticks\":\"\"}}}],\"scattermapbox\":[{\"type\":\"scattermapbox\",\"marker\":{\"colorbar\":{\"outlinewidth\":0,\"ticks\":\"\"}}}],\"scatterternary\":[{\"type\":\"scatterternary\",\"marker\":{\"colorbar\":{\"outlinewidth\":0,\"ticks\":\"\"}}}],\"scattercarpet\":[{\"type\":\"scattercarpet\",\"marker\":{\"colorbar\":{\"outlinewidth\":0,\"ticks\":\"\"}}}],\"carpet\":[{\"aaxis\":{\"endlinecolor\":\"#2a3f5f\",\"gridcolor\":\"white\",\"linecolor\":\"white\",\"minorgridcolor\":\"white\",\"startlinecolor\":\"#2a3f5f\"},\"baxis\":{\"endlinecolor\":\"#2a3f5f\",\"gridcolor\":\"white\",\"linecolor\":\"white\",\"minorgridcolor\":\"white\",\"startlinecolor\":\"#2a3f5f\"},\"type\":\"carpet\"}],\"table\":[{\"cells\":{\"fill\":{\"color\":\"#EBF0F8\"},\"line\":{\"color\":\"white\"}},\"header\":{\"fill\":{\"color\":\"#C8D4E3\"},\"line\":{\"color\":\"white\"}},\"type\":\"table\"}],\"barpolar\":[{\"marker\":{\"line\":{\"color\":\"#E5ECF6\",\"width\":0.5},\"pattern\":{\"fillmode\":\"overlay\",\"size\":10,\"solidity\":0.2}},\"type\":\"barpolar\"}],\"pie\":[{\"automargin\":true,\"type\":\"pie\"}]},\"layout\":{\"autotypenumbers\":\"strict\",\"colorway\":[\"#636efa\",\"#EF553B\",\"#00cc96\",\"#ab63fa\",\"#FFA15A\",\"#19d3f3\",\"#FF6692\",\"#B6E880\",\"#FF97FF\",\"#FECB52\"],\"font\":{\"color\":\"#2a3f5f\"},\"hovermode\":\"closest\",\"hoverlabel\":{\"align\":\"left\"},\"paper_bgcolor\":\"white\",\"plot_bgcolor\":\"#E5ECF6\",\"polar\":{\"bgcolor\":\"#E5ECF6\",\"angularaxis\":{\"gridcolor\":\"white\",\"linecolor\":\"white\",\"ticks\":\"\"},\"radialaxis\":{\"gridcolor\":\"white\",\"linecolor\":\"white\",\"ticks\":\"\"}},\"ternary\":{\"bgcolor\":\"#E5ECF6\",\"aaxis\":{\"gridcolor\":\"white\",\"linecolor\":\"white\",\"ticks\":\"\"},\"baxis\":{\"gridcolor\":\"white\",\"linecolor\":\"white\",\"ticks\":\"\"},\"caxis\":{\"gridcolor\":\"white\",\"linecolor\":\"white\",\"ticks\":\"\"}},\"coloraxis\":{\"colorbar\":{\"outlinewidth\":0,\"ticks\":\"\"}},\"colorscale\":{\"sequential\":[[0.0,\"#0d0887\"],[0.1111111111111111,\"#46039f\"],[0.2222222222222222,\"#7201a8\"],[0.3333333333333333,\"#9c179e\"],[0.4444444444444444,\"#bd3786\"],[0.5555555555555556,\"#d8576b\"],[0.6666666666666666,\"#ed7953\"],[0.7777777777777778,\"#fb9f3a\"],[0.8888888888888888,\"#fdca26\"],[1.0,\"#f0f921\"]],\"sequentialminus\":[[0.0,\"#0d0887\"],[0.1111111111111111,\"#46039f\"],[0.2222222222222222,\"#7201a8\"],[0.3333333333333333,\"#9c179e\"],[0.4444444444444444,\"#bd3786\"],[0.5555555555555556,\"#d8576b\"],[0.6666666666666666,\"#ed7953\"],[0.7777777777777778,\"#fb9f3a\"],[0.8888888888888888,\"#fdca26\"],[1.0,\"#f0f921\"]],\"diverging\":[[0,\"#8e0152\"],[0.1,\"#c51b7d\"],[0.2,\"#de77ae\"],[0.3,\"#f1b6da\"],[0.4,\"#fde0ef\"],[0.5,\"#f7f7f7\"],[0.6,\"#e6f5d0\"],[0.7,\"#b8e186\"],[0.8,\"#7fbc41\"],[0.9,\"#4d9221\"],[1,\"#276419\"]]},\"xaxis\":{\"gridcolor\":\"white\",\"linecolor\":\"white\",\"ticks\":\"\",\"title\":{\"standoff\":15},\"zerolinecolor\":\"white\",\"automargin\":true,\"zerolinewidth\":2},\"yaxis\":{\"gridcolor\":\"white\",\"linecolor\":\"white\",\"ticks\":\"\",\"title\":{\"standoff\":15},\"zerolinecolor\":\"white\",\"automargin\":true,\"zerolinewidth\":2},\"scene\":{\"xaxis\":{\"backgroundcolor\":\"#E5ECF6\",\"gridcolor\":\"white\",\"linecolor\":\"white\",\"showbackground\":true,\"ticks\":\"\",\"zerolinecolor\":\"white\",\"gridwidth\":2},\"yaxis\":{\"backgroundcolor\":\"#E5ECF6\",\"gridcolor\":\"white\",\"linecolor\":\"white\",\"showbackground\":true,\"ticks\":\"\",\"zerolinecolor\":\"white\",\"gridwidth\":2},\"zaxis\":{\"backgroundcolor\":\"#E5ECF6\",\"gridcolor\":\"white\",\"linecolor\":\"white\",\"showbackground\":true,\"ticks\":\"\",\"zerolinecolor\":\"white\",\"gridwidth\":2}},\"shapedefaults\":{\"line\":{\"color\":\"#2a3f5f\"}},\"annotationdefaults\":{\"arrowcolor\":\"#2a3f5f\",\"arrowhead\":0,\"arrowwidth\":1},\"geo\":{\"bgcolor\":\"white\",\"landcolor\":\"#E5ECF6\",\"subunitcolor\":\"white\",\"showland\":true,\"showlakes\":true,\"lakecolor\":\"white\"},\"title\":{\"x\":0.05},\"mapbox\":{\"style\":\"light\"}}},\"xaxis\":{\"anchor\":\"y\",\"domain\":[0.0,1.0],\"title\":{\"text\":\"Topic\"},\"categoryorder\":\"array\",\"categoryarray\":[\"Other\",\"Person\",\"TV and Movies\",\"Entities\",\"Interest and Hobbies\",\"Sport\",\"Brand\",\"Music\",\"Video Game\",\"Political\",\"Book\",\"Holiday\",\"News\"]},\"yaxis\":{\"anchor\":\"x\",\"domain\":[0.0,1.0],\"title\":{\"text\":\"Average Retweets Time\"}},\"legend\":{\"title\":{\"text\":\"Year\"},\"tracegroupgap\":0},\"margin\":{\"t\":60},\"barmode\":\"group\",\"title\":{\"text\":\"Analysing average retweet time ratio of retweeters per topic\"}},                        {\"responsive\": true}                    ).then(function(){\n                            \nvar gd = document.getElementById('96110c93-f056-4cc5-b512-d0e68cf25a95');\nvar x = new MutationObserver(function (mutations, observer) {{\n        var display = window.getComputedStyle(gd).display;\n        if (!display || display === 'none') {{\n            console.log([gd, 'removed!']);\n            Plotly.purge(gd);\n            observer.disconnect();\n        }}\n}});\n\n// Listen for the removal of the full notebook cells\nvar notebookContainer = gd.closest('#notebook-container');\nif (notebookContainer) {{\n    x.observe(notebookContainer, {childList: true});\n}}\n\n// Listen for the clearing of the current output cell\nvar outputEl = gd.closest('.output');\nif (outputEl) {{\n    x.observe(outputEl, {childList: true});\n}}\n\n                        })                };                });            </script>        </div>"
     },
     "metadata": {},
     "output_type": "display_data"
    }
   ],
   "source": [
    "retweeters_info_chart(df_retweeters_chars, topics_categories, \"Topic\", \"Average Retweets Time\", \"Analysing average retweet time ratio of retweeters per topic\", offline_charts)"
   ],
   "metadata": {
    "collapsed": false,
    "pycharm": {
     "name": "#%%\n"
    }
   }
  },
  {
   "cell_type": "markdown",
   "source": [
    "### Analysing average retweeter's account age per topic"
   ],
   "metadata": {
    "collapsed": false,
    "pycharm": {
     "name": "#%% md\n"
    }
   }
  },
  {
   "cell_type": "code",
   "execution_count": 101,
   "outputs": [
    {
     "data": {
      "application/vnd.plotly.v1+json": {
       "data": [
        {
         "alignmentgroup": "True",
         "hovertemplate": "Year=2019<br>Topic=%{x}<br>Average Retweeters Account Age=%{y}<extra></extra>",
         "legendgroup": "2019",
         "marker": {
          "color": "#006D77",
          "pattern": {
           "shape": ""
          }
         },
         "name": "2019",
         "offsetgroup": "2019",
         "orientation": "v",
         "showlegend": true,
         "textposition": "auto",
         "x": [
          "Other",
          "Person",
          "TV and Movies",
          "Entities",
          "Interest and Hobbies",
          "Sport",
          "Brand",
          "Music",
          "Video Game",
          "Political",
          "Book",
          "Holiday"
         ],
         "xaxis": "x",
         "y": [
          8.420843222936567,
          8.385795693955266,
          8.709884097800828,
          8.412540955993085,
          8.254812800751264,
          8.282344964234538,
          8.34595197358351,
          8.280334107471175,
          7.325862086045153,
          8.578508860427904,
          9.38452380952381,
          -1.0
         ],
         "yaxis": "y",
         "type": "bar"
        },
        {
         "alignmentgroup": "True",
         "hovertemplate": "Year=2020<br>Topic=%{x}<br>Average Retweeters Account Age=%{y}<extra></extra>",
         "legendgroup": "2020",
         "marker": {
          "color": "#FBD1A2",
          "pattern": {
           "shape": ""
          }
         },
         "name": "2020",
         "offsetgroup": "2020",
         "orientation": "v",
         "showlegend": true,
         "textposition": "auto",
         "x": [
          "Brand",
          "Holiday",
          "Person",
          "Interest and Hobbies",
          "Sport",
          "TV and Movies",
          "Other",
          "Video Game",
          "Entities",
          "Political",
          "Music",
          "Book",
          "News"
         ],
         "xaxis": "x",
         "y": [
          7.806267605254687,
          7.987912444487214,
          7.918522698527223,
          7.709326800551663,
          7.786435772427894,
          8.138686926536517,
          7.411603214530899,
          6.9887523407631456,
          7.838190163195246,
          8.570875734259948,
          7.777815249307024,
          7.511288998357966,
          8.40915471375592
         ],
         "yaxis": "y",
         "type": "bar"
        },
        {
         "alignmentgroup": "True",
         "hovertemplate": "Year=2021<br>Topic=%{x}<br>Average Retweeters Account Age=%{y}<extra></extra>",
         "legendgroup": "2021",
         "marker": {
          "color": "#7DCFB6",
          "pattern": {
           "shape": ""
          }
         },
         "name": "2021",
         "offsetgroup": "2021",
         "orientation": "v",
         "showlegend": true,
         "textposition": "auto",
         "x": [
          "Holiday",
          "Brand",
          "Interest and Hobbies",
          "TV and Movies",
          "Person",
          "News",
          "Entities",
          "Music",
          "Other",
          "Video Game",
          "Sport",
          "Book",
          "Political"
         ],
         "xaxis": "x",
         "y": [
          7.311491369137395,
          6.910177700418742,
          6.743358447866291,
          7.530459880571952,
          7.1222645091508365,
          8.00409524017922,
          7.169166127683913,
          7.793758600323544,
          6.611166330495573,
          6.214273178407166,
          7.109108531828963,
          7.766666666666667,
          7.12694423223835
         ],
         "yaxis": "y",
         "type": "bar"
        }
       ],
       "layout": {
        "template": {
         "data": {
          "histogram2dcontour": [
           {
            "type": "histogram2dcontour",
            "colorbar": {
             "outlinewidth": 0,
             "ticks": ""
            },
            "colorscale": [
             [
              0.0,
              "#0d0887"
             ],
             [
              0.1111111111111111,
              "#46039f"
             ],
             [
              0.2222222222222222,
              "#7201a8"
             ],
             [
              0.3333333333333333,
              "#9c179e"
             ],
             [
              0.4444444444444444,
              "#bd3786"
             ],
             [
              0.5555555555555556,
              "#d8576b"
             ],
             [
              0.6666666666666666,
              "#ed7953"
             ],
             [
              0.7777777777777778,
              "#fb9f3a"
             ],
             [
              0.8888888888888888,
              "#fdca26"
             ],
             [
              1.0,
              "#f0f921"
             ]
            ]
           }
          ],
          "choropleth": [
           {
            "type": "choropleth",
            "colorbar": {
             "outlinewidth": 0,
             "ticks": ""
            }
           }
          ],
          "histogram2d": [
           {
            "type": "histogram2d",
            "colorbar": {
             "outlinewidth": 0,
             "ticks": ""
            },
            "colorscale": [
             [
              0.0,
              "#0d0887"
             ],
             [
              0.1111111111111111,
              "#46039f"
             ],
             [
              0.2222222222222222,
              "#7201a8"
             ],
             [
              0.3333333333333333,
              "#9c179e"
             ],
             [
              0.4444444444444444,
              "#bd3786"
             ],
             [
              0.5555555555555556,
              "#d8576b"
             ],
             [
              0.6666666666666666,
              "#ed7953"
             ],
             [
              0.7777777777777778,
              "#fb9f3a"
             ],
             [
              0.8888888888888888,
              "#fdca26"
             ],
             [
              1.0,
              "#f0f921"
             ]
            ]
           }
          ],
          "heatmap": [
           {
            "type": "heatmap",
            "colorbar": {
             "outlinewidth": 0,
             "ticks": ""
            },
            "colorscale": [
             [
              0.0,
              "#0d0887"
             ],
             [
              0.1111111111111111,
              "#46039f"
             ],
             [
              0.2222222222222222,
              "#7201a8"
             ],
             [
              0.3333333333333333,
              "#9c179e"
             ],
             [
              0.4444444444444444,
              "#bd3786"
             ],
             [
              0.5555555555555556,
              "#d8576b"
             ],
             [
              0.6666666666666666,
              "#ed7953"
             ],
             [
              0.7777777777777778,
              "#fb9f3a"
             ],
             [
              0.8888888888888888,
              "#fdca26"
             ],
             [
              1.0,
              "#f0f921"
             ]
            ]
           }
          ],
          "heatmapgl": [
           {
            "type": "heatmapgl",
            "colorbar": {
             "outlinewidth": 0,
             "ticks": ""
            },
            "colorscale": [
             [
              0.0,
              "#0d0887"
             ],
             [
              0.1111111111111111,
              "#46039f"
             ],
             [
              0.2222222222222222,
              "#7201a8"
             ],
             [
              0.3333333333333333,
              "#9c179e"
             ],
             [
              0.4444444444444444,
              "#bd3786"
             ],
             [
              0.5555555555555556,
              "#d8576b"
             ],
             [
              0.6666666666666666,
              "#ed7953"
             ],
             [
              0.7777777777777778,
              "#fb9f3a"
             ],
             [
              0.8888888888888888,
              "#fdca26"
             ],
             [
              1.0,
              "#f0f921"
             ]
            ]
           }
          ],
          "contourcarpet": [
           {
            "type": "contourcarpet",
            "colorbar": {
             "outlinewidth": 0,
             "ticks": ""
            }
           }
          ],
          "contour": [
           {
            "type": "contour",
            "colorbar": {
             "outlinewidth": 0,
             "ticks": ""
            },
            "colorscale": [
             [
              0.0,
              "#0d0887"
             ],
             [
              0.1111111111111111,
              "#46039f"
             ],
             [
              0.2222222222222222,
              "#7201a8"
             ],
             [
              0.3333333333333333,
              "#9c179e"
             ],
             [
              0.4444444444444444,
              "#bd3786"
             ],
             [
              0.5555555555555556,
              "#d8576b"
             ],
             [
              0.6666666666666666,
              "#ed7953"
             ],
             [
              0.7777777777777778,
              "#fb9f3a"
             ],
             [
              0.8888888888888888,
              "#fdca26"
             ],
             [
              1.0,
              "#f0f921"
             ]
            ]
           }
          ],
          "surface": [
           {
            "type": "surface",
            "colorbar": {
             "outlinewidth": 0,
             "ticks": ""
            },
            "colorscale": [
             [
              0.0,
              "#0d0887"
             ],
             [
              0.1111111111111111,
              "#46039f"
             ],
             [
              0.2222222222222222,
              "#7201a8"
             ],
             [
              0.3333333333333333,
              "#9c179e"
             ],
             [
              0.4444444444444444,
              "#bd3786"
             ],
             [
              0.5555555555555556,
              "#d8576b"
             ],
             [
              0.6666666666666666,
              "#ed7953"
             ],
             [
              0.7777777777777778,
              "#fb9f3a"
             ],
             [
              0.8888888888888888,
              "#fdca26"
             ],
             [
              1.0,
              "#f0f921"
             ]
            ]
           }
          ],
          "mesh3d": [
           {
            "type": "mesh3d",
            "colorbar": {
             "outlinewidth": 0,
             "ticks": ""
            }
           }
          ],
          "scatter": [
           {
            "fillpattern": {
             "fillmode": "overlay",
             "size": 10,
             "solidity": 0.2
            },
            "type": "scatter"
           }
          ],
          "parcoords": [
           {
            "type": "parcoords",
            "line": {
             "colorbar": {
              "outlinewidth": 0,
              "ticks": ""
             }
            }
           }
          ],
          "scatterpolargl": [
           {
            "type": "scatterpolargl",
            "marker": {
             "colorbar": {
              "outlinewidth": 0,
              "ticks": ""
             }
            }
           }
          ],
          "bar": [
           {
            "error_x": {
             "color": "#2a3f5f"
            },
            "error_y": {
             "color": "#2a3f5f"
            },
            "marker": {
             "line": {
              "color": "#E5ECF6",
              "width": 0.5
             },
             "pattern": {
              "fillmode": "overlay",
              "size": 10,
              "solidity": 0.2
             }
            },
            "type": "bar"
           }
          ],
          "scattergeo": [
           {
            "type": "scattergeo",
            "marker": {
             "colorbar": {
              "outlinewidth": 0,
              "ticks": ""
             }
            }
           }
          ],
          "scatterpolar": [
           {
            "type": "scatterpolar",
            "marker": {
             "colorbar": {
              "outlinewidth": 0,
              "ticks": ""
             }
            }
           }
          ],
          "histogram": [
           {
            "marker": {
             "pattern": {
              "fillmode": "overlay",
              "size": 10,
              "solidity": 0.2
             }
            },
            "type": "histogram"
           }
          ],
          "scattergl": [
           {
            "type": "scattergl",
            "marker": {
             "colorbar": {
              "outlinewidth": 0,
              "ticks": ""
             }
            }
           }
          ],
          "scatter3d": [
           {
            "type": "scatter3d",
            "line": {
             "colorbar": {
              "outlinewidth": 0,
              "ticks": ""
             }
            },
            "marker": {
             "colorbar": {
              "outlinewidth": 0,
              "ticks": ""
             }
            }
           }
          ],
          "scattermapbox": [
           {
            "type": "scattermapbox",
            "marker": {
             "colorbar": {
              "outlinewidth": 0,
              "ticks": ""
             }
            }
           }
          ],
          "scatterternary": [
           {
            "type": "scatterternary",
            "marker": {
             "colorbar": {
              "outlinewidth": 0,
              "ticks": ""
             }
            }
           }
          ],
          "scattercarpet": [
           {
            "type": "scattercarpet",
            "marker": {
             "colorbar": {
              "outlinewidth": 0,
              "ticks": ""
             }
            }
           }
          ],
          "carpet": [
           {
            "aaxis": {
             "endlinecolor": "#2a3f5f",
             "gridcolor": "white",
             "linecolor": "white",
             "minorgridcolor": "white",
             "startlinecolor": "#2a3f5f"
            },
            "baxis": {
             "endlinecolor": "#2a3f5f",
             "gridcolor": "white",
             "linecolor": "white",
             "minorgridcolor": "white",
             "startlinecolor": "#2a3f5f"
            },
            "type": "carpet"
           }
          ],
          "table": [
           {
            "cells": {
             "fill": {
              "color": "#EBF0F8"
             },
             "line": {
              "color": "white"
             }
            },
            "header": {
             "fill": {
              "color": "#C8D4E3"
             },
             "line": {
              "color": "white"
             }
            },
            "type": "table"
           }
          ],
          "barpolar": [
           {
            "marker": {
             "line": {
              "color": "#E5ECF6",
              "width": 0.5
             },
             "pattern": {
              "fillmode": "overlay",
              "size": 10,
              "solidity": 0.2
             }
            },
            "type": "barpolar"
           }
          ],
          "pie": [
           {
            "automargin": true,
            "type": "pie"
           }
          ]
         },
         "layout": {
          "autotypenumbers": "strict",
          "colorway": [
           "#636efa",
           "#EF553B",
           "#00cc96",
           "#ab63fa",
           "#FFA15A",
           "#19d3f3",
           "#FF6692",
           "#B6E880",
           "#FF97FF",
           "#FECB52"
          ],
          "font": {
           "color": "#2a3f5f"
          },
          "hovermode": "closest",
          "hoverlabel": {
           "align": "left"
          },
          "paper_bgcolor": "white",
          "plot_bgcolor": "#E5ECF6",
          "polar": {
           "bgcolor": "#E5ECF6",
           "angularaxis": {
            "gridcolor": "white",
            "linecolor": "white",
            "ticks": ""
           },
           "radialaxis": {
            "gridcolor": "white",
            "linecolor": "white",
            "ticks": ""
           }
          },
          "ternary": {
           "bgcolor": "#E5ECF6",
           "aaxis": {
            "gridcolor": "white",
            "linecolor": "white",
            "ticks": ""
           },
           "baxis": {
            "gridcolor": "white",
            "linecolor": "white",
            "ticks": ""
           },
           "caxis": {
            "gridcolor": "white",
            "linecolor": "white",
            "ticks": ""
           }
          },
          "coloraxis": {
           "colorbar": {
            "outlinewidth": 0,
            "ticks": ""
           }
          },
          "colorscale": {
           "sequential": [
            [
             0.0,
             "#0d0887"
            ],
            [
             0.1111111111111111,
             "#46039f"
            ],
            [
             0.2222222222222222,
             "#7201a8"
            ],
            [
             0.3333333333333333,
             "#9c179e"
            ],
            [
             0.4444444444444444,
             "#bd3786"
            ],
            [
             0.5555555555555556,
             "#d8576b"
            ],
            [
             0.6666666666666666,
             "#ed7953"
            ],
            [
             0.7777777777777778,
             "#fb9f3a"
            ],
            [
             0.8888888888888888,
             "#fdca26"
            ],
            [
             1.0,
             "#f0f921"
            ]
           ],
           "sequentialminus": [
            [
             0.0,
             "#0d0887"
            ],
            [
             0.1111111111111111,
             "#46039f"
            ],
            [
             0.2222222222222222,
             "#7201a8"
            ],
            [
             0.3333333333333333,
             "#9c179e"
            ],
            [
             0.4444444444444444,
             "#bd3786"
            ],
            [
             0.5555555555555556,
             "#d8576b"
            ],
            [
             0.6666666666666666,
             "#ed7953"
            ],
            [
             0.7777777777777778,
             "#fb9f3a"
            ],
            [
             0.8888888888888888,
             "#fdca26"
            ],
            [
             1.0,
             "#f0f921"
            ]
           ],
           "diverging": [
            [
             0,
             "#8e0152"
            ],
            [
             0.1,
             "#c51b7d"
            ],
            [
             0.2,
             "#de77ae"
            ],
            [
             0.3,
             "#f1b6da"
            ],
            [
             0.4,
             "#fde0ef"
            ],
            [
             0.5,
             "#f7f7f7"
            ],
            [
             0.6,
             "#e6f5d0"
            ],
            [
             0.7,
             "#b8e186"
            ],
            [
             0.8,
             "#7fbc41"
            ],
            [
             0.9,
             "#4d9221"
            ],
            [
             1,
             "#276419"
            ]
           ]
          },
          "xaxis": {
           "gridcolor": "white",
           "linecolor": "white",
           "ticks": "",
           "title": {
            "standoff": 15
           },
           "zerolinecolor": "white",
           "automargin": true,
           "zerolinewidth": 2
          },
          "yaxis": {
           "gridcolor": "white",
           "linecolor": "white",
           "ticks": "",
           "title": {
            "standoff": 15
           },
           "zerolinecolor": "white",
           "automargin": true,
           "zerolinewidth": 2
          },
          "scene": {
           "xaxis": {
            "backgroundcolor": "#E5ECF6",
            "gridcolor": "white",
            "linecolor": "white",
            "showbackground": true,
            "ticks": "",
            "zerolinecolor": "white",
            "gridwidth": 2
           },
           "yaxis": {
            "backgroundcolor": "#E5ECF6",
            "gridcolor": "white",
            "linecolor": "white",
            "showbackground": true,
            "ticks": "",
            "zerolinecolor": "white",
            "gridwidth": 2
           },
           "zaxis": {
            "backgroundcolor": "#E5ECF6",
            "gridcolor": "white",
            "linecolor": "white",
            "showbackground": true,
            "ticks": "",
            "zerolinecolor": "white",
            "gridwidth": 2
           }
          },
          "shapedefaults": {
           "line": {
            "color": "#2a3f5f"
           }
          },
          "annotationdefaults": {
           "arrowcolor": "#2a3f5f",
           "arrowhead": 0,
           "arrowwidth": 1
          },
          "geo": {
           "bgcolor": "white",
           "landcolor": "#E5ECF6",
           "subunitcolor": "white",
           "showland": true,
           "showlakes": true,
           "lakecolor": "white"
          },
          "title": {
           "x": 0.05
          },
          "mapbox": {
           "style": "light"
          }
         }
        },
        "xaxis": {
         "anchor": "y",
         "domain": [
          0.0,
          1.0
         ],
         "title": {
          "text": "Topic"
         },
         "categoryorder": "array",
         "categoryarray": [
          "Other",
          "Person",
          "TV and Movies",
          "Entities",
          "Interest and Hobbies",
          "Sport",
          "Brand",
          "Music",
          "Video Game",
          "Political",
          "Book",
          "Holiday",
          "News"
         ]
        },
        "yaxis": {
         "anchor": "x",
         "domain": [
          0.0,
          1.0
         ],
         "title": {
          "text": "Average Retweeters Account Age"
         }
        },
        "legend": {
         "title": {
          "text": "Year"
         },
         "tracegroupgap": 0
        },
        "margin": {
         "t": 60
        },
        "barmode": "group",
        "title": {
         "text": "Analysing average retweeters account age per topic"
        }
       },
       "config": {
        "plotlyServerURL": "https://plot.ly"
       }
      },
      "text/html": "<div>                            <div id=\"6eec3a59-2749-49b1-8690-923fce096eb8\" class=\"plotly-graph-div\" style=\"height:525px; width:100%;\"></div>            <script type=\"text/javascript\">                require([\"plotly\"], function(Plotly) {                    window.PLOTLYENV=window.PLOTLYENV || {};                                    if (document.getElementById(\"6eec3a59-2749-49b1-8690-923fce096eb8\")) {                    Plotly.newPlot(                        \"6eec3a59-2749-49b1-8690-923fce096eb8\",                        [{\"alignmentgroup\":\"True\",\"hovertemplate\":\"Year=2019<br>Topic=%{x}<br>Average Retweeters Account Age=%{y}<extra></extra>\",\"legendgroup\":\"2019\",\"marker\":{\"color\":\"#006D77\",\"pattern\":{\"shape\":\"\"}},\"name\":\"2019\",\"offsetgroup\":\"2019\",\"orientation\":\"v\",\"showlegend\":true,\"textposition\":\"auto\",\"x\":[\"Other\",\"Person\",\"TV and Movies\",\"Entities\",\"Interest and Hobbies\",\"Sport\",\"Brand\",\"Music\",\"Video Game\",\"Political\",\"Book\",\"Holiday\"],\"xaxis\":\"x\",\"y\":[8.420843222936567,8.385795693955266,8.709884097800828,8.412540955993085,8.254812800751264,8.282344964234538,8.34595197358351,8.280334107471175,7.325862086045153,8.578508860427904,9.38452380952381,-1.0],\"yaxis\":\"y\",\"type\":\"bar\"},{\"alignmentgroup\":\"True\",\"hovertemplate\":\"Year=2020<br>Topic=%{x}<br>Average Retweeters Account Age=%{y}<extra></extra>\",\"legendgroup\":\"2020\",\"marker\":{\"color\":\"#FBD1A2\",\"pattern\":{\"shape\":\"\"}},\"name\":\"2020\",\"offsetgroup\":\"2020\",\"orientation\":\"v\",\"showlegend\":true,\"textposition\":\"auto\",\"x\":[\"Brand\",\"Holiday\",\"Person\",\"Interest and Hobbies\",\"Sport\",\"TV and Movies\",\"Other\",\"Video Game\",\"Entities\",\"Political\",\"Music\",\"Book\",\"News\"],\"xaxis\":\"x\",\"y\":[7.806267605254687,7.987912444487214,7.918522698527223,7.709326800551663,7.786435772427894,8.138686926536517,7.411603214530899,6.9887523407631456,7.838190163195246,8.570875734259948,7.777815249307024,7.511288998357966,8.40915471375592],\"yaxis\":\"y\",\"type\":\"bar\"},{\"alignmentgroup\":\"True\",\"hovertemplate\":\"Year=2021<br>Topic=%{x}<br>Average Retweeters Account Age=%{y}<extra></extra>\",\"legendgroup\":\"2021\",\"marker\":{\"color\":\"#7DCFB6\",\"pattern\":{\"shape\":\"\"}},\"name\":\"2021\",\"offsetgroup\":\"2021\",\"orientation\":\"v\",\"showlegend\":true,\"textposition\":\"auto\",\"x\":[\"Holiday\",\"Brand\",\"Interest and Hobbies\",\"TV and Movies\",\"Person\",\"News\",\"Entities\",\"Music\",\"Other\",\"Video Game\",\"Sport\",\"Book\",\"Political\"],\"xaxis\":\"x\",\"y\":[7.311491369137395,6.910177700418742,6.743358447866291,7.530459880571952,7.1222645091508365,8.00409524017922,7.169166127683913,7.793758600323544,6.611166330495573,6.214273178407166,7.109108531828963,7.766666666666667,7.12694423223835],\"yaxis\":\"y\",\"type\":\"bar\"}],                        {\"template\":{\"data\":{\"histogram2dcontour\":[{\"type\":\"histogram2dcontour\",\"colorbar\":{\"outlinewidth\":0,\"ticks\":\"\"},\"colorscale\":[[0.0,\"#0d0887\"],[0.1111111111111111,\"#46039f\"],[0.2222222222222222,\"#7201a8\"],[0.3333333333333333,\"#9c179e\"],[0.4444444444444444,\"#bd3786\"],[0.5555555555555556,\"#d8576b\"],[0.6666666666666666,\"#ed7953\"],[0.7777777777777778,\"#fb9f3a\"],[0.8888888888888888,\"#fdca26\"],[1.0,\"#f0f921\"]]}],\"choropleth\":[{\"type\":\"choropleth\",\"colorbar\":{\"outlinewidth\":0,\"ticks\":\"\"}}],\"histogram2d\":[{\"type\":\"histogram2d\",\"colorbar\":{\"outlinewidth\":0,\"ticks\":\"\"},\"colorscale\":[[0.0,\"#0d0887\"],[0.1111111111111111,\"#46039f\"],[0.2222222222222222,\"#7201a8\"],[0.3333333333333333,\"#9c179e\"],[0.4444444444444444,\"#bd3786\"],[0.5555555555555556,\"#d8576b\"],[0.6666666666666666,\"#ed7953\"],[0.7777777777777778,\"#fb9f3a\"],[0.8888888888888888,\"#fdca26\"],[1.0,\"#f0f921\"]]}],\"heatmap\":[{\"type\":\"heatmap\",\"colorbar\":{\"outlinewidth\":0,\"ticks\":\"\"},\"colorscale\":[[0.0,\"#0d0887\"],[0.1111111111111111,\"#46039f\"],[0.2222222222222222,\"#7201a8\"],[0.3333333333333333,\"#9c179e\"],[0.4444444444444444,\"#bd3786\"],[0.5555555555555556,\"#d8576b\"],[0.6666666666666666,\"#ed7953\"],[0.7777777777777778,\"#fb9f3a\"],[0.8888888888888888,\"#fdca26\"],[1.0,\"#f0f921\"]]}],\"heatmapgl\":[{\"type\":\"heatmapgl\",\"colorbar\":{\"outlinewidth\":0,\"ticks\":\"\"},\"colorscale\":[[0.0,\"#0d0887\"],[0.1111111111111111,\"#46039f\"],[0.2222222222222222,\"#7201a8\"],[0.3333333333333333,\"#9c179e\"],[0.4444444444444444,\"#bd3786\"],[0.5555555555555556,\"#d8576b\"],[0.6666666666666666,\"#ed7953\"],[0.7777777777777778,\"#fb9f3a\"],[0.8888888888888888,\"#fdca26\"],[1.0,\"#f0f921\"]]}],\"contourcarpet\":[{\"type\":\"contourcarpet\",\"colorbar\":{\"outlinewidth\":0,\"ticks\":\"\"}}],\"contour\":[{\"type\":\"contour\",\"colorbar\":{\"outlinewidth\":0,\"ticks\":\"\"},\"colorscale\":[[0.0,\"#0d0887\"],[0.1111111111111111,\"#46039f\"],[0.2222222222222222,\"#7201a8\"],[0.3333333333333333,\"#9c179e\"],[0.4444444444444444,\"#bd3786\"],[0.5555555555555556,\"#d8576b\"],[0.6666666666666666,\"#ed7953\"],[0.7777777777777778,\"#fb9f3a\"],[0.8888888888888888,\"#fdca26\"],[1.0,\"#f0f921\"]]}],\"surface\":[{\"type\":\"surface\",\"colorbar\":{\"outlinewidth\":0,\"ticks\":\"\"},\"colorscale\":[[0.0,\"#0d0887\"],[0.1111111111111111,\"#46039f\"],[0.2222222222222222,\"#7201a8\"],[0.3333333333333333,\"#9c179e\"],[0.4444444444444444,\"#bd3786\"],[0.5555555555555556,\"#d8576b\"],[0.6666666666666666,\"#ed7953\"],[0.7777777777777778,\"#fb9f3a\"],[0.8888888888888888,\"#fdca26\"],[1.0,\"#f0f921\"]]}],\"mesh3d\":[{\"type\":\"mesh3d\",\"colorbar\":{\"outlinewidth\":0,\"ticks\":\"\"}}],\"scatter\":[{\"fillpattern\":{\"fillmode\":\"overlay\",\"size\":10,\"solidity\":0.2},\"type\":\"scatter\"}],\"parcoords\":[{\"type\":\"parcoords\",\"line\":{\"colorbar\":{\"outlinewidth\":0,\"ticks\":\"\"}}}],\"scatterpolargl\":[{\"type\":\"scatterpolargl\",\"marker\":{\"colorbar\":{\"outlinewidth\":0,\"ticks\":\"\"}}}],\"bar\":[{\"error_x\":{\"color\":\"#2a3f5f\"},\"error_y\":{\"color\":\"#2a3f5f\"},\"marker\":{\"line\":{\"color\":\"#E5ECF6\",\"width\":0.5},\"pattern\":{\"fillmode\":\"overlay\",\"size\":10,\"solidity\":0.2}},\"type\":\"bar\"}],\"scattergeo\":[{\"type\":\"scattergeo\",\"marker\":{\"colorbar\":{\"outlinewidth\":0,\"ticks\":\"\"}}}],\"scatterpolar\":[{\"type\":\"scatterpolar\",\"marker\":{\"colorbar\":{\"outlinewidth\":0,\"ticks\":\"\"}}}],\"histogram\":[{\"marker\":{\"pattern\":{\"fillmode\":\"overlay\",\"size\":10,\"solidity\":0.2}},\"type\":\"histogram\"}],\"scattergl\":[{\"type\":\"scattergl\",\"marker\":{\"colorbar\":{\"outlinewidth\":0,\"ticks\":\"\"}}}],\"scatter3d\":[{\"type\":\"scatter3d\",\"line\":{\"colorbar\":{\"outlinewidth\":0,\"ticks\":\"\"}},\"marker\":{\"colorbar\":{\"outlinewidth\":0,\"ticks\":\"\"}}}],\"scattermapbox\":[{\"type\":\"scattermapbox\",\"marker\":{\"colorbar\":{\"outlinewidth\":0,\"ticks\":\"\"}}}],\"scatterternary\":[{\"type\":\"scatterternary\",\"marker\":{\"colorbar\":{\"outlinewidth\":0,\"ticks\":\"\"}}}],\"scattercarpet\":[{\"type\":\"scattercarpet\",\"marker\":{\"colorbar\":{\"outlinewidth\":0,\"ticks\":\"\"}}}],\"carpet\":[{\"aaxis\":{\"endlinecolor\":\"#2a3f5f\",\"gridcolor\":\"white\",\"linecolor\":\"white\",\"minorgridcolor\":\"white\",\"startlinecolor\":\"#2a3f5f\"},\"baxis\":{\"endlinecolor\":\"#2a3f5f\",\"gridcolor\":\"white\",\"linecolor\":\"white\",\"minorgridcolor\":\"white\",\"startlinecolor\":\"#2a3f5f\"},\"type\":\"carpet\"}],\"table\":[{\"cells\":{\"fill\":{\"color\":\"#EBF0F8\"},\"line\":{\"color\":\"white\"}},\"header\":{\"fill\":{\"color\":\"#C8D4E3\"},\"line\":{\"color\":\"white\"}},\"type\":\"table\"}],\"barpolar\":[{\"marker\":{\"line\":{\"color\":\"#E5ECF6\",\"width\":0.5},\"pattern\":{\"fillmode\":\"overlay\",\"size\":10,\"solidity\":0.2}},\"type\":\"barpolar\"}],\"pie\":[{\"automargin\":true,\"type\":\"pie\"}]},\"layout\":{\"autotypenumbers\":\"strict\",\"colorway\":[\"#636efa\",\"#EF553B\",\"#00cc96\",\"#ab63fa\",\"#FFA15A\",\"#19d3f3\",\"#FF6692\",\"#B6E880\",\"#FF97FF\",\"#FECB52\"],\"font\":{\"color\":\"#2a3f5f\"},\"hovermode\":\"closest\",\"hoverlabel\":{\"align\":\"left\"},\"paper_bgcolor\":\"white\",\"plot_bgcolor\":\"#E5ECF6\",\"polar\":{\"bgcolor\":\"#E5ECF6\",\"angularaxis\":{\"gridcolor\":\"white\",\"linecolor\":\"white\",\"ticks\":\"\"},\"radialaxis\":{\"gridcolor\":\"white\",\"linecolor\":\"white\",\"ticks\":\"\"}},\"ternary\":{\"bgcolor\":\"#E5ECF6\",\"aaxis\":{\"gridcolor\":\"white\",\"linecolor\":\"white\",\"ticks\":\"\"},\"baxis\":{\"gridcolor\":\"white\",\"linecolor\":\"white\",\"ticks\":\"\"},\"caxis\":{\"gridcolor\":\"white\",\"linecolor\":\"white\",\"ticks\":\"\"}},\"coloraxis\":{\"colorbar\":{\"outlinewidth\":0,\"ticks\":\"\"}},\"colorscale\":{\"sequential\":[[0.0,\"#0d0887\"],[0.1111111111111111,\"#46039f\"],[0.2222222222222222,\"#7201a8\"],[0.3333333333333333,\"#9c179e\"],[0.4444444444444444,\"#bd3786\"],[0.5555555555555556,\"#d8576b\"],[0.6666666666666666,\"#ed7953\"],[0.7777777777777778,\"#fb9f3a\"],[0.8888888888888888,\"#fdca26\"],[1.0,\"#f0f921\"]],\"sequentialminus\":[[0.0,\"#0d0887\"],[0.1111111111111111,\"#46039f\"],[0.2222222222222222,\"#7201a8\"],[0.3333333333333333,\"#9c179e\"],[0.4444444444444444,\"#bd3786\"],[0.5555555555555556,\"#d8576b\"],[0.6666666666666666,\"#ed7953\"],[0.7777777777777778,\"#fb9f3a\"],[0.8888888888888888,\"#fdca26\"],[1.0,\"#f0f921\"]],\"diverging\":[[0,\"#8e0152\"],[0.1,\"#c51b7d\"],[0.2,\"#de77ae\"],[0.3,\"#f1b6da\"],[0.4,\"#fde0ef\"],[0.5,\"#f7f7f7\"],[0.6,\"#e6f5d0\"],[0.7,\"#b8e186\"],[0.8,\"#7fbc41\"],[0.9,\"#4d9221\"],[1,\"#276419\"]]},\"xaxis\":{\"gridcolor\":\"white\",\"linecolor\":\"white\",\"ticks\":\"\",\"title\":{\"standoff\":15},\"zerolinecolor\":\"white\",\"automargin\":true,\"zerolinewidth\":2},\"yaxis\":{\"gridcolor\":\"white\",\"linecolor\":\"white\",\"ticks\":\"\",\"title\":{\"standoff\":15},\"zerolinecolor\":\"white\",\"automargin\":true,\"zerolinewidth\":2},\"scene\":{\"xaxis\":{\"backgroundcolor\":\"#E5ECF6\",\"gridcolor\":\"white\",\"linecolor\":\"white\",\"showbackground\":true,\"ticks\":\"\",\"zerolinecolor\":\"white\",\"gridwidth\":2},\"yaxis\":{\"backgroundcolor\":\"#E5ECF6\",\"gridcolor\":\"white\",\"linecolor\":\"white\",\"showbackground\":true,\"ticks\":\"\",\"zerolinecolor\":\"white\",\"gridwidth\":2},\"zaxis\":{\"backgroundcolor\":\"#E5ECF6\",\"gridcolor\":\"white\",\"linecolor\":\"white\",\"showbackground\":true,\"ticks\":\"\",\"zerolinecolor\":\"white\",\"gridwidth\":2}},\"shapedefaults\":{\"line\":{\"color\":\"#2a3f5f\"}},\"annotationdefaults\":{\"arrowcolor\":\"#2a3f5f\",\"arrowhead\":0,\"arrowwidth\":1},\"geo\":{\"bgcolor\":\"white\",\"landcolor\":\"#E5ECF6\",\"subunitcolor\":\"white\",\"showland\":true,\"showlakes\":true,\"lakecolor\":\"white\"},\"title\":{\"x\":0.05},\"mapbox\":{\"style\":\"light\"}}},\"xaxis\":{\"anchor\":\"y\",\"domain\":[0.0,1.0],\"title\":{\"text\":\"Topic\"},\"categoryorder\":\"array\",\"categoryarray\":[\"Other\",\"Person\",\"TV and Movies\",\"Entities\",\"Interest and Hobbies\",\"Sport\",\"Brand\",\"Music\",\"Video Game\",\"Political\",\"Book\",\"Holiday\",\"News\"]},\"yaxis\":{\"anchor\":\"x\",\"domain\":[0.0,1.0],\"title\":{\"text\":\"Average Retweeters Account Age\"}},\"legend\":{\"title\":{\"text\":\"Year\"},\"tracegroupgap\":0},\"margin\":{\"t\":60},\"barmode\":\"group\",\"title\":{\"text\":\"Analysing average retweeters account age per topic\"}},                        {\"responsive\": true}                    ).then(function(){\n                            \nvar gd = document.getElementById('6eec3a59-2749-49b1-8690-923fce096eb8');\nvar x = new MutationObserver(function (mutations, observer) {{\n        var display = window.getComputedStyle(gd).display;\n        if (!display || display === 'none') {{\n            console.log([gd, 'removed!']);\n            Plotly.purge(gd);\n            observer.disconnect();\n        }}\n}});\n\n// Listen for the removal of the full notebook cells\nvar notebookContainer = gd.closest('#notebook-container');\nif (notebookContainer) {{\n    x.observe(notebookContainer, {childList: true});\n}}\n\n// Listen for the clearing of the current output cell\nvar outputEl = gd.closest('.output');\nif (outputEl) {{\n    x.observe(outputEl, {childList: true});\n}}\n\n                        })                };                });            </script>        </div>"
     },
     "metadata": {},
     "output_type": "display_data"
    }
   ],
   "source": [
    "retweeters_info_chart(df_retweeters_chars, topics_categories, \"Topic\", \"Average Retweeters Account Age\", \"Analysing average retweeters account age per topic\", offline_charts)"
   ],
   "metadata": {
    "collapsed": false,
    "pycharm": {
     "name": "#%%\n"
    }
   }
  },
  {
   "cell_type": "markdown",
   "source": [
    "### Analysing influencers impact on tweet sharing in popular tweets"
   ],
   "metadata": {
    "collapsed": false,
    "pycharm": {
     "name": "#%% md\n"
    }
   }
  },
  {
   "cell_type": "code",
   "execution_count": 156,
   "outputs": [
    {
     "data": {
      "text/plain": "0.04608215921300283"
     },
     "execution_count": 156,
     "metadata": {},
     "output_type": "execute_result"
    }
   ],
   "source": [
    "df[df['retweet_count'] > 10].shape[0] / df[df['retweet_count'] > 0].shape[0]"
   ],
   "metadata": {
    "collapsed": false,
    "pycharm": {
     "name": "#%%\n"
    }
   }
  },
  {
   "cell_type": "code",
   "execution_count": 182,
   "outputs": [
    {
     "data": {
      "text/plain": "                   Topic  Average Retweeters Followers  Average Retweets Time  \\\n0                  Brand                          5900                     87   \n1                Holiday                             0                      0   \n2                 Person                          9775                    138   \n3   Interest and Hobbies                          4940                     39   \n4                  Sport                          4391                    162   \n5          TV and Movies                          7569                     40   \n6                  Other                          6588                     85   \n7             Video Game                          6969                      8   \n8               Entities                          3702                     44   \n9              Political                          5605                    189   \n10                 Music                          2785                      6   \n11                  Book                             0                      0   \n0                  Brand                          4600                    108   \n1                Holiday                          4259                    282   \n2                 Person                          5931                     82   \n3   Interest and Hobbies                          3957                    155   \n4                  Sport                          3927                     94   \n5          TV and Movies                          5609                     62   \n6                  Other                          5307                    335   \n7             Video Game                          2334                     51   \n8               Entities                          3489                    395   \n9              Political                          6726                     54   \n10                 Music                          4017                     49   \n11                  Book                           541                     14   \n12                  News                          5126                     20   \n0                  Brand                          7012                    105   \n1                Holiday                          6475                     70   \n2                 Person                          4737                     32   \n3   Interest and Hobbies                          4861                    144   \n4                  Sport                          6862                     47   \n5          TV and Movies                          5467                     33   \n6                  Other                          6063                    140   \n7             Video Game                          4127                     27   \n8               Entities                         10644                    147   \n9              Political                          4504                     20   \n10                 Music                          4769                     49   \n11                  Book                         19038                     27   \n12                  News                          5320                     34   \n\n    Average Retweeters Account Age  Average Retweeters Half Time  \\\n0                         8.234376                     23.912603   \n1                         0.000000                      0.000000   \n2                         8.131308                    119.471268   \n3                         8.093165                     15.103257   \n4                         8.521556                      4.961133   \n5                         8.598237                     22.821898   \n6                         8.015335                     21.085873   \n7                         7.489973                      3.889611   \n8                         8.262815                     15.080352   \n9                         8.726545                    118.089786   \n10                        8.940404                      5.129722   \n11                        0.000000                      0.000000   \n0                         7.192774                     49.917528   \n1                         7.794588                    177.990033   \n2                         7.733354                     70.979372   \n3                         7.624204                     36.767703   \n4                         7.981416                     11.922631   \n5                         8.230018                     19.180214   \n6                         6.798536                      3.268214   \n7                         6.835374                      9.688806   \n8                         8.060482                    241.107229   \n9                         8.886076                      7.110764   \n10                        8.077905                      8.552188   \n11                        6.083333                      6.643611   \n12                        8.321640                      9.779475   \n0                         6.806398                     91.733068   \n1                         7.071957                      8.359306   \n2                         6.962357                     10.779068   \n3                         6.505284                     62.733238   \n4                         7.280502                     28.362015   \n5                         7.439214                     13.693009   \n6                         6.421766                     28.044242   \n7                         6.557172                     10.713917   \n8                         6.603119                     73.676484   \n9                         8.795505                      4.333480   \n10                        7.036289                     29.754861   \n11                        6.000000                     24.481667   \n12                        7.833126                     25.896333   \n\n    Average Retweeters Total Time  % Time to get 50% retweets  \\\n0                      979.146191                         2.0   \n1                        0.000000                         0.0   \n2                      494.895230                        24.0   \n3                      363.839553                         4.0   \n4                     1373.115017                         0.0   \n5                      402.810610                         6.0   \n6                      872.309358                         2.0   \n7                       65.510667                         6.0   \n8                      360.926867                         4.0   \n9                     1321.691966                         9.0   \n10                      15.160093                        34.0   \n11                       0.000000                         0.0   \n0                      888.363912                         6.0   \n1                     1026.020978                        17.0   \n2                      538.521323                        13.0   \n3                     1013.428038                         4.0   \n4                      705.694086                         2.0   \n5                      599.123133                         3.0   \n6                     1763.247222                         0.0   \n7                      540.408139                         2.0   \n8                     1258.467372                        19.0   \n9                     1188.557986                         1.0   \n10                     509.666094                         2.0   \n11                      60.989444                        11.0   \n12                     269.670450                         4.0   \n0                      482.246383                        19.0   \n1                      765.104956                         1.0   \n2                      317.817473                         3.0   \n3                      673.137443                         9.0   \n4                      280.927105                        10.0   \n5                      310.572566                         4.0   \n6                      979.159444                         3.0   \n7                      201.196833                         5.0   \n8                      784.367320                         9.0   \n9                      226.885082                         2.0   \n10                     270.841319                        11.0   \n11                      49.416111                        50.0   \n12                     245.068127                        11.0   \n\n    Average Retweeters Followers First Half  \\\n0                               8397.003758   \n1                                  0.000000   \n2                              16495.659918   \n3                               8041.262666   \n4                               7691.170808   \n5                              13423.078252   \n6                               9932.260870   \n7                              13191.224026   \n8                               4927.927025   \n9                               4810.937996   \n10                              1658.660000   \n11                                 0.000000   \n0                               6161.856998   \n1                               7199.944622   \n2                              10228.782328   \n3                               4380.884731   \n4                               5575.398716   \n5                               9909.973185   \n6                               8683.752778   \n7                               2372.114940   \n8                               4392.222083   \n9                               7298.319483   \n10                              4420.243651   \n11                               485.000000   \n12                              7472.012035   \n0                              12737.267567   \n1                              11830.320471   \n2                               6284.556373   \n3                               6045.937421   \n4                              14651.952113   \n5                               7674.550819   \n6                               6824.274815   \n7                               5461.193452   \n8                              17372.553084   \n9                              11845.919206   \n10                              3539.377367   \n11                             33711.000000   \n12                              7248.952983   \n\n    Average Retweeters Followers Second Half  Year  \n0                                6161.324954  2019  \n1                                   0.000000  2019  \n2                               11405.933321  2019  \n3                                6349.449834  2019  \n4                                4904.560849  2019  \n5                                8620.562871  2019  \n6                                7700.045102  2019  \n7                                7452.611818  2019  \n8                                4442.669838  2019  \n9                                4931.441696  2019  \n10                               2034.777193  2019  \n11                                  0.000000  2019  \n0                                4665.082496  2020  \n1                                4996.508271  2020  \n2                                7484.135790  2020  \n3                                4215.058220  2020  \n4                                4409.533792  2020  \n5                                6791.275543  2020  \n6                                5206.211029  2020  \n7                                2405.574610  2020  \n8                                4144.334791  2020  \n9                                7038.408089  2020  \n10                               3936.577403  2020  \n11                                588.727273  2020  \n12                               5809.656523  2020  \n0                                8420.585255  2021  \n1                                7592.722903  2021  \n2                                5044.042861  2021  \n3                                5538.982339  2021  \n4                                8772.633111  2021  \n5                                6064.466392  2021  \n6                                6225.940052  2021  \n7                                3953.606538  2021  \n8                               17967.092361  2021  \n9                                7568.535464  2021  \n10                               4879.868128  2021  \n11                              20750.727273  2021  \n12                               5492.427584  2021  ",
      "text/html": "<div>\n<style scoped>\n    .dataframe tbody tr th:only-of-type {\n        vertical-align: middle;\n    }\n\n    .dataframe tbody tr th {\n        vertical-align: top;\n    }\n\n    .dataframe thead th {\n        text-align: right;\n    }\n</style>\n<table border=\"1\" class=\"dataframe\">\n  <thead>\n    <tr style=\"text-align: right;\">\n      <th></th>\n      <th>Topic</th>\n      <th>Average Retweeters Followers</th>\n      <th>Average Retweets Time</th>\n      <th>Average Retweeters Account Age</th>\n      <th>Average Retweeters Half Time</th>\n      <th>Average Retweeters Total Time</th>\n      <th>% Time to get 50% retweets</th>\n      <th>Average Retweeters Followers First Half</th>\n      <th>Average Retweeters Followers Second Half</th>\n      <th>Year</th>\n    </tr>\n  </thead>\n  <tbody>\n    <tr>\n      <th>0</th>\n      <td>Brand</td>\n      <td>5900</td>\n      <td>87</td>\n      <td>8.234376</td>\n      <td>23.912603</td>\n      <td>979.146191</td>\n      <td>2.0</td>\n      <td>8397.003758</td>\n      <td>6161.324954</td>\n      <td>2019</td>\n    </tr>\n    <tr>\n      <th>1</th>\n      <td>Holiday</td>\n      <td>0</td>\n      <td>0</td>\n      <td>0.000000</td>\n      <td>0.000000</td>\n      <td>0.000000</td>\n      <td>0.0</td>\n      <td>0.000000</td>\n      <td>0.000000</td>\n      <td>2019</td>\n    </tr>\n    <tr>\n      <th>2</th>\n      <td>Person</td>\n      <td>9775</td>\n      <td>138</td>\n      <td>8.131308</td>\n      <td>119.471268</td>\n      <td>494.895230</td>\n      <td>24.0</td>\n      <td>16495.659918</td>\n      <td>11405.933321</td>\n      <td>2019</td>\n    </tr>\n    <tr>\n      <th>3</th>\n      <td>Interest and Hobbies</td>\n      <td>4940</td>\n      <td>39</td>\n      <td>8.093165</td>\n      <td>15.103257</td>\n      <td>363.839553</td>\n      <td>4.0</td>\n      <td>8041.262666</td>\n      <td>6349.449834</td>\n      <td>2019</td>\n    </tr>\n    <tr>\n      <th>4</th>\n      <td>Sport</td>\n      <td>4391</td>\n      <td>162</td>\n      <td>8.521556</td>\n      <td>4.961133</td>\n      <td>1373.115017</td>\n      <td>0.0</td>\n      <td>7691.170808</td>\n      <td>4904.560849</td>\n      <td>2019</td>\n    </tr>\n    <tr>\n      <th>5</th>\n      <td>TV and Movies</td>\n      <td>7569</td>\n      <td>40</td>\n      <td>8.598237</td>\n      <td>22.821898</td>\n      <td>402.810610</td>\n      <td>6.0</td>\n      <td>13423.078252</td>\n      <td>8620.562871</td>\n      <td>2019</td>\n    </tr>\n    <tr>\n      <th>6</th>\n      <td>Other</td>\n      <td>6588</td>\n      <td>85</td>\n      <td>8.015335</td>\n      <td>21.085873</td>\n      <td>872.309358</td>\n      <td>2.0</td>\n      <td>9932.260870</td>\n      <td>7700.045102</td>\n      <td>2019</td>\n    </tr>\n    <tr>\n      <th>7</th>\n      <td>Video Game</td>\n      <td>6969</td>\n      <td>8</td>\n      <td>7.489973</td>\n      <td>3.889611</td>\n      <td>65.510667</td>\n      <td>6.0</td>\n      <td>13191.224026</td>\n      <td>7452.611818</td>\n      <td>2019</td>\n    </tr>\n    <tr>\n      <th>8</th>\n      <td>Entities</td>\n      <td>3702</td>\n      <td>44</td>\n      <td>8.262815</td>\n      <td>15.080352</td>\n      <td>360.926867</td>\n      <td>4.0</td>\n      <td>4927.927025</td>\n      <td>4442.669838</td>\n      <td>2019</td>\n    </tr>\n    <tr>\n      <th>9</th>\n      <td>Political</td>\n      <td>5605</td>\n      <td>189</td>\n      <td>8.726545</td>\n      <td>118.089786</td>\n      <td>1321.691966</td>\n      <td>9.0</td>\n      <td>4810.937996</td>\n      <td>4931.441696</td>\n      <td>2019</td>\n    </tr>\n    <tr>\n      <th>10</th>\n      <td>Music</td>\n      <td>2785</td>\n      <td>6</td>\n      <td>8.940404</td>\n      <td>5.129722</td>\n      <td>15.160093</td>\n      <td>34.0</td>\n      <td>1658.660000</td>\n      <td>2034.777193</td>\n      <td>2019</td>\n    </tr>\n    <tr>\n      <th>11</th>\n      <td>Book</td>\n      <td>0</td>\n      <td>0</td>\n      <td>0.000000</td>\n      <td>0.000000</td>\n      <td>0.000000</td>\n      <td>0.0</td>\n      <td>0.000000</td>\n      <td>0.000000</td>\n      <td>2019</td>\n    </tr>\n    <tr>\n      <th>0</th>\n      <td>Brand</td>\n      <td>4600</td>\n      <td>108</td>\n      <td>7.192774</td>\n      <td>49.917528</td>\n      <td>888.363912</td>\n      <td>6.0</td>\n      <td>6161.856998</td>\n      <td>4665.082496</td>\n      <td>2020</td>\n    </tr>\n    <tr>\n      <th>1</th>\n      <td>Holiday</td>\n      <td>4259</td>\n      <td>282</td>\n      <td>7.794588</td>\n      <td>177.990033</td>\n      <td>1026.020978</td>\n      <td>17.0</td>\n      <td>7199.944622</td>\n      <td>4996.508271</td>\n      <td>2020</td>\n    </tr>\n    <tr>\n      <th>2</th>\n      <td>Person</td>\n      <td>5931</td>\n      <td>82</td>\n      <td>7.733354</td>\n      <td>70.979372</td>\n      <td>538.521323</td>\n      <td>13.0</td>\n      <td>10228.782328</td>\n      <td>7484.135790</td>\n      <td>2020</td>\n    </tr>\n    <tr>\n      <th>3</th>\n      <td>Interest and Hobbies</td>\n      <td>3957</td>\n      <td>155</td>\n      <td>7.624204</td>\n      <td>36.767703</td>\n      <td>1013.428038</td>\n      <td>4.0</td>\n      <td>4380.884731</td>\n      <td>4215.058220</td>\n      <td>2020</td>\n    </tr>\n    <tr>\n      <th>4</th>\n      <td>Sport</td>\n      <td>3927</td>\n      <td>94</td>\n      <td>7.981416</td>\n      <td>11.922631</td>\n      <td>705.694086</td>\n      <td>2.0</td>\n      <td>5575.398716</td>\n      <td>4409.533792</td>\n      <td>2020</td>\n    </tr>\n    <tr>\n      <th>5</th>\n      <td>TV and Movies</td>\n      <td>5609</td>\n      <td>62</td>\n      <td>8.230018</td>\n      <td>19.180214</td>\n      <td>599.123133</td>\n      <td>3.0</td>\n      <td>9909.973185</td>\n      <td>6791.275543</td>\n      <td>2020</td>\n    </tr>\n    <tr>\n      <th>6</th>\n      <td>Other</td>\n      <td>5307</td>\n      <td>335</td>\n      <td>6.798536</td>\n      <td>3.268214</td>\n      <td>1763.247222</td>\n      <td>0.0</td>\n      <td>8683.752778</td>\n      <td>5206.211029</td>\n      <td>2020</td>\n    </tr>\n    <tr>\n      <th>7</th>\n      <td>Video Game</td>\n      <td>2334</td>\n      <td>51</td>\n      <td>6.835374</td>\n      <td>9.688806</td>\n      <td>540.408139</td>\n      <td>2.0</td>\n      <td>2372.114940</td>\n      <td>2405.574610</td>\n      <td>2020</td>\n    </tr>\n    <tr>\n      <th>8</th>\n      <td>Entities</td>\n      <td>3489</td>\n      <td>395</td>\n      <td>8.060482</td>\n      <td>241.107229</td>\n      <td>1258.467372</td>\n      <td>19.0</td>\n      <td>4392.222083</td>\n      <td>4144.334791</td>\n      <td>2020</td>\n    </tr>\n    <tr>\n      <th>9</th>\n      <td>Political</td>\n      <td>6726</td>\n      <td>54</td>\n      <td>8.886076</td>\n      <td>7.110764</td>\n      <td>1188.557986</td>\n      <td>1.0</td>\n      <td>7298.319483</td>\n      <td>7038.408089</td>\n      <td>2020</td>\n    </tr>\n    <tr>\n      <th>10</th>\n      <td>Music</td>\n      <td>4017</td>\n      <td>49</td>\n      <td>8.077905</td>\n      <td>8.552188</td>\n      <td>509.666094</td>\n      <td>2.0</td>\n      <td>4420.243651</td>\n      <td>3936.577403</td>\n      <td>2020</td>\n    </tr>\n    <tr>\n      <th>11</th>\n      <td>Book</td>\n      <td>541</td>\n      <td>14</td>\n      <td>6.083333</td>\n      <td>6.643611</td>\n      <td>60.989444</td>\n      <td>11.0</td>\n      <td>485.000000</td>\n      <td>588.727273</td>\n      <td>2020</td>\n    </tr>\n    <tr>\n      <th>12</th>\n      <td>News</td>\n      <td>5126</td>\n      <td>20</td>\n      <td>8.321640</td>\n      <td>9.779475</td>\n      <td>269.670450</td>\n      <td>4.0</td>\n      <td>7472.012035</td>\n      <td>5809.656523</td>\n      <td>2020</td>\n    </tr>\n    <tr>\n      <th>0</th>\n      <td>Brand</td>\n      <td>7012</td>\n      <td>105</td>\n      <td>6.806398</td>\n      <td>91.733068</td>\n      <td>482.246383</td>\n      <td>19.0</td>\n      <td>12737.267567</td>\n      <td>8420.585255</td>\n      <td>2021</td>\n    </tr>\n    <tr>\n      <th>1</th>\n      <td>Holiday</td>\n      <td>6475</td>\n      <td>70</td>\n      <td>7.071957</td>\n      <td>8.359306</td>\n      <td>765.104956</td>\n      <td>1.0</td>\n      <td>11830.320471</td>\n      <td>7592.722903</td>\n      <td>2021</td>\n    </tr>\n    <tr>\n      <th>2</th>\n      <td>Person</td>\n      <td>4737</td>\n      <td>32</td>\n      <td>6.962357</td>\n      <td>10.779068</td>\n      <td>317.817473</td>\n      <td>3.0</td>\n      <td>6284.556373</td>\n      <td>5044.042861</td>\n      <td>2021</td>\n    </tr>\n    <tr>\n      <th>3</th>\n      <td>Interest and Hobbies</td>\n      <td>4861</td>\n      <td>144</td>\n      <td>6.505284</td>\n      <td>62.733238</td>\n      <td>673.137443</td>\n      <td>9.0</td>\n      <td>6045.937421</td>\n      <td>5538.982339</td>\n      <td>2021</td>\n    </tr>\n    <tr>\n      <th>4</th>\n      <td>Sport</td>\n      <td>6862</td>\n      <td>47</td>\n      <td>7.280502</td>\n      <td>28.362015</td>\n      <td>280.927105</td>\n      <td>10.0</td>\n      <td>14651.952113</td>\n      <td>8772.633111</td>\n      <td>2021</td>\n    </tr>\n    <tr>\n      <th>5</th>\n      <td>TV and Movies</td>\n      <td>5467</td>\n      <td>33</td>\n      <td>7.439214</td>\n      <td>13.693009</td>\n      <td>310.572566</td>\n      <td>4.0</td>\n      <td>7674.550819</td>\n      <td>6064.466392</td>\n      <td>2021</td>\n    </tr>\n    <tr>\n      <th>6</th>\n      <td>Other</td>\n      <td>6063</td>\n      <td>140</td>\n      <td>6.421766</td>\n      <td>28.044242</td>\n      <td>979.159444</td>\n      <td>3.0</td>\n      <td>6824.274815</td>\n      <td>6225.940052</td>\n      <td>2021</td>\n    </tr>\n    <tr>\n      <th>7</th>\n      <td>Video Game</td>\n      <td>4127</td>\n      <td>27</td>\n      <td>6.557172</td>\n      <td>10.713917</td>\n      <td>201.196833</td>\n      <td>5.0</td>\n      <td>5461.193452</td>\n      <td>3953.606538</td>\n      <td>2021</td>\n    </tr>\n    <tr>\n      <th>8</th>\n      <td>Entities</td>\n      <td>10644</td>\n      <td>147</td>\n      <td>6.603119</td>\n      <td>73.676484</td>\n      <td>784.367320</td>\n      <td>9.0</td>\n      <td>17372.553084</td>\n      <td>17967.092361</td>\n      <td>2021</td>\n    </tr>\n    <tr>\n      <th>9</th>\n      <td>Political</td>\n      <td>4504</td>\n      <td>20</td>\n      <td>8.795505</td>\n      <td>4.333480</td>\n      <td>226.885082</td>\n      <td>2.0</td>\n      <td>11845.919206</td>\n      <td>7568.535464</td>\n      <td>2021</td>\n    </tr>\n    <tr>\n      <th>10</th>\n      <td>Music</td>\n      <td>4769</td>\n      <td>49</td>\n      <td>7.036289</td>\n      <td>29.754861</td>\n      <td>270.841319</td>\n      <td>11.0</td>\n      <td>3539.377367</td>\n      <td>4879.868128</td>\n      <td>2021</td>\n    </tr>\n    <tr>\n      <th>11</th>\n      <td>Book</td>\n      <td>19038</td>\n      <td>27</td>\n      <td>6.000000</td>\n      <td>24.481667</td>\n      <td>49.416111</td>\n      <td>50.0</td>\n      <td>33711.000000</td>\n      <td>20750.727273</td>\n      <td>2021</td>\n    </tr>\n    <tr>\n      <th>12</th>\n      <td>News</td>\n      <td>5320</td>\n      <td>34</td>\n      <td>7.833126</td>\n      <td>25.896333</td>\n      <td>245.068127</td>\n      <td>11.0</td>\n      <td>7248.952983</td>\n      <td>5492.427584</td>\n      <td>2021</td>\n    </tr>\n  </tbody>\n</table>\n</div>"
     },
     "execution_count": 182,
     "metadata": {},
     "output_type": "execute_result"
    }
   ],
   "source": [
    "df_retweeters_chars_10 = retweeters_characteristics(10)\n",
    "df_retweeters_chars_10"
   ],
   "metadata": {
    "collapsed": false,
    "pycharm": {
     "name": "#%%\n"
    }
   }
  },
  {
   "cell_type": "code",
   "execution_count": 183,
   "outputs": [
    {
     "data": {
      "application/vnd.plotly.v1+json": {
       "data": [
        {
         "alignmentgroup": "True",
         "hovertemplate": "Year=2019<br>Topic=%{x}<br>% Time to get 50% retweets=%{y}<extra></extra>",
         "legendgroup": "2019",
         "marker": {
          "color": "#006D77",
          "pattern": {
           "shape": ""
          }
         },
         "name": "2019",
         "offsetgroup": "2019",
         "orientation": "v",
         "showlegend": true,
         "textposition": "auto",
         "x": [
          "Brand",
          "Holiday",
          "Person",
          "Interest and Hobbies",
          "Sport",
          "TV and Movies",
          "Other",
          "Video Game",
          "Entities",
          "Political",
          "Music",
          "Book"
         ],
         "xaxis": "x",
         "y": [
          2.0,
          0.0,
          24.0,
          4.0,
          0.0,
          6.0,
          2.0,
          6.0,
          4.0,
          9.0,
          34.0,
          0.0
         ],
         "yaxis": "y",
         "type": "bar"
        },
        {
         "alignmentgroup": "True",
         "hovertemplate": "Year=2020<br>Topic=%{x}<br>% Time to get 50% retweets=%{y}<extra></extra>",
         "legendgroup": "2020",
         "marker": {
          "color": "#FBD1A2",
          "pattern": {
           "shape": ""
          }
         },
         "name": "2020",
         "offsetgroup": "2020",
         "orientation": "v",
         "showlegend": true,
         "textposition": "auto",
         "x": [
          "Brand",
          "Holiday",
          "Person",
          "Interest and Hobbies",
          "Sport",
          "TV and Movies",
          "Other",
          "Video Game",
          "Entities",
          "Political",
          "Music",
          "Book",
          "News"
         ],
         "xaxis": "x",
         "y": [
          6.0,
          17.0,
          13.0,
          4.0,
          2.0,
          3.0,
          0.0,
          2.0,
          19.0,
          1.0,
          2.0,
          11.0,
          4.0
         ],
         "yaxis": "y",
         "type": "bar"
        },
        {
         "alignmentgroup": "True",
         "hovertemplate": "Year=2021<br>Topic=%{x}<br>% Time to get 50% retweets=%{y}<extra></extra>",
         "legendgroup": "2021",
         "marker": {
          "color": "#7DCFB6",
          "pattern": {
           "shape": ""
          }
         },
         "name": "2021",
         "offsetgroup": "2021",
         "orientation": "v",
         "showlegend": true,
         "textposition": "auto",
         "x": [
          "Brand",
          "Holiday",
          "Person",
          "Interest and Hobbies",
          "Sport",
          "TV and Movies",
          "Other",
          "Video Game",
          "Entities",
          "Political",
          "Music",
          "Book",
          "News"
         ],
         "xaxis": "x",
         "y": [
          19.0,
          1.0,
          3.0,
          9.0,
          10.0,
          4.0,
          3.0,
          5.0,
          9.0,
          2.0,
          11.0,
          50.0,
          11.0
         ],
         "yaxis": "y",
         "type": "bar"
        }
       ],
       "layout": {
        "template": {
         "data": {
          "histogram2dcontour": [
           {
            "type": "histogram2dcontour",
            "colorbar": {
             "outlinewidth": 0,
             "ticks": ""
            },
            "colorscale": [
             [
              0.0,
              "#0d0887"
             ],
             [
              0.1111111111111111,
              "#46039f"
             ],
             [
              0.2222222222222222,
              "#7201a8"
             ],
             [
              0.3333333333333333,
              "#9c179e"
             ],
             [
              0.4444444444444444,
              "#bd3786"
             ],
             [
              0.5555555555555556,
              "#d8576b"
             ],
             [
              0.6666666666666666,
              "#ed7953"
             ],
             [
              0.7777777777777778,
              "#fb9f3a"
             ],
             [
              0.8888888888888888,
              "#fdca26"
             ],
             [
              1.0,
              "#f0f921"
             ]
            ]
           }
          ],
          "choropleth": [
           {
            "type": "choropleth",
            "colorbar": {
             "outlinewidth": 0,
             "ticks": ""
            }
           }
          ],
          "histogram2d": [
           {
            "type": "histogram2d",
            "colorbar": {
             "outlinewidth": 0,
             "ticks": ""
            },
            "colorscale": [
             [
              0.0,
              "#0d0887"
             ],
             [
              0.1111111111111111,
              "#46039f"
             ],
             [
              0.2222222222222222,
              "#7201a8"
             ],
             [
              0.3333333333333333,
              "#9c179e"
             ],
             [
              0.4444444444444444,
              "#bd3786"
             ],
             [
              0.5555555555555556,
              "#d8576b"
             ],
             [
              0.6666666666666666,
              "#ed7953"
             ],
             [
              0.7777777777777778,
              "#fb9f3a"
             ],
             [
              0.8888888888888888,
              "#fdca26"
             ],
             [
              1.0,
              "#f0f921"
             ]
            ]
           }
          ],
          "heatmap": [
           {
            "type": "heatmap",
            "colorbar": {
             "outlinewidth": 0,
             "ticks": ""
            },
            "colorscale": [
             [
              0.0,
              "#0d0887"
             ],
             [
              0.1111111111111111,
              "#46039f"
             ],
             [
              0.2222222222222222,
              "#7201a8"
             ],
             [
              0.3333333333333333,
              "#9c179e"
             ],
             [
              0.4444444444444444,
              "#bd3786"
             ],
             [
              0.5555555555555556,
              "#d8576b"
             ],
             [
              0.6666666666666666,
              "#ed7953"
             ],
             [
              0.7777777777777778,
              "#fb9f3a"
             ],
             [
              0.8888888888888888,
              "#fdca26"
             ],
             [
              1.0,
              "#f0f921"
             ]
            ]
           }
          ],
          "heatmapgl": [
           {
            "type": "heatmapgl",
            "colorbar": {
             "outlinewidth": 0,
             "ticks": ""
            },
            "colorscale": [
             [
              0.0,
              "#0d0887"
             ],
             [
              0.1111111111111111,
              "#46039f"
             ],
             [
              0.2222222222222222,
              "#7201a8"
             ],
             [
              0.3333333333333333,
              "#9c179e"
             ],
             [
              0.4444444444444444,
              "#bd3786"
             ],
             [
              0.5555555555555556,
              "#d8576b"
             ],
             [
              0.6666666666666666,
              "#ed7953"
             ],
             [
              0.7777777777777778,
              "#fb9f3a"
             ],
             [
              0.8888888888888888,
              "#fdca26"
             ],
             [
              1.0,
              "#f0f921"
             ]
            ]
           }
          ],
          "contourcarpet": [
           {
            "type": "contourcarpet",
            "colorbar": {
             "outlinewidth": 0,
             "ticks": ""
            }
           }
          ],
          "contour": [
           {
            "type": "contour",
            "colorbar": {
             "outlinewidth": 0,
             "ticks": ""
            },
            "colorscale": [
             [
              0.0,
              "#0d0887"
             ],
             [
              0.1111111111111111,
              "#46039f"
             ],
             [
              0.2222222222222222,
              "#7201a8"
             ],
             [
              0.3333333333333333,
              "#9c179e"
             ],
             [
              0.4444444444444444,
              "#bd3786"
             ],
             [
              0.5555555555555556,
              "#d8576b"
             ],
             [
              0.6666666666666666,
              "#ed7953"
             ],
             [
              0.7777777777777778,
              "#fb9f3a"
             ],
             [
              0.8888888888888888,
              "#fdca26"
             ],
             [
              1.0,
              "#f0f921"
             ]
            ]
           }
          ],
          "surface": [
           {
            "type": "surface",
            "colorbar": {
             "outlinewidth": 0,
             "ticks": ""
            },
            "colorscale": [
             [
              0.0,
              "#0d0887"
             ],
             [
              0.1111111111111111,
              "#46039f"
             ],
             [
              0.2222222222222222,
              "#7201a8"
             ],
             [
              0.3333333333333333,
              "#9c179e"
             ],
             [
              0.4444444444444444,
              "#bd3786"
             ],
             [
              0.5555555555555556,
              "#d8576b"
             ],
             [
              0.6666666666666666,
              "#ed7953"
             ],
             [
              0.7777777777777778,
              "#fb9f3a"
             ],
             [
              0.8888888888888888,
              "#fdca26"
             ],
             [
              1.0,
              "#f0f921"
             ]
            ]
           }
          ],
          "mesh3d": [
           {
            "type": "mesh3d",
            "colorbar": {
             "outlinewidth": 0,
             "ticks": ""
            }
           }
          ],
          "scatter": [
           {
            "fillpattern": {
             "fillmode": "overlay",
             "size": 10,
             "solidity": 0.2
            },
            "type": "scatter"
           }
          ],
          "parcoords": [
           {
            "type": "parcoords",
            "line": {
             "colorbar": {
              "outlinewidth": 0,
              "ticks": ""
             }
            }
           }
          ],
          "scatterpolargl": [
           {
            "type": "scatterpolargl",
            "marker": {
             "colorbar": {
              "outlinewidth": 0,
              "ticks": ""
             }
            }
           }
          ],
          "bar": [
           {
            "error_x": {
             "color": "#2a3f5f"
            },
            "error_y": {
             "color": "#2a3f5f"
            },
            "marker": {
             "line": {
              "color": "#E5ECF6",
              "width": 0.5
             },
             "pattern": {
              "fillmode": "overlay",
              "size": 10,
              "solidity": 0.2
             }
            },
            "type": "bar"
           }
          ],
          "scattergeo": [
           {
            "type": "scattergeo",
            "marker": {
             "colorbar": {
              "outlinewidth": 0,
              "ticks": ""
             }
            }
           }
          ],
          "scatterpolar": [
           {
            "type": "scatterpolar",
            "marker": {
             "colorbar": {
              "outlinewidth": 0,
              "ticks": ""
             }
            }
           }
          ],
          "histogram": [
           {
            "marker": {
             "pattern": {
              "fillmode": "overlay",
              "size": 10,
              "solidity": 0.2
             }
            },
            "type": "histogram"
           }
          ],
          "scattergl": [
           {
            "type": "scattergl",
            "marker": {
             "colorbar": {
              "outlinewidth": 0,
              "ticks": ""
             }
            }
           }
          ],
          "scatter3d": [
           {
            "type": "scatter3d",
            "line": {
             "colorbar": {
              "outlinewidth": 0,
              "ticks": ""
             }
            },
            "marker": {
             "colorbar": {
              "outlinewidth": 0,
              "ticks": ""
             }
            }
           }
          ],
          "scattermapbox": [
           {
            "type": "scattermapbox",
            "marker": {
             "colorbar": {
              "outlinewidth": 0,
              "ticks": ""
             }
            }
           }
          ],
          "scatterternary": [
           {
            "type": "scatterternary",
            "marker": {
             "colorbar": {
              "outlinewidth": 0,
              "ticks": ""
             }
            }
           }
          ],
          "scattercarpet": [
           {
            "type": "scattercarpet",
            "marker": {
             "colorbar": {
              "outlinewidth": 0,
              "ticks": ""
             }
            }
           }
          ],
          "carpet": [
           {
            "aaxis": {
             "endlinecolor": "#2a3f5f",
             "gridcolor": "white",
             "linecolor": "white",
             "minorgridcolor": "white",
             "startlinecolor": "#2a3f5f"
            },
            "baxis": {
             "endlinecolor": "#2a3f5f",
             "gridcolor": "white",
             "linecolor": "white",
             "minorgridcolor": "white",
             "startlinecolor": "#2a3f5f"
            },
            "type": "carpet"
           }
          ],
          "table": [
           {
            "cells": {
             "fill": {
              "color": "#EBF0F8"
             },
             "line": {
              "color": "white"
             }
            },
            "header": {
             "fill": {
              "color": "#C8D4E3"
             },
             "line": {
              "color": "white"
             }
            },
            "type": "table"
           }
          ],
          "barpolar": [
           {
            "marker": {
             "line": {
              "color": "#E5ECF6",
              "width": 0.5
             },
             "pattern": {
              "fillmode": "overlay",
              "size": 10,
              "solidity": 0.2
             }
            },
            "type": "barpolar"
           }
          ],
          "pie": [
           {
            "automargin": true,
            "type": "pie"
           }
          ]
         },
         "layout": {
          "autotypenumbers": "strict",
          "colorway": [
           "#636efa",
           "#EF553B",
           "#00cc96",
           "#ab63fa",
           "#FFA15A",
           "#19d3f3",
           "#FF6692",
           "#B6E880",
           "#FF97FF",
           "#FECB52"
          ],
          "font": {
           "color": "#2a3f5f"
          },
          "hovermode": "closest",
          "hoverlabel": {
           "align": "left"
          },
          "paper_bgcolor": "white",
          "plot_bgcolor": "#E5ECF6",
          "polar": {
           "bgcolor": "#E5ECF6",
           "angularaxis": {
            "gridcolor": "white",
            "linecolor": "white",
            "ticks": ""
           },
           "radialaxis": {
            "gridcolor": "white",
            "linecolor": "white",
            "ticks": ""
           }
          },
          "ternary": {
           "bgcolor": "#E5ECF6",
           "aaxis": {
            "gridcolor": "white",
            "linecolor": "white",
            "ticks": ""
           },
           "baxis": {
            "gridcolor": "white",
            "linecolor": "white",
            "ticks": ""
           },
           "caxis": {
            "gridcolor": "white",
            "linecolor": "white",
            "ticks": ""
           }
          },
          "coloraxis": {
           "colorbar": {
            "outlinewidth": 0,
            "ticks": ""
           }
          },
          "colorscale": {
           "sequential": [
            [
             0.0,
             "#0d0887"
            ],
            [
             0.1111111111111111,
             "#46039f"
            ],
            [
             0.2222222222222222,
             "#7201a8"
            ],
            [
             0.3333333333333333,
             "#9c179e"
            ],
            [
             0.4444444444444444,
             "#bd3786"
            ],
            [
             0.5555555555555556,
             "#d8576b"
            ],
            [
             0.6666666666666666,
             "#ed7953"
            ],
            [
             0.7777777777777778,
             "#fb9f3a"
            ],
            [
             0.8888888888888888,
             "#fdca26"
            ],
            [
             1.0,
             "#f0f921"
            ]
           ],
           "sequentialminus": [
            [
             0.0,
             "#0d0887"
            ],
            [
             0.1111111111111111,
             "#46039f"
            ],
            [
             0.2222222222222222,
             "#7201a8"
            ],
            [
             0.3333333333333333,
             "#9c179e"
            ],
            [
             0.4444444444444444,
             "#bd3786"
            ],
            [
             0.5555555555555556,
             "#d8576b"
            ],
            [
             0.6666666666666666,
             "#ed7953"
            ],
            [
             0.7777777777777778,
             "#fb9f3a"
            ],
            [
             0.8888888888888888,
             "#fdca26"
            ],
            [
             1.0,
             "#f0f921"
            ]
           ],
           "diverging": [
            [
             0,
             "#8e0152"
            ],
            [
             0.1,
             "#c51b7d"
            ],
            [
             0.2,
             "#de77ae"
            ],
            [
             0.3,
             "#f1b6da"
            ],
            [
             0.4,
             "#fde0ef"
            ],
            [
             0.5,
             "#f7f7f7"
            ],
            [
             0.6,
             "#e6f5d0"
            ],
            [
             0.7,
             "#b8e186"
            ],
            [
             0.8,
             "#7fbc41"
            ],
            [
             0.9,
             "#4d9221"
            ],
            [
             1,
             "#276419"
            ]
           ]
          },
          "xaxis": {
           "gridcolor": "white",
           "linecolor": "white",
           "ticks": "",
           "title": {
            "standoff": 15
           },
           "zerolinecolor": "white",
           "automargin": true,
           "zerolinewidth": 2
          },
          "yaxis": {
           "gridcolor": "white",
           "linecolor": "white",
           "ticks": "",
           "title": {
            "standoff": 15
           },
           "zerolinecolor": "white",
           "automargin": true,
           "zerolinewidth": 2
          },
          "scene": {
           "xaxis": {
            "backgroundcolor": "#E5ECF6",
            "gridcolor": "white",
            "linecolor": "white",
            "showbackground": true,
            "ticks": "",
            "zerolinecolor": "white",
            "gridwidth": 2
           },
           "yaxis": {
            "backgroundcolor": "#E5ECF6",
            "gridcolor": "white",
            "linecolor": "white",
            "showbackground": true,
            "ticks": "",
            "zerolinecolor": "white",
            "gridwidth": 2
           },
           "zaxis": {
            "backgroundcolor": "#E5ECF6",
            "gridcolor": "white",
            "linecolor": "white",
            "showbackground": true,
            "ticks": "",
            "zerolinecolor": "white",
            "gridwidth": 2
           }
          },
          "shapedefaults": {
           "line": {
            "color": "#2a3f5f"
           }
          },
          "annotationdefaults": {
           "arrowcolor": "#2a3f5f",
           "arrowhead": 0,
           "arrowwidth": 1
          },
          "geo": {
           "bgcolor": "white",
           "landcolor": "#E5ECF6",
           "subunitcolor": "white",
           "showland": true,
           "showlakes": true,
           "lakecolor": "white"
          },
          "title": {
           "x": 0.05
          },
          "mapbox": {
           "style": "light"
          }
         }
        },
        "xaxis": {
         "anchor": "y",
         "domain": [
          0.0,
          1.0
         ],
         "title": {
          "text": "Topic"
         },
         "categoryorder": "array",
         "categoryarray": [
          "Brand",
          "Holiday",
          "Person",
          "Interest and Hobbies",
          "Sport",
          "TV and Movies",
          "Other",
          "Video Game",
          "Entities",
          "Political",
          "Music",
          "Book",
          "News"
         ]
        },
        "yaxis": {
         "anchor": "x",
         "domain": [
          0.0,
          1.0
         ],
         "title": {
          "text": "% Time to get 50% retweets"
         }
        },
        "legend": {
         "title": {
          "text": "Year"
         },
         "tracegroupgap": 0
        },
        "margin": {
         "t": 60
        },
        "barmode": "group"
       },
       "config": {
        "plotlyServerURL": "https://plot.ly"
       }
      },
      "text/html": "<div>                            <div id=\"44bde0f2-3937-4b32-bdaa-20d21f347a3c\" class=\"plotly-graph-div\" style=\"height:525px; width:100%;\"></div>            <script type=\"text/javascript\">                require([\"plotly\"], function(Plotly) {                    window.PLOTLYENV=window.PLOTLYENV || {};                                    if (document.getElementById(\"44bde0f2-3937-4b32-bdaa-20d21f347a3c\")) {                    Plotly.newPlot(                        \"44bde0f2-3937-4b32-bdaa-20d21f347a3c\",                        [{\"alignmentgroup\":\"True\",\"hovertemplate\":\"Year=2019<br>Topic=%{x}<br>% Time to get 50% retweets=%{y}<extra></extra>\",\"legendgroup\":\"2019\",\"marker\":{\"color\":\"#006D77\",\"pattern\":{\"shape\":\"\"}},\"name\":\"2019\",\"offsetgroup\":\"2019\",\"orientation\":\"v\",\"showlegend\":true,\"textposition\":\"auto\",\"x\":[\"Brand\",\"Holiday\",\"Person\",\"Interest and Hobbies\",\"Sport\",\"TV and Movies\",\"Other\",\"Video Game\",\"Entities\",\"Political\",\"Music\",\"Book\"],\"xaxis\":\"x\",\"y\":[2.0,0.0,24.0,4.0,0.0,6.0,2.0,6.0,4.0,9.0,34.0,0.0],\"yaxis\":\"y\",\"type\":\"bar\"},{\"alignmentgroup\":\"True\",\"hovertemplate\":\"Year=2020<br>Topic=%{x}<br>% Time to get 50% retweets=%{y}<extra></extra>\",\"legendgroup\":\"2020\",\"marker\":{\"color\":\"#FBD1A2\",\"pattern\":{\"shape\":\"\"}},\"name\":\"2020\",\"offsetgroup\":\"2020\",\"orientation\":\"v\",\"showlegend\":true,\"textposition\":\"auto\",\"x\":[\"Brand\",\"Holiday\",\"Person\",\"Interest and Hobbies\",\"Sport\",\"TV and Movies\",\"Other\",\"Video Game\",\"Entities\",\"Political\",\"Music\",\"Book\",\"News\"],\"xaxis\":\"x\",\"y\":[6.0,17.0,13.0,4.0,2.0,3.0,0.0,2.0,19.0,1.0,2.0,11.0,4.0],\"yaxis\":\"y\",\"type\":\"bar\"},{\"alignmentgroup\":\"True\",\"hovertemplate\":\"Year=2021<br>Topic=%{x}<br>% Time to get 50% retweets=%{y}<extra></extra>\",\"legendgroup\":\"2021\",\"marker\":{\"color\":\"#7DCFB6\",\"pattern\":{\"shape\":\"\"}},\"name\":\"2021\",\"offsetgroup\":\"2021\",\"orientation\":\"v\",\"showlegend\":true,\"textposition\":\"auto\",\"x\":[\"Brand\",\"Holiday\",\"Person\",\"Interest and Hobbies\",\"Sport\",\"TV and Movies\",\"Other\",\"Video Game\",\"Entities\",\"Political\",\"Music\",\"Book\",\"News\"],\"xaxis\":\"x\",\"y\":[19.0,1.0,3.0,9.0,10.0,4.0,3.0,5.0,9.0,2.0,11.0,50.0,11.0],\"yaxis\":\"y\",\"type\":\"bar\"}],                        {\"template\":{\"data\":{\"histogram2dcontour\":[{\"type\":\"histogram2dcontour\",\"colorbar\":{\"outlinewidth\":0,\"ticks\":\"\"},\"colorscale\":[[0.0,\"#0d0887\"],[0.1111111111111111,\"#46039f\"],[0.2222222222222222,\"#7201a8\"],[0.3333333333333333,\"#9c179e\"],[0.4444444444444444,\"#bd3786\"],[0.5555555555555556,\"#d8576b\"],[0.6666666666666666,\"#ed7953\"],[0.7777777777777778,\"#fb9f3a\"],[0.8888888888888888,\"#fdca26\"],[1.0,\"#f0f921\"]]}],\"choropleth\":[{\"type\":\"choropleth\",\"colorbar\":{\"outlinewidth\":0,\"ticks\":\"\"}}],\"histogram2d\":[{\"type\":\"histogram2d\",\"colorbar\":{\"outlinewidth\":0,\"ticks\":\"\"},\"colorscale\":[[0.0,\"#0d0887\"],[0.1111111111111111,\"#46039f\"],[0.2222222222222222,\"#7201a8\"],[0.3333333333333333,\"#9c179e\"],[0.4444444444444444,\"#bd3786\"],[0.5555555555555556,\"#d8576b\"],[0.6666666666666666,\"#ed7953\"],[0.7777777777777778,\"#fb9f3a\"],[0.8888888888888888,\"#fdca26\"],[1.0,\"#f0f921\"]]}],\"heatmap\":[{\"type\":\"heatmap\",\"colorbar\":{\"outlinewidth\":0,\"ticks\":\"\"},\"colorscale\":[[0.0,\"#0d0887\"],[0.1111111111111111,\"#46039f\"],[0.2222222222222222,\"#7201a8\"],[0.3333333333333333,\"#9c179e\"],[0.4444444444444444,\"#bd3786\"],[0.5555555555555556,\"#d8576b\"],[0.6666666666666666,\"#ed7953\"],[0.7777777777777778,\"#fb9f3a\"],[0.8888888888888888,\"#fdca26\"],[1.0,\"#f0f921\"]]}],\"heatmapgl\":[{\"type\":\"heatmapgl\",\"colorbar\":{\"outlinewidth\":0,\"ticks\":\"\"},\"colorscale\":[[0.0,\"#0d0887\"],[0.1111111111111111,\"#46039f\"],[0.2222222222222222,\"#7201a8\"],[0.3333333333333333,\"#9c179e\"],[0.4444444444444444,\"#bd3786\"],[0.5555555555555556,\"#d8576b\"],[0.6666666666666666,\"#ed7953\"],[0.7777777777777778,\"#fb9f3a\"],[0.8888888888888888,\"#fdca26\"],[1.0,\"#f0f921\"]]}],\"contourcarpet\":[{\"type\":\"contourcarpet\",\"colorbar\":{\"outlinewidth\":0,\"ticks\":\"\"}}],\"contour\":[{\"type\":\"contour\",\"colorbar\":{\"outlinewidth\":0,\"ticks\":\"\"},\"colorscale\":[[0.0,\"#0d0887\"],[0.1111111111111111,\"#46039f\"],[0.2222222222222222,\"#7201a8\"],[0.3333333333333333,\"#9c179e\"],[0.4444444444444444,\"#bd3786\"],[0.5555555555555556,\"#d8576b\"],[0.6666666666666666,\"#ed7953\"],[0.7777777777777778,\"#fb9f3a\"],[0.8888888888888888,\"#fdca26\"],[1.0,\"#f0f921\"]]}],\"surface\":[{\"type\":\"surface\",\"colorbar\":{\"outlinewidth\":0,\"ticks\":\"\"},\"colorscale\":[[0.0,\"#0d0887\"],[0.1111111111111111,\"#46039f\"],[0.2222222222222222,\"#7201a8\"],[0.3333333333333333,\"#9c179e\"],[0.4444444444444444,\"#bd3786\"],[0.5555555555555556,\"#d8576b\"],[0.6666666666666666,\"#ed7953\"],[0.7777777777777778,\"#fb9f3a\"],[0.8888888888888888,\"#fdca26\"],[1.0,\"#f0f921\"]]}],\"mesh3d\":[{\"type\":\"mesh3d\",\"colorbar\":{\"outlinewidth\":0,\"ticks\":\"\"}}],\"scatter\":[{\"fillpattern\":{\"fillmode\":\"overlay\",\"size\":10,\"solidity\":0.2},\"type\":\"scatter\"}],\"parcoords\":[{\"type\":\"parcoords\",\"line\":{\"colorbar\":{\"outlinewidth\":0,\"ticks\":\"\"}}}],\"scatterpolargl\":[{\"type\":\"scatterpolargl\",\"marker\":{\"colorbar\":{\"outlinewidth\":0,\"ticks\":\"\"}}}],\"bar\":[{\"error_x\":{\"color\":\"#2a3f5f\"},\"error_y\":{\"color\":\"#2a3f5f\"},\"marker\":{\"line\":{\"color\":\"#E5ECF6\",\"width\":0.5},\"pattern\":{\"fillmode\":\"overlay\",\"size\":10,\"solidity\":0.2}},\"type\":\"bar\"}],\"scattergeo\":[{\"type\":\"scattergeo\",\"marker\":{\"colorbar\":{\"outlinewidth\":0,\"ticks\":\"\"}}}],\"scatterpolar\":[{\"type\":\"scatterpolar\",\"marker\":{\"colorbar\":{\"outlinewidth\":0,\"ticks\":\"\"}}}],\"histogram\":[{\"marker\":{\"pattern\":{\"fillmode\":\"overlay\",\"size\":10,\"solidity\":0.2}},\"type\":\"histogram\"}],\"scattergl\":[{\"type\":\"scattergl\",\"marker\":{\"colorbar\":{\"outlinewidth\":0,\"ticks\":\"\"}}}],\"scatter3d\":[{\"type\":\"scatter3d\",\"line\":{\"colorbar\":{\"outlinewidth\":0,\"ticks\":\"\"}},\"marker\":{\"colorbar\":{\"outlinewidth\":0,\"ticks\":\"\"}}}],\"scattermapbox\":[{\"type\":\"scattermapbox\",\"marker\":{\"colorbar\":{\"outlinewidth\":0,\"ticks\":\"\"}}}],\"scatterternary\":[{\"type\":\"scatterternary\",\"marker\":{\"colorbar\":{\"outlinewidth\":0,\"ticks\":\"\"}}}],\"scattercarpet\":[{\"type\":\"scattercarpet\",\"marker\":{\"colorbar\":{\"outlinewidth\":0,\"ticks\":\"\"}}}],\"carpet\":[{\"aaxis\":{\"endlinecolor\":\"#2a3f5f\",\"gridcolor\":\"white\",\"linecolor\":\"white\",\"minorgridcolor\":\"white\",\"startlinecolor\":\"#2a3f5f\"},\"baxis\":{\"endlinecolor\":\"#2a3f5f\",\"gridcolor\":\"white\",\"linecolor\":\"white\",\"minorgridcolor\":\"white\",\"startlinecolor\":\"#2a3f5f\"},\"type\":\"carpet\"}],\"table\":[{\"cells\":{\"fill\":{\"color\":\"#EBF0F8\"},\"line\":{\"color\":\"white\"}},\"header\":{\"fill\":{\"color\":\"#C8D4E3\"},\"line\":{\"color\":\"white\"}},\"type\":\"table\"}],\"barpolar\":[{\"marker\":{\"line\":{\"color\":\"#E5ECF6\",\"width\":0.5},\"pattern\":{\"fillmode\":\"overlay\",\"size\":10,\"solidity\":0.2}},\"type\":\"barpolar\"}],\"pie\":[{\"automargin\":true,\"type\":\"pie\"}]},\"layout\":{\"autotypenumbers\":\"strict\",\"colorway\":[\"#636efa\",\"#EF553B\",\"#00cc96\",\"#ab63fa\",\"#FFA15A\",\"#19d3f3\",\"#FF6692\",\"#B6E880\",\"#FF97FF\",\"#FECB52\"],\"font\":{\"color\":\"#2a3f5f\"},\"hovermode\":\"closest\",\"hoverlabel\":{\"align\":\"left\"},\"paper_bgcolor\":\"white\",\"plot_bgcolor\":\"#E5ECF6\",\"polar\":{\"bgcolor\":\"#E5ECF6\",\"angularaxis\":{\"gridcolor\":\"white\",\"linecolor\":\"white\",\"ticks\":\"\"},\"radialaxis\":{\"gridcolor\":\"white\",\"linecolor\":\"white\",\"ticks\":\"\"}},\"ternary\":{\"bgcolor\":\"#E5ECF6\",\"aaxis\":{\"gridcolor\":\"white\",\"linecolor\":\"white\",\"ticks\":\"\"},\"baxis\":{\"gridcolor\":\"white\",\"linecolor\":\"white\",\"ticks\":\"\"},\"caxis\":{\"gridcolor\":\"white\",\"linecolor\":\"white\",\"ticks\":\"\"}},\"coloraxis\":{\"colorbar\":{\"outlinewidth\":0,\"ticks\":\"\"}},\"colorscale\":{\"sequential\":[[0.0,\"#0d0887\"],[0.1111111111111111,\"#46039f\"],[0.2222222222222222,\"#7201a8\"],[0.3333333333333333,\"#9c179e\"],[0.4444444444444444,\"#bd3786\"],[0.5555555555555556,\"#d8576b\"],[0.6666666666666666,\"#ed7953\"],[0.7777777777777778,\"#fb9f3a\"],[0.8888888888888888,\"#fdca26\"],[1.0,\"#f0f921\"]],\"sequentialminus\":[[0.0,\"#0d0887\"],[0.1111111111111111,\"#46039f\"],[0.2222222222222222,\"#7201a8\"],[0.3333333333333333,\"#9c179e\"],[0.4444444444444444,\"#bd3786\"],[0.5555555555555556,\"#d8576b\"],[0.6666666666666666,\"#ed7953\"],[0.7777777777777778,\"#fb9f3a\"],[0.8888888888888888,\"#fdca26\"],[1.0,\"#f0f921\"]],\"diverging\":[[0,\"#8e0152\"],[0.1,\"#c51b7d\"],[0.2,\"#de77ae\"],[0.3,\"#f1b6da\"],[0.4,\"#fde0ef\"],[0.5,\"#f7f7f7\"],[0.6,\"#e6f5d0\"],[0.7,\"#b8e186\"],[0.8,\"#7fbc41\"],[0.9,\"#4d9221\"],[1,\"#276419\"]]},\"xaxis\":{\"gridcolor\":\"white\",\"linecolor\":\"white\",\"ticks\":\"\",\"title\":{\"standoff\":15},\"zerolinecolor\":\"white\",\"automargin\":true,\"zerolinewidth\":2},\"yaxis\":{\"gridcolor\":\"white\",\"linecolor\":\"white\",\"ticks\":\"\",\"title\":{\"standoff\":15},\"zerolinecolor\":\"white\",\"automargin\":true,\"zerolinewidth\":2},\"scene\":{\"xaxis\":{\"backgroundcolor\":\"#E5ECF6\",\"gridcolor\":\"white\",\"linecolor\":\"white\",\"showbackground\":true,\"ticks\":\"\",\"zerolinecolor\":\"white\",\"gridwidth\":2},\"yaxis\":{\"backgroundcolor\":\"#E5ECF6\",\"gridcolor\":\"white\",\"linecolor\":\"white\",\"showbackground\":true,\"ticks\":\"\",\"zerolinecolor\":\"white\",\"gridwidth\":2},\"zaxis\":{\"backgroundcolor\":\"#E5ECF6\",\"gridcolor\":\"white\",\"linecolor\":\"white\",\"showbackground\":true,\"ticks\":\"\",\"zerolinecolor\":\"white\",\"gridwidth\":2}},\"shapedefaults\":{\"line\":{\"color\":\"#2a3f5f\"}},\"annotationdefaults\":{\"arrowcolor\":\"#2a3f5f\",\"arrowhead\":0,\"arrowwidth\":1},\"geo\":{\"bgcolor\":\"white\",\"landcolor\":\"#E5ECF6\",\"subunitcolor\":\"white\",\"showland\":true,\"showlakes\":true,\"lakecolor\":\"white\"},\"title\":{\"x\":0.05},\"mapbox\":{\"style\":\"light\"}}},\"xaxis\":{\"anchor\":\"y\",\"domain\":[0.0,1.0],\"title\":{\"text\":\"Topic\"},\"categoryorder\":\"array\",\"categoryarray\":[\"Brand\",\"Holiday\",\"Person\",\"Interest and Hobbies\",\"Sport\",\"TV and Movies\",\"Other\",\"Video Game\",\"Entities\",\"Political\",\"Music\",\"Book\",\"News\"]},\"yaxis\":{\"anchor\":\"x\",\"domain\":[0.0,1.0],\"title\":{\"text\":\"% Time to get 50% retweets\"}},\"legend\":{\"title\":{\"text\":\"Year\"},\"tracegroupgap\":0},\"margin\":{\"t\":60},\"barmode\":\"group\"},                        {\"responsive\": true}                    ).then(function(){\n                            \nvar gd = document.getElementById('44bde0f2-3937-4b32-bdaa-20d21f347a3c');\nvar x = new MutationObserver(function (mutations, observer) {{\n        var display = window.getComputedStyle(gd).display;\n        if (!display || display === 'none') {{\n            console.log([gd, 'removed!']);\n            Plotly.purge(gd);\n            observer.disconnect();\n        }}\n}});\n\n// Listen for the removal of the full notebook cells\nvar notebookContainer = gd.closest('#notebook-container');\nif (notebookContainer) {{\n    x.observe(notebookContainer, {childList: true});\n}}\n\n// Listen for the clearing of the current output cell\nvar outputEl = gd.closest('.output');\nif (outputEl) {{\n    x.observe(outputEl, {childList: true});\n}}\n\n                        })                };                });            </script>        </div>"
     },
     "metadata": {},
     "output_type": "display_data"
    }
   ],
   "source": [
    "fig = px.bar(df_retweeters_chars_10, x=\"Topic\", y='% Time to get 50% retweets', color=\"Year\", barmode=\"group\", color_discrete_sequence=palette,\n",
    "             category_orders={\"Topic\": topics_categories,\n",
    "                              'year': df['year'].unique()})\n",
    "fig.show()"
   ],
   "metadata": {
    "collapsed": false,
    "pycharm": {
     "name": "#%%\n"
    }
   }
  },
  {
   "cell_type": "code",
   "execution_count": 184,
   "outputs": [
    {
     "data": {
      "application/vnd.plotly.v1+json": {
       "data": [
        {
         "x": [
          "Brand",
          "Holiday",
          "Person",
          "Interest and Hobbies",
          "Sport",
          "TV and Movies",
          "Other",
          "Video Game",
          "Entities",
          "Political",
          "Music",
          "Book",
          "News"
         ],
         "y": [
          8397.003758303099,
          0.0,
          16495.659917818564,
          8041.262665727048,
          7691.170808104618,
          13423.078251975177,
          9932.260870057338,
          13191.224025974025,
          4927.927024858751,
          4810.937996031746,
          1658.6599999999999,
          0.0,
          6161.856997536249,
          7199.9446216826655,
          10228.782328033207,
          4380.884731259186,
          5575.398716236759,
          9909.9731846643,
          8683.752777777778,
          2372.1149404761904,
          4392.222083246218,
          7298.319482870071,
          4420.243650793651,
          485.0,
          7472.0120347381535,
          12737.26756723841,
          11830.320471354044,
          6284.556372995858,
          6045.937420804269,
          14651.952113311147,
          7674.550819491512,
          6824.274814814815,
          5461.193452380952,
          17372.553084392006,
          11845.919206349206,
          3539.3773674242425,
          33711.0,
          7248.952983256431
         ],
         "type": "bar",
         "xaxis": "x",
         "yaxis": "y"
        },
        {
         "x": [
          "Brand",
          "Holiday",
          "Person",
          "Interest and Hobbies",
          "Sport",
          "TV and Movies",
          "Other",
          "Video Game",
          "Entities",
          "Political",
          "Music",
          "Book",
          "News"
         ],
         "y": [
          6161.324953611799,
          0.0,
          11405.933321179751,
          6349.449833666478,
          4904.560848865289,
          8620.562870555867,
          7700.0451015605495,
          7452.611818181818,
          4442.669838244614,
          4931.441695963512,
          2034.7771929824564,
          0.0,
          4665.082496055322,
          4996.508271047779,
          7484.135789776986,
          4215.058220306965,
          4409.533791820966,
          6791.275543304537,
          5206.211029411765,
          2405.57461038961,
          4144.334790680195,
          7038.408089498221,
          3936.577402973614,
          588.7272727272727,
          5809.65652283457,
          8420.585254788406,
          7592.722903062885,
          5044.042860880974,
          5538.982338991229,
          8772.633111408142,
          6064.466392391613,
          6225.940052387914,
          3953.606537560753,
          17967.0923610823,
          7568.535464339582,
          4879.868127705628,
          20750.727272727272,
          5492.42758422622
         ],
         "type": "bar",
         "xaxis": "x",
         "yaxis": "y"
        },
        {
         "x": [
          "Brand",
          "Holiday",
          "Person",
          "Interest and Hobbies",
          "Sport",
          "TV and Movies",
          "Other",
          "Video Game",
          "Entities",
          "Political",
          "Music",
          "Book",
          "News"
         ],
         "y": [
          8397.003758303099,
          0.0,
          16495.659917818564,
          8041.262665727048,
          7691.170808104618,
          13423.078251975177,
          9932.260870057338,
          13191.224025974025,
          4927.927024858751,
          4810.937996031746,
          1658.6599999999999,
          0.0,
          6161.856997536249,
          7199.9446216826655,
          10228.782328033207,
          4380.884731259186,
          5575.398716236759,
          9909.9731846643,
          8683.752777777778,
          2372.1149404761904,
          4392.222083246218,
          7298.319482870071,
          4420.243650793651,
          485.0,
          7472.0120347381535,
          12737.26756723841,
          11830.320471354044,
          6284.556372995858,
          6045.937420804269,
          14651.952113311147,
          7674.550819491512,
          6824.274814814815,
          5461.193452380952,
          17372.553084392006,
          11845.919206349206,
          3539.3773674242425,
          33711.0,
          7248.952983256431
         ],
         "type": "bar",
         "xaxis": "x2",
         "yaxis": "y2"
        },
        {
         "x": [
          "Brand",
          "Holiday",
          "Person",
          "Interest and Hobbies",
          "Sport",
          "TV and Movies",
          "Other",
          "Video Game",
          "Entities",
          "Political",
          "Music",
          "Book",
          "News"
         ],
         "y": [
          6161.324953611799,
          0.0,
          11405.933321179751,
          6349.449833666478,
          4904.560848865289,
          8620.562870555867,
          7700.0451015605495,
          7452.611818181818,
          4442.669838244614,
          4931.441695963512,
          2034.7771929824564,
          0.0,
          4665.082496055322,
          4996.508271047779,
          7484.135789776986,
          4215.058220306965,
          4409.533791820966,
          6791.275543304537,
          5206.211029411765,
          2405.57461038961,
          4144.334790680195,
          7038.408089498221,
          3936.577402973614,
          588.7272727272727,
          5809.65652283457,
          8420.585254788406,
          7592.722903062885,
          5044.042860880974,
          5538.982338991229,
          8772.633111408142,
          6064.466392391613,
          6225.940052387914,
          3953.606537560753,
          17967.0923610823,
          7568.535464339582,
          4879.868127705628,
          20750.727272727272,
          5492.42758422622
         ],
         "type": "bar",
         "xaxis": "x2",
         "yaxis": "y2"
        },
        {
         "x": [
          "Brand",
          "Holiday",
          "Person",
          "Interest and Hobbies",
          "Sport",
          "TV and Movies",
          "Other",
          "Video Game",
          "Entities",
          "Political",
          "Music",
          "Book",
          "News"
         ],
         "y": [
          8397.003758303099,
          0.0,
          16495.659917818564,
          8041.262665727048,
          7691.170808104618,
          13423.078251975177,
          9932.260870057338,
          13191.224025974025,
          4927.927024858751,
          4810.937996031746,
          1658.6599999999999,
          0.0,
          6161.856997536249,
          7199.9446216826655,
          10228.782328033207,
          4380.884731259186,
          5575.398716236759,
          9909.9731846643,
          8683.752777777778,
          2372.1149404761904,
          4392.222083246218,
          7298.319482870071,
          4420.243650793651,
          485.0,
          7472.0120347381535,
          12737.26756723841,
          11830.320471354044,
          6284.556372995858,
          6045.937420804269,
          14651.952113311147,
          7674.550819491512,
          6824.274814814815,
          5461.193452380952,
          17372.553084392006,
          11845.919206349206,
          3539.3773674242425,
          33711.0,
          7248.952983256431
         ],
         "type": "bar",
         "xaxis": "x3",
         "yaxis": "y3"
        },
        {
         "x": [
          "Brand",
          "Holiday",
          "Person",
          "Interest and Hobbies",
          "Sport",
          "TV and Movies",
          "Other",
          "Video Game",
          "Entities",
          "Political",
          "Music",
          "Book",
          "News"
         ],
         "y": [
          6161.324953611799,
          0.0,
          11405.933321179751,
          6349.449833666478,
          4904.560848865289,
          8620.562870555867,
          7700.0451015605495,
          7452.611818181818,
          4442.669838244614,
          4931.441695963512,
          2034.7771929824564,
          0.0,
          4665.082496055322,
          4996.508271047779,
          7484.135789776986,
          4215.058220306965,
          4409.533791820966,
          6791.275543304537,
          5206.211029411765,
          2405.57461038961,
          4144.334790680195,
          7038.408089498221,
          3936.577402973614,
          588.7272727272727,
          5809.65652283457,
          8420.585254788406,
          7592.722903062885,
          5044.042860880974,
          5538.982338991229,
          8772.633111408142,
          6064.466392391613,
          6225.940052387914,
          3953.606537560753,
          17967.0923610823,
          7568.535464339582,
          4879.868127705628,
          20750.727272727272,
          5492.42758422622
         ],
         "type": "bar",
         "xaxis": "x3",
         "yaxis": "y3"
        }
       ],
       "layout": {
        "template": {
         "data": {
          "histogram2dcontour": [
           {
            "type": "histogram2dcontour",
            "colorbar": {
             "outlinewidth": 0,
             "ticks": ""
            },
            "colorscale": [
             [
              0.0,
              "#0d0887"
             ],
             [
              0.1111111111111111,
              "#46039f"
             ],
             [
              0.2222222222222222,
              "#7201a8"
             ],
             [
              0.3333333333333333,
              "#9c179e"
             ],
             [
              0.4444444444444444,
              "#bd3786"
             ],
             [
              0.5555555555555556,
              "#d8576b"
             ],
             [
              0.6666666666666666,
              "#ed7953"
             ],
             [
              0.7777777777777778,
              "#fb9f3a"
             ],
             [
              0.8888888888888888,
              "#fdca26"
             ],
             [
              1.0,
              "#f0f921"
             ]
            ]
           }
          ],
          "choropleth": [
           {
            "type": "choropleth",
            "colorbar": {
             "outlinewidth": 0,
             "ticks": ""
            }
           }
          ],
          "histogram2d": [
           {
            "type": "histogram2d",
            "colorbar": {
             "outlinewidth": 0,
             "ticks": ""
            },
            "colorscale": [
             [
              0.0,
              "#0d0887"
             ],
             [
              0.1111111111111111,
              "#46039f"
             ],
             [
              0.2222222222222222,
              "#7201a8"
             ],
             [
              0.3333333333333333,
              "#9c179e"
             ],
             [
              0.4444444444444444,
              "#bd3786"
             ],
             [
              0.5555555555555556,
              "#d8576b"
             ],
             [
              0.6666666666666666,
              "#ed7953"
             ],
             [
              0.7777777777777778,
              "#fb9f3a"
             ],
             [
              0.8888888888888888,
              "#fdca26"
             ],
             [
              1.0,
              "#f0f921"
             ]
            ]
           }
          ],
          "heatmap": [
           {
            "type": "heatmap",
            "colorbar": {
             "outlinewidth": 0,
             "ticks": ""
            },
            "colorscale": [
             [
              0.0,
              "#0d0887"
             ],
             [
              0.1111111111111111,
              "#46039f"
             ],
             [
              0.2222222222222222,
              "#7201a8"
             ],
             [
              0.3333333333333333,
              "#9c179e"
             ],
             [
              0.4444444444444444,
              "#bd3786"
             ],
             [
              0.5555555555555556,
              "#d8576b"
             ],
             [
              0.6666666666666666,
              "#ed7953"
             ],
             [
              0.7777777777777778,
              "#fb9f3a"
             ],
             [
              0.8888888888888888,
              "#fdca26"
             ],
             [
              1.0,
              "#f0f921"
             ]
            ]
           }
          ],
          "heatmapgl": [
           {
            "type": "heatmapgl",
            "colorbar": {
             "outlinewidth": 0,
             "ticks": ""
            },
            "colorscale": [
             [
              0.0,
              "#0d0887"
             ],
             [
              0.1111111111111111,
              "#46039f"
             ],
             [
              0.2222222222222222,
              "#7201a8"
             ],
             [
              0.3333333333333333,
              "#9c179e"
             ],
             [
              0.4444444444444444,
              "#bd3786"
             ],
             [
              0.5555555555555556,
              "#d8576b"
             ],
             [
              0.6666666666666666,
              "#ed7953"
             ],
             [
              0.7777777777777778,
              "#fb9f3a"
             ],
             [
              0.8888888888888888,
              "#fdca26"
             ],
             [
              1.0,
              "#f0f921"
             ]
            ]
           }
          ],
          "contourcarpet": [
           {
            "type": "contourcarpet",
            "colorbar": {
             "outlinewidth": 0,
             "ticks": ""
            }
           }
          ],
          "contour": [
           {
            "type": "contour",
            "colorbar": {
             "outlinewidth": 0,
             "ticks": ""
            },
            "colorscale": [
             [
              0.0,
              "#0d0887"
             ],
             [
              0.1111111111111111,
              "#46039f"
             ],
             [
              0.2222222222222222,
              "#7201a8"
             ],
             [
              0.3333333333333333,
              "#9c179e"
             ],
             [
              0.4444444444444444,
              "#bd3786"
             ],
             [
              0.5555555555555556,
              "#d8576b"
             ],
             [
              0.6666666666666666,
              "#ed7953"
             ],
             [
              0.7777777777777778,
              "#fb9f3a"
             ],
             [
              0.8888888888888888,
              "#fdca26"
             ],
             [
              1.0,
              "#f0f921"
             ]
            ]
           }
          ],
          "surface": [
           {
            "type": "surface",
            "colorbar": {
             "outlinewidth": 0,
             "ticks": ""
            },
            "colorscale": [
             [
              0.0,
              "#0d0887"
             ],
             [
              0.1111111111111111,
              "#46039f"
             ],
             [
              0.2222222222222222,
              "#7201a8"
             ],
             [
              0.3333333333333333,
              "#9c179e"
             ],
             [
              0.4444444444444444,
              "#bd3786"
             ],
             [
              0.5555555555555556,
              "#d8576b"
             ],
             [
              0.6666666666666666,
              "#ed7953"
             ],
             [
              0.7777777777777778,
              "#fb9f3a"
             ],
             [
              0.8888888888888888,
              "#fdca26"
             ],
             [
              1.0,
              "#f0f921"
             ]
            ]
           }
          ],
          "mesh3d": [
           {
            "type": "mesh3d",
            "colorbar": {
             "outlinewidth": 0,
             "ticks": ""
            }
           }
          ],
          "scatter": [
           {
            "fillpattern": {
             "fillmode": "overlay",
             "size": 10,
             "solidity": 0.2
            },
            "type": "scatter"
           }
          ],
          "parcoords": [
           {
            "type": "parcoords",
            "line": {
             "colorbar": {
              "outlinewidth": 0,
              "ticks": ""
             }
            }
           }
          ],
          "scatterpolargl": [
           {
            "type": "scatterpolargl",
            "marker": {
             "colorbar": {
              "outlinewidth": 0,
              "ticks": ""
             }
            }
           }
          ],
          "bar": [
           {
            "error_x": {
             "color": "#2a3f5f"
            },
            "error_y": {
             "color": "#2a3f5f"
            },
            "marker": {
             "line": {
              "color": "#E5ECF6",
              "width": 0.5
             },
             "pattern": {
              "fillmode": "overlay",
              "size": 10,
              "solidity": 0.2
             }
            },
            "type": "bar"
           }
          ],
          "scattergeo": [
           {
            "type": "scattergeo",
            "marker": {
             "colorbar": {
              "outlinewidth": 0,
              "ticks": ""
             }
            }
           }
          ],
          "scatterpolar": [
           {
            "type": "scatterpolar",
            "marker": {
             "colorbar": {
              "outlinewidth": 0,
              "ticks": ""
             }
            }
           }
          ],
          "histogram": [
           {
            "marker": {
             "pattern": {
              "fillmode": "overlay",
              "size": 10,
              "solidity": 0.2
             }
            },
            "type": "histogram"
           }
          ],
          "scattergl": [
           {
            "type": "scattergl",
            "marker": {
             "colorbar": {
              "outlinewidth": 0,
              "ticks": ""
             }
            }
           }
          ],
          "scatter3d": [
           {
            "type": "scatter3d",
            "line": {
             "colorbar": {
              "outlinewidth": 0,
              "ticks": ""
             }
            },
            "marker": {
             "colorbar": {
              "outlinewidth": 0,
              "ticks": ""
             }
            }
           }
          ],
          "scattermapbox": [
           {
            "type": "scattermapbox",
            "marker": {
             "colorbar": {
              "outlinewidth": 0,
              "ticks": ""
             }
            }
           }
          ],
          "scatterternary": [
           {
            "type": "scatterternary",
            "marker": {
             "colorbar": {
              "outlinewidth": 0,
              "ticks": ""
             }
            }
           }
          ],
          "scattercarpet": [
           {
            "type": "scattercarpet",
            "marker": {
             "colorbar": {
              "outlinewidth": 0,
              "ticks": ""
             }
            }
           }
          ],
          "carpet": [
           {
            "aaxis": {
             "endlinecolor": "#2a3f5f",
             "gridcolor": "white",
             "linecolor": "white",
             "minorgridcolor": "white",
             "startlinecolor": "#2a3f5f"
            },
            "baxis": {
             "endlinecolor": "#2a3f5f",
             "gridcolor": "white",
             "linecolor": "white",
             "minorgridcolor": "white",
             "startlinecolor": "#2a3f5f"
            },
            "type": "carpet"
           }
          ],
          "table": [
           {
            "cells": {
             "fill": {
              "color": "#EBF0F8"
             },
             "line": {
              "color": "white"
             }
            },
            "header": {
             "fill": {
              "color": "#C8D4E3"
             },
             "line": {
              "color": "white"
             }
            },
            "type": "table"
           }
          ],
          "barpolar": [
           {
            "marker": {
             "line": {
              "color": "#E5ECF6",
              "width": 0.5
             },
             "pattern": {
              "fillmode": "overlay",
              "size": 10,
              "solidity": 0.2
             }
            },
            "type": "barpolar"
           }
          ],
          "pie": [
           {
            "automargin": true,
            "type": "pie"
           }
          ]
         },
         "layout": {
          "autotypenumbers": "strict",
          "colorway": [
           "#636efa",
           "#EF553B",
           "#00cc96",
           "#ab63fa",
           "#FFA15A",
           "#19d3f3",
           "#FF6692",
           "#B6E880",
           "#FF97FF",
           "#FECB52"
          ],
          "font": {
           "color": "#2a3f5f"
          },
          "hovermode": "closest",
          "hoverlabel": {
           "align": "left"
          },
          "paper_bgcolor": "white",
          "plot_bgcolor": "#E5ECF6",
          "polar": {
           "bgcolor": "#E5ECF6",
           "angularaxis": {
            "gridcolor": "white",
            "linecolor": "white",
            "ticks": ""
           },
           "radialaxis": {
            "gridcolor": "white",
            "linecolor": "white",
            "ticks": ""
           }
          },
          "ternary": {
           "bgcolor": "#E5ECF6",
           "aaxis": {
            "gridcolor": "white",
            "linecolor": "white",
            "ticks": ""
           },
           "baxis": {
            "gridcolor": "white",
            "linecolor": "white",
            "ticks": ""
           },
           "caxis": {
            "gridcolor": "white",
            "linecolor": "white",
            "ticks": ""
           }
          },
          "coloraxis": {
           "colorbar": {
            "outlinewidth": 0,
            "ticks": ""
           }
          },
          "colorscale": {
           "sequential": [
            [
             0.0,
             "#0d0887"
            ],
            [
             0.1111111111111111,
             "#46039f"
            ],
            [
             0.2222222222222222,
             "#7201a8"
            ],
            [
             0.3333333333333333,
             "#9c179e"
            ],
            [
             0.4444444444444444,
             "#bd3786"
            ],
            [
             0.5555555555555556,
             "#d8576b"
            ],
            [
             0.6666666666666666,
             "#ed7953"
            ],
            [
             0.7777777777777778,
             "#fb9f3a"
            ],
            [
             0.8888888888888888,
             "#fdca26"
            ],
            [
             1.0,
             "#f0f921"
            ]
           ],
           "sequentialminus": [
            [
             0.0,
             "#0d0887"
            ],
            [
             0.1111111111111111,
             "#46039f"
            ],
            [
             0.2222222222222222,
             "#7201a8"
            ],
            [
             0.3333333333333333,
             "#9c179e"
            ],
            [
             0.4444444444444444,
             "#bd3786"
            ],
            [
             0.5555555555555556,
             "#d8576b"
            ],
            [
             0.6666666666666666,
             "#ed7953"
            ],
            [
             0.7777777777777778,
             "#fb9f3a"
            ],
            [
             0.8888888888888888,
             "#fdca26"
            ],
            [
             1.0,
             "#f0f921"
            ]
           ],
           "diverging": [
            [
             0,
             "#8e0152"
            ],
            [
             0.1,
             "#c51b7d"
            ],
            [
             0.2,
             "#de77ae"
            ],
            [
             0.3,
             "#f1b6da"
            ],
            [
             0.4,
             "#fde0ef"
            ],
            [
             0.5,
             "#f7f7f7"
            ],
            [
             0.6,
             "#e6f5d0"
            ],
            [
             0.7,
             "#b8e186"
            ],
            [
             0.8,
             "#7fbc41"
            ],
            [
             0.9,
             "#4d9221"
            ],
            [
             1,
             "#276419"
            ]
           ]
          },
          "xaxis": {
           "gridcolor": "white",
           "linecolor": "white",
           "ticks": "",
           "title": {
            "standoff": 15
           },
           "zerolinecolor": "white",
           "automargin": true,
           "zerolinewidth": 2
          },
          "yaxis": {
           "gridcolor": "white",
           "linecolor": "white",
           "ticks": "",
           "title": {
            "standoff": 15
           },
           "zerolinecolor": "white",
           "automargin": true,
           "zerolinewidth": 2
          },
          "scene": {
           "xaxis": {
            "backgroundcolor": "#E5ECF6",
            "gridcolor": "white",
            "linecolor": "white",
            "showbackground": true,
            "ticks": "",
            "zerolinecolor": "white",
            "gridwidth": 2
           },
           "yaxis": {
            "backgroundcolor": "#E5ECF6",
            "gridcolor": "white",
            "linecolor": "white",
            "showbackground": true,
            "ticks": "",
            "zerolinecolor": "white",
            "gridwidth": 2
           },
           "zaxis": {
            "backgroundcolor": "#E5ECF6",
            "gridcolor": "white",
            "linecolor": "white",
            "showbackground": true,
            "ticks": "",
            "zerolinecolor": "white",
            "gridwidth": 2
           }
          },
          "shapedefaults": {
           "line": {
            "color": "#2a3f5f"
           }
          },
          "annotationdefaults": {
           "arrowcolor": "#2a3f5f",
           "arrowhead": 0,
           "arrowwidth": 1
          },
          "geo": {
           "bgcolor": "white",
           "landcolor": "#E5ECF6",
           "subunitcolor": "white",
           "showland": true,
           "showlakes": true,
           "lakecolor": "white"
          },
          "title": {
           "x": 0.05
          },
          "mapbox": {
           "style": "light"
          }
         }
        },
        "xaxis": {
         "anchor": "y",
         "domain": [
          0.0,
          0.2888888888888889
         ],
         "matches": "x"
        },
        "yaxis": {
         "anchor": "x",
         "domain": [
          0.0,
          1.0
         ]
        },
        "xaxis2": {
         "anchor": "y2",
         "domain": [
          0.35555555555555557,
          0.6444444444444445
         ],
         "matches": "x"
        },
        "yaxis2": {
         "anchor": "x2",
         "domain": [
          0.0,
          1.0
         ]
        },
        "xaxis3": {
         "anchor": "y3",
         "domain": [
          0.7111111111111111,
          1.0
         ],
         "matches": "x"
        },
        "yaxis3": {
         "anchor": "x3",
         "domain": [
          0.0,
          1.0
         ]
        }
       },
       "config": {
        "plotlyServerURL": "https://plot.ly"
       }
      },
      "text/html": "<div>                            <div id=\"5e449754-5ba5-4268-b5b7-4f549e428eef\" class=\"plotly-graph-div\" style=\"height:525px; width:100%;\"></div>            <script type=\"text/javascript\">                require([\"plotly\"], function(Plotly) {                    window.PLOTLYENV=window.PLOTLYENV || {};                                    if (document.getElementById(\"5e449754-5ba5-4268-b5b7-4f549e428eef\")) {                    Plotly.newPlot(                        \"5e449754-5ba5-4268-b5b7-4f549e428eef\",                        [{\"x\":[\"Brand\",\"Holiday\",\"Person\",\"Interest and Hobbies\",\"Sport\",\"TV and Movies\",\"Other\",\"Video Game\",\"Entities\",\"Political\",\"Music\",\"Book\",\"News\"],\"y\":[8397.003758303099,0.0,16495.659917818564,8041.262665727048,7691.170808104618,13423.078251975177,9932.260870057338,13191.224025974025,4927.927024858751,4810.937996031746,1658.6599999999999,0.0,6161.856997536249,7199.9446216826655,10228.782328033207,4380.884731259186,5575.398716236759,9909.9731846643,8683.752777777778,2372.1149404761904,4392.222083246218,7298.319482870071,4420.243650793651,485.0,7472.0120347381535,12737.26756723841,11830.320471354044,6284.556372995858,6045.937420804269,14651.952113311147,7674.550819491512,6824.274814814815,5461.193452380952,17372.553084392006,11845.919206349206,3539.3773674242425,33711.0,7248.952983256431],\"type\":\"bar\",\"xaxis\":\"x\",\"yaxis\":\"y\"},{\"x\":[\"Brand\",\"Holiday\",\"Person\",\"Interest and Hobbies\",\"Sport\",\"TV and Movies\",\"Other\",\"Video Game\",\"Entities\",\"Political\",\"Music\",\"Book\",\"News\"],\"y\":[6161.324953611799,0.0,11405.933321179751,6349.449833666478,4904.560848865289,8620.562870555867,7700.0451015605495,7452.611818181818,4442.669838244614,4931.441695963512,2034.7771929824564,0.0,4665.082496055322,4996.508271047779,7484.135789776986,4215.058220306965,4409.533791820966,6791.275543304537,5206.211029411765,2405.57461038961,4144.334790680195,7038.408089498221,3936.577402973614,588.7272727272727,5809.65652283457,8420.585254788406,7592.722903062885,5044.042860880974,5538.982338991229,8772.633111408142,6064.466392391613,6225.940052387914,3953.606537560753,17967.0923610823,7568.535464339582,4879.868127705628,20750.727272727272,5492.42758422622],\"type\":\"bar\",\"xaxis\":\"x\",\"yaxis\":\"y\"},{\"x\":[\"Brand\",\"Holiday\",\"Person\",\"Interest and Hobbies\",\"Sport\",\"TV and Movies\",\"Other\",\"Video Game\",\"Entities\",\"Political\",\"Music\",\"Book\",\"News\"],\"y\":[8397.003758303099,0.0,16495.659917818564,8041.262665727048,7691.170808104618,13423.078251975177,9932.260870057338,13191.224025974025,4927.927024858751,4810.937996031746,1658.6599999999999,0.0,6161.856997536249,7199.9446216826655,10228.782328033207,4380.884731259186,5575.398716236759,9909.9731846643,8683.752777777778,2372.1149404761904,4392.222083246218,7298.319482870071,4420.243650793651,485.0,7472.0120347381535,12737.26756723841,11830.320471354044,6284.556372995858,6045.937420804269,14651.952113311147,7674.550819491512,6824.274814814815,5461.193452380952,17372.553084392006,11845.919206349206,3539.3773674242425,33711.0,7248.952983256431],\"type\":\"bar\",\"xaxis\":\"x2\",\"yaxis\":\"y2\"},{\"x\":[\"Brand\",\"Holiday\",\"Person\",\"Interest and Hobbies\",\"Sport\",\"TV and Movies\",\"Other\",\"Video Game\",\"Entities\",\"Political\",\"Music\",\"Book\",\"News\"],\"y\":[6161.324953611799,0.0,11405.933321179751,6349.449833666478,4904.560848865289,8620.562870555867,7700.0451015605495,7452.611818181818,4442.669838244614,4931.441695963512,2034.7771929824564,0.0,4665.082496055322,4996.508271047779,7484.135789776986,4215.058220306965,4409.533791820966,6791.275543304537,5206.211029411765,2405.57461038961,4144.334790680195,7038.408089498221,3936.577402973614,588.7272727272727,5809.65652283457,8420.585254788406,7592.722903062885,5044.042860880974,5538.982338991229,8772.633111408142,6064.466392391613,6225.940052387914,3953.606537560753,17967.0923610823,7568.535464339582,4879.868127705628,20750.727272727272,5492.42758422622],\"type\":\"bar\",\"xaxis\":\"x2\",\"yaxis\":\"y2\"},{\"x\":[\"Brand\",\"Holiday\",\"Person\",\"Interest and Hobbies\",\"Sport\",\"TV and Movies\",\"Other\",\"Video Game\",\"Entities\",\"Political\",\"Music\",\"Book\",\"News\"],\"y\":[8397.003758303099,0.0,16495.659917818564,8041.262665727048,7691.170808104618,13423.078251975177,9932.260870057338,13191.224025974025,4927.927024858751,4810.937996031746,1658.6599999999999,0.0,6161.856997536249,7199.9446216826655,10228.782328033207,4380.884731259186,5575.398716236759,9909.9731846643,8683.752777777778,2372.1149404761904,4392.222083246218,7298.319482870071,4420.243650793651,485.0,7472.0120347381535,12737.26756723841,11830.320471354044,6284.556372995858,6045.937420804269,14651.952113311147,7674.550819491512,6824.274814814815,5461.193452380952,17372.553084392006,11845.919206349206,3539.3773674242425,33711.0,7248.952983256431],\"type\":\"bar\",\"xaxis\":\"x3\",\"yaxis\":\"y3\"},{\"x\":[\"Brand\",\"Holiday\",\"Person\",\"Interest and Hobbies\",\"Sport\",\"TV and Movies\",\"Other\",\"Video Game\",\"Entities\",\"Political\",\"Music\",\"Book\",\"News\"],\"y\":[6161.324953611799,0.0,11405.933321179751,6349.449833666478,4904.560848865289,8620.562870555867,7700.0451015605495,7452.611818181818,4442.669838244614,4931.441695963512,2034.7771929824564,0.0,4665.082496055322,4996.508271047779,7484.135789776986,4215.058220306965,4409.533791820966,6791.275543304537,5206.211029411765,2405.57461038961,4144.334790680195,7038.408089498221,3936.577402973614,588.7272727272727,5809.65652283457,8420.585254788406,7592.722903062885,5044.042860880974,5538.982338991229,8772.633111408142,6064.466392391613,6225.940052387914,3953.606537560753,17967.0923610823,7568.535464339582,4879.868127705628,20750.727272727272,5492.42758422622],\"type\":\"bar\",\"xaxis\":\"x3\",\"yaxis\":\"y3\"}],                        {\"template\":{\"data\":{\"histogram2dcontour\":[{\"type\":\"histogram2dcontour\",\"colorbar\":{\"outlinewidth\":0,\"ticks\":\"\"},\"colorscale\":[[0.0,\"#0d0887\"],[0.1111111111111111,\"#46039f\"],[0.2222222222222222,\"#7201a8\"],[0.3333333333333333,\"#9c179e\"],[0.4444444444444444,\"#bd3786\"],[0.5555555555555556,\"#d8576b\"],[0.6666666666666666,\"#ed7953\"],[0.7777777777777778,\"#fb9f3a\"],[0.8888888888888888,\"#fdca26\"],[1.0,\"#f0f921\"]]}],\"choropleth\":[{\"type\":\"choropleth\",\"colorbar\":{\"outlinewidth\":0,\"ticks\":\"\"}}],\"histogram2d\":[{\"type\":\"histogram2d\",\"colorbar\":{\"outlinewidth\":0,\"ticks\":\"\"},\"colorscale\":[[0.0,\"#0d0887\"],[0.1111111111111111,\"#46039f\"],[0.2222222222222222,\"#7201a8\"],[0.3333333333333333,\"#9c179e\"],[0.4444444444444444,\"#bd3786\"],[0.5555555555555556,\"#d8576b\"],[0.6666666666666666,\"#ed7953\"],[0.7777777777777778,\"#fb9f3a\"],[0.8888888888888888,\"#fdca26\"],[1.0,\"#f0f921\"]]}],\"heatmap\":[{\"type\":\"heatmap\",\"colorbar\":{\"outlinewidth\":0,\"ticks\":\"\"},\"colorscale\":[[0.0,\"#0d0887\"],[0.1111111111111111,\"#46039f\"],[0.2222222222222222,\"#7201a8\"],[0.3333333333333333,\"#9c179e\"],[0.4444444444444444,\"#bd3786\"],[0.5555555555555556,\"#d8576b\"],[0.6666666666666666,\"#ed7953\"],[0.7777777777777778,\"#fb9f3a\"],[0.8888888888888888,\"#fdca26\"],[1.0,\"#f0f921\"]]}],\"heatmapgl\":[{\"type\":\"heatmapgl\",\"colorbar\":{\"outlinewidth\":0,\"ticks\":\"\"},\"colorscale\":[[0.0,\"#0d0887\"],[0.1111111111111111,\"#46039f\"],[0.2222222222222222,\"#7201a8\"],[0.3333333333333333,\"#9c179e\"],[0.4444444444444444,\"#bd3786\"],[0.5555555555555556,\"#d8576b\"],[0.6666666666666666,\"#ed7953\"],[0.7777777777777778,\"#fb9f3a\"],[0.8888888888888888,\"#fdca26\"],[1.0,\"#f0f921\"]]}],\"contourcarpet\":[{\"type\":\"contourcarpet\",\"colorbar\":{\"outlinewidth\":0,\"ticks\":\"\"}}],\"contour\":[{\"type\":\"contour\",\"colorbar\":{\"outlinewidth\":0,\"ticks\":\"\"},\"colorscale\":[[0.0,\"#0d0887\"],[0.1111111111111111,\"#46039f\"],[0.2222222222222222,\"#7201a8\"],[0.3333333333333333,\"#9c179e\"],[0.4444444444444444,\"#bd3786\"],[0.5555555555555556,\"#d8576b\"],[0.6666666666666666,\"#ed7953\"],[0.7777777777777778,\"#fb9f3a\"],[0.8888888888888888,\"#fdca26\"],[1.0,\"#f0f921\"]]}],\"surface\":[{\"type\":\"surface\",\"colorbar\":{\"outlinewidth\":0,\"ticks\":\"\"},\"colorscale\":[[0.0,\"#0d0887\"],[0.1111111111111111,\"#46039f\"],[0.2222222222222222,\"#7201a8\"],[0.3333333333333333,\"#9c179e\"],[0.4444444444444444,\"#bd3786\"],[0.5555555555555556,\"#d8576b\"],[0.6666666666666666,\"#ed7953\"],[0.7777777777777778,\"#fb9f3a\"],[0.8888888888888888,\"#fdca26\"],[1.0,\"#f0f921\"]]}],\"mesh3d\":[{\"type\":\"mesh3d\",\"colorbar\":{\"outlinewidth\":0,\"ticks\":\"\"}}],\"scatter\":[{\"fillpattern\":{\"fillmode\":\"overlay\",\"size\":10,\"solidity\":0.2},\"type\":\"scatter\"}],\"parcoords\":[{\"type\":\"parcoords\",\"line\":{\"colorbar\":{\"outlinewidth\":0,\"ticks\":\"\"}}}],\"scatterpolargl\":[{\"type\":\"scatterpolargl\",\"marker\":{\"colorbar\":{\"outlinewidth\":0,\"ticks\":\"\"}}}],\"bar\":[{\"error_x\":{\"color\":\"#2a3f5f\"},\"error_y\":{\"color\":\"#2a3f5f\"},\"marker\":{\"line\":{\"color\":\"#E5ECF6\",\"width\":0.5},\"pattern\":{\"fillmode\":\"overlay\",\"size\":10,\"solidity\":0.2}},\"type\":\"bar\"}],\"scattergeo\":[{\"type\":\"scattergeo\",\"marker\":{\"colorbar\":{\"outlinewidth\":0,\"ticks\":\"\"}}}],\"scatterpolar\":[{\"type\":\"scatterpolar\",\"marker\":{\"colorbar\":{\"outlinewidth\":0,\"ticks\":\"\"}}}],\"histogram\":[{\"marker\":{\"pattern\":{\"fillmode\":\"overlay\",\"size\":10,\"solidity\":0.2}},\"type\":\"histogram\"}],\"scattergl\":[{\"type\":\"scattergl\",\"marker\":{\"colorbar\":{\"outlinewidth\":0,\"ticks\":\"\"}}}],\"scatter3d\":[{\"type\":\"scatter3d\",\"line\":{\"colorbar\":{\"outlinewidth\":0,\"ticks\":\"\"}},\"marker\":{\"colorbar\":{\"outlinewidth\":0,\"ticks\":\"\"}}}],\"scattermapbox\":[{\"type\":\"scattermapbox\",\"marker\":{\"colorbar\":{\"outlinewidth\":0,\"ticks\":\"\"}}}],\"scatterternary\":[{\"type\":\"scatterternary\",\"marker\":{\"colorbar\":{\"outlinewidth\":0,\"ticks\":\"\"}}}],\"scattercarpet\":[{\"type\":\"scattercarpet\",\"marker\":{\"colorbar\":{\"outlinewidth\":0,\"ticks\":\"\"}}}],\"carpet\":[{\"aaxis\":{\"endlinecolor\":\"#2a3f5f\",\"gridcolor\":\"white\",\"linecolor\":\"white\",\"minorgridcolor\":\"white\",\"startlinecolor\":\"#2a3f5f\"},\"baxis\":{\"endlinecolor\":\"#2a3f5f\",\"gridcolor\":\"white\",\"linecolor\":\"white\",\"minorgridcolor\":\"white\",\"startlinecolor\":\"#2a3f5f\"},\"type\":\"carpet\"}],\"table\":[{\"cells\":{\"fill\":{\"color\":\"#EBF0F8\"},\"line\":{\"color\":\"white\"}},\"header\":{\"fill\":{\"color\":\"#C8D4E3\"},\"line\":{\"color\":\"white\"}},\"type\":\"table\"}],\"barpolar\":[{\"marker\":{\"line\":{\"color\":\"#E5ECF6\",\"width\":0.5},\"pattern\":{\"fillmode\":\"overlay\",\"size\":10,\"solidity\":0.2}},\"type\":\"barpolar\"}],\"pie\":[{\"automargin\":true,\"type\":\"pie\"}]},\"layout\":{\"autotypenumbers\":\"strict\",\"colorway\":[\"#636efa\",\"#EF553B\",\"#00cc96\",\"#ab63fa\",\"#FFA15A\",\"#19d3f3\",\"#FF6692\",\"#B6E880\",\"#FF97FF\",\"#FECB52\"],\"font\":{\"color\":\"#2a3f5f\"},\"hovermode\":\"closest\",\"hoverlabel\":{\"align\":\"left\"},\"paper_bgcolor\":\"white\",\"plot_bgcolor\":\"#E5ECF6\",\"polar\":{\"bgcolor\":\"#E5ECF6\",\"angularaxis\":{\"gridcolor\":\"white\",\"linecolor\":\"white\",\"ticks\":\"\"},\"radialaxis\":{\"gridcolor\":\"white\",\"linecolor\":\"white\",\"ticks\":\"\"}},\"ternary\":{\"bgcolor\":\"#E5ECF6\",\"aaxis\":{\"gridcolor\":\"white\",\"linecolor\":\"white\",\"ticks\":\"\"},\"baxis\":{\"gridcolor\":\"white\",\"linecolor\":\"white\",\"ticks\":\"\"},\"caxis\":{\"gridcolor\":\"white\",\"linecolor\":\"white\",\"ticks\":\"\"}},\"coloraxis\":{\"colorbar\":{\"outlinewidth\":0,\"ticks\":\"\"}},\"colorscale\":{\"sequential\":[[0.0,\"#0d0887\"],[0.1111111111111111,\"#46039f\"],[0.2222222222222222,\"#7201a8\"],[0.3333333333333333,\"#9c179e\"],[0.4444444444444444,\"#bd3786\"],[0.5555555555555556,\"#d8576b\"],[0.6666666666666666,\"#ed7953\"],[0.7777777777777778,\"#fb9f3a\"],[0.8888888888888888,\"#fdca26\"],[1.0,\"#f0f921\"]],\"sequentialminus\":[[0.0,\"#0d0887\"],[0.1111111111111111,\"#46039f\"],[0.2222222222222222,\"#7201a8\"],[0.3333333333333333,\"#9c179e\"],[0.4444444444444444,\"#bd3786\"],[0.5555555555555556,\"#d8576b\"],[0.6666666666666666,\"#ed7953\"],[0.7777777777777778,\"#fb9f3a\"],[0.8888888888888888,\"#fdca26\"],[1.0,\"#f0f921\"]],\"diverging\":[[0,\"#8e0152\"],[0.1,\"#c51b7d\"],[0.2,\"#de77ae\"],[0.3,\"#f1b6da\"],[0.4,\"#fde0ef\"],[0.5,\"#f7f7f7\"],[0.6,\"#e6f5d0\"],[0.7,\"#b8e186\"],[0.8,\"#7fbc41\"],[0.9,\"#4d9221\"],[1,\"#276419\"]]},\"xaxis\":{\"gridcolor\":\"white\",\"linecolor\":\"white\",\"ticks\":\"\",\"title\":{\"standoff\":15},\"zerolinecolor\":\"white\",\"automargin\":true,\"zerolinewidth\":2},\"yaxis\":{\"gridcolor\":\"white\",\"linecolor\":\"white\",\"ticks\":\"\",\"title\":{\"standoff\":15},\"zerolinecolor\":\"white\",\"automargin\":true,\"zerolinewidth\":2},\"scene\":{\"xaxis\":{\"backgroundcolor\":\"#E5ECF6\",\"gridcolor\":\"white\",\"linecolor\":\"white\",\"showbackground\":true,\"ticks\":\"\",\"zerolinecolor\":\"white\",\"gridwidth\":2},\"yaxis\":{\"backgroundcolor\":\"#E5ECF6\",\"gridcolor\":\"white\",\"linecolor\":\"white\",\"showbackground\":true,\"ticks\":\"\",\"zerolinecolor\":\"white\",\"gridwidth\":2},\"zaxis\":{\"backgroundcolor\":\"#E5ECF6\",\"gridcolor\":\"white\",\"linecolor\":\"white\",\"showbackground\":true,\"ticks\":\"\",\"zerolinecolor\":\"white\",\"gridwidth\":2}},\"shapedefaults\":{\"line\":{\"color\":\"#2a3f5f\"}},\"annotationdefaults\":{\"arrowcolor\":\"#2a3f5f\",\"arrowhead\":0,\"arrowwidth\":1},\"geo\":{\"bgcolor\":\"white\",\"landcolor\":\"#E5ECF6\",\"subunitcolor\":\"white\",\"showland\":true,\"showlakes\":true,\"lakecolor\":\"white\"},\"title\":{\"x\":0.05},\"mapbox\":{\"style\":\"light\"}}},\"xaxis\":{\"anchor\":\"y\",\"domain\":[0.0,0.2888888888888889],\"matches\":\"x\"},\"yaxis\":{\"anchor\":\"x\",\"domain\":[0.0,1.0]},\"xaxis2\":{\"anchor\":\"y2\",\"domain\":[0.35555555555555557,0.6444444444444445],\"matches\":\"x\"},\"yaxis2\":{\"anchor\":\"x2\",\"domain\":[0.0,1.0]},\"xaxis3\":{\"anchor\":\"y3\",\"domain\":[0.7111111111111111,1.0],\"matches\":\"x\"},\"yaxis3\":{\"anchor\":\"x3\",\"domain\":[0.0,1.0]}},                        {\"responsive\": true}                    ).then(function(){\n                            \nvar gd = document.getElementById('5e449754-5ba5-4268-b5b7-4f549e428eef');\nvar x = new MutationObserver(function (mutations, observer) {{\n        var display = window.getComputedStyle(gd).display;\n        if (!display || display === 'none') {{\n            console.log([gd, 'removed!']);\n            Plotly.purge(gd);\n            observer.disconnect();\n        }}\n}});\n\n// Listen for the removal of the full notebook cells\nvar notebookContainer = gd.closest('#notebook-container');\nif (notebookContainer) {{\n    x.observe(notebookContainer, {childList: true});\n}}\n\n// Listen for the clearing of the current output cell\nvar outputEl = gd.closest('.output');\nif (outputEl) {{\n    x.observe(outputEl, {childList: true});\n}}\n\n                        })                };                });            </script>        </div>"
     },
     "metadata": {},
     "output_type": "display_data"
    }
   ],
   "source": [
    "fig = make_subplots(1, 3)\n",
    "for i in range(1, 4):\n",
    "    fig.add_trace(go.Bar(x=topics_categories, y=df_retweeters_chars_10['Average Retweeters Followers First Half']), 1, i)\n",
    "    fig.add_trace(go.Bar(x=topics_categories, y=df_retweeters_chars_10['Average Retweeters Followers Second Half']), 1, i)\n",
    "fig.update_xaxes(matches='x')\n",
    "fig.show()"
   ],
   "metadata": {
    "collapsed": false,
    "pycharm": {
     "name": "#%%\n"
    }
   }
  },
  {
   "cell_type": "code",
   "execution_count": 192,
   "outputs": [
    {
     "data": {
      "application/vnd.plotly.v1+json": {
       "data": [
        {
         "marker": {
          "color": "#006D77"
         },
         "name": "Average Retweeters Followers First Half 2019",
         "text": [
          "8397.003758303099",
          "0.0",
          "16495.659917818564",
          "8041.262665727048",
          "7691.170808104618",
          "13423.078251975177",
          "9932.260870057338",
          "13191.224025974025",
          "4927.927024858751",
          "4810.937996031746",
          "1658.6599999999999",
          "0.0"
         ],
         "textposition": "inside",
         "width": 0.28,
         "x": [
          "Brand",
          "Holiday",
          "Person",
          "Interest and Hobbies",
          "Sport",
          "TV and Movies",
          "Other",
          "Video Game",
          "Entities",
          "Political",
          "Music",
          "Book"
         ],
         "y": [
          8397.003758303099,
          0.0,
          16495.659917818564,
          8041.262665727048,
          7691.170808104618,
          13423.078251975177,
          9932.260870057338,
          13191.224025974025,
          4927.927024858751,
          4810.937996031746,
          1658.6599999999999,
          0.0
         ],
         "type": "bar",
         "xaxis": "x",
         "yaxis": "y"
        },
        {
         "marker": {
          "color": "#00B2CA"
         },
         "name": "Average Retweeters Followers Second Half 2019",
         "x": [
          "Brand",
          "Holiday",
          "Person",
          "Interest and Hobbies",
          "Sport",
          "TV and Movies",
          "Other",
          "Video Game",
          "Entities",
          "Political",
          "Music",
          "Book"
         ],
         "y": [
          6161.324953611799,
          0.0,
          11405.933321179751,
          6349.449833666478,
          4904.560848865289,
          8620.562870555867,
          7700.0451015605495,
          7452.611818181818,
          4442.669838244614,
          4931.441695963512,
          2034.7771929824564,
          0.0
         ],
         "type": "scatter",
         "xaxis": "x",
         "yaxis": "y2"
        },
        {
         "marker": {
          "color": "#FBD1A2"
         },
         "name": "Average Retweeters Followers First Half 2020",
         "text": [
          "6161.856997536249",
          "7199.9446216826655",
          "10228.782328033207",
          "4380.884731259186",
          "5575.398716236759",
          "9909.9731846643",
          "8683.752777777778",
          "2372.1149404761904",
          "4392.222083246218",
          "7298.319482870071",
          "4420.243650793651",
          "485.0",
          "7472.0120347381535"
         ],
         "textposition": "inside",
         "width": 0.28,
         "x": [
          "Brand",
          "Holiday",
          "Person",
          "Interest and Hobbies",
          "Sport",
          "TV and Movies",
          "Other",
          "Video Game",
          "Entities",
          "Political",
          "Music",
          "Book",
          "News"
         ],
         "y": [
          6161.856997536249,
          7199.9446216826655,
          10228.782328033207,
          4380.884731259186,
          5575.398716236759,
          9909.9731846643,
          8683.752777777778,
          2372.1149404761904,
          4392.222083246218,
          7298.319482870071,
          4420.243650793651,
          485.0,
          7472.0120347381535
         ],
         "type": "bar",
         "xaxis": "x",
         "yaxis": "y"
        },
        {
         "marker": {
          "color": "#1D4E89"
         },
         "name": "Average Retweeters Followers Second Half 2020",
         "x": [
          "Brand",
          "Holiday",
          "Person",
          "Interest and Hobbies",
          "Sport",
          "TV and Movies",
          "Other",
          "Video Game",
          "Entities",
          "Political",
          "Music",
          "Book",
          "News"
         ],
         "y": [
          4665.082496055322,
          4996.508271047779,
          7484.135789776986,
          4215.058220306965,
          4409.533791820966,
          6791.275543304537,
          5206.211029411765,
          2405.57461038961,
          4144.334790680195,
          7038.408089498221,
          3936.577402973614,
          588.7272727272727,
          5809.65652283457
         ],
         "type": "scatter",
         "xaxis": "x",
         "yaxis": "y2"
        },
        {
         "marker": {
          "color": "#7DCFB6"
         },
         "name": "Average Retweeters Followers First Half 2021",
         "text": [
          "12737.26756723841",
          "11830.320471354044",
          "6284.556372995858",
          "6045.937420804269",
          "14651.952113311147",
          "7674.550819491512",
          "6824.274814814815",
          "5461.193452380952",
          "17372.553084392006",
          "11845.919206349206",
          "3539.3773674242425",
          "33711.0",
          "7248.952983256431"
         ],
         "textposition": "inside",
         "width": 0.28,
         "x": [
          "Brand",
          "Holiday",
          "Person",
          "Interest and Hobbies",
          "Sport",
          "TV and Movies",
          "Other",
          "Video Game",
          "Entities",
          "Political",
          "Music",
          "Book",
          "News"
         ],
         "y": [
          12737.26756723841,
          11830.320471354044,
          6284.556372995858,
          6045.937420804269,
          14651.952113311147,
          7674.550819491512,
          6824.274814814815,
          5461.193452380952,
          17372.553084392006,
          11845.919206349206,
          3539.3773674242425,
          33711.0,
          7248.952983256431
         ],
         "type": "bar",
         "xaxis": "x",
         "yaxis": "y"
        },
        {
         "marker": {
          "color": "#F79256"
         },
         "name": "Average Retweeters Followers Second Half 2021",
         "x": [
          "Brand",
          "Holiday",
          "Person",
          "Interest and Hobbies",
          "Sport",
          "TV and Movies",
          "Other",
          "Video Game",
          "Entities",
          "Political",
          "Music",
          "Book",
          "News"
         ],
         "y": [
          8420.585254788406,
          7592.722903062885,
          5044.042860880974,
          5538.982338991229,
          8772.633111408142,
          6064.466392391613,
          6225.940052387914,
          3953.606537560753,
          17967.0923610823,
          7568.535464339582,
          4879.868127705628,
          20750.727272727272,
          5492.42758422622
         ],
         "type": "scatter",
         "xaxis": "x",
         "yaxis": "y2"
        }
       ],
       "layout": {
        "template": {
         "data": {
          "histogram2dcontour": [
           {
            "type": "histogram2dcontour",
            "colorbar": {
             "outlinewidth": 0,
             "ticks": ""
            },
            "colorscale": [
             [
              0.0,
              "#0d0887"
             ],
             [
              0.1111111111111111,
              "#46039f"
             ],
             [
              0.2222222222222222,
              "#7201a8"
             ],
             [
              0.3333333333333333,
              "#9c179e"
             ],
             [
              0.4444444444444444,
              "#bd3786"
             ],
             [
              0.5555555555555556,
              "#d8576b"
             ],
             [
              0.6666666666666666,
              "#ed7953"
             ],
             [
              0.7777777777777778,
              "#fb9f3a"
             ],
             [
              0.8888888888888888,
              "#fdca26"
             ],
             [
              1.0,
              "#f0f921"
             ]
            ]
           }
          ],
          "choropleth": [
           {
            "type": "choropleth",
            "colorbar": {
             "outlinewidth": 0,
             "ticks": ""
            }
           }
          ],
          "histogram2d": [
           {
            "type": "histogram2d",
            "colorbar": {
             "outlinewidth": 0,
             "ticks": ""
            },
            "colorscale": [
             [
              0.0,
              "#0d0887"
             ],
             [
              0.1111111111111111,
              "#46039f"
             ],
             [
              0.2222222222222222,
              "#7201a8"
             ],
             [
              0.3333333333333333,
              "#9c179e"
             ],
             [
              0.4444444444444444,
              "#bd3786"
             ],
             [
              0.5555555555555556,
              "#d8576b"
             ],
             [
              0.6666666666666666,
              "#ed7953"
             ],
             [
              0.7777777777777778,
              "#fb9f3a"
             ],
             [
              0.8888888888888888,
              "#fdca26"
             ],
             [
              1.0,
              "#f0f921"
             ]
            ]
           }
          ],
          "heatmap": [
           {
            "type": "heatmap",
            "colorbar": {
             "outlinewidth": 0,
             "ticks": ""
            },
            "colorscale": [
             [
              0.0,
              "#0d0887"
             ],
             [
              0.1111111111111111,
              "#46039f"
             ],
             [
              0.2222222222222222,
              "#7201a8"
             ],
             [
              0.3333333333333333,
              "#9c179e"
             ],
             [
              0.4444444444444444,
              "#bd3786"
             ],
             [
              0.5555555555555556,
              "#d8576b"
             ],
             [
              0.6666666666666666,
              "#ed7953"
             ],
             [
              0.7777777777777778,
              "#fb9f3a"
             ],
             [
              0.8888888888888888,
              "#fdca26"
             ],
             [
              1.0,
              "#f0f921"
             ]
            ]
           }
          ],
          "heatmapgl": [
           {
            "type": "heatmapgl",
            "colorbar": {
             "outlinewidth": 0,
             "ticks": ""
            },
            "colorscale": [
             [
              0.0,
              "#0d0887"
             ],
             [
              0.1111111111111111,
              "#46039f"
             ],
             [
              0.2222222222222222,
              "#7201a8"
             ],
             [
              0.3333333333333333,
              "#9c179e"
             ],
             [
              0.4444444444444444,
              "#bd3786"
             ],
             [
              0.5555555555555556,
              "#d8576b"
             ],
             [
              0.6666666666666666,
              "#ed7953"
             ],
             [
              0.7777777777777778,
              "#fb9f3a"
             ],
             [
              0.8888888888888888,
              "#fdca26"
             ],
             [
              1.0,
              "#f0f921"
             ]
            ]
           }
          ],
          "contourcarpet": [
           {
            "type": "contourcarpet",
            "colorbar": {
             "outlinewidth": 0,
             "ticks": ""
            }
           }
          ],
          "contour": [
           {
            "type": "contour",
            "colorbar": {
             "outlinewidth": 0,
             "ticks": ""
            },
            "colorscale": [
             [
              0.0,
              "#0d0887"
             ],
             [
              0.1111111111111111,
              "#46039f"
             ],
             [
              0.2222222222222222,
              "#7201a8"
             ],
             [
              0.3333333333333333,
              "#9c179e"
             ],
             [
              0.4444444444444444,
              "#bd3786"
             ],
             [
              0.5555555555555556,
              "#d8576b"
             ],
             [
              0.6666666666666666,
              "#ed7953"
             ],
             [
              0.7777777777777778,
              "#fb9f3a"
             ],
             [
              0.8888888888888888,
              "#fdca26"
             ],
             [
              1.0,
              "#f0f921"
             ]
            ]
           }
          ],
          "surface": [
           {
            "type": "surface",
            "colorbar": {
             "outlinewidth": 0,
             "ticks": ""
            },
            "colorscale": [
             [
              0.0,
              "#0d0887"
             ],
             [
              0.1111111111111111,
              "#46039f"
             ],
             [
              0.2222222222222222,
              "#7201a8"
             ],
             [
              0.3333333333333333,
              "#9c179e"
             ],
             [
              0.4444444444444444,
              "#bd3786"
             ],
             [
              0.5555555555555556,
              "#d8576b"
             ],
             [
              0.6666666666666666,
              "#ed7953"
             ],
             [
              0.7777777777777778,
              "#fb9f3a"
             ],
             [
              0.8888888888888888,
              "#fdca26"
             ],
             [
              1.0,
              "#f0f921"
             ]
            ]
           }
          ],
          "mesh3d": [
           {
            "type": "mesh3d",
            "colorbar": {
             "outlinewidth": 0,
             "ticks": ""
            }
           }
          ],
          "scatter": [
           {
            "fillpattern": {
             "fillmode": "overlay",
             "size": 10,
             "solidity": 0.2
            },
            "type": "scatter"
           }
          ],
          "parcoords": [
           {
            "type": "parcoords",
            "line": {
             "colorbar": {
              "outlinewidth": 0,
              "ticks": ""
             }
            }
           }
          ],
          "scatterpolargl": [
           {
            "type": "scatterpolargl",
            "marker": {
             "colorbar": {
              "outlinewidth": 0,
              "ticks": ""
             }
            }
           }
          ],
          "bar": [
           {
            "error_x": {
             "color": "#2a3f5f"
            },
            "error_y": {
             "color": "#2a3f5f"
            },
            "marker": {
             "line": {
              "color": "#E5ECF6",
              "width": 0.5
             },
             "pattern": {
              "fillmode": "overlay",
              "size": 10,
              "solidity": 0.2
             }
            },
            "type": "bar"
           }
          ],
          "scattergeo": [
           {
            "type": "scattergeo",
            "marker": {
             "colorbar": {
              "outlinewidth": 0,
              "ticks": ""
             }
            }
           }
          ],
          "scatterpolar": [
           {
            "type": "scatterpolar",
            "marker": {
             "colorbar": {
              "outlinewidth": 0,
              "ticks": ""
             }
            }
           }
          ],
          "histogram": [
           {
            "marker": {
             "pattern": {
              "fillmode": "overlay",
              "size": 10,
              "solidity": 0.2
             }
            },
            "type": "histogram"
           }
          ],
          "scattergl": [
           {
            "type": "scattergl",
            "marker": {
             "colorbar": {
              "outlinewidth": 0,
              "ticks": ""
             }
            }
           }
          ],
          "scatter3d": [
           {
            "type": "scatter3d",
            "line": {
             "colorbar": {
              "outlinewidth": 0,
              "ticks": ""
             }
            },
            "marker": {
             "colorbar": {
              "outlinewidth": 0,
              "ticks": ""
             }
            }
           }
          ],
          "scattermapbox": [
           {
            "type": "scattermapbox",
            "marker": {
             "colorbar": {
              "outlinewidth": 0,
              "ticks": ""
             }
            }
           }
          ],
          "scatterternary": [
           {
            "type": "scatterternary",
            "marker": {
             "colorbar": {
              "outlinewidth": 0,
              "ticks": ""
             }
            }
           }
          ],
          "scattercarpet": [
           {
            "type": "scattercarpet",
            "marker": {
             "colorbar": {
              "outlinewidth": 0,
              "ticks": ""
             }
            }
           }
          ],
          "carpet": [
           {
            "aaxis": {
             "endlinecolor": "#2a3f5f",
             "gridcolor": "white",
             "linecolor": "white",
             "minorgridcolor": "white",
             "startlinecolor": "#2a3f5f"
            },
            "baxis": {
             "endlinecolor": "#2a3f5f",
             "gridcolor": "white",
             "linecolor": "white",
             "minorgridcolor": "white",
             "startlinecolor": "#2a3f5f"
            },
            "type": "carpet"
           }
          ],
          "table": [
           {
            "cells": {
             "fill": {
              "color": "#EBF0F8"
             },
             "line": {
              "color": "white"
             }
            },
            "header": {
             "fill": {
              "color": "#C8D4E3"
             },
             "line": {
              "color": "white"
             }
            },
            "type": "table"
           }
          ],
          "barpolar": [
           {
            "marker": {
             "line": {
              "color": "#E5ECF6",
              "width": 0.5
             },
             "pattern": {
              "fillmode": "overlay",
              "size": 10,
              "solidity": 0.2
             }
            },
            "type": "barpolar"
           }
          ],
          "pie": [
           {
            "automargin": true,
            "type": "pie"
           }
          ]
         },
         "layout": {
          "autotypenumbers": "strict",
          "colorway": [
           "#636efa",
           "#EF553B",
           "#00cc96",
           "#ab63fa",
           "#FFA15A",
           "#19d3f3",
           "#FF6692",
           "#B6E880",
           "#FF97FF",
           "#FECB52"
          ],
          "font": {
           "color": "#2a3f5f"
          },
          "hovermode": "closest",
          "hoverlabel": {
           "align": "left"
          },
          "paper_bgcolor": "white",
          "plot_bgcolor": "#E5ECF6",
          "polar": {
           "bgcolor": "#E5ECF6",
           "angularaxis": {
            "gridcolor": "white",
            "linecolor": "white",
            "ticks": ""
           },
           "radialaxis": {
            "gridcolor": "white",
            "linecolor": "white",
            "ticks": ""
           }
          },
          "ternary": {
           "bgcolor": "#E5ECF6",
           "aaxis": {
            "gridcolor": "white",
            "linecolor": "white",
            "ticks": ""
           },
           "baxis": {
            "gridcolor": "white",
            "linecolor": "white",
            "ticks": ""
           },
           "caxis": {
            "gridcolor": "white",
            "linecolor": "white",
            "ticks": ""
           }
          },
          "coloraxis": {
           "colorbar": {
            "outlinewidth": 0,
            "ticks": ""
           }
          },
          "colorscale": {
           "sequential": [
            [
             0.0,
             "#0d0887"
            ],
            [
             0.1111111111111111,
             "#46039f"
            ],
            [
             0.2222222222222222,
             "#7201a8"
            ],
            [
             0.3333333333333333,
             "#9c179e"
            ],
            [
             0.4444444444444444,
             "#bd3786"
            ],
            [
             0.5555555555555556,
             "#d8576b"
            ],
            [
             0.6666666666666666,
             "#ed7953"
            ],
            [
             0.7777777777777778,
             "#fb9f3a"
            ],
            [
             0.8888888888888888,
             "#fdca26"
            ],
            [
             1.0,
             "#f0f921"
            ]
           ],
           "sequentialminus": [
            [
             0.0,
             "#0d0887"
            ],
            [
             0.1111111111111111,
             "#46039f"
            ],
            [
             0.2222222222222222,
             "#7201a8"
            ],
            [
             0.3333333333333333,
             "#9c179e"
            ],
            [
             0.4444444444444444,
             "#bd3786"
            ],
            [
             0.5555555555555556,
             "#d8576b"
            ],
            [
             0.6666666666666666,
             "#ed7953"
            ],
            [
             0.7777777777777778,
             "#fb9f3a"
            ],
            [
             0.8888888888888888,
             "#fdca26"
            ],
            [
             1.0,
             "#f0f921"
            ]
           ],
           "diverging": [
            [
             0,
             "#8e0152"
            ],
            [
             0.1,
             "#c51b7d"
            ],
            [
             0.2,
             "#de77ae"
            ],
            [
             0.3,
             "#f1b6da"
            ],
            [
             0.4,
             "#fde0ef"
            ],
            [
             0.5,
             "#f7f7f7"
            ],
            [
             0.6,
             "#e6f5d0"
            ],
            [
             0.7,
             "#b8e186"
            ],
            [
             0.8,
             "#7fbc41"
            ],
            [
             0.9,
             "#4d9221"
            ],
            [
             1,
             "#276419"
            ]
           ]
          },
          "xaxis": {
           "gridcolor": "white",
           "linecolor": "white",
           "ticks": "",
           "title": {
            "standoff": 15
           },
           "zerolinecolor": "white",
           "automargin": true,
           "zerolinewidth": 2
          },
          "yaxis": {
           "gridcolor": "white",
           "linecolor": "white",
           "ticks": "",
           "title": {
            "standoff": 15
           },
           "zerolinecolor": "white",
           "automargin": true,
           "zerolinewidth": 2
          },
          "scene": {
           "xaxis": {
            "backgroundcolor": "#E5ECF6",
            "gridcolor": "white",
            "linecolor": "white",
            "showbackground": true,
            "ticks": "",
            "zerolinecolor": "white",
            "gridwidth": 2
           },
           "yaxis": {
            "backgroundcolor": "#E5ECF6",
            "gridcolor": "white",
            "linecolor": "white",
            "showbackground": true,
            "ticks": "",
            "zerolinecolor": "white",
            "gridwidth": 2
           },
           "zaxis": {
            "backgroundcolor": "#E5ECF6",
            "gridcolor": "white",
            "linecolor": "white",
            "showbackground": true,
            "ticks": "",
            "zerolinecolor": "white",
            "gridwidth": 2
           }
          },
          "shapedefaults": {
           "line": {
            "color": "#2a3f5f"
           }
          },
          "annotationdefaults": {
           "arrowcolor": "#2a3f5f",
           "arrowhead": 0,
           "arrowwidth": 1
          },
          "geo": {
           "bgcolor": "white",
           "landcolor": "#E5ECF6",
           "subunitcolor": "white",
           "showland": true,
           "showlakes": true,
           "lakecolor": "white"
          },
          "title": {
           "x": 0.05
          },
          "mapbox": {
           "style": "light"
          }
         }
        },
        "xaxis": {
         "anchor": "y",
         "domain": [
          0.0,
          0.94
         ],
         "title": {
          "text": "Topics"
         }
        },
        "yaxis": {
         "anchor": "x",
         "domain": [
          0.0,
          1.0
         ],
         "title": {
          "text": "Average Retweeters Followers First Half"
         }
        },
        "yaxis2": {
         "anchor": "x",
         "overlaying": "y",
         "side": "right",
         "title": {
          "text": "Average Retweeters Followers Second Half"
         }
        },
        "title": {
         "text": "Average retweeters followers count split by median"
        },
        "width": 1100,
        "height": 500
       },
       "config": {
        "plotlyServerURL": "https://plot.ly"
       }
      },
      "text/html": "<div>                            <div id=\"bc60459a-36aa-4b67-a1ac-6bb588bcb644\" class=\"plotly-graph-div\" style=\"height:500px; width:1100px;\"></div>            <script type=\"text/javascript\">                require([\"plotly\"], function(Plotly) {                    window.PLOTLYENV=window.PLOTLYENV || {};                                    if (document.getElementById(\"bc60459a-36aa-4b67-a1ac-6bb588bcb644\")) {                    Plotly.newPlot(                        \"bc60459a-36aa-4b67-a1ac-6bb588bcb644\",                        [{\"marker\":{\"color\":\"#006D77\"},\"name\":\"Average Retweeters Followers First Half 2019\",\"text\":[\"8397.003758303099\",\"0.0\",\"16495.659917818564\",\"8041.262665727048\",\"7691.170808104618\",\"13423.078251975177\",\"9932.260870057338\",\"13191.224025974025\",\"4927.927024858751\",\"4810.937996031746\",\"1658.6599999999999\",\"0.0\"],\"textposition\":\"inside\",\"width\":0.28,\"x\":[\"Brand\",\"Holiday\",\"Person\",\"Interest and Hobbies\",\"Sport\",\"TV and Movies\",\"Other\",\"Video Game\",\"Entities\",\"Political\",\"Music\",\"Book\"],\"y\":[8397.003758303099,0.0,16495.659917818564,8041.262665727048,7691.170808104618,13423.078251975177,9932.260870057338,13191.224025974025,4927.927024858751,4810.937996031746,1658.6599999999999,0.0],\"type\":\"bar\",\"xaxis\":\"x\",\"yaxis\":\"y\"},{\"marker\":{\"color\":\"#00B2CA\"},\"name\":\"Average Retweeters Followers Second Half 2019\",\"x\":[\"Brand\",\"Holiday\",\"Person\",\"Interest and Hobbies\",\"Sport\",\"TV and Movies\",\"Other\",\"Video Game\",\"Entities\",\"Political\",\"Music\",\"Book\"],\"y\":[6161.324953611799,0.0,11405.933321179751,6349.449833666478,4904.560848865289,8620.562870555867,7700.0451015605495,7452.611818181818,4442.669838244614,4931.441695963512,2034.7771929824564,0.0],\"type\":\"scatter\",\"xaxis\":\"x\",\"yaxis\":\"y2\"},{\"marker\":{\"color\":\"#FBD1A2\"},\"name\":\"Average Retweeters Followers First Half 2020\",\"text\":[\"6161.856997536249\",\"7199.9446216826655\",\"10228.782328033207\",\"4380.884731259186\",\"5575.398716236759\",\"9909.9731846643\",\"8683.752777777778\",\"2372.1149404761904\",\"4392.222083246218\",\"7298.319482870071\",\"4420.243650793651\",\"485.0\",\"7472.0120347381535\"],\"textposition\":\"inside\",\"width\":0.28,\"x\":[\"Brand\",\"Holiday\",\"Person\",\"Interest and Hobbies\",\"Sport\",\"TV and Movies\",\"Other\",\"Video Game\",\"Entities\",\"Political\",\"Music\",\"Book\",\"News\"],\"y\":[6161.856997536249,7199.9446216826655,10228.782328033207,4380.884731259186,5575.398716236759,9909.9731846643,8683.752777777778,2372.1149404761904,4392.222083246218,7298.319482870071,4420.243650793651,485.0,7472.0120347381535],\"type\":\"bar\",\"xaxis\":\"x\",\"yaxis\":\"y\"},{\"marker\":{\"color\":\"#1D4E89\"},\"name\":\"Average Retweeters Followers Second Half 2020\",\"x\":[\"Brand\",\"Holiday\",\"Person\",\"Interest and Hobbies\",\"Sport\",\"TV and Movies\",\"Other\",\"Video Game\",\"Entities\",\"Political\",\"Music\",\"Book\",\"News\"],\"y\":[4665.082496055322,4996.508271047779,7484.135789776986,4215.058220306965,4409.533791820966,6791.275543304537,5206.211029411765,2405.57461038961,4144.334790680195,7038.408089498221,3936.577402973614,588.7272727272727,5809.65652283457],\"type\":\"scatter\",\"xaxis\":\"x\",\"yaxis\":\"y2\"},{\"marker\":{\"color\":\"#7DCFB6\"},\"name\":\"Average Retweeters Followers First Half 2021\",\"text\":[\"12737.26756723841\",\"11830.320471354044\",\"6284.556372995858\",\"6045.937420804269\",\"14651.952113311147\",\"7674.550819491512\",\"6824.274814814815\",\"5461.193452380952\",\"17372.553084392006\",\"11845.919206349206\",\"3539.3773674242425\",\"33711.0\",\"7248.952983256431\"],\"textposition\":\"inside\",\"width\":0.28,\"x\":[\"Brand\",\"Holiday\",\"Person\",\"Interest and Hobbies\",\"Sport\",\"TV and Movies\",\"Other\",\"Video Game\",\"Entities\",\"Political\",\"Music\",\"Book\",\"News\"],\"y\":[12737.26756723841,11830.320471354044,6284.556372995858,6045.937420804269,14651.952113311147,7674.550819491512,6824.274814814815,5461.193452380952,17372.553084392006,11845.919206349206,3539.3773674242425,33711.0,7248.952983256431],\"type\":\"bar\",\"xaxis\":\"x\",\"yaxis\":\"y\"},{\"marker\":{\"color\":\"#F79256\"},\"name\":\"Average Retweeters Followers Second Half 2021\",\"x\":[\"Brand\",\"Holiday\",\"Person\",\"Interest and Hobbies\",\"Sport\",\"TV and Movies\",\"Other\",\"Video Game\",\"Entities\",\"Political\",\"Music\",\"Book\",\"News\"],\"y\":[8420.585254788406,7592.722903062885,5044.042860880974,5538.982338991229,8772.633111408142,6064.466392391613,6225.940052387914,3953.606537560753,17967.0923610823,7568.535464339582,4879.868127705628,20750.727272727272,5492.42758422622],\"type\":\"scatter\",\"xaxis\":\"x\",\"yaxis\":\"y2\"}],                        {\"template\":{\"data\":{\"histogram2dcontour\":[{\"type\":\"histogram2dcontour\",\"colorbar\":{\"outlinewidth\":0,\"ticks\":\"\"},\"colorscale\":[[0.0,\"#0d0887\"],[0.1111111111111111,\"#46039f\"],[0.2222222222222222,\"#7201a8\"],[0.3333333333333333,\"#9c179e\"],[0.4444444444444444,\"#bd3786\"],[0.5555555555555556,\"#d8576b\"],[0.6666666666666666,\"#ed7953\"],[0.7777777777777778,\"#fb9f3a\"],[0.8888888888888888,\"#fdca26\"],[1.0,\"#f0f921\"]]}],\"choropleth\":[{\"type\":\"choropleth\",\"colorbar\":{\"outlinewidth\":0,\"ticks\":\"\"}}],\"histogram2d\":[{\"type\":\"histogram2d\",\"colorbar\":{\"outlinewidth\":0,\"ticks\":\"\"},\"colorscale\":[[0.0,\"#0d0887\"],[0.1111111111111111,\"#46039f\"],[0.2222222222222222,\"#7201a8\"],[0.3333333333333333,\"#9c179e\"],[0.4444444444444444,\"#bd3786\"],[0.5555555555555556,\"#d8576b\"],[0.6666666666666666,\"#ed7953\"],[0.7777777777777778,\"#fb9f3a\"],[0.8888888888888888,\"#fdca26\"],[1.0,\"#f0f921\"]]}],\"heatmap\":[{\"type\":\"heatmap\",\"colorbar\":{\"outlinewidth\":0,\"ticks\":\"\"},\"colorscale\":[[0.0,\"#0d0887\"],[0.1111111111111111,\"#46039f\"],[0.2222222222222222,\"#7201a8\"],[0.3333333333333333,\"#9c179e\"],[0.4444444444444444,\"#bd3786\"],[0.5555555555555556,\"#d8576b\"],[0.6666666666666666,\"#ed7953\"],[0.7777777777777778,\"#fb9f3a\"],[0.8888888888888888,\"#fdca26\"],[1.0,\"#f0f921\"]]}],\"heatmapgl\":[{\"type\":\"heatmapgl\",\"colorbar\":{\"outlinewidth\":0,\"ticks\":\"\"},\"colorscale\":[[0.0,\"#0d0887\"],[0.1111111111111111,\"#46039f\"],[0.2222222222222222,\"#7201a8\"],[0.3333333333333333,\"#9c179e\"],[0.4444444444444444,\"#bd3786\"],[0.5555555555555556,\"#d8576b\"],[0.6666666666666666,\"#ed7953\"],[0.7777777777777778,\"#fb9f3a\"],[0.8888888888888888,\"#fdca26\"],[1.0,\"#f0f921\"]]}],\"contourcarpet\":[{\"type\":\"contourcarpet\",\"colorbar\":{\"outlinewidth\":0,\"ticks\":\"\"}}],\"contour\":[{\"type\":\"contour\",\"colorbar\":{\"outlinewidth\":0,\"ticks\":\"\"},\"colorscale\":[[0.0,\"#0d0887\"],[0.1111111111111111,\"#46039f\"],[0.2222222222222222,\"#7201a8\"],[0.3333333333333333,\"#9c179e\"],[0.4444444444444444,\"#bd3786\"],[0.5555555555555556,\"#d8576b\"],[0.6666666666666666,\"#ed7953\"],[0.7777777777777778,\"#fb9f3a\"],[0.8888888888888888,\"#fdca26\"],[1.0,\"#f0f921\"]]}],\"surface\":[{\"type\":\"surface\",\"colorbar\":{\"outlinewidth\":0,\"ticks\":\"\"},\"colorscale\":[[0.0,\"#0d0887\"],[0.1111111111111111,\"#46039f\"],[0.2222222222222222,\"#7201a8\"],[0.3333333333333333,\"#9c179e\"],[0.4444444444444444,\"#bd3786\"],[0.5555555555555556,\"#d8576b\"],[0.6666666666666666,\"#ed7953\"],[0.7777777777777778,\"#fb9f3a\"],[0.8888888888888888,\"#fdca26\"],[1.0,\"#f0f921\"]]}],\"mesh3d\":[{\"type\":\"mesh3d\",\"colorbar\":{\"outlinewidth\":0,\"ticks\":\"\"}}],\"scatter\":[{\"fillpattern\":{\"fillmode\":\"overlay\",\"size\":10,\"solidity\":0.2},\"type\":\"scatter\"}],\"parcoords\":[{\"type\":\"parcoords\",\"line\":{\"colorbar\":{\"outlinewidth\":0,\"ticks\":\"\"}}}],\"scatterpolargl\":[{\"type\":\"scatterpolargl\",\"marker\":{\"colorbar\":{\"outlinewidth\":0,\"ticks\":\"\"}}}],\"bar\":[{\"error_x\":{\"color\":\"#2a3f5f\"},\"error_y\":{\"color\":\"#2a3f5f\"},\"marker\":{\"line\":{\"color\":\"#E5ECF6\",\"width\":0.5},\"pattern\":{\"fillmode\":\"overlay\",\"size\":10,\"solidity\":0.2}},\"type\":\"bar\"}],\"scattergeo\":[{\"type\":\"scattergeo\",\"marker\":{\"colorbar\":{\"outlinewidth\":0,\"ticks\":\"\"}}}],\"scatterpolar\":[{\"type\":\"scatterpolar\",\"marker\":{\"colorbar\":{\"outlinewidth\":0,\"ticks\":\"\"}}}],\"histogram\":[{\"marker\":{\"pattern\":{\"fillmode\":\"overlay\",\"size\":10,\"solidity\":0.2}},\"type\":\"histogram\"}],\"scattergl\":[{\"type\":\"scattergl\",\"marker\":{\"colorbar\":{\"outlinewidth\":0,\"ticks\":\"\"}}}],\"scatter3d\":[{\"type\":\"scatter3d\",\"line\":{\"colorbar\":{\"outlinewidth\":0,\"ticks\":\"\"}},\"marker\":{\"colorbar\":{\"outlinewidth\":0,\"ticks\":\"\"}}}],\"scattermapbox\":[{\"type\":\"scattermapbox\",\"marker\":{\"colorbar\":{\"outlinewidth\":0,\"ticks\":\"\"}}}],\"scatterternary\":[{\"type\":\"scatterternary\",\"marker\":{\"colorbar\":{\"outlinewidth\":0,\"ticks\":\"\"}}}],\"scattercarpet\":[{\"type\":\"scattercarpet\",\"marker\":{\"colorbar\":{\"outlinewidth\":0,\"ticks\":\"\"}}}],\"carpet\":[{\"aaxis\":{\"endlinecolor\":\"#2a3f5f\",\"gridcolor\":\"white\",\"linecolor\":\"white\",\"minorgridcolor\":\"white\",\"startlinecolor\":\"#2a3f5f\"},\"baxis\":{\"endlinecolor\":\"#2a3f5f\",\"gridcolor\":\"white\",\"linecolor\":\"white\",\"minorgridcolor\":\"white\",\"startlinecolor\":\"#2a3f5f\"},\"type\":\"carpet\"}],\"table\":[{\"cells\":{\"fill\":{\"color\":\"#EBF0F8\"},\"line\":{\"color\":\"white\"}},\"header\":{\"fill\":{\"color\":\"#C8D4E3\"},\"line\":{\"color\":\"white\"}},\"type\":\"table\"}],\"barpolar\":[{\"marker\":{\"line\":{\"color\":\"#E5ECF6\",\"width\":0.5},\"pattern\":{\"fillmode\":\"overlay\",\"size\":10,\"solidity\":0.2}},\"type\":\"barpolar\"}],\"pie\":[{\"automargin\":true,\"type\":\"pie\"}]},\"layout\":{\"autotypenumbers\":\"strict\",\"colorway\":[\"#636efa\",\"#EF553B\",\"#00cc96\",\"#ab63fa\",\"#FFA15A\",\"#19d3f3\",\"#FF6692\",\"#B6E880\",\"#FF97FF\",\"#FECB52\"],\"font\":{\"color\":\"#2a3f5f\"},\"hovermode\":\"closest\",\"hoverlabel\":{\"align\":\"left\"},\"paper_bgcolor\":\"white\",\"plot_bgcolor\":\"#E5ECF6\",\"polar\":{\"bgcolor\":\"#E5ECF6\",\"angularaxis\":{\"gridcolor\":\"white\",\"linecolor\":\"white\",\"ticks\":\"\"},\"radialaxis\":{\"gridcolor\":\"white\",\"linecolor\":\"white\",\"ticks\":\"\"}},\"ternary\":{\"bgcolor\":\"#E5ECF6\",\"aaxis\":{\"gridcolor\":\"white\",\"linecolor\":\"white\",\"ticks\":\"\"},\"baxis\":{\"gridcolor\":\"white\",\"linecolor\":\"white\",\"ticks\":\"\"},\"caxis\":{\"gridcolor\":\"white\",\"linecolor\":\"white\",\"ticks\":\"\"}},\"coloraxis\":{\"colorbar\":{\"outlinewidth\":0,\"ticks\":\"\"}},\"colorscale\":{\"sequential\":[[0.0,\"#0d0887\"],[0.1111111111111111,\"#46039f\"],[0.2222222222222222,\"#7201a8\"],[0.3333333333333333,\"#9c179e\"],[0.4444444444444444,\"#bd3786\"],[0.5555555555555556,\"#d8576b\"],[0.6666666666666666,\"#ed7953\"],[0.7777777777777778,\"#fb9f3a\"],[0.8888888888888888,\"#fdca26\"],[1.0,\"#f0f921\"]],\"sequentialminus\":[[0.0,\"#0d0887\"],[0.1111111111111111,\"#46039f\"],[0.2222222222222222,\"#7201a8\"],[0.3333333333333333,\"#9c179e\"],[0.4444444444444444,\"#bd3786\"],[0.5555555555555556,\"#d8576b\"],[0.6666666666666666,\"#ed7953\"],[0.7777777777777778,\"#fb9f3a\"],[0.8888888888888888,\"#fdca26\"],[1.0,\"#f0f921\"]],\"diverging\":[[0,\"#8e0152\"],[0.1,\"#c51b7d\"],[0.2,\"#de77ae\"],[0.3,\"#f1b6da\"],[0.4,\"#fde0ef\"],[0.5,\"#f7f7f7\"],[0.6,\"#e6f5d0\"],[0.7,\"#b8e186\"],[0.8,\"#7fbc41\"],[0.9,\"#4d9221\"],[1,\"#276419\"]]},\"xaxis\":{\"gridcolor\":\"white\",\"linecolor\":\"white\",\"ticks\":\"\",\"title\":{\"standoff\":15},\"zerolinecolor\":\"white\",\"automargin\":true,\"zerolinewidth\":2},\"yaxis\":{\"gridcolor\":\"white\",\"linecolor\":\"white\",\"ticks\":\"\",\"title\":{\"standoff\":15},\"zerolinecolor\":\"white\",\"automargin\":true,\"zerolinewidth\":2},\"scene\":{\"xaxis\":{\"backgroundcolor\":\"#E5ECF6\",\"gridcolor\":\"white\",\"linecolor\":\"white\",\"showbackground\":true,\"ticks\":\"\",\"zerolinecolor\":\"white\",\"gridwidth\":2},\"yaxis\":{\"backgroundcolor\":\"#E5ECF6\",\"gridcolor\":\"white\",\"linecolor\":\"white\",\"showbackground\":true,\"ticks\":\"\",\"zerolinecolor\":\"white\",\"gridwidth\":2},\"zaxis\":{\"backgroundcolor\":\"#E5ECF6\",\"gridcolor\":\"white\",\"linecolor\":\"white\",\"showbackground\":true,\"ticks\":\"\",\"zerolinecolor\":\"white\",\"gridwidth\":2}},\"shapedefaults\":{\"line\":{\"color\":\"#2a3f5f\"}},\"annotationdefaults\":{\"arrowcolor\":\"#2a3f5f\",\"arrowhead\":0,\"arrowwidth\":1},\"geo\":{\"bgcolor\":\"white\",\"landcolor\":\"#E5ECF6\",\"subunitcolor\":\"white\",\"showland\":true,\"showlakes\":true,\"lakecolor\":\"white\"},\"title\":{\"x\":0.05},\"mapbox\":{\"style\":\"light\"}}},\"xaxis\":{\"anchor\":\"y\",\"domain\":[0.0,0.94],\"title\":{\"text\":\"Topics\"}},\"yaxis\":{\"anchor\":\"x\",\"domain\":[0.0,1.0],\"title\":{\"text\":\"Average Retweeters Followers First Half\"}},\"yaxis2\":{\"anchor\":\"x\",\"overlaying\":\"y\",\"side\":\"right\",\"title\":{\"text\":\"Average Retweeters Followers Second Half\"}},\"title\":{\"text\":\"Average retweeters followers count split by median\"},\"width\":1100,\"height\":500},                        {\"responsive\": true}                    ).then(function(){\n                            \nvar gd = document.getElementById('bc60459a-36aa-4b67-a1ac-6bb588bcb644');\nvar x = new MutationObserver(function (mutations, observer) {{\n        var display = window.getComputedStyle(gd).display;\n        if (!display || display === 'none') {{\n            console.log([gd, 'removed!']);\n            Plotly.purge(gd);\n            observer.disconnect();\n        }}\n}});\n\n// Listen for the removal of the full notebook cells\nvar notebookContainer = gd.closest('#notebook-container');\nif (notebookContainer) {{\n    x.observe(notebookContainer, {childList: true});\n}}\n\n// Listen for the clearing of the current output cell\nvar outputEl = gd.closest('.output');\nif (outputEl) {{\n    x.observe(outputEl, {childList: true});\n}}\n\n                        })                };                });            </script>        </div>"
     },
     "metadata": {},
     "output_type": "display_data"
    }
   ],
   "source": [
    "analysis_chart(df_retweeters_chars_10, \"Topic\", 'Average Retweeters Followers First Half', 'Average Retweeters Followers Second Half', \"Topics\", 'Average Retweeters Followers First Half', 'Average Retweeters Followers Second Half', \"Average retweeters followers count split by median\", offline_charts)"
   ],
   "metadata": {
    "collapsed": false,
    "pycharm": {
     "name": "#%%\n"
    }
   }
  },
  {
   "cell_type": "code",
   "execution_count": null,
   "outputs": [],
   "source": [],
   "metadata": {
    "collapsed": false,
    "pycharm": {
     "name": "#%%\n"
    }
   }
  }
 ],
 "metadata": {
  "kernelspec": {
   "display_name": "Python 3",
   "language": "python",
   "name": "python3"
  },
  "language_info": {
   "codemirror_mode": {
    "name": "ipython",
    "version": 2
   },
   "file_extension": ".py",
   "mimetype": "text/x-python",
   "name": "python",
   "nbconvert_exporter": "python",
   "pygments_lexer": "ipython2",
   "version": "2.7.6"
  }
 },
 "nbformat": 4,
 "nbformat_minor": 0
}