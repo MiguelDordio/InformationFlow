{
 "cells": [
  {
   "cell_type": "code",
   "execution_count": 10,
   "metadata": {
    "collapsed": true,
    "pycharm": {
     "name": "#%%\n"
    }
   },
   "outputs": [],
   "source": [
    "from Twitter.analysis_v2.data_analysis import *\n",
    "from os import walk"
   ]
  },
  {
   "cell_type": "markdown",
   "source": [
    "# Data Import and overview"
   ],
   "metadata": {
    "collapsed": false,
    "pycharm": {
     "name": "#%% md\n"
    }
   }
  },
  {
   "cell_type": "code",
   "execution_count": 11,
   "outputs": [],
   "source": [
    "DATASETS_PATH = \"../../data/processed_tweets/\"\n",
    "\n",
    "processed_filenames = next(walk(DATASETS_PATH), (None, None, []))[2]\n",
    "filenames = [DATASETS_PATH + \"/\" + filename for filename in processed_filenames]"
   ],
   "metadata": {
    "collapsed": false,
    "pycharm": {
     "name": "#%%\n"
    }
   }
  },
  {
   "cell_type": "code",
   "execution_count": 12,
   "outputs": [],
   "source": [
    "df = ensemble_dataset(filenames)"
   ],
   "metadata": {
    "collapsed": false,
    "pycharm": {
     "name": "#%%\n"
    }
   }
  },
  {
   "cell_type": "code",
   "execution_count": 13,
   "outputs": [
    {
     "data": {
      "text/plain": "2021    533375\n2019    531272\n2020    531227\nName: year, dtype: int64"
     },
     "execution_count": 13,
     "metadata": {},
     "output_type": "execute_result"
    }
   ],
   "source": [
    "df['year'].value_counts()"
   ],
   "metadata": {
    "collapsed": false,
    "pycharm": {
     "name": "#%%\n"
    }
   }
  },
  {
   "cell_type": "markdown",
   "source": [
    "## Tweets performance"
   ],
   "metadata": {
    "collapsed": false,
    "pycharm": {
     "name": "#%% md\n"
    }
   }
  },
  {
   "cell_type": "code",
   "execution_count": 14,
   "outputs": [],
   "source": [
    "topics_categories = df['topics_cleaned'].unique()[1:]\n",
    "months = ['January', 'February', 'March', 'April', 'May', 'June', 'July', 'August', 'September', 'October', 'November', 'December']\n",
    "week_days = ['Monday', 'Tuesday', 'Wednesday', 'Thursday', 'Friday', 'Saturday', 'Sunday']\n",
    "day_phases = ['Morning', 'Afternoon', 'Dusk', 'Night', 'Middle of the night']\n",
    "day_phases_old = ['Dawn', 'Morning', 'Afternoon', 'Evening', 'Night']\n",
    "sentiments = ['Negative', 'Neutral', 'Positive']\n",
    "hashtags = [True, False]\n",
    "offline_graphs = False"
   ],
   "metadata": {
    "collapsed": false,
    "pycharm": {
     "name": "#%%\n"
    }
   }
  },
  {
   "cell_type": "code",
   "execution_count": 15,
   "outputs": [],
   "source": [
    "tweet_analysis = df[['text', 'year', 'day_phase', 'day_of_week', 'month', 'retweet_count', 'quote_count', 'like_count', 'reply_count', 'sentiment', 'hashtags', 'topics_cleaned']]"
   ],
   "metadata": {
    "collapsed": false,
    "pycharm": {
     "name": "#%%\n"
    }
   }
  },
  {
   "cell_type": "markdown",
   "source": [
    "### Average retweet and like count per phase of the day"
   ],
   "metadata": {
    "collapsed": false,
    "pycharm": {
     "name": "#%% md\n"
    }
   }
  },
  {
   "cell_type": "code",
   "execution_count": 16,
   "outputs": [
    {
     "data": {
      "text/plain": "   year            day_phase  count day_phase  % day_phase  % with retweets  \\\n0  2019              Morning           105912    19.935551            14.37   \n1  2019            Afternoon           106273    20.003501            17.78   \n2  2019                 Dusk           106415    20.030229            18.12   \n3  2019                Night           106312    20.010842            17.73   \n4  2019  Middle of the night           106360    20.019877            17.32   \n0  2020              Morning           105633    19.884720            13.95   \n1  2020            Afternoon           106420    20.032867            16.94   \n2  2020                 Dusk           106397    20.028538            16.95   \n3  2020                Night           106408    20.030608            16.73   \n4  2020  Middle of the night           106369    20.023267            16.44   \n0  2021              Morning           105994    19.872322            12.56   \n1  2021            Afternoon           106727    20.009749            17.36   \n2  2021                 Dusk           106852    20.033185            16.93   \n3  2021                Night           106796    20.022686            17.10   \n4  2021  Middle of the night           107006    20.062058            16.38   \n\n   % with likes  retweets mean  likes mean  \n0         44.76           0.41        2.45  \n1         48.18           0.56        3.40  \n2         50.00           0.56        3.62  \n3         49.82           0.54        3.64  \n4         50.74           0.52        3.68  \n0         45.36           0.41        2.63  \n1         47.80           0.54        3.67  \n2         49.96           0.53        3.84  \n3         50.41           0.51        3.91  \n4         51.16           0.48        3.88  \n0         43.31           0.37        2.92  \n1         50.32           0.58        4.88  \n2         51.20           0.55        4.92  \n3         52.03           0.55        4.95  \n4         52.78           0.50        4.89  ",
      "text/html": "<div>\n<style scoped>\n    .dataframe tbody tr th:only-of-type {\n        vertical-align: middle;\n    }\n\n    .dataframe tbody tr th {\n        vertical-align: top;\n    }\n\n    .dataframe thead th {\n        text-align: right;\n    }\n</style>\n<table border=\"1\" class=\"dataframe\">\n  <thead>\n    <tr style=\"text-align: right;\">\n      <th></th>\n      <th>year</th>\n      <th>day_phase</th>\n      <th>count day_phase</th>\n      <th>% day_phase</th>\n      <th>% with retweets</th>\n      <th>% with likes</th>\n      <th>retweets mean</th>\n      <th>likes mean</th>\n    </tr>\n  </thead>\n  <tbody>\n    <tr>\n      <th>0</th>\n      <td>2019</td>\n      <td>Morning</td>\n      <td>105912</td>\n      <td>19.935551</td>\n      <td>14.37</td>\n      <td>44.76</td>\n      <td>0.41</td>\n      <td>2.45</td>\n    </tr>\n    <tr>\n      <th>1</th>\n      <td>2019</td>\n      <td>Afternoon</td>\n      <td>106273</td>\n      <td>20.003501</td>\n      <td>17.78</td>\n      <td>48.18</td>\n      <td>0.56</td>\n      <td>3.40</td>\n    </tr>\n    <tr>\n      <th>2</th>\n      <td>2019</td>\n      <td>Dusk</td>\n      <td>106415</td>\n      <td>20.030229</td>\n      <td>18.12</td>\n      <td>50.00</td>\n      <td>0.56</td>\n      <td>3.62</td>\n    </tr>\n    <tr>\n      <th>3</th>\n      <td>2019</td>\n      <td>Night</td>\n      <td>106312</td>\n      <td>20.010842</td>\n      <td>17.73</td>\n      <td>49.82</td>\n      <td>0.54</td>\n      <td>3.64</td>\n    </tr>\n    <tr>\n      <th>4</th>\n      <td>2019</td>\n      <td>Middle of the night</td>\n      <td>106360</td>\n      <td>20.019877</td>\n      <td>17.32</td>\n      <td>50.74</td>\n      <td>0.52</td>\n      <td>3.68</td>\n    </tr>\n    <tr>\n      <th>0</th>\n      <td>2020</td>\n      <td>Morning</td>\n      <td>105633</td>\n      <td>19.884720</td>\n      <td>13.95</td>\n      <td>45.36</td>\n      <td>0.41</td>\n      <td>2.63</td>\n    </tr>\n    <tr>\n      <th>1</th>\n      <td>2020</td>\n      <td>Afternoon</td>\n      <td>106420</td>\n      <td>20.032867</td>\n      <td>16.94</td>\n      <td>47.80</td>\n      <td>0.54</td>\n      <td>3.67</td>\n    </tr>\n    <tr>\n      <th>2</th>\n      <td>2020</td>\n      <td>Dusk</td>\n      <td>106397</td>\n      <td>20.028538</td>\n      <td>16.95</td>\n      <td>49.96</td>\n      <td>0.53</td>\n      <td>3.84</td>\n    </tr>\n    <tr>\n      <th>3</th>\n      <td>2020</td>\n      <td>Night</td>\n      <td>106408</td>\n      <td>20.030608</td>\n      <td>16.73</td>\n      <td>50.41</td>\n      <td>0.51</td>\n      <td>3.91</td>\n    </tr>\n    <tr>\n      <th>4</th>\n      <td>2020</td>\n      <td>Middle of the night</td>\n      <td>106369</td>\n      <td>20.023267</td>\n      <td>16.44</td>\n      <td>51.16</td>\n      <td>0.48</td>\n      <td>3.88</td>\n    </tr>\n    <tr>\n      <th>0</th>\n      <td>2021</td>\n      <td>Morning</td>\n      <td>105994</td>\n      <td>19.872322</td>\n      <td>12.56</td>\n      <td>43.31</td>\n      <td>0.37</td>\n      <td>2.92</td>\n    </tr>\n    <tr>\n      <th>1</th>\n      <td>2021</td>\n      <td>Afternoon</td>\n      <td>106727</td>\n      <td>20.009749</td>\n      <td>17.36</td>\n      <td>50.32</td>\n      <td>0.58</td>\n      <td>4.88</td>\n    </tr>\n    <tr>\n      <th>2</th>\n      <td>2021</td>\n      <td>Dusk</td>\n      <td>106852</td>\n      <td>20.033185</td>\n      <td>16.93</td>\n      <td>51.20</td>\n      <td>0.55</td>\n      <td>4.92</td>\n    </tr>\n    <tr>\n      <th>3</th>\n      <td>2021</td>\n      <td>Night</td>\n      <td>106796</td>\n      <td>20.022686</td>\n      <td>17.10</td>\n      <td>52.03</td>\n      <td>0.55</td>\n      <td>4.95</td>\n    </tr>\n    <tr>\n      <th>4</th>\n      <td>2021</td>\n      <td>Middle of the night</td>\n      <td>107006</td>\n      <td>20.062058</td>\n      <td>16.38</td>\n      <td>52.78</td>\n      <td>0.50</td>\n      <td>4.89</td>\n    </tr>\n  </tbody>\n</table>\n</div>"
     },
     "execution_count": 16,
     "metadata": {},
     "output_type": "execute_result"
    }
   ],
   "source": [
    "df_analysis = retweets_likes_info_by_year(tweet_analysis, ['day_phase'], day_phases)\n",
    "df_analysis"
   ],
   "metadata": {
    "collapsed": false,
    "pycharm": {
     "name": "#%%\n"
    }
   }
  },
  {
   "cell_type": "code",
   "execution_count": 17,
   "outputs": [
    {
     "data": {
      "application/vnd.plotly.v1+json": {
       "data": [
        {
         "marker": {
          "color": "#006D77"
         },
         "name": "% with retweets 2019",
         "text": [
          "14.37",
          "17.78",
          "18.12",
          "17.73",
          "17.32"
         ],
         "textposition": "inside",
         "width": 0.28,
         "x": [
          "Morning",
          "Afternoon",
          "Dusk",
          "Night",
          "Middle of the night"
         ],
         "y": [
          14.37,
          17.78,
          18.12,
          17.73,
          17.32
         ],
         "type": "bar",
         "xaxis": "x",
         "yaxis": "y"
        },
        {
         "marker": {
          "color": "#00B2CA"
         },
         "name": "% with likes 2019",
         "x": [
          "Morning",
          "Afternoon",
          "Dusk",
          "Night",
          "Middle of the night"
         ],
         "y": [
          44.76,
          48.18,
          50.0,
          49.82,
          50.74
         ],
         "type": "scatter",
         "xaxis": "x",
         "yaxis": "y2"
        },
        {
         "marker": {
          "color": "#FBD1A2"
         },
         "name": "% with retweets 2020",
         "text": [
          "13.95",
          "16.94",
          "16.95",
          "16.73",
          "16.44"
         ],
         "textposition": "inside",
         "width": 0.28,
         "x": [
          "Morning",
          "Afternoon",
          "Dusk",
          "Night",
          "Middle of the night"
         ],
         "y": [
          13.95,
          16.94,
          16.95,
          16.73,
          16.44
         ],
         "type": "bar",
         "xaxis": "x",
         "yaxis": "y"
        },
        {
         "marker": {
          "color": "#1D4E89"
         },
         "name": "% with likes 2020",
         "x": [
          "Morning",
          "Afternoon",
          "Dusk",
          "Night",
          "Middle of the night"
         ],
         "y": [
          45.36,
          47.8,
          49.96,
          50.41,
          51.16
         ],
         "type": "scatter",
         "xaxis": "x",
         "yaxis": "y2"
        },
        {
         "marker": {
          "color": "#7DCFB6"
         },
         "name": "% with retweets 2021",
         "text": [
          "12.56",
          "17.36",
          "16.93",
          "17.1",
          "16.38"
         ],
         "textposition": "inside",
         "width": 0.28,
         "x": [
          "Morning",
          "Afternoon",
          "Dusk",
          "Night",
          "Middle of the night"
         ],
         "y": [
          12.56,
          17.36,
          16.93,
          17.1,
          16.38
         ],
         "type": "bar",
         "xaxis": "x",
         "yaxis": "y"
        },
        {
         "marker": {
          "color": "#F79256"
         },
         "name": "% with likes 2021",
         "x": [
          "Morning",
          "Afternoon",
          "Dusk",
          "Night",
          "Middle of the night"
         ],
         "y": [
          43.31,
          50.32,
          51.2,
          52.03,
          52.78
         ],
         "type": "scatter",
         "xaxis": "x",
         "yaxis": "y2"
        }
       ],
       "layout": {
        "template": {
         "data": {
          "histogram2dcontour": [
           {
            "type": "histogram2dcontour",
            "colorbar": {
             "outlinewidth": 0,
             "ticks": ""
            },
            "colorscale": [
             [
              0.0,
              "#0d0887"
             ],
             [
              0.1111111111111111,
              "#46039f"
             ],
             [
              0.2222222222222222,
              "#7201a8"
             ],
             [
              0.3333333333333333,
              "#9c179e"
             ],
             [
              0.4444444444444444,
              "#bd3786"
             ],
             [
              0.5555555555555556,
              "#d8576b"
             ],
             [
              0.6666666666666666,
              "#ed7953"
             ],
             [
              0.7777777777777778,
              "#fb9f3a"
             ],
             [
              0.8888888888888888,
              "#fdca26"
             ],
             [
              1.0,
              "#f0f921"
             ]
            ]
           }
          ],
          "choropleth": [
           {
            "type": "choropleth",
            "colorbar": {
             "outlinewidth": 0,
             "ticks": ""
            }
           }
          ],
          "histogram2d": [
           {
            "type": "histogram2d",
            "colorbar": {
             "outlinewidth": 0,
             "ticks": ""
            },
            "colorscale": [
             [
              0.0,
              "#0d0887"
             ],
             [
              0.1111111111111111,
              "#46039f"
             ],
             [
              0.2222222222222222,
              "#7201a8"
             ],
             [
              0.3333333333333333,
              "#9c179e"
             ],
             [
              0.4444444444444444,
              "#bd3786"
             ],
             [
              0.5555555555555556,
              "#d8576b"
             ],
             [
              0.6666666666666666,
              "#ed7953"
             ],
             [
              0.7777777777777778,
              "#fb9f3a"
             ],
             [
              0.8888888888888888,
              "#fdca26"
             ],
             [
              1.0,
              "#f0f921"
             ]
            ]
           }
          ],
          "heatmap": [
           {
            "type": "heatmap",
            "colorbar": {
             "outlinewidth": 0,
             "ticks": ""
            },
            "colorscale": [
             [
              0.0,
              "#0d0887"
             ],
             [
              0.1111111111111111,
              "#46039f"
             ],
             [
              0.2222222222222222,
              "#7201a8"
             ],
             [
              0.3333333333333333,
              "#9c179e"
             ],
             [
              0.4444444444444444,
              "#bd3786"
             ],
             [
              0.5555555555555556,
              "#d8576b"
             ],
             [
              0.6666666666666666,
              "#ed7953"
             ],
             [
              0.7777777777777778,
              "#fb9f3a"
             ],
             [
              0.8888888888888888,
              "#fdca26"
             ],
             [
              1.0,
              "#f0f921"
             ]
            ]
           }
          ],
          "heatmapgl": [
           {
            "type": "heatmapgl",
            "colorbar": {
             "outlinewidth": 0,
             "ticks": ""
            },
            "colorscale": [
             [
              0.0,
              "#0d0887"
             ],
             [
              0.1111111111111111,
              "#46039f"
             ],
             [
              0.2222222222222222,
              "#7201a8"
             ],
             [
              0.3333333333333333,
              "#9c179e"
             ],
             [
              0.4444444444444444,
              "#bd3786"
             ],
             [
              0.5555555555555556,
              "#d8576b"
             ],
             [
              0.6666666666666666,
              "#ed7953"
             ],
             [
              0.7777777777777778,
              "#fb9f3a"
             ],
             [
              0.8888888888888888,
              "#fdca26"
             ],
             [
              1.0,
              "#f0f921"
             ]
            ]
           }
          ],
          "contourcarpet": [
           {
            "type": "contourcarpet",
            "colorbar": {
             "outlinewidth": 0,
             "ticks": ""
            }
           }
          ],
          "contour": [
           {
            "type": "contour",
            "colorbar": {
             "outlinewidth": 0,
             "ticks": ""
            },
            "colorscale": [
             [
              0.0,
              "#0d0887"
             ],
             [
              0.1111111111111111,
              "#46039f"
             ],
             [
              0.2222222222222222,
              "#7201a8"
             ],
             [
              0.3333333333333333,
              "#9c179e"
             ],
             [
              0.4444444444444444,
              "#bd3786"
             ],
             [
              0.5555555555555556,
              "#d8576b"
             ],
             [
              0.6666666666666666,
              "#ed7953"
             ],
             [
              0.7777777777777778,
              "#fb9f3a"
             ],
             [
              0.8888888888888888,
              "#fdca26"
             ],
             [
              1.0,
              "#f0f921"
             ]
            ]
           }
          ],
          "surface": [
           {
            "type": "surface",
            "colorbar": {
             "outlinewidth": 0,
             "ticks": ""
            },
            "colorscale": [
             [
              0.0,
              "#0d0887"
             ],
             [
              0.1111111111111111,
              "#46039f"
             ],
             [
              0.2222222222222222,
              "#7201a8"
             ],
             [
              0.3333333333333333,
              "#9c179e"
             ],
             [
              0.4444444444444444,
              "#bd3786"
             ],
             [
              0.5555555555555556,
              "#d8576b"
             ],
             [
              0.6666666666666666,
              "#ed7953"
             ],
             [
              0.7777777777777778,
              "#fb9f3a"
             ],
             [
              0.8888888888888888,
              "#fdca26"
             ],
             [
              1.0,
              "#f0f921"
             ]
            ]
           }
          ],
          "mesh3d": [
           {
            "type": "mesh3d",
            "colorbar": {
             "outlinewidth": 0,
             "ticks": ""
            }
           }
          ],
          "scatter": [
           {
            "fillpattern": {
             "fillmode": "overlay",
             "size": 10,
             "solidity": 0.2
            },
            "type": "scatter"
           }
          ],
          "parcoords": [
           {
            "type": "parcoords",
            "line": {
             "colorbar": {
              "outlinewidth": 0,
              "ticks": ""
             }
            }
           }
          ],
          "scatterpolargl": [
           {
            "type": "scatterpolargl",
            "marker": {
             "colorbar": {
              "outlinewidth": 0,
              "ticks": ""
             }
            }
           }
          ],
          "bar": [
           {
            "error_x": {
             "color": "#2a3f5f"
            },
            "error_y": {
             "color": "#2a3f5f"
            },
            "marker": {
             "line": {
              "color": "#E5ECF6",
              "width": 0.5
             },
             "pattern": {
              "fillmode": "overlay",
              "size": 10,
              "solidity": 0.2
             }
            },
            "type": "bar"
           }
          ],
          "scattergeo": [
           {
            "type": "scattergeo",
            "marker": {
             "colorbar": {
              "outlinewidth": 0,
              "ticks": ""
             }
            }
           }
          ],
          "scatterpolar": [
           {
            "type": "scatterpolar",
            "marker": {
             "colorbar": {
              "outlinewidth": 0,
              "ticks": ""
             }
            }
           }
          ],
          "histogram": [
           {
            "marker": {
             "pattern": {
              "fillmode": "overlay",
              "size": 10,
              "solidity": 0.2
             }
            },
            "type": "histogram"
           }
          ],
          "scattergl": [
           {
            "type": "scattergl",
            "marker": {
             "colorbar": {
              "outlinewidth": 0,
              "ticks": ""
             }
            }
           }
          ],
          "scatter3d": [
           {
            "type": "scatter3d",
            "line": {
             "colorbar": {
              "outlinewidth": 0,
              "ticks": ""
             }
            },
            "marker": {
             "colorbar": {
              "outlinewidth": 0,
              "ticks": ""
             }
            }
           }
          ],
          "scattermapbox": [
           {
            "type": "scattermapbox",
            "marker": {
             "colorbar": {
              "outlinewidth": 0,
              "ticks": ""
             }
            }
           }
          ],
          "scatterternary": [
           {
            "type": "scatterternary",
            "marker": {
             "colorbar": {
              "outlinewidth": 0,
              "ticks": ""
             }
            }
           }
          ],
          "scattercarpet": [
           {
            "type": "scattercarpet",
            "marker": {
             "colorbar": {
              "outlinewidth": 0,
              "ticks": ""
             }
            }
           }
          ],
          "carpet": [
           {
            "aaxis": {
             "endlinecolor": "#2a3f5f",
             "gridcolor": "white",
             "linecolor": "white",
             "minorgridcolor": "white",
             "startlinecolor": "#2a3f5f"
            },
            "baxis": {
             "endlinecolor": "#2a3f5f",
             "gridcolor": "white",
             "linecolor": "white",
             "minorgridcolor": "white",
             "startlinecolor": "#2a3f5f"
            },
            "type": "carpet"
           }
          ],
          "table": [
           {
            "cells": {
             "fill": {
              "color": "#EBF0F8"
             },
             "line": {
              "color": "white"
             }
            },
            "header": {
             "fill": {
              "color": "#C8D4E3"
             },
             "line": {
              "color": "white"
             }
            },
            "type": "table"
           }
          ],
          "barpolar": [
           {
            "marker": {
             "line": {
              "color": "#E5ECF6",
              "width": 0.5
             },
             "pattern": {
              "fillmode": "overlay",
              "size": 10,
              "solidity": 0.2
             }
            },
            "type": "barpolar"
           }
          ],
          "pie": [
           {
            "automargin": true,
            "type": "pie"
           }
          ]
         },
         "layout": {
          "autotypenumbers": "strict",
          "colorway": [
           "#636efa",
           "#EF553B",
           "#00cc96",
           "#ab63fa",
           "#FFA15A",
           "#19d3f3",
           "#FF6692",
           "#B6E880",
           "#FF97FF",
           "#FECB52"
          ],
          "font": {
           "color": "#2a3f5f"
          },
          "hovermode": "closest",
          "hoverlabel": {
           "align": "left"
          },
          "paper_bgcolor": "white",
          "plot_bgcolor": "#E5ECF6",
          "polar": {
           "bgcolor": "#E5ECF6",
           "angularaxis": {
            "gridcolor": "white",
            "linecolor": "white",
            "ticks": ""
           },
           "radialaxis": {
            "gridcolor": "white",
            "linecolor": "white",
            "ticks": ""
           }
          },
          "ternary": {
           "bgcolor": "#E5ECF6",
           "aaxis": {
            "gridcolor": "white",
            "linecolor": "white",
            "ticks": ""
           },
           "baxis": {
            "gridcolor": "white",
            "linecolor": "white",
            "ticks": ""
           },
           "caxis": {
            "gridcolor": "white",
            "linecolor": "white",
            "ticks": ""
           }
          },
          "coloraxis": {
           "colorbar": {
            "outlinewidth": 0,
            "ticks": ""
           }
          },
          "colorscale": {
           "sequential": [
            [
             0.0,
             "#0d0887"
            ],
            [
             0.1111111111111111,
             "#46039f"
            ],
            [
             0.2222222222222222,
             "#7201a8"
            ],
            [
             0.3333333333333333,
             "#9c179e"
            ],
            [
             0.4444444444444444,
             "#bd3786"
            ],
            [
             0.5555555555555556,
             "#d8576b"
            ],
            [
             0.6666666666666666,
             "#ed7953"
            ],
            [
             0.7777777777777778,
             "#fb9f3a"
            ],
            [
             0.8888888888888888,
             "#fdca26"
            ],
            [
             1.0,
             "#f0f921"
            ]
           ],
           "sequentialminus": [
            [
             0.0,
             "#0d0887"
            ],
            [
             0.1111111111111111,
             "#46039f"
            ],
            [
             0.2222222222222222,
             "#7201a8"
            ],
            [
             0.3333333333333333,
             "#9c179e"
            ],
            [
             0.4444444444444444,
             "#bd3786"
            ],
            [
             0.5555555555555556,
             "#d8576b"
            ],
            [
             0.6666666666666666,
             "#ed7953"
            ],
            [
             0.7777777777777778,
             "#fb9f3a"
            ],
            [
             0.8888888888888888,
             "#fdca26"
            ],
            [
             1.0,
             "#f0f921"
            ]
           ],
           "diverging": [
            [
             0,
             "#8e0152"
            ],
            [
             0.1,
             "#c51b7d"
            ],
            [
             0.2,
             "#de77ae"
            ],
            [
             0.3,
             "#f1b6da"
            ],
            [
             0.4,
             "#fde0ef"
            ],
            [
             0.5,
             "#f7f7f7"
            ],
            [
             0.6,
             "#e6f5d0"
            ],
            [
             0.7,
             "#b8e186"
            ],
            [
             0.8,
             "#7fbc41"
            ],
            [
             0.9,
             "#4d9221"
            ],
            [
             1,
             "#276419"
            ]
           ]
          },
          "xaxis": {
           "gridcolor": "white",
           "linecolor": "white",
           "ticks": "",
           "title": {
            "standoff": 15
           },
           "zerolinecolor": "white",
           "automargin": true,
           "zerolinewidth": 2
          },
          "yaxis": {
           "gridcolor": "white",
           "linecolor": "white",
           "ticks": "",
           "title": {
            "standoff": 15
           },
           "zerolinecolor": "white",
           "automargin": true,
           "zerolinewidth": 2
          },
          "scene": {
           "xaxis": {
            "backgroundcolor": "#E5ECF6",
            "gridcolor": "white",
            "linecolor": "white",
            "showbackground": true,
            "ticks": "",
            "zerolinecolor": "white",
            "gridwidth": 2
           },
           "yaxis": {
            "backgroundcolor": "#E5ECF6",
            "gridcolor": "white",
            "linecolor": "white",
            "showbackground": true,
            "ticks": "",
            "zerolinecolor": "white",
            "gridwidth": 2
           },
           "zaxis": {
            "backgroundcolor": "#E5ECF6",
            "gridcolor": "white",
            "linecolor": "white",
            "showbackground": true,
            "ticks": "",
            "zerolinecolor": "white",
            "gridwidth": 2
           }
          },
          "shapedefaults": {
           "line": {
            "color": "#2a3f5f"
           }
          },
          "annotationdefaults": {
           "arrowcolor": "#2a3f5f",
           "arrowhead": 0,
           "arrowwidth": 1
          },
          "geo": {
           "bgcolor": "white",
           "landcolor": "#E5ECF6",
           "subunitcolor": "white",
           "showland": true,
           "showlakes": true,
           "lakecolor": "white"
          },
          "title": {
           "x": 0.05
          },
          "mapbox": {
           "style": "light"
          }
         }
        },
        "xaxis": {
         "anchor": "y",
         "domain": [
          0.0,
          0.94
         ],
         "title": {
          "text": "Day phase"
         }
        },
        "yaxis": {
         "anchor": "x",
         "domain": [
          0.0,
          1.0
         ],
         "title": {
          "text": "% with retweets"
         }
        },
        "yaxis2": {
         "anchor": "x",
         "overlaying": "y",
         "side": "right",
         "title": {
          "text": "% with likes"
         }
        },
        "title": {
         "text": "Percentage of retweets and likes during the day"
        },
        "width": 900,
        "height": 500
       },
       "config": {
        "plotlyServerURL": "https://plot.ly"
       }
      },
      "text/html": "<div>                            <div id=\"88210222-1b0d-41e0-86f7-feba01c29bae\" class=\"plotly-graph-div\" style=\"height:500px; width:900px;\"></div>            <script type=\"text/javascript\">                require([\"plotly\"], function(Plotly) {                    window.PLOTLYENV=window.PLOTLYENV || {};                                    if (document.getElementById(\"88210222-1b0d-41e0-86f7-feba01c29bae\")) {                    Plotly.newPlot(                        \"88210222-1b0d-41e0-86f7-feba01c29bae\",                        [{\"marker\":{\"color\":\"#006D77\"},\"name\":\"% with retweets 2019\",\"text\":[\"14.37\",\"17.78\",\"18.12\",\"17.73\",\"17.32\"],\"textposition\":\"inside\",\"width\":0.28,\"x\":[\"Morning\",\"Afternoon\",\"Dusk\",\"Night\",\"Middle of the night\"],\"y\":[14.37,17.78,18.12,17.73,17.32],\"type\":\"bar\",\"xaxis\":\"x\",\"yaxis\":\"y\"},{\"marker\":{\"color\":\"#00B2CA\"},\"name\":\"% with likes 2019\",\"x\":[\"Morning\",\"Afternoon\",\"Dusk\",\"Night\",\"Middle of the night\"],\"y\":[44.76,48.18,50.0,49.82,50.74],\"type\":\"scatter\",\"xaxis\":\"x\",\"yaxis\":\"y2\"},{\"marker\":{\"color\":\"#FBD1A2\"},\"name\":\"% with retweets 2020\",\"text\":[\"13.95\",\"16.94\",\"16.95\",\"16.73\",\"16.44\"],\"textposition\":\"inside\",\"width\":0.28,\"x\":[\"Morning\",\"Afternoon\",\"Dusk\",\"Night\",\"Middle of the night\"],\"y\":[13.95,16.94,16.95,16.73,16.44],\"type\":\"bar\",\"xaxis\":\"x\",\"yaxis\":\"y\"},{\"marker\":{\"color\":\"#1D4E89\"},\"name\":\"% with likes 2020\",\"x\":[\"Morning\",\"Afternoon\",\"Dusk\",\"Night\",\"Middle of the night\"],\"y\":[45.36,47.8,49.96,50.41,51.16],\"type\":\"scatter\",\"xaxis\":\"x\",\"yaxis\":\"y2\"},{\"marker\":{\"color\":\"#7DCFB6\"},\"name\":\"% with retweets 2021\",\"text\":[\"12.56\",\"17.36\",\"16.93\",\"17.1\",\"16.38\"],\"textposition\":\"inside\",\"width\":0.28,\"x\":[\"Morning\",\"Afternoon\",\"Dusk\",\"Night\",\"Middle of the night\"],\"y\":[12.56,17.36,16.93,17.1,16.38],\"type\":\"bar\",\"xaxis\":\"x\",\"yaxis\":\"y\"},{\"marker\":{\"color\":\"#F79256\"},\"name\":\"% with likes 2021\",\"x\":[\"Morning\",\"Afternoon\",\"Dusk\",\"Night\",\"Middle of the night\"],\"y\":[43.31,50.32,51.2,52.03,52.78],\"type\":\"scatter\",\"xaxis\":\"x\",\"yaxis\":\"y2\"}],                        {\"template\":{\"data\":{\"histogram2dcontour\":[{\"type\":\"histogram2dcontour\",\"colorbar\":{\"outlinewidth\":0,\"ticks\":\"\"},\"colorscale\":[[0.0,\"#0d0887\"],[0.1111111111111111,\"#46039f\"],[0.2222222222222222,\"#7201a8\"],[0.3333333333333333,\"#9c179e\"],[0.4444444444444444,\"#bd3786\"],[0.5555555555555556,\"#d8576b\"],[0.6666666666666666,\"#ed7953\"],[0.7777777777777778,\"#fb9f3a\"],[0.8888888888888888,\"#fdca26\"],[1.0,\"#f0f921\"]]}],\"choropleth\":[{\"type\":\"choropleth\",\"colorbar\":{\"outlinewidth\":0,\"ticks\":\"\"}}],\"histogram2d\":[{\"type\":\"histogram2d\",\"colorbar\":{\"outlinewidth\":0,\"ticks\":\"\"},\"colorscale\":[[0.0,\"#0d0887\"],[0.1111111111111111,\"#46039f\"],[0.2222222222222222,\"#7201a8\"],[0.3333333333333333,\"#9c179e\"],[0.4444444444444444,\"#bd3786\"],[0.5555555555555556,\"#d8576b\"],[0.6666666666666666,\"#ed7953\"],[0.7777777777777778,\"#fb9f3a\"],[0.8888888888888888,\"#fdca26\"],[1.0,\"#f0f921\"]]}],\"heatmap\":[{\"type\":\"heatmap\",\"colorbar\":{\"outlinewidth\":0,\"ticks\":\"\"},\"colorscale\":[[0.0,\"#0d0887\"],[0.1111111111111111,\"#46039f\"],[0.2222222222222222,\"#7201a8\"],[0.3333333333333333,\"#9c179e\"],[0.4444444444444444,\"#bd3786\"],[0.5555555555555556,\"#d8576b\"],[0.6666666666666666,\"#ed7953\"],[0.7777777777777778,\"#fb9f3a\"],[0.8888888888888888,\"#fdca26\"],[1.0,\"#f0f921\"]]}],\"heatmapgl\":[{\"type\":\"heatmapgl\",\"colorbar\":{\"outlinewidth\":0,\"ticks\":\"\"},\"colorscale\":[[0.0,\"#0d0887\"],[0.1111111111111111,\"#46039f\"],[0.2222222222222222,\"#7201a8\"],[0.3333333333333333,\"#9c179e\"],[0.4444444444444444,\"#bd3786\"],[0.5555555555555556,\"#d8576b\"],[0.6666666666666666,\"#ed7953\"],[0.7777777777777778,\"#fb9f3a\"],[0.8888888888888888,\"#fdca26\"],[1.0,\"#f0f921\"]]}],\"contourcarpet\":[{\"type\":\"contourcarpet\",\"colorbar\":{\"outlinewidth\":0,\"ticks\":\"\"}}],\"contour\":[{\"type\":\"contour\",\"colorbar\":{\"outlinewidth\":0,\"ticks\":\"\"},\"colorscale\":[[0.0,\"#0d0887\"],[0.1111111111111111,\"#46039f\"],[0.2222222222222222,\"#7201a8\"],[0.3333333333333333,\"#9c179e\"],[0.4444444444444444,\"#bd3786\"],[0.5555555555555556,\"#d8576b\"],[0.6666666666666666,\"#ed7953\"],[0.7777777777777778,\"#fb9f3a\"],[0.8888888888888888,\"#fdca26\"],[1.0,\"#f0f921\"]]}],\"surface\":[{\"type\":\"surface\",\"colorbar\":{\"outlinewidth\":0,\"ticks\":\"\"},\"colorscale\":[[0.0,\"#0d0887\"],[0.1111111111111111,\"#46039f\"],[0.2222222222222222,\"#7201a8\"],[0.3333333333333333,\"#9c179e\"],[0.4444444444444444,\"#bd3786\"],[0.5555555555555556,\"#d8576b\"],[0.6666666666666666,\"#ed7953\"],[0.7777777777777778,\"#fb9f3a\"],[0.8888888888888888,\"#fdca26\"],[1.0,\"#f0f921\"]]}],\"mesh3d\":[{\"type\":\"mesh3d\",\"colorbar\":{\"outlinewidth\":0,\"ticks\":\"\"}}],\"scatter\":[{\"fillpattern\":{\"fillmode\":\"overlay\",\"size\":10,\"solidity\":0.2},\"type\":\"scatter\"}],\"parcoords\":[{\"type\":\"parcoords\",\"line\":{\"colorbar\":{\"outlinewidth\":0,\"ticks\":\"\"}}}],\"scatterpolargl\":[{\"type\":\"scatterpolargl\",\"marker\":{\"colorbar\":{\"outlinewidth\":0,\"ticks\":\"\"}}}],\"bar\":[{\"error_x\":{\"color\":\"#2a3f5f\"},\"error_y\":{\"color\":\"#2a3f5f\"},\"marker\":{\"line\":{\"color\":\"#E5ECF6\",\"width\":0.5},\"pattern\":{\"fillmode\":\"overlay\",\"size\":10,\"solidity\":0.2}},\"type\":\"bar\"}],\"scattergeo\":[{\"type\":\"scattergeo\",\"marker\":{\"colorbar\":{\"outlinewidth\":0,\"ticks\":\"\"}}}],\"scatterpolar\":[{\"type\":\"scatterpolar\",\"marker\":{\"colorbar\":{\"outlinewidth\":0,\"ticks\":\"\"}}}],\"histogram\":[{\"marker\":{\"pattern\":{\"fillmode\":\"overlay\",\"size\":10,\"solidity\":0.2}},\"type\":\"histogram\"}],\"scattergl\":[{\"type\":\"scattergl\",\"marker\":{\"colorbar\":{\"outlinewidth\":0,\"ticks\":\"\"}}}],\"scatter3d\":[{\"type\":\"scatter3d\",\"line\":{\"colorbar\":{\"outlinewidth\":0,\"ticks\":\"\"}},\"marker\":{\"colorbar\":{\"outlinewidth\":0,\"ticks\":\"\"}}}],\"scattermapbox\":[{\"type\":\"scattermapbox\",\"marker\":{\"colorbar\":{\"outlinewidth\":0,\"ticks\":\"\"}}}],\"scatterternary\":[{\"type\":\"scatterternary\",\"marker\":{\"colorbar\":{\"outlinewidth\":0,\"ticks\":\"\"}}}],\"scattercarpet\":[{\"type\":\"scattercarpet\",\"marker\":{\"colorbar\":{\"outlinewidth\":0,\"ticks\":\"\"}}}],\"carpet\":[{\"aaxis\":{\"endlinecolor\":\"#2a3f5f\",\"gridcolor\":\"white\",\"linecolor\":\"white\",\"minorgridcolor\":\"white\",\"startlinecolor\":\"#2a3f5f\"},\"baxis\":{\"endlinecolor\":\"#2a3f5f\",\"gridcolor\":\"white\",\"linecolor\":\"white\",\"minorgridcolor\":\"white\",\"startlinecolor\":\"#2a3f5f\"},\"type\":\"carpet\"}],\"table\":[{\"cells\":{\"fill\":{\"color\":\"#EBF0F8\"},\"line\":{\"color\":\"white\"}},\"header\":{\"fill\":{\"color\":\"#C8D4E3\"},\"line\":{\"color\":\"white\"}},\"type\":\"table\"}],\"barpolar\":[{\"marker\":{\"line\":{\"color\":\"#E5ECF6\",\"width\":0.5},\"pattern\":{\"fillmode\":\"overlay\",\"size\":10,\"solidity\":0.2}},\"type\":\"barpolar\"}],\"pie\":[{\"automargin\":true,\"type\":\"pie\"}]},\"layout\":{\"autotypenumbers\":\"strict\",\"colorway\":[\"#636efa\",\"#EF553B\",\"#00cc96\",\"#ab63fa\",\"#FFA15A\",\"#19d3f3\",\"#FF6692\",\"#B6E880\",\"#FF97FF\",\"#FECB52\"],\"font\":{\"color\":\"#2a3f5f\"},\"hovermode\":\"closest\",\"hoverlabel\":{\"align\":\"left\"},\"paper_bgcolor\":\"white\",\"plot_bgcolor\":\"#E5ECF6\",\"polar\":{\"bgcolor\":\"#E5ECF6\",\"angularaxis\":{\"gridcolor\":\"white\",\"linecolor\":\"white\",\"ticks\":\"\"},\"radialaxis\":{\"gridcolor\":\"white\",\"linecolor\":\"white\",\"ticks\":\"\"}},\"ternary\":{\"bgcolor\":\"#E5ECF6\",\"aaxis\":{\"gridcolor\":\"white\",\"linecolor\":\"white\",\"ticks\":\"\"},\"baxis\":{\"gridcolor\":\"white\",\"linecolor\":\"white\",\"ticks\":\"\"},\"caxis\":{\"gridcolor\":\"white\",\"linecolor\":\"white\",\"ticks\":\"\"}},\"coloraxis\":{\"colorbar\":{\"outlinewidth\":0,\"ticks\":\"\"}},\"colorscale\":{\"sequential\":[[0.0,\"#0d0887\"],[0.1111111111111111,\"#46039f\"],[0.2222222222222222,\"#7201a8\"],[0.3333333333333333,\"#9c179e\"],[0.4444444444444444,\"#bd3786\"],[0.5555555555555556,\"#d8576b\"],[0.6666666666666666,\"#ed7953\"],[0.7777777777777778,\"#fb9f3a\"],[0.8888888888888888,\"#fdca26\"],[1.0,\"#f0f921\"]],\"sequentialminus\":[[0.0,\"#0d0887\"],[0.1111111111111111,\"#46039f\"],[0.2222222222222222,\"#7201a8\"],[0.3333333333333333,\"#9c179e\"],[0.4444444444444444,\"#bd3786\"],[0.5555555555555556,\"#d8576b\"],[0.6666666666666666,\"#ed7953\"],[0.7777777777777778,\"#fb9f3a\"],[0.8888888888888888,\"#fdca26\"],[1.0,\"#f0f921\"]],\"diverging\":[[0,\"#8e0152\"],[0.1,\"#c51b7d\"],[0.2,\"#de77ae\"],[0.3,\"#f1b6da\"],[0.4,\"#fde0ef\"],[0.5,\"#f7f7f7\"],[0.6,\"#e6f5d0\"],[0.7,\"#b8e186\"],[0.8,\"#7fbc41\"],[0.9,\"#4d9221\"],[1,\"#276419\"]]},\"xaxis\":{\"gridcolor\":\"white\",\"linecolor\":\"white\",\"ticks\":\"\",\"title\":{\"standoff\":15},\"zerolinecolor\":\"white\",\"automargin\":true,\"zerolinewidth\":2},\"yaxis\":{\"gridcolor\":\"white\",\"linecolor\":\"white\",\"ticks\":\"\",\"title\":{\"standoff\":15},\"zerolinecolor\":\"white\",\"automargin\":true,\"zerolinewidth\":2},\"scene\":{\"xaxis\":{\"backgroundcolor\":\"#E5ECF6\",\"gridcolor\":\"white\",\"linecolor\":\"white\",\"showbackground\":true,\"ticks\":\"\",\"zerolinecolor\":\"white\",\"gridwidth\":2},\"yaxis\":{\"backgroundcolor\":\"#E5ECF6\",\"gridcolor\":\"white\",\"linecolor\":\"white\",\"showbackground\":true,\"ticks\":\"\",\"zerolinecolor\":\"white\",\"gridwidth\":2},\"zaxis\":{\"backgroundcolor\":\"#E5ECF6\",\"gridcolor\":\"white\",\"linecolor\":\"white\",\"showbackground\":true,\"ticks\":\"\",\"zerolinecolor\":\"white\",\"gridwidth\":2}},\"shapedefaults\":{\"line\":{\"color\":\"#2a3f5f\"}},\"annotationdefaults\":{\"arrowcolor\":\"#2a3f5f\",\"arrowhead\":0,\"arrowwidth\":1},\"geo\":{\"bgcolor\":\"white\",\"landcolor\":\"#E5ECF6\",\"subunitcolor\":\"white\",\"showland\":true,\"showlakes\":true,\"lakecolor\":\"white\"},\"title\":{\"x\":0.05},\"mapbox\":{\"style\":\"light\"}}},\"xaxis\":{\"anchor\":\"y\",\"domain\":[0.0,0.94],\"title\":{\"text\":\"Day phase\"}},\"yaxis\":{\"anchor\":\"x\",\"domain\":[0.0,1.0],\"title\":{\"text\":\"% with retweets\"}},\"yaxis2\":{\"anchor\":\"x\",\"overlaying\":\"y\",\"side\":\"right\",\"title\":{\"text\":\"% with likes\"}},\"title\":{\"text\":\"Percentage of retweets and likes during the day\"},\"width\":900,\"height\":500},                        {\"responsive\": true}                    ).then(function(){\n                            \nvar gd = document.getElementById('88210222-1b0d-41e0-86f7-feba01c29bae');\nvar x = new MutationObserver(function (mutations, observer) {{\n        var display = window.getComputedStyle(gd).display;\n        if (!display || display === 'none') {{\n            console.log([gd, 'removed!']);\n            Plotly.purge(gd);\n            observer.disconnect();\n        }}\n}});\n\n// Listen for the removal of the full notebook cells\nvar notebookContainer = gd.closest('#notebook-container');\nif (notebookContainer) {{\n    x.observe(notebookContainer, {childList: true});\n}}\n\n// Listen for the clearing of the current output cell\nvar outputEl = gd.closest('.output');\nif (outputEl) {{\n    x.observe(outputEl, {childList: true});\n}}\n\n                        })                };                });            </script>        </div>"
     },
     "metadata": {},
     "output_type": "display_data"
    },
    {
     "data": {
      "application/vnd.plotly.v1+json": {
       "data": [
        {
         "marker": {
          "color": "#006D77"
         },
         "name": "Retweets mean 2019",
         "text": [
          "0.41",
          "0.56",
          "0.56",
          "0.54",
          "0.52"
         ],
         "textposition": "inside",
         "width": 0.28,
         "x": [
          "Morning",
          "Afternoon",
          "Dusk",
          "Night",
          "Middle of the night"
         ],
         "y": [
          0.41,
          0.56,
          0.56,
          0.54,
          0.52
         ],
         "type": "bar",
         "xaxis": "x",
         "yaxis": "y"
        },
        {
         "marker": {
          "color": "#00B2CA"
         },
         "name": "Likes mean 2019",
         "x": [
          "Morning",
          "Afternoon",
          "Dusk",
          "Night",
          "Middle of the night"
         ],
         "y": [
          2.45,
          3.4,
          3.62,
          3.64,
          3.68
         ],
         "type": "scatter",
         "xaxis": "x",
         "yaxis": "y2"
        },
        {
         "marker": {
          "color": "#FBD1A2"
         },
         "name": "Retweets mean 2020",
         "text": [
          "0.41",
          "0.54",
          "0.53",
          "0.51",
          "0.48"
         ],
         "textposition": "inside",
         "width": 0.28,
         "x": [
          "Morning",
          "Afternoon",
          "Dusk",
          "Night",
          "Middle of the night"
         ],
         "y": [
          0.41,
          0.54,
          0.53,
          0.51,
          0.48
         ],
         "type": "bar",
         "xaxis": "x",
         "yaxis": "y"
        },
        {
         "marker": {
          "color": "#1D4E89"
         },
         "name": "Likes mean 2020",
         "x": [
          "Morning",
          "Afternoon",
          "Dusk",
          "Night",
          "Middle of the night"
         ],
         "y": [
          2.63,
          3.67,
          3.84,
          3.91,
          3.88
         ],
         "type": "scatter",
         "xaxis": "x",
         "yaxis": "y2"
        },
        {
         "marker": {
          "color": "#7DCFB6"
         },
         "name": "Retweets mean 2021",
         "text": [
          "0.37",
          "0.58",
          "0.55",
          "0.55",
          "0.5"
         ],
         "textposition": "inside",
         "width": 0.28,
         "x": [
          "Morning",
          "Afternoon",
          "Dusk",
          "Night",
          "Middle of the night"
         ],
         "y": [
          0.37,
          0.58,
          0.55,
          0.55,
          0.5
         ],
         "type": "bar",
         "xaxis": "x",
         "yaxis": "y"
        },
        {
         "marker": {
          "color": "#F79256"
         },
         "name": "Likes mean 2021",
         "x": [
          "Morning",
          "Afternoon",
          "Dusk",
          "Night",
          "Middle of the night"
         ],
         "y": [
          2.92,
          4.88,
          4.92,
          4.95,
          4.89
         ],
         "type": "scatter",
         "xaxis": "x",
         "yaxis": "y2"
        }
       ],
       "layout": {
        "template": {
         "data": {
          "histogram2dcontour": [
           {
            "type": "histogram2dcontour",
            "colorbar": {
             "outlinewidth": 0,
             "ticks": ""
            },
            "colorscale": [
             [
              0.0,
              "#0d0887"
             ],
             [
              0.1111111111111111,
              "#46039f"
             ],
             [
              0.2222222222222222,
              "#7201a8"
             ],
             [
              0.3333333333333333,
              "#9c179e"
             ],
             [
              0.4444444444444444,
              "#bd3786"
             ],
             [
              0.5555555555555556,
              "#d8576b"
             ],
             [
              0.6666666666666666,
              "#ed7953"
             ],
             [
              0.7777777777777778,
              "#fb9f3a"
             ],
             [
              0.8888888888888888,
              "#fdca26"
             ],
             [
              1.0,
              "#f0f921"
             ]
            ]
           }
          ],
          "choropleth": [
           {
            "type": "choropleth",
            "colorbar": {
             "outlinewidth": 0,
             "ticks": ""
            }
           }
          ],
          "histogram2d": [
           {
            "type": "histogram2d",
            "colorbar": {
             "outlinewidth": 0,
             "ticks": ""
            },
            "colorscale": [
             [
              0.0,
              "#0d0887"
             ],
             [
              0.1111111111111111,
              "#46039f"
             ],
             [
              0.2222222222222222,
              "#7201a8"
             ],
             [
              0.3333333333333333,
              "#9c179e"
             ],
             [
              0.4444444444444444,
              "#bd3786"
             ],
             [
              0.5555555555555556,
              "#d8576b"
             ],
             [
              0.6666666666666666,
              "#ed7953"
             ],
             [
              0.7777777777777778,
              "#fb9f3a"
             ],
             [
              0.8888888888888888,
              "#fdca26"
             ],
             [
              1.0,
              "#f0f921"
             ]
            ]
           }
          ],
          "heatmap": [
           {
            "type": "heatmap",
            "colorbar": {
             "outlinewidth": 0,
             "ticks": ""
            },
            "colorscale": [
             [
              0.0,
              "#0d0887"
             ],
             [
              0.1111111111111111,
              "#46039f"
             ],
             [
              0.2222222222222222,
              "#7201a8"
             ],
             [
              0.3333333333333333,
              "#9c179e"
             ],
             [
              0.4444444444444444,
              "#bd3786"
             ],
             [
              0.5555555555555556,
              "#d8576b"
             ],
             [
              0.6666666666666666,
              "#ed7953"
             ],
             [
              0.7777777777777778,
              "#fb9f3a"
             ],
             [
              0.8888888888888888,
              "#fdca26"
             ],
             [
              1.0,
              "#f0f921"
             ]
            ]
           }
          ],
          "heatmapgl": [
           {
            "type": "heatmapgl",
            "colorbar": {
             "outlinewidth": 0,
             "ticks": ""
            },
            "colorscale": [
             [
              0.0,
              "#0d0887"
             ],
             [
              0.1111111111111111,
              "#46039f"
             ],
             [
              0.2222222222222222,
              "#7201a8"
             ],
             [
              0.3333333333333333,
              "#9c179e"
             ],
             [
              0.4444444444444444,
              "#bd3786"
             ],
             [
              0.5555555555555556,
              "#d8576b"
             ],
             [
              0.6666666666666666,
              "#ed7953"
             ],
             [
              0.7777777777777778,
              "#fb9f3a"
             ],
             [
              0.8888888888888888,
              "#fdca26"
             ],
             [
              1.0,
              "#f0f921"
             ]
            ]
           }
          ],
          "contourcarpet": [
           {
            "type": "contourcarpet",
            "colorbar": {
             "outlinewidth": 0,
             "ticks": ""
            }
           }
          ],
          "contour": [
           {
            "type": "contour",
            "colorbar": {
             "outlinewidth": 0,
             "ticks": ""
            },
            "colorscale": [
             [
              0.0,
              "#0d0887"
             ],
             [
              0.1111111111111111,
              "#46039f"
             ],
             [
              0.2222222222222222,
              "#7201a8"
             ],
             [
              0.3333333333333333,
              "#9c179e"
             ],
             [
              0.4444444444444444,
              "#bd3786"
             ],
             [
              0.5555555555555556,
              "#d8576b"
             ],
             [
              0.6666666666666666,
              "#ed7953"
             ],
             [
              0.7777777777777778,
              "#fb9f3a"
             ],
             [
              0.8888888888888888,
              "#fdca26"
             ],
             [
              1.0,
              "#f0f921"
             ]
            ]
           }
          ],
          "surface": [
           {
            "type": "surface",
            "colorbar": {
             "outlinewidth": 0,
             "ticks": ""
            },
            "colorscale": [
             [
              0.0,
              "#0d0887"
             ],
             [
              0.1111111111111111,
              "#46039f"
             ],
             [
              0.2222222222222222,
              "#7201a8"
             ],
             [
              0.3333333333333333,
              "#9c179e"
             ],
             [
              0.4444444444444444,
              "#bd3786"
             ],
             [
              0.5555555555555556,
              "#d8576b"
             ],
             [
              0.6666666666666666,
              "#ed7953"
             ],
             [
              0.7777777777777778,
              "#fb9f3a"
             ],
             [
              0.8888888888888888,
              "#fdca26"
             ],
             [
              1.0,
              "#f0f921"
             ]
            ]
           }
          ],
          "mesh3d": [
           {
            "type": "mesh3d",
            "colorbar": {
             "outlinewidth": 0,
             "ticks": ""
            }
           }
          ],
          "scatter": [
           {
            "fillpattern": {
             "fillmode": "overlay",
             "size": 10,
             "solidity": 0.2
            },
            "type": "scatter"
           }
          ],
          "parcoords": [
           {
            "type": "parcoords",
            "line": {
             "colorbar": {
              "outlinewidth": 0,
              "ticks": ""
             }
            }
           }
          ],
          "scatterpolargl": [
           {
            "type": "scatterpolargl",
            "marker": {
             "colorbar": {
              "outlinewidth": 0,
              "ticks": ""
             }
            }
           }
          ],
          "bar": [
           {
            "error_x": {
             "color": "#2a3f5f"
            },
            "error_y": {
             "color": "#2a3f5f"
            },
            "marker": {
             "line": {
              "color": "#E5ECF6",
              "width": 0.5
             },
             "pattern": {
              "fillmode": "overlay",
              "size": 10,
              "solidity": 0.2
             }
            },
            "type": "bar"
           }
          ],
          "scattergeo": [
           {
            "type": "scattergeo",
            "marker": {
             "colorbar": {
              "outlinewidth": 0,
              "ticks": ""
             }
            }
           }
          ],
          "scatterpolar": [
           {
            "type": "scatterpolar",
            "marker": {
             "colorbar": {
              "outlinewidth": 0,
              "ticks": ""
             }
            }
           }
          ],
          "histogram": [
           {
            "marker": {
             "pattern": {
              "fillmode": "overlay",
              "size": 10,
              "solidity": 0.2
             }
            },
            "type": "histogram"
           }
          ],
          "scattergl": [
           {
            "type": "scattergl",
            "marker": {
             "colorbar": {
              "outlinewidth": 0,
              "ticks": ""
             }
            }
           }
          ],
          "scatter3d": [
           {
            "type": "scatter3d",
            "line": {
             "colorbar": {
              "outlinewidth": 0,
              "ticks": ""
             }
            },
            "marker": {
             "colorbar": {
              "outlinewidth": 0,
              "ticks": ""
             }
            }
           }
          ],
          "scattermapbox": [
           {
            "type": "scattermapbox",
            "marker": {
             "colorbar": {
              "outlinewidth": 0,
              "ticks": ""
             }
            }
           }
          ],
          "scatterternary": [
           {
            "type": "scatterternary",
            "marker": {
             "colorbar": {
              "outlinewidth": 0,
              "ticks": ""
             }
            }
           }
          ],
          "scattercarpet": [
           {
            "type": "scattercarpet",
            "marker": {
             "colorbar": {
              "outlinewidth": 0,
              "ticks": ""
             }
            }
           }
          ],
          "carpet": [
           {
            "aaxis": {
             "endlinecolor": "#2a3f5f",
             "gridcolor": "white",
             "linecolor": "white",
             "minorgridcolor": "white",
             "startlinecolor": "#2a3f5f"
            },
            "baxis": {
             "endlinecolor": "#2a3f5f",
             "gridcolor": "white",
             "linecolor": "white",
             "minorgridcolor": "white",
             "startlinecolor": "#2a3f5f"
            },
            "type": "carpet"
           }
          ],
          "table": [
           {
            "cells": {
             "fill": {
              "color": "#EBF0F8"
             },
             "line": {
              "color": "white"
             }
            },
            "header": {
             "fill": {
              "color": "#C8D4E3"
             },
             "line": {
              "color": "white"
             }
            },
            "type": "table"
           }
          ],
          "barpolar": [
           {
            "marker": {
             "line": {
              "color": "#E5ECF6",
              "width": 0.5
             },
             "pattern": {
              "fillmode": "overlay",
              "size": 10,
              "solidity": 0.2
             }
            },
            "type": "barpolar"
           }
          ],
          "pie": [
           {
            "automargin": true,
            "type": "pie"
           }
          ]
         },
         "layout": {
          "autotypenumbers": "strict",
          "colorway": [
           "#636efa",
           "#EF553B",
           "#00cc96",
           "#ab63fa",
           "#FFA15A",
           "#19d3f3",
           "#FF6692",
           "#B6E880",
           "#FF97FF",
           "#FECB52"
          ],
          "font": {
           "color": "#2a3f5f"
          },
          "hovermode": "closest",
          "hoverlabel": {
           "align": "left"
          },
          "paper_bgcolor": "white",
          "plot_bgcolor": "#E5ECF6",
          "polar": {
           "bgcolor": "#E5ECF6",
           "angularaxis": {
            "gridcolor": "white",
            "linecolor": "white",
            "ticks": ""
           },
           "radialaxis": {
            "gridcolor": "white",
            "linecolor": "white",
            "ticks": ""
           }
          },
          "ternary": {
           "bgcolor": "#E5ECF6",
           "aaxis": {
            "gridcolor": "white",
            "linecolor": "white",
            "ticks": ""
           },
           "baxis": {
            "gridcolor": "white",
            "linecolor": "white",
            "ticks": ""
           },
           "caxis": {
            "gridcolor": "white",
            "linecolor": "white",
            "ticks": ""
           }
          },
          "coloraxis": {
           "colorbar": {
            "outlinewidth": 0,
            "ticks": ""
           }
          },
          "colorscale": {
           "sequential": [
            [
             0.0,
             "#0d0887"
            ],
            [
             0.1111111111111111,
             "#46039f"
            ],
            [
             0.2222222222222222,
             "#7201a8"
            ],
            [
             0.3333333333333333,
             "#9c179e"
            ],
            [
             0.4444444444444444,
             "#bd3786"
            ],
            [
             0.5555555555555556,
             "#d8576b"
            ],
            [
             0.6666666666666666,
             "#ed7953"
            ],
            [
             0.7777777777777778,
             "#fb9f3a"
            ],
            [
             0.8888888888888888,
             "#fdca26"
            ],
            [
             1.0,
             "#f0f921"
            ]
           ],
           "sequentialminus": [
            [
             0.0,
             "#0d0887"
            ],
            [
             0.1111111111111111,
             "#46039f"
            ],
            [
             0.2222222222222222,
             "#7201a8"
            ],
            [
             0.3333333333333333,
             "#9c179e"
            ],
            [
             0.4444444444444444,
             "#bd3786"
            ],
            [
             0.5555555555555556,
             "#d8576b"
            ],
            [
             0.6666666666666666,
             "#ed7953"
            ],
            [
             0.7777777777777778,
             "#fb9f3a"
            ],
            [
             0.8888888888888888,
             "#fdca26"
            ],
            [
             1.0,
             "#f0f921"
            ]
           ],
           "diverging": [
            [
             0,
             "#8e0152"
            ],
            [
             0.1,
             "#c51b7d"
            ],
            [
             0.2,
             "#de77ae"
            ],
            [
             0.3,
             "#f1b6da"
            ],
            [
             0.4,
             "#fde0ef"
            ],
            [
             0.5,
             "#f7f7f7"
            ],
            [
             0.6,
             "#e6f5d0"
            ],
            [
             0.7,
             "#b8e186"
            ],
            [
             0.8,
             "#7fbc41"
            ],
            [
             0.9,
             "#4d9221"
            ],
            [
             1,
             "#276419"
            ]
           ]
          },
          "xaxis": {
           "gridcolor": "white",
           "linecolor": "white",
           "ticks": "",
           "title": {
            "standoff": 15
           },
           "zerolinecolor": "white",
           "automargin": true,
           "zerolinewidth": 2
          },
          "yaxis": {
           "gridcolor": "white",
           "linecolor": "white",
           "ticks": "",
           "title": {
            "standoff": 15
           },
           "zerolinecolor": "white",
           "automargin": true,
           "zerolinewidth": 2
          },
          "scene": {
           "xaxis": {
            "backgroundcolor": "#E5ECF6",
            "gridcolor": "white",
            "linecolor": "white",
            "showbackground": true,
            "ticks": "",
            "zerolinecolor": "white",
            "gridwidth": 2
           },
           "yaxis": {
            "backgroundcolor": "#E5ECF6",
            "gridcolor": "white",
            "linecolor": "white",
            "showbackground": true,
            "ticks": "",
            "zerolinecolor": "white",
            "gridwidth": 2
           },
           "zaxis": {
            "backgroundcolor": "#E5ECF6",
            "gridcolor": "white",
            "linecolor": "white",
            "showbackground": true,
            "ticks": "",
            "zerolinecolor": "white",
            "gridwidth": 2
           }
          },
          "shapedefaults": {
           "line": {
            "color": "#2a3f5f"
           }
          },
          "annotationdefaults": {
           "arrowcolor": "#2a3f5f",
           "arrowhead": 0,
           "arrowwidth": 1
          },
          "geo": {
           "bgcolor": "white",
           "landcolor": "#E5ECF6",
           "subunitcolor": "white",
           "showland": true,
           "showlakes": true,
           "lakecolor": "white"
          },
          "title": {
           "x": 0.05
          },
          "mapbox": {
           "style": "light"
          }
         }
        },
        "xaxis": {
         "anchor": "y",
         "domain": [
          0.0,
          0.94
         ],
         "title": {
          "text": "Day phase"
         }
        },
        "yaxis": {
         "anchor": "x",
         "domain": [
          0.0,
          1.0
         ],
         "title": {
          "text": "Retweets mean"
         }
        },
        "yaxis2": {
         "anchor": "x",
         "overlaying": "y",
         "side": "right",
         "title": {
          "text": "Likes mean"
         }
        },
        "title": {
         "text": "Average retweets and likes during the day"
        },
        "width": 900,
        "height": 500
       },
       "config": {
        "plotlyServerURL": "https://plot.ly"
       }
      },
      "text/html": "<div>                            <div id=\"a36fa61f-096d-4801-af9e-4de69bcec0f6\" class=\"plotly-graph-div\" style=\"height:500px; width:900px;\"></div>            <script type=\"text/javascript\">                require([\"plotly\"], function(Plotly) {                    window.PLOTLYENV=window.PLOTLYENV || {};                                    if (document.getElementById(\"a36fa61f-096d-4801-af9e-4de69bcec0f6\")) {                    Plotly.newPlot(                        \"a36fa61f-096d-4801-af9e-4de69bcec0f6\",                        [{\"marker\":{\"color\":\"#006D77\"},\"name\":\"Retweets mean 2019\",\"text\":[\"0.41\",\"0.56\",\"0.56\",\"0.54\",\"0.52\"],\"textposition\":\"inside\",\"width\":0.28,\"x\":[\"Morning\",\"Afternoon\",\"Dusk\",\"Night\",\"Middle of the night\"],\"y\":[0.41,0.56,0.56,0.54,0.52],\"type\":\"bar\",\"xaxis\":\"x\",\"yaxis\":\"y\"},{\"marker\":{\"color\":\"#00B2CA\"},\"name\":\"Likes mean 2019\",\"x\":[\"Morning\",\"Afternoon\",\"Dusk\",\"Night\",\"Middle of the night\"],\"y\":[2.45,3.4,3.62,3.64,3.68],\"type\":\"scatter\",\"xaxis\":\"x\",\"yaxis\":\"y2\"},{\"marker\":{\"color\":\"#FBD1A2\"},\"name\":\"Retweets mean 2020\",\"text\":[\"0.41\",\"0.54\",\"0.53\",\"0.51\",\"0.48\"],\"textposition\":\"inside\",\"width\":0.28,\"x\":[\"Morning\",\"Afternoon\",\"Dusk\",\"Night\",\"Middle of the night\"],\"y\":[0.41,0.54,0.53,0.51,0.48],\"type\":\"bar\",\"xaxis\":\"x\",\"yaxis\":\"y\"},{\"marker\":{\"color\":\"#1D4E89\"},\"name\":\"Likes mean 2020\",\"x\":[\"Morning\",\"Afternoon\",\"Dusk\",\"Night\",\"Middle of the night\"],\"y\":[2.63,3.67,3.84,3.91,3.88],\"type\":\"scatter\",\"xaxis\":\"x\",\"yaxis\":\"y2\"},{\"marker\":{\"color\":\"#7DCFB6\"},\"name\":\"Retweets mean 2021\",\"text\":[\"0.37\",\"0.58\",\"0.55\",\"0.55\",\"0.5\"],\"textposition\":\"inside\",\"width\":0.28,\"x\":[\"Morning\",\"Afternoon\",\"Dusk\",\"Night\",\"Middle of the night\"],\"y\":[0.37,0.58,0.55,0.55,0.5],\"type\":\"bar\",\"xaxis\":\"x\",\"yaxis\":\"y\"},{\"marker\":{\"color\":\"#F79256\"},\"name\":\"Likes mean 2021\",\"x\":[\"Morning\",\"Afternoon\",\"Dusk\",\"Night\",\"Middle of the night\"],\"y\":[2.92,4.88,4.92,4.95,4.89],\"type\":\"scatter\",\"xaxis\":\"x\",\"yaxis\":\"y2\"}],                        {\"template\":{\"data\":{\"histogram2dcontour\":[{\"type\":\"histogram2dcontour\",\"colorbar\":{\"outlinewidth\":0,\"ticks\":\"\"},\"colorscale\":[[0.0,\"#0d0887\"],[0.1111111111111111,\"#46039f\"],[0.2222222222222222,\"#7201a8\"],[0.3333333333333333,\"#9c179e\"],[0.4444444444444444,\"#bd3786\"],[0.5555555555555556,\"#d8576b\"],[0.6666666666666666,\"#ed7953\"],[0.7777777777777778,\"#fb9f3a\"],[0.8888888888888888,\"#fdca26\"],[1.0,\"#f0f921\"]]}],\"choropleth\":[{\"type\":\"choropleth\",\"colorbar\":{\"outlinewidth\":0,\"ticks\":\"\"}}],\"histogram2d\":[{\"type\":\"histogram2d\",\"colorbar\":{\"outlinewidth\":0,\"ticks\":\"\"},\"colorscale\":[[0.0,\"#0d0887\"],[0.1111111111111111,\"#46039f\"],[0.2222222222222222,\"#7201a8\"],[0.3333333333333333,\"#9c179e\"],[0.4444444444444444,\"#bd3786\"],[0.5555555555555556,\"#d8576b\"],[0.6666666666666666,\"#ed7953\"],[0.7777777777777778,\"#fb9f3a\"],[0.8888888888888888,\"#fdca26\"],[1.0,\"#f0f921\"]]}],\"heatmap\":[{\"type\":\"heatmap\",\"colorbar\":{\"outlinewidth\":0,\"ticks\":\"\"},\"colorscale\":[[0.0,\"#0d0887\"],[0.1111111111111111,\"#46039f\"],[0.2222222222222222,\"#7201a8\"],[0.3333333333333333,\"#9c179e\"],[0.4444444444444444,\"#bd3786\"],[0.5555555555555556,\"#d8576b\"],[0.6666666666666666,\"#ed7953\"],[0.7777777777777778,\"#fb9f3a\"],[0.8888888888888888,\"#fdca26\"],[1.0,\"#f0f921\"]]}],\"heatmapgl\":[{\"type\":\"heatmapgl\",\"colorbar\":{\"outlinewidth\":0,\"ticks\":\"\"},\"colorscale\":[[0.0,\"#0d0887\"],[0.1111111111111111,\"#46039f\"],[0.2222222222222222,\"#7201a8\"],[0.3333333333333333,\"#9c179e\"],[0.4444444444444444,\"#bd3786\"],[0.5555555555555556,\"#d8576b\"],[0.6666666666666666,\"#ed7953\"],[0.7777777777777778,\"#fb9f3a\"],[0.8888888888888888,\"#fdca26\"],[1.0,\"#f0f921\"]]}],\"contourcarpet\":[{\"type\":\"contourcarpet\",\"colorbar\":{\"outlinewidth\":0,\"ticks\":\"\"}}],\"contour\":[{\"type\":\"contour\",\"colorbar\":{\"outlinewidth\":0,\"ticks\":\"\"},\"colorscale\":[[0.0,\"#0d0887\"],[0.1111111111111111,\"#46039f\"],[0.2222222222222222,\"#7201a8\"],[0.3333333333333333,\"#9c179e\"],[0.4444444444444444,\"#bd3786\"],[0.5555555555555556,\"#d8576b\"],[0.6666666666666666,\"#ed7953\"],[0.7777777777777778,\"#fb9f3a\"],[0.8888888888888888,\"#fdca26\"],[1.0,\"#f0f921\"]]}],\"surface\":[{\"type\":\"surface\",\"colorbar\":{\"outlinewidth\":0,\"ticks\":\"\"},\"colorscale\":[[0.0,\"#0d0887\"],[0.1111111111111111,\"#46039f\"],[0.2222222222222222,\"#7201a8\"],[0.3333333333333333,\"#9c179e\"],[0.4444444444444444,\"#bd3786\"],[0.5555555555555556,\"#d8576b\"],[0.6666666666666666,\"#ed7953\"],[0.7777777777777778,\"#fb9f3a\"],[0.8888888888888888,\"#fdca26\"],[1.0,\"#f0f921\"]]}],\"mesh3d\":[{\"type\":\"mesh3d\",\"colorbar\":{\"outlinewidth\":0,\"ticks\":\"\"}}],\"scatter\":[{\"fillpattern\":{\"fillmode\":\"overlay\",\"size\":10,\"solidity\":0.2},\"type\":\"scatter\"}],\"parcoords\":[{\"type\":\"parcoords\",\"line\":{\"colorbar\":{\"outlinewidth\":0,\"ticks\":\"\"}}}],\"scatterpolargl\":[{\"type\":\"scatterpolargl\",\"marker\":{\"colorbar\":{\"outlinewidth\":0,\"ticks\":\"\"}}}],\"bar\":[{\"error_x\":{\"color\":\"#2a3f5f\"},\"error_y\":{\"color\":\"#2a3f5f\"},\"marker\":{\"line\":{\"color\":\"#E5ECF6\",\"width\":0.5},\"pattern\":{\"fillmode\":\"overlay\",\"size\":10,\"solidity\":0.2}},\"type\":\"bar\"}],\"scattergeo\":[{\"type\":\"scattergeo\",\"marker\":{\"colorbar\":{\"outlinewidth\":0,\"ticks\":\"\"}}}],\"scatterpolar\":[{\"type\":\"scatterpolar\",\"marker\":{\"colorbar\":{\"outlinewidth\":0,\"ticks\":\"\"}}}],\"histogram\":[{\"marker\":{\"pattern\":{\"fillmode\":\"overlay\",\"size\":10,\"solidity\":0.2}},\"type\":\"histogram\"}],\"scattergl\":[{\"type\":\"scattergl\",\"marker\":{\"colorbar\":{\"outlinewidth\":0,\"ticks\":\"\"}}}],\"scatter3d\":[{\"type\":\"scatter3d\",\"line\":{\"colorbar\":{\"outlinewidth\":0,\"ticks\":\"\"}},\"marker\":{\"colorbar\":{\"outlinewidth\":0,\"ticks\":\"\"}}}],\"scattermapbox\":[{\"type\":\"scattermapbox\",\"marker\":{\"colorbar\":{\"outlinewidth\":0,\"ticks\":\"\"}}}],\"scatterternary\":[{\"type\":\"scatterternary\",\"marker\":{\"colorbar\":{\"outlinewidth\":0,\"ticks\":\"\"}}}],\"scattercarpet\":[{\"type\":\"scattercarpet\",\"marker\":{\"colorbar\":{\"outlinewidth\":0,\"ticks\":\"\"}}}],\"carpet\":[{\"aaxis\":{\"endlinecolor\":\"#2a3f5f\",\"gridcolor\":\"white\",\"linecolor\":\"white\",\"minorgridcolor\":\"white\",\"startlinecolor\":\"#2a3f5f\"},\"baxis\":{\"endlinecolor\":\"#2a3f5f\",\"gridcolor\":\"white\",\"linecolor\":\"white\",\"minorgridcolor\":\"white\",\"startlinecolor\":\"#2a3f5f\"},\"type\":\"carpet\"}],\"table\":[{\"cells\":{\"fill\":{\"color\":\"#EBF0F8\"},\"line\":{\"color\":\"white\"}},\"header\":{\"fill\":{\"color\":\"#C8D4E3\"},\"line\":{\"color\":\"white\"}},\"type\":\"table\"}],\"barpolar\":[{\"marker\":{\"line\":{\"color\":\"#E5ECF6\",\"width\":0.5},\"pattern\":{\"fillmode\":\"overlay\",\"size\":10,\"solidity\":0.2}},\"type\":\"barpolar\"}],\"pie\":[{\"automargin\":true,\"type\":\"pie\"}]},\"layout\":{\"autotypenumbers\":\"strict\",\"colorway\":[\"#636efa\",\"#EF553B\",\"#00cc96\",\"#ab63fa\",\"#FFA15A\",\"#19d3f3\",\"#FF6692\",\"#B6E880\",\"#FF97FF\",\"#FECB52\"],\"font\":{\"color\":\"#2a3f5f\"},\"hovermode\":\"closest\",\"hoverlabel\":{\"align\":\"left\"},\"paper_bgcolor\":\"white\",\"plot_bgcolor\":\"#E5ECF6\",\"polar\":{\"bgcolor\":\"#E5ECF6\",\"angularaxis\":{\"gridcolor\":\"white\",\"linecolor\":\"white\",\"ticks\":\"\"},\"radialaxis\":{\"gridcolor\":\"white\",\"linecolor\":\"white\",\"ticks\":\"\"}},\"ternary\":{\"bgcolor\":\"#E5ECF6\",\"aaxis\":{\"gridcolor\":\"white\",\"linecolor\":\"white\",\"ticks\":\"\"},\"baxis\":{\"gridcolor\":\"white\",\"linecolor\":\"white\",\"ticks\":\"\"},\"caxis\":{\"gridcolor\":\"white\",\"linecolor\":\"white\",\"ticks\":\"\"}},\"coloraxis\":{\"colorbar\":{\"outlinewidth\":0,\"ticks\":\"\"}},\"colorscale\":{\"sequential\":[[0.0,\"#0d0887\"],[0.1111111111111111,\"#46039f\"],[0.2222222222222222,\"#7201a8\"],[0.3333333333333333,\"#9c179e\"],[0.4444444444444444,\"#bd3786\"],[0.5555555555555556,\"#d8576b\"],[0.6666666666666666,\"#ed7953\"],[0.7777777777777778,\"#fb9f3a\"],[0.8888888888888888,\"#fdca26\"],[1.0,\"#f0f921\"]],\"sequentialminus\":[[0.0,\"#0d0887\"],[0.1111111111111111,\"#46039f\"],[0.2222222222222222,\"#7201a8\"],[0.3333333333333333,\"#9c179e\"],[0.4444444444444444,\"#bd3786\"],[0.5555555555555556,\"#d8576b\"],[0.6666666666666666,\"#ed7953\"],[0.7777777777777778,\"#fb9f3a\"],[0.8888888888888888,\"#fdca26\"],[1.0,\"#f0f921\"]],\"diverging\":[[0,\"#8e0152\"],[0.1,\"#c51b7d\"],[0.2,\"#de77ae\"],[0.3,\"#f1b6da\"],[0.4,\"#fde0ef\"],[0.5,\"#f7f7f7\"],[0.6,\"#e6f5d0\"],[0.7,\"#b8e186\"],[0.8,\"#7fbc41\"],[0.9,\"#4d9221\"],[1,\"#276419\"]]},\"xaxis\":{\"gridcolor\":\"white\",\"linecolor\":\"white\",\"ticks\":\"\",\"title\":{\"standoff\":15},\"zerolinecolor\":\"white\",\"automargin\":true,\"zerolinewidth\":2},\"yaxis\":{\"gridcolor\":\"white\",\"linecolor\":\"white\",\"ticks\":\"\",\"title\":{\"standoff\":15},\"zerolinecolor\":\"white\",\"automargin\":true,\"zerolinewidth\":2},\"scene\":{\"xaxis\":{\"backgroundcolor\":\"#E5ECF6\",\"gridcolor\":\"white\",\"linecolor\":\"white\",\"showbackground\":true,\"ticks\":\"\",\"zerolinecolor\":\"white\",\"gridwidth\":2},\"yaxis\":{\"backgroundcolor\":\"#E5ECF6\",\"gridcolor\":\"white\",\"linecolor\":\"white\",\"showbackground\":true,\"ticks\":\"\",\"zerolinecolor\":\"white\",\"gridwidth\":2},\"zaxis\":{\"backgroundcolor\":\"#E5ECF6\",\"gridcolor\":\"white\",\"linecolor\":\"white\",\"showbackground\":true,\"ticks\":\"\",\"zerolinecolor\":\"white\",\"gridwidth\":2}},\"shapedefaults\":{\"line\":{\"color\":\"#2a3f5f\"}},\"annotationdefaults\":{\"arrowcolor\":\"#2a3f5f\",\"arrowhead\":0,\"arrowwidth\":1},\"geo\":{\"bgcolor\":\"white\",\"landcolor\":\"#E5ECF6\",\"subunitcolor\":\"white\",\"showland\":true,\"showlakes\":true,\"lakecolor\":\"white\"},\"title\":{\"x\":0.05},\"mapbox\":{\"style\":\"light\"}}},\"xaxis\":{\"anchor\":\"y\",\"domain\":[0.0,0.94],\"title\":{\"text\":\"Day phase\"}},\"yaxis\":{\"anchor\":\"x\",\"domain\":[0.0,1.0],\"title\":{\"text\":\"Retweets mean\"}},\"yaxis2\":{\"anchor\":\"x\",\"overlaying\":\"y\",\"side\":\"right\",\"title\":{\"text\":\"Likes mean\"}},\"title\":{\"text\":\"Average retweets and likes during the day\"},\"width\":900,\"height\":500},                        {\"responsive\": true}                    ).then(function(){\n                            \nvar gd = document.getElementById('a36fa61f-096d-4801-af9e-4de69bcec0f6');\nvar x = new MutationObserver(function (mutations, observer) {{\n        var display = window.getComputedStyle(gd).display;\n        if (!display || display === 'none') {{\n            console.log([gd, 'removed!']);\n            Plotly.purge(gd);\n            observer.disconnect();\n        }}\n}});\n\n// Listen for the removal of the full notebook cells\nvar notebookContainer = gd.closest('#notebook-container');\nif (notebookContainer) {{\n    x.observe(notebookContainer, {childList: true});\n}}\n\n// Listen for the clearing of the current output cell\nvar outputEl = gd.closest('.output');\nif (outputEl) {{\n    x.observe(outputEl, {childList: true});\n}}\n\n                        })                };                });            </script>        </div>"
     },
     "metadata": {},
     "output_type": "display_data"
    }
   ],
   "source": [
    "analysis_chart(df_analysis, 'day_phase', '% with retweets', '% with likes', 'Day phase', '% with retweets', '% with likes', 'Percentage of retweets and likes during the day', offline_graphs)\n",
    "analysis_chart(df_analysis, 'day_phase', 'retweets mean', 'likes mean', 'Day phase', 'Retweets mean', 'Likes mean', 'Average retweets and likes during the day', offline_graphs)"
   ],
   "metadata": {
    "collapsed": false,
    "pycharm": {
     "name": "#%%\n"
    }
   }
  },
  {
   "cell_type": "code",
   "execution_count": 44,
   "outputs": [
    {
     "data": {
      "application/vnd.plotly.v1+json": {
       "data": [
        {
         "marker": {
          "color": "#006D77"
         },
         "name": "% with retweets 2019",
         "text": [
          "17.17",
          "17.41",
          "17.65",
          "17.23",
          "17.12",
          "16.62",
          "16.24"
         ],
         "textposition": "inside",
         "width": 0.28,
         "x": [
          "Monday",
          "Tuesday",
          "Wednesday",
          "Thursday",
          "Friday",
          "Saturday",
          "Sunday"
         ],
         "y": [
          17.17,
          17.41,
          17.65,
          17.23,
          17.12,
          16.62,
          16.24
         ],
         "type": "bar",
         "xaxis": "x",
         "yaxis": "y"
        },
        {
         "marker": {
          "color": "#00B2CA"
         },
         "name": "% with likes 2019",
         "x": [
          "Monday",
          "Tuesday",
          "Wednesday",
          "Thursday",
          "Friday",
          "Saturday",
          "Sunday"
         ],
         "y": [
          48.71,
          48.8,
          49.1,
          48.65,
          48.64,
          48.85,
          48.16
         ],
         "type": "scatter",
         "xaxis": "x",
         "yaxis": "y2"
        },
        {
         "marker": {
          "color": "#FBD1A2"
         },
         "name": "% with retweets 2020",
         "text": [
          "16.39",
          "16.45",
          "16.27",
          "16.15",
          "16.35",
          "16.11",
          "15.72"
         ],
         "textposition": "inside",
         "width": 0.28,
         "x": [
          "Monday",
          "Tuesday",
          "Wednesday",
          "Thursday",
          "Friday",
          "Saturday",
          "Sunday"
         ],
         "y": [
          16.39,
          16.45,
          16.27,
          16.15,
          16.35,
          16.11,
          15.72
         ],
         "type": "bar",
         "xaxis": "x",
         "yaxis": "y"
        },
        {
         "marker": {
          "color": "#1D4E89"
         },
         "name": "% with likes 2020",
         "x": [
          "Monday",
          "Tuesday",
          "Wednesday",
          "Thursday",
          "Friday",
          "Saturday",
          "Sunday"
         ],
         "y": [
          48.86,
          48.44,
          48.87,
          48.64,
          49.32,
          49.53,
          48.96
         ],
         "type": "scatter",
         "xaxis": "x",
         "yaxis": "y2"
        },
        {
         "marker": {
          "color": "#7DCFB6"
         },
         "name": "% with retweets 2021",
         "text": [
          "16.17",
          "16.34",
          "16.17",
          "16.1",
          "16.37",
          "16.08",
          "15.26"
         ],
         "textposition": "inside",
         "width": 0.28,
         "x": [
          "Monday",
          "Tuesday",
          "Wednesday",
          "Thursday",
          "Friday",
          "Saturday",
          "Sunday"
         ],
         "y": [
          16.17,
          16.34,
          16.17,
          16.1,
          16.37,
          16.08,
          15.26
         ],
         "type": "bar",
         "xaxis": "x",
         "yaxis": "y"
        },
        {
         "marker": {
          "color": "#F79256"
         },
         "name": "% with likes 2021",
         "x": [
          "Monday",
          "Tuesday",
          "Wednesday",
          "Thursday",
          "Friday",
          "Saturday",
          "Sunday"
         ],
         "y": [
          49.36,
          49.65,
          49.85,
          49.6,
          50.4,
          50.76,
          49.94
         ],
         "type": "scatter",
         "xaxis": "x",
         "yaxis": "y2"
        }
       ],
       "layout": {
        "template": {
         "data": {
          "histogram2dcontour": [
           {
            "type": "histogram2dcontour",
            "colorbar": {
             "outlinewidth": 0,
             "ticks": ""
            },
            "colorscale": [
             [
              0.0,
              "#0d0887"
             ],
             [
              0.1111111111111111,
              "#46039f"
             ],
             [
              0.2222222222222222,
              "#7201a8"
             ],
             [
              0.3333333333333333,
              "#9c179e"
             ],
             [
              0.4444444444444444,
              "#bd3786"
             ],
             [
              0.5555555555555556,
              "#d8576b"
             ],
             [
              0.6666666666666666,
              "#ed7953"
             ],
             [
              0.7777777777777778,
              "#fb9f3a"
             ],
             [
              0.8888888888888888,
              "#fdca26"
             ],
             [
              1.0,
              "#f0f921"
             ]
            ]
           }
          ],
          "choropleth": [
           {
            "type": "choropleth",
            "colorbar": {
             "outlinewidth": 0,
             "ticks": ""
            }
           }
          ],
          "histogram2d": [
           {
            "type": "histogram2d",
            "colorbar": {
             "outlinewidth": 0,
             "ticks": ""
            },
            "colorscale": [
             [
              0.0,
              "#0d0887"
             ],
             [
              0.1111111111111111,
              "#46039f"
             ],
             [
              0.2222222222222222,
              "#7201a8"
             ],
             [
              0.3333333333333333,
              "#9c179e"
             ],
             [
              0.4444444444444444,
              "#bd3786"
             ],
             [
              0.5555555555555556,
              "#d8576b"
             ],
             [
              0.6666666666666666,
              "#ed7953"
             ],
             [
              0.7777777777777778,
              "#fb9f3a"
             ],
             [
              0.8888888888888888,
              "#fdca26"
             ],
             [
              1.0,
              "#f0f921"
             ]
            ]
           }
          ],
          "heatmap": [
           {
            "type": "heatmap",
            "colorbar": {
             "outlinewidth": 0,
             "ticks": ""
            },
            "colorscale": [
             [
              0.0,
              "#0d0887"
             ],
             [
              0.1111111111111111,
              "#46039f"
             ],
             [
              0.2222222222222222,
              "#7201a8"
             ],
             [
              0.3333333333333333,
              "#9c179e"
             ],
             [
              0.4444444444444444,
              "#bd3786"
             ],
             [
              0.5555555555555556,
              "#d8576b"
             ],
             [
              0.6666666666666666,
              "#ed7953"
             ],
             [
              0.7777777777777778,
              "#fb9f3a"
             ],
             [
              0.8888888888888888,
              "#fdca26"
             ],
             [
              1.0,
              "#f0f921"
             ]
            ]
           }
          ],
          "heatmapgl": [
           {
            "type": "heatmapgl",
            "colorbar": {
             "outlinewidth": 0,
             "ticks": ""
            },
            "colorscale": [
             [
              0.0,
              "#0d0887"
             ],
             [
              0.1111111111111111,
              "#46039f"
             ],
             [
              0.2222222222222222,
              "#7201a8"
             ],
             [
              0.3333333333333333,
              "#9c179e"
             ],
             [
              0.4444444444444444,
              "#bd3786"
             ],
             [
              0.5555555555555556,
              "#d8576b"
             ],
             [
              0.6666666666666666,
              "#ed7953"
             ],
             [
              0.7777777777777778,
              "#fb9f3a"
             ],
             [
              0.8888888888888888,
              "#fdca26"
             ],
             [
              1.0,
              "#f0f921"
             ]
            ]
           }
          ],
          "contourcarpet": [
           {
            "type": "contourcarpet",
            "colorbar": {
             "outlinewidth": 0,
             "ticks": ""
            }
           }
          ],
          "contour": [
           {
            "type": "contour",
            "colorbar": {
             "outlinewidth": 0,
             "ticks": ""
            },
            "colorscale": [
             [
              0.0,
              "#0d0887"
             ],
             [
              0.1111111111111111,
              "#46039f"
             ],
             [
              0.2222222222222222,
              "#7201a8"
             ],
             [
              0.3333333333333333,
              "#9c179e"
             ],
             [
              0.4444444444444444,
              "#bd3786"
             ],
             [
              0.5555555555555556,
              "#d8576b"
             ],
             [
              0.6666666666666666,
              "#ed7953"
             ],
             [
              0.7777777777777778,
              "#fb9f3a"
             ],
             [
              0.8888888888888888,
              "#fdca26"
             ],
             [
              1.0,
              "#f0f921"
             ]
            ]
           }
          ],
          "surface": [
           {
            "type": "surface",
            "colorbar": {
             "outlinewidth": 0,
             "ticks": ""
            },
            "colorscale": [
             [
              0.0,
              "#0d0887"
             ],
             [
              0.1111111111111111,
              "#46039f"
             ],
             [
              0.2222222222222222,
              "#7201a8"
             ],
             [
              0.3333333333333333,
              "#9c179e"
             ],
             [
              0.4444444444444444,
              "#bd3786"
             ],
             [
              0.5555555555555556,
              "#d8576b"
             ],
             [
              0.6666666666666666,
              "#ed7953"
             ],
             [
              0.7777777777777778,
              "#fb9f3a"
             ],
             [
              0.8888888888888888,
              "#fdca26"
             ],
             [
              1.0,
              "#f0f921"
             ]
            ]
           }
          ],
          "mesh3d": [
           {
            "type": "mesh3d",
            "colorbar": {
             "outlinewidth": 0,
             "ticks": ""
            }
           }
          ],
          "scatter": [
           {
            "fillpattern": {
             "fillmode": "overlay",
             "size": 10,
             "solidity": 0.2
            },
            "type": "scatter"
           }
          ],
          "parcoords": [
           {
            "type": "parcoords",
            "line": {
             "colorbar": {
              "outlinewidth": 0,
              "ticks": ""
             }
            }
           }
          ],
          "scatterpolargl": [
           {
            "type": "scatterpolargl",
            "marker": {
             "colorbar": {
              "outlinewidth": 0,
              "ticks": ""
             }
            }
           }
          ],
          "bar": [
           {
            "error_x": {
             "color": "#2a3f5f"
            },
            "error_y": {
             "color": "#2a3f5f"
            },
            "marker": {
             "line": {
              "color": "#E5ECF6",
              "width": 0.5
             },
             "pattern": {
              "fillmode": "overlay",
              "size": 10,
              "solidity": 0.2
             }
            },
            "type": "bar"
           }
          ],
          "scattergeo": [
           {
            "type": "scattergeo",
            "marker": {
             "colorbar": {
              "outlinewidth": 0,
              "ticks": ""
             }
            }
           }
          ],
          "scatterpolar": [
           {
            "type": "scatterpolar",
            "marker": {
             "colorbar": {
              "outlinewidth": 0,
              "ticks": ""
             }
            }
           }
          ],
          "histogram": [
           {
            "marker": {
             "pattern": {
              "fillmode": "overlay",
              "size": 10,
              "solidity": 0.2
             }
            },
            "type": "histogram"
           }
          ],
          "scattergl": [
           {
            "type": "scattergl",
            "marker": {
             "colorbar": {
              "outlinewidth": 0,
              "ticks": ""
             }
            }
           }
          ],
          "scatter3d": [
           {
            "type": "scatter3d",
            "line": {
             "colorbar": {
              "outlinewidth": 0,
              "ticks": ""
             }
            },
            "marker": {
             "colorbar": {
              "outlinewidth": 0,
              "ticks": ""
             }
            }
           }
          ],
          "scattermapbox": [
           {
            "type": "scattermapbox",
            "marker": {
             "colorbar": {
              "outlinewidth": 0,
              "ticks": ""
             }
            }
           }
          ],
          "scatterternary": [
           {
            "type": "scatterternary",
            "marker": {
             "colorbar": {
              "outlinewidth": 0,
              "ticks": ""
             }
            }
           }
          ],
          "scattercarpet": [
           {
            "type": "scattercarpet",
            "marker": {
             "colorbar": {
              "outlinewidth": 0,
              "ticks": ""
             }
            }
           }
          ],
          "carpet": [
           {
            "aaxis": {
             "endlinecolor": "#2a3f5f",
             "gridcolor": "white",
             "linecolor": "white",
             "minorgridcolor": "white",
             "startlinecolor": "#2a3f5f"
            },
            "baxis": {
             "endlinecolor": "#2a3f5f",
             "gridcolor": "white",
             "linecolor": "white",
             "minorgridcolor": "white",
             "startlinecolor": "#2a3f5f"
            },
            "type": "carpet"
           }
          ],
          "table": [
           {
            "cells": {
             "fill": {
              "color": "#EBF0F8"
             },
             "line": {
              "color": "white"
             }
            },
            "header": {
             "fill": {
              "color": "#C8D4E3"
             },
             "line": {
              "color": "white"
             }
            },
            "type": "table"
           }
          ],
          "barpolar": [
           {
            "marker": {
             "line": {
              "color": "#E5ECF6",
              "width": 0.5
             },
             "pattern": {
              "fillmode": "overlay",
              "size": 10,
              "solidity": 0.2
             }
            },
            "type": "barpolar"
           }
          ],
          "pie": [
           {
            "automargin": true,
            "type": "pie"
           }
          ]
         },
         "layout": {
          "autotypenumbers": "strict",
          "colorway": [
           "#636efa",
           "#EF553B",
           "#00cc96",
           "#ab63fa",
           "#FFA15A",
           "#19d3f3",
           "#FF6692",
           "#B6E880",
           "#FF97FF",
           "#FECB52"
          ],
          "font": {
           "color": "#2a3f5f"
          },
          "hovermode": "closest",
          "hoverlabel": {
           "align": "left"
          },
          "paper_bgcolor": "white",
          "plot_bgcolor": "#E5ECF6",
          "polar": {
           "bgcolor": "#E5ECF6",
           "angularaxis": {
            "gridcolor": "white",
            "linecolor": "white",
            "ticks": ""
           },
           "radialaxis": {
            "gridcolor": "white",
            "linecolor": "white",
            "ticks": ""
           }
          },
          "ternary": {
           "bgcolor": "#E5ECF6",
           "aaxis": {
            "gridcolor": "white",
            "linecolor": "white",
            "ticks": ""
           },
           "baxis": {
            "gridcolor": "white",
            "linecolor": "white",
            "ticks": ""
           },
           "caxis": {
            "gridcolor": "white",
            "linecolor": "white",
            "ticks": ""
           }
          },
          "coloraxis": {
           "colorbar": {
            "outlinewidth": 0,
            "ticks": ""
           }
          },
          "colorscale": {
           "sequential": [
            [
             0.0,
             "#0d0887"
            ],
            [
             0.1111111111111111,
             "#46039f"
            ],
            [
             0.2222222222222222,
             "#7201a8"
            ],
            [
             0.3333333333333333,
             "#9c179e"
            ],
            [
             0.4444444444444444,
             "#bd3786"
            ],
            [
             0.5555555555555556,
             "#d8576b"
            ],
            [
             0.6666666666666666,
             "#ed7953"
            ],
            [
             0.7777777777777778,
             "#fb9f3a"
            ],
            [
             0.8888888888888888,
             "#fdca26"
            ],
            [
             1.0,
             "#f0f921"
            ]
           ],
           "sequentialminus": [
            [
             0.0,
             "#0d0887"
            ],
            [
             0.1111111111111111,
             "#46039f"
            ],
            [
             0.2222222222222222,
             "#7201a8"
            ],
            [
             0.3333333333333333,
             "#9c179e"
            ],
            [
             0.4444444444444444,
             "#bd3786"
            ],
            [
             0.5555555555555556,
             "#d8576b"
            ],
            [
             0.6666666666666666,
             "#ed7953"
            ],
            [
             0.7777777777777778,
             "#fb9f3a"
            ],
            [
             0.8888888888888888,
             "#fdca26"
            ],
            [
             1.0,
             "#f0f921"
            ]
           ],
           "diverging": [
            [
             0,
             "#8e0152"
            ],
            [
             0.1,
             "#c51b7d"
            ],
            [
             0.2,
             "#de77ae"
            ],
            [
             0.3,
             "#f1b6da"
            ],
            [
             0.4,
             "#fde0ef"
            ],
            [
             0.5,
             "#f7f7f7"
            ],
            [
             0.6,
             "#e6f5d0"
            ],
            [
             0.7,
             "#b8e186"
            ],
            [
             0.8,
             "#7fbc41"
            ],
            [
             0.9,
             "#4d9221"
            ],
            [
             1,
             "#276419"
            ]
           ]
          },
          "xaxis": {
           "gridcolor": "white",
           "linecolor": "white",
           "ticks": "",
           "title": {
            "standoff": 15
           },
           "zerolinecolor": "white",
           "automargin": true,
           "zerolinewidth": 2
          },
          "yaxis": {
           "gridcolor": "white",
           "linecolor": "white",
           "ticks": "",
           "title": {
            "standoff": 15
           },
           "zerolinecolor": "white",
           "automargin": true,
           "zerolinewidth": 2
          },
          "scene": {
           "xaxis": {
            "backgroundcolor": "#E5ECF6",
            "gridcolor": "white",
            "linecolor": "white",
            "showbackground": true,
            "ticks": "",
            "zerolinecolor": "white",
            "gridwidth": 2
           },
           "yaxis": {
            "backgroundcolor": "#E5ECF6",
            "gridcolor": "white",
            "linecolor": "white",
            "showbackground": true,
            "ticks": "",
            "zerolinecolor": "white",
            "gridwidth": 2
           },
           "zaxis": {
            "backgroundcolor": "#E5ECF6",
            "gridcolor": "white",
            "linecolor": "white",
            "showbackground": true,
            "ticks": "",
            "zerolinecolor": "white",
            "gridwidth": 2
           }
          },
          "shapedefaults": {
           "line": {
            "color": "#2a3f5f"
           }
          },
          "annotationdefaults": {
           "arrowcolor": "#2a3f5f",
           "arrowhead": 0,
           "arrowwidth": 1
          },
          "geo": {
           "bgcolor": "white",
           "landcolor": "#E5ECF6",
           "subunitcolor": "white",
           "showland": true,
           "showlakes": true,
           "lakecolor": "white"
          },
          "title": {
           "x": 0.05
          },
          "mapbox": {
           "style": "light"
          }
         }
        },
        "xaxis": {
         "anchor": "y",
         "domain": [
          0.0,
          0.94
         ],
         "title": {
          "text": "Weekday"
         }
        },
        "yaxis": {
         "anchor": "x",
         "domain": [
          0.0,
          1.0
         ],
         "title": {
          "text": "% with retweets"
         }
        },
        "yaxis2": {
         "anchor": "x",
         "overlaying": "y",
         "side": "right",
         "title": {
          "text": "% with likes"
         }
        },
        "title": {
         "text": "Percentage of retweets and likes during the week"
        },
        "width": 900,
        "height": 500
       },
       "config": {
        "plotlyServerURL": "https://plot.ly"
       }
      },
      "text/html": "<div>                            <div id=\"cb2218ef-e239-4864-bd7b-879594c81a73\" class=\"plotly-graph-div\" style=\"height:500px; width:900px;\"></div>            <script type=\"text/javascript\">                require([\"plotly\"], function(Plotly) {                    window.PLOTLYENV=window.PLOTLYENV || {};                                    if (document.getElementById(\"cb2218ef-e239-4864-bd7b-879594c81a73\")) {                    Plotly.newPlot(                        \"cb2218ef-e239-4864-bd7b-879594c81a73\",                        [{\"marker\":{\"color\":\"#006D77\"},\"name\":\"% with retweets 2019\",\"text\":[\"17.17\",\"17.41\",\"17.65\",\"17.23\",\"17.12\",\"16.62\",\"16.24\"],\"textposition\":\"inside\",\"width\":0.28,\"x\":[\"Monday\",\"Tuesday\",\"Wednesday\",\"Thursday\",\"Friday\",\"Saturday\",\"Sunday\"],\"y\":[17.17,17.41,17.65,17.23,17.12,16.62,16.24],\"type\":\"bar\",\"xaxis\":\"x\",\"yaxis\":\"y\"},{\"marker\":{\"color\":\"#00B2CA\"},\"name\":\"% with likes 2019\",\"x\":[\"Monday\",\"Tuesday\",\"Wednesday\",\"Thursday\",\"Friday\",\"Saturday\",\"Sunday\"],\"y\":[48.71,48.8,49.1,48.65,48.64,48.85,48.16],\"type\":\"scatter\",\"xaxis\":\"x\",\"yaxis\":\"y2\"},{\"marker\":{\"color\":\"#FBD1A2\"},\"name\":\"% with retweets 2020\",\"text\":[\"16.39\",\"16.45\",\"16.27\",\"16.15\",\"16.35\",\"16.11\",\"15.72\"],\"textposition\":\"inside\",\"width\":0.28,\"x\":[\"Monday\",\"Tuesday\",\"Wednesday\",\"Thursday\",\"Friday\",\"Saturday\",\"Sunday\"],\"y\":[16.39,16.45,16.27,16.15,16.35,16.11,15.72],\"type\":\"bar\",\"xaxis\":\"x\",\"yaxis\":\"y\"},{\"marker\":{\"color\":\"#1D4E89\"},\"name\":\"% with likes 2020\",\"x\":[\"Monday\",\"Tuesday\",\"Wednesday\",\"Thursday\",\"Friday\",\"Saturday\",\"Sunday\"],\"y\":[48.86,48.44,48.87,48.64,49.32,49.53,48.96],\"type\":\"scatter\",\"xaxis\":\"x\",\"yaxis\":\"y2\"},{\"marker\":{\"color\":\"#7DCFB6\"},\"name\":\"% with retweets 2021\",\"text\":[\"16.17\",\"16.34\",\"16.17\",\"16.1\",\"16.37\",\"16.08\",\"15.26\"],\"textposition\":\"inside\",\"width\":0.28,\"x\":[\"Monday\",\"Tuesday\",\"Wednesday\",\"Thursday\",\"Friday\",\"Saturday\",\"Sunday\"],\"y\":[16.17,16.34,16.17,16.1,16.37,16.08,15.26],\"type\":\"bar\",\"xaxis\":\"x\",\"yaxis\":\"y\"},{\"marker\":{\"color\":\"#F79256\"},\"name\":\"% with likes 2021\",\"x\":[\"Monday\",\"Tuesday\",\"Wednesday\",\"Thursday\",\"Friday\",\"Saturday\",\"Sunday\"],\"y\":[49.36,49.65,49.85,49.6,50.4,50.76,49.94],\"type\":\"scatter\",\"xaxis\":\"x\",\"yaxis\":\"y2\"}],                        {\"template\":{\"data\":{\"histogram2dcontour\":[{\"type\":\"histogram2dcontour\",\"colorbar\":{\"outlinewidth\":0,\"ticks\":\"\"},\"colorscale\":[[0.0,\"#0d0887\"],[0.1111111111111111,\"#46039f\"],[0.2222222222222222,\"#7201a8\"],[0.3333333333333333,\"#9c179e\"],[0.4444444444444444,\"#bd3786\"],[0.5555555555555556,\"#d8576b\"],[0.6666666666666666,\"#ed7953\"],[0.7777777777777778,\"#fb9f3a\"],[0.8888888888888888,\"#fdca26\"],[1.0,\"#f0f921\"]]}],\"choropleth\":[{\"type\":\"choropleth\",\"colorbar\":{\"outlinewidth\":0,\"ticks\":\"\"}}],\"histogram2d\":[{\"type\":\"histogram2d\",\"colorbar\":{\"outlinewidth\":0,\"ticks\":\"\"},\"colorscale\":[[0.0,\"#0d0887\"],[0.1111111111111111,\"#46039f\"],[0.2222222222222222,\"#7201a8\"],[0.3333333333333333,\"#9c179e\"],[0.4444444444444444,\"#bd3786\"],[0.5555555555555556,\"#d8576b\"],[0.6666666666666666,\"#ed7953\"],[0.7777777777777778,\"#fb9f3a\"],[0.8888888888888888,\"#fdca26\"],[1.0,\"#f0f921\"]]}],\"heatmap\":[{\"type\":\"heatmap\",\"colorbar\":{\"outlinewidth\":0,\"ticks\":\"\"},\"colorscale\":[[0.0,\"#0d0887\"],[0.1111111111111111,\"#46039f\"],[0.2222222222222222,\"#7201a8\"],[0.3333333333333333,\"#9c179e\"],[0.4444444444444444,\"#bd3786\"],[0.5555555555555556,\"#d8576b\"],[0.6666666666666666,\"#ed7953\"],[0.7777777777777778,\"#fb9f3a\"],[0.8888888888888888,\"#fdca26\"],[1.0,\"#f0f921\"]]}],\"heatmapgl\":[{\"type\":\"heatmapgl\",\"colorbar\":{\"outlinewidth\":0,\"ticks\":\"\"},\"colorscale\":[[0.0,\"#0d0887\"],[0.1111111111111111,\"#46039f\"],[0.2222222222222222,\"#7201a8\"],[0.3333333333333333,\"#9c179e\"],[0.4444444444444444,\"#bd3786\"],[0.5555555555555556,\"#d8576b\"],[0.6666666666666666,\"#ed7953\"],[0.7777777777777778,\"#fb9f3a\"],[0.8888888888888888,\"#fdca26\"],[1.0,\"#f0f921\"]]}],\"contourcarpet\":[{\"type\":\"contourcarpet\",\"colorbar\":{\"outlinewidth\":0,\"ticks\":\"\"}}],\"contour\":[{\"type\":\"contour\",\"colorbar\":{\"outlinewidth\":0,\"ticks\":\"\"},\"colorscale\":[[0.0,\"#0d0887\"],[0.1111111111111111,\"#46039f\"],[0.2222222222222222,\"#7201a8\"],[0.3333333333333333,\"#9c179e\"],[0.4444444444444444,\"#bd3786\"],[0.5555555555555556,\"#d8576b\"],[0.6666666666666666,\"#ed7953\"],[0.7777777777777778,\"#fb9f3a\"],[0.8888888888888888,\"#fdca26\"],[1.0,\"#f0f921\"]]}],\"surface\":[{\"type\":\"surface\",\"colorbar\":{\"outlinewidth\":0,\"ticks\":\"\"},\"colorscale\":[[0.0,\"#0d0887\"],[0.1111111111111111,\"#46039f\"],[0.2222222222222222,\"#7201a8\"],[0.3333333333333333,\"#9c179e\"],[0.4444444444444444,\"#bd3786\"],[0.5555555555555556,\"#d8576b\"],[0.6666666666666666,\"#ed7953\"],[0.7777777777777778,\"#fb9f3a\"],[0.8888888888888888,\"#fdca26\"],[1.0,\"#f0f921\"]]}],\"mesh3d\":[{\"type\":\"mesh3d\",\"colorbar\":{\"outlinewidth\":0,\"ticks\":\"\"}}],\"scatter\":[{\"fillpattern\":{\"fillmode\":\"overlay\",\"size\":10,\"solidity\":0.2},\"type\":\"scatter\"}],\"parcoords\":[{\"type\":\"parcoords\",\"line\":{\"colorbar\":{\"outlinewidth\":0,\"ticks\":\"\"}}}],\"scatterpolargl\":[{\"type\":\"scatterpolargl\",\"marker\":{\"colorbar\":{\"outlinewidth\":0,\"ticks\":\"\"}}}],\"bar\":[{\"error_x\":{\"color\":\"#2a3f5f\"},\"error_y\":{\"color\":\"#2a3f5f\"},\"marker\":{\"line\":{\"color\":\"#E5ECF6\",\"width\":0.5},\"pattern\":{\"fillmode\":\"overlay\",\"size\":10,\"solidity\":0.2}},\"type\":\"bar\"}],\"scattergeo\":[{\"type\":\"scattergeo\",\"marker\":{\"colorbar\":{\"outlinewidth\":0,\"ticks\":\"\"}}}],\"scatterpolar\":[{\"type\":\"scatterpolar\",\"marker\":{\"colorbar\":{\"outlinewidth\":0,\"ticks\":\"\"}}}],\"histogram\":[{\"marker\":{\"pattern\":{\"fillmode\":\"overlay\",\"size\":10,\"solidity\":0.2}},\"type\":\"histogram\"}],\"scattergl\":[{\"type\":\"scattergl\",\"marker\":{\"colorbar\":{\"outlinewidth\":0,\"ticks\":\"\"}}}],\"scatter3d\":[{\"type\":\"scatter3d\",\"line\":{\"colorbar\":{\"outlinewidth\":0,\"ticks\":\"\"}},\"marker\":{\"colorbar\":{\"outlinewidth\":0,\"ticks\":\"\"}}}],\"scattermapbox\":[{\"type\":\"scattermapbox\",\"marker\":{\"colorbar\":{\"outlinewidth\":0,\"ticks\":\"\"}}}],\"scatterternary\":[{\"type\":\"scatterternary\",\"marker\":{\"colorbar\":{\"outlinewidth\":0,\"ticks\":\"\"}}}],\"scattercarpet\":[{\"type\":\"scattercarpet\",\"marker\":{\"colorbar\":{\"outlinewidth\":0,\"ticks\":\"\"}}}],\"carpet\":[{\"aaxis\":{\"endlinecolor\":\"#2a3f5f\",\"gridcolor\":\"white\",\"linecolor\":\"white\",\"minorgridcolor\":\"white\",\"startlinecolor\":\"#2a3f5f\"},\"baxis\":{\"endlinecolor\":\"#2a3f5f\",\"gridcolor\":\"white\",\"linecolor\":\"white\",\"minorgridcolor\":\"white\",\"startlinecolor\":\"#2a3f5f\"},\"type\":\"carpet\"}],\"table\":[{\"cells\":{\"fill\":{\"color\":\"#EBF0F8\"},\"line\":{\"color\":\"white\"}},\"header\":{\"fill\":{\"color\":\"#C8D4E3\"},\"line\":{\"color\":\"white\"}},\"type\":\"table\"}],\"barpolar\":[{\"marker\":{\"line\":{\"color\":\"#E5ECF6\",\"width\":0.5},\"pattern\":{\"fillmode\":\"overlay\",\"size\":10,\"solidity\":0.2}},\"type\":\"barpolar\"}],\"pie\":[{\"automargin\":true,\"type\":\"pie\"}]},\"layout\":{\"autotypenumbers\":\"strict\",\"colorway\":[\"#636efa\",\"#EF553B\",\"#00cc96\",\"#ab63fa\",\"#FFA15A\",\"#19d3f3\",\"#FF6692\",\"#B6E880\",\"#FF97FF\",\"#FECB52\"],\"font\":{\"color\":\"#2a3f5f\"},\"hovermode\":\"closest\",\"hoverlabel\":{\"align\":\"left\"},\"paper_bgcolor\":\"white\",\"plot_bgcolor\":\"#E5ECF6\",\"polar\":{\"bgcolor\":\"#E5ECF6\",\"angularaxis\":{\"gridcolor\":\"white\",\"linecolor\":\"white\",\"ticks\":\"\"},\"radialaxis\":{\"gridcolor\":\"white\",\"linecolor\":\"white\",\"ticks\":\"\"}},\"ternary\":{\"bgcolor\":\"#E5ECF6\",\"aaxis\":{\"gridcolor\":\"white\",\"linecolor\":\"white\",\"ticks\":\"\"},\"baxis\":{\"gridcolor\":\"white\",\"linecolor\":\"white\",\"ticks\":\"\"},\"caxis\":{\"gridcolor\":\"white\",\"linecolor\":\"white\",\"ticks\":\"\"}},\"coloraxis\":{\"colorbar\":{\"outlinewidth\":0,\"ticks\":\"\"}},\"colorscale\":{\"sequential\":[[0.0,\"#0d0887\"],[0.1111111111111111,\"#46039f\"],[0.2222222222222222,\"#7201a8\"],[0.3333333333333333,\"#9c179e\"],[0.4444444444444444,\"#bd3786\"],[0.5555555555555556,\"#d8576b\"],[0.6666666666666666,\"#ed7953\"],[0.7777777777777778,\"#fb9f3a\"],[0.8888888888888888,\"#fdca26\"],[1.0,\"#f0f921\"]],\"sequentialminus\":[[0.0,\"#0d0887\"],[0.1111111111111111,\"#46039f\"],[0.2222222222222222,\"#7201a8\"],[0.3333333333333333,\"#9c179e\"],[0.4444444444444444,\"#bd3786\"],[0.5555555555555556,\"#d8576b\"],[0.6666666666666666,\"#ed7953\"],[0.7777777777777778,\"#fb9f3a\"],[0.8888888888888888,\"#fdca26\"],[1.0,\"#f0f921\"]],\"diverging\":[[0,\"#8e0152\"],[0.1,\"#c51b7d\"],[0.2,\"#de77ae\"],[0.3,\"#f1b6da\"],[0.4,\"#fde0ef\"],[0.5,\"#f7f7f7\"],[0.6,\"#e6f5d0\"],[0.7,\"#b8e186\"],[0.8,\"#7fbc41\"],[0.9,\"#4d9221\"],[1,\"#276419\"]]},\"xaxis\":{\"gridcolor\":\"white\",\"linecolor\":\"white\",\"ticks\":\"\",\"title\":{\"standoff\":15},\"zerolinecolor\":\"white\",\"automargin\":true,\"zerolinewidth\":2},\"yaxis\":{\"gridcolor\":\"white\",\"linecolor\":\"white\",\"ticks\":\"\",\"title\":{\"standoff\":15},\"zerolinecolor\":\"white\",\"automargin\":true,\"zerolinewidth\":2},\"scene\":{\"xaxis\":{\"backgroundcolor\":\"#E5ECF6\",\"gridcolor\":\"white\",\"linecolor\":\"white\",\"showbackground\":true,\"ticks\":\"\",\"zerolinecolor\":\"white\",\"gridwidth\":2},\"yaxis\":{\"backgroundcolor\":\"#E5ECF6\",\"gridcolor\":\"white\",\"linecolor\":\"white\",\"showbackground\":true,\"ticks\":\"\",\"zerolinecolor\":\"white\",\"gridwidth\":2},\"zaxis\":{\"backgroundcolor\":\"#E5ECF6\",\"gridcolor\":\"white\",\"linecolor\":\"white\",\"showbackground\":true,\"ticks\":\"\",\"zerolinecolor\":\"white\",\"gridwidth\":2}},\"shapedefaults\":{\"line\":{\"color\":\"#2a3f5f\"}},\"annotationdefaults\":{\"arrowcolor\":\"#2a3f5f\",\"arrowhead\":0,\"arrowwidth\":1},\"geo\":{\"bgcolor\":\"white\",\"landcolor\":\"#E5ECF6\",\"subunitcolor\":\"white\",\"showland\":true,\"showlakes\":true,\"lakecolor\":\"white\"},\"title\":{\"x\":0.05},\"mapbox\":{\"style\":\"light\"}}},\"xaxis\":{\"anchor\":\"y\",\"domain\":[0.0,0.94],\"title\":{\"text\":\"Weekday\"}},\"yaxis\":{\"anchor\":\"x\",\"domain\":[0.0,1.0],\"title\":{\"text\":\"% with retweets\"}},\"yaxis2\":{\"anchor\":\"x\",\"overlaying\":\"y\",\"side\":\"right\",\"title\":{\"text\":\"% with likes\"}},\"title\":{\"text\":\"Percentage of retweets and likes during the week\"},\"width\":900,\"height\":500},                        {\"responsive\": true}                    ).then(function(){\n                            \nvar gd = document.getElementById('cb2218ef-e239-4864-bd7b-879594c81a73');\nvar x = new MutationObserver(function (mutations, observer) {{\n        var display = window.getComputedStyle(gd).display;\n        if (!display || display === 'none') {{\n            console.log([gd, 'removed!']);\n            Plotly.purge(gd);\n            observer.disconnect();\n        }}\n}});\n\n// Listen for the removal of the full notebook cells\nvar notebookContainer = gd.closest('#notebook-container');\nif (notebookContainer) {{\n    x.observe(notebookContainer, {childList: true});\n}}\n\n// Listen for the clearing of the current output cell\nvar outputEl = gd.closest('.output');\nif (outputEl) {{\n    x.observe(outputEl, {childList: true});\n}}\n\n                        })                };                });            </script>        </div>"
     },
     "metadata": {},
     "output_type": "display_data"
    },
    {
     "data": {
      "application/vnd.plotly.v1+json": {
       "data": [
        {
         "marker": {
          "color": "#006D77"
         },
         "name": "Retweets mean 2019",
         "text": [
          "0.53",
          "0.53",
          "0.55",
          "0.55",
          "0.5",
          "0.49",
          "0.49"
         ],
         "textposition": "inside",
         "width": 0.28,
         "x": [
          "Monday",
          "Tuesday",
          "Wednesday",
          "Thursday",
          "Friday",
          "Saturday",
          "Sunday"
         ],
         "y": [
          0.53,
          0.53,
          0.55,
          0.55,
          0.5,
          0.49,
          0.49
         ],
         "type": "bar",
         "xaxis": "x",
         "yaxis": "y"
        },
        {
         "marker": {
          "color": "#00B2CA"
         },
         "name": "Likes mean 2019",
         "x": [
          "Monday",
          "Tuesday",
          "Wednesday",
          "Thursday",
          "Friday",
          "Saturday",
          "Sunday"
         ],
         "y": [
          3.33,
          3.3,
          3.4,
          3.35,
          3.3,
          3.44,
          3.39
         ],
         "type": "scatter",
         "xaxis": "x",
         "yaxis": "y2"
        },
        {
         "marker": {
          "color": "#FBD1A2"
         },
         "name": "Retweets mean 2020",
         "text": [
          "0.52",
          "0.49",
          "0.49",
          "0.48",
          "0.48",
          "0.49",
          "0.49"
         ],
         "textposition": "inside",
         "width": 0.28,
         "x": [
          "Monday",
          "Tuesday",
          "Wednesday",
          "Thursday",
          "Friday",
          "Saturday",
          "Sunday"
         ],
         "y": [
          0.52,
          0.49,
          0.49,
          0.48,
          0.48,
          0.49,
          0.49
         ],
         "type": "bar",
         "xaxis": "x",
         "yaxis": "y"
        },
        {
         "marker": {
          "color": "#1D4E89"
         },
         "name": "Likes mean 2020",
         "x": [
          "Monday",
          "Tuesday",
          "Wednesday",
          "Thursday",
          "Friday",
          "Saturday",
          "Sunday"
         ],
         "y": [
          3.6,
          3.5,
          3.49,
          3.49,
          3.57,
          3.78,
          3.68
         ],
         "type": "scatter",
         "xaxis": "x",
         "yaxis": "y2"
        },
        {
         "marker": {
          "color": "#7DCFB6"
         },
         "name": "Retweets mean 2021",
         "text": [
          "0.51",
          "0.52",
          "0.53",
          "0.51",
          "0.54",
          "0.49",
          "0.47"
         ],
         "textposition": "inside",
         "width": 0.28,
         "x": [
          "Monday",
          "Tuesday",
          "Wednesday",
          "Thursday",
          "Friday",
          "Saturday",
          "Sunday"
         ],
         "y": [
          0.51,
          0.52,
          0.53,
          0.51,
          0.54,
          0.49,
          0.47
         ],
         "type": "bar",
         "xaxis": "x",
         "yaxis": "y"
        },
        {
         "marker": {
          "color": "#F79256"
         },
         "name": "Likes mean 2021",
         "x": [
          "Monday",
          "Tuesday",
          "Wednesday",
          "Thursday",
          "Friday",
          "Saturday",
          "Sunday"
         ],
         "y": [
          4.44,
          4.36,
          4.43,
          4.41,
          4.63,
          4.71,
          4.6
         ],
         "type": "scatter",
         "xaxis": "x",
         "yaxis": "y2"
        }
       ],
       "layout": {
        "template": {
         "data": {
          "histogram2dcontour": [
           {
            "type": "histogram2dcontour",
            "colorbar": {
             "outlinewidth": 0,
             "ticks": ""
            },
            "colorscale": [
             [
              0.0,
              "#0d0887"
             ],
             [
              0.1111111111111111,
              "#46039f"
             ],
             [
              0.2222222222222222,
              "#7201a8"
             ],
             [
              0.3333333333333333,
              "#9c179e"
             ],
             [
              0.4444444444444444,
              "#bd3786"
             ],
             [
              0.5555555555555556,
              "#d8576b"
             ],
             [
              0.6666666666666666,
              "#ed7953"
             ],
             [
              0.7777777777777778,
              "#fb9f3a"
             ],
             [
              0.8888888888888888,
              "#fdca26"
             ],
             [
              1.0,
              "#f0f921"
             ]
            ]
           }
          ],
          "choropleth": [
           {
            "type": "choropleth",
            "colorbar": {
             "outlinewidth": 0,
             "ticks": ""
            }
           }
          ],
          "histogram2d": [
           {
            "type": "histogram2d",
            "colorbar": {
             "outlinewidth": 0,
             "ticks": ""
            },
            "colorscale": [
             [
              0.0,
              "#0d0887"
             ],
             [
              0.1111111111111111,
              "#46039f"
             ],
             [
              0.2222222222222222,
              "#7201a8"
             ],
             [
              0.3333333333333333,
              "#9c179e"
             ],
             [
              0.4444444444444444,
              "#bd3786"
             ],
             [
              0.5555555555555556,
              "#d8576b"
             ],
             [
              0.6666666666666666,
              "#ed7953"
             ],
             [
              0.7777777777777778,
              "#fb9f3a"
             ],
             [
              0.8888888888888888,
              "#fdca26"
             ],
             [
              1.0,
              "#f0f921"
             ]
            ]
           }
          ],
          "heatmap": [
           {
            "type": "heatmap",
            "colorbar": {
             "outlinewidth": 0,
             "ticks": ""
            },
            "colorscale": [
             [
              0.0,
              "#0d0887"
             ],
             [
              0.1111111111111111,
              "#46039f"
             ],
             [
              0.2222222222222222,
              "#7201a8"
             ],
             [
              0.3333333333333333,
              "#9c179e"
             ],
             [
              0.4444444444444444,
              "#bd3786"
             ],
             [
              0.5555555555555556,
              "#d8576b"
             ],
             [
              0.6666666666666666,
              "#ed7953"
             ],
             [
              0.7777777777777778,
              "#fb9f3a"
             ],
             [
              0.8888888888888888,
              "#fdca26"
             ],
             [
              1.0,
              "#f0f921"
             ]
            ]
           }
          ],
          "heatmapgl": [
           {
            "type": "heatmapgl",
            "colorbar": {
             "outlinewidth": 0,
             "ticks": ""
            },
            "colorscale": [
             [
              0.0,
              "#0d0887"
             ],
             [
              0.1111111111111111,
              "#46039f"
             ],
             [
              0.2222222222222222,
              "#7201a8"
             ],
             [
              0.3333333333333333,
              "#9c179e"
             ],
             [
              0.4444444444444444,
              "#bd3786"
             ],
             [
              0.5555555555555556,
              "#d8576b"
             ],
             [
              0.6666666666666666,
              "#ed7953"
             ],
             [
              0.7777777777777778,
              "#fb9f3a"
             ],
             [
              0.8888888888888888,
              "#fdca26"
             ],
             [
              1.0,
              "#f0f921"
             ]
            ]
           }
          ],
          "contourcarpet": [
           {
            "type": "contourcarpet",
            "colorbar": {
             "outlinewidth": 0,
             "ticks": ""
            }
           }
          ],
          "contour": [
           {
            "type": "contour",
            "colorbar": {
             "outlinewidth": 0,
             "ticks": ""
            },
            "colorscale": [
             [
              0.0,
              "#0d0887"
             ],
             [
              0.1111111111111111,
              "#46039f"
             ],
             [
              0.2222222222222222,
              "#7201a8"
             ],
             [
              0.3333333333333333,
              "#9c179e"
             ],
             [
              0.4444444444444444,
              "#bd3786"
             ],
             [
              0.5555555555555556,
              "#d8576b"
             ],
             [
              0.6666666666666666,
              "#ed7953"
             ],
             [
              0.7777777777777778,
              "#fb9f3a"
             ],
             [
              0.8888888888888888,
              "#fdca26"
             ],
             [
              1.0,
              "#f0f921"
             ]
            ]
           }
          ],
          "surface": [
           {
            "type": "surface",
            "colorbar": {
             "outlinewidth": 0,
             "ticks": ""
            },
            "colorscale": [
             [
              0.0,
              "#0d0887"
             ],
             [
              0.1111111111111111,
              "#46039f"
             ],
             [
              0.2222222222222222,
              "#7201a8"
             ],
             [
              0.3333333333333333,
              "#9c179e"
             ],
             [
              0.4444444444444444,
              "#bd3786"
             ],
             [
              0.5555555555555556,
              "#d8576b"
             ],
             [
              0.6666666666666666,
              "#ed7953"
             ],
             [
              0.7777777777777778,
              "#fb9f3a"
             ],
             [
              0.8888888888888888,
              "#fdca26"
             ],
             [
              1.0,
              "#f0f921"
             ]
            ]
           }
          ],
          "mesh3d": [
           {
            "type": "mesh3d",
            "colorbar": {
             "outlinewidth": 0,
             "ticks": ""
            }
           }
          ],
          "scatter": [
           {
            "fillpattern": {
             "fillmode": "overlay",
             "size": 10,
             "solidity": 0.2
            },
            "type": "scatter"
           }
          ],
          "parcoords": [
           {
            "type": "parcoords",
            "line": {
             "colorbar": {
              "outlinewidth": 0,
              "ticks": ""
             }
            }
           }
          ],
          "scatterpolargl": [
           {
            "type": "scatterpolargl",
            "marker": {
             "colorbar": {
              "outlinewidth": 0,
              "ticks": ""
             }
            }
           }
          ],
          "bar": [
           {
            "error_x": {
             "color": "#2a3f5f"
            },
            "error_y": {
             "color": "#2a3f5f"
            },
            "marker": {
             "line": {
              "color": "#E5ECF6",
              "width": 0.5
             },
             "pattern": {
              "fillmode": "overlay",
              "size": 10,
              "solidity": 0.2
             }
            },
            "type": "bar"
           }
          ],
          "scattergeo": [
           {
            "type": "scattergeo",
            "marker": {
             "colorbar": {
              "outlinewidth": 0,
              "ticks": ""
             }
            }
           }
          ],
          "scatterpolar": [
           {
            "type": "scatterpolar",
            "marker": {
             "colorbar": {
              "outlinewidth": 0,
              "ticks": ""
             }
            }
           }
          ],
          "histogram": [
           {
            "marker": {
             "pattern": {
              "fillmode": "overlay",
              "size": 10,
              "solidity": 0.2
             }
            },
            "type": "histogram"
           }
          ],
          "scattergl": [
           {
            "type": "scattergl",
            "marker": {
             "colorbar": {
              "outlinewidth": 0,
              "ticks": ""
             }
            }
           }
          ],
          "scatter3d": [
           {
            "type": "scatter3d",
            "line": {
             "colorbar": {
              "outlinewidth": 0,
              "ticks": ""
             }
            },
            "marker": {
             "colorbar": {
              "outlinewidth": 0,
              "ticks": ""
             }
            }
           }
          ],
          "scattermapbox": [
           {
            "type": "scattermapbox",
            "marker": {
             "colorbar": {
              "outlinewidth": 0,
              "ticks": ""
             }
            }
           }
          ],
          "scatterternary": [
           {
            "type": "scatterternary",
            "marker": {
             "colorbar": {
              "outlinewidth": 0,
              "ticks": ""
             }
            }
           }
          ],
          "scattercarpet": [
           {
            "type": "scattercarpet",
            "marker": {
             "colorbar": {
              "outlinewidth": 0,
              "ticks": ""
             }
            }
           }
          ],
          "carpet": [
           {
            "aaxis": {
             "endlinecolor": "#2a3f5f",
             "gridcolor": "white",
             "linecolor": "white",
             "minorgridcolor": "white",
             "startlinecolor": "#2a3f5f"
            },
            "baxis": {
             "endlinecolor": "#2a3f5f",
             "gridcolor": "white",
             "linecolor": "white",
             "minorgridcolor": "white",
             "startlinecolor": "#2a3f5f"
            },
            "type": "carpet"
           }
          ],
          "table": [
           {
            "cells": {
             "fill": {
              "color": "#EBF0F8"
             },
             "line": {
              "color": "white"
             }
            },
            "header": {
             "fill": {
              "color": "#C8D4E3"
             },
             "line": {
              "color": "white"
             }
            },
            "type": "table"
           }
          ],
          "barpolar": [
           {
            "marker": {
             "line": {
              "color": "#E5ECF6",
              "width": 0.5
             },
             "pattern": {
              "fillmode": "overlay",
              "size": 10,
              "solidity": 0.2
             }
            },
            "type": "barpolar"
           }
          ],
          "pie": [
           {
            "automargin": true,
            "type": "pie"
           }
          ]
         },
         "layout": {
          "autotypenumbers": "strict",
          "colorway": [
           "#636efa",
           "#EF553B",
           "#00cc96",
           "#ab63fa",
           "#FFA15A",
           "#19d3f3",
           "#FF6692",
           "#B6E880",
           "#FF97FF",
           "#FECB52"
          ],
          "font": {
           "color": "#2a3f5f"
          },
          "hovermode": "closest",
          "hoverlabel": {
           "align": "left"
          },
          "paper_bgcolor": "white",
          "plot_bgcolor": "#E5ECF6",
          "polar": {
           "bgcolor": "#E5ECF6",
           "angularaxis": {
            "gridcolor": "white",
            "linecolor": "white",
            "ticks": ""
           },
           "radialaxis": {
            "gridcolor": "white",
            "linecolor": "white",
            "ticks": ""
           }
          },
          "ternary": {
           "bgcolor": "#E5ECF6",
           "aaxis": {
            "gridcolor": "white",
            "linecolor": "white",
            "ticks": ""
           },
           "baxis": {
            "gridcolor": "white",
            "linecolor": "white",
            "ticks": ""
           },
           "caxis": {
            "gridcolor": "white",
            "linecolor": "white",
            "ticks": ""
           }
          },
          "coloraxis": {
           "colorbar": {
            "outlinewidth": 0,
            "ticks": ""
           }
          },
          "colorscale": {
           "sequential": [
            [
             0.0,
             "#0d0887"
            ],
            [
             0.1111111111111111,
             "#46039f"
            ],
            [
             0.2222222222222222,
             "#7201a8"
            ],
            [
             0.3333333333333333,
             "#9c179e"
            ],
            [
             0.4444444444444444,
             "#bd3786"
            ],
            [
             0.5555555555555556,
             "#d8576b"
            ],
            [
             0.6666666666666666,
             "#ed7953"
            ],
            [
             0.7777777777777778,
             "#fb9f3a"
            ],
            [
             0.8888888888888888,
             "#fdca26"
            ],
            [
             1.0,
             "#f0f921"
            ]
           ],
           "sequentialminus": [
            [
             0.0,
             "#0d0887"
            ],
            [
             0.1111111111111111,
             "#46039f"
            ],
            [
             0.2222222222222222,
             "#7201a8"
            ],
            [
             0.3333333333333333,
             "#9c179e"
            ],
            [
             0.4444444444444444,
             "#bd3786"
            ],
            [
             0.5555555555555556,
             "#d8576b"
            ],
            [
             0.6666666666666666,
             "#ed7953"
            ],
            [
             0.7777777777777778,
             "#fb9f3a"
            ],
            [
             0.8888888888888888,
             "#fdca26"
            ],
            [
             1.0,
             "#f0f921"
            ]
           ],
           "diverging": [
            [
             0,
             "#8e0152"
            ],
            [
             0.1,
             "#c51b7d"
            ],
            [
             0.2,
             "#de77ae"
            ],
            [
             0.3,
             "#f1b6da"
            ],
            [
             0.4,
             "#fde0ef"
            ],
            [
             0.5,
             "#f7f7f7"
            ],
            [
             0.6,
             "#e6f5d0"
            ],
            [
             0.7,
             "#b8e186"
            ],
            [
             0.8,
             "#7fbc41"
            ],
            [
             0.9,
             "#4d9221"
            ],
            [
             1,
             "#276419"
            ]
           ]
          },
          "xaxis": {
           "gridcolor": "white",
           "linecolor": "white",
           "ticks": "",
           "title": {
            "standoff": 15
           },
           "zerolinecolor": "white",
           "automargin": true,
           "zerolinewidth": 2
          },
          "yaxis": {
           "gridcolor": "white",
           "linecolor": "white",
           "ticks": "",
           "title": {
            "standoff": 15
           },
           "zerolinecolor": "white",
           "automargin": true,
           "zerolinewidth": 2
          },
          "scene": {
           "xaxis": {
            "backgroundcolor": "#E5ECF6",
            "gridcolor": "white",
            "linecolor": "white",
            "showbackground": true,
            "ticks": "",
            "zerolinecolor": "white",
            "gridwidth": 2
           },
           "yaxis": {
            "backgroundcolor": "#E5ECF6",
            "gridcolor": "white",
            "linecolor": "white",
            "showbackground": true,
            "ticks": "",
            "zerolinecolor": "white",
            "gridwidth": 2
           },
           "zaxis": {
            "backgroundcolor": "#E5ECF6",
            "gridcolor": "white",
            "linecolor": "white",
            "showbackground": true,
            "ticks": "",
            "zerolinecolor": "white",
            "gridwidth": 2
           }
          },
          "shapedefaults": {
           "line": {
            "color": "#2a3f5f"
           }
          },
          "annotationdefaults": {
           "arrowcolor": "#2a3f5f",
           "arrowhead": 0,
           "arrowwidth": 1
          },
          "geo": {
           "bgcolor": "white",
           "landcolor": "#E5ECF6",
           "subunitcolor": "white",
           "showland": true,
           "showlakes": true,
           "lakecolor": "white"
          },
          "title": {
           "x": 0.05
          },
          "mapbox": {
           "style": "light"
          }
         }
        },
        "xaxis": {
         "anchor": "y",
         "domain": [
          0.0,
          0.94
         ],
         "title": {
          "text": "Weekday"
         }
        },
        "yaxis": {
         "anchor": "x",
         "domain": [
          0.0,
          1.0
         ],
         "title": {
          "text": "Retweets mean"
         }
        },
        "yaxis2": {
         "anchor": "x",
         "overlaying": "y",
         "side": "right",
         "title": {
          "text": "Likes mean"
         }
        },
        "title": {
         "text": "Average retweets and likes during the week"
        },
        "width": 900,
        "height": 500
       },
       "config": {
        "plotlyServerURL": "https://plot.ly"
       }
      },
      "text/html": "<div>                            <div id=\"7136f088-6fa9-4de8-9e3c-5eb7af6ec444\" class=\"plotly-graph-div\" style=\"height:500px; width:900px;\"></div>            <script type=\"text/javascript\">                require([\"plotly\"], function(Plotly) {                    window.PLOTLYENV=window.PLOTLYENV || {};                                    if (document.getElementById(\"7136f088-6fa9-4de8-9e3c-5eb7af6ec444\")) {                    Plotly.newPlot(                        \"7136f088-6fa9-4de8-9e3c-5eb7af6ec444\",                        [{\"marker\":{\"color\":\"#006D77\"},\"name\":\"Retweets mean 2019\",\"text\":[\"0.53\",\"0.53\",\"0.55\",\"0.55\",\"0.5\",\"0.49\",\"0.49\"],\"textposition\":\"inside\",\"width\":0.28,\"x\":[\"Monday\",\"Tuesday\",\"Wednesday\",\"Thursday\",\"Friday\",\"Saturday\",\"Sunday\"],\"y\":[0.53,0.53,0.55,0.55,0.5,0.49,0.49],\"type\":\"bar\",\"xaxis\":\"x\",\"yaxis\":\"y\"},{\"marker\":{\"color\":\"#00B2CA\"},\"name\":\"Likes mean 2019\",\"x\":[\"Monday\",\"Tuesday\",\"Wednesday\",\"Thursday\",\"Friday\",\"Saturday\",\"Sunday\"],\"y\":[3.33,3.3,3.4,3.35,3.3,3.44,3.39],\"type\":\"scatter\",\"xaxis\":\"x\",\"yaxis\":\"y2\"},{\"marker\":{\"color\":\"#FBD1A2\"},\"name\":\"Retweets mean 2020\",\"text\":[\"0.52\",\"0.49\",\"0.49\",\"0.48\",\"0.48\",\"0.49\",\"0.49\"],\"textposition\":\"inside\",\"width\":0.28,\"x\":[\"Monday\",\"Tuesday\",\"Wednesday\",\"Thursday\",\"Friday\",\"Saturday\",\"Sunday\"],\"y\":[0.52,0.49,0.49,0.48,0.48,0.49,0.49],\"type\":\"bar\",\"xaxis\":\"x\",\"yaxis\":\"y\"},{\"marker\":{\"color\":\"#1D4E89\"},\"name\":\"Likes mean 2020\",\"x\":[\"Monday\",\"Tuesday\",\"Wednesday\",\"Thursday\",\"Friday\",\"Saturday\",\"Sunday\"],\"y\":[3.6,3.5,3.49,3.49,3.57,3.78,3.68],\"type\":\"scatter\",\"xaxis\":\"x\",\"yaxis\":\"y2\"},{\"marker\":{\"color\":\"#7DCFB6\"},\"name\":\"Retweets mean 2021\",\"text\":[\"0.51\",\"0.52\",\"0.53\",\"0.51\",\"0.54\",\"0.49\",\"0.47\"],\"textposition\":\"inside\",\"width\":0.28,\"x\":[\"Monday\",\"Tuesday\",\"Wednesday\",\"Thursday\",\"Friday\",\"Saturday\",\"Sunday\"],\"y\":[0.51,0.52,0.53,0.51,0.54,0.49,0.47],\"type\":\"bar\",\"xaxis\":\"x\",\"yaxis\":\"y\"},{\"marker\":{\"color\":\"#F79256\"},\"name\":\"Likes mean 2021\",\"x\":[\"Monday\",\"Tuesday\",\"Wednesday\",\"Thursday\",\"Friday\",\"Saturday\",\"Sunday\"],\"y\":[4.44,4.36,4.43,4.41,4.63,4.71,4.6],\"type\":\"scatter\",\"xaxis\":\"x\",\"yaxis\":\"y2\"}],                        {\"template\":{\"data\":{\"histogram2dcontour\":[{\"type\":\"histogram2dcontour\",\"colorbar\":{\"outlinewidth\":0,\"ticks\":\"\"},\"colorscale\":[[0.0,\"#0d0887\"],[0.1111111111111111,\"#46039f\"],[0.2222222222222222,\"#7201a8\"],[0.3333333333333333,\"#9c179e\"],[0.4444444444444444,\"#bd3786\"],[0.5555555555555556,\"#d8576b\"],[0.6666666666666666,\"#ed7953\"],[0.7777777777777778,\"#fb9f3a\"],[0.8888888888888888,\"#fdca26\"],[1.0,\"#f0f921\"]]}],\"choropleth\":[{\"type\":\"choropleth\",\"colorbar\":{\"outlinewidth\":0,\"ticks\":\"\"}}],\"histogram2d\":[{\"type\":\"histogram2d\",\"colorbar\":{\"outlinewidth\":0,\"ticks\":\"\"},\"colorscale\":[[0.0,\"#0d0887\"],[0.1111111111111111,\"#46039f\"],[0.2222222222222222,\"#7201a8\"],[0.3333333333333333,\"#9c179e\"],[0.4444444444444444,\"#bd3786\"],[0.5555555555555556,\"#d8576b\"],[0.6666666666666666,\"#ed7953\"],[0.7777777777777778,\"#fb9f3a\"],[0.8888888888888888,\"#fdca26\"],[1.0,\"#f0f921\"]]}],\"heatmap\":[{\"type\":\"heatmap\",\"colorbar\":{\"outlinewidth\":0,\"ticks\":\"\"},\"colorscale\":[[0.0,\"#0d0887\"],[0.1111111111111111,\"#46039f\"],[0.2222222222222222,\"#7201a8\"],[0.3333333333333333,\"#9c179e\"],[0.4444444444444444,\"#bd3786\"],[0.5555555555555556,\"#d8576b\"],[0.6666666666666666,\"#ed7953\"],[0.7777777777777778,\"#fb9f3a\"],[0.8888888888888888,\"#fdca26\"],[1.0,\"#f0f921\"]]}],\"heatmapgl\":[{\"type\":\"heatmapgl\",\"colorbar\":{\"outlinewidth\":0,\"ticks\":\"\"},\"colorscale\":[[0.0,\"#0d0887\"],[0.1111111111111111,\"#46039f\"],[0.2222222222222222,\"#7201a8\"],[0.3333333333333333,\"#9c179e\"],[0.4444444444444444,\"#bd3786\"],[0.5555555555555556,\"#d8576b\"],[0.6666666666666666,\"#ed7953\"],[0.7777777777777778,\"#fb9f3a\"],[0.8888888888888888,\"#fdca26\"],[1.0,\"#f0f921\"]]}],\"contourcarpet\":[{\"type\":\"contourcarpet\",\"colorbar\":{\"outlinewidth\":0,\"ticks\":\"\"}}],\"contour\":[{\"type\":\"contour\",\"colorbar\":{\"outlinewidth\":0,\"ticks\":\"\"},\"colorscale\":[[0.0,\"#0d0887\"],[0.1111111111111111,\"#46039f\"],[0.2222222222222222,\"#7201a8\"],[0.3333333333333333,\"#9c179e\"],[0.4444444444444444,\"#bd3786\"],[0.5555555555555556,\"#d8576b\"],[0.6666666666666666,\"#ed7953\"],[0.7777777777777778,\"#fb9f3a\"],[0.8888888888888888,\"#fdca26\"],[1.0,\"#f0f921\"]]}],\"surface\":[{\"type\":\"surface\",\"colorbar\":{\"outlinewidth\":0,\"ticks\":\"\"},\"colorscale\":[[0.0,\"#0d0887\"],[0.1111111111111111,\"#46039f\"],[0.2222222222222222,\"#7201a8\"],[0.3333333333333333,\"#9c179e\"],[0.4444444444444444,\"#bd3786\"],[0.5555555555555556,\"#d8576b\"],[0.6666666666666666,\"#ed7953\"],[0.7777777777777778,\"#fb9f3a\"],[0.8888888888888888,\"#fdca26\"],[1.0,\"#f0f921\"]]}],\"mesh3d\":[{\"type\":\"mesh3d\",\"colorbar\":{\"outlinewidth\":0,\"ticks\":\"\"}}],\"scatter\":[{\"fillpattern\":{\"fillmode\":\"overlay\",\"size\":10,\"solidity\":0.2},\"type\":\"scatter\"}],\"parcoords\":[{\"type\":\"parcoords\",\"line\":{\"colorbar\":{\"outlinewidth\":0,\"ticks\":\"\"}}}],\"scatterpolargl\":[{\"type\":\"scatterpolargl\",\"marker\":{\"colorbar\":{\"outlinewidth\":0,\"ticks\":\"\"}}}],\"bar\":[{\"error_x\":{\"color\":\"#2a3f5f\"},\"error_y\":{\"color\":\"#2a3f5f\"},\"marker\":{\"line\":{\"color\":\"#E5ECF6\",\"width\":0.5},\"pattern\":{\"fillmode\":\"overlay\",\"size\":10,\"solidity\":0.2}},\"type\":\"bar\"}],\"scattergeo\":[{\"type\":\"scattergeo\",\"marker\":{\"colorbar\":{\"outlinewidth\":0,\"ticks\":\"\"}}}],\"scatterpolar\":[{\"type\":\"scatterpolar\",\"marker\":{\"colorbar\":{\"outlinewidth\":0,\"ticks\":\"\"}}}],\"histogram\":[{\"marker\":{\"pattern\":{\"fillmode\":\"overlay\",\"size\":10,\"solidity\":0.2}},\"type\":\"histogram\"}],\"scattergl\":[{\"type\":\"scattergl\",\"marker\":{\"colorbar\":{\"outlinewidth\":0,\"ticks\":\"\"}}}],\"scatter3d\":[{\"type\":\"scatter3d\",\"line\":{\"colorbar\":{\"outlinewidth\":0,\"ticks\":\"\"}},\"marker\":{\"colorbar\":{\"outlinewidth\":0,\"ticks\":\"\"}}}],\"scattermapbox\":[{\"type\":\"scattermapbox\",\"marker\":{\"colorbar\":{\"outlinewidth\":0,\"ticks\":\"\"}}}],\"scatterternary\":[{\"type\":\"scatterternary\",\"marker\":{\"colorbar\":{\"outlinewidth\":0,\"ticks\":\"\"}}}],\"scattercarpet\":[{\"type\":\"scattercarpet\",\"marker\":{\"colorbar\":{\"outlinewidth\":0,\"ticks\":\"\"}}}],\"carpet\":[{\"aaxis\":{\"endlinecolor\":\"#2a3f5f\",\"gridcolor\":\"white\",\"linecolor\":\"white\",\"minorgridcolor\":\"white\",\"startlinecolor\":\"#2a3f5f\"},\"baxis\":{\"endlinecolor\":\"#2a3f5f\",\"gridcolor\":\"white\",\"linecolor\":\"white\",\"minorgridcolor\":\"white\",\"startlinecolor\":\"#2a3f5f\"},\"type\":\"carpet\"}],\"table\":[{\"cells\":{\"fill\":{\"color\":\"#EBF0F8\"},\"line\":{\"color\":\"white\"}},\"header\":{\"fill\":{\"color\":\"#C8D4E3\"},\"line\":{\"color\":\"white\"}},\"type\":\"table\"}],\"barpolar\":[{\"marker\":{\"line\":{\"color\":\"#E5ECF6\",\"width\":0.5},\"pattern\":{\"fillmode\":\"overlay\",\"size\":10,\"solidity\":0.2}},\"type\":\"barpolar\"}],\"pie\":[{\"automargin\":true,\"type\":\"pie\"}]},\"layout\":{\"autotypenumbers\":\"strict\",\"colorway\":[\"#636efa\",\"#EF553B\",\"#00cc96\",\"#ab63fa\",\"#FFA15A\",\"#19d3f3\",\"#FF6692\",\"#B6E880\",\"#FF97FF\",\"#FECB52\"],\"font\":{\"color\":\"#2a3f5f\"},\"hovermode\":\"closest\",\"hoverlabel\":{\"align\":\"left\"},\"paper_bgcolor\":\"white\",\"plot_bgcolor\":\"#E5ECF6\",\"polar\":{\"bgcolor\":\"#E5ECF6\",\"angularaxis\":{\"gridcolor\":\"white\",\"linecolor\":\"white\",\"ticks\":\"\"},\"radialaxis\":{\"gridcolor\":\"white\",\"linecolor\":\"white\",\"ticks\":\"\"}},\"ternary\":{\"bgcolor\":\"#E5ECF6\",\"aaxis\":{\"gridcolor\":\"white\",\"linecolor\":\"white\",\"ticks\":\"\"},\"baxis\":{\"gridcolor\":\"white\",\"linecolor\":\"white\",\"ticks\":\"\"},\"caxis\":{\"gridcolor\":\"white\",\"linecolor\":\"white\",\"ticks\":\"\"}},\"coloraxis\":{\"colorbar\":{\"outlinewidth\":0,\"ticks\":\"\"}},\"colorscale\":{\"sequential\":[[0.0,\"#0d0887\"],[0.1111111111111111,\"#46039f\"],[0.2222222222222222,\"#7201a8\"],[0.3333333333333333,\"#9c179e\"],[0.4444444444444444,\"#bd3786\"],[0.5555555555555556,\"#d8576b\"],[0.6666666666666666,\"#ed7953\"],[0.7777777777777778,\"#fb9f3a\"],[0.8888888888888888,\"#fdca26\"],[1.0,\"#f0f921\"]],\"sequentialminus\":[[0.0,\"#0d0887\"],[0.1111111111111111,\"#46039f\"],[0.2222222222222222,\"#7201a8\"],[0.3333333333333333,\"#9c179e\"],[0.4444444444444444,\"#bd3786\"],[0.5555555555555556,\"#d8576b\"],[0.6666666666666666,\"#ed7953\"],[0.7777777777777778,\"#fb9f3a\"],[0.8888888888888888,\"#fdca26\"],[1.0,\"#f0f921\"]],\"diverging\":[[0,\"#8e0152\"],[0.1,\"#c51b7d\"],[0.2,\"#de77ae\"],[0.3,\"#f1b6da\"],[0.4,\"#fde0ef\"],[0.5,\"#f7f7f7\"],[0.6,\"#e6f5d0\"],[0.7,\"#b8e186\"],[0.8,\"#7fbc41\"],[0.9,\"#4d9221\"],[1,\"#276419\"]]},\"xaxis\":{\"gridcolor\":\"white\",\"linecolor\":\"white\",\"ticks\":\"\",\"title\":{\"standoff\":15},\"zerolinecolor\":\"white\",\"automargin\":true,\"zerolinewidth\":2},\"yaxis\":{\"gridcolor\":\"white\",\"linecolor\":\"white\",\"ticks\":\"\",\"title\":{\"standoff\":15},\"zerolinecolor\":\"white\",\"automargin\":true,\"zerolinewidth\":2},\"scene\":{\"xaxis\":{\"backgroundcolor\":\"#E5ECF6\",\"gridcolor\":\"white\",\"linecolor\":\"white\",\"showbackground\":true,\"ticks\":\"\",\"zerolinecolor\":\"white\",\"gridwidth\":2},\"yaxis\":{\"backgroundcolor\":\"#E5ECF6\",\"gridcolor\":\"white\",\"linecolor\":\"white\",\"showbackground\":true,\"ticks\":\"\",\"zerolinecolor\":\"white\",\"gridwidth\":2},\"zaxis\":{\"backgroundcolor\":\"#E5ECF6\",\"gridcolor\":\"white\",\"linecolor\":\"white\",\"showbackground\":true,\"ticks\":\"\",\"zerolinecolor\":\"white\",\"gridwidth\":2}},\"shapedefaults\":{\"line\":{\"color\":\"#2a3f5f\"}},\"annotationdefaults\":{\"arrowcolor\":\"#2a3f5f\",\"arrowhead\":0,\"arrowwidth\":1},\"geo\":{\"bgcolor\":\"white\",\"landcolor\":\"#E5ECF6\",\"subunitcolor\":\"white\",\"showland\":true,\"showlakes\":true,\"lakecolor\":\"white\"},\"title\":{\"x\":0.05},\"mapbox\":{\"style\":\"light\"}}},\"xaxis\":{\"anchor\":\"y\",\"domain\":[0.0,0.94],\"title\":{\"text\":\"Weekday\"}},\"yaxis\":{\"anchor\":\"x\",\"domain\":[0.0,1.0],\"title\":{\"text\":\"Retweets mean\"}},\"yaxis2\":{\"anchor\":\"x\",\"overlaying\":\"y\",\"side\":\"right\",\"title\":{\"text\":\"Likes mean\"}},\"title\":{\"text\":\"Average retweets and likes during the week\"},\"width\":900,\"height\":500},                        {\"responsive\": true}                    ).then(function(){\n                            \nvar gd = document.getElementById('7136f088-6fa9-4de8-9e3c-5eb7af6ec444');\nvar x = new MutationObserver(function (mutations, observer) {{\n        var display = window.getComputedStyle(gd).display;\n        if (!display || display === 'none') {{\n            console.log([gd, 'removed!']);\n            Plotly.purge(gd);\n            observer.disconnect();\n        }}\n}});\n\n// Listen for the removal of the full notebook cells\nvar notebookContainer = gd.closest('#notebook-container');\nif (notebookContainer) {{\n    x.observe(notebookContainer, {childList: true});\n}}\n\n// Listen for the clearing of the current output cell\nvar outputEl = gd.closest('.output');\nif (outputEl) {{\n    x.observe(outputEl, {childList: true});\n}}\n\n                        })                };                });            </script>        </div>"
     },
     "metadata": {},
     "output_type": "display_data"
    }
   ],
   "source": [
    "analysis_chart(df_analysis, 'day_of_week', '% with retweets', '% with likes', 'Weekday', '% with retweets',\n",
    "               '% with likes', 'Percentage of retweets and likes during the week', offline_graphs)\n",
    "analysis_chart(df_analysis, 'day_of_week', 'retweets mean', 'likes mean', 'Weekday', 'Retweets mean', 'Likes mean',\n",
    "               'Average retweets and likes during the week', offline_graphs)"
   ],
   "metadata": {
    "collapsed": false,
    "pycharm": {
     "name": "#%%\n"
    }
   }
  },
  {
   "cell_type": "markdown",
   "source": [
    "### Average retweet count per month"
   ],
   "metadata": {
    "collapsed": false,
    "pycharm": {
     "name": "#%% md\n"
    }
   }
  },
  {
   "cell_type": "code",
   "execution_count": 45,
   "outputs": [
    {
     "data": {
      "text/plain": "    year      month  count month   % month  % with retweets  % with likes  \\\n0   2019    January        45257  8.518612            16.24         46.04   \n1   2019   February        40908  7.700011            16.79         48.17   \n2   2019      March        45287  8.524259            16.83         47.29   \n3   2019      April        43801  8.244553            17.28         48.78   \n4   2019        May        44208  8.321161            17.23         48.57   \n5   2019       June        43778  8.240223            16.89         48.14   \n6   2019       July        45211  8.509953            16.27         47.02   \n7   2019     August        45179  8.503930            17.09         49.70   \n8   2019  September        43741  8.233259            17.53         49.90   \n9   2019    October        45060  8.481531            17.69         50.22   \n10  2019   November        43706  8.226671            17.77         50.54   \n11  2019   December        45136  8.495836            17.19         50.12   \n0   2020    January        45117  8.492979            17.50         50.44   \n1   2020   February        42280  7.958933            18.08         50.98   \n2   2020      March        45167  8.502392            17.67         51.43   \n3   2020      April        43725  8.230945            16.83         50.54   \n4   2020        May        45038  8.478108            16.90         50.39   \n5   2020       June        43479  8.184637            17.64         48.52   \n6   2020       July        44979  8.467002            16.48         48.59   \n7   2020     August        44893  8.450813            15.92         48.06   \n8   2020  September        43503  8.189155            15.60         46.81   \n9   2020    October        44961  8.463613            15.34         46.91   \n10  2020   November        43411  8.171836            13.43         47.60   \n11  2020   December        44674  8.409588            13.09         47.06   \n0   2021    January        44756  8.391094            14.47         47.31   \n1   2021   February        40557  7.603843            15.67         48.81   \n2   2021      March        44925  8.422779            15.70         49.02   \n3   2021      April        43527  8.160675            15.41         48.50   \n4   2021        May        45145  8.464026            15.98         48.98   \n5   2021       June        43880  8.226857            16.02         48.78   \n6   2021       July        45351  8.502648            15.75         49.05   \n7   2021     August        45606  8.550457            16.28         50.20   \n8   2021  September        43978  8.245231            16.50         50.12   \n9   2021    October        45670  8.562456            16.93         51.92   \n10  2021   November        44280  8.301851            17.20         53.38   \n11  2021   December        45700  8.568081            16.88         52.95   \n\n    retweets mean  likes mean  \n0            0.49        2.90  \n1            0.48        2.98  \n2            0.51        3.30  \n3            0.54        3.38  \n4            0.53        3.41  \n5            0.50        3.19  \n6            0.47        3.09  \n7            0.51        3.43  \n8            0.54        3.53  \n9            0.55        3.60  \n10           0.56        3.75  \n11           0.54        3.74  \n0            0.55        3.89  \n1            0.57        3.97  \n2            0.55        3.68  \n3            0.49        3.59  \n4            0.52        3.55  \n5            0.59        3.72  \n6            0.52        3.63  \n7            0.47        3.47  \n8            0.45        3.38  \n9            0.48        3.48  \n10           0.38        3.39  \n11           0.35        3.31  \n0            0.43        3.55  \n1            0.49        3.91  \n2            0.51        4.19  \n3            0.48        4.23  \n4            0.47        4.35  \n5            0.51        4.42  \n6            0.50        4.37  \n7            0.52        4.63  \n8            0.51        4.69  \n9            0.52        4.84  \n10           0.60        5.68  \n11           0.58        5.23  ",
      "text/html": "<div>\n<style scoped>\n    .dataframe tbody tr th:only-of-type {\n        vertical-align: middle;\n    }\n\n    .dataframe tbody tr th {\n        vertical-align: top;\n    }\n\n    .dataframe thead th {\n        text-align: right;\n    }\n</style>\n<table border=\"1\" class=\"dataframe\">\n  <thead>\n    <tr style=\"text-align: right;\">\n      <th></th>\n      <th>year</th>\n      <th>month</th>\n      <th>count month</th>\n      <th>% month</th>\n      <th>% with retweets</th>\n      <th>% with likes</th>\n      <th>retweets mean</th>\n      <th>likes mean</th>\n    </tr>\n  </thead>\n  <tbody>\n    <tr>\n      <th>0</th>\n      <td>2019</td>\n      <td>January</td>\n      <td>45257</td>\n      <td>8.518612</td>\n      <td>16.24</td>\n      <td>46.04</td>\n      <td>0.49</td>\n      <td>2.90</td>\n    </tr>\n    <tr>\n      <th>1</th>\n      <td>2019</td>\n      <td>February</td>\n      <td>40908</td>\n      <td>7.700011</td>\n      <td>16.79</td>\n      <td>48.17</td>\n      <td>0.48</td>\n      <td>2.98</td>\n    </tr>\n    <tr>\n      <th>2</th>\n      <td>2019</td>\n      <td>March</td>\n      <td>45287</td>\n      <td>8.524259</td>\n      <td>16.83</td>\n      <td>47.29</td>\n      <td>0.51</td>\n      <td>3.30</td>\n    </tr>\n    <tr>\n      <th>3</th>\n      <td>2019</td>\n      <td>April</td>\n      <td>43801</td>\n      <td>8.244553</td>\n      <td>17.28</td>\n      <td>48.78</td>\n      <td>0.54</td>\n      <td>3.38</td>\n    </tr>\n    <tr>\n      <th>4</th>\n      <td>2019</td>\n      <td>May</td>\n      <td>44208</td>\n      <td>8.321161</td>\n      <td>17.23</td>\n      <td>48.57</td>\n      <td>0.53</td>\n      <td>3.41</td>\n    </tr>\n    <tr>\n      <th>5</th>\n      <td>2019</td>\n      <td>June</td>\n      <td>43778</td>\n      <td>8.240223</td>\n      <td>16.89</td>\n      <td>48.14</td>\n      <td>0.50</td>\n      <td>3.19</td>\n    </tr>\n    <tr>\n      <th>6</th>\n      <td>2019</td>\n      <td>July</td>\n      <td>45211</td>\n      <td>8.509953</td>\n      <td>16.27</td>\n      <td>47.02</td>\n      <td>0.47</td>\n      <td>3.09</td>\n    </tr>\n    <tr>\n      <th>7</th>\n      <td>2019</td>\n      <td>August</td>\n      <td>45179</td>\n      <td>8.503930</td>\n      <td>17.09</td>\n      <td>49.70</td>\n      <td>0.51</td>\n      <td>3.43</td>\n    </tr>\n    <tr>\n      <th>8</th>\n      <td>2019</td>\n      <td>September</td>\n      <td>43741</td>\n      <td>8.233259</td>\n      <td>17.53</td>\n      <td>49.90</td>\n      <td>0.54</td>\n      <td>3.53</td>\n    </tr>\n    <tr>\n      <th>9</th>\n      <td>2019</td>\n      <td>October</td>\n      <td>45060</td>\n      <td>8.481531</td>\n      <td>17.69</td>\n      <td>50.22</td>\n      <td>0.55</td>\n      <td>3.60</td>\n    </tr>\n    <tr>\n      <th>10</th>\n      <td>2019</td>\n      <td>November</td>\n      <td>43706</td>\n      <td>8.226671</td>\n      <td>17.77</td>\n      <td>50.54</td>\n      <td>0.56</td>\n      <td>3.75</td>\n    </tr>\n    <tr>\n      <th>11</th>\n      <td>2019</td>\n      <td>December</td>\n      <td>45136</td>\n      <td>8.495836</td>\n      <td>17.19</td>\n      <td>50.12</td>\n      <td>0.54</td>\n      <td>3.74</td>\n    </tr>\n    <tr>\n      <th>0</th>\n      <td>2020</td>\n      <td>January</td>\n      <td>45117</td>\n      <td>8.492979</td>\n      <td>17.50</td>\n      <td>50.44</td>\n      <td>0.55</td>\n      <td>3.89</td>\n    </tr>\n    <tr>\n      <th>1</th>\n      <td>2020</td>\n      <td>February</td>\n      <td>42280</td>\n      <td>7.958933</td>\n      <td>18.08</td>\n      <td>50.98</td>\n      <td>0.57</td>\n      <td>3.97</td>\n    </tr>\n    <tr>\n      <th>2</th>\n      <td>2020</td>\n      <td>March</td>\n      <td>45167</td>\n      <td>8.502392</td>\n      <td>17.67</td>\n      <td>51.43</td>\n      <td>0.55</td>\n      <td>3.68</td>\n    </tr>\n    <tr>\n      <th>3</th>\n      <td>2020</td>\n      <td>April</td>\n      <td>43725</td>\n      <td>8.230945</td>\n      <td>16.83</td>\n      <td>50.54</td>\n      <td>0.49</td>\n      <td>3.59</td>\n    </tr>\n    <tr>\n      <th>4</th>\n      <td>2020</td>\n      <td>May</td>\n      <td>45038</td>\n      <td>8.478108</td>\n      <td>16.90</td>\n      <td>50.39</td>\n      <td>0.52</td>\n      <td>3.55</td>\n    </tr>\n    <tr>\n      <th>5</th>\n      <td>2020</td>\n      <td>June</td>\n      <td>43479</td>\n      <td>8.184637</td>\n      <td>17.64</td>\n      <td>48.52</td>\n      <td>0.59</td>\n      <td>3.72</td>\n    </tr>\n    <tr>\n      <th>6</th>\n      <td>2020</td>\n      <td>July</td>\n      <td>44979</td>\n      <td>8.467002</td>\n      <td>16.48</td>\n      <td>48.59</td>\n      <td>0.52</td>\n      <td>3.63</td>\n    </tr>\n    <tr>\n      <th>7</th>\n      <td>2020</td>\n      <td>August</td>\n      <td>44893</td>\n      <td>8.450813</td>\n      <td>15.92</td>\n      <td>48.06</td>\n      <td>0.47</td>\n      <td>3.47</td>\n    </tr>\n    <tr>\n      <th>8</th>\n      <td>2020</td>\n      <td>September</td>\n      <td>43503</td>\n      <td>8.189155</td>\n      <td>15.60</td>\n      <td>46.81</td>\n      <td>0.45</td>\n      <td>3.38</td>\n    </tr>\n    <tr>\n      <th>9</th>\n      <td>2020</td>\n      <td>October</td>\n      <td>44961</td>\n      <td>8.463613</td>\n      <td>15.34</td>\n      <td>46.91</td>\n      <td>0.48</td>\n      <td>3.48</td>\n    </tr>\n    <tr>\n      <th>10</th>\n      <td>2020</td>\n      <td>November</td>\n      <td>43411</td>\n      <td>8.171836</td>\n      <td>13.43</td>\n      <td>47.60</td>\n      <td>0.38</td>\n      <td>3.39</td>\n    </tr>\n    <tr>\n      <th>11</th>\n      <td>2020</td>\n      <td>December</td>\n      <td>44674</td>\n      <td>8.409588</td>\n      <td>13.09</td>\n      <td>47.06</td>\n      <td>0.35</td>\n      <td>3.31</td>\n    </tr>\n    <tr>\n      <th>0</th>\n      <td>2021</td>\n      <td>January</td>\n      <td>44756</td>\n      <td>8.391094</td>\n      <td>14.47</td>\n      <td>47.31</td>\n      <td>0.43</td>\n      <td>3.55</td>\n    </tr>\n    <tr>\n      <th>1</th>\n      <td>2021</td>\n      <td>February</td>\n      <td>40557</td>\n      <td>7.603843</td>\n      <td>15.67</td>\n      <td>48.81</td>\n      <td>0.49</td>\n      <td>3.91</td>\n    </tr>\n    <tr>\n      <th>2</th>\n      <td>2021</td>\n      <td>March</td>\n      <td>44925</td>\n      <td>8.422779</td>\n      <td>15.70</td>\n      <td>49.02</td>\n      <td>0.51</td>\n      <td>4.19</td>\n    </tr>\n    <tr>\n      <th>3</th>\n      <td>2021</td>\n      <td>April</td>\n      <td>43527</td>\n      <td>8.160675</td>\n      <td>15.41</td>\n      <td>48.50</td>\n      <td>0.48</td>\n      <td>4.23</td>\n    </tr>\n    <tr>\n      <th>4</th>\n      <td>2021</td>\n      <td>May</td>\n      <td>45145</td>\n      <td>8.464026</td>\n      <td>15.98</td>\n      <td>48.98</td>\n      <td>0.47</td>\n      <td>4.35</td>\n    </tr>\n    <tr>\n      <th>5</th>\n      <td>2021</td>\n      <td>June</td>\n      <td>43880</td>\n      <td>8.226857</td>\n      <td>16.02</td>\n      <td>48.78</td>\n      <td>0.51</td>\n      <td>4.42</td>\n    </tr>\n    <tr>\n      <th>6</th>\n      <td>2021</td>\n      <td>July</td>\n      <td>45351</td>\n      <td>8.502648</td>\n      <td>15.75</td>\n      <td>49.05</td>\n      <td>0.50</td>\n      <td>4.37</td>\n    </tr>\n    <tr>\n      <th>7</th>\n      <td>2021</td>\n      <td>August</td>\n      <td>45606</td>\n      <td>8.550457</td>\n      <td>16.28</td>\n      <td>50.20</td>\n      <td>0.52</td>\n      <td>4.63</td>\n    </tr>\n    <tr>\n      <th>8</th>\n      <td>2021</td>\n      <td>September</td>\n      <td>43978</td>\n      <td>8.245231</td>\n      <td>16.50</td>\n      <td>50.12</td>\n      <td>0.51</td>\n      <td>4.69</td>\n    </tr>\n    <tr>\n      <th>9</th>\n      <td>2021</td>\n      <td>October</td>\n      <td>45670</td>\n      <td>8.562456</td>\n      <td>16.93</td>\n      <td>51.92</td>\n      <td>0.52</td>\n      <td>4.84</td>\n    </tr>\n    <tr>\n      <th>10</th>\n      <td>2021</td>\n      <td>November</td>\n      <td>44280</td>\n      <td>8.301851</td>\n      <td>17.20</td>\n      <td>53.38</td>\n      <td>0.60</td>\n      <td>5.68</td>\n    </tr>\n    <tr>\n      <th>11</th>\n      <td>2021</td>\n      <td>December</td>\n      <td>45700</td>\n      <td>8.568081</td>\n      <td>16.88</td>\n      <td>52.95</td>\n      <td>0.58</td>\n      <td>5.23</td>\n    </tr>\n  </tbody>\n</table>\n</div>"
     },
     "execution_count": 45,
     "metadata": {},
     "output_type": "execute_result"
    }
   ],
   "source": [
    "df_analysis = retweets_likes_info_by_year(tweet_analysis, ['month'], months)\n",
    "df_analysis"
   ],
   "metadata": {
    "collapsed": false,
    "pycharm": {
     "name": "#%%\n"
    }
   }
  },
  {
   "cell_type": "code",
   "execution_count": 46,
   "outputs": [
    {
     "data": {
      "application/vnd.plotly.v1+json": {
       "data": [
        {
         "marker": {
          "color": "#006D77"
         },
         "name": "% with retweets 2019",
         "text": [
          "16.24",
          "16.79",
          "16.83",
          "17.28",
          "17.23",
          "16.89",
          "16.27",
          "17.09",
          "17.53",
          "17.69",
          "17.77",
          "17.19"
         ],
         "textposition": "inside",
         "width": 0.28,
         "x": [
          "January",
          "February",
          "March",
          "April",
          "May",
          "June",
          "July",
          "August",
          "September",
          "October",
          "November",
          "December"
         ],
         "y": [
          16.24,
          16.79,
          16.83,
          17.28,
          17.23,
          16.89,
          16.27,
          17.09,
          17.53,
          17.69,
          17.77,
          17.19
         ],
         "type": "bar",
         "xaxis": "x",
         "yaxis": "y"
        },
        {
         "marker": {
          "color": "#00B2CA"
         },
         "name": "% with likes 2019",
         "x": [
          "January",
          "February",
          "March",
          "April",
          "May",
          "June",
          "July",
          "August",
          "September",
          "October",
          "November",
          "December"
         ],
         "y": [
          46.04,
          48.17,
          47.29,
          48.78,
          48.57,
          48.14,
          47.02,
          49.7,
          49.9,
          50.22,
          50.54,
          50.12
         ],
         "type": "scatter",
         "xaxis": "x",
         "yaxis": "y2"
        },
        {
         "marker": {
          "color": "#FBD1A2"
         },
         "name": "% with retweets 2020",
         "text": [
          "17.5",
          "18.08",
          "17.67",
          "16.83",
          "16.9",
          "17.64",
          "16.48",
          "15.92",
          "15.6",
          "15.34",
          "13.43",
          "13.09"
         ],
         "textposition": "inside",
         "width": 0.28,
         "x": [
          "January",
          "February",
          "March",
          "April",
          "May",
          "June",
          "July",
          "August",
          "September",
          "October",
          "November",
          "December"
         ],
         "y": [
          17.5,
          18.08,
          17.67,
          16.83,
          16.9,
          17.64,
          16.48,
          15.92,
          15.6,
          15.34,
          13.43,
          13.09
         ],
         "type": "bar",
         "xaxis": "x",
         "yaxis": "y"
        },
        {
         "marker": {
          "color": "#1D4E89"
         },
         "name": "% with likes 2020",
         "x": [
          "January",
          "February",
          "March",
          "April",
          "May",
          "June",
          "July",
          "August",
          "September",
          "October",
          "November",
          "December"
         ],
         "y": [
          50.44,
          50.98,
          51.43,
          50.54,
          50.39,
          48.52,
          48.59,
          48.06,
          46.81,
          46.91,
          47.6,
          47.06
         ],
         "type": "scatter",
         "xaxis": "x",
         "yaxis": "y2"
        },
        {
         "marker": {
          "color": "#7DCFB6"
         },
         "name": "% with retweets 2021",
         "text": [
          "14.47",
          "15.67",
          "15.7",
          "15.41",
          "15.98",
          "16.02",
          "15.75",
          "16.28",
          "16.5",
          "16.93",
          "17.2",
          "16.88"
         ],
         "textposition": "inside",
         "width": 0.28,
         "x": [
          "January",
          "February",
          "March",
          "April",
          "May",
          "June",
          "July",
          "August",
          "September",
          "October",
          "November",
          "December"
         ],
         "y": [
          14.47,
          15.67,
          15.7,
          15.41,
          15.98,
          16.02,
          15.75,
          16.28,
          16.5,
          16.93,
          17.2,
          16.88
         ],
         "type": "bar",
         "xaxis": "x",
         "yaxis": "y"
        },
        {
         "marker": {
          "color": "#F79256"
         },
         "name": "% with likes 2021",
         "x": [
          "January",
          "February",
          "March",
          "April",
          "May",
          "June",
          "July",
          "August",
          "September",
          "October",
          "November",
          "December"
         ],
         "y": [
          47.31,
          48.81,
          49.02,
          48.5,
          48.98,
          48.78,
          49.05,
          50.2,
          50.12,
          51.92,
          53.38,
          52.95
         ],
         "type": "scatter",
         "xaxis": "x",
         "yaxis": "y2"
        }
       ],
       "layout": {
        "template": {
         "data": {
          "histogram2dcontour": [
           {
            "type": "histogram2dcontour",
            "colorbar": {
             "outlinewidth": 0,
             "ticks": ""
            },
            "colorscale": [
             [
              0.0,
              "#0d0887"
             ],
             [
              0.1111111111111111,
              "#46039f"
             ],
             [
              0.2222222222222222,
              "#7201a8"
             ],
             [
              0.3333333333333333,
              "#9c179e"
             ],
             [
              0.4444444444444444,
              "#bd3786"
             ],
             [
              0.5555555555555556,
              "#d8576b"
             ],
             [
              0.6666666666666666,
              "#ed7953"
             ],
             [
              0.7777777777777778,
              "#fb9f3a"
             ],
             [
              0.8888888888888888,
              "#fdca26"
             ],
             [
              1.0,
              "#f0f921"
             ]
            ]
           }
          ],
          "choropleth": [
           {
            "type": "choropleth",
            "colorbar": {
             "outlinewidth": 0,
             "ticks": ""
            }
           }
          ],
          "histogram2d": [
           {
            "type": "histogram2d",
            "colorbar": {
             "outlinewidth": 0,
             "ticks": ""
            },
            "colorscale": [
             [
              0.0,
              "#0d0887"
             ],
             [
              0.1111111111111111,
              "#46039f"
             ],
             [
              0.2222222222222222,
              "#7201a8"
             ],
             [
              0.3333333333333333,
              "#9c179e"
             ],
             [
              0.4444444444444444,
              "#bd3786"
             ],
             [
              0.5555555555555556,
              "#d8576b"
             ],
             [
              0.6666666666666666,
              "#ed7953"
             ],
             [
              0.7777777777777778,
              "#fb9f3a"
             ],
             [
              0.8888888888888888,
              "#fdca26"
             ],
             [
              1.0,
              "#f0f921"
             ]
            ]
           }
          ],
          "heatmap": [
           {
            "type": "heatmap",
            "colorbar": {
             "outlinewidth": 0,
             "ticks": ""
            },
            "colorscale": [
             [
              0.0,
              "#0d0887"
             ],
             [
              0.1111111111111111,
              "#46039f"
             ],
             [
              0.2222222222222222,
              "#7201a8"
             ],
             [
              0.3333333333333333,
              "#9c179e"
             ],
             [
              0.4444444444444444,
              "#bd3786"
             ],
             [
              0.5555555555555556,
              "#d8576b"
             ],
             [
              0.6666666666666666,
              "#ed7953"
             ],
             [
              0.7777777777777778,
              "#fb9f3a"
             ],
             [
              0.8888888888888888,
              "#fdca26"
             ],
             [
              1.0,
              "#f0f921"
             ]
            ]
           }
          ],
          "heatmapgl": [
           {
            "type": "heatmapgl",
            "colorbar": {
             "outlinewidth": 0,
             "ticks": ""
            },
            "colorscale": [
             [
              0.0,
              "#0d0887"
             ],
             [
              0.1111111111111111,
              "#46039f"
             ],
             [
              0.2222222222222222,
              "#7201a8"
             ],
             [
              0.3333333333333333,
              "#9c179e"
             ],
             [
              0.4444444444444444,
              "#bd3786"
             ],
             [
              0.5555555555555556,
              "#d8576b"
             ],
             [
              0.6666666666666666,
              "#ed7953"
             ],
             [
              0.7777777777777778,
              "#fb9f3a"
             ],
             [
              0.8888888888888888,
              "#fdca26"
             ],
             [
              1.0,
              "#f0f921"
             ]
            ]
           }
          ],
          "contourcarpet": [
           {
            "type": "contourcarpet",
            "colorbar": {
             "outlinewidth": 0,
             "ticks": ""
            }
           }
          ],
          "contour": [
           {
            "type": "contour",
            "colorbar": {
             "outlinewidth": 0,
             "ticks": ""
            },
            "colorscale": [
             [
              0.0,
              "#0d0887"
             ],
             [
              0.1111111111111111,
              "#46039f"
             ],
             [
              0.2222222222222222,
              "#7201a8"
             ],
             [
              0.3333333333333333,
              "#9c179e"
             ],
             [
              0.4444444444444444,
              "#bd3786"
             ],
             [
              0.5555555555555556,
              "#d8576b"
             ],
             [
              0.6666666666666666,
              "#ed7953"
             ],
             [
              0.7777777777777778,
              "#fb9f3a"
             ],
             [
              0.8888888888888888,
              "#fdca26"
             ],
             [
              1.0,
              "#f0f921"
             ]
            ]
           }
          ],
          "surface": [
           {
            "type": "surface",
            "colorbar": {
             "outlinewidth": 0,
             "ticks": ""
            },
            "colorscale": [
             [
              0.0,
              "#0d0887"
             ],
             [
              0.1111111111111111,
              "#46039f"
             ],
             [
              0.2222222222222222,
              "#7201a8"
             ],
             [
              0.3333333333333333,
              "#9c179e"
             ],
             [
              0.4444444444444444,
              "#bd3786"
             ],
             [
              0.5555555555555556,
              "#d8576b"
             ],
             [
              0.6666666666666666,
              "#ed7953"
             ],
             [
              0.7777777777777778,
              "#fb9f3a"
             ],
             [
              0.8888888888888888,
              "#fdca26"
             ],
             [
              1.0,
              "#f0f921"
             ]
            ]
           }
          ],
          "mesh3d": [
           {
            "type": "mesh3d",
            "colorbar": {
             "outlinewidth": 0,
             "ticks": ""
            }
           }
          ],
          "scatter": [
           {
            "fillpattern": {
             "fillmode": "overlay",
             "size": 10,
             "solidity": 0.2
            },
            "type": "scatter"
           }
          ],
          "parcoords": [
           {
            "type": "parcoords",
            "line": {
             "colorbar": {
              "outlinewidth": 0,
              "ticks": ""
             }
            }
           }
          ],
          "scatterpolargl": [
           {
            "type": "scatterpolargl",
            "marker": {
             "colorbar": {
              "outlinewidth": 0,
              "ticks": ""
             }
            }
           }
          ],
          "bar": [
           {
            "error_x": {
             "color": "#2a3f5f"
            },
            "error_y": {
             "color": "#2a3f5f"
            },
            "marker": {
             "line": {
              "color": "#E5ECF6",
              "width": 0.5
             },
             "pattern": {
              "fillmode": "overlay",
              "size": 10,
              "solidity": 0.2
             }
            },
            "type": "bar"
           }
          ],
          "scattergeo": [
           {
            "type": "scattergeo",
            "marker": {
             "colorbar": {
              "outlinewidth": 0,
              "ticks": ""
             }
            }
           }
          ],
          "scatterpolar": [
           {
            "type": "scatterpolar",
            "marker": {
             "colorbar": {
              "outlinewidth": 0,
              "ticks": ""
             }
            }
           }
          ],
          "histogram": [
           {
            "marker": {
             "pattern": {
              "fillmode": "overlay",
              "size": 10,
              "solidity": 0.2
             }
            },
            "type": "histogram"
           }
          ],
          "scattergl": [
           {
            "type": "scattergl",
            "marker": {
             "colorbar": {
              "outlinewidth": 0,
              "ticks": ""
             }
            }
           }
          ],
          "scatter3d": [
           {
            "type": "scatter3d",
            "line": {
             "colorbar": {
              "outlinewidth": 0,
              "ticks": ""
             }
            },
            "marker": {
             "colorbar": {
              "outlinewidth": 0,
              "ticks": ""
             }
            }
           }
          ],
          "scattermapbox": [
           {
            "type": "scattermapbox",
            "marker": {
             "colorbar": {
              "outlinewidth": 0,
              "ticks": ""
             }
            }
           }
          ],
          "scatterternary": [
           {
            "type": "scatterternary",
            "marker": {
             "colorbar": {
              "outlinewidth": 0,
              "ticks": ""
             }
            }
           }
          ],
          "scattercarpet": [
           {
            "type": "scattercarpet",
            "marker": {
             "colorbar": {
              "outlinewidth": 0,
              "ticks": ""
             }
            }
           }
          ],
          "carpet": [
           {
            "aaxis": {
             "endlinecolor": "#2a3f5f",
             "gridcolor": "white",
             "linecolor": "white",
             "minorgridcolor": "white",
             "startlinecolor": "#2a3f5f"
            },
            "baxis": {
             "endlinecolor": "#2a3f5f",
             "gridcolor": "white",
             "linecolor": "white",
             "minorgridcolor": "white",
             "startlinecolor": "#2a3f5f"
            },
            "type": "carpet"
           }
          ],
          "table": [
           {
            "cells": {
             "fill": {
              "color": "#EBF0F8"
             },
             "line": {
              "color": "white"
             }
            },
            "header": {
             "fill": {
              "color": "#C8D4E3"
             },
             "line": {
              "color": "white"
             }
            },
            "type": "table"
           }
          ],
          "barpolar": [
           {
            "marker": {
             "line": {
              "color": "#E5ECF6",
              "width": 0.5
             },
             "pattern": {
              "fillmode": "overlay",
              "size": 10,
              "solidity": 0.2
             }
            },
            "type": "barpolar"
           }
          ],
          "pie": [
           {
            "automargin": true,
            "type": "pie"
           }
          ]
         },
         "layout": {
          "autotypenumbers": "strict",
          "colorway": [
           "#636efa",
           "#EF553B",
           "#00cc96",
           "#ab63fa",
           "#FFA15A",
           "#19d3f3",
           "#FF6692",
           "#B6E880",
           "#FF97FF",
           "#FECB52"
          ],
          "font": {
           "color": "#2a3f5f"
          },
          "hovermode": "closest",
          "hoverlabel": {
           "align": "left"
          },
          "paper_bgcolor": "white",
          "plot_bgcolor": "#E5ECF6",
          "polar": {
           "bgcolor": "#E5ECF6",
           "angularaxis": {
            "gridcolor": "white",
            "linecolor": "white",
            "ticks": ""
           },
           "radialaxis": {
            "gridcolor": "white",
            "linecolor": "white",
            "ticks": ""
           }
          },
          "ternary": {
           "bgcolor": "#E5ECF6",
           "aaxis": {
            "gridcolor": "white",
            "linecolor": "white",
            "ticks": ""
           },
           "baxis": {
            "gridcolor": "white",
            "linecolor": "white",
            "ticks": ""
           },
           "caxis": {
            "gridcolor": "white",
            "linecolor": "white",
            "ticks": ""
           }
          },
          "coloraxis": {
           "colorbar": {
            "outlinewidth": 0,
            "ticks": ""
           }
          },
          "colorscale": {
           "sequential": [
            [
             0.0,
             "#0d0887"
            ],
            [
             0.1111111111111111,
             "#46039f"
            ],
            [
             0.2222222222222222,
             "#7201a8"
            ],
            [
             0.3333333333333333,
             "#9c179e"
            ],
            [
             0.4444444444444444,
             "#bd3786"
            ],
            [
             0.5555555555555556,
             "#d8576b"
            ],
            [
             0.6666666666666666,
             "#ed7953"
            ],
            [
             0.7777777777777778,
             "#fb9f3a"
            ],
            [
             0.8888888888888888,
             "#fdca26"
            ],
            [
             1.0,
             "#f0f921"
            ]
           ],
           "sequentialminus": [
            [
             0.0,
             "#0d0887"
            ],
            [
             0.1111111111111111,
             "#46039f"
            ],
            [
             0.2222222222222222,
             "#7201a8"
            ],
            [
             0.3333333333333333,
             "#9c179e"
            ],
            [
             0.4444444444444444,
             "#bd3786"
            ],
            [
             0.5555555555555556,
             "#d8576b"
            ],
            [
             0.6666666666666666,
             "#ed7953"
            ],
            [
             0.7777777777777778,
             "#fb9f3a"
            ],
            [
             0.8888888888888888,
             "#fdca26"
            ],
            [
             1.0,
             "#f0f921"
            ]
           ],
           "diverging": [
            [
             0,
             "#8e0152"
            ],
            [
             0.1,
             "#c51b7d"
            ],
            [
             0.2,
             "#de77ae"
            ],
            [
             0.3,
             "#f1b6da"
            ],
            [
             0.4,
             "#fde0ef"
            ],
            [
             0.5,
             "#f7f7f7"
            ],
            [
             0.6,
             "#e6f5d0"
            ],
            [
             0.7,
             "#b8e186"
            ],
            [
             0.8,
             "#7fbc41"
            ],
            [
             0.9,
             "#4d9221"
            ],
            [
             1,
             "#276419"
            ]
           ]
          },
          "xaxis": {
           "gridcolor": "white",
           "linecolor": "white",
           "ticks": "",
           "title": {
            "standoff": 15
           },
           "zerolinecolor": "white",
           "automargin": true,
           "zerolinewidth": 2
          },
          "yaxis": {
           "gridcolor": "white",
           "linecolor": "white",
           "ticks": "",
           "title": {
            "standoff": 15
           },
           "zerolinecolor": "white",
           "automargin": true,
           "zerolinewidth": 2
          },
          "scene": {
           "xaxis": {
            "backgroundcolor": "#E5ECF6",
            "gridcolor": "white",
            "linecolor": "white",
            "showbackground": true,
            "ticks": "",
            "zerolinecolor": "white",
            "gridwidth": 2
           },
           "yaxis": {
            "backgroundcolor": "#E5ECF6",
            "gridcolor": "white",
            "linecolor": "white",
            "showbackground": true,
            "ticks": "",
            "zerolinecolor": "white",
            "gridwidth": 2
           },
           "zaxis": {
            "backgroundcolor": "#E5ECF6",
            "gridcolor": "white",
            "linecolor": "white",
            "showbackground": true,
            "ticks": "",
            "zerolinecolor": "white",
            "gridwidth": 2
           }
          },
          "shapedefaults": {
           "line": {
            "color": "#2a3f5f"
           }
          },
          "annotationdefaults": {
           "arrowcolor": "#2a3f5f",
           "arrowhead": 0,
           "arrowwidth": 1
          },
          "geo": {
           "bgcolor": "white",
           "landcolor": "#E5ECF6",
           "subunitcolor": "white",
           "showland": true,
           "showlakes": true,
           "lakecolor": "white"
          },
          "title": {
           "x": 0.05
          },
          "mapbox": {
           "style": "light"
          }
         }
        },
        "xaxis": {
         "anchor": "y",
         "domain": [
          0.0,
          0.94
         ],
         "title": {
          "text": "Month"
         }
        },
        "yaxis": {
         "anchor": "x",
         "domain": [
          0.0,
          1.0
         ],
         "title": {
          "text": "% with retweets"
         }
        },
        "yaxis2": {
         "anchor": "x",
         "overlaying": "y",
         "side": "right",
         "title": {
          "text": "% with likes"
         }
        },
        "title": {
         "text": "Percentage of retweets and likes during the year"
        },
        "width": 900,
        "height": 500
       },
       "config": {
        "plotlyServerURL": "https://plot.ly"
       }
      },
      "text/html": "<div>                            <div id=\"316dc429-b665-4ea3-aeb6-4768a6f175a3\" class=\"plotly-graph-div\" style=\"height:500px; width:900px;\"></div>            <script type=\"text/javascript\">                require([\"plotly\"], function(Plotly) {                    window.PLOTLYENV=window.PLOTLYENV || {};                                    if (document.getElementById(\"316dc429-b665-4ea3-aeb6-4768a6f175a3\")) {                    Plotly.newPlot(                        \"316dc429-b665-4ea3-aeb6-4768a6f175a3\",                        [{\"marker\":{\"color\":\"#006D77\"},\"name\":\"% with retweets 2019\",\"text\":[\"16.24\",\"16.79\",\"16.83\",\"17.28\",\"17.23\",\"16.89\",\"16.27\",\"17.09\",\"17.53\",\"17.69\",\"17.77\",\"17.19\"],\"textposition\":\"inside\",\"width\":0.28,\"x\":[\"January\",\"February\",\"March\",\"April\",\"May\",\"June\",\"July\",\"August\",\"September\",\"October\",\"November\",\"December\"],\"y\":[16.24,16.79,16.83,17.28,17.23,16.89,16.27,17.09,17.53,17.69,17.77,17.19],\"type\":\"bar\",\"xaxis\":\"x\",\"yaxis\":\"y\"},{\"marker\":{\"color\":\"#00B2CA\"},\"name\":\"% with likes 2019\",\"x\":[\"January\",\"February\",\"March\",\"April\",\"May\",\"June\",\"July\",\"August\",\"September\",\"October\",\"November\",\"December\"],\"y\":[46.04,48.17,47.29,48.78,48.57,48.14,47.02,49.7,49.9,50.22,50.54,50.12],\"type\":\"scatter\",\"xaxis\":\"x\",\"yaxis\":\"y2\"},{\"marker\":{\"color\":\"#FBD1A2\"},\"name\":\"% with retweets 2020\",\"text\":[\"17.5\",\"18.08\",\"17.67\",\"16.83\",\"16.9\",\"17.64\",\"16.48\",\"15.92\",\"15.6\",\"15.34\",\"13.43\",\"13.09\"],\"textposition\":\"inside\",\"width\":0.28,\"x\":[\"January\",\"February\",\"March\",\"April\",\"May\",\"June\",\"July\",\"August\",\"September\",\"October\",\"November\",\"December\"],\"y\":[17.5,18.08,17.67,16.83,16.9,17.64,16.48,15.92,15.6,15.34,13.43,13.09],\"type\":\"bar\",\"xaxis\":\"x\",\"yaxis\":\"y\"},{\"marker\":{\"color\":\"#1D4E89\"},\"name\":\"% with likes 2020\",\"x\":[\"January\",\"February\",\"March\",\"April\",\"May\",\"June\",\"July\",\"August\",\"September\",\"October\",\"November\",\"December\"],\"y\":[50.44,50.98,51.43,50.54,50.39,48.52,48.59,48.06,46.81,46.91,47.6,47.06],\"type\":\"scatter\",\"xaxis\":\"x\",\"yaxis\":\"y2\"},{\"marker\":{\"color\":\"#7DCFB6\"},\"name\":\"% with retweets 2021\",\"text\":[\"14.47\",\"15.67\",\"15.7\",\"15.41\",\"15.98\",\"16.02\",\"15.75\",\"16.28\",\"16.5\",\"16.93\",\"17.2\",\"16.88\"],\"textposition\":\"inside\",\"width\":0.28,\"x\":[\"January\",\"February\",\"March\",\"April\",\"May\",\"June\",\"July\",\"August\",\"September\",\"October\",\"November\",\"December\"],\"y\":[14.47,15.67,15.7,15.41,15.98,16.02,15.75,16.28,16.5,16.93,17.2,16.88],\"type\":\"bar\",\"xaxis\":\"x\",\"yaxis\":\"y\"},{\"marker\":{\"color\":\"#F79256\"},\"name\":\"% with likes 2021\",\"x\":[\"January\",\"February\",\"March\",\"April\",\"May\",\"June\",\"July\",\"August\",\"September\",\"October\",\"November\",\"December\"],\"y\":[47.31,48.81,49.02,48.5,48.98,48.78,49.05,50.2,50.12,51.92,53.38,52.95],\"type\":\"scatter\",\"xaxis\":\"x\",\"yaxis\":\"y2\"}],                        {\"template\":{\"data\":{\"histogram2dcontour\":[{\"type\":\"histogram2dcontour\",\"colorbar\":{\"outlinewidth\":0,\"ticks\":\"\"},\"colorscale\":[[0.0,\"#0d0887\"],[0.1111111111111111,\"#46039f\"],[0.2222222222222222,\"#7201a8\"],[0.3333333333333333,\"#9c179e\"],[0.4444444444444444,\"#bd3786\"],[0.5555555555555556,\"#d8576b\"],[0.6666666666666666,\"#ed7953\"],[0.7777777777777778,\"#fb9f3a\"],[0.8888888888888888,\"#fdca26\"],[1.0,\"#f0f921\"]]}],\"choropleth\":[{\"type\":\"choropleth\",\"colorbar\":{\"outlinewidth\":0,\"ticks\":\"\"}}],\"histogram2d\":[{\"type\":\"histogram2d\",\"colorbar\":{\"outlinewidth\":0,\"ticks\":\"\"},\"colorscale\":[[0.0,\"#0d0887\"],[0.1111111111111111,\"#46039f\"],[0.2222222222222222,\"#7201a8\"],[0.3333333333333333,\"#9c179e\"],[0.4444444444444444,\"#bd3786\"],[0.5555555555555556,\"#d8576b\"],[0.6666666666666666,\"#ed7953\"],[0.7777777777777778,\"#fb9f3a\"],[0.8888888888888888,\"#fdca26\"],[1.0,\"#f0f921\"]]}],\"heatmap\":[{\"type\":\"heatmap\",\"colorbar\":{\"outlinewidth\":0,\"ticks\":\"\"},\"colorscale\":[[0.0,\"#0d0887\"],[0.1111111111111111,\"#46039f\"],[0.2222222222222222,\"#7201a8\"],[0.3333333333333333,\"#9c179e\"],[0.4444444444444444,\"#bd3786\"],[0.5555555555555556,\"#d8576b\"],[0.6666666666666666,\"#ed7953\"],[0.7777777777777778,\"#fb9f3a\"],[0.8888888888888888,\"#fdca26\"],[1.0,\"#f0f921\"]]}],\"heatmapgl\":[{\"type\":\"heatmapgl\",\"colorbar\":{\"outlinewidth\":0,\"ticks\":\"\"},\"colorscale\":[[0.0,\"#0d0887\"],[0.1111111111111111,\"#46039f\"],[0.2222222222222222,\"#7201a8\"],[0.3333333333333333,\"#9c179e\"],[0.4444444444444444,\"#bd3786\"],[0.5555555555555556,\"#d8576b\"],[0.6666666666666666,\"#ed7953\"],[0.7777777777777778,\"#fb9f3a\"],[0.8888888888888888,\"#fdca26\"],[1.0,\"#f0f921\"]]}],\"contourcarpet\":[{\"type\":\"contourcarpet\",\"colorbar\":{\"outlinewidth\":0,\"ticks\":\"\"}}],\"contour\":[{\"type\":\"contour\",\"colorbar\":{\"outlinewidth\":0,\"ticks\":\"\"},\"colorscale\":[[0.0,\"#0d0887\"],[0.1111111111111111,\"#46039f\"],[0.2222222222222222,\"#7201a8\"],[0.3333333333333333,\"#9c179e\"],[0.4444444444444444,\"#bd3786\"],[0.5555555555555556,\"#d8576b\"],[0.6666666666666666,\"#ed7953\"],[0.7777777777777778,\"#fb9f3a\"],[0.8888888888888888,\"#fdca26\"],[1.0,\"#f0f921\"]]}],\"surface\":[{\"type\":\"surface\",\"colorbar\":{\"outlinewidth\":0,\"ticks\":\"\"},\"colorscale\":[[0.0,\"#0d0887\"],[0.1111111111111111,\"#46039f\"],[0.2222222222222222,\"#7201a8\"],[0.3333333333333333,\"#9c179e\"],[0.4444444444444444,\"#bd3786\"],[0.5555555555555556,\"#d8576b\"],[0.6666666666666666,\"#ed7953\"],[0.7777777777777778,\"#fb9f3a\"],[0.8888888888888888,\"#fdca26\"],[1.0,\"#f0f921\"]]}],\"mesh3d\":[{\"type\":\"mesh3d\",\"colorbar\":{\"outlinewidth\":0,\"ticks\":\"\"}}],\"scatter\":[{\"fillpattern\":{\"fillmode\":\"overlay\",\"size\":10,\"solidity\":0.2},\"type\":\"scatter\"}],\"parcoords\":[{\"type\":\"parcoords\",\"line\":{\"colorbar\":{\"outlinewidth\":0,\"ticks\":\"\"}}}],\"scatterpolargl\":[{\"type\":\"scatterpolargl\",\"marker\":{\"colorbar\":{\"outlinewidth\":0,\"ticks\":\"\"}}}],\"bar\":[{\"error_x\":{\"color\":\"#2a3f5f\"},\"error_y\":{\"color\":\"#2a3f5f\"},\"marker\":{\"line\":{\"color\":\"#E5ECF6\",\"width\":0.5},\"pattern\":{\"fillmode\":\"overlay\",\"size\":10,\"solidity\":0.2}},\"type\":\"bar\"}],\"scattergeo\":[{\"type\":\"scattergeo\",\"marker\":{\"colorbar\":{\"outlinewidth\":0,\"ticks\":\"\"}}}],\"scatterpolar\":[{\"type\":\"scatterpolar\",\"marker\":{\"colorbar\":{\"outlinewidth\":0,\"ticks\":\"\"}}}],\"histogram\":[{\"marker\":{\"pattern\":{\"fillmode\":\"overlay\",\"size\":10,\"solidity\":0.2}},\"type\":\"histogram\"}],\"scattergl\":[{\"type\":\"scattergl\",\"marker\":{\"colorbar\":{\"outlinewidth\":0,\"ticks\":\"\"}}}],\"scatter3d\":[{\"type\":\"scatter3d\",\"line\":{\"colorbar\":{\"outlinewidth\":0,\"ticks\":\"\"}},\"marker\":{\"colorbar\":{\"outlinewidth\":0,\"ticks\":\"\"}}}],\"scattermapbox\":[{\"type\":\"scattermapbox\",\"marker\":{\"colorbar\":{\"outlinewidth\":0,\"ticks\":\"\"}}}],\"scatterternary\":[{\"type\":\"scatterternary\",\"marker\":{\"colorbar\":{\"outlinewidth\":0,\"ticks\":\"\"}}}],\"scattercarpet\":[{\"type\":\"scattercarpet\",\"marker\":{\"colorbar\":{\"outlinewidth\":0,\"ticks\":\"\"}}}],\"carpet\":[{\"aaxis\":{\"endlinecolor\":\"#2a3f5f\",\"gridcolor\":\"white\",\"linecolor\":\"white\",\"minorgridcolor\":\"white\",\"startlinecolor\":\"#2a3f5f\"},\"baxis\":{\"endlinecolor\":\"#2a3f5f\",\"gridcolor\":\"white\",\"linecolor\":\"white\",\"minorgridcolor\":\"white\",\"startlinecolor\":\"#2a3f5f\"},\"type\":\"carpet\"}],\"table\":[{\"cells\":{\"fill\":{\"color\":\"#EBF0F8\"},\"line\":{\"color\":\"white\"}},\"header\":{\"fill\":{\"color\":\"#C8D4E3\"},\"line\":{\"color\":\"white\"}},\"type\":\"table\"}],\"barpolar\":[{\"marker\":{\"line\":{\"color\":\"#E5ECF6\",\"width\":0.5},\"pattern\":{\"fillmode\":\"overlay\",\"size\":10,\"solidity\":0.2}},\"type\":\"barpolar\"}],\"pie\":[{\"automargin\":true,\"type\":\"pie\"}]},\"layout\":{\"autotypenumbers\":\"strict\",\"colorway\":[\"#636efa\",\"#EF553B\",\"#00cc96\",\"#ab63fa\",\"#FFA15A\",\"#19d3f3\",\"#FF6692\",\"#B6E880\",\"#FF97FF\",\"#FECB52\"],\"font\":{\"color\":\"#2a3f5f\"},\"hovermode\":\"closest\",\"hoverlabel\":{\"align\":\"left\"},\"paper_bgcolor\":\"white\",\"plot_bgcolor\":\"#E5ECF6\",\"polar\":{\"bgcolor\":\"#E5ECF6\",\"angularaxis\":{\"gridcolor\":\"white\",\"linecolor\":\"white\",\"ticks\":\"\"},\"radialaxis\":{\"gridcolor\":\"white\",\"linecolor\":\"white\",\"ticks\":\"\"}},\"ternary\":{\"bgcolor\":\"#E5ECF6\",\"aaxis\":{\"gridcolor\":\"white\",\"linecolor\":\"white\",\"ticks\":\"\"},\"baxis\":{\"gridcolor\":\"white\",\"linecolor\":\"white\",\"ticks\":\"\"},\"caxis\":{\"gridcolor\":\"white\",\"linecolor\":\"white\",\"ticks\":\"\"}},\"coloraxis\":{\"colorbar\":{\"outlinewidth\":0,\"ticks\":\"\"}},\"colorscale\":{\"sequential\":[[0.0,\"#0d0887\"],[0.1111111111111111,\"#46039f\"],[0.2222222222222222,\"#7201a8\"],[0.3333333333333333,\"#9c179e\"],[0.4444444444444444,\"#bd3786\"],[0.5555555555555556,\"#d8576b\"],[0.6666666666666666,\"#ed7953\"],[0.7777777777777778,\"#fb9f3a\"],[0.8888888888888888,\"#fdca26\"],[1.0,\"#f0f921\"]],\"sequentialminus\":[[0.0,\"#0d0887\"],[0.1111111111111111,\"#46039f\"],[0.2222222222222222,\"#7201a8\"],[0.3333333333333333,\"#9c179e\"],[0.4444444444444444,\"#bd3786\"],[0.5555555555555556,\"#d8576b\"],[0.6666666666666666,\"#ed7953\"],[0.7777777777777778,\"#fb9f3a\"],[0.8888888888888888,\"#fdca26\"],[1.0,\"#f0f921\"]],\"diverging\":[[0,\"#8e0152\"],[0.1,\"#c51b7d\"],[0.2,\"#de77ae\"],[0.3,\"#f1b6da\"],[0.4,\"#fde0ef\"],[0.5,\"#f7f7f7\"],[0.6,\"#e6f5d0\"],[0.7,\"#b8e186\"],[0.8,\"#7fbc41\"],[0.9,\"#4d9221\"],[1,\"#276419\"]]},\"xaxis\":{\"gridcolor\":\"white\",\"linecolor\":\"white\",\"ticks\":\"\",\"title\":{\"standoff\":15},\"zerolinecolor\":\"white\",\"automargin\":true,\"zerolinewidth\":2},\"yaxis\":{\"gridcolor\":\"white\",\"linecolor\":\"white\",\"ticks\":\"\",\"title\":{\"standoff\":15},\"zerolinecolor\":\"white\",\"automargin\":true,\"zerolinewidth\":2},\"scene\":{\"xaxis\":{\"backgroundcolor\":\"#E5ECF6\",\"gridcolor\":\"white\",\"linecolor\":\"white\",\"showbackground\":true,\"ticks\":\"\",\"zerolinecolor\":\"white\",\"gridwidth\":2},\"yaxis\":{\"backgroundcolor\":\"#E5ECF6\",\"gridcolor\":\"white\",\"linecolor\":\"white\",\"showbackground\":true,\"ticks\":\"\",\"zerolinecolor\":\"white\",\"gridwidth\":2},\"zaxis\":{\"backgroundcolor\":\"#E5ECF6\",\"gridcolor\":\"white\",\"linecolor\":\"white\",\"showbackground\":true,\"ticks\":\"\",\"zerolinecolor\":\"white\",\"gridwidth\":2}},\"shapedefaults\":{\"line\":{\"color\":\"#2a3f5f\"}},\"annotationdefaults\":{\"arrowcolor\":\"#2a3f5f\",\"arrowhead\":0,\"arrowwidth\":1},\"geo\":{\"bgcolor\":\"white\",\"landcolor\":\"#E5ECF6\",\"subunitcolor\":\"white\",\"showland\":true,\"showlakes\":true,\"lakecolor\":\"white\"},\"title\":{\"x\":0.05},\"mapbox\":{\"style\":\"light\"}}},\"xaxis\":{\"anchor\":\"y\",\"domain\":[0.0,0.94],\"title\":{\"text\":\"Month\"}},\"yaxis\":{\"anchor\":\"x\",\"domain\":[0.0,1.0],\"title\":{\"text\":\"% with retweets\"}},\"yaxis2\":{\"anchor\":\"x\",\"overlaying\":\"y\",\"side\":\"right\",\"title\":{\"text\":\"% with likes\"}},\"title\":{\"text\":\"Percentage of retweets and likes during the year\"},\"width\":900,\"height\":500},                        {\"responsive\": true}                    ).then(function(){\n                            \nvar gd = document.getElementById('316dc429-b665-4ea3-aeb6-4768a6f175a3');\nvar x = new MutationObserver(function (mutations, observer) {{\n        var display = window.getComputedStyle(gd).display;\n        if (!display || display === 'none') {{\n            console.log([gd, 'removed!']);\n            Plotly.purge(gd);\n            observer.disconnect();\n        }}\n}});\n\n// Listen for the removal of the full notebook cells\nvar notebookContainer = gd.closest('#notebook-container');\nif (notebookContainer) {{\n    x.observe(notebookContainer, {childList: true});\n}}\n\n// Listen for the clearing of the current output cell\nvar outputEl = gd.closest('.output');\nif (outputEl) {{\n    x.observe(outputEl, {childList: true});\n}}\n\n                        })                };                });            </script>        </div>"
     },
     "metadata": {},
     "output_type": "display_data"
    },
    {
     "data": {
      "application/vnd.plotly.v1+json": {
       "data": [
        {
         "marker": {
          "color": "#006D77"
         },
         "name": "Retweets mean 2019",
         "text": [
          "0.49",
          "0.48",
          "0.51",
          "0.54",
          "0.53",
          "0.5",
          "0.47",
          "0.51",
          "0.54",
          "0.55",
          "0.56",
          "0.54"
         ],
         "textposition": "inside",
         "width": 0.28,
         "x": [
          "January",
          "February",
          "March",
          "April",
          "May",
          "June",
          "July",
          "August",
          "September",
          "October",
          "November",
          "December"
         ],
         "y": [
          0.49,
          0.48,
          0.51,
          0.54,
          0.53,
          0.5,
          0.47,
          0.51,
          0.54,
          0.55,
          0.56,
          0.54
         ],
         "type": "bar",
         "xaxis": "x",
         "yaxis": "y"
        },
        {
         "marker": {
          "color": "#00B2CA"
         },
         "name": "Likes mean 2019",
         "x": [
          "January",
          "February",
          "March",
          "April",
          "May",
          "June",
          "July",
          "August",
          "September",
          "October",
          "November",
          "December"
         ],
         "y": [
          2.9,
          2.98,
          3.3,
          3.38,
          3.41,
          3.19,
          3.09,
          3.43,
          3.53,
          3.6,
          3.75,
          3.74
         ],
         "type": "scatter",
         "xaxis": "x",
         "yaxis": "y2"
        },
        {
         "marker": {
          "color": "#FBD1A2"
         },
         "name": "Retweets mean 2020",
         "text": [
          "0.55",
          "0.57",
          "0.55",
          "0.49",
          "0.52",
          "0.59",
          "0.52",
          "0.47",
          "0.45",
          "0.48",
          "0.38",
          "0.35"
         ],
         "textposition": "inside",
         "width": 0.28,
         "x": [
          "January",
          "February",
          "March",
          "April",
          "May",
          "June",
          "July",
          "August",
          "September",
          "October",
          "November",
          "December"
         ],
         "y": [
          0.55,
          0.57,
          0.55,
          0.49,
          0.52,
          0.59,
          0.52,
          0.47,
          0.45,
          0.48,
          0.38,
          0.35
         ],
         "type": "bar",
         "xaxis": "x",
         "yaxis": "y"
        },
        {
         "marker": {
          "color": "#1D4E89"
         },
         "name": "Likes mean 2020",
         "x": [
          "January",
          "February",
          "March",
          "April",
          "May",
          "June",
          "July",
          "August",
          "September",
          "October",
          "November",
          "December"
         ],
         "y": [
          3.89,
          3.97,
          3.68,
          3.59,
          3.55,
          3.72,
          3.63,
          3.47,
          3.38,
          3.48,
          3.39,
          3.31
         ],
         "type": "scatter",
         "xaxis": "x",
         "yaxis": "y2"
        },
        {
         "marker": {
          "color": "#7DCFB6"
         },
         "name": "Retweets mean 2021",
         "text": [
          "0.43",
          "0.49",
          "0.51",
          "0.48",
          "0.47",
          "0.51",
          "0.5",
          "0.52",
          "0.51",
          "0.52",
          "0.6",
          "0.58"
         ],
         "textposition": "inside",
         "width": 0.28,
         "x": [
          "January",
          "February",
          "March",
          "April",
          "May",
          "June",
          "July",
          "August",
          "September",
          "October",
          "November",
          "December"
         ],
         "y": [
          0.43,
          0.49,
          0.51,
          0.48,
          0.47,
          0.51,
          0.5,
          0.52,
          0.51,
          0.52,
          0.6,
          0.58
         ],
         "type": "bar",
         "xaxis": "x",
         "yaxis": "y"
        },
        {
         "marker": {
          "color": "#F79256"
         },
         "name": "Likes mean 2021",
         "x": [
          "January",
          "February",
          "March",
          "April",
          "May",
          "June",
          "July",
          "August",
          "September",
          "October",
          "November",
          "December"
         ],
         "y": [
          3.55,
          3.91,
          4.19,
          4.23,
          4.35,
          4.42,
          4.37,
          4.63,
          4.69,
          4.84,
          5.68,
          5.23
         ],
         "type": "scatter",
         "xaxis": "x",
         "yaxis": "y2"
        }
       ],
       "layout": {
        "template": {
         "data": {
          "histogram2dcontour": [
           {
            "type": "histogram2dcontour",
            "colorbar": {
             "outlinewidth": 0,
             "ticks": ""
            },
            "colorscale": [
             [
              0.0,
              "#0d0887"
             ],
             [
              0.1111111111111111,
              "#46039f"
             ],
             [
              0.2222222222222222,
              "#7201a8"
             ],
             [
              0.3333333333333333,
              "#9c179e"
             ],
             [
              0.4444444444444444,
              "#bd3786"
             ],
             [
              0.5555555555555556,
              "#d8576b"
             ],
             [
              0.6666666666666666,
              "#ed7953"
             ],
             [
              0.7777777777777778,
              "#fb9f3a"
             ],
             [
              0.8888888888888888,
              "#fdca26"
             ],
             [
              1.0,
              "#f0f921"
             ]
            ]
           }
          ],
          "choropleth": [
           {
            "type": "choropleth",
            "colorbar": {
             "outlinewidth": 0,
             "ticks": ""
            }
           }
          ],
          "histogram2d": [
           {
            "type": "histogram2d",
            "colorbar": {
             "outlinewidth": 0,
             "ticks": ""
            },
            "colorscale": [
             [
              0.0,
              "#0d0887"
             ],
             [
              0.1111111111111111,
              "#46039f"
             ],
             [
              0.2222222222222222,
              "#7201a8"
             ],
             [
              0.3333333333333333,
              "#9c179e"
             ],
             [
              0.4444444444444444,
              "#bd3786"
             ],
             [
              0.5555555555555556,
              "#d8576b"
             ],
             [
              0.6666666666666666,
              "#ed7953"
             ],
             [
              0.7777777777777778,
              "#fb9f3a"
             ],
             [
              0.8888888888888888,
              "#fdca26"
             ],
             [
              1.0,
              "#f0f921"
             ]
            ]
           }
          ],
          "heatmap": [
           {
            "type": "heatmap",
            "colorbar": {
             "outlinewidth": 0,
             "ticks": ""
            },
            "colorscale": [
             [
              0.0,
              "#0d0887"
             ],
             [
              0.1111111111111111,
              "#46039f"
             ],
             [
              0.2222222222222222,
              "#7201a8"
             ],
             [
              0.3333333333333333,
              "#9c179e"
             ],
             [
              0.4444444444444444,
              "#bd3786"
             ],
             [
              0.5555555555555556,
              "#d8576b"
             ],
             [
              0.6666666666666666,
              "#ed7953"
             ],
             [
              0.7777777777777778,
              "#fb9f3a"
             ],
             [
              0.8888888888888888,
              "#fdca26"
             ],
             [
              1.0,
              "#f0f921"
             ]
            ]
           }
          ],
          "heatmapgl": [
           {
            "type": "heatmapgl",
            "colorbar": {
             "outlinewidth": 0,
             "ticks": ""
            },
            "colorscale": [
             [
              0.0,
              "#0d0887"
             ],
             [
              0.1111111111111111,
              "#46039f"
             ],
             [
              0.2222222222222222,
              "#7201a8"
             ],
             [
              0.3333333333333333,
              "#9c179e"
             ],
             [
              0.4444444444444444,
              "#bd3786"
             ],
             [
              0.5555555555555556,
              "#d8576b"
             ],
             [
              0.6666666666666666,
              "#ed7953"
             ],
             [
              0.7777777777777778,
              "#fb9f3a"
             ],
             [
              0.8888888888888888,
              "#fdca26"
             ],
             [
              1.0,
              "#f0f921"
             ]
            ]
           }
          ],
          "contourcarpet": [
           {
            "type": "contourcarpet",
            "colorbar": {
             "outlinewidth": 0,
             "ticks": ""
            }
           }
          ],
          "contour": [
           {
            "type": "contour",
            "colorbar": {
             "outlinewidth": 0,
             "ticks": ""
            },
            "colorscale": [
             [
              0.0,
              "#0d0887"
             ],
             [
              0.1111111111111111,
              "#46039f"
             ],
             [
              0.2222222222222222,
              "#7201a8"
             ],
             [
              0.3333333333333333,
              "#9c179e"
             ],
             [
              0.4444444444444444,
              "#bd3786"
             ],
             [
              0.5555555555555556,
              "#d8576b"
             ],
             [
              0.6666666666666666,
              "#ed7953"
             ],
             [
              0.7777777777777778,
              "#fb9f3a"
             ],
             [
              0.8888888888888888,
              "#fdca26"
             ],
             [
              1.0,
              "#f0f921"
             ]
            ]
           }
          ],
          "surface": [
           {
            "type": "surface",
            "colorbar": {
             "outlinewidth": 0,
             "ticks": ""
            },
            "colorscale": [
             [
              0.0,
              "#0d0887"
             ],
             [
              0.1111111111111111,
              "#46039f"
             ],
             [
              0.2222222222222222,
              "#7201a8"
             ],
             [
              0.3333333333333333,
              "#9c179e"
             ],
             [
              0.4444444444444444,
              "#bd3786"
             ],
             [
              0.5555555555555556,
              "#d8576b"
             ],
             [
              0.6666666666666666,
              "#ed7953"
             ],
             [
              0.7777777777777778,
              "#fb9f3a"
             ],
             [
              0.8888888888888888,
              "#fdca26"
             ],
             [
              1.0,
              "#f0f921"
             ]
            ]
           }
          ],
          "mesh3d": [
           {
            "type": "mesh3d",
            "colorbar": {
             "outlinewidth": 0,
             "ticks": ""
            }
           }
          ],
          "scatter": [
           {
            "fillpattern": {
             "fillmode": "overlay",
             "size": 10,
             "solidity": 0.2
            },
            "type": "scatter"
           }
          ],
          "parcoords": [
           {
            "type": "parcoords",
            "line": {
             "colorbar": {
              "outlinewidth": 0,
              "ticks": ""
             }
            }
           }
          ],
          "scatterpolargl": [
           {
            "type": "scatterpolargl",
            "marker": {
             "colorbar": {
              "outlinewidth": 0,
              "ticks": ""
             }
            }
           }
          ],
          "bar": [
           {
            "error_x": {
             "color": "#2a3f5f"
            },
            "error_y": {
             "color": "#2a3f5f"
            },
            "marker": {
             "line": {
              "color": "#E5ECF6",
              "width": 0.5
             },
             "pattern": {
              "fillmode": "overlay",
              "size": 10,
              "solidity": 0.2
             }
            },
            "type": "bar"
           }
          ],
          "scattergeo": [
           {
            "type": "scattergeo",
            "marker": {
             "colorbar": {
              "outlinewidth": 0,
              "ticks": ""
             }
            }
           }
          ],
          "scatterpolar": [
           {
            "type": "scatterpolar",
            "marker": {
             "colorbar": {
              "outlinewidth": 0,
              "ticks": ""
             }
            }
           }
          ],
          "histogram": [
           {
            "marker": {
             "pattern": {
              "fillmode": "overlay",
              "size": 10,
              "solidity": 0.2
             }
            },
            "type": "histogram"
           }
          ],
          "scattergl": [
           {
            "type": "scattergl",
            "marker": {
             "colorbar": {
              "outlinewidth": 0,
              "ticks": ""
             }
            }
           }
          ],
          "scatter3d": [
           {
            "type": "scatter3d",
            "line": {
             "colorbar": {
              "outlinewidth": 0,
              "ticks": ""
             }
            },
            "marker": {
             "colorbar": {
              "outlinewidth": 0,
              "ticks": ""
             }
            }
           }
          ],
          "scattermapbox": [
           {
            "type": "scattermapbox",
            "marker": {
             "colorbar": {
              "outlinewidth": 0,
              "ticks": ""
             }
            }
           }
          ],
          "scatterternary": [
           {
            "type": "scatterternary",
            "marker": {
             "colorbar": {
              "outlinewidth": 0,
              "ticks": ""
             }
            }
           }
          ],
          "scattercarpet": [
           {
            "type": "scattercarpet",
            "marker": {
             "colorbar": {
              "outlinewidth": 0,
              "ticks": ""
             }
            }
           }
          ],
          "carpet": [
           {
            "aaxis": {
             "endlinecolor": "#2a3f5f",
             "gridcolor": "white",
             "linecolor": "white",
             "minorgridcolor": "white",
             "startlinecolor": "#2a3f5f"
            },
            "baxis": {
             "endlinecolor": "#2a3f5f",
             "gridcolor": "white",
             "linecolor": "white",
             "minorgridcolor": "white",
             "startlinecolor": "#2a3f5f"
            },
            "type": "carpet"
           }
          ],
          "table": [
           {
            "cells": {
             "fill": {
              "color": "#EBF0F8"
             },
             "line": {
              "color": "white"
             }
            },
            "header": {
             "fill": {
              "color": "#C8D4E3"
             },
             "line": {
              "color": "white"
             }
            },
            "type": "table"
           }
          ],
          "barpolar": [
           {
            "marker": {
             "line": {
              "color": "#E5ECF6",
              "width": 0.5
             },
             "pattern": {
              "fillmode": "overlay",
              "size": 10,
              "solidity": 0.2
             }
            },
            "type": "barpolar"
           }
          ],
          "pie": [
           {
            "automargin": true,
            "type": "pie"
           }
          ]
         },
         "layout": {
          "autotypenumbers": "strict",
          "colorway": [
           "#636efa",
           "#EF553B",
           "#00cc96",
           "#ab63fa",
           "#FFA15A",
           "#19d3f3",
           "#FF6692",
           "#B6E880",
           "#FF97FF",
           "#FECB52"
          ],
          "font": {
           "color": "#2a3f5f"
          },
          "hovermode": "closest",
          "hoverlabel": {
           "align": "left"
          },
          "paper_bgcolor": "white",
          "plot_bgcolor": "#E5ECF6",
          "polar": {
           "bgcolor": "#E5ECF6",
           "angularaxis": {
            "gridcolor": "white",
            "linecolor": "white",
            "ticks": ""
           },
           "radialaxis": {
            "gridcolor": "white",
            "linecolor": "white",
            "ticks": ""
           }
          },
          "ternary": {
           "bgcolor": "#E5ECF6",
           "aaxis": {
            "gridcolor": "white",
            "linecolor": "white",
            "ticks": ""
           },
           "baxis": {
            "gridcolor": "white",
            "linecolor": "white",
            "ticks": ""
           },
           "caxis": {
            "gridcolor": "white",
            "linecolor": "white",
            "ticks": ""
           }
          },
          "coloraxis": {
           "colorbar": {
            "outlinewidth": 0,
            "ticks": ""
           }
          },
          "colorscale": {
           "sequential": [
            [
             0.0,
             "#0d0887"
            ],
            [
             0.1111111111111111,
             "#46039f"
            ],
            [
             0.2222222222222222,
             "#7201a8"
            ],
            [
             0.3333333333333333,
             "#9c179e"
            ],
            [
             0.4444444444444444,
             "#bd3786"
            ],
            [
             0.5555555555555556,
             "#d8576b"
            ],
            [
             0.6666666666666666,
             "#ed7953"
            ],
            [
             0.7777777777777778,
             "#fb9f3a"
            ],
            [
             0.8888888888888888,
             "#fdca26"
            ],
            [
             1.0,
             "#f0f921"
            ]
           ],
           "sequentialminus": [
            [
             0.0,
             "#0d0887"
            ],
            [
             0.1111111111111111,
             "#46039f"
            ],
            [
             0.2222222222222222,
             "#7201a8"
            ],
            [
             0.3333333333333333,
             "#9c179e"
            ],
            [
             0.4444444444444444,
             "#bd3786"
            ],
            [
             0.5555555555555556,
             "#d8576b"
            ],
            [
             0.6666666666666666,
             "#ed7953"
            ],
            [
             0.7777777777777778,
             "#fb9f3a"
            ],
            [
             0.8888888888888888,
             "#fdca26"
            ],
            [
             1.0,
             "#f0f921"
            ]
           ],
           "diverging": [
            [
             0,
             "#8e0152"
            ],
            [
             0.1,
             "#c51b7d"
            ],
            [
             0.2,
             "#de77ae"
            ],
            [
             0.3,
             "#f1b6da"
            ],
            [
             0.4,
             "#fde0ef"
            ],
            [
             0.5,
             "#f7f7f7"
            ],
            [
             0.6,
             "#e6f5d0"
            ],
            [
             0.7,
             "#b8e186"
            ],
            [
             0.8,
             "#7fbc41"
            ],
            [
             0.9,
             "#4d9221"
            ],
            [
             1,
             "#276419"
            ]
           ]
          },
          "xaxis": {
           "gridcolor": "white",
           "linecolor": "white",
           "ticks": "",
           "title": {
            "standoff": 15
           },
           "zerolinecolor": "white",
           "automargin": true,
           "zerolinewidth": 2
          },
          "yaxis": {
           "gridcolor": "white",
           "linecolor": "white",
           "ticks": "",
           "title": {
            "standoff": 15
           },
           "zerolinecolor": "white",
           "automargin": true,
           "zerolinewidth": 2
          },
          "scene": {
           "xaxis": {
            "backgroundcolor": "#E5ECF6",
            "gridcolor": "white",
            "linecolor": "white",
            "showbackground": true,
            "ticks": "",
            "zerolinecolor": "white",
            "gridwidth": 2
           },
           "yaxis": {
            "backgroundcolor": "#E5ECF6",
            "gridcolor": "white",
            "linecolor": "white",
            "showbackground": true,
            "ticks": "",
            "zerolinecolor": "white",
            "gridwidth": 2
           },
           "zaxis": {
            "backgroundcolor": "#E5ECF6",
            "gridcolor": "white",
            "linecolor": "white",
            "showbackground": true,
            "ticks": "",
            "zerolinecolor": "white",
            "gridwidth": 2
           }
          },
          "shapedefaults": {
           "line": {
            "color": "#2a3f5f"
           }
          },
          "annotationdefaults": {
           "arrowcolor": "#2a3f5f",
           "arrowhead": 0,
           "arrowwidth": 1
          },
          "geo": {
           "bgcolor": "white",
           "landcolor": "#E5ECF6",
           "subunitcolor": "white",
           "showland": true,
           "showlakes": true,
           "lakecolor": "white"
          },
          "title": {
           "x": 0.05
          },
          "mapbox": {
           "style": "light"
          }
         }
        },
        "xaxis": {
         "anchor": "y",
         "domain": [
          0.0,
          0.94
         ],
         "title": {
          "text": "Month"
         }
        },
        "yaxis": {
         "anchor": "x",
         "domain": [
          0.0,
          1.0
         ],
         "title": {
          "text": "Retweets mean"
         }
        },
        "yaxis2": {
         "anchor": "x",
         "overlaying": "y",
         "side": "right",
         "title": {
          "text": "Likes mean"
         }
        },
        "title": {
         "text": "Average retweets and likes during the year"
        },
        "width": 900,
        "height": 500
       },
       "config": {
        "plotlyServerURL": "https://plot.ly"
       }
      },
      "text/html": "<div>                            <div id=\"a948e656-e265-487b-b174-430d7ba47c3a\" class=\"plotly-graph-div\" style=\"height:500px; width:900px;\"></div>            <script type=\"text/javascript\">                require([\"plotly\"], function(Plotly) {                    window.PLOTLYENV=window.PLOTLYENV || {};                                    if (document.getElementById(\"a948e656-e265-487b-b174-430d7ba47c3a\")) {                    Plotly.newPlot(                        \"a948e656-e265-487b-b174-430d7ba47c3a\",                        [{\"marker\":{\"color\":\"#006D77\"},\"name\":\"Retweets mean 2019\",\"text\":[\"0.49\",\"0.48\",\"0.51\",\"0.54\",\"0.53\",\"0.5\",\"0.47\",\"0.51\",\"0.54\",\"0.55\",\"0.56\",\"0.54\"],\"textposition\":\"inside\",\"width\":0.28,\"x\":[\"January\",\"February\",\"March\",\"April\",\"May\",\"June\",\"July\",\"August\",\"September\",\"October\",\"November\",\"December\"],\"y\":[0.49,0.48,0.51,0.54,0.53,0.5,0.47,0.51,0.54,0.55,0.56,0.54],\"type\":\"bar\",\"xaxis\":\"x\",\"yaxis\":\"y\"},{\"marker\":{\"color\":\"#00B2CA\"},\"name\":\"Likes mean 2019\",\"x\":[\"January\",\"February\",\"March\",\"April\",\"May\",\"June\",\"July\",\"August\",\"September\",\"October\",\"November\",\"December\"],\"y\":[2.9,2.98,3.3,3.38,3.41,3.19,3.09,3.43,3.53,3.6,3.75,3.74],\"type\":\"scatter\",\"xaxis\":\"x\",\"yaxis\":\"y2\"},{\"marker\":{\"color\":\"#FBD1A2\"},\"name\":\"Retweets mean 2020\",\"text\":[\"0.55\",\"0.57\",\"0.55\",\"0.49\",\"0.52\",\"0.59\",\"0.52\",\"0.47\",\"0.45\",\"0.48\",\"0.38\",\"0.35\"],\"textposition\":\"inside\",\"width\":0.28,\"x\":[\"January\",\"February\",\"March\",\"April\",\"May\",\"June\",\"July\",\"August\",\"September\",\"October\",\"November\",\"December\"],\"y\":[0.55,0.57,0.55,0.49,0.52,0.59,0.52,0.47,0.45,0.48,0.38,0.35],\"type\":\"bar\",\"xaxis\":\"x\",\"yaxis\":\"y\"},{\"marker\":{\"color\":\"#1D4E89\"},\"name\":\"Likes mean 2020\",\"x\":[\"January\",\"February\",\"March\",\"April\",\"May\",\"June\",\"July\",\"August\",\"September\",\"October\",\"November\",\"December\"],\"y\":[3.89,3.97,3.68,3.59,3.55,3.72,3.63,3.47,3.38,3.48,3.39,3.31],\"type\":\"scatter\",\"xaxis\":\"x\",\"yaxis\":\"y2\"},{\"marker\":{\"color\":\"#7DCFB6\"},\"name\":\"Retweets mean 2021\",\"text\":[\"0.43\",\"0.49\",\"0.51\",\"0.48\",\"0.47\",\"0.51\",\"0.5\",\"0.52\",\"0.51\",\"0.52\",\"0.6\",\"0.58\"],\"textposition\":\"inside\",\"width\":0.28,\"x\":[\"January\",\"February\",\"March\",\"April\",\"May\",\"June\",\"July\",\"August\",\"September\",\"October\",\"November\",\"December\"],\"y\":[0.43,0.49,0.51,0.48,0.47,0.51,0.5,0.52,0.51,0.52,0.6,0.58],\"type\":\"bar\",\"xaxis\":\"x\",\"yaxis\":\"y\"},{\"marker\":{\"color\":\"#F79256\"},\"name\":\"Likes mean 2021\",\"x\":[\"January\",\"February\",\"March\",\"April\",\"May\",\"June\",\"July\",\"August\",\"September\",\"October\",\"November\",\"December\"],\"y\":[3.55,3.91,4.19,4.23,4.35,4.42,4.37,4.63,4.69,4.84,5.68,5.23],\"type\":\"scatter\",\"xaxis\":\"x\",\"yaxis\":\"y2\"}],                        {\"template\":{\"data\":{\"histogram2dcontour\":[{\"type\":\"histogram2dcontour\",\"colorbar\":{\"outlinewidth\":0,\"ticks\":\"\"},\"colorscale\":[[0.0,\"#0d0887\"],[0.1111111111111111,\"#46039f\"],[0.2222222222222222,\"#7201a8\"],[0.3333333333333333,\"#9c179e\"],[0.4444444444444444,\"#bd3786\"],[0.5555555555555556,\"#d8576b\"],[0.6666666666666666,\"#ed7953\"],[0.7777777777777778,\"#fb9f3a\"],[0.8888888888888888,\"#fdca26\"],[1.0,\"#f0f921\"]]}],\"choropleth\":[{\"type\":\"choropleth\",\"colorbar\":{\"outlinewidth\":0,\"ticks\":\"\"}}],\"histogram2d\":[{\"type\":\"histogram2d\",\"colorbar\":{\"outlinewidth\":0,\"ticks\":\"\"},\"colorscale\":[[0.0,\"#0d0887\"],[0.1111111111111111,\"#46039f\"],[0.2222222222222222,\"#7201a8\"],[0.3333333333333333,\"#9c179e\"],[0.4444444444444444,\"#bd3786\"],[0.5555555555555556,\"#d8576b\"],[0.6666666666666666,\"#ed7953\"],[0.7777777777777778,\"#fb9f3a\"],[0.8888888888888888,\"#fdca26\"],[1.0,\"#f0f921\"]]}],\"heatmap\":[{\"type\":\"heatmap\",\"colorbar\":{\"outlinewidth\":0,\"ticks\":\"\"},\"colorscale\":[[0.0,\"#0d0887\"],[0.1111111111111111,\"#46039f\"],[0.2222222222222222,\"#7201a8\"],[0.3333333333333333,\"#9c179e\"],[0.4444444444444444,\"#bd3786\"],[0.5555555555555556,\"#d8576b\"],[0.6666666666666666,\"#ed7953\"],[0.7777777777777778,\"#fb9f3a\"],[0.8888888888888888,\"#fdca26\"],[1.0,\"#f0f921\"]]}],\"heatmapgl\":[{\"type\":\"heatmapgl\",\"colorbar\":{\"outlinewidth\":0,\"ticks\":\"\"},\"colorscale\":[[0.0,\"#0d0887\"],[0.1111111111111111,\"#46039f\"],[0.2222222222222222,\"#7201a8\"],[0.3333333333333333,\"#9c179e\"],[0.4444444444444444,\"#bd3786\"],[0.5555555555555556,\"#d8576b\"],[0.6666666666666666,\"#ed7953\"],[0.7777777777777778,\"#fb9f3a\"],[0.8888888888888888,\"#fdca26\"],[1.0,\"#f0f921\"]]}],\"contourcarpet\":[{\"type\":\"contourcarpet\",\"colorbar\":{\"outlinewidth\":0,\"ticks\":\"\"}}],\"contour\":[{\"type\":\"contour\",\"colorbar\":{\"outlinewidth\":0,\"ticks\":\"\"},\"colorscale\":[[0.0,\"#0d0887\"],[0.1111111111111111,\"#46039f\"],[0.2222222222222222,\"#7201a8\"],[0.3333333333333333,\"#9c179e\"],[0.4444444444444444,\"#bd3786\"],[0.5555555555555556,\"#d8576b\"],[0.6666666666666666,\"#ed7953\"],[0.7777777777777778,\"#fb9f3a\"],[0.8888888888888888,\"#fdca26\"],[1.0,\"#f0f921\"]]}],\"surface\":[{\"type\":\"surface\",\"colorbar\":{\"outlinewidth\":0,\"ticks\":\"\"},\"colorscale\":[[0.0,\"#0d0887\"],[0.1111111111111111,\"#46039f\"],[0.2222222222222222,\"#7201a8\"],[0.3333333333333333,\"#9c179e\"],[0.4444444444444444,\"#bd3786\"],[0.5555555555555556,\"#d8576b\"],[0.6666666666666666,\"#ed7953\"],[0.7777777777777778,\"#fb9f3a\"],[0.8888888888888888,\"#fdca26\"],[1.0,\"#f0f921\"]]}],\"mesh3d\":[{\"type\":\"mesh3d\",\"colorbar\":{\"outlinewidth\":0,\"ticks\":\"\"}}],\"scatter\":[{\"fillpattern\":{\"fillmode\":\"overlay\",\"size\":10,\"solidity\":0.2},\"type\":\"scatter\"}],\"parcoords\":[{\"type\":\"parcoords\",\"line\":{\"colorbar\":{\"outlinewidth\":0,\"ticks\":\"\"}}}],\"scatterpolargl\":[{\"type\":\"scatterpolargl\",\"marker\":{\"colorbar\":{\"outlinewidth\":0,\"ticks\":\"\"}}}],\"bar\":[{\"error_x\":{\"color\":\"#2a3f5f\"},\"error_y\":{\"color\":\"#2a3f5f\"},\"marker\":{\"line\":{\"color\":\"#E5ECF6\",\"width\":0.5},\"pattern\":{\"fillmode\":\"overlay\",\"size\":10,\"solidity\":0.2}},\"type\":\"bar\"}],\"scattergeo\":[{\"type\":\"scattergeo\",\"marker\":{\"colorbar\":{\"outlinewidth\":0,\"ticks\":\"\"}}}],\"scatterpolar\":[{\"type\":\"scatterpolar\",\"marker\":{\"colorbar\":{\"outlinewidth\":0,\"ticks\":\"\"}}}],\"histogram\":[{\"marker\":{\"pattern\":{\"fillmode\":\"overlay\",\"size\":10,\"solidity\":0.2}},\"type\":\"histogram\"}],\"scattergl\":[{\"type\":\"scattergl\",\"marker\":{\"colorbar\":{\"outlinewidth\":0,\"ticks\":\"\"}}}],\"scatter3d\":[{\"type\":\"scatter3d\",\"line\":{\"colorbar\":{\"outlinewidth\":0,\"ticks\":\"\"}},\"marker\":{\"colorbar\":{\"outlinewidth\":0,\"ticks\":\"\"}}}],\"scattermapbox\":[{\"type\":\"scattermapbox\",\"marker\":{\"colorbar\":{\"outlinewidth\":0,\"ticks\":\"\"}}}],\"scatterternary\":[{\"type\":\"scatterternary\",\"marker\":{\"colorbar\":{\"outlinewidth\":0,\"ticks\":\"\"}}}],\"scattercarpet\":[{\"type\":\"scattercarpet\",\"marker\":{\"colorbar\":{\"outlinewidth\":0,\"ticks\":\"\"}}}],\"carpet\":[{\"aaxis\":{\"endlinecolor\":\"#2a3f5f\",\"gridcolor\":\"white\",\"linecolor\":\"white\",\"minorgridcolor\":\"white\",\"startlinecolor\":\"#2a3f5f\"},\"baxis\":{\"endlinecolor\":\"#2a3f5f\",\"gridcolor\":\"white\",\"linecolor\":\"white\",\"minorgridcolor\":\"white\",\"startlinecolor\":\"#2a3f5f\"},\"type\":\"carpet\"}],\"table\":[{\"cells\":{\"fill\":{\"color\":\"#EBF0F8\"},\"line\":{\"color\":\"white\"}},\"header\":{\"fill\":{\"color\":\"#C8D4E3\"},\"line\":{\"color\":\"white\"}},\"type\":\"table\"}],\"barpolar\":[{\"marker\":{\"line\":{\"color\":\"#E5ECF6\",\"width\":0.5},\"pattern\":{\"fillmode\":\"overlay\",\"size\":10,\"solidity\":0.2}},\"type\":\"barpolar\"}],\"pie\":[{\"automargin\":true,\"type\":\"pie\"}]},\"layout\":{\"autotypenumbers\":\"strict\",\"colorway\":[\"#636efa\",\"#EF553B\",\"#00cc96\",\"#ab63fa\",\"#FFA15A\",\"#19d3f3\",\"#FF6692\",\"#B6E880\",\"#FF97FF\",\"#FECB52\"],\"font\":{\"color\":\"#2a3f5f\"},\"hovermode\":\"closest\",\"hoverlabel\":{\"align\":\"left\"},\"paper_bgcolor\":\"white\",\"plot_bgcolor\":\"#E5ECF6\",\"polar\":{\"bgcolor\":\"#E5ECF6\",\"angularaxis\":{\"gridcolor\":\"white\",\"linecolor\":\"white\",\"ticks\":\"\"},\"radialaxis\":{\"gridcolor\":\"white\",\"linecolor\":\"white\",\"ticks\":\"\"}},\"ternary\":{\"bgcolor\":\"#E5ECF6\",\"aaxis\":{\"gridcolor\":\"white\",\"linecolor\":\"white\",\"ticks\":\"\"},\"baxis\":{\"gridcolor\":\"white\",\"linecolor\":\"white\",\"ticks\":\"\"},\"caxis\":{\"gridcolor\":\"white\",\"linecolor\":\"white\",\"ticks\":\"\"}},\"coloraxis\":{\"colorbar\":{\"outlinewidth\":0,\"ticks\":\"\"}},\"colorscale\":{\"sequential\":[[0.0,\"#0d0887\"],[0.1111111111111111,\"#46039f\"],[0.2222222222222222,\"#7201a8\"],[0.3333333333333333,\"#9c179e\"],[0.4444444444444444,\"#bd3786\"],[0.5555555555555556,\"#d8576b\"],[0.6666666666666666,\"#ed7953\"],[0.7777777777777778,\"#fb9f3a\"],[0.8888888888888888,\"#fdca26\"],[1.0,\"#f0f921\"]],\"sequentialminus\":[[0.0,\"#0d0887\"],[0.1111111111111111,\"#46039f\"],[0.2222222222222222,\"#7201a8\"],[0.3333333333333333,\"#9c179e\"],[0.4444444444444444,\"#bd3786\"],[0.5555555555555556,\"#d8576b\"],[0.6666666666666666,\"#ed7953\"],[0.7777777777777778,\"#fb9f3a\"],[0.8888888888888888,\"#fdca26\"],[1.0,\"#f0f921\"]],\"diverging\":[[0,\"#8e0152\"],[0.1,\"#c51b7d\"],[0.2,\"#de77ae\"],[0.3,\"#f1b6da\"],[0.4,\"#fde0ef\"],[0.5,\"#f7f7f7\"],[0.6,\"#e6f5d0\"],[0.7,\"#b8e186\"],[0.8,\"#7fbc41\"],[0.9,\"#4d9221\"],[1,\"#276419\"]]},\"xaxis\":{\"gridcolor\":\"white\",\"linecolor\":\"white\",\"ticks\":\"\",\"title\":{\"standoff\":15},\"zerolinecolor\":\"white\",\"automargin\":true,\"zerolinewidth\":2},\"yaxis\":{\"gridcolor\":\"white\",\"linecolor\":\"white\",\"ticks\":\"\",\"title\":{\"standoff\":15},\"zerolinecolor\":\"white\",\"automargin\":true,\"zerolinewidth\":2},\"scene\":{\"xaxis\":{\"backgroundcolor\":\"#E5ECF6\",\"gridcolor\":\"white\",\"linecolor\":\"white\",\"showbackground\":true,\"ticks\":\"\",\"zerolinecolor\":\"white\",\"gridwidth\":2},\"yaxis\":{\"backgroundcolor\":\"#E5ECF6\",\"gridcolor\":\"white\",\"linecolor\":\"white\",\"showbackground\":true,\"ticks\":\"\",\"zerolinecolor\":\"white\",\"gridwidth\":2},\"zaxis\":{\"backgroundcolor\":\"#E5ECF6\",\"gridcolor\":\"white\",\"linecolor\":\"white\",\"showbackground\":true,\"ticks\":\"\",\"zerolinecolor\":\"white\",\"gridwidth\":2}},\"shapedefaults\":{\"line\":{\"color\":\"#2a3f5f\"}},\"annotationdefaults\":{\"arrowcolor\":\"#2a3f5f\",\"arrowhead\":0,\"arrowwidth\":1},\"geo\":{\"bgcolor\":\"white\",\"landcolor\":\"#E5ECF6\",\"subunitcolor\":\"white\",\"showland\":true,\"showlakes\":true,\"lakecolor\":\"white\"},\"title\":{\"x\":0.05},\"mapbox\":{\"style\":\"light\"}}},\"xaxis\":{\"anchor\":\"y\",\"domain\":[0.0,0.94],\"title\":{\"text\":\"Month\"}},\"yaxis\":{\"anchor\":\"x\",\"domain\":[0.0,1.0],\"title\":{\"text\":\"Retweets mean\"}},\"yaxis2\":{\"anchor\":\"x\",\"overlaying\":\"y\",\"side\":\"right\",\"title\":{\"text\":\"Likes mean\"}},\"title\":{\"text\":\"Average retweets and likes during the year\"},\"width\":900,\"height\":500},                        {\"responsive\": true}                    ).then(function(){\n                            \nvar gd = document.getElementById('a948e656-e265-487b-b174-430d7ba47c3a');\nvar x = new MutationObserver(function (mutations, observer) {{\n        var display = window.getComputedStyle(gd).display;\n        if (!display || display === 'none') {{\n            console.log([gd, 'removed!']);\n            Plotly.purge(gd);\n            observer.disconnect();\n        }}\n}});\n\n// Listen for the removal of the full notebook cells\nvar notebookContainer = gd.closest('#notebook-container');\nif (notebookContainer) {{\n    x.observe(notebookContainer, {childList: true});\n}}\n\n// Listen for the clearing of the current output cell\nvar outputEl = gd.closest('.output');\nif (outputEl) {{\n    x.observe(outputEl, {childList: true});\n}}\n\n                        })                };                });            </script>        </div>"
     },
     "metadata": {},
     "output_type": "display_data"
    }
   ],
   "source": [
    "analysis_chart(df_analysis, 'month', '% with retweets', '% with likes', 'Month', '% with retweets',\n",
    "               '% with likes', 'Percentage of retweets and likes during the year', offline_graphs)\n",
    "analysis_chart(df_analysis, 'month', 'retweets mean', 'likes mean', 'Month', 'Retweets mean', 'Likes mean',\n",
    "               'Average retweets and likes during the year', offline_graphs)"
   ],
   "metadata": {
    "collapsed": false,
    "pycharm": {
     "name": "#%%\n"
    }
   }
  },
  {
   "cell_type": "markdown",
   "source": [
    "### Tweets performance by sentiment"
   ],
   "metadata": {
    "collapsed": false,
    "pycharm": {
     "name": "#%% md\n"
    }
   }
  },
  {
   "cell_type": "code",
   "execution_count": 47,
   "outputs": [
    {
     "data": {
      "text/plain": "   year sentiment  count sentiment  % sentiment  % with retweets  \\\n0  2019  Negative           125989    23.714594            16.18   \n1  2019   Neutral           163721    30.816794            15.18   \n2  2019  Positive           241562    45.468611            18.80   \n0  2020  Negative           131147    24.687563            15.74   \n1  2020   Neutral           165832    31.216787            14.23   \n2  2020  Positive           234248    44.095650            17.86   \n0  2021  Negative           121368    22.754722            15.23   \n1  2021   Neutral           181050    33.944223            13.51   \n2  2021  Positive           230957    43.301055            18.52   \n\n   % with likes  retweets mean  likes mean  \n0         46.80           0.52        2.90  \n1         44.15           0.42        2.80  \n2         52.78           0.59        3.98  \n0         48.13           0.50        3.15  \n1         43.83           0.40        2.98  \n2         53.02           0.55        4.26  \n0         48.73           0.50        3.83  \n1         43.54           0.40        3.73  \n2         55.59           0.60        5.48  ",
      "text/html": "<div>\n<style scoped>\n    .dataframe tbody tr th:only-of-type {\n        vertical-align: middle;\n    }\n\n    .dataframe tbody tr th {\n        vertical-align: top;\n    }\n\n    .dataframe thead th {\n        text-align: right;\n    }\n</style>\n<table border=\"1\" class=\"dataframe\">\n  <thead>\n    <tr style=\"text-align: right;\">\n      <th></th>\n      <th>year</th>\n      <th>sentiment</th>\n      <th>count sentiment</th>\n      <th>% sentiment</th>\n      <th>% with retweets</th>\n      <th>% with likes</th>\n      <th>retweets mean</th>\n      <th>likes mean</th>\n    </tr>\n  </thead>\n  <tbody>\n    <tr>\n      <th>0</th>\n      <td>2019</td>\n      <td>Negative</td>\n      <td>125989</td>\n      <td>23.714594</td>\n      <td>16.18</td>\n      <td>46.80</td>\n      <td>0.52</td>\n      <td>2.90</td>\n    </tr>\n    <tr>\n      <th>1</th>\n      <td>2019</td>\n      <td>Neutral</td>\n      <td>163721</td>\n      <td>30.816794</td>\n      <td>15.18</td>\n      <td>44.15</td>\n      <td>0.42</td>\n      <td>2.80</td>\n    </tr>\n    <tr>\n      <th>2</th>\n      <td>2019</td>\n      <td>Positive</td>\n      <td>241562</td>\n      <td>45.468611</td>\n      <td>18.80</td>\n      <td>52.78</td>\n      <td>0.59</td>\n      <td>3.98</td>\n    </tr>\n    <tr>\n      <th>0</th>\n      <td>2020</td>\n      <td>Negative</td>\n      <td>131147</td>\n      <td>24.687563</td>\n      <td>15.74</td>\n      <td>48.13</td>\n      <td>0.50</td>\n      <td>3.15</td>\n    </tr>\n    <tr>\n      <th>1</th>\n      <td>2020</td>\n      <td>Neutral</td>\n      <td>165832</td>\n      <td>31.216787</td>\n      <td>14.23</td>\n      <td>43.83</td>\n      <td>0.40</td>\n      <td>2.98</td>\n    </tr>\n    <tr>\n      <th>2</th>\n      <td>2020</td>\n      <td>Positive</td>\n      <td>234248</td>\n      <td>44.095650</td>\n      <td>17.86</td>\n      <td>53.02</td>\n      <td>0.55</td>\n      <td>4.26</td>\n    </tr>\n    <tr>\n      <th>0</th>\n      <td>2021</td>\n      <td>Negative</td>\n      <td>121368</td>\n      <td>22.754722</td>\n      <td>15.23</td>\n      <td>48.73</td>\n      <td>0.50</td>\n      <td>3.83</td>\n    </tr>\n    <tr>\n      <th>1</th>\n      <td>2021</td>\n      <td>Neutral</td>\n      <td>181050</td>\n      <td>33.944223</td>\n      <td>13.51</td>\n      <td>43.54</td>\n      <td>0.40</td>\n      <td>3.73</td>\n    </tr>\n    <tr>\n      <th>2</th>\n      <td>2021</td>\n      <td>Positive</td>\n      <td>230957</td>\n      <td>43.301055</td>\n      <td>18.52</td>\n      <td>55.59</td>\n      <td>0.60</td>\n      <td>5.48</td>\n    </tr>\n  </tbody>\n</table>\n</div>"
     },
     "execution_count": 47,
     "metadata": {},
     "output_type": "execute_result"
    }
   ],
   "source": [
    "df_analysis = retweets_likes_info_by_year(tweet_analysis, ['sentiment'], sentiments)\n",
    "df_analysis"
   ],
   "metadata": {
    "collapsed": false,
    "pycharm": {
     "name": "#%%\n"
    }
   }
  },
  {
   "cell_type": "code",
   "execution_count": 48,
   "outputs": [
    {
     "data": {
      "application/vnd.plotly.v1+json": {
       "data": [
        {
         "marker": {
          "color": "#006D77"
         },
         "name": "Retweet count 2019",
         "text": [
          "16.18",
          "15.18",
          "18.8"
         ],
         "textposition": "inside",
         "width": 0.28,
         "x": [
          "Negative",
          "Neutral",
          "Positive"
         ],
         "y": [
          16.18,
          15.18,
          18.8
         ],
         "type": "bar",
         "xaxis": "x",
         "yaxis": "y"
        },
        {
         "marker": {
          "color": "#00B2CA"
         },
         "name": "Likes count 2019",
         "x": [
          "Negative",
          "Neutral",
          "Positive"
         ],
         "y": [
          46.8,
          44.15,
          52.78
         ],
         "type": "scatter",
         "xaxis": "x",
         "yaxis": "y2"
        },
        {
         "marker": {
          "color": "#FBD1A2"
         },
         "name": "Retweet count 2020",
         "text": [
          "15.74",
          "14.23",
          "17.86"
         ],
         "textposition": "inside",
         "width": 0.28,
         "x": [
          "Negative",
          "Neutral",
          "Positive"
         ],
         "y": [
          15.74,
          14.23,
          17.86
         ],
         "type": "bar",
         "xaxis": "x",
         "yaxis": "y"
        },
        {
         "marker": {
          "color": "#1D4E89"
         },
         "name": "Likes count 2020",
         "x": [
          "Negative",
          "Neutral",
          "Positive"
         ],
         "y": [
          48.13,
          43.83,
          53.02
         ],
         "type": "scatter",
         "xaxis": "x",
         "yaxis": "y2"
        },
        {
         "marker": {
          "color": "#7DCFB6"
         },
         "name": "Retweet count 2021",
         "text": [
          "15.23",
          "13.51",
          "18.52"
         ],
         "textposition": "inside",
         "width": 0.28,
         "x": [
          "Negative",
          "Neutral",
          "Positive"
         ],
         "y": [
          15.23,
          13.51,
          18.52
         ],
         "type": "bar",
         "xaxis": "x",
         "yaxis": "y"
        },
        {
         "marker": {
          "color": "#F79256"
         },
         "name": "Likes count 2021",
         "x": [
          "Negative",
          "Neutral",
          "Positive"
         ],
         "y": [
          48.73,
          43.54,
          55.59
         ],
         "type": "scatter",
         "xaxis": "x",
         "yaxis": "y2"
        }
       ],
       "layout": {
        "template": {
         "data": {
          "histogram2dcontour": [
           {
            "type": "histogram2dcontour",
            "colorbar": {
             "outlinewidth": 0,
             "ticks": ""
            },
            "colorscale": [
             [
              0.0,
              "#0d0887"
             ],
             [
              0.1111111111111111,
              "#46039f"
             ],
             [
              0.2222222222222222,
              "#7201a8"
             ],
             [
              0.3333333333333333,
              "#9c179e"
             ],
             [
              0.4444444444444444,
              "#bd3786"
             ],
             [
              0.5555555555555556,
              "#d8576b"
             ],
             [
              0.6666666666666666,
              "#ed7953"
             ],
             [
              0.7777777777777778,
              "#fb9f3a"
             ],
             [
              0.8888888888888888,
              "#fdca26"
             ],
             [
              1.0,
              "#f0f921"
             ]
            ]
           }
          ],
          "choropleth": [
           {
            "type": "choropleth",
            "colorbar": {
             "outlinewidth": 0,
             "ticks": ""
            }
           }
          ],
          "histogram2d": [
           {
            "type": "histogram2d",
            "colorbar": {
             "outlinewidth": 0,
             "ticks": ""
            },
            "colorscale": [
             [
              0.0,
              "#0d0887"
             ],
             [
              0.1111111111111111,
              "#46039f"
             ],
             [
              0.2222222222222222,
              "#7201a8"
             ],
             [
              0.3333333333333333,
              "#9c179e"
             ],
             [
              0.4444444444444444,
              "#bd3786"
             ],
             [
              0.5555555555555556,
              "#d8576b"
             ],
             [
              0.6666666666666666,
              "#ed7953"
             ],
             [
              0.7777777777777778,
              "#fb9f3a"
             ],
             [
              0.8888888888888888,
              "#fdca26"
             ],
             [
              1.0,
              "#f0f921"
             ]
            ]
           }
          ],
          "heatmap": [
           {
            "type": "heatmap",
            "colorbar": {
             "outlinewidth": 0,
             "ticks": ""
            },
            "colorscale": [
             [
              0.0,
              "#0d0887"
             ],
             [
              0.1111111111111111,
              "#46039f"
             ],
             [
              0.2222222222222222,
              "#7201a8"
             ],
             [
              0.3333333333333333,
              "#9c179e"
             ],
             [
              0.4444444444444444,
              "#bd3786"
             ],
             [
              0.5555555555555556,
              "#d8576b"
             ],
             [
              0.6666666666666666,
              "#ed7953"
             ],
             [
              0.7777777777777778,
              "#fb9f3a"
             ],
             [
              0.8888888888888888,
              "#fdca26"
             ],
             [
              1.0,
              "#f0f921"
             ]
            ]
           }
          ],
          "heatmapgl": [
           {
            "type": "heatmapgl",
            "colorbar": {
             "outlinewidth": 0,
             "ticks": ""
            },
            "colorscale": [
             [
              0.0,
              "#0d0887"
             ],
             [
              0.1111111111111111,
              "#46039f"
             ],
             [
              0.2222222222222222,
              "#7201a8"
             ],
             [
              0.3333333333333333,
              "#9c179e"
             ],
             [
              0.4444444444444444,
              "#bd3786"
             ],
             [
              0.5555555555555556,
              "#d8576b"
             ],
             [
              0.6666666666666666,
              "#ed7953"
             ],
             [
              0.7777777777777778,
              "#fb9f3a"
             ],
             [
              0.8888888888888888,
              "#fdca26"
             ],
             [
              1.0,
              "#f0f921"
             ]
            ]
           }
          ],
          "contourcarpet": [
           {
            "type": "contourcarpet",
            "colorbar": {
             "outlinewidth": 0,
             "ticks": ""
            }
           }
          ],
          "contour": [
           {
            "type": "contour",
            "colorbar": {
             "outlinewidth": 0,
             "ticks": ""
            },
            "colorscale": [
             [
              0.0,
              "#0d0887"
             ],
             [
              0.1111111111111111,
              "#46039f"
             ],
             [
              0.2222222222222222,
              "#7201a8"
             ],
             [
              0.3333333333333333,
              "#9c179e"
             ],
             [
              0.4444444444444444,
              "#bd3786"
             ],
             [
              0.5555555555555556,
              "#d8576b"
             ],
             [
              0.6666666666666666,
              "#ed7953"
             ],
             [
              0.7777777777777778,
              "#fb9f3a"
             ],
             [
              0.8888888888888888,
              "#fdca26"
             ],
             [
              1.0,
              "#f0f921"
             ]
            ]
           }
          ],
          "surface": [
           {
            "type": "surface",
            "colorbar": {
             "outlinewidth": 0,
             "ticks": ""
            },
            "colorscale": [
             [
              0.0,
              "#0d0887"
             ],
             [
              0.1111111111111111,
              "#46039f"
             ],
             [
              0.2222222222222222,
              "#7201a8"
             ],
             [
              0.3333333333333333,
              "#9c179e"
             ],
             [
              0.4444444444444444,
              "#bd3786"
             ],
             [
              0.5555555555555556,
              "#d8576b"
             ],
             [
              0.6666666666666666,
              "#ed7953"
             ],
             [
              0.7777777777777778,
              "#fb9f3a"
             ],
             [
              0.8888888888888888,
              "#fdca26"
             ],
             [
              1.0,
              "#f0f921"
             ]
            ]
           }
          ],
          "mesh3d": [
           {
            "type": "mesh3d",
            "colorbar": {
             "outlinewidth": 0,
             "ticks": ""
            }
           }
          ],
          "scatter": [
           {
            "fillpattern": {
             "fillmode": "overlay",
             "size": 10,
             "solidity": 0.2
            },
            "type": "scatter"
           }
          ],
          "parcoords": [
           {
            "type": "parcoords",
            "line": {
             "colorbar": {
              "outlinewidth": 0,
              "ticks": ""
             }
            }
           }
          ],
          "scatterpolargl": [
           {
            "type": "scatterpolargl",
            "marker": {
             "colorbar": {
              "outlinewidth": 0,
              "ticks": ""
             }
            }
           }
          ],
          "bar": [
           {
            "error_x": {
             "color": "#2a3f5f"
            },
            "error_y": {
             "color": "#2a3f5f"
            },
            "marker": {
             "line": {
              "color": "#E5ECF6",
              "width": 0.5
             },
             "pattern": {
              "fillmode": "overlay",
              "size": 10,
              "solidity": 0.2
             }
            },
            "type": "bar"
           }
          ],
          "scattergeo": [
           {
            "type": "scattergeo",
            "marker": {
             "colorbar": {
              "outlinewidth": 0,
              "ticks": ""
             }
            }
           }
          ],
          "scatterpolar": [
           {
            "type": "scatterpolar",
            "marker": {
             "colorbar": {
              "outlinewidth": 0,
              "ticks": ""
             }
            }
           }
          ],
          "histogram": [
           {
            "marker": {
             "pattern": {
              "fillmode": "overlay",
              "size": 10,
              "solidity": 0.2
             }
            },
            "type": "histogram"
           }
          ],
          "scattergl": [
           {
            "type": "scattergl",
            "marker": {
             "colorbar": {
              "outlinewidth": 0,
              "ticks": ""
             }
            }
           }
          ],
          "scatter3d": [
           {
            "type": "scatter3d",
            "line": {
             "colorbar": {
              "outlinewidth": 0,
              "ticks": ""
             }
            },
            "marker": {
             "colorbar": {
              "outlinewidth": 0,
              "ticks": ""
             }
            }
           }
          ],
          "scattermapbox": [
           {
            "type": "scattermapbox",
            "marker": {
             "colorbar": {
              "outlinewidth": 0,
              "ticks": ""
             }
            }
           }
          ],
          "scatterternary": [
           {
            "type": "scatterternary",
            "marker": {
             "colorbar": {
              "outlinewidth": 0,
              "ticks": ""
             }
            }
           }
          ],
          "scattercarpet": [
           {
            "type": "scattercarpet",
            "marker": {
             "colorbar": {
              "outlinewidth": 0,
              "ticks": ""
             }
            }
           }
          ],
          "carpet": [
           {
            "aaxis": {
             "endlinecolor": "#2a3f5f",
             "gridcolor": "white",
             "linecolor": "white",
             "minorgridcolor": "white",
             "startlinecolor": "#2a3f5f"
            },
            "baxis": {
             "endlinecolor": "#2a3f5f",
             "gridcolor": "white",
             "linecolor": "white",
             "minorgridcolor": "white",
             "startlinecolor": "#2a3f5f"
            },
            "type": "carpet"
           }
          ],
          "table": [
           {
            "cells": {
             "fill": {
              "color": "#EBF0F8"
             },
             "line": {
              "color": "white"
             }
            },
            "header": {
             "fill": {
              "color": "#C8D4E3"
             },
             "line": {
              "color": "white"
             }
            },
            "type": "table"
           }
          ],
          "barpolar": [
           {
            "marker": {
             "line": {
              "color": "#E5ECF6",
              "width": 0.5
             },
             "pattern": {
              "fillmode": "overlay",
              "size": 10,
              "solidity": 0.2
             }
            },
            "type": "barpolar"
           }
          ],
          "pie": [
           {
            "automargin": true,
            "type": "pie"
           }
          ]
         },
         "layout": {
          "autotypenumbers": "strict",
          "colorway": [
           "#636efa",
           "#EF553B",
           "#00cc96",
           "#ab63fa",
           "#FFA15A",
           "#19d3f3",
           "#FF6692",
           "#B6E880",
           "#FF97FF",
           "#FECB52"
          ],
          "font": {
           "color": "#2a3f5f"
          },
          "hovermode": "closest",
          "hoverlabel": {
           "align": "left"
          },
          "paper_bgcolor": "white",
          "plot_bgcolor": "#E5ECF6",
          "polar": {
           "bgcolor": "#E5ECF6",
           "angularaxis": {
            "gridcolor": "white",
            "linecolor": "white",
            "ticks": ""
           },
           "radialaxis": {
            "gridcolor": "white",
            "linecolor": "white",
            "ticks": ""
           }
          },
          "ternary": {
           "bgcolor": "#E5ECF6",
           "aaxis": {
            "gridcolor": "white",
            "linecolor": "white",
            "ticks": ""
           },
           "baxis": {
            "gridcolor": "white",
            "linecolor": "white",
            "ticks": ""
           },
           "caxis": {
            "gridcolor": "white",
            "linecolor": "white",
            "ticks": ""
           }
          },
          "coloraxis": {
           "colorbar": {
            "outlinewidth": 0,
            "ticks": ""
           }
          },
          "colorscale": {
           "sequential": [
            [
             0.0,
             "#0d0887"
            ],
            [
             0.1111111111111111,
             "#46039f"
            ],
            [
             0.2222222222222222,
             "#7201a8"
            ],
            [
             0.3333333333333333,
             "#9c179e"
            ],
            [
             0.4444444444444444,
             "#bd3786"
            ],
            [
             0.5555555555555556,
             "#d8576b"
            ],
            [
             0.6666666666666666,
             "#ed7953"
            ],
            [
             0.7777777777777778,
             "#fb9f3a"
            ],
            [
             0.8888888888888888,
             "#fdca26"
            ],
            [
             1.0,
             "#f0f921"
            ]
           ],
           "sequentialminus": [
            [
             0.0,
             "#0d0887"
            ],
            [
             0.1111111111111111,
             "#46039f"
            ],
            [
             0.2222222222222222,
             "#7201a8"
            ],
            [
             0.3333333333333333,
             "#9c179e"
            ],
            [
             0.4444444444444444,
             "#bd3786"
            ],
            [
             0.5555555555555556,
             "#d8576b"
            ],
            [
             0.6666666666666666,
             "#ed7953"
            ],
            [
             0.7777777777777778,
             "#fb9f3a"
            ],
            [
             0.8888888888888888,
             "#fdca26"
            ],
            [
             1.0,
             "#f0f921"
            ]
           ],
           "diverging": [
            [
             0,
             "#8e0152"
            ],
            [
             0.1,
             "#c51b7d"
            ],
            [
             0.2,
             "#de77ae"
            ],
            [
             0.3,
             "#f1b6da"
            ],
            [
             0.4,
             "#fde0ef"
            ],
            [
             0.5,
             "#f7f7f7"
            ],
            [
             0.6,
             "#e6f5d0"
            ],
            [
             0.7,
             "#b8e186"
            ],
            [
             0.8,
             "#7fbc41"
            ],
            [
             0.9,
             "#4d9221"
            ],
            [
             1,
             "#276419"
            ]
           ]
          },
          "xaxis": {
           "gridcolor": "white",
           "linecolor": "white",
           "ticks": "",
           "title": {
            "standoff": 15
           },
           "zerolinecolor": "white",
           "automargin": true,
           "zerolinewidth": 2
          },
          "yaxis": {
           "gridcolor": "white",
           "linecolor": "white",
           "ticks": "",
           "title": {
            "standoff": 15
           },
           "zerolinecolor": "white",
           "automargin": true,
           "zerolinewidth": 2
          },
          "scene": {
           "xaxis": {
            "backgroundcolor": "#E5ECF6",
            "gridcolor": "white",
            "linecolor": "white",
            "showbackground": true,
            "ticks": "",
            "zerolinecolor": "white",
            "gridwidth": 2
           },
           "yaxis": {
            "backgroundcolor": "#E5ECF6",
            "gridcolor": "white",
            "linecolor": "white",
            "showbackground": true,
            "ticks": "",
            "zerolinecolor": "white",
            "gridwidth": 2
           },
           "zaxis": {
            "backgroundcolor": "#E5ECF6",
            "gridcolor": "white",
            "linecolor": "white",
            "showbackground": true,
            "ticks": "",
            "zerolinecolor": "white",
            "gridwidth": 2
           }
          },
          "shapedefaults": {
           "line": {
            "color": "#2a3f5f"
           }
          },
          "annotationdefaults": {
           "arrowcolor": "#2a3f5f",
           "arrowhead": 0,
           "arrowwidth": 1
          },
          "geo": {
           "bgcolor": "white",
           "landcolor": "#E5ECF6",
           "subunitcolor": "white",
           "showland": true,
           "showlakes": true,
           "lakecolor": "white"
          },
          "title": {
           "x": 0.05
          },
          "mapbox": {
           "style": "light"
          }
         }
        },
        "xaxis": {
         "anchor": "y",
         "domain": [
          0.0,
          0.94
         ],
         "title": {
          "text": "Sentiment"
         }
        },
        "yaxis": {
         "anchor": "x",
         "domain": [
          0.0,
          1.0
         ],
         "title": {
          "text": "Retweet count"
         }
        },
        "yaxis2": {
         "anchor": "x",
         "overlaying": "y",
         "side": "right",
         "title": {
          "text": "Likes count"
         }
        },
        "title": {
         "text": "Percentage of retweets and likes by sentiment"
        },
        "width": 900,
        "height": 500
       },
       "config": {
        "plotlyServerURL": "https://plot.ly"
       }
      },
      "text/html": "<div>                            <div id=\"be5c6173-e6f0-4e00-b1d3-ee78dec2c011\" class=\"plotly-graph-div\" style=\"height:500px; width:900px;\"></div>            <script type=\"text/javascript\">                require([\"plotly\"], function(Plotly) {                    window.PLOTLYENV=window.PLOTLYENV || {};                                    if (document.getElementById(\"be5c6173-e6f0-4e00-b1d3-ee78dec2c011\")) {                    Plotly.newPlot(                        \"be5c6173-e6f0-4e00-b1d3-ee78dec2c011\",                        [{\"marker\":{\"color\":\"#006D77\"},\"name\":\"Retweet count 2019\",\"text\":[\"16.18\",\"15.18\",\"18.8\"],\"textposition\":\"inside\",\"width\":0.28,\"x\":[\"Negative\",\"Neutral\",\"Positive\"],\"y\":[16.18,15.18,18.8],\"type\":\"bar\",\"xaxis\":\"x\",\"yaxis\":\"y\"},{\"marker\":{\"color\":\"#00B2CA\"},\"name\":\"Likes count 2019\",\"x\":[\"Negative\",\"Neutral\",\"Positive\"],\"y\":[46.8,44.15,52.78],\"type\":\"scatter\",\"xaxis\":\"x\",\"yaxis\":\"y2\"},{\"marker\":{\"color\":\"#FBD1A2\"},\"name\":\"Retweet count 2020\",\"text\":[\"15.74\",\"14.23\",\"17.86\"],\"textposition\":\"inside\",\"width\":0.28,\"x\":[\"Negative\",\"Neutral\",\"Positive\"],\"y\":[15.74,14.23,17.86],\"type\":\"bar\",\"xaxis\":\"x\",\"yaxis\":\"y\"},{\"marker\":{\"color\":\"#1D4E89\"},\"name\":\"Likes count 2020\",\"x\":[\"Negative\",\"Neutral\",\"Positive\"],\"y\":[48.13,43.83,53.02],\"type\":\"scatter\",\"xaxis\":\"x\",\"yaxis\":\"y2\"},{\"marker\":{\"color\":\"#7DCFB6\"},\"name\":\"Retweet count 2021\",\"text\":[\"15.23\",\"13.51\",\"18.52\"],\"textposition\":\"inside\",\"width\":0.28,\"x\":[\"Negative\",\"Neutral\",\"Positive\"],\"y\":[15.23,13.51,18.52],\"type\":\"bar\",\"xaxis\":\"x\",\"yaxis\":\"y\"},{\"marker\":{\"color\":\"#F79256\"},\"name\":\"Likes count 2021\",\"x\":[\"Negative\",\"Neutral\",\"Positive\"],\"y\":[48.73,43.54,55.59],\"type\":\"scatter\",\"xaxis\":\"x\",\"yaxis\":\"y2\"}],                        {\"template\":{\"data\":{\"histogram2dcontour\":[{\"type\":\"histogram2dcontour\",\"colorbar\":{\"outlinewidth\":0,\"ticks\":\"\"},\"colorscale\":[[0.0,\"#0d0887\"],[0.1111111111111111,\"#46039f\"],[0.2222222222222222,\"#7201a8\"],[0.3333333333333333,\"#9c179e\"],[0.4444444444444444,\"#bd3786\"],[0.5555555555555556,\"#d8576b\"],[0.6666666666666666,\"#ed7953\"],[0.7777777777777778,\"#fb9f3a\"],[0.8888888888888888,\"#fdca26\"],[1.0,\"#f0f921\"]]}],\"choropleth\":[{\"type\":\"choropleth\",\"colorbar\":{\"outlinewidth\":0,\"ticks\":\"\"}}],\"histogram2d\":[{\"type\":\"histogram2d\",\"colorbar\":{\"outlinewidth\":0,\"ticks\":\"\"},\"colorscale\":[[0.0,\"#0d0887\"],[0.1111111111111111,\"#46039f\"],[0.2222222222222222,\"#7201a8\"],[0.3333333333333333,\"#9c179e\"],[0.4444444444444444,\"#bd3786\"],[0.5555555555555556,\"#d8576b\"],[0.6666666666666666,\"#ed7953\"],[0.7777777777777778,\"#fb9f3a\"],[0.8888888888888888,\"#fdca26\"],[1.0,\"#f0f921\"]]}],\"heatmap\":[{\"type\":\"heatmap\",\"colorbar\":{\"outlinewidth\":0,\"ticks\":\"\"},\"colorscale\":[[0.0,\"#0d0887\"],[0.1111111111111111,\"#46039f\"],[0.2222222222222222,\"#7201a8\"],[0.3333333333333333,\"#9c179e\"],[0.4444444444444444,\"#bd3786\"],[0.5555555555555556,\"#d8576b\"],[0.6666666666666666,\"#ed7953\"],[0.7777777777777778,\"#fb9f3a\"],[0.8888888888888888,\"#fdca26\"],[1.0,\"#f0f921\"]]}],\"heatmapgl\":[{\"type\":\"heatmapgl\",\"colorbar\":{\"outlinewidth\":0,\"ticks\":\"\"},\"colorscale\":[[0.0,\"#0d0887\"],[0.1111111111111111,\"#46039f\"],[0.2222222222222222,\"#7201a8\"],[0.3333333333333333,\"#9c179e\"],[0.4444444444444444,\"#bd3786\"],[0.5555555555555556,\"#d8576b\"],[0.6666666666666666,\"#ed7953\"],[0.7777777777777778,\"#fb9f3a\"],[0.8888888888888888,\"#fdca26\"],[1.0,\"#f0f921\"]]}],\"contourcarpet\":[{\"type\":\"contourcarpet\",\"colorbar\":{\"outlinewidth\":0,\"ticks\":\"\"}}],\"contour\":[{\"type\":\"contour\",\"colorbar\":{\"outlinewidth\":0,\"ticks\":\"\"},\"colorscale\":[[0.0,\"#0d0887\"],[0.1111111111111111,\"#46039f\"],[0.2222222222222222,\"#7201a8\"],[0.3333333333333333,\"#9c179e\"],[0.4444444444444444,\"#bd3786\"],[0.5555555555555556,\"#d8576b\"],[0.6666666666666666,\"#ed7953\"],[0.7777777777777778,\"#fb9f3a\"],[0.8888888888888888,\"#fdca26\"],[1.0,\"#f0f921\"]]}],\"surface\":[{\"type\":\"surface\",\"colorbar\":{\"outlinewidth\":0,\"ticks\":\"\"},\"colorscale\":[[0.0,\"#0d0887\"],[0.1111111111111111,\"#46039f\"],[0.2222222222222222,\"#7201a8\"],[0.3333333333333333,\"#9c179e\"],[0.4444444444444444,\"#bd3786\"],[0.5555555555555556,\"#d8576b\"],[0.6666666666666666,\"#ed7953\"],[0.7777777777777778,\"#fb9f3a\"],[0.8888888888888888,\"#fdca26\"],[1.0,\"#f0f921\"]]}],\"mesh3d\":[{\"type\":\"mesh3d\",\"colorbar\":{\"outlinewidth\":0,\"ticks\":\"\"}}],\"scatter\":[{\"fillpattern\":{\"fillmode\":\"overlay\",\"size\":10,\"solidity\":0.2},\"type\":\"scatter\"}],\"parcoords\":[{\"type\":\"parcoords\",\"line\":{\"colorbar\":{\"outlinewidth\":0,\"ticks\":\"\"}}}],\"scatterpolargl\":[{\"type\":\"scatterpolargl\",\"marker\":{\"colorbar\":{\"outlinewidth\":0,\"ticks\":\"\"}}}],\"bar\":[{\"error_x\":{\"color\":\"#2a3f5f\"},\"error_y\":{\"color\":\"#2a3f5f\"},\"marker\":{\"line\":{\"color\":\"#E5ECF6\",\"width\":0.5},\"pattern\":{\"fillmode\":\"overlay\",\"size\":10,\"solidity\":0.2}},\"type\":\"bar\"}],\"scattergeo\":[{\"type\":\"scattergeo\",\"marker\":{\"colorbar\":{\"outlinewidth\":0,\"ticks\":\"\"}}}],\"scatterpolar\":[{\"type\":\"scatterpolar\",\"marker\":{\"colorbar\":{\"outlinewidth\":0,\"ticks\":\"\"}}}],\"histogram\":[{\"marker\":{\"pattern\":{\"fillmode\":\"overlay\",\"size\":10,\"solidity\":0.2}},\"type\":\"histogram\"}],\"scattergl\":[{\"type\":\"scattergl\",\"marker\":{\"colorbar\":{\"outlinewidth\":0,\"ticks\":\"\"}}}],\"scatter3d\":[{\"type\":\"scatter3d\",\"line\":{\"colorbar\":{\"outlinewidth\":0,\"ticks\":\"\"}},\"marker\":{\"colorbar\":{\"outlinewidth\":0,\"ticks\":\"\"}}}],\"scattermapbox\":[{\"type\":\"scattermapbox\",\"marker\":{\"colorbar\":{\"outlinewidth\":0,\"ticks\":\"\"}}}],\"scatterternary\":[{\"type\":\"scatterternary\",\"marker\":{\"colorbar\":{\"outlinewidth\":0,\"ticks\":\"\"}}}],\"scattercarpet\":[{\"type\":\"scattercarpet\",\"marker\":{\"colorbar\":{\"outlinewidth\":0,\"ticks\":\"\"}}}],\"carpet\":[{\"aaxis\":{\"endlinecolor\":\"#2a3f5f\",\"gridcolor\":\"white\",\"linecolor\":\"white\",\"minorgridcolor\":\"white\",\"startlinecolor\":\"#2a3f5f\"},\"baxis\":{\"endlinecolor\":\"#2a3f5f\",\"gridcolor\":\"white\",\"linecolor\":\"white\",\"minorgridcolor\":\"white\",\"startlinecolor\":\"#2a3f5f\"},\"type\":\"carpet\"}],\"table\":[{\"cells\":{\"fill\":{\"color\":\"#EBF0F8\"},\"line\":{\"color\":\"white\"}},\"header\":{\"fill\":{\"color\":\"#C8D4E3\"},\"line\":{\"color\":\"white\"}},\"type\":\"table\"}],\"barpolar\":[{\"marker\":{\"line\":{\"color\":\"#E5ECF6\",\"width\":0.5},\"pattern\":{\"fillmode\":\"overlay\",\"size\":10,\"solidity\":0.2}},\"type\":\"barpolar\"}],\"pie\":[{\"automargin\":true,\"type\":\"pie\"}]},\"layout\":{\"autotypenumbers\":\"strict\",\"colorway\":[\"#636efa\",\"#EF553B\",\"#00cc96\",\"#ab63fa\",\"#FFA15A\",\"#19d3f3\",\"#FF6692\",\"#B6E880\",\"#FF97FF\",\"#FECB52\"],\"font\":{\"color\":\"#2a3f5f\"},\"hovermode\":\"closest\",\"hoverlabel\":{\"align\":\"left\"},\"paper_bgcolor\":\"white\",\"plot_bgcolor\":\"#E5ECF6\",\"polar\":{\"bgcolor\":\"#E5ECF6\",\"angularaxis\":{\"gridcolor\":\"white\",\"linecolor\":\"white\",\"ticks\":\"\"},\"radialaxis\":{\"gridcolor\":\"white\",\"linecolor\":\"white\",\"ticks\":\"\"}},\"ternary\":{\"bgcolor\":\"#E5ECF6\",\"aaxis\":{\"gridcolor\":\"white\",\"linecolor\":\"white\",\"ticks\":\"\"},\"baxis\":{\"gridcolor\":\"white\",\"linecolor\":\"white\",\"ticks\":\"\"},\"caxis\":{\"gridcolor\":\"white\",\"linecolor\":\"white\",\"ticks\":\"\"}},\"coloraxis\":{\"colorbar\":{\"outlinewidth\":0,\"ticks\":\"\"}},\"colorscale\":{\"sequential\":[[0.0,\"#0d0887\"],[0.1111111111111111,\"#46039f\"],[0.2222222222222222,\"#7201a8\"],[0.3333333333333333,\"#9c179e\"],[0.4444444444444444,\"#bd3786\"],[0.5555555555555556,\"#d8576b\"],[0.6666666666666666,\"#ed7953\"],[0.7777777777777778,\"#fb9f3a\"],[0.8888888888888888,\"#fdca26\"],[1.0,\"#f0f921\"]],\"sequentialminus\":[[0.0,\"#0d0887\"],[0.1111111111111111,\"#46039f\"],[0.2222222222222222,\"#7201a8\"],[0.3333333333333333,\"#9c179e\"],[0.4444444444444444,\"#bd3786\"],[0.5555555555555556,\"#d8576b\"],[0.6666666666666666,\"#ed7953\"],[0.7777777777777778,\"#fb9f3a\"],[0.8888888888888888,\"#fdca26\"],[1.0,\"#f0f921\"]],\"diverging\":[[0,\"#8e0152\"],[0.1,\"#c51b7d\"],[0.2,\"#de77ae\"],[0.3,\"#f1b6da\"],[0.4,\"#fde0ef\"],[0.5,\"#f7f7f7\"],[0.6,\"#e6f5d0\"],[0.7,\"#b8e186\"],[0.8,\"#7fbc41\"],[0.9,\"#4d9221\"],[1,\"#276419\"]]},\"xaxis\":{\"gridcolor\":\"white\",\"linecolor\":\"white\",\"ticks\":\"\",\"title\":{\"standoff\":15},\"zerolinecolor\":\"white\",\"automargin\":true,\"zerolinewidth\":2},\"yaxis\":{\"gridcolor\":\"white\",\"linecolor\":\"white\",\"ticks\":\"\",\"title\":{\"standoff\":15},\"zerolinecolor\":\"white\",\"automargin\":true,\"zerolinewidth\":2},\"scene\":{\"xaxis\":{\"backgroundcolor\":\"#E5ECF6\",\"gridcolor\":\"white\",\"linecolor\":\"white\",\"showbackground\":true,\"ticks\":\"\",\"zerolinecolor\":\"white\",\"gridwidth\":2},\"yaxis\":{\"backgroundcolor\":\"#E5ECF6\",\"gridcolor\":\"white\",\"linecolor\":\"white\",\"showbackground\":true,\"ticks\":\"\",\"zerolinecolor\":\"white\",\"gridwidth\":2},\"zaxis\":{\"backgroundcolor\":\"#E5ECF6\",\"gridcolor\":\"white\",\"linecolor\":\"white\",\"showbackground\":true,\"ticks\":\"\",\"zerolinecolor\":\"white\",\"gridwidth\":2}},\"shapedefaults\":{\"line\":{\"color\":\"#2a3f5f\"}},\"annotationdefaults\":{\"arrowcolor\":\"#2a3f5f\",\"arrowhead\":0,\"arrowwidth\":1},\"geo\":{\"bgcolor\":\"white\",\"landcolor\":\"#E5ECF6\",\"subunitcolor\":\"white\",\"showland\":true,\"showlakes\":true,\"lakecolor\":\"white\"},\"title\":{\"x\":0.05},\"mapbox\":{\"style\":\"light\"}}},\"xaxis\":{\"anchor\":\"y\",\"domain\":[0.0,0.94],\"title\":{\"text\":\"Sentiment\"}},\"yaxis\":{\"anchor\":\"x\",\"domain\":[0.0,1.0],\"title\":{\"text\":\"Retweet count\"}},\"yaxis2\":{\"anchor\":\"x\",\"overlaying\":\"y\",\"side\":\"right\",\"title\":{\"text\":\"Likes count\"}},\"title\":{\"text\":\"Percentage of retweets and likes by sentiment\"},\"width\":900,\"height\":500},                        {\"responsive\": true}                    ).then(function(){\n                            \nvar gd = document.getElementById('be5c6173-e6f0-4e00-b1d3-ee78dec2c011');\nvar x = new MutationObserver(function (mutations, observer) {{\n        var display = window.getComputedStyle(gd).display;\n        if (!display || display === 'none') {{\n            console.log([gd, 'removed!']);\n            Plotly.purge(gd);\n            observer.disconnect();\n        }}\n}});\n\n// Listen for the removal of the full notebook cells\nvar notebookContainer = gd.closest('#notebook-container');\nif (notebookContainer) {{\n    x.observe(notebookContainer, {childList: true});\n}}\n\n// Listen for the clearing of the current output cell\nvar outputEl = gd.closest('.output');\nif (outputEl) {{\n    x.observe(outputEl, {childList: true});\n}}\n\n                        })                };                });            </script>        </div>"
     },
     "metadata": {},
     "output_type": "display_data"
    },
    {
     "data": {
      "application/vnd.plotly.v1+json": {
       "data": [
        {
         "marker": {
          "color": "#006D77"
         },
         "name": "Retweets mean 2019",
         "text": [
          "0.52",
          "0.42",
          "0.59"
         ],
         "textposition": "inside",
         "width": 0.28,
         "x": [
          "Negative",
          "Neutral",
          "Positive"
         ],
         "y": [
          0.52,
          0.42,
          0.59
         ],
         "type": "bar",
         "xaxis": "x",
         "yaxis": "y"
        },
        {
         "marker": {
          "color": "#00B2CA"
         },
         "name": "Likes mean 2019",
         "x": [
          "Negative",
          "Neutral",
          "Positive"
         ],
         "y": [
          2.9,
          2.8,
          3.98
         ],
         "type": "scatter",
         "xaxis": "x",
         "yaxis": "y2"
        },
        {
         "marker": {
          "color": "#FBD1A2"
         },
         "name": "Retweets mean 2020",
         "text": [
          "0.5",
          "0.4",
          "0.55"
         ],
         "textposition": "inside",
         "width": 0.28,
         "x": [
          "Negative",
          "Neutral",
          "Positive"
         ],
         "y": [
          0.5,
          0.4,
          0.55
         ],
         "type": "bar",
         "xaxis": "x",
         "yaxis": "y"
        },
        {
         "marker": {
          "color": "#1D4E89"
         },
         "name": "Likes mean 2020",
         "x": [
          "Negative",
          "Neutral",
          "Positive"
         ],
         "y": [
          3.15,
          2.98,
          4.26
         ],
         "type": "scatter",
         "xaxis": "x",
         "yaxis": "y2"
        },
        {
         "marker": {
          "color": "#7DCFB6"
         },
         "name": "Retweets mean 2021",
         "text": [
          "0.5",
          "0.4",
          "0.6"
         ],
         "textposition": "inside",
         "width": 0.28,
         "x": [
          "Negative",
          "Neutral",
          "Positive"
         ],
         "y": [
          0.5,
          0.4,
          0.6
         ],
         "type": "bar",
         "xaxis": "x",
         "yaxis": "y"
        },
        {
         "marker": {
          "color": "#F79256"
         },
         "name": "Likes mean 2021",
         "x": [
          "Negative",
          "Neutral",
          "Positive"
         ],
         "y": [
          3.83,
          3.73,
          5.48
         ],
         "type": "scatter",
         "xaxis": "x",
         "yaxis": "y2"
        }
       ],
       "layout": {
        "template": {
         "data": {
          "histogram2dcontour": [
           {
            "type": "histogram2dcontour",
            "colorbar": {
             "outlinewidth": 0,
             "ticks": ""
            },
            "colorscale": [
             [
              0.0,
              "#0d0887"
             ],
             [
              0.1111111111111111,
              "#46039f"
             ],
             [
              0.2222222222222222,
              "#7201a8"
             ],
             [
              0.3333333333333333,
              "#9c179e"
             ],
             [
              0.4444444444444444,
              "#bd3786"
             ],
             [
              0.5555555555555556,
              "#d8576b"
             ],
             [
              0.6666666666666666,
              "#ed7953"
             ],
             [
              0.7777777777777778,
              "#fb9f3a"
             ],
             [
              0.8888888888888888,
              "#fdca26"
             ],
             [
              1.0,
              "#f0f921"
             ]
            ]
           }
          ],
          "choropleth": [
           {
            "type": "choropleth",
            "colorbar": {
             "outlinewidth": 0,
             "ticks": ""
            }
           }
          ],
          "histogram2d": [
           {
            "type": "histogram2d",
            "colorbar": {
             "outlinewidth": 0,
             "ticks": ""
            },
            "colorscale": [
             [
              0.0,
              "#0d0887"
             ],
             [
              0.1111111111111111,
              "#46039f"
             ],
             [
              0.2222222222222222,
              "#7201a8"
             ],
             [
              0.3333333333333333,
              "#9c179e"
             ],
             [
              0.4444444444444444,
              "#bd3786"
             ],
             [
              0.5555555555555556,
              "#d8576b"
             ],
             [
              0.6666666666666666,
              "#ed7953"
             ],
             [
              0.7777777777777778,
              "#fb9f3a"
             ],
             [
              0.8888888888888888,
              "#fdca26"
             ],
             [
              1.0,
              "#f0f921"
             ]
            ]
           }
          ],
          "heatmap": [
           {
            "type": "heatmap",
            "colorbar": {
             "outlinewidth": 0,
             "ticks": ""
            },
            "colorscale": [
             [
              0.0,
              "#0d0887"
             ],
             [
              0.1111111111111111,
              "#46039f"
             ],
             [
              0.2222222222222222,
              "#7201a8"
             ],
             [
              0.3333333333333333,
              "#9c179e"
             ],
             [
              0.4444444444444444,
              "#bd3786"
             ],
             [
              0.5555555555555556,
              "#d8576b"
             ],
             [
              0.6666666666666666,
              "#ed7953"
             ],
             [
              0.7777777777777778,
              "#fb9f3a"
             ],
             [
              0.8888888888888888,
              "#fdca26"
             ],
             [
              1.0,
              "#f0f921"
             ]
            ]
           }
          ],
          "heatmapgl": [
           {
            "type": "heatmapgl",
            "colorbar": {
             "outlinewidth": 0,
             "ticks": ""
            },
            "colorscale": [
             [
              0.0,
              "#0d0887"
             ],
             [
              0.1111111111111111,
              "#46039f"
             ],
             [
              0.2222222222222222,
              "#7201a8"
             ],
             [
              0.3333333333333333,
              "#9c179e"
             ],
             [
              0.4444444444444444,
              "#bd3786"
             ],
             [
              0.5555555555555556,
              "#d8576b"
             ],
             [
              0.6666666666666666,
              "#ed7953"
             ],
             [
              0.7777777777777778,
              "#fb9f3a"
             ],
             [
              0.8888888888888888,
              "#fdca26"
             ],
             [
              1.0,
              "#f0f921"
             ]
            ]
           }
          ],
          "contourcarpet": [
           {
            "type": "contourcarpet",
            "colorbar": {
             "outlinewidth": 0,
             "ticks": ""
            }
           }
          ],
          "contour": [
           {
            "type": "contour",
            "colorbar": {
             "outlinewidth": 0,
             "ticks": ""
            },
            "colorscale": [
             [
              0.0,
              "#0d0887"
             ],
             [
              0.1111111111111111,
              "#46039f"
             ],
             [
              0.2222222222222222,
              "#7201a8"
             ],
             [
              0.3333333333333333,
              "#9c179e"
             ],
             [
              0.4444444444444444,
              "#bd3786"
             ],
             [
              0.5555555555555556,
              "#d8576b"
             ],
             [
              0.6666666666666666,
              "#ed7953"
             ],
             [
              0.7777777777777778,
              "#fb9f3a"
             ],
             [
              0.8888888888888888,
              "#fdca26"
             ],
             [
              1.0,
              "#f0f921"
             ]
            ]
           }
          ],
          "surface": [
           {
            "type": "surface",
            "colorbar": {
             "outlinewidth": 0,
             "ticks": ""
            },
            "colorscale": [
             [
              0.0,
              "#0d0887"
             ],
             [
              0.1111111111111111,
              "#46039f"
             ],
             [
              0.2222222222222222,
              "#7201a8"
             ],
             [
              0.3333333333333333,
              "#9c179e"
             ],
             [
              0.4444444444444444,
              "#bd3786"
             ],
             [
              0.5555555555555556,
              "#d8576b"
             ],
             [
              0.6666666666666666,
              "#ed7953"
             ],
             [
              0.7777777777777778,
              "#fb9f3a"
             ],
             [
              0.8888888888888888,
              "#fdca26"
             ],
             [
              1.0,
              "#f0f921"
             ]
            ]
           }
          ],
          "mesh3d": [
           {
            "type": "mesh3d",
            "colorbar": {
             "outlinewidth": 0,
             "ticks": ""
            }
           }
          ],
          "scatter": [
           {
            "fillpattern": {
             "fillmode": "overlay",
             "size": 10,
             "solidity": 0.2
            },
            "type": "scatter"
           }
          ],
          "parcoords": [
           {
            "type": "parcoords",
            "line": {
             "colorbar": {
              "outlinewidth": 0,
              "ticks": ""
             }
            }
           }
          ],
          "scatterpolargl": [
           {
            "type": "scatterpolargl",
            "marker": {
             "colorbar": {
              "outlinewidth": 0,
              "ticks": ""
             }
            }
           }
          ],
          "bar": [
           {
            "error_x": {
             "color": "#2a3f5f"
            },
            "error_y": {
             "color": "#2a3f5f"
            },
            "marker": {
             "line": {
              "color": "#E5ECF6",
              "width": 0.5
             },
             "pattern": {
              "fillmode": "overlay",
              "size": 10,
              "solidity": 0.2
             }
            },
            "type": "bar"
           }
          ],
          "scattergeo": [
           {
            "type": "scattergeo",
            "marker": {
             "colorbar": {
              "outlinewidth": 0,
              "ticks": ""
             }
            }
           }
          ],
          "scatterpolar": [
           {
            "type": "scatterpolar",
            "marker": {
             "colorbar": {
              "outlinewidth": 0,
              "ticks": ""
             }
            }
           }
          ],
          "histogram": [
           {
            "marker": {
             "pattern": {
              "fillmode": "overlay",
              "size": 10,
              "solidity": 0.2
             }
            },
            "type": "histogram"
           }
          ],
          "scattergl": [
           {
            "type": "scattergl",
            "marker": {
             "colorbar": {
              "outlinewidth": 0,
              "ticks": ""
             }
            }
           }
          ],
          "scatter3d": [
           {
            "type": "scatter3d",
            "line": {
             "colorbar": {
              "outlinewidth": 0,
              "ticks": ""
             }
            },
            "marker": {
             "colorbar": {
              "outlinewidth": 0,
              "ticks": ""
             }
            }
           }
          ],
          "scattermapbox": [
           {
            "type": "scattermapbox",
            "marker": {
             "colorbar": {
              "outlinewidth": 0,
              "ticks": ""
             }
            }
           }
          ],
          "scatterternary": [
           {
            "type": "scatterternary",
            "marker": {
             "colorbar": {
              "outlinewidth": 0,
              "ticks": ""
             }
            }
           }
          ],
          "scattercarpet": [
           {
            "type": "scattercarpet",
            "marker": {
             "colorbar": {
              "outlinewidth": 0,
              "ticks": ""
             }
            }
           }
          ],
          "carpet": [
           {
            "aaxis": {
             "endlinecolor": "#2a3f5f",
             "gridcolor": "white",
             "linecolor": "white",
             "minorgridcolor": "white",
             "startlinecolor": "#2a3f5f"
            },
            "baxis": {
             "endlinecolor": "#2a3f5f",
             "gridcolor": "white",
             "linecolor": "white",
             "minorgridcolor": "white",
             "startlinecolor": "#2a3f5f"
            },
            "type": "carpet"
           }
          ],
          "table": [
           {
            "cells": {
             "fill": {
              "color": "#EBF0F8"
             },
             "line": {
              "color": "white"
             }
            },
            "header": {
             "fill": {
              "color": "#C8D4E3"
             },
             "line": {
              "color": "white"
             }
            },
            "type": "table"
           }
          ],
          "barpolar": [
           {
            "marker": {
             "line": {
              "color": "#E5ECF6",
              "width": 0.5
             },
             "pattern": {
              "fillmode": "overlay",
              "size": 10,
              "solidity": 0.2
             }
            },
            "type": "barpolar"
           }
          ],
          "pie": [
           {
            "automargin": true,
            "type": "pie"
           }
          ]
         },
         "layout": {
          "autotypenumbers": "strict",
          "colorway": [
           "#636efa",
           "#EF553B",
           "#00cc96",
           "#ab63fa",
           "#FFA15A",
           "#19d3f3",
           "#FF6692",
           "#B6E880",
           "#FF97FF",
           "#FECB52"
          ],
          "font": {
           "color": "#2a3f5f"
          },
          "hovermode": "closest",
          "hoverlabel": {
           "align": "left"
          },
          "paper_bgcolor": "white",
          "plot_bgcolor": "#E5ECF6",
          "polar": {
           "bgcolor": "#E5ECF6",
           "angularaxis": {
            "gridcolor": "white",
            "linecolor": "white",
            "ticks": ""
           },
           "radialaxis": {
            "gridcolor": "white",
            "linecolor": "white",
            "ticks": ""
           }
          },
          "ternary": {
           "bgcolor": "#E5ECF6",
           "aaxis": {
            "gridcolor": "white",
            "linecolor": "white",
            "ticks": ""
           },
           "baxis": {
            "gridcolor": "white",
            "linecolor": "white",
            "ticks": ""
           },
           "caxis": {
            "gridcolor": "white",
            "linecolor": "white",
            "ticks": ""
           }
          },
          "coloraxis": {
           "colorbar": {
            "outlinewidth": 0,
            "ticks": ""
           }
          },
          "colorscale": {
           "sequential": [
            [
             0.0,
             "#0d0887"
            ],
            [
             0.1111111111111111,
             "#46039f"
            ],
            [
             0.2222222222222222,
             "#7201a8"
            ],
            [
             0.3333333333333333,
             "#9c179e"
            ],
            [
             0.4444444444444444,
             "#bd3786"
            ],
            [
             0.5555555555555556,
             "#d8576b"
            ],
            [
             0.6666666666666666,
             "#ed7953"
            ],
            [
             0.7777777777777778,
             "#fb9f3a"
            ],
            [
             0.8888888888888888,
             "#fdca26"
            ],
            [
             1.0,
             "#f0f921"
            ]
           ],
           "sequentialminus": [
            [
             0.0,
             "#0d0887"
            ],
            [
             0.1111111111111111,
             "#46039f"
            ],
            [
             0.2222222222222222,
             "#7201a8"
            ],
            [
             0.3333333333333333,
             "#9c179e"
            ],
            [
             0.4444444444444444,
             "#bd3786"
            ],
            [
             0.5555555555555556,
             "#d8576b"
            ],
            [
             0.6666666666666666,
             "#ed7953"
            ],
            [
             0.7777777777777778,
             "#fb9f3a"
            ],
            [
             0.8888888888888888,
             "#fdca26"
            ],
            [
             1.0,
             "#f0f921"
            ]
           ],
           "diverging": [
            [
             0,
             "#8e0152"
            ],
            [
             0.1,
             "#c51b7d"
            ],
            [
             0.2,
             "#de77ae"
            ],
            [
             0.3,
             "#f1b6da"
            ],
            [
             0.4,
             "#fde0ef"
            ],
            [
             0.5,
             "#f7f7f7"
            ],
            [
             0.6,
             "#e6f5d0"
            ],
            [
             0.7,
             "#b8e186"
            ],
            [
             0.8,
             "#7fbc41"
            ],
            [
             0.9,
             "#4d9221"
            ],
            [
             1,
             "#276419"
            ]
           ]
          },
          "xaxis": {
           "gridcolor": "white",
           "linecolor": "white",
           "ticks": "",
           "title": {
            "standoff": 15
           },
           "zerolinecolor": "white",
           "automargin": true,
           "zerolinewidth": 2
          },
          "yaxis": {
           "gridcolor": "white",
           "linecolor": "white",
           "ticks": "",
           "title": {
            "standoff": 15
           },
           "zerolinecolor": "white",
           "automargin": true,
           "zerolinewidth": 2
          },
          "scene": {
           "xaxis": {
            "backgroundcolor": "#E5ECF6",
            "gridcolor": "white",
            "linecolor": "white",
            "showbackground": true,
            "ticks": "",
            "zerolinecolor": "white",
            "gridwidth": 2
           },
           "yaxis": {
            "backgroundcolor": "#E5ECF6",
            "gridcolor": "white",
            "linecolor": "white",
            "showbackground": true,
            "ticks": "",
            "zerolinecolor": "white",
            "gridwidth": 2
           },
           "zaxis": {
            "backgroundcolor": "#E5ECF6",
            "gridcolor": "white",
            "linecolor": "white",
            "showbackground": true,
            "ticks": "",
            "zerolinecolor": "white",
            "gridwidth": 2
           }
          },
          "shapedefaults": {
           "line": {
            "color": "#2a3f5f"
           }
          },
          "annotationdefaults": {
           "arrowcolor": "#2a3f5f",
           "arrowhead": 0,
           "arrowwidth": 1
          },
          "geo": {
           "bgcolor": "white",
           "landcolor": "#E5ECF6",
           "subunitcolor": "white",
           "showland": true,
           "showlakes": true,
           "lakecolor": "white"
          },
          "title": {
           "x": 0.05
          },
          "mapbox": {
           "style": "light"
          }
         }
        },
        "xaxis": {
         "anchor": "y",
         "domain": [
          0.0,
          0.94
         ],
         "title": {
          "text": "Sentiment"
         }
        },
        "yaxis": {
         "anchor": "x",
         "domain": [
          0.0,
          1.0
         ],
         "title": {
          "text": "Retweets mean"
         }
        },
        "yaxis2": {
         "anchor": "x",
         "overlaying": "y",
         "side": "right",
         "title": {
          "text": "Likes mean"
         }
        },
        "title": {
         "text": "Average retweets and likes number by sentiment"
        },
        "width": 900,
        "height": 500
       },
       "config": {
        "plotlyServerURL": "https://plot.ly"
       }
      },
      "text/html": "<div>                            <div id=\"f897109a-6829-4344-aa8d-e50a918df9ec\" class=\"plotly-graph-div\" style=\"height:500px; width:900px;\"></div>            <script type=\"text/javascript\">                require([\"plotly\"], function(Plotly) {                    window.PLOTLYENV=window.PLOTLYENV || {};                                    if (document.getElementById(\"f897109a-6829-4344-aa8d-e50a918df9ec\")) {                    Plotly.newPlot(                        \"f897109a-6829-4344-aa8d-e50a918df9ec\",                        [{\"marker\":{\"color\":\"#006D77\"},\"name\":\"Retweets mean 2019\",\"text\":[\"0.52\",\"0.42\",\"0.59\"],\"textposition\":\"inside\",\"width\":0.28,\"x\":[\"Negative\",\"Neutral\",\"Positive\"],\"y\":[0.52,0.42,0.59],\"type\":\"bar\",\"xaxis\":\"x\",\"yaxis\":\"y\"},{\"marker\":{\"color\":\"#00B2CA\"},\"name\":\"Likes mean 2019\",\"x\":[\"Negative\",\"Neutral\",\"Positive\"],\"y\":[2.9,2.8,3.98],\"type\":\"scatter\",\"xaxis\":\"x\",\"yaxis\":\"y2\"},{\"marker\":{\"color\":\"#FBD1A2\"},\"name\":\"Retweets mean 2020\",\"text\":[\"0.5\",\"0.4\",\"0.55\"],\"textposition\":\"inside\",\"width\":0.28,\"x\":[\"Negative\",\"Neutral\",\"Positive\"],\"y\":[0.5,0.4,0.55],\"type\":\"bar\",\"xaxis\":\"x\",\"yaxis\":\"y\"},{\"marker\":{\"color\":\"#1D4E89\"},\"name\":\"Likes mean 2020\",\"x\":[\"Negative\",\"Neutral\",\"Positive\"],\"y\":[3.15,2.98,4.26],\"type\":\"scatter\",\"xaxis\":\"x\",\"yaxis\":\"y2\"},{\"marker\":{\"color\":\"#7DCFB6\"},\"name\":\"Retweets mean 2021\",\"text\":[\"0.5\",\"0.4\",\"0.6\"],\"textposition\":\"inside\",\"width\":0.28,\"x\":[\"Negative\",\"Neutral\",\"Positive\"],\"y\":[0.5,0.4,0.6],\"type\":\"bar\",\"xaxis\":\"x\",\"yaxis\":\"y\"},{\"marker\":{\"color\":\"#F79256\"},\"name\":\"Likes mean 2021\",\"x\":[\"Negative\",\"Neutral\",\"Positive\"],\"y\":[3.83,3.73,5.48],\"type\":\"scatter\",\"xaxis\":\"x\",\"yaxis\":\"y2\"}],                        {\"template\":{\"data\":{\"histogram2dcontour\":[{\"type\":\"histogram2dcontour\",\"colorbar\":{\"outlinewidth\":0,\"ticks\":\"\"},\"colorscale\":[[0.0,\"#0d0887\"],[0.1111111111111111,\"#46039f\"],[0.2222222222222222,\"#7201a8\"],[0.3333333333333333,\"#9c179e\"],[0.4444444444444444,\"#bd3786\"],[0.5555555555555556,\"#d8576b\"],[0.6666666666666666,\"#ed7953\"],[0.7777777777777778,\"#fb9f3a\"],[0.8888888888888888,\"#fdca26\"],[1.0,\"#f0f921\"]]}],\"choropleth\":[{\"type\":\"choropleth\",\"colorbar\":{\"outlinewidth\":0,\"ticks\":\"\"}}],\"histogram2d\":[{\"type\":\"histogram2d\",\"colorbar\":{\"outlinewidth\":0,\"ticks\":\"\"},\"colorscale\":[[0.0,\"#0d0887\"],[0.1111111111111111,\"#46039f\"],[0.2222222222222222,\"#7201a8\"],[0.3333333333333333,\"#9c179e\"],[0.4444444444444444,\"#bd3786\"],[0.5555555555555556,\"#d8576b\"],[0.6666666666666666,\"#ed7953\"],[0.7777777777777778,\"#fb9f3a\"],[0.8888888888888888,\"#fdca26\"],[1.0,\"#f0f921\"]]}],\"heatmap\":[{\"type\":\"heatmap\",\"colorbar\":{\"outlinewidth\":0,\"ticks\":\"\"},\"colorscale\":[[0.0,\"#0d0887\"],[0.1111111111111111,\"#46039f\"],[0.2222222222222222,\"#7201a8\"],[0.3333333333333333,\"#9c179e\"],[0.4444444444444444,\"#bd3786\"],[0.5555555555555556,\"#d8576b\"],[0.6666666666666666,\"#ed7953\"],[0.7777777777777778,\"#fb9f3a\"],[0.8888888888888888,\"#fdca26\"],[1.0,\"#f0f921\"]]}],\"heatmapgl\":[{\"type\":\"heatmapgl\",\"colorbar\":{\"outlinewidth\":0,\"ticks\":\"\"},\"colorscale\":[[0.0,\"#0d0887\"],[0.1111111111111111,\"#46039f\"],[0.2222222222222222,\"#7201a8\"],[0.3333333333333333,\"#9c179e\"],[0.4444444444444444,\"#bd3786\"],[0.5555555555555556,\"#d8576b\"],[0.6666666666666666,\"#ed7953\"],[0.7777777777777778,\"#fb9f3a\"],[0.8888888888888888,\"#fdca26\"],[1.0,\"#f0f921\"]]}],\"contourcarpet\":[{\"type\":\"contourcarpet\",\"colorbar\":{\"outlinewidth\":0,\"ticks\":\"\"}}],\"contour\":[{\"type\":\"contour\",\"colorbar\":{\"outlinewidth\":0,\"ticks\":\"\"},\"colorscale\":[[0.0,\"#0d0887\"],[0.1111111111111111,\"#46039f\"],[0.2222222222222222,\"#7201a8\"],[0.3333333333333333,\"#9c179e\"],[0.4444444444444444,\"#bd3786\"],[0.5555555555555556,\"#d8576b\"],[0.6666666666666666,\"#ed7953\"],[0.7777777777777778,\"#fb9f3a\"],[0.8888888888888888,\"#fdca26\"],[1.0,\"#f0f921\"]]}],\"surface\":[{\"type\":\"surface\",\"colorbar\":{\"outlinewidth\":0,\"ticks\":\"\"},\"colorscale\":[[0.0,\"#0d0887\"],[0.1111111111111111,\"#46039f\"],[0.2222222222222222,\"#7201a8\"],[0.3333333333333333,\"#9c179e\"],[0.4444444444444444,\"#bd3786\"],[0.5555555555555556,\"#d8576b\"],[0.6666666666666666,\"#ed7953\"],[0.7777777777777778,\"#fb9f3a\"],[0.8888888888888888,\"#fdca26\"],[1.0,\"#f0f921\"]]}],\"mesh3d\":[{\"type\":\"mesh3d\",\"colorbar\":{\"outlinewidth\":0,\"ticks\":\"\"}}],\"scatter\":[{\"fillpattern\":{\"fillmode\":\"overlay\",\"size\":10,\"solidity\":0.2},\"type\":\"scatter\"}],\"parcoords\":[{\"type\":\"parcoords\",\"line\":{\"colorbar\":{\"outlinewidth\":0,\"ticks\":\"\"}}}],\"scatterpolargl\":[{\"type\":\"scatterpolargl\",\"marker\":{\"colorbar\":{\"outlinewidth\":0,\"ticks\":\"\"}}}],\"bar\":[{\"error_x\":{\"color\":\"#2a3f5f\"},\"error_y\":{\"color\":\"#2a3f5f\"},\"marker\":{\"line\":{\"color\":\"#E5ECF6\",\"width\":0.5},\"pattern\":{\"fillmode\":\"overlay\",\"size\":10,\"solidity\":0.2}},\"type\":\"bar\"}],\"scattergeo\":[{\"type\":\"scattergeo\",\"marker\":{\"colorbar\":{\"outlinewidth\":0,\"ticks\":\"\"}}}],\"scatterpolar\":[{\"type\":\"scatterpolar\",\"marker\":{\"colorbar\":{\"outlinewidth\":0,\"ticks\":\"\"}}}],\"histogram\":[{\"marker\":{\"pattern\":{\"fillmode\":\"overlay\",\"size\":10,\"solidity\":0.2}},\"type\":\"histogram\"}],\"scattergl\":[{\"type\":\"scattergl\",\"marker\":{\"colorbar\":{\"outlinewidth\":0,\"ticks\":\"\"}}}],\"scatter3d\":[{\"type\":\"scatter3d\",\"line\":{\"colorbar\":{\"outlinewidth\":0,\"ticks\":\"\"}},\"marker\":{\"colorbar\":{\"outlinewidth\":0,\"ticks\":\"\"}}}],\"scattermapbox\":[{\"type\":\"scattermapbox\",\"marker\":{\"colorbar\":{\"outlinewidth\":0,\"ticks\":\"\"}}}],\"scatterternary\":[{\"type\":\"scatterternary\",\"marker\":{\"colorbar\":{\"outlinewidth\":0,\"ticks\":\"\"}}}],\"scattercarpet\":[{\"type\":\"scattercarpet\",\"marker\":{\"colorbar\":{\"outlinewidth\":0,\"ticks\":\"\"}}}],\"carpet\":[{\"aaxis\":{\"endlinecolor\":\"#2a3f5f\",\"gridcolor\":\"white\",\"linecolor\":\"white\",\"minorgridcolor\":\"white\",\"startlinecolor\":\"#2a3f5f\"},\"baxis\":{\"endlinecolor\":\"#2a3f5f\",\"gridcolor\":\"white\",\"linecolor\":\"white\",\"minorgridcolor\":\"white\",\"startlinecolor\":\"#2a3f5f\"},\"type\":\"carpet\"}],\"table\":[{\"cells\":{\"fill\":{\"color\":\"#EBF0F8\"},\"line\":{\"color\":\"white\"}},\"header\":{\"fill\":{\"color\":\"#C8D4E3\"},\"line\":{\"color\":\"white\"}},\"type\":\"table\"}],\"barpolar\":[{\"marker\":{\"line\":{\"color\":\"#E5ECF6\",\"width\":0.5},\"pattern\":{\"fillmode\":\"overlay\",\"size\":10,\"solidity\":0.2}},\"type\":\"barpolar\"}],\"pie\":[{\"automargin\":true,\"type\":\"pie\"}]},\"layout\":{\"autotypenumbers\":\"strict\",\"colorway\":[\"#636efa\",\"#EF553B\",\"#00cc96\",\"#ab63fa\",\"#FFA15A\",\"#19d3f3\",\"#FF6692\",\"#B6E880\",\"#FF97FF\",\"#FECB52\"],\"font\":{\"color\":\"#2a3f5f\"},\"hovermode\":\"closest\",\"hoverlabel\":{\"align\":\"left\"},\"paper_bgcolor\":\"white\",\"plot_bgcolor\":\"#E5ECF6\",\"polar\":{\"bgcolor\":\"#E5ECF6\",\"angularaxis\":{\"gridcolor\":\"white\",\"linecolor\":\"white\",\"ticks\":\"\"},\"radialaxis\":{\"gridcolor\":\"white\",\"linecolor\":\"white\",\"ticks\":\"\"}},\"ternary\":{\"bgcolor\":\"#E5ECF6\",\"aaxis\":{\"gridcolor\":\"white\",\"linecolor\":\"white\",\"ticks\":\"\"},\"baxis\":{\"gridcolor\":\"white\",\"linecolor\":\"white\",\"ticks\":\"\"},\"caxis\":{\"gridcolor\":\"white\",\"linecolor\":\"white\",\"ticks\":\"\"}},\"coloraxis\":{\"colorbar\":{\"outlinewidth\":0,\"ticks\":\"\"}},\"colorscale\":{\"sequential\":[[0.0,\"#0d0887\"],[0.1111111111111111,\"#46039f\"],[0.2222222222222222,\"#7201a8\"],[0.3333333333333333,\"#9c179e\"],[0.4444444444444444,\"#bd3786\"],[0.5555555555555556,\"#d8576b\"],[0.6666666666666666,\"#ed7953\"],[0.7777777777777778,\"#fb9f3a\"],[0.8888888888888888,\"#fdca26\"],[1.0,\"#f0f921\"]],\"sequentialminus\":[[0.0,\"#0d0887\"],[0.1111111111111111,\"#46039f\"],[0.2222222222222222,\"#7201a8\"],[0.3333333333333333,\"#9c179e\"],[0.4444444444444444,\"#bd3786\"],[0.5555555555555556,\"#d8576b\"],[0.6666666666666666,\"#ed7953\"],[0.7777777777777778,\"#fb9f3a\"],[0.8888888888888888,\"#fdca26\"],[1.0,\"#f0f921\"]],\"diverging\":[[0,\"#8e0152\"],[0.1,\"#c51b7d\"],[0.2,\"#de77ae\"],[0.3,\"#f1b6da\"],[0.4,\"#fde0ef\"],[0.5,\"#f7f7f7\"],[0.6,\"#e6f5d0\"],[0.7,\"#b8e186\"],[0.8,\"#7fbc41\"],[0.9,\"#4d9221\"],[1,\"#276419\"]]},\"xaxis\":{\"gridcolor\":\"white\",\"linecolor\":\"white\",\"ticks\":\"\",\"title\":{\"standoff\":15},\"zerolinecolor\":\"white\",\"automargin\":true,\"zerolinewidth\":2},\"yaxis\":{\"gridcolor\":\"white\",\"linecolor\":\"white\",\"ticks\":\"\",\"title\":{\"standoff\":15},\"zerolinecolor\":\"white\",\"automargin\":true,\"zerolinewidth\":2},\"scene\":{\"xaxis\":{\"backgroundcolor\":\"#E5ECF6\",\"gridcolor\":\"white\",\"linecolor\":\"white\",\"showbackground\":true,\"ticks\":\"\",\"zerolinecolor\":\"white\",\"gridwidth\":2},\"yaxis\":{\"backgroundcolor\":\"#E5ECF6\",\"gridcolor\":\"white\",\"linecolor\":\"white\",\"showbackground\":true,\"ticks\":\"\",\"zerolinecolor\":\"white\",\"gridwidth\":2},\"zaxis\":{\"backgroundcolor\":\"#E5ECF6\",\"gridcolor\":\"white\",\"linecolor\":\"white\",\"showbackground\":true,\"ticks\":\"\",\"zerolinecolor\":\"white\",\"gridwidth\":2}},\"shapedefaults\":{\"line\":{\"color\":\"#2a3f5f\"}},\"annotationdefaults\":{\"arrowcolor\":\"#2a3f5f\",\"arrowhead\":0,\"arrowwidth\":1},\"geo\":{\"bgcolor\":\"white\",\"landcolor\":\"#E5ECF6\",\"subunitcolor\":\"white\",\"showland\":true,\"showlakes\":true,\"lakecolor\":\"white\"},\"title\":{\"x\":0.05},\"mapbox\":{\"style\":\"light\"}}},\"xaxis\":{\"anchor\":\"y\",\"domain\":[0.0,0.94],\"title\":{\"text\":\"Sentiment\"}},\"yaxis\":{\"anchor\":\"x\",\"domain\":[0.0,1.0],\"title\":{\"text\":\"Retweets mean\"}},\"yaxis2\":{\"anchor\":\"x\",\"overlaying\":\"y\",\"side\":\"right\",\"title\":{\"text\":\"Likes mean\"}},\"title\":{\"text\":\"Average retweets and likes number by sentiment\"},\"width\":900,\"height\":500},                        {\"responsive\": true}                    ).then(function(){\n                            \nvar gd = document.getElementById('f897109a-6829-4344-aa8d-e50a918df9ec');\nvar x = new MutationObserver(function (mutations, observer) {{\n        var display = window.getComputedStyle(gd).display;\n        if (!display || display === 'none') {{\n            console.log([gd, 'removed!']);\n            Plotly.purge(gd);\n            observer.disconnect();\n        }}\n}});\n\n// Listen for the removal of the full notebook cells\nvar notebookContainer = gd.closest('#notebook-container');\nif (notebookContainer) {{\n    x.observe(notebookContainer, {childList: true});\n}}\n\n// Listen for the clearing of the current output cell\nvar outputEl = gd.closest('.output');\nif (outputEl) {{\n    x.observe(outputEl, {childList: true});\n}}\n\n                        })                };                });            </script>        </div>"
     },
     "metadata": {},
     "output_type": "display_data"
    }
   ],
   "source": [
    "analysis_chart(df_analysis, 'sentiment', '% with retweets', '% with likes', 'Sentiment', 'Retweet count',\n",
    "               'Likes count', 'Percentage of retweets and likes by sentiment', offline_graphs)\n",
    "analysis_chart(df_analysis, 'sentiment', 'retweets mean', 'likes mean', 'Sentiment', 'Retweets mean', 'Likes mean',\n",
    "               'Average retweets and likes number by sentiment', offline_graphs)"
   ],
   "metadata": {
    "collapsed": false,
    "pycharm": {
     "name": "#%%\n"
    }
   }
  },
  {
   "cell_type": "markdown",
   "source": [
    "### Tweets performance by topics"
   ],
   "metadata": {
    "collapsed": false,
    "pycharm": {
     "name": "#%% md\n"
    }
   }
  },
  {
   "cell_type": "markdown",
   "source": [
    "#### Performance of each topic in retweets and likes"
   ],
   "metadata": {
    "collapsed": false,
    "pycharm": {
     "name": "#%% md\n"
    }
   }
  },
  {
   "cell_type": "code",
   "execution_count": 49,
   "outputs": [
    {
     "data": {
      "text/plain": "    year        topics_cleaned  count topics_cleaned  % topics_cleaned  \\\n0   2019                 Other               32323.0         16.662457   \n1   2019                Person               36681.0         18.908999   \n2   2019         TV and Movies               34474.0         17.771294   \n3   2019              Entities               20770.0         10.706903   \n4   2019  Interest and Hobbies               26951.0         13.893199   \n5   2019                 Sport                7326.0          3.776542   \n6   2019                 Brand               29804.0         15.363916   \n7   2019                 Music                2036.0          1.049555   \n8   2019            Video Game                1985.0          1.023264   \n9   2019             Political                1428.0          0.736132   \n10  2019                  Book                 208.0          0.107224   \n11  2019               Holiday                   1.0          0.000515   \n12  2019                  News                   NaN               NaN   \n0   2020                 Other                1833.0          0.968714   \n1   2020                Person               47719.0         25.218793   \n2   2020         TV and Movies               27571.0         14.570870   \n3   2020              Entities               20310.0         10.733538   \n4   2020  Interest and Hobbies               28305.0         14.958778   \n5   2020                 Sport                6832.0          3.610612   \n6   2020                 Brand               29802.0         15.749921   \n7   2020                 Music                2075.0          1.096607   \n8   2020            Video Game                2482.0          1.311701   \n9   2020             Political                1777.0          0.939118   \n10  2020                  Book                 392.0          0.207166   \n11  2020               Holiday                5223.0          2.760279   \n12  2020                  News               14899.0          7.873903   \n0   2021                 Other                2445.0          1.404301   \n1   2021                Person               31365.0         18.014681   \n2   2021         TV and Movies               40400.0         23.203988   \n3   2021              Entities               16461.0          9.454477   \n4   2021  Interest and Hobbies               25651.0         14.732810   \n5   2021                 Sport                8498.0          4.880879   \n6   2021                 Brand               31725.0         18.221449   \n7   2021                 Music                1725.0          0.990764   \n8   2021            Video Game                2035.0          1.168815   \n9   2021             Political                1445.0          0.829945   \n10  2021                  Book                 327.0          0.187814   \n11  2021               Holiday                4712.0          2.706366   \n12  2021                  News                7319.0          4.203713   \n\n    % with retweets  % with likes  retweets mean  likes mean  \n0             16.14         46.38           0.52        3.30  \n1             15.45         44.01           0.58        3.30  \n2             15.33         51.57           0.47        3.91  \n3             15.13         50.12           0.43        3.21  \n4             15.07         48.49           0.42        3.15  \n5             22.17         59.10           0.66        5.54  \n6             16.23         48.83           0.50        3.17  \n7             19.50         52.90           0.47        2.94  \n8             16.07         55.01           0.40        3.83  \n9             14.99         31.86           1.05        2.02  \n10            27.88         57.69           0.87        5.25  \n11              NaN        100.00           0.00       13.00  \n12              NaN           NaN            NaN         NaN  \n0             15.93         56.63           0.39        3.85  \n1             15.14         43.51           0.55        3.26  \n2             14.71         52.71           0.42        4.11  \n3             14.30         51.11           0.40        3.44  \n4             15.82         51.44           0.44        3.78  \n5             19.48         57.83           0.64        5.78  \n6             15.38         49.89           0.48        3.53  \n7             18.41         52.34           0.59        3.27  \n8             17.08         56.77           0.40        3.46  \n9             16.71         38.38           0.55        2.28  \n10            15.82         50.77           0.35        3.11  \n11            16.83         56.16           0.43        4.40  \n12            19.73         54.13           0.67        4.05  \n0             14.07         56.77           0.43        4.55  \n1             16.22         48.47           0.59        4.23  \n2             15.39         54.74           0.46        5.38  \n3             15.86         53.32           0.45        4.42  \n4             15.98         51.00           0.45        4.32  \n5             23.24         62.11           0.70        6.81  \n6             16.08         50.67           0.52        4.26  \n7             19.48         51.94           0.56        3.61  \n8             14.50         58.57           0.41        4.61  \n9             20.28         43.67           1.06        4.57  \n10            17.43         56.88           0.31        3.02  \n11            19.95         59.02           0.64        6.49  \n12            19.95         55.85           0.78        5.13  ",
      "text/html": "<div>\n<style scoped>\n    .dataframe tbody tr th:only-of-type {\n        vertical-align: middle;\n    }\n\n    .dataframe tbody tr th {\n        vertical-align: top;\n    }\n\n    .dataframe thead th {\n        text-align: right;\n    }\n</style>\n<table border=\"1\" class=\"dataframe\">\n  <thead>\n    <tr style=\"text-align: right;\">\n      <th></th>\n      <th>year</th>\n      <th>topics_cleaned</th>\n      <th>count topics_cleaned</th>\n      <th>% topics_cleaned</th>\n      <th>% with retweets</th>\n      <th>% with likes</th>\n      <th>retweets mean</th>\n      <th>likes mean</th>\n    </tr>\n  </thead>\n  <tbody>\n    <tr>\n      <th>0</th>\n      <td>2019</td>\n      <td>Other</td>\n      <td>32323.0</td>\n      <td>16.662457</td>\n      <td>16.14</td>\n      <td>46.38</td>\n      <td>0.52</td>\n      <td>3.30</td>\n    </tr>\n    <tr>\n      <th>1</th>\n      <td>2019</td>\n      <td>Person</td>\n      <td>36681.0</td>\n      <td>18.908999</td>\n      <td>15.45</td>\n      <td>44.01</td>\n      <td>0.58</td>\n      <td>3.30</td>\n    </tr>\n    <tr>\n      <th>2</th>\n      <td>2019</td>\n      <td>TV and Movies</td>\n      <td>34474.0</td>\n      <td>17.771294</td>\n      <td>15.33</td>\n      <td>51.57</td>\n      <td>0.47</td>\n      <td>3.91</td>\n    </tr>\n    <tr>\n      <th>3</th>\n      <td>2019</td>\n      <td>Entities</td>\n      <td>20770.0</td>\n      <td>10.706903</td>\n      <td>15.13</td>\n      <td>50.12</td>\n      <td>0.43</td>\n      <td>3.21</td>\n    </tr>\n    <tr>\n      <th>4</th>\n      <td>2019</td>\n      <td>Interest and Hobbies</td>\n      <td>26951.0</td>\n      <td>13.893199</td>\n      <td>15.07</td>\n      <td>48.49</td>\n      <td>0.42</td>\n      <td>3.15</td>\n    </tr>\n    <tr>\n      <th>5</th>\n      <td>2019</td>\n      <td>Sport</td>\n      <td>7326.0</td>\n      <td>3.776542</td>\n      <td>22.17</td>\n      <td>59.10</td>\n      <td>0.66</td>\n      <td>5.54</td>\n    </tr>\n    <tr>\n      <th>6</th>\n      <td>2019</td>\n      <td>Brand</td>\n      <td>29804.0</td>\n      <td>15.363916</td>\n      <td>16.23</td>\n      <td>48.83</td>\n      <td>0.50</td>\n      <td>3.17</td>\n    </tr>\n    <tr>\n      <th>7</th>\n      <td>2019</td>\n      <td>Music</td>\n      <td>2036.0</td>\n      <td>1.049555</td>\n      <td>19.50</td>\n      <td>52.90</td>\n      <td>0.47</td>\n      <td>2.94</td>\n    </tr>\n    <tr>\n      <th>8</th>\n      <td>2019</td>\n      <td>Video Game</td>\n      <td>1985.0</td>\n      <td>1.023264</td>\n      <td>16.07</td>\n      <td>55.01</td>\n      <td>0.40</td>\n      <td>3.83</td>\n    </tr>\n    <tr>\n      <th>9</th>\n      <td>2019</td>\n      <td>Political</td>\n      <td>1428.0</td>\n      <td>0.736132</td>\n      <td>14.99</td>\n      <td>31.86</td>\n      <td>1.05</td>\n      <td>2.02</td>\n    </tr>\n    <tr>\n      <th>10</th>\n      <td>2019</td>\n      <td>Book</td>\n      <td>208.0</td>\n      <td>0.107224</td>\n      <td>27.88</td>\n      <td>57.69</td>\n      <td>0.87</td>\n      <td>5.25</td>\n    </tr>\n    <tr>\n      <th>11</th>\n      <td>2019</td>\n      <td>Holiday</td>\n      <td>1.0</td>\n      <td>0.000515</td>\n      <td>NaN</td>\n      <td>100.00</td>\n      <td>0.00</td>\n      <td>13.00</td>\n    </tr>\n    <tr>\n      <th>12</th>\n      <td>2019</td>\n      <td>News</td>\n      <td>NaN</td>\n      <td>NaN</td>\n      <td>NaN</td>\n      <td>NaN</td>\n      <td>NaN</td>\n      <td>NaN</td>\n    </tr>\n    <tr>\n      <th>0</th>\n      <td>2020</td>\n      <td>Other</td>\n      <td>1833.0</td>\n      <td>0.968714</td>\n      <td>15.93</td>\n      <td>56.63</td>\n      <td>0.39</td>\n      <td>3.85</td>\n    </tr>\n    <tr>\n      <th>1</th>\n      <td>2020</td>\n      <td>Person</td>\n      <td>47719.0</td>\n      <td>25.218793</td>\n      <td>15.14</td>\n      <td>43.51</td>\n      <td>0.55</td>\n      <td>3.26</td>\n    </tr>\n    <tr>\n      <th>2</th>\n      <td>2020</td>\n      <td>TV and Movies</td>\n      <td>27571.0</td>\n      <td>14.570870</td>\n      <td>14.71</td>\n      <td>52.71</td>\n      <td>0.42</td>\n      <td>4.11</td>\n    </tr>\n    <tr>\n      <th>3</th>\n      <td>2020</td>\n      <td>Entities</td>\n      <td>20310.0</td>\n      <td>10.733538</td>\n      <td>14.30</td>\n      <td>51.11</td>\n      <td>0.40</td>\n      <td>3.44</td>\n    </tr>\n    <tr>\n      <th>4</th>\n      <td>2020</td>\n      <td>Interest and Hobbies</td>\n      <td>28305.0</td>\n      <td>14.958778</td>\n      <td>15.82</td>\n      <td>51.44</td>\n      <td>0.44</td>\n      <td>3.78</td>\n    </tr>\n    <tr>\n      <th>5</th>\n      <td>2020</td>\n      <td>Sport</td>\n      <td>6832.0</td>\n      <td>3.610612</td>\n      <td>19.48</td>\n      <td>57.83</td>\n      <td>0.64</td>\n      <td>5.78</td>\n    </tr>\n    <tr>\n      <th>6</th>\n      <td>2020</td>\n      <td>Brand</td>\n      <td>29802.0</td>\n      <td>15.749921</td>\n      <td>15.38</td>\n      <td>49.89</td>\n      <td>0.48</td>\n      <td>3.53</td>\n    </tr>\n    <tr>\n      <th>7</th>\n      <td>2020</td>\n      <td>Music</td>\n      <td>2075.0</td>\n      <td>1.096607</td>\n      <td>18.41</td>\n      <td>52.34</td>\n      <td>0.59</td>\n      <td>3.27</td>\n    </tr>\n    <tr>\n      <th>8</th>\n      <td>2020</td>\n      <td>Video Game</td>\n      <td>2482.0</td>\n      <td>1.311701</td>\n      <td>17.08</td>\n      <td>56.77</td>\n      <td>0.40</td>\n      <td>3.46</td>\n    </tr>\n    <tr>\n      <th>9</th>\n      <td>2020</td>\n      <td>Political</td>\n      <td>1777.0</td>\n      <td>0.939118</td>\n      <td>16.71</td>\n      <td>38.38</td>\n      <td>0.55</td>\n      <td>2.28</td>\n    </tr>\n    <tr>\n      <th>10</th>\n      <td>2020</td>\n      <td>Book</td>\n      <td>392.0</td>\n      <td>0.207166</td>\n      <td>15.82</td>\n      <td>50.77</td>\n      <td>0.35</td>\n      <td>3.11</td>\n    </tr>\n    <tr>\n      <th>11</th>\n      <td>2020</td>\n      <td>Holiday</td>\n      <td>5223.0</td>\n      <td>2.760279</td>\n      <td>16.83</td>\n      <td>56.16</td>\n      <td>0.43</td>\n      <td>4.40</td>\n    </tr>\n    <tr>\n      <th>12</th>\n      <td>2020</td>\n      <td>News</td>\n      <td>14899.0</td>\n      <td>7.873903</td>\n      <td>19.73</td>\n      <td>54.13</td>\n      <td>0.67</td>\n      <td>4.05</td>\n    </tr>\n    <tr>\n      <th>0</th>\n      <td>2021</td>\n      <td>Other</td>\n      <td>2445.0</td>\n      <td>1.404301</td>\n      <td>14.07</td>\n      <td>56.77</td>\n      <td>0.43</td>\n      <td>4.55</td>\n    </tr>\n    <tr>\n      <th>1</th>\n      <td>2021</td>\n      <td>Person</td>\n      <td>31365.0</td>\n      <td>18.014681</td>\n      <td>16.22</td>\n      <td>48.47</td>\n      <td>0.59</td>\n      <td>4.23</td>\n    </tr>\n    <tr>\n      <th>2</th>\n      <td>2021</td>\n      <td>TV and Movies</td>\n      <td>40400.0</td>\n      <td>23.203988</td>\n      <td>15.39</td>\n      <td>54.74</td>\n      <td>0.46</td>\n      <td>5.38</td>\n    </tr>\n    <tr>\n      <th>3</th>\n      <td>2021</td>\n      <td>Entities</td>\n      <td>16461.0</td>\n      <td>9.454477</td>\n      <td>15.86</td>\n      <td>53.32</td>\n      <td>0.45</td>\n      <td>4.42</td>\n    </tr>\n    <tr>\n      <th>4</th>\n      <td>2021</td>\n      <td>Interest and Hobbies</td>\n      <td>25651.0</td>\n      <td>14.732810</td>\n      <td>15.98</td>\n      <td>51.00</td>\n      <td>0.45</td>\n      <td>4.32</td>\n    </tr>\n    <tr>\n      <th>5</th>\n      <td>2021</td>\n      <td>Sport</td>\n      <td>8498.0</td>\n      <td>4.880879</td>\n      <td>23.24</td>\n      <td>62.11</td>\n      <td>0.70</td>\n      <td>6.81</td>\n    </tr>\n    <tr>\n      <th>6</th>\n      <td>2021</td>\n      <td>Brand</td>\n      <td>31725.0</td>\n      <td>18.221449</td>\n      <td>16.08</td>\n      <td>50.67</td>\n      <td>0.52</td>\n      <td>4.26</td>\n    </tr>\n    <tr>\n      <th>7</th>\n      <td>2021</td>\n      <td>Music</td>\n      <td>1725.0</td>\n      <td>0.990764</td>\n      <td>19.48</td>\n      <td>51.94</td>\n      <td>0.56</td>\n      <td>3.61</td>\n    </tr>\n    <tr>\n      <th>8</th>\n      <td>2021</td>\n      <td>Video Game</td>\n      <td>2035.0</td>\n      <td>1.168815</td>\n      <td>14.50</td>\n      <td>58.57</td>\n      <td>0.41</td>\n      <td>4.61</td>\n    </tr>\n    <tr>\n      <th>9</th>\n      <td>2021</td>\n      <td>Political</td>\n      <td>1445.0</td>\n      <td>0.829945</td>\n      <td>20.28</td>\n      <td>43.67</td>\n      <td>1.06</td>\n      <td>4.57</td>\n    </tr>\n    <tr>\n      <th>10</th>\n      <td>2021</td>\n      <td>Book</td>\n      <td>327.0</td>\n      <td>0.187814</td>\n      <td>17.43</td>\n      <td>56.88</td>\n      <td>0.31</td>\n      <td>3.02</td>\n    </tr>\n    <tr>\n      <th>11</th>\n      <td>2021</td>\n      <td>Holiday</td>\n      <td>4712.0</td>\n      <td>2.706366</td>\n      <td>19.95</td>\n      <td>59.02</td>\n      <td>0.64</td>\n      <td>6.49</td>\n    </tr>\n    <tr>\n      <th>12</th>\n      <td>2021</td>\n      <td>News</td>\n      <td>7319.0</td>\n      <td>4.203713</td>\n      <td>19.95</td>\n      <td>55.85</td>\n      <td>0.78</td>\n      <td>5.13</td>\n    </tr>\n  </tbody>\n</table>\n</div>"
     },
     "execution_count": 49,
     "metadata": {},
     "output_type": "execute_result"
    }
   ],
   "source": [
    "df_analysis = retweets_likes_info_by_year(tweet_analysis, ['topics_cleaned'], topics_categories)\n",
    "df_analysis"
   ],
   "metadata": {
    "collapsed": false,
    "pycharm": {
     "name": "#%%\n"
    }
   }
  },
  {
   "cell_type": "code",
   "execution_count": 50,
   "outputs": [
    {
     "data": {
      "application/vnd.plotly.v1+json": {
       "data": [
        {
         "marker": {
          "color": "#006D77"
         },
         "name": "Retweet count 2019",
         "text": [
          "16.14",
          "15.45",
          "15.33",
          "15.13",
          "15.07",
          "22.17",
          "16.23",
          "19.5",
          "16.07",
          "14.99",
          "27.88",
          "nan",
          "nan"
         ],
         "textposition": "inside",
         "width": 0.28,
         "x": [
          "Other",
          "Person",
          "TV and Movies",
          "Entities",
          "Interest and Hobbies",
          "Sport",
          "Brand",
          "Music",
          "Video Game",
          "Political",
          "Book",
          "Holiday",
          "News"
         ],
         "y": [
          16.14,
          15.45,
          15.33,
          15.13,
          15.07,
          22.17,
          16.23,
          19.5,
          16.07,
          14.99,
          27.88,
          null,
          null
         ],
         "type": "bar",
         "xaxis": "x",
         "yaxis": "y"
        },
        {
         "marker": {
          "color": "#00B2CA"
         },
         "name": "Likes count 2019",
         "x": [
          "Other",
          "Person",
          "TV and Movies",
          "Entities",
          "Interest and Hobbies",
          "Sport",
          "Brand",
          "Music",
          "Video Game",
          "Political",
          "Book",
          "Holiday",
          "News"
         ],
         "y": [
          46.38,
          44.01,
          51.57,
          50.12,
          48.49,
          59.1,
          48.83,
          52.9,
          55.01,
          31.86,
          57.69,
          100.0,
          null
         ],
         "type": "scatter",
         "xaxis": "x",
         "yaxis": "y2"
        },
        {
         "marker": {
          "color": "#FBD1A2"
         },
         "name": "Retweet count 2020",
         "text": [
          "15.93",
          "15.14",
          "14.71",
          "14.3",
          "15.82",
          "19.48",
          "15.38",
          "18.41",
          "17.08",
          "16.71",
          "15.82",
          "16.83",
          "19.73"
         ],
         "textposition": "inside",
         "width": 0.28,
         "x": [
          "Other",
          "Person",
          "TV and Movies",
          "Entities",
          "Interest and Hobbies",
          "Sport",
          "Brand",
          "Music",
          "Video Game",
          "Political",
          "Book",
          "Holiday",
          "News"
         ],
         "y": [
          15.93,
          15.14,
          14.71,
          14.3,
          15.82,
          19.48,
          15.38,
          18.41,
          17.08,
          16.71,
          15.82,
          16.83,
          19.73
         ],
         "type": "bar",
         "xaxis": "x",
         "yaxis": "y"
        },
        {
         "marker": {
          "color": "#1D4E89"
         },
         "name": "Likes count 2020",
         "x": [
          "Other",
          "Person",
          "TV and Movies",
          "Entities",
          "Interest and Hobbies",
          "Sport",
          "Brand",
          "Music",
          "Video Game",
          "Political",
          "Book",
          "Holiday",
          "News"
         ],
         "y": [
          56.63,
          43.51,
          52.71,
          51.11,
          51.44,
          57.83,
          49.89,
          52.34,
          56.77,
          38.38,
          50.77,
          56.16,
          54.13
         ],
         "type": "scatter",
         "xaxis": "x",
         "yaxis": "y2"
        },
        {
         "marker": {
          "color": "#7DCFB6"
         },
         "name": "Retweet count 2021",
         "text": [
          "14.07",
          "16.22",
          "15.39",
          "15.86",
          "15.98",
          "23.24",
          "16.08",
          "19.48",
          "14.5",
          "20.28",
          "17.43",
          "19.95",
          "19.95"
         ],
         "textposition": "inside",
         "width": 0.28,
         "x": [
          "Other",
          "Person",
          "TV and Movies",
          "Entities",
          "Interest and Hobbies",
          "Sport",
          "Brand",
          "Music",
          "Video Game",
          "Political",
          "Book",
          "Holiday",
          "News"
         ],
         "y": [
          14.07,
          16.22,
          15.39,
          15.86,
          15.98,
          23.24,
          16.08,
          19.48,
          14.5,
          20.28,
          17.43,
          19.95,
          19.95
         ],
         "type": "bar",
         "xaxis": "x",
         "yaxis": "y"
        },
        {
         "marker": {
          "color": "#F79256"
         },
         "name": "Likes count 2021",
         "x": [
          "Other",
          "Person",
          "TV and Movies",
          "Entities",
          "Interest and Hobbies",
          "Sport",
          "Brand",
          "Music",
          "Video Game",
          "Political",
          "Book",
          "Holiday",
          "News"
         ],
         "y": [
          56.77,
          48.47,
          54.74,
          53.32,
          51.0,
          62.11,
          50.67,
          51.94,
          58.57,
          43.67,
          56.88,
          59.02,
          55.85
         ],
         "type": "scatter",
         "xaxis": "x",
         "yaxis": "y2"
        }
       ],
       "layout": {
        "template": {
         "data": {
          "histogram2dcontour": [
           {
            "type": "histogram2dcontour",
            "colorbar": {
             "outlinewidth": 0,
             "ticks": ""
            },
            "colorscale": [
             [
              0.0,
              "#0d0887"
             ],
             [
              0.1111111111111111,
              "#46039f"
             ],
             [
              0.2222222222222222,
              "#7201a8"
             ],
             [
              0.3333333333333333,
              "#9c179e"
             ],
             [
              0.4444444444444444,
              "#bd3786"
             ],
             [
              0.5555555555555556,
              "#d8576b"
             ],
             [
              0.6666666666666666,
              "#ed7953"
             ],
             [
              0.7777777777777778,
              "#fb9f3a"
             ],
             [
              0.8888888888888888,
              "#fdca26"
             ],
             [
              1.0,
              "#f0f921"
             ]
            ]
           }
          ],
          "choropleth": [
           {
            "type": "choropleth",
            "colorbar": {
             "outlinewidth": 0,
             "ticks": ""
            }
           }
          ],
          "histogram2d": [
           {
            "type": "histogram2d",
            "colorbar": {
             "outlinewidth": 0,
             "ticks": ""
            },
            "colorscale": [
             [
              0.0,
              "#0d0887"
             ],
             [
              0.1111111111111111,
              "#46039f"
             ],
             [
              0.2222222222222222,
              "#7201a8"
             ],
             [
              0.3333333333333333,
              "#9c179e"
             ],
             [
              0.4444444444444444,
              "#bd3786"
             ],
             [
              0.5555555555555556,
              "#d8576b"
             ],
             [
              0.6666666666666666,
              "#ed7953"
             ],
             [
              0.7777777777777778,
              "#fb9f3a"
             ],
             [
              0.8888888888888888,
              "#fdca26"
             ],
             [
              1.0,
              "#f0f921"
             ]
            ]
           }
          ],
          "heatmap": [
           {
            "type": "heatmap",
            "colorbar": {
             "outlinewidth": 0,
             "ticks": ""
            },
            "colorscale": [
             [
              0.0,
              "#0d0887"
             ],
             [
              0.1111111111111111,
              "#46039f"
             ],
             [
              0.2222222222222222,
              "#7201a8"
             ],
             [
              0.3333333333333333,
              "#9c179e"
             ],
             [
              0.4444444444444444,
              "#bd3786"
             ],
             [
              0.5555555555555556,
              "#d8576b"
             ],
             [
              0.6666666666666666,
              "#ed7953"
             ],
             [
              0.7777777777777778,
              "#fb9f3a"
             ],
             [
              0.8888888888888888,
              "#fdca26"
             ],
             [
              1.0,
              "#f0f921"
             ]
            ]
           }
          ],
          "heatmapgl": [
           {
            "type": "heatmapgl",
            "colorbar": {
             "outlinewidth": 0,
             "ticks": ""
            },
            "colorscale": [
             [
              0.0,
              "#0d0887"
             ],
             [
              0.1111111111111111,
              "#46039f"
             ],
             [
              0.2222222222222222,
              "#7201a8"
             ],
             [
              0.3333333333333333,
              "#9c179e"
             ],
             [
              0.4444444444444444,
              "#bd3786"
             ],
             [
              0.5555555555555556,
              "#d8576b"
             ],
             [
              0.6666666666666666,
              "#ed7953"
             ],
             [
              0.7777777777777778,
              "#fb9f3a"
             ],
             [
              0.8888888888888888,
              "#fdca26"
             ],
             [
              1.0,
              "#f0f921"
             ]
            ]
           }
          ],
          "contourcarpet": [
           {
            "type": "contourcarpet",
            "colorbar": {
             "outlinewidth": 0,
             "ticks": ""
            }
           }
          ],
          "contour": [
           {
            "type": "contour",
            "colorbar": {
             "outlinewidth": 0,
             "ticks": ""
            },
            "colorscale": [
             [
              0.0,
              "#0d0887"
             ],
             [
              0.1111111111111111,
              "#46039f"
             ],
             [
              0.2222222222222222,
              "#7201a8"
             ],
             [
              0.3333333333333333,
              "#9c179e"
             ],
             [
              0.4444444444444444,
              "#bd3786"
             ],
             [
              0.5555555555555556,
              "#d8576b"
             ],
             [
              0.6666666666666666,
              "#ed7953"
             ],
             [
              0.7777777777777778,
              "#fb9f3a"
             ],
             [
              0.8888888888888888,
              "#fdca26"
             ],
             [
              1.0,
              "#f0f921"
             ]
            ]
           }
          ],
          "surface": [
           {
            "type": "surface",
            "colorbar": {
             "outlinewidth": 0,
             "ticks": ""
            },
            "colorscale": [
             [
              0.0,
              "#0d0887"
             ],
             [
              0.1111111111111111,
              "#46039f"
             ],
             [
              0.2222222222222222,
              "#7201a8"
             ],
             [
              0.3333333333333333,
              "#9c179e"
             ],
             [
              0.4444444444444444,
              "#bd3786"
             ],
             [
              0.5555555555555556,
              "#d8576b"
             ],
             [
              0.6666666666666666,
              "#ed7953"
             ],
             [
              0.7777777777777778,
              "#fb9f3a"
             ],
             [
              0.8888888888888888,
              "#fdca26"
             ],
             [
              1.0,
              "#f0f921"
             ]
            ]
           }
          ],
          "mesh3d": [
           {
            "type": "mesh3d",
            "colorbar": {
             "outlinewidth": 0,
             "ticks": ""
            }
           }
          ],
          "scatter": [
           {
            "fillpattern": {
             "fillmode": "overlay",
             "size": 10,
             "solidity": 0.2
            },
            "type": "scatter"
           }
          ],
          "parcoords": [
           {
            "type": "parcoords",
            "line": {
             "colorbar": {
              "outlinewidth": 0,
              "ticks": ""
             }
            }
           }
          ],
          "scatterpolargl": [
           {
            "type": "scatterpolargl",
            "marker": {
             "colorbar": {
              "outlinewidth": 0,
              "ticks": ""
             }
            }
           }
          ],
          "bar": [
           {
            "error_x": {
             "color": "#2a3f5f"
            },
            "error_y": {
             "color": "#2a3f5f"
            },
            "marker": {
             "line": {
              "color": "#E5ECF6",
              "width": 0.5
             },
             "pattern": {
              "fillmode": "overlay",
              "size": 10,
              "solidity": 0.2
             }
            },
            "type": "bar"
           }
          ],
          "scattergeo": [
           {
            "type": "scattergeo",
            "marker": {
             "colorbar": {
              "outlinewidth": 0,
              "ticks": ""
             }
            }
           }
          ],
          "scatterpolar": [
           {
            "type": "scatterpolar",
            "marker": {
             "colorbar": {
              "outlinewidth": 0,
              "ticks": ""
             }
            }
           }
          ],
          "histogram": [
           {
            "marker": {
             "pattern": {
              "fillmode": "overlay",
              "size": 10,
              "solidity": 0.2
             }
            },
            "type": "histogram"
           }
          ],
          "scattergl": [
           {
            "type": "scattergl",
            "marker": {
             "colorbar": {
              "outlinewidth": 0,
              "ticks": ""
             }
            }
           }
          ],
          "scatter3d": [
           {
            "type": "scatter3d",
            "line": {
             "colorbar": {
              "outlinewidth": 0,
              "ticks": ""
             }
            },
            "marker": {
             "colorbar": {
              "outlinewidth": 0,
              "ticks": ""
             }
            }
           }
          ],
          "scattermapbox": [
           {
            "type": "scattermapbox",
            "marker": {
             "colorbar": {
              "outlinewidth": 0,
              "ticks": ""
             }
            }
           }
          ],
          "scatterternary": [
           {
            "type": "scatterternary",
            "marker": {
             "colorbar": {
              "outlinewidth": 0,
              "ticks": ""
             }
            }
           }
          ],
          "scattercarpet": [
           {
            "type": "scattercarpet",
            "marker": {
             "colorbar": {
              "outlinewidth": 0,
              "ticks": ""
             }
            }
           }
          ],
          "carpet": [
           {
            "aaxis": {
             "endlinecolor": "#2a3f5f",
             "gridcolor": "white",
             "linecolor": "white",
             "minorgridcolor": "white",
             "startlinecolor": "#2a3f5f"
            },
            "baxis": {
             "endlinecolor": "#2a3f5f",
             "gridcolor": "white",
             "linecolor": "white",
             "minorgridcolor": "white",
             "startlinecolor": "#2a3f5f"
            },
            "type": "carpet"
           }
          ],
          "table": [
           {
            "cells": {
             "fill": {
              "color": "#EBF0F8"
             },
             "line": {
              "color": "white"
             }
            },
            "header": {
             "fill": {
              "color": "#C8D4E3"
             },
             "line": {
              "color": "white"
             }
            },
            "type": "table"
           }
          ],
          "barpolar": [
           {
            "marker": {
             "line": {
              "color": "#E5ECF6",
              "width": 0.5
             },
             "pattern": {
              "fillmode": "overlay",
              "size": 10,
              "solidity": 0.2
             }
            },
            "type": "barpolar"
           }
          ],
          "pie": [
           {
            "automargin": true,
            "type": "pie"
           }
          ]
         },
         "layout": {
          "autotypenumbers": "strict",
          "colorway": [
           "#636efa",
           "#EF553B",
           "#00cc96",
           "#ab63fa",
           "#FFA15A",
           "#19d3f3",
           "#FF6692",
           "#B6E880",
           "#FF97FF",
           "#FECB52"
          ],
          "font": {
           "color": "#2a3f5f"
          },
          "hovermode": "closest",
          "hoverlabel": {
           "align": "left"
          },
          "paper_bgcolor": "white",
          "plot_bgcolor": "#E5ECF6",
          "polar": {
           "bgcolor": "#E5ECF6",
           "angularaxis": {
            "gridcolor": "white",
            "linecolor": "white",
            "ticks": ""
           },
           "radialaxis": {
            "gridcolor": "white",
            "linecolor": "white",
            "ticks": ""
           }
          },
          "ternary": {
           "bgcolor": "#E5ECF6",
           "aaxis": {
            "gridcolor": "white",
            "linecolor": "white",
            "ticks": ""
           },
           "baxis": {
            "gridcolor": "white",
            "linecolor": "white",
            "ticks": ""
           },
           "caxis": {
            "gridcolor": "white",
            "linecolor": "white",
            "ticks": ""
           }
          },
          "coloraxis": {
           "colorbar": {
            "outlinewidth": 0,
            "ticks": ""
           }
          },
          "colorscale": {
           "sequential": [
            [
             0.0,
             "#0d0887"
            ],
            [
             0.1111111111111111,
             "#46039f"
            ],
            [
             0.2222222222222222,
             "#7201a8"
            ],
            [
             0.3333333333333333,
             "#9c179e"
            ],
            [
             0.4444444444444444,
             "#bd3786"
            ],
            [
             0.5555555555555556,
             "#d8576b"
            ],
            [
             0.6666666666666666,
             "#ed7953"
            ],
            [
             0.7777777777777778,
             "#fb9f3a"
            ],
            [
             0.8888888888888888,
             "#fdca26"
            ],
            [
             1.0,
             "#f0f921"
            ]
           ],
           "sequentialminus": [
            [
             0.0,
             "#0d0887"
            ],
            [
             0.1111111111111111,
             "#46039f"
            ],
            [
             0.2222222222222222,
             "#7201a8"
            ],
            [
             0.3333333333333333,
             "#9c179e"
            ],
            [
             0.4444444444444444,
             "#bd3786"
            ],
            [
             0.5555555555555556,
             "#d8576b"
            ],
            [
             0.6666666666666666,
             "#ed7953"
            ],
            [
             0.7777777777777778,
             "#fb9f3a"
            ],
            [
             0.8888888888888888,
             "#fdca26"
            ],
            [
             1.0,
             "#f0f921"
            ]
           ],
           "diverging": [
            [
             0,
             "#8e0152"
            ],
            [
             0.1,
             "#c51b7d"
            ],
            [
             0.2,
             "#de77ae"
            ],
            [
             0.3,
             "#f1b6da"
            ],
            [
             0.4,
             "#fde0ef"
            ],
            [
             0.5,
             "#f7f7f7"
            ],
            [
             0.6,
             "#e6f5d0"
            ],
            [
             0.7,
             "#b8e186"
            ],
            [
             0.8,
             "#7fbc41"
            ],
            [
             0.9,
             "#4d9221"
            ],
            [
             1,
             "#276419"
            ]
           ]
          },
          "xaxis": {
           "gridcolor": "white",
           "linecolor": "white",
           "ticks": "",
           "title": {
            "standoff": 15
           },
           "zerolinecolor": "white",
           "automargin": true,
           "zerolinewidth": 2
          },
          "yaxis": {
           "gridcolor": "white",
           "linecolor": "white",
           "ticks": "",
           "title": {
            "standoff": 15
           },
           "zerolinecolor": "white",
           "automargin": true,
           "zerolinewidth": 2
          },
          "scene": {
           "xaxis": {
            "backgroundcolor": "#E5ECF6",
            "gridcolor": "white",
            "linecolor": "white",
            "showbackground": true,
            "ticks": "",
            "zerolinecolor": "white",
            "gridwidth": 2
           },
           "yaxis": {
            "backgroundcolor": "#E5ECF6",
            "gridcolor": "white",
            "linecolor": "white",
            "showbackground": true,
            "ticks": "",
            "zerolinecolor": "white",
            "gridwidth": 2
           },
           "zaxis": {
            "backgroundcolor": "#E5ECF6",
            "gridcolor": "white",
            "linecolor": "white",
            "showbackground": true,
            "ticks": "",
            "zerolinecolor": "white",
            "gridwidth": 2
           }
          },
          "shapedefaults": {
           "line": {
            "color": "#2a3f5f"
           }
          },
          "annotationdefaults": {
           "arrowcolor": "#2a3f5f",
           "arrowhead": 0,
           "arrowwidth": 1
          },
          "geo": {
           "bgcolor": "white",
           "landcolor": "#E5ECF6",
           "subunitcolor": "white",
           "showland": true,
           "showlakes": true,
           "lakecolor": "white"
          },
          "title": {
           "x": 0.05
          },
          "mapbox": {
           "style": "light"
          }
         }
        },
        "xaxis": {
         "anchor": "y",
         "domain": [
          0.0,
          0.94
         ],
         "title": {
          "text": "Topics"
         }
        },
        "yaxis": {
         "anchor": "x",
         "domain": [
          0.0,
          1.0
         ],
         "title": {
          "text": "Retweet count"
         }
        },
        "yaxis2": {
         "anchor": "x",
         "overlaying": "y",
         "side": "right",
         "title": {
          "text": "Likes count"
         }
        },
        "title": {
         "text": "Percentage of retweets and likes by topic"
        },
        "width": 900,
        "height": 500
       },
       "config": {
        "plotlyServerURL": "https://plot.ly"
       }
      },
      "text/html": "<div>                            <div id=\"f75b386a-257a-4dc2-9e3d-874de036f366\" class=\"plotly-graph-div\" style=\"height:500px; width:900px;\"></div>            <script type=\"text/javascript\">                require([\"plotly\"], function(Plotly) {                    window.PLOTLYENV=window.PLOTLYENV || {};                                    if (document.getElementById(\"f75b386a-257a-4dc2-9e3d-874de036f366\")) {                    Plotly.newPlot(                        \"f75b386a-257a-4dc2-9e3d-874de036f366\",                        [{\"marker\":{\"color\":\"#006D77\"},\"name\":\"Retweet count 2019\",\"text\":[\"16.14\",\"15.45\",\"15.33\",\"15.13\",\"15.07\",\"22.17\",\"16.23\",\"19.5\",\"16.07\",\"14.99\",\"27.88\",\"nan\",\"nan\"],\"textposition\":\"inside\",\"width\":0.28,\"x\":[\"Other\",\"Person\",\"TV and Movies\",\"Entities\",\"Interest and Hobbies\",\"Sport\",\"Brand\",\"Music\",\"Video Game\",\"Political\",\"Book\",\"Holiday\",\"News\"],\"y\":[16.14,15.45,15.33,15.13,15.07,22.17,16.23,19.5,16.07,14.99,27.88,null,null],\"type\":\"bar\",\"xaxis\":\"x\",\"yaxis\":\"y\"},{\"marker\":{\"color\":\"#00B2CA\"},\"name\":\"Likes count 2019\",\"x\":[\"Other\",\"Person\",\"TV and Movies\",\"Entities\",\"Interest and Hobbies\",\"Sport\",\"Brand\",\"Music\",\"Video Game\",\"Political\",\"Book\",\"Holiday\",\"News\"],\"y\":[46.38,44.01,51.57,50.12,48.49,59.1,48.83,52.9,55.01,31.86,57.69,100.0,null],\"type\":\"scatter\",\"xaxis\":\"x\",\"yaxis\":\"y2\"},{\"marker\":{\"color\":\"#FBD1A2\"},\"name\":\"Retweet count 2020\",\"text\":[\"15.93\",\"15.14\",\"14.71\",\"14.3\",\"15.82\",\"19.48\",\"15.38\",\"18.41\",\"17.08\",\"16.71\",\"15.82\",\"16.83\",\"19.73\"],\"textposition\":\"inside\",\"width\":0.28,\"x\":[\"Other\",\"Person\",\"TV and Movies\",\"Entities\",\"Interest and Hobbies\",\"Sport\",\"Brand\",\"Music\",\"Video Game\",\"Political\",\"Book\",\"Holiday\",\"News\"],\"y\":[15.93,15.14,14.71,14.3,15.82,19.48,15.38,18.41,17.08,16.71,15.82,16.83,19.73],\"type\":\"bar\",\"xaxis\":\"x\",\"yaxis\":\"y\"},{\"marker\":{\"color\":\"#1D4E89\"},\"name\":\"Likes count 2020\",\"x\":[\"Other\",\"Person\",\"TV and Movies\",\"Entities\",\"Interest and Hobbies\",\"Sport\",\"Brand\",\"Music\",\"Video Game\",\"Political\",\"Book\",\"Holiday\",\"News\"],\"y\":[56.63,43.51,52.71,51.11,51.44,57.83,49.89,52.34,56.77,38.38,50.77,56.16,54.13],\"type\":\"scatter\",\"xaxis\":\"x\",\"yaxis\":\"y2\"},{\"marker\":{\"color\":\"#7DCFB6\"},\"name\":\"Retweet count 2021\",\"text\":[\"14.07\",\"16.22\",\"15.39\",\"15.86\",\"15.98\",\"23.24\",\"16.08\",\"19.48\",\"14.5\",\"20.28\",\"17.43\",\"19.95\",\"19.95\"],\"textposition\":\"inside\",\"width\":0.28,\"x\":[\"Other\",\"Person\",\"TV and Movies\",\"Entities\",\"Interest and Hobbies\",\"Sport\",\"Brand\",\"Music\",\"Video Game\",\"Political\",\"Book\",\"Holiday\",\"News\"],\"y\":[14.07,16.22,15.39,15.86,15.98,23.24,16.08,19.48,14.5,20.28,17.43,19.95,19.95],\"type\":\"bar\",\"xaxis\":\"x\",\"yaxis\":\"y\"},{\"marker\":{\"color\":\"#F79256\"},\"name\":\"Likes count 2021\",\"x\":[\"Other\",\"Person\",\"TV and Movies\",\"Entities\",\"Interest and Hobbies\",\"Sport\",\"Brand\",\"Music\",\"Video Game\",\"Political\",\"Book\",\"Holiday\",\"News\"],\"y\":[56.77,48.47,54.74,53.32,51.0,62.11,50.67,51.94,58.57,43.67,56.88,59.02,55.85],\"type\":\"scatter\",\"xaxis\":\"x\",\"yaxis\":\"y2\"}],                        {\"template\":{\"data\":{\"histogram2dcontour\":[{\"type\":\"histogram2dcontour\",\"colorbar\":{\"outlinewidth\":0,\"ticks\":\"\"},\"colorscale\":[[0.0,\"#0d0887\"],[0.1111111111111111,\"#46039f\"],[0.2222222222222222,\"#7201a8\"],[0.3333333333333333,\"#9c179e\"],[0.4444444444444444,\"#bd3786\"],[0.5555555555555556,\"#d8576b\"],[0.6666666666666666,\"#ed7953\"],[0.7777777777777778,\"#fb9f3a\"],[0.8888888888888888,\"#fdca26\"],[1.0,\"#f0f921\"]]}],\"choropleth\":[{\"type\":\"choropleth\",\"colorbar\":{\"outlinewidth\":0,\"ticks\":\"\"}}],\"histogram2d\":[{\"type\":\"histogram2d\",\"colorbar\":{\"outlinewidth\":0,\"ticks\":\"\"},\"colorscale\":[[0.0,\"#0d0887\"],[0.1111111111111111,\"#46039f\"],[0.2222222222222222,\"#7201a8\"],[0.3333333333333333,\"#9c179e\"],[0.4444444444444444,\"#bd3786\"],[0.5555555555555556,\"#d8576b\"],[0.6666666666666666,\"#ed7953\"],[0.7777777777777778,\"#fb9f3a\"],[0.8888888888888888,\"#fdca26\"],[1.0,\"#f0f921\"]]}],\"heatmap\":[{\"type\":\"heatmap\",\"colorbar\":{\"outlinewidth\":0,\"ticks\":\"\"},\"colorscale\":[[0.0,\"#0d0887\"],[0.1111111111111111,\"#46039f\"],[0.2222222222222222,\"#7201a8\"],[0.3333333333333333,\"#9c179e\"],[0.4444444444444444,\"#bd3786\"],[0.5555555555555556,\"#d8576b\"],[0.6666666666666666,\"#ed7953\"],[0.7777777777777778,\"#fb9f3a\"],[0.8888888888888888,\"#fdca26\"],[1.0,\"#f0f921\"]]}],\"heatmapgl\":[{\"type\":\"heatmapgl\",\"colorbar\":{\"outlinewidth\":0,\"ticks\":\"\"},\"colorscale\":[[0.0,\"#0d0887\"],[0.1111111111111111,\"#46039f\"],[0.2222222222222222,\"#7201a8\"],[0.3333333333333333,\"#9c179e\"],[0.4444444444444444,\"#bd3786\"],[0.5555555555555556,\"#d8576b\"],[0.6666666666666666,\"#ed7953\"],[0.7777777777777778,\"#fb9f3a\"],[0.8888888888888888,\"#fdca26\"],[1.0,\"#f0f921\"]]}],\"contourcarpet\":[{\"type\":\"contourcarpet\",\"colorbar\":{\"outlinewidth\":0,\"ticks\":\"\"}}],\"contour\":[{\"type\":\"contour\",\"colorbar\":{\"outlinewidth\":0,\"ticks\":\"\"},\"colorscale\":[[0.0,\"#0d0887\"],[0.1111111111111111,\"#46039f\"],[0.2222222222222222,\"#7201a8\"],[0.3333333333333333,\"#9c179e\"],[0.4444444444444444,\"#bd3786\"],[0.5555555555555556,\"#d8576b\"],[0.6666666666666666,\"#ed7953\"],[0.7777777777777778,\"#fb9f3a\"],[0.8888888888888888,\"#fdca26\"],[1.0,\"#f0f921\"]]}],\"surface\":[{\"type\":\"surface\",\"colorbar\":{\"outlinewidth\":0,\"ticks\":\"\"},\"colorscale\":[[0.0,\"#0d0887\"],[0.1111111111111111,\"#46039f\"],[0.2222222222222222,\"#7201a8\"],[0.3333333333333333,\"#9c179e\"],[0.4444444444444444,\"#bd3786\"],[0.5555555555555556,\"#d8576b\"],[0.6666666666666666,\"#ed7953\"],[0.7777777777777778,\"#fb9f3a\"],[0.8888888888888888,\"#fdca26\"],[1.0,\"#f0f921\"]]}],\"mesh3d\":[{\"type\":\"mesh3d\",\"colorbar\":{\"outlinewidth\":0,\"ticks\":\"\"}}],\"scatter\":[{\"fillpattern\":{\"fillmode\":\"overlay\",\"size\":10,\"solidity\":0.2},\"type\":\"scatter\"}],\"parcoords\":[{\"type\":\"parcoords\",\"line\":{\"colorbar\":{\"outlinewidth\":0,\"ticks\":\"\"}}}],\"scatterpolargl\":[{\"type\":\"scatterpolargl\",\"marker\":{\"colorbar\":{\"outlinewidth\":0,\"ticks\":\"\"}}}],\"bar\":[{\"error_x\":{\"color\":\"#2a3f5f\"},\"error_y\":{\"color\":\"#2a3f5f\"},\"marker\":{\"line\":{\"color\":\"#E5ECF6\",\"width\":0.5},\"pattern\":{\"fillmode\":\"overlay\",\"size\":10,\"solidity\":0.2}},\"type\":\"bar\"}],\"scattergeo\":[{\"type\":\"scattergeo\",\"marker\":{\"colorbar\":{\"outlinewidth\":0,\"ticks\":\"\"}}}],\"scatterpolar\":[{\"type\":\"scatterpolar\",\"marker\":{\"colorbar\":{\"outlinewidth\":0,\"ticks\":\"\"}}}],\"histogram\":[{\"marker\":{\"pattern\":{\"fillmode\":\"overlay\",\"size\":10,\"solidity\":0.2}},\"type\":\"histogram\"}],\"scattergl\":[{\"type\":\"scattergl\",\"marker\":{\"colorbar\":{\"outlinewidth\":0,\"ticks\":\"\"}}}],\"scatter3d\":[{\"type\":\"scatter3d\",\"line\":{\"colorbar\":{\"outlinewidth\":0,\"ticks\":\"\"}},\"marker\":{\"colorbar\":{\"outlinewidth\":0,\"ticks\":\"\"}}}],\"scattermapbox\":[{\"type\":\"scattermapbox\",\"marker\":{\"colorbar\":{\"outlinewidth\":0,\"ticks\":\"\"}}}],\"scatterternary\":[{\"type\":\"scatterternary\",\"marker\":{\"colorbar\":{\"outlinewidth\":0,\"ticks\":\"\"}}}],\"scattercarpet\":[{\"type\":\"scattercarpet\",\"marker\":{\"colorbar\":{\"outlinewidth\":0,\"ticks\":\"\"}}}],\"carpet\":[{\"aaxis\":{\"endlinecolor\":\"#2a3f5f\",\"gridcolor\":\"white\",\"linecolor\":\"white\",\"minorgridcolor\":\"white\",\"startlinecolor\":\"#2a3f5f\"},\"baxis\":{\"endlinecolor\":\"#2a3f5f\",\"gridcolor\":\"white\",\"linecolor\":\"white\",\"minorgridcolor\":\"white\",\"startlinecolor\":\"#2a3f5f\"},\"type\":\"carpet\"}],\"table\":[{\"cells\":{\"fill\":{\"color\":\"#EBF0F8\"},\"line\":{\"color\":\"white\"}},\"header\":{\"fill\":{\"color\":\"#C8D4E3\"},\"line\":{\"color\":\"white\"}},\"type\":\"table\"}],\"barpolar\":[{\"marker\":{\"line\":{\"color\":\"#E5ECF6\",\"width\":0.5},\"pattern\":{\"fillmode\":\"overlay\",\"size\":10,\"solidity\":0.2}},\"type\":\"barpolar\"}],\"pie\":[{\"automargin\":true,\"type\":\"pie\"}]},\"layout\":{\"autotypenumbers\":\"strict\",\"colorway\":[\"#636efa\",\"#EF553B\",\"#00cc96\",\"#ab63fa\",\"#FFA15A\",\"#19d3f3\",\"#FF6692\",\"#B6E880\",\"#FF97FF\",\"#FECB52\"],\"font\":{\"color\":\"#2a3f5f\"},\"hovermode\":\"closest\",\"hoverlabel\":{\"align\":\"left\"},\"paper_bgcolor\":\"white\",\"plot_bgcolor\":\"#E5ECF6\",\"polar\":{\"bgcolor\":\"#E5ECF6\",\"angularaxis\":{\"gridcolor\":\"white\",\"linecolor\":\"white\",\"ticks\":\"\"},\"radialaxis\":{\"gridcolor\":\"white\",\"linecolor\":\"white\",\"ticks\":\"\"}},\"ternary\":{\"bgcolor\":\"#E5ECF6\",\"aaxis\":{\"gridcolor\":\"white\",\"linecolor\":\"white\",\"ticks\":\"\"},\"baxis\":{\"gridcolor\":\"white\",\"linecolor\":\"white\",\"ticks\":\"\"},\"caxis\":{\"gridcolor\":\"white\",\"linecolor\":\"white\",\"ticks\":\"\"}},\"coloraxis\":{\"colorbar\":{\"outlinewidth\":0,\"ticks\":\"\"}},\"colorscale\":{\"sequential\":[[0.0,\"#0d0887\"],[0.1111111111111111,\"#46039f\"],[0.2222222222222222,\"#7201a8\"],[0.3333333333333333,\"#9c179e\"],[0.4444444444444444,\"#bd3786\"],[0.5555555555555556,\"#d8576b\"],[0.6666666666666666,\"#ed7953\"],[0.7777777777777778,\"#fb9f3a\"],[0.8888888888888888,\"#fdca26\"],[1.0,\"#f0f921\"]],\"sequentialminus\":[[0.0,\"#0d0887\"],[0.1111111111111111,\"#46039f\"],[0.2222222222222222,\"#7201a8\"],[0.3333333333333333,\"#9c179e\"],[0.4444444444444444,\"#bd3786\"],[0.5555555555555556,\"#d8576b\"],[0.6666666666666666,\"#ed7953\"],[0.7777777777777778,\"#fb9f3a\"],[0.8888888888888888,\"#fdca26\"],[1.0,\"#f0f921\"]],\"diverging\":[[0,\"#8e0152\"],[0.1,\"#c51b7d\"],[0.2,\"#de77ae\"],[0.3,\"#f1b6da\"],[0.4,\"#fde0ef\"],[0.5,\"#f7f7f7\"],[0.6,\"#e6f5d0\"],[0.7,\"#b8e186\"],[0.8,\"#7fbc41\"],[0.9,\"#4d9221\"],[1,\"#276419\"]]},\"xaxis\":{\"gridcolor\":\"white\",\"linecolor\":\"white\",\"ticks\":\"\",\"title\":{\"standoff\":15},\"zerolinecolor\":\"white\",\"automargin\":true,\"zerolinewidth\":2},\"yaxis\":{\"gridcolor\":\"white\",\"linecolor\":\"white\",\"ticks\":\"\",\"title\":{\"standoff\":15},\"zerolinecolor\":\"white\",\"automargin\":true,\"zerolinewidth\":2},\"scene\":{\"xaxis\":{\"backgroundcolor\":\"#E5ECF6\",\"gridcolor\":\"white\",\"linecolor\":\"white\",\"showbackground\":true,\"ticks\":\"\",\"zerolinecolor\":\"white\",\"gridwidth\":2},\"yaxis\":{\"backgroundcolor\":\"#E5ECF6\",\"gridcolor\":\"white\",\"linecolor\":\"white\",\"showbackground\":true,\"ticks\":\"\",\"zerolinecolor\":\"white\",\"gridwidth\":2},\"zaxis\":{\"backgroundcolor\":\"#E5ECF6\",\"gridcolor\":\"white\",\"linecolor\":\"white\",\"showbackground\":true,\"ticks\":\"\",\"zerolinecolor\":\"white\",\"gridwidth\":2}},\"shapedefaults\":{\"line\":{\"color\":\"#2a3f5f\"}},\"annotationdefaults\":{\"arrowcolor\":\"#2a3f5f\",\"arrowhead\":0,\"arrowwidth\":1},\"geo\":{\"bgcolor\":\"white\",\"landcolor\":\"#E5ECF6\",\"subunitcolor\":\"white\",\"showland\":true,\"showlakes\":true,\"lakecolor\":\"white\"},\"title\":{\"x\":0.05},\"mapbox\":{\"style\":\"light\"}}},\"xaxis\":{\"anchor\":\"y\",\"domain\":[0.0,0.94],\"title\":{\"text\":\"Topics\"}},\"yaxis\":{\"anchor\":\"x\",\"domain\":[0.0,1.0],\"title\":{\"text\":\"Retweet count\"}},\"yaxis2\":{\"anchor\":\"x\",\"overlaying\":\"y\",\"side\":\"right\",\"title\":{\"text\":\"Likes count\"}},\"title\":{\"text\":\"Percentage of retweets and likes by topic\"},\"width\":900,\"height\":500},                        {\"responsive\": true}                    ).then(function(){\n                            \nvar gd = document.getElementById('f75b386a-257a-4dc2-9e3d-874de036f366');\nvar x = new MutationObserver(function (mutations, observer) {{\n        var display = window.getComputedStyle(gd).display;\n        if (!display || display === 'none') {{\n            console.log([gd, 'removed!']);\n            Plotly.purge(gd);\n            observer.disconnect();\n        }}\n}});\n\n// Listen for the removal of the full notebook cells\nvar notebookContainer = gd.closest('#notebook-container');\nif (notebookContainer) {{\n    x.observe(notebookContainer, {childList: true});\n}}\n\n// Listen for the clearing of the current output cell\nvar outputEl = gd.closest('.output');\nif (outputEl) {{\n    x.observe(outputEl, {childList: true});\n}}\n\n                        })                };                });            </script>        </div>"
     },
     "metadata": {},
     "output_type": "display_data"
    },
    {
     "data": {
      "application/vnd.plotly.v1+json": {
       "data": [
        {
         "marker": {
          "color": "#006D77"
         },
         "name": "Retweets mean 2019",
         "text": [
          "0.52",
          "0.58",
          "0.47",
          "0.43",
          "0.42",
          "0.66",
          "0.5",
          "0.47",
          "0.4",
          "1.05",
          "0.87",
          "0.0",
          "nan"
         ],
         "textposition": "inside",
         "width": 0.28,
         "x": [
          "Other",
          "Person",
          "TV and Movies",
          "Entities",
          "Interest and Hobbies",
          "Sport",
          "Brand",
          "Music",
          "Video Game",
          "Political",
          "Book",
          "Holiday",
          "News"
         ],
         "y": [
          0.52,
          0.58,
          0.47,
          0.43,
          0.42,
          0.66,
          0.5,
          0.47,
          0.4,
          1.05,
          0.87,
          0.0,
          null
         ],
         "type": "bar",
         "xaxis": "x",
         "yaxis": "y"
        },
        {
         "marker": {
          "color": "#00B2CA"
         },
         "name": "Likes mean 2019",
         "x": [
          "Other",
          "Person",
          "TV and Movies",
          "Entities",
          "Interest and Hobbies",
          "Sport",
          "Brand",
          "Music",
          "Video Game",
          "Political",
          "Book",
          "Holiday",
          "News"
         ],
         "y": [
          3.3,
          3.3,
          3.91,
          3.21,
          3.15,
          5.54,
          3.17,
          2.94,
          3.83,
          2.02,
          5.25,
          13.0,
          null
         ],
         "type": "scatter",
         "xaxis": "x",
         "yaxis": "y2"
        },
        {
         "marker": {
          "color": "#FBD1A2"
         },
         "name": "Retweets mean 2020",
         "text": [
          "0.39",
          "0.55",
          "0.42",
          "0.4",
          "0.44",
          "0.64",
          "0.48",
          "0.59",
          "0.4",
          "0.55",
          "0.35",
          "0.43",
          "0.67"
         ],
         "textposition": "inside",
         "width": 0.28,
         "x": [
          "Other",
          "Person",
          "TV and Movies",
          "Entities",
          "Interest and Hobbies",
          "Sport",
          "Brand",
          "Music",
          "Video Game",
          "Political",
          "Book",
          "Holiday",
          "News"
         ],
         "y": [
          0.39,
          0.55,
          0.42,
          0.4,
          0.44,
          0.64,
          0.48,
          0.59,
          0.4,
          0.55,
          0.35,
          0.43,
          0.67
         ],
         "type": "bar",
         "xaxis": "x",
         "yaxis": "y"
        },
        {
         "marker": {
          "color": "#1D4E89"
         },
         "name": "Likes mean 2020",
         "x": [
          "Other",
          "Person",
          "TV and Movies",
          "Entities",
          "Interest and Hobbies",
          "Sport",
          "Brand",
          "Music",
          "Video Game",
          "Political",
          "Book",
          "Holiday",
          "News"
         ],
         "y": [
          3.85,
          3.26,
          4.11,
          3.44,
          3.78,
          5.78,
          3.53,
          3.27,
          3.46,
          2.28,
          3.11,
          4.4,
          4.05
         ],
         "type": "scatter",
         "xaxis": "x",
         "yaxis": "y2"
        },
        {
         "marker": {
          "color": "#7DCFB6"
         },
         "name": "Retweets mean 2021",
         "text": [
          "0.43",
          "0.59",
          "0.46",
          "0.45",
          "0.45",
          "0.7",
          "0.52",
          "0.56",
          "0.41",
          "1.06",
          "0.31",
          "0.64",
          "0.78"
         ],
         "textposition": "inside",
         "width": 0.28,
         "x": [
          "Other",
          "Person",
          "TV and Movies",
          "Entities",
          "Interest and Hobbies",
          "Sport",
          "Brand",
          "Music",
          "Video Game",
          "Political",
          "Book",
          "Holiday",
          "News"
         ],
         "y": [
          0.43,
          0.59,
          0.46,
          0.45,
          0.45,
          0.7,
          0.52,
          0.56,
          0.41,
          1.06,
          0.31,
          0.64,
          0.78
         ],
         "type": "bar",
         "xaxis": "x",
         "yaxis": "y"
        },
        {
         "marker": {
          "color": "#F79256"
         },
         "name": "Likes mean 2021",
         "x": [
          "Other",
          "Person",
          "TV and Movies",
          "Entities",
          "Interest and Hobbies",
          "Sport",
          "Brand",
          "Music",
          "Video Game",
          "Political",
          "Book",
          "Holiday",
          "News"
         ],
         "y": [
          4.55,
          4.23,
          5.38,
          4.42,
          4.32,
          6.81,
          4.26,
          3.61,
          4.61,
          4.57,
          3.02,
          6.49,
          5.13
         ],
         "type": "scatter",
         "xaxis": "x",
         "yaxis": "y2"
        }
       ],
       "layout": {
        "template": {
         "data": {
          "histogram2dcontour": [
           {
            "type": "histogram2dcontour",
            "colorbar": {
             "outlinewidth": 0,
             "ticks": ""
            },
            "colorscale": [
             [
              0.0,
              "#0d0887"
             ],
             [
              0.1111111111111111,
              "#46039f"
             ],
             [
              0.2222222222222222,
              "#7201a8"
             ],
             [
              0.3333333333333333,
              "#9c179e"
             ],
             [
              0.4444444444444444,
              "#bd3786"
             ],
             [
              0.5555555555555556,
              "#d8576b"
             ],
             [
              0.6666666666666666,
              "#ed7953"
             ],
             [
              0.7777777777777778,
              "#fb9f3a"
             ],
             [
              0.8888888888888888,
              "#fdca26"
             ],
             [
              1.0,
              "#f0f921"
             ]
            ]
           }
          ],
          "choropleth": [
           {
            "type": "choropleth",
            "colorbar": {
             "outlinewidth": 0,
             "ticks": ""
            }
           }
          ],
          "histogram2d": [
           {
            "type": "histogram2d",
            "colorbar": {
             "outlinewidth": 0,
             "ticks": ""
            },
            "colorscale": [
             [
              0.0,
              "#0d0887"
             ],
             [
              0.1111111111111111,
              "#46039f"
             ],
             [
              0.2222222222222222,
              "#7201a8"
             ],
             [
              0.3333333333333333,
              "#9c179e"
             ],
             [
              0.4444444444444444,
              "#bd3786"
             ],
             [
              0.5555555555555556,
              "#d8576b"
             ],
             [
              0.6666666666666666,
              "#ed7953"
             ],
             [
              0.7777777777777778,
              "#fb9f3a"
             ],
             [
              0.8888888888888888,
              "#fdca26"
             ],
             [
              1.0,
              "#f0f921"
             ]
            ]
           }
          ],
          "heatmap": [
           {
            "type": "heatmap",
            "colorbar": {
             "outlinewidth": 0,
             "ticks": ""
            },
            "colorscale": [
             [
              0.0,
              "#0d0887"
             ],
             [
              0.1111111111111111,
              "#46039f"
             ],
             [
              0.2222222222222222,
              "#7201a8"
             ],
             [
              0.3333333333333333,
              "#9c179e"
             ],
             [
              0.4444444444444444,
              "#bd3786"
             ],
             [
              0.5555555555555556,
              "#d8576b"
             ],
             [
              0.6666666666666666,
              "#ed7953"
             ],
             [
              0.7777777777777778,
              "#fb9f3a"
             ],
             [
              0.8888888888888888,
              "#fdca26"
             ],
             [
              1.0,
              "#f0f921"
             ]
            ]
           }
          ],
          "heatmapgl": [
           {
            "type": "heatmapgl",
            "colorbar": {
             "outlinewidth": 0,
             "ticks": ""
            },
            "colorscale": [
             [
              0.0,
              "#0d0887"
             ],
             [
              0.1111111111111111,
              "#46039f"
             ],
             [
              0.2222222222222222,
              "#7201a8"
             ],
             [
              0.3333333333333333,
              "#9c179e"
             ],
             [
              0.4444444444444444,
              "#bd3786"
             ],
             [
              0.5555555555555556,
              "#d8576b"
             ],
             [
              0.6666666666666666,
              "#ed7953"
             ],
             [
              0.7777777777777778,
              "#fb9f3a"
             ],
             [
              0.8888888888888888,
              "#fdca26"
             ],
             [
              1.0,
              "#f0f921"
             ]
            ]
           }
          ],
          "contourcarpet": [
           {
            "type": "contourcarpet",
            "colorbar": {
             "outlinewidth": 0,
             "ticks": ""
            }
           }
          ],
          "contour": [
           {
            "type": "contour",
            "colorbar": {
             "outlinewidth": 0,
             "ticks": ""
            },
            "colorscale": [
             [
              0.0,
              "#0d0887"
             ],
             [
              0.1111111111111111,
              "#46039f"
             ],
             [
              0.2222222222222222,
              "#7201a8"
             ],
             [
              0.3333333333333333,
              "#9c179e"
             ],
             [
              0.4444444444444444,
              "#bd3786"
             ],
             [
              0.5555555555555556,
              "#d8576b"
             ],
             [
              0.6666666666666666,
              "#ed7953"
             ],
             [
              0.7777777777777778,
              "#fb9f3a"
             ],
             [
              0.8888888888888888,
              "#fdca26"
             ],
             [
              1.0,
              "#f0f921"
             ]
            ]
           }
          ],
          "surface": [
           {
            "type": "surface",
            "colorbar": {
             "outlinewidth": 0,
             "ticks": ""
            },
            "colorscale": [
             [
              0.0,
              "#0d0887"
             ],
             [
              0.1111111111111111,
              "#46039f"
             ],
             [
              0.2222222222222222,
              "#7201a8"
             ],
             [
              0.3333333333333333,
              "#9c179e"
             ],
             [
              0.4444444444444444,
              "#bd3786"
             ],
             [
              0.5555555555555556,
              "#d8576b"
             ],
             [
              0.6666666666666666,
              "#ed7953"
             ],
             [
              0.7777777777777778,
              "#fb9f3a"
             ],
             [
              0.8888888888888888,
              "#fdca26"
             ],
             [
              1.0,
              "#f0f921"
             ]
            ]
           }
          ],
          "mesh3d": [
           {
            "type": "mesh3d",
            "colorbar": {
             "outlinewidth": 0,
             "ticks": ""
            }
           }
          ],
          "scatter": [
           {
            "fillpattern": {
             "fillmode": "overlay",
             "size": 10,
             "solidity": 0.2
            },
            "type": "scatter"
           }
          ],
          "parcoords": [
           {
            "type": "parcoords",
            "line": {
             "colorbar": {
              "outlinewidth": 0,
              "ticks": ""
             }
            }
           }
          ],
          "scatterpolargl": [
           {
            "type": "scatterpolargl",
            "marker": {
             "colorbar": {
              "outlinewidth": 0,
              "ticks": ""
             }
            }
           }
          ],
          "bar": [
           {
            "error_x": {
             "color": "#2a3f5f"
            },
            "error_y": {
             "color": "#2a3f5f"
            },
            "marker": {
             "line": {
              "color": "#E5ECF6",
              "width": 0.5
             },
             "pattern": {
              "fillmode": "overlay",
              "size": 10,
              "solidity": 0.2
             }
            },
            "type": "bar"
           }
          ],
          "scattergeo": [
           {
            "type": "scattergeo",
            "marker": {
             "colorbar": {
              "outlinewidth": 0,
              "ticks": ""
             }
            }
           }
          ],
          "scatterpolar": [
           {
            "type": "scatterpolar",
            "marker": {
             "colorbar": {
              "outlinewidth": 0,
              "ticks": ""
             }
            }
           }
          ],
          "histogram": [
           {
            "marker": {
             "pattern": {
              "fillmode": "overlay",
              "size": 10,
              "solidity": 0.2
             }
            },
            "type": "histogram"
           }
          ],
          "scattergl": [
           {
            "type": "scattergl",
            "marker": {
             "colorbar": {
              "outlinewidth": 0,
              "ticks": ""
             }
            }
           }
          ],
          "scatter3d": [
           {
            "type": "scatter3d",
            "line": {
             "colorbar": {
              "outlinewidth": 0,
              "ticks": ""
             }
            },
            "marker": {
             "colorbar": {
              "outlinewidth": 0,
              "ticks": ""
             }
            }
           }
          ],
          "scattermapbox": [
           {
            "type": "scattermapbox",
            "marker": {
             "colorbar": {
              "outlinewidth": 0,
              "ticks": ""
             }
            }
           }
          ],
          "scatterternary": [
           {
            "type": "scatterternary",
            "marker": {
             "colorbar": {
              "outlinewidth": 0,
              "ticks": ""
             }
            }
           }
          ],
          "scattercarpet": [
           {
            "type": "scattercarpet",
            "marker": {
             "colorbar": {
              "outlinewidth": 0,
              "ticks": ""
             }
            }
           }
          ],
          "carpet": [
           {
            "aaxis": {
             "endlinecolor": "#2a3f5f",
             "gridcolor": "white",
             "linecolor": "white",
             "minorgridcolor": "white",
             "startlinecolor": "#2a3f5f"
            },
            "baxis": {
             "endlinecolor": "#2a3f5f",
             "gridcolor": "white",
             "linecolor": "white",
             "minorgridcolor": "white",
             "startlinecolor": "#2a3f5f"
            },
            "type": "carpet"
           }
          ],
          "table": [
           {
            "cells": {
             "fill": {
              "color": "#EBF0F8"
             },
             "line": {
              "color": "white"
             }
            },
            "header": {
             "fill": {
              "color": "#C8D4E3"
             },
             "line": {
              "color": "white"
             }
            },
            "type": "table"
           }
          ],
          "barpolar": [
           {
            "marker": {
             "line": {
              "color": "#E5ECF6",
              "width": 0.5
             },
             "pattern": {
              "fillmode": "overlay",
              "size": 10,
              "solidity": 0.2
             }
            },
            "type": "barpolar"
           }
          ],
          "pie": [
           {
            "automargin": true,
            "type": "pie"
           }
          ]
         },
         "layout": {
          "autotypenumbers": "strict",
          "colorway": [
           "#636efa",
           "#EF553B",
           "#00cc96",
           "#ab63fa",
           "#FFA15A",
           "#19d3f3",
           "#FF6692",
           "#B6E880",
           "#FF97FF",
           "#FECB52"
          ],
          "font": {
           "color": "#2a3f5f"
          },
          "hovermode": "closest",
          "hoverlabel": {
           "align": "left"
          },
          "paper_bgcolor": "white",
          "plot_bgcolor": "#E5ECF6",
          "polar": {
           "bgcolor": "#E5ECF6",
           "angularaxis": {
            "gridcolor": "white",
            "linecolor": "white",
            "ticks": ""
           },
           "radialaxis": {
            "gridcolor": "white",
            "linecolor": "white",
            "ticks": ""
           }
          },
          "ternary": {
           "bgcolor": "#E5ECF6",
           "aaxis": {
            "gridcolor": "white",
            "linecolor": "white",
            "ticks": ""
           },
           "baxis": {
            "gridcolor": "white",
            "linecolor": "white",
            "ticks": ""
           },
           "caxis": {
            "gridcolor": "white",
            "linecolor": "white",
            "ticks": ""
           }
          },
          "coloraxis": {
           "colorbar": {
            "outlinewidth": 0,
            "ticks": ""
           }
          },
          "colorscale": {
           "sequential": [
            [
             0.0,
             "#0d0887"
            ],
            [
             0.1111111111111111,
             "#46039f"
            ],
            [
             0.2222222222222222,
             "#7201a8"
            ],
            [
             0.3333333333333333,
             "#9c179e"
            ],
            [
             0.4444444444444444,
             "#bd3786"
            ],
            [
             0.5555555555555556,
             "#d8576b"
            ],
            [
             0.6666666666666666,
             "#ed7953"
            ],
            [
             0.7777777777777778,
             "#fb9f3a"
            ],
            [
             0.8888888888888888,
             "#fdca26"
            ],
            [
             1.0,
             "#f0f921"
            ]
           ],
           "sequentialminus": [
            [
             0.0,
             "#0d0887"
            ],
            [
             0.1111111111111111,
             "#46039f"
            ],
            [
             0.2222222222222222,
             "#7201a8"
            ],
            [
             0.3333333333333333,
             "#9c179e"
            ],
            [
             0.4444444444444444,
             "#bd3786"
            ],
            [
             0.5555555555555556,
             "#d8576b"
            ],
            [
             0.6666666666666666,
             "#ed7953"
            ],
            [
             0.7777777777777778,
             "#fb9f3a"
            ],
            [
             0.8888888888888888,
             "#fdca26"
            ],
            [
             1.0,
             "#f0f921"
            ]
           ],
           "diverging": [
            [
             0,
             "#8e0152"
            ],
            [
             0.1,
             "#c51b7d"
            ],
            [
             0.2,
             "#de77ae"
            ],
            [
             0.3,
             "#f1b6da"
            ],
            [
             0.4,
             "#fde0ef"
            ],
            [
             0.5,
             "#f7f7f7"
            ],
            [
             0.6,
             "#e6f5d0"
            ],
            [
             0.7,
             "#b8e186"
            ],
            [
             0.8,
             "#7fbc41"
            ],
            [
             0.9,
             "#4d9221"
            ],
            [
             1,
             "#276419"
            ]
           ]
          },
          "xaxis": {
           "gridcolor": "white",
           "linecolor": "white",
           "ticks": "",
           "title": {
            "standoff": 15
           },
           "zerolinecolor": "white",
           "automargin": true,
           "zerolinewidth": 2
          },
          "yaxis": {
           "gridcolor": "white",
           "linecolor": "white",
           "ticks": "",
           "title": {
            "standoff": 15
           },
           "zerolinecolor": "white",
           "automargin": true,
           "zerolinewidth": 2
          },
          "scene": {
           "xaxis": {
            "backgroundcolor": "#E5ECF6",
            "gridcolor": "white",
            "linecolor": "white",
            "showbackground": true,
            "ticks": "",
            "zerolinecolor": "white",
            "gridwidth": 2
           },
           "yaxis": {
            "backgroundcolor": "#E5ECF6",
            "gridcolor": "white",
            "linecolor": "white",
            "showbackground": true,
            "ticks": "",
            "zerolinecolor": "white",
            "gridwidth": 2
           },
           "zaxis": {
            "backgroundcolor": "#E5ECF6",
            "gridcolor": "white",
            "linecolor": "white",
            "showbackground": true,
            "ticks": "",
            "zerolinecolor": "white",
            "gridwidth": 2
           }
          },
          "shapedefaults": {
           "line": {
            "color": "#2a3f5f"
           }
          },
          "annotationdefaults": {
           "arrowcolor": "#2a3f5f",
           "arrowhead": 0,
           "arrowwidth": 1
          },
          "geo": {
           "bgcolor": "white",
           "landcolor": "#E5ECF6",
           "subunitcolor": "white",
           "showland": true,
           "showlakes": true,
           "lakecolor": "white"
          },
          "title": {
           "x": 0.05
          },
          "mapbox": {
           "style": "light"
          }
         }
        },
        "xaxis": {
         "anchor": "y",
         "domain": [
          0.0,
          0.94
         ],
         "title": {
          "text": "Topics"
         }
        },
        "yaxis": {
         "anchor": "x",
         "domain": [
          0.0,
          1.0
         ],
         "title": {
          "text": "Retweets mean"
         }
        },
        "yaxis2": {
         "anchor": "x",
         "overlaying": "y",
         "side": "right",
         "title": {
          "text": "Likes mean"
         }
        },
        "title": {
         "text": "Average tweets performance by topic"
        },
        "width": 900,
        "height": 500
       },
       "config": {
        "plotlyServerURL": "https://plot.ly"
       }
      },
      "text/html": "<div>                            <div id=\"7b572dd5-53fc-4d84-83ed-63431768669f\" class=\"plotly-graph-div\" style=\"height:500px; width:900px;\"></div>            <script type=\"text/javascript\">                require([\"plotly\"], function(Plotly) {                    window.PLOTLYENV=window.PLOTLYENV || {};                                    if (document.getElementById(\"7b572dd5-53fc-4d84-83ed-63431768669f\")) {                    Plotly.newPlot(                        \"7b572dd5-53fc-4d84-83ed-63431768669f\",                        [{\"marker\":{\"color\":\"#006D77\"},\"name\":\"Retweets mean 2019\",\"text\":[\"0.52\",\"0.58\",\"0.47\",\"0.43\",\"0.42\",\"0.66\",\"0.5\",\"0.47\",\"0.4\",\"1.05\",\"0.87\",\"0.0\",\"nan\"],\"textposition\":\"inside\",\"width\":0.28,\"x\":[\"Other\",\"Person\",\"TV and Movies\",\"Entities\",\"Interest and Hobbies\",\"Sport\",\"Brand\",\"Music\",\"Video Game\",\"Political\",\"Book\",\"Holiday\",\"News\"],\"y\":[0.52,0.58,0.47,0.43,0.42,0.66,0.5,0.47,0.4,1.05,0.87,0.0,null],\"type\":\"bar\",\"xaxis\":\"x\",\"yaxis\":\"y\"},{\"marker\":{\"color\":\"#00B2CA\"},\"name\":\"Likes mean 2019\",\"x\":[\"Other\",\"Person\",\"TV and Movies\",\"Entities\",\"Interest and Hobbies\",\"Sport\",\"Brand\",\"Music\",\"Video Game\",\"Political\",\"Book\",\"Holiday\",\"News\"],\"y\":[3.3,3.3,3.91,3.21,3.15,5.54,3.17,2.94,3.83,2.02,5.25,13.0,null],\"type\":\"scatter\",\"xaxis\":\"x\",\"yaxis\":\"y2\"},{\"marker\":{\"color\":\"#FBD1A2\"},\"name\":\"Retweets mean 2020\",\"text\":[\"0.39\",\"0.55\",\"0.42\",\"0.4\",\"0.44\",\"0.64\",\"0.48\",\"0.59\",\"0.4\",\"0.55\",\"0.35\",\"0.43\",\"0.67\"],\"textposition\":\"inside\",\"width\":0.28,\"x\":[\"Other\",\"Person\",\"TV and Movies\",\"Entities\",\"Interest and Hobbies\",\"Sport\",\"Brand\",\"Music\",\"Video Game\",\"Political\",\"Book\",\"Holiday\",\"News\"],\"y\":[0.39,0.55,0.42,0.4,0.44,0.64,0.48,0.59,0.4,0.55,0.35,0.43,0.67],\"type\":\"bar\",\"xaxis\":\"x\",\"yaxis\":\"y\"},{\"marker\":{\"color\":\"#1D4E89\"},\"name\":\"Likes mean 2020\",\"x\":[\"Other\",\"Person\",\"TV and Movies\",\"Entities\",\"Interest and Hobbies\",\"Sport\",\"Brand\",\"Music\",\"Video Game\",\"Political\",\"Book\",\"Holiday\",\"News\"],\"y\":[3.85,3.26,4.11,3.44,3.78,5.78,3.53,3.27,3.46,2.28,3.11,4.4,4.05],\"type\":\"scatter\",\"xaxis\":\"x\",\"yaxis\":\"y2\"},{\"marker\":{\"color\":\"#7DCFB6\"},\"name\":\"Retweets mean 2021\",\"text\":[\"0.43\",\"0.59\",\"0.46\",\"0.45\",\"0.45\",\"0.7\",\"0.52\",\"0.56\",\"0.41\",\"1.06\",\"0.31\",\"0.64\",\"0.78\"],\"textposition\":\"inside\",\"width\":0.28,\"x\":[\"Other\",\"Person\",\"TV and Movies\",\"Entities\",\"Interest and Hobbies\",\"Sport\",\"Brand\",\"Music\",\"Video Game\",\"Political\",\"Book\",\"Holiday\",\"News\"],\"y\":[0.43,0.59,0.46,0.45,0.45,0.7,0.52,0.56,0.41,1.06,0.31,0.64,0.78],\"type\":\"bar\",\"xaxis\":\"x\",\"yaxis\":\"y\"},{\"marker\":{\"color\":\"#F79256\"},\"name\":\"Likes mean 2021\",\"x\":[\"Other\",\"Person\",\"TV and Movies\",\"Entities\",\"Interest and Hobbies\",\"Sport\",\"Brand\",\"Music\",\"Video Game\",\"Political\",\"Book\",\"Holiday\",\"News\"],\"y\":[4.55,4.23,5.38,4.42,4.32,6.81,4.26,3.61,4.61,4.57,3.02,6.49,5.13],\"type\":\"scatter\",\"xaxis\":\"x\",\"yaxis\":\"y2\"}],                        {\"template\":{\"data\":{\"histogram2dcontour\":[{\"type\":\"histogram2dcontour\",\"colorbar\":{\"outlinewidth\":0,\"ticks\":\"\"},\"colorscale\":[[0.0,\"#0d0887\"],[0.1111111111111111,\"#46039f\"],[0.2222222222222222,\"#7201a8\"],[0.3333333333333333,\"#9c179e\"],[0.4444444444444444,\"#bd3786\"],[0.5555555555555556,\"#d8576b\"],[0.6666666666666666,\"#ed7953\"],[0.7777777777777778,\"#fb9f3a\"],[0.8888888888888888,\"#fdca26\"],[1.0,\"#f0f921\"]]}],\"choropleth\":[{\"type\":\"choropleth\",\"colorbar\":{\"outlinewidth\":0,\"ticks\":\"\"}}],\"histogram2d\":[{\"type\":\"histogram2d\",\"colorbar\":{\"outlinewidth\":0,\"ticks\":\"\"},\"colorscale\":[[0.0,\"#0d0887\"],[0.1111111111111111,\"#46039f\"],[0.2222222222222222,\"#7201a8\"],[0.3333333333333333,\"#9c179e\"],[0.4444444444444444,\"#bd3786\"],[0.5555555555555556,\"#d8576b\"],[0.6666666666666666,\"#ed7953\"],[0.7777777777777778,\"#fb9f3a\"],[0.8888888888888888,\"#fdca26\"],[1.0,\"#f0f921\"]]}],\"heatmap\":[{\"type\":\"heatmap\",\"colorbar\":{\"outlinewidth\":0,\"ticks\":\"\"},\"colorscale\":[[0.0,\"#0d0887\"],[0.1111111111111111,\"#46039f\"],[0.2222222222222222,\"#7201a8\"],[0.3333333333333333,\"#9c179e\"],[0.4444444444444444,\"#bd3786\"],[0.5555555555555556,\"#d8576b\"],[0.6666666666666666,\"#ed7953\"],[0.7777777777777778,\"#fb9f3a\"],[0.8888888888888888,\"#fdca26\"],[1.0,\"#f0f921\"]]}],\"heatmapgl\":[{\"type\":\"heatmapgl\",\"colorbar\":{\"outlinewidth\":0,\"ticks\":\"\"},\"colorscale\":[[0.0,\"#0d0887\"],[0.1111111111111111,\"#46039f\"],[0.2222222222222222,\"#7201a8\"],[0.3333333333333333,\"#9c179e\"],[0.4444444444444444,\"#bd3786\"],[0.5555555555555556,\"#d8576b\"],[0.6666666666666666,\"#ed7953\"],[0.7777777777777778,\"#fb9f3a\"],[0.8888888888888888,\"#fdca26\"],[1.0,\"#f0f921\"]]}],\"contourcarpet\":[{\"type\":\"contourcarpet\",\"colorbar\":{\"outlinewidth\":0,\"ticks\":\"\"}}],\"contour\":[{\"type\":\"contour\",\"colorbar\":{\"outlinewidth\":0,\"ticks\":\"\"},\"colorscale\":[[0.0,\"#0d0887\"],[0.1111111111111111,\"#46039f\"],[0.2222222222222222,\"#7201a8\"],[0.3333333333333333,\"#9c179e\"],[0.4444444444444444,\"#bd3786\"],[0.5555555555555556,\"#d8576b\"],[0.6666666666666666,\"#ed7953\"],[0.7777777777777778,\"#fb9f3a\"],[0.8888888888888888,\"#fdca26\"],[1.0,\"#f0f921\"]]}],\"surface\":[{\"type\":\"surface\",\"colorbar\":{\"outlinewidth\":0,\"ticks\":\"\"},\"colorscale\":[[0.0,\"#0d0887\"],[0.1111111111111111,\"#46039f\"],[0.2222222222222222,\"#7201a8\"],[0.3333333333333333,\"#9c179e\"],[0.4444444444444444,\"#bd3786\"],[0.5555555555555556,\"#d8576b\"],[0.6666666666666666,\"#ed7953\"],[0.7777777777777778,\"#fb9f3a\"],[0.8888888888888888,\"#fdca26\"],[1.0,\"#f0f921\"]]}],\"mesh3d\":[{\"type\":\"mesh3d\",\"colorbar\":{\"outlinewidth\":0,\"ticks\":\"\"}}],\"scatter\":[{\"fillpattern\":{\"fillmode\":\"overlay\",\"size\":10,\"solidity\":0.2},\"type\":\"scatter\"}],\"parcoords\":[{\"type\":\"parcoords\",\"line\":{\"colorbar\":{\"outlinewidth\":0,\"ticks\":\"\"}}}],\"scatterpolargl\":[{\"type\":\"scatterpolargl\",\"marker\":{\"colorbar\":{\"outlinewidth\":0,\"ticks\":\"\"}}}],\"bar\":[{\"error_x\":{\"color\":\"#2a3f5f\"},\"error_y\":{\"color\":\"#2a3f5f\"},\"marker\":{\"line\":{\"color\":\"#E5ECF6\",\"width\":0.5},\"pattern\":{\"fillmode\":\"overlay\",\"size\":10,\"solidity\":0.2}},\"type\":\"bar\"}],\"scattergeo\":[{\"type\":\"scattergeo\",\"marker\":{\"colorbar\":{\"outlinewidth\":0,\"ticks\":\"\"}}}],\"scatterpolar\":[{\"type\":\"scatterpolar\",\"marker\":{\"colorbar\":{\"outlinewidth\":0,\"ticks\":\"\"}}}],\"histogram\":[{\"marker\":{\"pattern\":{\"fillmode\":\"overlay\",\"size\":10,\"solidity\":0.2}},\"type\":\"histogram\"}],\"scattergl\":[{\"type\":\"scattergl\",\"marker\":{\"colorbar\":{\"outlinewidth\":0,\"ticks\":\"\"}}}],\"scatter3d\":[{\"type\":\"scatter3d\",\"line\":{\"colorbar\":{\"outlinewidth\":0,\"ticks\":\"\"}},\"marker\":{\"colorbar\":{\"outlinewidth\":0,\"ticks\":\"\"}}}],\"scattermapbox\":[{\"type\":\"scattermapbox\",\"marker\":{\"colorbar\":{\"outlinewidth\":0,\"ticks\":\"\"}}}],\"scatterternary\":[{\"type\":\"scatterternary\",\"marker\":{\"colorbar\":{\"outlinewidth\":0,\"ticks\":\"\"}}}],\"scattercarpet\":[{\"type\":\"scattercarpet\",\"marker\":{\"colorbar\":{\"outlinewidth\":0,\"ticks\":\"\"}}}],\"carpet\":[{\"aaxis\":{\"endlinecolor\":\"#2a3f5f\",\"gridcolor\":\"white\",\"linecolor\":\"white\",\"minorgridcolor\":\"white\",\"startlinecolor\":\"#2a3f5f\"},\"baxis\":{\"endlinecolor\":\"#2a3f5f\",\"gridcolor\":\"white\",\"linecolor\":\"white\",\"minorgridcolor\":\"white\",\"startlinecolor\":\"#2a3f5f\"},\"type\":\"carpet\"}],\"table\":[{\"cells\":{\"fill\":{\"color\":\"#EBF0F8\"},\"line\":{\"color\":\"white\"}},\"header\":{\"fill\":{\"color\":\"#C8D4E3\"},\"line\":{\"color\":\"white\"}},\"type\":\"table\"}],\"barpolar\":[{\"marker\":{\"line\":{\"color\":\"#E5ECF6\",\"width\":0.5},\"pattern\":{\"fillmode\":\"overlay\",\"size\":10,\"solidity\":0.2}},\"type\":\"barpolar\"}],\"pie\":[{\"automargin\":true,\"type\":\"pie\"}]},\"layout\":{\"autotypenumbers\":\"strict\",\"colorway\":[\"#636efa\",\"#EF553B\",\"#00cc96\",\"#ab63fa\",\"#FFA15A\",\"#19d3f3\",\"#FF6692\",\"#B6E880\",\"#FF97FF\",\"#FECB52\"],\"font\":{\"color\":\"#2a3f5f\"},\"hovermode\":\"closest\",\"hoverlabel\":{\"align\":\"left\"},\"paper_bgcolor\":\"white\",\"plot_bgcolor\":\"#E5ECF6\",\"polar\":{\"bgcolor\":\"#E5ECF6\",\"angularaxis\":{\"gridcolor\":\"white\",\"linecolor\":\"white\",\"ticks\":\"\"},\"radialaxis\":{\"gridcolor\":\"white\",\"linecolor\":\"white\",\"ticks\":\"\"}},\"ternary\":{\"bgcolor\":\"#E5ECF6\",\"aaxis\":{\"gridcolor\":\"white\",\"linecolor\":\"white\",\"ticks\":\"\"},\"baxis\":{\"gridcolor\":\"white\",\"linecolor\":\"white\",\"ticks\":\"\"},\"caxis\":{\"gridcolor\":\"white\",\"linecolor\":\"white\",\"ticks\":\"\"}},\"coloraxis\":{\"colorbar\":{\"outlinewidth\":0,\"ticks\":\"\"}},\"colorscale\":{\"sequential\":[[0.0,\"#0d0887\"],[0.1111111111111111,\"#46039f\"],[0.2222222222222222,\"#7201a8\"],[0.3333333333333333,\"#9c179e\"],[0.4444444444444444,\"#bd3786\"],[0.5555555555555556,\"#d8576b\"],[0.6666666666666666,\"#ed7953\"],[0.7777777777777778,\"#fb9f3a\"],[0.8888888888888888,\"#fdca26\"],[1.0,\"#f0f921\"]],\"sequentialminus\":[[0.0,\"#0d0887\"],[0.1111111111111111,\"#46039f\"],[0.2222222222222222,\"#7201a8\"],[0.3333333333333333,\"#9c179e\"],[0.4444444444444444,\"#bd3786\"],[0.5555555555555556,\"#d8576b\"],[0.6666666666666666,\"#ed7953\"],[0.7777777777777778,\"#fb9f3a\"],[0.8888888888888888,\"#fdca26\"],[1.0,\"#f0f921\"]],\"diverging\":[[0,\"#8e0152\"],[0.1,\"#c51b7d\"],[0.2,\"#de77ae\"],[0.3,\"#f1b6da\"],[0.4,\"#fde0ef\"],[0.5,\"#f7f7f7\"],[0.6,\"#e6f5d0\"],[0.7,\"#b8e186\"],[0.8,\"#7fbc41\"],[0.9,\"#4d9221\"],[1,\"#276419\"]]},\"xaxis\":{\"gridcolor\":\"white\",\"linecolor\":\"white\",\"ticks\":\"\",\"title\":{\"standoff\":15},\"zerolinecolor\":\"white\",\"automargin\":true,\"zerolinewidth\":2},\"yaxis\":{\"gridcolor\":\"white\",\"linecolor\":\"white\",\"ticks\":\"\",\"title\":{\"standoff\":15},\"zerolinecolor\":\"white\",\"automargin\":true,\"zerolinewidth\":2},\"scene\":{\"xaxis\":{\"backgroundcolor\":\"#E5ECF6\",\"gridcolor\":\"white\",\"linecolor\":\"white\",\"showbackground\":true,\"ticks\":\"\",\"zerolinecolor\":\"white\",\"gridwidth\":2},\"yaxis\":{\"backgroundcolor\":\"#E5ECF6\",\"gridcolor\":\"white\",\"linecolor\":\"white\",\"showbackground\":true,\"ticks\":\"\",\"zerolinecolor\":\"white\",\"gridwidth\":2},\"zaxis\":{\"backgroundcolor\":\"#E5ECF6\",\"gridcolor\":\"white\",\"linecolor\":\"white\",\"showbackground\":true,\"ticks\":\"\",\"zerolinecolor\":\"white\",\"gridwidth\":2}},\"shapedefaults\":{\"line\":{\"color\":\"#2a3f5f\"}},\"annotationdefaults\":{\"arrowcolor\":\"#2a3f5f\",\"arrowhead\":0,\"arrowwidth\":1},\"geo\":{\"bgcolor\":\"white\",\"landcolor\":\"#E5ECF6\",\"subunitcolor\":\"white\",\"showland\":true,\"showlakes\":true,\"lakecolor\":\"white\"},\"title\":{\"x\":0.05},\"mapbox\":{\"style\":\"light\"}}},\"xaxis\":{\"anchor\":\"y\",\"domain\":[0.0,0.94],\"title\":{\"text\":\"Topics\"}},\"yaxis\":{\"anchor\":\"x\",\"domain\":[0.0,1.0],\"title\":{\"text\":\"Retweets mean\"}},\"yaxis2\":{\"anchor\":\"x\",\"overlaying\":\"y\",\"side\":\"right\",\"title\":{\"text\":\"Likes mean\"}},\"title\":{\"text\":\"Average tweets performance by topic\"},\"width\":900,\"height\":500},                        {\"responsive\": true}                    ).then(function(){\n                            \nvar gd = document.getElementById('7b572dd5-53fc-4d84-83ed-63431768669f');\nvar x = new MutationObserver(function (mutations, observer) {{\n        var display = window.getComputedStyle(gd).display;\n        if (!display || display === 'none') {{\n            console.log([gd, 'removed!']);\n            Plotly.purge(gd);\n            observer.disconnect();\n        }}\n}});\n\n// Listen for the removal of the full notebook cells\nvar notebookContainer = gd.closest('#notebook-container');\nif (notebookContainer) {{\n    x.observe(notebookContainer, {childList: true});\n}}\n\n// Listen for the clearing of the current output cell\nvar outputEl = gd.closest('.output');\nif (outputEl) {{\n    x.observe(outputEl, {childList: true});\n}}\n\n                        })                };                });            </script>        </div>"
     },
     "metadata": {},
     "output_type": "display_data"
    }
   ],
   "source": [
    "analysis_chart(df_analysis, 'topics_cleaned', '% with retweets', '% with likes', 'Topics', 'Retweet count',\n",
    "               'Likes count', 'Percentage of retweets and likes by topic', offline_graphs)\n",
    "analysis_chart(df_analysis, 'topics_cleaned', 'retweets mean', 'likes mean', 'Topics', 'Retweets mean', 'Likes mean',\n",
    "               'Average tweets performance by topic', offline_graphs)"
   ],
   "metadata": {
    "collapsed": false,
    "pycharm": {
     "name": "#%%\n"
    }
   }
  },
  {
   "cell_type": "markdown",
   "source": [
    "#### Average retweet count per topic during the day"
   ],
   "metadata": {
    "collapsed": false,
    "pycharm": {
     "name": "#%% md\n"
    }
   }
  },
  {
   "cell_type": "code",
   "execution_count": 51,
   "outputs": [
    {
     "data": {
      "text/plain": "    year            day_phase        topics_cleaned  count day_phase  \\\n0   2019            Afternoon                  Book               32   \n1   2019            Afternoon                 Brand             6028   \n2   2019            Afternoon              Entities             4331   \n3   2019            Afternoon  Interest and Hobbies             5915   \n4   2019            Afternoon                 Music              383   \n5   2019            Afternoon                 Other             7761   \n6   2019            Afternoon                Person             8588   \n7   2019            Afternoon             Political              395   \n8   2019            Afternoon                 Sport             1335   \n9   2019            Afternoon         TV and Movies             5238   \n10  2019            Afternoon            Video Game              300   \n11  2019                 Dusk                  Book               63   \n12  2019                 Dusk                 Brand             6276   \n13  2019                 Dusk              Entities             4520   \n14  2019                 Dusk  Interest and Hobbies             5826   \n15  2019                 Dusk                 Music              422   \n16  2019                 Dusk                 Other             7131   \n17  2019                 Dusk                Person             7546   \n18  2019                 Dusk             Political              313   \n19  2019                 Dusk                 Sport             1483   \n20  2019                 Dusk         TV and Movies             6675   \n21  2019                 Dusk            Video Game              383   \n22  2019  Middle of the night                  Book               36   \n23  2019  Middle of the night                 Brand             5860   \n24  2019  Middle of the night              Entities             4246   \n25  2019  Middle of the night  Interest and Hobbies             4877   \n26  2019  Middle of the night                 Music              382   \n27  2019  Middle of the night                 Other             6175   \n28  2019  Middle of the night                Person             6773   \n29  2019  Middle of the night             Political              262   \n30  2019  Middle of the night                 Sport             2189   \n31  2019  Middle of the night         TV and Movies            11163   \n32  2019  Middle of the night            Video Game              393   \n33  2019              Morning                  Book               28   \n34  2019              Morning                 Brand             5552   \n35  2019              Morning              Entities             3195   \n36  2019              Morning  Interest and Hobbies             4191   \n37  2019              Morning                 Music              444   \n38  2019              Morning                 Other             4707   \n39  2019              Morning                Person             6174   \n40  2019              Morning             Political              186   \n41  2019              Morning                 Sport              554   \n42  2019              Morning         TV and Movies             4103   \n43  2019              Morning            Video Game              499   \n44  2019                Night                  Book               49   \n45  2019                Night                 Brand             6088   \n46  2019                Night              Entities             4478   \n47  2019                Night               Holiday                1   \n48  2019                Night  Interest and Hobbies             6142   \n49  2019                Night                 Music              405   \n50  2019                Night                 Other             6549   \n51  2019                Night                Person             7600   \n52  2019                Night             Political              272   \n53  2019                Night                 Sport             1765   \n54  2019                Night         TV and Movies             7295   \n55  2019                Night            Video Game              410   \n0   2020            Afternoon                  Book               91   \n1   2020            Afternoon                 Brand             6142   \n2   2020            Afternoon              Entities             4091   \n3   2020            Afternoon               Holiday             1303   \n\n    % day_phase  % with retweets  % with likes  retweets mean  likes mean  \n0      0.016496            37.50         59.38           1.12        8.09  \n1      3.107425            17.47         48.59           0.49        3.13  \n2      2.232624            16.37         50.13           0.50        3.28  \n3      3.049173            16.04         48.45           0.49        3.34  \n4      0.197436            21.41         48.56           0.48        2.92  \n5      4.000784            17.60         46.40           0.51        3.27  \n6      4.427101            15.80         42.23           0.55        3.27  \n7      0.203622            14.18         30.89           1.06        2.77  \n8      0.688190            26.59         62.32           0.85        7.02  \n9      2.700181            18.00         53.53           0.60        4.38  \n10     0.154650            16.00         54.67           0.66        4.06  \n11     0.032476            41.27         71.43           1.65        7.25  \n12     3.235268            17.14         49.06           0.50        3.23  \n13     2.330053            16.77         49.85           0.50        3.47  \n14     3.003294            15.96         49.86           0.43        3.30  \n15     0.217540            22.27         56.64           0.55        2.84  \n16     3.676020            17.07         48.56           0.60        3.46  \n17     3.889951            16.15         45.97           0.62        3.43  \n18     0.161351            15.97         34.50           2.31        2.02  \n19     0.764484            22.18         58.60           0.64        5.52  \n20     3.440952            15.55         52.87           0.52        4.46  \n21     0.197436            14.62         57.96           0.44        4.27  \n22     0.018558            16.67         50.00           0.36        2.06  \n23     3.020821            15.92         50.00           0.55        3.43  \n24     2.188806            13.94         50.09           0.34        2.97  \n25     2.514086            15.58         51.18           0.46        3.29  \n26     0.196920            18.06         52.09           0.55        2.99  \n27     3.183203            14.87         46.57           0.53        3.52  \n28     3.491471            15.78         45.83           0.55        3.50  \n29     0.135061            12.60         29.01           0.48        1.63  \n30     1.128426            19.83         58.66           0.61        4.98  \n31     5.754509            14.06         51.48           0.40        3.59  \n32     0.202591            14.50         52.67           0.33        3.90  \n33     0.014434            10.71         39.29           0.29        1.39  \n34     2.862047            13.54         46.15           0.34        2.42  \n35     1.647018            12.33         49.30           0.29        2.42  \n36     2.160454            12.79         48.29           0.34        2.66  \n37     0.228881            18.47         52.70           0.33        2.51  \n38     2.426451            13.43         42.11           0.43        2.88  \n39     3.182687            12.52         40.80           0.48        2.50  \n40     0.095883            15.59         29.57           0.52        1.47  \n41     0.285586            18.59         53.61           0.54        4.29  \n42     2.115090            13.58         48.11           0.36        2.78  \n43     0.257234            16.43         53.31           0.31        3.87  \n44     0.025259            22.45         55.10           0.41        5.37  \n45     3.138355            16.82         50.15           0.62        3.60  \n46     2.308402            15.39         51.00           0.47        3.67  \n47     0.000515            14.44        100.00           0.00       13.00  \n48     3.166192            17.28         45.23           0.39        3.03  \n49     0.208777            16.55         54.07           0.45        3.48  \n50     3.375999            16.46         46.85           0.48        3.25  \n51     3.917788            16.91         45.05           0.70        3.67  \n52     0.140216            22.83         34.56           0.50        1.68  \n53     0.909855            16.13         59.38           0.65        5.54  \n54     3.760561            18.54         51.03           0.52        4.17  \n55     0.211354              NaN         56.83           0.34        3.17  \n0      0.048092            12.09         48.35           0.19        2.20  \n1      3.245957            16.59         48.21           0.50        3.74  \n2      2.162034            15.57         51.14           0.42        3.24  \n3      0.688616            18.57         56.79           0.53        4.95  ",
      "text/html": "<div>\n<style scoped>\n    .dataframe tbody tr th:only-of-type {\n        vertical-align: middle;\n    }\n\n    .dataframe tbody tr th {\n        vertical-align: top;\n    }\n\n    .dataframe thead th {\n        text-align: right;\n    }\n</style>\n<table border=\"1\" class=\"dataframe\">\n  <thead>\n    <tr style=\"text-align: right;\">\n      <th></th>\n      <th>year</th>\n      <th>day_phase</th>\n      <th>topics_cleaned</th>\n      <th>count day_phase</th>\n      <th>% day_phase</th>\n      <th>% with retweets</th>\n      <th>% with likes</th>\n      <th>retweets mean</th>\n      <th>likes mean</th>\n    </tr>\n  </thead>\n  <tbody>\n    <tr>\n      <th>0</th>\n      <td>2019</td>\n      <td>Afternoon</td>\n      <td>Book</td>\n      <td>32</td>\n      <td>0.016496</td>\n      <td>37.50</td>\n      <td>59.38</td>\n      <td>1.12</td>\n      <td>8.09</td>\n    </tr>\n    <tr>\n      <th>1</th>\n      <td>2019</td>\n      <td>Afternoon</td>\n      <td>Brand</td>\n      <td>6028</td>\n      <td>3.107425</td>\n      <td>17.47</td>\n      <td>48.59</td>\n      <td>0.49</td>\n      <td>3.13</td>\n    </tr>\n    <tr>\n      <th>2</th>\n      <td>2019</td>\n      <td>Afternoon</td>\n      <td>Entities</td>\n      <td>4331</td>\n      <td>2.232624</td>\n      <td>16.37</td>\n      <td>50.13</td>\n      <td>0.50</td>\n      <td>3.28</td>\n    </tr>\n    <tr>\n      <th>3</th>\n      <td>2019</td>\n      <td>Afternoon</td>\n      <td>Interest and Hobbies</td>\n      <td>5915</td>\n      <td>3.049173</td>\n      <td>16.04</td>\n      <td>48.45</td>\n      <td>0.49</td>\n      <td>3.34</td>\n    </tr>\n    <tr>\n      <th>4</th>\n      <td>2019</td>\n      <td>Afternoon</td>\n      <td>Music</td>\n      <td>383</td>\n      <td>0.197436</td>\n      <td>21.41</td>\n      <td>48.56</td>\n      <td>0.48</td>\n      <td>2.92</td>\n    </tr>\n    <tr>\n      <th>5</th>\n      <td>2019</td>\n      <td>Afternoon</td>\n      <td>Other</td>\n      <td>7761</td>\n      <td>4.000784</td>\n      <td>17.60</td>\n      <td>46.40</td>\n      <td>0.51</td>\n      <td>3.27</td>\n    </tr>\n    <tr>\n      <th>6</th>\n      <td>2019</td>\n      <td>Afternoon</td>\n      <td>Person</td>\n      <td>8588</td>\n      <td>4.427101</td>\n      <td>15.80</td>\n      <td>42.23</td>\n      <td>0.55</td>\n      <td>3.27</td>\n    </tr>\n    <tr>\n      <th>7</th>\n      <td>2019</td>\n      <td>Afternoon</td>\n      <td>Political</td>\n      <td>395</td>\n      <td>0.203622</td>\n      <td>14.18</td>\n      <td>30.89</td>\n      <td>1.06</td>\n      <td>2.77</td>\n    </tr>\n    <tr>\n      <th>8</th>\n      <td>2019</td>\n      <td>Afternoon</td>\n      <td>Sport</td>\n      <td>1335</td>\n      <td>0.688190</td>\n      <td>26.59</td>\n      <td>62.32</td>\n      <td>0.85</td>\n      <td>7.02</td>\n    </tr>\n    <tr>\n      <th>9</th>\n      <td>2019</td>\n      <td>Afternoon</td>\n      <td>TV and Movies</td>\n      <td>5238</td>\n      <td>2.700181</td>\n      <td>18.00</td>\n      <td>53.53</td>\n      <td>0.60</td>\n      <td>4.38</td>\n    </tr>\n    <tr>\n      <th>10</th>\n      <td>2019</td>\n      <td>Afternoon</td>\n      <td>Video Game</td>\n      <td>300</td>\n      <td>0.154650</td>\n      <td>16.00</td>\n      <td>54.67</td>\n      <td>0.66</td>\n      <td>4.06</td>\n    </tr>\n    <tr>\n      <th>11</th>\n      <td>2019</td>\n      <td>Dusk</td>\n      <td>Book</td>\n      <td>63</td>\n      <td>0.032476</td>\n      <td>41.27</td>\n      <td>71.43</td>\n      <td>1.65</td>\n      <td>7.25</td>\n    </tr>\n    <tr>\n      <th>12</th>\n      <td>2019</td>\n      <td>Dusk</td>\n      <td>Brand</td>\n      <td>6276</td>\n      <td>3.235268</td>\n      <td>17.14</td>\n      <td>49.06</td>\n      <td>0.50</td>\n      <td>3.23</td>\n    </tr>\n    <tr>\n      <th>13</th>\n      <td>2019</td>\n      <td>Dusk</td>\n      <td>Entities</td>\n      <td>4520</td>\n      <td>2.330053</td>\n      <td>16.77</td>\n      <td>49.85</td>\n      <td>0.50</td>\n      <td>3.47</td>\n    </tr>\n    <tr>\n      <th>14</th>\n      <td>2019</td>\n      <td>Dusk</td>\n      <td>Interest and Hobbies</td>\n      <td>5826</td>\n      <td>3.003294</td>\n      <td>15.96</td>\n      <td>49.86</td>\n      <td>0.43</td>\n      <td>3.30</td>\n    </tr>\n    <tr>\n      <th>15</th>\n      <td>2019</td>\n      <td>Dusk</td>\n      <td>Music</td>\n      <td>422</td>\n      <td>0.217540</td>\n      <td>22.27</td>\n      <td>56.64</td>\n      <td>0.55</td>\n      <td>2.84</td>\n    </tr>\n    <tr>\n      <th>16</th>\n      <td>2019</td>\n      <td>Dusk</td>\n      <td>Other</td>\n      <td>7131</td>\n      <td>3.676020</td>\n      <td>17.07</td>\n      <td>48.56</td>\n      <td>0.60</td>\n      <td>3.46</td>\n    </tr>\n    <tr>\n      <th>17</th>\n      <td>2019</td>\n      <td>Dusk</td>\n      <td>Person</td>\n      <td>7546</td>\n      <td>3.889951</td>\n      <td>16.15</td>\n      <td>45.97</td>\n      <td>0.62</td>\n      <td>3.43</td>\n    </tr>\n    <tr>\n      <th>18</th>\n      <td>2019</td>\n      <td>Dusk</td>\n      <td>Political</td>\n      <td>313</td>\n      <td>0.161351</td>\n      <td>15.97</td>\n      <td>34.50</td>\n      <td>2.31</td>\n      <td>2.02</td>\n    </tr>\n    <tr>\n      <th>19</th>\n      <td>2019</td>\n      <td>Dusk</td>\n      <td>Sport</td>\n      <td>1483</td>\n      <td>0.764484</td>\n      <td>22.18</td>\n      <td>58.60</td>\n      <td>0.64</td>\n      <td>5.52</td>\n    </tr>\n    <tr>\n      <th>20</th>\n      <td>2019</td>\n      <td>Dusk</td>\n      <td>TV and Movies</td>\n      <td>6675</td>\n      <td>3.440952</td>\n      <td>15.55</td>\n      <td>52.87</td>\n      <td>0.52</td>\n      <td>4.46</td>\n    </tr>\n    <tr>\n      <th>21</th>\n      <td>2019</td>\n      <td>Dusk</td>\n      <td>Video Game</td>\n      <td>383</td>\n      <td>0.197436</td>\n      <td>14.62</td>\n      <td>57.96</td>\n      <td>0.44</td>\n      <td>4.27</td>\n    </tr>\n    <tr>\n      <th>22</th>\n      <td>2019</td>\n      <td>Middle of the night</td>\n      <td>Book</td>\n      <td>36</td>\n      <td>0.018558</td>\n      <td>16.67</td>\n      <td>50.00</td>\n      <td>0.36</td>\n      <td>2.06</td>\n    </tr>\n    <tr>\n      <th>23</th>\n      <td>2019</td>\n      <td>Middle of the night</td>\n      <td>Brand</td>\n      <td>5860</td>\n      <td>3.020821</td>\n      <td>15.92</td>\n      <td>50.00</td>\n      <td>0.55</td>\n      <td>3.43</td>\n    </tr>\n    <tr>\n      <th>24</th>\n      <td>2019</td>\n      <td>Middle of the night</td>\n      <td>Entities</td>\n      <td>4246</td>\n      <td>2.188806</td>\n      <td>13.94</td>\n      <td>50.09</td>\n      <td>0.34</td>\n      <td>2.97</td>\n    </tr>\n    <tr>\n      <th>25</th>\n      <td>2019</td>\n      <td>Middle of the night</td>\n      <td>Interest and Hobbies</td>\n      <td>4877</td>\n      <td>2.514086</td>\n      <td>15.58</td>\n      <td>51.18</td>\n      <td>0.46</td>\n      <td>3.29</td>\n    </tr>\n    <tr>\n      <th>26</th>\n      <td>2019</td>\n      <td>Middle of the night</td>\n      <td>Music</td>\n      <td>382</td>\n      <td>0.196920</td>\n      <td>18.06</td>\n      <td>52.09</td>\n      <td>0.55</td>\n      <td>2.99</td>\n    </tr>\n    <tr>\n      <th>27</th>\n      <td>2019</td>\n      <td>Middle of the night</td>\n      <td>Other</td>\n      <td>6175</td>\n      <td>3.183203</td>\n      <td>14.87</td>\n      <td>46.57</td>\n      <td>0.53</td>\n      <td>3.52</td>\n    </tr>\n    <tr>\n      <th>28</th>\n      <td>2019</td>\n      <td>Middle of the night</td>\n      <td>Person</td>\n      <td>6773</td>\n      <td>3.491471</td>\n      <td>15.78</td>\n      <td>45.83</td>\n      <td>0.55</td>\n      <td>3.50</td>\n    </tr>\n    <tr>\n      <th>29</th>\n      <td>2019</td>\n      <td>Middle of the night</td>\n      <td>Political</td>\n      <td>262</td>\n      <td>0.135061</td>\n      <td>12.60</td>\n      <td>29.01</td>\n      <td>0.48</td>\n      <td>1.63</td>\n    </tr>\n    <tr>\n      <th>30</th>\n      <td>2019</td>\n      <td>Middle of the night</td>\n      <td>Sport</td>\n      <td>2189</td>\n      <td>1.128426</td>\n      <td>19.83</td>\n      <td>58.66</td>\n      <td>0.61</td>\n      <td>4.98</td>\n    </tr>\n    <tr>\n      <th>31</th>\n      <td>2019</td>\n      <td>Middle of the night</td>\n      <td>TV and Movies</td>\n      <td>11163</td>\n      <td>5.754509</td>\n      <td>14.06</td>\n      <td>51.48</td>\n      <td>0.40</td>\n      <td>3.59</td>\n    </tr>\n    <tr>\n      <th>32</th>\n      <td>2019</td>\n      <td>Middle of the night</td>\n      <td>Video Game</td>\n      <td>393</td>\n      <td>0.202591</td>\n      <td>14.50</td>\n      <td>52.67</td>\n      <td>0.33</td>\n      <td>3.90</td>\n    </tr>\n    <tr>\n      <th>33</th>\n      <td>2019</td>\n      <td>Morning</td>\n      <td>Book</td>\n      <td>28</td>\n      <td>0.014434</td>\n      <td>10.71</td>\n      <td>39.29</td>\n      <td>0.29</td>\n      <td>1.39</td>\n    </tr>\n    <tr>\n      <th>34</th>\n      <td>2019</td>\n      <td>Morning</td>\n      <td>Brand</td>\n      <td>5552</td>\n      <td>2.862047</td>\n      <td>13.54</td>\n      <td>46.15</td>\n      <td>0.34</td>\n      <td>2.42</td>\n    </tr>\n    <tr>\n      <th>35</th>\n      <td>2019</td>\n      <td>Morning</td>\n      <td>Entities</td>\n      <td>3195</td>\n      <td>1.647018</td>\n      <td>12.33</td>\n      <td>49.30</td>\n      <td>0.29</td>\n      <td>2.42</td>\n    </tr>\n    <tr>\n      <th>36</th>\n      <td>2019</td>\n      <td>Morning</td>\n      <td>Interest and Hobbies</td>\n      <td>4191</td>\n      <td>2.160454</td>\n      <td>12.79</td>\n      <td>48.29</td>\n      <td>0.34</td>\n      <td>2.66</td>\n    </tr>\n    <tr>\n      <th>37</th>\n      <td>2019</td>\n      <td>Morning</td>\n      <td>Music</td>\n      <td>444</td>\n      <td>0.228881</td>\n      <td>18.47</td>\n      <td>52.70</td>\n      <td>0.33</td>\n      <td>2.51</td>\n    </tr>\n    <tr>\n      <th>38</th>\n      <td>2019</td>\n      <td>Morning</td>\n      <td>Other</td>\n      <td>4707</td>\n      <td>2.426451</td>\n      <td>13.43</td>\n      <td>42.11</td>\n      <td>0.43</td>\n      <td>2.88</td>\n    </tr>\n    <tr>\n      <th>39</th>\n      <td>2019</td>\n      <td>Morning</td>\n      <td>Person</td>\n      <td>6174</td>\n      <td>3.182687</td>\n      <td>12.52</td>\n      <td>40.80</td>\n      <td>0.48</td>\n      <td>2.50</td>\n    </tr>\n    <tr>\n      <th>40</th>\n      <td>2019</td>\n      <td>Morning</td>\n      <td>Political</td>\n      <td>186</td>\n      <td>0.095883</td>\n      <td>15.59</td>\n      <td>29.57</td>\n      <td>0.52</td>\n      <td>1.47</td>\n    </tr>\n    <tr>\n      <th>41</th>\n      <td>2019</td>\n      <td>Morning</td>\n      <td>Sport</td>\n      <td>554</td>\n      <td>0.285586</td>\n      <td>18.59</td>\n      <td>53.61</td>\n      <td>0.54</td>\n      <td>4.29</td>\n    </tr>\n    <tr>\n      <th>42</th>\n      <td>2019</td>\n      <td>Morning</td>\n      <td>TV and Movies</td>\n      <td>4103</td>\n      <td>2.115090</td>\n      <td>13.58</td>\n      <td>48.11</td>\n      <td>0.36</td>\n      <td>2.78</td>\n    </tr>\n    <tr>\n      <th>43</th>\n      <td>2019</td>\n      <td>Morning</td>\n      <td>Video Game</td>\n      <td>499</td>\n      <td>0.257234</td>\n      <td>16.43</td>\n      <td>53.31</td>\n      <td>0.31</td>\n      <td>3.87</td>\n    </tr>\n    <tr>\n      <th>44</th>\n      <td>2019</td>\n      <td>Night</td>\n      <td>Book</td>\n      <td>49</td>\n      <td>0.025259</td>\n      <td>22.45</td>\n      <td>55.10</td>\n      <td>0.41</td>\n      <td>5.37</td>\n    </tr>\n    <tr>\n      <th>45</th>\n      <td>2019</td>\n      <td>Night</td>\n      <td>Brand</td>\n      <td>6088</td>\n      <td>3.138355</td>\n      <td>16.82</td>\n      <td>50.15</td>\n      <td>0.62</td>\n      <td>3.60</td>\n    </tr>\n    <tr>\n      <th>46</th>\n      <td>2019</td>\n      <td>Night</td>\n      <td>Entities</td>\n      <td>4478</td>\n      <td>2.308402</td>\n      <td>15.39</td>\n      <td>51.00</td>\n      <td>0.47</td>\n      <td>3.67</td>\n    </tr>\n    <tr>\n      <th>47</th>\n      <td>2019</td>\n      <td>Night</td>\n      <td>Holiday</td>\n      <td>1</td>\n      <td>0.000515</td>\n      <td>14.44</td>\n      <td>100.00</td>\n      <td>0.00</td>\n      <td>13.00</td>\n    </tr>\n    <tr>\n      <th>48</th>\n      <td>2019</td>\n      <td>Night</td>\n      <td>Interest and Hobbies</td>\n      <td>6142</td>\n      <td>3.166192</td>\n      <td>17.28</td>\n      <td>45.23</td>\n      <td>0.39</td>\n      <td>3.03</td>\n    </tr>\n    <tr>\n      <th>49</th>\n      <td>2019</td>\n      <td>Night</td>\n      <td>Music</td>\n      <td>405</td>\n      <td>0.208777</td>\n      <td>16.55</td>\n      <td>54.07</td>\n      <td>0.45</td>\n      <td>3.48</td>\n    </tr>\n    <tr>\n      <th>50</th>\n      <td>2019</td>\n      <td>Night</td>\n      <td>Other</td>\n      <td>6549</td>\n      <td>3.375999</td>\n      <td>16.46</td>\n      <td>46.85</td>\n      <td>0.48</td>\n      <td>3.25</td>\n    </tr>\n    <tr>\n      <th>51</th>\n      <td>2019</td>\n      <td>Night</td>\n      <td>Person</td>\n      <td>7600</td>\n      <td>3.917788</td>\n      <td>16.91</td>\n      <td>45.05</td>\n      <td>0.70</td>\n      <td>3.67</td>\n    </tr>\n    <tr>\n      <th>52</th>\n      <td>2019</td>\n      <td>Night</td>\n      <td>Political</td>\n      <td>272</td>\n      <td>0.140216</td>\n      <td>22.83</td>\n      <td>34.56</td>\n      <td>0.50</td>\n      <td>1.68</td>\n    </tr>\n    <tr>\n      <th>53</th>\n      <td>2019</td>\n      <td>Night</td>\n      <td>Sport</td>\n      <td>1765</td>\n      <td>0.909855</td>\n      <td>16.13</td>\n      <td>59.38</td>\n      <td>0.65</td>\n      <td>5.54</td>\n    </tr>\n    <tr>\n      <th>54</th>\n      <td>2019</td>\n      <td>Night</td>\n      <td>TV and Movies</td>\n      <td>7295</td>\n      <td>3.760561</td>\n      <td>18.54</td>\n      <td>51.03</td>\n      <td>0.52</td>\n      <td>4.17</td>\n    </tr>\n    <tr>\n      <th>55</th>\n      <td>2019</td>\n      <td>Night</td>\n      <td>Video Game</td>\n      <td>410</td>\n      <td>0.211354</td>\n      <td>NaN</td>\n      <td>56.83</td>\n      <td>0.34</td>\n      <td>3.17</td>\n    </tr>\n    <tr>\n      <th>0</th>\n      <td>2020</td>\n      <td>Afternoon</td>\n      <td>Book</td>\n      <td>91</td>\n      <td>0.048092</td>\n      <td>12.09</td>\n      <td>48.35</td>\n      <td>0.19</td>\n      <td>2.20</td>\n    </tr>\n    <tr>\n      <th>1</th>\n      <td>2020</td>\n      <td>Afternoon</td>\n      <td>Brand</td>\n      <td>6142</td>\n      <td>3.245957</td>\n      <td>16.59</td>\n      <td>48.21</td>\n      <td>0.50</td>\n      <td>3.74</td>\n    </tr>\n    <tr>\n      <th>2</th>\n      <td>2020</td>\n      <td>Afternoon</td>\n      <td>Entities</td>\n      <td>4091</td>\n      <td>2.162034</td>\n      <td>15.57</td>\n      <td>51.14</td>\n      <td>0.42</td>\n      <td>3.24</td>\n    </tr>\n    <tr>\n      <th>3</th>\n      <td>2020</td>\n      <td>Afternoon</td>\n      <td>Holiday</td>\n      <td>1303</td>\n      <td>0.688616</td>\n      <td>18.57</td>\n      <td>56.79</td>\n      <td>0.53</td>\n      <td>4.95</td>\n    </tr>\n  </tbody>\n</table>\n</div>"
     },
     "execution_count": 51,
     "metadata": {},
     "output_type": "execute_result"
    }
   ],
   "source": [
    "df_analysis = retweets_likes_info_by_year(tweet_analysis, ['day_phase', 'topics_cleaned'], day_phases)\n",
    "df_analysis.head(60)"
   ],
   "metadata": {
    "collapsed": false,
    "pycharm": {
     "name": "#%%\n"
    }
   }
  },
  {
   "cell_type": "code",
   "execution_count": 52,
   "outputs": [
    {
     "data": {
      "application/vnd.plotly.v1+json": {
       "data": [
        {
         "alignmentgroup": "True",
         "hovertemplate": "topics_cleaned=Book<br>year=2019<br>day_phase=%{x}<br>% with retweets=%{text}<extra></extra>",
         "legendgroup": "Book",
         "marker": {
          "color": "#006D77",
          "pattern": {
           "shape": ""
          }
         },
         "name": "Book",
         "offsetgroup": "Book",
         "orientation": "v",
         "showlegend": true,
         "text": [
          37.5,
          41.27,
          16.67,
          10.71,
          22.45
         ],
         "textposition": "auto",
         "x": [
          "Afternoon",
          "Dusk",
          "Middle of the night",
          "Morning",
          "Night"
         ],
         "xaxis": "x",
         "y": [
          37.5,
          41.27,
          16.67,
          10.71,
          22.45
         ],
         "yaxis": "y",
         "type": "bar"
        },
        {
         "alignmentgroup": "True",
         "hovertemplate": "topics_cleaned=Book<br>year=2020<br>day_phase=%{x}<br>% with retweets=%{text}<extra></extra>",
         "legendgroup": "Book",
         "marker": {
          "color": "#006D77",
          "pattern": {
           "shape": ""
          }
         },
         "name": "Book",
         "offsetgroup": "Book",
         "orientation": "v",
         "showlegend": false,
         "text": [
          12.09,
          15.66,
          16.67,
          18.0,
          17.78
         ],
         "textposition": "auto",
         "x": [
          "Afternoon",
          "Dusk",
          "Middle of the night",
          "Morning",
          "Night"
         ],
         "xaxis": "x2",
         "y": [
          12.09,
          15.66,
          16.67,
          18.0,
          17.78
         ],
         "yaxis": "y2",
         "type": "bar"
        },
        {
         "alignmentgroup": "True",
         "hovertemplate": "topics_cleaned=Book<br>year=2021<br>day_phase=%{x}<br>% with retweets=%{text}<extra></extra>",
         "legendgroup": "Book",
         "marker": {
          "color": "#006D77",
          "pattern": {
           "shape": ""
          }
         },
         "name": "Book",
         "offsetgroup": "Book",
         "orientation": "v",
         "showlegend": false,
         "text": [
          22.58,
          17.72,
          17.24,
          14.81,
          14.86
         ],
         "textposition": "auto",
         "x": [
          "Afternoon",
          "Dusk",
          "Middle of the night",
          "Morning",
          "Night"
         ],
         "xaxis": "x3",
         "y": [
          22.58,
          17.72,
          17.24,
          14.81,
          14.86
         ],
         "yaxis": "y3",
         "type": "bar"
        },
        {
         "alignmentgroup": "True",
         "hovertemplate": "topics_cleaned=Brand<br>year=2019<br>day_phase=%{x}<br>% with retweets=%{text}<extra></extra>",
         "legendgroup": "Brand",
         "marker": {
          "color": "#FBD1A2",
          "pattern": {
           "shape": ""
          }
         },
         "name": "Brand",
         "offsetgroup": "Brand",
         "orientation": "v",
         "showlegend": true,
         "text": [
          17.47,
          17.14,
          15.92,
          13.54,
          16.82
         ],
         "textposition": "auto",
         "x": [
          "Afternoon",
          "Dusk",
          "Middle of the night",
          "Morning",
          "Night"
         ],
         "xaxis": "x",
         "y": [
          17.47,
          17.14,
          15.92,
          13.54,
          16.82
         ],
         "yaxis": "y",
         "type": "bar"
        },
        {
         "alignmentgroup": "True",
         "hovertemplate": "topics_cleaned=Brand<br>year=2020<br>day_phase=%{x}<br>% with retweets=%{text}<extra></extra>",
         "legendgroup": "Brand",
         "marker": {
          "color": "#FBD1A2",
          "pattern": {
           "shape": ""
          }
         },
         "name": "Brand",
         "offsetgroup": "Brand",
         "orientation": "v",
         "showlegend": false,
         "text": [
          16.59,
          15.78,
          15.45,
          12.57,
          16.25
         ],
         "textposition": "auto",
         "x": [
          "Afternoon",
          "Dusk",
          "Middle of the night",
          "Morning",
          "Night"
         ],
         "xaxis": "x2",
         "y": [
          16.59,
          15.78,
          15.45,
          12.57,
          16.25
         ],
         "yaxis": "y2",
         "type": "bar"
        },
        {
         "alignmentgroup": "True",
         "hovertemplate": "topics_cleaned=Brand<br>year=2021<br>day_phase=%{x}<br>% with retweets=%{text}<extra></extra>",
         "legendgroup": "Brand",
         "marker": {
          "color": "#FBD1A2",
          "pattern": {
           "shape": ""
          }
         },
         "name": "Brand",
         "offsetgroup": "Brand",
         "orientation": "v",
         "showlegend": false,
         "text": [
          17.57,
          17.11,
          15.37,
          13.03,
          16.92
         ],
         "textposition": "auto",
         "x": [
          "Afternoon",
          "Dusk",
          "Middle of the night",
          "Morning",
          "Night"
         ],
         "xaxis": "x3",
         "y": [
          17.57,
          17.11,
          15.37,
          13.03,
          16.92
         ],
         "yaxis": "y3",
         "type": "bar"
        },
        {
         "alignmentgroup": "True",
         "hovertemplate": "topics_cleaned=Entities<br>year=2019<br>day_phase=%{x}<br>% with retweets=%{text}<extra></extra>",
         "legendgroup": "Entities",
         "marker": {
          "color": "#7DCFB6",
          "pattern": {
           "shape": ""
          }
         },
         "name": "Entities",
         "offsetgroup": "Entities",
         "orientation": "v",
         "showlegend": true,
         "text": [
          16.37,
          16.77,
          13.94,
          12.33,
          15.39
         ],
         "textposition": "auto",
         "x": [
          "Afternoon",
          "Dusk",
          "Middle of the night",
          "Morning",
          "Night"
         ],
         "xaxis": "x",
         "y": [
          16.37,
          16.77,
          13.94,
          12.33,
          15.39
         ],
         "yaxis": "y",
         "type": "bar"
        },
        {
         "alignmentgroup": "True",
         "hovertemplate": "topics_cleaned=Entities<br>year=2020<br>day_phase=%{x}<br>% with retweets=%{text}<extra></extra>",
         "legendgroup": "Entities",
         "marker": {
          "color": "#7DCFB6",
          "pattern": {
           "shape": ""
          }
         },
         "name": "Entities",
         "offsetgroup": "Entities",
         "orientation": "v",
         "showlegend": false,
         "text": [
          15.57,
          15.83,
          13.68,
          11.73,
          13.97
         ],
         "textposition": "auto",
         "x": [
          "Afternoon",
          "Dusk",
          "Middle of the night",
          "Morning",
          "Night"
         ],
         "xaxis": "x2",
         "y": [
          15.57,
          15.83,
          13.68,
          11.73,
          13.97
         ],
         "yaxis": "y2",
         "type": "bar"
        },
        {
         "alignmentgroup": "True",
         "hovertemplate": "topics_cleaned=Entities<br>year=2021<br>day_phase=%{x}<br>% with retweets=%{text}<extra></extra>",
         "legendgroup": "Entities",
         "marker": {
          "color": "#7DCFB6",
          "pattern": {
           "shape": ""
          }
         },
         "name": "Entities",
         "offsetgroup": "Entities",
         "orientation": "v",
         "showlegend": false,
         "text": [
          18.42,
          16.8,
          15.3,
          12.05,
          15.75
         ],
         "textposition": "auto",
         "x": [
          "Afternoon",
          "Dusk",
          "Middle of the night",
          "Morning",
          "Night"
         ],
         "xaxis": "x3",
         "y": [
          18.42,
          16.8,
          15.3,
          12.05,
          15.75
         ],
         "yaxis": "y3",
         "type": "bar"
        },
        {
         "alignmentgroup": "True",
         "hovertemplate": "topics_cleaned=Interest and Hobbies<br>year=2019<br>day_phase=%{x}<br>% with retweets=%{text}<extra></extra>",
         "legendgroup": "Interest and Hobbies",
         "marker": {
          "color": "#00B2CA",
          "pattern": {
           "shape": ""
          }
         },
         "name": "Interest and Hobbies",
         "offsetgroup": "Interest and Hobbies",
         "orientation": "v",
         "showlegend": true,
         "text": [
          16.04,
          15.96,
          15.58,
          12.79,
          17.28
         ],
         "textposition": "auto",
         "x": [
          "Afternoon",
          "Dusk",
          "Middle of the night",
          "Morning",
          "Night"
         ],
         "xaxis": "x",
         "y": [
          16.04,
          15.96,
          15.58,
          12.79,
          17.28
         ],
         "yaxis": "y",
         "type": "bar"
        },
        {
         "alignmentgroup": "True",
         "hovertemplate": "topics_cleaned=Interest and Hobbies<br>year=2020<br>day_phase=%{x}<br>% with retweets=%{text}<extra></extra>",
         "legendgroup": "Interest and Hobbies",
         "marker": {
          "color": "#00B2CA",
          "pattern": {
           "shape": ""
          }
         },
         "name": "Interest and Hobbies",
         "offsetgroup": "Interest and Hobbies",
         "orientation": "v",
         "showlegend": false,
         "text": [
          17.51,
          16.34,
          16.17,
          13.66,
          14.81
         ],
         "textposition": "auto",
         "x": [
          "Afternoon",
          "Dusk",
          "Middle of the night",
          "Morning",
          "Night"
         ],
         "xaxis": "x2",
         "y": [
          17.51,
          16.34,
          16.17,
          13.66,
          14.81
         ],
         "yaxis": "y2",
         "type": "bar"
        },
        {
         "alignmentgroup": "True",
         "hovertemplate": "topics_cleaned=Interest and Hobbies<br>year=2021<br>day_phase=%{x}<br>% with retweets=%{text}<extra></extra>",
         "legendgroup": "Interest and Hobbies",
         "marker": {
          "color": "#00B2CA",
          "pattern": {
           "shape": ""
          }
         },
         "name": "Interest and Hobbies",
         "offsetgroup": "Interest and Hobbies",
         "orientation": "v",
         "showlegend": false,
         "text": [
          18.46,
          16.22,
          16.03,
          13.41,
          15.17
         ],
         "textposition": "auto",
         "x": [
          "Afternoon",
          "Dusk",
          "Middle of the night",
          "Morning",
          "Night"
         ],
         "xaxis": "x3",
         "y": [
          18.46,
          16.22,
          16.03,
          13.41,
          15.17
         ],
         "yaxis": "y3",
         "type": "bar"
        },
        {
         "alignmentgroup": "True",
         "hovertemplate": "topics_cleaned=Music<br>year=2019<br>day_phase=%{x}<br>% with retweets=%{text}<extra></extra>",
         "legendgroup": "Music",
         "marker": {
          "color": "#1D4E89",
          "pattern": {
           "shape": ""
          }
         },
         "name": "Music",
         "offsetgroup": "Music",
         "orientation": "v",
         "showlegend": true,
         "text": [
          21.41,
          22.27,
          18.06,
          18.47,
          16.55
         ],
         "textposition": "auto",
         "x": [
          "Afternoon",
          "Dusk",
          "Middle of the night",
          "Morning",
          "Night"
         ],
         "xaxis": "x",
         "y": [
          21.41,
          22.27,
          18.06,
          18.47,
          16.55
         ],
         "yaxis": "y",
         "type": "bar"
        },
        {
         "alignmentgroup": "True",
         "hovertemplate": "topics_cleaned=Music<br>year=2020<br>day_phase=%{x}<br>% with retweets=%{text}<extra></extra>",
         "legendgroup": "Music",
         "marker": {
          "color": "#1D4E89",
          "pattern": {
           "shape": ""
          }
         },
         "name": "Music",
         "offsetgroup": "Music",
         "orientation": "v",
         "showlegend": false,
         "text": [
          19.51,
          18.28,
          18.23,
          16.27,
          19.85
         ],
         "textposition": "auto",
         "x": [
          "Afternoon",
          "Dusk",
          "Middle of the night",
          "Morning",
          "Night"
         ],
         "xaxis": "x2",
         "y": [
          19.51,
          18.28,
          18.23,
          16.27,
          19.85
         ],
         "yaxis": "y2",
         "type": "bar"
        },
        {
         "alignmentgroup": "True",
         "hovertemplate": "topics_cleaned=Music<br>year=2021<br>day_phase=%{x}<br>% with retweets=%{text}<extra></extra>",
         "legendgroup": "Music",
         "marker": {
          "color": "#1D4E89",
          "pattern": {
           "shape": ""
          }
         },
         "name": "Music",
         "offsetgroup": "Music",
         "orientation": "v",
         "showlegend": false,
         "text": [
          15.27,
          25.49,
          19.28,
          13.65,
          23.3
         ],
         "textposition": "auto",
         "x": [
          "Afternoon",
          "Dusk",
          "Middle of the night",
          "Morning",
          "Night"
         ],
         "xaxis": "x3",
         "y": [
          15.27,
          25.49,
          19.28,
          13.65,
          23.3
         ],
         "yaxis": "y3",
         "type": "bar"
        },
        {
         "alignmentgroup": "True",
         "hovertemplate": "topics_cleaned=Other<br>year=2019<br>day_phase=%{x}<br>% with retweets=%{text}<extra></extra>",
         "legendgroup": "Other",
         "marker": {
          "color": "#F79256",
          "pattern": {
           "shape": ""
          }
         },
         "name": "Other",
         "offsetgroup": "Other",
         "orientation": "v",
         "showlegend": true,
         "text": [
          17.6,
          17.07,
          14.87,
          13.43,
          16.46
         ],
         "textposition": "auto",
         "x": [
          "Afternoon",
          "Dusk",
          "Middle of the night",
          "Morning",
          "Night"
         ],
         "xaxis": "x",
         "y": [
          17.6,
          17.07,
          14.87,
          13.43,
          16.46
         ],
         "yaxis": "y",
         "type": "bar"
        },
        {
         "alignmentgroup": "True",
         "hovertemplate": "topics_cleaned=Other<br>year=2020<br>day_phase=%{x}<br>% with retweets=%{text}<extra></extra>",
         "legendgroup": "Other",
         "marker": {
          "color": "#F79256",
          "pattern": {
           "shape": ""
          }
         },
         "name": "Other",
         "offsetgroup": "Other",
         "orientation": "v",
         "showlegend": false,
         "text": [
          21.54,
          14.93,
          14.59,
          14.75,
          14.89
         ],
         "textposition": "auto",
         "x": [
          "Afternoon",
          "Dusk",
          "Middle of the night",
          "Morning",
          "Night"
         ],
         "xaxis": "x2",
         "y": [
          21.54,
          14.93,
          14.59,
          14.75,
          14.89
         ],
         "yaxis": "y2",
         "type": "bar"
        },
        {
         "alignmentgroup": "True",
         "hovertemplate": "topics_cleaned=Other<br>year=2021<br>day_phase=%{x}<br>% with retweets=%{text}<extra></extra>",
         "legendgroup": "Other",
         "marker": {
          "color": "#F79256",
          "pattern": {
           "shape": ""
          }
         },
         "name": "Other",
         "offsetgroup": "Other",
         "orientation": "v",
         "showlegend": false,
         "text": [
          14.66,
          14.02,
          14.53,
          12.41,
          15.15
         ],
         "textposition": "auto",
         "x": [
          "Afternoon",
          "Dusk",
          "Middle of the night",
          "Morning",
          "Night"
         ],
         "xaxis": "x3",
         "y": [
          14.66,
          14.02,
          14.53,
          12.41,
          15.15
         ],
         "yaxis": "y3",
         "type": "bar"
        },
        {
         "alignmentgroup": "True",
         "hovertemplate": "topics_cleaned=Person<br>year=2019<br>day_phase=%{x}<br>% with retweets=%{text}<extra></extra>",
         "legendgroup": "Person",
         "marker": {
          "color": "#aed9e0",
          "pattern": {
           "shape": ""
          }
         },
         "name": "Person",
         "offsetgroup": "Person",
         "orientation": "v",
         "showlegend": true,
         "text": [
          15.8,
          16.15,
          15.78,
          12.52,
          16.91
         ],
         "textposition": "auto",
         "x": [
          "Afternoon",
          "Dusk",
          "Middle of the night",
          "Morning",
          "Night"
         ],
         "xaxis": "x",
         "y": [
          15.8,
          16.15,
          15.78,
          12.52,
          16.91
         ],
         "yaxis": "y",
         "type": "bar"
        },
        {
         "alignmentgroup": "True",
         "hovertemplate": "topics_cleaned=Person<br>year=2020<br>day_phase=%{x}<br>% with retweets=%{text}<extra></extra>",
         "legendgroup": "Person",
         "marker": {
          "color": "#aed9e0",
          "pattern": {
           "shape": ""
          }
         },
         "name": "Person",
         "offsetgroup": "Person",
         "orientation": "v",
         "showlegend": false,
         "text": [
          15.79,
          15.58,
          15.66,
          12.83,
          15.37
         ],
         "textposition": "auto",
         "x": [
          "Afternoon",
          "Dusk",
          "Middle of the night",
          "Morning",
          "Night"
         ],
         "xaxis": "x2",
         "y": [
          15.79,
          15.58,
          15.66,
          12.83,
          15.37
         ],
         "yaxis": "y2",
         "type": "bar"
        },
        {
         "alignmentgroup": "True",
         "hovertemplate": "topics_cleaned=Person<br>year=2021<br>day_phase=%{x}<br>% with retweets=%{text}<extra></extra>",
         "legendgroup": "Person",
         "marker": {
          "color": "#aed9e0",
          "pattern": {
           "shape": ""
          }
         },
         "name": "Person",
         "offsetgroup": "Person",
         "orientation": "v",
         "showlegend": false,
         "text": [
          17.01,
          17.3,
          16.27,
          12.97,
          17.16
         ],
         "textposition": "auto",
         "x": [
          "Afternoon",
          "Dusk",
          "Middle of the night",
          "Morning",
          "Night"
         ],
         "xaxis": "x3",
         "y": [
          17.01,
          17.3,
          16.27,
          12.97,
          17.16
         ],
         "yaxis": "y3",
         "type": "bar"
        },
        {
         "alignmentgroup": "True",
         "hovertemplate": "topics_cleaned=Political<br>year=2019<br>day_phase=%{x}<br>% with retweets=%{text}<extra></extra>",
         "legendgroup": "Political",
         "marker": {
          "color": "#b8f2e6",
          "pattern": {
           "shape": ""
          }
         },
         "name": "Political",
         "offsetgroup": "Political",
         "orientation": "v",
         "showlegend": true,
         "text": [
          14.18,
          15.97,
          12.6,
          15.59,
          22.83
         ],
         "textposition": "auto",
         "x": [
          "Afternoon",
          "Dusk",
          "Middle of the night",
          "Morning",
          "Night"
         ],
         "xaxis": "x",
         "y": [
          14.18,
          15.97,
          12.6,
          15.59,
          22.83
         ],
         "yaxis": "y",
         "type": "bar"
        },
        {
         "alignmentgroup": "True",
         "hovertemplate": "topics_cleaned=Political<br>year=2020<br>day_phase=%{x}<br>% with retweets=%{text}<extra></extra>",
         "legendgroup": "Political",
         "marker": {
          "color": "#b8f2e6",
          "pattern": {
           "shape": ""
          }
         },
         "name": "Political",
         "offsetgroup": "Political",
         "orientation": "v",
         "showlegend": false,
         "text": [
          14.82,
          19.19,
          18.15,
          16.03,
          15.53
         ],
         "textposition": "auto",
         "x": [
          "Afternoon",
          "Dusk",
          "Middle of the night",
          "Morning",
          "Night"
         ],
         "xaxis": "x2",
         "y": [
          14.82,
          19.19,
          18.15,
          16.03,
          15.53
         ],
         "yaxis": "y2",
         "type": "bar"
        },
        {
         "alignmentgroup": "True",
         "hovertemplate": "topics_cleaned=Political<br>year=2021<br>day_phase=%{x}<br>% with retweets=%{text}<extra></extra>",
         "legendgroup": "Political",
         "marker": {
          "color": "#b8f2e6",
          "pattern": {
           "shape": ""
          }
         },
         "name": "Political",
         "offsetgroup": "Political",
         "orientation": "v",
         "showlegend": false,
         "text": [
          19.58,
          22.92,
          25.78,
          10.23,
          21.12
         ],
         "textposition": "auto",
         "x": [
          "Afternoon",
          "Dusk",
          "Middle of the night",
          "Morning",
          "Night"
         ],
         "xaxis": "x3",
         "y": [
          19.58,
          22.92,
          25.78,
          10.23,
          21.12
         ],
         "yaxis": "y3",
         "type": "bar"
        },
        {
         "alignmentgroup": "True",
         "hovertemplate": "topics_cleaned=Sport<br>year=2019<br>day_phase=%{x}<br>% with retweets=%{text}<extra></extra>",
         "legendgroup": "Sport",
         "marker": {
          "color": "#faf3dd",
          "pattern": {
           "shape": ""
          }
         },
         "name": "Sport",
         "offsetgroup": "Sport",
         "orientation": "v",
         "showlegend": true,
         "text": [
          26.59,
          22.18,
          19.83,
          18.59,
          16.13
         ],
         "textposition": "auto",
         "x": [
          "Afternoon",
          "Dusk",
          "Middle of the night",
          "Morning",
          "Night"
         ],
         "xaxis": "x",
         "y": [
          26.59,
          22.18,
          19.83,
          18.59,
          16.13
         ],
         "yaxis": "y",
         "type": "bar"
        },
        {
         "alignmentgroup": "True",
         "hovertemplate": "topics_cleaned=Sport<br>year=2020<br>day_phase=%{x}<br>% with retweets=%{text}<extra></extra>",
         "legendgroup": "Sport",
         "marker": {
          "color": "#faf3dd",
          "pattern": {
           "shape": ""
          }
         },
         "name": "Sport",
         "offsetgroup": "Sport",
         "orientation": "v",
         "showlegend": false,
         "text": [
          24.02,
          21.77,
          17.22,
          13.76,
          18.93
         ],
         "textposition": "auto",
         "x": [
          "Afternoon",
          "Dusk",
          "Middle of the night",
          "Morning",
          "Night"
         ],
         "xaxis": "x2",
         "y": [
          24.02,
          21.77,
          17.22,
          13.76,
          18.93
         ],
         "yaxis": "y2",
         "type": "bar"
        },
        {
         "alignmentgroup": "True",
         "hovertemplate": "topics_cleaned=Sport<br>year=2021<br>day_phase=%{x}<br>% with retweets=%{text}<extra></extra>",
         "legendgroup": "Sport",
         "marker": {
          "color": "#faf3dd",
          "pattern": {
           "shape": ""
          }
         },
         "name": "Sport",
         "offsetgroup": "Sport",
         "orientation": "v",
         "showlegend": false,
         "text": [
          26.6,
          22.23,
          22.6,
          17.5,
          24.14
         ],
         "textposition": "auto",
         "x": [
          "Afternoon",
          "Dusk",
          "Middle of the night",
          "Morning",
          "Night"
         ],
         "xaxis": "x3",
         "y": [
          26.6,
          22.23,
          22.6,
          17.5,
          24.14
         ],
         "yaxis": "y3",
         "type": "bar"
        },
        {
         "alignmentgroup": "True",
         "hovertemplate": "topics_cleaned=TV and Movies<br>year=2019<br>day_phase=%{x}<br>% with retweets=%{text}<extra></extra>",
         "legendgroup": "TV and Movies",
         "marker": {
          "color": "#ffa69e",
          "pattern": {
           "shape": ""
          }
         },
         "name": "TV and Movies",
         "offsetgroup": "TV and Movies",
         "orientation": "v",
         "showlegend": true,
         "text": [
          18.0,
          15.55,
          14.06,
          13.58,
          18.54
         ],
         "textposition": "auto",
         "x": [
          "Afternoon",
          "Dusk",
          "Middle of the night",
          "Morning",
          "Night"
         ],
         "xaxis": "x",
         "y": [
          18.0,
          15.55,
          14.06,
          13.58,
          18.54
         ],
         "yaxis": "y",
         "type": "bar"
        },
        {
         "alignmentgroup": "True",
         "hovertemplate": "topics_cleaned=TV and Movies<br>year=2020<br>day_phase=%{x}<br>% with retweets=%{text}<extra></extra>",
         "legendgroup": "TV and Movies",
         "marker": {
          "color": "#ffa69e",
          "pattern": {
           "shape": ""
          }
         },
         "name": "TV and Movies",
         "offsetgroup": "TV and Movies",
         "orientation": "v",
         "showlegend": false,
         "text": [
          16.74,
          15.05,
          14.01,
          12.7,
          15.15
         ],
         "textposition": "auto",
         "x": [
          "Afternoon",
          "Dusk",
          "Middle of the night",
          "Morning",
          "Night"
         ],
         "xaxis": "x2",
         "y": [
          16.74,
          15.05,
          14.01,
          12.7,
          15.15
         ],
         "yaxis": "y2",
         "type": "bar"
        },
        {
         "alignmentgroup": "True",
         "hovertemplate": "topics_cleaned=TV and Movies<br>year=2021<br>day_phase=%{x}<br>% with retweets=%{text}<extra></extra>",
         "legendgroup": "TV and Movies",
         "marker": {
          "color": "#ffa69e",
          "pattern": {
           "shape": ""
          }
         },
         "name": "TV and Movies",
         "offsetgroup": "TV and Movies",
         "orientation": "v",
         "showlegend": false,
         "text": [
          18.09,
          16.52,
          14.65,
          11.09,
          15.97
         ],
         "textposition": "auto",
         "x": [
          "Afternoon",
          "Dusk",
          "Middle of the night",
          "Morning",
          "Night"
         ],
         "xaxis": "x3",
         "y": [
          18.09,
          16.52,
          14.65,
          11.09,
          15.97
         ],
         "yaxis": "y3",
         "type": "bar"
        },
        {
         "alignmentgroup": "True",
         "hovertemplate": "topics_cleaned=Video Game<br>year=2019<br>day_phase=%{x}<br>% with retweets=%{text}<extra></extra>",
         "legendgroup": "Video Game",
         "marker": {
          "color": "#FE7F2D",
          "pattern": {
           "shape": ""
          }
         },
         "name": "Video Game",
         "offsetgroup": "Video Game",
         "orientation": "v",
         "showlegend": true,
         "text": [
          16.0,
          14.62,
          14.5,
          16.43,
          null
         ],
         "textposition": "auto",
         "x": [
          "Afternoon",
          "Dusk",
          "Middle of the night",
          "Morning",
          "Night"
         ],
         "xaxis": "x",
         "y": [
          16.0,
          14.62,
          14.5,
          16.43,
          null
         ],
         "yaxis": "y",
         "type": "bar"
        },
        {
         "alignmentgroup": "True",
         "hovertemplate": "topics_cleaned=Video Game<br>year=2020<br>day_phase=%{x}<br>% with retweets=%{text}<extra></extra>",
         "legendgroup": "Video Game",
         "marker": {
          "color": "#FE7F2D",
          "pattern": {
           "shape": ""
          }
         },
         "name": "Video Game",
         "offsetgroup": "Video Game",
         "orientation": "v",
         "showlegend": false,
         "text": [
          22.05,
          14.17,
          17.11,
          16.37,
          17.08
         ],
         "textposition": "auto",
         "x": [
          "Afternoon",
          "Dusk",
          "Middle of the night",
          "Morning",
          "Night"
         ],
         "xaxis": "x2",
         "y": [
          22.05,
          14.17,
          17.11,
          16.37,
          17.08
         ],
         "yaxis": "y2",
         "type": "bar"
        },
        {
         "alignmentgroup": "True",
         "hovertemplate": "topics_cleaned=Video Game<br>year=2021<br>day_phase=%{x}<br>% with retweets=%{text}<extra></extra>",
         "legendgroup": "Video Game",
         "marker": {
          "color": "#FE7F2D",
          "pattern": {
           "shape": ""
          }
         },
         "name": "Video Game",
         "offsetgroup": "Video Game",
         "orientation": "v",
         "showlegend": false,
         "text": [
          14.21,
          14.54,
          16.0,
          12.08,
          16.18
         ],
         "textposition": "auto",
         "x": [
          "Afternoon",
          "Dusk",
          "Middle of the night",
          "Morning",
          "Night"
         ],
         "xaxis": "x3",
         "y": [
          14.21,
          14.54,
          16.0,
          12.08,
          16.18
         ],
         "yaxis": "y3",
         "type": "bar"
        },
        {
         "alignmentgroup": "True",
         "hovertemplate": "topics_cleaned=Holiday<br>year=2019<br>day_phase=%{x}<br>% with retweets=%{text}<extra></extra>",
         "legendgroup": "Holiday",
         "marker": {
          "color": "#FCCA46",
          "pattern": {
           "shape": ""
          }
         },
         "name": "Holiday",
         "offsetgroup": "Holiday",
         "orientation": "v",
         "showlegend": true,
         "text": [
          14.44
         ],
         "textposition": "auto",
         "x": [
          "Night"
         ],
         "xaxis": "x",
         "y": [
          14.44
         ],
         "yaxis": "y",
         "type": "bar"
        },
        {
         "alignmentgroup": "True",
         "hovertemplate": "topics_cleaned=Holiday<br>year=2020<br>day_phase=%{x}<br>% with retweets=%{text}<extra></extra>",
         "legendgroup": "Holiday",
         "marker": {
          "color": "#FCCA46",
          "pattern": {
           "shape": ""
          }
         },
         "name": "Holiday",
         "offsetgroup": "Holiday",
         "orientation": "v",
         "showlegend": false,
         "text": [
          18.57,
          18.08,
          15.24,
          12.96,
          17.49
         ],
         "textposition": "auto",
         "x": [
          "Afternoon",
          "Dusk",
          "Middle of the night",
          "Morning",
          "Night"
         ],
         "xaxis": "x2",
         "y": [
          18.57,
          18.08,
          15.24,
          12.96,
          17.49
         ],
         "yaxis": "y2",
         "type": "bar"
        },
        {
         "alignmentgroup": "True",
         "hovertemplate": "topics_cleaned=Holiday<br>year=2021<br>day_phase=%{x}<br>% with retweets=%{text}<extra></extra>",
         "legendgroup": "Holiday",
         "marker": {
          "color": "#FCCA46",
          "pattern": {
           "shape": ""
          }
         },
         "name": "Holiday",
         "offsetgroup": "Holiday",
         "orientation": "v",
         "showlegend": false,
         "text": [
          21.76,
          19.8,
          19.0,
          16.13,
          21.37
         ],
         "textposition": "auto",
         "x": [
          "Afternoon",
          "Dusk",
          "Middle of the night",
          "Morning",
          "Night"
         ],
         "xaxis": "x3",
         "y": [
          21.76,
          19.8,
          19.0,
          16.13,
          21.37
         ],
         "yaxis": "y3",
         "type": "bar"
        },
        {
         "alignmentgroup": "True",
         "hovertemplate": "topics_cleaned=News<br>year=2020<br>day_phase=%{x}<br>% with retweets=%{text}<extra></extra>",
         "legendgroup": "News",
         "marker": {
          "color": "#ED7B84",
          "pattern": {
           "shape": ""
          }
         },
         "name": "News",
         "offsetgroup": "News",
         "orientation": "v",
         "showlegend": true,
         "text": [
          21.29,
          21.39,
          19.56,
          14.87,
          19.63
         ],
         "textposition": "auto",
         "x": [
          "Afternoon",
          "Dusk",
          "Middle of the night",
          "Morning",
          "Night"
         ],
         "xaxis": "x2",
         "y": [
          21.29,
          21.39,
          19.56,
          14.87,
          19.63
         ],
         "yaxis": "y2",
         "type": "bar"
        },
        {
         "alignmentgroup": "True",
         "hovertemplate": "topics_cleaned=News<br>year=2021<br>day_phase=%{x}<br>% with retweets=%{text}<extra></extra>",
         "legendgroup": "News",
         "marker": {
          "color": "#ED7B84",
          "pattern": {
           "shape": ""
          }
         },
         "name": "News",
         "offsetgroup": "News",
         "orientation": "v",
         "showlegend": false,
         "text": [
          20.78,
          21.19,
          19.83,
          14.42,
          21.5
         ],
         "textposition": "auto",
         "x": [
          "Afternoon",
          "Dusk",
          "Middle of the night",
          "Morning",
          "Night"
         ],
         "xaxis": "x3",
         "y": [
          20.78,
          21.19,
          19.83,
          14.42,
          21.5
         ],
         "yaxis": "y3",
         "type": "bar"
        }
       ],
       "layout": {
        "template": {
         "data": {
          "histogram2dcontour": [
           {
            "type": "histogram2dcontour",
            "colorbar": {
             "outlinewidth": 0,
             "ticks": ""
            },
            "colorscale": [
             [
              0.0,
              "#0d0887"
             ],
             [
              0.1111111111111111,
              "#46039f"
             ],
             [
              0.2222222222222222,
              "#7201a8"
             ],
             [
              0.3333333333333333,
              "#9c179e"
             ],
             [
              0.4444444444444444,
              "#bd3786"
             ],
             [
              0.5555555555555556,
              "#d8576b"
             ],
             [
              0.6666666666666666,
              "#ed7953"
             ],
             [
              0.7777777777777778,
              "#fb9f3a"
             ],
             [
              0.8888888888888888,
              "#fdca26"
             ],
             [
              1.0,
              "#f0f921"
             ]
            ]
           }
          ],
          "choropleth": [
           {
            "type": "choropleth",
            "colorbar": {
             "outlinewidth": 0,
             "ticks": ""
            }
           }
          ],
          "histogram2d": [
           {
            "type": "histogram2d",
            "colorbar": {
             "outlinewidth": 0,
             "ticks": ""
            },
            "colorscale": [
             [
              0.0,
              "#0d0887"
             ],
             [
              0.1111111111111111,
              "#46039f"
             ],
             [
              0.2222222222222222,
              "#7201a8"
             ],
             [
              0.3333333333333333,
              "#9c179e"
             ],
             [
              0.4444444444444444,
              "#bd3786"
             ],
             [
              0.5555555555555556,
              "#d8576b"
             ],
             [
              0.6666666666666666,
              "#ed7953"
             ],
             [
              0.7777777777777778,
              "#fb9f3a"
             ],
             [
              0.8888888888888888,
              "#fdca26"
             ],
             [
              1.0,
              "#f0f921"
             ]
            ]
           }
          ],
          "heatmap": [
           {
            "type": "heatmap",
            "colorbar": {
             "outlinewidth": 0,
             "ticks": ""
            },
            "colorscale": [
             [
              0.0,
              "#0d0887"
             ],
             [
              0.1111111111111111,
              "#46039f"
             ],
             [
              0.2222222222222222,
              "#7201a8"
             ],
             [
              0.3333333333333333,
              "#9c179e"
             ],
             [
              0.4444444444444444,
              "#bd3786"
             ],
             [
              0.5555555555555556,
              "#d8576b"
             ],
             [
              0.6666666666666666,
              "#ed7953"
             ],
             [
              0.7777777777777778,
              "#fb9f3a"
             ],
             [
              0.8888888888888888,
              "#fdca26"
             ],
             [
              1.0,
              "#f0f921"
             ]
            ]
           }
          ],
          "heatmapgl": [
           {
            "type": "heatmapgl",
            "colorbar": {
             "outlinewidth": 0,
             "ticks": ""
            },
            "colorscale": [
             [
              0.0,
              "#0d0887"
             ],
             [
              0.1111111111111111,
              "#46039f"
             ],
             [
              0.2222222222222222,
              "#7201a8"
             ],
             [
              0.3333333333333333,
              "#9c179e"
             ],
             [
              0.4444444444444444,
              "#bd3786"
             ],
             [
              0.5555555555555556,
              "#d8576b"
             ],
             [
              0.6666666666666666,
              "#ed7953"
             ],
             [
              0.7777777777777778,
              "#fb9f3a"
             ],
             [
              0.8888888888888888,
              "#fdca26"
             ],
             [
              1.0,
              "#f0f921"
             ]
            ]
           }
          ],
          "contourcarpet": [
           {
            "type": "contourcarpet",
            "colorbar": {
             "outlinewidth": 0,
             "ticks": ""
            }
           }
          ],
          "contour": [
           {
            "type": "contour",
            "colorbar": {
             "outlinewidth": 0,
             "ticks": ""
            },
            "colorscale": [
             [
              0.0,
              "#0d0887"
             ],
             [
              0.1111111111111111,
              "#46039f"
             ],
             [
              0.2222222222222222,
              "#7201a8"
             ],
             [
              0.3333333333333333,
              "#9c179e"
             ],
             [
              0.4444444444444444,
              "#bd3786"
             ],
             [
              0.5555555555555556,
              "#d8576b"
             ],
             [
              0.6666666666666666,
              "#ed7953"
             ],
             [
              0.7777777777777778,
              "#fb9f3a"
             ],
             [
              0.8888888888888888,
              "#fdca26"
             ],
             [
              1.0,
              "#f0f921"
             ]
            ]
           }
          ],
          "surface": [
           {
            "type": "surface",
            "colorbar": {
             "outlinewidth": 0,
             "ticks": ""
            },
            "colorscale": [
             [
              0.0,
              "#0d0887"
             ],
             [
              0.1111111111111111,
              "#46039f"
             ],
             [
              0.2222222222222222,
              "#7201a8"
             ],
             [
              0.3333333333333333,
              "#9c179e"
             ],
             [
              0.4444444444444444,
              "#bd3786"
             ],
             [
              0.5555555555555556,
              "#d8576b"
             ],
             [
              0.6666666666666666,
              "#ed7953"
             ],
             [
              0.7777777777777778,
              "#fb9f3a"
             ],
             [
              0.8888888888888888,
              "#fdca26"
             ],
             [
              1.0,
              "#f0f921"
             ]
            ]
           }
          ],
          "mesh3d": [
           {
            "type": "mesh3d",
            "colorbar": {
             "outlinewidth": 0,
             "ticks": ""
            }
           }
          ],
          "scatter": [
           {
            "fillpattern": {
             "fillmode": "overlay",
             "size": 10,
             "solidity": 0.2
            },
            "type": "scatter"
           }
          ],
          "parcoords": [
           {
            "type": "parcoords",
            "line": {
             "colorbar": {
              "outlinewidth": 0,
              "ticks": ""
             }
            }
           }
          ],
          "scatterpolargl": [
           {
            "type": "scatterpolargl",
            "marker": {
             "colorbar": {
              "outlinewidth": 0,
              "ticks": ""
             }
            }
           }
          ],
          "bar": [
           {
            "error_x": {
             "color": "#2a3f5f"
            },
            "error_y": {
             "color": "#2a3f5f"
            },
            "marker": {
             "line": {
              "color": "#E5ECF6",
              "width": 0.5
             },
             "pattern": {
              "fillmode": "overlay",
              "size": 10,
              "solidity": 0.2
             }
            },
            "type": "bar"
           }
          ],
          "scattergeo": [
           {
            "type": "scattergeo",
            "marker": {
             "colorbar": {
              "outlinewidth": 0,
              "ticks": ""
             }
            }
           }
          ],
          "scatterpolar": [
           {
            "type": "scatterpolar",
            "marker": {
             "colorbar": {
              "outlinewidth": 0,
              "ticks": ""
             }
            }
           }
          ],
          "histogram": [
           {
            "marker": {
             "pattern": {
              "fillmode": "overlay",
              "size": 10,
              "solidity": 0.2
             }
            },
            "type": "histogram"
           }
          ],
          "scattergl": [
           {
            "type": "scattergl",
            "marker": {
             "colorbar": {
              "outlinewidth": 0,
              "ticks": ""
             }
            }
           }
          ],
          "scatter3d": [
           {
            "type": "scatter3d",
            "line": {
             "colorbar": {
              "outlinewidth": 0,
              "ticks": ""
             }
            },
            "marker": {
             "colorbar": {
              "outlinewidth": 0,
              "ticks": ""
             }
            }
           }
          ],
          "scattermapbox": [
           {
            "type": "scattermapbox",
            "marker": {
             "colorbar": {
              "outlinewidth": 0,
              "ticks": ""
             }
            }
           }
          ],
          "scatterternary": [
           {
            "type": "scatterternary",
            "marker": {
             "colorbar": {
              "outlinewidth": 0,
              "ticks": ""
             }
            }
           }
          ],
          "scattercarpet": [
           {
            "type": "scattercarpet",
            "marker": {
             "colorbar": {
              "outlinewidth": 0,
              "ticks": ""
             }
            }
           }
          ],
          "carpet": [
           {
            "aaxis": {
             "endlinecolor": "#2a3f5f",
             "gridcolor": "white",
             "linecolor": "white",
             "minorgridcolor": "white",
             "startlinecolor": "#2a3f5f"
            },
            "baxis": {
             "endlinecolor": "#2a3f5f",
             "gridcolor": "white",
             "linecolor": "white",
             "minorgridcolor": "white",
             "startlinecolor": "#2a3f5f"
            },
            "type": "carpet"
           }
          ],
          "table": [
           {
            "cells": {
             "fill": {
              "color": "#EBF0F8"
             },
             "line": {
              "color": "white"
             }
            },
            "header": {
             "fill": {
              "color": "#C8D4E3"
             },
             "line": {
              "color": "white"
             }
            },
            "type": "table"
           }
          ],
          "barpolar": [
           {
            "marker": {
             "line": {
              "color": "#E5ECF6",
              "width": 0.5
             },
             "pattern": {
              "fillmode": "overlay",
              "size": 10,
              "solidity": 0.2
             }
            },
            "type": "barpolar"
           }
          ],
          "pie": [
           {
            "automargin": true,
            "type": "pie"
           }
          ]
         },
         "layout": {
          "autotypenumbers": "strict",
          "colorway": [
           "#636efa",
           "#EF553B",
           "#00cc96",
           "#ab63fa",
           "#FFA15A",
           "#19d3f3",
           "#FF6692",
           "#B6E880",
           "#FF97FF",
           "#FECB52"
          ],
          "font": {
           "color": "#2a3f5f"
          },
          "hovermode": "closest",
          "hoverlabel": {
           "align": "left"
          },
          "paper_bgcolor": "white",
          "plot_bgcolor": "#E5ECF6",
          "polar": {
           "bgcolor": "#E5ECF6",
           "angularaxis": {
            "gridcolor": "white",
            "linecolor": "white",
            "ticks": ""
           },
           "radialaxis": {
            "gridcolor": "white",
            "linecolor": "white",
            "ticks": ""
           }
          },
          "ternary": {
           "bgcolor": "#E5ECF6",
           "aaxis": {
            "gridcolor": "white",
            "linecolor": "white",
            "ticks": ""
           },
           "baxis": {
            "gridcolor": "white",
            "linecolor": "white",
            "ticks": ""
           },
           "caxis": {
            "gridcolor": "white",
            "linecolor": "white",
            "ticks": ""
           }
          },
          "coloraxis": {
           "colorbar": {
            "outlinewidth": 0,
            "ticks": ""
           }
          },
          "colorscale": {
           "sequential": [
            [
             0.0,
             "#0d0887"
            ],
            [
             0.1111111111111111,
             "#46039f"
            ],
            [
             0.2222222222222222,
             "#7201a8"
            ],
            [
             0.3333333333333333,
             "#9c179e"
            ],
            [
             0.4444444444444444,
             "#bd3786"
            ],
            [
             0.5555555555555556,
             "#d8576b"
            ],
            [
             0.6666666666666666,
             "#ed7953"
            ],
            [
             0.7777777777777778,
             "#fb9f3a"
            ],
            [
             0.8888888888888888,
             "#fdca26"
            ],
            [
             1.0,
             "#f0f921"
            ]
           ],
           "sequentialminus": [
            [
             0.0,
             "#0d0887"
            ],
            [
             0.1111111111111111,
             "#46039f"
            ],
            [
             0.2222222222222222,
             "#7201a8"
            ],
            [
             0.3333333333333333,
             "#9c179e"
            ],
            [
             0.4444444444444444,
             "#bd3786"
            ],
            [
             0.5555555555555556,
             "#d8576b"
            ],
            [
             0.6666666666666666,
             "#ed7953"
            ],
            [
             0.7777777777777778,
             "#fb9f3a"
            ],
            [
             0.8888888888888888,
             "#fdca26"
            ],
            [
             1.0,
             "#f0f921"
            ]
           ],
           "diverging": [
            [
             0,
             "#8e0152"
            ],
            [
             0.1,
             "#c51b7d"
            ],
            [
             0.2,
             "#de77ae"
            ],
            [
             0.3,
             "#f1b6da"
            ],
            [
             0.4,
             "#fde0ef"
            ],
            [
             0.5,
             "#f7f7f7"
            ],
            [
             0.6,
             "#e6f5d0"
            ],
            [
             0.7,
             "#b8e186"
            ],
            [
             0.8,
             "#7fbc41"
            ],
            [
             0.9,
             "#4d9221"
            ],
            [
             1,
             "#276419"
            ]
           ]
          },
          "xaxis": {
           "gridcolor": "white",
           "linecolor": "white",
           "ticks": "",
           "title": {
            "standoff": 15
           },
           "zerolinecolor": "white",
           "automargin": true,
           "zerolinewidth": 2
          },
          "yaxis": {
           "gridcolor": "white",
           "linecolor": "white",
           "ticks": "",
           "title": {
            "standoff": 15
           },
           "zerolinecolor": "white",
           "automargin": true,
           "zerolinewidth": 2
          },
          "scene": {
           "xaxis": {
            "backgroundcolor": "#E5ECF6",
            "gridcolor": "white",
            "linecolor": "white",
            "showbackground": true,
            "ticks": "",
            "zerolinecolor": "white",
            "gridwidth": 2
           },
           "yaxis": {
            "backgroundcolor": "#E5ECF6",
            "gridcolor": "white",
            "linecolor": "white",
            "showbackground": true,
            "ticks": "",
            "zerolinecolor": "white",
            "gridwidth": 2
           },
           "zaxis": {
            "backgroundcolor": "#E5ECF6",
            "gridcolor": "white",
            "linecolor": "white",
            "showbackground": true,
            "ticks": "",
            "zerolinecolor": "white",
            "gridwidth": 2
           }
          },
          "shapedefaults": {
           "line": {
            "color": "#2a3f5f"
           }
          },
          "annotationdefaults": {
           "arrowcolor": "#2a3f5f",
           "arrowhead": 0,
           "arrowwidth": 1
          },
          "geo": {
           "bgcolor": "white",
           "landcolor": "#E5ECF6",
           "subunitcolor": "white",
           "showland": true,
           "showlakes": true,
           "lakecolor": "white"
          },
          "title": {
           "x": 0.05
          },
          "mapbox": {
           "style": "light"
          }
         }
        },
        "xaxis": {
         "anchor": "y",
         "domain": [
          0.0,
          0.31999999999999995
         ],
         "title": {
          "text": "Day phase"
         },
         "categoryorder": "array",
         "categoryarray": [
          "Morning",
          "Afternoon",
          "Dusk",
          "Night",
          "Middle of the night"
         ]
        },
        "yaxis": {
         "anchor": "x",
         "domain": [
          0.0,
          1.0
         ],
         "title": {
          "text": "% with retweets"
         }
        },
        "xaxis2": {
         "anchor": "y2",
         "domain": [
          0.33999999999999997,
          0.6599999999999999
         ],
         "matches": "x",
         "title": {
          "text": "Day phase"
         },
         "categoryorder": "array",
         "categoryarray": [
          "Morning",
          "Afternoon",
          "Dusk",
          "Night",
          "Middle of the night"
         ]
        },
        "yaxis2": {
         "anchor": "x2",
         "domain": [
          0.0,
          1.0
         ],
         "matches": "y",
         "showticklabels": false,
         "title": {
          "text": "% with retweets"
         }
        },
        "xaxis3": {
         "anchor": "y3",
         "domain": [
          0.6799999999999999,
          0.9999999999999999
         ],
         "matches": "x",
         "title": {
          "text": "Day phase"
         },
         "categoryorder": "array",
         "categoryarray": [
          "Morning",
          "Afternoon",
          "Dusk",
          "Night",
          "Middle of the night"
         ]
        },
        "yaxis3": {
         "anchor": "x3",
         "domain": [
          0.0,
          1.0
         ],
         "matches": "y",
         "showticklabels": false,
         "title": {
          "text": "% with retweets"
         }
        },
        "annotations": [
         {
          "font": {},
          "showarrow": false,
          "text": "year=2019",
          "x": 0.15999999999999998,
          "xanchor": "center",
          "xref": "paper",
          "y": 1.0,
          "yanchor": "bottom",
          "yref": "paper"
         },
         {
          "font": {},
          "showarrow": false,
          "text": "year=2020",
          "x": 0.49999999999999994,
          "xanchor": "center",
          "xref": "paper",
          "y": 1.0,
          "yanchor": "bottom",
          "yref": "paper"
         },
         {
          "font": {},
          "showarrow": false,
          "text": "year=2021",
          "x": 0.8399999999999999,
          "xanchor": "center",
          "xref": "paper",
          "y": 1.0,
          "yanchor": "bottom",
          "yref": "paper"
         }
        ],
        "legend": {
         "title": {
          "text": "topics_cleaned"
         },
         "tracegroupgap": 0
        },
        "margin": {
         "t": 60
        },
        "barmode": "stack",
        "title": {
         "text": "Percentage of retweets by topic during the day"
        },
        "width": 900,
        "height": 500
       },
       "config": {
        "plotlyServerURL": "https://plot.ly"
       }
      },
      "text/html": "<div>                            <div id=\"129c1cde-fdfa-4cc2-9d8d-c21c9278f0c5\" class=\"plotly-graph-div\" style=\"height:500px; width:900px;\"></div>            <script type=\"text/javascript\">                require([\"plotly\"], function(Plotly) {                    window.PLOTLYENV=window.PLOTLYENV || {};                                    if (document.getElementById(\"129c1cde-fdfa-4cc2-9d8d-c21c9278f0c5\")) {                    Plotly.newPlot(                        \"129c1cde-fdfa-4cc2-9d8d-c21c9278f0c5\",                        [{\"alignmentgroup\":\"True\",\"hovertemplate\":\"topics_cleaned=Book<br>year=2019<br>day_phase=%{x}<br>% with retweets=%{text}<extra></extra>\",\"legendgroup\":\"Book\",\"marker\":{\"color\":\"#006D77\",\"pattern\":{\"shape\":\"\"}},\"name\":\"Book\",\"offsetgroup\":\"Book\",\"orientation\":\"v\",\"showlegend\":true,\"text\":[37.5,41.27,16.67,10.71,22.45],\"textposition\":\"auto\",\"x\":[\"Afternoon\",\"Dusk\",\"Middle of the night\",\"Morning\",\"Night\"],\"xaxis\":\"x\",\"y\":[37.5,41.27,16.67,10.71,22.45],\"yaxis\":\"y\",\"type\":\"bar\"},{\"alignmentgroup\":\"True\",\"hovertemplate\":\"topics_cleaned=Book<br>year=2020<br>day_phase=%{x}<br>% with retweets=%{text}<extra></extra>\",\"legendgroup\":\"Book\",\"marker\":{\"color\":\"#006D77\",\"pattern\":{\"shape\":\"\"}},\"name\":\"Book\",\"offsetgroup\":\"Book\",\"orientation\":\"v\",\"showlegend\":false,\"text\":[12.09,15.66,16.67,18.0,17.78],\"textposition\":\"auto\",\"x\":[\"Afternoon\",\"Dusk\",\"Middle of the night\",\"Morning\",\"Night\"],\"xaxis\":\"x2\",\"y\":[12.09,15.66,16.67,18.0,17.78],\"yaxis\":\"y2\",\"type\":\"bar\"},{\"alignmentgroup\":\"True\",\"hovertemplate\":\"topics_cleaned=Book<br>year=2021<br>day_phase=%{x}<br>% with retweets=%{text}<extra></extra>\",\"legendgroup\":\"Book\",\"marker\":{\"color\":\"#006D77\",\"pattern\":{\"shape\":\"\"}},\"name\":\"Book\",\"offsetgroup\":\"Book\",\"orientation\":\"v\",\"showlegend\":false,\"text\":[22.58,17.72,17.24,14.81,14.86],\"textposition\":\"auto\",\"x\":[\"Afternoon\",\"Dusk\",\"Middle of the night\",\"Morning\",\"Night\"],\"xaxis\":\"x3\",\"y\":[22.58,17.72,17.24,14.81,14.86],\"yaxis\":\"y3\",\"type\":\"bar\"},{\"alignmentgroup\":\"True\",\"hovertemplate\":\"topics_cleaned=Brand<br>year=2019<br>day_phase=%{x}<br>% with retweets=%{text}<extra></extra>\",\"legendgroup\":\"Brand\",\"marker\":{\"color\":\"#FBD1A2\",\"pattern\":{\"shape\":\"\"}},\"name\":\"Brand\",\"offsetgroup\":\"Brand\",\"orientation\":\"v\",\"showlegend\":true,\"text\":[17.47,17.14,15.92,13.54,16.82],\"textposition\":\"auto\",\"x\":[\"Afternoon\",\"Dusk\",\"Middle of the night\",\"Morning\",\"Night\"],\"xaxis\":\"x\",\"y\":[17.47,17.14,15.92,13.54,16.82],\"yaxis\":\"y\",\"type\":\"bar\"},{\"alignmentgroup\":\"True\",\"hovertemplate\":\"topics_cleaned=Brand<br>year=2020<br>day_phase=%{x}<br>% with retweets=%{text}<extra></extra>\",\"legendgroup\":\"Brand\",\"marker\":{\"color\":\"#FBD1A2\",\"pattern\":{\"shape\":\"\"}},\"name\":\"Brand\",\"offsetgroup\":\"Brand\",\"orientation\":\"v\",\"showlegend\":false,\"text\":[16.59,15.78,15.45,12.57,16.25],\"textposition\":\"auto\",\"x\":[\"Afternoon\",\"Dusk\",\"Middle of the night\",\"Morning\",\"Night\"],\"xaxis\":\"x2\",\"y\":[16.59,15.78,15.45,12.57,16.25],\"yaxis\":\"y2\",\"type\":\"bar\"},{\"alignmentgroup\":\"True\",\"hovertemplate\":\"topics_cleaned=Brand<br>year=2021<br>day_phase=%{x}<br>% with retweets=%{text}<extra></extra>\",\"legendgroup\":\"Brand\",\"marker\":{\"color\":\"#FBD1A2\",\"pattern\":{\"shape\":\"\"}},\"name\":\"Brand\",\"offsetgroup\":\"Brand\",\"orientation\":\"v\",\"showlegend\":false,\"text\":[17.57,17.11,15.37,13.03,16.92],\"textposition\":\"auto\",\"x\":[\"Afternoon\",\"Dusk\",\"Middle of the night\",\"Morning\",\"Night\"],\"xaxis\":\"x3\",\"y\":[17.57,17.11,15.37,13.03,16.92],\"yaxis\":\"y3\",\"type\":\"bar\"},{\"alignmentgroup\":\"True\",\"hovertemplate\":\"topics_cleaned=Entities<br>year=2019<br>day_phase=%{x}<br>% with retweets=%{text}<extra></extra>\",\"legendgroup\":\"Entities\",\"marker\":{\"color\":\"#7DCFB6\",\"pattern\":{\"shape\":\"\"}},\"name\":\"Entities\",\"offsetgroup\":\"Entities\",\"orientation\":\"v\",\"showlegend\":true,\"text\":[16.37,16.77,13.94,12.33,15.39],\"textposition\":\"auto\",\"x\":[\"Afternoon\",\"Dusk\",\"Middle of the night\",\"Morning\",\"Night\"],\"xaxis\":\"x\",\"y\":[16.37,16.77,13.94,12.33,15.39],\"yaxis\":\"y\",\"type\":\"bar\"},{\"alignmentgroup\":\"True\",\"hovertemplate\":\"topics_cleaned=Entities<br>year=2020<br>day_phase=%{x}<br>% with retweets=%{text}<extra></extra>\",\"legendgroup\":\"Entities\",\"marker\":{\"color\":\"#7DCFB6\",\"pattern\":{\"shape\":\"\"}},\"name\":\"Entities\",\"offsetgroup\":\"Entities\",\"orientation\":\"v\",\"showlegend\":false,\"text\":[15.57,15.83,13.68,11.73,13.97],\"textposition\":\"auto\",\"x\":[\"Afternoon\",\"Dusk\",\"Middle of the night\",\"Morning\",\"Night\"],\"xaxis\":\"x2\",\"y\":[15.57,15.83,13.68,11.73,13.97],\"yaxis\":\"y2\",\"type\":\"bar\"},{\"alignmentgroup\":\"True\",\"hovertemplate\":\"topics_cleaned=Entities<br>year=2021<br>day_phase=%{x}<br>% with retweets=%{text}<extra></extra>\",\"legendgroup\":\"Entities\",\"marker\":{\"color\":\"#7DCFB6\",\"pattern\":{\"shape\":\"\"}},\"name\":\"Entities\",\"offsetgroup\":\"Entities\",\"orientation\":\"v\",\"showlegend\":false,\"text\":[18.42,16.8,15.3,12.05,15.75],\"textposition\":\"auto\",\"x\":[\"Afternoon\",\"Dusk\",\"Middle of the night\",\"Morning\",\"Night\"],\"xaxis\":\"x3\",\"y\":[18.42,16.8,15.3,12.05,15.75],\"yaxis\":\"y3\",\"type\":\"bar\"},{\"alignmentgroup\":\"True\",\"hovertemplate\":\"topics_cleaned=Interest and Hobbies<br>year=2019<br>day_phase=%{x}<br>% with retweets=%{text}<extra></extra>\",\"legendgroup\":\"Interest and Hobbies\",\"marker\":{\"color\":\"#00B2CA\",\"pattern\":{\"shape\":\"\"}},\"name\":\"Interest and Hobbies\",\"offsetgroup\":\"Interest and Hobbies\",\"orientation\":\"v\",\"showlegend\":true,\"text\":[16.04,15.96,15.58,12.79,17.28],\"textposition\":\"auto\",\"x\":[\"Afternoon\",\"Dusk\",\"Middle of the night\",\"Morning\",\"Night\"],\"xaxis\":\"x\",\"y\":[16.04,15.96,15.58,12.79,17.28],\"yaxis\":\"y\",\"type\":\"bar\"},{\"alignmentgroup\":\"True\",\"hovertemplate\":\"topics_cleaned=Interest and Hobbies<br>year=2020<br>day_phase=%{x}<br>% with retweets=%{text}<extra></extra>\",\"legendgroup\":\"Interest and Hobbies\",\"marker\":{\"color\":\"#00B2CA\",\"pattern\":{\"shape\":\"\"}},\"name\":\"Interest and Hobbies\",\"offsetgroup\":\"Interest and Hobbies\",\"orientation\":\"v\",\"showlegend\":false,\"text\":[17.51,16.34,16.17,13.66,14.81],\"textposition\":\"auto\",\"x\":[\"Afternoon\",\"Dusk\",\"Middle of the night\",\"Morning\",\"Night\"],\"xaxis\":\"x2\",\"y\":[17.51,16.34,16.17,13.66,14.81],\"yaxis\":\"y2\",\"type\":\"bar\"},{\"alignmentgroup\":\"True\",\"hovertemplate\":\"topics_cleaned=Interest and Hobbies<br>year=2021<br>day_phase=%{x}<br>% with retweets=%{text}<extra></extra>\",\"legendgroup\":\"Interest and Hobbies\",\"marker\":{\"color\":\"#00B2CA\",\"pattern\":{\"shape\":\"\"}},\"name\":\"Interest and Hobbies\",\"offsetgroup\":\"Interest and Hobbies\",\"orientation\":\"v\",\"showlegend\":false,\"text\":[18.46,16.22,16.03,13.41,15.17],\"textposition\":\"auto\",\"x\":[\"Afternoon\",\"Dusk\",\"Middle of the night\",\"Morning\",\"Night\"],\"xaxis\":\"x3\",\"y\":[18.46,16.22,16.03,13.41,15.17],\"yaxis\":\"y3\",\"type\":\"bar\"},{\"alignmentgroup\":\"True\",\"hovertemplate\":\"topics_cleaned=Music<br>year=2019<br>day_phase=%{x}<br>% with retweets=%{text}<extra></extra>\",\"legendgroup\":\"Music\",\"marker\":{\"color\":\"#1D4E89\",\"pattern\":{\"shape\":\"\"}},\"name\":\"Music\",\"offsetgroup\":\"Music\",\"orientation\":\"v\",\"showlegend\":true,\"text\":[21.41,22.27,18.06,18.47,16.55],\"textposition\":\"auto\",\"x\":[\"Afternoon\",\"Dusk\",\"Middle of the night\",\"Morning\",\"Night\"],\"xaxis\":\"x\",\"y\":[21.41,22.27,18.06,18.47,16.55],\"yaxis\":\"y\",\"type\":\"bar\"},{\"alignmentgroup\":\"True\",\"hovertemplate\":\"topics_cleaned=Music<br>year=2020<br>day_phase=%{x}<br>% with retweets=%{text}<extra></extra>\",\"legendgroup\":\"Music\",\"marker\":{\"color\":\"#1D4E89\",\"pattern\":{\"shape\":\"\"}},\"name\":\"Music\",\"offsetgroup\":\"Music\",\"orientation\":\"v\",\"showlegend\":false,\"text\":[19.51,18.28,18.23,16.27,19.85],\"textposition\":\"auto\",\"x\":[\"Afternoon\",\"Dusk\",\"Middle of the night\",\"Morning\",\"Night\"],\"xaxis\":\"x2\",\"y\":[19.51,18.28,18.23,16.27,19.85],\"yaxis\":\"y2\",\"type\":\"bar\"},{\"alignmentgroup\":\"True\",\"hovertemplate\":\"topics_cleaned=Music<br>year=2021<br>day_phase=%{x}<br>% with retweets=%{text}<extra></extra>\",\"legendgroup\":\"Music\",\"marker\":{\"color\":\"#1D4E89\",\"pattern\":{\"shape\":\"\"}},\"name\":\"Music\",\"offsetgroup\":\"Music\",\"orientation\":\"v\",\"showlegend\":false,\"text\":[15.27,25.49,19.28,13.65,23.3],\"textposition\":\"auto\",\"x\":[\"Afternoon\",\"Dusk\",\"Middle of the night\",\"Morning\",\"Night\"],\"xaxis\":\"x3\",\"y\":[15.27,25.49,19.28,13.65,23.3],\"yaxis\":\"y3\",\"type\":\"bar\"},{\"alignmentgroup\":\"True\",\"hovertemplate\":\"topics_cleaned=Other<br>year=2019<br>day_phase=%{x}<br>% with retweets=%{text}<extra></extra>\",\"legendgroup\":\"Other\",\"marker\":{\"color\":\"#F79256\",\"pattern\":{\"shape\":\"\"}},\"name\":\"Other\",\"offsetgroup\":\"Other\",\"orientation\":\"v\",\"showlegend\":true,\"text\":[17.6,17.07,14.87,13.43,16.46],\"textposition\":\"auto\",\"x\":[\"Afternoon\",\"Dusk\",\"Middle of the night\",\"Morning\",\"Night\"],\"xaxis\":\"x\",\"y\":[17.6,17.07,14.87,13.43,16.46],\"yaxis\":\"y\",\"type\":\"bar\"},{\"alignmentgroup\":\"True\",\"hovertemplate\":\"topics_cleaned=Other<br>year=2020<br>day_phase=%{x}<br>% with retweets=%{text}<extra></extra>\",\"legendgroup\":\"Other\",\"marker\":{\"color\":\"#F79256\",\"pattern\":{\"shape\":\"\"}},\"name\":\"Other\",\"offsetgroup\":\"Other\",\"orientation\":\"v\",\"showlegend\":false,\"text\":[21.54,14.93,14.59,14.75,14.89],\"textposition\":\"auto\",\"x\":[\"Afternoon\",\"Dusk\",\"Middle of the night\",\"Morning\",\"Night\"],\"xaxis\":\"x2\",\"y\":[21.54,14.93,14.59,14.75,14.89],\"yaxis\":\"y2\",\"type\":\"bar\"},{\"alignmentgroup\":\"True\",\"hovertemplate\":\"topics_cleaned=Other<br>year=2021<br>day_phase=%{x}<br>% with retweets=%{text}<extra></extra>\",\"legendgroup\":\"Other\",\"marker\":{\"color\":\"#F79256\",\"pattern\":{\"shape\":\"\"}},\"name\":\"Other\",\"offsetgroup\":\"Other\",\"orientation\":\"v\",\"showlegend\":false,\"text\":[14.66,14.02,14.53,12.41,15.15],\"textposition\":\"auto\",\"x\":[\"Afternoon\",\"Dusk\",\"Middle of the night\",\"Morning\",\"Night\"],\"xaxis\":\"x3\",\"y\":[14.66,14.02,14.53,12.41,15.15],\"yaxis\":\"y3\",\"type\":\"bar\"},{\"alignmentgroup\":\"True\",\"hovertemplate\":\"topics_cleaned=Person<br>year=2019<br>day_phase=%{x}<br>% with retweets=%{text}<extra></extra>\",\"legendgroup\":\"Person\",\"marker\":{\"color\":\"#aed9e0\",\"pattern\":{\"shape\":\"\"}},\"name\":\"Person\",\"offsetgroup\":\"Person\",\"orientation\":\"v\",\"showlegend\":true,\"text\":[15.8,16.15,15.78,12.52,16.91],\"textposition\":\"auto\",\"x\":[\"Afternoon\",\"Dusk\",\"Middle of the night\",\"Morning\",\"Night\"],\"xaxis\":\"x\",\"y\":[15.8,16.15,15.78,12.52,16.91],\"yaxis\":\"y\",\"type\":\"bar\"},{\"alignmentgroup\":\"True\",\"hovertemplate\":\"topics_cleaned=Person<br>year=2020<br>day_phase=%{x}<br>% with retweets=%{text}<extra></extra>\",\"legendgroup\":\"Person\",\"marker\":{\"color\":\"#aed9e0\",\"pattern\":{\"shape\":\"\"}},\"name\":\"Person\",\"offsetgroup\":\"Person\",\"orientation\":\"v\",\"showlegend\":false,\"text\":[15.79,15.58,15.66,12.83,15.37],\"textposition\":\"auto\",\"x\":[\"Afternoon\",\"Dusk\",\"Middle of the night\",\"Morning\",\"Night\"],\"xaxis\":\"x2\",\"y\":[15.79,15.58,15.66,12.83,15.37],\"yaxis\":\"y2\",\"type\":\"bar\"},{\"alignmentgroup\":\"True\",\"hovertemplate\":\"topics_cleaned=Person<br>year=2021<br>day_phase=%{x}<br>% with retweets=%{text}<extra></extra>\",\"legendgroup\":\"Person\",\"marker\":{\"color\":\"#aed9e0\",\"pattern\":{\"shape\":\"\"}},\"name\":\"Person\",\"offsetgroup\":\"Person\",\"orientation\":\"v\",\"showlegend\":false,\"text\":[17.01,17.3,16.27,12.97,17.16],\"textposition\":\"auto\",\"x\":[\"Afternoon\",\"Dusk\",\"Middle of the night\",\"Morning\",\"Night\"],\"xaxis\":\"x3\",\"y\":[17.01,17.3,16.27,12.97,17.16],\"yaxis\":\"y3\",\"type\":\"bar\"},{\"alignmentgroup\":\"True\",\"hovertemplate\":\"topics_cleaned=Political<br>year=2019<br>day_phase=%{x}<br>% with retweets=%{text}<extra></extra>\",\"legendgroup\":\"Political\",\"marker\":{\"color\":\"#b8f2e6\",\"pattern\":{\"shape\":\"\"}},\"name\":\"Political\",\"offsetgroup\":\"Political\",\"orientation\":\"v\",\"showlegend\":true,\"text\":[14.18,15.97,12.6,15.59,22.83],\"textposition\":\"auto\",\"x\":[\"Afternoon\",\"Dusk\",\"Middle of the night\",\"Morning\",\"Night\"],\"xaxis\":\"x\",\"y\":[14.18,15.97,12.6,15.59,22.83],\"yaxis\":\"y\",\"type\":\"bar\"},{\"alignmentgroup\":\"True\",\"hovertemplate\":\"topics_cleaned=Political<br>year=2020<br>day_phase=%{x}<br>% with retweets=%{text}<extra></extra>\",\"legendgroup\":\"Political\",\"marker\":{\"color\":\"#b8f2e6\",\"pattern\":{\"shape\":\"\"}},\"name\":\"Political\",\"offsetgroup\":\"Political\",\"orientation\":\"v\",\"showlegend\":false,\"text\":[14.82,19.19,18.15,16.03,15.53],\"textposition\":\"auto\",\"x\":[\"Afternoon\",\"Dusk\",\"Middle of the night\",\"Morning\",\"Night\"],\"xaxis\":\"x2\",\"y\":[14.82,19.19,18.15,16.03,15.53],\"yaxis\":\"y2\",\"type\":\"bar\"},{\"alignmentgroup\":\"True\",\"hovertemplate\":\"topics_cleaned=Political<br>year=2021<br>day_phase=%{x}<br>% with retweets=%{text}<extra></extra>\",\"legendgroup\":\"Political\",\"marker\":{\"color\":\"#b8f2e6\",\"pattern\":{\"shape\":\"\"}},\"name\":\"Political\",\"offsetgroup\":\"Political\",\"orientation\":\"v\",\"showlegend\":false,\"text\":[19.58,22.92,25.78,10.23,21.12],\"textposition\":\"auto\",\"x\":[\"Afternoon\",\"Dusk\",\"Middle of the night\",\"Morning\",\"Night\"],\"xaxis\":\"x3\",\"y\":[19.58,22.92,25.78,10.23,21.12],\"yaxis\":\"y3\",\"type\":\"bar\"},{\"alignmentgroup\":\"True\",\"hovertemplate\":\"topics_cleaned=Sport<br>year=2019<br>day_phase=%{x}<br>% with retweets=%{text}<extra></extra>\",\"legendgroup\":\"Sport\",\"marker\":{\"color\":\"#faf3dd\",\"pattern\":{\"shape\":\"\"}},\"name\":\"Sport\",\"offsetgroup\":\"Sport\",\"orientation\":\"v\",\"showlegend\":true,\"text\":[26.59,22.18,19.83,18.59,16.13],\"textposition\":\"auto\",\"x\":[\"Afternoon\",\"Dusk\",\"Middle of the night\",\"Morning\",\"Night\"],\"xaxis\":\"x\",\"y\":[26.59,22.18,19.83,18.59,16.13],\"yaxis\":\"y\",\"type\":\"bar\"},{\"alignmentgroup\":\"True\",\"hovertemplate\":\"topics_cleaned=Sport<br>year=2020<br>day_phase=%{x}<br>% with retweets=%{text}<extra></extra>\",\"legendgroup\":\"Sport\",\"marker\":{\"color\":\"#faf3dd\",\"pattern\":{\"shape\":\"\"}},\"name\":\"Sport\",\"offsetgroup\":\"Sport\",\"orientation\":\"v\",\"showlegend\":false,\"text\":[24.02,21.77,17.22,13.76,18.93],\"textposition\":\"auto\",\"x\":[\"Afternoon\",\"Dusk\",\"Middle of the night\",\"Morning\",\"Night\"],\"xaxis\":\"x2\",\"y\":[24.02,21.77,17.22,13.76,18.93],\"yaxis\":\"y2\",\"type\":\"bar\"},{\"alignmentgroup\":\"True\",\"hovertemplate\":\"topics_cleaned=Sport<br>year=2021<br>day_phase=%{x}<br>% with retweets=%{text}<extra></extra>\",\"legendgroup\":\"Sport\",\"marker\":{\"color\":\"#faf3dd\",\"pattern\":{\"shape\":\"\"}},\"name\":\"Sport\",\"offsetgroup\":\"Sport\",\"orientation\":\"v\",\"showlegend\":false,\"text\":[26.6,22.23,22.6,17.5,24.14],\"textposition\":\"auto\",\"x\":[\"Afternoon\",\"Dusk\",\"Middle of the night\",\"Morning\",\"Night\"],\"xaxis\":\"x3\",\"y\":[26.6,22.23,22.6,17.5,24.14],\"yaxis\":\"y3\",\"type\":\"bar\"},{\"alignmentgroup\":\"True\",\"hovertemplate\":\"topics_cleaned=TV and Movies<br>year=2019<br>day_phase=%{x}<br>% with retweets=%{text}<extra></extra>\",\"legendgroup\":\"TV and Movies\",\"marker\":{\"color\":\"#ffa69e\",\"pattern\":{\"shape\":\"\"}},\"name\":\"TV and Movies\",\"offsetgroup\":\"TV and Movies\",\"orientation\":\"v\",\"showlegend\":true,\"text\":[18.0,15.55,14.06,13.58,18.54],\"textposition\":\"auto\",\"x\":[\"Afternoon\",\"Dusk\",\"Middle of the night\",\"Morning\",\"Night\"],\"xaxis\":\"x\",\"y\":[18.0,15.55,14.06,13.58,18.54],\"yaxis\":\"y\",\"type\":\"bar\"},{\"alignmentgroup\":\"True\",\"hovertemplate\":\"topics_cleaned=TV and Movies<br>year=2020<br>day_phase=%{x}<br>% with retweets=%{text}<extra></extra>\",\"legendgroup\":\"TV and Movies\",\"marker\":{\"color\":\"#ffa69e\",\"pattern\":{\"shape\":\"\"}},\"name\":\"TV and Movies\",\"offsetgroup\":\"TV and Movies\",\"orientation\":\"v\",\"showlegend\":false,\"text\":[16.74,15.05,14.01,12.7,15.15],\"textposition\":\"auto\",\"x\":[\"Afternoon\",\"Dusk\",\"Middle of the night\",\"Morning\",\"Night\"],\"xaxis\":\"x2\",\"y\":[16.74,15.05,14.01,12.7,15.15],\"yaxis\":\"y2\",\"type\":\"bar\"},{\"alignmentgroup\":\"True\",\"hovertemplate\":\"topics_cleaned=TV and Movies<br>year=2021<br>day_phase=%{x}<br>% with retweets=%{text}<extra></extra>\",\"legendgroup\":\"TV and Movies\",\"marker\":{\"color\":\"#ffa69e\",\"pattern\":{\"shape\":\"\"}},\"name\":\"TV and Movies\",\"offsetgroup\":\"TV and Movies\",\"orientation\":\"v\",\"showlegend\":false,\"text\":[18.09,16.52,14.65,11.09,15.97],\"textposition\":\"auto\",\"x\":[\"Afternoon\",\"Dusk\",\"Middle of the night\",\"Morning\",\"Night\"],\"xaxis\":\"x3\",\"y\":[18.09,16.52,14.65,11.09,15.97],\"yaxis\":\"y3\",\"type\":\"bar\"},{\"alignmentgroup\":\"True\",\"hovertemplate\":\"topics_cleaned=Video Game<br>year=2019<br>day_phase=%{x}<br>% with retweets=%{text}<extra></extra>\",\"legendgroup\":\"Video Game\",\"marker\":{\"color\":\"#FE7F2D\",\"pattern\":{\"shape\":\"\"}},\"name\":\"Video Game\",\"offsetgroup\":\"Video Game\",\"orientation\":\"v\",\"showlegend\":true,\"text\":[16.0,14.62,14.5,16.43,null],\"textposition\":\"auto\",\"x\":[\"Afternoon\",\"Dusk\",\"Middle of the night\",\"Morning\",\"Night\"],\"xaxis\":\"x\",\"y\":[16.0,14.62,14.5,16.43,null],\"yaxis\":\"y\",\"type\":\"bar\"},{\"alignmentgroup\":\"True\",\"hovertemplate\":\"topics_cleaned=Video Game<br>year=2020<br>day_phase=%{x}<br>% with retweets=%{text}<extra></extra>\",\"legendgroup\":\"Video Game\",\"marker\":{\"color\":\"#FE7F2D\",\"pattern\":{\"shape\":\"\"}},\"name\":\"Video Game\",\"offsetgroup\":\"Video Game\",\"orientation\":\"v\",\"showlegend\":false,\"text\":[22.05,14.17,17.11,16.37,17.08],\"textposition\":\"auto\",\"x\":[\"Afternoon\",\"Dusk\",\"Middle of the night\",\"Morning\",\"Night\"],\"xaxis\":\"x2\",\"y\":[22.05,14.17,17.11,16.37,17.08],\"yaxis\":\"y2\",\"type\":\"bar\"},{\"alignmentgroup\":\"True\",\"hovertemplate\":\"topics_cleaned=Video Game<br>year=2021<br>day_phase=%{x}<br>% with retweets=%{text}<extra></extra>\",\"legendgroup\":\"Video Game\",\"marker\":{\"color\":\"#FE7F2D\",\"pattern\":{\"shape\":\"\"}},\"name\":\"Video Game\",\"offsetgroup\":\"Video Game\",\"orientation\":\"v\",\"showlegend\":false,\"text\":[14.21,14.54,16.0,12.08,16.18],\"textposition\":\"auto\",\"x\":[\"Afternoon\",\"Dusk\",\"Middle of the night\",\"Morning\",\"Night\"],\"xaxis\":\"x3\",\"y\":[14.21,14.54,16.0,12.08,16.18],\"yaxis\":\"y3\",\"type\":\"bar\"},{\"alignmentgroup\":\"True\",\"hovertemplate\":\"topics_cleaned=Holiday<br>year=2019<br>day_phase=%{x}<br>% with retweets=%{text}<extra></extra>\",\"legendgroup\":\"Holiday\",\"marker\":{\"color\":\"#FCCA46\",\"pattern\":{\"shape\":\"\"}},\"name\":\"Holiday\",\"offsetgroup\":\"Holiday\",\"orientation\":\"v\",\"showlegend\":true,\"text\":[14.44],\"textposition\":\"auto\",\"x\":[\"Night\"],\"xaxis\":\"x\",\"y\":[14.44],\"yaxis\":\"y\",\"type\":\"bar\"},{\"alignmentgroup\":\"True\",\"hovertemplate\":\"topics_cleaned=Holiday<br>year=2020<br>day_phase=%{x}<br>% with retweets=%{text}<extra></extra>\",\"legendgroup\":\"Holiday\",\"marker\":{\"color\":\"#FCCA46\",\"pattern\":{\"shape\":\"\"}},\"name\":\"Holiday\",\"offsetgroup\":\"Holiday\",\"orientation\":\"v\",\"showlegend\":false,\"text\":[18.57,18.08,15.24,12.96,17.49],\"textposition\":\"auto\",\"x\":[\"Afternoon\",\"Dusk\",\"Middle of the night\",\"Morning\",\"Night\"],\"xaxis\":\"x2\",\"y\":[18.57,18.08,15.24,12.96,17.49],\"yaxis\":\"y2\",\"type\":\"bar\"},{\"alignmentgroup\":\"True\",\"hovertemplate\":\"topics_cleaned=Holiday<br>year=2021<br>day_phase=%{x}<br>% with retweets=%{text}<extra></extra>\",\"legendgroup\":\"Holiday\",\"marker\":{\"color\":\"#FCCA46\",\"pattern\":{\"shape\":\"\"}},\"name\":\"Holiday\",\"offsetgroup\":\"Holiday\",\"orientation\":\"v\",\"showlegend\":false,\"text\":[21.76,19.8,19.0,16.13,21.37],\"textposition\":\"auto\",\"x\":[\"Afternoon\",\"Dusk\",\"Middle of the night\",\"Morning\",\"Night\"],\"xaxis\":\"x3\",\"y\":[21.76,19.8,19.0,16.13,21.37],\"yaxis\":\"y3\",\"type\":\"bar\"},{\"alignmentgroup\":\"True\",\"hovertemplate\":\"topics_cleaned=News<br>year=2020<br>day_phase=%{x}<br>% with retweets=%{text}<extra></extra>\",\"legendgroup\":\"News\",\"marker\":{\"color\":\"#ED7B84\",\"pattern\":{\"shape\":\"\"}},\"name\":\"News\",\"offsetgroup\":\"News\",\"orientation\":\"v\",\"showlegend\":true,\"text\":[21.29,21.39,19.56,14.87,19.63],\"textposition\":\"auto\",\"x\":[\"Afternoon\",\"Dusk\",\"Middle of the night\",\"Morning\",\"Night\"],\"xaxis\":\"x2\",\"y\":[21.29,21.39,19.56,14.87,19.63],\"yaxis\":\"y2\",\"type\":\"bar\"},{\"alignmentgroup\":\"True\",\"hovertemplate\":\"topics_cleaned=News<br>year=2021<br>day_phase=%{x}<br>% with retweets=%{text}<extra></extra>\",\"legendgroup\":\"News\",\"marker\":{\"color\":\"#ED7B84\",\"pattern\":{\"shape\":\"\"}},\"name\":\"News\",\"offsetgroup\":\"News\",\"orientation\":\"v\",\"showlegend\":false,\"text\":[20.78,21.19,19.83,14.42,21.5],\"textposition\":\"auto\",\"x\":[\"Afternoon\",\"Dusk\",\"Middle of the night\",\"Morning\",\"Night\"],\"xaxis\":\"x3\",\"y\":[20.78,21.19,19.83,14.42,21.5],\"yaxis\":\"y3\",\"type\":\"bar\"}],                        {\"template\":{\"data\":{\"histogram2dcontour\":[{\"type\":\"histogram2dcontour\",\"colorbar\":{\"outlinewidth\":0,\"ticks\":\"\"},\"colorscale\":[[0.0,\"#0d0887\"],[0.1111111111111111,\"#46039f\"],[0.2222222222222222,\"#7201a8\"],[0.3333333333333333,\"#9c179e\"],[0.4444444444444444,\"#bd3786\"],[0.5555555555555556,\"#d8576b\"],[0.6666666666666666,\"#ed7953\"],[0.7777777777777778,\"#fb9f3a\"],[0.8888888888888888,\"#fdca26\"],[1.0,\"#f0f921\"]]}],\"choropleth\":[{\"type\":\"choropleth\",\"colorbar\":{\"outlinewidth\":0,\"ticks\":\"\"}}],\"histogram2d\":[{\"type\":\"histogram2d\",\"colorbar\":{\"outlinewidth\":0,\"ticks\":\"\"},\"colorscale\":[[0.0,\"#0d0887\"],[0.1111111111111111,\"#46039f\"],[0.2222222222222222,\"#7201a8\"],[0.3333333333333333,\"#9c179e\"],[0.4444444444444444,\"#bd3786\"],[0.5555555555555556,\"#d8576b\"],[0.6666666666666666,\"#ed7953\"],[0.7777777777777778,\"#fb9f3a\"],[0.8888888888888888,\"#fdca26\"],[1.0,\"#f0f921\"]]}],\"heatmap\":[{\"type\":\"heatmap\",\"colorbar\":{\"outlinewidth\":0,\"ticks\":\"\"},\"colorscale\":[[0.0,\"#0d0887\"],[0.1111111111111111,\"#46039f\"],[0.2222222222222222,\"#7201a8\"],[0.3333333333333333,\"#9c179e\"],[0.4444444444444444,\"#bd3786\"],[0.5555555555555556,\"#d8576b\"],[0.6666666666666666,\"#ed7953\"],[0.7777777777777778,\"#fb9f3a\"],[0.8888888888888888,\"#fdca26\"],[1.0,\"#f0f921\"]]}],\"heatmapgl\":[{\"type\":\"heatmapgl\",\"colorbar\":{\"outlinewidth\":0,\"ticks\":\"\"},\"colorscale\":[[0.0,\"#0d0887\"],[0.1111111111111111,\"#46039f\"],[0.2222222222222222,\"#7201a8\"],[0.3333333333333333,\"#9c179e\"],[0.4444444444444444,\"#bd3786\"],[0.5555555555555556,\"#d8576b\"],[0.6666666666666666,\"#ed7953\"],[0.7777777777777778,\"#fb9f3a\"],[0.8888888888888888,\"#fdca26\"],[1.0,\"#f0f921\"]]}],\"contourcarpet\":[{\"type\":\"contourcarpet\",\"colorbar\":{\"outlinewidth\":0,\"ticks\":\"\"}}],\"contour\":[{\"type\":\"contour\",\"colorbar\":{\"outlinewidth\":0,\"ticks\":\"\"},\"colorscale\":[[0.0,\"#0d0887\"],[0.1111111111111111,\"#46039f\"],[0.2222222222222222,\"#7201a8\"],[0.3333333333333333,\"#9c179e\"],[0.4444444444444444,\"#bd3786\"],[0.5555555555555556,\"#d8576b\"],[0.6666666666666666,\"#ed7953\"],[0.7777777777777778,\"#fb9f3a\"],[0.8888888888888888,\"#fdca26\"],[1.0,\"#f0f921\"]]}],\"surface\":[{\"type\":\"surface\",\"colorbar\":{\"outlinewidth\":0,\"ticks\":\"\"},\"colorscale\":[[0.0,\"#0d0887\"],[0.1111111111111111,\"#46039f\"],[0.2222222222222222,\"#7201a8\"],[0.3333333333333333,\"#9c179e\"],[0.4444444444444444,\"#bd3786\"],[0.5555555555555556,\"#d8576b\"],[0.6666666666666666,\"#ed7953\"],[0.7777777777777778,\"#fb9f3a\"],[0.8888888888888888,\"#fdca26\"],[1.0,\"#f0f921\"]]}],\"mesh3d\":[{\"type\":\"mesh3d\",\"colorbar\":{\"outlinewidth\":0,\"ticks\":\"\"}}],\"scatter\":[{\"fillpattern\":{\"fillmode\":\"overlay\",\"size\":10,\"solidity\":0.2},\"type\":\"scatter\"}],\"parcoords\":[{\"type\":\"parcoords\",\"line\":{\"colorbar\":{\"outlinewidth\":0,\"ticks\":\"\"}}}],\"scatterpolargl\":[{\"type\":\"scatterpolargl\",\"marker\":{\"colorbar\":{\"outlinewidth\":0,\"ticks\":\"\"}}}],\"bar\":[{\"error_x\":{\"color\":\"#2a3f5f\"},\"error_y\":{\"color\":\"#2a3f5f\"},\"marker\":{\"line\":{\"color\":\"#E5ECF6\",\"width\":0.5},\"pattern\":{\"fillmode\":\"overlay\",\"size\":10,\"solidity\":0.2}},\"type\":\"bar\"}],\"scattergeo\":[{\"type\":\"scattergeo\",\"marker\":{\"colorbar\":{\"outlinewidth\":0,\"ticks\":\"\"}}}],\"scatterpolar\":[{\"type\":\"scatterpolar\",\"marker\":{\"colorbar\":{\"outlinewidth\":0,\"ticks\":\"\"}}}],\"histogram\":[{\"marker\":{\"pattern\":{\"fillmode\":\"overlay\",\"size\":10,\"solidity\":0.2}},\"type\":\"histogram\"}],\"scattergl\":[{\"type\":\"scattergl\",\"marker\":{\"colorbar\":{\"outlinewidth\":0,\"ticks\":\"\"}}}],\"scatter3d\":[{\"type\":\"scatter3d\",\"line\":{\"colorbar\":{\"outlinewidth\":0,\"ticks\":\"\"}},\"marker\":{\"colorbar\":{\"outlinewidth\":0,\"ticks\":\"\"}}}],\"scattermapbox\":[{\"type\":\"scattermapbox\",\"marker\":{\"colorbar\":{\"outlinewidth\":0,\"ticks\":\"\"}}}],\"scatterternary\":[{\"type\":\"scatterternary\",\"marker\":{\"colorbar\":{\"outlinewidth\":0,\"ticks\":\"\"}}}],\"scattercarpet\":[{\"type\":\"scattercarpet\",\"marker\":{\"colorbar\":{\"outlinewidth\":0,\"ticks\":\"\"}}}],\"carpet\":[{\"aaxis\":{\"endlinecolor\":\"#2a3f5f\",\"gridcolor\":\"white\",\"linecolor\":\"white\",\"minorgridcolor\":\"white\",\"startlinecolor\":\"#2a3f5f\"},\"baxis\":{\"endlinecolor\":\"#2a3f5f\",\"gridcolor\":\"white\",\"linecolor\":\"white\",\"minorgridcolor\":\"white\",\"startlinecolor\":\"#2a3f5f\"},\"type\":\"carpet\"}],\"table\":[{\"cells\":{\"fill\":{\"color\":\"#EBF0F8\"},\"line\":{\"color\":\"white\"}},\"header\":{\"fill\":{\"color\":\"#C8D4E3\"},\"line\":{\"color\":\"white\"}},\"type\":\"table\"}],\"barpolar\":[{\"marker\":{\"line\":{\"color\":\"#E5ECF6\",\"width\":0.5},\"pattern\":{\"fillmode\":\"overlay\",\"size\":10,\"solidity\":0.2}},\"type\":\"barpolar\"}],\"pie\":[{\"automargin\":true,\"type\":\"pie\"}]},\"layout\":{\"autotypenumbers\":\"strict\",\"colorway\":[\"#636efa\",\"#EF553B\",\"#00cc96\",\"#ab63fa\",\"#FFA15A\",\"#19d3f3\",\"#FF6692\",\"#B6E880\",\"#FF97FF\",\"#FECB52\"],\"font\":{\"color\":\"#2a3f5f\"},\"hovermode\":\"closest\",\"hoverlabel\":{\"align\":\"left\"},\"paper_bgcolor\":\"white\",\"plot_bgcolor\":\"#E5ECF6\",\"polar\":{\"bgcolor\":\"#E5ECF6\",\"angularaxis\":{\"gridcolor\":\"white\",\"linecolor\":\"white\",\"ticks\":\"\"},\"radialaxis\":{\"gridcolor\":\"white\",\"linecolor\":\"white\",\"ticks\":\"\"}},\"ternary\":{\"bgcolor\":\"#E5ECF6\",\"aaxis\":{\"gridcolor\":\"white\",\"linecolor\":\"white\",\"ticks\":\"\"},\"baxis\":{\"gridcolor\":\"white\",\"linecolor\":\"white\",\"ticks\":\"\"},\"caxis\":{\"gridcolor\":\"white\",\"linecolor\":\"white\",\"ticks\":\"\"}},\"coloraxis\":{\"colorbar\":{\"outlinewidth\":0,\"ticks\":\"\"}},\"colorscale\":{\"sequential\":[[0.0,\"#0d0887\"],[0.1111111111111111,\"#46039f\"],[0.2222222222222222,\"#7201a8\"],[0.3333333333333333,\"#9c179e\"],[0.4444444444444444,\"#bd3786\"],[0.5555555555555556,\"#d8576b\"],[0.6666666666666666,\"#ed7953\"],[0.7777777777777778,\"#fb9f3a\"],[0.8888888888888888,\"#fdca26\"],[1.0,\"#f0f921\"]],\"sequentialminus\":[[0.0,\"#0d0887\"],[0.1111111111111111,\"#46039f\"],[0.2222222222222222,\"#7201a8\"],[0.3333333333333333,\"#9c179e\"],[0.4444444444444444,\"#bd3786\"],[0.5555555555555556,\"#d8576b\"],[0.6666666666666666,\"#ed7953\"],[0.7777777777777778,\"#fb9f3a\"],[0.8888888888888888,\"#fdca26\"],[1.0,\"#f0f921\"]],\"diverging\":[[0,\"#8e0152\"],[0.1,\"#c51b7d\"],[0.2,\"#de77ae\"],[0.3,\"#f1b6da\"],[0.4,\"#fde0ef\"],[0.5,\"#f7f7f7\"],[0.6,\"#e6f5d0\"],[0.7,\"#b8e186\"],[0.8,\"#7fbc41\"],[0.9,\"#4d9221\"],[1,\"#276419\"]]},\"xaxis\":{\"gridcolor\":\"white\",\"linecolor\":\"white\",\"ticks\":\"\",\"title\":{\"standoff\":15},\"zerolinecolor\":\"white\",\"automargin\":true,\"zerolinewidth\":2},\"yaxis\":{\"gridcolor\":\"white\",\"linecolor\":\"white\",\"ticks\":\"\",\"title\":{\"standoff\":15},\"zerolinecolor\":\"white\",\"automargin\":true,\"zerolinewidth\":2},\"scene\":{\"xaxis\":{\"backgroundcolor\":\"#E5ECF6\",\"gridcolor\":\"white\",\"linecolor\":\"white\",\"showbackground\":true,\"ticks\":\"\",\"zerolinecolor\":\"white\",\"gridwidth\":2},\"yaxis\":{\"backgroundcolor\":\"#E5ECF6\",\"gridcolor\":\"white\",\"linecolor\":\"white\",\"showbackground\":true,\"ticks\":\"\",\"zerolinecolor\":\"white\",\"gridwidth\":2},\"zaxis\":{\"backgroundcolor\":\"#E5ECF6\",\"gridcolor\":\"white\",\"linecolor\":\"white\",\"showbackground\":true,\"ticks\":\"\",\"zerolinecolor\":\"white\",\"gridwidth\":2}},\"shapedefaults\":{\"line\":{\"color\":\"#2a3f5f\"}},\"annotationdefaults\":{\"arrowcolor\":\"#2a3f5f\",\"arrowhead\":0,\"arrowwidth\":1},\"geo\":{\"bgcolor\":\"white\",\"landcolor\":\"#E5ECF6\",\"subunitcolor\":\"white\",\"showland\":true,\"showlakes\":true,\"lakecolor\":\"white\"},\"title\":{\"x\":0.05},\"mapbox\":{\"style\":\"light\"}}},\"xaxis\":{\"anchor\":\"y\",\"domain\":[0.0,0.31999999999999995],\"title\":{\"text\":\"Day phase\"},\"categoryorder\":\"array\",\"categoryarray\":[\"Morning\",\"Afternoon\",\"Dusk\",\"Night\",\"Middle of the night\"]},\"yaxis\":{\"anchor\":\"x\",\"domain\":[0.0,1.0],\"title\":{\"text\":\"% with retweets\"}},\"xaxis2\":{\"anchor\":\"y2\",\"domain\":[0.33999999999999997,0.6599999999999999],\"matches\":\"x\",\"title\":{\"text\":\"Day phase\"},\"categoryorder\":\"array\",\"categoryarray\":[\"Morning\",\"Afternoon\",\"Dusk\",\"Night\",\"Middle of the night\"]},\"yaxis2\":{\"anchor\":\"x2\",\"domain\":[0.0,1.0],\"matches\":\"y\",\"showticklabels\":false,\"title\":{\"text\":\"% with retweets\"}},\"xaxis3\":{\"anchor\":\"y3\",\"domain\":[0.6799999999999999,0.9999999999999999],\"matches\":\"x\",\"title\":{\"text\":\"Day phase\"},\"categoryorder\":\"array\",\"categoryarray\":[\"Morning\",\"Afternoon\",\"Dusk\",\"Night\",\"Middle of the night\"]},\"yaxis3\":{\"anchor\":\"x3\",\"domain\":[0.0,1.0],\"matches\":\"y\",\"showticklabels\":false,\"title\":{\"text\":\"% with retweets\"}},\"annotations\":[{\"font\":{},\"showarrow\":false,\"text\":\"year=2019\",\"x\":0.15999999999999998,\"xanchor\":\"center\",\"xref\":\"paper\",\"y\":1.0,\"yanchor\":\"bottom\",\"yref\":\"paper\"},{\"font\":{},\"showarrow\":false,\"text\":\"year=2020\",\"x\":0.49999999999999994,\"xanchor\":\"center\",\"xref\":\"paper\",\"y\":1.0,\"yanchor\":\"bottom\",\"yref\":\"paper\"},{\"font\":{},\"showarrow\":false,\"text\":\"year=2021\",\"x\":0.8399999999999999,\"xanchor\":\"center\",\"xref\":\"paper\",\"y\":1.0,\"yanchor\":\"bottom\",\"yref\":\"paper\"}],\"legend\":{\"title\":{\"text\":\"topics_cleaned\"},\"tracegroupgap\":0},\"margin\":{\"t\":60},\"barmode\":\"stack\",\"title\":{\"text\":\"Percentage of retweets by topic during the day\"},\"width\":900,\"height\":500},                        {\"responsive\": true}                    ).then(function(){\n                            \nvar gd = document.getElementById('129c1cde-fdfa-4cc2-9d8d-c21c9278f0c5');\nvar x = new MutationObserver(function (mutations, observer) {{\n        var display = window.getComputedStyle(gd).display;\n        if (!display || display === 'none') {{\n            console.log([gd, 'removed!']);\n            Plotly.purge(gd);\n            observer.disconnect();\n        }}\n}});\n\n// Listen for the removal of the full notebook cells\nvar notebookContainer = gd.closest('#notebook-container');\nif (notebookContainer) {{\n    x.observe(notebookContainer, {childList: true});\n}}\n\n// Listen for the clearing of the current output cell\nvar outputEl = gd.closest('.output');\nif (outputEl) {{\n    x.observe(outputEl, {childList: true});\n}}\n\n                        })                };                });            </script>        </div>"
     },
     "metadata": {},
     "output_type": "display_data"
    }
   ],
   "source": [
    "multi_label_chart(df_analysis, \"topics_cleaned\", day_phases, \"day_phase\", \"% with retweets\", \"Day phase\", \"% with retweets\", \"Percentage of retweets by topic during the day\", offline_graphs)"
   ],
   "metadata": {
    "collapsed": false,
    "pycharm": {
     "name": "#%%\n"
    }
   }
  },
  {
   "cell_type": "markdown",
   "source": [
    "#### Average retweet count per topic during the week"
   ],
   "metadata": {
    "collapsed": false,
    "pycharm": {
     "name": "#%% md\n"
    }
   }
  },
  {
   "cell_type": "code",
   "execution_count": 53,
   "outputs": [
    {
     "data": {
      "text/plain": "    year day_of_week        topics_cleaned  count day_of_week  % day_of_week  \\\n0   2019      Friday                  Book                 30       0.015465   \n1   2019      Friday                 Brand               4227       2.179012   \n2   2019      Friday              Entities               2987       1.539794   \n3   2019      Friday  Interest and Hobbies               3863       1.991371   \n4   2019      Friday                 Music                347       0.178878   \n..   ...         ...                   ...                ...            ...   \n86  2021   Wednesday                Person               4851       2.786202   \n87  2021   Wednesday             Political                243       0.139569   \n88  2021   Wednesday                 Sport               1083       0.622028   \n89  2021   Wednesday         TV and Movies               5374       3.086590   \n90  2021   Wednesday            Video Game                276       0.158522   \n\n    % with retweets  % with likes  retweets mean  likes mean  \n0             20.00         56.67           0.20        2.77  \n1             16.63         48.78           0.50        3.23  \n2             15.03         49.15           0.40        3.21  \n3             13.72         47.04           0.40        2.96  \n4             15.56         49.28           0.26        1.88  \n..              ...           ...            ...         ...  \n86            16.47         48.34           0.62        4.32  \n87            20.99         44.86           1.40        4.97  \n88            25.58         63.80           0.79        7.53  \n89            15.41         54.82           0.52        5.67  \n90            13.77         61.59           0.35        4.99  \n\n[260 rows x 9 columns]",
      "text/html": "<div>\n<style scoped>\n    .dataframe tbody tr th:only-of-type {\n        vertical-align: middle;\n    }\n\n    .dataframe tbody tr th {\n        vertical-align: top;\n    }\n\n    .dataframe thead th {\n        text-align: right;\n    }\n</style>\n<table border=\"1\" class=\"dataframe\">\n  <thead>\n    <tr style=\"text-align: right;\">\n      <th></th>\n      <th>year</th>\n      <th>day_of_week</th>\n      <th>topics_cleaned</th>\n      <th>count day_of_week</th>\n      <th>% day_of_week</th>\n      <th>% with retweets</th>\n      <th>% with likes</th>\n      <th>retweets mean</th>\n      <th>likes mean</th>\n    </tr>\n  </thead>\n  <tbody>\n    <tr>\n      <th>0</th>\n      <td>2019</td>\n      <td>Friday</td>\n      <td>Book</td>\n      <td>30</td>\n      <td>0.015465</td>\n      <td>20.00</td>\n      <td>56.67</td>\n      <td>0.20</td>\n      <td>2.77</td>\n    </tr>\n    <tr>\n      <th>1</th>\n      <td>2019</td>\n      <td>Friday</td>\n      <td>Brand</td>\n      <td>4227</td>\n      <td>2.179012</td>\n      <td>16.63</td>\n      <td>48.78</td>\n      <td>0.50</td>\n      <td>3.23</td>\n    </tr>\n    <tr>\n      <th>2</th>\n      <td>2019</td>\n      <td>Friday</td>\n      <td>Entities</td>\n      <td>2987</td>\n      <td>1.539794</td>\n      <td>15.03</td>\n      <td>49.15</td>\n      <td>0.40</td>\n      <td>3.21</td>\n    </tr>\n    <tr>\n      <th>3</th>\n      <td>2019</td>\n      <td>Friday</td>\n      <td>Interest and Hobbies</td>\n      <td>3863</td>\n      <td>1.991371</td>\n      <td>13.72</td>\n      <td>47.04</td>\n      <td>0.40</td>\n      <td>2.96</td>\n    </tr>\n    <tr>\n      <th>4</th>\n      <td>2019</td>\n      <td>Friday</td>\n      <td>Music</td>\n      <td>347</td>\n      <td>0.178878</td>\n      <td>15.56</td>\n      <td>49.28</td>\n      <td>0.26</td>\n      <td>1.88</td>\n    </tr>\n    <tr>\n      <th>...</th>\n      <td>...</td>\n      <td>...</td>\n      <td>...</td>\n      <td>...</td>\n      <td>...</td>\n      <td>...</td>\n      <td>...</td>\n      <td>...</td>\n      <td>...</td>\n    </tr>\n    <tr>\n      <th>86</th>\n      <td>2021</td>\n      <td>Wednesday</td>\n      <td>Person</td>\n      <td>4851</td>\n      <td>2.786202</td>\n      <td>16.47</td>\n      <td>48.34</td>\n      <td>0.62</td>\n      <td>4.32</td>\n    </tr>\n    <tr>\n      <th>87</th>\n      <td>2021</td>\n      <td>Wednesday</td>\n      <td>Political</td>\n      <td>243</td>\n      <td>0.139569</td>\n      <td>20.99</td>\n      <td>44.86</td>\n      <td>1.40</td>\n      <td>4.97</td>\n    </tr>\n    <tr>\n      <th>88</th>\n      <td>2021</td>\n      <td>Wednesday</td>\n      <td>Sport</td>\n      <td>1083</td>\n      <td>0.622028</td>\n      <td>25.58</td>\n      <td>63.80</td>\n      <td>0.79</td>\n      <td>7.53</td>\n    </tr>\n    <tr>\n      <th>89</th>\n      <td>2021</td>\n      <td>Wednesday</td>\n      <td>TV and Movies</td>\n      <td>5374</td>\n      <td>3.086590</td>\n      <td>15.41</td>\n      <td>54.82</td>\n      <td>0.52</td>\n      <td>5.67</td>\n    </tr>\n    <tr>\n      <th>90</th>\n      <td>2021</td>\n      <td>Wednesday</td>\n      <td>Video Game</td>\n      <td>276</td>\n      <td>0.158522</td>\n      <td>13.77</td>\n      <td>61.59</td>\n      <td>0.35</td>\n      <td>4.99</td>\n    </tr>\n  </tbody>\n</table>\n<p>260 rows × 9 columns</p>\n</div>"
     },
     "execution_count": 53,
     "metadata": {},
     "output_type": "execute_result"
    }
   ],
   "source": [
    "df_analysis = retweets_likes_info_by_year(tweet_analysis, ['day_of_week', 'topics_cleaned'], week_days)\n",
    "df_analysis"
   ],
   "metadata": {
    "collapsed": false,
    "pycharm": {
     "name": "#%%\n"
    }
   }
  },
  {
   "cell_type": "code",
   "execution_count": 54,
   "outputs": [
    {
     "data": {
      "application/vnd.plotly.v1+json": {
       "data": [
        {
         "alignmentgroup": "True",
         "hovertemplate": "topics_cleaned=Book<br>year=2019<br>day_of_week=%{x}<br>% with retweets=%{text}<extra></extra>",
         "legendgroup": "Book",
         "marker": {
          "color": "#006D77",
          "pattern": {
           "shape": ""
          }
         },
         "name": "Book",
         "offsetgroup": "Book",
         "orientation": "v",
         "showlegend": true,
         "text": [
          20.0,
          30.0,
          33.33,
          30.77,
          16.66,
          17.14,
          16.46
         ],
         "textposition": "auto",
         "x": [
          "Friday",
          "Monday",
          "Saturday",
          "Sunday",
          "Thursday",
          "Tuesday",
          "Wednesday"
         ],
         "xaxis": "x",
         "y": [
          20.0,
          30.0,
          33.33,
          30.77,
          16.66,
          17.14,
          16.46
         ],
         "yaxis": "y",
         "type": "bar"
        },
        {
         "alignmentgroup": "True",
         "hovertemplate": "topics_cleaned=Book<br>year=2020<br>day_of_week=%{x}<br>% with retweets=%{text}<extra></extra>",
         "legendgroup": "Book",
         "marker": {
          "color": "#006D77",
          "pattern": {
           "shape": ""
          }
         },
         "name": "Book",
         "offsetgroup": "Book",
         "orientation": "v",
         "showlegend": false,
         "text": [
          16.33,
          16.95,
          20.75,
          10.71,
          15.25,
          17.54,
          13.56
         ],
         "textposition": "auto",
         "x": [
          "Friday",
          "Monday",
          "Saturday",
          "Sunday",
          "Thursday",
          "Tuesday",
          "Wednesday"
         ],
         "xaxis": "x2",
         "y": [
          16.33,
          16.95,
          20.75,
          10.71,
          15.25,
          17.54,
          13.56
         ],
         "yaxis": "y2",
         "type": "bar"
        },
        {
         "alignmentgroup": "True",
         "hovertemplate": "topics_cleaned=Book<br>year=2021<br>day_of_week=%{x}<br>% with retweets=%{text}<extra></extra>",
         "legendgroup": "Book",
         "marker": {
          "color": "#006D77",
          "pattern": {
           "shape": ""
          }
         },
         "name": "Book",
         "offsetgroup": "Book",
         "orientation": "v",
         "showlegend": false,
         "text": [
          16.33,
          20.59,
          18.18,
          24.44,
          20.0,
          11.29,
          13.95
         ],
         "textposition": "auto",
         "x": [
          "Friday",
          "Monday",
          "Saturday",
          "Sunday",
          "Thursday",
          "Tuesday",
          "Wednesday"
         ],
         "xaxis": "x3",
         "y": [
          16.33,
          20.59,
          18.18,
          24.44,
          20.0,
          11.29,
          13.95
         ],
         "yaxis": "y3",
         "type": "bar"
        },
        {
         "alignmentgroup": "True",
         "hovertemplate": "topics_cleaned=Brand<br>year=2019<br>day_of_week=%{x}<br>% with retweets=%{text}<extra></extra>",
         "legendgroup": "Brand",
         "marker": {
          "color": "#FBD1A2",
          "pattern": {
           "shape": ""
          }
         },
         "name": "Brand",
         "offsetgroup": "Brand",
         "orientation": "v",
         "showlegend": true,
         "text": [
          16.63,
          15.69,
          16.04,
          14.75,
          16.32,
          14.68,
          15.72
         ],
         "textposition": "auto",
         "x": [
          "Friday",
          "Monday",
          "Saturday",
          "Sunday",
          "Thursday",
          "Tuesday",
          "Wednesday"
         ],
         "xaxis": "x",
         "y": [
          16.63,
          15.69,
          16.04,
          14.75,
          16.32,
          14.68,
          15.72
         ],
         "yaxis": "y",
         "type": "bar"
        },
        {
         "alignmentgroup": "True",
         "hovertemplate": "topics_cleaned=Brand<br>year=2020<br>day_of_week=%{x}<br>% with retweets=%{text}<extra></extra>",
         "legendgroup": "Brand",
         "marker": {
          "color": "#FBD1A2",
          "pattern": {
           "shape": ""
          }
         },
         "name": "Brand",
         "offsetgroup": "Brand",
         "orientation": "v",
         "showlegend": false,
         "text": [
          15.16,
          15.87,
          15.2,
          14.79,
          15.59,
          16.23,
          14.8
         ],
         "textposition": "auto",
         "x": [
          "Friday",
          "Monday",
          "Saturday",
          "Sunday",
          "Thursday",
          "Tuesday",
          "Wednesday"
         ],
         "xaxis": "x2",
         "y": [
          15.16,
          15.87,
          15.2,
          14.79,
          15.59,
          16.23,
          14.8
         ],
         "yaxis": "y2",
         "type": "bar"
        },
        {
         "alignmentgroup": "True",
         "hovertemplate": "topics_cleaned=Brand<br>year=2021<br>day_of_week=%{x}<br>% with retweets=%{text}<extra></extra>",
         "legendgroup": "Brand",
         "marker": {
          "color": "#FBD1A2",
          "pattern": {
           "shape": ""
          }
         },
         "name": "Brand",
         "offsetgroup": "Brand",
         "orientation": "v",
         "showlegend": false,
         "text": [
          17.19,
          16.58,
          14.67,
          14.88,
          16.06,
          16.77,
          16.1
         ],
         "textposition": "auto",
         "x": [
          "Friday",
          "Monday",
          "Saturday",
          "Sunday",
          "Thursday",
          "Tuesday",
          "Wednesday"
         ],
         "xaxis": "x3",
         "y": [
          17.19,
          16.58,
          14.67,
          14.88,
          16.06,
          16.77,
          16.1
         ],
         "yaxis": "y3",
         "type": "bar"
        },
        {
         "alignmentgroup": "True",
         "hovertemplate": "topics_cleaned=Entities<br>year=2019<br>day_of_week=%{x}<br>% with retweets=%{text}<extra></extra>",
         "legendgroup": "Entities",
         "marker": {
          "color": "#7DCFB6",
          "pattern": {
           "shape": ""
          }
         },
         "name": "Entities",
         "offsetgroup": "Entities",
         "orientation": "v",
         "showlegend": true,
         "text": [
          15.03,
          15.88,
          14.3,
          13.97,
          15.42,
          15.86,
          15.6
         ],
         "textposition": "auto",
         "x": [
          "Friday",
          "Monday",
          "Saturday",
          "Sunday",
          "Thursday",
          "Tuesday",
          "Wednesday"
         ],
         "xaxis": "x",
         "y": [
          15.03,
          15.88,
          14.3,
          13.97,
          15.42,
          15.86,
          15.6
         ],
         "yaxis": "y",
         "type": "bar"
        },
        {
         "alignmentgroup": "True",
         "hovertemplate": "topics_cleaned=Entities<br>year=2020<br>day_of_week=%{x}<br>% with retweets=%{text}<extra></extra>",
         "legendgroup": "Entities",
         "marker": {
          "color": "#7DCFB6",
          "pattern": {
           "shape": ""
          }
         },
         "name": "Entities",
         "offsetgroup": "Entities",
         "orientation": "v",
         "showlegend": false,
         "text": [
          14.32,
          14.78,
          13.24,
          14.1,
          14.37,
          14.52,
          14.83
         ],
         "textposition": "auto",
         "x": [
          "Friday",
          "Monday",
          "Saturday",
          "Sunday",
          "Thursday",
          "Tuesday",
          "Wednesday"
         ],
         "xaxis": "x2",
         "y": [
          14.32,
          14.78,
          13.24,
          14.1,
          14.37,
          14.52,
          14.83
         ],
         "yaxis": "y2",
         "type": "bar"
        },
        {
         "alignmentgroup": "True",
         "hovertemplate": "topics_cleaned=Entities<br>year=2021<br>day_of_week=%{x}<br>% with retweets=%{text}<extra></extra>",
         "legendgroup": "Entities",
         "marker": {
          "color": "#7DCFB6",
          "pattern": {
           "shape": ""
          }
         },
         "name": "Entities",
         "offsetgroup": "Entities",
         "orientation": "v",
         "showlegend": false,
         "text": [
          15.56,
          16.32,
          15.14,
          14.13,
          16.98,
          16.27,
          16.64
         ],
         "textposition": "auto",
         "x": [
          "Friday",
          "Monday",
          "Saturday",
          "Sunday",
          "Thursday",
          "Tuesday",
          "Wednesday"
         ],
         "xaxis": "x3",
         "y": [
          15.56,
          16.32,
          15.14,
          14.13,
          16.98,
          16.27,
          16.64
         ],
         "yaxis": "y3",
         "type": "bar"
        },
        {
         "alignmentgroup": "True",
         "hovertemplate": "topics_cleaned=Interest and Hobbies<br>year=2019<br>day_of_week=%{x}<br>% with retweets=%{text}<extra></extra>",
         "legendgroup": "Interest and Hobbies",
         "marker": {
          "color": "#00B2CA",
          "pattern": {
           "shape": ""
          }
         },
         "name": "Interest and Hobbies",
         "offsetgroup": "Interest and Hobbies",
         "orientation": "v",
         "showlegend": true,
         "text": [
          13.72,
          15.94,
          14.24,
          17.12,
          25.29,
          21.68,
          20.44
         ],
         "textposition": "auto",
         "x": [
          "Friday",
          "Monday",
          "Saturday",
          "Sunday",
          "Thursday",
          "Tuesday",
          "Wednesday"
         ],
         "xaxis": "x",
         "y": [
          13.72,
          15.94,
          14.24,
          17.12,
          25.29,
          21.68,
          20.44
         ],
         "yaxis": "y",
         "type": "bar"
        },
        {
         "alignmentgroup": "True",
         "hovertemplate": "topics_cleaned=Interest and Hobbies<br>year=2020<br>day_of_week=%{x}<br>% with retweets=%{text}<extra></extra>",
         "legendgroup": "Interest and Hobbies",
         "marker": {
          "color": "#00B2CA",
          "pattern": {
           "shape": ""
          }
         },
         "name": "Interest and Hobbies",
         "offsetgroup": "Interest and Hobbies",
         "orientation": "v",
         "showlegend": false,
         "text": [
          16.07,
          15.44,
          15.7,
          14.97,
          16.06,
          16.46,
          16.01
         ],
         "textposition": "auto",
         "x": [
          "Friday",
          "Monday",
          "Saturday",
          "Sunday",
          "Thursday",
          "Tuesday",
          "Wednesday"
         ],
         "xaxis": "x2",
         "y": [
          16.07,
          15.44,
          15.7,
          14.97,
          16.06,
          16.46,
          16.01
         ],
         "yaxis": "y2",
         "type": "bar"
        },
        {
         "alignmentgroup": "True",
         "hovertemplate": "topics_cleaned=Interest and Hobbies<br>year=2021<br>day_of_week=%{x}<br>% with retweets=%{text}<extra></extra>",
         "legendgroup": "Interest and Hobbies",
         "marker": {
          "color": "#00B2CA",
          "pattern": {
           "shape": ""
          }
         },
         "name": "Interest and Hobbies",
         "offsetgroup": "Interest and Hobbies",
         "orientation": "v",
         "showlegend": false,
         "text": [
          16.81,
          16.19,
          14.72,
          15.21,
          16.45,
          16.33,
          16.0
         ],
         "textposition": "auto",
         "x": [
          "Friday",
          "Monday",
          "Saturday",
          "Sunday",
          "Thursday",
          "Tuesday",
          "Wednesday"
         ],
         "xaxis": "x3",
         "y": [
          16.81,
          16.19,
          14.72,
          15.21,
          16.45,
          16.33,
          16.0
         ],
         "yaxis": "y3",
         "type": "bar"
        },
        {
         "alignmentgroup": "True",
         "hovertemplate": "topics_cleaned=Music<br>year=2019<br>day_of_week=%{x}<br>% with retweets=%{text}<extra></extra>",
         "legendgroup": "Music",
         "marker": {
          "color": "#1D4E89",
          "pattern": {
           "shape": ""
          }
         },
         "name": "Music",
         "offsetgroup": "Music",
         "orientation": "v",
         "showlegend": true,
         "text": [
          15.56,
          18.55,
          18.98,
          14.7,
          16.6,
          16.44,
          16.3
         ],
         "textposition": "auto",
         "x": [
          "Friday",
          "Monday",
          "Saturday",
          "Sunday",
          "Thursday",
          "Tuesday",
          "Wednesday"
         ],
         "xaxis": "x",
         "y": [
          15.56,
          18.55,
          18.98,
          14.7,
          16.6,
          16.44,
          16.3
         ],
         "yaxis": "y",
         "type": "bar"
        },
        {
         "alignmentgroup": "True",
         "hovertemplate": "topics_cleaned=Music<br>year=2020<br>day_of_week=%{x}<br>% with retweets=%{text}<extra></extra>",
         "legendgroup": "Music",
         "marker": {
          "color": "#1D4E89",
          "pattern": {
           "shape": ""
          }
         },
         "name": "Music",
         "offsetgroup": "Music",
         "orientation": "v",
         "showlegend": false,
         "text": [
          16.01,
          17.87,
          22.64,
          17.48,
          20.33,
          21.36,
          13.38
         ],
         "textposition": "auto",
         "x": [
          "Friday",
          "Monday",
          "Saturday",
          "Sunday",
          "Thursday",
          "Tuesday",
          "Wednesday"
         ],
         "xaxis": "x2",
         "y": [
          16.01,
          17.87,
          22.64,
          17.48,
          20.33,
          21.36,
          13.38
         ],
         "yaxis": "y2",
         "type": "bar"
        },
        {
         "alignmentgroup": "True",
         "hovertemplate": "topics_cleaned=Music<br>year=2021<br>day_of_week=%{x}<br>% with retweets=%{text}<extra></extra>",
         "legendgroup": "Music",
         "marker": {
          "color": "#1D4E89",
          "pattern": {
           "shape": ""
          }
         },
         "name": "Music",
         "offsetgroup": "Music",
         "orientation": "v",
         "showlegend": false,
         "text": [
          18.35,
          20.09,
          23.53,
          15.99,
          19.83,
          19.74,
          19.49
         ],
         "textposition": "auto",
         "x": [
          "Friday",
          "Monday",
          "Saturday",
          "Sunday",
          "Thursday",
          "Tuesday",
          "Wednesday"
         ],
         "xaxis": "x3",
         "y": [
          18.35,
          20.09,
          23.53,
          15.99,
          19.83,
          19.74,
          19.49
         ],
         "yaxis": "y3",
         "type": "bar"
        },
        {
         "alignmentgroup": "True",
         "hovertemplate": "topics_cleaned=Other<br>year=2019<br>day_of_week=%{x}<br>% with retweets=%{text}<extra></extra>",
         "legendgroup": "Other",
         "marker": {
          "color": "#F79256",
          "pattern": {
           "shape": ""
          }
         },
         "name": "Other",
         "offsetgroup": "Other",
         "orientation": "v",
         "showlegend": true,
         "text": [
          17.03,
          17.49,
          14.38,
          15.42,
          15.04,
          15.28,
          16.04
         ],
         "textposition": "auto",
         "x": [
          "Friday",
          "Monday",
          "Saturday",
          "Sunday",
          "Thursday",
          "Tuesday",
          "Wednesday"
         ],
         "xaxis": "x",
         "y": [
          17.03,
          17.49,
          14.38,
          15.42,
          15.04,
          15.28,
          16.04
         ],
         "yaxis": "y",
         "type": "bar"
        },
        {
         "alignmentgroup": "True",
         "hovertemplate": "topics_cleaned=Other<br>year=2020<br>day_of_week=%{x}<br>% with retweets=%{text}<extra></extra>",
         "legendgroup": "Other",
         "marker": {
          "color": "#F79256",
          "pattern": {
           "shape": ""
          }
         },
         "name": "Other",
         "offsetgroup": "Other",
         "orientation": "v",
         "showlegend": false,
         "text": [
          17.76,
          18.88,
          12.75,
          17.51,
          12.3,
          17.81,
          14.53
         ],
         "textposition": "auto",
         "x": [
          "Friday",
          "Monday",
          "Saturday",
          "Sunday",
          "Thursday",
          "Tuesday",
          "Wednesday"
         ],
         "xaxis": "x2",
         "y": [
          17.76,
          18.88,
          12.75,
          17.51,
          12.3,
          17.81,
          14.53
         ],
         "yaxis": "y2",
         "type": "bar"
        },
        {
         "alignmentgroup": "True",
         "hovertemplate": "topics_cleaned=Other<br>year=2021<br>day_of_week=%{x}<br>% with retweets=%{text}<extra></extra>",
         "legendgroup": "Other",
         "marker": {
          "color": "#F79256",
          "pattern": {
           "shape": ""
          }
         },
         "name": "Other",
         "offsetgroup": "Other",
         "orientation": "v",
         "showlegend": false,
         "text": [
          15.49,
          13.06,
          15.46,
          16.42,
          13.58,
          12.47,
          12.4
         ],
         "textposition": "auto",
         "x": [
          "Friday",
          "Monday",
          "Saturday",
          "Sunday",
          "Thursday",
          "Tuesday",
          "Wednesday"
         ],
         "xaxis": "x3",
         "y": [
          15.49,
          13.06,
          15.46,
          16.42,
          13.58,
          12.47,
          12.4
         ],
         "yaxis": "y3",
         "type": "bar"
        },
        {
         "alignmentgroup": "True",
         "hovertemplate": "topics_cleaned=Person<br>year=2019<br>day_of_week=%{x}<br>% with retweets=%{text}<extra></extra>",
         "legendgroup": "Person",
         "marker": {
          "color": "#aed9e0",
          "pattern": {
           "shape": ""
          }
         },
         "name": "Person",
         "offsetgroup": "Person",
         "orientation": "v",
         "showlegend": true,
         "text": [
          15.57,
          15.83,
          14.96,
          13.66,
          17.24,
          16.02,
          15.93
         ],
         "textposition": "auto",
         "x": [
          "Friday",
          "Monday",
          "Saturday",
          "Sunday",
          "Thursday",
          "Tuesday",
          "Wednesday"
         ],
         "xaxis": "x",
         "y": [
          15.57,
          15.83,
          14.96,
          13.66,
          17.24,
          16.02,
          15.93
         ],
         "yaxis": "y",
         "type": "bar"
        },
        {
         "alignmentgroup": "True",
         "hovertemplate": "topics_cleaned=Person<br>year=2020<br>day_of_week=%{x}<br>% with retweets=%{text}<extra></extra>",
         "legendgroup": "Person",
         "marker": {
          "color": "#aed9e0",
          "pattern": {
           "shape": ""
          }
         },
         "name": "Person",
         "offsetgroup": "Person",
         "orientation": "v",
         "showlegend": false,
         "text": [
          15.19,
          16.42,
          14.74,
          15.55,
          14.67,
          15.15,
          14.35
         ],
         "textposition": "auto",
         "x": [
          "Friday",
          "Monday",
          "Saturday",
          "Sunday",
          "Thursday",
          "Tuesday",
          "Wednesday"
         ],
         "xaxis": "x2",
         "y": [
          15.19,
          16.42,
          14.74,
          15.55,
          14.67,
          15.15,
          14.35
         ],
         "yaxis": "y2",
         "type": "bar"
        },
        {
         "alignmentgroup": "True",
         "hovertemplate": "topics_cleaned=Person<br>year=2021<br>day_of_week=%{x}<br>% with retweets=%{text}<extra></extra>",
         "legendgroup": "Person",
         "marker": {
          "color": "#aed9e0",
          "pattern": {
           "shape": ""
          }
         },
         "name": "Person",
         "offsetgroup": "Person",
         "orientation": "v",
         "showlegend": false,
         "text": [
          15.27,
          16.7,
          16.28,
          16.88,
          15.34,
          16.88,
          16.47
         ],
         "textposition": "auto",
         "x": [
          "Friday",
          "Monday",
          "Saturday",
          "Sunday",
          "Thursday",
          "Tuesday",
          "Wednesday"
         ],
         "xaxis": "x3",
         "y": [
          15.27,
          16.7,
          16.28,
          16.88,
          15.34,
          16.88,
          16.47
         ],
         "yaxis": "y3",
         "type": "bar"
        },
        {
         "alignmentgroup": "True",
         "hovertemplate": "topics_cleaned=Political<br>year=2019<br>day_of_week=%{x}<br>% with retweets=%{text}<extra></extra>",
         "legendgroup": "Political",
         "marker": {
          "color": "#b8f2e6",
          "pattern": {
           "shape": ""
          }
         },
         "name": "Political",
         "offsetgroup": "Political",
         "orientation": "v",
         "showlegend": true,
         "text": [
          11.68,
          9.83,
          19.25,
          17.46,
          21.56,
          23.66,
          23.11
         ],
         "textposition": "auto",
         "x": [
          "Friday",
          "Monday",
          "Saturday",
          "Sunday",
          "Thursday",
          "Tuesday",
          "Wednesday"
         ],
         "xaxis": "x",
         "y": [
          11.68,
          9.83,
          19.25,
          17.46,
          21.56,
          23.66,
          23.11
         ],
         "yaxis": "y",
         "type": "bar"
        },
        {
         "alignmentgroup": "True",
         "hovertemplate": "topics_cleaned=Political<br>year=2020<br>day_of_week=%{x}<br>% with retweets=%{text}<extra></extra>",
         "legendgroup": "Political",
         "marker": {
          "color": "#b8f2e6",
          "pattern": {
           "shape": ""
          }
         },
         "name": "Political",
         "offsetgroup": "Political",
         "orientation": "v",
         "showlegend": false,
         "text": [
          17.18,
          18.86,
          15.04,
          18.87,
          16.67,
          15.87,
          15.3
         ],
         "textposition": "auto",
         "x": [
          "Friday",
          "Monday",
          "Saturday",
          "Sunday",
          "Thursday",
          "Tuesday",
          "Wednesday"
         ],
         "xaxis": "x2",
         "y": [
          17.18,
          18.86,
          15.04,
          18.87,
          16.67,
          15.87,
          15.3
         ],
         "yaxis": "y2",
         "type": "bar"
        },
        {
         "alignmentgroup": "True",
         "hovertemplate": "topics_cleaned=Political<br>year=2021<br>day_of_week=%{x}<br>% with retweets=%{text}<extra></extra>",
         "legendgroup": "Political",
         "marker": {
          "color": "#b8f2e6",
          "pattern": {
           "shape": ""
          }
         },
         "name": "Political",
         "offsetgroup": "Political",
         "orientation": "v",
         "showlegend": false,
         "text": [
          21.92,
          21.79,
          20.66,
          16.42,
          19.92,
          19.18,
          20.99
         ],
         "textposition": "auto",
         "x": [
          "Friday",
          "Monday",
          "Saturday",
          "Sunday",
          "Thursday",
          "Tuesday",
          "Wednesday"
         ],
         "xaxis": "x3",
         "y": [
          21.92,
          21.79,
          20.66,
          16.42,
          19.92,
          19.18,
          20.99
         ],
         "yaxis": "y3",
         "type": "bar"
        },
        {
         "alignmentgroup": "True",
         "hovertemplate": "topics_cleaned=Sport<br>year=2019<br>day_of_week=%{x}<br>% with retweets=%{text}<extra></extra>",
         "legendgroup": "Sport",
         "marker": {
          "color": "#faf3dd",
          "pattern": {
           "shape": ""
          }
         },
         "name": "Sport",
         "offsetgroup": "Sport",
         "orientation": "v",
         "showlegend": true,
         "text": [
          23.43,
          25.55,
          22.3,
          14.64,
          15.46,
          15.33,
          16.87
         ],
         "textposition": "auto",
         "x": [
          "Friday",
          "Monday",
          "Saturday",
          "Sunday",
          "Thursday",
          "Tuesday",
          "Wednesday"
         ],
         "xaxis": "x",
         "y": [
          23.43,
          25.55,
          22.3,
          14.64,
          15.46,
          15.33,
          16.87
         ],
         "yaxis": "y",
         "type": "bar"
        },
        {
         "alignmentgroup": "True",
         "hovertemplate": "topics_cleaned=Sport<br>year=2020<br>day_of_week=%{x}<br>% with retweets=%{text}<extra></extra>",
         "legendgroup": "Sport",
         "marker": {
          "color": "#faf3dd",
          "pattern": {
           "shape": ""
          }
         },
         "name": "Sport",
         "offsetgroup": "Sport",
         "orientation": "v",
         "showlegend": false,
         "text": [
          22.84,
          17.95,
          16.78,
          16.34,
          22.88,
          20.14,
          21.2
         ],
         "textposition": "auto",
         "x": [
          "Friday",
          "Monday",
          "Saturday",
          "Sunday",
          "Thursday",
          "Tuesday",
          "Wednesday"
         ],
         "xaxis": "x2",
         "y": [
          22.84,
          17.95,
          16.78,
          16.34,
          22.88,
          20.14,
          21.2
         ],
         "yaxis": "y2",
         "type": "bar"
        },
        {
         "alignmentgroup": "True",
         "hovertemplate": "topics_cleaned=Sport<br>year=2021<br>day_of_week=%{x}<br>% with retweets=%{text}<extra></extra>",
         "legendgroup": "Sport",
         "marker": {
          "color": "#faf3dd",
          "pattern": {
           "shape": ""
          }
         },
         "name": "Sport",
         "offsetgroup": "Sport",
         "orientation": "v",
         "showlegend": false,
         "text": [
          24.42,
          24.09,
          23.73,
          18.69,
          24.79,
          22.79,
          25.58
         ],
         "textposition": "auto",
         "x": [
          "Friday",
          "Monday",
          "Saturday",
          "Sunday",
          "Thursday",
          "Tuesday",
          "Wednesday"
         ],
         "xaxis": "x3",
         "y": [
          24.42,
          24.09,
          23.73,
          18.69,
          24.79,
          22.79,
          25.58
         ],
         "yaxis": "y3",
         "type": "bar"
        },
        {
         "alignmentgroup": "True",
         "hovertemplate": "topics_cleaned=TV and Movies<br>year=2019<br>day_of_week=%{x}<br>% with retweets=%{text}<extra></extra>",
         "legendgroup": "TV and Movies",
         "marker": {
          "color": "#ffa69e",
          "pattern": {
           "shape": ""
          }
         },
         "name": "TV and Movies",
         "offsetgroup": "TV and Movies",
         "orientation": "v",
         "showlegend": true,
         "text": [
          15.61,
          15.08,
          14.87,
          16.67,
          11.43,
          13.61,
          22.34
         ],
         "textposition": "auto",
         "x": [
          "Friday",
          "Monday",
          "Saturday",
          "Sunday",
          "Thursday",
          "Tuesday",
          "Wednesday"
         ],
         "xaxis": "x",
         "y": [
          15.61,
          15.08,
          14.87,
          16.67,
          11.43,
          13.61,
          22.34
         ],
         "yaxis": "y",
         "type": "bar"
        },
        {
         "alignmentgroup": "True",
         "hovertemplate": "topics_cleaned=TV and Movies<br>year=2020<br>day_of_week=%{x}<br>% with retweets=%{text}<extra></extra>",
         "legendgroup": "TV and Movies",
         "marker": {
          "color": "#ffa69e",
          "pattern": {
           "shape": ""
          }
         },
         "name": "TV and Movies",
         "offsetgroup": "TV and Movies",
         "orientation": "v",
         "showlegend": false,
         "text": [
          15.72,
          14.48,
          14.92,
          13.56,
          14.88,
          14.85,
          15.15
         ],
         "textposition": "auto",
         "x": [
          "Friday",
          "Monday",
          "Saturday",
          "Sunday",
          "Thursday",
          "Tuesday",
          "Wednesday"
         ],
         "xaxis": "x2",
         "y": [
          15.72,
          14.48,
          14.92,
          13.56,
          14.88,
          14.85,
          15.15
         ],
         "yaxis": "y2",
         "type": "bar"
        },
        {
         "alignmentgroup": "True",
         "hovertemplate": "topics_cleaned=TV and Movies<br>year=2021<br>day_of_week=%{x}<br>% with retweets=%{text}<extra></extra>",
         "legendgroup": "TV and Movies",
         "marker": {
          "color": "#ffa69e",
          "pattern": {
           "shape": ""
          }
         },
         "name": "TV and Movies",
         "offsetgroup": "TV and Movies",
         "orientation": "v",
         "showlegend": false,
         "text": [
          15.58,
          16.01,
          15.71,
          13.86,
          15.16,
          16.59,
          15.41
         ],
         "textposition": "auto",
         "x": [
          "Friday",
          "Monday",
          "Saturday",
          "Sunday",
          "Thursday",
          "Tuesday",
          "Wednesday"
         ],
         "xaxis": "x3",
         "y": [
          15.58,
          16.01,
          15.71,
          13.86,
          15.16,
          16.59,
          15.41
         ],
         "yaxis": "y3",
         "type": "bar"
        },
        {
         "alignmentgroup": "True",
         "hovertemplate": "topics_cleaned=Video Game<br>year=2019<br>day_of_week=%{x}<br>% with retweets=%{text}<extra></extra>",
         "legendgroup": "Video Game",
         "marker": {
          "color": "#FE7F2D",
          "pattern": {
           "shape": ""
          }
         },
         "name": "Video Game",
         "offsetgroup": "Video Game",
         "orientation": "v",
         "showlegend": true,
         "text": [
          19.38,
          14.19,
          15.1,
          30.0,
          30.56,
          23.08,
          null
         ],
         "textposition": "auto",
         "x": [
          "Friday",
          "Monday",
          "Saturday",
          "Sunday",
          "Thursday",
          "Tuesday",
          "Wednesday"
         ],
         "xaxis": "x",
         "y": [
          19.38,
          14.19,
          15.1,
          30.0,
          30.56,
          23.08,
          null
         ],
         "yaxis": "y",
         "type": "bar"
        },
        {
         "alignmentgroup": "True",
         "hovertemplate": "topics_cleaned=Video Game<br>year=2020<br>day_of_week=%{x}<br>% with retweets=%{text}<extra></extra>",
         "legendgroup": "Video Game",
         "marker": {
          "color": "#FE7F2D",
          "pattern": {
           "shape": ""
          }
         },
         "name": "Video Game",
         "offsetgroup": "Video Game",
         "orientation": "v",
         "showlegend": false,
         "text": [
          17.12,
          16.07,
          19.82,
          20.39,
          13.07,
          17.03,
          17.43
         ],
         "textposition": "auto",
         "x": [
          "Friday",
          "Monday",
          "Saturday",
          "Sunday",
          "Thursday",
          "Tuesday",
          "Wednesday"
         ],
         "xaxis": "x2",
         "y": [
          17.12,
          16.07,
          19.82,
          20.39,
          13.07,
          17.03,
          17.43
         ],
         "yaxis": "y2",
         "type": "bar"
        },
        {
         "alignmentgroup": "True",
         "hovertemplate": "topics_cleaned=Video Game<br>year=2021<br>day_of_week=%{x}<br>% with retweets=%{text}<extra></extra>",
         "legendgroup": "Video Game",
         "marker": {
          "color": "#FE7F2D",
          "pattern": {
           "shape": ""
          }
         },
         "name": "Video Game",
         "offsetgroup": "Video Game",
         "orientation": "v",
         "showlegend": false,
         "text": [
          13.44,
          15.27,
          14.39,
          15.41,
          15.29,
          14.01,
          13.77
         ],
         "textposition": "auto",
         "x": [
          "Friday",
          "Monday",
          "Saturday",
          "Sunday",
          "Thursday",
          "Tuesday",
          "Wednesday"
         ],
         "xaxis": "x3",
         "y": [
          13.44,
          15.27,
          14.39,
          15.41,
          15.29,
          14.01,
          13.77
         ],
         "yaxis": "y3",
         "type": "bar"
        },
        {
         "alignmentgroup": "True",
         "hovertemplate": "topics_cleaned=Holiday<br>year=2019<br>day_of_week=%{x}<br>% with retweets=%{text}<extra></extra>",
         "legendgroup": "Holiday",
         "marker": {
          "color": "#FCCA46",
          "pattern": {
           "shape": ""
          }
         },
         "name": "Holiday",
         "offsetgroup": "Holiday",
         "orientation": "v",
         "showlegend": true,
         "text": [
          14.69
         ],
         "textposition": "auto",
         "x": [
          "Sunday"
         ],
         "xaxis": "x",
         "y": [
          14.69
         ],
         "yaxis": "y",
         "type": "bar"
        },
        {
         "alignmentgroup": "True",
         "hovertemplate": "topics_cleaned=Holiday<br>year=2020<br>day_of_week=%{x}<br>% with retweets=%{text}<extra></extra>",
         "legendgroup": "Holiday",
         "marker": {
          "color": "#FCCA46",
          "pattern": {
           "shape": ""
          }
         },
         "name": "Holiday",
         "offsetgroup": "Holiday",
         "orientation": "v",
         "showlegend": false,
         "text": [
          15.84,
          15.13,
          16.55,
          17.55,
          17.29,
          15.27,
          19.15
         ],
         "textposition": "auto",
         "x": [
          "Friday",
          "Monday",
          "Saturday",
          "Sunday",
          "Thursday",
          "Tuesday",
          "Wednesday"
         ],
         "xaxis": "x2",
         "y": [
          15.84,
          15.13,
          16.55,
          17.55,
          17.29,
          15.27,
          19.15
         ],
         "yaxis": "y2",
         "type": "bar"
        },
        {
         "alignmentgroup": "True",
         "hovertemplate": "topics_cleaned=Holiday<br>year=2021<br>day_of_week=%{x}<br>% with retweets=%{text}<extra></extra>",
         "legendgroup": "Holiday",
         "marker": {
          "color": "#FCCA46",
          "pattern": {
           "shape": ""
          }
         },
         "name": "Holiday",
         "offsetgroup": "Holiday",
         "orientation": "v",
         "showlegend": false,
         "text": [
          19.07,
          22.13,
          21.6,
          16.98,
          20.21,
          22.57,
          19.17
         ],
         "textposition": "auto",
         "x": [
          "Friday",
          "Monday",
          "Saturday",
          "Sunday",
          "Thursday",
          "Tuesday",
          "Wednesday"
         ],
         "xaxis": "x3",
         "y": [
          19.07,
          22.13,
          21.6,
          16.98,
          20.21,
          22.57,
          19.17
         ],
         "yaxis": "y3",
         "type": "bar"
        },
        {
         "alignmentgroup": "True",
         "hovertemplate": "topics_cleaned=News<br>year=2020<br>day_of_week=%{x}<br>% with retweets=%{text}<extra></extra>",
         "legendgroup": "News",
         "marker": {
          "color": "#ED7B84",
          "pattern": {
           "shape": ""
          }
         },
         "name": "News",
         "offsetgroup": "News",
         "orientation": "v",
         "showlegend": true,
         "text": [
          18.31,
          18.97,
          20.01,
          18.58,
          21.19,
          20.36,
          20.48
         ],
         "textposition": "auto",
         "x": [
          "Friday",
          "Monday",
          "Saturday",
          "Sunday",
          "Thursday",
          "Tuesday",
          "Wednesday"
         ],
         "xaxis": "x2",
         "y": [
          18.31,
          18.97,
          20.01,
          18.58,
          21.19,
          20.36,
          20.48
         ],
         "yaxis": "y2",
         "type": "bar"
        },
        {
         "alignmentgroup": "True",
         "hovertemplate": "topics_cleaned=News<br>year=2021<br>day_of_week=%{x}<br>% with retweets=%{text}<extra></extra>",
         "legendgroup": "News",
         "marker": {
          "color": "#ED7B84",
          "pattern": {
           "shape": ""
          }
         },
         "name": "News",
         "offsetgroup": "News",
         "orientation": "v",
         "showlegend": false,
         "text": [
          20.0,
          18.5,
          22.56,
          20.19,
          18.99,
          18.23,
          21.51
         ],
         "textposition": "auto",
         "x": [
          "Friday",
          "Monday",
          "Saturday",
          "Sunday",
          "Thursday",
          "Tuesday",
          "Wednesday"
         ],
         "xaxis": "x3",
         "y": [
          20.0,
          18.5,
          22.56,
          20.19,
          18.99,
          18.23,
          21.51
         ],
         "yaxis": "y3",
         "type": "bar"
        }
       ],
       "layout": {
        "template": {
         "data": {
          "histogram2dcontour": [
           {
            "type": "histogram2dcontour",
            "colorbar": {
             "outlinewidth": 0,
             "ticks": ""
            },
            "colorscale": [
             [
              0.0,
              "#0d0887"
             ],
             [
              0.1111111111111111,
              "#46039f"
             ],
             [
              0.2222222222222222,
              "#7201a8"
             ],
             [
              0.3333333333333333,
              "#9c179e"
             ],
             [
              0.4444444444444444,
              "#bd3786"
             ],
             [
              0.5555555555555556,
              "#d8576b"
             ],
             [
              0.6666666666666666,
              "#ed7953"
             ],
             [
              0.7777777777777778,
              "#fb9f3a"
             ],
             [
              0.8888888888888888,
              "#fdca26"
             ],
             [
              1.0,
              "#f0f921"
             ]
            ]
           }
          ],
          "choropleth": [
           {
            "type": "choropleth",
            "colorbar": {
             "outlinewidth": 0,
             "ticks": ""
            }
           }
          ],
          "histogram2d": [
           {
            "type": "histogram2d",
            "colorbar": {
             "outlinewidth": 0,
             "ticks": ""
            },
            "colorscale": [
             [
              0.0,
              "#0d0887"
             ],
             [
              0.1111111111111111,
              "#46039f"
             ],
             [
              0.2222222222222222,
              "#7201a8"
             ],
             [
              0.3333333333333333,
              "#9c179e"
             ],
             [
              0.4444444444444444,
              "#bd3786"
             ],
             [
              0.5555555555555556,
              "#d8576b"
             ],
             [
              0.6666666666666666,
              "#ed7953"
             ],
             [
              0.7777777777777778,
              "#fb9f3a"
             ],
             [
              0.8888888888888888,
              "#fdca26"
             ],
             [
              1.0,
              "#f0f921"
             ]
            ]
           }
          ],
          "heatmap": [
           {
            "type": "heatmap",
            "colorbar": {
             "outlinewidth": 0,
             "ticks": ""
            },
            "colorscale": [
             [
              0.0,
              "#0d0887"
             ],
             [
              0.1111111111111111,
              "#46039f"
             ],
             [
              0.2222222222222222,
              "#7201a8"
             ],
             [
              0.3333333333333333,
              "#9c179e"
             ],
             [
              0.4444444444444444,
              "#bd3786"
             ],
             [
              0.5555555555555556,
              "#d8576b"
             ],
             [
              0.6666666666666666,
              "#ed7953"
             ],
             [
              0.7777777777777778,
              "#fb9f3a"
             ],
             [
              0.8888888888888888,
              "#fdca26"
             ],
             [
              1.0,
              "#f0f921"
             ]
            ]
           }
          ],
          "heatmapgl": [
           {
            "type": "heatmapgl",
            "colorbar": {
             "outlinewidth": 0,
             "ticks": ""
            },
            "colorscale": [
             [
              0.0,
              "#0d0887"
             ],
             [
              0.1111111111111111,
              "#46039f"
             ],
             [
              0.2222222222222222,
              "#7201a8"
             ],
             [
              0.3333333333333333,
              "#9c179e"
             ],
             [
              0.4444444444444444,
              "#bd3786"
             ],
             [
              0.5555555555555556,
              "#d8576b"
             ],
             [
              0.6666666666666666,
              "#ed7953"
             ],
             [
              0.7777777777777778,
              "#fb9f3a"
             ],
             [
              0.8888888888888888,
              "#fdca26"
             ],
             [
              1.0,
              "#f0f921"
             ]
            ]
           }
          ],
          "contourcarpet": [
           {
            "type": "contourcarpet",
            "colorbar": {
             "outlinewidth": 0,
             "ticks": ""
            }
           }
          ],
          "contour": [
           {
            "type": "contour",
            "colorbar": {
             "outlinewidth": 0,
             "ticks": ""
            },
            "colorscale": [
             [
              0.0,
              "#0d0887"
             ],
             [
              0.1111111111111111,
              "#46039f"
             ],
             [
              0.2222222222222222,
              "#7201a8"
             ],
             [
              0.3333333333333333,
              "#9c179e"
             ],
             [
              0.4444444444444444,
              "#bd3786"
             ],
             [
              0.5555555555555556,
              "#d8576b"
             ],
             [
              0.6666666666666666,
              "#ed7953"
             ],
             [
              0.7777777777777778,
              "#fb9f3a"
             ],
             [
              0.8888888888888888,
              "#fdca26"
             ],
             [
              1.0,
              "#f0f921"
             ]
            ]
           }
          ],
          "surface": [
           {
            "type": "surface",
            "colorbar": {
             "outlinewidth": 0,
             "ticks": ""
            },
            "colorscale": [
             [
              0.0,
              "#0d0887"
             ],
             [
              0.1111111111111111,
              "#46039f"
             ],
             [
              0.2222222222222222,
              "#7201a8"
             ],
             [
              0.3333333333333333,
              "#9c179e"
             ],
             [
              0.4444444444444444,
              "#bd3786"
             ],
             [
              0.5555555555555556,
              "#d8576b"
             ],
             [
              0.6666666666666666,
              "#ed7953"
             ],
             [
              0.7777777777777778,
              "#fb9f3a"
             ],
             [
              0.8888888888888888,
              "#fdca26"
             ],
             [
              1.0,
              "#f0f921"
             ]
            ]
           }
          ],
          "mesh3d": [
           {
            "type": "mesh3d",
            "colorbar": {
             "outlinewidth": 0,
             "ticks": ""
            }
           }
          ],
          "scatter": [
           {
            "fillpattern": {
             "fillmode": "overlay",
             "size": 10,
             "solidity": 0.2
            },
            "type": "scatter"
           }
          ],
          "parcoords": [
           {
            "type": "parcoords",
            "line": {
             "colorbar": {
              "outlinewidth": 0,
              "ticks": ""
             }
            }
           }
          ],
          "scatterpolargl": [
           {
            "type": "scatterpolargl",
            "marker": {
             "colorbar": {
              "outlinewidth": 0,
              "ticks": ""
             }
            }
           }
          ],
          "bar": [
           {
            "error_x": {
             "color": "#2a3f5f"
            },
            "error_y": {
             "color": "#2a3f5f"
            },
            "marker": {
             "line": {
              "color": "#E5ECF6",
              "width": 0.5
             },
             "pattern": {
              "fillmode": "overlay",
              "size": 10,
              "solidity": 0.2
             }
            },
            "type": "bar"
           }
          ],
          "scattergeo": [
           {
            "type": "scattergeo",
            "marker": {
             "colorbar": {
              "outlinewidth": 0,
              "ticks": ""
             }
            }
           }
          ],
          "scatterpolar": [
           {
            "type": "scatterpolar",
            "marker": {
             "colorbar": {
              "outlinewidth": 0,
              "ticks": ""
             }
            }
           }
          ],
          "histogram": [
           {
            "marker": {
             "pattern": {
              "fillmode": "overlay",
              "size": 10,
              "solidity": 0.2
             }
            },
            "type": "histogram"
           }
          ],
          "scattergl": [
           {
            "type": "scattergl",
            "marker": {
             "colorbar": {
              "outlinewidth": 0,
              "ticks": ""
             }
            }
           }
          ],
          "scatter3d": [
           {
            "type": "scatter3d",
            "line": {
             "colorbar": {
              "outlinewidth": 0,
              "ticks": ""
             }
            },
            "marker": {
             "colorbar": {
              "outlinewidth": 0,
              "ticks": ""
             }
            }
           }
          ],
          "scattermapbox": [
           {
            "type": "scattermapbox",
            "marker": {
             "colorbar": {
              "outlinewidth": 0,
              "ticks": ""
             }
            }
           }
          ],
          "scatterternary": [
           {
            "type": "scatterternary",
            "marker": {
             "colorbar": {
              "outlinewidth": 0,
              "ticks": ""
             }
            }
           }
          ],
          "scattercarpet": [
           {
            "type": "scattercarpet",
            "marker": {
             "colorbar": {
              "outlinewidth": 0,
              "ticks": ""
             }
            }
           }
          ],
          "carpet": [
           {
            "aaxis": {
             "endlinecolor": "#2a3f5f",
             "gridcolor": "white",
             "linecolor": "white",
             "minorgridcolor": "white",
             "startlinecolor": "#2a3f5f"
            },
            "baxis": {
             "endlinecolor": "#2a3f5f",
             "gridcolor": "white",
             "linecolor": "white",
             "minorgridcolor": "white",
             "startlinecolor": "#2a3f5f"
            },
            "type": "carpet"
           }
          ],
          "table": [
           {
            "cells": {
             "fill": {
              "color": "#EBF0F8"
             },
             "line": {
              "color": "white"
             }
            },
            "header": {
             "fill": {
              "color": "#C8D4E3"
             },
             "line": {
              "color": "white"
             }
            },
            "type": "table"
           }
          ],
          "barpolar": [
           {
            "marker": {
             "line": {
              "color": "#E5ECF6",
              "width": 0.5
             },
             "pattern": {
              "fillmode": "overlay",
              "size": 10,
              "solidity": 0.2
             }
            },
            "type": "barpolar"
           }
          ],
          "pie": [
           {
            "automargin": true,
            "type": "pie"
           }
          ]
         },
         "layout": {
          "autotypenumbers": "strict",
          "colorway": [
           "#636efa",
           "#EF553B",
           "#00cc96",
           "#ab63fa",
           "#FFA15A",
           "#19d3f3",
           "#FF6692",
           "#B6E880",
           "#FF97FF",
           "#FECB52"
          ],
          "font": {
           "color": "#2a3f5f"
          },
          "hovermode": "closest",
          "hoverlabel": {
           "align": "left"
          },
          "paper_bgcolor": "white",
          "plot_bgcolor": "#E5ECF6",
          "polar": {
           "bgcolor": "#E5ECF6",
           "angularaxis": {
            "gridcolor": "white",
            "linecolor": "white",
            "ticks": ""
           },
           "radialaxis": {
            "gridcolor": "white",
            "linecolor": "white",
            "ticks": ""
           }
          },
          "ternary": {
           "bgcolor": "#E5ECF6",
           "aaxis": {
            "gridcolor": "white",
            "linecolor": "white",
            "ticks": ""
           },
           "baxis": {
            "gridcolor": "white",
            "linecolor": "white",
            "ticks": ""
           },
           "caxis": {
            "gridcolor": "white",
            "linecolor": "white",
            "ticks": ""
           }
          },
          "coloraxis": {
           "colorbar": {
            "outlinewidth": 0,
            "ticks": ""
           }
          },
          "colorscale": {
           "sequential": [
            [
             0.0,
             "#0d0887"
            ],
            [
             0.1111111111111111,
             "#46039f"
            ],
            [
             0.2222222222222222,
             "#7201a8"
            ],
            [
             0.3333333333333333,
             "#9c179e"
            ],
            [
             0.4444444444444444,
             "#bd3786"
            ],
            [
             0.5555555555555556,
             "#d8576b"
            ],
            [
             0.6666666666666666,
             "#ed7953"
            ],
            [
             0.7777777777777778,
             "#fb9f3a"
            ],
            [
             0.8888888888888888,
             "#fdca26"
            ],
            [
             1.0,
             "#f0f921"
            ]
           ],
           "sequentialminus": [
            [
             0.0,
             "#0d0887"
            ],
            [
             0.1111111111111111,
             "#46039f"
            ],
            [
             0.2222222222222222,
             "#7201a8"
            ],
            [
             0.3333333333333333,
             "#9c179e"
            ],
            [
             0.4444444444444444,
             "#bd3786"
            ],
            [
             0.5555555555555556,
             "#d8576b"
            ],
            [
             0.6666666666666666,
             "#ed7953"
            ],
            [
             0.7777777777777778,
             "#fb9f3a"
            ],
            [
             0.8888888888888888,
             "#fdca26"
            ],
            [
             1.0,
             "#f0f921"
            ]
           ],
           "diverging": [
            [
             0,
             "#8e0152"
            ],
            [
             0.1,
             "#c51b7d"
            ],
            [
             0.2,
             "#de77ae"
            ],
            [
             0.3,
             "#f1b6da"
            ],
            [
             0.4,
             "#fde0ef"
            ],
            [
             0.5,
             "#f7f7f7"
            ],
            [
             0.6,
             "#e6f5d0"
            ],
            [
             0.7,
             "#b8e186"
            ],
            [
             0.8,
             "#7fbc41"
            ],
            [
             0.9,
             "#4d9221"
            ],
            [
             1,
             "#276419"
            ]
           ]
          },
          "xaxis": {
           "gridcolor": "white",
           "linecolor": "white",
           "ticks": "",
           "title": {
            "standoff": 15
           },
           "zerolinecolor": "white",
           "automargin": true,
           "zerolinewidth": 2
          },
          "yaxis": {
           "gridcolor": "white",
           "linecolor": "white",
           "ticks": "",
           "title": {
            "standoff": 15
           },
           "zerolinecolor": "white",
           "automargin": true,
           "zerolinewidth": 2
          },
          "scene": {
           "xaxis": {
            "backgroundcolor": "#E5ECF6",
            "gridcolor": "white",
            "linecolor": "white",
            "showbackground": true,
            "ticks": "",
            "zerolinecolor": "white",
            "gridwidth": 2
           },
           "yaxis": {
            "backgroundcolor": "#E5ECF6",
            "gridcolor": "white",
            "linecolor": "white",
            "showbackground": true,
            "ticks": "",
            "zerolinecolor": "white",
            "gridwidth": 2
           },
           "zaxis": {
            "backgroundcolor": "#E5ECF6",
            "gridcolor": "white",
            "linecolor": "white",
            "showbackground": true,
            "ticks": "",
            "zerolinecolor": "white",
            "gridwidth": 2
           }
          },
          "shapedefaults": {
           "line": {
            "color": "#2a3f5f"
           }
          },
          "annotationdefaults": {
           "arrowcolor": "#2a3f5f",
           "arrowhead": 0,
           "arrowwidth": 1
          },
          "geo": {
           "bgcolor": "white",
           "landcolor": "#E5ECF6",
           "subunitcolor": "white",
           "showland": true,
           "showlakes": true,
           "lakecolor": "white"
          },
          "title": {
           "x": 0.05
          },
          "mapbox": {
           "style": "light"
          }
         }
        },
        "xaxis": {
         "anchor": "y",
         "domain": [
          0.0,
          0.31999999999999995
         ],
         "title": {
          "text": "Weekday"
         },
         "categoryorder": "array",
         "categoryarray": [
          "Monday",
          "Tuesday",
          "Wednesday",
          "Thursday",
          "Friday",
          "Saturday",
          "Sunday"
         ]
        },
        "yaxis": {
         "anchor": "x",
         "domain": [
          0.0,
          1.0
         ],
         "title": {
          "text": "% with retweets"
         }
        },
        "xaxis2": {
         "anchor": "y2",
         "domain": [
          0.33999999999999997,
          0.6599999999999999
         ],
         "matches": "x",
         "title": {
          "text": "Weekday"
         },
         "categoryorder": "array",
         "categoryarray": [
          "Monday",
          "Tuesday",
          "Wednesday",
          "Thursday",
          "Friday",
          "Saturday",
          "Sunday"
         ]
        },
        "yaxis2": {
         "anchor": "x2",
         "domain": [
          0.0,
          1.0
         ],
         "matches": "y",
         "showticklabels": false,
         "title": {
          "text": "% with retweets"
         }
        },
        "xaxis3": {
         "anchor": "y3",
         "domain": [
          0.6799999999999999,
          0.9999999999999999
         ],
         "matches": "x",
         "title": {
          "text": "Weekday"
         },
         "categoryorder": "array",
         "categoryarray": [
          "Monday",
          "Tuesday",
          "Wednesday",
          "Thursday",
          "Friday",
          "Saturday",
          "Sunday"
         ]
        },
        "yaxis3": {
         "anchor": "x3",
         "domain": [
          0.0,
          1.0
         ],
         "matches": "y",
         "showticklabels": false,
         "title": {
          "text": "% with retweets"
         }
        },
        "annotations": [
         {
          "font": {},
          "showarrow": false,
          "text": "year=2019",
          "x": 0.15999999999999998,
          "xanchor": "center",
          "xref": "paper",
          "y": 1.0,
          "yanchor": "bottom",
          "yref": "paper"
         },
         {
          "font": {},
          "showarrow": false,
          "text": "year=2020",
          "x": 0.49999999999999994,
          "xanchor": "center",
          "xref": "paper",
          "y": 1.0,
          "yanchor": "bottom",
          "yref": "paper"
         },
         {
          "font": {},
          "showarrow": false,
          "text": "year=2021",
          "x": 0.8399999999999999,
          "xanchor": "center",
          "xref": "paper",
          "y": 1.0,
          "yanchor": "bottom",
          "yref": "paper"
         }
        ],
        "legend": {
         "title": {
          "text": "topics_cleaned"
         },
         "tracegroupgap": 0
        },
        "margin": {
         "t": 60
        },
        "barmode": "stack",
        "title": {
         "text": "Percentage of retweets by topic during the week"
        },
        "width": 900,
        "height": 500
       },
       "config": {
        "plotlyServerURL": "https://plot.ly"
       }
      },
      "text/html": "<div>                            <div id=\"194bbf5a-75c0-441b-9a1c-271fbae32524\" class=\"plotly-graph-div\" style=\"height:500px; width:900px;\"></div>            <script type=\"text/javascript\">                require([\"plotly\"], function(Plotly) {                    window.PLOTLYENV=window.PLOTLYENV || {};                                    if (document.getElementById(\"194bbf5a-75c0-441b-9a1c-271fbae32524\")) {                    Plotly.newPlot(                        \"194bbf5a-75c0-441b-9a1c-271fbae32524\",                        [{\"alignmentgroup\":\"True\",\"hovertemplate\":\"topics_cleaned=Book<br>year=2019<br>day_of_week=%{x}<br>% with retweets=%{text}<extra></extra>\",\"legendgroup\":\"Book\",\"marker\":{\"color\":\"#006D77\",\"pattern\":{\"shape\":\"\"}},\"name\":\"Book\",\"offsetgroup\":\"Book\",\"orientation\":\"v\",\"showlegend\":true,\"text\":[20.0,30.0,33.33,30.77,16.66,17.14,16.46],\"textposition\":\"auto\",\"x\":[\"Friday\",\"Monday\",\"Saturday\",\"Sunday\",\"Thursday\",\"Tuesday\",\"Wednesday\"],\"xaxis\":\"x\",\"y\":[20.0,30.0,33.33,30.77,16.66,17.14,16.46],\"yaxis\":\"y\",\"type\":\"bar\"},{\"alignmentgroup\":\"True\",\"hovertemplate\":\"topics_cleaned=Book<br>year=2020<br>day_of_week=%{x}<br>% with retweets=%{text}<extra></extra>\",\"legendgroup\":\"Book\",\"marker\":{\"color\":\"#006D77\",\"pattern\":{\"shape\":\"\"}},\"name\":\"Book\",\"offsetgroup\":\"Book\",\"orientation\":\"v\",\"showlegend\":false,\"text\":[16.33,16.95,20.75,10.71,15.25,17.54,13.56],\"textposition\":\"auto\",\"x\":[\"Friday\",\"Monday\",\"Saturday\",\"Sunday\",\"Thursday\",\"Tuesday\",\"Wednesday\"],\"xaxis\":\"x2\",\"y\":[16.33,16.95,20.75,10.71,15.25,17.54,13.56],\"yaxis\":\"y2\",\"type\":\"bar\"},{\"alignmentgroup\":\"True\",\"hovertemplate\":\"topics_cleaned=Book<br>year=2021<br>day_of_week=%{x}<br>% with retweets=%{text}<extra></extra>\",\"legendgroup\":\"Book\",\"marker\":{\"color\":\"#006D77\",\"pattern\":{\"shape\":\"\"}},\"name\":\"Book\",\"offsetgroup\":\"Book\",\"orientation\":\"v\",\"showlegend\":false,\"text\":[16.33,20.59,18.18,24.44,20.0,11.29,13.95],\"textposition\":\"auto\",\"x\":[\"Friday\",\"Monday\",\"Saturday\",\"Sunday\",\"Thursday\",\"Tuesday\",\"Wednesday\"],\"xaxis\":\"x3\",\"y\":[16.33,20.59,18.18,24.44,20.0,11.29,13.95],\"yaxis\":\"y3\",\"type\":\"bar\"},{\"alignmentgroup\":\"True\",\"hovertemplate\":\"topics_cleaned=Brand<br>year=2019<br>day_of_week=%{x}<br>% with retweets=%{text}<extra></extra>\",\"legendgroup\":\"Brand\",\"marker\":{\"color\":\"#FBD1A2\",\"pattern\":{\"shape\":\"\"}},\"name\":\"Brand\",\"offsetgroup\":\"Brand\",\"orientation\":\"v\",\"showlegend\":true,\"text\":[16.63,15.69,16.04,14.75,16.32,14.68,15.72],\"textposition\":\"auto\",\"x\":[\"Friday\",\"Monday\",\"Saturday\",\"Sunday\",\"Thursday\",\"Tuesday\",\"Wednesday\"],\"xaxis\":\"x\",\"y\":[16.63,15.69,16.04,14.75,16.32,14.68,15.72],\"yaxis\":\"y\",\"type\":\"bar\"},{\"alignmentgroup\":\"True\",\"hovertemplate\":\"topics_cleaned=Brand<br>year=2020<br>day_of_week=%{x}<br>% with retweets=%{text}<extra></extra>\",\"legendgroup\":\"Brand\",\"marker\":{\"color\":\"#FBD1A2\",\"pattern\":{\"shape\":\"\"}},\"name\":\"Brand\",\"offsetgroup\":\"Brand\",\"orientation\":\"v\",\"showlegend\":false,\"text\":[15.16,15.87,15.2,14.79,15.59,16.23,14.8],\"textposition\":\"auto\",\"x\":[\"Friday\",\"Monday\",\"Saturday\",\"Sunday\",\"Thursday\",\"Tuesday\",\"Wednesday\"],\"xaxis\":\"x2\",\"y\":[15.16,15.87,15.2,14.79,15.59,16.23,14.8],\"yaxis\":\"y2\",\"type\":\"bar\"},{\"alignmentgroup\":\"True\",\"hovertemplate\":\"topics_cleaned=Brand<br>year=2021<br>day_of_week=%{x}<br>% with retweets=%{text}<extra></extra>\",\"legendgroup\":\"Brand\",\"marker\":{\"color\":\"#FBD1A2\",\"pattern\":{\"shape\":\"\"}},\"name\":\"Brand\",\"offsetgroup\":\"Brand\",\"orientation\":\"v\",\"showlegend\":false,\"text\":[17.19,16.58,14.67,14.88,16.06,16.77,16.1],\"textposition\":\"auto\",\"x\":[\"Friday\",\"Monday\",\"Saturday\",\"Sunday\",\"Thursday\",\"Tuesday\",\"Wednesday\"],\"xaxis\":\"x3\",\"y\":[17.19,16.58,14.67,14.88,16.06,16.77,16.1],\"yaxis\":\"y3\",\"type\":\"bar\"},{\"alignmentgroup\":\"True\",\"hovertemplate\":\"topics_cleaned=Entities<br>year=2019<br>day_of_week=%{x}<br>% with retweets=%{text}<extra></extra>\",\"legendgroup\":\"Entities\",\"marker\":{\"color\":\"#7DCFB6\",\"pattern\":{\"shape\":\"\"}},\"name\":\"Entities\",\"offsetgroup\":\"Entities\",\"orientation\":\"v\",\"showlegend\":true,\"text\":[15.03,15.88,14.3,13.97,15.42,15.86,15.6],\"textposition\":\"auto\",\"x\":[\"Friday\",\"Monday\",\"Saturday\",\"Sunday\",\"Thursday\",\"Tuesday\",\"Wednesday\"],\"xaxis\":\"x\",\"y\":[15.03,15.88,14.3,13.97,15.42,15.86,15.6],\"yaxis\":\"y\",\"type\":\"bar\"},{\"alignmentgroup\":\"True\",\"hovertemplate\":\"topics_cleaned=Entities<br>year=2020<br>day_of_week=%{x}<br>% with retweets=%{text}<extra></extra>\",\"legendgroup\":\"Entities\",\"marker\":{\"color\":\"#7DCFB6\",\"pattern\":{\"shape\":\"\"}},\"name\":\"Entities\",\"offsetgroup\":\"Entities\",\"orientation\":\"v\",\"showlegend\":false,\"text\":[14.32,14.78,13.24,14.1,14.37,14.52,14.83],\"textposition\":\"auto\",\"x\":[\"Friday\",\"Monday\",\"Saturday\",\"Sunday\",\"Thursday\",\"Tuesday\",\"Wednesday\"],\"xaxis\":\"x2\",\"y\":[14.32,14.78,13.24,14.1,14.37,14.52,14.83],\"yaxis\":\"y2\",\"type\":\"bar\"},{\"alignmentgroup\":\"True\",\"hovertemplate\":\"topics_cleaned=Entities<br>year=2021<br>day_of_week=%{x}<br>% with retweets=%{text}<extra></extra>\",\"legendgroup\":\"Entities\",\"marker\":{\"color\":\"#7DCFB6\",\"pattern\":{\"shape\":\"\"}},\"name\":\"Entities\",\"offsetgroup\":\"Entities\",\"orientation\":\"v\",\"showlegend\":false,\"text\":[15.56,16.32,15.14,14.13,16.98,16.27,16.64],\"textposition\":\"auto\",\"x\":[\"Friday\",\"Monday\",\"Saturday\",\"Sunday\",\"Thursday\",\"Tuesday\",\"Wednesday\"],\"xaxis\":\"x3\",\"y\":[15.56,16.32,15.14,14.13,16.98,16.27,16.64],\"yaxis\":\"y3\",\"type\":\"bar\"},{\"alignmentgroup\":\"True\",\"hovertemplate\":\"topics_cleaned=Interest and Hobbies<br>year=2019<br>day_of_week=%{x}<br>% with retweets=%{text}<extra></extra>\",\"legendgroup\":\"Interest and Hobbies\",\"marker\":{\"color\":\"#00B2CA\",\"pattern\":{\"shape\":\"\"}},\"name\":\"Interest and Hobbies\",\"offsetgroup\":\"Interest and Hobbies\",\"orientation\":\"v\",\"showlegend\":true,\"text\":[13.72,15.94,14.24,17.12,25.29,21.68,20.44],\"textposition\":\"auto\",\"x\":[\"Friday\",\"Monday\",\"Saturday\",\"Sunday\",\"Thursday\",\"Tuesday\",\"Wednesday\"],\"xaxis\":\"x\",\"y\":[13.72,15.94,14.24,17.12,25.29,21.68,20.44],\"yaxis\":\"y\",\"type\":\"bar\"},{\"alignmentgroup\":\"True\",\"hovertemplate\":\"topics_cleaned=Interest and Hobbies<br>year=2020<br>day_of_week=%{x}<br>% with retweets=%{text}<extra></extra>\",\"legendgroup\":\"Interest and Hobbies\",\"marker\":{\"color\":\"#00B2CA\",\"pattern\":{\"shape\":\"\"}},\"name\":\"Interest and Hobbies\",\"offsetgroup\":\"Interest and Hobbies\",\"orientation\":\"v\",\"showlegend\":false,\"text\":[16.07,15.44,15.7,14.97,16.06,16.46,16.01],\"textposition\":\"auto\",\"x\":[\"Friday\",\"Monday\",\"Saturday\",\"Sunday\",\"Thursday\",\"Tuesday\",\"Wednesday\"],\"xaxis\":\"x2\",\"y\":[16.07,15.44,15.7,14.97,16.06,16.46,16.01],\"yaxis\":\"y2\",\"type\":\"bar\"},{\"alignmentgroup\":\"True\",\"hovertemplate\":\"topics_cleaned=Interest and Hobbies<br>year=2021<br>day_of_week=%{x}<br>% with retweets=%{text}<extra></extra>\",\"legendgroup\":\"Interest and Hobbies\",\"marker\":{\"color\":\"#00B2CA\",\"pattern\":{\"shape\":\"\"}},\"name\":\"Interest and Hobbies\",\"offsetgroup\":\"Interest and Hobbies\",\"orientation\":\"v\",\"showlegend\":false,\"text\":[16.81,16.19,14.72,15.21,16.45,16.33,16.0],\"textposition\":\"auto\",\"x\":[\"Friday\",\"Monday\",\"Saturday\",\"Sunday\",\"Thursday\",\"Tuesday\",\"Wednesday\"],\"xaxis\":\"x3\",\"y\":[16.81,16.19,14.72,15.21,16.45,16.33,16.0],\"yaxis\":\"y3\",\"type\":\"bar\"},{\"alignmentgroup\":\"True\",\"hovertemplate\":\"topics_cleaned=Music<br>year=2019<br>day_of_week=%{x}<br>% with retweets=%{text}<extra></extra>\",\"legendgroup\":\"Music\",\"marker\":{\"color\":\"#1D4E89\",\"pattern\":{\"shape\":\"\"}},\"name\":\"Music\",\"offsetgroup\":\"Music\",\"orientation\":\"v\",\"showlegend\":true,\"text\":[15.56,18.55,18.98,14.7,16.6,16.44,16.3],\"textposition\":\"auto\",\"x\":[\"Friday\",\"Monday\",\"Saturday\",\"Sunday\",\"Thursday\",\"Tuesday\",\"Wednesday\"],\"xaxis\":\"x\",\"y\":[15.56,18.55,18.98,14.7,16.6,16.44,16.3],\"yaxis\":\"y\",\"type\":\"bar\"},{\"alignmentgroup\":\"True\",\"hovertemplate\":\"topics_cleaned=Music<br>year=2020<br>day_of_week=%{x}<br>% with retweets=%{text}<extra></extra>\",\"legendgroup\":\"Music\",\"marker\":{\"color\":\"#1D4E89\",\"pattern\":{\"shape\":\"\"}},\"name\":\"Music\",\"offsetgroup\":\"Music\",\"orientation\":\"v\",\"showlegend\":false,\"text\":[16.01,17.87,22.64,17.48,20.33,21.36,13.38],\"textposition\":\"auto\",\"x\":[\"Friday\",\"Monday\",\"Saturday\",\"Sunday\",\"Thursday\",\"Tuesday\",\"Wednesday\"],\"xaxis\":\"x2\",\"y\":[16.01,17.87,22.64,17.48,20.33,21.36,13.38],\"yaxis\":\"y2\",\"type\":\"bar\"},{\"alignmentgroup\":\"True\",\"hovertemplate\":\"topics_cleaned=Music<br>year=2021<br>day_of_week=%{x}<br>% with retweets=%{text}<extra></extra>\",\"legendgroup\":\"Music\",\"marker\":{\"color\":\"#1D4E89\",\"pattern\":{\"shape\":\"\"}},\"name\":\"Music\",\"offsetgroup\":\"Music\",\"orientation\":\"v\",\"showlegend\":false,\"text\":[18.35,20.09,23.53,15.99,19.83,19.74,19.49],\"textposition\":\"auto\",\"x\":[\"Friday\",\"Monday\",\"Saturday\",\"Sunday\",\"Thursday\",\"Tuesday\",\"Wednesday\"],\"xaxis\":\"x3\",\"y\":[18.35,20.09,23.53,15.99,19.83,19.74,19.49],\"yaxis\":\"y3\",\"type\":\"bar\"},{\"alignmentgroup\":\"True\",\"hovertemplate\":\"topics_cleaned=Other<br>year=2019<br>day_of_week=%{x}<br>% with retweets=%{text}<extra></extra>\",\"legendgroup\":\"Other\",\"marker\":{\"color\":\"#F79256\",\"pattern\":{\"shape\":\"\"}},\"name\":\"Other\",\"offsetgroup\":\"Other\",\"orientation\":\"v\",\"showlegend\":true,\"text\":[17.03,17.49,14.38,15.42,15.04,15.28,16.04],\"textposition\":\"auto\",\"x\":[\"Friday\",\"Monday\",\"Saturday\",\"Sunday\",\"Thursday\",\"Tuesday\",\"Wednesday\"],\"xaxis\":\"x\",\"y\":[17.03,17.49,14.38,15.42,15.04,15.28,16.04],\"yaxis\":\"y\",\"type\":\"bar\"},{\"alignmentgroup\":\"True\",\"hovertemplate\":\"topics_cleaned=Other<br>year=2020<br>day_of_week=%{x}<br>% with retweets=%{text}<extra></extra>\",\"legendgroup\":\"Other\",\"marker\":{\"color\":\"#F79256\",\"pattern\":{\"shape\":\"\"}},\"name\":\"Other\",\"offsetgroup\":\"Other\",\"orientation\":\"v\",\"showlegend\":false,\"text\":[17.76,18.88,12.75,17.51,12.3,17.81,14.53],\"textposition\":\"auto\",\"x\":[\"Friday\",\"Monday\",\"Saturday\",\"Sunday\",\"Thursday\",\"Tuesday\",\"Wednesday\"],\"xaxis\":\"x2\",\"y\":[17.76,18.88,12.75,17.51,12.3,17.81,14.53],\"yaxis\":\"y2\",\"type\":\"bar\"},{\"alignmentgroup\":\"True\",\"hovertemplate\":\"topics_cleaned=Other<br>year=2021<br>day_of_week=%{x}<br>% with retweets=%{text}<extra></extra>\",\"legendgroup\":\"Other\",\"marker\":{\"color\":\"#F79256\",\"pattern\":{\"shape\":\"\"}},\"name\":\"Other\",\"offsetgroup\":\"Other\",\"orientation\":\"v\",\"showlegend\":false,\"text\":[15.49,13.06,15.46,16.42,13.58,12.47,12.4],\"textposition\":\"auto\",\"x\":[\"Friday\",\"Monday\",\"Saturday\",\"Sunday\",\"Thursday\",\"Tuesday\",\"Wednesday\"],\"xaxis\":\"x3\",\"y\":[15.49,13.06,15.46,16.42,13.58,12.47,12.4],\"yaxis\":\"y3\",\"type\":\"bar\"},{\"alignmentgroup\":\"True\",\"hovertemplate\":\"topics_cleaned=Person<br>year=2019<br>day_of_week=%{x}<br>% with retweets=%{text}<extra></extra>\",\"legendgroup\":\"Person\",\"marker\":{\"color\":\"#aed9e0\",\"pattern\":{\"shape\":\"\"}},\"name\":\"Person\",\"offsetgroup\":\"Person\",\"orientation\":\"v\",\"showlegend\":true,\"text\":[15.57,15.83,14.96,13.66,17.24,16.02,15.93],\"textposition\":\"auto\",\"x\":[\"Friday\",\"Monday\",\"Saturday\",\"Sunday\",\"Thursday\",\"Tuesday\",\"Wednesday\"],\"xaxis\":\"x\",\"y\":[15.57,15.83,14.96,13.66,17.24,16.02,15.93],\"yaxis\":\"y\",\"type\":\"bar\"},{\"alignmentgroup\":\"True\",\"hovertemplate\":\"topics_cleaned=Person<br>year=2020<br>day_of_week=%{x}<br>% with retweets=%{text}<extra></extra>\",\"legendgroup\":\"Person\",\"marker\":{\"color\":\"#aed9e0\",\"pattern\":{\"shape\":\"\"}},\"name\":\"Person\",\"offsetgroup\":\"Person\",\"orientation\":\"v\",\"showlegend\":false,\"text\":[15.19,16.42,14.74,15.55,14.67,15.15,14.35],\"textposition\":\"auto\",\"x\":[\"Friday\",\"Monday\",\"Saturday\",\"Sunday\",\"Thursday\",\"Tuesday\",\"Wednesday\"],\"xaxis\":\"x2\",\"y\":[15.19,16.42,14.74,15.55,14.67,15.15,14.35],\"yaxis\":\"y2\",\"type\":\"bar\"},{\"alignmentgroup\":\"True\",\"hovertemplate\":\"topics_cleaned=Person<br>year=2021<br>day_of_week=%{x}<br>% with retweets=%{text}<extra></extra>\",\"legendgroup\":\"Person\",\"marker\":{\"color\":\"#aed9e0\",\"pattern\":{\"shape\":\"\"}},\"name\":\"Person\",\"offsetgroup\":\"Person\",\"orientation\":\"v\",\"showlegend\":false,\"text\":[15.27,16.7,16.28,16.88,15.34,16.88,16.47],\"textposition\":\"auto\",\"x\":[\"Friday\",\"Monday\",\"Saturday\",\"Sunday\",\"Thursday\",\"Tuesday\",\"Wednesday\"],\"xaxis\":\"x3\",\"y\":[15.27,16.7,16.28,16.88,15.34,16.88,16.47],\"yaxis\":\"y3\",\"type\":\"bar\"},{\"alignmentgroup\":\"True\",\"hovertemplate\":\"topics_cleaned=Political<br>year=2019<br>day_of_week=%{x}<br>% with retweets=%{text}<extra></extra>\",\"legendgroup\":\"Political\",\"marker\":{\"color\":\"#b8f2e6\",\"pattern\":{\"shape\":\"\"}},\"name\":\"Political\",\"offsetgroup\":\"Political\",\"orientation\":\"v\",\"showlegend\":true,\"text\":[11.68,9.83,19.25,17.46,21.56,23.66,23.11],\"textposition\":\"auto\",\"x\":[\"Friday\",\"Monday\",\"Saturday\",\"Sunday\",\"Thursday\",\"Tuesday\",\"Wednesday\"],\"xaxis\":\"x\",\"y\":[11.68,9.83,19.25,17.46,21.56,23.66,23.11],\"yaxis\":\"y\",\"type\":\"bar\"},{\"alignmentgroup\":\"True\",\"hovertemplate\":\"topics_cleaned=Political<br>year=2020<br>day_of_week=%{x}<br>% with retweets=%{text}<extra></extra>\",\"legendgroup\":\"Political\",\"marker\":{\"color\":\"#b8f2e6\",\"pattern\":{\"shape\":\"\"}},\"name\":\"Political\",\"offsetgroup\":\"Political\",\"orientation\":\"v\",\"showlegend\":false,\"text\":[17.18,18.86,15.04,18.87,16.67,15.87,15.3],\"textposition\":\"auto\",\"x\":[\"Friday\",\"Monday\",\"Saturday\",\"Sunday\",\"Thursday\",\"Tuesday\",\"Wednesday\"],\"xaxis\":\"x2\",\"y\":[17.18,18.86,15.04,18.87,16.67,15.87,15.3],\"yaxis\":\"y2\",\"type\":\"bar\"},{\"alignmentgroup\":\"True\",\"hovertemplate\":\"topics_cleaned=Political<br>year=2021<br>day_of_week=%{x}<br>% with retweets=%{text}<extra></extra>\",\"legendgroup\":\"Political\",\"marker\":{\"color\":\"#b8f2e6\",\"pattern\":{\"shape\":\"\"}},\"name\":\"Political\",\"offsetgroup\":\"Political\",\"orientation\":\"v\",\"showlegend\":false,\"text\":[21.92,21.79,20.66,16.42,19.92,19.18,20.99],\"textposition\":\"auto\",\"x\":[\"Friday\",\"Monday\",\"Saturday\",\"Sunday\",\"Thursday\",\"Tuesday\",\"Wednesday\"],\"xaxis\":\"x3\",\"y\":[21.92,21.79,20.66,16.42,19.92,19.18,20.99],\"yaxis\":\"y3\",\"type\":\"bar\"},{\"alignmentgroup\":\"True\",\"hovertemplate\":\"topics_cleaned=Sport<br>year=2019<br>day_of_week=%{x}<br>% with retweets=%{text}<extra></extra>\",\"legendgroup\":\"Sport\",\"marker\":{\"color\":\"#faf3dd\",\"pattern\":{\"shape\":\"\"}},\"name\":\"Sport\",\"offsetgroup\":\"Sport\",\"orientation\":\"v\",\"showlegend\":true,\"text\":[23.43,25.55,22.3,14.64,15.46,15.33,16.87],\"textposition\":\"auto\",\"x\":[\"Friday\",\"Monday\",\"Saturday\",\"Sunday\",\"Thursday\",\"Tuesday\",\"Wednesday\"],\"xaxis\":\"x\",\"y\":[23.43,25.55,22.3,14.64,15.46,15.33,16.87],\"yaxis\":\"y\",\"type\":\"bar\"},{\"alignmentgroup\":\"True\",\"hovertemplate\":\"topics_cleaned=Sport<br>year=2020<br>day_of_week=%{x}<br>% with retweets=%{text}<extra></extra>\",\"legendgroup\":\"Sport\",\"marker\":{\"color\":\"#faf3dd\",\"pattern\":{\"shape\":\"\"}},\"name\":\"Sport\",\"offsetgroup\":\"Sport\",\"orientation\":\"v\",\"showlegend\":false,\"text\":[22.84,17.95,16.78,16.34,22.88,20.14,21.2],\"textposition\":\"auto\",\"x\":[\"Friday\",\"Monday\",\"Saturday\",\"Sunday\",\"Thursday\",\"Tuesday\",\"Wednesday\"],\"xaxis\":\"x2\",\"y\":[22.84,17.95,16.78,16.34,22.88,20.14,21.2],\"yaxis\":\"y2\",\"type\":\"bar\"},{\"alignmentgroup\":\"True\",\"hovertemplate\":\"topics_cleaned=Sport<br>year=2021<br>day_of_week=%{x}<br>% with retweets=%{text}<extra></extra>\",\"legendgroup\":\"Sport\",\"marker\":{\"color\":\"#faf3dd\",\"pattern\":{\"shape\":\"\"}},\"name\":\"Sport\",\"offsetgroup\":\"Sport\",\"orientation\":\"v\",\"showlegend\":false,\"text\":[24.42,24.09,23.73,18.69,24.79,22.79,25.58],\"textposition\":\"auto\",\"x\":[\"Friday\",\"Monday\",\"Saturday\",\"Sunday\",\"Thursday\",\"Tuesday\",\"Wednesday\"],\"xaxis\":\"x3\",\"y\":[24.42,24.09,23.73,18.69,24.79,22.79,25.58],\"yaxis\":\"y3\",\"type\":\"bar\"},{\"alignmentgroup\":\"True\",\"hovertemplate\":\"topics_cleaned=TV and Movies<br>year=2019<br>day_of_week=%{x}<br>% with retweets=%{text}<extra></extra>\",\"legendgroup\":\"TV and Movies\",\"marker\":{\"color\":\"#ffa69e\",\"pattern\":{\"shape\":\"\"}},\"name\":\"TV and Movies\",\"offsetgroup\":\"TV and Movies\",\"orientation\":\"v\",\"showlegend\":true,\"text\":[15.61,15.08,14.87,16.67,11.43,13.61,22.34],\"textposition\":\"auto\",\"x\":[\"Friday\",\"Monday\",\"Saturday\",\"Sunday\",\"Thursday\",\"Tuesday\",\"Wednesday\"],\"xaxis\":\"x\",\"y\":[15.61,15.08,14.87,16.67,11.43,13.61,22.34],\"yaxis\":\"y\",\"type\":\"bar\"},{\"alignmentgroup\":\"True\",\"hovertemplate\":\"topics_cleaned=TV and Movies<br>year=2020<br>day_of_week=%{x}<br>% with retweets=%{text}<extra></extra>\",\"legendgroup\":\"TV and Movies\",\"marker\":{\"color\":\"#ffa69e\",\"pattern\":{\"shape\":\"\"}},\"name\":\"TV and Movies\",\"offsetgroup\":\"TV and Movies\",\"orientation\":\"v\",\"showlegend\":false,\"text\":[15.72,14.48,14.92,13.56,14.88,14.85,15.15],\"textposition\":\"auto\",\"x\":[\"Friday\",\"Monday\",\"Saturday\",\"Sunday\",\"Thursday\",\"Tuesday\",\"Wednesday\"],\"xaxis\":\"x2\",\"y\":[15.72,14.48,14.92,13.56,14.88,14.85,15.15],\"yaxis\":\"y2\",\"type\":\"bar\"},{\"alignmentgroup\":\"True\",\"hovertemplate\":\"topics_cleaned=TV and Movies<br>year=2021<br>day_of_week=%{x}<br>% with retweets=%{text}<extra></extra>\",\"legendgroup\":\"TV and Movies\",\"marker\":{\"color\":\"#ffa69e\",\"pattern\":{\"shape\":\"\"}},\"name\":\"TV and Movies\",\"offsetgroup\":\"TV and Movies\",\"orientation\":\"v\",\"showlegend\":false,\"text\":[15.58,16.01,15.71,13.86,15.16,16.59,15.41],\"textposition\":\"auto\",\"x\":[\"Friday\",\"Monday\",\"Saturday\",\"Sunday\",\"Thursday\",\"Tuesday\",\"Wednesday\"],\"xaxis\":\"x3\",\"y\":[15.58,16.01,15.71,13.86,15.16,16.59,15.41],\"yaxis\":\"y3\",\"type\":\"bar\"},{\"alignmentgroup\":\"True\",\"hovertemplate\":\"topics_cleaned=Video Game<br>year=2019<br>day_of_week=%{x}<br>% with retweets=%{text}<extra></extra>\",\"legendgroup\":\"Video Game\",\"marker\":{\"color\":\"#FE7F2D\",\"pattern\":{\"shape\":\"\"}},\"name\":\"Video Game\",\"offsetgroup\":\"Video Game\",\"orientation\":\"v\",\"showlegend\":true,\"text\":[19.38,14.19,15.1,30.0,30.56,23.08,null],\"textposition\":\"auto\",\"x\":[\"Friday\",\"Monday\",\"Saturday\",\"Sunday\",\"Thursday\",\"Tuesday\",\"Wednesday\"],\"xaxis\":\"x\",\"y\":[19.38,14.19,15.1,30.0,30.56,23.08,null],\"yaxis\":\"y\",\"type\":\"bar\"},{\"alignmentgroup\":\"True\",\"hovertemplate\":\"topics_cleaned=Video Game<br>year=2020<br>day_of_week=%{x}<br>% with retweets=%{text}<extra></extra>\",\"legendgroup\":\"Video Game\",\"marker\":{\"color\":\"#FE7F2D\",\"pattern\":{\"shape\":\"\"}},\"name\":\"Video Game\",\"offsetgroup\":\"Video Game\",\"orientation\":\"v\",\"showlegend\":false,\"text\":[17.12,16.07,19.82,20.39,13.07,17.03,17.43],\"textposition\":\"auto\",\"x\":[\"Friday\",\"Monday\",\"Saturday\",\"Sunday\",\"Thursday\",\"Tuesday\",\"Wednesday\"],\"xaxis\":\"x2\",\"y\":[17.12,16.07,19.82,20.39,13.07,17.03,17.43],\"yaxis\":\"y2\",\"type\":\"bar\"},{\"alignmentgroup\":\"True\",\"hovertemplate\":\"topics_cleaned=Video Game<br>year=2021<br>day_of_week=%{x}<br>% with retweets=%{text}<extra></extra>\",\"legendgroup\":\"Video Game\",\"marker\":{\"color\":\"#FE7F2D\",\"pattern\":{\"shape\":\"\"}},\"name\":\"Video Game\",\"offsetgroup\":\"Video Game\",\"orientation\":\"v\",\"showlegend\":false,\"text\":[13.44,15.27,14.39,15.41,15.29,14.01,13.77],\"textposition\":\"auto\",\"x\":[\"Friday\",\"Monday\",\"Saturday\",\"Sunday\",\"Thursday\",\"Tuesday\",\"Wednesday\"],\"xaxis\":\"x3\",\"y\":[13.44,15.27,14.39,15.41,15.29,14.01,13.77],\"yaxis\":\"y3\",\"type\":\"bar\"},{\"alignmentgroup\":\"True\",\"hovertemplate\":\"topics_cleaned=Holiday<br>year=2019<br>day_of_week=%{x}<br>% with retweets=%{text}<extra></extra>\",\"legendgroup\":\"Holiday\",\"marker\":{\"color\":\"#FCCA46\",\"pattern\":{\"shape\":\"\"}},\"name\":\"Holiday\",\"offsetgroup\":\"Holiday\",\"orientation\":\"v\",\"showlegend\":true,\"text\":[14.69],\"textposition\":\"auto\",\"x\":[\"Sunday\"],\"xaxis\":\"x\",\"y\":[14.69],\"yaxis\":\"y\",\"type\":\"bar\"},{\"alignmentgroup\":\"True\",\"hovertemplate\":\"topics_cleaned=Holiday<br>year=2020<br>day_of_week=%{x}<br>% with retweets=%{text}<extra></extra>\",\"legendgroup\":\"Holiday\",\"marker\":{\"color\":\"#FCCA46\",\"pattern\":{\"shape\":\"\"}},\"name\":\"Holiday\",\"offsetgroup\":\"Holiday\",\"orientation\":\"v\",\"showlegend\":false,\"text\":[15.84,15.13,16.55,17.55,17.29,15.27,19.15],\"textposition\":\"auto\",\"x\":[\"Friday\",\"Monday\",\"Saturday\",\"Sunday\",\"Thursday\",\"Tuesday\",\"Wednesday\"],\"xaxis\":\"x2\",\"y\":[15.84,15.13,16.55,17.55,17.29,15.27,19.15],\"yaxis\":\"y2\",\"type\":\"bar\"},{\"alignmentgroup\":\"True\",\"hovertemplate\":\"topics_cleaned=Holiday<br>year=2021<br>day_of_week=%{x}<br>% with retweets=%{text}<extra></extra>\",\"legendgroup\":\"Holiday\",\"marker\":{\"color\":\"#FCCA46\",\"pattern\":{\"shape\":\"\"}},\"name\":\"Holiday\",\"offsetgroup\":\"Holiday\",\"orientation\":\"v\",\"showlegend\":false,\"text\":[19.07,22.13,21.6,16.98,20.21,22.57,19.17],\"textposition\":\"auto\",\"x\":[\"Friday\",\"Monday\",\"Saturday\",\"Sunday\",\"Thursday\",\"Tuesday\",\"Wednesday\"],\"xaxis\":\"x3\",\"y\":[19.07,22.13,21.6,16.98,20.21,22.57,19.17],\"yaxis\":\"y3\",\"type\":\"bar\"},{\"alignmentgroup\":\"True\",\"hovertemplate\":\"topics_cleaned=News<br>year=2020<br>day_of_week=%{x}<br>% with retweets=%{text}<extra></extra>\",\"legendgroup\":\"News\",\"marker\":{\"color\":\"#ED7B84\",\"pattern\":{\"shape\":\"\"}},\"name\":\"News\",\"offsetgroup\":\"News\",\"orientation\":\"v\",\"showlegend\":true,\"text\":[18.31,18.97,20.01,18.58,21.19,20.36,20.48],\"textposition\":\"auto\",\"x\":[\"Friday\",\"Monday\",\"Saturday\",\"Sunday\",\"Thursday\",\"Tuesday\",\"Wednesday\"],\"xaxis\":\"x2\",\"y\":[18.31,18.97,20.01,18.58,21.19,20.36,20.48],\"yaxis\":\"y2\",\"type\":\"bar\"},{\"alignmentgroup\":\"True\",\"hovertemplate\":\"topics_cleaned=News<br>year=2021<br>day_of_week=%{x}<br>% with retweets=%{text}<extra></extra>\",\"legendgroup\":\"News\",\"marker\":{\"color\":\"#ED7B84\",\"pattern\":{\"shape\":\"\"}},\"name\":\"News\",\"offsetgroup\":\"News\",\"orientation\":\"v\",\"showlegend\":false,\"text\":[20.0,18.5,22.56,20.19,18.99,18.23,21.51],\"textposition\":\"auto\",\"x\":[\"Friday\",\"Monday\",\"Saturday\",\"Sunday\",\"Thursday\",\"Tuesday\",\"Wednesday\"],\"xaxis\":\"x3\",\"y\":[20.0,18.5,22.56,20.19,18.99,18.23,21.51],\"yaxis\":\"y3\",\"type\":\"bar\"}],                        {\"template\":{\"data\":{\"histogram2dcontour\":[{\"type\":\"histogram2dcontour\",\"colorbar\":{\"outlinewidth\":0,\"ticks\":\"\"},\"colorscale\":[[0.0,\"#0d0887\"],[0.1111111111111111,\"#46039f\"],[0.2222222222222222,\"#7201a8\"],[0.3333333333333333,\"#9c179e\"],[0.4444444444444444,\"#bd3786\"],[0.5555555555555556,\"#d8576b\"],[0.6666666666666666,\"#ed7953\"],[0.7777777777777778,\"#fb9f3a\"],[0.8888888888888888,\"#fdca26\"],[1.0,\"#f0f921\"]]}],\"choropleth\":[{\"type\":\"choropleth\",\"colorbar\":{\"outlinewidth\":0,\"ticks\":\"\"}}],\"histogram2d\":[{\"type\":\"histogram2d\",\"colorbar\":{\"outlinewidth\":0,\"ticks\":\"\"},\"colorscale\":[[0.0,\"#0d0887\"],[0.1111111111111111,\"#46039f\"],[0.2222222222222222,\"#7201a8\"],[0.3333333333333333,\"#9c179e\"],[0.4444444444444444,\"#bd3786\"],[0.5555555555555556,\"#d8576b\"],[0.6666666666666666,\"#ed7953\"],[0.7777777777777778,\"#fb9f3a\"],[0.8888888888888888,\"#fdca26\"],[1.0,\"#f0f921\"]]}],\"heatmap\":[{\"type\":\"heatmap\",\"colorbar\":{\"outlinewidth\":0,\"ticks\":\"\"},\"colorscale\":[[0.0,\"#0d0887\"],[0.1111111111111111,\"#46039f\"],[0.2222222222222222,\"#7201a8\"],[0.3333333333333333,\"#9c179e\"],[0.4444444444444444,\"#bd3786\"],[0.5555555555555556,\"#d8576b\"],[0.6666666666666666,\"#ed7953\"],[0.7777777777777778,\"#fb9f3a\"],[0.8888888888888888,\"#fdca26\"],[1.0,\"#f0f921\"]]}],\"heatmapgl\":[{\"type\":\"heatmapgl\",\"colorbar\":{\"outlinewidth\":0,\"ticks\":\"\"},\"colorscale\":[[0.0,\"#0d0887\"],[0.1111111111111111,\"#46039f\"],[0.2222222222222222,\"#7201a8\"],[0.3333333333333333,\"#9c179e\"],[0.4444444444444444,\"#bd3786\"],[0.5555555555555556,\"#d8576b\"],[0.6666666666666666,\"#ed7953\"],[0.7777777777777778,\"#fb9f3a\"],[0.8888888888888888,\"#fdca26\"],[1.0,\"#f0f921\"]]}],\"contourcarpet\":[{\"type\":\"contourcarpet\",\"colorbar\":{\"outlinewidth\":0,\"ticks\":\"\"}}],\"contour\":[{\"type\":\"contour\",\"colorbar\":{\"outlinewidth\":0,\"ticks\":\"\"},\"colorscale\":[[0.0,\"#0d0887\"],[0.1111111111111111,\"#46039f\"],[0.2222222222222222,\"#7201a8\"],[0.3333333333333333,\"#9c179e\"],[0.4444444444444444,\"#bd3786\"],[0.5555555555555556,\"#d8576b\"],[0.6666666666666666,\"#ed7953\"],[0.7777777777777778,\"#fb9f3a\"],[0.8888888888888888,\"#fdca26\"],[1.0,\"#f0f921\"]]}],\"surface\":[{\"type\":\"surface\",\"colorbar\":{\"outlinewidth\":0,\"ticks\":\"\"},\"colorscale\":[[0.0,\"#0d0887\"],[0.1111111111111111,\"#46039f\"],[0.2222222222222222,\"#7201a8\"],[0.3333333333333333,\"#9c179e\"],[0.4444444444444444,\"#bd3786\"],[0.5555555555555556,\"#d8576b\"],[0.6666666666666666,\"#ed7953\"],[0.7777777777777778,\"#fb9f3a\"],[0.8888888888888888,\"#fdca26\"],[1.0,\"#f0f921\"]]}],\"mesh3d\":[{\"type\":\"mesh3d\",\"colorbar\":{\"outlinewidth\":0,\"ticks\":\"\"}}],\"scatter\":[{\"fillpattern\":{\"fillmode\":\"overlay\",\"size\":10,\"solidity\":0.2},\"type\":\"scatter\"}],\"parcoords\":[{\"type\":\"parcoords\",\"line\":{\"colorbar\":{\"outlinewidth\":0,\"ticks\":\"\"}}}],\"scatterpolargl\":[{\"type\":\"scatterpolargl\",\"marker\":{\"colorbar\":{\"outlinewidth\":0,\"ticks\":\"\"}}}],\"bar\":[{\"error_x\":{\"color\":\"#2a3f5f\"},\"error_y\":{\"color\":\"#2a3f5f\"},\"marker\":{\"line\":{\"color\":\"#E5ECF6\",\"width\":0.5},\"pattern\":{\"fillmode\":\"overlay\",\"size\":10,\"solidity\":0.2}},\"type\":\"bar\"}],\"scattergeo\":[{\"type\":\"scattergeo\",\"marker\":{\"colorbar\":{\"outlinewidth\":0,\"ticks\":\"\"}}}],\"scatterpolar\":[{\"type\":\"scatterpolar\",\"marker\":{\"colorbar\":{\"outlinewidth\":0,\"ticks\":\"\"}}}],\"histogram\":[{\"marker\":{\"pattern\":{\"fillmode\":\"overlay\",\"size\":10,\"solidity\":0.2}},\"type\":\"histogram\"}],\"scattergl\":[{\"type\":\"scattergl\",\"marker\":{\"colorbar\":{\"outlinewidth\":0,\"ticks\":\"\"}}}],\"scatter3d\":[{\"type\":\"scatter3d\",\"line\":{\"colorbar\":{\"outlinewidth\":0,\"ticks\":\"\"}},\"marker\":{\"colorbar\":{\"outlinewidth\":0,\"ticks\":\"\"}}}],\"scattermapbox\":[{\"type\":\"scattermapbox\",\"marker\":{\"colorbar\":{\"outlinewidth\":0,\"ticks\":\"\"}}}],\"scatterternary\":[{\"type\":\"scatterternary\",\"marker\":{\"colorbar\":{\"outlinewidth\":0,\"ticks\":\"\"}}}],\"scattercarpet\":[{\"type\":\"scattercarpet\",\"marker\":{\"colorbar\":{\"outlinewidth\":0,\"ticks\":\"\"}}}],\"carpet\":[{\"aaxis\":{\"endlinecolor\":\"#2a3f5f\",\"gridcolor\":\"white\",\"linecolor\":\"white\",\"minorgridcolor\":\"white\",\"startlinecolor\":\"#2a3f5f\"},\"baxis\":{\"endlinecolor\":\"#2a3f5f\",\"gridcolor\":\"white\",\"linecolor\":\"white\",\"minorgridcolor\":\"white\",\"startlinecolor\":\"#2a3f5f\"},\"type\":\"carpet\"}],\"table\":[{\"cells\":{\"fill\":{\"color\":\"#EBF0F8\"},\"line\":{\"color\":\"white\"}},\"header\":{\"fill\":{\"color\":\"#C8D4E3\"},\"line\":{\"color\":\"white\"}},\"type\":\"table\"}],\"barpolar\":[{\"marker\":{\"line\":{\"color\":\"#E5ECF6\",\"width\":0.5},\"pattern\":{\"fillmode\":\"overlay\",\"size\":10,\"solidity\":0.2}},\"type\":\"barpolar\"}],\"pie\":[{\"automargin\":true,\"type\":\"pie\"}]},\"layout\":{\"autotypenumbers\":\"strict\",\"colorway\":[\"#636efa\",\"#EF553B\",\"#00cc96\",\"#ab63fa\",\"#FFA15A\",\"#19d3f3\",\"#FF6692\",\"#B6E880\",\"#FF97FF\",\"#FECB52\"],\"font\":{\"color\":\"#2a3f5f\"},\"hovermode\":\"closest\",\"hoverlabel\":{\"align\":\"left\"},\"paper_bgcolor\":\"white\",\"plot_bgcolor\":\"#E5ECF6\",\"polar\":{\"bgcolor\":\"#E5ECF6\",\"angularaxis\":{\"gridcolor\":\"white\",\"linecolor\":\"white\",\"ticks\":\"\"},\"radialaxis\":{\"gridcolor\":\"white\",\"linecolor\":\"white\",\"ticks\":\"\"}},\"ternary\":{\"bgcolor\":\"#E5ECF6\",\"aaxis\":{\"gridcolor\":\"white\",\"linecolor\":\"white\",\"ticks\":\"\"},\"baxis\":{\"gridcolor\":\"white\",\"linecolor\":\"white\",\"ticks\":\"\"},\"caxis\":{\"gridcolor\":\"white\",\"linecolor\":\"white\",\"ticks\":\"\"}},\"coloraxis\":{\"colorbar\":{\"outlinewidth\":0,\"ticks\":\"\"}},\"colorscale\":{\"sequential\":[[0.0,\"#0d0887\"],[0.1111111111111111,\"#46039f\"],[0.2222222222222222,\"#7201a8\"],[0.3333333333333333,\"#9c179e\"],[0.4444444444444444,\"#bd3786\"],[0.5555555555555556,\"#d8576b\"],[0.6666666666666666,\"#ed7953\"],[0.7777777777777778,\"#fb9f3a\"],[0.8888888888888888,\"#fdca26\"],[1.0,\"#f0f921\"]],\"sequentialminus\":[[0.0,\"#0d0887\"],[0.1111111111111111,\"#46039f\"],[0.2222222222222222,\"#7201a8\"],[0.3333333333333333,\"#9c179e\"],[0.4444444444444444,\"#bd3786\"],[0.5555555555555556,\"#d8576b\"],[0.6666666666666666,\"#ed7953\"],[0.7777777777777778,\"#fb9f3a\"],[0.8888888888888888,\"#fdca26\"],[1.0,\"#f0f921\"]],\"diverging\":[[0,\"#8e0152\"],[0.1,\"#c51b7d\"],[0.2,\"#de77ae\"],[0.3,\"#f1b6da\"],[0.4,\"#fde0ef\"],[0.5,\"#f7f7f7\"],[0.6,\"#e6f5d0\"],[0.7,\"#b8e186\"],[0.8,\"#7fbc41\"],[0.9,\"#4d9221\"],[1,\"#276419\"]]},\"xaxis\":{\"gridcolor\":\"white\",\"linecolor\":\"white\",\"ticks\":\"\",\"title\":{\"standoff\":15},\"zerolinecolor\":\"white\",\"automargin\":true,\"zerolinewidth\":2},\"yaxis\":{\"gridcolor\":\"white\",\"linecolor\":\"white\",\"ticks\":\"\",\"title\":{\"standoff\":15},\"zerolinecolor\":\"white\",\"automargin\":true,\"zerolinewidth\":2},\"scene\":{\"xaxis\":{\"backgroundcolor\":\"#E5ECF6\",\"gridcolor\":\"white\",\"linecolor\":\"white\",\"showbackground\":true,\"ticks\":\"\",\"zerolinecolor\":\"white\",\"gridwidth\":2},\"yaxis\":{\"backgroundcolor\":\"#E5ECF6\",\"gridcolor\":\"white\",\"linecolor\":\"white\",\"showbackground\":true,\"ticks\":\"\",\"zerolinecolor\":\"white\",\"gridwidth\":2},\"zaxis\":{\"backgroundcolor\":\"#E5ECF6\",\"gridcolor\":\"white\",\"linecolor\":\"white\",\"showbackground\":true,\"ticks\":\"\",\"zerolinecolor\":\"white\",\"gridwidth\":2}},\"shapedefaults\":{\"line\":{\"color\":\"#2a3f5f\"}},\"annotationdefaults\":{\"arrowcolor\":\"#2a3f5f\",\"arrowhead\":0,\"arrowwidth\":1},\"geo\":{\"bgcolor\":\"white\",\"landcolor\":\"#E5ECF6\",\"subunitcolor\":\"white\",\"showland\":true,\"showlakes\":true,\"lakecolor\":\"white\"},\"title\":{\"x\":0.05},\"mapbox\":{\"style\":\"light\"}}},\"xaxis\":{\"anchor\":\"y\",\"domain\":[0.0,0.31999999999999995],\"title\":{\"text\":\"Weekday\"},\"categoryorder\":\"array\",\"categoryarray\":[\"Monday\",\"Tuesday\",\"Wednesday\",\"Thursday\",\"Friday\",\"Saturday\",\"Sunday\"]},\"yaxis\":{\"anchor\":\"x\",\"domain\":[0.0,1.0],\"title\":{\"text\":\"% with retweets\"}},\"xaxis2\":{\"anchor\":\"y2\",\"domain\":[0.33999999999999997,0.6599999999999999],\"matches\":\"x\",\"title\":{\"text\":\"Weekday\"},\"categoryorder\":\"array\",\"categoryarray\":[\"Monday\",\"Tuesday\",\"Wednesday\",\"Thursday\",\"Friday\",\"Saturday\",\"Sunday\"]},\"yaxis2\":{\"anchor\":\"x2\",\"domain\":[0.0,1.0],\"matches\":\"y\",\"showticklabels\":false,\"title\":{\"text\":\"% with retweets\"}},\"xaxis3\":{\"anchor\":\"y3\",\"domain\":[0.6799999999999999,0.9999999999999999],\"matches\":\"x\",\"title\":{\"text\":\"Weekday\"},\"categoryorder\":\"array\",\"categoryarray\":[\"Monday\",\"Tuesday\",\"Wednesday\",\"Thursday\",\"Friday\",\"Saturday\",\"Sunday\"]},\"yaxis3\":{\"anchor\":\"x3\",\"domain\":[0.0,1.0],\"matches\":\"y\",\"showticklabels\":false,\"title\":{\"text\":\"% with retweets\"}},\"annotations\":[{\"font\":{},\"showarrow\":false,\"text\":\"year=2019\",\"x\":0.15999999999999998,\"xanchor\":\"center\",\"xref\":\"paper\",\"y\":1.0,\"yanchor\":\"bottom\",\"yref\":\"paper\"},{\"font\":{},\"showarrow\":false,\"text\":\"year=2020\",\"x\":0.49999999999999994,\"xanchor\":\"center\",\"xref\":\"paper\",\"y\":1.0,\"yanchor\":\"bottom\",\"yref\":\"paper\"},{\"font\":{},\"showarrow\":false,\"text\":\"year=2021\",\"x\":0.8399999999999999,\"xanchor\":\"center\",\"xref\":\"paper\",\"y\":1.0,\"yanchor\":\"bottom\",\"yref\":\"paper\"}],\"legend\":{\"title\":{\"text\":\"topics_cleaned\"},\"tracegroupgap\":0},\"margin\":{\"t\":60},\"barmode\":\"stack\",\"title\":{\"text\":\"Percentage of retweets by topic during the week\"},\"width\":900,\"height\":500},                        {\"responsive\": true}                    ).then(function(){\n                            \nvar gd = document.getElementById('194bbf5a-75c0-441b-9a1c-271fbae32524');\nvar x = new MutationObserver(function (mutations, observer) {{\n        var display = window.getComputedStyle(gd).display;\n        if (!display || display === 'none') {{\n            console.log([gd, 'removed!']);\n            Plotly.purge(gd);\n            observer.disconnect();\n        }}\n}});\n\n// Listen for the removal of the full notebook cells\nvar notebookContainer = gd.closest('#notebook-container');\nif (notebookContainer) {{\n    x.observe(notebookContainer, {childList: true});\n}}\n\n// Listen for the clearing of the current output cell\nvar outputEl = gd.closest('.output');\nif (outputEl) {{\n    x.observe(outputEl, {childList: true});\n}}\n\n                        })                };                });            </script>        </div>"
     },
     "metadata": {},
     "output_type": "display_data"
    }
   ],
   "source": [
    "multi_label_chart(df_analysis, \"topics_cleaned\", week_days, \"day_of_week\", \"% with retweets\", \"Weekday\", \"% with retweets\", \"Percentage of retweets by topic during the week\", offline_graphs)"
   ],
   "metadata": {
    "collapsed": false,
    "pycharm": {
     "name": "#%%\n"
    }
   }
  },
  {
   "cell_type": "markdown",
   "source": [
    "#### Average retweet count per topic during the year"
   ],
   "metadata": {
    "collapsed": false,
    "pycharm": {
     "name": "#%% md\n"
    }
   }
  },
  {
   "cell_type": "code",
   "execution_count": 55,
   "outputs": [
    {
     "data": {
      "text/plain": "     year      month        topics_cleaned  count month   % month  \\\n0    2019      April                  Book           24  0.012372   \n1    2019      April                 Brand         2303  1.187193   \n2    2019      April              Entities         1490  0.768093   \n3    2019      April  Interest and Hobbies         2183  1.125333   \n4    2019      April                 Music          174  0.089697   \n..    ...        ...                   ...          ...       ...   \n151  2021  September                Person         2535  1.455993   \n152  2021  September             Political          118  0.067774   \n153  2021  September                 Sport          545  0.313024   \n154  2021  September         TV and Movies         4022  2.310060   \n155  2021  September            Video Game          171  0.098215   \n\n     % with retweets  % with likes  retweets mean  likes mean  \n0              37.50         58.33           1.96        8.12  \n1              15.59         47.37           0.41        3.08  \n2              15.64         49.93           0.36        2.85  \n3              16.31         47.82           0.42        3.06  \n4              24.14         55.75           0.53        3.22  \n..               ...           ...            ...         ...  \n151            17.16         49.31           0.58        4.36  \n152            22.03         42.37           0.82        2.72  \n153            24.22         59.27           0.57        5.83  \n154            15.61         54.18           0.49        5.74  \n155            16.37         60.23           0.52        4.91  \n\n[445 rows x 9 columns]",
      "text/html": "<div>\n<style scoped>\n    .dataframe tbody tr th:only-of-type {\n        vertical-align: middle;\n    }\n\n    .dataframe tbody tr th {\n        vertical-align: top;\n    }\n\n    .dataframe thead th {\n        text-align: right;\n    }\n</style>\n<table border=\"1\" class=\"dataframe\">\n  <thead>\n    <tr style=\"text-align: right;\">\n      <th></th>\n      <th>year</th>\n      <th>month</th>\n      <th>topics_cleaned</th>\n      <th>count month</th>\n      <th>% month</th>\n      <th>% with retweets</th>\n      <th>% with likes</th>\n      <th>retweets mean</th>\n      <th>likes mean</th>\n    </tr>\n  </thead>\n  <tbody>\n    <tr>\n      <th>0</th>\n      <td>2019</td>\n      <td>April</td>\n      <td>Book</td>\n      <td>24</td>\n      <td>0.012372</td>\n      <td>37.50</td>\n      <td>58.33</td>\n      <td>1.96</td>\n      <td>8.12</td>\n    </tr>\n    <tr>\n      <th>1</th>\n      <td>2019</td>\n      <td>April</td>\n      <td>Brand</td>\n      <td>2303</td>\n      <td>1.187193</td>\n      <td>15.59</td>\n      <td>47.37</td>\n      <td>0.41</td>\n      <td>3.08</td>\n    </tr>\n    <tr>\n      <th>2</th>\n      <td>2019</td>\n      <td>April</td>\n      <td>Entities</td>\n      <td>1490</td>\n      <td>0.768093</td>\n      <td>15.64</td>\n      <td>49.93</td>\n      <td>0.36</td>\n      <td>2.85</td>\n    </tr>\n    <tr>\n      <th>3</th>\n      <td>2019</td>\n      <td>April</td>\n      <td>Interest and Hobbies</td>\n      <td>2183</td>\n      <td>1.125333</td>\n      <td>16.31</td>\n      <td>47.82</td>\n      <td>0.42</td>\n      <td>3.06</td>\n    </tr>\n    <tr>\n      <th>4</th>\n      <td>2019</td>\n      <td>April</td>\n      <td>Music</td>\n      <td>174</td>\n      <td>0.089697</td>\n      <td>24.14</td>\n      <td>55.75</td>\n      <td>0.53</td>\n      <td>3.22</td>\n    </tr>\n    <tr>\n      <th>...</th>\n      <td>...</td>\n      <td>...</td>\n      <td>...</td>\n      <td>...</td>\n      <td>...</td>\n      <td>...</td>\n      <td>...</td>\n      <td>...</td>\n      <td>...</td>\n    </tr>\n    <tr>\n      <th>151</th>\n      <td>2021</td>\n      <td>September</td>\n      <td>Person</td>\n      <td>2535</td>\n      <td>1.455993</td>\n      <td>17.16</td>\n      <td>49.31</td>\n      <td>0.58</td>\n      <td>4.36</td>\n    </tr>\n    <tr>\n      <th>152</th>\n      <td>2021</td>\n      <td>September</td>\n      <td>Political</td>\n      <td>118</td>\n      <td>0.067774</td>\n      <td>22.03</td>\n      <td>42.37</td>\n      <td>0.82</td>\n      <td>2.72</td>\n    </tr>\n    <tr>\n      <th>153</th>\n      <td>2021</td>\n      <td>September</td>\n      <td>Sport</td>\n      <td>545</td>\n      <td>0.313024</td>\n      <td>24.22</td>\n      <td>59.27</td>\n      <td>0.57</td>\n      <td>5.83</td>\n    </tr>\n    <tr>\n      <th>154</th>\n      <td>2021</td>\n      <td>September</td>\n      <td>TV and Movies</td>\n      <td>4022</td>\n      <td>2.310060</td>\n      <td>15.61</td>\n      <td>54.18</td>\n      <td>0.49</td>\n      <td>5.74</td>\n    </tr>\n    <tr>\n      <th>155</th>\n      <td>2021</td>\n      <td>September</td>\n      <td>Video Game</td>\n      <td>171</td>\n      <td>0.098215</td>\n      <td>16.37</td>\n      <td>60.23</td>\n      <td>0.52</td>\n      <td>4.91</td>\n    </tr>\n  </tbody>\n</table>\n<p>445 rows × 9 columns</p>\n</div>"
     },
     "execution_count": 55,
     "metadata": {},
     "output_type": "execute_result"
    }
   ],
   "source": [
    "df_analysis = retweets_likes_info_by_year(tweet_analysis, ['month', 'topics_cleaned'], months)\n",
    "df_analysis"
   ],
   "metadata": {
    "collapsed": false,
    "pycharm": {
     "name": "#%%\n"
    }
   }
  },
  {
   "cell_type": "code",
   "execution_count": 56,
   "outputs": [
    {
     "data": {
      "application/vnd.plotly.v1+json": {
       "data": [
        {
         "alignmentgroup": "True",
         "hovertemplate": "topics_cleaned=Book<br>year=2019<br>month=%{x}<br>% with retweets=%{text}<extra></extra>",
         "legendgroup": "Book",
         "marker": {
          "color": "#006D77",
          "pattern": {
           "shape": ""
          }
         },
         "name": "Book",
         "offsetgroup": "Book",
         "orientation": "v",
         "showlegend": true,
         "text": [
          37.5,
          11.11,
          29.41,
          29.41,
          15.43,
          15.29,
          16.6,
          16.38,
          15.25,
          17.42,
          17.97,
          15.36
         ],
         "textposition": "auto",
         "x": [
          "April",
          "August",
          "December",
          "February",
          "January",
          "July",
          "June",
          "March",
          "May",
          "November",
          "October",
          "September"
         ],
         "xaxis": "x",
         "y": [
          37.5,
          11.11,
          29.41,
          29.41,
          15.43,
          15.29,
          16.6,
          16.38,
          15.25,
          17.42,
          17.97,
          15.36
         ],
         "yaxis": "y",
         "type": "bar"
        },
        {
         "alignmentgroup": "True",
         "hovertemplate": "topics_cleaned=Book<br>year=2020<br>month=%{x}<br>% with retweets=%{text}<extra></extra>",
         "legendgroup": "Book",
         "marker": {
          "color": "#006D77",
          "pattern": {
           "shape": ""
          }
         },
         "name": "Book",
         "offsetgroup": "Book",
         "orientation": "v",
         "showlegend": false,
         "text": [
          22.22,
          13.56,
          10.0,
          45.0,
          7.69,
          11.11,
          17.31,
          20.0,
          26.67,
          3.7,
          7.89,
          17.07
         ],
         "textposition": "auto",
         "x": [
          "April",
          "August",
          "December",
          "February",
          "January",
          "July",
          "June",
          "March",
          "May",
          "November",
          "October",
          "September"
         ],
         "xaxis": "x2",
         "y": [
          22.22,
          13.56,
          10.0,
          45.0,
          7.69,
          11.11,
          17.31,
          20.0,
          26.67,
          3.7,
          7.89,
          17.07
         ],
         "yaxis": "y2",
         "type": "bar"
        },
        {
         "alignmentgroup": "True",
         "hovertemplate": "topics_cleaned=Book<br>year=2021<br>month=%{x}<br>% with retweets=%{text}<extra></extra>",
         "legendgroup": "Book",
         "marker": {
          "color": "#006D77",
          "pattern": {
           "shape": ""
          }
         },
         "name": "Book",
         "offsetgroup": "Book",
         "orientation": "v",
         "showlegend": false,
         "text": [
          19.23,
          31.03,
          20.0,
          20.59,
          17.07,
          8.0,
          26.32,
          10.34,
          4.17,
          20.0,
          10.71,
          22.22
         ],
         "textposition": "auto",
         "x": [
          "April",
          "August",
          "December",
          "February",
          "January",
          "July",
          "June",
          "March",
          "May",
          "November",
          "October",
          "September"
         ],
         "xaxis": "x3",
         "y": [
          19.23,
          31.03,
          20.0,
          20.59,
          17.07,
          8.0,
          26.32,
          10.34,
          4.17,
          20.0,
          10.71,
          22.22
         ],
         "yaxis": "y3",
         "type": "bar"
        },
        {
         "alignmentgroup": "True",
         "hovertemplate": "topics_cleaned=Brand<br>year=2019<br>month=%{x}<br>% with retweets=%{text}<extra></extra>",
         "legendgroup": "Brand",
         "marker": {
          "color": "#FBD1A2",
          "pattern": {
           "shape": ""
          }
         },
         "name": "Brand",
         "offsetgroup": "Brand",
         "orientation": "v",
         "showlegend": true,
         "text": [
          15.59,
          16.6,
          15.86,
          16.87,
          14.35,
          14.32,
          16.35,
          14.58,
          15.91,
          15.08,
          15.89,
          15.08
         ],
         "textposition": "auto",
         "x": [
          "April",
          "August",
          "December",
          "February",
          "January",
          "July",
          "June",
          "March",
          "May",
          "November",
          "October",
          "September"
         ],
         "xaxis": "x",
         "y": [
          15.59,
          16.6,
          15.86,
          16.87,
          14.35,
          14.32,
          16.35,
          14.58,
          15.91,
          15.08,
          15.89,
          15.08
         ],
         "yaxis": "y",
         "type": "bar"
        },
        {
         "alignmentgroup": "True",
         "hovertemplate": "topics_cleaned=Brand<br>year=2020<br>month=%{x}<br>% with retweets=%{text}<extra></extra>",
         "legendgroup": "Brand",
         "marker": {
          "color": "#FBD1A2",
          "pattern": {
           "shape": ""
          }
         },
         "name": "Brand",
         "offsetgroup": "Brand",
         "orientation": "v",
         "showlegend": false,
         "text": [
          16.9,
          16.21,
          12.26,
          15.85,
          16.43,
          14.96,
          15.32,
          16.79,
          17.05,
          13.88,
          14.92,
          13.93
         ],
         "textposition": "auto",
         "x": [
          "April",
          "August",
          "December",
          "February",
          "January",
          "July",
          "June",
          "March",
          "May",
          "November",
          "October",
          "September"
         ],
         "xaxis": "x2",
         "y": [
          16.9,
          16.21,
          12.26,
          15.85,
          16.43,
          14.96,
          15.32,
          16.79,
          17.05,
          13.88,
          14.92,
          13.93
         ],
         "yaxis": "y2",
         "type": "bar"
        },
        {
         "alignmentgroup": "True",
         "hovertemplate": "topics_cleaned=Brand<br>year=2021<br>month=%{x}<br>% with retweets=%{text}<extra></extra>",
         "legendgroup": "Brand",
         "marker": {
          "color": "#FBD1A2",
          "pattern": {
           "shape": ""
          }
         },
         "name": "Brand",
         "offsetgroup": "Brand",
         "orientation": "v",
         "showlegend": false,
         "text": [
          15.62,
          15.38,
          16.93,
          15.11,
          14.9,
          14.89,
          15.38,
          16.41,
          16.59,
          16.63,
          17.42,
          17.24
         ],
         "textposition": "auto",
         "x": [
          "April",
          "August",
          "December",
          "February",
          "January",
          "July",
          "June",
          "March",
          "May",
          "November",
          "October",
          "September"
         ],
         "xaxis": "x3",
         "y": [
          15.62,
          15.38,
          16.93,
          15.11,
          14.9,
          14.89,
          15.38,
          16.41,
          16.59,
          16.63,
          17.42,
          17.24
         ],
         "yaxis": "y3",
         "type": "bar"
        },
        {
         "alignmentgroup": "True",
         "hovertemplate": "topics_cleaned=Entities<br>year=2019<br>month=%{x}<br>% with retweets=%{text}<extra></extra>",
         "legendgroup": "Entities",
         "marker": {
          "color": "#7DCFB6",
          "pattern": {
           "shape": ""
          }
         },
         "name": "Entities",
         "offsetgroup": "Entities",
         "orientation": "v",
         "showlegend": true,
         "text": [
          15.64,
          14.64,
          13.52,
          16.28,
          13.61,
          14.32,
          14.91,
          12.47,
          15.12,
          16.52,
          15.16,
          16.7
         ],
         "textposition": "auto",
         "x": [
          "April",
          "August",
          "December",
          "February",
          "January",
          "July",
          "June",
          "March",
          "May",
          "November",
          "October",
          "September"
         ],
         "xaxis": "x",
         "y": [
          15.64,
          14.64,
          13.52,
          16.28,
          13.61,
          14.32,
          14.91,
          12.47,
          15.12,
          16.52,
          15.16,
          16.7
         ],
         "yaxis": "y",
         "type": "bar"
        },
        {
         "alignmentgroup": "True",
         "hovertemplate": "topics_cleaned=Entities<br>year=2020<br>month=%{x}<br>% with retweets=%{text}<extra></extra>",
         "legendgroup": "Entities",
         "marker": {
          "color": "#7DCFB6",
          "pattern": {
           "shape": ""
          }
         },
         "name": "Entities",
         "offsetgroup": "Entities",
         "orientation": "v",
         "showlegend": false,
         "text": [
          15.23,
          14.72,
          12.66,
          17.13,
          13.48,
          13.9,
          15.3,
          13.91,
          14.45,
          11.68,
          15.32,
          13.49
         ],
         "textposition": "auto",
         "x": [
          "April",
          "August",
          "December",
          "February",
          "January",
          "July",
          "June",
          "March",
          "May",
          "November",
          "October",
          "September"
         ],
         "xaxis": "x2",
         "y": [
          15.23,
          14.72,
          12.66,
          17.13,
          13.48,
          13.9,
          15.3,
          13.91,
          14.45,
          11.68,
          15.32,
          13.49
         ],
         "yaxis": "y2",
         "type": "bar"
        },
        {
         "alignmentgroup": "True",
         "hovertemplate": "topics_cleaned=Entities<br>year=2021<br>month=%{x}<br>% with retweets=%{text}<extra></extra>",
         "legendgroup": "Entities",
         "marker": {
          "color": "#7DCFB6",
          "pattern": {
           "shape": ""
          }
         },
         "name": "Entities",
         "offsetgroup": "Entities",
         "orientation": "v",
         "showlegend": false,
         "text": [
          14.76,
          17.75,
          19.4,
          15.15,
          13.87,
          14.18,
          15.23,
          14.47,
          14.34,
          19.43,
          17.26,
          20.21
         ],
         "textposition": "auto",
         "x": [
          "April",
          "August",
          "December",
          "February",
          "January",
          "July",
          "June",
          "March",
          "May",
          "November",
          "October",
          "September"
         ],
         "xaxis": "x3",
         "y": [
          14.76,
          17.75,
          19.4,
          15.15,
          13.87,
          14.18,
          15.23,
          14.47,
          14.34,
          19.43,
          17.26,
          20.21
         ],
         "yaxis": "y3",
         "type": "bar"
        },
        {
         "alignmentgroup": "True",
         "hovertemplate": "topics_cleaned=Interest and Hobbies<br>year=2019<br>month=%{x}<br>% with retweets=%{text}<extra></extra>",
         "legendgroup": "Interest and Hobbies",
         "marker": {
          "color": "#00B2CA",
          "pattern": {
           "shape": ""
          }
         },
         "name": "Interest and Hobbies",
         "offsetgroup": "Interest and Hobbies",
         "orientation": "v",
         "showlegend": true,
         "text": [
          16.31,
          14.47,
          15.67,
          16.67,
          20.13,
          19.59,
          20.09,
          16.33,
          20.69,
          16.89,
          19.02,
          17.37
         ],
         "textposition": "auto",
         "x": [
          "April",
          "August",
          "December",
          "February",
          "January",
          "July",
          "June",
          "March",
          "May",
          "November",
          "October",
          "September"
         ],
         "xaxis": "x",
         "y": [
          16.31,
          14.47,
          15.67,
          16.67,
          20.13,
          19.59,
          20.09,
          16.33,
          20.69,
          16.89,
          19.02,
          17.37
         ],
         "yaxis": "y",
         "type": "bar"
        },
        {
         "alignmentgroup": "True",
         "hovertemplate": "topics_cleaned=Interest and Hobbies<br>year=2020<br>month=%{x}<br>% with retweets=%{text}<extra></extra>",
         "legendgroup": "Interest and Hobbies",
         "marker": {
          "color": "#00B2CA",
          "pattern": {
           "shape": ""
          }
         },
         "name": "Interest and Hobbies",
         "offsetgroup": "Interest and Hobbies",
         "orientation": "v",
         "showlegend": false,
         "text": [
          15.37,
          16.01,
          13.3,
          16.66,
          16.22,
          14.84,
          16.48,
          16.72,
          16.39,
          14.75,
          16.2,
          16.26
         ],
         "textposition": "auto",
         "x": [
          "April",
          "August",
          "December",
          "February",
          "January",
          "July",
          "June",
          "March",
          "May",
          "November",
          "October",
          "September"
         ],
         "xaxis": "x2",
         "y": [
          15.37,
          16.01,
          13.3,
          16.66,
          16.22,
          14.84,
          16.48,
          16.72,
          16.39,
          14.75,
          16.2,
          16.26
         ],
         "yaxis": "y2",
         "type": "bar"
        },
        {
         "alignmentgroup": "True",
         "hovertemplate": "topics_cleaned=Interest and Hobbies<br>year=2021<br>month=%{x}<br>% with retweets=%{text}<extra></extra>",
         "legendgroup": "Interest and Hobbies",
         "marker": {
          "color": "#00B2CA",
          "pattern": {
           "shape": ""
          }
         },
         "name": "Interest and Hobbies",
         "offsetgroup": "Interest and Hobbies",
         "orientation": "v",
         "showlegend": false,
         "text": [
          14.67,
          14.82,
          17.29,
          16.84,
          13.14,
          16.57,
          15.9,
          15.9,
          15.24,
          17.51,
          17.22,
          17.1
         ],
         "textposition": "auto",
         "x": [
          "April",
          "August",
          "December",
          "February",
          "January",
          "July",
          "June",
          "March",
          "May",
          "November",
          "October",
          "September"
         ],
         "xaxis": "x3",
         "y": [
          14.67,
          14.82,
          17.29,
          16.84,
          13.14,
          16.57,
          15.9,
          15.9,
          15.24,
          17.51,
          17.22,
          17.1
         ],
         "yaxis": "y3",
         "type": "bar"
        },
        {
         "alignmentgroup": "True",
         "hovertemplate": "topics_cleaned=Music<br>year=2019<br>month=%{x}<br>% with retweets=%{text}<extra></extra>",
         "legendgroup": "Music",
         "marker": {
          "color": "#1D4E89",
          "pattern": {
           "shape": ""
          }
         },
         "name": "Music",
         "offsetgroup": "Music",
         "orientation": "v",
         "showlegend": true,
         "text": [
          24.14,
          18.44,
          23.28,
          16.14,
          14.76,
          16.92,
          15.24,
          15.33,
          15.32,
          17.99,
          17.5,
          19.21
         ],
         "textposition": "auto",
         "x": [
          "April",
          "August",
          "December",
          "February",
          "January",
          "July",
          "June",
          "March",
          "May",
          "November",
          "October",
          "September"
         ],
         "xaxis": "x",
         "y": [
          24.14,
          18.44,
          23.28,
          16.14,
          14.76,
          16.92,
          15.24,
          15.33,
          15.32,
          17.99,
          17.5,
          19.21
         ],
         "yaxis": "y",
         "type": "bar"
        },
        {
         "alignmentgroup": "True",
         "hovertemplate": "topics_cleaned=Music<br>year=2020<br>month=%{x}<br>% with retweets=%{text}<extra></extra>",
         "legendgroup": "Music",
         "marker": {
          "color": "#1D4E89",
          "pattern": {
           "shape": ""
          }
         },
         "name": "Music",
         "offsetgroup": "Music",
         "orientation": "v",
         "showlegend": false,
         "text": [
          17.82,
          15.53,
          14.29,
          24.89,
          19.49,
          19.46,
          12.35,
          20.34,
          19.52,
          17.48,
          17.97,
          16.8
         ],
         "textposition": "auto",
         "x": [
          "April",
          "August",
          "December",
          "February",
          "January",
          "July",
          "June",
          "March",
          "May",
          "November",
          "October",
          "September"
         ],
         "xaxis": "x2",
         "y": [
          17.82,
          15.53,
          14.29,
          24.89,
          19.49,
          19.46,
          12.35,
          20.34,
          19.52,
          17.48,
          17.97,
          16.8
         ],
         "yaxis": "y2",
         "type": "bar"
        },
        {
         "alignmentgroup": "True",
         "hovertemplate": "topics_cleaned=Music<br>year=2021<br>month=%{x}<br>% with retweets=%{text}<extra></extra>",
         "legendgroup": "Music",
         "marker": {
          "color": "#1D4E89",
          "pattern": {
           "shape": ""
          }
         },
         "name": "Music",
         "offsetgroup": "Music",
         "orientation": "v",
         "showlegend": false,
         "text": [
          15.56,
          17.09,
          22.58,
          17.42,
          21.19,
          20.5,
          19.05,
          23.78,
          19.44,
          20.44,
          22.38,
          15.03
         ],
         "textposition": "auto",
         "x": [
          "April",
          "August",
          "December",
          "February",
          "January",
          "July",
          "June",
          "March",
          "May",
          "November",
          "October",
          "September"
         ],
         "xaxis": "x3",
         "y": [
          15.56,
          17.09,
          22.58,
          17.42,
          21.19,
          20.5,
          19.05,
          23.78,
          19.44,
          20.44,
          22.38,
          15.03
         ],
         "yaxis": "y3",
         "type": "bar"
        },
        {
         "alignmentgroup": "True",
         "hovertemplate": "topics_cleaned=Other<br>year=2019<br>month=%{x}<br>% with retweets=%{text}<extra></extra>",
         "legendgroup": "Other",
         "marker": {
          "color": "#F79256",
          "pattern": {
           "shape": ""
          }
         },
         "name": "Other",
         "offsetgroup": "Other",
         "orientation": "v",
         "showlegend": true,
         "text": [
          15.97,
          18.92,
          17.41,
          13.77,
          14.08,
          15.44,
          15.18,
          14.52,
          16.4,
          16.61,
          15.97,
          16.08
         ],
         "textposition": "auto",
         "x": [
          "April",
          "August",
          "December",
          "February",
          "January",
          "July",
          "June",
          "March",
          "May",
          "November",
          "October",
          "September"
         ],
         "xaxis": "x",
         "y": [
          15.97,
          18.92,
          17.41,
          13.77,
          14.08,
          15.44,
          15.18,
          14.52,
          16.4,
          16.61,
          15.97,
          16.08
         ],
         "yaxis": "y",
         "type": "bar"
        },
        {
         "alignmentgroup": "True",
         "hovertemplate": "topics_cleaned=Other<br>year=2020<br>month=%{x}<br>% with retweets=%{text}<extra></extra>",
         "legendgroup": "Other",
         "marker": {
          "color": "#F79256",
          "pattern": {
           "shape": ""
          }
         },
         "name": "Other",
         "offsetgroup": "Other",
         "orientation": "v",
         "showlegend": false,
         "text": [
          20.33,
          11.76,
          17.28,
          17.91,
          13.33,
          10.53,
          22.22,
          25.55,
          14.74,
          14.05,
          8.47,
          15.33
         ],
         "textposition": "auto",
         "x": [
          "April",
          "August",
          "December",
          "February",
          "January",
          "July",
          "June",
          "March",
          "May",
          "November",
          "October",
          "September"
         ],
         "xaxis": "x2",
         "y": [
          20.33,
          11.76,
          17.28,
          17.91,
          13.33,
          10.53,
          22.22,
          25.55,
          14.74,
          14.05,
          8.47,
          15.33
         ],
         "yaxis": "y2",
         "type": "bar"
        },
        {
         "alignmentgroup": "True",
         "hovertemplate": "topics_cleaned=Other<br>year=2021<br>month=%{x}<br>% with retweets=%{text}<extra></extra>",
         "legendgroup": "Other",
         "marker": {
          "color": "#F79256",
          "pattern": {
           "shape": ""
          }
         },
         "name": "Other",
         "offsetgroup": "Other",
         "orientation": "v",
         "showlegend": false,
         "text": [
          12.21,
          17.07,
          13.81,
          10.6,
          16.67,
          15.92,
          12.82,
          7.43,
          9.57,
          18.81,
          15.82,
          15.57
         ],
         "textposition": "auto",
         "x": [
          "April",
          "August",
          "December",
          "February",
          "January",
          "July",
          "June",
          "March",
          "May",
          "November",
          "October",
          "September"
         ],
         "xaxis": "x3",
         "y": [
          12.21,
          17.07,
          13.81,
          10.6,
          16.67,
          15.92,
          12.82,
          7.43,
          9.57,
          18.81,
          15.82,
          15.57
         ],
         "yaxis": "y3",
         "type": "bar"
        },
        {
         "alignmentgroup": "True",
         "hovertemplate": "topics_cleaned=Person<br>year=2019<br>month=%{x}<br>% with retweets=%{text}<extra></extra>",
         "legendgroup": "Person",
         "marker": {
          "color": "#aed9e0",
          "pattern": {
           "shape": ""
          }
         },
         "name": "Person",
         "offsetgroup": "Person",
         "orientation": "v",
         "showlegend": true,
         "text": [
          15.95,
          15.4,
          16.05,
          19.42,
          12.83,
          16.15,
          11.2,
          14.81,
          12.1,
          17.71,
          15.53,
          16.09
         ],
         "textposition": "auto",
         "x": [
          "April",
          "August",
          "December",
          "February",
          "January",
          "July",
          "June",
          "March",
          "May",
          "November",
          "October",
          "September"
         ],
         "xaxis": "x",
         "y": [
          15.95,
          15.4,
          16.05,
          19.42,
          12.83,
          16.15,
          11.2,
          14.81,
          12.1,
          17.71,
          15.53,
          16.09
         ],
         "yaxis": "y",
         "type": "bar"
        },
        {
         "alignmentgroup": "True",
         "hovertemplate": "topics_cleaned=Person<br>year=2020<br>month=%{x}<br>% with retweets=%{text}<extra></extra>",
         "legendgroup": "Person",
         "marker": {
          "color": "#aed9e0",
          "pattern": {
           "shape": ""
          }
         },
         "name": "Person",
         "offsetgroup": "Person",
         "orientation": "v",
         "showlegend": false,
         "text": [
          14.53,
          14.95,
          11.15,
          16.08,
          17.45,
          15.48,
          17.18,
          16.18,
          15.69,
          13.52,
          14.19,
          15.26
         ],
         "textposition": "auto",
         "x": [
          "April",
          "August",
          "December",
          "February",
          "January",
          "July",
          "June",
          "March",
          "May",
          "November",
          "October",
          "September"
         ],
         "xaxis": "x2",
         "y": [
          14.53,
          14.95,
          11.15,
          16.08,
          17.45,
          15.48,
          17.18,
          16.18,
          15.69,
          13.52,
          14.19,
          15.26
         ],
         "yaxis": "y2",
         "type": "bar"
        },
        {
         "alignmentgroup": "True",
         "hovertemplate": "topics_cleaned=Person<br>year=2021<br>month=%{x}<br>% with retweets=%{text}<extra></extra>",
         "legendgroup": "Person",
         "marker": {
          "color": "#aed9e0",
          "pattern": {
           "shape": ""
          }
         },
         "name": "Person",
         "offsetgroup": "Person",
         "orientation": "v",
         "showlegend": false,
         "text": [
          14.81,
          17.48,
          17.64,
          15.79,
          14.17,
          16.83,
          16.94,
          15.04,
          16.68,
          16.84,
          17.18,
          17.16
         ],
         "textposition": "auto",
         "x": [
          "April",
          "August",
          "December",
          "February",
          "January",
          "July",
          "June",
          "March",
          "May",
          "November",
          "October",
          "September"
         ],
         "xaxis": "x3",
         "y": [
          14.81,
          17.48,
          17.64,
          15.79,
          14.17,
          16.83,
          16.94,
          15.04,
          16.68,
          16.84,
          17.18,
          17.16
         ],
         "yaxis": "y3",
         "type": "bar"
        },
        {
         "alignmentgroup": "True",
         "hovertemplate": "topics_cleaned=Political<br>year=2019<br>month=%{x}<br>% with retweets=%{text}<extra></extra>",
         "legendgroup": "Political",
         "marker": {
          "color": "#b8f2e6",
          "pattern": {
           "shape": ""
          }
         },
         "name": "Political",
         "offsetgroup": "Political",
         "orientation": "v",
         "showlegend": true,
         "text": [
          13.68,
          15.12,
          18.27,
          26.36,
          25.85,
          19.63,
          19.97,
          21.14,
          23.27,
          24.38,
          18.64,
          21.53
         ],
         "textposition": "auto",
         "x": [
          "April",
          "August",
          "December",
          "February",
          "January",
          "July",
          "June",
          "March",
          "May",
          "November",
          "October",
          "September"
         ],
         "xaxis": "x",
         "y": [
          13.68,
          15.12,
          18.27,
          26.36,
          25.85,
          19.63,
          19.97,
          21.14,
          23.27,
          24.38,
          18.64,
          21.53
         ],
         "yaxis": "y",
         "type": "bar"
        },
        {
         "alignmentgroup": "True",
         "hovertemplate": "topics_cleaned=Political<br>year=2020<br>month=%{x}<br>% with retweets=%{text}<extra></extra>",
         "legendgroup": "Political",
         "marker": {
          "color": "#b8f2e6",
          "pattern": {
           "shape": ""
          }
         },
         "name": "Political",
         "offsetgroup": "Political",
         "orientation": "v",
         "showlegend": false,
         "text": [
          18.68,
          15.66,
          17.14,
          16.67,
          16.06,
          20.93,
          19.91,
          18.0,
          18.06,
          14.46,
          12.0,
          13.85
         ],
         "textposition": "auto",
         "x": [
          "April",
          "August",
          "December",
          "February",
          "January",
          "July",
          "June",
          "March",
          "May",
          "November",
          "October",
          "September"
         ],
         "xaxis": "x2",
         "y": [
          18.68,
          15.66,
          17.14,
          16.67,
          16.06,
          20.93,
          19.91,
          18.0,
          18.06,
          14.46,
          12.0,
          13.85
         ],
         "yaxis": "y2",
         "type": "bar"
        },
        {
         "alignmentgroup": "True",
         "hovertemplate": "topics_cleaned=Political<br>year=2021<br>month=%{x}<br>% with retweets=%{text}<extra></extra>",
         "legendgroup": "Political",
         "marker": {
          "color": "#b8f2e6",
          "pattern": {
           "shape": ""
          }
         },
         "name": "Political",
         "offsetgroup": "Political",
         "orientation": "v",
         "showlegend": false,
         "text": [
          20.0,
          18.68,
          21.0,
          18.49,
          12.7,
          27.84,
          22.52,
          23.85,
          17.71,
          23.96,
          28.45,
          22.03
         ],
         "textposition": "auto",
         "x": [
          "April",
          "August",
          "December",
          "February",
          "January",
          "July",
          "June",
          "March",
          "May",
          "November",
          "October",
          "September"
         ],
         "xaxis": "x3",
         "y": [
          20.0,
          18.68,
          21.0,
          18.49,
          12.7,
          27.84,
          22.52,
          23.85,
          17.71,
          23.96,
          28.45,
          22.03
         ],
         "yaxis": "y3",
         "type": "bar"
        },
        {
         "alignmentgroup": "True",
         "hovertemplate": "topics_cleaned=Sport<br>year=2019<br>month=%{x}<br>% with retweets=%{text}<extra></extra>",
         "legendgroup": "Sport",
         "marker": {
          "color": "#faf3dd",
          "pattern": {
           "shape": ""
          }
         },
         "name": "Sport",
         "offsetgroup": "Sport",
         "orientation": "v",
         "showlegend": true,
         "text": [
          23.08,
          21.72,
          23.95,
          14.75,
          14.8,
          15.98,
          14.38,
          15.28,
          14.88,
          15.81,
          15.56,
          15.59
         ],
         "textposition": "auto",
         "x": [
          "April",
          "August",
          "December",
          "February",
          "January",
          "July",
          "June",
          "March",
          "May",
          "November",
          "October",
          "September"
         ],
         "xaxis": "x",
         "y": [
          23.08,
          21.72,
          23.95,
          14.75,
          14.8,
          15.98,
          14.38,
          15.28,
          14.88,
          15.81,
          15.56,
          15.59
         ],
         "yaxis": "y",
         "type": "bar"
        },
        {
         "alignmentgroup": "True",
         "hovertemplate": "topics_cleaned=Sport<br>year=2020<br>month=%{x}<br>% with retweets=%{text}<extra></extra>",
         "legendgroup": "Sport",
         "marker": {
          "color": "#faf3dd",
          "pattern": {
           "shape": ""
          }
         },
         "name": "Sport",
         "offsetgroup": "Sport",
         "orientation": "v",
         "showlegend": false,
         "text": [
          20.55,
          15.81,
          16.18,
          21.67,
          23.07,
          21.02,
          22.8,
          21.74,
          20.79,
          14.83,
          17.2,
          17.0
         ],
         "textposition": "auto",
         "x": [
          "April",
          "August",
          "December",
          "February",
          "January",
          "July",
          "June",
          "March",
          "May",
          "November",
          "October",
          "September"
         ],
         "xaxis": "x2",
         "y": [
          20.55,
          15.81,
          16.18,
          21.67,
          23.07,
          21.02,
          22.8,
          21.74,
          20.79,
          14.83,
          17.2,
          17.0
         ],
         "yaxis": "y2",
         "type": "bar"
        },
        {
         "alignmentgroup": "True",
         "hovertemplate": "topics_cleaned=Sport<br>year=2021<br>month=%{x}<br>% with retweets=%{text}<extra></extra>",
         "legendgroup": "Sport",
         "marker": {
          "color": "#faf3dd",
          "pattern": {
           "shape": ""
          }
         },
         "name": "Sport",
         "offsetgroup": "Sport",
         "orientation": "v",
         "showlegend": false,
         "text": [
          21.68,
          21.17,
          30.04,
          23.2,
          20.25,
          19.64,
          22.57,
          20.92,
          28.88,
          29.98,
          23.97,
          24.22
         ],
         "textposition": "auto",
         "x": [
          "April",
          "August",
          "December",
          "February",
          "January",
          "July",
          "June",
          "March",
          "May",
          "November",
          "October",
          "September"
         ],
         "xaxis": "x3",
         "y": [
          21.68,
          21.17,
          30.04,
          23.2,
          20.25,
          19.64,
          22.57,
          20.92,
          28.88,
          29.98,
          23.97,
          24.22
         ],
         "yaxis": "y3",
         "type": "bar"
        },
        {
         "alignmentgroup": "True",
         "hovertemplate": "topics_cleaned=TV and Movies<br>year=2019<br>month=%{x}<br>% with retweets=%{text}<extra></extra>",
         "legendgroup": "TV and Movies",
         "marker": {
          "color": "#ffa69e",
          "pattern": {
           "shape": ""
          }
         },
         "name": "TV and Movies",
         "offsetgroup": "TV and Movies",
         "orientation": "v",
         "showlegend": true,
         "text": [
          15.4,
          16.86,
          14.81,
          13.16,
          11.65,
          21.05,
          12.12,
          13.42,
          19.87,
          18.86,
          17.39,
          13.54
         ],
         "textposition": "auto",
         "x": [
          "April",
          "August",
          "December",
          "February",
          "January",
          "July",
          "June",
          "March",
          "May",
          "November",
          "October",
          "September"
         ],
         "xaxis": "x",
         "y": [
          15.4,
          16.86,
          14.81,
          13.16,
          11.65,
          21.05,
          12.12,
          13.42,
          19.87,
          18.86,
          17.39,
          13.54
         ],
         "yaxis": "y",
         "type": "bar"
        },
        {
         "alignmentgroup": "True",
         "hovertemplate": "topics_cleaned=TV and Movies<br>year=2020<br>month=%{x}<br>% with retweets=%{text}<extra></extra>",
         "legendgroup": "TV and Movies",
         "marker": {
          "color": "#ffa69e",
          "pattern": {
           "shape": ""
          }
         },
         "name": "TV and Movies",
         "offsetgroup": "TV and Movies",
         "orientation": "v",
         "showlegend": false,
         "text": [
          14.5,
          14.08,
          11.92,
          17.33,
          16.84,
          15.34,
          17.04,
          17.22,
          15.41,
          10.84,
          13.24,
          14.76
         ],
         "textposition": "auto",
         "x": [
          "April",
          "August",
          "December",
          "February",
          "January",
          "July",
          "June",
          "March",
          "May",
          "November",
          "October",
          "September"
         ],
         "xaxis": "x2",
         "y": [
          14.5,
          14.08,
          11.92,
          17.33,
          16.84,
          15.34,
          17.04,
          17.22,
          15.41,
          10.84,
          13.24,
          14.76
         ],
         "yaxis": "y2",
         "type": "bar"
        },
        {
         "alignmentgroup": "True",
         "hovertemplate": "topics_cleaned=TV and Movies<br>year=2021<br>month=%{x}<br>% with retweets=%{text}<extra></extra>",
         "legendgroup": "TV and Movies",
         "marker": {
          "color": "#ffa69e",
          "pattern": {
           "shape": ""
          }
         },
         "name": "TV and Movies",
         "offsetgroup": "TV and Movies",
         "orientation": "v",
         "showlegend": false,
         "text": [
          14.26,
          16.42,
          17.1,
          14.95,
          12.8,
          13.92,
          15.14,
          14.76,
          15.8,
          16.95,
          15.39,
          15.61
         ],
         "textposition": "auto",
         "x": [
          "April",
          "August",
          "December",
          "February",
          "January",
          "July",
          "June",
          "March",
          "May",
          "November",
          "October",
          "September"
         ],
         "xaxis": "x3",
         "y": [
          14.26,
          16.42,
          17.1,
          14.95,
          12.8,
          13.92,
          15.14,
          14.76,
          15.8,
          16.95,
          15.39,
          15.61
         ],
         "yaxis": "y3",
         "type": "bar"
        },
        {
         "alignmentgroup": "True",
         "hovertemplate": "topics_cleaned=Video Game<br>year=2019<br>month=%{x}<br>% with retweets=%{text}<extra></extra>",
         "legendgroup": "Video Game",
         "marker": {
          "color": "#FE7F2D",
          "pattern": {
           "shape": ""
          }
         },
         "name": "Video Game",
         "offsetgroup": "Video Game",
         "orientation": "v",
         "showlegend": true,
         "text": [
          18.59,
          20.3,
          16.0,
          25.0,
          18.18,
          28.57,
          20.83,
          36.84,
          26.67,
          42.11,
          17.65,
          null
         ],
         "textposition": "auto",
         "x": [
          "April",
          "August",
          "December",
          "February",
          "January",
          "July",
          "June",
          "March",
          "May",
          "November",
          "October",
          "September"
         ],
         "xaxis": "x",
         "y": [
          18.59,
          20.3,
          16.0,
          25.0,
          18.18,
          28.57,
          20.83,
          36.84,
          26.67,
          42.11,
          17.65,
          null
         ],
         "yaxis": "y",
         "type": "bar"
        },
        {
         "alignmentgroup": "True",
         "hovertemplate": "topics_cleaned=Video Game<br>year=2020<br>month=%{x}<br>% with retweets=%{text}<extra></extra>",
         "legendgroup": "Video Game",
         "marker": {
          "color": "#FE7F2D",
          "pattern": {
           "shape": ""
          }
         },
         "name": "Video Game",
         "offsetgroup": "Video Game",
         "orientation": "v",
         "showlegend": false,
         "text": [
          16.06,
          15.82,
          16.1,
          21.02,
          19.08,
          14.21,
          15.59,
          20.57,
          16.33,
          16.16,
          21.61,
          15.62
         ],
         "textposition": "auto",
         "x": [
          "April",
          "August",
          "December",
          "February",
          "January",
          "July",
          "June",
          "March",
          "May",
          "November",
          "October",
          "September"
         ],
         "xaxis": "x2",
         "y": [
          16.06,
          15.82,
          16.1,
          21.02,
          19.08,
          14.21,
          15.59,
          20.57,
          16.33,
          16.16,
          21.61,
          15.62
         ],
         "yaxis": "y2",
         "type": "bar"
        },
        {
         "alignmentgroup": "True",
         "hovertemplate": "topics_cleaned=Video Game<br>year=2021<br>month=%{x}<br>% with retweets=%{text}<extra></extra>",
         "legendgroup": "Video Game",
         "marker": {
          "color": "#FE7F2D",
          "pattern": {
           "shape": ""
          }
         },
         "name": "Video Game",
         "offsetgroup": "Video Game",
         "orientation": "v",
         "showlegend": false,
         "text": [
          13.73,
          14.79,
          11.67,
          13.1,
          10.39,
          20.53,
          13.99,
          23.08,
          13.33,
          14.45,
          8.7,
          16.37
         ],
         "textposition": "auto",
         "x": [
          "April",
          "August",
          "December",
          "February",
          "January",
          "July",
          "June",
          "March",
          "May",
          "November",
          "October",
          "September"
         ],
         "xaxis": "x3",
         "y": [
          13.73,
          14.79,
          11.67,
          13.1,
          10.39,
          20.53,
          13.99,
          23.08,
          13.33,
          14.45,
          8.7,
          16.37
         ],
         "yaxis": "y3",
         "type": "bar"
        },
        {
         "alignmentgroup": "True",
         "hovertemplate": "topics_cleaned=Holiday<br>year=2019<br>month=%{x}<br>% with retweets=%{text}<extra></extra>",
         "legendgroup": "Holiday",
         "marker": {
          "color": "#FCCA46",
          "pattern": {
           "shape": ""
          }
         },
         "name": "Holiday",
         "offsetgroup": "Holiday",
         "orientation": "v",
         "showlegend": true,
         "text": [
          14.09
         ],
         "textposition": "auto",
         "x": [
          "February"
         ],
         "xaxis": "x",
         "y": [
          14.09
         ],
         "yaxis": "y",
         "type": "bar"
        },
        {
         "alignmentgroup": "True",
         "hovertemplate": "topics_cleaned=Holiday<br>year=2020<br>month=%{x}<br>% with retweets=%{text}<extra></extra>",
         "legendgroup": "Holiday",
         "marker": {
          "color": "#FCCA46",
          "pattern": {
           "shape": ""
          }
         },
         "name": "Holiday",
         "offsetgroup": "Holiday",
         "orientation": "v",
         "showlegend": false,
         "text": [
          22.83,
          10.64,
          15.94,
          14.75,
          18.3,
          20.39,
          19.03,
          23.94,
          19.24,
          13.54,
          15.17,
          21.67
         ],
         "textposition": "auto",
         "x": [
          "April",
          "August",
          "December",
          "February",
          "January",
          "July",
          "June",
          "March",
          "May",
          "November",
          "October",
          "September"
         ],
         "xaxis": "x2",
         "y": [
          22.83,
          10.64,
          15.94,
          14.75,
          18.3,
          20.39,
          19.03,
          23.94,
          19.24,
          13.54,
          15.17,
          21.67
         ],
         "yaxis": "y2",
         "type": "bar"
        },
        {
         "alignmentgroup": "True",
         "hovertemplate": "topics_cleaned=Holiday<br>year=2021<br>month=%{x}<br>% with retweets=%{text}<extra></extra>",
         "legendgroup": "Holiday",
         "marker": {
          "color": "#FCCA46",
          "pattern": {
           "shape": ""
          }
         },
         "name": "Holiday",
         "offsetgroup": "Holiday",
         "orientation": "v",
         "showlegend": false,
         "text": [
          17.83,
          9.91,
          21.08,
          19.69,
          17.23,
          20.5,
          24.14,
          19.33,
          21.84,
          20.02,
          21.47,
          16.34
         ],
         "textposition": "auto",
         "x": [
          "April",
          "August",
          "December",
          "February",
          "January",
          "July",
          "June",
          "March",
          "May",
          "November",
          "October",
          "September"
         ],
         "xaxis": "x3",
         "y": [
          17.83,
          9.91,
          21.08,
          19.69,
          17.23,
          20.5,
          24.14,
          19.33,
          21.84,
          20.02,
          21.47,
          16.34
         ],
         "yaxis": "y3",
         "type": "bar"
        },
        {
         "alignmentgroup": "True",
         "hovertemplate": "topics_cleaned=News<br>year=2020<br>month=%{x}<br>% with retweets=%{text}<extra></extra>",
         "legendgroup": "News",
         "marker": {
          "color": "#ED7B84",
          "pattern": {
           "shape": ""
          }
         },
         "name": "News",
         "offsetgroup": "News",
         "orientation": "v",
         "showlegend": true,
         "text": [
          19.36,
          17.7,
          16.4,
          26.97,
          13.04,
          19.81,
          20.87,
          22.14,
          19.58,
          14.83,
          19.21,
          20.0
         ],
         "textposition": "auto",
         "x": [
          "April",
          "August",
          "December",
          "February",
          "January",
          "July",
          "June",
          "March",
          "May",
          "November",
          "October",
          "September"
         ],
         "xaxis": "x2",
         "y": [
          19.36,
          17.7,
          16.4,
          26.97,
          13.04,
          19.81,
          20.87,
          22.14,
          19.58,
          14.83,
          19.21,
          20.0
         ],
         "yaxis": "y2",
         "type": "bar"
        },
        {
         "alignmentgroup": "True",
         "hovertemplate": "topics_cleaned=News<br>year=2021<br>month=%{x}<br>% with retweets=%{text}<extra></extra>",
         "legendgroup": "News",
         "marker": {
          "color": "#ED7B84",
          "pattern": {
           "shape": ""
          }
         },
         "name": "News",
         "offsetgroup": "News",
         "orientation": "v",
         "showlegend": false,
         "text": [
          20.98,
          18.55,
          19.21,
          18.08,
          18.72,
          22.43,
          22.41,
          19.33,
          19.41,
          22.01,
          22.41,
          19.97
         ],
         "textposition": "auto",
         "x": [
          "April",
          "August",
          "December",
          "February",
          "January",
          "July",
          "June",
          "March",
          "May",
          "November",
          "October",
          "September"
         ],
         "xaxis": "x3",
         "y": [
          20.98,
          18.55,
          19.21,
          18.08,
          18.72,
          22.43,
          22.41,
          19.33,
          19.41,
          22.01,
          22.41,
          19.97
         ],
         "yaxis": "y3",
         "type": "bar"
        }
       ],
       "layout": {
        "template": {
         "data": {
          "histogram2dcontour": [
           {
            "type": "histogram2dcontour",
            "colorbar": {
             "outlinewidth": 0,
             "ticks": ""
            },
            "colorscale": [
             [
              0.0,
              "#0d0887"
             ],
             [
              0.1111111111111111,
              "#46039f"
             ],
             [
              0.2222222222222222,
              "#7201a8"
             ],
             [
              0.3333333333333333,
              "#9c179e"
             ],
             [
              0.4444444444444444,
              "#bd3786"
             ],
             [
              0.5555555555555556,
              "#d8576b"
             ],
             [
              0.6666666666666666,
              "#ed7953"
             ],
             [
              0.7777777777777778,
              "#fb9f3a"
             ],
             [
              0.8888888888888888,
              "#fdca26"
             ],
             [
              1.0,
              "#f0f921"
             ]
            ]
           }
          ],
          "choropleth": [
           {
            "type": "choropleth",
            "colorbar": {
             "outlinewidth": 0,
             "ticks": ""
            }
           }
          ],
          "histogram2d": [
           {
            "type": "histogram2d",
            "colorbar": {
             "outlinewidth": 0,
             "ticks": ""
            },
            "colorscale": [
             [
              0.0,
              "#0d0887"
             ],
             [
              0.1111111111111111,
              "#46039f"
             ],
             [
              0.2222222222222222,
              "#7201a8"
             ],
             [
              0.3333333333333333,
              "#9c179e"
             ],
             [
              0.4444444444444444,
              "#bd3786"
             ],
             [
              0.5555555555555556,
              "#d8576b"
             ],
             [
              0.6666666666666666,
              "#ed7953"
             ],
             [
              0.7777777777777778,
              "#fb9f3a"
             ],
             [
              0.8888888888888888,
              "#fdca26"
             ],
             [
              1.0,
              "#f0f921"
             ]
            ]
           }
          ],
          "heatmap": [
           {
            "type": "heatmap",
            "colorbar": {
             "outlinewidth": 0,
             "ticks": ""
            },
            "colorscale": [
             [
              0.0,
              "#0d0887"
             ],
             [
              0.1111111111111111,
              "#46039f"
             ],
             [
              0.2222222222222222,
              "#7201a8"
             ],
             [
              0.3333333333333333,
              "#9c179e"
             ],
             [
              0.4444444444444444,
              "#bd3786"
             ],
             [
              0.5555555555555556,
              "#d8576b"
             ],
             [
              0.6666666666666666,
              "#ed7953"
             ],
             [
              0.7777777777777778,
              "#fb9f3a"
             ],
             [
              0.8888888888888888,
              "#fdca26"
             ],
             [
              1.0,
              "#f0f921"
             ]
            ]
           }
          ],
          "heatmapgl": [
           {
            "type": "heatmapgl",
            "colorbar": {
             "outlinewidth": 0,
             "ticks": ""
            },
            "colorscale": [
             [
              0.0,
              "#0d0887"
             ],
             [
              0.1111111111111111,
              "#46039f"
             ],
             [
              0.2222222222222222,
              "#7201a8"
             ],
             [
              0.3333333333333333,
              "#9c179e"
             ],
             [
              0.4444444444444444,
              "#bd3786"
             ],
             [
              0.5555555555555556,
              "#d8576b"
             ],
             [
              0.6666666666666666,
              "#ed7953"
             ],
             [
              0.7777777777777778,
              "#fb9f3a"
             ],
             [
              0.8888888888888888,
              "#fdca26"
             ],
             [
              1.0,
              "#f0f921"
             ]
            ]
           }
          ],
          "contourcarpet": [
           {
            "type": "contourcarpet",
            "colorbar": {
             "outlinewidth": 0,
             "ticks": ""
            }
           }
          ],
          "contour": [
           {
            "type": "contour",
            "colorbar": {
             "outlinewidth": 0,
             "ticks": ""
            },
            "colorscale": [
             [
              0.0,
              "#0d0887"
             ],
             [
              0.1111111111111111,
              "#46039f"
             ],
             [
              0.2222222222222222,
              "#7201a8"
             ],
             [
              0.3333333333333333,
              "#9c179e"
             ],
             [
              0.4444444444444444,
              "#bd3786"
             ],
             [
              0.5555555555555556,
              "#d8576b"
             ],
             [
              0.6666666666666666,
              "#ed7953"
             ],
             [
              0.7777777777777778,
              "#fb9f3a"
             ],
             [
              0.8888888888888888,
              "#fdca26"
             ],
             [
              1.0,
              "#f0f921"
             ]
            ]
           }
          ],
          "surface": [
           {
            "type": "surface",
            "colorbar": {
             "outlinewidth": 0,
             "ticks": ""
            },
            "colorscale": [
             [
              0.0,
              "#0d0887"
             ],
             [
              0.1111111111111111,
              "#46039f"
             ],
             [
              0.2222222222222222,
              "#7201a8"
             ],
             [
              0.3333333333333333,
              "#9c179e"
             ],
             [
              0.4444444444444444,
              "#bd3786"
             ],
             [
              0.5555555555555556,
              "#d8576b"
             ],
             [
              0.6666666666666666,
              "#ed7953"
             ],
             [
              0.7777777777777778,
              "#fb9f3a"
             ],
             [
              0.8888888888888888,
              "#fdca26"
             ],
             [
              1.0,
              "#f0f921"
             ]
            ]
           }
          ],
          "mesh3d": [
           {
            "type": "mesh3d",
            "colorbar": {
             "outlinewidth": 0,
             "ticks": ""
            }
           }
          ],
          "scatter": [
           {
            "fillpattern": {
             "fillmode": "overlay",
             "size": 10,
             "solidity": 0.2
            },
            "type": "scatter"
           }
          ],
          "parcoords": [
           {
            "type": "parcoords",
            "line": {
             "colorbar": {
              "outlinewidth": 0,
              "ticks": ""
             }
            }
           }
          ],
          "scatterpolargl": [
           {
            "type": "scatterpolargl",
            "marker": {
             "colorbar": {
              "outlinewidth": 0,
              "ticks": ""
             }
            }
           }
          ],
          "bar": [
           {
            "error_x": {
             "color": "#2a3f5f"
            },
            "error_y": {
             "color": "#2a3f5f"
            },
            "marker": {
             "line": {
              "color": "#E5ECF6",
              "width": 0.5
             },
             "pattern": {
              "fillmode": "overlay",
              "size": 10,
              "solidity": 0.2
             }
            },
            "type": "bar"
           }
          ],
          "scattergeo": [
           {
            "type": "scattergeo",
            "marker": {
             "colorbar": {
              "outlinewidth": 0,
              "ticks": ""
             }
            }
           }
          ],
          "scatterpolar": [
           {
            "type": "scatterpolar",
            "marker": {
             "colorbar": {
              "outlinewidth": 0,
              "ticks": ""
             }
            }
           }
          ],
          "histogram": [
           {
            "marker": {
             "pattern": {
              "fillmode": "overlay",
              "size": 10,
              "solidity": 0.2
             }
            },
            "type": "histogram"
           }
          ],
          "scattergl": [
           {
            "type": "scattergl",
            "marker": {
             "colorbar": {
              "outlinewidth": 0,
              "ticks": ""
             }
            }
           }
          ],
          "scatter3d": [
           {
            "type": "scatter3d",
            "line": {
             "colorbar": {
              "outlinewidth": 0,
              "ticks": ""
             }
            },
            "marker": {
             "colorbar": {
              "outlinewidth": 0,
              "ticks": ""
             }
            }
           }
          ],
          "scattermapbox": [
           {
            "type": "scattermapbox",
            "marker": {
             "colorbar": {
              "outlinewidth": 0,
              "ticks": ""
             }
            }
           }
          ],
          "scatterternary": [
           {
            "type": "scatterternary",
            "marker": {
             "colorbar": {
              "outlinewidth": 0,
              "ticks": ""
             }
            }
           }
          ],
          "scattercarpet": [
           {
            "type": "scattercarpet",
            "marker": {
             "colorbar": {
              "outlinewidth": 0,
              "ticks": ""
             }
            }
           }
          ],
          "carpet": [
           {
            "aaxis": {
             "endlinecolor": "#2a3f5f",
             "gridcolor": "white",
             "linecolor": "white",
             "minorgridcolor": "white",
             "startlinecolor": "#2a3f5f"
            },
            "baxis": {
             "endlinecolor": "#2a3f5f",
             "gridcolor": "white",
             "linecolor": "white",
             "minorgridcolor": "white",
             "startlinecolor": "#2a3f5f"
            },
            "type": "carpet"
           }
          ],
          "table": [
           {
            "cells": {
             "fill": {
              "color": "#EBF0F8"
             },
             "line": {
              "color": "white"
             }
            },
            "header": {
             "fill": {
              "color": "#C8D4E3"
             },
             "line": {
              "color": "white"
             }
            },
            "type": "table"
           }
          ],
          "barpolar": [
           {
            "marker": {
             "line": {
              "color": "#E5ECF6",
              "width": 0.5
             },
             "pattern": {
              "fillmode": "overlay",
              "size": 10,
              "solidity": 0.2
             }
            },
            "type": "barpolar"
           }
          ],
          "pie": [
           {
            "automargin": true,
            "type": "pie"
           }
          ]
         },
         "layout": {
          "autotypenumbers": "strict",
          "colorway": [
           "#636efa",
           "#EF553B",
           "#00cc96",
           "#ab63fa",
           "#FFA15A",
           "#19d3f3",
           "#FF6692",
           "#B6E880",
           "#FF97FF",
           "#FECB52"
          ],
          "font": {
           "color": "#2a3f5f"
          },
          "hovermode": "closest",
          "hoverlabel": {
           "align": "left"
          },
          "paper_bgcolor": "white",
          "plot_bgcolor": "#E5ECF6",
          "polar": {
           "bgcolor": "#E5ECF6",
           "angularaxis": {
            "gridcolor": "white",
            "linecolor": "white",
            "ticks": ""
           },
           "radialaxis": {
            "gridcolor": "white",
            "linecolor": "white",
            "ticks": ""
           }
          },
          "ternary": {
           "bgcolor": "#E5ECF6",
           "aaxis": {
            "gridcolor": "white",
            "linecolor": "white",
            "ticks": ""
           },
           "baxis": {
            "gridcolor": "white",
            "linecolor": "white",
            "ticks": ""
           },
           "caxis": {
            "gridcolor": "white",
            "linecolor": "white",
            "ticks": ""
           }
          },
          "coloraxis": {
           "colorbar": {
            "outlinewidth": 0,
            "ticks": ""
           }
          },
          "colorscale": {
           "sequential": [
            [
             0.0,
             "#0d0887"
            ],
            [
             0.1111111111111111,
             "#46039f"
            ],
            [
             0.2222222222222222,
             "#7201a8"
            ],
            [
             0.3333333333333333,
             "#9c179e"
            ],
            [
             0.4444444444444444,
             "#bd3786"
            ],
            [
             0.5555555555555556,
             "#d8576b"
            ],
            [
             0.6666666666666666,
             "#ed7953"
            ],
            [
             0.7777777777777778,
             "#fb9f3a"
            ],
            [
             0.8888888888888888,
             "#fdca26"
            ],
            [
             1.0,
             "#f0f921"
            ]
           ],
           "sequentialminus": [
            [
             0.0,
             "#0d0887"
            ],
            [
             0.1111111111111111,
             "#46039f"
            ],
            [
             0.2222222222222222,
             "#7201a8"
            ],
            [
             0.3333333333333333,
             "#9c179e"
            ],
            [
             0.4444444444444444,
             "#bd3786"
            ],
            [
             0.5555555555555556,
             "#d8576b"
            ],
            [
             0.6666666666666666,
             "#ed7953"
            ],
            [
             0.7777777777777778,
             "#fb9f3a"
            ],
            [
             0.8888888888888888,
             "#fdca26"
            ],
            [
             1.0,
             "#f0f921"
            ]
           ],
           "diverging": [
            [
             0,
             "#8e0152"
            ],
            [
             0.1,
             "#c51b7d"
            ],
            [
             0.2,
             "#de77ae"
            ],
            [
             0.3,
             "#f1b6da"
            ],
            [
             0.4,
             "#fde0ef"
            ],
            [
             0.5,
             "#f7f7f7"
            ],
            [
             0.6,
             "#e6f5d0"
            ],
            [
             0.7,
             "#b8e186"
            ],
            [
             0.8,
             "#7fbc41"
            ],
            [
             0.9,
             "#4d9221"
            ],
            [
             1,
             "#276419"
            ]
           ]
          },
          "xaxis": {
           "gridcolor": "white",
           "linecolor": "white",
           "ticks": "",
           "title": {
            "standoff": 15
           },
           "zerolinecolor": "white",
           "automargin": true,
           "zerolinewidth": 2
          },
          "yaxis": {
           "gridcolor": "white",
           "linecolor": "white",
           "ticks": "",
           "title": {
            "standoff": 15
           },
           "zerolinecolor": "white",
           "automargin": true,
           "zerolinewidth": 2
          },
          "scene": {
           "xaxis": {
            "backgroundcolor": "#E5ECF6",
            "gridcolor": "white",
            "linecolor": "white",
            "showbackground": true,
            "ticks": "",
            "zerolinecolor": "white",
            "gridwidth": 2
           },
           "yaxis": {
            "backgroundcolor": "#E5ECF6",
            "gridcolor": "white",
            "linecolor": "white",
            "showbackground": true,
            "ticks": "",
            "zerolinecolor": "white",
            "gridwidth": 2
           },
           "zaxis": {
            "backgroundcolor": "#E5ECF6",
            "gridcolor": "white",
            "linecolor": "white",
            "showbackground": true,
            "ticks": "",
            "zerolinecolor": "white",
            "gridwidth": 2
           }
          },
          "shapedefaults": {
           "line": {
            "color": "#2a3f5f"
           }
          },
          "annotationdefaults": {
           "arrowcolor": "#2a3f5f",
           "arrowhead": 0,
           "arrowwidth": 1
          },
          "geo": {
           "bgcolor": "white",
           "landcolor": "#E5ECF6",
           "subunitcolor": "white",
           "showland": true,
           "showlakes": true,
           "lakecolor": "white"
          },
          "title": {
           "x": 0.05
          },
          "mapbox": {
           "style": "light"
          }
         }
        },
        "xaxis": {
         "anchor": "y",
         "domain": [
          0.0,
          0.31999999999999995
         ],
         "title": {
          "text": "Months"
         },
         "categoryorder": "array",
         "categoryarray": [
          "January",
          "February",
          "March",
          "April",
          "May",
          "June",
          "July",
          "August",
          "September",
          "October",
          "November",
          "December"
         ]
        },
        "yaxis": {
         "anchor": "x",
         "domain": [
          0.0,
          1.0
         ],
         "title": {
          "text": "% with retweets"
         }
        },
        "xaxis2": {
         "anchor": "y2",
         "domain": [
          0.33999999999999997,
          0.6599999999999999
         ],
         "matches": "x",
         "title": {
          "text": "Months"
         },
         "categoryorder": "array",
         "categoryarray": [
          "January",
          "February",
          "March",
          "April",
          "May",
          "June",
          "July",
          "August",
          "September",
          "October",
          "November",
          "December"
         ]
        },
        "yaxis2": {
         "anchor": "x2",
         "domain": [
          0.0,
          1.0
         ],
         "matches": "y",
         "showticklabels": false,
         "title": {
          "text": "% with retweets"
         }
        },
        "xaxis3": {
         "anchor": "y3",
         "domain": [
          0.6799999999999999,
          0.9999999999999999
         ],
         "matches": "x",
         "title": {
          "text": "Months"
         },
         "categoryorder": "array",
         "categoryarray": [
          "January",
          "February",
          "March",
          "April",
          "May",
          "June",
          "July",
          "August",
          "September",
          "October",
          "November",
          "December"
         ]
        },
        "yaxis3": {
         "anchor": "x3",
         "domain": [
          0.0,
          1.0
         ],
         "matches": "y",
         "showticklabels": false,
         "title": {
          "text": "% with retweets"
         }
        },
        "annotations": [
         {
          "font": {},
          "showarrow": false,
          "text": "year=2019",
          "x": 0.15999999999999998,
          "xanchor": "center",
          "xref": "paper",
          "y": 1.0,
          "yanchor": "bottom",
          "yref": "paper"
         },
         {
          "font": {},
          "showarrow": false,
          "text": "year=2020",
          "x": 0.49999999999999994,
          "xanchor": "center",
          "xref": "paper",
          "y": 1.0,
          "yanchor": "bottom",
          "yref": "paper"
         },
         {
          "font": {},
          "showarrow": false,
          "text": "year=2021",
          "x": 0.8399999999999999,
          "xanchor": "center",
          "xref": "paper",
          "y": 1.0,
          "yanchor": "bottom",
          "yref": "paper"
         }
        ],
        "legend": {
         "title": {
          "text": "topics_cleaned"
         },
         "tracegroupgap": 0
        },
        "margin": {
         "t": 60
        },
        "barmode": "stack",
        "title": {
         "text": "Percentage of retweets by topic during the year"
        },
        "width": 900,
        "height": 500
       },
       "config": {
        "plotlyServerURL": "https://plot.ly"
       }
      },
      "text/html": "<div>                            <div id=\"f76a3855-1a76-45c7-b387-a33d69a5a9f0\" class=\"plotly-graph-div\" style=\"height:500px; width:900px;\"></div>            <script type=\"text/javascript\">                require([\"plotly\"], function(Plotly) {                    window.PLOTLYENV=window.PLOTLYENV || {};                                    if (document.getElementById(\"f76a3855-1a76-45c7-b387-a33d69a5a9f0\")) {                    Plotly.newPlot(                        \"f76a3855-1a76-45c7-b387-a33d69a5a9f0\",                        [{\"alignmentgroup\":\"True\",\"hovertemplate\":\"topics_cleaned=Book<br>year=2019<br>month=%{x}<br>% with retweets=%{text}<extra></extra>\",\"legendgroup\":\"Book\",\"marker\":{\"color\":\"#006D77\",\"pattern\":{\"shape\":\"\"}},\"name\":\"Book\",\"offsetgroup\":\"Book\",\"orientation\":\"v\",\"showlegend\":true,\"text\":[37.5,11.11,29.41,29.41,15.43,15.29,16.6,16.38,15.25,17.42,17.97,15.36],\"textposition\":\"auto\",\"x\":[\"April\",\"August\",\"December\",\"February\",\"January\",\"July\",\"June\",\"March\",\"May\",\"November\",\"October\",\"September\"],\"xaxis\":\"x\",\"y\":[37.5,11.11,29.41,29.41,15.43,15.29,16.6,16.38,15.25,17.42,17.97,15.36],\"yaxis\":\"y\",\"type\":\"bar\"},{\"alignmentgroup\":\"True\",\"hovertemplate\":\"topics_cleaned=Book<br>year=2020<br>month=%{x}<br>% with retweets=%{text}<extra></extra>\",\"legendgroup\":\"Book\",\"marker\":{\"color\":\"#006D77\",\"pattern\":{\"shape\":\"\"}},\"name\":\"Book\",\"offsetgroup\":\"Book\",\"orientation\":\"v\",\"showlegend\":false,\"text\":[22.22,13.56,10.0,45.0,7.69,11.11,17.31,20.0,26.67,3.7,7.89,17.07],\"textposition\":\"auto\",\"x\":[\"April\",\"August\",\"December\",\"February\",\"January\",\"July\",\"June\",\"March\",\"May\",\"November\",\"October\",\"September\"],\"xaxis\":\"x2\",\"y\":[22.22,13.56,10.0,45.0,7.69,11.11,17.31,20.0,26.67,3.7,7.89,17.07],\"yaxis\":\"y2\",\"type\":\"bar\"},{\"alignmentgroup\":\"True\",\"hovertemplate\":\"topics_cleaned=Book<br>year=2021<br>month=%{x}<br>% with retweets=%{text}<extra></extra>\",\"legendgroup\":\"Book\",\"marker\":{\"color\":\"#006D77\",\"pattern\":{\"shape\":\"\"}},\"name\":\"Book\",\"offsetgroup\":\"Book\",\"orientation\":\"v\",\"showlegend\":false,\"text\":[19.23,31.03,20.0,20.59,17.07,8.0,26.32,10.34,4.17,20.0,10.71,22.22],\"textposition\":\"auto\",\"x\":[\"April\",\"August\",\"December\",\"February\",\"January\",\"July\",\"June\",\"March\",\"May\",\"November\",\"October\",\"September\"],\"xaxis\":\"x3\",\"y\":[19.23,31.03,20.0,20.59,17.07,8.0,26.32,10.34,4.17,20.0,10.71,22.22],\"yaxis\":\"y3\",\"type\":\"bar\"},{\"alignmentgroup\":\"True\",\"hovertemplate\":\"topics_cleaned=Brand<br>year=2019<br>month=%{x}<br>% with retweets=%{text}<extra></extra>\",\"legendgroup\":\"Brand\",\"marker\":{\"color\":\"#FBD1A2\",\"pattern\":{\"shape\":\"\"}},\"name\":\"Brand\",\"offsetgroup\":\"Brand\",\"orientation\":\"v\",\"showlegend\":true,\"text\":[15.59,16.6,15.86,16.87,14.35,14.32,16.35,14.58,15.91,15.08,15.89,15.08],\"textposition\":\"auto\",\"x\":[\"April\",\"August\",\"December\",\"February\",\"January\",\"July\",\"June\",\"March\",\"May\",\"November\",\"October\",\"September\"],\"xaxis\":\"x\",\"y\":[15.59,16.6,15.86,16.87,14.35,14.32,16.35,14.58,15.91,15.08,15.89,15.08],\"yaxis\":\"y\",\"type\":\"bar\"},{\"alignmentgroup\":\"True\",\"hovertemplate\":\"topics_cleaned=Brand<br>year=2020<br>month=%{x}<br>% with retweets=%{text}<extra></extra>\",\"legendgroup\":\"Brand\",\"marker\":{\"color\":\"#FBD1A2\",\"pattern\":{\"shape\":\"\"}},\"name\":\"Brand\",\"offsetgroup\":\"Brand\",\"orientation\":\"v\",\"showlegend\":false,\"text\":[16.9,16.21,12.26,15.85,16.43,14.96,15.32,16.79,17.05,13.88,14.92,13.93],\"textposition\":\"auto\",\"x\":[\"April\",\"August\",\"December\",\"February\",\"January\",\"July\",\"June\",\"March\",\"May\",\"November\",\"October\",\"September\"],\"xaxis\":\"x2\",\"y\":[16.9,16.21,12.26,15.85,16.43,14.96,15.32,16.79,17.05,13.88,14.92,13.93],\"yaxis\":\"y2\",\"type\":\"bar\"},{\"alignmentgroup\":\"True\",\"hovertemplate\":\"topics_cleaned=Brand<br>year=2021<br>month=%{x}<br>% with retweets=%{text}<extra></extra>\",\"legendgroup\":\"Brand\",\"marker\":{\"color\":\"#FBD1A2\",\"pattern\":{\"shape\":\"\"}},\"name\":\"Brand\",\"offsetgroup\":\"Brand\",\"orientation\":\"v\",\"showlegend\":false,\"text\":[15.62,15.38,16.93,15.11,14.9,14.89,15.38,16.41,16.59,16.63,17.42,17.24],\"textposition\":\"auto\",\"x\":[\"April\",\"August\",\"December\",\"February\",\"January\",\"July\",\"June\",\"March\",\"May\",\"November\",\"October\",\"September\"],\"xaxis\":\"x3\",\"y\":[15.62,15.38,16.93,15.11,14.9,14.89,15.38,16.41,16.59,16.63,17.42,17.24],\"yaxis\":\"y3\",\"type\":\"bar\"},{\"alignmentgroup\":\"True\",\"hovertemplate\":\"topics_cleaned=Entities<br>year=2019<br>month=%{x}<br>% with retweets=%{text}<extra></extra>\",\"legendgroup\":\"Entities\",\"marker\":{\"color\":\"#7DCFB6\",\"pattern\":{\"shape\":\"\"}},\"name\":\"Entities\",\"offsetgroup\":\"Entities\",\"orientation\":\"v\",\"showlegend\":true,\"text\":[15.64,14.64,13.52,16.28,13.61,14.32,14.91,12.47,15.12,16.52,15.16,16.7],\"textposition\":\"auto\",\"x\":[\"April\",\"August\",\"December\",\"February\",\"January\",\"July\",\"June\",\"March\",\"May\",\"November\",\"October\",\"September\"],\"xaxis\":\"x\",\"y\":[15.64,14.64,13.52,16.28,13.61,14.32,14.91,12.47,15.12,16.52,15.16,16.7],\"yaxis\":\"y\",\"type\":\"bar\"},{\"alignmentgroup\":\"True\",\"hovertemplate\":\"topics_cleaned=Entities<br>year=2020<br>month=%{x}<br>% with retweets=%{text}<extra></extra>\",\"legendgroup\":\"Entities\",\"marker\":{\"color\":\"#7DCFB6\",\"pattern\":{\"shape\":\"\"}},\"name\":\"Entities\",\"offsetgroup\":\"Entities\",\"orientation\":\"v\",\"showlegend\":false,\"text\":[15.23,14.72,12.66,17.13,13.48,13.9,15.3,13.91,14.45,11.68,15.32,13.49],\"textposition\":\"auto\",\"x\":[\"April\",\"August\",\"December\",\"February\",\"January\",\"July\",\"June\",\"March\",\"May\",\"November\",\"October\",\"September\"],\"xaxis\":\"x2\",\"y\":[15.23,14.72,12.66,17.13,13.48,13.9,15.3,13.91,14.45,11.68,15.32,13.49],\"yaxis\":\"y2\",\"type\":\"bar\"},{\"alignmentgroup\":\"True\",\"hovertemplate\":\"topics_cleaned=Entities<br>year=2021<br>month=%{x}<br>% with retweets=%{text}<extra></extra>\",\"legendgroup\":\"Entities\",\"marker\":{\"color\":\"#7DCFB6\",\"pattern\":{\"shape\":\"\"}},\"name\":\"Entities\",\"offsetgroup\":\"Entities\",\"orientation\":\"v\",\"showlegend\":false,\"text\":[14.76,17.75,19.4,15.15,13.87,14.18,15.23,14.47,14.34,19.43,17.26,20.21],\"textposition\":\"auto\",\"x\":[\"April\",\"August\",\"December\",\"February\",\"January\",\"July\",\"June\",\"March\",\"May\",\"November\",\"October\",\"September\"],\"xaxis\":\"x3\",\"y\":[14.76,17.75,19.4,15.15,13.87,14.18,15.23,14.47,14.34,19.43,17.26,20.21],\"yaxis\":\"y3\",\"type\":\"bar\"},{\"alignmentgroup\":\"True\",\"hovertemplate\":\"topics_cleaned=Interest and Hobbies<br>year=2019<br>month=%{x}<br>% with retweets=%{text}<extra></extra>\",\"legendgroup\":\"Interest and Hobbies\",\"marker\":{\"color\":\"#00B2CA\",\"pattern\":{\"shape\":\"\"}},\"name\":\"Interest and Hobbies\",\"offsetgroup\":\"Interest and Hobbies\",\"orientation\":\"v\",\"showlegend\":true,\"text\":[16.31,14.47,15.67,16.67,20.13,19.59,20.09,16.33,20.69,16.89,19.02,17.37],\"textposition\":\"auto\",\"x\":[\"April\",\"August\",\"December\",\"February\",\"January\",\"July\",\"June\",\"March\",\"May\",\"November\",\"October\",\"September\"],\"xaxis\":\"x\",\"y\":[16.31,14.47,15.67,16.67,20.13,19.59,20.09,16.33,20.69,16.89,19.02,17.37],\"yaxis\":\"y\",\"type\":\"bar\"},{\"alignmentgroup\":\"True\",\"hovertemplate\":\"topics_cleaned=Interest and Hobbies<br>year=2020<br>month=%{x}<br>% with retweets=%{text}<extra></extra>\",\"legendgroup\":\"Interest and Hobbies\",\"marker\":{\"color\":\"#00B2CA\",\"pattern\":{\"shape\":\"\"}},\"name\":\"Interest and Hobbies\",\"offsetgroup\":\"Interest and Hobbies\",\"orientation\":\"v\",\"showlegend\":false,\"text\":[15.37,16.01,13.3,16.66,16.22,14.84,16.48,16.72,16.39,14.75,16.2,16.26],\"textposition\":\"auto\",\"x\":[\"April\",\"August\",\"December\",\"February\",\"January\",\"July\",\"June\",\"March\",\"May\",\"November\",\"October\",\"September\"],\"xaxis\":\"x2\",\"y\":[15.37,16.01,13.3,16.66,16.22,14.84,16.48,16.72,16.39,14.75,16.2,16.26],\"yaxis\":\"y2\",\"type\":\"bar\"},{\"alignmentgroup\":\"True\",\"hovertemplate\":\"topics_cleaned=Interest and Hobbies<br>year=2021<br>month=%{x}<br>% with retweets=%{text}<extra></extra>\",\"legendgroup\":\"Interest and Hobbies\",\"marker\":{\"color\":\"#00B2CA\",\"pattern\":{\"shape\":\"\"}},\"name\":\"Interest and Hobbies\",\"offsetgroup\":\"Interest and Hobbies\",\"orientation\":\"v\",\"showlegend\":false,\"text\":[14.67,14.82,17.29,16.84,13.14,16.57,15.9,15.9,15.24,17.51,17.22,17.1],\"textposition\":\"auto\",\"x\":[\"April\",\"August\",\"December\",\"February\",\"January\",\"July\",\"June\",\"March\",\"May\",\"November\",\"October\",\"September\"],\"xaxis\":\"x3\",\"y\":[14.67,14.82,17.29,16.84,13.14,16.57,15.9,15.9,15.24,17.51,17.22,17.1],\"yaxis\":\"y3\",\"type\":\"bar\"},{\"alignmentgroup\":\"True\",\"hovertemplate\":\"topics_cleaned=Music<br>year=2019<br>month=%{x}<br>% with retweets=%{text}<extra></extra>\",\"legendgroup\":\"Music\",\"marker\":{\"color\":\"#1D4E89\",\"pattern\":{\"shape\":\"\"}},\"name\":\"Music\",\"offsetgroup\":\"Music\",\"orientation\":\"v\",\"showlegend\":true,\"text\":[24.14,18.44,23.28,16.14,14.76,16.92,15.24,15.33,15.32,17.99,17.5,19.21],\"textposition\":\"auto\",\"x\":[\"April\",\"August\",\"December\",\"February\",\"January\",\"July\",\"June\",\"March\",\"May\",\"November\",\"October\",\"September\"],\"xaxis\":\"x\",\"y\":[24.14,18.44,23.28,16.14,14.76,16.92,15.24,15.33,15.32,17.99,17.5,19.21],\"yaxis\":\"y\",\"type\":\"bar\"},{\"alignmentgroup\":\"True\",\"hovertemplate\":\"topics_cleaned=Music<br>year=2020<br>month=%{x}<br>% with retweets=%{text}<extra></extra>\",\"legendgroup\":\"Music\",\"marker\":{\"color\":\"#1D4E89\",\"pattern\":{\"shape\":\"\"}},\"name\":\"Music\",\"offsetgroup\":\"Music\",\"orientation\":\"v\",\"showlegend\":false,\"text\":[17.82,15.53,14.29,24.89,19.49,19.46,12.35,20.34,19.52,17.48,17.97,16.8],\"textposition\":\"auto\",\"x\":[\"April\",\"August\",\"December\",\"February\",\"January\",\"July\",\"June\",\"March\",\"May\",\"November\",\"October\",\"September\"],\"xaxis\":\"x2\",\"y\":[17.82,15.53,14.29,24.89,19.49,19.46,12.35,20.34,19.52,17.48,17.97,16.8],\"yaxis\":\"y2\",\"type\":\"bar\"},{\"alignmentgroup\":\"True\",\"hovertemplate\":\"topics_cleaned=Music<br>year=2021<br>month=%{x}<br>% with retweets=%{text}<extra></extra>\",\"legendgroup\":\"Music\",\"marker\":{\"color\":\"#1D4E89\",\"pattern\":{\"shape\":\"\"}},\"name\":\"Music\",\"offsetgroup\":\"Music\",\"orientation\":\"v\",\"showlegend\":false,\"text\":[15.56,17.09,22.58,17.42,21.19,20.5,19.05,23.78,19.44,20.44,22.38,15.03],\"textposition\":\"auto\",\"x\":[\"April\",\"August\",\"December\",\"February\",\"January\",\"July\",\"June\",\"March\",\"May\",\"November\",\"October\",\"September\"],\"xaxis\":\"x3\",\"y\":[15.56,17.09,22.58,17.42,21.19,20.5,19.05,23.78,19.44,20.44,22.38,15.03],\"yaxis\":\"y3\",\"type\":\"bar\"},{\"alignmentgroup\":\"True\",\"hovertemplate\":\"topics_cleaned=Other<br>year=2019<br>month=%{x}<br>% with retweets=%{text}<extra></extra>\",\"legendgroup\":\"Other\",\"marker\":{\"color\":\"#F79256\",\"pattern\":{\"shape\":\"\"}},\"name\":\"Other\",\"offsetgroup\":\"Other\",\"orientation\":\"v\",\"showlegend\":true,\"text\":[15.97,18.92,17.41,13.77,14.08,15.44,15.18,14.52,16.4,16.61,15.97,16.08],\"textposition\":\"auto\",\"x\":[\"April\",\"August\",\"December\",\"February\",\"January\",\"July\",\"June\",\"March\",\"May\",\"November\",\"October\",\"September\"],\"xaxis\":\"x\",\"y\":[15.97,18.92,17.41,13.77,14.08,15.44,15.18,14.52,16.4,16.61,15.97,16.08],\"yaxis\":\"y\",\"type\":\"bar\"},{\"alignmentgroup\":\"True\",\"hovertemplate\":\"topics_cleaned=Other<br>year=2020<br>month=%{x}<br>% with retweets=%{text}<extra></extra>\",\"legendgroup\":\"Other\",\"marker\":{\"color\":\"#F79256\",\"pattern\":{\"shape\":\"\"}},\"name\":\"Other\",\"offsetgroup\":\"Other\",\"orientation\":\"v\",\"showlegend\":false,\"text\":[20.33,11.76,17.28,17.91,13.33,10.53,22.22,25.55,14.74,14.05,8.47,15.33],\"textposition\":\"auto\",\"x\":[\"April\",\"August\",\"December\",\"February\",\"January\",\"July\",\"June\",\"March\",\"May\",\"November\",\"October\",\"September\"],\"xaxis\":\"x2\",\"y\":[20.33,11.76,17.28,17.91,13.33,10.53,22.22,25.55,14.74,14.05,8.47,15.33],\"yaxis\":\"y2\",\"type\":\"bar\"},{\"alignmentgroup\":\"True\",\"hovertemplate\":\"topics_cleaned=Other<br>year=2021<br>month=%{x}<br>% with retweets=%{text}<extra></extra>\",\"legendgroup\":\"Other\",\"marker\":{\"color\":\"#F79256\",\"pattern\":{\"shape\":\"\"}},\"name\":\"Other\",\"offsetgroup\":\"Other\",\"orientation\":\"v\",\"showlegend\":false,\"text\":[12.21,17.07,13.81,10.6,16.67,15.92,12.82,7.43,9.57,18.81,15.82,15.57],\"textposition\":\"auto\",\"x\":[\"April\",\"August\",\"December\",\"February\",\"January\",\"July\",\"June\",\"March\",\"May\",\"November\",\"October\",\"September\"],\"xaxis\":\"x3\",\"y\":[12.21,17.07,13.81,10.6,16.67,15.92,12.82,7.43,9.57,18.81,15.82,15.57],\"yaxis\":\"y3\",\"type\":\"bar\"},{\"alignmentgroup\":\"True\",\"hovertemplate\":\"topics_cleaned=Person<br>year=2019<br>month=%{x}<br>% with retweets=%{text}<extra></extra>\",\"legendgroup\":\"Person\",\"marker\":{\"color\":\"#aed9e0\",\"pattern\":{\"shape\":\"\"}},\"name\":\"Person\",\"offsetgroup\":\"Person\",\"orientation\":\"v\",\"showlegend\":true,\"text\":[15.95,15.4,16.05,19.42,12.83,16.15,11.2,14.81,12.1,17.71,15.53,16.09],\"textposition\":\"auto\",\"x\":[\"April\",\"August\",\"December\",\"February\",\"January\",\"July\",\"June\",\"March\",\"May\",\"November\",\"October\",\"September\"],\"xaxis\":\"x\",\"y\":[15.95,15.4,16.05,19.42,12.83,16.15,11.2,14.81,12.1,17.71,15.53,16.09],\"yaxis\":\"y\",\"type\":\"bar\"},{\"alignmentgroup\":\"True\",\"hovertemplate\":\"topics_cleaned=Person<br>year=2020<br>month=%{x}<br>% with retweets=%{text}<extra></extra>\",\"legendgroup\":\"Person\",\"marker\":{\"color\":\"#aed9e0\",\"pattern\":{\"shape\":\"\"}},\"name\":\"Person\",\"offsetgroup\":\"Person\",\"orientation\":\"v\",\"showlegend\":false,\"text\":[14.53,14.95,11.15,16.08,17.45,15.48,17.18,16.18,15.69,13.52,14.19,15.26],\"textposition\":\"auto\",\"x\":[\"April\",\"August\",\"December\",\"February\",\"January\",\"July\",\"June\",\"March\",\"May\",\"November\",\"October\",\"September\"],\"xaxis\":\"x2\",\"y\":[14.53,14.95,11.15,16.08,17.45,15.48,17.18,16.18,15.69,13.52,14.19,15.26],\"yaxis\":\"y2\",\"type\":\"bar\"},{\"alignmentgroup\":\"True\",\"hovertemplate\":\"topics_cleaned=Person<br>year=2021<br>month=%{x}<br>% with retweets=%{text}<extra></extra>\",\"legendgroup\":\"Person\",\"marker\":{\"color\":\"#aed9e0\",\"pattern\":{\"shape\":\"\"}},\"name\":\"Person\",\"offsetgroup\":\"Person\",\"orientation\":\"v\",\"showlegend\":false,\"text\":[14.81,17.48,17.64,15.79,14.17,16.83,16.94,15.04,16.68,16.84,17.18,17.16],\"textposition\":\"auto\",\"x\":[\"April\",\"August\",\"December\",\"February\",\"January\",\"July\",\"June\",\"March\",\"May\",\"November\",\"October\",\"September\"],\"xaxis\":\"x3\",\"y\":[14.81,17.48,17.64,15.79,14.17,16.83,16.94,15.04,16.68,16.84,17.18,17.16],\"yaxis\":\"y3\",\"type\":\"bar\"},{\"alignmentgroup\":\"True\",\"hovertemplate\":\"topics_cleaned=Political<br>year=2019<br>month=%{x}<br>% with retweets=%{text}<extra></extra>\",\"legendgroup\":\"Political\",\"marker\":{\"color\":\"#b8f2e6\",\"pattern\":{\"shape\":\"\"}},\"name\":\"Political\",\"offsetgroup\":\"Political\",\"orientation\":\"v\",\"showlegend\":true,\"text\":[13.68,15.12,18.27,26.36,25.85,19.63,19.97,21.14,23.27,24.38,18.64,21.53],\"textposition\":\"auto\",\"x\":[\"April\",\"August\",\"December\",\"February\",\"January\",\"July\",\"June\",\"March\",\"May\",\"November\",\"October\",\"September\"],\"xaxis\":\"x\",\"y\":[13.68,15.12,18.27,26.36,25.85,19.63,19.97,21.14,23.27,24.38,18.64,21.53],\"yaxis\":\"y\",\"type\":\"bar\"},{\"alignmentgroup\":\"True\",\"hovertemplate\":\"topics_cleaned=Political<br>year=2020<br>month=%{x}<br>% with retweets=%{text}<extra></extra>\",\"legendgroup\":\"Political\",\"marker\":{\"color\":\"#b8f2e6\",\"pattern\":{\"shape\":\"\"}},\"name\":\"Political\",\"offsetgroup\":\"Political\",\"orientation\":\"v\",\"showlegend\":false,\"text\":[18.68,15.66,17.14,16.67,16.06,20.93,19.91,18.0,18.06,14.46,12.0,13.85],\"textposition\":\"auto\",\"x\":[\"April\",\"August\",\"December\",\"February\",\"January\",\"July\",\"June\",\"March\",\"May\",\"November\",\"October\",\"September\"],\"xaxis\":\"x2\",\"y\":[18.68,15.66,17.14,16.67,16.06,20.93,19.91,18.0,18.06,14.46,12.0,13.85],\"yaxis\":\"y2\",\"type\":\"bar\"},{\"alignmentgroup\":\"True\",\"hovertemplate\":\"topics_cleaned=Political<br>year=2021<br>month=%{x}<br>% with retweets=%{text}<extra></extra>\",\"legendgroup\":\"Political\",\"marker\":{\"color\":\"#b8f2e6\",\"pattern\":{\"shape\":\"\"}},\"name\":\"Political\",\"offsetgroup\":\"Political\",\"orientation\":\"v\",\"showlegend\":false,\"text\":[20.0,18.68,21.0,18.49,12.7,27.84,22.52,23.85,17.71,23.96,28.45,22.03],\"textposition\":\"auto\",\"x\":[\"April\",\"August\",\"December\",\"February\",\"January\",\"July\",\"June\",\"March\",\"May\",\"November\",\"October\",\"September\"],\"xaxis\":\"x3\",\"y\":[20.0,18.68,21.0,18.49,12.7,27.84,22.52,23.85,17.71,23.96,28.45,22.03],\"yaxis\":\"y3\",\"type\":\"bar\"},{\"alignmentgroup\":\"True\",\"hovertemplate\":\"topics_cleaned=Sport<br>year=2019<br>month=%{x}<br>% with retweets=%{text}<extra></extra>\",\"legendgroup\":\"Sport\",\"marker\":{\"color\":\"#faf3dd\",\"pattern\":{\"shape\":\"\"}},\"name\":\"Sport\",\"offsetgroup\":\"Sport\",\"orientation\":\"v\",\"showlegend\":true,\"text\":[23.08,21.72,23.95,14.75,14.8,15.98,14.38,15.28,14.88,15.81,15.56,15.59],\"textposition\":\"auto\",\"x\":[\"April\",\"August\",\"December\",\"February\",\"January\",\"July\",\"June\",\"March\",\"May\",\"November\",\"October\",\"September\"],\"xaxis\":\"x\",\"y\":[23.08,21.72,23.95,14.75,14.8,15.98,14.38,15.28,14.88,15.81,15.56,15.59],\"yaxis\":\"y\",\"type\":\"bar\"},{\"alignmentgroup\":\"True\",\"hovertemplate\":\"topics_cleaned=Sport<br>year=2020<br>month=%{x}<br>% with retweets=%{text}<extra></extra>\",\"legendgroup\":\"Sport\",\"marker\":{\"color\":\"#faf3dd\",\"pattern\":{\"shape\":\"\"}},\"name\":\"Sport\",\"offsetgroup\":\"Sport\",\"orientation\":\"v\",\"showlegend\":false,\"text\":[20.55,15.81,16.18,21.67,23.07,21.02,22.8,21.74,20.79,14.83,17.2,17.0],\"textposition\":\"auto\",\"x\":[\"April\",\"August\",\"December\",\"February\",\"January\",\"July\",\"June\",\"March\",\"May\",\"November\",\"October\",\"September\"],\"xaxis\":\"x2\",\"y\":[20.55,15.81,16.18,21.67,23.07,21.02,22.8,21.74,20.79,14.83,17.2,17.0],\"yaxis\":\"y2\",\"type\":\"bar\"},{\"alignmentgroup\":\"True\",\"hovertemplate\":\"topics_cleaned=Sport<br>year=2021<br>month=%{x}<br>% with retweets=%{text}<extra></extra>\",\"legendgroup\":\"Sport\",\"marker\":{\"color\":\"#faf3dd\",\"pattern\":{\"shape\":\"\"}},\"name\":\"Sport\",\"offsetgroup\":\"Sport\",\"orientation\":\"v\",\"showlegend\":false,\"text\":[21.68,21.17,30.04,23.2,20.25,19.64,22.57,20.92,28.88,29.98,23.97,24.22],\"textposition\":\"auto\",\"x\":[\"April\",\"August\",\"December\",\"February\",\"January\",\"July\",\"June\",\"March\",\"May\",\"November\",\"October\",\"September\"],\"xaxis\":\"x3\",\"y\":[21.68,21.17,30.04,23.2,20.25,19.64,22.57,20.92,28.88,29.98,23.97,24.22],\"yaxis\":\"y3\",\"type\":\"bar\"},{\"alignmentgroup\":\"True\",\"hovertemplate\":\"topics_cleaned=TV and Movies<br>year=2019<br>month=%{x}<br>% with retweets=%{text}<extra></extra>\",\"legendgroup\":\"TV and Movies\",\"marker\":{\"color\":\"#ffa69e\",\"pattern\":{\"shape\":\"\"}},\"name\":\"TV and Movies\",\"offsetgroup\":\"TV and Movies\",\"orientation\":\"v\",\"showlegend\":true,\"text\":[15.4,16.86,14.81,13.16,11.65,21.05,12.12,13.42,19.87,18.86,17.39,13.54],\"textposition\":\"auto\",\"x\":[\"April\",\"August\",\"December\",\"February\",\"January\",\"July\",\"June\",\"March\",\"May\",\"November\",\"October\",\"September\"],\"xaxis\":\"x\",\"y\":[15.4,16.86,14.81,13.16,11.65,21.05,12.12,13.42,19.87,18.86,17.39,13.54],\"yaxis\":\"y\",\"type\":\"bar\"},{\"alignmentgroup\":\"True\",\"hovertemplate\":\"topics_cleaned=TV and Movies<br>year=2020<br>month=%{x}<br>% with retweets=%{text}<extra></extra>\",\"legendgroup\":\"TV and Movies\",\"marker\":{\"color\":\"#ffa69e\",\"pattern\":{\"shape\":\"\"}},\"name\":\"TV and Movies\",\"offsetgroup\":\"TV and Movies\",\"orientation\":\"v\",\"showlegend\":false,\"text\":[14.5,14.08,11.92,17.33,16.84,15.34,17.04,17.22,15.41,10.84,13.24,14.76],\"textposition\":\"auto\",\"x\":[\"April\",\"August\",\"December\",\"February\",\"January\",\"July\",\"June\",\"March\",\"May\",\"November\",\"October\",\"September\"],\"xaxis\":\"x2\",\"y\":[14.5,14.08,11.92,17.33,16.84,15.34,17.04,17.22,15.41,10.84,13.24,14.76],\"yaxis\":\"y2\",\"type\":\"bar\"},{\"alignmentgroup\":\"True\",\"hovertemplate\":\"topics_cleaned=TV and Movies<br>year=2021<br>month=%{x}<br>% with retweets=%{text}<extra></extra>\",\"legendgroup\":\"TV and Movies\",\"marker\":{\"color\":\"#ffa69e\",\"pattern\":{\"shape\":\"\"}},\"name\":\"TV and Movies\",\"offsetgroup\":\"TV and Movies\",\"orientation\":\"v\",\"showlegend\":false,\"text\":[14.26,16.42,17.1,14.95,12.8,13.92,15.14,14.76,15.8,16.95,15.39,15.61],\"textposition\":\"auto\",\"x\":[\"April\",\"August\",\"December\",\"February\",\"January\",\"July\",\"June\",\"March\",\"May\",\"November\",\"October\",\"September\"],\"xaxis\":\"x3\",\"y\":[14.26,16.42,17.1,14.95,12.8,13.92,15.14,14.76,15.8,16.95,15.39,15.61],\"yaxis\":\"y3\",\"type\":\"bar\"},{\"alignmentgroup\":\"True\",\"hovertemplate\":\"topics_cleaned=Video Game<br>year=2019<br>month=%{x}<br>% with retweets=%{text}<extra></extra>\",\"legendgroup\":\"Video Game\",\"marker\":{\"color\":\"#FE7F2D\",\"pattern\":{\"shape\":\"\"}},\"name\":\"Video Game\",\"offsetgroup\":\"Video Game\",\"orientation\":\"v\",\"showlegend\":true,\"text\":[18.59,20.3,16.0,25.0,18.18,28.57,20.83,36.84,26.67,42.11,17.65,null],\"textposition\":\"auto\",\"x\":[\"April\",\"August\",\"December\",\"February\",\"January\",\"July\",\"June\",\"March\",\"May\",\"November\",\"October\",\"September\"],\"xaxis\":\"x\",\"y\":[18.59,20.3,16.0,25.0,18.18,28.57,20.83,36.84,26.67,42.11,17.65,null],\"yaxis\":\"y\",\"type\":\"bar\"},{\"alignmentgroup\":\"True\",\"hovertemplate\":\"topics_cleaned=Video Game<br>year=2020<br>month=%{x}<br>% with retweets=%{text}<extra></extra>\",\"legendgroup\":\"Video Game\",\"marker\":{\"color\":\"#FE7F2D\",\"pattern\":{\"shape\":\"\"}},\"name\":\"Video Game\",\"offsetgroup\":\"Video Game\",\"orientation\":\"v\",\"showlegend\":false,\"text\":[16.06,15.82,16.1,21.02,19.08,14.21,15.59,20.57,16.33,16.16,21.61,15.62],\"textposition\":\"auto\",\"x\":[\"April\",\"August\",\"December\",\"February\",\"January\",\"July\",\"June\",\"March\",\"May\",\"November\",\"October\",\"September\"],\"xaxis\":\"x2\",\"y\":[16.06,15.82,16.1,21.02,19.08,14.21,15.59,20.57,16.33,16.16,21.61,15.62],\"yaxis\":\"y2\",\"type\":\"bar\"},{\"alignmentgroup\":\"True\",\"hovertemplate\":\"topics_cleaned=Video Game<br>year=2021<br>month=%{x}<br>% with retweets=%{text}<extra></extra>\",\"legendgroup\":\"Video Game\",\"marker\":{\"color\":\"#FE7F2D\",\"pattern\":{\"shape\":\"\"}},\"name\":\"Video Game\",\"offsetgroup\":\"Video Game\",\"orientation\":\"v\",\"showlegend\":false,\"text\":[13.73,14.79,11.67,13.1,10.39,20.53,13.99,23.08,13.33,14.45,8.7,16.37],\"textposition\":\"auto\",\"x\":[\"April\",\"August\",\"December\",\"February\",\"January\",\"July\",\"June\",\"March\",\"May\",\"November\",\"October\",\"September\"],\"xaxis\":\"x3\",\"y\":[13.73,14.79,11.67,13.1,10.39,20.53,13.99,23.08,13.33,14.45,8.7,16.37],\"yaxis\":\"y3\",\"type\":\"bar\"},{\"alignmentgroup\":\"True\",\"hovertemplate\":\"topics_cleaned=Holiday<br>year=2019<br>month=%{x}<br>% with retweets=%{text}<extra></extra>\",\"legendgroup\":\"Holiday\",\"marker\":{\"color\":\"#FCCA46\",\"pattern\":{\"shape\":\"\"}},\"name\":\"Holiday\",\"offsetgroup\":\"Holiday\",\"orientation\":\"v\",\"showlegend\":true,\"text\":[14.09],\"textposition\":\"auto\",\"x\":[\"February\"],\"xaxis\":\"x\",\"y\":[14.09],\"yaxis\":\"y\",\"type\":\"bar\"},{\"alignmentgroup\":\"True\",\"hovertemplate\":\"topics_cleaned=Holiday<br>year=2020<br>month=%{x}<br>% with retweets=%{text}<extra></extra>\",\"legendgroup\":\"Holiday\",\"marker\":{\"color\":\"#FCCA46\",\"pattern\":{\"shape\":\"\"}},\"name\":\"Holiday\",\"offsetgroup\":\"Holiday\",\"orientation\":\"v\",\"showlegend\":false,\"text\":[22.83,10.64,15.94,14.75,18.3,20.39,19.03,23.94,19.24,13.54,15.17,21.67],\"textposition\":\"auto\",\"x\":[\"April\",\"August\",\"December\",\"February\",\"January\",\"July\",\"June\",\"March\",\"May\",\"November\",\"October\",\"September\"],\"xaxis\":\"x2\",\"y\":[22.83,10.64,15.94,14.75,18.3,20.39,19.03,23.94,19.24,13.54,15.17,21.67],\"yaxis\":\"y2\",\"type\":\"bar\"},{\"alignmentgroup\":\"True\",\"hovertemplate\":\"topics_cleaned=Holiday<br>year=2021<br>month=%{x}<br>% with retweets=%{text}<extra></extra>\",\"legendgroup\":\"Holiday\",\"marker\":{\"color\":\"#FCCA46\",\"pattern\":{\"shape\":\"\"}},\"name\":\"Holiday\",\"offsetgroup\":\"Holiday\",\"orientation\":\"v\",\"showlegend\":false,\"text\":[17.83,9.91,21.08,19.69,17.23,20.5,24.14,19.33,21.84,20.02,21.47,16.34],\"textposition\":\"auto\",\"x\":[\"April\",\"August\",\"December\",\"February\",\"January\",\"July\",\"June\",\"March\",\"May\",\"November\",\"October\",\"September\"],\"xaxis\":\"x3\",\"y\":[17.83,9.91,21.08,19.69,17.23,20.5,24.14,19.33,21.84,20.02,21.47,16.34],\"yaxis\":\"y3\",\"type\":\"bar\"},{\"alignmentgroup\":\"True\",\"hovertemplate\":\"topics_cleaned=News<br>year=2020<br>month=%{x}<br>% with retweets=%{text}<extra></extra>\",\"legendgroup\":\"News\",\"marker\":{\"color\":\"#ED7B84\",\"pattern\":{\"shape\":\"\"}},\"name\":\"News\",\"offsetgroup\":\"News\",\"orientation\":\"v\",\"showlegend\":true,\"text\":[19.36,17.7,16.4,26.97,13.04,19.81,20.87,22.14,19.58,14.83,19.21,20.0],\"textposition\":\"auto\",\"x\":[\"April\",\"August\",\"December\",\"February\",\"January\",\"July\",\"June\",\"March\",\"May\",\"November\",\"October\",\"September\"],\"xaxis\":\"x2\",\"y\":[19.36,17.7,16.4,26.97,13.04,19.81,20.87,22.14,19.58,14.83,19.21,20.0],\"yaxis\":\"y2\",\"type\":\"bar\"},{\"alignmentgroup\":\"True\",\"hovertemplate\":\"topics_cleaned=News<br>year=2021<br>month=%{x}<br>% with retweets=%{text}<extra></extra>\",\"legendgroup\":\"News\",\"marker\":{\"color\":\"#ED7B84\",\"pattern\":{\"shape\":\"\"}},\"name\":\"News\",\"offsetgroup\":\"News\",\"orientation\":\"v\",\"showlegend\":false,\"text\":[20.98,18.55,19.21,18.08,18.72,22.43,22.41,19.33,19.41,22.01,22.41,19.97],\"textposition\":\"auto\",\"x\":[\"April\",\"August\",\"December\",\"February\",\"January\",\"July\",\"June\",\"March\",\"May\",\"November\",\"October\",\"September\"],\"xaxis\":\"x3\",\"y\":[20.98,18.55,19.21,18.08,18.72,22.43,22.41,19.33,19.41,22.01,22.41,19.97],\"yaxis\":\"y3\",\"type\":\"bar\"}],                        {\"template\":{\"data\":{\"histogram2dcontour\":[{\"type\":\"histogram2dcontour\",\"colorbar\":{\"outlinewidth\":0,\"ticks\":\"\"},\"colorscale\":[[0.0,\"#0d0887\"],[0.1111111111111111,\"#46039f\"],[0.2222222222222222,\"#7201a8\"],[0.3333333333333333,\"#9c179e\"],[0.4444444444444444,\"#bd3786\"],[0.5555555555555556,\"#d8576b\"],[0.6666666666666666,\"#ed7953\"],[0.7777777777777778,\"#fb9f3a\"],[0.8888888888888888,\"#fdca26\"],[1.0,\"#f0f921\"]]}],\"choropleth\":[{\"type\":\"choropleth\",\"colorbar\":{\"outlinewidth\":0,\"ticks\":\"\"}}],\"histogram2d\":[{\"type\":\"histogram2d\",\"colorbar\":{\"outlinewidth\":0,\"ticks\":\"\"},\"colorscale\":[[0.0,\"#0d0887\"],[0.1111111111111111,\"#46039f\"],[0.2222222222222222,\"#7201a8\"],[0.3333333333333333,\"#9c179e\"],[0.4444444444444444,\"#bd3786\"],[0.5555555555555556,\"#d8576b\"],[0.6666666666666666,\"#ed7953\"],[0.7777777777777778,\"#fb9f3a\"],[0.8888888888888888,\"#fdca26\"],[1.0,\"#f0f921\"]]}],\"heatmap\":[{\"type\":\"heatmap\",\"colorbar\":{\"outlinewidth\":0,\"ticks\":\"\"},\"colorscale\":[[0.0,\"#0d0887\"],[0.1111111111111111,\"#46039f\"],[0.2222222222222222,\"#7201a8\"],[0.3333333333333333,\"#9c179e\"],[0.4444444444444444,\"#bd3786\"],[0.5555555555555556,\"#d8576b\"],[0.6666666666666666,\"#ed7953\"],[0.7777777777777778,\"#fb9f3a\"],[0.8888888888888888,\"#fdca26\"],[1.0,\"#f0f921\"]]}],\"heatmapgl\":[{\"type\":\"heatmapgl\",\"colorbar\":{\"outlinewidth\":0,\"ticks\":\"\"},\"colorscale\":[[0.0,\"#0d0887\"],[0.1111111111111111,\"#46039f\"],[0.2222222222222222,\"#7201a8\"],[0.3333333333333333,\"#9c179e\"],[0.4444444444444444,\"#bd3786\"],[0.5555555555555556,\"#d8576b\"],[0.6666666666666666,\"#ed7953\"],[0.7777777777777778,\"#fb9f3a\"],[0.8888888888888888,\"#fdca26\"],[1.0,\"#f0f921\"]]}],\"contourcarpet\":[{\"type\":\"contourcarpet\",\"colorbar\":{\"outlinewidth\":0,\"ticks\":\"\"}}],\"contour\":[{\"type\":\"contour\",\"colorbar\":{\"outlinewidth\":0,\"ticks\":\"\"},\"colorscale\":[[0.0,\"#0d0887\"],[0.1111111111111111,\"#46039f\"],[0.2222222222222222,\"#7201a8\"],[0.3333333333333333,\"#9c179e\"],[0.4444444444444444,\"#bd3786\"],[0.5555555555555556,\"#d8576b\"],[0.6666666666666666,\"#ed7953\"],[0.7777777777777778,\"#fb9f3a\"],[0.8888888888888888,\"#fdca26\"],[1.0,\"#f0f921\"]]}],\"surface\":[{\"type\":\"surface\",\"colorbar\":{\"outlinewidth\":0,\"ticks\":\"\"},\"colorscale\":[[0.0,\"#0d0887\"],[0.1111111111111111,\"#46039f\"],[0.2222222222222222,\"#7201a8\"],[0.3333333333333333,\"#9c179e\"],[0.4444444444444444,\"#bd3786\"],[0.5555555555555556,\"#d8576b\"],[0.6666666666666666,\"#ed7953\"],[0.7777777777777778,\"#fb9f3a\"],[0.8888888888888888,\"#fdca26\"],[1.0,\"#f0f921\"]]}],\"mesh3d\":[{\"type\":\"mesh3d\",\"colorbar\":{\"outlinewidth\":0,\"ticks\":\"\"}}],\"scatter\":[{\"fillpattern\":{\"fillmode\":\"overlay\",\"size\":10,\"solidity\":0.2},\"type\":\"scatter\"}],\"parcoords\":[{\"type\":\"parcoords\",\"line\":{\"colorbar\":{\"outlinewidth\":0,\"ticks\":\"\"}}}],\"scatterpolargl\":[{\"type\":\"scatterpolargl\",\"marker\":{\"colorbar\":{\"outlinewidth\":0,\"ticks\":\"\"}}}],\"bar\":[{\"error_x\":{\"color\":\"#2a3f5f\"},\"error_y\":{\"color\":\"#2a3f5f\"},\"marker\":{\"line\":{\"color\":\"#E5ECF6\",\"width\":0.5},\"pattern\":{\"fillmode\":\"overlay\",\"size\":10,\"solidity\":0.2}},\"type\":\"bar\"}],\"scattergeo\":[{\"type\":\"scattergeo\",\"marker\":{\"colorbar\":{\"outlinewidth\":0,\"ticks\":\"\"}}}],\"scatterpolar\":[{\"type\":\"scatterpolar\",\"marker\":{\"colorbar\":{\"outlinewidth\":0,\"ticks\":\"\"}}}],\"histogram\":[{\"marker\":{\"pattern\":{\"fillmode\":\"overlay\",\"size\":10,\"solidity\":0.2}},\"type\":\"histogram\"}],\"scattergl\":[{\"type\":\"scattergl\",\"marker\":{\"colorbar\":{\"outlinewidth\":0,\"ticks\":\"\"}}}],\"scatter3d\":[{\"type\":\"scatter3d\",\"line\":{\"colorbar\":{\"outlinewidth\":0,\"ticks\":\"\"}},\"marker\":{\"colorbar\":{\"outlinewidth\":0,\"ticks\":\"\"}}}],\"scattermapbox\":[{\"type\":\"scattermapbox\",\"marker\":{\"colorbar\":{\"outlinewidth\":0,\"ticks\":\"\"}}}],\"scatterternary\":[{\"type\":\"scatterternary\",\"marker\":{\"colorbar\":{\"outlinewidth\":0,\"ticks\":\"\"}}}],\"scattercarpet\":[{\"type\":\"scattercarpet\",\"marker\":{\"colorbar\":{\"outlinewidth\":0,\"ticks\":\"\"}}}],\"carpet\":[{\"aaxis\":{\"endlinecolor\":\"#2a3f5f\",\"gridcolor\":\"white\",\"linecolor\":\"white\",\"minorgridcolor\":\"white\",\"startlinecolor\":\"#2a3f5f\"},\"baxis\":{\"endlinecolor\":\"#2a3f5f\",\"gridcolor\":\"white\",\"linecolor\":\"white\",\"minorgridcolor\":\"white\",\"startlinecolor\":\"#2a3f5f\"},\"type\":\"carpet\"}],\"table\":[{\"cells\":{\"fill\":{\"color\":\"#EBF0F8\"},\"line\":{\"color\":\"white\"}},\"header\":{\"fill\":{\"color\":\"#C8D4E3\"},\"line\":{\"color\":\"white\"}},\"type\":\"table\"}],\"barpolar\":[{\"marker\":{\"line\":{\"color\":\"#E5ECF6\",\"width\":0.5},\"pattern\":{\"fillmode\":\"overlay\",\"size\":10,\"solidity\":0.2}},\"type\":\"barpolar\"}],\"pie\":[{\"automargin\":true,\"type\":\"pie\"}]},\"layout\":{\"autotypenumbers\":\"strict\",\"colorway\":[\"#636efa\",\"#EF553B\",\"#00cc96\",\"#ab63fa\",\"#FFA15A\",\"#19d3f3\",\"#FF6692\",\"#B6E880\",\"#FF97FF\",\"#FECB52\"],\"font\":{\"color\":\"#2a3f5f\"},\"hovermode\":\"closest\",\"hoverlabel\":{\"align\":\"left\"},\"paper_bgcolor\":\"white\",\"plot_bgcolor\":\"#E5ECF6\",\"polar\":{\"bgcolor\":\"#E5ECF6\",\"angularaxis\":{\"gridcolor\":\"white\",\"linecolor\":\"white\",\"ticks\":\"\"},\"radialaxis\":{\"gridcolor\":\"white\",\"linecolor\":\"white\",\"ticks\":\"\"}},\"ternary\":{\"bgcolor\":\"#E5ECF6\",\"aaxis\":{\"gridcolor\":\"white\",\"linecolor\":\"white\",\"ticks\":\"\"},\"baxis\":{\"gridcolor\":\"white\",\"linecolor\":\"white\",\"ticks\":\"\"},\"caxis\":{\"gridcolor\":\"white\",\"linecolor\":\"white\",\"ticks\":\"\"}},\"coloraxis\":{\"colorbar\":{\"outlinewidth\":0,\"ticks\":\"\"}},\"colorscale\":{\"sequential\":[[0.0,\"#0d0887\"],[0.1111111111111111,\"#46039f\"],[0.2222222222222222,\"#7201a8\"],[0.3333333333333333,\"#9c179e\"],[0.4444444444444444,\"#bd3786\"],[0.5555555555555556,\"#d8576b\"],[0.6666666666666666,\"#ed7953\"],[0.7777777777777778,\"#fb9f3a\"],[0.8888888888888888,\"#fdca26\"],[1.0,\"#f0f921\"]],\"sequentialminus\":[[0.0,\"#0d0887\"],[0.1111111111111111,\"#46039f\"],[0.2222222222222222,\"#7201a8\"],[0.3333333333333333,\"#9c179e\"],[0.4444444444444444,\"#bd3786\"],[0.5555555555555556,\"#d8576b\"],[0.6666666666666666,\"#ed7953\"],[0.7777777777777778,\"#fb9f3a\"],[0.8888888888888888,\"#fdca26\"],[1.0,\"#f0f921\"]],\"diverging\":[[0,\"#8e0152\"],[0.1,\"#c51b7d\"],[0.2,\"#de77ae\"],[0.3,\"#f1b6da\"],[0.4,\"#fde0ef\"],[0.5,\"#f7f7f7\"],[0.6,\"#e6f5d0\"],[0.7,\"#b8e186\"],[0.8,\"#7fbc41\"],[0.9,\"#4d9221\"],[1,\"#276419\"]]},\"xaxis\":{\"gridcolor\":\"white\",\"linecolor\":\"white\",\"ticks\":\"\",\"title\":{\"standoff\":15},\"zerolinecolor\":\"white\",\"automargin\":true,\"zerolinewidth\":2},\"yaxis\":{\"gridcolor\":\"white\",\"linecolor\":\"white\",\"ticks\":\"\",\"title\":{\"standoff\":15},\"zerolinecolor\":\"white\",\"automargin\":true,\"zerolinewidth\":2},\"scene\":{\"xaxis\":{\"backgroundcolor\":\"#E5ECF6\",\"gridcolor\":\"white\",\"linecolor\":\"white\",\"showbackground\":true,\"ticks\":\"\",\"zerolinecolor\":\"white\",\"gridwidth\":2},\"yaxis\":{\"backgroundcolor\":\"#E5ECF6\",\"gridcolor\":\"white\",\"linecolor\":\"white\",\"showbackground\":true,\"ticks\":\"\",\"zerolinecolor\":\"white\",\"gridwidth\":2},\"zaxis\":{\"backgroundcolor\":\"#E5ECF6\",\"gridcolor\":\"white\",\"linecolor\":\"white\",\"showbackground\":true,\"ticks\":\"\",\"zerolinecolor\":\"white\",\"gridwidth\":2}},\"shapedefaults\":{\"line\":{\"color\":\"#2a3f5f\"}},\"annotationdefaults\":{\"arrowcolor\":\"#2a3f5f\",\"arrowhead\":0,\"arrowwidth\":1},\"geo\":{\"bgcolor\":\"white\",\"landcolor\":\"#E5ECF6\",\"subunitcolor\":\"white\",\"showland\":true,\"showlakes\":true,\"lakecolor\":\"white\"},\"title\":{\"x\":0.05},\"mapbox\":{\"style\":\"light\"}}},\"xaxis\":{\"anchor\":\"y\",\"domain\":[0.0,0.31999999999999995],\"title\":{\"text\":\"Months\"},\"categoryorder\":\"array\",\"categoryarray\":[\"January\",\"February\",\"March\",\"April\",\"May\",\"June\",\"July\",\"August\",\"September\",\"October\",\"November\",\"December\"]},\"yaxis\":{\"anchor\":\"x\",\"domain\":[0.0,1.0],\"title\":{\"text\":\"% with retweets\"}},\"xaxis2\":{\"anchor\":\"y2\",\"domain\":[0.33999999999999997,0.6599999999999999],\"matches\":\"x\",\"title\":{\"text\":\"Months\"},\"categoryorder\":\"array\",\"categoryarray\":[\"January\",\"February\",\"March\",\"April\",\"May\",\"June\",\"July\",\"August\",\"September\",\"October\",\"November\",\"December\"]},\"yaxis2\":{\"anchor\":\"x2\",\"domain\":[0.0,1.0],\"matches\":\"y\",\"showticklabels\":false,\"title\":{\"text\":\"% with retweets\"}},\"xaxis3\":{\"anchor\":\"y3\",\"domain\":[0.6799999999999999,0.9999999999999999],\"matches\":\"x\",\"title\":{\"text\":\"Months\"},\"categoryorder\":\"array\",\"categoryarray\":[\"January\",\"February\",\"March\",\"April\",\"May\",\"June\",\"July\",\"August\",\"September\",\"October\",\"November\",\"December\"]},\"yaxis3\":{\"anchor\":\"x3\",\"domain\":[0.0,1.0],\"matches\":\"y\",\"showticklabels\":false,\"title\":{\"text\":\"% with retweets\"}},\"annotations\":[{\"font\":{},\"showarrow\":false,\"text\":\"year=2019\",\"x\":0.15999999999999998,\"xanchor\":\"center\",\"xref\":\"paper\",\"y\":1.0,\"yanchor\":\"bottom\",\"yref\":\"paper\"},{\"font\":{},\"showarrow\":false,\"text\":\"year=2020\",\"x\":0.49999999999999994,\"xanchor\":\"center\",\"xref\":\"paper\",\"y\":1.0,\"yanchor\":\"bottom\",\"yref\":\"paper\"},{\"font\":{},\"showarrow\":false,\"text\":\"year=2021\",\"x\":0.8399999999999999,\"xanchor\":\"center\",\"xref\":\"paper\",\"y\":1.0,\"yanchor\":\"bottom\",\"yref\":\"paper\"}],\"legend\":{\"title\":{\"text\":\"topics_cleaned\"},\"tracegroupgap\":0},\"margin\":{\"t\":60},\"barmode\":\"stack\",\"title\":{\"text\":\"Percentage of retweets by topic during the year\"},\"width\":900,\"height\":500},                        {\"responsive\": true}                    ).then(function(){\n                            \nvar gd = document.getElementById('f76a3855-1a76-45c7-b387-a33d69a5a9f0');\nvar x = new MutationObserver(function (mutations, observer) {{\n        var display = window.getComputedStyle(gd).display;\n        if (!display || display === 'none') {{\n            console.log([gd, 'removed!']);\n            Plotly.purge(gd);\n            observer.disconnect();\n        }}\n}});\n\n// Listen for the removal of the full notebook cells\nvar notebookContainer = gd.closest('#notebook-container');\nif (notebookContainer) {{\n    x.observe(notebookContainer, {childList: true});\n}}\n\n// Listen for the clearing of the current output cell\nvar outputEl = gd.closest('.output');\nif (outputEl) {{\n    x.observe(outputEl, {childList: true});\n}}\n\n                        })                };                });            </script>        </div>"
     },
     "metadata": {},
     "output_type": "display_data"
    }
   ],
   "source": [
    "multi_label_chart(df_analysis, \"topics_cleaned\", months, \"month\", \"% with retweets\", \"Months\", \"% with retweets\", \"Percentage of retweets by topic during the year\", offline_graphs)"
   ],
   "metadata": {
    "collapsed": false,
    "pycharm": {
     "name": "#%%\n"
    }
   }
  },
  {
   "cell_type": "markdown",
   "source": [
    "#### Impact of hashtags in topic popularity"
   ],
   "metadata": {
    "collapsed": false,
    "pycharm": {
     "name": "#%% md\n"
    }
   }
  },
  {
   "cell_type": "code",
   "execution_count": 57,
   "outputs": [
    {
     "data": {
      "text/plain": "    year  hashtags        topics_cleaned  count hashtags  % hashtags  \\\n0   2019     False                  Book             131    0.067530   \n1   2019     False                 Brand           23448   12.087408   \n2   2019     False              Entities           15986    8.240758   \n3   2019     False  Interest and Hobbies           18669    9.623841   \n4   2019     False                 Music            1394    0.718605   \n..   ...       ...                   ...             ...         ...   \n21  2021      True                Person            4843    2.781607   \n22  2021      True             Political             250    0.143589   \n23  2021      True                 Sport            2896    1.663335   \n24  2021      True         TV and Movies           14448    8.298298   \n25  2021      True            Video Game             496    0.284881   \n\n    % with retweets  % with likes  retweets mean  likes mean  \n0             24.43         58.78           0.68        6.40  \n1             15.09         49.17           0.46        3.09  \n2             14.14         50.78           0.39        3.14  \n3             14.95         52.38           0.43        3.42  \n4             19.15         54.23           0.50        3.49  \n..              ...           ...            ...         ...  \n21            24.45         52.84           0.98        5.23  \n22            29.20         46.80           1.22        4.33  \n23            26.66         63.36           0.92        8.05  \n24            18.77         58.02           0.59        6.29  \n25            21.37         61.29           0.77        5.97  \n\n[75 rows x 9 columns]",
      "text/html": "<div>\n<style scoped>\n    .dataframe tbody tr th:only-of-type {\n        vertical-align: middle;\n    }\n\n    .dataframe tbody tr th {\n        vertical-align: top;\n    }\n\n    .dataframe thead th {\n        text-align: right;\n    }\n</style>\n<table border=\"1\" class=\"dataframe\">\n  <thead>\n    <tr style=\"text-align: right;\">\n      <th></th>\n      <th>year</th>\n      <th>hashtags</th>\n      <th>topics_cleaned</th>\n      <th>count hashtags</th>\n      <th>% hashtags</th>\n      <th>% with retweets</th>\n      <th>% with likes</th>\n      <th>retweets mean</th>\n      <th>likes mean</th>\n    </tr>\n  </thead>\n  <tbody>\n    <tr>\n      <th>0</th>\n      <td>2019</td>\n      <td>False</td>\n      <td>Book</td>\n      <td>131</td>\n      <td>0.067530</td>\n      <td>24.43</td>\n      <td>58.78</td>\n      <td>0.68</td>\n      <td>6.40</td>\n    </tr>\n    <tr>\n      <th>1</th>\n      <td>2019</td>\n      <td>False</td>\n      <td>Brand</td>\n      <td>23448</td>\n      <td>12.087408</td>\n      <td>15.09</td>\n      <td>49.17</td>\n      <td>0.46</td>\n      <td>3.09</td>\n    </tr>\n    <tr>\n      <th>2</th>\n      <td>2019</td>\n      <td>False</td>\n      <td>Entities</td>\n      <td>15986</td>\n      <td>8.240758</td>\n      <td>14.14</td>\n      <td>50.78</td>\n      <td>0.39</td>\n      <td>3.14</td>\n    </tr>\n    <tr>\n      <th>3</th>\n      <td>2019</td>\n      <td>False</td>\n      <td>Interest and Hobbies</td>\n      <td>18669</td>\n      <td>9.623841</td>\n      <td>14.95</td>\n      <td>52.38</td>\n      <td>0.43</td>\n      <td>3.42</td>\n    </tr>\n    <tr>\n      <th>4</th>\n      <td>2019</td>\n      <td>False</td>\n      <td>Music</td>\n      <td>1394</td>\n      <td>0.718605</td>\n      <td>19.15</td>\n      <td>54.23</td>\n      <td>0.50</td>\n      <td>3.49</td>\n    </tr>\n    <tr>\n      <th>...</th>\n      <td>...</td>\n      <td>...</td>\n      <td>...</td>\n      <td>...</td>\n      <td>...</td>\n      <td>...</td>\n      <td>...</td>\n      <td>...</td>\n      <td>...</td>\n    </tr>\n    <tr>\n      <th>21</th>\n      <td>2021</td>\n      <td>True</td>\n      <td>Person</td>\n      <td>4843</td>\n      <td>2.781607</td>\n      <td>24.45</td>\n      <td>52.84</td>\n      <td>0.98</td>\n      <td>5.23</td>\n    </tr>\n    <tr>\n      <th>22</th>\n      <td>2021</td>\n      <td>True</td>\n      <td>Political</td>\n      <td>250</td>\n      <td>0.143589</td>\n      <td>29.20</td>\n      <td>46.80</td>\n      <td>1.22</td>\n      <td>4.33</td>\n    </tr>\n    <tr>\n      <th>23</th>\n      <td>2021</td>\n      <td>True</td>\n      <td>Sport</td>\n      <td>2896</td>\n      <td>1.663335</td>\n      <td>26.66</td>\n      <td>63.36</td>\n      <td>0.92</td>\n      <td>8.05</td>\n    </tr>\n    <tr>\n      <th>24</th>\n      <td>2021</td>\n      <td>True</td>\n      <td>TV and Movies</td>\n      <td>14448</td>\n      <td>8.298298</td>\n      <td>18.77</td>\n      <td>58.02</td>\n      <td>0.59</td>\n      <td>6.29</td>\n    </tr>\n    <tr>\n      <th>25</th>\n      <td>2021</td>\n      <td>True</td>\n      <td>Video Game</td>\n      <td>496</td>\n      <td>0.284881</td>\n      <td>21.37</td>\n      <td>61.29</td>\n      <td>0.77</td>\n      <td>5.97</td>\n    </tr>\n  </tbody>\n</table>\n<p>75 rows × 9 columns</p>\n</div>"
     },
     "execution_count": 57,
     "metadata": {},
     "output_type": "execute_result"
    }
   ],
   "source": [
    "df_analysis = retweets_likes_info_by_year(tweet_analysis, ['hashtags', 'topics_cleaned'], hashtags)\n",
    "df_analysis"
   ],
   "metadata": {
    "collapsed": false,
    "pycharm": {
     "name": "#%%\n"
    }
   }
  },
  {
   "cell_type": "code",
   "execution_count": 58,
   "outputs": [
    {
     "data": {
      "application/vnd.plotly.v1+json": {
       "data": [
        {
         "alignmentgroup": "True",
         "hovertemplate": "topics_cleaned=Book<br>year=2019<br>hashtags=%{x}<br>% with retweets=%{text}<extra></extra>",
         "legendgroup": "Book",
         "marker": {
          "color": "#006D77",
          "pattern": {
           "shape": ""
          }
         },
         "name": "Book",
         "offsetgroup": "Book",
         "orientation": "v",
         "showlegend": true,
         "text": [
          24.43,
          33.77
         ],
         "textposition": "auto",
         "x": [
          false,
          true
         ],
         "xaxis": "x",
         "y": [
          24.43,
          33.77
         ],
         "yaxis": "y",
         "type": "bar"
        },
        {
         "alignmentgroup": "True",
         "hovertemplate": "topics_cleaned=Book<br>year=2020<br>hashtags=%{x}<br>% with retweets=%{text}<extra></extra>",
         "legendgroup": "Book",
         "marker": {
          "color": "#006D77",
          "pattern": {
           "shape": ""
          }
         },
         "name": "Book",
         "offsetgroup": "Book",
         "orientation": "v",
         "showlegend": false,
         "text": [
          12.08,
          27.66
         ],
         "textposition": "auto",
         "x": [
          false,
          true
         ],
         "xaxis": "x2",
         "y": [
          12.08,
          27.66
         ],
         "yaxis": "y2",
         "type": "bar"
        },
        {
         "alignmentgroup": "True",
         "hovertemplate": "topics_cleaned=Book<br>year=2021<br>hashtags=%{x}<br>% with retweets=%{text}<extra></extra>",
         "legendgroup": "Book",
         "marker": {
          "color": "#006D77",
          "pattern": {
           "shape": ""
          }
         },
         "name": "Book",
         "offsetgroup": "Book",
         "orientation": "v",
         "showlegend": false,
         "text": [
          13.83,
          29.73
         ],
         "textposition": "auto",
         "x": [
          false,
          true
         ],
         "xaxis": "x3",
         "y": [
          13.83,
          29.73
         ],
         "yaxis": "y3",
         "type": "bar"
        },
        {
         "alignmentgroup": "True",
         "hovertemplate": "topics_cleaned=Brand<br>year=2019<br>hashtags=%{x}<br>% with retweets=%{text}<extra></extra>",
         "legendgroup": "Brand",
         "marker": {
          "color": "#FBD1A2",
          "pattern": {
           "shape": ""
          }
         },
         "name": "Brand",
         "offsetgroup": "Brand",
         "orientation": "v",
         "showlegend": true,
         "text": [
          15.09,
          20.44
         ],
         "textposition": "auto",
         "x": [
          false,
          true
         ],
         "xaxis": "x",
         "y": [
          15.09,
          20.44
         ],
         "yaxis": "y",
         "type": "bar"
        },
        {
         "alignmentgroup": "True",
         "hovertemplate": "topics_cleaned=Brand<br>year=2020<br>hashtags=%{x}<br>% with retweets=%{text}<extra></extra>",
         "legendgroup": "Brand",
         "marker": {
          "color": "#FBD1A2",
          "pattern": {
           "shape": ""
          }
         },
         "name": "Brand",
         "offsetgroup": "Brand",
         "orientation": "v",
         "showlegend": false,
         "text": [
          14.17,
          20.63
         ],
         "textposition": "auto",
         "x": [
          false,
          true
         ],
         "xaxis": "x2",
         "y": [
          14.17,
          20.63
         ],
         "yaxis": "y2",
         "type": "bar"
        },
        {
         "alignmentgroup": "True",
         "hovertemplate": "topics_cleaned=Brand<br>year=2021<br>hashtags=%{x}<br>% with retweets=%{text}<extra></extra>",
         "legendgroup": "Brand",
         "marker": {
          "color": "#FBD1A2",
          "pattern": {
           "shape": ""
          }
         },
         "name": "Brand",
         "offsetgroup": "Brand",
         "orientation": "v",
         "showlegend": false,
         "text": [
          14.22,
          21.97
         ],
         "textposition": "auto",
         "x": [
          false,
          true
         ],
         "xaxis": "x3",
         "y": [
          14.22,
          21.97
         ],
         "yaxis": "y3",
         "type": "bar"
        },
        {
         "alignmentgroup": "True",
         "hovertemplate": "topics_cleaned=Entities<br>year=2019<br>hashtags=%{x}<br>% with retweets=%{text}<extra></extra>",
         "legendgroup": "Entities",
         "marker": {
          "color": "#7DCFB6",
          "pattern": {
           "shape": ""
          }
         },
         "name": "Entities",
         "offsetgroup": "Entities",
         "orientation": "v",
         "showlegend": true,
         "text": [
          14.14,
          18.42
         ],
         "textposition": "auto",
         "x": [
          false,
          true
         ],
         "xaxis": "x",
         "y": [
          14.14,
          18.42
         ],
         "yaxis": "y",
         "type": "bar"
        },
        {
         "alignmentgroup": "True",
         "hovertemplate": "topics_cleaned=Entities<br>year=2020<br>hashtags=%{x}<br>% with retweets=%{text}<extra></extra>",
         "legendgroup": "Entities",
         "marker": {
          "color": "#7DCFB6",
          "pattern": {
           "shape": ""
          }
         },
         "name": "Entities",
         "offsetgroup": "Entities",
         "orientation": "v",
         "showlegend": false,
         "text": [
          13.1,
          18.83
         ],
         "textposition": "auto",
         "x": [
          false,
          true
         ],
         "xaxis": "x2",
         "y": [
          13.1,
          18.83
         ],
         "yaxis": "y2",
         "type": "bar"
        },
        {
         "alignmentgroup": "True",
         "hovertemplate": "topics_cleaned=Entities<br>year=2021<br>hashtags=%{x}<br>% with retweets=%{text}<extra></extra>",
         "legendgroup": "Entities",
         "marker": {
          "color": "#7DCFB6",
          "pattern": {
           "shape": ""
          }
         },
         "name": "Entities",
         "offsetgroup": "Entities",
         "orientation": "v",
         "showlegend": false,
         "text": [
          13.34,
          24.7
         ],
         "textposition": "auto",
         "x": [
          false,
          true
         ],
         "xaxis": "x3",
         "y": [
          13.34,
          24.7
         ],
         "yaxis": "y3",
         "type": "bar"
        },
        {
         "alignmentgroup": "True",
         "hovertemplate": "topics_cleaned=Interest and Hobbies<br>year=2019<br>hashtags=%{x}<br>% with retweets=%{text}<extra></extra>",
         "legendgroup": "Interest and Hobbies",
         "marker": {
          "color": "#00B2CA",
          "pattern": {
           "shape": ""
          }
         },
         "name": "Interest and Hobbies",
         "offsetgroup": "Interest and Hobbies",
         "orientation": "v",
         "showlegend": true,
         "text": [
          14.95,
          20.25
         ],
         "textposition": "auto",
         "x": [
          false,
          true
         ],
         "xaxis": "x",
         "y": [
          14.95,
          20.25
         ],
         "yaxis": "y",
         "type": "bar"
        },
        {
         "alignmentgroup": "True",
         "hovertemplate": "topics_cleaned=Interest and Hobbies<br>year=2020<br>hashtags=%{x}<br>% with retweets=%{text}<extra></extra>",
         "legendgroup": "Interest and Hobbies",
         "marker": {
          "color": "#00B2CA",
          "pattern": {
           "shape": ""
          }
         },
         "name": "Interest and Hobbies",
         "offsetgroup": "Interest and Hobbies",
         "orientation": "v",
         "showlegend": false,
         "text": [
          14.74,
          18.97
         ],
         "textposition": "auto",
         "x": [
          false,
          true
         ],
         "xaxis": "x2",
         "y": [
          14.74,
          18.97
         ],
         "yaxis": "y2",
         "type": "bar"
        },
        {
         "alignmentgroup": "True",
         "hovertemplate": "topics_cleaned=Interest and Hobbies<br>year=2021<br>hashtags=%{x}<br>% with retweets=%{text}<extra></extra>",
         "legendgroup": "Interest and Hobbies",
         "marker": {
          "color": "#00B2CA",
          "pattern": {
           "shape": ""
          }
         },
         "name": "Interest and Hobbies",
         "offsetgroup": "Interest and Hobbies",
         "orientation": "v",
         "showlegend": false,
         "text": [
          13.43,
          22.94
         ],
         "textposition": "auto",
         "x": [
          false,
          true
         ],
         "xaxis": "x3",
         "y": [
          13.43,
          22.94
         ],
         "yaxis": "y3",
         "type": "bar"
        },
        {
         "alignmentgroup": "True",
         "hovertemplate": "topics_cleaned=Music<br>year=2019<br>hashtags=%{x}<br>% with retweets=%{text}<extra></extra>",
         "legendgroup": "Music",
         "marker": {
          "color": "#1D4E89",
          "pattern": {
           "shape": ""
          }
         },
         "name": "Music",
         "offsetgroup": "Music",
         "orientation": "v",
         "showlegend": true,
         "text": [
          19.15,
          19.08
         ],
         "textposition": "auto",
         "x": [
          false,
          true
         ],
         "xaxis": "x",
         "y": [
          19.15,
          19.08
         ],
         "yaxis": "y",
         "type": "bar"
        },
        {
         "alignmentgroup": "True",
         "hovertemplate": "topics_cleaned=Music<br>year=2020<br>hashtags=%{x}<br>% with retweets=%{text}<extra></extra>",
         "legendgroup": "Music",
         "marker": {
          "color": "#1D4E89",
          "pattern": {
           "shape": ""
          }
         },
         "name": "Music",
         "offsetgroup": "Music",
         "orientation": "v",
         "showlegend": false,
         "text": [
          18.07,
          19.24
         ],
         "textposition": "auto",
         "x": [
          false,
          true
         ],
         "xaxis": "x2",
         "y": [
          18.07,
          19.24
         ],
         "yaxis": "y2",
         "type": "bar"
        },
        {
         "alignmentgroup": "True",
         "hovertemplate": "topics_cleaned=Music<br>year=2021<br>hashtags=%{x}<br>% with retweets=%{text}<extra></extra>",
         "legendgroup": "Music",
         "marker": {
          "color": "#1D4E89",
          "pattern": {
           "shape": ""
          }
         },
         "name": "Music",
         "offsetgroup": "Music",
         "orientation": "v",
         "showlegend": false,
         "text": [
          17.05,
          25.05
         ],
         "textposition": "auto",
         "x": [
          false,
          true
         ],
         "xaxis": "x3",
         "y": [
          17.05,
          25.05
         ],
         "yaxis": "y3",
         "type": "bar"
        },
        {
         "alignmentgroup": "True",
         "hovertemplate": "topics_cleaned=Other<br>year=2019<br>hashtags=%{x}<br>% with retweets=%{text}<extra></extra>",
         "legendgroup": "Other",
         "marker": {
          "color": "#F79256",
          "pattern": {
           "shape": ""
          }
         },
         "name": "Other",
         "offsetgroup": "Other",
         "orientation": "v",
         "showlegend": true,
         "text": [
          14.34,
          24.01
         ],
         "textposition": "auto",
         "x": [
          false,
          true
         ],
         "xaxis": "x",
         "y": [
          14.34,
          24.01
         ],
         "yaxis": "y",
         "type": "bar"
        },
        {
         "alignmentgroup": "True",
         "hovertemplate": "topics_cleaned=Other<br>year=2020<br>hashtags=%{x}<br>% with retweets=%{text}<extra></extra>",
         "legendgroup": "Other",
         "marker": {
          "color": "#F79256",
          "pattern": {
           "shape": ""
          }
         },
         "name": "Other",
         "offsetgroup": "Other",
         "orientation": "v",
         "showlegend": false,
         "text": [
          13.74,
          23.28
         ],
         "textposition": "auto",
         "x": [
          false,
          true
         ],
         "xaxis": "x2",
         "y": [
          13.74,
          23.28
         ],
         "yaxis": "y2",
         "type": "bar"
        },
        {
         "alignmentgroup": "True",
         "hovertemplate": "topics_cleaned=Other<br>year=2021<br>hashtags=%{x}<br>% with retweets=%{text}<extra></extra>",
         "legendgroup": "Other",
         "marker": {
          "color": "#F79256",
          "pattern": {
           "shape": ""
          }
         },
         "name": "Other",
         "offsetgroup": "Other",
         "orientation": "v",
         "showlegend": false,
         "text": [
          12.36,
          20.68
         ],
         "textposition": "auto",
         "x": [
          false,
          true
         ],
         "xaxis": "x3",
         "y": [
          12.36,
          20.68
         ],
         "yaxis": "y3",
         "type": "bar"
        },
        {
         "alignmentgroup": "True",
         "hovertemplate": "topics_cleaned=Person<br>year=2019<br>hashtags=%{x}<br>% with retweets=%{text}<extra></extra>",
         "legendgroup": "Person",
         "marker": {
          "color": "#aed9e0",
          "pattern": {
           "shape": ""
          }
         },
         "name": "Person",
         "offsetgroup": "Person",
         "orientation": "v",
         "showlegend": true,
         "text": [
          13.81,
          23.9
         ],
         "textposition": "auto",
         "x": [
          false,
          true
         ],
         "xaxis": "x",
         "y": [
          13.81,
          23.9
         ],
         "yaxis": "y",
         "type": "bar"
        },
        {
         "alignmentgroup": "True",
         "hovertemplate": "topics_cleaned=Person<br>year=2020<br>hashtags=%{x}<br>% with retweets=%{text}<extra></extra>",
         "legendgroup": "Person",
         "marker": {
          "color": "#aed9e0",
          "pattern": {
           "shape": ""
          }
         },
         "name": "Person",
         "offsetgroup": "Person",
         "orientation": "v",
         "showlegend": false,
         "text": [
          13.65,
          22.83
         ],
         "textposition": "auto",
         "x": [
          false,
          true
         ],
         "xaxis": "x2",
         "y": [
          13.65,
          22.83
         ],
         "yaxis": "y2",
         "type": "bar"
        },
        {
         "alignmentgroup": "True",
         "hovertemplate": "topics_cleaned=Person<br>year=2021<br>hashtags=%{x}<br>% with retweets=%{text}<extra></extra>",
         "legendgroup": "Person",
         "marker": {
          "color": "#aed9e0",
          "pattern": {
           "shape": ""
          }
         },
         "name": "Person",
         "offsetgroup": "Person",
         "orientation": "v",
         "showlegend": false,
         "text": [
          14.72,
          24.45
         ],
         "textposition": "auto",
         "x": [
          false,
          true
         ],
         "xaxis": "x3",
         "y": [
          14.72,
          24.45
         ],
         "yaxis": "y3",
         "type": "bar"
        },
        {
         "alignmentgroup": "True",
         "hovertemplate": "topics_cleaned=Political<br>year=2019<br>hashtags=%{x}<br>% with retweets=%{text}<extra></extra>",
         "legendgroup": "Political",
         "marker": {
          "color": "#b8f2e6",
          "pattern": {
           "shape": ""
          }
         },
         "name": "Political",
         "offsetgroup": "Political",
         "orientation": "v",
         "showlegend": true,
         "text": [
          13.08,
          25.97
         ],
         "textposition": "auto",
         "x": [
          false,
          true
         ],
         "xaxis": "x",
         "y": [
          13.08,
          25.97
         ],
         "yaxis": "y",
         "type": "bar"
        },
        {
         "alignmentgroup": "True",
         "hovertemplate": "topics_cleaned=Political<br>year=2020<br>hashtags=%{x}<br>% with retweets=%{text}<extra></extra>",
         "legendgroup": "Political",
         "marker": {
          "color": "#b8f2e6",
          "pattern": {
           "shape": ""
          }
         },
         "name": "Political",
         "offsetgroup": "Political",
         "orientation": "v",
         "showlegend": false,
         "text": [
          14.99,
          26.39
         ],
         "textposition": "auto",
         "x": [
          false,
          true
         ],
         "xaxis": "x2",
         "y": [
          14.99,
          26.39
         ],
         "yaxis": "y2",
         "type": "bar"
        },
        {
         "alignmentgroup": "True",
         "hovertemplate": "topics_cleaned=Political<br>year=2021<br>hashtags=%{x}<br>% with retweets=%{text}<extra></extra>",
         "legendgroup": "Political",
         "marker": {
          "color": "#b8f2e6",
          "pattern": {
           "shape": ""
          }
         },
         "name": "Political",
         "offsetgroup": "Political",
         "orientation": "v",
         "showlegend": false,
         "text": [
          18.41,
          29.2
         ],
         "textposition": "auto",
         "x": [
          false,
          true
         ],
         "xaxis": "x3",
         "y": [
          18.41,
          29.2
         ],
         "yaxis": "y3",
         "type": "bar"
        },
        {
         "alignmentgroup": "True",
         "hovertemplate": "topics_cleaned=Sport<br>year=2019<br>hashtags=%{x}<br>% with retweets=%{text}<extra></extra>",
         "legendgroup": "Sport",
         "marker": {
          "color": "#faf3dd",
          "pattern": {
           "shape": ""
          }
         },
         "name": "Sport",
         "offsetgroup": "Sport",
         "orientation": "v",
         "showlegend": true,
         "text": [
          20.2,
          17.88
         ],
         "textposition": "auto",
         "x": [
          false,
          true
         ],
         "xaxis": "x",
         "y": [
          20.2,
          17.88
         ],
         "yaxis": "y",
         "type": "bar"
        },
        {
         "alignmentgroup": "True",
         "hovertemplate": "topics_cleaned=Sport<br>year=2020<br>hashtags=%{x}<br>% with retweets=%{text}<extra></extra>",
         "legendgroup": "Sport",
         "marker": {
          "color": "#faf3dd",
          "pattern": {
           "shape": ""
          }
         },
         "name": "Sport",
         "offsetgroup": "Sport",
         "orientation": "v",
         "showlegend": false,
         "text": [
          17.59,
          23.96
         ],
         "textposition": "auto",
         "x": [
          false,
          true
         ],
         "xaxis": "x2",
         "y": [
          17.59,
          23.96
         ],
         "yaxis": "y2",
         "type": "bar"
        },
        {
         "alignmentgroup": "True",
         "hovertemplate": "topics_cleaned=Sport<br>year=2021<br>hashtags=%{x}<br>% with retweets=%{text}<extra></extra>",
         "legendgroup": "Sport",
         "marker": {
          "color": "#faf3dd",
          "pattern": {
           "shape": ""
          }
         },
         "name": "Sport",
         "offsetgroup": "Sport",
         "orientation": "v",
         "showlegend": false,
         "text": [
          21.47,
          26.66
         ],
         "textposition": "auto",
         "x": [
          false,
          true
         ],
         "xaxis": "x3",
         "y": [
          21.47,
          26.66
         ],
         "yaxis": "y3",
         "type": "bar"
        },
        {
         "alignmentgroup": "True",
         "hovertemplate": "topics_cleaned=TV and Movies<br>year=2019<br>hashtags=%{x}<br>% with retweets=%{text}<extra></extra>",
         "legendgroup": "TV and Movies",
         "marker": {
          "color": "#ffa69e",
          "pattern": {
           "shape": ""
          }
         },
         "name": "TV and Movies",
         "offsetgroup": "TV and Movies",
         "orientation": "v",
         "showlegend": true,
         "text": [
          13.77,
          20.94
         ],
         "textposition": "auto",
         "x": [
          false,
          true
         ],
         "xaxis": "x",
         "y": [
          13.77,
          20.94
         ],
         "yaxis": "y",
         "type": "bar"
        },
        {
         "alignmentgroup": "True",
         "hovertemplate": "topics_cleaned=TV and Movies<br>year=2020<br>hashtags=%{x}<br>% with retweets=%{text}<extra></extra>",
         "legendgroup": "TV and Movies",
         "marker": {
          "color": "#ffa69e",
          "pattern": {
           "shape": ""
          }
         },
         "name": "TV and Movies",
         "offsetgroup": "TV and Movies",
         "orientation": "v",
         "showlegend": false,
         "text": [
          12.74,
          18.36
         ],
         "textposition": "auto",
         "x": [
          false,
          true
         ],
         "xaxis": "x2",
         "y": [
          12.74,
          18.36
         ],
         "yaxis": "y2",
         "type": "bar"
        },
        {
         "alignmentgroup": "True",
         "hovertemplate": "topics_cleaned=TV and Movies<br>year=2021<br>hashtags=%{x}<br>% with retweets=%{text}<extra></extra>",
         "legendgroup": "TV and Movies",
         "marker": {
          "color": "#ffa69e",
          "pattern": {
           "shape": ""
          }
         },
         "name": "TV and Movies",
         "offsetgroup": "TV and Movies",
         "orientation": "v",
         "showlegend": false,
         "text": [
          13.51,
          18.77
         ],
         "textposition": "auto",
         "x": [
          false,
          true
         ],
         "xaxis": "x3",
         "y": [
          13.51,
          18.77
         ],
         "yaxis": "y3",
         "type": "bar"
        },
        {
         "alignmentgroup": "True",
         "hovertemplate": "topics_cleaned=Video Game<br>year=2019<br>hashtags=%{x}<br>% with retweets=%{text}<extra></extra>",
         "legendgroup": "Video Game",
         "marker": {
          "color": "#FE7F2D",
          "pattern": {
           "shape": ""
          }
         },
         "name": "Video Game",
         "offsetgroup": "Video Game",
         "orientation": "v",
         "showlegend": true,
         "text": [
          14.3,
          null
         ],
         "textposition": "auto",
         "x": [
          false,
          true
         ],
         "xaxis": "x",
         "y": [
          14.3,
          null
         ],
         "yaxis": "y",
         "type": "bar"
        },
        {
         "alignmentgroup": "True",
         "hovertemplate": "topics_cleaned=Video Game<br>year=2020<br>hashtags=%{x}<br>% with retweets=%{text}<extra></extra>",
         "legendgroup": "Video Game",
         "marker": {
          "color": "#FE7F2D",
          "pattern": {
           "shape": ""
          }
         },
         "name": "Video Game",
         "offsetgroup": "Video Game",
         "orientation": "v",
         "showlegend": false,
         "text": [
          14.19,
          26.75
         ],
         "textposition": "auto",
         "x": [
          false,
          true
         ],
         "xaxis": "x2",
         "y": [
          14.19,
          26.75
         ],
         "yaxis": "y2",
         "type": "bar"
        },
        {
         "alignmentgroup": "True",
         "hovertemplate": "topics_cleaned=Video Game<br>year=2021<br>hashtags=%{x}<br>% with retweets=%{text}<extra></extra>",
         "legendgroup": "Video Game",
         "marker": {
          "color": "#FE7F2D",
          "pattern": {
           "shape": ""
          }
         },
         "name": "Video Game",
         "offsetgroup": "Video Game",
         "orientation": "v",
         "showlegend": false,
         "text": [
          12.28,
          21.37
         ],
         "textposition": "auto",
         "x": [
          false,
          true
         ],
         "xaxis": "x3",
         "y": [
          12.28,
          21.37
         ],
         "yaxis": "y3",
         "type": "bar"
        },
        {
         "alignmentgroup": "True",
         "hovertemplate": "topics_cleaned=Holiday<br>year=2019<br>hashtags=%{x}<br>% with retweets=%{text}<extra></extra>",
         "legendgroup": "Holiday",
         "marker": {
          "color": "#FCCA46",
          "pattern": {
           "shape": ""
          }
         },
         "name": "Holiday",
         "offsetgroup": "Holiday",
         "orientation": "v",
         "showlegend": true,
         "text": [
          15.35
         ],
         "textposition": "auto",
         "x": [
          true
         ],
         "xaxis": "x",
         "y": [
          15.35
         ],
         "yaxis": "y",
         "type": "bar"
        },
        {
         "alignmentgroup": "True",
         "hovertemplate": "topics_cleaned=Holiday<br>year=2020<br>hashtags=%{x}<br>% with retweets=%{text}<extra></extra>",
         "legendgroup": "Holiday",
         "marker": {
          "color": "#FCCA46",
          "pattern": {
           "shape": ""
          }
         },
         "name": "Holiday",
         "offsetgroup": "Holiday",
         "orientation": "v",
         "showlegend": false,
         "text": [
          15.52,
          20.13
         ],
         "textposition": "auto",
         "x": [
          false,
          true
         ],
         "xaxis": "x2",
         "y": [
          15.52,
          20.13
         ],
         "yaxis": "y2",
         "type": "bar"
        },
        {
         "alignmentgroup": "True",
         "hovertemplate": "topics_cleaned=Holiday<br>year=2021<br>hashtags=%{x}<br>% with retweets=%{text}<extra></extra>",
         "legendgroup": "Holiday",
         "marker": {
          "color": "#FCCA46",
          "pattern": {
           "shape": ""
          }
         },
         "name": "Holiday",
         "offsetgroup": "Holiday",
         "orientation": "v",
         "showlegend": false,
         "text": [
          17.1,
          25.97
         ],
         "textposition": "auto",
         "x": [
          false,
          true
         ],
         "xaxis": "x3",
         "y": [
          17.1,
          25.97
         ],
         "yaxis": "y3",
         "type": "bar"
        },
        {
         "alignmentgroup": "True",
         "hovertemplate": "topics_cleaned=News<br>year=2020<br>hashtags=%{x}<br>% with retweets=%{text}<extra></extra>",
         "legendgroup": "News",
         "marker": {
          "color": "#ED7B84",
          "pattern": {
           "shape": ""
          }
         },
         "name": "News",
         "offsetgroup": "News",
         "orientation": "v",
         "showlegend": true,
         "text": [
          18.59,
          23.09
         ],
         "textposition": "auto",
         "x": [
          false,
          true
         ],
         "xaxis": "x2",
         "y": [
          18.59,
          23.09
         ],
         "yaxis": "y2",
         "type": "bar"
        },
        {
         "alignmentgroup": "True",
         "hovertemplate": "topics_cleaned=News<br>year=2021<br>hashtags=%{x}<br>% with retweets=%{text}<extra></extra>",
         "legendgroup": "News",
         "marker": {
          "color": "#ED7B84",
          "pattern": {
           "shape": ""
          }
         },
         "name": "News",
         "offsetgroup": "News",
         "orientation": "v",
         "showlegend": false,
         "text": [
          18.59,
          26.65
         ],
         "textposition": "auto",
         "x": [
          false,
          true
         ],
         "xaxis": "x3",
         "y": [
          18.59,
          26.65
         ],
         "yaxis": "y3",
         "type": "bar"
        }
       ],
       "layout": {
        "template": {
         "data": {
          "histogram2dcontour": [
           {
            "type": "histogram2dcontour",
            "colorbar": {
             "outlinewidth": 0,
             "ticks": ""
            },
            "colorscale": [
             [
              0.0,
              "#0d0887"
             ],
             [
              0.1111111111111111,
              "#46039f"
             ],
             [
              0.2222222222222222,
              "#7201a8"
             ],
             [
              0.3333333333333333,
              "#9c179e"
             ],
             [
              0.4444444444444444,
              "#bd3786"
             ],
             [
              0.5555555555555556,
              "#d8576b"
             ],
             [
              0.6666666666666666,
              "#ed7953"
             ],
             [
              0.7777777777777778,
              "#fb9f3a"
             ],
             [
              0.8888888888888888,
              "#fdca26"
             ],
             [
              1.0,
              "#f0f921"
             ]
            ]
           }
          ],
          "choropleth": [
           {
            "type": "choropleth",
            "colorbar": {
             "outlinewidth": 0,
             "ticks": ""
            }
           }
          ],
          "histogram2d": [
           {
            "type": "histogram2d",
            "colorbar": {
             "outlinewidth": 0,
             "ticks": ""
            },
            "colorscale": [
             [
              0.0,
              "#0d0887"
             ],
             [
              0.1111111111111111,
              "#46039f"
             ],
             [
              0.2222222222222222,
              "#7201a8"
             ],
             [
              0.3333333333333333,
              "#9c179e"
             ],
             [
              0.4444444444444444,
              "#bd3786"
             ],
             [
              0.5555555555555556,
              "#d8576b"
             ],
             [
              0.6666666666666666,
              "#ed7953"
             ],
             [
              0.7777777777777778,
              "#fb9f3a"
             ],
             [
              0.8888888888888888,
              "#fdca26"
             ],
             [
              1.0,
              "#f0f921"
             ]
            ]
           }
          ],
          "heatmap": [
           {
            "type": "heatmap",
            "colorbar": {
             "outlinewidth": 0,
             "ticks": ""
            },
            "colorscale": [
             [
              0.0,
              "#0d0887"
             ],
             [
              0.1111111111111111,
              "#46039f"
             ],
             [
              0.2222222222222222,
              "#7201a8"
             ],
             [
              0.3333333333333333,
              "#9c179e"
             ],
             [
              0.4444444444444444,
              "#bd3786"
             ],
             [
              0.5555555555555556,
              "#d8576b"
             ],
             [
              0.6666666666666666,
              "#ed7953"
             ],
             [
              0.7777777777777778,
              "#fb9f3a"
             ],
             [
              0.8888888888888888,
              "#fdca26"
             ],
             [
              1.0,
              "#f0f921"
             ]
            ]
           }
          ],
          "heatmapgl": [
           {
            "type": "heatmapgl",
            "colorbar": {
             "outlinewidth": 0,
             "ticks": ""
            },
            "colorscale": [
             [
              0.0,
              "#0d0887"
             ],
             [
              0.1111111111111111,
              "#46039f"
             ],
             [
              0.2222222222222222,
              "#7201a8"
             ],
             [
              0.3333333333333333,
              "#9c179e"
             ],
             [
              0.4444444444444444,
              "#bd3786"
             ],
             [
              0.5555555555555556,
              "#d8576b"
             ],
             [
              0.6666666666666666,
              "#ed7953"
             ],
             [
              0.7777777777777778,
              "#fb9f3a"
             ],
             [
              0.8888888888888888,
              "#fdca26"
             ],
             [
              1.0,
              "#f0f921"
             ]
            ]
           }
          ],
          "contourcarpet": [
           {
            "type": "contourcarpet",
            "colorbar": {
             "outlinewidth": 0,
             "ticks": ""
            }
           }
          ],
          "contour": [
           {
            "type": "contour",
            "colorbar": {
             "outlinewidth": 0,
             "ticks": ""
            },
            "colorscale": [
             [
              0.0,
              "#0d0887"
             ],
             [
              0.1111111111111111,
              "#46039f"
             ],
             [
              0.2222222222222222,
              "#7201a8"
             ],
             [
              0.3333333333333333,
              "#9c179e"
             ],
             [
              0.4444444444444444,
              "#bd3786"
             ],
             [
              0.5555555555555556,
              "#d8576b"
             ],
             [
              0.6666666666666666,
              "#ed7953"
             ],
             [
              0.7777777777777778,
              "#fb9f3a"
             ],
             [
              0.8888888888888888,
              "#fdca26"
             ],
             [
              1.0,
              "#f0f921"
             ]
            ]
           }
          ],
          "surface": [
           {
            "type": "surface",
            "colorbar": {
             "outlinewidth": 0,
             "ticks": ""
            },
            "colorscale": [
             [
              0.0,
              "#0d0887"
             ],
             [
              0.1111111111111111,
              "#46039f"
             ],
             [
              0.2222222222222222,
              "#7201a8"
             ],
             [
              0.3333333333333333,
              "#9c179e"
             ],
             [
              0.4444444444444444,
              "#bd3786"
             ],
             [
              0.5555555555555556,
              "#d8576b"
             ],
             [
              0.6666666666666666,
              "#ed7953"
             ],
             [
              0.7777777777777778,
              "#fb9f3a"
             ],
             [
              0.8888888888888888,
              "#fdca26"
             ],
             [
              1.0,
              "#f0f921"
             ]
            ]
           }
          ],
          "mesh3d": [
           {
            "type": "mesh3d",
            "colorbar": {
             "outlinewidth": 0,
             "ticks": ""
            }
           }
          ],
          "scatter": [
           {
            "fillpattern": {
             "fillmode": "overlay",
             "size": 10,
             "solidity": 0.2
            },
            "type": "scatter"
           }
          ],
          "parcoords": [
           {
            "type": "parcoords",
            "line": {
             "colorbar": {
              "outlinewidth": 0,
              "ticks": ""
             }
            }
           }
          ],
          "scatterpolargl": [
           {
            "type": "scatterpolargl",
            "marker": {
             "colorbar": {
              "outlinewidth": 0,
              "ticks": ""
             }
            }
           }
          ],
          "bar": [
           {
            "error_x": {
             "color": "#2a3f5f"
            },
            "error_y": {
             "color": "#2a3f5f"
            },
            "marker": {
             "line": {
              "color": "#E5ECF6",
              "width": 0.5
             },
             "pattern": {
              "fillmode": "overlay",
              "size": 10,
              "solidity": 0.2
             }
            },
            "type": "bar"
           }
          ],
          "scattergeo": [
           {
            "type": "scattergeo",
            "marker": {
             "colorbar": {
              "outlinewidth": 0,
              "ticks": ""
             }
            }
           }
          ],
          "scatterpolar": [
           {
            "type": "scatterpolar",
            "marker": {
             "colorbar": {
              "outlinewidth": 0,
              "ticks": ""
             }
            }
           }
          ],
          "histogram": [
           {
            "marker": {
             "pattern": {
              "fillmode": "overlay",
              "size": 10,
              "solidity": 0.2
             }
            },
            "type": "histogram"
           }
          ],
          "scattergl": [
           {
            "type": "scattergl",
            "marker": {
             "colorbar": {
              "outlinewidth": 0,
              "ticks": ""
             }
            }
           }
          ],
          "scatter3d": [
           {
            "type": "scatter3d",
            "line": {
             "colorbar": {
              "outlinewidth": 0,
              "ticks": ""
             }
            },
            "marker": {
             "colorbar": {
              "outlinewidth": 0,
              "ticks": ""
             }
            }
           }
          ],
          "scattermapbox": [
           {
            "type": "scattermapbox",
            "marker": {
             "colorbar": {
              "outlinewidth": 0,
              "ticks": ""
             }
            }
           }
          ],
          "scatterternary": [
           {
            "type": "scatterternary",
            "marker": {
             "colorbar": {
              "outlinewidth": 0,
              "ticks": ""
             }
            }
           }
          ],
          "scattercarpet": [
           {
            "type": "scattercarpet",
            "marker": {
             "colorbar": {
              "outlinewidth": 0,
              "ticks": ""
             }
            }
           }
          ],
          "carpet": [
           {
            "aaxis": {
             "endlinecolor": "#2a3f5f",
             "gridcolor": "white",
             "linecolor": "white",
             "minorgridcolor": "white",
             "startlinecolor": "#2a3f5f"
            },
            "baxis": {
             "endlinecolor": "#2a3f5f",
             "gridcolor": "white",
             "linecolor": "white",
             "minorgridcolor": "white",
             "startlinecolor": "#2a3f5f"
            },
            "type": "carpet"
           }
          ],
          "table": [
           {
            "cells": {
             "fill": {
              "color": "#EBF0F8"
             },
             "line": {
              "color": "white"
             }
            },
            "header": {
             "fill": {
              "color": "#C8D4E3"
             },
             "line": {
              "color": "white"
             }
            },
            "type": "table"
           }
          ],
          "barpolar": [
           {
            "marker": {
             "line": {
              "color": "#E5ECF6",
              "width": 0.5
             },
             "pattern": {
              "fillmode": "overlay",
              "size": 10,
              "solidity": 0.2
             }
            },
            "type": "barpolar"
           }
          ],
          "pie": [
           {
            "automargin": true,
            "type": "pie"
           }
          ]
         },
         "layout": {
          "autotypenumbers": "strict",
          "colorway": [
           "#636efa",
           "#EF553B",
           "#00cc96",
           "#ab63fa",
           "#FFA15A",
           "#19d3f3",
           "#FF6692",
           "#B6E880",
           "#FF97FF",
           "#FECB52"
          ],
          "font": {
           "color": "#2a3f5f"
          },
          "hovermode": "closest",
          "hoverlabel": {
           "align": "left"
          },
          "paper_bgcolor": "white",
          "plot_bgcolor": "#E5ECF6",
          "polar": {
           "bgcolor": "#E5ECF6",
           "angularaxis": {
            "gridcolor": "white",
            "linecolor": "white",
            "ticks": ""
           },
           "radialaxis": {
            "gridcolor": "white",
            "linecolor": "white",
            "ticks": ""
           }
          },
          "ternary": {
           "bgcolor": "#E5ECF6",
           "aaxis": {
            "gridcolor": "white",
            "linecolor": "white",
            "ticks": ""
           },
           "baxis": {
            "gridcolor": "white",
            "linecolor": "white",
            "ticks": ""
           },
           "caxis": {
            "gridcolor": "white",
            "linecolor": "white",
            "ticks": ""
           }
          },
          "coloraxis": {
           "colorbar": {
            "outlinewidth": 0,
            "ticks": ""
           }
          },
          "colorscale": {
           "sequential": [
            [
             0.0,
             "#0d0887"
            ],
            [
             0.1111111111111111,
             "#46039f"
            ],
            [
             0.2222222222222222,
             "#7201a8"
            ],
            [
             0.3333333333333333,
             "#9c179e"
            ],
            [
             0.4444444444444444,
             "#bd3786"
            ],
            [
             0.5555555555555556,
             "#d8576b"
            ],
            [
             0.6666666666666666,
             "#ed7953"
            ],
            [
             0.7777777777777778,
             "#fb9f3a"
            ],
            [
             0.8888888888888888,
             "#fdca26"
            ],
            [
             1.0,
             "#f0f921"
            ]
           ],
           "sequentialminus": [
            [
             0.0,
             "#0d0887"
            ],
            [
             0.1111111111111111,
             "#46039f"
            ],
            [
             0.2222222222222222,
             "#7201a8"
            ],
            [
             0.3333333333333333,
             "#9c179e"
            ],
            [
             0.4444444444444444,
             "#bd3786"
            ],
            [
             0.5555555555555556,
             "#d8576b"
            ],
            [
             0.6666666666666666,
             "#ed7953"
            ],
            [
             0.7777777777777778,
             "#fb9f3a"
            ],
            [
             0.8888888888888888,
             "#fdca26"
            ],
            [
             1.0,
             "#f0f921"
            ]
           ],
           "diverging": [
            [
             0,
             "#8e0152"
            ],
            [
             0.1,
             "#c51b7d"
            ],
            [
             0.2,
             "#de77ae"
            ],
            [
             0.3,
             "#f1b6da"
            ],
            [
             0.4,
             "#fde0ef"
            ],
            [
             0.5,
             "#f7f7f7"
            ],
            [
             0.6,
             "#e6f5d0"
            ],
            [
             0.7,
             "#b8e186"
            ],
            [
             0.8,
             "#7fbc41"
            ],
            [
             0.9,
             "#4d9221"
            ],
            [
             1,
             "#276419"
            ]
           ]
          },
          "xaxis": {
           "gridcolor": "white",
           "linecolor": "white",
           "ticks": "",
           "title": {
            "standoff": 15
           },
           "zerolinecolor": "white",
           "automargin": true,
           "zerolinewidth": 2
          },
          "yaxis": {
           "gridcolor": "white",
           "linecolor": "white",
           "ticks": "",
           "title": {
            "standoff": 15
           },
           "zerolinecolor": "white",
           "automargin": true,
           "zerolinewidth": 2
          },
          "scene": {
           "xaxis": {
            "backgroundcolor": "#E5ECF6",
            "gridcolor": "white",
            "linecolor": "white",
            "showbackground": true,
            "ticks": "",
            "zerolinecolor": "white",
            "gridwidth": 2
           },
           "yaxis": {
            "backgroundcolor": "#E5ECF6",
            "gridcolor": "white",
            "linecolor": "white",
            "showbackground": true,
            "ticks": "",
            "zerolinecolor": "white",
            "gridwidth": 2
           },
           "zaxis": {
            "backgroundcolor": "#E5ECF6",
            "gridcolor": "white",
            "linecolor": "white",
            "showbackground": true,
            "ticks": "",
            "zerolinecolor": "white",
            "gridwidth": 2
           }
          },
          "shapedefaults": {
           "line": {
            "color": "#2a3f5f"
           }
          },
          "annotationdefaults": {
           "arrowcolor": "#2a3f5f",
           "arrowhead": 0,
           "arrowwidth": 1
          },
          "geo": {
           "bgcolor": "white",
           "landcolor": "#E5ECF6",
           "subunitcolor": "white",
           "showland": true,
           "showlakes": true,
           "lakecolor": "white"
          },
          "title": {
           "x": 0.05
          },
          "mapbox": {
           "style": "light"
          }
         }
        },
        "xaxis": {
         "anchor": "y",
         "domain": [
          0.0,
          0.31999999999999995
         ],
         "title": {
          "text": "hashtags"
         },
         "categoryorder": "array",
         "categoryarray": [
          "Other",
          "Person",
          "TV and Movies",
          "Entities",
          "Interest and Hobbies",
          "Sport",
          "Brand",
          "Music",
          "Video Game",
          "Political",
          "Book",
          "Holiday",
          "News"
         ]
        },
        "yaxis": {
         "anchor": "x",
         "domain": [
          0.0,
          1.0
         ],
         "title": {
          "text": "% with retweets"
         }
        },
        "xaxis2": {
         "anchor": "y2",
         "domain": [
          0.33999999999999997,
          0.6599999999999999
         ],
         "matches": "x",
         "title": {
          "text": "hashtags"
         },
         "categoryorder": "array",
         "categoryarray": [
          "Other",
          "Person",
          "TV and Movies",
          "Entities",
          "Interest and Hobbies",
          "Sport",
          "Brand",
          "Music",
          "Video Game",
          "Political",
          "Book",
          "Holiday",
          "News"
         ]
        },
        "yaxis2": {
         "anchor": "x2",
         "domain": [
          0.0,
          1.0
         ],
         "matches": "y",
         "showticklabels": false,
         "title": {
          "text": "% with retweets"
         }
        },
        "xaxis3": {
         "anchor": "y3",
         "domain": [
          0.6799999999999999,
          0.9999999999999999
         ],
         "matches": "x",
         "title": {
          "text": "hashtags"
         },
         "categoryorder": "array",
         "categoryarray": [
          "Other",
          "Person",
          "TV and Movies",
          "Entities",
          "Interest and Hobbies",
          "Sport",
          "Brand",
          "Music",
          "Video Game",
          "Political",
          "Book",
          "Holiday",
          "News"
         ]
        },
        "yaxis3": {
         "anchor": "x3",
         "domain": [
          0.0,
          1.0
         ],
         "matches": "y",
         "showticklabels": false,
         "title": {
          "text": "% with retweets"
         }
        },
        "annotations": [
         {
          "font": {},
          "showarrow": false,
          "text": "year=2019",
          "x": 0.15999999999999998,
          "xanchor": "center",
          "xref": "paper",
          "y": 1.0,
          "yanchor": "bottom",
          "yref": "paper"
         },
         {
          "font": {},
          "showarrow": false,
          "text": "year=2020",
          "x": 0.49999999999999994,
          "xanchor": "center",
          "xref": "paper",
          "y": 1.0,
          "yanchor": "bottom",
          "yref": "paper"
         },
         {
          "font": {},
          "showarrow": false,
          "text": "year=2021",
          "x": 0.8399999999999999,
          "xanchor": "center",
          "xref": "paper",
          "y": 1.0,
          "yanchor": "bottom",
          "yref": "paper"
         }
        ],
        "legend": {
         "title": {
          "text": "topics_cleaned"
         },
         "tracegroupgap": 0
        },
        "margin": {
         "t": 60
        },
        "barmode": "stack",
        "title": {
         "text": "Tweet sentiment by topic and corresponding % retweet count"
        },
        "width": 900,
        "height": 500
       },
       "config": {
        "plotlyServerURL": "https://plot.ly"
       }
      },
      "text/html": "<div>                            <div id=\"ed51b7e4-9329-4caf-8619-123cc758131c\" class=\"plotly-graph-div\" style=\"height:500px; width:900px;\"></div>            <script type=\"text/javascript\">                require([\"plotly\"], function(Plotly) {                    window.PLOTLYENV=window.PLOTLYENV || {};                                    if (document.getElementById(\"ed51b7e4-9329-4caf-8619-123cc758131c\")) {                    Plotly.newPlot(                        \"ed51b7e4-9329-4caf-8619-123cc758131c\",                        [{\"alignmentgroup\":\"True\",\"hovertemplate\":\"topics_cleaned=Book<br>year=2019<br>hashtags=%{x}<br>% with retweets=%{text}<extra></extra>\",\"legendgroup\":\"Book\",\"marker\":{\"color\":\"#006D77\",\"pattern\":{\"shape\":\"\"}},\"name\":\"Book\",\"offsetgroup\":\"Book\",\"orientation\":\"v\",\"showlegend\":true,\"text\":[24.43,33.77],\"textposition\":\"auto\",\"x\":[false,true],\"xaxis\":\"x\",\"y\":[24.43,33.77],\"yaxis\":\"y\",\"type\":\"bar\"},{\"alignmentgroup\":\"True\",\"hovertemplate\":\"topics_cleaned=Book<br>year=2020<br>hashtags=%{x}<br>% with retweets=%{text}<extra></extra>\",\"legendgroup\":\"Book\",\"marker\":{\"color\":\"#006D77\",\"pattern\":{\"shape\":\"\"}},\"name\":\"Book\",\"offsetgroup\":\"Book\",\"orientation\":\"v\",\"showlegend\":false,\"text\":[12.08,27.66],\"textposition\":\"auto\",\"x\":[false,true],\"xaxis\":\"x2\",\"y\":[12.08,27.66],\"yaxis\":\"y2\",\"type\":\"bar\"},{\"alignmentgroup\":\"True\",\"hovertemplate\":\"topics_cleaned=Book<br>year=2021<br>hashtags=%{x}<br>% with retweets=%{text}<extra></extra>\",\"legendgroup\":\"Book\",\"marker\":{\"color\":\"#006D77\",\"pattern\":{\"shape\":\"\"}},\"name\":\"Book\",\"offsetgroup\":\"Book\",\"orientation\":\"v\",\"showlegend\":false,\"text\":[13.83,29.73],\"textposition\":\"auto\",\"x\":[false,true],\"xaxis\":\"x3\",\"y\":[13.83,29.73],\"yaxis\":\"y3\",\"type\":\"bar\"},{\"alignmentgroup\":\"True\",\"hovertemplate\":\"topics_cleaned=Brand<br>year=2019<br>hashtags=%{x}<br>% with retweets=%{text}<extra></extra>\",\"legendgroup\":\"Brand\",\"marker\":{\"color\":\"#FBD1A2\",\"pattern\":{\"shape\":\"\"}},\"name\":\"Brand\",\"offsetgroup\":\"Brand\",\"orientation\":\"v\",\"showlegend\":true,\"text\":[15.09,20.44],\"textposition\":\"auto\",\"x\":[false,true],\"xaxis\":\"x\",\"y\":[15.09,20.44],\"yaxis\":\"y\",\"type\":\"bar\"},{\"alignmentgroup\":\"True\",\"hovertemplate\":\"topics_cleaned=Brand<br>year=2020<br>hashtags=%{x}<br>% with retweets=%{text}<extra></extra>\",\"legendgroup\":\"Brand\",\"marker\":{\"color\":\"#FBD1A2\",\"pattern\":{\"shape\":\"\"}},\"name\":\"Brand\",\"offsetgroup\":\"Brand\",\"orientation\":\"v\",\"showlegend\":false,\"text\":[14.17,20.63],\"textposition\":\"auto\",\"x\":[false,true],\"xaxis\":\"x2\",\"y\":[14.17,20.63],\"yaxis\":\"y2\",\"type\":\"bar\"},{\"alignmentgroup\":\"True\",\"hovertemplate\":\"topics_cleaned=Brand<br>year=2021<br>hashtags=%{x}<br>% with retweets=%{text}<extra></extra>\",\"legendgroup\":\"Brand\",\"marker\":{\"color\":\"#FBD1A2\",\"pattern\":{\"shape\":\"\"}},\"name\":\"Brand\",\"offsetgroup\":\"Brand\",\"orientation\":\"v\",\"showlegend\":false,\"text\":[14.22,21.97],\"textposition\":\"auto\",\"x\":[false,true],\"xaxis\":\"x3\",\"y\":[14.22,21.97],\"yaxis\":\"y3\",\"type\":\"bar\"},{\"alignmentgroup\":\"True\",\"hovertemplate\":\"topics_cleaned=Entities<br>year=2019<br>hashtags=%{x}<br>% with retweets=%{text}<extra></extra>\",\"legendgroup\":\"Entities\",\"marker\":{\"color\":\"#7DCFB6\",\"pattern\":{\"shape\":\"\"}},\"name\":\"Entities\",\"offsetgroup\":\"Entities\",\"orientation\":\"v\",\"showlegend\":true,\"text\":[14.14,18.42],\"textposition\":\"auto\",\"x\":[false,true],\"xaxis\":\"x\",\"y\":[14.14,18.42],\"yaxis\":\"y\",\"type\":\"bar\"},{\"alignmentgroup\":\"True\",\"hovertemplate\":\"topics_cleaned=Entities<br>year=2020<br>hashtags=%{x}<br>% with retweets=%{text}<extra></extra>\",\"legendgroup\":\"Entities\",\"marker\":{\"color\":\"#7DCFB6\",\"pattern\":{\"shape\":\"\"}},\"name\":\"Entities\",\"offsetgroup\":\"Entities\",\"orientation\":\"v\",\"showlegend\":false,\"text\":[13.1,18.83],\"textposition\":\"auto\",\"x\":[false,true],\"xaxis\":\"x2\",\"y\":[13.1,18.83],\"yaxis\":\"y2\",\"type\":\"bar\"},{\"alignmentgroup\":\"True\",\"hovertemplate\":\"topics_cleaned=Entities<br>year=2021<br>hashtags=%{x}<br>% with retweets=%{text}<extra></extra>\",\"legendgroup\":\"Entities\",\"marker\":{\"color\":\"#7DCFB6\",\"pattern\":{\"shape\":\"\"}},\"name\":\"Entities\",\"offsetgroup\":\"Entities\",\"orientation\":\"v\",\"showlegend\":false,\"text\":[13.34,24.7],\"textposition\":\"auto\",\"x\":[false,true],\"xaxis\":\"x3\",\"y\":[13.34,24.7],\"yaxis\":\"y3\",\"type\":\"bar\"},{\"alignmentgroup\":\"True\",\"hovertemplate\":\"topics_cleaned=Interest and Hobbies<br>year=2019<br>hashtags=%{x}<br>% with retweets=%{text}<extra></extra>\",\"legendgroup\":\"Interest and Hobbies\",\"marker\":{\"color\":\"#00B2CA\",\"pattern\":{\"shape\":\"\"}},\"name\":\"Interest and Hobbies\",\"offsetgroup\":\"Interest and Hobbies\",\"orientation\":\"v\",\"showlegend\":true,\"text\":[14.95,20.25],\"textposition\":\"auto\",\"x\":[false,true],\"xaxis\":\"x\",\"y\":[14.95,20.25],\"yaxis\":\"y\",\"type\":\"bar\"},{\"alignmentgroup\":\"True\",\"hovertemplate\":\"topics_cleaned=Interest and Hobbies<br>year=2020<br>hashtags=%{x}<br>% with retweets=%{text}<extra></extra>\",\"legendgroup\":\"Interest and Hobbies\",\"marker\":{\"color\":\"#00B2CA\",\"pattern\":{\"shape\":\"\"}},\"name\":\"Interest and Hobbies\",\"offsetgroup\":\"Interest and Hobbies\",\"orientation\":\"v\",\"showlegend\":false,\"text\":[14.74,18.97],\"textposition\":\"auto\",\"x\":[false,true],\"xaxis\":\"x2\",\"y\":[14.74,18.97],\"yaxis\":\"y2\",\"type\":\"bar\"},{\"alignmentgroup\":\"True\",\"hovertemplate\":\"topics_cleaned=Interest and Hobbies<br>year=2021<br>hashtags=%{x}<br>% with retweets=%{text}<extra></extra>\",\"legendgroup\":\"Interest and Hobbies\",\"marker\":{\"color\":\"#00B2CA\",\"pattern\":{\"shape\":\"\"}},\"name\":\"Interest and Hobbies\",\"offsetgroup\":\"Interest and Hobbies\",\"orientation\":\"v\",\"showlegend\":false,\"text\":[13.43,22.94],\"textposition\":\"auto\",\"x\":[false,true],\"xaxis\":\"x3\",\"y\":[13.43,22.94],\"yaxis\":\"y3\",\"type\":\"bar\"},{\"alignmentgroup\":\"True\",\"hovertemplate\":\"topics_cleaned=Music<br>year=2019<br>hashtags=%{x}<br>% with retweets=%{text}<extra></extra>\",\"legendgroup\":\"Music\",\"marker\":{\"color\":\"#1D4E89\",\"pattern\":{\"shape\":\"\"}},\"name\":\"Music\",\"offsetgroup\":\"Music\",\"orientation\":\"v\",\"showlegend\":true,\"text\":[19.15,19.08],\"textposition\":\"auto\",\"x\":[false,true],\"xaxis\":\"x\",\"y\":[19.15,19.08],\"yaxis\":\"y\",\"type\":\"bar\"},{\"alignmentgroup\":\"True\",\"hovertemplate\":\"topics_cleaned=Music<br>year=2020<br>hashtags=%{x}<br>% with retweets=%{text}<extra></extra>\",\"legendgroup\":\"Music\",\"marker\":{\"color\":\"#1D4E89\",\"pattern\":{\"shape\":\"\"}},\"name\":\"Music\",\"offsetgroup\":\"Music\",\"orientation\":\"v\",\"showlegend\":false,\"text\":[18.07,19.24],\"textposition\":\"auto\",\"x\":[false,true],\"xaxis\":\"x2\",\"y\":[18.07,19.24],\"yaxis\":\"y2\",\"type\":\"bar\"},{\"alignmentgroup\":\"True\",\"hovertemplate\":\"topics_cleaned=Music<br>year=2021<br>hashtags=%{x}<br>% with retweets=%{text}<extra></extra>\",\"legendgroup\":\"Music\",\"marker\":{\"color\":\"#1D4E89\",\"pattern\":{\"shape\":\"\"}},\"name\":\"Music\",\"offsetgroup\":\"Music\",\"orientation\":\"v\",\"showlegend\":false,\"text\":[17.05,25.05],\"textposition\":\"auto\",\"x\":[false,true],\"xaxis\":\"x3\",\"y\":[17.05,25.05],\"yaxis\":\"y3\",\"type\":\"bar\"},{\"alignmentgroup\":\"True\",\"hovertemplate\":\"topics_cleaned=Other<br>year=2019<br>hashtags=%{x}<br>% with retweets=%{text}<extra></extra>\",\"legendgroup\":\"Other\",\"marker\":{\"color\":\"#F79256\",\"pattern\":{\"shape\":\"\"}},\"name\":\"Other\",\"offsetgroup\":\"Other\",\"orientation\":\"v\",\"showlegend\":true,\"text\":[14.34,24.01],\"textposition\":\"auto\",\"x\":[false,true],\"xaxis\":\"x\",\"y\":[14.34,24.01],\"yaxis\":\"y\",\"type\":\"bar\"},{\"alignmentgroup\":\"True\",\"hovertemplate\":\"topics_cleaned=Other<br>year=2020<br>hashtags=%{x}<br>% with retweets=%{text}<extra></extra>\",\"legendgroup\":\"Other\",\"marker\":{\"color\":\"#F79256\",\"pattern\":{\"shape\":\"\"}},\"name\":\"Other\",\"offsetgroup\":\"Other\",\"orientation\":\"v\",\"showlegend\":false,\"text\":[13.74,23.28],\"textposition\":\"auto\",\"x\":[false,true],\"xaxis\":\"x2\",\"y\":[13.74,23.28],\"yaxis\":\"y2\",\"type\":\"bar\"},{\"alignmentgroup\":\"True\",\"hovertemplate\":\"topics_cleaned=Other<br>year=2021<br>hashtags=%{x}<br>% with retweets=%{text}<extra></extra>\",\"legendgroup\":\"Other\",\"marker\":{\"color\":\"#F79256\",\"pattern\":{\"shape\":\"\"}},\"name\":\"Other\",\"offsetgroup\":\"Other\",\"orientation\":\"v\",\"showlegend\":false,\"text\":[12.36,20.68],\"textposition\":\"auto\",\"x\":[false,true],\"xaxis\":\"x3\",\"y\":[12.36,20.68],\"yaxis\":\"y3\",\"type\":\"bar\"},{\"alignmentgroup\":\"True\",\"hovertemplate\":\"topics_cleaned=Person<br>year=2019<br>hashtags=%{x}<br>% with retweets=%{text}<extra></extra>\",\"legendgroup\":\"Person\",\"marker\":{\"color\":\"#aed9e0\",\"pattern\":{\"shape\":\"\"}},\"name\":\"Person\",\"offsetgroup\":\"Person\",\"orientation\":\"v\",\"showlegend\":true,\"text\":[13.81,23.9],\"textposition\":\"auto\",\"x\":[false,true],\"xaxis\":\"x\",\"y\":[13.81,23.9],\"yaxis\":\"y\",\"type\":\"bar\"},{\"alignmentgroup\":\"True\",\"hovertemplate\":\"topics_cleaned=Person<br>year=2020<br>hashtags=%{x}<br>% with retweets=%{text}<extra></extra>\",\"legendgroup\":\"Person\",\"marker\":{\"color\":\"#aed9e0\",\"pattern\":{\"shape\":\"\"}},\"name\":\"Person\",\"offsetgroup\":\"Person\",\"orientation\":\"v\",\"showlegend\":false,\"text\":[13.65,22.83],\"textposition\":\"auto\",\"x\":[false,true],\"xaxis\":\"x2\",\"y\":[13.65,22.83],\"yaxis\":\"y2\",\"type\":\"bar\"},{\"alignmentgroup\":\"True\",\"hovertemplate\":\"topics_cleaned=Person<br>year=2021<br>hashtags=%{x}<br>% with retweets=%{text}<extra></extra>\",\"legendgroup\":\"Person\",\"marker\":{\"color\":\"#aed9e0\",\"pattern\":{\"shape\":\"\"}},\"name\":\"Person\",\"offsetgroup\":\"Person\",\"orientation\":\"v\",\"showlegend\":false,\"text\":[14.72,24.45],\"textposition\":\"auto\",\"x\":[false,true],\"xaxis\":\"x3\",\"y\":[14.72,24.45],\"yaxis\":\"y3\",\"type\":\"bar\"},{\"alignmentgroup\":\"True\",\"hovertemplate\":\"topics_cleaned=Political<br>year=2019<br>hashtags=%{x}<br>% with retweets=%{text}<extra></extra>\",\"legendgroup\":\"Political\",\"marker\":{\"color\":\"#b8f2e6\",\"pattern\":{\"shape\":\"\"}},\"name\":\"Political\",\"offsetgroup\":\"Political\",\"orientation\":\"v\",\"showlegend\":true,\"text\":[13.08,25.97],\"textposition\":\"auto\",\"x\":[false,true],\"xaxis\":\"x\",\"y\":[13.08,25.97],\"yaxis\":\"y\",\"type\":\"bar\"},{\"alignmentgroup\":\"True\",\"hovertemplate\":\"topics_cleaned=Political<br>year=2020<br>hashtags=%{x}<br>% with retweets=%{text}<extra></extra>\",\"legendgroup\":\"Political\",\"marker\":{\"color\":\"#b8f2e6\",\"pattern\":{\"shape\":\"\"}},\"name\":\"Political\",\"offsetgroup\":\"Political\",\"orientation\":\"v\",\"showlegend\":false,\"text\":[14.99,26.39],\"textposition\":\"auto\",\"x\":[false,true],\"xaxis\":\"x2\",\"y\":[14.99,26.39],\"yaxis\":\"y2\",\"type\":\"bar\"},{\"alignmentgroup\":\"True\",\"hovertemplate\":\"topics_cleaned=Political<br>year=2021<br>hashtags=%{x}<br>% with retweets=%{text}<extra></extra>\",\"legendgroup\":\"Political\",\"marker\":{\"color\":\"#b8f2e6\",\"pattern\":{\"shape\":\"\"}},\"name\":\"Political\",\"offsetgroup\":\"Political\",\"orientation\":\"v\",\"showlegend\":false,\"text\":[18.41,29.2],\"textposition\":\"auto\",\"x\":[false,true],\"xaxis\":\"x3\",\"y\":[18.41,29.2],\"yaxis\":\"y3\",\"type\":\"bar\"},{\"alignmentgroup\":\"True\",\"hovertemplate\":\"topics_cleaned=Sport<br>year=2019<br>hashtags=%{x}<br>% with retweets=%{text}<extra></extra>\",\"legendgroup\":\"Sport\",\"marker\":{\"color\":\"#faf3dd\",\"pattern\":{\"shape\":\"\"}},\"name\":\"Sport\",\"offsetgroup\":\"Sport\",\"orientation\":\"v\",\"showlegend\":true,\"text\":[20.2,17.88],\"textposition\":\"auto\",\"x\":[false,true],\"xaxis\":\"x\",\"y\":[20.2,17.88],\"yaxis\":\"y\",\"type\":\"bar\"},{\"alignmentgroup\":\"True\",\"hovertemplate\":\"topics_cleaned=Sport<br>year=2020<br>hashtags=%{x}<br>% with retweets=%{text}<extra></extra>\",\"legendgroup\":\"Sport\",\"marker\":{\"color\":\"#faf3dd\",\"pattern\":{\"shape\":\"\"}},\"name\":\"Sport\",\"offsetgroup\":\"Sport\",\"orientation\":\"v\",\"showlegend\":false,\"text\":[17.59,23.96],\"textposition\":\"auto\",\"x\":[false,true],\"xaxis\":\"x2\",\"y\":[17.59,23.96],\"yaxis\":\"y2\",\"type\":\"bar\"},{\"alignmentgroup\":\"True\",\"hovertemplate\":\"topics_cleaned=Sport<br>year=2021<br>hashtags=%{x}<br>% with retweets=%{text}<extra></extra>\",\"legendgroup\":\"Sport\",\"marker\":{\"color\":\"#faf3dd\",\"pattern\":{\"shape\":\"\"}},\"name\":\"Sport\",\"offsetgroup\":\"Sport\",\"orientation\":\"v\",\"showlegend\":false,\"text\":[21.47,26.66],\"textposition\":\"auto\",\"x\":[false,true],\"xaxis\":\"x3\",\"y\":[21.47,26.66],\"yaxis\":\"y3\",\"type\":\"bar\"},{\"alignmentgroup\":\"True\",\"hovertemplate\":\"topics_cleaned=TV and Movies<br>year=2019<br>hashtags=%{x}<br>% with retweets=%{text}<extra></extra>\",\"legendgroup\":\"TV and Movies\",\"marker\":{\"color\":\"#ffa69e\",\"pattern\":{\"shape\":\"\"}},\"name\":\"TV and Movies\",\"offsetgroup\":\"TV and Movies\",\"orientation\":\"v\",\"showlegend\":true,\"text\":[13.77,20.94],\"textposition\":\"auto\",\"x\":[false,true],\"xaxis\":\"x\",\"y\":[13.77,20.94],\"yaxis\":\"y\",\"type\":\"bar\"},{\"alignmentgroup\":\"True\",\"hovertemplate\":\"topics_cleaned=TV and Movies<br>year=2020<br>hashtags=%{x}<br>% with retweets=%{text}<extra></extra>\",\"legendgroup\":\"TV and Movies\",\"marker\":{\"color\":\"#ffa69e\",\"pattern\":{\"shape\":\"\"}},\"name\":\"TV and Movies\",\"offsetgroup\":\"TV and Movies\",\"orientation\":\"v\",\"showlegend\":false,\"text\":[12.74,18.36],\"textposition\":\"auto\",\"x\":[false,true],\"xaxis\":\"x2\",\"y\":[12.74,18.36],\"yaxis\":\"y2\",\"type\":\"bar\"},{\"alignmentgroup\":\"True\",\"hovertemplate\":\"topics_cleaned=TV and Movies<br>year=2021<br>hashtags=%{x}<br>% with retweets=%{text}<extra></extra>\",\"legendgroup\":\"TV and Movies\",\"marker\":{\"color\":\"#ffa69e\",\"pattern\":{\"shape\":\"\"}},\"name\":\"TV and Movies\",\"offsetgroup\":\"TV and Movies\",\"orientation\":\"v\",\"showlegend\":false,\"text\":[13.51,18.77],\"textposition\":\"auto\",\"x\":[false,true],\"xaxis\":\"x3\",\"y\":[13.51,18.77],\"yaxis\":\"y3\",\"type\":\"bar\"},{\"alignmentgroup\":\"True\",\"hovertemplate\":\"topics_cleaned=Video Game<br>year=2019<br>hashtags=%{x}<br>% with retweets=%{text}<extra></extra>\",\"legendgroup\":\"Video Game\",\"marker\":{\"color\":\"#FE7F2D\",\"pattern\":{\"shape\":\"\"}},\"name\":\"Video Game\",\"offsetgroup\":\"Video Game\",\"orientation\":\"v\",\"showlegend\":true,\"text\":[14.3,null],\"textposition\":\"auto\",\"x\":[false,true],\"xaxis\":\"x\",\"y\":[14.3,null],\"yaxis\":\"y\",\"type\":\"bar\"},{\"alignmentgroup\":\"True\",\"hovertemplate\":\"topics_cleaned=Video Game<br>year=2020<br>hashtags=%{x}<br>% with retweets=%{text}<extra></extra>\",\"legendgroup\":\"Video Game\",\"marker\":{\"color\":\"#FE7F2D\",\"pattern\":{\"shape\":\"\"}},\"name\":\"Video Game\",\"offsetgroup\":\"Video Game\",\"orientation\":\"v\",\"showlegend\":false,\"text\":[14.19,26.75],\"textposition\":\"auto\",\"x\":[false,true],\"xaxis\":\"x2\",\"y\":[14.19,26.75],\"yaxis\":\"y2\",\"type\":\"bar\"},{\"alignmentgroup\":\"True\",\"hovertemplate\":\"topics_cleaned=Video Game<br>year=2021<br>hashtags=%{x}<br>% with retweets=%{text}<extra></extra>\",\"legendgroup\":\"Video Game\",\"marker\":{\"color\":\"#FE7F2D\",\"pattern\":{\"shape\":\"\"}},\"name\":\"Video Game\",\"offsetgroup\":\"Video Game\",\"orientation\":\"v\",\"showlegend\":false,\"text\":[12.28,21.37],\"textposition\":\"auto\",\"x\":[false,true],\"xaxis\":\"x3\",\"y\":[12.28,21.37],\"yaxis\":\"y3\",\"type\":\"bar\"},{\"alignmentgroup\":\"True\",\"hovertemplate\":\"topics_cleaned=Holiday<br>year=2019<br>hashtags=%{x}<br>% with retweets=%{text}<extra></extra>\",\"legendgroup\":\"Holiday\",\"marker\":{\"color\":\"#FCCA46\",\"pattern\":{\"shape\":\"\"}},\"name\":\"Holiday\",\"offsetgroup\":\"Holiday\",\"orientation\":\"v\",\"showlegend\":true,\"text\":[15.35],\"textposition\":\"auto\",\"x\":[true],\"xaxis\":\"x\",\"y\":[15.35],\"yaxis\":\"y\",\"type\":\"bar\"},{\"alignmentgroup\":\"True\",\"hovertemplate\":\"topics_cleaned=Holiday<br>year=2020<br>hashtags=%{x}<br>% with retweets=%{text}<extra></extra>\",\"legendgroup\":\"Holiday\",\"marker\":{\"color\":\"#FCCA46\",\"pattern\":{\"shape\":\"\"}},\"name\":\"Holiday\",\"offsetgroup\":\"Holiday\",\"orientation\":\"v\",\"showlegend\":false,\"text\":[15.52,20.13],\"textposition\":\"auto\",\"x\":[false,true],\"xaxis\":\"x2\",\"y\":[15.52,20.13],\"yaxis\":\"y2\",\"type\":\"bar\"},{\"alignmentgroup\":\"True\",\"hovertemplate\":\"topics_cleaned=Holiday<br>year=2021<br>hashtags=%{x}<br>% with retweets=%{text}<extra></extra>\",\"legendgroup\":\"Holiday\",\"marker\":{\"color\":\"#FCCA46\",\"pattern\":{\"shape\":\"\"}},\"name\":\"Holiday\",\"offsetgroup\":\"Holiday\",\"orientation\":\"v\",\"showlegend\":false,\"text\":[17.1,25.97],\"textposition\":\"auto\",\"x\":[false,true],\"xaxis\":\"x3\",\"y\":[17.1,25.97],\"yaxis\":\"y3\",\"type\":\"bar\"},{\"alignmentgroup\":\"True\",\"hovertemplate\":\"topics_cleaned=News<br>year=2020<br>hashtags=%{x}<br>% with retweets=%{text}<extra></extra>\",\"legendgroup\":\"News\",\"marker\":{\"color\":\"#ED7B84\",\"pattern\":{\"shape\":\"\"}},\"name\":\"News\",\"offsetgroup\":\"News\",\"orientation\":\"v\",\"showlegend\":true,\"text\":[18.59,23.09],\"textposition\":\"auto\",\"x\":[false,true],\"xaxis\":\"x2\",\"y\":[18.59,23.09],\"yaxis\":\"y2\",\"type\":\"bar\"},{\"alignmentgroup\":\"True\",\"hovertemplate\":\"topics_cleaned=News<br>year=2021<br>hashtags=%{x}<br>% with retweets=%{text}<extra></extra>\",\"legendgroup\":\"News\",\"marker\":{\"color\":\"#ED7B84\",\"pattern\":{\"shape\":\"\"}},\"name\":\"News\",\"offsetgroup\":\"News\",\"orientation\":\"v\",\"showlegend\":false,\"text\":[18.59,26.65],\"textposition\":\"auto\",\"x\":[false,true],\"xaxis\":\"x3\",\"y\":[18.59,26.65],\"yaxis\":\"y3\",\"type\":\"bar\"}],                        {\"template\":{\"data\":{\"histogram2dcontour\":[{\"type\":\"histogram2dcontour\",\"colorbar\":{\"outlinewidth\":0,\"ticks\":\"\"},\"colorscale\":[[0.0,\"#0d0887\"],[0.1111111111111111,\"#46039f\"],[0.2222222222222222,\"#7201a8\"],[0.3333333333333333,\"#9c179e\"],[0.4444444444444444,\"#bd3786\"],[0.5555555555555556,\"#d8576b\"],[0.6666666666666666,\"#ed7953\"],[0.7777777777777778,\"#fb9f3a\"],[0.8888888888888888,\"#fdca26\"],[1.0,\"#f0f921\"]]}],\"choropleth\":[{\"type\":\"choropleth\",\"colorbar\":{\"outlinewidth\":0,\"ticks\":\"\"}}],\"histogram2d\":[{\"type\":\"histogram2d\",\"colorbar\":{\"outlinewidth\":0,\"ticks\":\"\"},\"colorscale\":[[0.0,\"#0d0887\"],[0.1111111111111111,\"#46039f\"],[0.2222222222222222,\"#7201a8\"],[0.3333333333333333,\"#9c179e\"],[0.4444444444444444,\"#bd3786\"],[0.5555555555555556,\"#d8576b\"],[0.6666666666666666,\"#ed7953\"],[0.7777777777777778,\"#fb9f3a\"],[0.8888888888888888,\"#fdca26\"],[1.0,\"#f0f921\"]]}],\"heatmap\":[{\"type\":\"heatmap\",\"colorbar\":{\"outlinewidth\":0,\"ticks\":\"\"},\"colorscale\":[[0.0,\"#0d0887\"],[0.1111111111111111,\"#46039f\"],[0.2222222222222222,\"#7201a8\"],[0.3333333333333333,\"#9c179e\"],[0.4444444444444444,\"#bd3786\"],[0.5555555555555556,\"#d8576b\"],[0.6666666666666666,\"#ed7953\"],[0.7777777777777778,\"#fb9f3a\"],[0.8888888888888888,\"#fdca26\"],[1.0,\"#f0f921\"]]}],\"heatmapgl\":[{\"type\":\"heatmapgl\",\"colorbar\":{\"outlinewidth\":0,\"ticks\":\"\"},\"colorscale\":[[0.0,\"#0d0887\"],[0.1111111111111111,\"#46039f\"],[0.2222222222222222,\"#7201a8\"],[0.3333333333333333,\"#9c179e\"],[0.4444444444444444,\"#bd3786\"],[0.5555555555555556,\"#d8576b\"],[0.6666666666666666,\"#ed7953\"],[0.7777777777777778,\"#fb9f3a\"],[0.8888888888888888,\"#fdca26\"],[1.0,\"#f0f921\"]]}],\"contourcarpet\":[{\"type\":\"contourcarpet\",\"colorbar\":{\"outlinewidth\":0,\"ticks\":\"\"}}],\"contour\":[{\"type\":\"contour\",\"colorbar\":{\"outlinewidth\":0,\"ticks\":\"\"},\"colorscale\":[[0.0,\"#0d0887\"],[0.1111111111111111,\"#46039f\"],[0.2222222222222222,\"#7201a8\"],[0.3333333333333333,\"#9c179e\"],[0.4444444444444444,\"#bd3786\"],[0.5555555555555556,\"#d8576b\"],[0.6666666666666666,\"#ed7953\"],[0.7777777777777778,\"#fb9f3a\"],[0.8888888888888888,\"#fdca26\"],[1.0,\"#f0f921\"]]}],\"surface\":[{\"type\":\"surface\",\"colorbar\":{\"outlinewidth\":0,\"ticks\":\"\"},\"colorscale\":[[0.0,\"#0d0887\"],[0.1111111111111111,\"#46039f\"],[0.2222222222222222,\"#7201a8\"],[0.3333333333333333,\"#9c179e\"],[0.4444444444444444,\"#bd3786\"],[0.5555555555555556,\"#d8576b\"],[0.6666666666666666,\"#ed7953\"],[0.7777777777777778,\"#fb9f3a\"],[0.8888888888888888,\"#fdca26\"],[1.0,\"#f0f921\"]]}],\"mesh3d\":[{\"type\":\"mesh3d\",\"colorbar\":{\"outlinewidth\":0,\"ticks\":\"\"}}],\"scatter\":[{\"fillpattern\":{\"fillmode\":\"overlay\",\"size\":10,\"solidity\":0.2},\"type\":\"scatter\"}],\"parcoords\":[{\"type\":\"parcoords\",\"line\":{\"colorbar\":{\"outlinewidth\":0,\"ticks\":\"\"}}}],\"scatterpolargl\":[{\"type\":\"scatterpolargl\",\"marker\":{\"colorbar\":{\"outlinewidth\":0,\"ticks\":\"\"}}}],\"bar\":[{\"error_x\":{\"color\":\"#2a3f5f\"},\"error_y\":{\"color\":\"#2a3f5f\"},\"marker\":{\"line\":{\"color\":\"#E5ECF6\",\"width\":0.5},\"pattern\":{\"fillmode\":\"overlay\",\"size\":10,\"solidity\":0.2}},\"type\":\"bar\"}],\"scattergeo\":[{\"type\":\"scattergeo\",\"marker\":{\"colorbar\":{\"outlinewidth\":0,\"ticks\":\"\"}}}],\"scatterpolar\":[{\"type\":\"scatterpolar\",\"marker\":{\"colorbar\":{\"outlinewidth\":0,\"ticks\":\"\"}}}],\"histogram\":[{\"marker\":{\"pattern\":{\"fillmode\":\"overlay\",\"size\":10,\"solidity\":0.2}},\"type\":\"histogram\"}],\"scattergl\":[{\"type\":\"scattergl\",\"marker\":{\"colorbar\":{\"outlinewidth\":0,\"ticks\":\"\"}}}],\"scatter3d\":[{\"type\":\"scatter3d\",\"line\":{\"colorbar\":{\"outlinewidth\":0,\"ticks\":\"\"}},\"marker\":{\"colorbar\":{\"outlinewidth\":0,\"ticks\":\"\"}}}],\"scattermapbox\":[{\"type\":\"scattermapbox\",\"marker\":{\"colorbar\":{\"outlinewidth\":0,\"ticks\":\"\"}}}],\"scatterternary\":[{\"type\":\"scatterternary\",\"marker\":{\"colorbar\":{\"outlinewidth\":0,\"ticks\":\"\"}}}],\"scattercarpet\":[{\"type\":\"scattercarpet\",\"marker\":{\"colorbar\":{\"outlinewidth\":0,\"ticks\":\"\"}}}],\"carpet\":[{\"aaxis\":{\"endlinecolor\":\"#2a3f5f\",\"gridcolor\":\"white\",\"linecolor\":\"white\",\"minorgridcolor\":\"white\",\"startlinecolor\":\"#2a3f5f\"},\"baxis\":{\"endlinecolor\":\"#2a3f5f\",\"gridcolor\":\"white\",\"linecolor\":\"white\",\"minorgridcolor\":\"white\",\"startlinecolor\":\"#2a3f5f\"},\"type\":\"carpet\"}],\"table\":[{\"cells\":{\"fill\":{\"color\":\"#EBF0F8\"},\"line\":{\"color\":\"white\"}},\"header\":{\"fill\":{\"color\":\"#C8D4E3\"},\"line\":{\"color\":\"white\"}},\"type\":\"table\"}],\"barpolar\":[{\"marker\":{\"line\":{\"color\":\"#E5ECF6\",\"width\":0.5},\"pattern\":{\"fillmode\":\"overlay\",\"size\":10,\"solidity\":0.2}},\"type\":\"barpolar\"}],\"pie\":[{\"automargin\":true,\"type\":\"pie\"}]},\"layout\":{\"autotypenumbers\":\"strict\",\"colorway\":[\"#636efa\",\"#EF553B\",\"#00cc96\",\"#ab63fa\",\"#FFA15A\",\"#19d3f3\",\"#FF6692\",\"#B6E880\",\"#FF97FF\",\"#FECB52\"],\"font\":{\"color\":\"#2a3f5f\"},\"hovermode\":\"closest\",\"hoverlabel\":{\"align\":\"left\"},\"paper_bgcolor\":\"white\",\"plot_bgcolor\":\"#E5ECF6\",\"polar\":{\"bgcolor\":\"#E5ECF6\",\"angularaxis\":{\"gridcolor\":\"white\",\"linecolor\":\"white\",\"ticks\":\"\"},\"radialaxis\":{\"gridcolor\":\"white\",\"linecolor\":\"white\",\"ticks\":\"\"}},\"ternary\":{\"bgcolor\":\"#E5ECF6\",\"aaxis\":{\"gridcolor\":\"white\",\"linecolor\":\"white\",\"ticks\":\"\"},\"baxis\":{\"gridcolor\":\"white\",\"linecolor\":\"white\",\"ticks\":\"\"},\"caxis\":{\"gridcolor\":\"white\",\"linecolor\":\"white\",\"ticks\":\"\"}},\"coloraxis\":{\"colorbar\":{\"outlinewidth\":0,\"ticks\":\"\"}},\"colorscale\":{\"sequential\":[[0.0,\"#0d0887\"],[0.1111111111111111,\"#46039f\"],[0.2222222222222222,\"#7201a8\"],[0.3333333333333333,\"#9c179e\"],[0.4444444444444444,\"#bd3786\"],[0.5555555555555556,\"#d8576b\"],[0.6666666666666666,\"#ed7953\"],[0.7777777777777778,\"#fb9f3a\"],[0.8888888888888888,\"#fdca26\"],[1.0,\"#f0f921\"]],\"sequentialminus\":[[0.0,\"#0d0887\"],[0.1111111111111111,\"#46039f\"],[0.2222222222222222,\"#7201a8\"],[0.3333333333333333,\"#9c179e\"],[0.4444444444444444,\"#bd3786\"],[0.5555555555555556,\"#d8576b\"],[0.6666666666666666,\"#ed7953\"],[0.7777777777777778,\"#fb9f3a\"],[0.8888888888888888,\"#fdca26\"],[1.0,\"#f0f921\"]],\"diverging\":[[0,\"#8e0152\"],[0.1,\"#c51b7d\"],[0.2,\"#de77ae\"],[0.3,\"#f1b6da\"],[0.4,\"#fde0ef\"],[0.5,\"#f7f7f7\"],[0.6,\"#e6f5d0\"],[0.7,\"#b8e186\"],[0.8,\"#7fbc41\"],[0.9,\"#4d9221\"],[1,\"#276419\"]]},\"xaxis\":{\"gridcolor\":\"white\",\"linecolor\":\"white\",\"ticks\":\"\",\"title\":{\"standoff\":15},\"zerolinecolor\":\"white\",\"automargin\":true,\"zerolinewidth\":2},\"yaxis\":{\"gridcolor\":\"white\",\"linecolor\":\"white\",\"ticks\":\"\",\"title\":{\"standoff\":15},\"zerolinecolor\":\"white\",\"automargin\":true,\"zerolinewidth\":2},\"scene\":{\"xaxis\":{\"backgroundcolor\":\"#E5ECF6\",\"gridcolor\":\"white\",\"linecolor\":\"white\",\"showbackground\":true,\"ticks\":\"\",\"zerolinecolor\":\"white\",\"gridwidth\":2},\"yaxis\":{\"backgroundcolor\":\"#E5ECF6\",\"gridcolor\":\"white\",\"linecolor\":\"white\",\"showbackground\":true,\"ticks\":\"\",\"zerolinecolor\":\"white\",\"gridwidth\":2},\"zaxis\":{\"backgroundcolor\":\"#E5ECF6\",\"gridcolor\":\"white\",\"linecolor\":\"white\",\"showbackground\":true,\"ticks\":\"\",\"zerolinecolor\":\"white\",\"gridwidth\":2}},\"shapedefaults\":{\"line\":{\"color\":\"#2a3f5f\"}},\"annotationdefaults\":{\"arrowcolor\":\"#2a3f5f\",\"arrowhead\":0,\"arrowwidth\":1},\"geo\":{\"bgcolor\":\"white\",\"landcolor\":\"#E5ECF6\",\"subunitcolor\":\"white\",\"showland\":true,\"showlakes\":true,\"lakecolor\":\"white\"},\"title\":{\"x\":0.05},\"mapbox\":{\"style\":\"light\"}}},\"xaxis\":{\"anchor\":\"y\",\"domain\":[0.0,0.31999999999999995],\"title\":{\"text\":\"hashtags\"},\"categoryorder\":\"array\",\"categoryarray\":[\"Other\",\"Person\",\"TV and Movies\",\"Entities\",\"Interest and Hobbies\",\"Sport\",\"Brand\",\"Music\",\"Video Game\",\"Political\",\"Book\",\"Holiday\",\"News\"]},\"yaxis\":{\"anchor\":\"x\",\"domain\":[0.0,1.0],\"title\":{\"text\":\"% with retweets\"}},\"xaxis2\":{\"anchor\":\"y2\",\"domain\":[0.33999999999999997,0.6599999999999999],\"matches\":\"x\",\"title\":{\"text\":\"hashtags\"},\"categoryorder\":\"array\",\"categoryarray\":[\"Other\",\"Person\",\"TV and Movies\",\"Entities\",\"Interest and Hobbies\",\"Sport\",\"Brand\",\"Music\",\"Video Game\",\"Political\",\"Book\",\"Holiday\",\"News\"]},\"yaxis2\":{\"anchor\":\"x2\",\"domain\":[0.0,1.0],\"matches\":\"y\",\"showticklabels\":false,\"title\":{\"text\":\"% with retweets\"}},\"xaxis3\":{\"anchor\":\"y3\",\"domain\":[0.6799999999999999,0.9999999999999999],\"matches\":\"x\",\"title\":{\"text\":\"hashtags\"},\"categoryorder\":\"array\",\"categoryarray\":[\"Other\",\"Person\",\"TV and Movies\",\"Entities\",\"Interest and Hobbies\",\"Sport\",\"Brand\",\"Music\",\"Video Game\",\"Political\",\"Book\",\"Holiday\",\"News\"]},\"yaxis3\":{\"anchor\":\"x3\",\"domain\":[0.0,1.0],\"matches\":\"y\",\"showticklabels\":false,\"title\":{\"text\":\"% with retweets\"}},\"annotations\":[{\"font\":{},\"showarrow\":false,\"text\":\"year=2019\",\"x\":0.15999999999999998,\"xanchor\":\"center\",\"xref\":\"paper\",\"y\":1.0,\"yanchor\":\"bottom\",\"yref\":\"paper\"},{\"font\":{},\"showarrow\":false,\"text\":\"year=2020\",\"x\":0.49999999999999994,\"xanchor\":\"center\",\"xref\":\"paper\",\"y\":1.0,\"yanchor\":\"bottom\",\"yref\":\"paper\"},{\"font\":{},\"showarrow\":false,\"text\":\"year=2021\",\"x\":0.8399999999999999,\"xanchor\":\"center\",\"xref\":\"paper\",\"y\":1.0,\"yanchor\":\"bottom\",\"yref\":\"paper\"}],\"legend\":{\"title\":{\"text\":\"topics_cleaned\"},\"tracegroupgap\":0},\"margin\":{\"t\":60},\"barmode\":\"stack\",\"title\":{\"text\":\"Tweet sentiment by topic and corresponding % retweet count\"},\"width\":900,\"height\":500},                        {\"responsive\": true}                    ).then(function(){\n                            \nvar gd = document.getElementById('ed51b7e4-9329-4caf-8619-123cc758131c');\nvar x = new MutationObserver(function (mutations, observer) {{\n        var display = window.getComputedStyle(gd).display;\n        if (!display || display === 'none') {{\n            console.log([gd, 'removed!']);\n            Plotly.purge(gd);\n            observer.disconnect();\n        }}\n}});\n\n// Listen for the removal of the full notebook cells\nvar notebookContainer = gd.closest('#notebook-container');\nif (notebookContainer) {{\n    x.observe(notebookContainer, {childList: true});\n}}\n\n// Listen for the clearing of the current output cell\nvar outputEl = gd.closest('.output');\nif (outputEl) {{\n    x.observe(outputEl, {childList: true});\n}}\n\n                        })                };                });            </script>        </div>"
     },
     "metadata": {},
     "output_type": "display_data"
    }
   ],
   "source": [
    "multi_label_chart(df_analysis, \"topics_cleaned\", topics_categories, \"hashtags\", \"% with retweets\", \"hashtags\", \"% with retweets\", \"Tweet sentiment by topic and corresponding % retweet count\", offline_graphs)"
   ],
   "metadata": {
    "collapsed": false,
    "pycharm": {
     "name": "#%%\n"
    }
   }
  },
  {
   "cell_type": "markdown",
   "source": [
    "#### Tweet sentiment per topic"
   ],
   "metadata": {
    "collapsed": false,
    "pycharm": {
     "name": "#%% md\n"
    }
   }
  },
  {
   "cell_type": "code",
   "execution_count": 59,
   "outputs": [
    {
     "data": {
      "text/plain": "    year sentiment        topics_cleaned  count sentiment  % sentiment  \\\n0   2019  Negative                  Book               44     0.022682   \n1   2019  Negative                 Brand             6595     3.399712   \n2   2019  Negative              Entities             4063     2.094470   \n3   2019  Negative  Interest and Hobbies             5987     3.086289   \n4   2019  Negative                 Music              388     0.200013   \n..   ...       ...                   ...              ...          ...   \n34  2021  Positive                Person            13507     7.757828   \n35  2021  Positive             Political              564     0.323937   \n36  2021  Positive                 Sport             4250     2.441014   \n37  2021  Positive         TV and Movies            18928    10.871413   \n38  2021  Positive            Video Game             1015     0.582971   \n\n    % with retweets  % with likes  retweets mean  likes mean  \n0             15.91         47.73           0.25        1.86  \n1             15.71         49.78           0.64        3.09  \n2             15.46         50.11           0.58        3.62  \n3             14.26         44.95           0.42        2.84  \n4             19.07         49.74           0.52        3.17  \n..              ...           ...            ...         ...  \n34            17.54         52.06           0.63        5.02  \n35            23.94         51.06           1.41        6.21  \n36            27.13         69.20           0.80        8.21  \n37            17.23         58.05           0.52        6.30  \n38            15.96         63.25           0.49        6.43  \n\n[112 rows x 9 columns]",
      "text/html": "<div>\n<style scoped>\n    .dataframe tbody tr th:only-of-type {\n        vertical-align: middle;\n    }\n\n    .dataframe tbody tr th {\n        vertical-align: top;\n    }\n\n    .dataframe thead th {\n        text-align: right;\n    }\n</style>\n<table border=\"1\" class=\"dataframe\">\n  <thead>\n    <tr style=\"text-align: right;\">\n      <th></th>\n      <th>year</th>\n      <th>sentiment</th>\n      <th>topics_cleaned</th>\n      <th>count sentiment</th>\n      <th>% sentiment</th>\n      <th>% with retweets</th>\n      <th>% with likes</th>\n      <th>retweets mean</th>\n      <th>likes mean</th>\n    </tr>\n  </thead>\n  <tbody>\n    <tr>\n      <th>0</th>\n      <td>2019</td>\n      <td>Negative</td>\n      <td>Book</td>\n      <td>44</td>\n      <td>0.022682</td>\n      <td>15.91</td>\n      <td>47.73</td>\n      <td>0.25</td>\n      <td>1.86</td>\n    </tr>\n    <tr>\n      <th>1</th>\n      <td>2019</td>\n      <td>Negative</td>\n      <td>Brand</td>\n      <td>6595</td>\n      <td>3.399712</td>\n      <td>15.71</td>\n      <td>49.78</td>\n      <td>0.64</td>\n      <td>3.09</td>\n    </tr>\n    <tr>\n      <th>2</th>\n      <td>2019</td>\n      <td>Negative</td>\n      <td>Entities</td>\n      <td>4063</td>\n      <td>2.094470</td>\n      <td>15.46</td>\n      <td>50.11</td>\n      <td>0.58</td>\n      <td>3.62</td>\n    </tr>\n    <tr>\n      <th>3</th>\n      <td>2019</td>\n      <td>Negative</td>\n      <td>Interest and Hobbies</td>\n      <td>5987</td>\n      <td>3.086289</td>\n      <td>14.26</td>\n      <td>44.95</td>\n      <td>0.42</td>\n      <td>2.84</td>\n    </tr>\n    <tr>\n      <th>4</th>\n      <td>2019</td>\n      <td>Negative</td>\n      <td>Music</td>\n      <td>388</td>\n      <td>0.200013</td>\n      <td>19.07</td>\n      <td>49.74</td>\n      <td>0.52</td>\n      <td>3.17</td>\n    </tr>\n    <tr>\n      <th>...</th>\n      <td>...</td>\n      <td>...</td>\n      <td>...</td>\n      <td>...</td>\n      <td>...</td>\n      <td>...</td>\n      <td>...</td>\n      <td>...</td>\n      <td>...</td>\n    </tr>\n    <tr>\n      <th>34</th>\n      <td>2021</td>\n      <td>Positive</td>\n      <td>Person</td>\n      <td>13507</td>\n      <td>7.757828</td>\n      <td>17.54</td>\n      <td>52.06</td>\n      <td>0.63</td>\n      <td>5.02</td>\n    </tr>\n    <tr>\n      <th>35</th>\n      <td>2021</td>\n      <td>Positive</td>\n      <td>Political</td>\n      <td>564</td>\n      <td>0.323937</td>\n      <td>23.94</td>\n      <td>51.06</td>\n      <td>1.41</td>\n      <td>6.21</td>\n    </tr>\n    <tr>\n      <th>36</th>\n      <td>2021</td>\n      <td>Positive</td>\n      <td>Sport</td>\n      <td>4250</td>\n      <td>2.441014</td>\n      <td>27.13</td>\n      <td>69.20</td>\n      <td>0.80</td>\n      <td>8.21</td>\n    </tr>\n    <tr>\n      <th>37</th>\n      <td>2021</td>\n      <td>Positive</td>\n      <td>TV and Movies</td>\n      <td>18928</td>\n      <td>10.871413</td>\n      <td>17.23</td>\n      <td>58.05</td>\n      <td>0.52</td>\n      <td>6.30</td>\n    </tr>\n    <tr>\n      <th>38</th>\n      <td>2021</td>\n      <td>Positive</td>\n      <td>Video Game</td>\n      <td>1015</td>\n      <td>0.582971</td>\n      <td>15.96</td>\n      <td>63.25</td>\n      <td>0.49</td>\n      <td>6.43</td>\n    </tr>\n  </tbody>\n</table>\n<p>112 rows × 9 columns</p>\n</div>"
     },
     "execution_count": 59,
     "metadata": {},
     "output_type": "execute_result"
    }
   ],
   "source": [
    "df_analysis = retweets_likes_info_by_year(tweet_analysis, ['sentiment', 'topics_cleaned'], sentiments)\n",
    "df_analysis"
   ],
   "metadata": {
    "collapsed": false,
    "pycharm": {
     "name": "#%%\n"
    }
   }
  },
  {
   "cell_type": "code",
   "execution_count": 60,
   "outputs": [
    {
     "data": {
      "application/vnd.plotly.v1+json": {
       "data": [
        {
         "alignmentgroup": "True",
         "hovertemplate": "topics_cleaned=Book<br>year=2019<br>sentiment=%{x}<br>% with retweets=%{text}<extra></extra>",
         "legendgroup": "Book",
         "marker": {
          "color": "#006D77",
          "pattern": {
           "shape": ""
          }
         },
         "name": "Book",
         "offsetgroup": "Book",
         "orientation": "v",
         "showlegend": true,
         "text": [
          15.91,
          28.57,
          31.97
         ],
         "textposition": "auto",
         "x": [
          "Negative",
          "Neutral",
          "Positive"
         ],
         "xaxis": "x",
         "y": [
          15.91,
          28.57,
          31.97
         ],
         "yaxis": "y",
         "type": "bar"
        },
        {
         "alignmentgroup": "True",
         "hovertemplate": "topics_cleaned=Book<br>year=2020<br>sentiment=%{x}<br>% with retweets=%{text}<extra></extra>",
         "legendgroup": "Book",
         "marker": {
          "color": "#006D77",
          "pattern": {
           "shape": ""
          }
         },
         "name": "Book",
         "offsetgroup": "Book",
         "orientation": "v",
         "showlegend": false,
         "text": [
          7.41,
          11.36,
          20.63
         ],
         "textposition": "auto",
         "x": [
          "Negative",
          "Neutral",
          "Positive"
         ],
         "xaxis": "x2",
         "y": [
          7.41,
          11.36,
          20.63
         ],
         "yaxis": "y2",
         "type": "bar"
        },
        {
         "alignmentgroup": "True",
         "hovertemplate": "topics_cleaned=Book<br>year=2021<br>sentiment=%{x}<br>% with retweets=%{text}<extra></extra>",
         "legendgroup": "Book",
         "marker": {
          "color": "#006D77",
          "pattern": {
           "shape": ""
          }
         },
         "name": "Book",
         "offsetgroup": "Book",
         "orientation": "v",
         "showlegend": false,
         "text": [
          11.29,
          12.36,
          22.16
         ],
         "textposition": "auto",
         "x": [
          "Negative",
          "Neutral",
          "Positive"
         ],
         "xaxis": "x3",
         "y": [
          11.29,
          12.36,
          22.16
         ],
         "yaxis": "y3",
         "type": "bar"
        },
        {
         "alignmentgroup": "True",
         "hovertemplate": "topics_cleaned=Brand<br>year=2019<br>sentiment=%{x}<br>% with retweets=%{text}<extra></extra>",
         "legendgroup": "Brand",
         "marker": {
          "color": "#FBD1A2",
          "pattern": {
           "shape": ""
          }
         },
         "name": "Brand",
         "offsetgroup": "Brand",
         "orientation": "v",
         "showlegend": true,
         "text": [
          15.71,
          13.5,
          18.36
         ],
         "textposition": "auto",
         "x": [
          "Negative",
          "Neutral",
          "Positive"
         ],
         "xaxis": "x",
         "y": [
          15.71,
          13.5,
          18.36
         ],
         "yaxis": "y",
         "type": "bar"
        },
        {
         "alignmentgroup": "True",
         "hovertemplate": "topics_cleaned=Brand<br>year=2020<br>sentiment=%{x}<br>% with retweets=%{text}<extra></extra>",
         "legendgroup": "Brand",
         "marker": {
          "color": "#FBD1A2",
          "pattern": {
           "shape": ""
          }
         },
         "name": "Brand",
         "offsetgroup": "Brand",
         "orientation": "v",
         "showlegend": false,
         "text": [
          14.6,
          13.58,
          16.98
         ],
         "textposition": "auto",
         "x": [
          "Negative",
          "Neutral",
          "Positive"
         ],
         "xaxis": "x2",
         "y": [
          14.6,
          13.58,
          16.98
         ],
         "yaxis": "y2",
         "type": "bar"
        },
        {
         "alignmentgroup": "True",
         "hovertemplate": "topics_cleaned=Brand<br>year=2021<br>sentiment=%{x}<br>% with retweets=%{text}<extra></extra>",
         "legendgroup": "Brand",
         "marker": {
          "color": "#FBD1A2",
          "pattern": {
           "shape": ""
          }
         },
         "name": "Brand",
         "offsetgroup": "Brand",
         "orientation": "v",
         "showlegend": false,
         "text": [
          14.66,
          13.02,
          19.01
         ],
         "textposition": "auto",
         "x": [
          "Negative",
          "Neutral",
          "Positive"
         ],
         "xaxis": "x3",
         "y": [
          14.66,
          13.02,
          19.01
         ],
         "yaxis": "y3",
         "type": "bar"
        },
        {
         "alignmentgroup": "True",
         "hovertemplate": "topics_cleaned=Entities<br>year=2019<br>sentiment=%{x}<br>% with retweets=%{text}<extra></extra>",
         "legendgroup": "Entities",
         "marker": {
          "color": "#7DCFB6",
          "pattern": {
           "shape": ""
          }
         },
         "name": "Entities",
         "offsetgroup": "Entities",
         "orientation": "v",
         "showlegend": true,
         "text": [
          15.46,
          13.89,
          15.77
         ],
         "textposition": "auto",
         "x": [
          "Negative",
          "Neutral",
          "Positive"
         ],
         "xaxis": "x",
         "y": [
          15.46,
          13.89,
          15.77
         ],
         "yaxis": "y",
         "type": "bar"
        },
        {
         "alignmentgroup": "True",
         "hovertemplate": "topics_cleaned=Entities<br>year=2020<br>sentiment=%{x}<br>% with retweets=%{text}<extra></extra>",
         "legendgroup": "Entities",
         "marker": {
          "color": "#7DCFB6",
          "pattern": {
           "shape": ""
          }
         },
         "name": "Entities",
         "offsetgroup": "Entities",
         "orientation": "v",
         "showlegend": false,
         "text": [
          12.92,
          12.95,
          15.74
         ],
         "textposition": "auto",
         "x": [
          "Negative",
          "Neutral",
          "Positive"
         ],
         "xaxis": "x2",
         "y": [
          12.92,
          12.95,
          15.74
         ],
         "yaxis": "y2",
         "type": "bar"
        },
        {
         "alignmentgroup": "True",
         "hovertemplate": "topics_cleaned=Entities<br>year=2021<br>sentiment=%{x}<br>% with retweets=%{text}<extra></extra>",
         "legendgroup": "Entities",
         "marker": {
          "color": "#7DCFB6",
          "pattern": {
           "shape": ""
          }
         },
         "name": "Entities",
         "offsetgroup": "Entities",
         "orientation": "v",
         "showlegend": false,
         "text": [
          13.92,
          13.51,
          18.29
         ],
         "textposition": "auto",
         "x": [
          "Negative",
          "Neutral",
          "Positive"
         ],
         "xaxis": "x3",
         "y": [
          13.92,
          13.51,
          18.29
         ],
         "yaxis": "y3",
         "type": "bar"
        },
        {
         "alignmentgroup": "True",
         "hovertemplate": "topics_cleaned=Interest and Hobbies<br>year=2019<br>sentiment=%{x}<br>% with retweets=%{text}<extra></extra>",
         "legendgroup": "Interest and Hobbies",
         "marker": {
          "color": "#00B2CA",
          "pattern": {
           "shape": ""
          }
         },
         "name": "Interest and Hobbies",
         "offsetgroup": "Interest and Hobbies",
         "orientation": "v",
         "showlegend": true,
         "text": [
          14.26,
          13.23,
          19.4
         ],
         "textposition": "auto",
         "x": [
          "Negative",
          "Neutral",
          "Positive"
         ],
         "xaxis": "x",
         "y": [
          14.26,
          13.23,
          19.4
         ],
         "yaxis": "y",
         "type": "bar"
        },
        {
         "alignmentgroup": "True",
         "hovertemplate": "topics_cleaned=Interest and Hobbies<br>year=2020<br>sentiment=%{x}<br>% with retweets=%{text}<extra></extra>",
         "legendgroup": "Interest and Hobbies",
         "marker": {
          "color": "#00B2CA",
          "pattern": {
           "shape": ""
          }
         },
         "name": "Interest and Hobbies",
         "offsetgroup": "Interest and Hobbies",
         "orientation": "v",
         "showlegend": false,
         "text": [
          14.96,
          12.91,
          17.74
         ],
         "textposition": "auto",
         "x": [
          "Negative",
          "Neutral",
          "Positive"
         ],
         "xaxis": "x2",
         "y": [
          14.96,
          12.91,
          17.74
         ],
         "yaxis": "y2",
         "type": "bar"
        },
        {
         "alignmentgroup": "True",
         "hovertemplate": "topics_cleaned=Interest and Hobbies<br>year=2021<br>sentiment=%{x}<br>% with retweets=%{text}<extra></extra>",
         "legendgroup": "Interest and Hobbies",
         "marker": {
          "color": "#00B2CA",
          "pattern": {
           "shape": ""
          }
         },
         "name": "Interest and Hobbies",
         "offsetgroup": "Interest and Hobbies",
         "orientation": "v",
         "showlegend": false,
         "text": [
          14.65,
          12.55,
          18.72
         ],
         "textposition": "auto",
         "x": [
          "Negative",
          "Neutral",
          "Positive"
         ],
         "xaxis": "x3",
         "y": [
          14.65,
          12.55,
          18.72
         ],
         "yaxis": "y3",
         "type": "bar"
        },
        {
         "alignmentgroup": "True",
         "hovertemplate": "topics_cleaned=Music<br>year=2019<br>sentiment=%{x}<br>% with retweets=%{text}<extra></extra>",
         "legendgroup": "Music",
         "marker": {
          "color": "#1D4E89",
          "pattern": {
           "shape": ""
          }
         },
         "name": "Music",
         "offsetgroup": "Music",
         "orientation": "v",
         "showlegend": true,
         "text": [
          19.07,
          20.0,
          18.17
         ],
         "textposition": "auto",
         "x": [
          "Negative",
          "Neutral",
          "Positive"
         ],
         "xaxis": "x",
         "y": [
          19.07,
          20.0,
          18.17
         ],
         "yaxis": "y",
         "type": "bar"
        },
        {
         "alignmentgroup": "True",
         "hovertemplate": "topics_cleaned=Music<br>year=2020<br>sentiment=%{x}<br>% with retweets=%{text}<extra></extra>",
         "legendgroup": "Music",
         "marker": {
          "color": "#1D4E89",
          "pattern": {
           "shape": ""
          }
         },
         "name": "Music",
         "offsetgroup": "Music",
         "orientation": "v",
         "showlegend": false,
         "text": [
          19.77,
          14.74,
          19.94
         ],
         "textposition": "auto",
         "x": [
          "Negative",
          "Neutral",
          "Positive"
         ],
         "xaxis": "x2",
         "y": [
          19.77,
          14.74,
          19.94
         ],
         "yaxis": "y2",
         "type": "bar"
        },
        {
         "alignmentgroup": "True",
         "hovertemplate": "topics_cleaned=Music<br>year=2021<br>sentiment=%{x}<br>% with retweets=%{text}<extra></extra>",
         "legendgroup": "Music",
         "marker": {
          "color": "#1D4E89",
          "pattern": {
           "shape": ""
          }
         },
         "name": "Music",
         "offsetgroup": "Music",
         "orientation": "v",
         "showlegend": false,
         "text": [
          17.11,
          17.48,
          21.58
         ],
         "textposition": "auto",
         "x": [
          "Negative",
          "Neutral",
          "Positive"
         ],
         "xaxis": "x3",
         "y": [
          17.11,
          17.48,
          21.58
         ],
         "yaxis": "y3",
         "type": "bar"
        },
        {
         "alignmentgroup": "True",
         "hovertemplate": "topics_cleaned=Other<br>year=2019<br>sentiment=%{x}<br>% with retweets=%{text}<extra></extra>",
         "legendgroup": "Other",
         "marker": {
          "color": "#F79256",
          "pattern": {
           "shape": ""
          }
         },
         "name": "Other",
         "offsetgroup": "Other",
         "orientation": "v",
         "showlegend": true,
         "text": [
          15.9,
          12.64,
          16.94
         ],
         "textposition": "auto",
         "x": [
          "Negative",
          "Neutral",
          "Positive"
         ],
         "xaxis": "x",
         "y": [
          15.9,
          12.64,
          16.94
         ],
         "yaxis": "y",
         "type": "bar"
        },
        {
         "alignmentgroup": "True",
         "hovertemplate": "topics_cleaned=Other<br>year=2020<br>sentiment=%{x}<br>% with retweets=%{text}<extra></extra>",
         "legendgroup": "Other",
         "marker": {
          "color": "#F79256",
          "pattern": {
           "shape": ""
          }
         },
         "name": "Other",
         "offsetgroup": "Other",
         "orientation": "v",
         "showlegend": false,
         "text": [
          16.53,
          15.1,
          16.07
         ],
         "textposition": "auto",
         "x": [
          "Negative",
          "Neutral",
          "Positive"
         ],
         "xaxis": "x2",
         "y": [
          16.53,
          15.1,
          16.07
         ],
         "yaxis": "y2",
         "type": "bar"
        },
        {
         "alignmentgroup": "True",
         "hovertemplate": "topics_cleaned=Other<br>year=2021<br>sentiment=%{x}<br>% with retweets=%{text}<extra></extra>",
         "legendgroup": "Other",
         "marker": {
          "color": "#F79256",
          "pattern": {
           "shape": ""
          }
         },
         "name": "Other",
         "offsetgroup": "Other",
         "orientation": "v",
         "showlegend": false,
         "text": [
          12.83,
          13.51,
          15.13
         ],
         "textposition": "auto",
         "x": [
          "Negative",
          "Neutral",
          "Positive"
         ],
         "xaxis": "x3",
         "y": [
          12.83,
          13.51,
          15.13
         ],
         "yaxis": "y3",
         "type": "bar"
        },
        {
         "alignmentgroup": "True",
         "hovertemplate": "topics_cleaned=Person<br>year=2019<br>sentiment=%{x}<br>% with retweets=%{text}<extra></extra>",
         "legendgroup": "Person",
         "marker": {
          "color": "#aed9e0",
          "pattern": {
           "shape": ""
          }
         },
         "name": "Person",
         "offsetgroup": "Person",
         "orientation": "v",
         "showlegend": true,
         "text": [
          15.02,
          13.61,
          14.66
         ],
         "textposition": "auto",
         "x": [
          "Negative",
          "Neutral",
          "Positive"
         ],
         "xaxis": "x",
         "y": [
          15.02,
          13.61,
          14.66
         ],
         "yaxis": "y",
         "type": "bar"
        },
        {
         "alignmentgroup": "True",
         "hovertemplate": "topics_cleaned=Person<br>year=2020<br>sentiment=%{x}<br>% with retweets=%{text}<extra></extra>",
         "legendgroup": "Person",
         "marker": {
          "color": "#aed9e0",
          "pattern": {
           "shape": ""
          }
         },
         "name": "Person",
         "offsetgroup": "Person",
         "orientation": "v",
         "showlegend": false,
         "text": [
          15.56,
          13.62,
          15.86
         ],
         "textposition": "auto",
         "x": [
          "Negative",
          "Neutral",
          "Positive"
         ],
         "xaxis": "x2",
         "y": [
          15.56,
          13.62,
          15.86
         ],
         "yaxis": "y2",
         "type": "bar"
        },
        {
         "alignmentgroup": "True",
         "hovertemplate": "topics_cleaned=Person<br>year=2021<br>sentiment=%{x}<br>% with retweets=%{text}<extra></extra>",
         "legendgroup": "Person",
         "marker": {
          "color": "#aed9e0",
          "pattern": {
           "shape": ""
          }
         },
         "name": "Person",
         "offsetgroup": "Person",
         "orientation": "v",
         "showlegend": false,
         "text": [
          16.35,
          14.1,
          17.54
         ],
         "textposition": "auto",
         "x": [
          "Negative",
          "Neutral",
          "Positive"
         ],
         "xaxis": "x3",
         "y": [
          16.35,
          14.1,
          17.54
         ],
         "yaxis": "y3",
         "type": "bar"
        },
        {
         "alignmentgroup": "True",
         "hovertemplate": "topics_cleaned=Political<br>year=2019<br>sentiment=%{x}<br>% with retweets=%{text}<extra></extra>",
         "legendgroup": "Political",
         "marker": {
          "color": "#b8f2e6",
          "pattern": {
           "shape": ""
          }
         },
         "name": "Political",
         "offsetgroup": "Political",
         "orientation": "v",
         "showlegend": true,
         "text": [
          16.15,
          13.83,
          24.39
         ],
         "textposition": "auto",
         "x": [
          "Negative",
          "Neutral",
          "Positive"
         ],
         "xaxis": "x",
         "y": [
          16.15,
          13.83,
          24.39
         ],
         "yaxis": "y",
         "type": "bar"
        },
        {
         "alignmentgroup": "True",
         "hovertemplate": "topics_cleaned=Political<br>year=2020<br>sentiment=%{x}<br>% with retweets=%{text}<extra></extra>",
         "legendgroup": "Political",
         "marker": {
          "color": "#b8f2e6",
          "pattern": {
           "shape": ""
          }
         },
         "name": "Political",
         "offsetgroup": "Political",
         "orientation": "v",
         "showlegend": false,
         "text": [
          15.88,
          14.49,
          19.1
         ],
         "textposition": "auto",
         "x": [
          "Negative",
          "Neutral",
          "Positive"
         ],
         "xaxis": "x2",
         "y": [
          15.88,
          14.49,
          19.1
         ],
         "yaxis": "y2",
         "type": "bar"
        },
        {
         "alignmentgroup": "True",
         "hovertemplate": "topics_cleaned=Political<br>year=2021<br>sentiment=%{x}<br>% with retweets=%{text}<extra></extra>",
         "legendgroup": "Political",
         "marker": {
          "color": "#b8f2e6",
          "pattern": {
           "shape": ""
          }
         },
         "name": "Political",
         "offsetgroup": "Political",
         "orientation": "v",
         "showlegend": false,
         "text": [
          18.18,
          17.6,
          23.94
         ],
         "textposition": "auto",
         "x": [
          "Negative",
          "Neutral",
          "Positive"
         ],
         "xaxis": "x3",
         "y": [
          18.18,
          17.6,
          23.94
         ],
         "yaxis": "y3",
         "type": "bar"
        },
        {
         "alignmentgroup": "True",
         "hovertemplate": "topics_cleaned=Sport<br>year=2019<br>sentiment=%{x}<br>% with retweets=%{text}<extra></extra>",
         "legendgroup": "Sport",
         "marker": {
          "color": "#faf3dd",
          "pattern": {
           "shape": ""
          }
         },
         "name": "Sport",
         "offsetgroup": "Sport",
         "orientation": "v",
         "showlegend": true,
         "text": [
          19.45,
          19.96,
          16.67
         ],
         "textposition": "auto",
         "x": [
          "Negative",
          "Neutral",
          "Positive"
         ],
         "xaxis": "x",
         "y": [
          19.45,
          19.96,
          16.67
         ],
         "yaxis": "y",
         "type": "bar"
        },
        {
         "alignmentgroup": "True",
         "hovertemplate": "topics_cleaned=Sport<br>year=2020<br>sentiment=%{x}<br>% with retweets=%{text}<extra></extra>",
         "legendgroup": "Sport",
         "marker": {
          "color": "#faf3dd",
          "pattern": {
           "shape": ""
          }
         },
         "name": "Sport",
         "offsetgroup": "Sport",
         "orientation": "v",
         "showlegend": false,
         "text": [
          15.39,
          16.94,
          22.61
         ],
         "textposition": "auto",
         "x": [
          "Negative",
          "Neutral",
          "Positive"
         ],
         "xaxis": "x2",
         "y": [
          15.39,
          16.94,
          22.61
         ],
         "yaxis": "y2",
         "type": "bar"
        },
        {
         "alignmentgroup": "True",
         "hovertemplate": "topics_cleaned=Sport<br>year=2021<br>sentiment=%{x}<br>% with retweets=%{text}<extra></extra>",
         "legendgroup": "Sport",
         "marker": {
          "color": "#faf3dd",
          "pattern": {
           "shape": ""
          }
         },
         "name": "Sport",
         "offsetgroup": "Sport",
         "orientation": "v",
         "showlegend": false,
         "text": [
          19.81,
          19.1,
          27.13
         ],
         "textposition": "auto",
         "x": [
          "Negative",
          "Neutral",
          "Positive"
         ],
         "xaxis": "x3",
         "y": [
          19.81,
          19.1,
          27.13
         ],
         "yaxis": "y3",
         "type": "bar"
        },
        {
         "alignmentgroup": "True",
         "hovertemplate": "topics_cleaned=TV and Movies<br>year=2019<br>sentiment=%{x}<br>% with retweets=%{text}<extra></extra>",
         "legendgroup": "TV and Movies",
         "marker": {
          "color": "#ffa69e",
          "pattern": {
           "shape": ""
          }
         },
         "name": "TV and Movies",
         "offsetgroup": "TV and Movies",
         "orientation": "v",
         "showlegend": true,
         "text": [
          13.76,
          14.38,
          17.66
         ],
         "textposition": "auto",
         "x": [
          "Negative",
          "Neutral",
          "Positive"
         ],
         "xaxis": "x",
         "y": [
          13.76,
          14.38,
          17.66
         ],
         "yaxis": "y",
         "type": "bar"
        },
        {
         "alignmentgroup": "True",
         "hovertemplate": "topics_cleaned=TV and Movies<br>year=2020<br>sentiment=%{x}<br>% with retweets=%{text}<extra></extra>",
         "legendgroup": "TV and Movies",
         "marker": {
          "color": "#ffa69e",
          "pattern": {
           "shape": ""
          }
         },
         "name": "TV and Movies",
         "offsetgroup": "TV and Movies",
         "orientation": "v",
         "showlegend": false,
         "text": [
          13.12,
          14.29,
          15.76
         ],
         "textposition": "auto",
         "x": [
          "Negative",
          "Neutral",
          "Positive"
         ],
         "xaxis": "x2",
         "y": [
          13.12,
          14.29,
          15.76
         ],
         "yaxis": "y2",
         "type": "bar"
        },
        {
         "alignmentgroup": "True",
         "hovertemplate": "topics_cleaned=TV and Movies<br>year=2021<br>sentiment=%{x}<br>% with retweets=%{text}<extra></extra>",
         "legendgroup": "TV and Movies",
         "marker": {
          "color": "#ffa69e",
          "pattern": {
           "shape": ""
          }
         },
         "name": "TV and Movies",
         "offsetgroup": "TV and Movies",
         "orientation": "v",
         "showlegend": false,
         "text": [
          13.43,
          14.0,
          17.23
         ],
         "textposition": "auto",
         "x": [
          "Negative",
          "Neutral",
          "Positive"
         ],
         "xaxis": "x3",
         "y": [
          13.43,
          14.0,
          17.23
         ],
         "yaxis": "y3",
         "type": "bar"
        },
        {
         "alignmentgroup": "True",
         "hovertemplate": "topics_cleaned=Video Game<br>year=2019<br>sentiment=%{x}<br>% with retweets=%{text}<extra></extra>",
         "legendgroup": "Video Game",
         "marker": {
          "color": "#FE7F2D",
          "pattern": {
           "shape": ""
          }
         },
         "name": "Video Game",
         "offsetgroup": "Video Game",
         "orientation": "v",
         "showlegend": true,
         "text": [
          15.76,
          13.21,
          null
         ],
         "textposition": "auto",
         "x": [
          "Negative",
          "Neutral",
          "Positive"
         ],
         "xaxis": "x",
         "y": [
          15.76,
          13.21,
          null
         ],
         "yaxis": "y",
         "type": "bar"
        },
        {
         "alignmentgroup": "True",
         "hovertemplate": "topics_cleaned=Video Game<br>year=2020<br>sentiment=%{x}<br>% with retweets=%{text}<extra></extra>",
         "legendgroup": "Video Game",
         "marker": {
          "color": "#FE7F2D",
          "pattern": {
           "shape": ""
          }
         },
         "name": "Video Game",
         "offsetgroup": "Video Game",
         "orientation": "v",
         "showlegend": false,
         "text": [
          15.13,
          16.54,
          18.36
         ],
         "textposition": "auto",
         "x": [
          "Negative",
          "Neutral",
          "Positive"
         ],
         "xaxis": "x2",
         "y": [
          15.13,
          16.54,
          18.36
         ],
         "yaxis": "y2",
         "type": "bar"
        },
        {
         "alignmentgroup": "True",
         "hovertemplate": "topics_cleaned=Video Game<br>year=2021<br>sentiment=%{x}<br>% with retweets=%{text}<extra></extra>",
         "legendgroup": "Video Game",
         "marker": {
          "color": "#FE7F2D",
          "pattern": {
           "shape": ""
          }
         },
         "name": "Video Game",
         "offsetgroup": "Video Game",
         "orientation": "v",
         "showlegend": false,
         "text": [
          12.28,
          13.67,
          15.96
         ],
         "textposition": "auto",
         "x": [
          "Negative",
          "Neutral",
          "Positive"
         ],
         "xaxis": "x3",
         "y": [
          12.28,
          13.67,
          15.96
         ],
         "yaxis": "y3",
         "type": "bar"
        },
        {
         "alignmentgroup": "True",
         "hovertemplate": "topics_cleaned=Holiday<br>year=2019<br>sentiment=%{x}<br>% with retweets=%{text}<extra></extra>",
         "legendgroup": "Holiday",
         "marker": {
          "color": "#FCCA46",
          "pattern": {
           "shape": ""
          }
         },
         "name": "Holiday",
         "offsetgroup": "Holiday",
         "orientation": "v",
         "showlegend": true,
         "text": [
          16.37
         ],
         "textposition": "auto",
         "x": [
          "Positive"
         ],
         "xaxis": "x",
         "y": [
          16.37
         ],
         "yaxis": "y",
         "type": "bar"
        },
        {
         "alignmentgroup": "True",
         "hovertemplate": "topics_cleaned=Holiday<br>year=2020<br>sentiment=%{x}<br>% with retweets=%{text}<extra></extra>",
         "legendgroup": "Holiday",
         "marker": {
          "color": "#FCCA46",
          "pattern": {
           "shape": ""
          }
         },
         "name": "Holiday",
         "offsetgroup": "Holiday",
         "orientation": "v",
         "showlegend": false,
         "text": [
          16.6,
          13.99,
          17.7
         ],
         "textposition": "auto",
         "x": [
          "Negative",
          "Neutral",
          "Positive"
         ],
         "xaxis": "x2",
         "y": [
          16.6,
          13.99,
          17.7
         ],
         "yaxis": "y2",
         "type": "bar"
        },
        {
         "alignmentgroup": "True",
         "hovertemplate": "topics_cleaned=Holiday<br>year=2021<br>sentiment=%{x}<br>% with retweets=%{text}<extra></extra>",
         "legendgroup": "Holiday",
         "marker": {
          "color": "#FCCA46",
          "pattern": {
           "shape": ""
          }
         },
         "name": "Holiday",
         "offsetgroup": "Holiday",
         "orientation": "v",
         "showlegend": false,
         "text": [
          19.91,
          15.71,
          21.58
         ],
         "textposition": "auto",
         "x": [
          "Negative",
          "Neutral",
          "Positive"
         ],
         "xaxis": "x3",
         "y": [
          19.91,
          15.71,
          21.58
         ],
         "yaxis": "y3",
         "type": "bar"
        },
        {
         "alignmentgroup": "True",
         "hovertemplate": "topics_cleaned=News<br>year=2020<br>sentiment=%{x}<br>% with retweets=%{text}<extra></extra>",
         "legendgroup": "News",
         "marker": {
          "color": "#ED7B84",
          "pattern": {
           "shape": ""
          }
         },
         "name": "News",
         "offsetgroup": "News",
         "orientation": "v",
         "showlegend": true,
         "text": [
          19.2,
          17.22,
          21.6
         ],
         "textposition": "auto",
         "x": [
          "Negative",
          "Neutral",
          "Positive"
         ],
         "xaxis": "x2",
         "y": [
          19.2,
          17.22,
          21.6
         ],
         "yaxis": "y2",
         "type": "bar"
        },
        {
         "alignmentgroup": "True",
         "hovertemplate": "topics_cleaned=News<br>year=2021<br>sentiment=%{x}<br>% with retweets=%{text}<extra></extra>",
         "legendgroup": "News",
         "marker": {
          "color": "#ED7B84",
          "pattern": {
           "shape": ""
          }
         },
         "name": "News",
         "offsetgroup": "News",
         "orientation": "v",
         "showlegend": false,
         "text": [
          20.08,
          16.88,
          21.87
         ],
         "textposition": "auto",
         "x": [
          "Negative",
          "Neutral",
          "Positive"
         ],
         "xaxis": "x3",
         "y": [
          20.08,
          16.88,
          21.87
         ],
         "yaxis": "y3",
         "type": "bar"
        }
       ],
       "layout": {
        "template": {
         "data": {
          "histogram2dcontour": [
           {
            "type": "histogram2dcontour",
            "colorbar": {
             "outlinewidth": 0,
             "ticks": ""
            },
            "colorscale": [
             [
              0.0,
              "#0d0887"
             ],
             [
              0.1111111111111111,
              "#46039f"
             ],
             [
              0.2222222222222222,
              "#7201a8"
             ],
             [
              0.3333333333333333,
              "#9c179e"
             ],
             [
              0.4444444444444444,
              "#bd3786"
             ],
             [
              0.5555555555555556,
              "#d8576b"
             ],
             [
              0.6666666666666666,
              "#ed7953"
             ],
             [
              0.7777777777777778,
              "#fb9f3a"
             ],
             [
              0.8888888888888888,
              "#fdca26"
             ],
             [
              1.0,
              "#f0f921"
             ]
            ]
           }
          ],
          "choropleth": [
           {
            "type": "choropleth",
            "colorbar": {
             "outlinewidth": 0,
             "ticks": ""
            }
           }
          ],
          "histogram2d": [
           {
            "type": "histogram2d",
            "colorbar": {
             "outlinewidth": 0,
             "ticks": ""
            },
            "colorscale": [
             [
              0.0,
              "#0d0887"
             ],
             [
              0.1111111111111111,
              "#46039f"
             ],
             [
              0.2222222222222222,
              "#7201a8"
             ],
             [
              0.3333333333333333,
              "#9c179e"
             ],
             [
              0.4444444444444444,
              "#bd3786"
             ],
             [
              0.5555555555555556,
              "#d8576b"
             ],
             [
              0.6666666666666666,
              "#ed7953"
             ],
             [
              0.7777777777777778,
              "#fb9f3a"
             ],
             [
              0.8888888888888888,
              "#fdca26"
             ],
             [
              1.0,
              "#f0f921"
             ]
            ]
           }
          ],
          "heatmap": [
           {
            "type": "heatmap",
            "colorbar": {
             "outlinewidth": 0,
             "ticks": ""
            },
            "colorscale": [
             [
              0.0,
              "#0d0887"
             ],
             [
              0.1111111111111111,
              "#46039f"
             ],
             [
              0.2222222222222222,
              "#7201a8"
             ],
             [
              0.3333333333333333,
              "#9c179e"
             ],
             [
              0.4444444444444444,
              "#bd3786"
             ],
             [
              0.5555555555555556,
              "#d8576b"
             ],
             [
              0.6666666666666666,
              "#ed7953"
             ],
             [
              0.7777777777777778,
              "#fb9f3a"
             ],
             [
              0.8888888888888888,
              "#fdca26"
             ],
             [
              1.0,
              "#f0f921"
             ]
            ]
           }
          ],
          "heatmapgl": [
           {
            "type": "heatmapgl",
            "colorbar": {
             "outlinewidth": 0,
             "ticks": ""
            },
            "colorscale": [
             [
              0.0,
              "#0d0887"
             ],
             [
              0.1111111111111111,
              "#46039f"
             ],
             [
              0.2222222222222222,
              "#7201a8"
             ],
             [
              0.3333333333333333,
              "#9c179e"
             ],
             [
              0.4444444444444444,
              "#bd3786"
             ],
             [
              0.5555555555555556,
              "#d8576b"
             ],
             [
              0.6666666666666666,
              "#ed7953"
             ],
             [
              0.7777777777777778,
              "#fb9f3a"
             ],
             [
              0.8888888888888888,
              "#fdca26"
             ],
             [
              1.0,
              "#f0f921"
             ]
            ]
           }
          ],
          "contourcarpet": [
           {
            "type": "contourcarpet",
            "colorbar": {
             "outlinewidth": 0,
             "ticks": ""
            }
           }
          ],
          "contour": [
           {
            "type": "contour",
            "colorbar": {
             "outlinewidth": 0,
             "ticks": ""
            },
            "colorscale": [
             [
              0.0,
              "#0d0887"
             ],
             [
              0.1111111111111111,
              "#46039f"
             ],
             [
              0.2222222222222222,
              "#7201a8"
             ],
             [
              0.3333333333333333,
              "#9c179e"
             ],
             [
              0.4444444444444444,
              "#bd3786"
             ],
             [
              0.5555555555555556,
              "#d8576b"
             ],
             [
              0.6666666666666666,
              "#ed7953"
             ],
             [
              0.7777777777777778,
              "#fb9f3a"
             ],
             [
              0.8888888888888888,
              "#fdca26"
             ],
             [
              1.0,
              "#f0f921"
             ]
            ]
           }
          ],
          "surface": [
           {
            "type": "surface",
            "colorbar": {
             "outlinewidth": 0,
             "ticks": ""
            },
            "colorscale": [
             [
              0.0,
              "#0d0887"
             ],
             [
              0.1111111111111111,
              "#46039f"
             ],
             [
              0.2222222222222222,
              "#7201a8"
             ],
             [
              0.3333333333333333,
              "#9c179e"
             ],
             [
              0.4444444444444444,
              "#bd3786"
             ],
             [
              0.5555555555555556,
              "#d8576b"
             ],
             [
              0.6666666666666666,
              "#ed7953"
             ],
             [
              0.7777777777777778,
              "#fb9f3a"
             ],
             [
              0.8888888888888888,
              "#fdca26"
             ],
             [
              1.0,
              "#f0f921"
             ]
            ]
           }
          ],
          "mesh3d": [
           {
            "type": "mesh3d",
            "colorbar": {
             "outlinewidth": 0,
             "ticks": ""
            }
           }
          ],
          "scatter": [
           {
            "fillpattern": {
             "fillmode": "overlay",
             "size": 10,
             "solidity": 0.2
            },
            "type": "scatter"
           }
          ],
          "parcoords": [
           {
            "type": "parcoords",
            "line": {
             "colorbar": {
              "outlinewidth": 0,
              "ticks": ""
             }
            }
           }
          ],
          "scatterpolargl": [
           {
            "type": "scatterpolargl",
            "marker": {
             "colorbar": {
              "outlinewidth": 0,
              "ticks": ""
             }
            }
           }
          ],
          "bar": [
           {
            "error_x": {
             "color": "#2a3f5f"
            },
            "error_y": {
             "color": "#2a3f5f"
            },
            "marker": {
             "line": {
              "color": "#E5ECF6",
              "width": 0.5
             },
             "pattern": {
              "fillmode": "overlay",
              "size": 10,
              "solidity": 0.2
             }
            },
            "type": "bar"
           }
          ],
          "scattergeo": [
           {
            "type": "scattergeo",
            "marker": {
             "colorbar": {
              "outlinewidth": 0,
              "ticks": ""
             }
            }
           }
          ],
          "scatterpolar": [
           {
            "type": "scatterpolar",
            "marker": {
             "colorbar": {
              "outlinewidth": 0,
              "ticks": ""
             }
            }
           }
          ],
          "histogram": [
           {
            "marker": {
             "pattern": {
              "fillmode": "overlay",
              "size": 10,
              "solidity": 0.2
             }
            },
            "type": "histogram"
           }
          ],
          "scattergl": [
           {
            "type": "scattergl",
            "marker": {
             "colorbar": {
              "outlinewidth": 0,
              "ticks": ""
             }
            }
           }
          ],
          "scatter3d": [
           {
            "type": "scatter3d",
            "line": {
             "colorbar": {
              "outlinewidth": 0,
              "ticks": ""
             }
            },
            "marker": {
             "colorbar": {
              "outlinewidth": 0,
              "ticks": ""
             }
            }
           }
          ],
          "scattermapbox": [
           {
            "type": "scattermapbox",
            "marker": {
             "colorbar": {
              "outlinewidth": 0,
              "ticks": ""
             }
            }
           }
          ],
          "scatterternary": [
           {
            "type": "scatterternary",
            "marker": {
             "colorbar": {
              "outlinewidth": 0,
              "ticks": ""
             }
            }
           }
          ],
          "scattercarpet": [
           {
            "type": "scattercarpet",
            "marker": {
             "colorbar": {
              "outlinewidth": 0,
              "ticks": ""
             }
            }
           }
          ],
          "carpet": [
           {
            "aaxis": {
             "endlinecolor": "#2a3f5f",
             "gridcolor": "white",
             "linecolor": "white",
             "minorgridcolor": "white",
             "startlinecolor": "#2a3f5f"
            },
            "baxis": {
             "endlinecolor": "#2a3f5f",
             "gridcolor": "white",
             "linecolor": "white",
             "minorgridcolor": "white",
             "startlinecolor": "#2a3f5f"
            },
            "type": "carpet"
           }
          ],
          "table": [
           {
            "cells": {
             "fill": {
              "color": "#EBF0F8"
             },
             "line": {
              "color": "white"
             }
            },
            "header": {
             "fill": {
              "color": "#C8D4E3"
             },
             "line": {
              "color": "white"
             }
            },
            "type": "table"
           }
          ],
          "barpolar": [
           {
            "marker": {
             "line": {
              "color": "#E5ECF6",
              "width": 0.5
             },
             "pattern": {
              "fillmode": "overlay",
              "size": 10,
              "solidity": 0.2
             }
            },
            "type": "barpolar"
           }
          ],
          "pie": [
           {
            "automargin": true,
            "type": "pie"
           }
          ]
         },
         "layout": {
          "autotypenumbers": "strict",
          "colorway": [
           "#636efa",
           "#EF553B",
           "#00cc96",
           "#ab63fa",
           "#FFA15A",
           "#19d3f3",
           "#FF6692",
           "#B6E880",
           "#FF97FF",
           "#FECB52"
          ],
          "font": {
           "color": "#2a3f5f"
          },
          "hovermode": "closest",
          "hoverlabel": {
           "align": "left"
          },
          "paper_bgcolor": "white",
          "plot_bgcolor": "#E5ECF6",
          "polar": {
           "bgcolor": "#E5ECF6",
           "angularaxis": {
            "gridcolor": "white",
            "linecolor": "white",
            "ticks": ""
           },
           "radialaxis": {
            "gridcolor": "white",
            "linecolor": "white",
            "ticks": ""
           }
          },
          "ternary": {
           "bgcolor": "#E5ECF6",
           "aaxis": {
            "gridcolor": "white",
            "linecolor": "white",
            "ticks": ""
           },
           "baxis": {
            "gridcolor": "white",
            "linecolor": "white",
            "ticks": ""
           },
           "caxis": {
            "gridcolor": "white",
            "linecolor": "white",
            "ticks": ""
           }
          },
          "coloraxis": {
           "colorbar": {
            "outlinewidth": 0,
            "ticks": ""
           }
          },
          "colorscale": {
           "sequential": [
            [
             0.0,
             "#0d0887"
            ],
            [
             0.1111111111111111,
             "#46039f"
            ],
            [
             0.2222222222222222,
             "#7201a8"
            ],
            [
             0.3333333333333333,
             "#9c179e"
            ],
            [
             0.4444444444444444,
             "#bd3786"
            ],
            [
             0.5555555555555556,
             "#d8576b"
            ],
            [
             0.6666666666666666,
             "#ed7953"
            ],
            [
             0.7777777777777778,
             "#fb9f3a"
            ],
            [
             0.8888888888888888,
             "#fdca26"
            ],
            [
             1.0,
             "#f0f921"
            ]
           ],
           "sequentialminus": [
            [
             0.0,
             "#0d0887"
            ],
            [
             0.1111111111111111,
             "#46039f"
            ],
            [
             0.2222222222222222,
             "#7201a8"
            ],
            [
             0.3333333333333333,
             "#9c179e"
            ],
            [
             0.4444444444444444,
             "#bd3786"
            ],
            [
             0.5555555555555556,
             "#d8576b"
            ],
            [
             0.6666666666666666,
             "#ed7953"
            ],
            [
             0.7777777777777778,
             "#fb9f3a"
            ],
            [
             0.8888888888888888,
             "#fdca26"
            ],
            [
             1.0,
             "#f0f921"
            ]
           ],
           "diverging": [
            [
             0,
             "#8e0152"
            ],
            [
             0.1,
             "#c51b7d"
            ],
            [
             0.2,
             "#de77ae"
            ],
            [
             0.3,
             "#f1b6da"
            ],
            [
             0.4,
             "#fde0ef"
            ],
            [
             0.5,
             "#f7f7f7"
            ],
            [
             0.6,
             "#e6f5d0"
            ],
            [
             0.7,
             "#b8e186"
            ],
            [
             0.8,
             "#7fbc41"
            ],
            [
             0.9,
             "#4d9221"
            ],
            [
             1,
             "#276419"
            ]
           ]
          },
          "xaxis": {
           "gridcolor": "white",
           "linecolor": "white",
           "ticks": "",
           "title": {
            "standoff": 15
           },
           "zerolinecolor": "white",
           "automargin": true,
           "zerolinewidth": 2
          },
          "yaxis": {
           "gridcolor": "white",
           "linecolor": "white",
           "ticks": "",
           "title": {
            "standoff": 15
           },
           "zerolinecolor": "white",
           "automargin": true,
           "zerolinewidth": 2
          },
          "scene": {
           "xaxis": {
            "backgroundcolor": "#E5ECF6",
            "gridcolor": "white",
            "linecolor": "white",
            "showbackground": true,
            "ticks": "",
            "zerolinecolor": "white",
            "gridwidth": 2
           },
           "yaxis": {
            "backgroundcolor": "#E5ECF6",
            "gridcolor": "white",
            "linecolor": "white",
            "showbackground": true,
            "ticks": "",
            "zerolinecolor": "white",
            "gridwidth": 2
           },
           "zaxis": {
            "backgroundcolor": "#E5ECF6",
            "gridcolor": "white",
            "linecolor": "white",
            "showbackground": true,
            "ticks": "",
            "zerolinecolor": "white",
            "gridwidth": 2
           }
          },
          "shapedefaults": {
           "line": {
            "color": "#2a3f5f"
           }
          },
          "annotationdefaults": {
           "arrowcolor": "#2a3f5f",
           "arrowhead": 0,
           "arrowwidth": 1
          },
          "geo": {
           "bgcolor": "white",
           "landcolor": "#E5ECF6",
           "subunitcolor": "white",
           "showland": true,
           "showlakes": true,
           "lakecolor": "white"
          },
          "title": {
           "x": 0.05
          },
          "mapbox": {
           "style": "light"
          }
         }
        },
        "xaxis": {
         "anchor": "y",
         "domain": [
          0.0,
          0.31999999999999995
         ],
         "title": {
          "text": "sentiment"
         },
         "categoryorder": "array",
         "categoryarray": [
          "Other",
          "Person",
          "TV and Movies",
          "Entities",
          "Interest and Hobbies",
          "Sport",
          "Brand",
          "Music",
          "Video Game",
          "Political",
          "Book",
          "Holiday",
          "News"
         ]
        },
        "yaxis": {
         "anchor": "x",
         "domain": [
          0.0,
          1.0
         ],
         "title": {
          "text": "% with retweets"
         }
        },
        "xaxis2": {
         "anchor": "y2",
         "domain": [
          0.33999999999999997,
          0.6599999999999999
         ],
         "matches": "x",
         "title": {
          "text": "sentiment"
         },
         "categoryorder": "array",
         "categoryarray": [
          "Other",
          "Person",
          "TV and Movies",
          "Entities",
          "Interest and Hobbies",
          "Sport",
          "Brand",
          "Music",
          "Video Game",
          "Political",
          "Book",
          "Holiday",
          "News"
         ]
        },
        "yaxis2": {
         "anchor": "x2",
         "domain": [
          0.0,
          1.0
         ],
         "matches": "y",
         "showticklabels": false,
         "title": {
          "text": "% with retweets"
         }
        },
        "xaxis3": {
         "anchor": "y3",
         "domain": [
          0.6799999999999999,
          0.9999999999999999
         ],
         "matches": "x",
         "title": {
          "text": "sentiment"
         },
         "categoryorder": "array",
         "categoryarray": [
          "Other",
          "Person",
          "TV and Movies",
          "Entities",
          "Interest and Hobbies",
          "Sport",
          "Brand",
          "Music",
          "Video Game",
          "Political",
          "Book",
          "Holiday",
          "News"
         ]
        },
        "yaxis3": {
         "anchor": "x3",
         "domain": [
          0.0,
          1.0
         ],
         "matches": "y",
         "showticklabels": false,
         "title": {
          "text": "% with retweets"
         }
        },
        "annotations": [
         {
          "font": {},
          "showarrow": false,
          "text": "year=2019",
          "x": 0.15999999999999998,
          "xanchor": "center",
          "xref": "paper",
          "y": 1.0,
          "yanchor": "bottom",
          "yref": "paper"
         },
         {
          "font": {},
          "showarrow": false,
          "text": "year=2020",
          "x": 0.49999999999999994,
          "xanchor": "center",
          "xref": "paper",
          "y": 1.0,
          "yanchor": "bottom",
          "yref": "paper"
         },
         {
          "font": {},
          "showarrow": false,
          "text": "year=2021",
          "x": 0.8399999999999999,
          "xanchor": "center",
          "xref": "paper",
          "y": 1.0,
          "yanchor": "bottom",
          "yref": "paper"
         }
        ],
        "legend": {
         "title": {
          "text": "topics_cleaned"
         },
         "tracegroupgap": 0
        },
        "margin": {
         "t": 60
        },
        "barmode": "stack",
        "title": {
         "text": "Tweet sentiment by topic and corresponding % retweet count"
        },
        "width": 900,
        "height": 500
       },
       "config": {
        "plotlyServerURL": "https://plot.ly"
       }
      },
      "text/html": "<div>                            <div id=\"305f0ce4-071b-4f1f-9a2c-423b3fe889f9\" class=\"plotly-graph-div\" style=\"height:500px; width:900px;\"></div>            <script type=\"text/javascript\">                require([\"plotly\"], function(Plotly) {                    window.PLOTLYENV=window.PLOTLYENV || {};                                    if (document.getElementById(\"305f0ce4-071b-4f1f-9a2c-423b3fe889f9\")) {                    Plotly.newPlot(                        \"305f0ce4-071b-4f1f-9a2c-423b3fe889f9\",                        [{\"alignmentgroup\":\"True\",\"hovertemplate\":\"topics_cleaned=Book<br>year=2019<br>sentiment=%{x}<br>% with retweets=%{text}<extra></extra>\",\"legendgroup\":\"Book\",\"marker\":{\"color\":\"#006D77\",\"pattern\":{\"shape\":\"\"}},\"name\":\"Book\",\"offsetgroup\":\"Book\",\"orientation\":\"v\",\"showlegend\":true,\"text\":[15.91,28.57,31.97],\"textposition\":\"auto\",\"x\":[\"Negative\",\"Neutral\",\"Positive\"],\"xaxis\":\"x\",\"y\":[15.91,28.57,31.97],\"yaxis\":\"y\",\"type\":\"bar\"},{\"alignmentgroup\":\"True\",\"hovertemplate\":\"topics_cleaned=Book<br>year=2020<br>sentiment=%{x}<br>% with retweets=%{text}<extra></extra>\",\"legendgroup\":\"Book\",\"marker\":{\"color\":\"#006D77\",\"pattern\":{\"shape\":\"\"}},\"name\":\"Book\",\"offsetgroup\":\"Book\",\"orientation\":\"v\",\"showlegend\":false,\"text\":[7.41,11.36,20.63],\"textposition\":\"auto\",\"x\":[\"Negative\",\"Neutral\",\"Positive\"],\"xaxis\":\"x2\",\"y\":[7.41,11.36,20.63],\"yaxis\":\"y2\",\"type\":\"bar\"},{\"alignmentgroup\":\"True\",\"hovertemplate\":\"topics_cleaned=Book<br>year=2021<br>sentiment=%{x}<br>% with retweets=%{text}<extra></extra>\",\"legendgroup\":\"Book\",\"marker\":{\"color\":\"#006D77\",\"pattern\":{\"shape\":\"\"}},\"name\":\"Book\",\"offsetgroup\":\"Book\",\"orientation\":\"v\",\"showlegend\":false,\"text\":[11.29,12.36,22.16],\"textposition\":\"auto\",\"x\":[\"Negative\",\"Neutral\",\"Positive\"],\"xaxis\":\"x3\",\"y\":[11.29,12.36,22.16],\"yaxis\":\"y3\",\"type\":\"bar\"},{\"alignmentgroup\":\"True\",\"hovertemplate\":\"topics_cleaned=Brand<br>year=2019<br>sentiment=%{x}<br>% with retweets=%{text}<extra></extra>\",\"legendgroup\":\"Brand\",\"marker\":{\"color\":\"#FBD1A2\",\"pattern\":{\"shape\":\"\"}},\"name\":\"Brand\",\"offsetgroup\":\"Brand\",\"orientation\":\"v\",\"showlegend\":true,\"text\":[15.71,13.5,18.36],\"textposition\":\"auto\",\"x\":[\"Negative\",\"Neutral\",\"Positive\"],\"xaxis\":\"x\",\"y\":[15.71,13.5,18.36],\"yaxis\":\"y\",\"type\":\"bar\"},{\"alignmentgroup\":\"True\",\"hovertemplate\":\"topics_cleaned=Brand<br>year=2020<br>sentiment=%{x}<br>% with retweets=%{text}<extra></extra>\",\"legendgroup\":\"Brand\",\"marker\":{\"color\":\"#FBD1A2\",\"pattern\":{\"shape\":\"\"}},\"name\":\"Brand\",\"offsetgroup\":\"Brand\",\"orientation\":\"v\",\"showlegend\":false,\"text\":[14.6,13.58,16.98],\"textposition\":\"auto\",\"x\":[\"Negative\",\"Neutral\",\"Positive\"],\"xaxis\":\"x2\",\"y\":[14.6,13.58,16.98],\"yaxis\":\"y2\",\"type\":\"bar\"},{\"alignmentgroup\":\"True\",\"hovertemplate\":\"topics_cleaned=Brand<br>year=2021<br>sentiment=%{x}<br>% with retweets=%{text}<extra></extra>\",\"legendgroup\":\"Brand\",\"marker\":{\"color\":\"#FBD1A2\",\"pattern\":{\"shape\":\"\"}},\"name\":\"Brand\",\"offsetgroup\":\"Brand\",\"orientation\":\"v\",\"showlegend\":false,\"text\":[14.66,13.02,19.01],\"textposition\":\"auto\",\"x\":[\"Negative\",\"Neutral\",\"Positive\"],\"xaxis\":\"x3\",\"y\":[14.66,13.02,19.01],\"yaxis\":\"y3\",\"type\":\"bar\"},{\"alignmentgroup\":\"True\",\"hovertemplate\":\"topics_cleaned=Entities<br>year=2019<br>sentiment=%{x}<br>% with retweets=%{text}<extra></extra>\",\"legendgroup\":\"Entities\",\"marker\":{\"color\":\"#7DCFB6\",\"pattern\":{\"shape\":\"\"}},\"name\":\"Entities\",\"offsetgroup\":\"Entities\",\"orientation\":\"v\",\"showlegend\":true,\"text\":[15.46,13.89,15.77],\"textposition\":\"auto\",\"x\":[\"Negative\",\"Neutral\",\"Positive\"],\"xaxis\":\"x\",\"y\":[15.46,13.89,15.77],\"yaxis\":\"y\",\"type\":\"bar\"},{\"alignmentgroup\":\"True\",\"hovertemplate\":\"topics_cleaned=Entities<br>year=2020<br>sentiment=%{x}<br>% with retweets=%{text}<extra></extra>\",\"legendgroup\":\"Entities\",\"marker\":{\"color\":\"#7DCFB6\",\"pattern\":{\"shape\":\"\"}},\"name\":\"Entities\",\"offsetgroup\":\"Entities\",\"orientation\":\"v\",\"showlegend\":false,\"text\":[12.92,12.95,15.74],\"textposition\":\"auto\",\"x\":[\"Negative\",\"Neutral\",\"Positive\"],\"xaxis\":\"x2\",\"y\":[12.92,12.95,15.74],\"yaxis\":\"y2\",\"type\":\"bar\"},{\"alignmentgroup\":\"True\",\"hovertemplate\":\"topics_cleaned=Entities<br>year=2021<br>sentiment=%{x}<br>% with retweets=%{text}<extra></extra>\",\"legendgroup\":\"Entities\",\"marker\":{\"color\":\"#7DCFB6\",\"pattern\":{\"shape\":\"\"}},\"name\":\"Entities\",\"offsetgroup\":\"Entities\",\"orientation\":\"v\",\"showlegend\":false,\"text\":[13.92,13.51,18.29],\"textposition\":\"auto\",\"x\":[\"Negative\",\"Neutral\",\"Positive\"],\"xaxis\":\"x3\",\"y\":[13.92,13.51,18.29],\"yaxis\":\"y3\",\"type\":\"bar\"},{\"alignmentgroup\":\"True\",\"hovertemplate\":\"topics_cleaned=Interest and Hobbies<br>year=2019<br>sentiment=%{x}<br>% with retweets=%{text}<extra></extra>\",\"legendgroup\":\"Interest and Hobbies\",\"marker\":{\"color\":\"#00B2CA\",\"pattern\":{\"shape\":\"\"}},\"name\":\"Interest and Hobbies\",\"offsetgroup\":\"Interest and Hobbies\",\"orientation\":\"v\",\"showlegend\":true,\"text\":[14.26,13.23,19.4],\"textposition\":\"auto\",\"x\":[\"Negative\",\"Neutral\",\"Positive\"],\"xaxis\":\"x\",\"y\":[14.26,13.23,19.4],\"yaxis\":\"y\",\"type\":\"bar\"},{\"alignmentgroup\":\"True\",\"hovertemplate\":\"topics_cleaned=Interest and Hobbies<br>year=2020<br>sentiment=%{x}<br>% with retweets=%{text}<extra></extra>\",\"legendgroup\":\"Interest and Hobbies\",\"marker\":{\"color\":\"#00B2CA\",\"pattern\":{\"shape\":\"\"}},\"name\":\"Interest and Hobbies\",\"offsetgroup\":\"Interest and Hobbies\",\"orientation\":\"v\",\"showlegend\":false,\"text\":[14.96,12.91,17.74],\"textposition\":\"auto\",\"x\":[\"Negative\",\"Neutral\",\"Positive\"],\"xaxis\":\"x2\",\"y\":[14.96,12.91,17.74],\"yaxis\":\"y2\",\"type\":\"bar\"},{\"alignmentgroup\":\"True\",\"hovertemplate\":\"topics_cleaned=Interest and Hobbies<br>year=2021<br>sentiment=%{x}<br>% with retweets=%{text}<extra></extra>\",\"legendgroup\":\"Interest and Hobbies\",\"marker\":{\"color\":\"#00B2CA\",\"pattern\":{\"shape\":\"\"}},\"name\":\"Interest and Hobbies\",\"offsetgroup\":\"Interest and Hobbies\",\"orientation\":\"v\",\"showlegend\":false,\"text\":[14.65,12.55,18.72],\"textposition\":\"auto\",\"x\":[\"Negative\",\"Neutral\",\"Positive\"],\"xaxis\":\"x3\",\"y\":[14.65,12.55,18.72],\"yaxis\":\"y3\",\"type\":\"bar\"},{\"alignmentgroup\":\"True\",\"hovertemplate\":\"topics_cleaned=Music<br>year=2019<br>sentiment=%{x}<br>% with retweets=%{text}<extra></extra>\",\"legendgroup\":\"Music\",\"marker\":{\"color\":\"#1D4E89\",\"pattern\":{\"shape\":\"\"}},\"name\":\"Music\",\"offsetgroup\":\"Music\",\"orientation\":\"v\",\"showlegend\":true,\"text\":[19.07,20.0,18.17],\"textposition\":\"auto\",\"x\":[\"Negative\",\"Neutral\",\"Positive\"],\"xaxis\":\"x\",\"y\":[19.07,20.0,18.17],\"yaxis\":\"y\",\"type\":\"bar\"},{\"alignmentgroup\":\"True\",\"hovertemplate\":\"topics_cleaned=Music<br>year=2020<br>sentiment=%{x}<br>% with retweets=%{text}<extra></extra>\",\"legendgroup\":\"Music\",\"marker\":{\"color\":\"#1D4E89\",\"pattern\":{\"shape\":\"\"}},\"name\":\"Music\",\"offsetgroup\":\"Music\",\"orientation\":\"v\",\"showlegend\":false,\"text\":[19.77,14.74,19.94],\"textposition\":\"auto\",\"x\":[\"Negative\",\"Neutral\",\"Positive\"],\"xaxis\":\"x2\",\"y\":[19.77,14.74,19.94],\"yaxis\":\"y2\",\"type\":\"bar\"},{\"alignmentgroup\":\"True\",\"hovertemplate\":\"topics_cleaned=Music<br>year=2021<br>sentiment=%{x}<br>% with retweets=%{text}<extra></extra>\",\"legendgroup\":\"Music\",\"marker\":{\"color\":\"#1D4E89\",\"pattern\":{\"shape\":\"\"}},\"name\":\"Music\",\"offsetgroup\":\"Music\",\"orientation\":\"v\",\"showlegend\":false,\"text\":[17.11,17.48,21.58],\"textposition\":\"auto\",\"x\":[\"Negative\",\"Neutral\",\"Positive\"],\"xaxis\":\"x3\",\"y\":[17.11,17.48,21.58],\"yaxis\":\"y3\",\"type\":\"bar\"},{\"alignmentgroup\":\"True\",\"hovertemplate\":\"topics_cleaned=Other<br>year=2019<br>sentiment=%{x}<br>% with retweets=%{text}<extra></extra>\",\"legendgroup\":\"Other\",\"marker\":{\"color\":\"#F79256\",\"pattern\":{\"shape\":\"\"}},\"name\":\"Other\",\"offsetgroup\":\"Other\",\"orientation\":\"v\",\"showlegend\":true,\"text\":[15.9,12.64,16.94],\"textposition\":\"auto\",\"x\":[\"Negative\",\"Neutral\",\"Positive\"],\"xaxis\":\"x\",\"y\":[15.9,12.64,16.94],\"yaxis\":\"y\",\"type\":\"bar\"},{\"alignmentgroup\":\"True\",\"hovertemplate\":\"topics_cleaned=Other<br>year=2020<br>sentiment=%{x}<br>% with retweets=%{text}<extra></extra>\",\"legendgroup\":\"Other\",\"marker\":{\"color\":\"#F79256\",\"pattern\":{\"shape\":\"\"}},\"name\":\"Other\",\"offsetgroup\":\"Other\",\"orientation\":\"v\",\"showlegend\":false,\"text\":[16.53,15.1,16.07],\"textposition\":\"auto\",\"x\":[\"Negative\",\"Neutral\",\"Positive\"],\"xaxis\":\"x2\",\"y\":[16.53,15.1,16.07],\"yaxis\":\"y2\",\"type\":\"bar\"},{\"alignmentgroup\":\"True\",\"hovertemplate\":\"topics_cleaned=Other<br>year=2021<br>sentiment=%{x}<br>% with retweets=%{text}<extra></extra>\",\"legendgroup\":\"Other\",\"marker\":{\"color\":\"#F79256\",\"pattern\":{\"shape\":\"\"}},\"name\":\"Other\",\"offsetgroup\":\"Other\",\"orientation\":\"v\",\"showlegend\":false,\"text\":[12.83,13.51,15.13],\"textposition\":\"auto\",\"x\":[\"Negative\",\"Neutral\",\"Positive\"],\"xaxis\":\"x3\",\"y\":[12.83,13.51,15.13],\"yaxis\":\"y3\",\"type\":\"bar\"},{\"alignmentgroup\":\"True\",\"hovertemplate\":\"topics_cleaned=Person<br>year=2019<br>sentiment=%{x}<br>% with retweets=%{text}<extra></extra>\",\"legendgroup\":\"Person\",\"marker\":{\"color\":\"#aed9e0\",\"pattern\":{\"shape\":\"\"}},\"name\":\"Person\",\"offsetgroup\":\"Person\",\"orientation\":\"v\",\"showlegend\":true,\"text\":[15.02,13.61,14.66],\"textposition\":\"auto\",\"x\":[\"Negative\",\"Neutral\",\"Positive\"],\"xaxis\":\"x\",\"y\":[15.02,13.61,14.66],\"yaxis\":\"y\",\"type\":\"bar\"},{\"alignmentgroup\":\"True\",\"hovertemplate\":\"topics_cleaned=Person<br>year=2020<br>sentiment=%{x}<br>% with retweets=%{text}<extra></extra>\",\"legendgroup\":\"Person\",\"marker\":{\"color\":\"#aed9e0\",\"pattern\":{\"shape\":\"\"}},\"name\":\"Person\",\"offsetgroup\":\"Person\",\"orientation\":\"v\",\"showlegend\":false,\"text\":[15.56,13.62,15.86],\"textposition\":\"auto\",\"x\":[\"Negative\",\"Neutral\",\"Positive\"],\"xaxis\":\"x2\",\"y\":[15.56,13.62,15.86],\"yaxis\":\"y2\",\"type\":\"bar\"},{\"alignmentgroup\":\"True\",\"hovertemplate\":\"topics_cleaned=Person<br>year=2021<br>sentiment=%{x}<br>% with retweets=%{text}<extra></extra>\",\"legendgroup\":\"Person\",\"marker\":{\"color\":\"#aed9e0\",\"pattern\":{\"shape\":\"\"}},\"name\":\"Person\",\"offsetgroup\":\"Person\",\"orientation\":\"v\",\"showlegend\":false,\"text\":[16.35,14.1,17.54],\"textposition\":\"auto\",\"x\":[\"Negative\",\"Neutral\",\"Positive\"],\"xaxis\":\"x3\",\"y\":[16.35,14.1,17.54],\"yaxis\":\"y3\",\"type\":\"bar\"},{\"alignmentgroup\":\"True\",\"hovertemplate\":\"topics_cleaned=Political<br>year=2019<br>sentiment=%{x}<br>% with retweets=%{text}<extra></extra>\",\"legendgroup\":\"Political\",\"marker\":{\"color\":\"#b8f2e6\",\"pattern\":{\"shape\":\"\"}},\"name\":\"Political\",\"offsetgroup\":\"Political\",\"orientation\":\"v\",\"showlegend\":true,\"text\":[16.15,13.83,24.39],\"textposition\":\"auto\",\"x\":[\"Negative\",\"Neutral\",\"Positive\"],\"xaxis\":\"x\",\"y\":[16.15,13.83,24.39],\"yaxis\":\"y\",\"type\":\"bar\"},{\"alignmentgroup\":\"True\",\"hovertemplate\":\"topics_cleaned=Political<br>year=2020<br>sentiment=%{x}<br>% with retweets=%{text}<extra></extra>\",\"legendgroup\":\"Political\",\"marker\":{\"color\":\"#b8f2e6\",\"pattern\":{\"shape\":\"\"}},\"name\":\"Political\",\"offsetgroup\":\"Political\",\"orientation\":\"v\",\"showlegend\":false,\"text\":[15.88,14.49,19.1],\"textposition\":\"auto\",\"x\":[\"Negative\",\"Neutral\",\"Positive\"],\"xaxis\":\"x2\",\"y\":[15.88,14.49,19.1],\"yaxis\":\"y2\",\"type\":\"bar\"},{\"alignmentgroup\":\"True\",\"hovertemplate\":\"topics_cleaned=Political<br>year=2021<br>sentiment=%{x}<br>% with retweets=%{text}<extra></extra>\",\"legendgroup\":\"Political\",\"marker\":{\"color\":\"#b8f2e6\",\"pattern\":{\"shape\":\"\"}},\"name\":\"Political\",\"offsetgroup\":\"Political\",\"orientation\":\"v\",\"showlegend\":false,\"text\":[18.18,17.6,23.94],\"textposition\":\"auto\",\"x\":[\"Negative\",\"Neutral\",\"Positive\"],\"xaxis\":\"x3\",\"y\":[18.18,17.6,23.94],\"yaxis\":\"y3\",\"type\":\"bar\"},{\"alignmentgroup\":\"True\",\"hovertemplate\":\"topics_cleaned=Sport<br>year=2019<br>sentiment=%{x}<br>% with retweets=%{text}<extra></extra>\",\"legendgroup\":\"Sport\",\"marker\":{\"color\":\"#faf3dd\",\"pattern\":{\"shape\":\"\"}},\"name\":\"Sport\",\"offsetgroup\":\"Sport\",\"orientation\":\"v\",\"showlegend\":true,\"text\":[19.45,19.96,16.67],\"textposition\":\"auto\",\"x\":[\"Negative\",\"Neutral\",\"Positive\"],\"xaxis\":\"x\",\"y\":[19.45,19.96,16.67],\"yaxis\":\"y\",\"type\":\"bar\"},{\"alignmentgroup\":\"True\",\"hovertemplate\":\"topics_cleaned=Sport<br>year=2020<br>sentiment=%{x}<br>% with retweets=%{text}<extra></extra>\",\"legendgroup\":\"Sport\",\"marker\":{\"color\":\"#faf3dd\",\"pattern\":{\"shape\":\"\"}},\"name\":\"Sport\",\"offsetgroup\":\"Sport\",\"orientation\":\"v\",\"showlegend\":false,\"text\":[15.39,16.94,22.61],\"textposition\":\"auto\",\"x\":[\"Negative\",\"Neutral\",\"Positive\"],\"xaxis\":\"x2\",\"y\":[15.39,16.94,22.61],\"yaxis\":\"y2\",\"type\":\"bar\"},{\"alignmentgroup\":\"True\",\"hovertemplate\":\"topics_cleaned=Sport<br>year=2021<br>sentiment=%{x}<br>% with retweets=%{text}<extra></extra>\",\"legendgroup\":\"Sport\",\"marker\":{\"color\":\"#faf3dd\",\"pattern\":{\"shape\":\"\"}},\"name\":\"Sport\",\"offsetgroup\":\"Sport\",\"orientation\":\"v\",\"showlegend\":false,\"text\":[19.81,19.1,27.13],\"textposition\":\"auto\",\"x\":[\"Negative\",\"Neutral\",\"Positive\"],\"xaxis\":\"x3\",\"y\":[19.81,19.1,27.13],\"yaxis\":\"y3\",\"type\":\"bar\"},{\"alignmentgroup\":\"True\",\"hovertemplate\":\"topics_cleaned=TV and Movies<br>year=2019<br>sentiment=%{x}<br>% with retweets=%{text}<extra></extra>\",\"legendgroup\":\"TV and Movies\",\"marker\":{\"color\":\"#ffa69e\",\"pattern\":{\"shape\":\"\"}},\"name\":\"TV and Movies\",\"offsetgroup\":\"TV and Movies\",\"orientation\":\"v\",\"showlegend\":true,\"text\":[13.76,14.38,17.66],\"textposition\":\"auto\",\"x\":[\"Negative\",\"Neutral\",\"Positive\"],\"xaxis\":\"x\",\"y\":[13.76,14.38,17.66],\"yaxis\":\"y\",\"type\":\"bar\"},{\"alignmentgroup\":\"True\",\"hovertemplate\":\"topics_cleaned=TV and Movies<br>year=2020<br>sentiment=%{x}<br>% with retweets=%{text}<extra></extra>\",\"legendgroup\":\"TV and Movies\",\"marker\":{\"color\":\"#ffa69e\",\"pattern\":{\"shape\":\"\"}},\"name\":\"TV and Movies\",\"offsetgroup\":\"TV and Movies\",\"orientation\":\"v\",\"showlegend\":false,\"text\":[13.12,14.29,15.76],\"textposition\":\"auto\",\"x\":[\"Negative\",\"Neutral\",\"Positive\"],\"xaxis\":\"x2\",\"y\":[13.12,14.29,15.76],\"yaxis\":\"y2\",\"type\":\"bar\"},{\"alignmentgroup\":\"True\",\"hovertemplate\":\"topics_cleaned=TV and Movies<br>year=2021<br>sentiment=%{x}<br>% with retweets=%{text}<extra></extra>\",\"legendgroup\":\"TV and Movies\",\"marker\":{\"color\":\"#ffa69e\",\"pattern\":{\"shape\":\"\"}},\"name\":\"TV and Movies\",\"offsetgroup\":\"TV and Movies\",\"orientation\":\"v\",\"showlegend\":false,\"text\":[13.43,14.0,17.23],\"textposition\":\"auto\",\"x\":[\"Negative\",\"Neutral\",\"Positive\"],\"xaxis\":\"x3\",\"y\":[13.43,14.0,17.23],\"yaxis\":\"y3\",\"type\":\"bar\"},{\"alignmentgroup\":\"True\",\"hovertemplate\":\"topics_cleaned=Video Game<br>year=2019<br>sentiment=%{x}<br>% with retweets=%{text}<extra></extra>\",\"legendgroup\":\"Video Game\",\"marker\":{\"color\":\"#FE7F2D\",\"pattern\":{\"shape\":\"\"}},\"name\":\"Video Game\",\"offsetgroup\":\"Video Game\",\"orientation\":\"v\",\"showlegend\":true,\"text\":[15.76,13.21,null],\"textposition\":\"auto\",\"x\":[\"Negative\",\"Neutral\",\"Positive\"],\"xaxis\":\"x\",\"y\":[15.76,13.21,null],\"yaxis\":\"y\",\"type\":\"bar\"},{\"alignmentgroup\":\"True\",\"hovertemplate\":\"topics_cleaned=Video Game<br>year=2020<br>sentiment=%{x}<br>% with retweets=%{text}<extra></extra>\",\"legendgroup\":\"Video Game\",\"marker\":{\"color\":\"#FE7F2D\",\"pattern\":{\"shape\":\"\"}},\"name\":\"Video Game\",\"offsetgroup\":\"Video Game\",\"orientation\":\"v\",\"showlegend\":false,\"text\":[15.13,16.54,18.36],\"textposition\":\"auto\",\"x\":[\"Negative\",\"Neutral\",\"Positive\"],\"xaxis\":\"x2\",\"y\":[15.13,16.54,18.36],\"yaxis\":\"y2\",\"type\":\"bar\"},{\"alignmentgroup\":\"True\",\"hovertemplate\":\"topics_cleaned=Video Game<br>year=2021<br>sentiment=%{x}<br>% with retweets=%{text}<extra></extra>\",\"legendgroup\":\"Video Game\",\"marker\":{\"color\":\"#FE7F2D\",\"pattern\":{\"shape\":\"\"}},\"name\":\"Video Game\",\"offsetgroup\":\"Video Game\",\"orientation\":\"v\",\"showlegend\":false,\"text\":[12.28,13.67,15.96],\"textposition\":\"auto\",\"x\":[\"Negative\",\"Neutral\",\"Positive\"],\"xaxis\":\"x3\",\"y\":[12.28,13.67,15.96],\"yaxis\":\"y3\",\"type\":\"bar\"},{\"alignmentgroup\":\"True\",\"hovertemplate\":\"topics_cleaned=Holiday<br>year=2019<br>sentiment=%{x}<br>% with retweets=%{text}<extra></extra>\",\"legendgroup\":\"Holiday\",\"marker\":{\"color\":\"#FCCA46\",\"pattern\":{\"shape\":\"\"}},\"name\":\"Holiday\",\"offsetgroup\":\"Holiday\",\"orientation\":\"v\",\"showlegend\":true,\"text\":[16.37],\"textposition\":\"auto\",\"x\":[\"Positive\"],\"xaxis\":\"x\",\"y\":[16.37],\"yaxis\":\"y\",\"type\":\"bar\"},{\"alignmentgroup\":\"True\",\"hovertemplate\":\"topics_cleaned=Holiday<br>year=2020<br>sentiment=%{x}<br>% with retweets=%{text}<extra></extra>\",\"legendgroup\":\"Holiday\",\"marker\":{\"color\":\"#FCCA46\",\"pattern\":{\"shape\":\"\"}},\"name\":\"Holiday\",\"offsetgroup\":\"Holiday\",\"orientation\":\"v\",\"showlegend\":false,\"text\":[16.6,13.99,17.7],\"textposition\":\"auto\",\"x\":[\"Negative\",\"Neutral\",\"Positive\"],\"xaxis\":\"x2\",\"y\":[16.6,13.99,17.7],\"yaxis\":\"y2\",\"type\":\"bar\"},{\"alignmentgroup\":\"True\",\"hovertemplate\":\"topics_cleaned=Holiday<br>year=2021<br>sentiment=%{x}<br>% with retweets=%{text}<extra></extra>\",\"legendgroup\":\"Holiday\",\"marker\":{\"color\":\"#FCCA46\",\"pattern\":{\"shape\":\"\"}},\"name\":\"Holiday\",\"offsetgroup\":\"Holiday\",\"orientation\":\"v\",\"showlegend\":false,\"text\":[19.91,15.71,21.58],\"textposition\":\"auto\",\"x\":[\"Negative\",\"Neutral\",\"Positive\"],\"xaxis\":\"x3\",\"y\":[19.91,15.71,21.58],\"yaxis\":\"y3\",\"type\":\"bar\"},{\"alignmentgroup\":\"True\",\"hovertemplate\":\"topics_cleaned=News<br>year=2020<br>sentiment=%{x}<br>% with retweets=%{text}<extra></extra>\",\"legendgroup\":\"News\",\"marker\":{\"color\":\"#ED7B84\",\"pattern\":{\"shape\":\"\"}},\"name\":\"News\",\"offsetgroup\":\"News\",\"orientation\":\"v\",\"showlegend\":true,\"text\":[19.2,17.22,21.6],\"textposition\":\"auto\",\"x\":[\"Negative\",\"Neutral\",\"Positive\"],\"xaxis\":\"x2\",\"y\":[19.2,17.22,21.6],\"yaxis\":\"y2\",\"type\":\"bar\"},{\"alignmentgroup\":\"True\",\"hovertemplate\":\"topics_cleaned=News<br>year=2021<br>sentiment=%{x}<br>% with retweets=%{text}<extra></extra>\",\"legendgroup\":\"News\",\"marker\":{\"color\":\"#ED7B84\",\"pattern\":{\"shape\":\"\"}},\"name\":\"News\",\"offsetgroup\":\"News\",\"orientation\":\"v\",\"showlegend\":false,\"text\":[20.08,16.88,21.87],\"textposition\":\"auto\",\"x\":[\"Negative\",\"Neutral\",\"Positive\"],\"xaxis\":\"x3\",\"y\":[20.08,16.88,21.87],\"yaxis\":\"y3\",\"type\":\"bar\"}],                        {\"template\":{\"data\":{\"histogram2dcontour\":[{\"type\":\"histogram2dcontour\",\"colorbar\":{\"outlinewidth\":0,\"ticks\":\"\"},\"colorscale\":[[0.0,\"#0d0887\"],[0.1111111111111111,\"#46039f\"],[0.2222222222222222,\"#7201a8\"],[0.3333333333333333,\"#9c179e\"],[0.4444444444444444,\"#bd3786\"],[0.5555555555555556,\"#d8576b\"],[0.6666666666666666,\"#ed7953\"],[0.7777777777777778,\"#fb9f3a\"],[0.8888888888888888,\"#fdca26\"],[1.0,\"#f0f921\"]]}],\"choropleth\":[{\"type\":\"choropleth\",\"colorbar\":{\"outlinewidth\":0,\"ticks\":\"\"}}],\"histogram2d\":[{\"type\":\"histogram2d\",\"colorbar\":{\"outlinewidth\":0,\"ticks\":\"\"},\"colorscale\":[[0.0,\"#0d0887\"],[0.1111111111111111,\"#46039f\"],[0.2222222222222222,\"#7201a8\"],[0.3333333333333333,\"#9c179e\"],[0.4444444444444444,\"#bd3786\"],[0.5555555555555556,\"#d8576b\"],[0.6666666666666666,\"#ed7953\"],[0.7777777777777778,\"#fb9f3a\"],[0.8888888888888888,\"#fdca26\"],[1.0,\"#f0f921\"]]}],\"heatmap\":[{\"type\":\"heatmap\",\"colorbar\":{\"outlinewidth\":0,\"ticks\":\"\"},\"colorscale\":[[0.0,\"#0d0887\"],[0.1111111111111111,\"#46039f\"],[0.2222222222222222,\"#7201a8\"],[0.3333333333333333,\"#9c179e\"],[0.4444444444444444,\"#bd3786\"],[0.5555555555555556,\"#d8576b\"],[0.6666666666666666,\"#ed7953\"],[0.7777777777777778,\"#fb9f3a\"],[0.8888888888888888,\"#fdca26\"],[1.0,\"#f0f921\"]]}],\"heatmapgl\":[{\"type\":\"heatmapgl\",\"colorbar\":{\"outlinewidth\":0,\"ticks\":\"\"},\"colorscale\":[[0.0,\"#0d0887\"],[0.1111111111111111,\"#46039f\"],[0.2222222222222222,\"#7201a8\"],[0.3333333333333333,\"#9c179e\"],[0.4444444444444444,\"#bd3786\"],[0.5555555555555556,\"#d8576b\"],[0.6666666666666666,\"#ed7953\"],[0.7777777777777778,\"#fb9f3a\"],[0.8888888888888888,\"#fdca26\"],[1.0,\"#f0f921\"]]}],\"contourcarpet\":[{\"type\":\"contourcarpet\",\"colorbar\":{\"outlinewidth\":0,\"ticks\":\"\"}}],\"contour\":[{\"type\":\"contour\",\"colorbar\":{\"outlinewidth\":0,\"ticks\":\"\"},\"colorscale\":[[0.0,\"#0d0887\"],[0.1111111111111111,\"#46039f\"],[0.2222222222222222,\"#7201a8\"],[0.3333333333333333,\"#9c179e\"],[0.4444444444444444,\"#bd3786\"],[0.5555555555555556,\"#d8576b\"],[0.6666666666666666,\"#ed7953\"],[0.7777777777777778,\"#fb9f3a\"],[0.8888888888888888,\"#fdca26\"],[1.0,\"#f0f921\"]]}],\"surface\":[{\"type\":\"surface\",\"colorbar\":{\"outlinewidth\":0,\"ticks\":\"\"},\"colorscale\":[[0.0,\"#0d0887\"],[0.1111111111111111,\"#46039f\"],[0.2222222222222222,\"#7201a8\"],[0.3333333333333333,\"#9c179e\"],[0.4444444444444444,\"#bd3786\"],[0.5555555555555556,\"#d8576b\"],[0.6666666666666666,\"#ed7953\"],[0.7777777777777778,\"#fb9f3a\"],[0.8888888888888888,\"#fdca26\"],[1.0,\"#f0f921\"]]}],\"mesh3d\":[{\"type\":\"mesh3d\",\"colorbar\":{\"outlinewidth\":0,\"ticks\":\"\"}}],\"scatter\":[{\"fillpattern\":{\"fillmode\":\"overlay\",\"size\":10,\"solidity\":0.2},\"type\":\"scatter\"}],\"parcoords\":[{\"type\":\"parcoords\",\"line\":{\"colorbar\":{\"outlinewidth\":0,\"ticks\":\"\"}}}],\"scatterpolargl\":[{\"type\":\"scatterpolargl\",\"marker\":{\"colorbar\":{\"outlinewidth\":0,\"ticks\":\"\"}}}],\"bar\":[{\"error_x\":{\"color\":\"#2a3f5f\"},\"error_y\":{\"color\":\"#2a3f5f\"},\"marker\":{\"line\":{\"color\":\"#E5ECF6\",\"width\":0.5},\"pattern\":{\"fillmode\":\"overlay\",\"size\":10,\"solidity\":0.2}},\"type\":\"bar\"}],\"scattergeo\":[{\"type\":\"scattergeo\",\"marker\":{\"colorbar\":{\"outlinewidth\":0,\"ticks\":\"\"}}}],\"scatterpolar\":[{\"type\":\"scatterpolar\",\"marker\":{\"colorbar\":{\"outlinewidth\":0,\"ticks\":\"\"}}}],\"histogram\":[{\"marker\":{\"pattern\":{\"fillmode\":\"overlay\",\"size\":10,\"solidity\":0.2}},\"type\":\"histogram\"}],\"scattergl\":[{\"type\":\"scattergl\",\"marker\":{\"colorbar\":{\"outlinewidth\":0,\"ticks\":\"\"}}}],\"scatter3d\":[{\"type\":\"scatter3d\",\"line\":{\"colorbar\":{\"outlinewidth\":0,\"ticks\":\"\"}},\"marker\":{\"colorbar\":{\"outlinewidth\":0,\"ticks\":\"\"}}}],\"scattermapbox\":[{\"type\":\"scattermapbox\",\"marker\":{\"colorbar\":{\"outlinewidth\":0,\"ticks\":\"\"}}}],\"scatterternary\":[{\"type\":\"scatterternary\",\"marker\":{\"colorbar\":{\"outlinewidth\":0,\"ticks\":\"\"}}}],\"scattercarpet\":[{\"type\":\"scattercarpet\",\"marker\":{\"colorbar\":{\"outlinewidth\":0,\"ticks\":\"\"}}}],\"carpet\":[{\"aaxis\":{\"endlinecolor\":\"#2a3f5f\",\"gridcolor\":\"white\",\"linecolor\":\"white\",\"minorgridcolor\":\"white\",\"startlinecolor\":\"#2a3f5f\"},\"baxis\":{\"endlinecolor\":\"#2a3f5f\",\"gridcolor\":\"white\",\"linecolor\":\"white\",\"minorgridcolor\":\"white\",\"startlinecolor\":\"#2a3f5f\"},\"type\":\"carpet\"}],\"table\":[{\"cells\":{\"fill\":{\"color\":\"#EBF0F8\"},\"line\":{\"color\":\"white\"}},\"header\":{\"fill\":{\"color\":\"#C8D4E3\"},\"line\":{\"color\":\"white\"}},\"type\":\"table\"}],\"barpolar\":[{\"marker\":{\"line\":{\"color\":\"#E5ECF6\",\"width\":0.5},\"pattern\":{\"fillmode\":\"overlay\",\"size\":10,\"solidity\":0.2}},\"type\":\"barpolar\"}],\"pie\":[{\"automargin\":true,\"type\":\"pie\"}]},\"layout\":{\"autotypenumbers\":\"strict\",\"colorway\":[\"#636efa\",\"#EF553B\",\"#00cc96\",\"#ab63fa\",\"#FFA15A\",\"#19d3f3\",\"#FF6692\",\"#B6E880\",\"#FF97FF\",\"#FECB52\"],\"font\":{\"color\":\"#2a3f5f\"},\"hovermode\":\"closest\",\"hoverlabel\":{\"align\":\"left\"},\"paper_bgcolor\":\"white\",\"plot_bgcolor\":\"#E5ECF6\",\"polar\":{\"bgcolor\":\"#E5ECF6\",\"angularaxis\":{\"gridcolor\":\"white\",\"linecolor\":\"white\",\"ticks\":\"\"},\"radialaxis\":{\"gridcolor\":\"white\",\"linecolor\":\"white\",\"ticks\":\"\"}},\"ternary\":{\"bgcolor\":\"#E5ECF6\",\"aaxis\":{\"gridcolor\":\"white\",\"linecolor\":\"white\",\"ticks\":\"\"},\"baxis\":{\"gridcolor\":\"white\",\"linecolor\":\"white\",\"ticks\":\"\"},\"caxis\":{\"gridcolor\":\"white\",\"linecolor\":\"white\",\"ticks\":\"\"}},\"coloraxis\":{\"colorbar\":{\"outlinewidth\":0,\"ticks\":\"\"}},\"colorscale\":{\"sequential\":[[0.0,\"#0d0887\"],[0.1111111111111111,\"#46039f\"],[0.2222222222222222,\"#7201a8\"],[0.3333333333333333,\"#9c179e\"],[0.4444444444444444,\"#bd3786\"],[0.5555555555555556,\"#d8576b\"],[0.6666666666666666,\"#ed7953\"],[0.7777777777777778,\"#fb9f3a\"],[0.8888888888888888,\"#fdca26\"],[1.0,\"#f0f921\"]],\"sequentialminus\":[[0.0,\"#0d0887\"],[0.1111111111111111,\"#46039f\"],[0.2222222222222222,\"#7201a8\"],[0.3333333333333333,\"#9c179e\"],[0.4444444444444444,\"#bd3786\"],[0.5555555555555556,\"#d8576b\"],[0.6666666666666666,\"#ed7953\"],[0.7777777777777778,\"#fb9f3a\"],[0.8888888888888888,\"#fdca26\"],[1.0,\"#f0f921\"]],\"diverging\":[[0,\"#8e0152\"],[0.1,\"#c51b7d\"],[0.2,\"#de77ae\"],[0.3,\"#f1b6da\"],[0.4,\"#fde0ef\"],[0.5,\"#f7f7f7\"],[0.6,\"#e6f5d0\"],[0.7,\"#b8e186\"],[0.8,\"#7fbc41\"],[0.9,\"#4d9221\"],[1,\"#276419\"]]},\"xaxis\":{\"gridcolor\":\"white\",\"linecolor\":\"white\",\"ticks\":\"\",\"title\":{\"standoff\":15},\"zerolinecolor\":\"white\",\"automargin\":true,\"zerolinewidth\":2},\"yaxis\":{\"gridcolor\":\"white\",\"linecolor\":\"white\",\"ticks\":\"\",\"title\":{\"standoff\":15},\"zerolinecolor\":\"white\",\"automargin\":true,\"zerolinewidth\":2},\"scene\":{\"xaxis\":{\"backgroundcolor\":\"#E5ECF6\",\"gridcolor\":\"white\",\"linecolor\":\"white\",\"showbackground\":true,\"ticks\":\"\",\"zerolinecolor\":\"white\",\"gridwidth\":2},\"yaxis\":{\"backgroundcolor\":\"#E5ECF6\",\"gridcolor\":\"white\",\"linecolor\":\"white\",\"showbackground\":true,\"ticks\":\"\",\"zerolinecolor\":\"white\",\"gridwidth\":2},\"zaxis\":{\"backgroundcolor\":\"#E5ECF6\",\"gridcolor\":\"white\",\"linecolor\":\"white\",\"showbackground\":true,\"ticks\":\"\",\"zerolinecolor\":\"white\",\"gridwidth\":2}},\"shapedefaults\":{\"line\":{\"color\":\"#2a3f5f\"}},\"annotationdefaults\":{\"arrowcolor\":\"#2a3f5f\",\"arrowhead\":0,\"arrowwidth\":1},\"geo\":{\"bgcolor\":\"white\",\"landcolor\":\"#E5ECF6\",\"subunitcolor\":\"white\",\"showland\":true,\"showlakes\":true,\"lakecolor\":\"white\"},\"title\":{\"x\":0.05},\"mapbox\":{\"style\":\"light\"}}},\"xaxis\":{\"anchor\":\"y\",\"domain\":[0.0,0.31999999999999995],\"title\":{\"text\":\"sentiment\"},\"categoryorder\":\"array\",\"categoryarray\":[\"Other\",\"Person\",\"TV and Movies\",\"Entities\",\"Interest and Hobbies\",\"Sport\",\"Brand\",\"Music\",\"Video Game\",\"Political\",\"Book\",\"Holiday\",\"News\"]},\"yaxis\":{\"anchor\":\"x\",\"domain\":[0.0,1.0],\"title\":{\"text\":\"% with retweets\"}},\"xaxis2\":{\"anchor\":\"y2\",\"domain\":[0.33999999999999997,0.6599999999999999],\"matches\":\"x\",\"title\":{\"text\":\"sentiment\"},\"categoryorder\":\"array\",\"categoryarray\":[\"Other\",\"Person\",\"TV and Movies\",\"Entities\",\"Interest and Hobbies\",\"Sport\",\"Brand\",\"Music\",\"Video Game\",\"Political\",\"Book\",\"Holiday\",\"News\"]},\"yaxis2\":{\"anchor\":\"x2\",\"domain\":[0.0,1.0],\"matches\":\"y\",\"showticklabels\":false,\"title\":{\"text\":\"% with retweets\"}},\"xaxis3\":{\"anchor\":\"y3\",\"domain\":[0.6799999999999999,0.9999999999999999],\"matches\":\"x\",\"title\":{\"text\":\"sentiment\"},\"categoryorder\":\"array\",\"categoryarray\":[\"Other\",\"Person\",\"TV and Movies\",\"Entities\",\"Interest and Hobbies\",\"Sport\",\"Brand\",\"Music\",\"Video Game\",\"Political\",\"Book\",\"Holiday\",\"News\"]},\"yaxis3\":{\"anchor\":\"x3\",\"domain\":[0.0,1.0],\"matches\":\"y\",\"showticklabels\":false,\"title\":{\"text\":\"% with retweets\"}},\"annotations\":[{\"font\":{},\"showarrow\":false,\"text\":\"year=2019\",\"x\":0.15999999999999998,\"xanchor\":\"center\",\"xref\":\"paper\",\"y\":1.0,\"yanchor\":\"bottom\",\"yref\":\"paper\"},{\"font\":{},\"showarrow\":false,\"text\":\"year=2020\",\"x\":0.49999999999999994,\"xanchor\":\"center\",\"xref\":\"paper\",\"y\":1.0,\"yanchor\":\"bottom\",\"yref\":\"paper\"},{\"font\":{},\"showarrow\":false,\"text\":\"year=2021\",\"x\":0.8399999999999999,\"xanchor\":\"center\",\"xref\":\"paper\",\"y\":1.0,\"yanchor\":\"bottom\",\"yref\":\"paper\"}],\"legend\":{\"title\":{\"text\":\"topics_cleaned\"},\"tracegroupgap\":0},\"margin\":{\"t\":60},\"barmode\":\"stack\",\"title\":{\"text\":\"Tweet sentiment by topic and corresponding % retweet count\"},\"width\":900,\"height\":500},                        {\"responsive\": true}                    ).then(function(){\n                            \nvar gd = document.getElementById('305f0ce4-071b-4f1f-9a2c-423b3fe889f9');\nvar x = new MutationObserver(function (mutations, observer) {{\n        var display = window.getComputedStyle(gd).display;\n        if (!display || display === 'none') {{\n            console.log([gd, 'removed!']);\n            Plotly.purge(gd);\n            observer.disconnect();\n        }}\n}});\n\n// Listen for the removal of the full notebook cells\nvar notebookContainer = gd.closest('#notebook-container');\nif (notebookContainer) {{\n    x.observe(notebookContainer, {childList: true});\n}}\n\n// Listen for the clearing of the current output cell\nvar outputEl = gd.closest('.output');\nif (outputEl) {{\n    x.observe(outputEl, {childList: true});\n}}\n\n                        })                };                });            </script>        </div>"
     },
     "metadata": {},
     "output_type": "display_data"
    }
   ],
   "source": [
    "multi_label_chart(df_analysis, \"topics_cleaned\", topics_categories, \"sentiment\", \"% with retweets\", \"sentiment\", \"% with retweets\", \"Tweet sentiment by topic and corresponding % retweet count\", offline_graphs)"
   ],
   "metadata": {
    "collapsed": false,
    "pycharm": {
     "name": "#%%\n"
    }
   }
  },
  {
   "cell_type": "code",
   "execution_count": 60,
   "outputs": [],
   "source": [],
   "metadata": {
    "collapsed": false,
    "pycharm": {
     "name": "#%%\n"
    }
   }
  }
 ],
 "metadata": {
  "kernelspec": {
   "display_name": "Python 3",
   "language": "python",
   "name": "python3"
  },
  "language_info": {
   "codemirror_mode": {
    "name": "ipython",
    "version": 2
   },
   "file_extension": ".py",
   "mimetype": "text/x-python",
   "name": "python",
   "nbconvert_exporter": "python",
   "pygments_lexer": "ipython2",
   "version": "2.7.6"
  }
 },
 "nbformat": 4,
 "nbformat_minor": 0
}