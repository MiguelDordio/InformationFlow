{
 "cells": [
  {
   "cell_type": "code",
   "execution_count": 1,
   "outputs": [],
   "source": [
    "import pandas as pd\n",
    "import numpy as np\n",
    "import json\n",
    "import datetime\n",
    "from vaderSentiment.vaderSentiment import SentimentIntensityAnalyzer\n",
    "from sklearn.preprocessing import LabelEncoder\n",
    "from dateutil.relativedelta import relativedelta\n",
    "from matplotlib import pyplot as plt\n",
    "import math\n",
    "import seaborn as sns\n",
    "sns.set()"
   ],
   "metadata": {
    "collapsed": false,
    "pycharm": {
     "name": "#%%\n"
    }
   }
  },
  {
   "cell_type": "markdown",
   "source": [
    "### Files locations"
   ],
   "metadata": {
    "collapsed": false,
    "pycharm": {
     "name": "#%% md\n"
    }
   }
  },
  {
   "cell_type": "code",
   "execution_count": 251,
   "outputs": [],
   "source": [
    "FILE_USERS = \"../../data/raw_users.csv\"\n",
    "FILE_USERS_TWEETS = \"../../data/raw_tweets.csv\"\n",
    "FILE_RETWEETERS = \"../../data/retweets.csv\"\n",
    "FILE_RETWEETERS_USERS = \"../../data/retweets_users.csv\"\n",
    "FINAL_DATASET = \"../../data/tweets_2020_2021.csv\""
   ],
   "metadata": {
    "collapsed": false,
    "pycharm": {
     "name": "#%%\n"
    }
   }
  },
  {
   "cell_type": "markdown",
   "source": [
    "### Load Datasets"
   ],
   "metadata": {
    "collapsed": false,
    "pycharm": {
     "name": "#%% md\n"
    }
   }
  },
  {
   "cell_type": "code",
   "execution_count": 204,
   "outputs": [
    {
     "name": "stderr",
     "output_type": "stream",
     "text": [
      "/var/folders/7r/g2lhjv3x7bb_lgcnhj7_q9hr0000gn/T/ipykernel_21207/1493569851.py:1: DtypeWarning: Columns (2) have mixed types. Specify dtype option on import or set low_memory=False.\n",
      "  df_users = pd.read_csv(filepath_or_buffer=FILE_USERS, sep=\",\")\n"
     ]
    }
   ],
   "source": [
    "df_users = pd.read_csv(filepath_or_buffer=FILE_USERS, sep=\",\")\n",
    "df_tweets = pd.read_csv(filepath_or_buffer=FILE_USERS_TWEETS, sep=\",\")\n",
    "\n",
    "# df_users = df_users[:100]\n",
    "# df_tweets = df_tweets[:100]"
   ],
   "metadata": {
    "collapsed": false,
    "pycharm": {
     "name": "#%%\n"
    }
   }
  },
  {
   "cell_type": "code",
   "execution_count": 234,
   "outputs": [
    {
     "name": "stdout",
     "output_type": "stream",
     "text": [
      "<class 'pandas.core.frame.DataFrame'>\n",
      "RangeIndex: 1072387 entries, 0 to 1072386\n",
      "Data columns (total 18 columns):\n",
      " #   Column             Non-Null Count    Dtype \n",
      "---  ------             --------------    ----- \n",
      " 0   index              1072387 non-null  int64 \n",
      " 1   Unnamed: 0         1072387 non-null  int64 \n",
      " 2   tweet_id           1072387 non-null  int64 \n",
      " 3   text               1072387 non-null  object\n",
      " 4   user_id            1072387 non-null  int64 \n",
      " 5   timestamp          1072387 non-null  object\n",
      " 6   tweet_type         1072387 non-null  object\n",
      " 7   like_count         1072387 non-null  int64 \n",
      " 8   reply_count        1072387 non-null  int64 \n",
      " 9   retweet_count      1072387 non-null  int64 \n",
      " 10  quote_count        1072387 non-null  int64 \n",
      " 11  device             1037514 non-null  object\n",
      " 12  lang               1072387 non-null  object\n",
      " 13  topics_ids         366686 non-null   object\n",
      " 14  topics             366686 non-null   object\n",
      " 15  referenced_tweets  257787 non-null   object\n",
      " 16  ref_tweed_id       1072387 non-null  int64 \n",
      " 17  reach              1072387 non-null  int64 \n",
      "dtypes: int64(10), object(8)\n",
      "memory usage: 147.3+ MB\n"
     ]
    }
   ],
   "source": [
    "df_tweets.info()"
   ],
   "metadata": {
    "collapsed": false,
    "pycharm": {
     "name": "#%%\n"
    }
   }
  },
  {
   "cell_type": "markdown",
   "source": [
    "### Sort tweets by timestamp"
   ],
   "metadata": {
    "collapsed": false,
    "pycharm": {
     "name": "#%% md\n"
    }
   }
  },
  {
   "cell_type": "code",
   "execution_count": 207,
   "outputs": [
    {
     "data": {
      "text/plain": "     index  Unnamed: 0             tweet_id  \\\n0  1028700     1028700  1212176422770544641   \n1  1028701     1028701  1212176421659062274   \n2  1028698     1028698  1212176423189909506   \n3  1028697     1028697  1212176425916280833   \n4  1028696     1028696  1212176426088181760   \n\n                                                text              user_id  \\\n0  2️⃣0️⃣1️⃣9️⃣ WHAT. A. YEAR. 🌟 #bestnine2019 #t...             29885607   \n1               Gold N Hot 🤪 https://t.co/VeO2k4Mq4h  1130217871286636545   \n2      and he still cheating https://t.co/zYAQ8wc6Vg           3322006549   \n3  Got my hot coco bc it cold out siiiiide boii h...             18707915   \n4  Disgruntled Pope Francis pulls himself free fr...            858762062   \n\n             timestamp      tweet_type  like_count  reply_count  \\\n0  2020-01-01 00:59:14  Original Tweet          35            0   \n1  2020-01-01 00:59:14     Quote Tweet           0            0   \n2  2020-01-01 00:59:15     Quote Tweet           2            2   \n3  2020-01-01 00:59:15  Original Tweet           1            1   \n4  2020-01-01 00:59:15  Original Tweet           0            0   \n\n   retweet_count  quote_count   device lang          topics_ids  \\\n0              1            0   iPhone   en                  []   \n1              0            0   iPhone   en                  []   \n2              1            7   iPhone   en        ['10', '60']   \n3              0            0   iPhone   en                  []   \n4              0            0  Android   en  ['10', '46', '47']   \n\n                                  topics  \\\n0                                     []   \n1                                     []   \n2                  ['Person', 'Athlete']   \n3                                     []   \n4  ['Person', 'Brand Category', 'Brand']   \n\n                                   referenced_tweets  \n0                                                NaN  \n1  [ReferencedTweet(id: 1212167212120920072, type...  \n2  [ReferencedTweet(id: 1211878384961228802, type...  \n3                                                NaN  \n4                                                NaN  ",
      "text/html": "<div>\n<style scoped>\n    .dataframe tbody tr th:only-of-type {\n        vertical-align: middle;\n    }\n\n    .dataframe tbody tr th {\n        vertical-align: top;\n    }\n\n    .dataframe thead th {\n        text-align: right;\n    }\n</style>\n<table border=\"1\" class=\"dataframe\">\n  <thead>\n    <tr style=\"text-align: right;\">\n      <th></th>\n      <th>index</th>\n      <th>Unnamed: 0</th>\n      <th>tweet_id</th>\n      <th>text</th>\n      <th>user_id</th>\n      <th>timestamp</th>\n      <th>tweet_type</th>\n      <th>like_count</th>\n      <th>reply_count</th>\n      <th>retweet_count</th>\n      <th>quote_count</th>\n      <th>device</th>\n      <th>lang</th>\n      <th>topics_ids</th>\n      <th>topics</th>\n      <th>referenced_tweets</th>\n    </tr>\n  </thead>\n  <tbody>\n    <tr>\n      <th>0</th>\n      <td>1028700</td>\n      <td>1028700</td>\n      <td>1212176422770544641</td>\n      <td>2️⃣0️⃣1️⃣9️⃣ WHAT. A. YEAR. 🌟 #bestnine2019 #t...</td>\n      <td>29885607</td>\n      <td>2020-01-01 00:59:14</td>\n      <td>Original Tweet</td>\n      <td>35</td>\n      <td>0</td>\n      <td>1</td>\n      <td>0</td>\n      <td>iPhone</td>\n      <td>en</td>\n      <td>[]</td>\n      <td>[]</td>\n      <td>NaN</td>\n    </tr>\n    <tr>\n      <th>1</th>\n      <td>1028701</td>\n      <td>1028701</td>\n      <td>1212176421659062274</td>\n      <td>Gold N Hot 🤪 https://t.co/VeO2k4Mq4h</td>\n      <td>1130217871286636545</td>\n      <td>2020-01-01 00:59:14</td>\n      <td>Quote Tweet</td>\n      <td>0</td>\n      <td>0</td>\n      <td>0</td>\n      <td>0</td>\n      <td>iPhone</td>\n      <td>en</td>\n      <td>[]</td>\n      <td>[]</td>\n      <td>[ReferencedTweet(id: 1212167212120920072, type...</td>\n    </tr>\n    <tr>\n      <th>2</th>\n      <td>1028698</td>\n      <td>1028698</td>\n      <td>1212176423189909506</td>\n      <td>and he still cheating https://t.co/zYAQ8wc6Vg</td>\n      <td>3322006549</td>\n      <td>2020-01-01 00:59:15</td>\n      <td>Quote Tweet</td>\n      <td>2</td>\n      <td>2</td>\n      <td>1</td>\n      <td>7</td>\n      <td>iPhone</td>\n      <td>en</td>\n      <td>['10', '60']</td>\n      <td>['Person', 'Athlete']</td>\n      <td>[ReferencedTweet(id: 1211878384961228802, type...</td>\n    </tr>\n    <tr>\n      <th>3</th>\n      <td>1028697</td>\n      <td>1028697</td>\n      <td>1212176425916280833</td>\n      <td>Got my hot coco bc it cold out siiiiide boii h...</td>\n      <td>18707915</td>\n      <td>2020-01-01 00:59:15</td>\n      <td>Original Tweet</td>\n      <td>1</td>\n      <td>1</td>\n      <td>0</td>\n      <td>0</td>\n      <td>iPhone</td>\n      <td>en</td>\n      <td>[]</td>\n      <td>[]</td>\n      <td>NaN</td>\n    </tr>\n    <tr>\n      <th>4</th>\n      <td>1028696</td>\n      <td>1028696</td>\n      <td>1212176426088181760</td>\n      <td>Disgruntled Pope Francis pulls himself free fr...</td>\n      <td>858762062</td>\n      <td>2020-01-01 00:59:15</td>\n      <td>Original Tweet</td>\n      <td>0</td>\n      <td>0</td>\n      <td>0</td>\n      <td>0</td>\n      <td>Android</td>\n      <td>en</td>\n      <td>['10', '46', '47']</td>\n      <td>['Person', 'Brand Category', 'Brand']</td>\n      <td>NaN</td>\n    </tr>\n  </tbody>\n</table>\n</div>"
     },
     "execution_count": 207,
     "metadata": {},
     "output_type": "execute_result"
    }
   ],
   "source": [
    "df_tweets = df_tweets.sort_values(by='timestamp', ascending=True).reset_index()\n",
    "df_tweets.head(5)"
   ],
   "metadata": {
    "collapsed": false,
    "pycharm": {
     "name": "#%%\n"
    }
   }
  },
  {
   "cell_type": "markdown",
   "source": [
    "### Delete duplicate users"
   ],
   "metadata": {
    "collapsed": false,
    "pycharm": {
     "name": "#%% md\n"
    }
   }
  },
  {
   "cell_type": "code",
   "execution_count": 209,
   "outputs": [
    {
     "data": {
      "text/plain": "         Unnamed: 0              user_id                               name  \\\n0                 0            874735375                            ARobles   \n1                 1           2331261888                     James Smith Jr   \n2                 2  1043073024092766208  STOP SAYING POC, IT’s A CUSS WORD   \n3                 3  1350969232897552385                   Pure Rap Podcast   \n4                 4   811604288443187200                  April Showers ⛈🌪💫   \n...             ...                  ...                                ...   \n1072375     1072375            324616347                            1056043   \n1072376     1072376            249105428                            1056044   \n1072381     1072381            395058107                            1056049   \n1072382     1072382            608420462                            1056050   \n1072386     1072386             72356014                            1056054   \n\n                username  followers  following  tweet_count  verified  \\\n0        anthonysradical        278        203         3844     False   \n1        iamjamesnumber1       2292       4490        96610     False   \n2              ADOSALLY1       1076       1190        13969     False   \n3         PureRapPodcast       2465       2111        27373     False   \n4           moonlitefire       1570        874        27642     False   \n...                  ...        ...        ...          ...       ...   \n1072375      TwitTitty10        388        251        38688     False   \n1072376     gwarmothwftv      10598        189        17492      True   \n1072381         sgeezy99        572        773         6236     False   \n1072382  Skeeter_Bentley        388          0         5846     False   \n1072386        deafheron       2066        926        19027     False   \n\n                        created_at  \n0        2012-10-12 01:55:26+00:00  \n1        2014-02-07 04:06:30+00:00  \n2        2018-09-21 09:42:43+00:00  \n3        2021-01-18 00:52:30+00:00  \n4        2016-12-21 16:08:36+00:00  \n...                            ...  \n1072375        2011-06-26 23:10:32  \n1072376        2011-02-08 11:19:53  \n1072381        2011-10-21 02:06:15  \n1072382        2012-06-14 19:30:38  \n1072386        2009-09-07 19:07:16  \n\n[438940 rows x 9 columns]",
      "text/html": "<div>\n<style scoped>\n    .dataframe tbody tr th:only-of-type {\n        vertical-align: middle;\n    }\n\n    .dataframe tbody tr th {\n        vertical-align: top;\n    }\n\n    .dataframe thead th {\n        text-align: right;\n    }\n</style>\n<table border=\"1\" class=\"dataframe\">\n  <thead>\n    <tr style=\"text-align: right;\">\n      <th></th>\n      <th>Unnamed: 0</th>\n      <th>user_id</th>\n      <th>name</th>\n      <th>username</th>\n      <th>followers</th>\n      <th>following</th>\n      <th>tweet_count</th>\n      <th>verified</th>\n      <th>created_at</th>\n    </tr>\n  </thead>\n  <tbody>\n    <tr>\n      <th>0</th>\n      <td>0</td>\n      <td>874735375</td>\n      <td>ARobles</td>\n      <td>anthonysradical</td>\n      <td>278</td>\n      <td>203</td>\n      <td>3844</td>\n      <td>False</td>\n      <td>2012-10-12 01:55:26+00:00</td>\n    </tr>\n    <tr>\n      <th>1</th>\n      <td>1</td>\n      <td>2331261888</td>\n      <td>James Smith Jr</td>\n      <td>iamjamesnumber1</td>\n      <td>2292</td>\n      <td>4490</td>\n      <td>96610</td>\n      <td>False</td>\n      <td>2014-02-07 04:06:30+00:00</td>\n    </tr>\n    <tr>\n      <th>2</th>\n      <td>2</td>\n      <td>1043073024092766208</td>\n      <td>STOP SAYING POC, IT’s A CUSS WORD</td>\n      <td>ADOSALLY1</td>\n      <td>1076</td>\n      <td>1190</td>\n      <td>13969</td>\n      <td>False</td>\n      <td>2018-09-21 09:42:43+00:00</td>\n    </tr>\n    <tr>\n      <th>3</th>\n      <td>3</td>\n      <td>1350969232897552385</td>\n      <td>Pure Rap Podcast</td>\n      <td>PureRapPodcast</td>\n      <td>2465</td>\n      <td>2111</td>\n      <td>27373</td>\n      <td>False</td>\n      <td>2021-01-18 00:52:30+00:00</td>\n    </tr>\n    <tr>\n      <th>4</th>\n      <td>4</td>\n      <td>811604288443187200</td>\n      <td>April Showers ⛈🌪💫</td>\n      <td>moonlitefire</td>\n      <td>1570</td>\n      <td>874</td>\n      <td>27642</td>\n      <td>False</td>\n      <td>2016-12-21 16:08:36+00:00</td>\n    </tr>\n    <tr>\n      <th>...</th>\n      <td>...</td>\n      <td>...</td>\n      <td>...</td>\n      <td>...</td>\n      <td>...</td>\n      <td>...</td>\n      <td>...</td>\n      <td>...</td>\n      <td>...</td>\n    </tr>\n    <tr>\n      <th>1072375</th>\n      <td>1072375</td>\n      <td>324616347</td>\n      <td>1056043</td>\n      <td>TwitTitty10</td>\n      <td>388</td>\n      <td>251</td>\n      <td>38688</td>\n      <td>False</td>\n      <td>2011-06-26 23:10:32</td>\n    </tr>\n    <tr>\n      <th>1072376</th>\n      <td>1072376</td>\n      <td>249105428</td>\n      <td>1056044</td>\n      <td>gwarmothwftv</td>\n      <td>10598</td>\n      <td>189</td>\n      <td>17492</td>\n      <td>True</td>\n      <td>2011-02-08 11:19:53</td>\n    </tr>\n    <tr>\n      <th>1072381</th>\n      <td>1072381</td>\n      <td>395058107</td>\n      <td>1056049</td>\n      <td>sgeezy99</td>\n      <td>572</td>\n      <td>773</td>\n      <td>6236</td>\n      <td>False</td>\n      <td>2011-10-21 02:06:15</td>\n    </tr>\n    <tr>\n      <th>1072382</th>\n      <td>1072382</td>\n      <td>608420462</td>\n      <td>1056050</td>\n      <td>Skeeter_Bentley</td>\n      <td>388</td>\n      <td>0</td>\n      <td>5846</td>\n      <td>False</td>\n      <td>2012-06-14 19:30:38</td>\n    </tr>\n    <tr>\n      <th>1072386</th>\n      <td>1072386</td>\n      <td>72356014</td>\n      <td>1056054</td>\n      <td>deafheron</td>\n      <td>2066</td>\n      <td>926</td>\n      <td>19027</td>\n      <td>False</td>\n      <td>2009-09-07 19:07:16</td>\n    </tr>\n  </tbody>\n</table>\n<p>438940 rows × 9 columns</p>\n</div>"
     },
     "execution_count": 209,
     "metadata": {},
     "output_type": "execute_result"
    }
   ],
   "source": [
    "df_users = df_users.drop_duplicates(subset=['user_id'], keep=\"first\")\n",
    "df_users"
   ],
   "metadata": {
    "collapsed": false,
    "pycharm": {
     "name": "#%%\n"
    }
   }
  },
  {
   "cell_type": "markdown",
   "source": [
    "## Calculate tweet reach\n",
    "\n",
    "#### These values indicate the maximum possible of people that could have seen a given tweet\n",
    "\n",
    "To do this, a sum of all the original tweet user's followers is made with the followers from all the users that retweeted/quoted the tweet\n",
    "\n",
    "Note: this assumes that if a retweet is then shared by retweet again, those next audiences are not taken into account"
   ],
   "metadata": {
    "collapsed": false,
    "pycharm": {
     "name": "#%% md\n"
    }
   }
  },
  {
   "cell_type": "code",
   "execution_count": 210,
   "outputs": [],
   "source": [
    "df_retweeters = pd.read_csv(filepath_or_buffer=FILE_RETWEETERS_USERS, sep=\",\")\n",
    "df_retweets = pd.read_csv(filepath_or_buffer=FILE_RETWEETERS, sep=\",\")"
   ],
   "metadata": {
    "collapsed": false,
    "pycharm": {
     "name": "#%%\n"
    }
   }
  },
  {
   "cell_type": "code",
   "execution_count": 211,
   "outputs": [
    {
     "data": {
      "text/plain": "   Unnamed: 0             tweet_id  \\\n0           0  1475758320568971271   \n1           1  1473588933883801601   \n2           2  1473588921749573635   \n3           3  1473430854680838144   \n4           4  1473324608963100679   \n\n                                                text              user_id  \\\n0  RT @Keiththebat: Zack Snyder's back must be so...           3457095793   \n1  RT @Keiththebat: Zack Snyder's back must be so...  1206541010408333313   \n2  RT @Keiththebat: Zack Snyder's back must be so...  1369228958739263488   \n3  RT @gameallniteshow: Getting in some Coffee Tr...           3223132542   \n4  RT @Tails7354: Sonic X: FIU Eye-Catch Card: Fl...  1256240643258671105   \n\n             timestamp     tweet_type  like_count  reply_count  retweet_count  \\\n0  2021-12-28 09:19:36  Retweet Tweet           0            0              4   \n1  2021-12-22 09:39:14  Retweet Tweet           0            0              4   \n2  2021-12-22 09:39:11  Retweet Tweet           0            0              4   \n3  2021-12-21 23:11:05  Retweet Tweet           0            0              2   \n4  2021-12-21 16:08:54  Retweet Tweet           0            0              2   \n\n   quote_count   device lang topics_ids topics  \\\n0            0  Android   en         []     []   \n1            0      Bot   en         []     []   \n2            0  Android   en         []     []   \n3            0  Android   en         []     []   \n4            0   iPhone   en         []     []   \n\n                                   referenced_tweets  \n0  [ReferencedTweet(id: 1473095800364351490, type...  \n1  [ReferencedTweet(id: 1473095800364351490, type...  \n2  [ReferencedTweet(id: 1473095800364351490, type...  \n3  [ReferencedTweet(id: 1473095644709535745, type...  \n4  [ReferencedTweet(id: 1473200836071329793, type...  ",
      "text/html": "<div>\n<style scoped>\n    .dataframe tbody tr th:only-of-type {\n        vertical-align: middle;\n    }\n\n    .dataframe tbody tr th {\n        vertical-align: top;\n    }\n\n    .dataframe thead th {\n        text-align: right;\n    }\n</style>\n<table border=\"1\" class=\"dataframe\">\n  <thead>\n    <tr style=\"text-align: right;\">\n      <th></th>\n      <th>Unnamed: 0</th>\n      <th>tweet_id</th>\n      <th>text</th>\n      <th>user_id</th>\n      <th>timestamp</th>\n      <th>tweet_type</th>\n      <th>like_count</th>\n      <th>reply_count</th>\n      <th>retweet_count</th>\n      <th>quote_count</th>\n      <th>device</th>\n      <th>lang</th>\n      <th>topics_ids</th>\n      <th>topics</th>\n      <th>referenced_tweets</th>\n    </tr>\n  </thead>\n  <tbody>\n    <tr>\n      <th>0</th>\n      <td>0</td>\n      <td>1475758320568971271</td>\n      <td>RT @Keiththebat: Zack Snyder's back must be so...</td>\n      <td>3457095793</td>\n      <td>2021-12-28 09:19:36</td>\n      <td>Retweet Tweet</td>\n      <td>0</td>\n      <td>0</td>\n      <td>4</td>\n      <td>0</td>\n      <td>Android</td>\n      <td>en</td>\n      <td>[]</td>\n      <td>[]</td>\n      <td>[ReferencedTweet(id: 1473095800364351490, type...</td>\n    </tr>\n    <tr>\n      <th>1</th>\n      <td>1</td>\n      <td>1473588933883801601</td>\n      <td>RT @Keiththebat: Zack Snyder's back must be so...</td>\n      <td>1206541010408333313</td>\n      <td>2021-12-22 09:39:14</td>\n      <td>Retweet Tweet</td>\n      <td>0</td>\n      <td>0</td>\n      <td>4</td>\n      <td>0</td>\n      <td>Bot</td>\n      <td>en</td>\n      <td>[]</td>\n      <td>[]</td>\n      <td>[ReferencedTweet(id: 1473095800364351490, type...</td>\n    </tr>\n    <tr>\n      <th>2</th>\n      <td>2</td>\n      <td>1473588921749573635</td>\n      <td>RT @Keiththebat: Zack Snyder's back must be so...</td>\n      <td>1369228958739263488</td>\n      <td>2021-12-22 09:39:11</td>\n      <td>Retweet Tweet</td>\n      <td>0</td>\n      <td>0</td>\n      <td>4</td>\n      <td>0</td>\n      <td>Android</td>\n      <td>en</td>\n      <td>[]</td>\n      <td>[]</td>\n      <td>[ReferencedTweet(id: 1473095800364351490, type...</td>\n    </tr>\n    <tr>\n      <th>3</th>\n      <td>3</td>\n      <td>1473430854680838144</td>\n      <td>RT @gameallniteshow: Getting in some Coffee Tr...</td>\n      <td>3223132542</td>\n      <td>2021-12-21 23:11:05</td>\n      <td>Retweet Tweet</td>\n      <td>0</td>\n      <td>0</td>\n      <td>2</td>\n      <td>0</td>\n      <td>Android</td>\n      <td>en</td>\n      <td>[]</td>\n      <td>[]</td>\n      <td>[ReferencedTweet(id: 1473095644709535745, type...</td>\n    </tr>\n    <tr>\n      <th>4</th>\n      <td>4</td>\n      <td>1473324608963100679</td>\n      <td>RT @Tails7354: Sonic X: FIU Eye-Catch Card: Fl...</td>\n      <td>1256240643258671105</td>\n      <td>2021-12-21 16:08:54</td>\n      <td>Retweet Tweet</td>\n      <td>0</td>\n      <td>0</td>\n      <td>2</td>\n      <td>0</td>\n      <td>iPhone</td>\n      <td>en</td>\n      <td>[]</td>\n      <td>[]</td>\n      <td>[ReferencedTweet(id: 1473200836071329793, type...</td>\n    </tr>\n  </tbody>\n</table>\n</div>"
     },
     "execution_count": 211,
     "metadata": {},
     "output_type": "execute_result"
    }
   ],
   "source": [
    "df_retweets.head()"
   ],
   "metadata": {
    "collapsed": false,
    "pycharm": {
     "name": "#%%\n"
    }
   }
  },
  {
   "cell_type": "code",
   "execution_count": 212,
   "outputs": [
    {
     "data": {
      "text/plain": "   Unnamed: 0              user_id                               name  \\\n0           0           3457095793                     SALEH ALOTAIBI   \n1           1  1206541010408333313                          DC Tweets   \n2           2  1369228958739263488                        Cottencandy   \n3           3           3223132542                                アマノ   \n4           4  1256240643258671105  💙Sonic The Dragonhog🌙 (On hiatus)   \n\n          username  followers  following  tweet_count  verified  \\\n0  SALEHAL49202807         29          0         7473     False   \n1        RetweetDc       7851         40       406311     False   \n2  Cottenc57931689        100        309        30127     False   \n3     sikkoukakari       3383       4707        10649     False   \n4       SDragonhog        657       1017       121701     False   \n\n            created_at  \n0  2015-09-05 07:49:00  \n1  2019-12-16 11:47:16  \n2  2021-03-09 10:10:16  \n3  2015-05-22 10:48:05  \n4  2020-05-01 15:15:05  ",
      "text/html": "<div>\n<style scoped>\n    .dataframe tbody tr th:only-of-type {\n        vertical-align: middle;\n    }\n\n    .dataframe tbody tr th {\n        vertical-align: top;\n    }\n\n    .dataframe thead th {\n        text-align: right;\n    }\n</style>\n<table border=\"1\" class=\"dataframe\">\n  <thead>\n    <tr style=\"text-align: right;\">\n      <th></th>\n      <th>Unnamed: 0</th>\n      <th>user_id</th>\n      <th>name</th>\n      <th>username</th>\n      <th>followers</th>\n      <th>following</th>\n      <th>tweet_count</th>\n      <th>verified</th>\n      <th>created_at</th>\n    </tr>\n  </thead>\n  <tbody>\n    <tr>\n      <th>0</th>\n      <td>0</td>\n      <td>3457095793</td>\n      <td>SALEH ALOTAIBI</td>\n      <td>SALEHAL49202807</td>\n      <td>29</td>\n      <td>0</td>\n      <td>7473</td>\n      <td>False</td>\n      <td>2015-09-05 07:49:00</td>\n    </tr>\n    <tr>\n      <th>1</th>\n      <td>1</td>\n      <td>1206541010408333313</td>\n      <td>DC Tweets</td>\n      <td>RetweetDc</td>\n      <td>7851</td>\n      <td>40</td>\n      <td>406311</td>\n      <td>False</td>\n      <td>2019-12-16 11:47:16</td>\n    </tr>\n    <tr>\n      <th>2</th>\n      <td>2</td>\n      <td>1369228958739263488</td>\n      <td>Cottencandy</td>\n      <td>Cottenc57931689</td>\n      <td>100</td>\n      <td>309</td>\n      <td>30127</td>\n      <td>False</td>\n      <td>2021-03-09 10:10:16</td>\n    </tr>\n    <tr>\n      <th>3</th>\n      <td>3</td>\n      <td>3223132542</td>\n      <td>アマノ</td>\n      <td>sikkoukakari</td>\n      <td>3383</td>\n      <td>4707</td>\n      <td>10649</td>\n      <td>False</td>\n      <td>2015-05-22 10:48:05</td>\n    </tr>\n    <tr>\n      <th>4</th>\n      <td>4</td>\n      <td>1256240643258671105</td>\n      <td>💙Sonic The Dragonhog🌙 (On hiatus)</td>\n      <td>SDragonhog</td>\n      <td>657</td>\n      <td>1017</td>\n      <td>121701</td>\n      <td>False</td>\n      <td>2020-05-01 15:15:05</td>\n    </tr>\n  </tbody>\n</table>\n</div>"
     },
     "execution_count": 212,
     "metadata": {},
     "output_type": "execute_result"
    }
   ],
   "source": [
    "df_retweeters.head()"
   ],
   "metadata": {
    "collapsed": false,
    "pycharm": {
     "name": "#%%\n"
    }
   }
  },
  {
   "cell_type": "markdown",
   "source": [
    "### Removing duplicated retweeters\n",
    "\n",
    "37432 retweeters will be removed"
   ],
   "metadata": {
    "collapsed": false,
    "pycharm": {
     "name": "#%% md\n"
    }
   }
  },
  {
   "cell_type": "code",
   "execution_count": 213,
   "outputs": [
    {
     "data": {
      "text/plain": "(278349, 9)"
     },
     "execution_count": 213,
     "metadata": {},
     "output_type": "execute_result"
    }
   ],
   "source": [
    "df_retweeters.shape"
   ],
   "metadata": {
    "collapsed": false,
    "pycharm": {
     "name": "#%%\n"
    }
   }
  },
  {
   "cell_type": "code",
   "execution_count": 214,
   "outputs": [
    {
     "data": {
      "text/plain": "        Unnamed: 0              user_id                               name  \\\n0                0           3457095793                     SALEH ALOTAIBI   \n1                1  1206541010408333313                          DC Tweets   \n2                2  1369228958739263488                        Cottencandy   \n3                3           3223132542                                アマノ   \n4                4  1256240643258671105  💙Sonic The Dragonhog🌙 (On hiatus)   \n...            ...                  ...                                ...   \n278344      278344           3736161195                                 ‏َ   \n278345      278345  1220520282017976320         Ju Quer Abraçar O Josh🇨🇦♥️   \n278346      278346             42664231               Gilbert Economic Dev   \n278347      278347             86356349                   Gilbert, Arizona   \n278348      278348             19893170                  Brigette Peterson   \n\n               username  followers  following  tweet_count  verified  \\\n0       SALEHAL49202807         29          0         7473     False   \n1             RetweetDc       7851         40       406311     False   \n2       Cottenc57931689        100        309        30127     False   \n3          sikkoukakari       3383       4707        10649     False   \n4            SDragonhog        657       1017       121701     False   \n...                 ...        ...        ...          ...       ...   \n278344         noahsoIo       4020        290        29116     False   \n278345      uniter_juju         11         79           57     False   \n278346  GilbertAZEcoDev       3215        557         3657      True   \n278347  GilbertYourTown      25992       2666        22969      True   \n278348       BrigetteDP       1573       1103        13235     False   \n\n                 created_at  \n0       2015-09-05 07:49:00  \n1       2019-12-16 11:47:16  \n2       2021-03-09 10:10:16  \n3       2015-05-22 10:48:05  \n4       2020-05-01 15:15:05  \n...                     ...  \n278344  2015-09-22 06:42:48  \n278345  2020-01-24 01:35:01  \n278346  2009-05-26 16:51:49  \n278347  2009-10-30 17:18:49  \n278348  2009-02-02 04:32:22  \n\n[240917 rows x 9 columns]",
      "text/html": "<div>\n<style scoped>\n    .dataframe tbody tr th:only-of-type {\n        vertical-align: middle;\n    }\n\n    .dataframe tbody tr th {\n        vertical-align: top;\n    }\n\n    .dataframe thead th {\n        text-align: right;\n    }\n</style>\n<table border=\"1\" class=\"dataframe\">\n  <thead>\n    <tr style=\"text-align: right;\">\n      <th></th>\n      <th>Unnamed: 0</th>\n      <th>user_id</th>\n      <th>name</th>\n      <th>username</th>\n      <th>followers</th>\n      <th>following</th>\n      <th>tweet_count</th>\n      <th>verified</th>\n      <th>created_at</th>\n    </tr>\n  </thead>\n  <tbody>\n    <tr>\n      <th>0</th>\n      <td>0</td>\n      <td>3457095793</td>\n      <td>SALEH ALOTAIBI</td>\n      <td>SALEHAL49202807</td>\n      <td>29</td>\n      <td>0</td>\n      <td>7473</td>\n      <td>False</td>\n      <td>2015-09-05 07:49:00</td>\n    </tr>\n    <tr>\n      <th>1</th>\n      <td>1</td>\n      <td>1206541010408333313</td>\n      <td>DC Tweets</td>\n      <td>RetweetDc</td>\n      <td>7851</td>\n      <td>40</td>\n      <td>406311</td>\n      <td>False</td>\n      <td>2019-12-16 11:47:16</td>\n    </tr>\n    <tr>\n      <th>2</th>\n      <td>2</td>\n      <td>1369228958739263488</td>\n      <td>Cottencandy</td>\n      <td>Cottenc57931689</td>\n      <td>100</td>\n      <td>309</td>\n      <td>30127</td>\n      <td>False</td>\n      <td>2021-03-09 10:10:16</td>\n    </tr>\n    <tr>\n      <th>3</th>\n      <td>3</td>\n      <td>3223132542</td>\n      <td>アマノ</td>\n      <td>sikkoukakari</td>\n      <td>3383</td>\n      <td>4707</td>\n      <td>10649</td>\n      <td>False</td>\n      <td>2015-05-22 10:48:05</td>\n    </tr>\n    <tr>\n      <th>4</th>\n      <td>4</td>\n      <td>1256240643258671105</td>\n      <td>💙Sonic The Dragonhog🌙 (On hiatus)</td>\n      <td>SDragonhog</td>\n      <td>657</td>\n      <td>1017</td>\n      <td>121701</td>\n      <td>False</td>\n      <td>2020-05-01 15:15:05</td>\n    </tr>\n    <tr>\n      <th>...</th>\n      <td>...</td>\n      <td>...</td>\n      <td>...</td>\n      <td>...</td>\n      <td>...</td>\n      <td>...</td>\n      <td>...</td>\n      <td>...</td>\n      <td>...</td>\n    </tr>\n    <tr>\n      <th>278344</th>\n      <td>278344</td>\n      <td>3736161195</td>\n      <td>‏َ</td>\n      <td>noahsoIo</td>\n      <td>4020</td>\n      <td>290</td>\n      <td>29116</td>\n      <td>False</td>\n      <td>2015-09-22 06:42:48</td>\n    </tr>\n    <tr>\n      <th>278345</th>\n      <td>278345</td>\n      <td>1220520282017976320</td>\n      <td>Ju Quer Abraçar O Josh🇨🇦♥️</td>\n      <td>uniter_juju</td>\n      <td>11</td>\n      <td>79</td>\n      <td>57</td>\n      <td>False</td>\n      <td>2020-01-24 01:35:01</td>\n    </tr>\n    <tr>\n      <th>278346</th>\n      <td>278346</td>\n      <td>42664231</td>\n      <td>Gilbert Economic Dev</td>\n      <td>GilbertAZEcoDev</td>\n      <td>3215</td>\n      <td>557</td>\n      <td>3657</td>\n      <td>True</td>\n      <td>2009-05-26 16:51:49</td>\n    </tr>\n    <tr>\n      <th>278347</th>\n      <td>278347</td>\n      <td>86356349</td>\n      <td>Gilbert, Arizona</td>\n      <td>GilbertYourTown</td>\n      <td>25992</td>\n      <td>2666</td>\n      <td>22969</td>\n      <td>True</td>\n      <td>2009-10-30 17:18:49</td>\n    </tr>\n    <tr>\n      <th>278348</th>\n      <td>278348</td>\n      <td>19893170</td>\n      <td>Brigette Peterson</td>\n      <td>BrigetteDP</td>\n      <td>1573</td>\n      <td>1103</td>\n      <td>13235</td>\n      <td>False</td>\n      <td>2009-02-02 04:32:22</td>\n    </tr>\n  </tbody>\n</table>\n<p>240917 rows × 9 columns</p>\n</div>"
     },
     "execution_count": 214,
     "metadata": {},
     "output_type": "execute_result"
    }
   ],
   "source": [
    "df_retweeters = df_retweeters.drop_duplicates(subset=['user_id'], keep=\"first\")\n",
    "df_retweeters"
   ],
   "metadata": {
    "collapsed": false,
    "pycharm": {
     "name": "#%%\n"
    }
   }
  },
  {
   "cell_type": "code",
   "execution_count": 215,
   "outputs": [
    {
     "data": {
      "text/plain": "(278349, 15)"
     },
     "execution_count": 215,
     "metadata": {},
     "output_type": "execute_result"
    }
   ],
   "source": [
    "df_retweets.shape"
   ],
   "metadata": {
    "collapsed": false,
    "pycharm": {
     "name": "#%%\n"
    }
   }
  },
  {
   "cell_type": "code",
   "execution_count": 216,
   "outputs": [
    {
     "data": {
      "text/plain": "    index  Unnamed: 0             tweet_id  \\\n0  267872      267872  1212176450679377921   \n1  267871      267871  1212176611627458560   \n2  267870      267870  1212176685002571776   \n3  267869      267869  1212176700861227009   \n4  267868      267868  1212176835603288064   \n\n                                                text              user_id  \\\n0  This is the way and only way Jay Armstrong Cut...   833382201785978882   \n1  RT @LexingtonPD: TRAFFIC ALERT - A collision o...           3028245479   \n2  RT @alsilicaniyours: This is the way and only ...   833382201785978882   \n3                  Let’s not https://t.co/gMH6UWVB6q             27785930   \n4  RT @LexingtonPD: TRAFFIC ALERT - A collision o...  1012475880248143873   \n\n             timestamp     tweet_type  like_count  reply_count  retweet_count  \\\n0  2020-01-01 00:59:21    Quote Tweet           1            0              1   \n1  2020-01-01 01:00:00  Retweet Tweet           0            0              4   \n2  2020-01-01 01:00:17  Retweet Tweet           0            0              1   \n3  2020-01-01 01:00:21    Quote Tweet           0            3              0   \n4  2020-01-01 01:00:53  Retweet Tweet           0            0              4   \n\n   quote_count   device lang topics_ids topics  \\\n0            0  Android   en         []     []   \n1            0   iPhone   en         []     []   \n2            0  Android   en         []     []   \n3            0   iPhone   en         []     []   \n4            0  Android   en         []     []   \n\n                                   referenced_tweets  \n0  [ReferencedTweet(id: 1212175890785996801, type...  \n1  [ReferencedTweet(id: 1212176549769830401, type...  \n2  [ReferencedTweet(id: 1212176450679377921, type...  \n3  [ReferencedTweet(id: 1212176423189909506, type...  \n4  [ReferencedTweet(id: 1212176549769830401, type...  ",
      "text/html": "<div>\n<style scoped>\n    .dataframe tbody tr th:only-of-type {\n        vertical-align: middle;\n    }\n\n    .dataframe tbody tr th {\n        vertical-align: top;\n    }\n\n    .dataframe thead th {\n        text-align: right;\n    }\n</style>\n<table border=\"1\" class=\"dataframe\">\n  <thead>\n    <tr style=\"text-align: right;\">\n      <th></th>\n      <th>index</th>\n      <th>Unnamed: 0</th>\n      <th>tweet_id</th>\n      <th>text</th>\n      <th>user_id</th>\n      <th>timestamp</th>\n      <th>tweet_type</th>\n      <th>like_count</th>\n      <th>reply_count</th>\n      <th>retweet_count</th>\n      <th>quote_count</th>\n      <th>device</th>\n      <th>lang</th>\n      <th>topics_ids</th>\n      <th>topics</th>\n      <th>referenced_tweets</th>\n    </tr>\n  </thead>\n  <tbody>\n    <tr>\n      <th>0</th>\n      <td>267872</td>\n      <td>267872</td>\n      <td>1212176450679377921</td>\n      <td>This is the way and only way Jay Armstrong Cut...</td>\n      <td>833382201785978882</td>\n      <td>2020-01-01 00:59:21</td>\n      <td>Quote Tweet</td>\n      <td>1</td>\n      <td>0</td>\n      <td>1</td>\n      <td>0</td>\n      <td>Android</td>\n      <td>en</td>\n      <td>[]</td>\n      <td>[]</td>\n      <td>[ReferencedTweet(id: 1212175890785996801, type...</td>\n    </tr>\n    <tr>\n      <th>1</th>\n      <td>267871</td>\n      <td>267871</td>\n      <td>1212176611627458560</td>\n      <td>RT @LexingtonPD: TRAFFIC ALERT - A collision o...</td>\n      <td>3028245479</td>\n      <td>2020-01-01 01:00:00</td>\n      <td>Retweet Tweet</td>\n      <td>0</td>\n      <td>0</td>\n      <td>4</td>\n      <td>0</td>\n      <td>iPhone</td>\n      <td>en</td>\n      <td>[]</td>\n      <td>[]</td>\n      <td>[ReferencedTweet(id: 1212176549769830401, type...</td>\n    </tr>\n    <tr>\n      <th>2</th>\n      <td>267870</td>\n      <td>267870</td>\n      <td>1212176685002571776</td>\n      <td>RT @alsilicaniyours: This is the way and only ...</td>\n      <td>833382201785978882</td>\n      <td>2020-01-01 01:00:17</td>\n      <td>Retweet Tweet</td>\n      <td>0</td>\n      <td>0</td>\n      <td>1</td>\n      <td>0</td>\n      <td>Android</td>\n      <td>en</td>\n      <td>[]</td>\n      <td>[]</td>\n      <td>[ReferencedTweet(id: 1212176450679377921, type...</td>\n    </tr>\n    <tr>\n      <th>3</th>\n      <td>267869</td>\n      <td>267869</td>\n      <td>1212176700861227009</td>\n      <td>Let’s not https://t.co/gMH6UWVB6q</td>\n      <td>27785930</td>\n      <td>2020-01-01 01:00:21</td>\n      <td>Quote Tweet</td>\n      <td>0</td>\n      <td>3</td>\n      <td>0</td>\n      <td>0</td>\n      <td>iPhone</td>\n      <td>en</td>\n      <td>[]</td>\n      <td>[]</td>\n      <td>[ReferencedTweet(id: 1212176423189909506, type...</td>\n    </tr>\n    <tr>\n      <th>4</th>\n      <td>267868</td>\n      <td>267868</td>\n      <td>1212176835603288064</td>\n      <td>RT @LexingtonPD: TRAFFIC ALERT - A collision o...</td>\n      <td>1012475880248143873</td>\n      <td>2020-01-01 01:00:53</td>\n      <td>Retweet Tweet</td>\n      <td>0</td>\n      <td>0</td>\n      <td>4</td>\n      <td>0</td>\n      <td>Android</td>\n      <td>en</td>\n      <td>[]</td>\n      <td>[]</td>\n      <td>[ReferencedTweet(id: 1212176549769830401, type...</td>\n    </tr>\n  </tbody>\n</table>\n</div>"
     },
     "execution_count": 216,
     "metadata": {},
     "output_type": "execute_result"
    }
   ],
   "source": [
    "df_retweets = df_retweets.sort_values(by='timestamp', ascending=True).reset_index()\n",
    "df_retweets.head(5)"
   ],
   "metadata": {
    "collapsed": false,
    "pycharm": {
     "name": "#%%\n"
    }
   }
  },
  {
   "cell_type": "markdown",
   "source": [
    "### Merge retweets datasets"
   ],
   "metadata": {
    "collapsed": false,
    "pycharm": {
     "name": "#%% md\n"
    }
   }
  },
  {
   "cell_type": "code",
   "execution_count": 217,
   "outputs": [
    {
     "data": {
      "text/plain": "              tweet_id              user_id topics  \\\n0  1212176450679377921   833382201785978882     []   \n1  1212176611627458560           3028245479     []   \n2  1212176685002571776   833382201785978882     []   \n3  1212176700861227009             27785930     []   \n4  1212176835603288064  1012475880248143873     []   \n\n                                   referenced_tweets  followers  following  \n0  [ReferencedTweet(id: 1212175890785996801, type...         20        622  \n1  [ReferencedTweet(id: 1212176549769830401, type...      11059       4125  \n2  [ReferencedTweet(id: 1212176450679377921, type...         20        622  \n3  [ReferencedTweet(id: 1212176423189909506, type...      10230       6114  \n4  [ReferencedTweet(id: 1212176549769830401, type...       9685      10633  ",
      "text/html": "<div>\n<style scoped>\n    .dataframe tbody tr th:only-of-type {\n        vertical-align: middle;\n    }\n\n    .dataframe tbody tr th {\n        vertical-align: top;\n    }\n\n    .dataframe thead th {\n        text-align: right;\n    }\n</style>\n<table border=\"1\" class=\"dataframe\">\n  <thead>\n    <tr style=\"text-align: right;\">\n      <th></th>\n      <th>tweet_id</th>\n      <th>user_id</th>\n      <th>topics</th>\n      <th>referenced_tweets</th>\n      <th>followers</th>\n      <th>following</th>\n    </tr>\n  </thead>\n  <tbody>\n    <tr>\n      <th>0</th>\n      <td>1212176450679377921</td>\n      <td>833382201785978882</td>\n      <td>[]</td>\n      <td>[ReferencedTweet(id: 1212175890785996801, type...</td>\n      <td>20</td>\n      <td>622</td>\n    </tr>\n    <tr>\n      <th>1</th>\n      <td>1212176611627458560</td>\n      <td>3028245479</td>\n      <td>[]</td>\n      <td>[ReferencedTweet(id: 1212176549769830401, type...</td>\n      <td>11059</td>\n      <td>4125</td>\n    </tr>\n    <tr>\n      <th>2</th>\n      <td>1212176685002571776</td>\n      <td>833382201785978882</td>\n      <td>[]</td>\n      <td>[ReferencedTweet(id: 1212176450679377921, type...</td>\n      <td>20</td>\n      <td>622</td>\n    </tr>\n    <tr>\n      <th>3</th>\n      <td>1212176700861227009</td>\n      <td>27785930</td>\n      <td>[]</td>\n      <td>[ReferencedTweet(id: 1212176423189909506, type...</td>\n      <td>10230</td>\n      <td>6114</td>\n    </tr>\n    <tr>\n      <th>4</th>\n      <td>1212176835603288064</td>\n      <td>1012475880248143873</td>\n      <td>[]</td>\n      <td>[ReferencedTweet(id: 1212176549769830401, type...</td>\n      <td>9685</td>\n      <td>10633</td>\n    </tr>\n  </tbody>\n</table>\n</div>"
     },
     "execution_count": 217,
     "metadata": {},
     "output_type": "execute_result"
    }
   ],
   "source": [
    "df_retweets_info = pd.merge(df_retweets[['tweet_id', 'user_id', 'topics', 'referenced_tweets']], df_retweeters[['user_id', 'followers', 'following']], how='left', on=\"user_id\")\n",
    "df_retweets_info.head(5)"
   ],
   "metadata": {
    "collapsed": false,
    "pycharm": {
     "name": "#%%\n"
    }
   }
  },
  {
   "cell_type": "markdown",
   "source": [
    "### Removing non-direct retweets\n",
    "\n",
    "When colecting the retweets some tweets that mencioned the url of the original tweet and because of that were also collected as \"retweets\".\n",
    "Since this tipe of tweets don't count to the retweet count of the original tweet and they only represent 0,0012% of the retweets collected they will be removed"
   ],
   "metadata": {
    "collapsed": false,
    "pycharm": {
     "name": "#%% md\n"
    }
   }
  },
  {
   "cell_type": "code",
   "execution_count": 218,
   "outputs": [
    {
     "name": "stdout",
     "output_type": "stream",
     "text": [
      "<class 'pandas.core.frame.DataFrame'>\n",
      "Int64Index: 278349 entries, 0 to 278348\n",
      "Data columns (total 6 columns):\n",
      " #   Column             Non-Null Count   Dtype \n",
      "---  ------             --------------   ----- \n",
      " 0   tweet_id           278349 non-null  int64 \n",
      " 1   user_id            278349 non-null  int64 \n",
      " 2   topics             278349 non-null  object\n",
      " 3   referenced_tweets  278019 non-null  object\n",
      " 4   followers          278349 non-null  int64 \n",
      " 5   following          278349 non-null  int64 \n",
      "dtypes: int64(4), object(2)\n",
      "memory usage: 14.9+ MB\n"
     ]
    }
   ],
   "source": [
    "df_retweets_info.info()"
   ],
   "metadata": {
    "collapsed": false,
    "pycharm": {
     "name": "#%%\n"
    }
   }
  },
  {
   "cell_type": "code",
   "execution_count": 219,
   "outputs": [
    {
     "data": {
      "text/plain": "                   tweet_id              user_id topics referenced_tweets  \\\n465     1213173157735141376   786792941658382339     []               NaN   \n635     1213652399782604806   876320380792844292     []               NaN   \n645     1213731859131064320           3315742299     []               NaN   \n685     1213908969183424513           3215222674     []               NaN   \n2325    1216434627549847555  1089894708208373761     []               NaN   \n...                     ...                  ...    ...               ...   \n277556  1489616172404420614   838245040858222592     []               NaN   \n277584  1490216196716875780  1456396368361279492     []               NaN   \n277593  1490692560209207298  1468588637415944192     []               NaN   \n277759  1492506389503254537  1328709172423249921     []               NaN   \n278001  1501938999199363086            309268913     []               NaN   \n\n        followers  following  \n465           503        504  \n635           539        398  \n645           326        464  \n685           405        446  \n2325         1017       1244  \n...           ...        ...  \n277556       1214       2244  \n277584        715        386  \n277593        109        193  \n277759         99        538  \n278001       1889       3823  \n\n[330 rows x 6 columns]",
      "text/html": "<div>\n<style scoped>\n    .dataframe tbody tr th:only-of-type {\n        vertical-align: middle;\n    }\n\n    .dataframe tbody tr th {\n        vertical-align: top;\n    }\n\n    .dataframe thead th {\n        text-align: right;\n    }\n</style>\n<table border=\"1\" class=\"dataframe\">\n  <thead>\n    <tr style=\"text-align: right;\">\n      <th></th>\n      <th>tweet_id</th>\n      <th>user_id</th>\n      <th>topics</th>\n      <th>referenced_tweets</th>\n      <th>followers</th>\n      <th>following</th>\n    </tr>\n  </thead>\n  <tbody>\n    <tr>\n      <th>465</th>\n      <td>1213173157735141376</td>\n      <td>786792941658382339</td>\n      <td>[]</td>\n      <td>NaN</td>\n      <td>503</td>\n      <td>504</td>\n    </tr>\n    <tr>\n      <th>635</th>\n      <td>1213652399782604806</td>\n      <td>876320380792844292</td>\n      <td>[]</td>\n      <td>NaN</td>\n      <td>539</td>\n      <td>398</td>\n    </tr>\n    <tr>\n      <th>645</th>\n      <td>1213731859131064320</td>\n      <td>3315742299</td>\n      <td>[]</td>\n      <td>NaN</td>\n      <td>326</td>\n      <td>464</td>\n    </tr>\n    <tr>\n      <th>685</th>\n      <td>1213908969183424513</td>\n      <td>3215222674</td>\n      <td>[]</td>\n      <td>NaN</td>\n      <td>405</td>\n      <td>446</td>\n    </tr>\n    <tr>\n      <th>2325</th>\n      <td>1216434627549847555</td>\n      <td>1089894708208373761</td>\n      <td>[]</td>\n      <td>NaN</td>\n      <td>1017</td>\n      <td>1244</td>\n    </tr>\n    <tr>\n      <th>...</th>\n      <td>...</td>\n      <td>...</td>\n      <td>...</td>\n      <td>...</td>\n      <td>...</td>\n      <td>...</td>\n    </tr>\n    <tr>\n      <th>277556</th>\n      <td>1489616172404420614</td>\n      <td>838245040858222592</td>\n      <td>[]</td>\n      <td>NaN</td>\n      <td>1214</td>\n      <td>2244</td>\n    </tr>\n    <tr>\n      <th>277584</th>\n      <td>1490216196716875780</td>\n      <td>1456396368361279492</td>\n      <td>[]</td>\n      <td>NaN</td>\n      <td>715</td>\n      <td>386</td>\n    </tr>\n    <tr>\n      <th>277593</th>\n      <td>1490692560209207298</td>\n      <td>1468588637415944192</td>\n      <td>[]</td>\n      <td>NaN</td>\n      <td>109</td>\n      <td>193</td>\n    </tr>\n    <tr>\n      <th>277759</th>\n      <td>1492506389503254537</td>\n      <td>1328709172423249921</td>\n      <td>[]</td>\n      <td>NaN</td>\n      <td>99</td>\n      <td>538</td>\n    </tr>\n    <tr>\n      <th>278001</th>\n      <td>1501938999199363086</td>\n      <td>309268913</td>\n      <td>[]</td>\n      <td>NaN</td>\n      <td>1889</td>\n      <td>3823</td>\n    </tr>\n  </tbody>\n</table>\n<p>330 rows × 6 columns</p>\n</div>"
     },
     "execution_count": 219,
     "metadata": {},
     "output_type": "execute_result"
    }
   ],
   "source": [
    "df_retweets_info[pd.isna(df_retweets_info['referenced_tweets'])]"
   ],
   "metadata": {
    "collapsed": false,
    "pycharm": {
     "name": "#%%\n"
    }
   }
  },
  {
   "cell_type": "code",
   "execution_count": 220,
   "outputs": [
    {
     "data": {
      "text/plain": "635    #FlyEaglesFly #PhillyvsEveryone https://t.co/G...\nName: text, dtype: object"
     },
     "execution_count": 220,
     "metadata": {},
     "output_type": "execute_result"
    }
   ],
   "source": [
    "df_retweets[df_retweets['tweet_id'] == 1213652399782604806]['text']"
   ],
   "metadata": {
    "collapsed": false,
    "pycharm": {
     "name": "#%%\n"
    }
   }
  },
  {
   "cell_type": "code",
   "execution_count": 221,
   "outputs": [],
   "source": [
    "df_retweets_info = df_retweets_info[df_retweets_info['referenced_tweets'].notna()]"
   ],
   "metadata": {
    "collapsed": false,
    "pycharm": {
     "name": "#%%\n"
    }
   }
  },
  {
   "cell_type": "code",
   "execution_count": 222,
   "outputs": [],
   "source": [
    "def get_ref_tweet_id(ref_tweets):\n",
    "    g = str(ref_tweets)\n",
    "    if isinstance(g, str) and g != 'nan' and not pd.isna(g):\n",
    "        return int(g.split()[1].replace(',', ''))\n",
    "    else: return None"
   ],
   "metadata": {
    "collapsed": false,
    "pycharm": {
     "name": "#%%\n"
    }
   }
  },
  {
   "cell_type": "code",
   "execution_count": 223,
   "outputs": [
    {
     "data": {
      "text/plain": "              tweet_id              user_id topics  \\\n0  1212176450679377921   833382201785978882     []   \n1  1212176611627458560           3028245479     []   \n2  1212176685002571776   833382201785978882     []   \n3  1212176700861227009             27785930     []   \n4  1212176835603288064  1012475880248143873     []   \n\n                                   referenced_tweets  followers  following  \\\n0  [ReferencedTweet(id: 1212175890785996801, type...         20        622   \n1  [ReferencedTweet(id: 1212176549769830401, type...      11059       4125   \n2  [ReferencedTweet(id: 1212176450679377921, type...         20        622   \n3  [ReferencedTweet(id: 1212176423189909506, type...      10230       6114   \n4  [ReferencedTweet(id: 1212176549769830401, type...       9685      10633   \n\n          ref_tweed_id  \n0  1212175890785996801  \n1  1212176549769830401  \n2  1212176450679377921  \n3  1212176423189909506  \n4  1212176549769830401  ",
      "text/html": "<div>\n<style scoped>\n    .dataframe tbody tr th:only-of-type {\n        vertical-align: middle;\n    }\n\n    .dataframe tbody tr th {\n        vertical-align: top;\n    }\n\n    .dataframe thead th {\n        text-align: right;\n    }\n</style>\n<table border=\"1\" class=\"dataframe\">\n  <thead>\n    <tr style=\"text-align: right;\">\n      <th></th>\n      <th>tweet_id</th>\n      <th>user_id</th>\n      <th>topics</th>\n      <th>referenced_tweets</th>\n      <th>followers</th>\n      <th>following</th>\n      <th>ref_tweed_id</th>\n    </tr>\n  </thead>\n  <tbody>\n    <tr>\n      <th>0</th>\n      <td>1212176450679377921</td>\n      <td>833382201785978882</td>\n      <td>[]</td>\n      <td>[ReferencedTweet(id: 1212175890785996801, type...</td>\n      <td>20</td>\n      <td>622</td>\n      <td>1212175890785996801</td>\n    </tr>\n    <tr>\n      <th>1</th>\n      <td>1212176611627458560</td>\n      <td>3028245479</td>\n      <td>[]</td>\n      <td>[ReferencedTweet(id: 1212176549769830401, type...</td>\n      <td>11059</td>\n      <td>4125</td>\n      <td>1212176549769830401</td>\n    </tr>\n    <tr>\n      <th>2</th>\n      <td>1212176685002571776</td>\n      <td>833382201785978882</td>\n      <td>[]</td>\n      <td>[ReferencedTweet(id: 1212176450679377921, type...</td>\n      <td>20</td>\n      <td>622</td>\n      <td>1212176450679377921</td>\n    </tr>\n    <tr>\n      <th>3</th>\n      <td>1212176700861227009</td>\n      <td>27785930</td>\n      <td>[]</td>\n      <td>[ReferencedTweet(id: 1212176423189909506, type...</td>\n      <td>10230</td>\n      <td>6114</td>\n      <td>1212176423189909506</td>\n    </tr>\n    <tr>\n      <th>4</th>\n      <td>1212176835603288064</td>\n      <td>1012475880248143873</td>\n      <td>[]</td>\n      <td>[ReferencedTweet(id: 1212176549769830401, type...</td>\n      <td>9685</td>\n      <td>10633</td>\n      <td>1212176549769830401</td>\n    </tr>\n  </tbody>\n</table>\n</div>"
     },
     "execution_count": 223,
     "metadata": {},
     "output_type": "execute_result"
    }
   ],
   "source": [
    "df_retweets_info['ref_tweed_id'] = df_retweets_info['referenced_tweets'].apply(lambda ref_tweet: get_ref_tweet_id(ref_tweet))\n",
    "df_retweets_info.head()"
   ],
   "metadata": {
    "collapsed": false,
    "pycharm": {
     "name": "#%%\n"
    }
   }
  },
  {
   "cell_type": "code",
   "execution_count": 224,
   "outputs": [
    {
     "data": {
      "text/plain": "     index  Unnamed: 0             tweet_id  \\\n0  1028700     1028700  1212176422770544641   \n1  1028701     1028701  1212176421659062274   \n2  1028698     1028698  1212176423189909506   \n3  1028697     1028697  1212176425916280833   \n4  1028696     1028696  1212176426088181760   \n\n                                                text              user_id  \\\n0  2️⃣0️⃣1️⃣9️⃣ WHAT. A. YEAR. 🌟 #bestnine2019 #t...             29885607   \n1               Gold N Hot 🤪 https://t.co/VeO2k4Mq4h  1130217871286636545   \n2      and he still cheating https://t.co/zYAQ8wc6Vg           3322006549   \n3  Got my hot coco bc it cold out siiiiide boii h...             18707915   \n4  Disgruntled Pope Francis pulls himself free fr...            858762062   \n\n             timestamp      tweet_type  like_count  reply_count  \\\n0  2020-01-01 00:59:14  Original Tweet          35            0   \n1  2020-01-01 00:59:14     Quote Tweet           0            0   \n2  2020-01-01 00:59:15     Quote Tweet           2            2   \n3  2020-01-01 00:59:15  Original Tweet           1            1   \n4  2020-01-01 00:59:15  Original Tweet           0            0   \n\n   retweet_count  quote_count   device lang          topics_ids  \\\n0              1            0   iPhone   en                  []   \n1              0            0   iPhone   en                  []   \n2              1            7   iPhone   en        ['10', '60']   \n3              0            0   iPhone   en                  []   \n4              0            0  Android   en  ['10', '46', '47']   \n\n                                  topics  \\\n0                                     []   \n1                                     []   \n2                  ['Person', 'Athlete']   \n3                                     []   \n4  ['Person', 'Brand Category', 'Brand']   \n\n                                   referenced_tweets         ref_tweed_id  \n0                                                NaN                    0  \n1  [ReferencedTweet(id: 1212167212120920072, type...  1212167212120920064  \n2  [ReferencedTweet(id: 1211878384961228802, type...  1211878384961228800  \n3                                                NaN                    0  \n4                                                NaN                    0  ",
      "text/html": "<div>\n<style scoped>\n    .dataframe tbody tr th:only-of-type {\n        vertical-align: middle;\n    }\n\n    .dataframe tbody tr th {\n        vertical-align: top;\n    }\n\n    .dataframe thead th {\n        text-align: right;\n    }\n</style>\n<table border=\"1\" class=\"dataframe\">\n  <thead>\n    <tr style=\"text-align: right;\">\n      <th></th>\n      <th>index</th>\n      <th>Unnamed: 0</th>\n      <th>tweet_id</th>\n      <th>text</th>\n      <th>user_id</th>\n      <th>timestamp</th>\n      <th>tweet_type</th>\n      <th>like_count</th>\n      <th>reply_count</th>\n      <th>retweet_count</th>\n      <th>quote_count</th>\n      <th>device</th>\n      <th>lang</th>\n      <th>topics_ids</th>\n      <th>topics</th>\n      <th>referenced_tweets</th>\n      <th>ref_tweed_id</th>\n    </tr>\n  </thead>\n  <tbody>\n    <tr>\n      <th>0</th>\n      <td>1028700</td>\n      <td>1028700</td>\n      <td>1212176422770544641</td>\n      <td>2️⃣0️⃣1️⃣9️⃣ WHAT. A. YEAR. 🌟 #bestnine2019 #t...</td>\n      <td>29885607</td>\n      <td>2020-01-01 00:59:14</td>\n      <td>Original Tweet</td>\n      <td>35</td>\n      <td>0</td>\n      <td>1</td>\n      <td>0</td>\n      <td>iPhone</td>\n      <td>en</td>\n      <td>[]</td>\n      <td>[]</td>\n      <td>NaN</td>\n      <td>0</td>\n    </tr>\n    <tr>\n      <th>1</th>\n      <td>1028701</td>\n      <td>1028701</td>\n      <td>1212176421659062274</td>\n      <td>Gold N Hot 🤪 https://t.co/VeO2k4Mq4h</td>\n      <td>1130217871286636545</td>\n      <td>2020-01-01 00:59:14</td>\n      <td>Quote Tweet</td>\n      <td>0</td>\n      <td>0</td>\n      <td>0</td>\n      <td>0</td>\n      <td>iPhone</td>\n      <td>en</td>\n      <td>[]</td>\n      <td>[]</td>\n      <td>[ReferencedTweet(id: 1212167212120920072, type...</td>\n      <td>1212167212120920064</td>\n    </tr>\n    <tr>\n      <th>2</th>\n      <td>1028698</td>\n      <td>1028698</td>\n      <td>1212176423189909506</td>\n      <td>and he still cheating https://t.co/zYAQ8wc6Vg</td>\n      <td>3322006549</td>\n      <td>2020-01-01 00:59:15</td>\n      <td>Quote Tweet</td>\n      <td>2</td>\n      <td>2</td>\n      <td>1</td>\n      <td>7</td>\n      <td>iPhone</td>\n      <td>en</td>\n      <td>['10', '60']</td>\n      <td>['Person', 'Athlete']</td>\n      <td>[ReferencedTweet(id: 1211878384961228802, type...</td>\n      <td>1211878384961228800</td>\n    </tr>\n    <tr>\n      <th>3</th>\n      <td>1028697</td>\n      <td>1028697</td>\n      <td>1212176425916280833</td>\n      <td>Got my hot coco bc it cold out siiiiide boii h...</td>\n      <td>18707915</td>\n      <td>2020-01-01 00:59:15</td>\n      <td>Original Tweet</td>\n      <td>1</td>\n      <td>1</td>\n      <td>0</td>\n      <td>0</td>\n      <td>iPhone</td>\n      <td>en</td>\n      <td>[]</td>\n      <td>[]</td>\n      <td>NaN</td>\n      <td>0</td>\n    </tr>\n    <tr>\n      <th>4</th>\n      <td>1028696</td>\n      <td>1028696</td>\n      <td>1212176426088181760</td>\n      <td>Disgruntled Pope Francis pulls himself free fr...</td>\n      <td>858762062</td>\n      <td>2020-01-01 00:59:15</td>\n      <td>Original Tweet</td>\n      <td>0</td>\n      <td>0</td>\n      <td>0</td>\n      <td>0</td>\n      <td>Android</td>\n      <td>en</td>\n      <td>['10', '46', '47']</td>\n      <td>['Person', 'Brand Category', 'Brand']</td>\n      <td>NaN</td>\n      <td>0</td>\n    </tr>\n  </tbody>\n</table>\n</div>"
     },
     "execution_count": 224,
     "metadata": {},
     "output_type": "execute_result"
    }
   ],
   "source": [
    "df_tweets['ref_tweed_id'] = df_tweets['referenced_tweets'].apply(lambda ref_tweet: get_ref_tweet_id(ref_tweet))\n",
    "# converting the reference ids that exist to int\n",
    "df_tweets['ref_tweed_id'] = pd.to_numeric(df_tweets['ref_tweed_id'], errors='coerce').fillna(0).astype(np.int64)\n",
    "df_tweets.head()"
   ],
   "metadata": {
    "collapsed": false,
    "pycharm": {
     "name": "#%%\n"
    }
   }
  },
  {
   "cell_type": "code",
   "execution_count": 225,
   "outputs": [],
   "source": [
    "def calculate_tweet_reach(tweet_id, user_id, topics, retweets_count, ref_tweed_id):\n",
    "    total_reach = 0\n",
    "    total_reach += df_users[df_users['user_id'] == user_id]['followers'].sum()\n",
    "    if topics != '[]' and retweets_count > 0:\n",
    "        if ref_tweed_id is not None and ref_tweed_id != 0:\n",
    "            total_reach += df_retweets_info[(df_retweets_info['ref_tweed_id'] == tweet_id) | (df_retweets_info['ref_tweed_id'] == ref_tweed_id)]['followers'].sum()\n",
    "        else:\n",
    "            total_reach += df_retweets_info[df_retweets_info['ref_tweed_id'] == tweet_id]['followers'].sum()\n",
    "    return total_reach"
   ],
   "metadata": {
    "collapsed": false,
    "pycharm": {
     "name": "#%%\n"
    }
   }
  },
  {
   "cell_type": "code",
   "execution_count": 25,
   "outputs": [
    {
     "ename": "NameError",
     "evalue": "name 'calculate_tweet_reach' is not defined",
     "output_type": "error",
     "traceback": [
      "\u001B[0;31m---------------------------------------------------------------------------\u001B[0m",
      "\u001B[0;31mNameError\u001B[0m                                 Traceback (most recent call last)",
      "Input \u001B[0;32mIn [25]\u001B[0m, in \u001B[0;36m<cell line: 1>\u001B[0;34m()\u001B[0m\n\u001B[0;32m----> 1\u001B[0m df_tweets[\u001B[38;5;124m'\u001B[39m\u001B[38;5;124mreach\u001B[39m\u001B[38;5;124m'\u001B[39m] \u001B[38;5;241m=\u001B[39m \u001B[43mdf_tweets\u001B[49m\u001B[38;5;241;43m.\u001B[39;49m\u001B[43mapply\u001B[49m\u001B[43m(\u001B[49m\u001B[38;5;28;43;01mlambda\u001B[39;49;00m\u001B[43m \u001B[49m\u001B[43mtweet_row\u001B[49m\u001B[43m:\u001B[49m\u001B[43m \u001B[49m\u001B[43mcalculate_tweet_reach\u001B[49m\u001B[43m(\u001B[49m\u001B[43mtweet_row\u001B[49m\u001B[43m[\u001B[49m\u001B[38;5;124;43m'\u001B[39;49m\u001B[38;5;124;43mtweet_id\u001B[39;49m\u001B[38;5;124;43m'\u001B[39;49m\u001B[43m]\u001B[49m\u001B[43m,\u001B[49m\u001B[43m \u001B[49m\u001B[43mtweet_row\u001B[49m\u001B[43m[\u001B[49m\u001B[38;5;124;43m'\u001B[39;49m\u001B[38;5;124;43muser_id\u001B[39;49m\u001B[38;5;124;43m'\u001B[39;49m\u001B[43m]\u001B[49m\u001B[43m,\u001B[49m\u001B[43m \u001B[49m\u001B[43mtweet_row\u001B[49m\u001B[43m[\u001B[49m\u001B[38;5;124;43m'\u001B[39;49m\u001B[38;5;124;43mtopics\u001B[39;49m\u001B[38;5;124;43m'\u001B[39;49m\u001B[43m]\u001B[49m\u001B[43m,\u001B[49m\u001B[43m \u001B[49m\u001B[43mtweet_row\u001B[49m\u001B[43m[\u001B[49m\u001B[38;5;124;43m'\u001B[39;49m\u001B[38;5;124;43mretweet_count\u001B[39;49m\u001B[38;5;124;43m'\u001B[39;49m\u001B[43m]\u001B[49m\u001B[43m,\u001B[49m\u001B[43m \u001B[49m\u001B[43mtweet_row\u001B[49m\u001B[43m[\u001B[49m\u001B[38;5;124;43m'\u001B[39;49m\u001B[38;5;124;43mref_tweed_id\u001B[39;49m\u001B[38;5;124;43m'\u001B[39;49m\u001B[43m]\u001B[49m\u001B[43m)\u001B[49m\u001B[43m,\u001B[49m\u001B[43m \u001B[49m\u001B[43maxis\u001B[49m\u001B[38;5;241;43m=\u001B[39;49m\u001B[38;5;241;43m1\u001B[39;49m\u001B[43m)\u001B[49m\n\u001B[1;32m      2\u001B[0m df_tweets\u001B[38;5;241m.\u001B[39mhead(\u001B[38;5;241m5\u001B[39m)\n",
      "File \u001B[0;32m~/opt/anaconda3/envs/pythonProject2/lib/python3.10/site-packages/pandas/core/frame.py:8833\u001B[0m, in \u001B[0;36mDataFrame.apply\u001B[0;34m(self, func, axis, raw, result_type, args, **kwargs)\u001B[0m\n\u001B[1;32m   8822\u001B[0m \u001B[38;5;28;01mfrom\u001B[39;00m \u001B[38;5;21;01mpandas\u001B[39;00m\u001B[38;5;21;01m.\u001B[39;00m\u001B[38;5;21;01mcore\u001B[39;00m\u001B[38;5;21;01m.\u001B[39;00m\u001B[38;5;21;01mapply\u001B[39;00m \u001B[38;5;28;01mimport\u001B[39;00m frame_apply\n\u001B[1;32m   8824\u001B[0m op \u001B[38;5;241m=\u001B[39m frame_apply(\n\u001B[1;32m   8825\u001B[0m     \u001B[38;5;28mself\u001B[39m,\n\u001B[1;32m   8826\u001B[0m     func\u001B[38;5;241m=\u001B[39mfunc,\n\u001B[0;32m   (...)\u001B[0m\n\u001B[1;32m   8831\u001B[0m     kwargs\u001B[38;5;241m=\u001B[39mkwargs,\n\u001B[1;32m   8832\u001B[0m )\n\u001B[0;32m-> 8833\u001B[0m \u001B[38;5;28;01mreturn\u001B[39;00m \u001B[43mop\u001B[49m\u001B[38;5;241;43m.\u001B[39;49m\u001B[43mapply\u001B[49m\u001B[43m(\u001B[49m\u001B[43m)\u001B[49m\u001B[38;5;241m.\u001B[39m__finalize__(\u001B[38;5;28mself\u001B[39m, method\u001B[38;5;241m=\u001B[39m\u001B[38;5;124m\"\u001B[39m\u001B[38;5;124mapply\u001B[39m\u001B[38;5;124m\"\u001B[39m)\n",
      "File \u001B[0;32m~/opt/anaconda3/envs/pythonProject2/lib/python3.10/site-packages/pandas/core/apply.py:727\u001B[0m, in \u001B[0;36mFrameApply.apply\u001B[0;34m(self)\u001B[0m\n\u001B[1;32m    724\u001B[0m \u001B[38;5;28;01melif\u001B[39;00m \u001B[38;5;28mself\u001B[39m\u001B[38;5;241m.\u001B[39mraw:\n\u001B[1;32m    725\u001B[0m     \u001B[38;5;28;01mreturn\u001B[39;00m \u001B[38;5;28mself\u001B[39m\u001B[38;5;241m.\u001B[39mapply_raw()\n\u001B[0;32m--> 727\u001B[0m \u001B[38;5;28;01mreturn\u001B[39;00m \u001B[38;5;28;43mself\u001B[39;49m\u001B[38;5;241;43m.\u001B[39;49m\u001B[43mapply_standard\u001B[49m\u001B[43m(\u001B[49m\u001B[43m)\u001B[49m\n",
      "File \u001B[0;32m~/opt/anaconda3/envs/pythonProject2/lib/python3.10/site-packages/pandas/core/apply.py:851\u001B[0m, in \u001B[0;36mFrameApply.apply_standard\u001B[0;34m(self)\u001B[0m\n\u001B[1;32m    850\u001B[0m \u001B[38;5;28;01mdef\u001B[39;00m \u001B[38;5;21mapply_standard\u001B[39m(\u001B[38;5;28mself\u001B[39m):\n\u001B[0;32m--> 851\u001B[0m     results, res_index \u001B[38;5;241m=\u001B[39m \u001B[38;5;28;43mself\u001B[39;49m\u001B[38;5;241;43m.\u001B[39;49m\u001B[43mapply_series_generator\u001B[49m\u001B[43m(\u001B[49m\u001B[43m)\u001B[49m\n\u001B[1;32m    853\u001B[0m     \u001B[38;5;66;03m# wrap results\u001B[39;00m\n\u001B[1;32m    854\u001B[0m     \u001B[38;5;28;01mreturn\u001B[39;00m \u001B[38;5;28mself\u001B[39m\u001B[38;5;241m.\u001B[39mwrap_results(results, res_index)\n",
      "File \u001B[0;32m~/opt/anaconda3/envs/pythonProject2/lib/python3.10/site-packages/pandas/core/apply.py:867\u001B[0m, in \u001B[0;36mFrameApply.apply_series_generator\u001B[0;34m(self)\u001B[0m\n\u001B[1;32m    864\u001B[0m \u001B[38;5;28;01mwith\u001B[39;00m option_context(\u001B[38;5;124m\"\u001B[39m\u001B[38;5;124mmode.chained_assignment\u001B[39m\u001B[38;5;124m\"\u001B[39m, \u001B[38;5;28;01mNone\u001B[39;00m):\n\u001B[1;32m    865\u001B[0m     \u001B[38;5;28;01mfor\u001B[39;00m i, v \u001B[38;5;129;01min\u001B[39;00m \u001B[38;5;28menumerate\u001B[39m(series_gen):\n\u001B[1;32m    866\u001B[0m         \u001B[38;5;66;03m# ignore SettingWithCopy here in case the user mutates\u001B[39;00m\n\u001B[0;32m--> 867\u001B[0m         results[i] \u001B[38;5;241m=\u001B[39m \u001B[38;5;28;43mself\u001B[39;49m\u001B[38;5;241;43m.\u001B[39;49m\u001B[43mf\u001B[49m\u001B[43m(\u001B[49m\u001B[43mv\u001B[49m\u001B[43m)\u001B[49m\n\u001B[1;32m    868\u001B[0m         \u001B[38;5;28;01mif\u001B[39;00m \u001B[38;5;28misinstance\u001B[39m(results[i], ABCSeries):\n\u001B[1;32m    869\u001B[0m             \u001B[38;5;66;03m# If we have a view on v, we need to make a copy because\u001B[39;00m\n\u001B[1;32m    870\u001B[0m             \u001B[38;5;66;03m#  series_generator will swap out the underlying data\u001B[39;00m\n\u001B[1;32m    871\u001B[0m             results[i] \u001B[38;5;241m=\u001B[39m results[i]\u001B[38;5;241m.\u001B[39mcopy(deep\u001B[38;5;241m=\u001B[39m\u001B[38;5;28;01mFalse\u001B[39;00m)\n",
      "Input \u001B[0;32mIn [25]\u001B[0m, in \u001B[0;36m<lambda>\u001B[0;34m(tweet_row)\u001B[0m\n\u001B[0;32m----> 1\u001B[0m df_tweets[\u001B[38;5;124m'\u001B[39m\u001B[38;5;124mreach\u001B[39m\u001B[38;5;124m'\u001B[39m] \u001B[38;5;241m=\u001B[39m df_tweets\u001B[38;5;241m.\u001B[39mapply(\u001B[38;5;28;01mlambda\u001B[39;00m tweet_row: \u001B[43mcalculate_tweet_reach\u001B[49m(tweet_row[\u001B[38;5;124m'\u001B[39m\u001B[38;5;124mtweet_id\u001B[39m\u001B[38;5;124m'\u001B[39m], tweet_row[\u001B[38;5;124m'\u001B[39m\u001B[38;5;124muser_id\u001B[39m\u001B[38;5;124m'\u001B[39m], tweet_row[\u001B[38;5;124m'\u001B[39m\u001B[38;5;124mtopics\u001B[39m\u001B[38;5;124m'\u001B[39m], tweet_row[\u001B[38;5;124m'\u001B[39m\u001B[38;5;124mretweet_count\u001B[39m\u001B[38;5;124m'\u001B[39m], tweet_row[\u001B[38;5;124m'\u001B[39m\u001B[38;5;124mref_tweed_id\u001B[39m\u001B[38;5;124m'\u001B[39m]), axis\u001B[38;5;241m=\u001B[39m\u001B[38;5;241m1\u001B[39m)\n\u001B[1;32m      2\u001B[0m df_tweets\u001B[38;5;241m.\u001B[39mhead(\u001B[38;5;241m5\u001B[39m)\n",
      "\u001B[0;31mNameError\u001B[0m: name 'calculate_tweet_reach' is not defined"
     ]
    }
   ],
   "source": [
    "df_tweets['reach'] = df_tweets.apply(lambda tweet_row: calculate_tweet_reach(tweet_row['tweet_id'], tweet_row['user_id'], tweet_row['topics'], tweet_row['retweet_count'], tweet_row['ref_tweed_id']), axis=1)\n",
    "df_tweets.head(5)\n",
    "\n",
    "# faster alternative: # Iterating over multiple columns - differing data type\n",
    "# result = [f(row[0], ..., row[n]) for row in zip(df['col1'], ..., df['coln'])]"
   ],
   "metadata": {
    "collapsed": false,
    "pycharm": {
     "name": "#%%\n"
    }
   }
  },
  {
   "cell_type": "markdown",
   "source": [
    "## Topic analysis\n",
    "\n",
    "### Loading the previously trained topic analysis model and it's evaluations of each tweet text"
   ],
   "metadata": {
    "collapsed": false,
    "pycharm": {
     "name": "#%% md\n"
    }
   }
  },
  {
   "cell_type": "code",
   "execution_count": 227,
   "outputs": [
    {
     "data": {
      "text/plain": "     index  Unnamed: 0             tweet_id  \\\n0  1028700     1028700  1212176422770544641   \n1  1028701     1028701  1212176421659062274   \n2  1028698     1028698  1212176423189909506   \n3  1028697     1028697  1212176425916280833   \n4  1028696     1028696  1212176426088181760   \n\n                                                text              user_id  \\\n0  2️⃣0️⃣1️⃣9️⃣ WHAT. A. YEAR. 🌟 #bestnine2019 #t...             29885607   \n1               Gold N Hot 🤪 https://t.co/VeO2k4Mq4h  1130217871286636545   \n2      and he still cheating https://t.co/zYAQ8wc6Vg           3322006549   \n3  Got my hot coco bc it cold out siiiiide boii h...             18707915   \n4  Disgruntled Pope Francis pulls himself free fr...            858762062   \n\n             timestamp      tweet_type  like_count  reply_count  \\\n0  2020-01-01 00:59:14  Original Tweet          35            0   \n1  2020-01-01 00:59:14     Quote Tweet           0            0   \n2  2020-01-01 00:59:15     Quote Tweet           2            2   \n3  2020-01-01 00:59:15  Original Tweet           1            1   \n4  2020-01-01 00:59:15  Original Tweet           0            0   \n\n   retweet_count  quote_count   device lang          topics_ids  \\\n0              1            0   iPhone   en                  []   \n1              0            0   iPhone   en                  []   \n2              1            7   iPhone   en        ['10', '60']   \n3              0            0   iPhone   en                  []   \n4              0            0  Android   en  ['10', '46', '47']   \n\n                                  topics  \\\n0                                     []   \n1                                     []   \n2                  ['Person', 'Athlete']   \n3                                     []   \n4  ['Person', 'Brand Category', 'Brand']   \n\n                                   referenced_tweets         ref_tweed_id  \\\n0                                                NaN                    0   \n1  [ReferencedTweet(id: 1212167212120920072, type...  1212167212120920064   \n2  [ReferencedTweet(id: 1211878384961228802, type...  1211878384961228800   \n3                                                NaN                    0   \n4                                                NaN                    0   \n\n   reach  \n0   7545  \n1   4008  \n2  13837  \n3    247  \n4  26108  ",
      "text/html": "<div>\n<style scoped>\n    .dataframe tbody tr th:only-of-type {\n        vertical-align: middle;\n    }\n\n    .dataframe tbody tr th {\n        vertical-align: top;\n    }\n\n    .dataframe thead th {\n        text-align: right;\n    }\n</style>\n<table border=\"1\" class=\"dataframe\">\n  <thead>\n    <tr style=\"text-align: right;\">\n      <th></th>\n      <th>index</th>\n      <th>Unnamed: 0</th>\n      <th>tweet_id</th>\n      <th>text</th>\n      <th>user_id</th>\n      <th>timestamp</th>\n      <th>tweet_type</th>\n      <th>like_count</th>\n      <th>reply_count</th>\n      <th>retweet_count</th>\n      <th>quote_count</th>\n      <th>device</th>\n      <th>lang</th>\n      <th>topics_ids</th>\n      <th>topics</th>\n      <th>referenced_tweets</th>\n      <th>ref_tweed_id</th>\n      <th>reach</th>\n    </tr>\n  </thead>\n  <tbody>\n    <tr>\n      <th>0</th>\n      <td>1028700</td>\n      <td>1028700</td>\n      <td>1212176422770544641</td>\n      <td>2️⃣0️⃣1️⃣9️⃣ WHAT. A. YEAR. 🌟 #bestnine2019 #t...</td>\n      <td>29885607</td>\n      <td>2020-01-01 00:59:14</td>\n      <td>Original Tweet</td>\n      <td>35</td>\n      <td>0</td>\n      <td>1</td>\n      <td>0</td>\n      <td>iPhone</td>\n      <td>en</td>\n      <td>[]</td>\n      <td>[]</td>\n      <td>NaN</td>\n      <td>0</td>\n      <td>7545</td>\n    </tr>\n    <tr>\n      <th>1</th>\n      <td>1028701</td>\n      <td>1028701</td>\n      <td>1212176421659062274</td>\n      <td>Gold N Hot 🤪 https://t.co/VeO2k4Mq4h</td>\n      <td>1130217871286636545</td>\n      <td>2020-01-01 00:59:14</td>\n      <td>Quote Tweet</td>\n      <td>0</td>\n      <td>0</td>\n      <td>0</td>\n      <td>0</td>\n      <td>iPhone</td>\n      <td>en</td>\n      <td>[]</td>\n      <td>[]</td>\n      <td>[ReferencedTweet(id: 1212167212120920072, type...</td>\n      <td>1212167212120920064</td>\n      <td>4008</td>\n    </tr>\n    <tr>\n      <th>2</th>\n      <td>1028698</td>\n      <td>1028698</td>\n      <td>1212176423189909506</td>\n      <td>and he still cheating https://t.co/zYAQ8wc6Vg</td>\n      <td>3322006549</td>\n      <td>2020-01-01 00:59:15</td>\n      <td>Quote Tweet</td>\n      <td>2</td>\n      <td>2</td>\n      <td>1</td>\n      <td>7</td>\n      <td>iPhone</td>\n      <td>en</td>\n      <td>['10', '60']</td>\n      <td>['Person', 'Athlete']</td>\n      <td>[ReferencedTweet(id: 1211878384961228802, type...</td>\n      <td>1211878384961228800</td>\n      <td>13837</td>\n    </tr>\n    <tr>\n      <th>3</th>\n      <td>1028697</td>\n      <td>1028697</td>\n      <td>1212176425916280833</td>\n      <td>Got my hot coco bc it cold out siiiiide boii h...</td>\n      <td>18707915</td>\n      <td>2020-01-01 00:59:15</td>\n      <td>Original Tweet</td>\n      <td>1</td>\n      <td>1</td>\n      <td>0</td>\n      <td>0</td>\n      <td>iPhone</td>\n      <td>en</td>\n      <td>[]</td>\n      <td>[]</td>\n      <td>NaN</td>\n      <td>0</td>\n      <td>247</td>\n    </tr>\n    <tr>\n      <th>4</th>\n      <td>1028696</td>\n      <td>1028696</td>\n      <td>1212176426088181760</td>\n      <td>Disgruntled Pope Francis pulls himself free fr...</td>\n      <td>858762062</td>\n      <td>2020-01-01 00:59:15</td>\n      <td>Original Tweet</td>\n      <td>0</td>\n      <td>0</td>\n      <td>0</td>\n      <td>0</td>\n      <td>Android</td>\n      <td>en</td>\n      <td>['10', '46', '47']</td>\n      <td>['Person', 'Brand Category', 'Brand']</td>\n      <td>NaN</td>\n      <td>0</td>\n      <td>26108</td>\n    </tr>\n  </tbody>\n</table>\n</div>"
     },
     "execution_count": 227,
     "metadata": {},
     "output_type": "execute_result"
    }
   ],
   "source": [
    "df_tweets.head(5)"
   ],
   "metadata": {
    "collapsed": false,
    "pycharm": {
     "name": "#%%\n"
    }
   }
  },
  {
   "cell_type": "code",
   "execution_count": 228,
   "outputs": [],
   "source": [
    "def process_topic(topics:str):\n",
    "    s = topics\n",
    "    for i in range(topics.count('\\'')):\n",
    "        s = s.replace('\\'', '\"')\n",
    "    t = json.loads(s)\n",
    "    if len(t) > 0:\n",
    "        return t[0]\n",
    "    return None"
   ],
   "metadata": {
    "collapsed": false,
    "pycharm": {
     "name": "#%%\n"
    }
   }
  },
  {
   "cell_type": "code",
   "execution_count": 229,
   "outputs": [
    {
     "data": {
      "text/plain": "     index  Unnamed: 0             tweet_id  \\\n0  1028700     1028700  1212176422770544641   \n1  1028701     1028701  1212176421659062274   \n2  1028698     1028698  1212176423189909506   \n3  1028697     1028697  1212176425916280833   \n4  1028696     1028696  1212176426088181760   \n\n                                                text              user_id  \\\n0  2️⃣0️⃣1️⃣9️⃣ WHAT. A. YEAR. 🌟 #bestnine2019 #t...             29885607   \n1               Gold N Hot 🤪 https://t.co/VeO2k4Mq4h  1130217871286636545   \n2      and he still cheating https://t.co/zYAQ8wc6Vg           3322006549   \n3  Got my hot coco bc it cold out siiiiide boii h...             18707915   \n4  Disgruntled Pope Francis pulls himself free fr...            858762062   \n\n             timestamp      tweet_type  like_count  reply_count  \\\n0  2020-01-01 00:59:14  Original Tweet          35            0   \n1  2020-01-01 00:59:14     Quote Tweet           0            0   \n2  2020-01-01 00:59:15     Quote Tweet           2            2   \n3  2020-01-01 00:59:15  Original Tweet           1            1   \n4  2020-01-01 00:59:15  Original Tweet           0            0   \n\n   retweet_count  quote_count   device lang topics_ids  topics  \\\n0              1            0   iPhone   en       None    None   \n1              0            0   iPhone   en       None    None   \n2              1            7   iPhone   en         10  Person   \n3              0            0   iPhone   en       None    None   \n4              0            0  Android   en         10  Person   \n\n                                   referenced_tweets         ref_tweed_id  \\\n0                                                NaN                    0   \n1  [ReferencedTweet(id: 1212167212120920072, type...  1212167212120920064   \n2  [ReferencedTweet(id: 1211878384961228802, type...  1211878384961228800   \n3                                                NaN                    0   \n4                                                NaN                    0   \n\n   reach  \n0   7545  \n1   4008  \n2  13837  \n3    247  \n4  26108  ",
      "text/html": "<div>\n<style scoped>\n    .dataframe tbody tr th:only-of-type {\n        vertical-align: middle;\n    }\n\n    .dataframe tbody tr th {\n        vertical-align: top;\n    }\n\n    .dataframe thead th {\n        text-align: right;\n    }\n</style>\n<table border=\"1\" class=\"dataframe\">\n  <thead>\n    <tr style=\"text-align: right;\">\n      <th></th>\n      <th>index</th>\n      <th>Unnamed: 0</th>\n      <th>tweet_id</th>\n      <th>text</th>\n      <th>user_id</th>\n      <th>timestamp</th>\n      <th>tweet_type</th>\n      <th>like_count</th>\n      <th>reply_count</th>\n      <th>retweet_count</th>\n      <th>quote_count</th>\n      <th>device</th>\n      <th>lang</th>\n      <th>topics_ids</th>\n      <th>topics</th>\n      <th>referenced_tweets</th>\n      <th>ref_tweed_id</th>\n      <th>reach</th>\n    </tr>\n  </thead>\n  <tbody>\n    <tr>\n      <th>0</th>\n      <td>1028700</td>\n      <td>1028700</td>\n      <td>1212176422770544641</td>\n      <td>2️⃣0️⃣1️⃣9️⃣ WHAT. A. YEAR. 🌟 #bestnine2019 #t...</td>\n      <td>29885607</td>\n      <td>2020-01-01 00:59:14</td>\n      <td>Original Tweet</td>\n      <td>35</td>\n      <td>0</td>\n      <td>1</td>\n      <td>0</td>\n      <td>iPhone</td>\n      <td>en</td>\n      <td>None</td>\n      <td>None</td>\n      <td>NaN</td>\n      <td>0</td>\n      <td>7545</td>\n    </tr>\n    <tr>\n      <th>1</th>\n      <td>1028701</td>\n      <td>1028701</td>\n      <td>1212176421659062274</td>\n      <td>Gold N Hot 🤪 https://t.co/VeO2k4Mq4h</td>\n      <td>1130217871286636545</td>\n      <td>2020-01-01 00:59:14</td>\n      <td>Quote Tweet</td>\n      <td>0</td>\n      <td>0</td>\n      <td>0</td>\n      <td>0</td>\n      <td>iPhone</td>\n      <td>en</td>\n      <td>None</td>\n      <td>None</td>\n      <td>[ReferencedTweet(id: 1212167212120920072, type...</td>\n      <td>1212167212120920064</td>\n      <td>4008</td>\n    </tr>\n    <tr>\n      <th>2</th>\n      <td>1028698</td>\n      <td>1028698</td>\n      <td>1212176423189909506</td>\n      <td>and he still cheating https://t.co/zYAQ8wc6Vg</td>\n      <td>3322006549</td>\n      <td>2020-01-01 00:59:15</td>\n      <td>Quote Tweet</td>\n      <td>2</td>\n      <td>2</td>\n      <td>1</td>\n      <td>7</td>\n      <td>iPhone</td>\n      <td>en</td>\n      <td>10</td>\n      <td>Person</td>\n      <td>[ReferencedTweet(id: 1211878384961228802, type...</td>\n      <td>1211878384961228800</td>\n      <td>13837</td>\n    </tr>\n    <tr>\n      <th>3</th>\n      <td>1028697</td>\n      <td>1028697</td>\n      <td>1212176425916280833</td>\n      <td>Got my hot coco bc it cold out siiiiide boii h...</td>\n      <td>18707915</td>\n      <td>2020-01-01 00:59:15</td>\n      <td>Original Tweet</td>\n      <td>1</td>\n      <td>1</td>\n      <td>0</td>\n      <td>0</td>\n      <td>iPhone</td>\n      <td>en</td>\n      <td>None</td>\n      <td>None</td>\n      <td>NaN</td>\n      <td>0</td>\n      <td>247</td>\n    </tr>\n    <tr>\n      <th>4</th>\n      <td>1028696</td>\n      <td>1028696</td>\n      <td>1212176426088181760</td>\n      <td>Disgruntled Pope Francis pulls himself free fr...</td>\n      <td>858762062</td>\n      <td>2020-01-01 00:59:15</td>\n      <td>Original Tweet</td>\n      <td>0</td>\n      <td>0</td>\n      <td>0</td>\n      <td>0</td>\n      <td>Android</td>\n      <td>en</td>\n      <td>10</td>\n      <td>Person</td>\n      <td>NaN</td>\n      <td>0</td>\n      <td>26108</td>\n    </tr>\n  </tbody>\n</table>\n</div>"
     },
     "execution_count": 229,
     "metadata": {},
     "output_type": "execute_result"
    }
   ],
   "source": [
    "df_tweets['topics'] = df_tweets['topics'].apply(lambda topics: process_topic(topics))\n",
    "df_tweets['topics_ids'] = df_tweets['topics_ids'].apply(lambda topics: process_topic(topics))\n",
    "df_tweets.head(5)"
   ],
   "metadata": {
    "collapsed": false,
    "pycharm": {
     "name": "#%%\n"
    }
   }
  },
  {
   "cell_type": "markdown",
   "source": [
    "### Grouping the topics in broader categories"
   ],
   "metadata": {
    "collapsed": false,
    "pycharm": {
     "name": "#%% md\n"
    }
   }
  },
  {
   "cell_type": "code",
   "execution_count": 20,
   "outputs": [],
   "source": [
    "def group_topics(topic):\n",
    "    if pd.isna(topic):\n",
    "        return None\n",
    "\n",
    "    if not isinstance(topic, str):\n",
    "        print(topic)\n",
    "\n",
    "    if 'Brand' in topic or 'Product' in topic:\n",
    "        return 'Brand'\n",
    "    elif 'Person' in topic:\n",
    "        return 'Person'\n",
    "    elif 'Sport' in topic or 'Athlete' in topic or 'Coach' in topic or 'Hockey' in topic or 'Football' in topic or 'NFL' in topic:\n",
    "        return 'Sport'\n",
    "    elif 'TV' in topic or 'Movie' in topic or 'Award' in topic or 'Actor' in topic or 'Fictional Character' in topic\\\n",
    "            or 'Entertainment' in topic:\n",
    "        return 'TV and Movies'\n",
    "    elif 'Music' in topic or 'Musician' in topic or 'Concert' in topic or 'Song' in topic or 'Radio' in topic:\n",
    "        return 'Music'\n",
    "    elif 'Book' in topic:\n",
    "        return 'Book'\n",
    "    elif 'Hobbies' in topic:\n",
    "        return 'Interest and Hobbies'\n",
    "    elif 'Video Game' in topic or 'Esports' in topic or 'eSport' in topic:\n",
    "        return 'Video Game'\n",
    "    elif 'Political' in topic or 'Politicians' in topic:\n",
    "        return 'Political'\n",
    "    elif 'Holiday' in topic:\n",
    "        return 'Holiday'\n",
    "    elif 'News' in topic:\n",
    "        return 'News'\n",
    "    elif 'Entities' in topic:\n",
    "        return 'Entities'\n",
    "    else:\n",
    "        return 'Other'"
   ],
   "metadata": {
    "collapsed": false,
    "pycharm": {
     "name": "#%%\n"
    }
   }
  },
  {
   "cell_type": "code",
   "execution_count": 21,
   "outputs": [
    {
     "data": {
      "text/plain": "   Unnamed: 0.1  Unnamed: 0  index             tweet_id  \\\n0             0           0      0  1212176422770544641   \n1             1           1      1  1212176421659062274   \n2             2           2      2  1215030407881805824   \n3             3           3      3  1223606768430911493   \n4             4           4      4  1266534733447651328   \n\n                                                text  \\\n0  2️⃣0️⃣1️⃣9️⃣ WHAT. A. YEAR. 🌟 #bestnine2019 #t...   \n1               Gold N Hot 🤪 https://t.co/VeO2k4Mq4h   \n2          Damn I wonder why https://t.co/mtzuGWyafL   \n3  No fucking way I’m bring no yogurt parfait. Pu...   \n4  No purpose. Just Doing Shit https://t.co/UmcuH...   \n\n                   timestamp              user_id  like_count  retweet_count  \\\n0        2020-01-01 00:59:14             29885607          35              1   \n1        2020-01-01 00:59:14  1130217871286636545           0              0   \n2        2020-01-08 21:59:58  1130217871286636545           0              0   \n3  2020-02-01 13:59:21+00:00  1130217871286636545           3              0   \n4  2020-05-30 00:59:46+00:00  1130217871286636545           0              0   \n\n   quote_count  ...  day_phase  week_idx  day_phase_enc day_of_week_enc  \\\n0            0  ...       Dawn   2020-01              1               6   \n1            0  ...       Dawn   2020-01              1               6   \n2            0  ...      Night   2020-02              4               6   \n3            0  ...  Afternoon   2020-05              0               2   \n4            0  ...       Dawn   2020-22              1               2   \n\n  month_enc  year_enc  sentiment_enc  verified_enc  seniority  topics_cleaned  \n0         4         0              1             0         13            None  \n1         4         0              1             0          2            None  \n2         4         0              0             0          2            None  \n3         3         0              0             0          2        Entities  \n4         8         0              0             0          2            None  \n\n[5 rows x 34 columns]",
      "text/html": "<div>\n<style scoped>\n    .dataframe tbody tr th:only-of-type {\n        vertical-align: middle;\n    }\n\n    .dataframe tbody tr th {\n        vertical-align: top;\n    }\n\n    .dataframe thead th {\n        text-align: right;\n    }\n</style>\n<table border=\"1\" class=\"dataframe\">\n  <thead>\n    <tr style=\"text-align: right;\">\n      <th></th>\n      <th>Unnamed: 0.1</th>\n      <th>Unnamed: 0</th>\n      <th>index</th>\n      <th>tweet_id</th>\n      <th>text</th>\n      <th>timestamp</th>\n      <th>user_id</th>\n      <th>like_count</th>\n      <th>retweet_count</th>\n      <th>quote_count</th>\n      <th>...</th>\n      <th>day_phase</th>\n      <th>week_idx</th>\n      <th>day_phase_enc</th>\n      <th>day_of_week_enc</th>\n      <th>month_enc</th>\n      <th>year_enc</th>\n      <th>sentiment_enc</th>\n      <th>verified_enc</th>\n      <th>seniority</th>\n      <th>topics_cleaned</th>\n    </tr>\n  </thead>\n  <tbody>\n    <tr>\n      <th>0</th>\n      <td>0</td>\n      <td>0</td>\n      <td>0</td>\n      <td>1212176422770544641</td>\n      <td>2️⃣0️⃣1️⃣9️⃣ WHAT. A. YEAR. 🌟 #bestnine2019 #t...</td>\n      <td>2020-01-01 00:59:14</td>\n      <td>29885607</td>\n      <td>35</td>\n      <td>1</td>\n      <td>0</td>\n      <td>...</td>\n      <td>Dawn</td>\n      <td>2020-01</td>\n      <td>1</td>\n      <td>6</td>\n      <td>4</td>\n      <td>0</td>\n      <td>1</td>\n      <td>0</td>\n      <td>13</td>\n      <td>None</td>\n    </tr>\n    <tr>\n      <th>1</th>\n      <td>1</td>\n      <td>1</td>\n      <td>1</td>\n      <td>1212176421659062274</td>\n      <td>Gold N Hot 🤪 https://t.co/VeO2k4Mq4h</td>\n      <td>2020-01-01 00:59:14</td>\n      <td>1130217871286636545</td>\n      <td>0</td>\n      <td>0</td>\n      <td>0</td>\n      <td>...</td>\n      <td>Dawn</td>\n      <td>2020-01</td>\n      <td>1</td>\n      <td>6</td>\n      <td>4</td>\n      <td>0</td>\n      <td>1</td>\n      <td>0</td>\n      <td>2</td>\n      <td>None</td>\n    </tr>\n    <tr>\n      <th>2</th>\n      <td>2</td>\n      <td>2</td>\n      <td>2</td>\n      <td>1215030407881805824</td>\n      <td>Damn I wonder why https://t.co/mtzuGWyafL</td>\n      <td>2020-01-08 21:59:58</td>\n      <td>1130217871286636545</td>\n      <td>0</td>\n      <td>0</td>\n      <td>0</td>\n      <td>...</td>\n      <td>Night</td>\n      <td>2020-02</td>\n      <td>4</td>\n      <td>6</td>\n      <td>4</td>\n      <td>0</td>\n      <td>0</td>\n      <td>0</td>\n      <td>2</td>\n      <td>None</td>\n    </tr>\n    <tr>\n      <th>3</th>\n      <td>3</td>\n      <td>3</td>\n      <td>3</td>\n      <td>1223606768430911493</td>\n      <td>No fucking way I’m bring no yogurt parfait. Pu...</td>\n      <td>2020-02-01 13:59:21+00:00</td>\n      <td>1130217871286636545</td>\n      <td>3</td>\n      <td>0</td>\n      <td>0</td>\n      <td>...</td>\n      <td>Afternoon</td>\n      <td>2020-05</td>\n      <td>0</td>\n      <td>2</td>\n      <td>3</td>\n      <td>0</td>\n      <td>0</td>\n      <td>0</td>\n      <td>2</td>\n      <td>Entities</td>\n    </tr>\n    <tr>\n      <th>4</th>\n      <td>4</td>\n      <td>4</td>\n      <td>4</td>\n      <td>1266534733447651328</td>\n      <td>No purpose. Just Doing Shit https://t.co/UmcuH...</td>\n      <td>2020-05-30 00:59:46+00:00</td>\n      <td>1130217871286636545</td>\n      <td>0</td>\n      <td>0</td>\n      <td>0</td>\n      <td>...</td>\n      <td>Dawn</td>\n      <td>2020-22</td>\n      <td>1</td>\n      <td>2</td>\n      <td>8</td>\n      <td>0</td>\n      <td>0</td>\n      <td>0</td>\n      <td>2</td>\n      <td>None</td>\n    </tr>\n  </tbody>\n</table>\n<p>5 rows × 34 columns</p>\n</div>"
     },
     "execution_count": 21,
     "metadata": {},
     "output_type": "execute_result"
    }
   ],
   "source": [
    "df_tweets['topics_cleaned'] = df_tweets['topics'].apply(lambda topic: group_topics(topic))\n",
    "df_tweets.head(5)"
   ],
   "metadata": {
    "collapsed": false,
    "pycharm": {
     "name": "#%%\n"
    }
   }
  },
  {
   "cell_type": "code",
   "execution_count": 22,
   "outputs": [
    {
     "data": {
      "text/plain": "Person                  0.218579\nTV and Movies           0.186972\nBrand                   0.169682\nInterest and Hobbies    0.147919\nEntities                0.100866\nNews                    0.061112\nSport                   0.042161\nHoliday                 0.027320\nVideo Game              0.012365\nOther                   0.011718\nMusic                   0.010431\nPolitical               0.008880\nBook                    0.001994\nName: topics_cleaned, dtype: float64"
     },
     "execution_count": 22,
     "metadata": {},
     "output_type": "execute_result"
    }
   ],
   "source": [
    "df_tweets['topics_cleaned'].value_counts(normalize=True)"
   ],
   "metadata": {
    "collapsed": false,
    "pycharm": {
     "name": "#%%\n"
    }
   }
  },
  {
   "cell_type": "markdown",
   "source": [
    "## Sentiment analysis"
   ],
   "metadata": {
    "collapsed": false,
    "pycharm": {
     "name": "#%% md\n"
    }
   }
  },
  {
   "cell_type": "code",
   "execution_count": 239,
   "outputs": [],
   "source": [
    "sid_obj = SentimentIntensityAnalyzer()"
   ],
   "metadata": {
    "collapsed": false,
    "pycharm": {
     "name": "#%%\n"
    }
   }
  },
  {
   "cell_type": "code",
   "execution_count": 240,
   "outputs": [],
   "source": [
    "def sentiment_scores(sentence, prints):\n",
    "    if prints: print(\"\\nSentence:\", sentence)\n",
    "\n",
    "    sentiment_dict = sid_obj.polarity_scores(sentence)\n",
    "\n",
    "    if sentiment_dict['compound'] >= 0.05:\n",
    "        if prints: print(\"Positive\")\n",
    "        return \"Positive\"\n",
    "    elif sentiment_dict['compound'] <= - 0.05:\n",
    "        if prints: print(\"Positive\")\n",
    "        return \"Negative\"\n",
    "    else:\n",
    "        if prints: print(\"Neutral\")\n",
    "        return \"Neutral\""
   ],
   "metadata": {
    "collapsed": false,
    "pycharm": {
     "name": "#%%\n"
    }
   }
  },
  {
   "cell_type": "code",
   "execution_count": 241,
   "outputs": [],
   "source": [
    "df_tweets['sentiment'] = df_tweets['text'].apply(lambda tweet_text: sentiment_scores(tweet_text, False))"
   ],
   "metadata": {
    "collapsed": false,
    "pycharm": {
     "name": "#%%\n"
    }
   }
  },
  {
   "cell_type": "code",
   "execution_count": 242,
   "outputs": [
    {
     "data": {
      "text/plain": "     index  Unnamed: 0             tweet_id  \\\n0  1028700     1028700  1212176422770544641   \n1  1028701     1028701  1212176421659062274   \n2  1028698     1028698  1212176423189909506   \n3  1028697     1028697  1212176425916280833   \n4  1028696     1028696  1212176426088181760   \n\n                                                text              user_id  \\\n0  2️⃣0️⃣1️⃣9️⃣ WHAT. A. YEAR. 🌟 #bestnine2019 #t...             29885607   \n1               Gold N Hot 🤪 https://t.co/VeO2k4Mq4h  1130217871286636545   \n2      and he still cheating https://t.co/zYAQ8wc6Vg           3322006549   \n3  Got my hot coco bc it cold out siiiiide boii h...             18707915   \n4  Disgruntled Pope Francis pulls himself free fr...            858762062   \n\n             timestamp      tweet_type  like_count  reply_count  \\\n0  2020-01-01 00:59:14  Original Tweet          35            0   \n1  2020-01-01 00:59:14     Quote Tweet           0            0   \n2  2020-01-01 00:59:15     Quote Tweet           2            2   \n3  2020-01-01 00:59:15  Original Tweet           1            1   \n4  2020-01-01 00:59:15  Original Tweet           0            0   \n\n   retweet_count  quote_count   device lang topics_ids  topics  \\\n0              1            0   iPhone   en       None    None   \n1              0            0   iPhone   en       None    None   \n2              1            7   iPhone   en         10  Person   \n3              0            0   iPhone   en       None    None   \n4              0            0  Android   en         10  Person   \n\n                                   referenced_tweets         ref_tweed_id  \\\n0                                                NaN                    0   \n1  [ReferencedTweet(id: 1212167212120920072, type...  1212167212120920064   \n2  [ReferencedTweet(id: 1211878384961228802, type...  1211878384961228800   \n3                                                NaN                    0   \n4                                                NaN                    0   \n\n   reach sentiment  \n0   7545   Neutral  \n1   4008   Neutral  \n2  13837  Negative  \n3    247   Neutral  \n4  26108  Positive  ",
      "text/html": "<div>\n<style scoped>\n    .dataframe tbody tr th:only-of-type {\n        vertical-align: middle;\n    }\n\n    .dataframe tbody tr th {\n        vertical-align: top;\n    }\n\n    .dataframe thead th {\n        text-align: right;\n    }\n</style>\n<table border=\"1\" class=\"dataframe\">\n  <thead>\n    <tr style=\"text-align: right;\">\n      <th></th>\n      <th>index</th>\n      <th>Unnamed: 0</th>\n      <th>tweet_id</th>\n      <th>text</th>\n      <th>user_id</th>\n      <th>timestamp</th>\n      <th>tweet_type</th>\n      <th>like_count</th>\n      <th>reply_count</th>\n      <th>retweet_count</th>\n      <th>quote_count</th>\n      <th>device</th>\n      <th>lang</th>\n      <th>topics_ids</th>\n      <th>topics</th>\n      <th>referenced_tweets</th>\n      <th>ref_tweed_id</th>\n      <th>reach</th>\n      <th>sentiment</th>\n    </tr>\n  </thead>\n  <tbody>\n    <tr>\n      <th>0</th>\n      <td>1028700</td>\n      <td>1028700</td>\n      <td>1212176422770544641</td>\n      <td>2️⃣0️⃣1️⃣9️⃣ WHAT. A. YEAR. 🌟 #bestnine2019 #t...</td>\n      <td>29885607</td>\n      <td>2020-01-01 00:59:14</td>\n      <td>Original Tweet</td>\n      <td>35</td>\n      <td>0</td>\n      <td>1</td>\n      <td>0</td>\n      <td>iPhone</td>\n      <td>en</td>\n      <td>None</td>\n      <td>None</td>\n      <td>NaN</td>\n      <td>0</td>\n      <td>7545</td>\n      <td>Neutral</td>\n    </tr>\n    <tr>\n      <th>1</th>\n      <td>1028701</td>\n      <td>1028701</td>\n      <td>1212176421659062274</td>\n      <td>Gold N Hot 🤪 https://t.co/VeO2k4Mq4h</td>\n      <td>1130217871286636545</td>\n      <td>2020-01-01 00:59:14</td>\n      <td>Quote Tweet</td>\n      <td>0</td>\n      <td>0</td>\n      <td>0</td>\n      <td>0</td>\n      <td>iPhone</td>\n      <td>en</td>\n      <td>None</td>\n      <td>None</td>\n      <td>[ReferencedTweet(id: 1212167212120920072, type...</td>\n      <td>1212167212120920064</td>\n      <td>4008</td>\n      <td>Neutral</td>\n    </tr>\n    <tr>\n      <th>2</th>\n      <td>1028698</td>\n      <td>1028698</td>\n      <td>1212176423189909506</td>\n      <td>and he still cheating https://t.co/zYAQ8wc6Vg</td>\n      <td>3322006549</td>\n      <td>2020-01-01 00:59:15</td>\n      <td>Quote Tweet</td>\n      <td>2</td>\n      <td>2</td>\n      <td>1</td>\n      <td>7</td>\n      <td>iPhone</td>\n      <td>en</td>\n      <td>10</td>\n      <td>Person</td>\n      <td>[ReferencedTweet(id: 1211878384961228802, type...</td>\n      <td>1211878384961228800</td>\n      <td>13837</td>\n      <td>Negative</td>\n    </tr>\n    <tr>\n      <th>3</th>\n      <td>1028697</td>\n      <td>1028697</td>\n      <td>1212176425916280833</td>\n      <td>Got my hot coco bc it cold out siiiiide boii h...</td>\n      <td>18707915</td>\n      <td>2020-01-01 00:59:15</td>\n      <td>Original Tweet</td>\n      <td>1</td>\n      <td>1</td>\n      <td>0</td>\n      <td>0</td>\n      <td>iPhone</td>\n      <td>en</td>\n      <td>None</td>\n      <td>None</td>\n      <td>NaN</td>\n      <td>0</td>\n      <td>247</td>\n      <td>Neutral</td>\n    </tr>\n    <tr>\n      <th>4</th>\n      <td>1028696</td>\n      <td>1028696</td>\n      <td>1212176426088181760</td>\n      <td>Disgruntled Pope Francis pulls himself free fr...</td>\n      <td>858762062</td>\n      <td>2020-01-01 00:59:15</td>\n      <td>Original Tweet</td>\n      <td>0</td>\n      <td>0</td>\n      <td>0</td>\n      <td>0</td>\n      <td>Android</td>\n      <td>en</td>\n      <td>10</td>\n      <td>Person</td>\n      <td>NaN</td>\n      <td>0</td>\n      <td>26108</td>\n      <td>Positive</td>\n    </tr>\n  </tbody>\n</table>\n</div>"
     },
     "execution_count": 242,
     "metadata": {},
     "output_type": "execute_result"
    }
   ],
   "source": [
    "df_tweets.head(5)"
   ],
   "metadata": {
    "collapsed": false,
    "pycharm": {
     "name": "#%%\n"
    }
   }
  },
  {
   "cell_type": "markdown",
   "source": [
    "## Tweet popularity\n",
    "\n",
    "To define tweet popularity, each tweet with at least 1 retweet or 1 quote tweet was considered popular (1)\n",
    "if the criteria wasn't met it was marked as unpopular (0)"
   ],
   "metadata": {
    "collapsed": false,
    "pycharm": {
     "name": "#%% md\n"
    }
   }
  },
  {
   "cell_type": "code",
   "execution_count": 243,
   "outputs": [],
   "source": [
    "def tweet_popularity_label(retweet_count, quote_count):\n",
    "    if retweet_count > 0 or quote_count > 0:\n",
    "        return 1\n",
    "    else:\n",
    "        return 0"
   ],
   "metadata": {
    "collapsed": false,
    "pycharm": {
     "name": "#%%\n"
    }
   }
  },
  {
   "cell_type": "code",
   "execution_count": 244,
   "outputs": [],
   "source": [
    "df_tweets['popularity'] = df_tweets.apply(lambda row: tweet_popularity_label(row['retweet_count'], row['quote_count']), axis=1)"
   ],
   "metadata": {
    "collapsed": false,
    "pycharm": {
     "name": "#%%\n"
    }
   }
  },
  {
   "cell_type": "code",
   "execution_count": 246,
   "outputs": [
    {
     "data": {
      "text/plain": "0    0.809545\n1    0.190455\nName: popularity, dtype: float64"
     },
     "execution_count": 246,
     "metadata": {},
     "output_type": "execute_result"
    }
   ],
   "source": [
    "df_tweets['popularity'].value_counts(normalize=True)"
   ],
   "metadata": {
    "collapsed": false,
    "pycharm": {
     "name": "#%%\n"
    }
   }
  },
  {
   "cell_type": "markdown",
   "source": [
    "## Combine the two datasets into the final one\n",
    "\n",
    "For every tweet select the relevant columns and merge the corresponding information from the original user"
   ],
   "metadata": {
    "collapsed": false,
    "pycharm": {
     "name": "#%% md\n"
    }
   }
  },
  {
   "cell_type": "code",
   "execution_count": null,
   "outputs": [],
   "source": [
    "df = pd.merge(df_tweets[['tweet_id', 'text', 'timestamp', 'user_id', 'like_count', 'retweet_count', 'quote_count',\n",
    "                        'reply_count', 'reach', 'topics_ids', 'topics', 'sentiment', 'popularity']],\n",
    "                        df_users[['user_id', 'followers', 'following', 'tweet_count', 'verified', 'created_at']],\n",
    "                        on=\"user_id\").reset_index()\n",
    "df.head(5)"
   ],
   "metadata": {
    "collapsed": false,
    "pycharm": {
     "name": "#%%\n"
    }
   }
  },
  {
   "cell_type": "markdown",
   "source": [
    "## Process tweets timestamps"
   ],
   "metadata": {
    "collapsed": false,
    "pycharm": {
     "name": "#%% md\n"
    }
   }
  },
  {
   "cell_type": "code",
   "execution_count": 4,
   "outputs": [],
   "source": [
    "df = pd.read_csv(filepath_or_buffer='../../data/tweets_2020_2021.csv', sep=\",\")"
   ],
   "metadata": {
    "collapsed": false,
    "pycharm": {
     "name": "#%%\n"
    }
   }
  },
  {
   "cell_type": "code",
   "execution_count": 5,
   "outputs": [],
   "source": [
    "df['timestamp'] = pd.to_datetime(df['timestamp'])"
   ],
   "metadata": {
    "collapsed": false,
    "pycharm": {
     "name": "#%%\n"
    }
   }
  },
  {
   "cell_type": "markdown",
   "source": [
    "### Categorize by year, month, week days and phases of the day"
   ],
   "metadata": {
    "collapsed": false,
    "pycharm": {
     "name": "#%% md\n"
    }
   }
  },
  {
   "cell_type": "code",
   "execution_count": 6,
   "outputs": [],
   "source": [
    "def get_day_phase(hour):\n",
    "    if 0 <= hour < 7:\n",
    "        return \"Dawn\"\n",
    "    elif 7 <= hour < 13:\n",
    "        return \"Morning\"\n",
    "    elif 13 <= hour < 16:\n",
    "        return \"Afternoon\"\n",
    "    elif 16 <= hour < 20:\n",
    "        return \"Evening\"\n",
    "    elif 20 <= hour < 24:\n",
    "        return \"Night\""
   ],
   "metadata": {
    "collapsed": false,
    "pycharm": {
     "name": "#%%\n"
    }
   }
  },
  {
   "cell_type": "code",
   "execution_count": 8,
   "outputs": [
    {
     "data": {
      "text/plain": "         Unnamed: 0    index             tweet_id  \\\n0                 0        0  1212176422770544641   \n1                 1        1  1212176421659062274   \n2                 2        2  1215030407881805824   \n3                 3        3  1223606768430911493   \n4                 4        4  1266534733447651328   \n...             ...      ...                  ...   \n1072382     1072382  1072382  1477036824749125633   \n1072383     1072383  1072383  1477036825579507714   \n1072384     1072384  1072384  1477036838217035777   \n1072385     1072385  1072385  1477036840024567809   \n1072386     1072386  1072386  1477036841933185025   \n\n                                                      text  \\\n0        2️⃣0️⃣1️⃣9️⃣ WHAT. A. YEAR. 🌟 #bestnine2019 #t...   \n1                     Gold N Hot 🤪 https://t.co/VeO2k4Mq4h   \n2                Damn I wonder why https://t.co/mtzuGWyafL   \n3        No fucking way I’m bring no yogurt parfait. Pu...   \n4        No purpose. Just Doing Shit https://t.co/UmcuH...   \n...                                                    ...   \n1072382  Classic Golden Girls. #ripbettywhite #RIPBetty...   \n1072383  No one told me I’d have a real life princess. ...   \n1072384  Fast And Professional Vehicle Lockout Service ...   \n1072385             Very much this https://t.co/b3bgtstLfr   \n1072386           Best thread ever https://t.co/EBo4JkTCx4   \n\n                         timestamp              user_id  like_count  \\\n0              2020-01-01 00:59:14             29885607          35   \n1              2020-01-01 00:59:14  1130217871286636545           0   \n2              2020-01-08 21:59:58  1130217871286636545           0   \n3        2020-02-01 13:59:21+00:00  1130217871286636545           3   \n4        2020-05-30 00:59:46+00:00  1130217871286636545           0   \n...                            ...                  ...         ...   \n1072382  2021-12-31 21:59:55+00:00             21630146           5   \n1072383  2021-12-31 21:59:55+00:00             38572410           0   \n1072384  2021-12-31 21:59:58+00:00            210241982           0   \n1072385  2021-12-31 21:59:59+00:00            883576549           3   \n1072386  2021-12-31 21:59:59+00:00            131371694           0   \n\n         retweet_count  quote_count  reply_count  ...  followers  following  \\\n0                    1            0            0  ...       7545       3335   \n1                    0            0            0  ...       4008       1488   \n2                    0            0            0  ...       4008       1488   \n3                    0            0            3  ...       4008       1488   \n4                    0            0            0  ...       4008       1488   \n...                ...          ...          ...  ...        ...        ...   \n1072382              0            0            0  ...       4561       2218   \n1072383              0            0            0  ...        437       1046   \n1072384              0            0            0  ...        394        465   \n1072385              0            0            0  ...        702       1263   \n1072386              0            0            0  ...         57        214   \n\n        tweet_count verified                 created_at  year     month  \\\n0             11473    False        2009-04-09 01:39:24  2020   January   \n1            141802    False  2019-05-19 21:05:13+00:00  2020   January   \n2            141802    False  2019-05-19 21:05:13+00:00  2020   January   \n3            141802    False  2019-05-19 21:05:13+00:00  2020  February   \n4            141802    False  2019-05-19 21:05:13+00:00  2020       May   \n...             ...      ...                        ...   ...       ...   \n1072382       60595    False  2009-02-23 04:12:29+00:00  2021  December   \n1072383        7665    False  2009-05-08 01:25:54+00:00  2021  December   \n1072384       21897    False  2010-10-30 23:06:33+00:00  2021  December   \n1072385       20166    False  2012-10-16 03:01:52+00:00  2021  December   \n1072386        1037    False  2010-04-10 02:33:03+00:00  2021  December   \n\n         day_of_week  day_phase week_idx  \n0          Wednesday       Dawn  2020-01  \n1          Wednesday       Dawn  2020-01  \n2          Wednesday      Night  2020-02  \n3           Saturday  Afternoon  2020-05  \n4           Saturday       Dawn  2020-22  \n...              ...        ...      ...  \n1072382       Friday      Night  2021-52  \n1072383       Friday      Night  2021-52  \n1072384       Friday      Night  2021-52  \n1072385       Friday      Night  2021-52  \n1072386       Friday      Night  2021-52  \n\n[1072387 rows x 25 columns]",
      "text/html": "<div>\n<style scoped>\n    .dataframe tbody tr th:only-of-type {\n        vertical-align: middle;\n    }\n\n    .dataframe tbody tr th {\n        vertical-align: top;\n    }\n\n    .dataframe thead th {\n        text-align: right;\n    }\n</style>\n<table border=\"1\" class=\"dataframe\">\n  <thead>\n    <tr style=\"text-align: right;\">\n      <th></th>\n      <th>Unnamed: 0</th>\n      <th>index</th>\n      <th>tweet_id</th>\n      <th>text</th>\n      <th>timestamp</th>\n      <th>user_id</th>\n      <th>like_count</th>\n      <th>retweet_count</th>\n      <th>quote_count</th>\n      <th>reply_count</th>\n      <th>...</th>\n      <th>followers</th>\n      <th>following</th>\n      <th>tweet_count</th>\n      <th>verified</th>\n      <th>created_at</th>\n      <th>year</th>\n      <th>month</th>\n      <th>day_of_week</th>\n      <th>day_phase</th>\n      <th>week_idx</th>\n    </tr>\n  </thead>\n  <tbody>\n    <tr>\n      <th>0</th>\n      <td>0</td>\n      <td>0</td>\n      <td>1212176422770544641</td>\n      <td>2️⃣0️⃣1️⃣9️⃣ WHAT. A. YEAR. 🌟 #bestnine2019 #t...</td>\n      <td>2020-01-01 00:59:14</td>\n      <td>29885607</td>\n      <td>35</td>\n      <td>1</td>\n      <td>0</td>\n      <td>0</td>\n      <td>...</td>\n      <td>7545</td>\n      <td>3335</td>\n      <td>11473</td>\n      <td>False</td>\n      <td>2009-04-09 01:39:24</td>\n      <td>2020</td>\n      <td>January</td>\n      <td>Wednesday</td>\n      <td>Dawn</td>\n      <td>2020-01</td>\n    </tr>\n    <tr>\n      <th>1</th>\n      <td>1</td>\n      <td>1</td>\n      <td>1212176421659062274</td>\n      <td>Gold N Hot 🤪 https://t.co/VeO2k4Mq4h</td>\n      <td>2020-01-01 00:59:14</td>\n      <td>1130217871286636545</td>\n      <td>0</td>\n      <td>0</td>\n      <td>0</td>\n      <td>0</td>\n      <td>...</td>\n      <td>4008</td>\n      <td>1488</td>\n      <td>141802</td>\n      <td>False</td>\n      <td>2019-05-19 21:05:13+00:00</td>\n      <td>2020</td>\n      <td>January</td>\n      <td>Wednesday</td>\n      <td>Dawn</td>\n      <td>2020-01</td>\n    </tr>\n    <tr>\n      <th>2</th>\n      <td>2</td>\n      <td>2</td>\n      <td>1215030407881805824</td>\n      <td>Damn I wonder why https://t.co/mtzuGWyafL</td>\n      <td>2020-01-08 21:59:58</td>\n      <td>1130217871286636545</td>\n      <td>0</td>\n      <td>0</td>\n      <td>0</td>\n      <td>0</td>\n      <td>...</td>\n      <td>4008</td>\n      <td>1488</td>\n      <td>141802</td>\n      <td>False</td>\n      <td>2019-05-19 21:05:13+00:00</td>\n      <td>2020</td>\n      <td>January</td>\n      <td>Wednesday</td>\n      <td>Night</td>\n      <td>2020-02</td>\n    </tr>\n    <tr>\n      <th>3</th>\n      <td>3</td>\n      <td>3</td>\n      <td>1223606768430911493</td>\n      <td>No fucking way I’m bring no yogurt parfait. Pu...</td>\n      <td>2020-02-01 13:59:21+00:00</td>\n      <td>1130217871286636545</td>\n      <td>3</td>\n      <td>0</td>\n      <td>0</td>\n      <td>3</td>\n      <td>...</td>\n      <td>4008</td>\n      <td>1488</td>\n      <td>141802</td>\n      <td>False</td>\n      <td>2019-05-19 21:05:13+00:00</td>\n      <td>2020</td>\n      <td>February</td>\n      <td>Saturday</td>\n      <td>Afternoon</td>\n      <td>2020-05</td>\n    </tr>\n    <tr>\n      <th>4</th>\n      <td>4</td>\n      <td>4</td>\n      <td>1266534733447651328</td>\n      <td>No purpose. Just Doing Shit https://t.co/UmcuH...</td>\n      <td>2020-05-30 00:59:46+00:00</td>\n      <td>1130217871286636545</td>\n      <td>0</td>\n      <td>0</td>\n      <td>0</td>\n      <td>0</td>\n      <td>...</td>\n      <td>4008</td>\n      <td>1488</td>\n      <td>141802</td>\n      <td>False</td>\n      <td>2019-05-19 21:05:13+00:00</td>\n      <td>2020</td>\n      <td>May</td>\n      <td>Saturday</td>\n      <td>Dawn</td>\n      <td>2020-22</td>\n    </tr>\n    <tr>\n      <th>...</th>\n      <td>...</td>\n      <td>...</td>\n      <td>...</td>\n      <td>...</td>\n      <td>...</td>\n      <td>...</td>\n      <td>...</td>\n      <td>...</td>\n      <td>...</td>\n      <td>...</td>\n      <td>...</td>\n      <td>...</td>\n      <td>...</td>\n      <td>...</td>\n      <td>...</td>\n      <td>...</td>\n      <td>...</td>\n      <td>...</td>\n      <td>...</td>\n      <td>...</td>\n      <td>...</td>\n    </tr>\n    <tr>\n      <th>1072382</th>\n      <td>1072382</td>\n      <td>1072382</td>\n      <td>1477036824749125633</td>\n      <td>Classic Golden Girls. #ripbettywhite #RIPBetty...</td>\n      <td>2021-12-31 21:59:55+00:00</td>\n      <td>21630146</td>\n      <td>5</td>\n      <td>0</td>\n      <td>0</td>\n      <td>0</td>\n      <td>...</td>\n      <td>4561</td>\n      <td>2218</td>\n      <td>60595</td>\n      <td>False</td>\n      <td>2009-02-23 04:12:29+00:00</td>\n      <td>2021</td>\n      <td>December</td>\n      <td>Friday</td>\n      <td>Night</td>\n      <td>2021-52</td>\n    </tr>\n    <tr>\n      <th>1072383</th>\n      <td>1072383</td>\n      <td>1072383</td>\n      <td>1477036825579507714</td>\n      <td>No one told me I’d have a real life princess. ...</td>\n      <td>2021-12-31 21:59:55+00:00</td>\n      <td>38572410</td>\n      <td>0</td>\n      <td>0</td>\n      <td>0</td>\n      <td>0</td>\n      <td>...</td>\n      <td>437</td>\n      <td>1046</td>\n      <td>7665</td>\n      <td>False</td>\n      <td>2009-05-08 01:25:54+00:00</td>\n      <td>2021</td>\n      <td>December</td>\n      <td>Friday</td>\n      <td>Night</td>\n      <td>2021-52</td>\n    </tr>\n    <tr>\n      <th>1072384</th>\n      <td>1072384</td>\n      <td>1072384</td>\n      <td>1477036838217035777</td>\n      <td>Fast And Professional Vehicle Lockout Service ...</td>\n      <td>2021-12-31 21:59:58+00:00</td>\n      <td>210241982</td>\n      <td>0</td>\n      <td>0</td>\n      <td>0</td>\n      <td>0</td>\n      <td>...</td>\n      <td>394</td>\n      <td>465</td>\n      <td>21897</td>\n      <td>False</td>\n      <td>2010-10-30 23:06:33+00:00</td>\n      <td>2021</td>\n      <td>December</td>\n      <td>Friday</td>\n      <td>Night</td>\n      <td>2021-52</td>\n    </tr>\n    <tr>\n      <th>1072385</th>\n      <td>1072385</td>\n      <td>1072385</td>\n      <td>1477036840024567809</td>\n      <td>Very much this https://t.co/b3bgtstLfr</td>\n      <td>2021-12-31 21:59:59+00:00</td>\n      <td>883576549</td>\n      <td>3</td>\n      <td>0</td>\n      <td>0</td>\n      <td>0</td>\n      <td>...</td>\n      <td>702</td>\n      <td>1263</td>\n      <td>20166</td>\n      <td>False</td>\n      <td>2012-10-16 03:01:52+00:00</td>\n      <td>2021</td>\n      <td>December</td>\n      <td>Friday</td>\n      <td>Night</td>\n      <td>2021-52</td>\n    </tr>\n    <tr>\n      <th>1072386</th>\n      <td>1072386</td>\n      <td>1072386</td>\n      <td>1477036841933185025</td>\n      <td>Best thread ever https://t.co/EBo4JkTCx4</td>\n      <td>2021-12-31 21:59:59+00:00</td>\n      <td>131371694</td>\n      <td>0</td>\n      <td>0</td>\n      <td>0</td>\n      <td>0</td>\n      <td>...</td>\n      <td>57</td>\n      <td>214</td>\n      <td>1037</td>\n      <td>False</td>\n      <td>2010-04-10 02:33:03+00:00</td>\n      <td>2021</td>\n      <td>December</td>\n      <td>Friday</td>\n      <td>Night</td>\n      <td>2021-52</td>\n    </tr>\n  </tbody>\n</table>\n<p>1072387 rows × 25 columns</p>\n</div>"
     },
     "execution_count": 8,
     "metadata": {},
     "output_type": "execute_result"
    }
   ],
   "source": [
    "df['year'] = df['timestamp'].apply(lambda x: x.year)\n",
    "df['month'] = df['timestamp'].apply(lambda x: x.strftime('%B'))\n",
    "df['day_of_week'] = df['timestamp'].apply(lambda x: x.strftime('%A'))\n",
    "df['day_phase'] = df['timestamp'].apply(lambda x: get_day_phase(int(x.hour)))\n",
    "df['week_idx'] = df['timestamp'].apply(lambda x: '%s-%s' % (x.year, '{:02d}'.format(x.isocalendar()[1])))\n",
    "df"
   ],
   "metadata": {
    "collapsed": false,
    "pycharm": {
     "name": "#%%\n"
    }
   }
  },
  {
   "cell_type": "code",
   "execution_count": 9,
   "outputs": [
    {
     "data": {
      "text/plain": "   Unnamed: 0  index             tweet_id  \\\n0           0      0  1212176422770544641   \n1           1      1  1212176421659062274   \n2           2      2  1215030407881805824   \n3           3      3  1223606768430911493   \n4           4      4  1266534733447651328   \n\n                                                text  \\\n0  2️⃣0️⃣1️⃣9️⃣ WHAT. A. YEAR. 🌟 #bestnine2019 #t...   \n1               Gold N Hot 🤪 https://t.co/VeO2k4Mq4h   \n2          Damn I wonder why https://t.co/mtzuGWyafL   \n3  No fucking way I’m bring no yogurt parfait. Pu...   \n4  No purpose. Just Doing Shit https://t.co/UmcuH...   \n\n                   timestamp              user_id  like_count  retweet_count  \\\n0        2020-01-01 00:59:14             29885607          35              1   \n1        2020-01-01 00:59:14  1130217871286636545           0              0   \n2        2020-01-08 21:59:58  1130217871286636545           0              0   \n3  2020-02-01 13:59:21+00:00  1130217871286636545           3              0   \n4  2020-05-30 00:59:46+00:00  1130217871286636545           0              0   \n\n   quote_count  reply_count  ...     month  day_of_week  day_phase week_idx  \\\n0            0            0  ...   January    Wednesday       Dawn  2020-01   \n1            0            0  ...   January    Wednesday       Dawn  2020-01   \n2            0            0  ...   January    Wednesday      Night  2020-02   \n3            0            3  ...  February     Saturday  Afternoon  2020-05   \n4            0            0  ...       May     Saturday       Dawn  2020-22   \n\n   day_phase_enc  day_of_week_enc  month_enc  year_enc  sentiment_enc  \\\n0              1                6          4         0              1   \n1              1                6          4         0              1   \n2              4                6          4         0              0   \n3              0                2          3         0              0   \n4              1                2          8         0              0   \n\n  verified_enc  \n0            0  \n1            0  \n2            0  \n3            0  \n4            0  \n\n[5 rows x 31 columns]",
      "text/html": "<div>\n<style scoped>\n    .dataframe tbody tr th:only-of-type {\n        vertical-align: middle;\n    }\n\n    .dataframe tbody tr th {\n        vertical-align: top;\n    }\n\n    .dataframe thead th {\n        text-align: right;\n    }\n</style>\n<table border=\"1\" class=\"dataframe\">\n  <thead>\n    <tr style=\"text-align: right;\">\n      <th></th>\n      <th>Unnamed: 0</th>\n      <th>index</th>\n      <th>tweet_id</th>\n      <th>text</th>\n      <th>timestamp</th>\n      <th>user_id</th>\n      <th>like_count</th>\n      <th>retweet_count</th>\n      <th>quote_count</th>\n      <th>reply_count</th>\n      <th>...</th>\n      <th>month</th>\n      <th>day_of_week</th>\n      <th>day_phase</th>\n      <th>week_idx</th>\n      <th>day_phase_enc</th>\n      <th>day_of_week_enc</th>\n      <th>month_enc</th>\n      <th>year_enc</th>\n      <th>sentiment_enc</th>\n      <th>verified_enc</th>\n    </tr>\n  </thead>\n  <tbody>\n    <tr>\n      <th>0</th>\n      <td>0</td>\n      <td>0</td>\n      <td>1212176422770544641</td>\n      <td>2️⃣0️⃣1️⃣9️⃣ WHAT. A. YEAR. 🌟 #bestnine2019 #t...</td>\n      <td>2020-01-01 00:59:14</td>\n      <td>29885607</td>\n      <td>35</td>\n      <td>1</td>\n      <td>0</td>\n      <td>0</td>\n      <td>...</td>\n      <td>January</td>\n      <td>Wednesday</td>\n      <td>Dawn</td>\n      <td>2020-01</td>\n      <td>1</td>\n      <td>6</td>\n      <td>4</td>\n      <td>0</td>\n      <td>1</td>\n      <td>0</td>\n    </tr>\n    <tr>\n      <th>1</th>\n      <td>1</td>\n      <td>1</td>\n      <td>1212176421659062274</td>\n      <td>Gold N Hot 🤪 https://t.co/VeO2k4Mq4h</td>\n      <td>2020-01-01 00:59:14</td>\n      <td>1130217871286636545</td>\n      <td>0</td>\n      <td>0</td>\n      <td>0</td>\n      <td>0</td>\n      <td>...</td>\n      <td>January</td>\n      <td>Wednesday</td>\n      <td>Dawn</td>\n      <td>2020-01</td>\n      <td>1</td>\n      <td>6</td>\n      <td>4</td>\n      <td>0</td>\n      <td>1</td>\n      <td>0</td>\n    </tr>\n    <tr>\n      <th>2</th>\n      <td>2</td>\n      <td>2</td>\n      <td>1215030407881805824</td>\n      <td>Damn I wonder why https://t.co/mtzuGWyafL</td>\n      <td>2020-01-08 21:59:58</td>\n      <td>1130217871286636545</td>\n      <td>0</td>\n      <td>0</td>\n      <td>0</td>\n      <td>0</td>\n      <td>...</td>\n      <td>January</td>\n      <td>Wednesday</td>\n      <td>Night</td>\n      <td>2020-02</td>\n      <td>4</td>\n      <td>6</td>\n      <td>4</td>\n      <td>0</td>\n      <td>0</td>\n      <td>0</td>\n    </tr>\n    <tr>\n      <th>3</th>\n      <td>3</td>\n      <td>3</td>\n      <td>1223606768430911493</td>\n      <td>No fucking way I’m bring no yogurt parfait. Pu...</td>\n      <td>2020-02-01 13:59:21+00:00</td>\n      <td>1130217871286636545</td>\n      <td>3</td>\n      <td>0</td>\n      <td>0</td>\n      <td>3</td>\n      <td>...</td>\n      <td>February</td>\n      <td>Saturday</td>\n      <td>Afternoon</td>\n      <td>2020-05</td>\n      <td>0</td>\n      <td>2</td>\n      <td>3</td>\n      <td>0</td>\n      <td>0</td>\n      <td>0</td>\n    </tr>\n    <tr>\n      <th>4</th>\n      <td>4</td>\n      <td>4</td>\n      <td>1266534733447651328</td>\n      <td>No purpose. Just Doing Shit https://t.co/UmcuH...</td>\n      <td>2020-05-30 00:59:46+00:00</td>\n      <td>1130217871286636545</td>\n      <td>0</td>\n      <td>0</td>\n      <td>0</td>\n      <td>0</td>\n      <td>...</td>\n      <td>May</td>\n      <td>Saturday</td>\n      <td>Dawn</td>\n      <td>2020-22</td>\n      <td>1</td>\n      <td>2</td>\n      <td>8</td>\n      <td>0</td>\n      <td>0</td>\n      <td>0</td>\n    </tr>\n  </tbody>\n</table>\n<p>5 rows × 31 columns</p>\n</div>"
     },
     "execution_count": 9,
     "metadata": {},
     "output_type": "execute_result"
    }
   ],
   "source": [
    "\n",
    "cols_to_transform = ['day_phase', 'day_of_week', 'month', 'year', 'sentiment', 'verified']\n",
    "\n",
    "for col in cols_to_transform:\n",
    "    enc = LabelEncoder()\n",
    "    enc.fit(df[col])\n",
    "    df[col + '_enc'] = enc.transform(df[col])\n",
    "\n",
    "# Day phase: Dawn -> 1 | Morning -> 3 | Afternoon -> 0 | Evening -> 2 | Night -> 4\n",
    "\n",
    "# Days of the week:\n",
    "#   Monday -> 1 | Tuesday -> 5 | Wednesday -> 6\n",
    "#   Thursday -> 4 | Friday -> 0 | Saturday -> 2 | Sunday -> 3\n",
    "\n",
    "# Months\n",
    "#   January -> 4 | February -> 3 | March -> 7 | April -> 0\n",
    "#   May -> 8 | June -> 6 | July -> 5 | August -> 1\n",
    "#   September -> 11 | October -> 10 | November -> 9 | December -> 2\n",
    "\n",
    "# Years\n",
    "#   2020 -> 0 | 2021 -> 1\n",
    "\n",
    "# Sentiment\n",
    "#  Negative -> 0 | Neutral -> 1 | Positive -> 2\n",
    "\n",
    "# Verified\n",
    "#  False -> 0 | True -> 1\n",
    "\n",
    "df.head(5)"
   ],
   "metadata": {
    "collapsed": false,
    "pycharm": {
     "name": "#%%\n"
    }
   }
  },
  {
   "cell_type": "markdown",
   "source": [
    "### Calculate users seniority"
   ],
   "metadata": {
    "collapsed": false,
    "pycharm": {
     "name": "#%% md\n"
    }
   }
  },
  {
   "cell_type": "code",
   "execution_count": null,
   "outputs": [],
   "source": [
    "df['created_at'] = pd.to_datetime(df['created_at'], utc=True).dt.strftime(\"%Y-%m-%d\")\n",
    "df['created_at'] = pd.to_datetime(df['created_at'])\n",
    "df['seniority'] = df['created_at'].apply(lambda x: relativedelta(datetime.datetime.now(), x).years)"
   ],
   "metadata": {
    "collapsed": false,
    "pycharm": {
     "name": "#%%\n"
    }
   }
  },
  {
   "cell_type": "markdown",
   "source": [
    "## Outliers"
   ],
   "metadata": {
    "collapsed": false,
    "pycharm": {
     "name": "#%% md\n"
    }
   }
  },
  {
   "cell_type": "code",
   "execution_count": null,
   "outputs": [],
   "source": [
    "var_outliers = ['like_count', 'retweet_count', 'quote_count', 'reply_count', 'reach', 'topics_ids', 'sentiment_enc', 'day_phase_enc', 'day_of_week_enc', 'month_enc', 'popularity', 'followers', 'following', 'tweet_count', 'verified_enc', 'seniority']\n",
    "\n",
    "fig, axes = plt.subplots(2, math.ceil(len(var_outliers) / 2), figsize=(28, 15))\n",
    "\n",
    "for ax, feat in zip(axes.flatten(), var_outliers):\n",
    "    sns.boxplot(x=df[feat], ax=ax, color='steelblue')\n",
    "\n",
    "title = \"Variables' Box Plots\"\n",
    "plt.suptitle(title, y=0.95, fontsize=20)\n",
    "plt.show()"
   ],
   "metadata": {
    "collapsed": false,
    "pycharm": {
     "name": "#%%\n"
    }
   }
  },
  {
   "cell_type": "code",
   "execution_count": null,
   "outputs": [],
   "source": [
    "outliers_filter = (((df['followers'] < 10000) & (df['following'] < 70000)) & ((df['retweet_count'] < 100) & (df['like_count'] < 4000) & (df['seniority'] < 17)))\n",
    "df_no_outliers = df[outliers_filter].copy()\n",
    "df_no_outliers.shape"
   ],
   "metadata": {
    "collapsed": false,
    "pycharm": {
     "name": "#%%\n"
    }
   }
  },
  {
   "cell_type": "code",
   "execution_count": null,
   "outputs": [],
   "source": [
    "print('Percentage of data kept after removing outliers:', np.round(df_no_outliers.shape[0] / df.shape[0], 4) * 100, '%')\n",
    "print('Percentage of data removed:', np.round((1 - (df_no_outliers.shape[0] / df.shape[0])) * 100, 4), '%')\n",
    "df = df_no_outliers"
   ],
   "metadata": {
    "collapsed": false,
    "pycharm": {
     "name": "#%%\n"
    }
   }
  },
  {
   "cell_type": "code",
   "execution_count": null,
   "outputs": [],
   "source": [
    "fig, axes = plt.subplots(2, math.ceil(len(var_outliers) / 2), figsize=(28, 15))\n",
    "\n",
    "for ax, feat in zip(axes.flatten(), var_outliers):\n",
    "    sns.boxplot(x=df[feat], ax=ax, color='steelblue')\n",
    "\n",
    "title = \"Variables' Box Plots\"\n",
    "plt.suptitle(title, y=0.95, fontsize=20)\n",
    "plt.show()"
   ],
   "metadata": {
    "collapsed": false,
    "pycharm": {
     "name": "#%%\n"
    }
   }
  },
  {
   "cell_type": "markdown",
   "source": [
    "## Save the final version of the dataset"
   ],
   "metadata": {
    "collapsed": false,
    "pycharm": {
     "name": "#%% md\n"
    }
   }
  },
  {
   "cell_type": "code",
   "execution_count": null,
   "outputs": [],
   "source": [
    "df.to_csv('../../data/tweets_2020_2021_v2.csv', sep=',', date_format='%Y-%m-%d %H:%M:%S')"
   ],
   "metadata": {
    "collapsed": false,
    "pycharm": {
     "name": "#%%\n"
    }
   }
  }
 ],
 "metadata": {
  "kernelspec": {
   "display_name": "Python 3",
   "language": "python",
   "name": "python3"
  },
  "language_info": {
   "codemirror_mode": {
    "name": "ipython",
    "version": 2
   },
   "file_extension": ".py",
   "mimetype": "text/x-python",
   "name": "python",
   "nbconvert_exporter": "python",
   "pygments_lexer": "ipython2",
   "version": "2.7.6"
  }
 },
 "nbformat": 4,
 "nbformat_minor": 0
}