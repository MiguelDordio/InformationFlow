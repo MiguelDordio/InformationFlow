{
 "cells": [
  {
   "cell_type": "code",
   "execution_count": 1,
   "outputs": [],
   "source": [
    "import pandas as pd\n",
    "import numpy as np\n",
    "import json\n",
    "import datetime\n",
    "from vaderSentiment.vaderSentiment import SentimentIntensityAnalyzer\n",
    "from sklearn.preprocessing import LabelEncoder\n",
    "from dateutil.relativedelta import relativedelta\n",
    "from matplotlib import pyplot as plt\n",
    "import math\n",
    "import re\n",
    "import seaborn as sns\n",
    "sns.set()"
   ],
   "metadata": {
    "collapsed": false,
    "pycharm": {
     "name": "#%%\n"
    }
   }
  },
  {
   "cell_type": "markdown",
   "source": [
    "### Files locations"
   ],
   "metadata": {
    "collapsed": false,
    "pycharm": {
     "name": "#%% md\n"
    }
   }
  },
  {
   "cell_type": "code",
   "execution_count": 2,
   "outputs": [],
   "source": [
    "FILE_USERS = \"../../data/tweets/raw_users_2019.csv\"\n",
    "FILE_USERS_TWEETS = \"../../data/tweets/raw_tweets_2019.csv\"\n",
    "\n",
    "FILE_RETWEETERS = \"../../data/retweets/retweets_2019.csv\"\n",
    "FILE_RETWEETERS_USERS = \"../../data/retweets/retweets_users_2019.csv\"\n",
    "\n",
    "FINAL_DATASET = \"../../data/processed_tweets/tweets_\"\n",
    "FINAL_DATASET_RETWEETS_INFO = \"../../data/processed_retweets/retweets_info_\""
   ],
   "metadata": {
    "collapsed": false,
    "pycharm": {
     "name": "#%%\n"
    }
   }
  },
  {
   "cell_type": "markdown",
   "source": [
    "### Load Datasets"
   ],
   "metadata": {
    "collapsed": false,
    "pycharm": {
     "name": "#%% md\n"
    }
   }
  },
  {
   "cell_type": "code",
   "execution_count": 3,
   "outputs": [
    {
     "name": "stderr",
     "output_type": "stream",
     "text": [
      "C:\\Users\\Miguel\\AppData\\Local\\Temp\\ipykernel_15384\\1493569851.py:1: DtypeWarning: Columns (2) have mixed types. Specify dtype option on import or set low_memory=False.\n",
      "  df_users = pd.read_csv(filepath_or_buffer=FILE_USERS, sep=\",\")\n"
     ]
    }
   ],
   "source": [
    "df_users = pd.read_csv(filepath_or_buffer=FILE_USERS, sep=\",\")\n",
    "df_tweets = pd.read_csv(filepath_or_buffer=FILE_USERS_TWEETS, sep=\",\")\n",
    "\n",
    "# df_users = df_users[:100]\n",
    "# df_tweets = df_tweets[:100]"
   ],
   "metadata": {
    "collapsed": false,
    "pycharm": {
     "name": "#%%\n"
    }
   }
  },
  {
   "cell_type": "code",
   "execution_count": 4,
   "outputs": [
    {
     "name": "stdout",
     "output_type": "stream",
     "text": [
      "<class 'pandas.core.frame.DataFrame'>\n",
      "RangeIndex: 535027 entries, 0 to 535026\n",
      "Data columns (total 15 columns):\n",
      " #   Column             Non-Null Count   Dtype \n",
      "---  ------             --------------   ----- \n",
      " 0   Unnamed: 0         535027 non-null  int64 \n",
      " 1   tweet_id           535027 non-null  int64 \n",
      " 2   text               535027 non-null  object\n",
      " 3   user_id            535027 non-null  int64 \n",
      " 4   timestamp          535027 non-null  object\n",
      " 5   tweet_type         535027 non-null  object\n",
      " 6   like_count         535027 non-null  int64 \n",
      " 7   reply_count        535027 non-null  int64 \n",
      " 8   retweet_count      535027 non-null  int64 \n",
      " 9   quote_count        535027 non-null  int64 \n",
      " 10  device             518149 non-null  object\n",
      " 11  lang               535027 non-null  object\n",
      " 12  topics_ids         535027 non-null  object\n",
      " 13  topics             535027 non-null  object\n",
      " 14  referenced_tweets  111928 non-null  object\n",
      "dtypes: int64(7), object(8)\n",
      "memory usage: 61.2+ MB\n"
     ]
    }
   ],
   "source": [
    "df_tweets.info()"
   ],
   "metadata": {
    "collapsed": false,
    "pycharm": {
     "name": "#%%\n"
    }
   }
  },
  {
   "cell_type": "markdown",
   "source": [
    "### Sort tweets by timestamp"
   ],
   "metadata": {
    "collapsed": false,
    "pycharm": {
     "name": "#%% md\n"
    }
   }
  },
  {
   "cell_type": "code",
   "execution_count": 5,
   "outputs": [
    {
     "data": {
      "text/plain": "    index  Unnamed: 0             tweet_id  \\\n0  491246      491246  1079904885246705665   \n1  491248      491248  1079904884445581312   \n2  491247      491247  1079904885175476224   \n3  491245      491245  1079904885531791360   \n4  491244      491244  1079904886014107648   \n\n                                                text             user_id  \\\n0                         I’ll never salt you down 😌           497001647   \n1  You know who you are; but some of you I’ve fol...           112542289   \n2       Oh she a freak freak https://t.co/uJqYxJUGgg          2372981097   \n3                 Don’t forget your red thong ladies          2446281619   \n4                         Thankful for my crazy life  823355577526931457   \n\n             timestamp      tweet_type  like_count  reply_count  \\\n0  2019-01-01 00:59:22  Original Tweet           0            0   \n1  2019-01-01 00:59:22  Original Tweet           2            0   \n2  2019-01-01 00:59:22  Original Tweet           0            0   \n3  2019-01-01 00:59:23  Original Tweet           2            0   \n4  2019-01-01 00:59:23  Original Tweet           5            1   \n\n   retweet_count  quote_count  device lang topics_ids topics referenced_tweets  \n0              0            0  iPhone   en         []     []               NaN  \n1              1            0  iPhone   en         []     []               NaN  \n2              0            0  iPhone   en         []     []               NaN  \n3              0            0  iPhone   en         []     []               NaN  \n4              0            0  iPhone   en         []     []               NaN  ",
      "text/html": "<div>\n<style scoped>\n    .dataframe tbody tr th:only-of-type {\n        vertical-align: middle;\n    }\n\n    .dataframe tbody tr th {\n        vertical-align: top;\n    }\n\n    .dataframe thead th {\n        text-align: right;\n    }\n</style>\n<table border=\"1\" class=\"dataframe\">\n  <thead>\n    <tr style=\"text-align: right;\">\n      <th></th>\n      <th>index</th>\n      <th>Unnamed: 0</th>\n      <th>tweet_id</th>\n      <th>text</th>\n      <th>user_id</th>\n      <th>timestamp</th>\n      <th>tweet_type</th>\n      <th>like_count</th>\n      <th>reply_count</th>\n      <th>retweet_count</th>\n      <th>quote_count</th>\n      <th>device</th>\n      <th>lang</th>\n      <th>topics_ids</th>\n      <th>topics</th>\n      <th>referenced_tweets</th>\n    </tr>\n  </thead>\n  <tbody>\n    <tr>\n      <th>0</th>\n      <td>491246</td>\n      <td>491246</td>\n      <td>1079904885246705665</td>\n      <td>I’ll never salt you down 😌</td>\n      <td>497001647</td>\n      <td>2019-01-01 00:59:22</td>\n      <td>Original Tweet</td>\n      <td>0</td>\n      <td>0</td>\n      <td>0</td>\n      <td>0</td>\n      <td>iPhone</td>\n      <td>en</td>\n      <td>[]</td>\n      <td>[]</td>\n      <td>NaN</td>\n    </tr>\n    <tr>\n      <th>1</th>\n      <td>491248</td>\n      <td>491248</td>\n      <td>1079904884445581312</td>\n      <td>You know who you are; but some of you I’ve fol...</td>\n      <td>112542289</td>\n      <td>2019-01-01 00:59:22</td>\n      <td>Original Tweet</td>\n      <td>2</td>\n      <td>0</td>\n      <td>1</td>\n      <td>0</td>\n      <td>iPhone</td>\n      <td>en</td>\n      <td>[]</td>\n      <td>[]</td>\n      <td>NaN</td>\n    </tr>\n    <tr>\n      <th>2</th>\n      <td>491247</td>\n      <td>491247</td>\n      <td>1079904885175476224</td>\n      <td>Oh she a freak freak https://t.co/uJqYxJUGgg</td>\n      <td>2372981097</td>\n      <td>2019-01-01 00:59:22</td>\n      <td>Original Tweet</td>\n      <td>0</td>\n      <td>0</td>\n      <td>0</td>\n      <td>0</td>\n      <td>iPhone</td>\n      <td>en</td>\n      <td>[]</td>\n      <td>[]</td>\n      <td>NaN</td>\n    </tr>\n    <tr>\n      <th>3</th>\n      <td>491245</td>\n      <td>491245</td>\n      <td>1079904885531791360</td>\n      <td>Don’t forget your red thong ladies</td>\n      <td>2446281619</td>\n      <td>2019-01-01 00:59:23</td>\n      <td>Original Tweet</td>\n      <td>2</td>\n      <td>0</td>\n      <td>0</td>\n      <td>0</td>\n      <td>iPhone</td>\n      <td>en</td>\n      <td>[]</td>\n      <td>[]</td>\n      <td>NaN</td>\n    </tr>\n    <tr>\n      <th>4</th>\n      <td>491244</td>\n      <td>491244</td>\n      <td>1079904886014107648</td>\n      <td>Thankful for my crazy life</td>\n      <td>823355577526931457</td>\n      <td>2019-01-01 00:59:23</td>\n      <td>Original Tweet</td>\n      <td>5</td>\n      <td>1</td>\n      <td>0</td>\n      <td>0</td>\n      <td>iPhone</td>\n      <td>en</td>\n      <td>[]</td>\n      <td>[]</td>\n      <td>NaN</td>\n    </tr>\n  </tbody>\n</table>\n</div>"
     },
     "execution_count": 5,
     "metadata": {},
     "output_type": "execute_result"
    }
   ],
   "source": [
    "df_tweets = df_tweets.sort_values(by='timestamp', ascending=True).reset_index()\n",
    "df_tweets.head(5)"
   ],
   "metadata": {
    "collapsed": false,
    "pycharm": {
     "name": "#%%\n"
    }
   }
  },
  {
   "cell_type": "markdown",
   "source": [
    "### Delete duplicate users"
   ],
   "metadata": {
    "collapsed": false,
    "pycharm": {
     "name": "#%% md\n"
    }
   }
  },
  {
   "cell_type": "code",
   "execution_count": 6,
   "outputs": [
    {
     "data": {
      "text/plain": "        Unnamed: 0              user_id            name         username  \\\n0                0           2980798068      Cortisha❤️      _precioso__   \n1                1           1042282718  Turki_alotaibi  alotaibi7_turki   \n2                2           2388053407            sag.          xokaysl   \n3                3             49823753           Scott       Scott_R_JC   \n4                4             37273992     Grandpa DCI     buttongod_ks   \n...            ...                  ...             ...              ...   \n535017      535017           2988093543          529146  _princessdaisha   \n535021      535021            964832593          529150   CoachBradLaird   \n535023      535023            133080207          529152       CodyLaGrow   \n535025      535025  1003280186115100672          529154   breannathemac_   \n535026      535026           1515408804          529155          L3cski9   \n\n        followers  following  tweet_count  verified                 created_at  \n0           16685       7571        49073     False  2015-01-13 22:31:38+00:00  \n1             278        492         3301     False  2012-12-28 14:06:22+00:00  \n2            1309       1124        62401     False  2014-03-13 23:13:09+00:00  \n3            1930        243        51495     False  2009-06-23 00:23:14+00:00  \n4             605       1246        12825     False  2009-05-02 20:21:09+00:00  \n...           ...        ...          ...       ...                        ...  \n535017        434        319        13041     False        2015-01-20 22:04:13  \n535021       8024       1290         1414     False        2012-11-22 19:27:15  \n535023       2917       3903         9771      True        2010-04-15 00:01:24  \n535025        743        245         7326     False        2018-06-03 14:20:11  \n535026         67        637          630     False        2013-06-14 05:49:25  \n\n[300220 rows x 9 columns]",
      "text/html": "<div>\n<style scoped>\n    .dataframe tbody tr th:only-of-type {\n        vertical-align: middle;\n    }\n\n    .dataframe tbody tr th {\n        vertical-align: top;\n    }\n\n    .dataframe thead th {\n        text-align: right;\n    }\n</style>\n<table border=\"1\" class=\"dataframe\">\n  <thead>\n    <tr style=\"text-align: right;\">\n      <th></th>\n      <th>Unnamed: 0</th>\n      <th>user_id</th>\n      <th>name</th>\n      <th>username</th>\n      <th>followers</th>\n      <th>following</th>\n      <th>tweet_count</th>\n      <th>verified</th>\n      <th>created_at</th>\n    </tr>\n  </thead>\n  <tbody>\n    <tr>\n      <th>0</th>\n      <td>0</td>\n      <td>2980798068</td>\n      <td>Cortisha❤️</td>\n      <td>_precioso__</td>\n      <td>16685</td>\n      <td>7571</td>\n      <td>49073</td>\n      <td>False</td>\n      <td>2015-01-13 22:31:38+00:00</td>\n    </tr>\n    <tr>\n      <th>1</th>\n      <td>1</td>\n      <td>1042282718</td>\n      <td>Turki_alotaibi</td>\n      <td>alotaibi7_turki</td>\n      <td>278</td>\n      <td>492</td>\n      <td>3301</td>\n      <td>False</td>\n      <td>2012-12-28 14:06:22+00:00</td>\n    </tr>\n    <tr>\n      <th>2</th>\n      <td>2</td>\n      <td>2388053407</td>\n      <td>sag.</td>\n      <td>xokaysl</td>\n      <td>1309</td>\n      <td>1124</td>\n      <td>62401</td>\n      <td>False</td>\n      <td>2014-03-13 23:13:09+00:00</td>\n    </tr>\n    <tr>\n      <th>3</th>\n      <td>3</td>\n      <td>49823753</td>\n      <td>Scott</td>\n      <td>Scott_R_JC</td>\n      <td>1930</td>\n      <td>243</td>\n      <td>51495</td>\n      <td>False</td>\n      <td>2009-06-23 00:23:14+00:00</td>\n    </tr>\n    <tr>\n      <th>4</th>\n      <td>4</td>\n      <td>37273992</td>\n      <td>Grandpa DCI</td>\n      <td>buttongod_ks</td>\n      <td>605</td>\n      <td>1246</td>\n      <td>12825</td>\n      <td>False</td>\n      <td>2009-05-02 20:21:09+00:00</td>\n    </tr>\n    <tr>\n      <th>...</th>\n      <td>...</td>\n      <td>...</td>\n      <td>...</td>\n      <td>...</td>\n      <td>...</td>\n      <td>...</td>\n      <td>...</td>\n      <td>...</td>\n      <td>...</td>\n    </tr>\n    <tr>\n      <th>535017</th>\n      <td>535017</td>\n      <td>2988093543</td>\n      <td>529146</td>\n      <td>_princessdaisha</td>\n      <td>434</td>\n      <td>319</td>\n      <td>13041</td>\n      <td>False</td>\n      <td>2015-01-20 22:04:13</td>\n    </tr>\n    <tr>\n      <th>535021</th>\n      <td>535021</td>\n      <td>964832593</td>\n      <td>529150</td>\n      <td>CoachBradLaird</td>\n      <td>8024</td>\n      <td>1290</td>\n      <td>1414</td>\n      <td>False</td>\n      <td>2012-11-22 19:27:15</td>\n    </tr>\n    <tr>\n      <th>535023</th>\n      <td>535023</td>\n      <td>133080207</td>\n      <td>529152</td>\n      <td>CodyLaGrow</td>\n      <td>2917</td>\n      <td>3903</td>\n      <td>9771</td>\n      <td>True</td>\n      <td>2010-04-15 00:01:24</td>\n    </tr>\n    <tr>\n      <th>535025</th>\n      <td>535025</td>\n      <td>1003280186115100672</td>\n      <td>529154</td>\n      <td>breannathemac_</td>\n      <td>743</td>\n      <td>245</td>\n      <td>7326</td>\n      <td>False</td>\n      <td>2018-06-03 14:20:11</td>\n    </tr>\n    <tr>\n      <th>535026</th>\n      <td>535026</td>\n      <td>1515408804</td>\n      <td>529155</td>\n      <td>L3cski9</td>\n      <td>67</td>\n      <td>637</td>\n      <td>630</td>\n      <td>False</td>\n      <td>2013-06-14 05:49:25</td>\n    </tr>\n  </tbody>\n</table>\n<p>300220 rows × 9 columns</p>\n</div>"
     },
     "execution_count": 6,
     "metadata": {},
     "output_type": "execute_result"
    }
   ],
   "source": [
    "df_users = df_users.drop_duplicates(subset=['user_id'], keep=\"first\")\n",
    "df_users"
   ],
   "metadata": {
    "collapsed": false,
    "pycharm": {
     "name": "#%%\n"
    }
   }
  },
  {
   "cell_type": "markdown",
   "source": [
    "## Calculate tweet reach\n",
    "\n",
    "#### These values indicate the maximum possible of people that could have seen a given tweet\n",
    "\n",
    "To do this, a sum of all the original tweet user's followers is made with the followers from all the users that retweeted/quoted the tweet\n",
    "\n",
    "Note: this assumes that if a retweet is then shared by retweet again, those next audiences are not taken into account"
   ],
   "metadata": {
    "collapsed": false,
    "pycharm": {
     "name": "#%% md\n"
    }
   }
  },
  {
   "cell_type": "code",
   "execution_count": 7,
   "outputs": [],
   "source": [
    "df_retweeters = pd.read_csv(filepath_or_buffer=FILE_RETWEETERS_USERS, sep=\",\")\n",
    "df_retweets = pd.read_csv(filepath_or_buffer=FILE_RETWEETERS, sep=\",\")"
   ],
   "metadata": {
    "collapsed": false,
    "pycharm": {
     "name": "#%%\n"
    }
   }
  },
  {
   "cell_type": "code",
   "execution_count": 8,
   "outputs": [
    {
     "data": {
      "text/plain": "   Unnamed: 0             tweet_id  \\\n0           0  1219206225000325121   \n1           1  1211118455975534593   \n2           2  1211055402143498240   \n3           3  1211034309886267392   \n4           4  1210949535528366084   \n\n                                                text              user_id  \\\n0  RT @iamcreans: Hey Twitter! Look who stopped b...  1164218208951373825   \n1  RT @gormygoesketo: It’s a cliché but it’s true...   788771272121548800   \n2  I think you’ve bested him, Mr. Strategy. https...            413547490   \n3  RT @iamcreans: Hey Twitter! Look who stopped b...             47093197   \n4  RT @gormygoesketo: It’s a cliché but it’s true...           2920237746   \n\n             timestamp     tweet_type  like_count  reply_count  retweet_count  \\\n0  2020-01-20 10:33:10  Retweet Tweet           0            0              2   \n1  2019-12-29 02:55:16  Retweet Tweet           0            0              4   \n2  2019-12-28 22:44:42    Quote Tweet           3            2              0   \n3  2019-12-28 21:20:54  Retweet Tweet           0            0              2   \n4  2019-12-28 15:44:02  Retweet Tweet           0            0              4   \n\n   quote_count   device lang topics_ids topics  \\\n0            0      Web   en         []     []   \n1            0  Android   en         []     []   \n2            0   iPhone   en         []     []   \n3            0   iPhone   en         []     []   \n4            0   iPhone   en         []     []   \n\n                                   referenced_tweets  \n0  [ReferencedTweet(id: 1210832597544140802, type...  \n1  [ReferencedTweet(id: 1210832629446004737, type...  \n2  [ReferencedTweet(id: 1210726852328751104, type...  \n3  [ReferencedTweet(id: 1210832597544140802, type...  \n4  [ReferencedTweet(id: 1210832629446004737, type...  ",
      "text/html": "<div>\n<style scoped>\n    .dataframe tbody tr th:only-of-type {\n        vertical-align: middle;\n    }\n\n    .dataframe tbody tr th {\n        vertical-align: top;\n    }\n\n    .dataframe thead th {\n        text-align: right;\n    }\n</style>\n<table border=\"1\" class=\"dataframe\">\n  <thead>\n    <tr style=\"text-align: right;\">\n      <th></th>\n      <th>Unnamed: 0</th>\n      <th>tweet_id</th>\n      <th>text</th>\n      <th>user_id</th>\n      <th>timestamp</th>\n      <th>tweet_type</th>\n      <th>like_count</th>\n      <th>reply_count</th>\n      <th>retweet_count</th>\n      <th>quote_count</th>\n      <th>device</th>\n      <th>lang</th>\n      <th>topics_ids</th>\n      <th>topics</th>\n      <th>referenced_tweets</th>\n    </tr>\n  </thead>\n  <tbody>\n    <tr>\n      <th>0</th>\n      <td>0</td>\n      <td>1219206225000325121</td>\n      <td>RT @iamcreans: Hey Twitter! Look who stopped b...</td>\n      <td>1164218208951373825</td>\n      <td>2020-01-20 10:33:10</td>\n      <td>Retweet Tweet</td>\n      <td>0</td>\n      <td>0</td>\n      <td>2</td>\n      <td>0</td>\n      <td>Web</td>\n      <td>en</td>\n      <td>[]</td>\n      <td>[]</td>\n      <td>[ReferencedTweet(id: 1210832597544140802, type...</td>\n    </tr>\n    <tr>\n      <th>1</th>\n      <td>1</td>\n      <td>1211118455975534593</td>\n      <td>RT @gormygoesketo: It’s a cliché but it’s true...</td>\n      <td>788771272121548800</td>\n      <td>2019-12-29 02:55:16</td>\n      <td>Retweet Tweet</td>\n      <td>0</td>\n      <td>0</td>\n      <td>4</td>\n      <td>0</td>\n      <td>Android</td>\n      <td>en</td>\n      <td>[]</td>\n      <td>[]</td>\n      <td>[ReferencedTweet(id: 1210832629446004737, type...</td>\n    </tr>\n    <tr>\n      <th>2</th>\n      <td>2</td>\n      <td>1211055402143498240</td>\n      <td>I think you’ve bested him, Mr. Strategy. https...</td>\n      <td>413547490</td>\n      <td>2019-12-28 22:44:42</td>\n      <td>Quote Tweet</td>\n      <td>3</td>\n      <td>2</td>\n      <td>0</td>\n      <td>0</td>\n      <td>iPhone</td>\n      <td>en</td>\n      <td>[]</td>\n      <td>[]</td>\n      <td>[ReferencedTweet(id: 1210726852328751104, type...</td>\n    </tr>\n    <tr>\n      <th>3</th>\n      <td>3</td>\n      <td>1211034309886267392</td>\n      <td>RT @iamcreans: Hey Twitter! Look who stopped b...</td>\n      <td>47093197</td>\n      <td>2019-12-28 21:20:54</td>\n      <td>Retweet Tweet</td>\n      <td>0</td>\n      <td>0</td>\n      <td>2</td>\n      <td>0</td>\n      <td>iPhone</td>\n      <td>en</td>\n      <td>[]</td>\n      <td>[]</td>\n      <td>[ReferencedTweet(id: 1210832597544140802, type...</td>\n    </tr>\n    <tr>\n      <th>4</th>\n      <td>4</td>\n      <td>1210949535528366084</td>\n      <td>RT @gormygoesketo: It’s a cliché but it’s true...</td>\n      <td>2920237746</td>\n      <td>2019-12-28 15:44:02</td>\n      <td>Retweet Tweet</td>\n      <td>0</td>\n      <td>0</td>\n      <td>4</td>\n      <td>0</td>\n      <td>iPhone</td>\n      <td>en</td>\n      <td>[]</td>\n      <td>[]</td>\n      <td>[ReferencedTweet(id: 1210832629446004737, type...</td>\n    </tr>\n  </tbody>\n</table>\n</div>"
     },
     "execution_count": 8,
     "metadata": {},
     "output_type": "execute_result"
    }
   ],
   "source": [
    "df_retweets.head()"
   ],
   "metadata": {
    "collapsed": false,
    "pycharm": {
     "name": "#%%\n"
    }
   }
  },
  {
   "cell_type": "code",
   "execution_count": 9,
   "outputs": [
    {
     "data": {
      "text/plain": "   Unnamed: 0              user_id  \\\n0           0  1164218208951373825   \n1           1   788771272121548800   \n2           2            413547490   \n3           3             47093197   \n4           4           2920237746   \n\n                                               name        username  \\\n0                                             Ghost     Ghosthost22   \n1                                        KetoSimple      KetoSimple   \n2                                     Andre Meunier  AndreMeunier13   \n3                                        dean geyer       geyerdean   \n4  Jason | Carnist | Culinary Minimalist | Humorist    fancypirate8   \n\n   followers  following  tweet_count  verified           created_at  \n0        373       4598        29173     False  2019-08-21 16:51:52  \n1       6639        566        20225     False  2016-10-19 15:58:20  \n2       1668        716         7648      True  2011-11-16 00:50:16  \n3      86895         51         3835      True  2009-06-14 13:42:23  \n4       3321       1386        93809     False  2014-12-06 05:56:29  ",
      "text/html": "<div>\n<style scoped>\n    .dataframe tbody tr th:only-of-type {\n        vertical-align: middle;\n    }\n\n    .dataframe tbody tr th {\n        vertical-align: top;\n    }\n\n    .dataframe thead th {\n        text-align: right;\n    }\n</style>\n<table border=\"1\" class=\"dataframe\">\n  <thead>\n    <tr style=\"text-align: right;\">\n      <th></th>\n      <th>Unnamed: 0</th>\n      <th>user_id</th>\n      <th>name</th>\n      <th>username</th>\n      <th>followers</th>\n      <th>following</th>\n      <th>tweet_count</th>\n      <th>verified</th>\n      <th>created_at</th>\n    </tr>\n  </thead>\n  <tbody>\n    <tr>\n      <th>0</th>\n      <td>0</td>\n      <td>1164218208951373825</td>\n      <td>Ghost</td>\n      <td>Ghosthost22</td>\n      <td>373</td>\n      <td>4598</td>\n      <td>29173</td>\n      <td>False</td>\n      <td>2019-08-21 16:51:52</td>\n    </tr>\n    <tr>\n      <th>1</th>\n      <td>1</td>\n      <td>788771272121548800</td>\n      <td>KetoSimple</td>\n      <td>KetoSimple</td>\n      <td>6639</td>\n      <td>566</td>\n      <td>20225</td>\n      <td>False</td>\n      <td>2016-10-19 15:58:20</td>\n    </tr>\n    <tr>\n      <th>2</th>\n      <td>2</td>\n      <td>413547490</td>\n      <td>Andre Meunier</td>\n      <td>AndreMeunier13</td>\n      <td>1668</td>\n      <td>716</td>\n      <td>7648</td>\n      <td>True</td>\n      <td>2011-11-16 00:50:16</td>\n    </tr>\n    <tr>\n      <th>3</th>\n      <td>3</td>\n      <td>47093197</td>\n      <td>dean geyer</td>\n      <td>geyerdean</td>\n      <td>86895</td>\n      <td>51</td>\n      <td>3835</td>\n      <td>True</td>\n      <td>2009-06-14 13:42:23</td>\n    </tr>\n    <tr>\n      <th>4</th>\n      <td>4</td>\n      <td>2920237746</td>\n      <td>Jason | Carnist | Culinary Minimalist | Humorist</td>\n      <td>fancypirate8</td>\n      <td>3321</td>\n      <td>1386</td>\n      <td>93809</td>\n      <td>False</td>\n      <td>2014-12-06 05:56:29</td>\n    </tr>\n  </tbody>\n</table>\n</div>"
     },
     "execution_count": 9,
     "metadata": {},
     "output_type": "execute_result"
    }
   ],
   "source": [
    "df_retweeters.head()"
   ],
   "metadata": {
    "collapsed": false,
    "pycharm": {
     "name": "#%%\n"
    }
   }
  },
  {
   "cell_type": "markdown",
   "source": [
    "### Removing duplicated retweeters\n",
    "\n",
    "37432 retweeters will be removed"
   ],
   "metadata": {
    "collapsed": false,
    "pycharm": {
     "name": "#%% md\n"
    }
   }
  },
  {
   "cell_type": "code",
   "execution_count": 10,
   "outputs": [
    {
     "data": {
      "text/plain": "(130721, 9)"
     },
     "execution_count": 10,
     "metadata": {},
     "output_type": "execute_result"
    }
   ],
   "source": [
    "df_retweeters.shape"
   ],
   "metadata": {
    "collapsed": false,
    "pycharm": {
     "name": "#%%\n"
    }
   }
  },
  {
   "cell_type": "code",
   "execution_count": 11,
   "outputs": [
    {
     "data": {
      "text/plain": "        Unnamed: 0              user_id  \\\n0                0  1164218208951373825   \n1                1   788771272121548800   \n2                2            413547490   \n3                3             47093197   \n4                4           2920237746   \n...            ...                  ...   \n130715      130715            819838633   \n130716      130716   869975749725376512   \n130718      130718            944341926   \n130719      130719             52752875   \n130720      130720             22665926   \n\n                                                    name        username  \\\n0                                                  Ghost     Ghosthost22   \n1                                             KetoSimple      KetoSimple   \n2                                          Andre Meunier  AndreMeunier13   \n3                                             dean geyer       geyerdean   \n4       Jason | Carnist | Culinary Minimalist | Humorist    fancypirate8   \n...                                                  ...             ...   \n130715                                          Jay Gray  jaygraymatters   \n130716                                              okie  staccatosounds   \n130718                                      Jim Pedersen   PedersenNBCNC   \n130719                               Lisa Respers France   LisaFranceCNN   \n130720                                      WAMC Vox Pop      WAMCVoxPop   \n\n        followers  following  tweet_count  verified           created_at  \n0             373       4598        29173     False  2019-08-21 16:51:52  \n1            6639        566        20225     False  2016-10-19 15:58:20  \n2            1668        716         7648      True  2011-11-16 00:50:16  \n3           86895         51         3835      True  2009-06-14 13:42:23  \n4            3321       1386        93809     False  2014-12-06 05:56:29  \n...           ...        ...          ...       ...                  ...  \n130715       4831        243        12169      True  2012-09-12 15:58:04  \n130716        647        965        28543     False  2017-05-31 17:55:56  \n130718        334       2789          385     False  2012-11-12 18:52:01  \n130719      18075       2094        53035      True  2009-07-01 15:19:53  \n130720       1051         32         3050     False  2009-03-03 19:42:20  \n\n[119531 rows x 9 columns]",
      "text/html": "<div>\n<style scoped>\n    .dataframe tbody tr th:only-of-type {\n        vertical-align: middle;\n    }\n\n    .dataframe tbody tr th {\n        vertical-align: top;\n    }\n\n    .dataframe thead th {\n        text-align: right;\n    }\n</style>\n<table border=\"1\" class=\"dataframe\">\n  <thead>\n    <tr style=\"text-align: right;\">\n      <th></th>\n      <th>Unnamed: 0</th>\n      <th>user_id</th>\n      <th>name</th>\n      <th>username</th>\n      <th>followers</th>\n      <th>following</th>\n      <th>tweet_count</th>\n      <th>verified</th>\n      <th>created_at</th>\n    </tr>\n  </thead>\n  <tbody>\n    <tr>\n      <th>0</th>\n      <td>0</td>\n      <td>1164218208951373825</td>\n      <td>Ghost</td>\n      <td>Ghosthost22</td>\n      <td>373</td>\n      <td>4598</td>\n      <td>29173</td>\n      <td>False</td>\n      <td>2019-08-21 16:51:52</td>\n    </tr>\n    <tr>\n      <th>1</th>\n      <td>1</td>\n      <td>788771272121548800</td>\n      <td>KetoSimple</td>\n      <td>KetoSimple</td>\n      <td>6639</td>\n      <td>566</td>\n      <td>20225</td>\n      <td>False</td>\n      <td>2016-10-19 15:58:20</td>\n    </tr>\n    <tr>\n      <th>2</th>\n      <td>2</td>\n      <td>413547490</td>\n      <td>Andre Meunier</td>\n      <td>AndreMeunier13</td>\n      <td>1668</td>\n      <td>716</td>\n      <td>7648</td>\n      <td>True</td>\n      <td>2011-11-16 00:50:16</td>\n    </tr>\n    <tr>\n      <th>3</th>\n      <td>3</td>\n      <td>47093197</td>\n      <td>dean geyer</td>\n      <td>geyerdean</td>\n      <td>86895</td>\n      <td>51</td>\n      <td>3835</td>\n      <td>True</td>\n      <td>2009-06-14 13:42:23</td>\n    </tr>\n    <tr>\n      <th>4</th>\n      <td>4</td>\n      <td>2920237746</td>\n      <td>Jason | Carnist | Culinary Minimalist | Humorist</td>\n      <td>fancypirate8</td>\n      <td>3321</td>\n      <td>1386</td>\n      <td>93809</td>\n      <td>False</td>\n      <td>2014-12-06 05:56:29</td>\n    </tr>\n    <tr>\n      <th>...</th>\n      <td>...</td>\n      <td>...</td>\n      <td>...</td>\n      <td>...</td>\n      <td>...</td>\n      <td>...</td>\n      <td>...</td>\n      <td>...</td>\n      <td>...</td>\n    </tr>\n    <tr>\n      <th>130715</th>\n      <td>130715</td>\n      <td>819838633</td>\n      <td>Jay Gray</td>\n      <td>jaygraymatters</td>\n      <td>4831</td>\n      <td>243</td>\n      <td>12169</td>\n      <td>True</td>\n      <td>2012-09-12 15:58:04</td>\n    </tr>\n    <tr>\n      <th>130716</th>\n      <td>130716</td>\n      <td>869975749725376512</td>\n      <td>okie</td>\n      <td>staccatosounds</td>\n      <td>647</td>\n      <td>965</td>\n      <td>28543</td>\n      <td>False</td>\n      <td>2017-05-31 17:55:56</td>\n    </tr>\n    <tr>\n      <th>130718</th>\n      <td>130718</td>\n      <td>944341926</td>\n      <td>Jim Pedersen</td>\n      <td>PedersenNBCNC</td>\n      <td>334</td>\n      <td>2789</td>\n      <td>385</td>\n      <td>False</td>\n      <td>2012-11-12 18:52:01</td>\n    </tr>\n    <tr>\n      <th>130719</th>\n      <td>130719</td>\n      <td>52752875</td>\n      <td>Lisa Respers France</td>\n      <td>LisaFranceCNN</td>\n      <td>18075</td>\n      <td>2094</td>\n      <td>53035</td>\n      <td>True</td>\n      <td>2009-07-01 15:19:53</td>\n    </tr>\n    <tr>\n      <th>130720</th>\n      <td>130720</td>\n      <td>22665926</td>\n      <td>WAMC Vox Pop</td>\n      <td>WAMCVoxPop</td>\n      <td>1051</td>\n      <td>32</td>\n      <td>3050</td>\n      <td>False</td>\n      <td>2009-03-03 19:42:20</td>\n    </tr>\n  </tbody>\n</table>\n<p>119531 rows × 9 columns</p>\n</div>"
     },
     "execution_count": 11,
     "metadata": {},
     "output_type": "execute_result"
    }
   ],
   "source": [
    "df_retweeters = df_retweeters.drop_duplicates(subset=['user_id'], keep=\"first\")\n",
    "df_retweeters"
   ],
   "metadata": {
    "collapsed": false,
    "pycharm": {
     "name": "#%%\n"
    }
   }
  },
  {
   "cell_type": "code",
   "execution_count": 12,
   "outputs": [
    {
     "data": {
      "text/plain": "(130721, 15)"
     },
     "execution_count": 12,
     "metadata": {},
     "output_type": "execute_result"
    }
   ],
   "source": [
    "df_retweets.shape"
   ],
   "metadata": {
    "collapsed": false,
    "pycharm": {
     "name": "#%%\n"
    }
   }
  },
  {
   "cell_type": "code",
   "execution_count": 13,
   "outputs": [
    {
     "data": {
      "text/plain": "    index  Unnamed: 0             tweet_id  \\\n0  119570      119570  1079904986971156480   \n1  119569      119569  1079905009767133185   \n2  119568      119568  1079905092256624642   \n3  119567      119567  1079905147898286080   \n4  119566      119566  1079905204521250816   \n\n                                                text             user_id  \\\n0  RT @FaZeClan: January, 2018 https://t.co/bxyyn...  863014342538776577   \n1  RT @IrwindalePolice: The second group of @Rose...            67143433   \n2  RT @FaZeClan: January, 2018 https://t.co/bxyyn...  887062199189078020   \n3  RT @FaZeClan: January, 2018 https://t.co/bxyyn...          3069273057   \n4  RT @FaZeClan: January, 2018 https://t.co/bxyyn...  996735592275705856   \n\n             timestamp     tweet_type  like_count  reply_count  retweet_count  \\\n0  2019-01-01 00:59:47  Retweet Tweet           0            0            171   \n1  2019-01-01 00:59:52  Retweet Tweet           0            0             10   \n2  2019-01-01 01:00:12  Retweet Tweet           0            0            171   \n3  2019-01-01 01:00:25  Retweet Tweet           0            0            171   \n4  2019-01-01 01:00:39  Retweet Tweet           0            0            171   \n\n   quote_count   device lang topics_ids topics  \\\n0            0   iPhone   en         []     []   \n1            0   iPhone   en         []     []   \n2            0   iPhone   en         []     []   \n3            0   iPhone   en         []     []   \n4            0  Android   en         []     []   \n\n                                   referenced_tweets  \n0  [ReferencedTweet(id: 1079904942729523200, type...  \n1  [ReferencedTweet(id: 1079904903596666880, type...  \n2  [ReferencedTweet(id: 1079904942729523200, type...  \n3  [ReferencedTweet(id: 1079904942729523200, type...  \n4  [ReferencedTweet(id: 1079904942729523200, type...  ",
      "text/html": "<div>\n<style scoped>\n    .dataframe tbody tr th:only-of-type {\n        vertical-align: middle;\n    }\n\n    .dataframe tbody tr th {\n        vertical-align: top;\n    }\n\n    .dataframe thead th {\n        text-align: right;\n    }\n</style>\n<table border=\"1\" class=\"dataframe\">\n  <thead>\n    <tr style=\"text-align: right;\">\n      <th></th>\n      <th>index</th>\n      <th>Unnamed: 0</th>\n      <th>tweet_id</th>\n      <th>text</th>\n      <th>user_id</th>\n      <th>timestamp</th>\n      <th>tweet_type</th>\n      <th>like_count</th>\n      <th>reply_count</th>\n      <th>retweet_count</th>\n      <th>quote_count</th>\n      <th>device</th>\n      <th>lang</th>\n      <th>topics_ids</th>\n      <th>topics</th>\n      <th>referenced_tweets</th>\n    </tr>\n  </thead>\n  <tbody>\n    <tr>\n      <th>0</th>\n      <td>119570</td>\n      <td>119570</td>\n      <td>1079904986971156480</td>\n      <td>RT @FaZeClan: January, 2018 https://t.co/bxyyn...</td>\n      <td>863014342538776577</td>\n      <td>2019-01-01 00:59:47</td>\n      <td>Retweet Tweet</td>\n      <td>0</td>\n      <td>0</td>\n      <td>171</td>\n      <td>0</td>\n      <td>iPhone</td>\n      <td>en</td>\n      <td>[]</td>\n      <td>[]</td>\n      <td>[ReferencedTweet(id: 1079904942729523200, type...</td>\n    </tr>\n    <tr>\n      <th>1</th>\n      <td>119569</td>\n      <td>119569</td>\n      <td>1079905009767133185</td>\n      <td>RT @IrwindalePolice: The second group of @Rose...</td>\n      <td>67143433</td>\n      <td>2019-01-01 00:59:52</td>\n      <td>Retweet Tweet</td>\n      <td>0</td>\n      <td>0</td>\n      <td>10</td>\n      <td>0</td>\n      <td>iPhone</td>\n      <td>en</td>\n      <td>[]</td>\n      <td>[]</td>\n      <td>[ReferencedTweet(id: 1079904903596666880, type...</td>\n    </tr>\n    <tr>\n      <th>2</th>\n      <td>119568</td>\n      <td>119568</td>\n      <td>1079905092256624642</td>\n      <td>RT @FaZeClan: January, 2018 https://t.co/bxyyn...</td>\n      <td>887062199189078020</td>\n      <td>2019-01-01 01:00:12</td>\n      <td>Retweet Tweet</td>\n      <td>0</td>\n      <td>0</td>\n      <td>171</td>\n      <td>0</td>\n      <td>iPhone</td>\n      <td>en</td>\n      <td>[]</td>\n      <td>[]</td>\n      <td>[ReferencedTweet(id: 1079904942729523200, type...</td>\n    </tr>\n    <tr>\n      <th>3</th>\n      <td>119567</td>\n      <td>119567</td>\n      <td>1079905147898286080</td>\n      <td>RT @FaZeClan: January, 2018 https://t.co/bxyyn...</td>\n      <td>3069273057</td>\n      <td>2019-01-01 01:00:25</td>\n      <td>Retweet Tweet</td>\n      <td>0</td>\n      <td>0</td>\n      <td>171</td>\n      <td>0</td>\n      <td>iPhone</td>\n      <td>en</td>\n      <td>[]</td>\n      <td>[]</td>\n      <td>[ReferencedTweet(id: 1079904942729523200, type...</td>\n    </tr>\n    <tr>\n      <th>4</th>\n      <td>119566</td>\n      <td>119566</td>\n      <td>1079905204521250816</td>\n      <td>RT @FaZeClan: January, 2018 https://t.co/bxyyn...</td>\n      <td>996735592275705856</td>\n      <td>2019-01-01 01:00:39</td>\n      <td>Retweet Tweet</td>\n      <td>0</td>\n      <td>0</td>\n      <td>171</td>\n      <td>0</td>\n      <td>Android</td>\n      <td>en</td>\n      <td>[]</td>\n      <td>[]</td>\n      <td>[ReferencedTweet(id: 1079904942729523200, type...</td>\n    </tr>\n  </tbody>\n</table>\n</div>"
     },
     "execution_count": 13,
     "metadata": {},
     "output_type": "execute_result"
    }
   ],
   "source": [
    "df_retweets = df_retweets.sort_values(by='timestamp', ascending=True).reset_index()\n",
    "df_retweets.head(5)"
   ],
   "metadata": {
    "collapsed": false,
    "pycharm": {
     "name": "#%%\n"
    }
   }
  },
  {
   "cell_type": "markdown",
   "source": [
    "### Merge retweets datasets"
   ],
   "metadata": {
    "collapsed": false,
    "pycharm": {
     "name": "#%% md\n"
    }
   }
  },
  {
   "cell_type": "code",
   "execution_count": 14,
   "outputs": [
    {
     "data": {
      "text/plain": "              tweet_id             user_id topics  \\\n0  1079904986971156480  863014342538776577     []   \n1  1079905009767133185            67143433     []   \n2  1079905092256624642  887062199189078020     []   \n3  1079905147898286080          3069273057     []   \n4  1079905204521250816  996735592275705856     []   \n\n                                   referenced_tweets  followers  following  \n0  [ReferencedTweet(id: 1079904942729523200, type...       2589       4948  \n1  [ReferencedTweet(id: 1079904903596666880, type...      20384       7487  \n2  [ReferencedTweet(id: 1079904942729523200, type...         26         89  \n3  [ReferencedTweet(id: 1079904942729523200, type...        262        873  \n4  [ReferencedTweet(id: 1079904942729523200, type...         14        140  ",
      "text/html": "<div>\n<style scoped>\n    .dataframe tbody tr th:only-of-type {\n        vertical-align: middle;\n    }\n\n    .dataframe tbody tr th {\n        vertical-align: top;\n    }\n\n    .dataframe thead th {\n        text-align: right;\n    }\n</style>\n<table border=\"1\" class=\"dataframe\">\n  <thead>\n    <tr style=\"text-align: right;\">\n      <th></th>\n      <th>tweet_id</th>\n      <th>user_id</th>\n      <th>topics</th>\n      <th>referenced_tweets</th>\n      <th>followers</th>\n      <th>following</th>\n    </tr>\n  </thead>\n  <tbody>\n    <tr>\n      <th>0</th>\n      <td>1079904986971156480</td>\n      <td>863014342538776577</td>\n      <td>[]</td>\n      <td>[ReferencedTweet(id: 1079904942729523200, type...</td>\n      <td>2589</td>\n      <td>4948</td>\n    </tr>\n    <tr>\n      <th>1</th>\n      <td>1079905009767133185</td>\n      <td>67143433</td>\n      <td>[]</td>\n      <td>[ReferencedTweet(id: 1079904903596666880, type...</td>\n      <td>20384</td>\n      <td>7487</td>\n    </tr>\n    <tr>\n      <th>2</th>\n      <td>1079905092256624642</td>\n      <td>887062199189078020</td>\n      <td>[]</td>\n      <td>[ReferencedTweet(id: 1079904942729523200, type...</td>\n      <td>26</td>\n      <td>89</td>\n    </tr>\n    <tr>\n      <th>3</th>\n      <td>1079905147898286080</td>\n      <td>3069273057</td>\n      <td>[]</td>\n      <td>[ReferencedTweet(id: 1079904942729523200, type...</td>\n      <td>262</td>\n      <td>873</td>\n    </tr>\n    <tr>\n      <th>4</th>\n      <td>1079905204521250816</td>\n      <td>996735592275705856</td>\n      <td>[]</td>\n      <td>[ReferencedTweet(id: 1079904942729523200, type...</td>\n      <td>14</td>\n      <td>140</td>\n    </tr>\n  </tbody>\n</table>\n</div>"
     },
     "execution_count": 14,
     "metadata": {},
     "output_type": "execute_result"
    }
   ],
   "source": [
    "df_retweets_info = pd.merge(df_retweets[['tweet_id', 'user_id', 'topics', 'referenced_tweets']], df_retweeters[['user_id', 'followers', 'following']], how='left', on=\"user_id\")\n",
    "df_retweets_info.head(5)"
   ],
   "metadata": {
    "collapsed": false,
    "pycharm": {
     "name": "#%%\n"
    }
   }
  },
  {
   "cell_type": "markdown",
   "source": [
    "### Removing non-direct retweets\n",
    "\n",
    "When colecting the retweets some tweets that mencioned the url of the original tweet and because of that were also collected as \"retweets\".\n",
    "Since this tipe of tweets don't count to the retweet count of the original tweet and they only represent 0,0012% of the retweets collected they will be removed"
   ],
   "metadata": {
    "collapsed": false,
    "pycharm": {
     "name": "#%% md\n"
    }
   }
  },
  {
   "cell_type": "code",
   "execution_count": 15,
   "outputs": [
    {
     "name": "stdout",
     "output_type": "stream",
     "text": [
      "<class 'pandas.core.frame.DataFrame'>\n",
      "Int64Index: 130721 entries, 0 to 130720\n",
      "Data columns (total 6 columns):\n",
      " #   Column             Non-Null Count   Dtype \n",
      "---  ------             --------------   ----- \n",
      " 0   tweet_id           130721 non-null  int64 \n",
      " 1   user_id            130721 non-null  int64 \n",
      " 2   topics             130721 non-null  object\n",
      " 3   referenced_tweets  130596 non-null  object\n",
      " 4   followers          130721 non-null  int64 \n",
      " 5   following          130721 non-null  int64 \n",
      "dtypes: int64(4), object(2)\n",
      "memory usage: 7.0+ MB\n"
     ]
    }
   ],
   "source": [
    "df_retweets_info.info()"
   ],
   "metadata": {
    "collapsed": false,
    "pycharm": {
     "name": "#%%\n"
    }
   }
  },
  {
   "cell_type": "code",
   "execution_count": 16,
   "outputs": [
    {
     "data": {
      "text/plain": "                   tweet_id              user_id topics referenced_tweets  \\\n3354    1085263768249032705   984950633349328896     []               NaN   \n3488    1085592552034787328  1060606895231246337     []               NaN   \n3598    1085904582469959680            483366086     []               NaN   \n3804    1086540572293091328             16367986     []               NaN   \n4652    1087033225741041665            250166431     []               NaN   \n...                     ...                  ...    ...               ...   \n128065  1210927024627425280   971405560439627777     []               NaN   \n128299  1211363436627734529             27082165     []               NaN   \n129248  1214195378133667841           2249186514     []               NaN   \n129724  1274227212628131841            103676360     []               NaN   \n130617  1446306506769674250  1352445876585828354     []               NaN   \n\n        followers  following  \n3354         1285        678  \n3488            1          0  \n3598         4259        967  \n3804         3954       4883  \n4652       118549       1377  \n...           ...        ...  \n128065         21          5  \n128299       1089       3192  \n129248        122       1008  \n129724        811       1445  \n130617        309        315  \n\n[125 rows x 6 columns]",
      "text/html": "<div>\n<style scoped>\n    .dataframe tbody tr th:only-of-type {\n        vertical-align: middle;\n    }\n\n    .dataframe tbody tr th {\n        vertical-align: top;\n    }\n\n    .dataframe thead th {\n        text-align: right;\n    }\n</style>\n<table border=\"1\" class=\"dataframe\">\n  <thead>\n    <tr style=\"text-align: right;\">\n      <th></th>\n      <th>tweet_id</th>\n      <th>user_id</th>\n      <th>topics</th>\n      <th>referenced_tweets</th>\n      <th>followers</th>\n      <th>following</th>\n    </tr>\n  </thead>\n  <tbody>\n    <tr>\n      <th>3354</th>\n      <td>1085263768249032705</td>\n      <td>984950633349328896</td>\n      <td>[]</td>\n      <td>NaN</td>\n      <td>1285</td>\n      <td>678</td>\n    </tr>\n    <tr>\n      <th>3488</th>\n      <td>1085592552034787328</td>\n      <td>1060606895231246337</td>\n      <td>[]</td>\n      <td>NaN</td>\n      <td>1</td>\n      <td>0</td>\n    </tr>\n    <tr>\n      <th>3598</th>\n      <td>1085904582469959680</td>\n      <td>483366086</td>\n      <td>[]</td>\n      <td>NaN</td>\n      <td>4259</td>\n      <td>967</td>\n    </tr>\n    <tr>\n      <th>3804</th>\n      <td>1086540572293091328</td>\n      <td>16367986</td>\n      <td>[]</td>\n      <td>NaN</td>\n      <td>3954</td>\n      <td>4883</td>\n    </tr>\n    <tr>\n      <th>4652</th>\n      <td>1087033225741041665</td>\n      <td>250166431</td>\n      <td>[]</td>\n      <td>NaN</td>\n      <td>118549</td>\n      <td>1377</td>\n    </tr>\n    <tr>\n      <th>...</th>\n      <td>...</td>\n      <td>...</td>\n      <td>...</td>\n      <td>...</td>\n      <td>...</td>\n      <td>...</td>\n    </tr>\n    <tr>\n      <th>128065</th>\n      <td>1210927024627425280</td>\n      <td>971405560439627777</td>\n      <td>[]</td>\n      <td>NaN</td>\n      <td>21</td>\n      <td>5</td>\n    </tr>\n    <tr>\n      <th>128299</th>\n      <td>1211363436627734529</td>\n      <td>27082165</td>\n      <td>[]</td>\n      <td>NaN</td>\n      <td>1089</td>\n      <td>3192</td>\n    </tr>\n    <tr>\n      <th>129248</th>\n      <td>1214195378133667841</td>\n      <td>2249186514</td>\n      <td>[]</td>\n      <td>NaN</td>\n      <td>122</td>\n      <td>1008</td>\n    </tr>\n    <tr>\n      <th>129724</th>\n      <td>1274227212628131841</td>\n      <td>103676360</td>\n      <td>[]</td>\n      <td>NaN</td>\n      <td>811</td>\n      <td>1445</td>\n    </tr>\n    <tr>\n      <th>130617</th>\n      <td>1446306506769674250</td>\n      <td>1352445876585828354</td>\n      <td>[]</td>\n      <td>NaN</td>\n      <td>309</td>\n      <td>315</td>\n    </tr>\n  </tbody>\n</table>\n<p>125 rows × 6 columns</p>\n</div>"
     },
     "execution_count": 16,
     "metadata": {},
     "output_type": "execute_result"
    }
   ],
   "source": [
    "df_retweets_info[pd.isna(df_retweets_info['referenced_tweets'])]"
   ],
   "metadata": {
    "collapsed": false,
    "pycharm": {
     "name": "#%%\n"
    }
   }
  },
  {
   "cell_type": "code",
   "execution_count": 17,
   "outputs": [
    {
     "data": {
      "text/plain": "Series([], Name: text, dtype: object)"
     },
     "execution_count": 17,
     "metadata": {},
     "output_type": "execute_result"
    }
   ],
   "source": [
    "df_retweets[df_retweets['tweet_id'] == 1213652399782604806]['text']"
   ],
   "metadata": {
    "collapsed": false,
    "pycharm": {
     "name": "#%%\n"
    }
   }
  },
  {
   "cell_type": "code",
   "execution_count": 18,
   "outputs": [],
   "source": [
    "df_retweets_info = df_retweets_info[df_retweets_info['referenced_tweets'].notna()]"
   ],
   "metadata": {
    "collapsed": false,
    "pycharm": {
     "name": "#%%\n"
    }
   }
  },
  {
   "cell_type": "code",
   "execution_count": 19,
   "outputs": [],
   "source": [
    "def get_ref_tweet_id(ref_tweets):\n",
    "    g = str(ref_tweets)\n",
    "    if isinstance(g, str) and g != 'nan' and not pd.isna(g):\n",
    "        return int(g.split()[1].replace(',', ''))\n",
    "    else: return None"
   ],
   "metadata": {
    "collapsed": false,
    "pycharm": {
     "name": "#%%\n"
    }
   }
  },
  {
   "cell_type": "code",
   "execution_count": 20,
   "outputs": [
    {
     "data": {
      "text/plain": "              tweet_id             user_id topics  \\\n0  1079904986971156480  863014342538776577     []   \n1  1079905009767133185            67143433     []   \n2  1079905092256624642  887062199189078020     []   \n3  1079905147898286080          3069273057     []   \n4  1079905204521250816  996735592275705856     []   \n\n                                   referenced_tweets  followers  following  \\\n0  [ReferencedTweet(id: 1079904942729523200, type...       2589       4948   \n1  [ReferencedTweet(id: 1079904903596666880, type...      20384       7487   \n2  [ReferencedTweet(id: 1079904942729523200, type...         26         89   \n3  [ReferencedTweet(id: 1079904942729523200, type...        262        873   \n4  [ReferencedTweet(id: 1079904942729523200, type...         14        140   \n\n          ref_tweed_id  \n0  1079904942729523200  \n1  1079904903596666880  \n2  1079904942729523200  \n3  1079904942729523200  \n4  1079904942729523200  ",
      "text/html": "<div>\n<style scoped>\n    .dataframe tbody tr th:only-of-type {\n        vertical-align: middle;\n    }\n\n    .dataframe tbody tr th {\n        vertical-align: top;\n    }\n\n    .dataframe thead th {\n        text-align: right;\n    }\n</style>\n<table border=\"1\" class=\"dataframe\">\n  <thead>\n    <tr style=\"text-align: right;\">\n      <th></th>\n      <th>tweet_id</th>\n      <th>user_id</th>\n      <th>topics</th>\n      <th>referenced_tweets</th>\n      <th>followers</th>\n      <th>following</th>\n      <th>ref_tweed_id</th>\n    </tr>\n  </thead>\n  <tbody>\n    <tr>\n      <th>0</th>\n      <td>1079904986971156480</td>\n      <td>863014342538776577</td>\n      <td>[]</td>\n      <td>[ReferencedTweet(id: 1079904942729523200, type...</td>\n      <td>2589</td>\n      <td>4948</td>\n      <td>1079904942729523200</td>\n    </tr>\n    <tr>\n      <th>1</th>\n      <td>1079905009767133185</td>\n      <td>67143433</td>\n      <td>[]</td>\n      <td>[ReferencedTweet(id: 1079904903596666880, type...</td>\n      <td>20384</td>\n      <td>7487</td>\n      <td>1079904903596666880</td>\n    </tr>\n    <tr>\n      <th>2</th>\n      <td>1079905092256624642</td>\n      <td>887062199189078020</td>\n      <td>[]</td>\n      <td>[ReferencedTweet(id: 1079904942729523200, type...</td>\n      <td>26</td>\n      <td>89</td>\n      <td>1079904942729523200</td>\n    </tr>\n    <tr>\n      <th>3</th>\n      <td>1079905147898286080</td>\n      <td>3069273057</td>\n      <td>[]</td>\n      <td>[ReferencedTweet(id: 1079904942729523200, type...</td>\n      <td>262</td>\n      <td>873</td>\n      <td>1079904942729523200</td>\n    </tr>\n    <tr>\n      <th>4</th>\n      <td>1079905204521250816</td>\n      <td>996735592275705856</td>\n      <td>[]</td>\n      <td>[ReferencedTweet(id: 1079904942729523200, type...</td>\n      <td>14</td>\n      <td>140</td>\n      <td>1079904942729523200</td>\n    </tr>\n  </tbody>\n</table>\n</div>"
     },
     "execution_count": 20,
     "metadata": {},
     "output_type": "execute_result"
    }
   ],
   "source": [
    "df_retweets_info['ref_tweed_id'] = [get_ref_tweet_id(ref_tweet) for ref_tweet in df_retweets_info['referenced_tweets']]\n",
    "df_retweets_info.head()"
   ],
   "metadata": {
    "collapsed": false,
    "pycharm": {
     "name": "#%%\n"
    }
   }
  },
  {
   "cell_type": "code",
   "execution_count": 21,
   "outputs": [
    {
     "data": {
      "text/plain": "    index  Unnamed: 0             tweet_id  \\\n0  491246      491246  1079904885246705665   \n1  491248      491248  1079904884445581312   \n2  491247      491247  1079904885175476224   \n3  491245      491245  1079904885531791360   \n4  491244      491244  1079904886014107648   \n\n                                                text             user_id  \\\n0                         I’ll never salt you down 😌           497001647   \n1  You know who you are; but some of you I’ve fol...           112542289   \n2       Oh she a freak freak https://t.co/uJqYxJUGgg          2372981097   \n3                 Don’t forget your red thong ladies          2446281619   \n4                         Thankful for my crazy life  823355577526931457   \n\n             timestamp      tweet_type  like_count  reply_count  \\\n0  2019-01-01 00:59:22  Original Tweet           0            0   \n1  2019-01-01 00:59:22  Original Tweet           2            0   \n2  2019-01-01 00:59:22  Original Tweet           0            0   \n3  2019-01-01 00:59:23  Original Tweet           2            0   \n4  2019-01-01 00:59:23  Original Tweet           5            1   \n\n   retweet_count  quote_count  device lang topics_ids topics  \\\n0              0            0  iPhone   en         []     []   \n1              1            0  iPhone   en         []     []   \n2              0            0  iPhone   en         []     []   \n3              0            0  iPhone   en         []     []   \n4              0            0  iPhone   en         []     []   \n\n  referenced_tweets  ref_tweed_id  \n0               NaN             0  \n1               NaN             0  \n2               NaN             0  \n3               NaN             0  \n4               NaN             0  ",
      "text/html": "<div>\n<style scoped>\n    .dataframe tbody tr th:only-of-type {\n        vertical-align: middle;\n    }\n\n    .dataframe tbody tr th {\n        vertical-align: top;\n    }\n\n    .dataframe thead th {\n        text-align: right;\n    }\n</style>\n<table border=\"1\" class=\"dataframe\">\n  <thead>\n    <tr style=\"text-align: right;\">\n      <th></th>\n      <th>index</th>\n      <th>Unnamed: 0</th>\n      <th>tweet_id</th>\n      <th>text</th>\n      <th>user_id</th>\n      <th>timestamp</th>\n      <th>tweet_type</th>\n      <th>like_count</th>\n      <th>reply_count</th>\n      <th>retweet_count</th>\n      <th>quote_count</th>\n      <th>device</th>\n      <th>lang</th>\n      <th>topics_ids</th>\n      <th>topics</th>\n      <th>referenced_tweets</th>\n      <th>ref_tweed_id</th>\n    </tr>\n  </thead>\n  <tbody>\n    <tr>\n      <th>0</th>\n      <td>491246</td>\n      <td>491246</td>\n      <td>1079904885246705665</td>\n      <td>I’ll never salt you down 😌</td>\n      <td>497001647</td>\n      <td>2019-01-01 00:59:22</td>\n      <td>Original Tweet</td>\n      <td>0</td>\n      <td>0</td>\n      <td>0</td>\n      <td>0</td>\n      <td>iPhone</td>\n      <td>en</td>\n      <td>[]</td>\n      <td>[]</td>\n      <td>NaN</td>\n      <td>0</td>\n    </tr>\n    <tr>\n      <th>1</th>\n      <td>491248</td>\n      <td>491248</td>\n      <td>1079904884445581312</td>\n      <td>You know who you are; but some of you I’ve fol...</td>\n      <td>112542289</td>\n      <td>2019-01-01 00:59:22</td>\n      <td>Original Tweet</td>\n      <td>2</td>\n      <td>0</td>\n      <td>1</td>\n      <td>0</td>\n      <td>iPhone</td>\n      <td>en</td>\n      <td>[]</td>\n      <td>[]</td>\n      <td>NaN</td>\n      <td>0</td>\n    </tr>\n    <tr>\n      <th>2</th>\n      <td>491247</td>\n      <td>491247</td>\n      <td>1079904885175476224</td>\n      <td>Oh she a freak freak https://t.co/uJqYxJUGgg</td>\n      <td>2372981097</td>\n      <td>2019-01-01 00:59:22</td>\n      <td>Original Tweet</td>\n      <td>0</td>\n      <td>0</td>\n      <td>0</td>\n      <td>0</td>\n      <td>iPhone</td>\n      <td>en</td>\n      <td>[]</td>\n      <td>[]</td>\n      <td>NaN</td>\n      <td>0</td>\n    </tr>\n    <tr>\n      <th>3</th>\n      <td>491245</td>\n      <td>491245</td>\n      <td>1079904885531791360</td>\n      <td>Don’t forget your red thong ladies</td>\n      <td>2446281619</td>\n      <td>2019-01-01 00:59:23</td>\n      <td>Original Tweet</td>\n      <td>2</td>\n      <td>0</td>\n      <td>0</td>\n      <td>0</td>\n      <td>iPhone</td>\n      <td>en</td>\n      <td>[]</td>\n      <td>[]</td>\n      <td>NaN</td>\n      <td>0</td>\n    </tr>\n    <tr>\n      <th>4</th>\n      <td>491244</td>\n      <td>491244</td>\n      <td>1079904886014107648</td>\n      <td>Thankful for my crazy life</td>\n      <td>823355577526931457</td>\n      <td>2019-01-01 00:59:23</td>\n      <td>Original Tweet</td>\n      <td>5</td>\n      <td>1</td>\n      <td>0</td>\n      <td>0</td>\n      <td>iPhone</td>\n      <td>en</td>\n      <td>[]</td>\n      <td>[]</td>\n      <td>NaN</td>\n      <td>0</td>\n    </tr>\n  </tbody>\n</table>\n</div>"
     },
     "execution_count": 21,
     "metadata": {},
     "output_type": "execute_result"
    }
   ],
   "source": [
    "df_tweets['ref_tweed_id'] = [get_ref_tweet_id(ref_tweet) for ref_tweet in df_tweets['referenced_tweets']]\n",
    "# converting the reference ids that exist to int\n",
    "df_tweets['ref_tweed_id'] = pd.to_numeric(df_tweets['ref_tweed_id'], errors='coerce').fillna(0).astype(np.int64)\n",
    "df_tweets.head()"
   ],
   "metadata": {
    "collapsed": false,
    "pycharm": {
     "name": "#%%\n"
    }
   }
  },
  {
   "cell_type": "code",
   "execution_count": 22,
   "outputs": [],
   "source": [
    "def calculate_tweet_reach(tweet_id, user_id, topics, retweets_count, ref_tweed_id):\n",
    "    total_reach = 0\n",
    "    total_reach += df_users[df_users['user_id'] == user_id]['followers'].sum()\n",
    "    if topics != '[]' and retweets_count > 0:\n",
    "        if ref_tweed_id is not None and ref_tweed_id != 0:\n",
    "            total_reach += df_retweets_info[(df_retweets_info['ref_tweed_id'] == tweet_id) | (df_retweets_info['ref_tweed_id'] == ref_tweed_id)]['followers'].sum()\n",
    "        else:\n",
    "            total_reach += df_retweets_info[df_retweets_info['ref_tweed_id'] == tweet_id]['followers'].sum()\n",
    "    return total_reach"
   ],
   "metadata": {
    "collapsed": false,
    "pycharm": {
     "name": "#%%\n"
    }
   }
  },
  {
   "cell_type": "code",
   "execution_count": 23,
   "outputs": [
    {
     "data": {
      "text/plain": "    index  Unnamed: 0             tweet_id  \\\n0  491246      491246  1079904885246705665   \n1  491248      491248  1079904884445581312   \n2  491247      491247  1079904885175476224   \n3  491245      491245  1079904885531791360   \n4  491244      491244  1079904886014107648   \n\n                                                text             user_id  \\\n0                         I’ll never salt you down 😌           497001647   \n1  You know who you are; but some of you I’ve fol...           112542289   \n2       Oh she a freak freak https://t.co/uJqYxJUGgg          2372981097   \n3                 Don’t forget your red thong ladies          2446281619   \n4                         Thankful for my crazy life  823355577526931457   \n\n             timestamp      tweet_type  like_count  reply_count  \\\n0  2019-01-01 00:59:22  Original Tweet           0            0   \n1  2019-01-01 00:59:22  Original Tweet           2            0   \n2  2019-01-01 00:59:22  Original Tweet           0            0   \n3  2019-01-01 00:59:23  Original Tweet           2            0   \n4  2019-01-01 00:59:23  Original Tweet           5            1   \n\n   retweet_count  quote_count  device lang topics_ids topics  \\\n0              0            0  iPhone   en         []     []   \n1              1            0  iPhone   en         []     []   \n2              0            0  iPhone   en         []     []   \n3              0            0  iPhone   en         []     []   \n4              0            0  iPhone   en         []     []   \n\n  referenced_tweets  ref_tweed_id  reach  \n0               NaN             0   1468  \n1               NaN             0   2969  \n2               NaN             0    809  \n3               NaN             0    112  \n4               NaN             0    356  ",
      "text/html": "<div>\n<style scoped>\n    .dataframe tbody tr th:only-of-type {\n        vertical-align: middle;\n    }\n\n    .dataframe tbody tr th {\n        vertical-align: top;\n    }\n\n    .dataframe thead th {\n        text-align: right;\n    }\n</style>\n<table border=\"1\" class=\"dataframe\">\n  <thead>\n    <tr style=\"text-align: right;\">\n      <th></th>\n      <th>index</th>\n      <th>Unnamed: 0</th>\n      <th>tweet_id</th>\n      <th>text</th>\n      <th>user_id</th>\n      <th>timestamp</th>\n      <th>tweet_type</th>\n      <th>like_count</th>\n      <th>reply_count</th>\n      <th>retweet_count</th>\n      <th>quote_count</th>\n      <th>device</th>\n      <th>lang</th>\n      <th>topics_ids</th>\n      <th>topics</th>\n      <th>referenced_tweets</th>\n      <th>ref_tweed_id</th>\n      <th>reach</th>\n    </tr>\n  </thead>\n  <tbody>\n    <tr>\n      <th>0</th>\n      <td>491246</td>\n      <td>491246</td>\n      <td>1079904885246705665</td>\n      <td>I’ll never salt you down 😌</td>\n      <td>497001647</td>\n      <td>2019-01-01 00:59:22</td>\n      <td>Original Tweet</td>\n      <td>0</td>\n      <td>0</td>\n      <td>0</td>\n      <td>0</td>\n      <td>iPhone</td>\n      <td>en</td>\n      <td>[]</td>\n      <td>[]</td>\n      <td>NaN</td>\n      <td>0</td>\n      <td>1468</td>\n    </tr>\n    <tr>\n      <th>1</th>\n      <td>491248</td>\n      <td>491248</td>\n      <td>1079904884445581312</td>\n      <td>You know who you are; but some of you I’ve fol...</td>\n      <td>112542289</td>\n      <td>2019-01-01 00:59:22</td>\n      <td>Original Tweet</td>\n      <td>2</td>\n      <td>0</td>\n      <td>1</td>\n      <td>0</td>\n      <td>iPhone</td>\n      <td>en</td>\n      <td>[]</td>\n      <td>[]</td>\n      <td>NaN</td>\n      <td>0</td>\n      <td>2969</td>\n    </tr>\n    <tr>\n      <th>2</th>\n      <td>491247</td>\n      <td>491247</td>\n      <td>1079904885175476224</td>\n      <td>Oh she a freak freak https://t.co/uJqYxJUGgg</td>\n      <td>2372981097</td>\n      <td>2019-01-01 00:59:22</td>\n      <td>Original Tweet</td>\n      <td>0</td>\n      <td>0</td>\n      <td>0</td>\n      <td>0</td>\n      <td>iPhone</td>\n      <td>en</td>\n      <td>[]</td>\n      <td>[]</td>\n      <td>NaN</td>\n      <td>0</td>\n      <td>809</td>\n    </tr>\n    <tr>\n      <th>3</th>\n      <td>491245</td>\n      <td>491245</td>\n      <td>1079904885531791360</td>\n      <td>Don’t forget your red thong ladies</td>\n      <td>2446281619</td>\n      <td>2019-01-01 00:59:23</td>\n      <td>Original Tweet</td>\n      <td>2</td>\n      <td>0</td>\n      <td>0</td>\n      <td>0</td>\n      <td>iPhone</td>\n      <td>en</td>\n      <td>[]</td>\n      <td>[]</td>\n      <td>NaN</td>\n      <td>0</td>\n      <td>112</td>\n    </tr>\n    <tr>\n      <th>4</th>\n      <td>491244</td>\n      <td>491244</td>\n      <td>1079904886014107648</td>\n      <td>Thankful for my crazy life</td>\n      <td>823355577526931457</td>\n      <td>2019-01-01 00:59:23</td>\n      <td>Original Tweet</td>\n      <td>5</td>\n      <td>1</td>\n      <td>0</td>\n      <td>0</td>\n      <td>iPhone</td>\n      <td>en</td>\n      <td>[]</td>\n      <td>[]</td>\n      <td>NaN</td>\n      <td>0</td>\n      <td>356</td>\n    </tr>\n  </tbody>\n</table>\n</div>"
     },
     "execution_count": 23,
     "metadata": {},
     "output_type": "execute_result"
    }
   ],
   "source": [
    "df_tweets['reach'] = [calculate_tweet_reach(row[0], row[1], row[2], row[3], row[4]) for row in zip(df_tweets['tweet_id'],                        df_tweets['user_id'], df_tweets['topics'], df_tweets['retweet_count'], df_tweets['ref_tweed_id'])]\n",
    "df_tweets.head(5)\n",
    "\n",
    "# faster alternative: # Iterating over multiple columns - differing data type\n",
    "# result = [f(row[0], ..., row[n]) for row in zip(df['col1'], ..., df['coln'])]"
   ],
   "metadata": {
    "collapsed": false,
    "pycharm": {
     "name": "#%%\n"
    }
   }
  },
  {
   "cell_type": "markdown",
   "source": [
    "## Topic analysis\n",
    "\n",
    "### Loading the previously trained topic analysis model and it's evaluations of each tweet text"
   ],
   "metadata": {
    "collapsed": false,
    "pycharm": {
     "name": "#%% md\n"
    }
   }
  },
  {
   "cell_type": "code",
   "execution_count": 24,
   "outputs": [
    {
     "data": {
      "text/plain": "    index  Unnamed: 0             tweet_id  \\\n0  491246      491246  1079904885246705665   \n1  491248      491248  1079904884445581312   \n2  491247      491247  1079904885175476224   \n3  491245      491245  1079904885531791360   \n4  491244      491244  1079904886014107648   \n\n                                                text             user_id  \\\n0                         I’ll never salt you down 😌           497001647   \n1  You know who you are; but some of you I’ve fol...           112542289   \n2       Oh she a freak freak https://t.co/uJqYxJUGgg          2372981097   \n3                 Don’t forget your red thong ladies          2446281619   \n4                         Thankful for my crazy life  823355577526931457   \n\n             timestamp      tweet_type  like_count  reply_count  \\\n0  2019-01-01 00:59:22  Original Tweet           0            0   \n1  2019-01-01 00:59:22  Original Tweet           2            0   \n2  2019-01-01 00:59:22  Original Tweet           0            0   \n3  2019-01-01 00:59:23  Original Tweet           2            0   \n4  2019-01-01 00:59:23  Original Tweet           5            1   \n\n   retweet_count  quote_count  device lang topics_ids topics  \\\n0              0            0  iPhone   en         []     []   \n1              1            0  iPhone   en         []     []   \n2              0            0  iPhone   en         []     []   \n3              0            0  iPhone   en         []     []   \n4              0            0  iPhone   en         []     []   \n\n  referenced_tweets  ref_tweed_id  reach  \n0               NaN             0   1468  \n1               NaN             0   2969  \n2               NaN             0    809  \n3               NaN             0    112  \n4               NaN             0    356  ",
      "text/html": "<div>\n<style scoped>\n    .dataframe tbody tr th:only-of-type {\n        vertical-align: middle;\n    }\n\n    .dataframe tbody tr th {\n        vertical-align: top;\n    }\n\n    .dataframe thead th {\n        text-align: right;\n    }\n</style>\n<table border=\"1\" class=\"dataframe\">\n  <thead>\n    <tr style=\"text-align: right;\">\n      <th></th>\n      <th>index</th>\n      <th>Unnamed: 0</th>\n      <th>tweet_id</th>\n      <th>text</th>\n      <th>user_id</th>\n      <th>timestamp</th>\n      <th>tweet_type</th>\n      <th>like_count</th>\n      <th>reply_count</th>\n      <th>retweet_count</th>\n      <th>quote_count</th>\n      <th>device</th>\n      <th>lang</th>\n      <th>topics_ids</th>\n      <th>topics</th>\n      <th>referenced_tweets</th>\n      <th>ref_tweed_id</th>\n      <th>reach</th>\n    </tr>\n  </thead>\n  <tbody>\n    <tr>\n      <th>0</th>\n      <td>491246</td>\n      <td>491246</td>\n      <td>1079904885246705665</td>\n      <td>I’ll never salt you down 😌</td>\n      <td>497001647</td>\n      <td>2019-01-01 00:59:22</td>\n      <td>Original Tweet</td>\n      <td>0</td>\n      <td>0</td>\n      <td>0</td>\n      <td>0</td>\n      <td>iPhone</td>\n      <td>en</td>\n      <td>[]</td>\n      <td>[]</td>\n      <td>NaN</td>\n      <td>0</td>\n      <td>1468</td>\n    </tr>\n    <tr>\n      <th>1</th>\n      <td>491248</td>\n      <td>491248</td>\n      <td>1079904884445581312</td>\n      <td>You know who you are; but some of you I’ve fol...</td>\n      <td>112542289</td>\n      <td>2019-01-01 00:59:22</td>\n      <td>Original Tweet</td>\n      <td>2</td>\n      <td>0</td>\n      <td>1</td>\n      <td>0</td>\n      <td>iPhone</td>\n      <td>en</td>\n      <td>[]</td>\n      <td>[]</td>\n      <td>NaN</td>\n      <td>0</td>\n      <td>2969</td>\n    </tr>\n    <tr>\n      <th>2</th>\n      <td>491247</td>\n      <td>491247</td>\n      <td>1079904885175476224</td>\n      <td>Oh she a freak freak https://t.co/uJqYxJUGgg</td>\n      <td>2372981097</td>\n      <td>2019-01-01 00:59:22</td>\n      <td>Original Tweet</td>\n      <td>0</td>\n      <td>0</td>\n      <td>0</td>\n      <td>0</td>\n      <td>iPhone</td>\n      <td>en</td>\n      <td>[]</td>\n      <td>[]</td>\n      <td>NaN</td>\n      <td>0</td>\n      <td>809</td>\n    </tr>\n    <tr>\n      <th>3</th>\n      <td>491245</td>\n      <td>491245</td>\n      <td>1079904885531791360</td>\n      <td>Don’t forget your red thong ladies</td>\n      <td>2446281619</td>\n      <td>2019-01-01 00:59:23</td>\n      <td>Original Tweet</td>\n      <td>2</td>\n      <td>0</td>\n      <td>0</td>\n      <td>0</td>\n      <td>iPhone</td>\n      <td>en</td>\n      <td>[]</td>\n      <td>[]</td>\n      <td>NaN</td>\n      <td>0</td>\n      <td>112</td>\n    </tr>\n    <tr>\n      <th>4</th>\n      <td>491244</td>\n      <td>491244</td>\n      <td>1079904886014107648</td>\n      <td>Thankful for my crazy life</td>\n      <td>823355577526931457</td>\n      <td>2019-01-01 00:59:23</td>\n      <td>Original Tweet</td>\n      <td>5</td>\n      <td>1</td>\n      <td>0</td>\n      <td>0</td>\n      <td>iPhone</td>\n      <td>en</td>\n      <td>[]</td>\n      <td>[]</td>\n      <td>NaN</td>\n      <td>0</td>\n      <td>356</td>\n    </tr>\n  </tbody>\n</table>\n</div>"
     },
     "execution_count": 24,
     "metadata": {},
     "output_type": "execute_result"
    }
   ],
   "source": [
    "df_tweets.head(5)"
   ],
   "metadata": {
    "collapsed": false,
    "pycharm": {
     "name": "#%%\n"
    }
   }
  },
  {
   "cell_type": "code",
   "execution_count": 25,
   "outputs": [],
   "source": [
    "def process_topic(topics:str):\n",
    "    s = topics\n",
    "    for i in range(topics.count('\\'')):\n",
    "        s = s.replace('\\'', '\"')\n",
    "    t = json.loads(s)\n",
    "    if len(t) > 0:\n",
    "        return t[0]\n",
    "    return None"
   ],
   "metadata": {
    "collapsed": false,
    "pycharm": {
     "name": "#%%\n"
    }
   }
  },
  {
   "cell_type": "code",
   "execution_count": 26,
   "outputs": [
    {
     "data": {
      "text/plain": "    index  Unnamed: 0             tweet_id  \\\n0  491246      491246  1079904885246705665   \n1  491248      491248  1079904884445581312   \n2  491247      491247  1079904885175476224   \n3  491245      491245  1079904885531791360   \n4  491244      491244  1079904886014107648   \n\n                                                text             user_id  \\\n0                         I’ll never salt you down 😌           497001647   \n1  You know who you are; but some of you I’ve fol...           112542289   \n2       Oh she a freak freak https://t.co/uJqYxJUGgg          2372981097   \n3                 Don’t forget your red thong ladies          2446281619   \n4                         Thankful for my crazy life  823355577526931457   \n\n             timestamp      tweet_type  like_count  reply_count  \\\n0  2019-01-01 00:59:22  Original Tweet           0            0   \n1  2019-01-01 00:59:22  Original Tweet           2            0   \n2  2019-01-01 00:59:22  Original Tweet           0            0   \n3  2019-01-01 00:59:23  Original Tweet           2            0   \n4  2019-01-01 00:59:23  Original Tweet           5            1   \n\n   retweet_count  quote_count  device lang topics_ids topics  \\\n0              0            0  iPhone   en       None   None   \n1              1            0  iPhone   en       None   None   \n2              0            0  iPhone   en       None   None   \n3              0            0  iPhone   en       None   None   \n4              0            0  iPhone   en       None   None   \n\n  referenced_tweets  ref_tweed_id  reach  \n0               NaN             0   1468  \n1               NaN             0   2969  \n2               NaN             0    809  \n3               NaN             0    112  \n4               NaN             0    356  ",
      "text/html": "<div>\n<style scoped>\n    .dataframe tbody tr th:only-of-type {\n        vertical-align: middle;\n    }\n\n    .dataframe tbody tr th {\n        vertical-align: top;\n    }\n\n    .dataframe thead th {\n        text-align: right;\n    }\n</style>\n<table border=\"1\" class=\"dataframe\">\n  <thead>\n    <tr style=\"text-align: right;\">\n      <th></th>\n      <th>index</th>\n      <th>Unnamed: 0</th>\n      <th>tweet_id</th>\n      <th>text</th>\n      <th>user_id</th>\n      <th>timestamp</th>\n      <th>tweet_type</th>\n      <th>like_count</th>\n      <th>reply_count</th>\n      <th>retweet_count</th>\n      <th>quote_count</th>\n      <th>device</th>\n      <th>lang</th>\n      <th>topics_ids</th>\n      <th>topics</th>\n      <th>referenced_tweets</th>\n      <th>ref_tweed_id</th>\n      <th>reach</th>\n    </tr>\n  </thead>\n  <tbody>\n    <tr>\n      <th>0</th>\n      <td>491246</td>\n      <td>491246</td>\n      <td>1079904885246705665</td>\n      <td>I’ll never salt you down 😌</td>\n      <td>497001647</td>\n      <td>2019-01-01 00:59:22</td>\n      <td>Original Tweet</td>\n      <td>0</td>\n      <td>0</td>\n      <td>0</td>\n      <td>0</td>\n      <td>iPhone</td>\n      <td>en</td>\n      <td>None</td>\n      <td>None</td>\n      <td>NaN</td>\n      <td>0</td>\n      <td>1468</td>\n    </tr>\n    <tr>\n      <th>1</th>\n      <td>491248</td>\n      <td>491248</td>\n      <td>1079904884445581312</td>\n      <td>You know who you are; but some of you I’ve fol...</td>\n      <td>112542289</td>\n      <td>2019-01-01 00:59:22</td>\n      <td>Original Tweet</td>\n      <td>2</td>\n      <td>0</td>\n      <td>1</td>\n      <td>0</td>\n      <td>iPhone</td>\n      <td>en</td>\n      <td>None</td>\n      <td>None</td>\n      <td>NaN</td>\n      <td>0</td>\n      <td>2969</td>\n    </tr>\n    <tr>\n      <th>2</th>\n      <td>491247</td>\n      <td>491247</td>\n      <td>1079904885175476224</td>\n      <td>Oh she a freak freak https://t.co/uJqYxJUGgg</td>\n      <td>2372981097</td>\n      <td>2019-01-01 00:59:22</td>\n      <td>Original Tweet</td>\n      <td>0</td>\n      <td>0</td>\n      <td>0</td>\n      <td>0</td>\n      <td>iPhone</td>\n      <td>en</td>\n      <td>None</td>\n      <td>None</td>\n      <td>NaN</td>\n      <td>0</td>\n      <td>809</td>\n    </tr>\n    <tr>\n      <th>3</th>\n      <td>491245</td>\n      <td>491245</td>\n      <td>1079904885531791360</td>\n      <td>Don’t forget your red thong ladies</td>\n      <td>2446281619</td>\n      <td>2019-01-01 00:59:23</td>\n      <td>Original Tweet</td>\n      <td>2</td>\n      <td>0</td>\n      <td>0</td>\n      <td>0</td>\n      <td>iPhone</td>\n      <td>en</td>\n      <td>None</td>\n      <td>None</td>\n      <td>NaN</td>\n      <td>0</td>\n      <td>112</td>\n    </tr>\n    <tr>\n      <th>4</th>\n      <td>491244</td>\n      <td>491244</td>\n      <td>1079904886014107648</td>\n      <td>Thankful for my crazy life</td>\n      <td>823355577526931457</td>\n      <td>2019-01-01 00:59:23</td>\n      <td>Original Tweet</td>\n      <td>5</td>\n      <td>1</td>\n      <td>0</td>\n      <td>0</td>\n      <td>iPhone</td>\n      <td>en</td>\n      <td>None</td>\n      <td>None</td>\n      <td>NaN</td>\n      <td>0</td>\n      <td>356</td>\n    </tr>\n  </tbody>\n</table>\n</div>"
     },
     "execution_count": 26,
     "metadata": {},
     "output_type": "execute_result"
    }
   ],
   "source": [
    "df_tweets['topics'] = [process_topic(topics) for topics in df_tweets['topics']]\n",
    "df_tweets['topics_ids'] = [process_topic(topics_ids) for topics_ids in df_tweets['topics_ids']]\n",
    "df_tweets.head(5)"
   ],
   "metadata": {
    "collapsed": false,
    "pycharm": {
     "name": "#%%\n"
    }
   }
  },
  {
   "cell_type": "markdown",
   "source": [
    "### Grouping the topics in broader categories"
   ],
   "metadata": {
    "collapsed": false,
    "pycharm": {
     "name": "#%% md\n"
    }
   }
  },
  {
   "cell_type": "code",
   "execution_count": 27,
   "outputs": [],
   "source": [
    "def group_topics(topic):\n",
    "    if pd.isna(topic):\n",
    "        return None\n",
    "\n",
    "    if not isinstance(topic, str):\n",
    "        print(topic)\n",
    "\n",
    "    if 'Brand' in topic or 'Product' in topic:\n",
    "        return 'Brand'\n",
    "    elif 'Person' in topic:\n",
    "        return 'Person'\n",
    "    elif 'Sport' in topic or 'Athlete' in topic or 'Coach' in topic or 'Hockey' in topic or 'Football' in topic or 'NFL' in topic:\n",
    "        return 'Sport'\n",
    "    elif 'TV' in topic or 'Movie' in topic or 'Award' in topic or 'Actor' in topic or 'Fictional Character' in topic\\\n",
    "            or 'Entertainment' in topic:\n",
    "        return 'TV and Movies'\n",
    "    elif 'Music' in topic or 'Musician' in topic or 'Concert' in topic or 'Song' in topic or 'Radio' in topic:\n",
    "        return 'Music'\n",
    "    elif 'Book' in topic:\n",
    "        return 'Book'\n",
    "    elif 'Hobbies' in topic:\n",
    "        return 'Interest and Hobbies'\n",
    "    elif 'Video Game' in topic or 'Esports' in topic or 'eSport' in topic:\n",
    "        return 'Video Game'\n",
    "    elif 'Political' in topic or 'Politicians' in topic:\n",
    "        return 'Political'\n",
    "    elif 'Holiday' in topic:\n",
    "        return 'Holiday'\n",
    "    elif 'News' in topic:\n",
    "        return 'News'\n",
    "    elif 'Entities' in topic:\n",
    "        return 'Entities'\n",
    "    else:\n",
    "        return 'Other'"
   ],
   "metadata": {
    "collapsed": false,
    "pycharm": {
     "name": "#%%\n"
    }
   }
  },
  {
   "cell_type": "code",
   "execution_count": 28,
   "outputs": [
    {
     "data": {
      "text/plain": "    index  Unnamed: 0             tweet_id  \\\n0  491246      491246  1079904885246705665   \n1  491248      491248  1079904884445581312   \n2  491247      491247  1079904885175476224   \n3  491245      491245  1079904885531791360   \n4  491244      491244  1079904886014107648   \n\n                                                text             user_id  \\\n0                         I’ll never salt you down 😌           497001647   \n1  You know who you are; but some of you I’ve fol...           112542289   \n2       Oh she a freak freak https://t.co/uJqYxJUGgg          2372981097   \n3                 Don’t forget your red thong ladies          2446281619   \n4                         Thankful for my crazy life  823355577526931457   \n\n             timestamp      tweet_type  like_count  reply_count  \\\n0  2019-01-01 00:59:22  Original Tweet           0            0   \n1  2019-01-01 00:59:22  Original Tweet           2            0   \n2  2019-01-01 00:59:22  Original Tweet           0            0   \n3  2019-01-01 00:59:23  Original Tweet           2            0   \n4  2019-01-01 00:59:23  Original Tweet           5            1   \n\n   retweet_count  quote_count  device lang topics_ids topics  \\\n0              0            0  iPhone   en       None   None   \n1              1            0  iPhone   en       None   None   \n2              0            0  iPhone   en       None   None   \n3              0            0  iPhone   en       None   None   \n4              0            0  iPhone   en       None   None   \n\n  referenced_tweets  ref_tweed_id  reach topics_cleaned  \n0               NaN             0   1468           None  \n1               NaN             0   2969           None  \n2               NaN             0    809           None  \n3               NaN             0    112           None  \n4               NaN             0    356           None  ",
      "text/html": "<div>\n<style scoped>\n    .dataframe tbody tr th:only-of-type {\n        vertical-align: middle;\n    }\n\n    .dataframe tbody tr th {\n        vertical-align: top;\n    }\n\n    .dataframe thead th {\n        text-align: right;\n    }\n</style>\n<table border=\"1\" class=\"dataframe\">\n  <thead>\n    <tr style=\"text-align: right;\">\n      <th></th>\n      <th>index</th>\n      <th>Unnamed: 0</th>\n      <th>tweet_id</th>\n      <th>text</th>\n      <th>user_id</th>\n      <th>timestamp</th>\n      <th>tweet_type</th>\n      <th>like_count</th>\n      <th>reply_count</th>\n      <th>retweet_count</th>\n      <th>quote_count</th>\n      <th>device</th>\n      <th>lang</th>\n      <th>topics_ids</th>\n      <th>topics</th>\n      <th>referenced_tweets</th>\n      <th>ref_tweed_id</th>\n      <th>reach</th>\n      <th>topics_cleaned</th>\n    </tr>\n  </thead>\n  <tbody>\n    <tr>\n      <th>0</th>\n      <td>491246</td>\n      <td>491246</td>\n      <td>1079904885246705665</td>\n      <td>I’ll never salt you down 😌</td>\n      <td>497001647</td>\n      <td>2019-01-01 00:59:22</td>\n      <td>Original Tweet</td>\n      <td>0</td>\n      <td>0</td>\n      <td>0</td>\n      <td>0</td>\n      <td>iPhone</td>\n      <td>en</td>\n      <td>None</td>\n      <td>None</td>\n      <td>NaN</td>\n      <td>0</td>\n      <td>1468</td>\n      <td>None</td>\n    </tr>\n    <tr>\n      <th>1</th>\n      <td>491248</td>\n      <td>491248</td>\n      <td>1079904884445581312</td>\n      <td>You know who you are; but some of you I’ve fol...</td>\n      <td>112542289</td>\n      <td>2019-01-01 00:59:22</td>\n      <td>Original Tweet</td>\n      <td>2</td>\n      <td>0</td>\n      <td>1</td>\n      <td>0</td>\n      <td>iPhone</td>\n      <td>en</td>\n      <td>None</td>\n      <td>None</td>\n      <td>NaN</td>\n      <td>0</td>\n      <td>2969</td>\n      <td>None</td>\n    </tr>\n    <tr>\n      <th>2</th>\n      <td>491247</td>\n      <td>491247</td>\n      <td>1079904885175476224</td>\n      <td>Oh she a freak freak https://t.co/uJqYxJUGgg</td>\n      <td>2372981097</td>\n      <td>2019-01-01 00:59:22</td>\n      <td>Original Tweet</td>\n      <td>0</td>\n      <td>0</td>\n      <td>0</td>\n      <td>0</td>\n      <td>iPhone</td>\n      <td>en</td>\n      <td>None</td>\n      <td>None</td>\n      <td>NaN</td>\n      <td>0</td>\n      <td>809</td>\n      <td>None</td>\n    </tr>\n    <tr>\n      <th>3</th>\n      <td>491245</td>\n      <td>491245</td>\n      <td>1079904885531791360</td>\n      <td>Don’t forget your red thong ladies</td>\n      <td>2446281619</td>\n      <td>2019-01-01 00:59:23</td>\n      <td>Original Tweet</td>\n      <td>2</td>\n      <td>0</td>\n      <td>0</td>\n      <td>0</td>\n      <td>iPhone</td>\n      <td>en</td>\n      <td>None</td>\n      <td>None</td>\n      <td>NaN</td>\n      <td>0</td>\n      <td>112</td>\n      <td>None</td>\n    </tr>\n    <tr>\n      <th>4</th>\n      <td>491244</td>\n      <td>491244</td>\n      <td>1079904886014107648</td>\n      <td>Thankful for my crazy life</td>\n      <td>823355577526931457</td>\n      <td>2019-01-01 00:59:23</td>\n      <td>Original Tweet</td>\n      <td>5</td>\n      <td>1</td>\n      <td>0</td>\n      <td>0</td>\n      <td>iPhone</td>\n      <td>en</td>\n      <td>None</td>\n      <td>None</td>\n      <td>NaN</td>\n      <td>0</td>\n      <td>356</td>\n      <td>None</td>\n    </tr>\n  </tbody>\n</table>\n</div>"
     },
     "execution_count": 28,
     "metadata": {},
     "output_type": "execute_result"
    }
   ],
   "source": [
    "df_tweets['topics_cleaned'] = [group_topics(topic) for topic in df_tweets['topics']]\n",
    "df_tweets.head(5)"
   ],
   "metadata": {
    "collapsed": false,
    "pycharm": {
     "name": "#%%\n"
    }
   }
  },
  {
   "cell_type": "markdown",
   "source": [
    "### NaNs treatment"
   ],
   "metadata": {
    "collapsed": false,
    "pycharm": {
     "name": "#%% md\n"
    }
   }
  },
  {
   "cell_type": "code",
   "execution_count": null,
   "outputs": [],
   "source": [
    "df_tweets['topics_ids'].fillna(value=-1, inplace=True)\n",
    "df_tweets['topics_ids'] = df_tweets['topics_ids'].apply(lambda x: int(x))\n",
    "df_tweets['topics'].fillna(value=\"\", inplace=True)"
   ],
   "metadata": {
    "collapsed": false,
    "pycharm": {
     "name": "#%%\n"
    }
   }
  },
  {
   "cell_type": "code",
   "execution_count": 29,
   "outputs": [
    {
     "data": {
      "text/plain": "Person                  0.190215\nTV and Movies           0.177633\nOther                   0.166645\nBrand                   0.153665\nInterest and Hobbies    0.138305\nEntities                0.106647\nSport                   0.037750\nMusic                   0.010406\nVideo Game              0.010166\nPolitical               0.007491\nBook                    0.001072\nHoliday                 0.000005\nName: topics_cleaned, dtype: float64"
     },
     "execution_count": 29,
     "metadata": {},
     "output_type": "execute_result"
    }
   ],
   "source": [
    "df_tweets['topics_cleaned'].value_counts(normalize=True)"
   ],
   "metadata": {
    "collapsed": false,
    "pycharm": {
     "name": "#%%\n"
    }
   }
  },
  {
   "cell_type": "markdown",
   "source": [
    "## Sentiment analysis"
   ],
   "metadata": {
    "collapsed": false,
    "pycharm": {
     "name": "#%% md\n"
    }
   }
  },
  {
   "cell_type": "code",
   "execution_count": 30,
   "outputs": [],
   "source": [
    "sid_obj = SentimentIntensityAnalyzer()"
   ],
   "metadata": {
    "collapsed": false,
    "pycharm": {
     "name": "#%%\n"
    }
   }
  },
  {
   "cell_type": "code",
   "execution_count": 31,
   "outputs": [],
   "source": [
    "def sentiment_scores(sentence, prints):\n",
    "    if prints: print(\"\\nSentence:\", sentence)\n",
    "\n",
    "    sentiment_dict = sid_obj.polarity_scores(sentence)\n",
    "\n",
    "    if sentiment_dict['compound'] >= 0.05:\n",
    "        if prints: print(\"Positive\")\n",
    "        return \"Positive\"\n",
    "    elif sentiment_dict['compound'] <= - 0.05:\n",
    "        if prints: print(\"Positive\")\n",
    "        return \"Negative\"\n",
    "    else:\n",
    "        if prints: print(\"Neutral\")\n",
    "        return \"Neutral\""
   ],
   "metadata": {
    "collapsed": false,
    "pycharm": {
     "name": "#%%\n"
    }
   }
  },
  {
   "cell_type": "code",
   "execution_count": 32,
   "outputs": [],
   "source": [
    "df_tweets['sentiment'] = [sentiment_scores(tweet_text, False) for tweet_text in df_tweets['text']]"
   ],
   "metadata": {
    "collapsed": false,
    "pycharm": {
     "name": "#%%\n"
    }
   }
  },
  {
   "cell_type": "code",
   "execution_count": 33,
   "outputs": [
    {
     "data": {
      "text/plain": "    index  Unnamed: 0             tweet_id  \\\n0  491246      491246  1079904885246705665   \n1  491248      491248  1079904884445581312   \n2  491247      491247  1079904885175476224   \n3  491245      491245  1079904885531791360   \n4  491244      491244  1079904886014107648   \n\n                                                text             user_id  \\\n0                         I’ll never salt you down 😌           497001647   \n1  You know who you are; but some of you I’ve fol...           112542289   \n2       Oh she a freak freak https://t.co/uJqYxJUGgg          2372981097   \n3                 Don’t forget your red thong ladies          2446281619   \n4                         Thankful for my crazy life  823355577526931457   \n\n             timestamp      tweet_type  like_count  reply_count  \\\n0  2019-01-01 00:59:22  Original Tweet           0            0   \n1  2019-01-01 00:59:22  Original Tweet           2            0   \n2  2019-01-01 00:59:22  Original Tweet           0            0   \n3  2019-01-01 00:59:23  Original Tweet           2            0   \n4  2019-01-01 00:59:23  Original Tweet           5            1   \n\n   retweet_count  quote_count  device lang topics_ids topics  \\\n0              0            0  iPhone   en       None   None   \n1              1            0  iPhone   en       None   None   \n2              0            0  iPhone   en       None   None   \n3              0            0  iPhone   en       None   None   \n4              0            0  iPhone   en       None   None   \n\n  referenced_tweets  ref_tweed_id  reach topics_cleaned sentiment  \n0               NaN             0   1468           None  Positive  \n1               NaN             0   2969           None  Positive  \n2               NaN             0    809           None  Negative  \n3               NaN             0    112           None  Negative  \n4               NaN             0    356           None  Positive  ",
      "text/html": "<div>\n<style scoped>\n    .dataframe tbody tr th:only-of-type {\n        vertical-align: middle;\n    }\n\n    .dataframe tbody tr th {\n        vertical-align: top;\n    }\n\n    .dataframe thead th {\n        text-align: right;\n    }\n</style>\n<table border=\"1\" class=\"dataframe\">\n  <thead>\n    <tr style=\"text-align: right;\">\n      <th></th>\n      <th>index</th>\n      <th>Unnamed: 0</th>\n      <th>tweet_id</th>\n      <th>text</th>\n      <th>user_id</th>\n      <th>timestamp</th>\n      <th>tweet_type</th>\n      <th>like_count</th>\n      <th>reply_count</th>\n      <th>retweet_count</th>\n      <th>quote_count</th>\n      <th>device</th>\n      <th>lang</th>\n      <th>topics_ids</th>\n      <th>topics</th>\n      <th>referenced_tweets</th>\n      <th>ref_tweed_id</th>\n      <th>reach</th>\n      <th>topics_cleaned</th>\n      <th>sentiment</th>\n    </tr>\n  </thead>\n  <tbody>\n    <tr>\n      <th>0</th>\n      <td>491246</td>\n      <td>491246</td>\n      <td>1079904885246705665</td>\n      <td>I’ll never salt you down 😌</td>\n      <td>497001647</td>\n      <td>2019-01-01 00:59:22</td>\n      <td>Original Tweet</td>\n      <td>0</td>\n      <td>0</td>\n      <td>0</td>\n      <td>0</td>\n      <td>iPhone</td>\n      <td>en</td>\n      <td>None</td>\n      <td>None</td>\n      <td>NaN</td>\n      <td>0</td>\n      <td>1468</td>\n      <td>None</td>\n      <td>Positive</td>\n    </tr>\n    <tr>\n      <th>1</th>\n      <td>491248</td>\n      <td>491248</td>\n      <td>1079904884445581312</td>\n      <td>You know who you are; but some of you I’ve fol...</td>\n      <td>112542289</td>\n      <td>2019-01-01 00:59:22</td>\n      <td>Original Tweet</td>\n      <td>2</td>\n      <td>0</td>\n      <td>1</td>\n      <td>0</td>\n      <td>iPhone</td>\n      <td>en</td>\n      <td>None</td>\n      <td>None</td>\n      <td>NaN</td>\n      <td>0</td>\n      <td>2969</td>\n      <td>None</td>\n      <td>Positive</td>\n    </tr>\n    <tr>\n      <th>2</th>\n      <td>491247</td>\n      <td>491247</td>\n      <td>1079904885175476224</td>\n      <td>Oh she a freak freak https://t.co/uJqYxJUGgg</td>\n      <td>2372981097</td>\n      <td>2019-01-01 00:59:22</td>\n      <td>Original Tweet</td>\n      <td>0</td>\n      <td>0</td>\n      <td>0</td>\n      <td>0</td>\n      <td>iPhone</td>\n      <td>en</td>\n      <td>None</td>\n      <td>None</td>\n      <td>NaN</td>\n      <td>0</td>\n      <td>809</td>\n      <td>None</td>\n      <td>Negative</td>\n    </tr>\n    <tr>\n      <th>3</th>\n      <td>491245</td>\n      <td>491245</td>\n      <td>1079904885531791360</td>\n      <td>Don’t forget your red thong ladies</td>\n      <td>2446281619</td>\n      <td>2019-01-01 00:59:23</td>\n      <td>Original Tweet</td>\n      <td>2</td>\n      <td>0</td>\n      <td>0</td>\n      <td>0</td>\n      <td>iPhone</td>\n      <td>en</td>\n      <td>None</td>\n      <td>None</td>\n      <td>NaN</td>\n      <td>0</td>\n      <td>112</td>\n      <td>None</td>\n      <td>Negative</td>\n    </tr>\n    <tr>\n      <th>4</th>\n      <td>491244</td>\n      <td>491244</td>\n      <td>1079904886014107648</td>\n      <td>Thankful for my crazy life</td>\n      <td>823355577526931457</td>\n      <td>2019-01-01 00:59:23</td>\n      <td>Original Tweet</td>\n      <td>5</td>\n      <td>1</td>\n      <td>0</td>\n      <td>0</td>\n      <td>iPhone</td>\n      <td>en</td>\n      <td>None</td>\n      <td>None</td>\n      <td>NaN</td>\n      <td>0</td>\n      <td>356</td>\n      <td>None</td>\n      <td>Positive</td>\n    </tr>\n  </tbody>\n</table>\n</div>"
     },
     "execution_count": 33,
     "metadata": {},
     "output_type": "execute_result"
    }
   ],
   "source": [
    "df_tweets.head(5)"
   ],
   "metadata": {
    "collapsed": false,
    "pycharm": {
     "name": "#%%\n"
    }
   }
  },
  {
   "cell_type": "markdown",
   "source": [
    "## Hashtags"
   ],
   "metadata": {
    "collapsed": false,
    "pycharm": {
     "name": "#%% md\n"
    }
   }
  },
  {
   "cell_type": "code",
   "execution_count": null,
   "outputs": [],
   "source": [
    "def has_hashtags(text):\n",
    "    return len(re.findall(r'\\B#\\w*[a-zA-Z]+\\w*', text)) > 0"
   ],
   "metadata": {
    "collapsed": false,
    "pycharm": {
     "name": "#%%\n"
    }
   }
  },
  {
   "cell_type": "code",
   "execution_count": null,
   "outputs": [],
   "source": [
    "df_tweets['hashtags'] = [has_hashtags(text) for text in df_tweets['text']]"
   ],
   "metadata": {
    "collapsed": false,
    "pycharm": {
     "name": "#%%\n"
    }
   }
  },
  {
   "cell_type": "markdown",
   "source": [
    "## Tweet popularity\n",
    "\n",
    "To define tweet popularity, each tweet with at least 1 retweet or 1 quote tweet was considered popular (1)\n",
    "if the criteria wasn't met it was marked as unpopular (0)"
   ],
   "metadata": {
    "collapsed": false,
    "pycharm": {
     "name": "#%% md\n"
    }
   }
  },
  {
   "cell_type": "code",
   "execution_count": 34,
   "outputs": [],
   "source": [
    "def tweet_popularity_label(retweet_count, quote_count):\n",
    "    if retweet_count > 0 or quote_count > 0:\n",
    "        return 1\n",
    "    else:\n",
    "        return 0"
   ],
   "metadata": {
    "collapsed": false,
    "pycharm": {
     "name": "#%%\n"
    }
   }
  },
  {
   "cell_type": "code",
   "execution_count": 35,
   "outputs": [],
   "source": [
    "df_tweets['popularity'] = [tweet_popularity_label(ret, qou) for ret, qou in zip(df_tweets['retweet_count'],df_tweets['quote_count'])]"
   ],
   "metadata": {
    "collapsed": false,
    "pycharm": {
     "name": "#%%\n"
    }
   }
  },
  {
   "cell_type": "code",
   "execution_count": 36,
   "outputs": [
    {
     "data": {
      "text/plain": "0    0.800857\n1    0.199143\nName: popularity, dtype: float64"
     },
     "execution_count": 36,
     "metadata": {},
     "output_type": "execute_result"
    }
   ],
   "source": [
    "df_tweets['popularity'].value_counts(normalize=True)"
   ],
   "metadata": {
    "collapsed": false,
    "pycharm": {
     "name": "#%%\n"
    }
   }
  },
  {
   "cell_type": "markdown",
   "source": [
    "## Combine the two datasets into the final one\n",
    "\n",
    "For every tweet select the relevant columns and merge the corresponding information from the original user"
   ],
   "metadata": {
    "collapsed": false,
    "pycharm": {
     "name": "#%% md\n"
    }
   }
  },
  {
   "cell_type": "code",
   "execution_count": 37,
   "outputs": [
    {
     "data": {
      "text/plain": "   index             tweet_id  \\\n0      0  1079904885246705665   \n1      1  1181478514601672704   \n2      2  1079904884445581312   \n3      3  1083000265597485056   \n4      4  1100394993972404224   \n\n                                                text  \\\n0                         I’ll never salt you down 😌   \n1                          I need to go to sleeeeeep   \n2  You know who you are; but some of you I’ve fol...   \n3  Good morning frens. Don’t think about yesterda...   \n4  Have any of you seen that post about the salon...   \n\n                   timestamp    user_id  like_count  retweet_count  \\\n0        2019-01-01 00:59:22  497001647           0              0   \n1  2019-10-08 07:56:43+00:00  497001647           0              0   \n2        2019-01-01 00:59:22  112542289           2              1   \n3        2019-01-09 13:59:19  112542289           5              1   \n4  2019-02-26 13:59:45+00:00  112542289           3              1   \n\n   quote_count  reply_count  reach topics_ids topics topics_cleaned sentiment  \\\n0            0            0   1468       None   None           None  Positive   \n1            0            0   1468       None   None           None   Neutral   \n2            0            0   2969       None   None           None  Positive   \n3            0            0   2969       None   None           None   Neutral   \n4            0            1   4897         13  Place          Other  Positive   \n\n   popularity  followers  following  tweet_count  verified  \\\n0           0       1468       1043        32941     False   \n1           0       1468       1043        32941     False   \n2           1       2969       2890       137517     False   \n3           1       2969       2890       137517     False   \n4           1       2969       2890       137517     False   \n\n                  created_at  \n0  2012-02-19 14:20:44+00:00  \n1  2012-02-19 14:20:44+00:00  \n2  2010-02-08 21:52:01+00:00  \n3  2010-02-08 21:52:01+00:00  \n4  2010-02-08 21:52:01+00:00  ",
      "text/html": "<div>\n<style scoped>\n    .dataframe tbody tr th:only-of-type {\n        vertical-align: middle;\n    }\n\n    .dataframe tbody tr th {\n        vertical-align: top;\n    }\n\n    .dataframe thead th {\n        text-align: right;\n    }\n</style>\n<table border=\"1\" class=\"dataframe\">\n  <thead>\n    <tr style=\"text-align: right;\">\n      <th></th>\n      <th>index</th>\n      <th>tweet_id</th>\n      <th>text</th>\n      <th>timestamp</th>\n      <th>user_id</th>\n      <th>like_count</th>\n      <th>retweet_count</th>\n      <th>quote_count</th>\n      <th>reply_count</th>\n      <th>reach</th>\n      <th>topics_ids</th>\n      <th>topics</th>\n      <th>topics_cleaned</th>\n      <th>sentiment</th>\n      <th>popularity</th>\n      <th>followers</th>\n      <th>following</th>\n      <th>tweet_count</th>\n      <th>verified</th>\n      <th>created_at</th>\n    </tr>\n  </thead>\n  <tbody>\n    <tr>\n      <th>0</th>\n      <td>0</td>\n      <td>1079904885246705665</td>\n      <td>I’ll never salt you down 😌</td>\n      <td>2019-01-01 00:59:22</td>\n      <td>497001647</td>\n      <td>0</td>\n      <td>0</td>\n      <td>0</td>\n      <td>0</td>\n      <td>1468</td>\n      <td>None</td>\n      <td>None</td>\n      <td>None</td>\n      <td>Positive</td>\n      <td>0</td>\n      <td>1468</td>\n      <td>1043</td>\n      <td>32941</td>\n      <td>False</td>\n      <td>2012-02-19 14:20:44+00:00</td>\n    </tr>\n    <tr>\n      <th>1</th>\n      <td>1</td>\n      <td>1181478514601672704</td>\n      <td>I need to go to sleeeeeep</td>\n      <td>2019-10-08 07:56:43+00:00</td>\n      <td>497001647</td>\n      <td>0</td>\n      <td>0</td>\n      <td>0</td>\n      <td>0</td>\n      <td>1468</td>\n      <td>None</td>\n      <td>None</td>\n      <td>None</td>\n      <td>Neutral</td>\n      <td>0</td>\n      <td>1468</td>\n      <td>1043</td>\n      <td>32941</td>\n      <td>False</td>\n      <td>2012-02-19 14:20:44+00:00</td>\n    </tr>\n    <tr>\n      <th>2</th>\n      <td>2</td>\n      <td>1079904884445581312</td>\n      <td>You know who you are; but some of you I’ve fol...</td>\n      <td>2019-01-01 00:59:22</td>\n      <td>112542289</td>\n      <td>2</td>\n      <td>1</td>\n      <td>0</td>\n      <td>0</td>\n      <td>2969</td>\n      <td>None</td>\n      <td>None</td>\n      <td>None</td>\n      <td>Positive</td>\n      <td>1</td>\n      <td>2969</td>\n      <td>2890</td>\n      <td>137517</td>\n      <td>False</td>\n      <td>2010-02-08 21:52:01+00:00</td>\n    </tr>\n    <tr>\n      <th>3</th>\n      <td>3</td>\n      <td>1083000265597485056</td>\n      <td>Good morning frens. Don’t think about yesterda...</td>\n      <td>2019-01-09 13:59:19</td>\n      <td>112542289</td>\n      <td>5</td>\n      <td>1</td>\n      <td>0</td>\n      <td>0</td>\n      <td>2969</td>\n      <td>None</td>\n      <td>None</td>\n      <td>None</td>\n      <td>Neutral</td>\n      <td>1</td>\n      <td>2969</td>\n      <td>2890</td>\n      <td>137517</td>\n      <td>False</td>\n      <td>2010-02-08 21:52:01+00:00</td>\n    </tr>\n    <tr>\n      <th>4</th>\n      <td>4</td>\n      <td>1100394993972404224</td>\n      <td>Have any of you seen that post about the salon...</td>\n      <td>2019-02-26 13:59:45+00:00</td>\n      <td>112542289</td>\n      <td>3</td>\n      <td>1</td>\n      <td>0</td>\n      <td>1</td>\n      <td>4897</td>\n      <td>13</td>\n      <td>Place</td>\n      <td>Other</td>\n      <td>Positive</td>\n      <td>1</td>\n      <td>2969</td>\n      <td>2890</td>\n      <td>137517</td>\n      <td>False</td>\n      <td>2010-02-08 21:52:01+00:00</td>\n    </tr>\n  </tbody>\n</table>\n</div>"
     },
     "execution_count": 37,
     "metadata": {},
     "output_type": "execute_result"
    }
   ],
   "source": [
    "df = pd.merge(df_tweets[['tweet_id', 'text', 'timestamp', 'user_id', 'like_count', 'retweet_count', 'quote_count',\n",
    "                        'reply_count', 'reach', 'topics_ids', 'topics', 'topics_cleaned', 'sentiment', 'hashtags', 'popularity']],\n",
    "                        df_users[['user_id', 'followers', 'following', 'tweet_count', 'verified', 'created_at']],\n",
    "                        on=\"user_id\").reset_index()\n",
    "df.head(5)"
   ],
   "metadata": {
    "collapsed": false,
    "pycharm": {
     "name": "#%%\n"
    }
   }
  },
  {
   "cell_type": "markdown",
   "source": [
    "## Process tweets timestamps"
   ],
   "metadata": {
    "collapsed": false,
    "pycharm": {
     "name": "#%% md\n"
    }
   }
  },
  {
   "cell_type": "code",
   "execution_count": 38,
   "outputs": [],
   "source": [
    "df['timestamp'] = pd.to_datetime(df['timestamp'])"
   ],
   "metadata": {
    "collapsed": false,
    "pycharm": {
     "name": "#%%\n"
    }
   }
  },
  {
   "cell_type": "markdown",
   "source": [
    "### Categorize by year, month, week days and phases of the day"
   ],
   "metadata": {
    "collapsed": false,
    "pycharm": {
     "name": "#%% md\n"
    }
   }
  },
  {
   "cell_type": "code",
   "execution_count": 39,
   "outputs": [],
   "source": [
    "def get_day_phase(hour):\n",
    "    if 0 <= hour < 7:\n",
    "        return \"Middle of the night\"\n",
    "    elif 7 <= hour < 13:\n",
    "        return \"Morning\"\n",
    "    elif 13 <= hour < 16:\n",
    "        return \"Afternoon\"\n",
    "    elif 16 <= hour < 20:\n",
    "        return \"Dusk\"\n",
    "    elif 20 <= hour < 24:\n",
    "        return \"Night\""
   ],
   "metadata": {
    "collapsed": false,
    "pycharm": {
     "name": "#%%\n"
    }
   }
  },
  {
   "cell_type": "code",
   "execution_count": 40,
   "outputs": [
    {
     "data": {
      "text/plain": "         index             tweet_id  \\\n0            0  1079904885246705665   \n1            1  1181478514601672704   \n2            2  1079904884445581312   \n3            3  1083000265597485056   \n4            4  1100394993972404224   \n...        ...                  ...   \n535022  535022  1212131305615511554   \n535023  535023  1212131306085244928   \n535024  535024  1212131307162988544   \n535025  535025  1212131308010430464   \n535026  535026  1212131312892555264   \n\n                                                     text  \\\n0                              I’ll never salt you down 😌   \n1                               I need to go to sleeeeeep   \n2       You know who you are; but some of you I’ve fol...   \n3       Good morning frens. Don’t think about yesterda...   \n4       Have any of you seen that post about the salon...   \n...                                                   ...   \n535022  It’s taken almost 20 years.... but the boys ap...   \n535023           My boss is boss. https://t.co/aButy11GXA   \n535024                      Mood: https://t.co/d5iIJatvZO   \n535025         I’m watching Star Wars for the first time.   \n535026  Soon as I pulled up in Columbus @CoreyGrand ha...   \n\n                        timestamp     user_id  like_count  retweet_count  \\\n0             2019-01-01 00:59:22   497001647           0              0   \n1       2019-10-08 07:56:43+00:00   497001647           0              0   \n2             2019-01-01 00:59:22   112542289           2              1   \n3             2019-01-09 13:59:19   112542289           5              1   \n4       2019-02-26 13:59:45+00:00   112542289           3              1   \n...                           ...         ...         ...            ...   \n535022  2019-12-31 21:59:58+00:00  3160522828          62              3   \n535023  2019-12-31 21:59:58+00:00   802746211           1              0   \n535024  2019-12-31 21:59:58+00:00   713174863          19              2   \n535025  2019-12-31 21:59:58+00:00  2463021749           0              0   \n535026  2019-12-31 21:59:59+00:00    24166044           0              0   \n\n        quote_count  reply_count  reach  ... followers following tweet_count  \\\n0                 0            0   1468  ...      1468      1043       32941   \n1                 0            0   1468  ...      1468      1043       32941   \n2                 0            0   2969  ...      2969      2890      137517   \n3                 0            0   2969  ...      2969      2890      137517   \n4                 0            1   4897  ...      2969      2890      137517   \n...             ...          ...    ...  ...       ...       ...         ...   \n535022            1            8   5864  ...      5864      1781       24440   \n535023            0            0    681  ...       681      1347          63   \n535024            0            0   1455  ...      1455       157         979   \n535025            0            1   1171  ...      1171       669       22251   \n535026            1            0   1761  ...      1761       762        9681   \n\n       verified                 created_at  year     month  day_of_week  \\\n0         False  2012-02-19 14:20:44+00:00  2019   January      Tuesday   \n1         False  2012-02-19 14:20:44+00:00  2019   October      Tuesday   \n2         False  2010-02-08 21:52:01+00:00  2019   January      Tuesday   \n3         False  2010-02-08 21:52:01+00:00  2019   January    Wednesday   \n4         False  2010-02-08 21:52:01+00:00  2019  February      Tuesday   \n...         ...                        ...   ...       ...          ...   \n535022    False  2015-04-12 16:48:40+00:00  2019  December      Tuesday   \n535023    False  2012-09-04 16:26:43+00:00  2019  December      Tuesday   \n535024    False  2012-07-23 21:42:33+00:00  2019  December      Tuesday   \n535025    False  2014-04-05 18:53:06+00:00  2019  December      Tuesday   \n535026    False  2009-03-13 12:57:42+00:00  2019  December      Tuesday   \n\n                  day_phase week_idx  \n0       Middle of the night  2019-01  \n1                   Morning  2019-41  \n2       Middle of the night  2019-01  \n3                 Afternoon  2019-02  \n4                 Afternoon  2019-09  \n...                     ...      ...  \n535022                Night  2019-01  \n535023                Night  2019-01  \n535024                Night  2019-01  \n535025                Night  2019-01  \n535026                Night  2019-01  \n\n[535027 rows x 25 columns]",
      "text/html": "<div>\n<style scoped>\n    .dataframe tbody tr th:only-of-type {\n        vertical-align: middle;\n    }\n\n    .dataframe tbody tr th {\n        vertical-align: top;\n    }\n\n    .dataframe thead th {\n        text-align: right;\n    }\n</style>\n<table border=\"1\" class=\"dataframe\">\n  <thead>\n    <tr style=\"text-align: right;\">\n      <th></th>\n      <th>index</th>\n      <th>tweet_id</th>\n      <th>text</th>\n      <th>timestamp</th>\n      <th>user_id</th>\n      <th>like_count</th>\n      <th>retweet_count</th>\n      <th>quote_count</th>\n      <th>reply_count</th>\n      <th>reach</th>\n      <th>...</th>\n      <th>followers</th>\n      <th>following</th>\n      <th>tweet_count</th>\n      <th>verified</th>\n      <th>created_at</th>\n      <th>year</th>\n      <th>month</th>\n      <th>day_of_week</th>\n      <th>day_phase</th>\n      <th>week_idx</th>\n    </tr>\n  </thead>\n  <tbody>\n    <tr>\n      <th>0</th>\n      <td>0</td>\n      <td>1079904885246705665</td>\n      <td>I’ll never salt you down 😌</td>\n      <td>2019-01-01 00:59:22</td>\n      <td>497001647</td>\n      <td>0</td>\n      <td>0</td>\n      <td>0</td>\n      <td>0</td>\n      <td>1468</td>\n      <td>...</td>\n      <td>1468</td>\n      <td>1043</td>\n      <td>32941</td>\n      <td>False</td>\n      <td>2012-02-19 14:20:44+00:00</td>\n      <td>2019</td>\n      <td>January</td>\n      <td>Tuesday</td>\n      <td>Middle of the night</td>\n      <td>2019-01</td>\n    </tr>\n    <tr>\n      <th>1</th>\n      <td>1</td>\n      <td>1181478514601672704</td>\n      <td>I need to go to sleeeeeep</td>\n      <td>2019-10-08 07:56:43+00:00</td>\n      <td>497001647</td>\n      <td>0</td>\n      <td>0</td>\n      <td>0</td>\n      <td>0</td>\n      <td>1468</td>\n      <td>...</td>\n      <td>1468</td>\n      <td>1043</td>\n      <td>32941</td>\n      <td>False</td>\n      <td>2012-02-19 14:20:44+00:00</td>\n      <td>2019</td>\n      <td>October</td>\n      <td>Tuesday</td>\n      <td>Morning</td>\n      <td>2019-41</td>\n    </tr>\n    <tr>\n      <th>2</th>\n      <td>2</td>\n      <td>1079904884445581312</td>\n      <td>You know who you are; but some of you I’ve fol...</td>\n      <td>2019-01-01 00:59:22</td>\n      <td>112542289</td>\n      <td>2</td>\n      <td>1</td>\n      <td>0</td>\n      <td>0</td>\n      <td>2969</td>\n      <td>...</td>\n      <td>2969</td>\n      <td>2890</td>\n      <td>137517</td>\n      <td>False</td>\n      <td>2010-02-08 21:52:01+00:00</td>\n      <td>2019</td>\n      <td>January</td>\n      <td>Tuesday</td>\n      <td>Middle of the night</td>\n      <td>2019-01</td>\n    </tr>\n    <tr>\n      <th>3</th>\n      <td>3</td>\n      <td>1083000265597485056</td>\n      <td>Good morning frens. Don’t think about yesterda...</td>\n      <td>2019-01-09 13:59:19</td>\n      <td>112542289</td>\n      <td>5</td>\n      <td>1</td>\n      <td>0</td>\n      <td>0</td>\n      <td>2969</td>\n      <td>...</td>\n      <td>2969</td>\n      <td>2890</td>\n      <td>137517</td>\n      <td>False</td>\n      <td>2010-02-08 21:52:01+00:00</td>\n      <td>2019</td>\n      <td>January</td>\n      <td>Wednesday</td>\n      <td>Afternoon</td>\n      <td>2019-02</td>\n    </tr>\n    <tr>\n      <th>4</th>\n      <td>4</td>\n      <td>1100394993972404224</td>\n      <td>Have any of you seen that post about the salon...</td>\n      <td>2019-02-26 13:59:45+00:00</td>\n      <td>112542289</td>\n      <td>3</td>\n      <td>1</td>\n      <td>0</td>\n      <td>1</td>\n      <td>4897</td>\n      <td>...</td>\n      <td>2969</td>\n      <td>2890</td>\n      <td>137517</td>\n      <td>False</td>\n      <td>2010-02-08 21:52:01+00:00</td>\n      <td>2019</td>\n      <td>February</td>\n      <td>Tuesday</td>\n      <td>Afternoon</td>\n      <td>2019-09</td>\n    </tr>\n    <tr>\n      <th>...</th>\n      <td>...</td>\n      <td>...</td>\n      <td>...</td>\n      <td>...</td>\n      <td>...</td>\n      <td>...</td>\n      <td>...</td>\n      <td>...</td>\n      <td>...</td>\n      <td>...</td>\n      <td>...</td>\n      <td>...</td>\n      <td>...</td>\n      <td>...</td>\n      <td>...</td>\n      <td>...</td>\n      <td>...</td>\n      <td>...</td>\n      <td>...</td>\n      <td>...</td>\n      <td>...</td>\n    </tr>\n    <tr>\n      <th>535022</th>\n      <td>535022</td>\n      <td>1212131305615511554</td>\n      <td>It’s taken almost 20 years.... but the boys ap...</td>\n      <td>2019-12-31 21:59:58+00:00</td>\n      <td>3160522828</td>\n      <td>62</td>\n      <td>3</td>\n      <td>1</td>\n      <td>8</td>\n      <td>5864</td>\n      <td>...</td>\n      <td>5864</td>\n      <td>1781</td>\n      <td>24440</td>\n      <td>False</td>\n      <td>2015-04-12 16:48:40+00:00</td>\n      <td>2019</td>\n      <td>December</td>\n      <td>Tuesday</td>\n      <td>Night</td>\n      <td>2019-01</td>\n    </tr>\n    <tr>\n      <th>535023</th>\n      <td>535023</td>\n      <td>1212131306085244928</td>\n      <td>My boss is boss. https://t.co/aButy11GXA</td>\n      <td>2019-12-31 21:59:58+00:00</td>\n      <td>802746211</td>\n      <td>1</td>\n      <td>0</td>\n      <td>0</td>\n      <td>0</td>\n      <td>681</td>\n      <td>...</td>\n      <td>681</td>\n      <td>1347</td>\n      <td>63</td>\n      <td>False</td>\n      <td>2012-09-04 16:26:43+00:00</td>\n      <td>2019</td>\n      <td>December</td>\n      <td>Tuesday</td>\n      <td>Night</td>\n      <td>2019-01</td>\n    </tr>\n    <tr>\n      <th>535024</th>\n      <td>535024</td>\n      <td>1212131307162988544</td>\n      <td>Mood: https://t.co/d5iIJatvZO</td>\n      <td>2019-12-31 21:59:58+00:00</td>\n      <td>713174863</td>\n      <td>19</td>\n      <td>2</td>\n      <td>0</td>\n      <td>0</td>\n      <td>1455</td>\n      <td>...</td>\n      <td>1455</td>\n      <td>157</td>\n      <td>979</td>\n      <td>False</td>\n      <td>2012-07-23 21:42:33+00:00</td>\n      <td>2019</td>\n      <td>December</td>\n      <td>Tuesday</td>\n      <td>Night</td>\n      <td>2019-01</td>\n    </tr>\n    <tr>\n      <th>535025</th>\n      <td>535025</td>\n      <td>1212131308010430464</td>\n      <td>I’m watching Star Wars for the first time.</td>\n      <td>2019-12-31 21:59:58+00:00</td>\n      <td>2463021749</td>\n      <td>0</td>\n      <td>0</td>\n      <td>0</td>\n      <td>1</td>\n      <td>1171</td>\n      <td>...</td>\n      <td>1171</td>\n      <td>669</td>\n      <td>22251</td>\n      <td>False</td>\n      <td>2014-04-05 18:53:06+00:00</td>\n      <td>2019</td>\n      <td>December</td>\n      <td>Tuesday</td>\n      <td>Night</td>\n      <td>2019-01</td>\n    </tr>\n    <tr>\n      <th>535026</th>\n      <td>535026</td>\n      <td>1212131312892555264</td>\n      <td>Soon as I pulled up in Columbus @CoreyGrand ha...</td>\n      <td>2019-12-31 21:59:59+00:00</td>\n      <td>24166044</td>\n      <td>0</td>\n      <td>0</td>\n      <td>1</td>\n      <td>0</td>\n      <td>1761</td>\n      <td>...</td>\n      <td>1761</td>\n      <td>762</td>\n      <td>9681</td>\n      <td>False</td>\n      <td>2009-03-13 12:57:42+00:00</td>\n      <td>2019</td>\n      <td>December</td>\n      <td>Tuesday</td>\n      <td>Night</td>\n      <td>2019-01</td>\n    </tr>\n  </tbody>\n</table>\n<p>535027 rows × 25 columns</p>\n</div>"
     },
     "execution_count": 40,
     "metadata": {},
     "output_type": "execute_result"
    }
   ],
   "source": [
    "df['year'] = df['timestamp'].apply(lambda x: x.year)\n",
    "df['month'] = df['timestamp'].apply(lambda x: x.strftime('%B'))\n",
    "df['day_of_week'] = df['timestamp'].apply(lambda x: x.strftime('%A'))\n",
    "df['day_phase'] = df['timestamp'].apply(lambda x: get_day_phase(int(x.hour)))\n",
    "df['week_idx'] = df['timestamp'].apply(lambda x: '%s-%s' % (x.year, '{:02d}'.format(x.isocalendar()[1])))\n",
    "df"
   ],
   "metadata": {
    "collapsed": false,
    "pycharm": {
     "name": "#%%\n"
    }
   }
  },
  {
   "cell_type": "code",
   "execution_count": 41,
   "outputs": [
    {
     "data": {
      "text/plain": "   index             tweet_id  \\\n0      0  1079904885246705665   \n1      1  1181478514601672704   \n2      2  1079904884445581312   \n3      3  1083000265597485056   \n4      4  1100394993972404224   \n\n                                                text  \\\n0                         I’ll never salt you down 😌   \n1                          I need to go to sleeeeeep   \n2  You know who you are; but some of you I’ve fol...   \n3  Good morning frens. Don’t think about yesterda...   \n4  Have any of you seen that post about the salon...   \n\n                   timestamp    user_id  like_count  retweet_count  \\\n0        2019-01-01 00:59:22  497001647           0              0   \n1  2019-10-08 07:56:43+00:00  497001647           0              0   \n2        2019-01-01 00:59:22  112542289           2              1   \n3        2019-01-09 13:59:19  112542289           5              1   \n4  2019-02-26 13:59:45+00:00  112542289           3              1   \n\n   quote_count  reply_count  reach  ...     month day_of_week  \\\n0            0            0   1468  ...   January     Tuesday   \n1            0            0   1468  ...   October     Tuesday   \n2            0            0   2969  ...   January     Tuesday   \n3            0            0   2969  ...   January   Wednesday   \n4            0            1   4897  ...  February     Tuesday   \n\n             day_phase week_idx  day_phase_enc  day_of_week_enc  month_enc  \\\n0  Middle of the night  2019-01              2                5          4   \n1              Morning  2019-41              3                5         10   \n2  Middle of the night  2019-01              2                5          4   \n3            Afternoon  2019-02              0                6          4   \n4            Afternoon  2019-09              0                5          3   \n\n   year_enc  sentiment_enc verified_enc  \n0         0              2            0  \n1         0              1            0  \n2         0              2            0  \n3         0              1            0  \n4         0              2            0  \n\n[5 rows x 31 columns]",
      "text/html": "<div>\n<style scoped>\n    .dataframe tbody tr th:only-of-type {\n        vertical-align: middle;\n    }\n\n    .dataframe tbody tr th {\n        vertical-align: top;\n    }\n\n    .dataframe thead th {\n        text-align: right;\n    }\n</style>\n<table border=\"1\" class=\"dataframe\">\n  <thead>\n    <tr style=\"text-align: right;\">\n      <th></th>\n      <th>index</th>\n      <th>tweet_id</th>\n      <th>text</th>\n      <th>timestamp</th>\n      <th>user_id</th>\n      <th>like_count</th>\n      <th>retweet_count</th>\n      <th>quote_count</th>\n      <th>reply_count</th>\n      <th>reach</th>\n      <th>...</th>\n      <th>month</th>\n      <th>day_of_week</th>\n      <th>day_phase</th>\n      <th>week_idx</th>\n      <th>day_phase_enc</th>\n      <th>day_of_week_enc</th>\n      <th>month_enc</th>\n      <th>year_enc</th>\n      <th>sentiment_enc</th>\n      <th>verified_enc</th>\n    </tr>\n  </thead>\n  <tbody>\n    <tr>\n      <th>0</th>\n      <td>0</td>\n      <td>1079904885246705665</td>\n      <td>I’ll never salt you down 😌</td>\n      <td>2019-01-01 00:59:22</td>\n      <td>497001647</td>\n      <td>0</td>\n      <td>0</td>\n      <td>0</td>\n      <td>0</td>\n      <td>1468</td>\n      <td>...</td>\n      <td>January</td>\n      <td>Tuesday</td>\n      <td>Middle of the night</td>\n      <td>2019-01</td>\n      <td>2</td>\n      <td>5</td>\n      <td>4</td>\n      <td>0</td>\n      <td>2</td>\n      <td>0</td>\n    </tr>\n    <tr>\n      <th>1</th>\n      <td>1</td>\n      <td>1181478514601672704</td>\n      <td>I need to go to sleeeeeep</td>\n      <td>2019-10-08 07:56:43+00:00</td>\n      <td>497001647</td>\n      <td>0</td>\n      <td>0</td>\n      <td>0</td>\n      <td>0</td>\n      <td>1468</td>\n      <td>...</td>\n      <td>October</td>\n      <td>Tuesday</td>\n      <td>Morning</td>\n      <td>2019-41</td>\n      <td>3</td>\n      <td>5</td>\n      <td>10</td>\n      <td>0</td>\n      <td>1</td>\n      <td>0</td>\n    </tr>\n    <tr>\n      <th>2</th>\n      <td>2</td>\n      <td>1079904884445581312</td>\n      <td>You know who you are; but some of you I’ve fol...</td>\n      <td>2019-01-01 00:59:22</td>\n      <td>112542289</td>\n      <td>2</td>\n      <td>1</td>\n      <td>0</td>\n      <td>0</td>\n      <td>2969</td>\n      <td>...</td>\n      <td>January</td>\n      <td>Tuesday</td>\n      <td>Middle of the night</td>\n      <td>2019-01</td>\n      <td>2</td>\n      <td>5</td>\n      <td>4</td>\n      <td>0</td>\n      <td>2</td>\n      <td>0</td>\n    </tr>\n    <tr>\n      <th>3</th>\n      <td>3</td>\n      <td>1083000265597485056</td>\n      <td>Good morning frens. Don’t think about yesterda...</td>\n      <td>2019-01-09 13:59:19</td>\n      <td>112542289</td>\n      <td>5</td>\n      <td>1</td>\n      <td>0</td>\n      <td>0</td>\n      <td>2969</td>\n      <td>...</td>\n      <td>January</td>\n      <td>Wednesday</td>\n      <td>Afternoon</td>\n      <td>2019-02</td>\n      <td>0</td>\n      <td>6</td>\n      <td>4</td>\n      <td>0</td>\n      <td>1</td>\n      <td>0</td>\n    </tr>\n    <tr>\n      <th>4</th>\n      <td>4</td>\n      <td>1100394993972404224</td>\n      <td>Have any of you seen that post about the salon...</td>\n      <td>2019-02-26 13:59:45+00:00</td>\n      <td>112542289</td>\n      <td>3</td>\n      <td>1</td>\n      <td>0</td>\n      <td>1</td>\n      <td>4897</td>\n      <td>...</td>\n      <td>February</td>\n      <td>Tuesday</td>\n      <td>Afternoon</td>\n      <td>2019-09</td>\n      <td>0</td>\n      <td>5</td>\n      <td>3</td>\n      <td>0</td>\n      <td>2</td>\n      <td>0</td>\n    </tr>\n  </tbody>\n</table>\n<p>5 rows × 31 columns</p>\n</div>"
     },
     "execution_count": 41,
     "metadata": {},
     "output_type": "execute_result"
    }
   ],
   "source": [
    "cols_to_transform = ['day_phase', 'day_of_week', 'month', 'year', 'sentiment', 'verified']\n",
    "\n",
    "for col in cols_to_transform:\n",
    "    enc = LabelEncoder()\n",
    "    enc.fit(df[col])\n",
    "    df[col + '_enc'] = enc.transform(df[col])\n",
    "\n",
    "# Day phase: Dawn -> 1 | Morning -> 3 | Afternoon -> 0 | Evening -> 2 | Night -> 4\n",
    "\n",
    "# Days of the week:\n",
    "#   Monday -> 1 | Tuesday -> 5 | Wednesday -> 6\n",
    "#   Thursday -> 4 | Friday -> 0 | Saturday -> 2 | Sunday -> 3\n",
    "\n",
    "# Months\n",
    "#   January -> 4 | February -> 3 | March -> 7 | April -> 0\n",
    "#   May -> 8 | June -> 6 | July -> 5 | August -> 1\n",
    "#   September -> 11 | October -> 10 | November -> 9 | December -> 2\n",
    "\n",
    "# Years\n",
    "#   2020 -> 0 | 2021 -> 1\n",
    "\n",
    "# Sentiment\n",
    "#  Negative -> 0 | Neutral -> 1 | Positive -> 2\n",
    "\n",
    "# Verified\n",
    "#  False -> 0 | True -> 1\n",
    "\n",
    "df.head(5)"
   ],
   "metadata": {
    "collapsed": false,
    "pycharm": {
     "name": "#%%\n"
    }
   }
  },
  {
   "cell_type": "markdown",
   "source": [
    "### Calculate users seniority"
   ],
   "metadata": {
    "collapsed": false,
    "pycharm": {
     "name": "#%% md\n"
    }
   }
  },
  {
   "cell_type": "code",
   "execution_count": 42,
   "outputs": [],
   "source": [
    "df['created_at'] = pd.to_datetime(df['created_at'], utc=True).dt.strftime(\"%Y-%m-%d\")\n",
    "df['created_at'] = pd.to_datetime(df['created_at'])\n",
    "df['seniority'] = df['created_at'].apply(lambda x: relativedelta(datetime.datetime.now(), x).years)"
   ],
   "metadata": {
    "collapsed": false,
    "pycharm": {
     "name": "#%%\n"
    }
   }
  },
  {
   "cell_type": "code",
   "execution_count": 43,
   "outputs": [
    {
     "data": {
      "text/plain": "         index             tweet_id  \\\n0            0  1079904885246705665   \n1            1  1181478514601672704   \n2            2  1079904884445581312   \n3            3  1083000265597485056   \n4            4  1100394993972404224   \n...        ...                  ...   \n535022  535022  1212131305615511554   \n535023  535023  1212131306085244928   \n535024  535024  1212131307162988544   \n535025  535025  1212131308010430464   \n535026  535026  1212131312892555264   \n\n                                                     text  \\\n0                              I’ll never salt you down 😌   \n1                               I need to go to sleeeeeep   \n2       You know who you are; but some of you I’ve fol...   \n3       Good morning frens. Don’t think about yesterda...   \n4       Have any of you seen that post about the salon...   \n...                                                   ...   \n535022  It’s taken almost 20 years.... but the boys ap...   \n535023           My boss is boss. https://t.co/aButy11GXA   \n535024                      Mood: https://t.co/d5iIJatvZO   \n535025         I’m watching Star Wars for the first time.   \n535026  Soon as I pulled up in Columbus @CoreyGrand ha...   \n\n                        timestamp     user_id  like_count  retweet_count  \\\n0             2019-01-01 00:59:22   497001647           0              0   \n1       2019-10-08 07:56:43+00:00   497001647           0              0   \n2             2019-01-01 00:59:22   112542289           2              1   \n3             2019-01-09 13:59:19   112542289           5              1   \n4       2019-02-26 13:59:45+00:00   112542289           3              1   \n...                           ...         ...         ...            ...   \n535022  2019-12-31 21:59:58+00:00  3160522828          62              3   \n535023  2019-12-31 21:59:58+00:00   802746211           1              0   \n535024  2019-12-31 21:59:58+00:00   713174863          19              2   \n535025  2019-12-31 21:59:58+00:00  2463021749           0              0   \n535026  2019-12-31 21:59:59+00:00    24166044           0              0   \n\n        quote_count  reply_count  reach  ... day_of_week            day_phase  \\\n0                 0            0   1468  ...     Tuesday  Middle of the night   \n1                 0            0   1468  ...     Tuesday              Morning   \n2                 0            0   2969  ...     Tuesday  Middle of the night   \n3                 0            0   2969  ...   Wednesday            Afternoon   \n4                 0            1   4897  ...     Tuesday            Afternoon   \n...             ...          ...    ...  ...         ...                  ...   \n535022            1            8   5864  ...     Tuesday                Night   \n535023            0            0    681  ...     Tuesday                Night   \n535024            0            0   1455  ...     Tuesday                Night   \n535025            0            1   1171  ...     Tuesday                Night   \n535026            1            0   1761  ...     Tuesday                Night   \n\n       week_idx day_phase_enc  day_of_week_enc  month_enc  year_enc  \\\n0       2019-01             2                5          4         0   \n1       2019-41             3                5         10         0   \n2       2019-01             2                5          4         0   \n3       2019-02             0                6          4         0   \n4       2019-09             0                5          3         0   \n...         ...           ...              ...        ...       ...   \n535022  2019-01             4                5          2         0   \n535023  2019-01             4                5          2         0   \n535024  2019-01             4                5          2         0   \n535025  2019-01             4                5          2         0   \n535026  2019-01             4                5          2         0   \n\n        sentiment_enc  verified_enc seniority  \n0                   2             0        10  \n1                   1             0        10  \n2                   2             0        12  \n3                   1             0        12  \n4                   2             0        12  \n...               ...           ...       ...  \n535022              2             0         7  \n535023              1             0         9  \n535024              1             0         9  \n535025              0             0         8  \n535026              1             0        13  \n\n[535027 rows x 32 columns]",
      "text/html": "<div>\n<style scoped>\n    .dataframe tbody tr th:only-of-type {\n        vertical-align: middle;\n    }\n\n    .dataframe tbody tr th {\n        vertical-align: top;\n    }\n\n    .dataframe thead th {\n        text-align: right;\n    }\n</style>\n<table border=\"1\" class=\"dataframe\">\n  <thead>\n    <tr style=\"text-align: right;\">\n      <th></th>\n      <th>index</th>\n      <th>tweet_id</th>\n      <th>text</th>\n      <th>timestamp</th>\n      <th>user_id</th>\n      <th>like_count</th>\n      <th>retweet_count</th>\n      <th>quote_count</th>\n      <th>reply_count</th>\n      <th>reach</th>\n      <th>...</th>\n      <th>day_of_week</th>\n      <th>day_phase</th>\n      <th>week_idx</th>\n      <th>day_phase_enc</th>\n      <th>day_of_week_enc</th>\n      <th>month_enc</th>\n      <th>year_enc</th>\n      <th>sentiment_enc</th>\n      <th>verified_enc</th>\n      <th>seniority</th>\n    </tr>\n  </thead>\n  <tbody>\n    <tr>\n      <th>0</th>\n      <td>0</td>\n      <td>1079904885246705665</td>\n      <td>I’ll never salt you down 😌</td>\n      <td>2019-01-01 00:59:22</td>\n      <td>497001647</td>\n      <td>0</td>\n      <td>0</td>\n      <td>0</td>\n      <td>0</td>\n      <td>1468</td>\n      <td>...</td>\n      <td>Tuesday</td>\n      <td>Middle of the night</td>\n      <td>2019-01</td>\n      <td>2</td>\n      <td>5</td>\n      <td>4</td>\n      <td>0</td>\n      <td>2</td>\n      <td>0</td>\n      <td>10</td>\n    </tr>\n    <tr>\n      <th>1</th>\n      <td>1</td>\n      <td>1181478514601672704</td>\n      <td>I need to go to sleeeeeep</td>\n      <td>2019-10-08 07:56:43+00:00</td>\n      <td>497001647</td>\n      <td>0</td>\n      <td>0</td>\n      <td>0</td>\n      <td>0</td>\n      <td>1468</td>\n      <td>...</td>\n      <td>Tuesday</td>\n      <td>Morning</td>\n      <td>2019-41</td>\n      <td>3</td>\n      <td>5</td>\n      <td>10</td>\n      <td>0</td>\n      <td>1</td>\n      <td>0</td>\n      <td>10</td>\n    </tr>\n    <tr>\n      <th>2</th>\n      <td>2</td>\n      <td>1079904884445581312</td>\n      <td>You know who you are; but some of you I’ve fol...</td>\n      <td>2019-01-01 00:59:22</td>\n      <td>112542289</td>\n      <td>2</td>\n      <td>1</td>\n      <td>0</td>\n      <td>0</td>\n      <td>2969</td>\n      <td>...</td>\n      <td>Tuesday</td>\n      <td>Middle of the night</td>\n      <td>2019-01</td>\n      <td>2</td>\n      <td>5</td>\n      <td>4</td>\n      <td>0</td>\n      <td>2</td>\n      <td>0</td>\n      <td>12</td>\n    </tr>\n    <tr>\n      <th>3</th>\n      <td>3</td>\n      <td>1083000265597485056</td>\n      <td>Good morning frens. Don’t think about yesterda...</td>\n      <td>2019-01-09 13:59:19</td>\n      <td>112542289</td>\n      <td>5</td>\n      <td>1</td>\n      <td>0</td>\n      <td>0</td>\n      <td>2969</td>\n      <td>...</td>\n      <td>Wednesday</td>\n      <td>Afternoon</td>\n      <td>2019-02</td>\n      <td>0</td>\n      <td>6</td>\n      <td>4</td>\n      <td>0</td>\n      <td>1</td>\n      <td>0</td>\n      <td>12</td>\n    </tr>\n    <tr>\n      <th>4</th>\n      <td>4</td>\n      <td>1100394993972404224</td>\n      <td>Have any of you seen that post about the salon...</td>\n      <td>2019-02-26 13:59:45+00:00</td>\n      <td>112542289</td>\n      <td>3</td>\n      <td>1</td>\n      <td>0</td>\n      <td>1</td>\n      <td>4897</td>\n      <td>...</td>\n      <td>Tuesday</td>\n      <td>Afternoon</td>\n      <td>2019-09</td>\n      <td>0</td>\n      <td>5</td>\n      <td>3</td>\n      <td>0</td>\n      <td>2</td>\n      <td>0</td>\n      <td>12</td>\n    </tr>\n    <tr>\n      <th>...</th>\n      <td>...</td>\n      <td>...</td>\n      <td>...</td>\n      <td>...</td>\n      <td>...</td>\n      <td>...</td>\n      <td>...</td>\n      <td>...</td>\n      <td>...</td>\n      <td>...</td>\n      <td>...</td>\n      <td>...</td>\n      <td>...</td>\n      <td>...</td>\n      <td>...</td>\n      <td>...</td>\n      <td>...</td>\n      <td>...</td>\n      <td>...</td>\n      <td>...</td>\n      <td>...</td>\n    </tr>\n    <tr>\n      <th>535022</th>\n      <td>535022</td>\n      <td>1212131305615511554</td>\n      <td>It’s taken almost 20 years.... but the boys ap...</td>\n      <td>2019-12-31 21:59:58+00:00</td>\n      <td>3160522828</td>\n      <td>62</td>\n      <td>3</td>\n      <td>1</td>\n      <td>8</td>\n      <td>5864</td>\n      <td>...</td>\n      <td>Tuesday</td>\n      <td>Night</td>\n      <td>2019-01</td>\n      <td>4</td>\n      <td>5</td>\n      <td>2</td>\n      <td>0</td>\n      <td>2</td>\n      <td>0</td>\n      <td>7</td>\n    </tr>\n    <tr>\n      <th>535023</th>\n      <td>535023</td>\n      <td>1212131306085244928</td>\n      <td>My boss is boss. https://t.co/aButy11GXA</td>\n      <td>2019-12-31 21:59:58+00:00</td>\n      <td>802746211</td>\n      <td>1</td>\n      <td>0</td>\n      <td>0</td>\n      <td>0</td>\n      <td>681</td>\n      <td>...</td>\n      <td>Tuesday</td>\n      <td>Night</td>\n      <td>2019-01</td>\n      <td>4</td>\n      <td>5</td>\n      <td>2</td>\n      <td>0</td>\n      <td>1</td>\n      <td>0</td>\n      <td>9</td>\n    </tr>\n    <tr>\n      <th>535024</th>\n      <td>535024</td>\n      <td>1212131307162988544</td>\n      <td>Mood: https://t.co/d5iIJatvZO</td>\n      <td>2019-12-31 21:59:58+00:00</td>\n      <td>713174863</td>\n      <td>19</td>\n      <td>2</td>\n      <td>0</td>\n      <td>0</td>\n      <td>1455</td>\n      <td>...</td>\n      <td>Tuesday</td>\n      <td>Night</td>\n      <td>2019-01</td>\n      <td>4</td>\n      <td>5</td>\n      <td>2</td>\n      <td>0</td>\n      <td>1</td>\n      <td>0</td>\n      <td>9</td>\n    </tr>\n    <tr>\n      <th>535025</th>\n      <td>535025</td>\n      <td>1212131308010430464</td>\n      <td>I’m watching Star Wars for the first time.</td>\n      <td>2019-12-31 21:59:58+00:00</td>\n      <td>2463021749</td>\n      <td>0</td>\n      <td>0</td>\n      <td>0</td>\n      <td>1</td>\n      <td>1171</td>\n      <td>...</td>\n      <td>Tuesday</td>\n      <td>Night</td>\n      <td>2019-01</td>\n      <td>4</td>\n      <td>5</td>\n      <td>2</td>\n      <td>0</td>\n      <td>0</td>\n      <td>0</td>\n      <td>8</td>\n    </tr>\n    <tr>\n      <th>535026</th>\n      <td>535026</td>\n      <td>1212131312892555264</td>\n      <td>Soon as I pulled up in Columbus @CoreyGrand ha...</td>\n      <td>2019-12-31 21:59:59+00:00</td>\n      <td>24166044</td>\n      <td>0</td>\n      <td>0</td>\n      <td>1</td>\n      <td>0</td>\n      <td>1761</td>\n      <td>...</td>\n      <td>Tuesday</td>\n      <td>Night</td>\n      <td>2019-01</td>\n      <td>4</td>\n      <td>5</td>\n      <td>2</td>\n      <td>0</td>\n      <td>1</td>\n      <td>0</td>\n      <td>13</td>\n    </tr>\n  </tbody>\n</table>\n<p>535027 rows × 32 columns</p>\n</div>"
     },
     "execution_count": 43,
     "metadata": {},
     "output_type": "execute_result"
    }
   ],
   "source": [
    "df"
   ],
   "metadata": {
    "collapsed": false,
    "pycharm": {
     "name": "#%%\n"
    }
   }
  },
  {
   "cell_type": "markdown",
   "source": [
    "## Outliers"
   ],
   "metadata": {
    "collapsed": false,
    "pycharm": {
     "name": "#%% md\n"
    }
   }
  },
  {
   "cell_type": "code",
   "execution_count": 44,
   "outputs": [],
   "source": [
    "def boxplots(df, cols):\n",
    "    fig, axes = plt.subplots(2, math.ceil(len(cols) / 2), figsize=(28, 15))\n",
    "    for ax, feat in zip(axes.flatten(), cols):\n",
    "        sns.boxplot(x=df[feat], ax=ax, color='steelblue')\n",
    "    title = \"Variables' Box Plots\"\n",
    "    plt.suptitle(title, y=0.95, fontsize=20)\n",
    "    plt.show()"
   ],
   "metadata": {
    "collapsed": false,
    "pycharm": {
     "name": "#%%\n"
    }
   }
  },
  {
   "cell_type": "code",
   "execution_count": 45,
   "outputs": [],
   "source": [
    "def outliers_removal(df, outliers_filter):\n",
    "    df_no_outliers = df[outliers_filter].copy()\n",
    "    print('Percentage of data kept after removing outliers:', np.round(df_no_outliers.shape[0] / df.shape[0], 4) * 100,\n",
    "          '%')\n",
    "    print('Percentage of data removed:', np.round((1 - (df_no_outliers.shape[0] / df.shape[0])) * 100, 4), '%')\n",
    "    print(\"Size after outlier removal:\", df_no_outliers.shape[0])\n",
    "    df_rets = df[df['retweet_count'] > 0]\n",
    "    df_rets_out = df_no_outliers[df_no_outliers['retweet_count'] > 0]\n",
    "    print(\"N. of tweets with atleast 1 retweet:\", df_no_outliers[df_no_outliers['retweet_count'] > 0].shape[0])\n",
    "    print('Percentage of tweets with atleast 1 retweet removed:',\n",
    "          np.round((1 - (df_rets_out.shape[0] / df_rets.shape[0])) * 100, 4), '%')\n",
    "    return df_no_outliers"
   ],
   "metadata": {
    "collapsed": false,
    "pycharm": {
     "name": "#%%\n"
    }
   }
  },
  {
   "cell_type": "code",
   "execution_count": 46,
   "outputs": [],
   "source": [
    "var_outliers = ['like_count', 'retweet_count', 'quote_count', 'reply_count', 'reach', 'sentiment_enc', 'day_phase_enc', 'day_of_week_enc', 'month_enc', 'popularity', 'followers', 'following', 'tweet_count', 'verified_enc', 'seniority']\n",
    "var_outliers_imp = ['like_count', 'retweet_count', 'followers', 'following', 'seniority']"
   ],
   "metadata": {
    "collapsed": false,
    "pycharm": {
     "name": "#%%\n"
    }
   }
  },
  {
   "cell_type": "code",
   "execution_count": 47,
   "outputs": [
    {
     "data": {
      "text/plain": "<Figure size 2016x1080 with 6 Axes>",
      "image/png": "[encoded data removed]"
     },
     "metadata": {
      "needs_background": "light"
     },
     "output_type": "display_data"
    }
   ],
   "source": [
    "boxplots(df, var_outliers_imp)"
   ],
   "metadata": {
    "collapsed": false,
    "pycharm": {
     "name": "#%%\n"
    }
   }
  },
  {
   "cell_type": "code",
   "execution_count": 48,
   "outputs": [
    {
     "name": "stdout",
     "output_type": "stream",
     "text": [
      "Percentage of data kept after removing outliers: 94.8 %\n",
      "Percentage of data removed: 5.2035 %\n",
      "Size after outlier removal: 507187\n",
      "N. of tweets with atleast 1 retweet: 80159\n",
      "Percentage of tweets with atleast 1 retweet removed: 14.2116 %\n"
     ]
    },
    {
     "data": {
      "text/plain": "         index             tweet_id  \\\n0            0  1079904885246705665   \n1            1  1181478514601672704   \n2            2  1079904884445581312   \n3            3  1083000265597485056   \n4            4  1100394993972404224   \n...        ...                  ...   \n535022  535022  1212131305615511554   \n535023  535023  1212131306085244928   \n535024  535024  1212131307162988544   \n535025  535025  1212131308010430464   \n535026  535026  1212131312892555264   \n\n                                                     text  \\\n0                              I’ll never salt you down 😌   \n1                               I need to go to sleeeeeep   \n2       You know who you are; but some of you I’ve fol...   \n3       Good morning frens. Don’t think about yesterda...   \n4       Have any of you seen that post about the salon...   \n...                                                   ...   \n535022  It’s taken almost 20 years.... but the boys ap...   \n535023           My boss is boss. https://t.co/aButy11GXA   \n535024                      Mood: https://t.co/d5iIJatvZO   \n535025         I’m watching Star Wars for the first time.   \n535026  Soon as I pulled up in Columbus @CoreyGrand ha...   \n\n                        timestamp     user_id  like_count  retweet_count  \\\n0             2019-01-01 00:59:22   497001647           0              0   \n1       2019-10-08 07:56:43+00:00   497001647           0              0   \n2             2019-01-01 00:59:22   112542289           2              1   \n3             2019-01-09 13:59:19   112542289           5              1   \n4       2019-02-26 13:59:45+00:00   112542289           3              1   \n...                           ...         ...         ...            ...   \n535022  2019-12-31 21:59:58+00:00  3160522828          62              3   \n535023  2019-12-31 21:59:58+00:00   802746211           1              0   \n535024  2019-12-31 21:59:58+00:00   713174863          19              2   \n535025  2019-12-31 21:59:58+00:00  2463021749           0              0   \n535026  2019-12-31 21:59:59+00:00    24166044           0              0   \n\n        quote_count  reply_count  reach  ... day_of_week            day_phase  \\\n0                 0            0   1468  ...     Tuesday  Middle of the night   \n1                 0            0   1468  ...     Tuesday              Morning   \n2                 0            0   2969  ...     Tuesday  Middle of the night   \n3                 0            0   2969  ...   Wednesday            Afternoon   \n4                 0            1   4897  ...     Tuesday            Afternoon   \n...             ...          ...    ...  ...         ...                  ...   \n535022            1            8   5864  ...     Tuesday                Night   \n535023            0            0    681  ...     Tuesday                Night   \n535024            0            0   1455  ...     Tuesday                Night   \n535025            0            1   1171  ...     Tuesday                Night   \n535026            1            0   1761  ...     Tuesday                Night   \n\n       week_idx day_phase_enc  day_of_week_enc  month_enc  year_enc  \\\n0       2019-01             2                5          4         0   \n1       2019-41             3                5         10         0   \n2       2019-01             2                5          4         0   \n3       2019-02             0                6          4         0   \n4       2019-09             0                5          3         0   \n...         ...           ...              ...        ...       ...   \n535022  2019-01             4                5          2         0   \n535023  2019-01             4                5          2         0   \n535024  2019-01             4                5          2         0   \n535025  2019-01             4                5          2         0   \n535026  2019-01             4                5          2         0   \n\n        sentiment_enc  verified_enc seniority  \n0                   2             0        10  \n1                   1             0        10  \n2                   2             0        12  \n3                   1             0        12  \n4                   2             0        12  \n...               ...           ...       ...  \n535022              2             0         7  \n535023              1             0         9  \n535024              1             0         9  \n535025              0             0         8  \n535026              1             0        13  \n\n[507187 rows x 32 columns]",
      "text/html": "<div>\n<style scoped>\n    .dataframe tbody tr th:only-of-type {\n        vertical-align: middle;\n    }\n\n    .dataframe tbody tr th {\n        vertical-align: top;\n    }\n\n    .dataframe thead th {\n        text-align: right;\n    }\n</style>\n<table border=\"1\" class=\"dataframe\">\n  <thead>\n    <tr style=\"text-align: right;\">\n      <th></th>\n      <th>index</th>\n      <th>tweet_id</th>\n      <th>text</th>\n      <th>timestamp</th>\n      <th>user_id</th>\n      <th>like_count</th>\n      <th>retweet_count</th>\n      <th>quote_count</th>\n      <th>reply_count</th>\n      <th>reach</th>\n      <th>...</th>\n      <th>day_of_week</th>\n      <th>day_phase</th>\n      <th>week_idx</th>\n      <th>day_phase_enc</th>\n      <th>day_of_week_enc</th>\n      <th>month_enc</th>\n      <th>year_enc</th>\n      <th>sentiment_enc</th>\n      <th>verified_enc</th>\n      <th>seniority</th>\n    </tr>\n  </thead>\n  <tbody>\n    <tr>\n      <th>0</th>\n      <td>0</td>\n      <td>1079904885246705665</td>\n      <td>I’ll never salt you down 😌</td>\n      <td>2019-01-01 00:59:22</td>\n      <td>497001647</td>\n      <td>0</td>\n      <td>0</td>\n      <td>0</td>\n      <td>0</td>\n      <td>1468</td>\n      <td>...</td>\n      <td>Tuesday</td>\n      <td>Middle of the night</td>\n      <td>2019-01</td>\n      <td>2</td>\n      <td>5</td>\n      <td>4</td>\n      <td>0</td>\n      <td>2</td>\n      <td>0</td>\n      <td>10</td>\n    </tr>\n    <tr>\n      <th>1</th>\n      <td>1</td>\n      <td>1181478514601672704</td>\n      <td>I need to go to sleeeeeep</td>\n      <td>2019-10-08 07:56:43+00:00</td>\n      <td>497001647</td>\n      <td>0</td>\n      <td>0</td>\n      <td>0</td>\n      <td>0</td>\n      <td>1468</td>\n      <td>...</td>\n      <td>Tuesday</td>\n      <td>Morning</td>\n      <td>2019-41</td>\n      <td>3</td>\n      <td>5</td>\n      <td>10</td>\n      <td>0</td>\n      <td>1</td>\n      <td>0</td>\n      <td>10</td>\n    </tr>\n    <tr>\n      <th>2</th>\n      <td>2</td>\n      <td>1079904884445581312</td>\n      <td>You know who you are; but some of you I’ve fol...</td>\n      <td>2019-01-01 00:59:22</td>\n      <td>112542289</td>\n      <td>2</td>\n      <td>1</td>\n      <td>0</td>\n      <td>0</td>\n      <td>2969</td>\n      <td>...</td>\n      <td>Tuesday</td>\n      <td>Middle of the night</td>\n      <td>2019-01</td>\n      <td>2</td>\n      <td>5</td>\n      <td>4</td>\n      <td>0</td>\n      <td>2</td>\n      <td>0</td>\n      <td>12</td>\n    </tr>\n    <tr>\n      <th>3</th>\n      <td>3</td>\n      <td>1083000265597485056</td>\n      <td>Good morning frens. Don’t think about yesterda...</td>\n      <td>2019-01-09 13:59:19</td>\n      <td>112542289</td>\n      <td>5</td>\n      <td>1</td>\n      <td>0</td>\n      <td>0</td>\n      <td>2969</td>\n      <td>...</td>\n      <td>Wednesday</td>\n      <td>Afternoon</td>\n      <td>2019-02</td>\n      <td>0</td>\n      <td>6</td>\n      <td>4</td>\n      <td>0</td>\n      <td>1</td>\n      <td>0</td>\n      <td>12</td>\n    </tr>\n    <tr>\n      <th>4</th>\n      <td>4</td>\n      <td>1100394993972404224</td>\n      <td>Have any of you seen that post about the salon...</td>\n      <td>2019-02-26 13:59:45+00:00</td>\n      <td>112542289</td>\n      <td>3</td>\n      <td>1</td>\n      <td>0</td>\n      <td>1</td>\n      <td>4897</td>\n      <td>...</td>\n      <td>Tuesday</td>\n      <td>Afternoon</td>\n      <td>2019-09</td>\n      <td>0</td>\n      <td>5</td>\n      <td>3</td>\n      <td>0</td>\n      <td>2</td>\n      <td>0</td>\n      <td>12</td>\n    </tr>\n    <tr>\n      <th>...</th>\n      <td>...</td>\n      <td>...</td>\n      <td>...</td>\n      <td>...</td>\n      <td>...</td>\n      <td>...</td>\n      <td>...</td>\n      <td>...</td>\n      <td>...</td>\n      <td>...</td>\n      <td>...</td>\n      <td>...</td>\n      <td>...</td>\n      <td>...</td>\n      <td>...</td>\n      <td>...</td>\n      <td>...</td>\n      <td>...</td>\n      <td>...</td>\n      <td>...</td>\n      <td>...</td>\n    </tr>\n    <tr>\n      <th>535022</th>\n      <td>535022</td>\n      <td>1212131305615511554</td>\n      <td>It’s taken almost 20 years.... but the boys ap...</td>\n      <td>2019-12-31 21:59:58+00:00</td>\n      <td>3160522828</td>\n      <td>62</td>\n      <td>3</td>\n      <td>1</td>\n      <td>8</td>\n      <td>5864</td>\n      <td>...</td>\n      <td>Tuesday</td>\n      <td>Night</td>\n      <td>2019-01</td>\n      <td>4</td>\n      <td>5</td>\n      <td>2</td>\n      <td>0</td>\n      <td>2</td>\n      <td>0</td>\n      <td>7</td>\n    </tr>\n    <tr>\n      <th>535023</th>\n      <td>535023</td>\n      <td>1212131306085244928</td>\n      <td>My boss is boss. https://t.co/aButy11GXA</td>\n      <td>2019-12-31 21:59:58+00:00</td>\n      <td>802746211</td>\n      <td>1</td>\n      <td>0</td>\n      <td>0</td>\n      <td>0</td>\n      <td>681</td>\n      <td>...</td>\n      <td>Tuesday</td>\n      <td>Night</td>\n      <td>2019-01</td>\n      <td>4</td>\n      <td>5</td>\n      <td>2</td>\n      <td>0</td>\n      <td>1</td>\n      <td>0</td>\n      <td>9</td>\n    </tr>\n    <tr>\n      <th>535024</th>\n      <td>535024</td>\n      <td>1212131307162988544</td>\n      <td>Mood: https://t.co/d5iIJatvZO</td>\n      <td>2019-12-31 21:59:58+00:00</td>\n      <td>713174863</td>\n      <td>19</td>\n      <td>2</td>\n      <td>0</td>\n      <td>0</td>\n      <td>1455</td>\n      <td>...</td>\n      <td>Tuesday</td>\n      <td>Night</td>\n      <td>2019-01</td>\n      <td>4</td>\n      <td>5</td>\n      <td>2</td>\n      <td>0</td>\n      <td>1</td>\n      <td>0</td>\n      <td>9</td>\n    </tr>\n    <tr>\n      <th>535025</th>\n      <td>535025</td>\n      <td>1212131308010430464</td>\n      <td>I’m watching Star Wars for the first time.</td>\n      <td>2019-12-31 21:59:58+00:00</td>\n      <td>2463021749</td>\n      <td>0</td>\n      <td>0</td>\n      <td>0</td>\n      <td>1</td>\n      <td>1171</td>\n      <td>...</td>\n      <td>Tuesday</td>\n      <td>Night</td>\n      <td>2019-01</td>\n      <td>4</td>\n      <td>5</td>\n      <td>2</td>\n      <td>0</td>\n      <td>0</td>\n      <td>0</td>\n      <td>8</td>\n    </tr>\n    <tr>\n      <th>535026</th>\n      <td>535026</td>\n      <td>1212131312892555264</td>\n      <td>Soon as I pulled up in Columbus @CoreyGrand ha...</td>\n      <td>2019-12-31 21:59:59+00:00</td>\n      <td>24166044</td>\n      <td>0</td>\n      <td>0</td>\n      <td>1</td>\n      <td>0</td>\n      <td>1761</td>\n      <td>...</td>\n      <td>Tuesday</td>\n      <td>Night</td>\n      <td>2019-01</td>\n      <td>4</td>\n      <td>5</td>\n      <td>2</td>\n      <td>0</td>\n      <td>1</td>\n      <td>0</td>\n      <td>13</td>\n    </tr>\n  </tbody>\n</table>\n<p>507187 rows × 32 columns</p>\n</div>"
     },
     "execution_count": 48,
     "metadata": {},
     "output_type": "execute_result"
    }
   ],
   "source": [
    "outliers_filter = (((df['followers'] < 10000) & (df['following'] < 70000)) & ((df['retweet_count'] < 100) & (df['like_count'] < 500) & (df['seniority'] < 17)))\n",
    "outliers_removal(df, outliers_filter)"
   ],
   "metadata": {
    "collapsed": false,
    "pycharm": {
     "name": "#%%\n"
    }
   }
  },
  {
   "cell_type": "code",
   "execution_count": 49,
   "outputs": [
    {
     "name": "stdout",
     "output_type": "stream",
     "text": [
      "Percentage of data kept after removing outliers: 99.44 %\n",
      "Percentage of data removed: 0.5585 %\n",
      "Size after outlier removal: 532039\n",
      "N. of tweets with atleast 1 retweet: 91021\n",
      "Percentage of tweets with atleast 1 retweet removed: 2.5867 %\n"
     ]
    },
    {
     "data": {
      "text/plain": "         index             tweet_id  \\\n0            0  1079904885246705665   \n1            1  1181478514601672704   \n2            2  1079904884445581312   \n3            3  1083000265597485056   \n4            4  1100394993972404224   \n...        ...                  ...   \n535022  535022  1212131305615511554   \n535023  535023  1212131306085244928   \n535024  535024  1212131307162988544   \n535025  535025  1212131308010430464   \n535026  535026  1212131312892555264   \n\n                                                     text  \\\n0                              I’ll never salt you down 😌   \n1                               I need to go to sleeeeeep   \n2       You know who you are; but some of you I’ve fol...   \n3       Good morning frens. Don’t think about yesterda...   \n4       Have any of you seen that post about the salon...   \n...                                                   ...   \n535022  It’s taken almost 20 years.... but the boys ap...   \n535023           My boss is boss. https://t.co/aButy11GXA   \n535024                      Mood: https://t.co/d5iIJatvZO   \n535025         I’m watching Star Wars for the first time.   \n535026  Soon as I pulled up in Columbus @CoreyGrand ha...   \n\n                        timestamp     user_id  like_count  retweet_count  \\\n0             2019-01-01 00:59:22   497001647           0              0   \n1       2019-10-08 07:56:43+00:00   497001647           0              0   \n2             2019-01-01 00:59:22   112542289           2              1   \n3             2019-01-09 13:59:19   112542289           5              1   \n4       2019-02-26 13:59:45+00:00   112542289           3              1   \n...                           ...         ...         ...            ...   \n535022  2019-12-31 21:59:58+00:00  3160522828          62              3   \n535023  2019-12-31 21:59:58+00:00   802746211           1              0   \n535024  2019-12-31 21:59:58+00:00   713174863          19              2   \n535025  2019-12-31 21:59:58+00:00  2463021749           0              0   \n535026  2019-12-31 21:59:59+00:00    24166044           0              0   \n\n        quote_count  reply_count  reach  ... day_of_week            day_phase  \\\n0                 0            0   1468  ...     Tuesday  Middle of the night   \n1                 0            0   1468  ...     Tuesday              Morning   \n2                 0            0   2969  ...     Tuesday  Middle of the night   \n3                 0            0   2969  ...   Wednesday            Afternoon   \n4                 0            1   4897  ...     Tuesday            Afternoon   \n...             ...          ...    ...  ...         ...                  ...   \n535022            1            8   5864  ...     Tuesday                Night   \n535023            0            0    681  ...     Tuesday                Night   \n535024            0            0   1455  ...     Tuesday                Night   \n535025            0            1   1171  ...     Tuesday                Night   \n535026            1            0   1761  ...     Tuesday                Night   \n\n       week_idx day_phase_enc  day_of_week_enc  month_enc  year_enc  \\\n0       2019-01             2                5          4         0   \n1       2019-41             3                5         10         0   \n2       2019-01             2                5          4         0   \n3       2019-02             0                6          4         0   \n4       2019-09             0                5          3         0   \n...         ...           ...              ...        ...       ...   \n535022  2019-01             4                5          2         0   \n535023  2019-01             4                5          2         0   \n535024  2019-01             4                5          2         0   \n535025  2019-01             4                5          2         0   \n535026  2019-01             4                5          2         0   \n\n        sentiment_enc  verified_enc seniority  \n0                   2             0        10  \n1                   1             0        10  \n2                   2             0        12  \n3                   1             0        12  \n4                   2             0        12  \n...               ...           ...       ...  \n535022              2             0         7  \n535023              1             0         9  \n535024              1             0         9  \n535025              0             0         8  \n535026              1             0        13  \n\n[532039 rows x 32 columns]",
      "text/html": "<div>\n<style scoped>\n    .dataframe tbody tr th:only-of-type {\n        vertical-align: middle;\n    }\n\n    .dataframe tbody tr th {\n        vertical-align: top;\n    }\n\n    .dataframe thead th {\n        text-align: right;\n    }\n</style>\n<table border=\"1\" class=\"dataframe\">\n  <thead>\n    <tr style=\"text-align: right;\">\n      <th></th>\n      <th>index</th>\n      <th>tweet_id</th>\n      <th>text</th>\n      <th>timestamp</th>\n      <th>user_id</th>\n      <th>like_count</th>\n      <th>retweet_count</th>\n      <th>quote_count</th>\n      <th>reply_count</th>\n      <th>reach</th>\n      <th>...</th>\n      <th>day_of_week</th>\n      <th>day_phase</th>\n      <th>week_idx</th>\n      <th>day_phase_enc</th>\n      <th>day_of_week_enc</th>\n      <th>month_enc</th>\n      <th>year_enc</th>\n      <th>sentiment_enc</th>\n      <th>verified_enc</th>\n      <th>seniority</th>\n    </tr>\n  </thead>\n  <tbody>\n    <tr>\n      <th>0</th>\n      <td>0</td>\n      <td>1079904885246705665</td>\n      <td>I’ll never salt you down 😌</td>\n      <td>2019-01-01 00:59:22</td>\n      <td>497001647</td>\n      <td>0</td>\n      <td>0</td>\n      <td>0</td>\n      <td>0</td>\n      <td>1468</td>\n      <td>...</td>\n      <td>Tuesday</td>\n      <td>Middle of the night</td>\n      <td>2019-01</td>\n      <td>2</td>\n      <td>5</td>\n      <td>4</td>\n      <td>0</td>\n      <td>2</td>\n      <td>0</td>\n      <td>10</td>\n    </tr>\n    <tr>\n      <th>1</th>\n      <td>1</td>\n      <td>1181478514601672704</td>\n      <td>I need to go to sleeeeeep</td>\n      <td>2019-10-08 07:56:43+00:00</td>\n      <td>497001647</td>\n      <td>0</td>\n      <td>0</td>\n      <td>0</td>\n      <td>0</td>\n      <td>1468</td>\n      <td>...</td>\n      <td>Tuesday</td>\n      <td>Morning</td>\n      <td>2019-41</td>\n      <td>3</td>\n      <td>5</td>\n      <td>10</td>\n      <td>0</td>\n      <td>1</td>\n      <td>0</td>\n      <td>10</td>\n    </tr>\n    <tr>\n      <th>2</th>\n      <td>2</td>\n      <td>1079904884445581312</td>\n      <td>You know who you are; but some of you I’ve fol...</td>\n      <td>2019-01-01 00:59:22</td>\n      <td>112542289</td>\n      <td>2</td>\n      <td>1</td>\n      <td>0</td>\n      <td>0</td>\n      <td>2969</td>\n      <td>...</td>\n      <td>Tuesday</td>\n      <td>Middle of the night</td>\n      <td>2019-01</td>\n      <td>2</td>\n      <td>5</td>\n      <td>4</td>\n      <td>0</td>\n      <td>2</td>\n      <td>0</td>\n      <td>12</td>\n    </tr>\n    <tr>\n      <th>3</th>\n      <td>3</td>\n      <td>1083000265597485056</td>\n      <td>Good morning frens. Don’t think about yesterda...</td>\n      <td>2019-01-09 13:59:19</td>\n      <td>112542289</td>\n      <td>5</td>\n      <td>1</td>\n      <td>0</td>\n      <td>0</td>\n      <td>2969</td>\n      <td>...</td>\n      <td>Wednesday</td>\n      <td>Afternoon</td>\n      <td>2019-02</td>\n      <td>0</td>\n      <td>6</td>\n      <td>4</td>\n      <td>0</td>\n      <td>1</td>\n      <td>0</td>\n      <td>12</td>\n    </tr>\n    <tr>\n      <th>4</th>\n      <td>4</td>\n      <td>1100394993972404224</td>\n      <td>Have any of you seen that post about the salon...</td>\n      <td>2019-02-26 13:59:45+00:00</td>\n      <td>112542289</td>\n      <td>3</td>\n      <td>1</td>\n      <td>0</td>\n      <td>1</td>\n      <td>4897</td>\n      <td>...</td>\n      <td>Tuesday</td>\n      <td>Afternoon</td>\n      <td>2019-09</td>\n      <td>0</td>\n      <td>5</td>\n      <td>3</td>\n      <td>0</td>\n      <td>2</td>\n      <td>0</td>\n      <td>12</td>\n    </tr>\n    <tr>\n      <th>...</th>\n      <td>...</td>\n      <td>...</td>\n      <td>...</td>\n      <td>...</td>\n      <td>...</td>\n      <td>...</td>\n      <td>...</td>\n      <td>...</td>\n      <td>...</td>\n      <td>...</td>\n      <td>...</td>\n      <td>...</td>\n      <td>...</td>\n      <td>...</td>\n      <td>...</td>\n      <td>...</td>\n      <td>...</td>\n      <td>...</td>\n      <td>...</td>\n      <td>...</td>\n      <td>...</td>\n    </tr>\n    <tr>\n      <th>535022</th>\n      <td>535022</td>\n      <td>1212131305615511554</td>\n      <td>It’s taken almost 20 years.... but the boys ap...</td>\n      <td>2019-12-31 21:59:58+00:00</td>\n      <td>3160522828</td>\n      <td>62</td>\n      <td>3</td>\n      <td>1</td>\n      <td>8</td>\n      <td>5864</td>\n      <td>...</td>\n      <td>Tuesday</td>\n      <td>Night</td>\n      <td>2019-01</td>\n      <td>4</td>\n      <td>5</td>\n      <td>2</td>\n      <td>0</td>\n      <td>2</td>\n      <td>0</td>\n      <td>7</td>\n    </tr>\n    <tr>\n      <th>535023</th>\n      <td>535023</td>\n      <td>1212131306085244928</td>\n      <td>My boss is boss. https://t.co/aButy11GXA</td>\n      <td>2019-12-31 21:59:58+00:00</td>\n      <td>802746211</td>\n      <td>1</td>\n      <td>0</td>\n      <td>0</td>\n      <td>0</td>\n      <td>681</td>\n      <td>...</td>\n      <td>Tuesday</td>\n      <td>Night</td>\n      <td>2019-01</td>\n      <td>4</td>\n      <td>5</td>\n      <td>2</td>\n      <td>0</td>\n      <td>1</td>\n      <td>0</td>\n      <td>9</td>\n    </tr>\n    <tr>\n      <th>535024</th>\n      <td>535024</td>\n      <td>1212131307162988544</td>\n      <td>Mood: https://t.co/d5iIJatvZO</td>\n      <td>2019-12-31 21:59:58+00:00</td>\n      <td>713174863</td>\n      <td>19</td>\n      <td>2</td>\n      <td>0</td>\n      <td>0</td>\n      <td>1455</td>\n      <td>...</td>\n      <td>Tuesday</td>\n      <td>Night</td>\n      <td>2019-01</td>\n      <td>4</td>\n      <td>5</td>\n      <td>2</td>\n      <td>0</td>\n      <td>1</td>\n      <td>0</td>\n      <td>9</td>\n    </tr>\n    <tr>\n      <th>535025</th>\n      <td>535025</td>\n      <td>1212131308010430464</td>\n      <td>I’m watching Star Wars for the first time.</td>\n      <td>2019-12-31 21:59:58+00:00</td>\n      <td>2463021749</td>\n      <td>0</td>\n      <td>0</td>\n      <td>0</td>\n      <td>1</td>\n      <td>1171</td>\n      <td>...</td>\n      <td>Tuesday</td>\n      <td>Night</td>\n      <td>2019-01</td>\n      <td>4</td>\n      <td>5</td>\n      <td>2</td>\n      <td>0</td>\n      <td>0</td>\n      <td>0</td>\n      <td>8</td>\n    </tr>\n    <tr>\n      <th>535026</th>\n      <td>535026</td>\n      <td>1212131312892555264</td>\n      <td>Soon as I pulled up in Columbus @CoreyGrand ha...</td>\n      <td>2019-12-31 21:59:59+00:00</td>\n      <td>24166044</td>\n      <td>0</td>\n      <td>0</td>\n      <td>1</td>\n      <td>0</td>\n      <td>1761</td>\n      <td>...</td>\n      <td>Tuesday</td>\n      <td>Night</td>\n      <td>2019-01</td>\n      <td>4</td>\n      <td>5</td>\n      <td>2</td>\n      <td>0</td>\n      <td>1</td>\n      <td>0</td>\n      <td>13</td>\n    </tr>\n  </tbody>\n</table>\n<p>532039 rows × 32 columns</p>\n</div>"
     },
     "execution_count": 49,
     "metadata": {},
     "output_type": "execute_result"
    }
   ],
   "source": [
    "outliers_filter = (((df['followers'] < 100000) & (df['following'] < 70000)) & ((df['retweet_count'] < 100) & (df['like_count'] < 500) & (df['seniority'] < 17)))\n",
    "outliers_removal(df, outliers_filter)"
   ],
   "metadata": {
    "collapsed": false,
    "pycharm": {
     "name": "#%%\n"
    }
   }
  },
  {
   "cell_type": "code",
   "execution_count": 50,
   "outputs": [
    {
     "name": "stdout",
     "output_type": "stream",
     "text": [
      "Percentage of data kept after removing outliers: 99.28 %\n",
      "Percentage of data removed: 0.7172 %\n",
      "Size after outlier removal: 531190\n",
      "N. of tweets with atleast 1 retweet: 90577\n",
      "Percentage of tweets with atleast 1 retweet removed: 3.0619 %\n"
     ]
    },
    {
     "data": {
      "text/plain": "         index             tweet_id  \\\n0            0  1079904885246705665   \n1            1  1181478514601672704   \n2            2  1079904884445581312   \n3            3  1083000265597485056   \n4            4  1100394993972404224   \n...        ...                  ...   \n535022  535022  1212131305615511554   \n535023  535023  1212131306085244928   \n535024  535024  1212131307162988544   \n535025  535025  1212131308010430464   \n535026  535026  1212131312892555264   \n\n                                                     text  \\\n0                              I’ll never salt you down 😌   \n1                               I need to go to sleeeeeep   \n2       You know who you are; but some of you I’ve fol...   \n3       Good morning frens. Don’t think about yesterda...   \n4       Have any of you seen that post about the salon...   \n...                                                   ...   \n535022  It’s taken almost 20 years.... but the boys ap...   \n535023           My boss is boss. https://t.co/aButy11GXA   \n535024                      Mood: https://t.co/d5iIJatvZO   \n535025         I’m watching Star Wars for the first time.   \n535026  Soon as I pulled up in Columbus @CoreyGrand ha...   \n\n                        timestamp     user_id  like_count  retweet_count  \\\n0             2019-01-01 00:59:22   497001647           0              0   \n1       2019-10-08 07:56:43+00:00   497001647           0              0   \n2             2019-01-01 00:59:22   112542289           2              1   \n3             2019-01-09 13:59:19   112542289           5              1   \n4       2019-02-26 13:59:45+00:00   112542289           3              1   \n...                           ...         ...         ...            ...   \n535022  2019-12-31 21:59:58+00:00  3160522828          62              3   \n535023  2019-12-31 21:59:58+00:00   802746211           1              0   \n535024  2019-12-31 21:59:58+00:00   713174863          19              2   \n535025  2019-12-31 21:59:58+00:00  2463021749           0              0   \n535026  2019-12-31 21:59:59+00:00    24166044           0              0   \n\n        quote_count  reply_count  reach  ... day_of_week            day_phase  \\\n0                 0            0   1468  ...     Tuesday  Middle of the night   \n1                 0            0   1468  ...     Tuesday              Morning   \n2                 0            0   2969  ...     Tuesday  Middle of the night   \n3                 0            0   2969  ...   Wednesday            Afternoon   \n4                 0            1   4897  ...     Tuesday            Afternoon   \n...             ...          ...    ...  ...         ...                  ...   \n535022            1            8   5864  ...     Tuesday                Night   \n535023            0            0    681  ...     Tuesday                Night   \n535024            0            0   1455  ...     Tuesday                Night   \n535025            0            1   1171  ...     Tuesday                Night   \n535026            1            0   1761  ...     Tuesday                Night   \n\n       week_idx day_phase_enc  day_of_week_enc  month_enc  year_enc  \\\n0       2019-01             2                5          4         0   \n1       2019-41             3                5         10         0   \n2       2019-01             2                5          4         0   \n3       2019-02             0                6          4         0   \n4       2019-09             0                5          3         0   \n...         ...           ...              ...        ...       ...   \n535022  2019-01             4                5          2         0   \n535023  2019-01             4                5          2         0   \n535024  2019-01             4                5          2         0   \n535025  2019-01             4                5          2         0   \n535026  2019-01             4                5          2         0   \n\n        sentiment_enc  verified_enc seniority  \n0                   2             0        10  \n1                   1             0        10  \n2                   2             0        12  \n3                   1             0        12  \n4                   2             0        12  \n...               ...           ...       ...  \n535022              2             0         7  \n535023              1             0         9  \n535024              1             0         9  \n535025              0             0         8  \n535026              1             0        13  \n\n[531190 rows x 32 columns]",
      "text/html": "<div>\n<style scoped>\n    .dataframe tbody tr th:only-of-type {\n        vertical-align: middle;\n    }\n\n    .dataframe tbody tr th {\n        vertical-align: top;\n    }\n\n    .dataframe thead th {\n        text-align: right;\n    }\n</style>\n<table border=\"1\" class=\"dataframe\">\n  <thead>\n    <tr style=\"text-align: right;\">\n      <th></th>\n      <th>index</th>\n      <th>tweet_id</th>\n      <th>text</th>\n      <th>timestamp</th>\n      <th>user_id</th>\n      <th>like_count</th>\n      <th>retweet_count</th>\n      <th>quote_count</th>\n      <th>reply_count</th>\n      <th>reach</th>\n      <th>...</th>\n      <th>day_of_week</th>\n      <th>day_phase</th>\n      <th>week_idx</th>\n      <th>day_phase_enc</th>\n      <th>day_of_week_enc</th>\n      <th>month_enc</th>\n      <th>year_enc</th>\n      <th>sentiment_enc</th>\n      <th>verified_enc</th>\n      <th>seniority</th>\n    </tr>\n  </thead>\n  <tbody>\n    <tr>\n      <th>0</th>\n      <td>0</td>\n      <td>1079904885246705665</td>\n      <td>I’ll never salt you down 😌</td>\n      <td>2019-01-01 00:59:22</td>\n      <td>497001647</td>\n      <td>0</td>\n      <td>0</td>\n      <td>0</td>\n      <td>0</td>\n      <td>1468</td>\n      <td>...</td>\n      <td>Tuesday</td>\n      <td>Middle of the night</td>\n      <td>2019-01</td>\n      <td>2</td>\n      <td>5</td>\n      <td>4</td>\n      <td>0</td>\n      <td>2</td>\n      <td>0</td>\n      <td>10</td>\n    </tr>\n    <tr>\n      <th>1</th>\n      <td>1</td>\n      <td>1181478514601672704</td>\n      <td>I need to go to sleeeeeep</td>\n      <td>2019-10-08 07:56:43+00:00</td>\n      <td>497001647</td>\n      <td>0</td>\n      <td>0</td>\n      <td>0</td>\n      <td>0</td>\n      <td>1468</td>\n      <td>...</td>\n      <td>Tuesday</td>\n      <td>Morning</td>\n      <td>2019-41</td>\n      <td>3</td>\n      <td>5</td>\n      <td>10</td>\n      <td>0</td>\n      <td>1</td>\n      <td>0</td>\n      <td>10</td>\n    </tr>\n    <tr>\n      <th>2</th>\n      <td>2</td>\n      <td>1079904884445581312</td>\n      <td>You know who you are; but some of you I’ve fol...</td>\n      <td>2019-01-01 00:59:22</td>\n      <td>112542289</td>\n      <td>2</td>\n      <td>1</td>\n      <td>0</td>\n      <td>0</td>\n      <td>2969</td>\n      <td>...</td>\n      <td>Tuesday</td>\n      <td>Middle of the night</td>\n      <td>2019-01</td>\n      <td>2</td>\n      <td>5</td>\n      <td>4</td>\n      <td>0</td>\n      <td>2</td>\n      <td>0</td>\n      <td>12</td>\n    </tr>\n    <tr>\n      <th>3</th>\n      <td>3</td>\n      <td>1083000265597485056</td>\n      <td>Good morning frens. Don’t think about yesterda...</td>\n      <td>2019-01-09 13:59:19</td>\n      <td>112542289</td>\n      <td>5</td>\n      <td>1</td>\n      <td>0</td>\n      <td>0</td>\n      <td>2969</td>\n      <td>...</td>\n      <td>Wednesday</td>\n      <td>Afternoon</td>\n      <td>2019-02</td>\n      <td>0</td>\n      <td>6</td>\n      <td>4</td>\n      <td>0</td>\n      <td>1</td>\n      <td>0</td>\n      <td>12</td>\n    </tr>\n    <tr>\n      <th>4</th>\n      <td>4</td>\n      <td>1100394993972404224</td>\n      <td>Have any of you seen that post about the salon...</td>\n      <td>2019-02-26 13:59:45+00:00</td>\n      <td>112542289</td>\n      <td>3</td>\n      <td>1</td>\n      <td>0</td>\n      <td>1</td>\n      <td>4897</td>\n      <td>...</td>\n      <td>Tuesday</td>\n      <td>Afternoon</td>\n      <td>2019-09</td>\n      <td>0</td>\n      <td>5</td>\n      <td>3</td>\n      <td>0</td>\n      <td>2</td>\n      <td>0</td>\n      <td>12</td>\n    </tr>\n    <tr>\n      <th>...</th>\n      <td>...</td>\n      <td>...</td>\n      <td>...</td>\n      <td>...</td>\n      <td>...</td>\n      <td>...</td>\n      <td>...</td>\n      <td>...</td>\n      <td>...</td>\n      <td>...</td>\n      <td>...</td>\n      <td>...</td>\n      <td>...</td>\n      <td>...</td>\n      <td>...</td>\n      <td>...</td>\n      <td>...</td>\n      <td>...</td>\n      <td>...</td>\n      <td>...</td>\n      <td>...</td>\n    </tr>\n    <tr>\n      <th>535022</th>\n      <td>535022</td>\n      <td>1212131305615511554</td>\n      <td>It’s taken almost 20 years.... but the boys ap...</td>\n      <td>2019-12-31 21:59:58+00:00</td>\n      <td>3160522828</td>\n      <td>62</td>\n      <td>3</td>\n      <td>1</td>\n      <td>8</td>\n      <td>5864</td>\n      <td>...</td>\n      <td>Tuesday</td>\n      <td>Night</td>\n      <td>2019-01</td>\n      <td>4</td>\n      <td>5</td>\n      <td>2</td>\n      <td>0</td>\n      <td>2</td>\n      <td>0</td>\n      <td>7</td>\n    </tr>\n    <tr>\n      <th>535023</th>\n      <td>535023</td>\n      <td>1212131306085244928</td>\n      <td>My boss is boss. https://t.co/aButy11GXA</td>\n      <td>2019-12-31 21:59:58+00:00</td>\n      <td>802746211</td>\n      <td>1</td>\n      <td>0</td>\n      <td>0</td>\n      <td>0</td>\n      <td>681</td>\n      <td>...</td>\n      <td>Tuesday</td>\n      <td>Night</td>\n      <td>2019-01</td>\n      <td>4</td>\n      <td>5</td>\n      <td>2</td>\n      <td>0</td>\n      <td>1</td>\n      <td>0</td>\n      <td>9</td>\n    </tr>\n    <tr>\n      <th>535024</th>\n      <td>535024</td>\n      <td>1212131307162988544</td>\n      <td>Mood: https://t.co/d5iIJatvZO</td>\n      <td>2019-12-31 21:59:58+00:00</td>\n      <td>713174863</td>\n      <td>19</td>\n      <td>2</td>\n      <td>0</td>\n      <td>0</td>\n      <td>1455</td>\n      <td>...</td>\n      <td>Tuesday</td>\n      <td>Night</td>\n      <td>2019-01</td>\n      <td>4</td>\n      <td>5</td>\n      <td>2</td>\n      <td>0</td>\n      <td>1</td>\n      <td>0</td>\n      <td>9</td>\n    </tr>\n    <tr>\n      <th>535025</th>\n      <td>535025</td>\n      <td>1212131308010430464</td>\n      <td>I’m watching Star Wars for the first time.</td>\n      <td>2019-12-31 21:59:58+00:00</td>\n      <td>2463021749</td>\n      <td>0</td>\n      <td>0</td>\n      <td>0</td>\n      <td>1</td>\n      <td>1171</td>\n      <td>...</td>\n      <td>Tuesday</td>\n      <td>Night</td>\n      <td>2019-01</td>\n      <td>4</td>\n      <td>5</td>\n      <td>2</td>\n      <td>0</td>\n      <td>0</td>\n      <td>0</td>\n      <td>8</td>\n    </tr>\n    <tr>\n      <th>535026</th>\n      <td>535026</td>\n      <td>1212131312892555264</td>\n      <td>Soon as I pulled up in Columbus @CoreyGrand ha...</td>\n      <td>2019-12-31 21:59:59+00:00</td>\n      <td>24166044</td>\n      <td>0</td>\n      <td>0</td>\n      <td>1</td>\n      <td>0</td>\n      <td>1761</td>\n      <td>...</td>\n      <td>Tuesday</td>\n      <td>Night</td>\n      <td>2019-01</td>\n      <td>4</td>\n      <td>5</td>\n      <td>2</td>\n      <td>0</td>\n      <td>1</td>\n      <td>0</td>\n      <td>13</td>\n    </tr>\n  </tbody>\n</table>\n<p>531190 rows × 32 columns</p>\n</div>"
     },
     "execution_count": 50,
     "metadata": {},
     "output_type": "execute_result"
    }
   ],
   "source": [
    "outliers_filter = (((df['followers'] < 100000) & (df['following'] < 30000)) & ((df['retweet_count'] < 100) & (df['like_count'] < 400) & (df['seniority'] < 17)))\n",
    "outliers_removal(df, outliers_filter)"
   ],
   "metadata": {
    "collapsed": false,
    "pycharm": {
     "name": "#%%\n"
    }
   }
  },
  {
   "cell_type": "code",
   "execution_count": 51,
   "outputs": [
    {
     "name": "stdout",
     "output_type": "stream",
     "text": [
      "Percentage of data kept after removing outliers: 99.3 %\n",
      "Percentage of data removed: 0.7018 %\n",
      "Size after outlier removal: 531272\n",
      "N. of tweets with atleast 1 retweet: 90659\n",
      "Percentage of tweets with atleast 1 retweet removed: 2.9742 %\n"
     ]
    }
   ],
   "source": [
    "outliers_filter = (((df['followers'] < 100000) & (df['following'] < 30000)) & ((df['retweet_count'] < 1000) & (df['like_count'] < 400) & (df['seniority'] < 17)))\n",
    "df = outliers_removal(df, outliers_filter)"
   ],
   "metadata": {
    "collapsed": false,
    "pycharm": {
     "name": "#%%\n"
    }
   }
  },
  {
   "cell_type": "markdown",
   "source": [
    "## Save the final version of the dataset"
   ],
   "metadata": {
    "collapsed": false,
    "pycharm": {
     "name": "#%% md\n"
    }
   }
  },
  {
   "cell_type": "code",
   "execution_count": 52,
   "outputs": [
    {
     "name": "stdout",
     "output_type": "stream",
     "text": [
      "2019\n",
      "../../data/processed_data/tweets_2019.csv\n",
      "../../data/processed_data/retweets_2019.csv\n"
     ]
    }
   ],
   "source": [
    "year = df.iloc[0]['timestamp'].year\n",
    "print(year)\n",
    "location = FINAL_DATASET + str(year) + '.csv'\n",
    "location_retweets = FINAL_DATASET_RETWEETS_INFO + str(year) + '.csv'\n",
    "print(location)\n",
    "print(location_retweets)"
   ],
   "metadata": {
    "collapsed": false,
    "pycharm": {
     "name": "#%%\n"
    }
   }
  },
  {
   "cell_type": "code",
   "execution_count": 53,
   "outputs": [],
   "source": [
    "df.to_csv(location, sep=',', date_format='%Y-%m-%d %H:%M:%S')"
   ],
   "metadata": {
    "collapsed": false,
    "pycharm": {
     "name": "#%%\n"
    }
   }
  },
  {
   "cell_type": "code",
   "execution_count": 54,
   "outputs": [],
   "source": [
    "df_retweets_info.to_csv(location_retweets, sep=',', date_format='%Y-%m-%d %H:%M:%S')"
   ],
   "metadata": {
    "collapsed": false,
    "pycharm": {
     "name": "#%%\n"
    }
   }
  },
  {
   "cell_type": "code",
   "execution_count": 54,
   "outputs": [],
   "source": [],
   "metadata": {
    "collapsed": false,
    "pycharm": {
     "name": "#%%\n"
    }
   }
  }
 ],
 "metadata": {
  "kernelspec": {
   "display_name": "Python 3",
   "language": "python",
   "name": "python3"
  },
  "language_info": {
   "codemirror_mode": {
    "name": "ipython",
    "version": 2
   },
   "file_extension": ".py",
   "mimetype": "text/x-python",
   "name": "python",
   "nbconvert_exporter": "python",
   "pygments_lexer": "ipython2",
   "version": "2.7.6"
  }
 },
 "nbformat": 4,
 "nbformat_minor": 0
}