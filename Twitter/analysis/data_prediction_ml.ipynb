{
 "cells": [
  {
   "cell_type": "code",
   "execution_count": 1,
   "metadata": {
    "collapsed": true,
    "pycharm": {
     "name": "#%%\n"
    }
   },
   "outputs": [],
   "source": [
    "import seaborn as sns\n",
    "sns.set()"
   ]
  },
  {
   "cell_type": "code",
   "execution_count": 2,
   "outputs": [],
   "source": [
    "from Twitter.analysis.data_prediction_ml import *"
   ],
   "metadata": {
    "collapsed": false,
    "pycharm": {
     "name": "#%%\n"
    }
   }
  },
  {
   "cell_type": "code",
   "execution_count": 3,
   "outputs": [],
   "source": [
    "from sklearn.discriminant_analysis import LinearDiscriminantAnalysis\n",
    "from sklearn.linear_model import LogisticRegression\n",
    "from sklearn.naive_bayes import GaussianNB\n",
    "from sklearn.tree import DecisionTreeClassifier\n",
    "from imblearn.over_sampling import SMOTE\n",
    "from collections import Counter\n",
    "from sklearn.ensemble import RandomForestClassifier, AdaBoostClassifier, GradientBoostingClassifier, ExtraTreesClassifier\n",
    "from sklearn.preprocessing import StandardScaler"
   ],
   "metadata": {
    "collapsed": false,
    "pycharm": {
     "name": "#%%\n"
    }
   }
  },
  {
   "cell_type": "code",
   "execution_count": 4,
   "outputs": [],
   "source": [
    "BASE_FOLDER = \"../../data/processed_tweets/\"\n",
    "\n",
    "num_vars = ['followers', 'following', 'tweet_count', 'seniority']\n",
    "cat_vars = ['topics', 'sentiment', 'hashtags', 'verified', 'day_phase', 'day_of_week', 'month']\n",
    "cat_vars_enc = ['topics_ids', 'sentiment_enc', 'hashtags_enc', 'verified_enc', 'day_phase_enc', 'day_of_week_enc', 'month_enc']\n"
   ],
   "metadata": {
    "collapsed": false,
    "pycharm": {
     "name": "#%%\n"
    }
   }
  },
  {
   "cell_type": "code",
   "execution_count": 5,
   "outputs": [
    {
     "name": "stdout",
     "output_type": "stream",
     "text": [
      "['tweets_2019.csv', 'tweets_2020.csv', 'tweets_2021.csv']\n"
     ]
    }
   ],
   "source": [
    "train_df, test_df = get_test_train_data(BASE_FOLDER, False)"
   ],
   "metadata": {
    "collapsed": false,
    "pycharm": {
     "name": "#%%\n"
    }
   }
  },
  {
   "cell_type": "code",
   "execution_count": 6,
   "outputs": [],
   "source": [
    "train_df = prepare_model_data(train_df)\n",
    "test_df = prepare_model_data(test_df)"
   ],
   "metadata": {
    "collapsed": false,
    "pycharm": {
     "name": "#%%\n"
    }
   }
  },
  {
   "cell_type": "code",
   "execution_count": 7,
   "outputs": [
    {
     "name": "stdout",
     "output_type": "stream",
     "text": [
      "(383207, 72)\n",
      "(383207,)\n",
      "(174108, 72)\n",
      "(174108,)\n"
     ]
    }
   ],
   "source": [
    "X_train, y_train, X_test, y_test = split_data(train_df, test_df)"
   ],
   "metadata": {
    "collapsed": false,
    "pycharm": {
     "name": "#%%\n"
    }
   }
  },
  {
   "cell_type": "code",
   "execution_count": null,
   "outputs": [],
   "source": [
    "cat_vars_encoded = process_categorical_vars(X_train)"
   ],
   "metadata": {
    "collapsed": false,
    "pycharm": {
     "name": "#%%\n"
    }
   }
  },
  {
   "cell_type": "markdown",
   "source": [
    "## Standardization"
   ],
   "metadata": {
    "collapsed": false,
    "pycharm": {
     "name": "#%% md\n"
    }
   }
  },
  {
   "cell_type": "code",
   "execution_count": 11,
   "outputs": [],
   "source": [
    "X_train_cats, X_train_num_scaled, X_test_num_scaled = standardize(cat_vars_encoded, X_train, X_test)"
   ],
   "metadata": {
    "collapsed": false,
    "pycharm": {
     "name": "#%%\n"
    }
   }
  },
  {
   "cell_type": "markdown",
   "source": [
    "## Feature Selection"
   ],
   "metadata": {
    "collapsed": false,
    "pycharm": {
     "name": "#%% md\n"
    }
   }
  },
  {
   "cell_type": "code",
   "execution_count": 12,
   "outputs": [],
   "source": [
    "num_feat_to_keep = pd.DataFrame(index=X_train_cats.columns)\n",
    "cat_feat_to_keep = pd.DataFrame(index=X_train_num_scaled.columns)"
   ],
   "metadata": {
    "collapsed": false,
    "pycharm": {
     "name": "#%%\n"
    }
   }
  },
  {
   "cell_type": "markdown",
   "source": [
    "### Categorical variables selection"
   ],
   "metadata": {
    "collapsed": false,
    "pycharm": {
     "name": "#%% md\n"
    }
   }
  },
  {
   "cell_type": "markdown",
   "source": [
    "#### Chi-square"
   ],
   "metadata": {
    "collapsed": false,
    "pycharm": {
     "name": "#%% md\n"
    }
   }
  },
  {
   "cell_type": "code",
   "execution_count": 13,
   "outputs": [
    {
     "name": "stdout",
     "output_type": "stream",
     "text": [
      "Chi-square analysis\n"
     ]
    }
   ],
   "source": [
    "chi_analysis(cat_feat_to_keep, X_train_cats, y_train)"
   ],
   "metadata": {
    "collapsed": false,
    "pycharm": {
     "name": "#%%\n"
    }
   }
  },
  {
   "cell_type": "markdown",
   "source": [
    "### Numerical variables selection"
   ],
   "metadata": {
    "collapsed": false,
    "pycharm": {
     "name": "#%% md\n"
    }
   }
  },
  {
   "cell_type": "markdown",
   "source": [
    "#### ANOVA"
   ],
   "metadata": {
    "collapsed": false,
    "pycharm": {
     "name": "#%% md\n"
    }
   }
  },
  {
   "cell_type": "code",
   "execution_count": 14,
   "outputs": [
    {
     "name": "stdout",
     "output_type": "stream",
     "text": [
      "ANOVA analysis\n"
     ]
    }
   ],
   "source": [
    "anova_analysis(num_feat_to_keep, X_train_num_scaled, y_train)"
   ],
   "metadata": {
    "collapsed": false,
    "pycharm": {
     "name": "#%%\n"
    }
   }
  },
  {
   "cell_type": "markdown",
   "source": [
    "#### Tree-based"
   ],
   "metadata": {
    "collapsed": false,
    "pycharm": {
     "name": "#%% md\n"
    }
   }
  },
  {
   "cell_type": "code",
   "execution_count": 15,
   "outputs": [
    {
     "name": "stdout",
     "output_type": "stream",
     "text": [
      "Tree based analysis\n"
     ]
    }
   ],
   "source": [
    "tree_analysis(num_feat_to_keep, X_train_num_scaled, y_train)"
   ],
   "metadata": {
    "collapsed": false,
    "pycharm": {
     "name": "#%%\n"
    }
   }
  },
  {
   "cell_type": "markdown",
   "source": [
    "#### LASSO Regression"
   ],
   "metadata": {
    "collapsed": false,
    "pycharm": {
     "name": "#%% md\n"
    }
   }
  },
  {
   "cell_type": "code",
   "execution_count": 16,
   "outputs": [
    {
     "name": "stdout",
     "output_type": "stream",
     "text": [
      "Lasso analysis\n"
     ]
    }
   ],
   "source": [
    "lasso_analysis(num_feat_to_keep, X_train_num_scaled, y_train)"
   ],
   "metadata": {
    "collapsed": false,
    "pycharm": {
     "name": "#%%\n"
    }
   }
  },
  {
   "cell_type": "markdown",
   "source": [
    "#### Recursive Feature Elimination"
   ],
   "metadata": {
    "collapsed": false,
    "pycharm": {
     "name": "#%% md\n"
    }
   }
  },
  {
   "cell_type": "code",
   "execution_count": 17,
   "outputs": [
    {
     "name": "stdout",
     "output_type": "stream",
     "text": [
      "Recursive feature extraction analysis\n"
     ]
    }
   ],
   "source": [
    "rfe_analysis(num_feat_to_keep, X_train_num_scaled, y_train)"
   ],
   "metadata": {
    "collapsed": false,
    "pycharm": {
     "name": "#%%\n"
    }
   }
  },
  {
   "cell_type": "markdown",
   "source": [
    "### Final variables"
   ],
   "metadata": {
    "collapsed": false,
    "pycharm": {
     "name": "#%% md\n"
    }
   }
  },
  {
   "cell_type": "code",
   "execution_count": 18,
   "outputs": [
    {
     "data": {
      "text/plain": "                                       ANOVA    Trees Lasso Regression  \\\ntopics_cleaned_Brand                 Discard  Discard          Discard   \ntopics_cleaned_Entities              Discard  Discard          Discard   \ntopics_cleaned_Holiday               Discard  Discard          Discard   \ntopics_cleaned_Interest and Hobbies  Discard  Discard          Discard   \ntopics_cleaned_Music                 Discard  Discard          Discard   \ntopics_cleaned_Other                 Discard  Discard          Discard   \ntopics_cleaned_Person                Discard  Discard          Discard   \ntopics_cleaned_Political             Discard  Discard          Discard   \ntopics_cleaned_Sport                 Discard  Discard          Discard   \ntopics_cleaned_TV and Movies         Discard  Discard          Discard   \ntopics_cleaned_Video Game            Discard  Discard          Discard   \ntopics_cleaned_None                  Discard  Discard          Discard   \ntopics_cleaned_News                  Discard  Discard          Discard   \nsentiment_Neutral                    Discard  Discard          Discard   \nsentiment_Positive                   Discard  Discard          Discard   \nhashtags_True                        Discard  Discard          Discard   \nverified_True                        Discard  Discard          Discard   \nday_phase_Dusk                       Discard  Discard          Discard   \nday_phase_Middle of the night        Discard  Discard          Discard   \nday_phase_Morning                    Discard  Discard          Discard   \nday_phase_Night                      Discard  Discard          Discard   \nday_of_week_Monday                   Discard  Discard          Discard   \nday_of_week_Saturday                 Discard  Discard          Discard   \nday_of_week_Sunday                   Discard  Discard          Discard   \nday_of_week_Thursday                 Discard  Discard          Discard   \nday_of_week_Tuesday                  Discard  Discard          Discard   \nday_of_week_Wednesday                Discard  Discard          Discard   \nmonth_August                         Discard  Discard          Discard   \nmonth_December                       Discard  Discard          Discard   \nmonth_February                       Discard  Discard          Discard   \nmonth_January                        Discard  Discard          Discard   \nmonth_July                           Discard  Discard          Discard   \nmonth_June                           Discard  Discard          Discard   \nmonth_March                          Discard  Discard          Discard   \nmonth_May                            Discard  Discard          Discard   \nmonth_November                       Discard  Discard          Discard   \nmonth_October                        Discard  Discard          Discard   \nmonth_September                      Discard  Discard          Discard   \nfollowers                               Keep     Keep             Keep   \nfollowing                               Keep     Keep          Discard   \nseniority                               Keep  Discard             Keep   \ntweet_count                              NaN     Keep             Keep   \n\n                                         RFE  Discard Nr  \ntopics_cleaned_Brand                 Discard           4  \ntopics_cleaned_Entities              Discard           4  \ntopics_cleaned_Holiday               Discard           4  \ntopics_cleaned_Interest and Hobbies  Discard           4  \ntopics_cleaned_Music                 Discard           4  \ntopics_cleaned_Other                 Discard           4  \ntopics_cleaned_Person                Discard           4  \ntopics_cleaned_Political             Discard           4  \ntopics_cleaned_Sport                 Discard           4  \ntopics_cleaned_TV and Movies         Discard           4  \ntopics_cleaned_Video Game            Discard           4  \ntopics_cleaned_None                  Discard           4  \ntopics_cleaned_News                  Discard           4  \nsentiment_Neutral                    Discard           4  \nsentiment_Positive                   Discard           4  \nhashtags_True                        Discard           4  \nverified_True                        Discard           4  \nday_phase_Dusk                       Discard           4  \nday_phase_Middle of the night        Discard           4  \nday_phase_Morning                    Discard           4  \nday_phase_Night                      Discard           4  \nday_of_week_Monday                   Discard           4  \nday_of_week_Saturday                 Discard           4  \nday_of_week_Sunday                   Discard           4  \nday_of_week_Thursday                 Discard           4  \nday_of_week_Tuesday                  Discard           4  \nday_of_week_Wednesday                Discard           4  \nmonth_August                         Discard           4  \nmonth_December                       Discard           4  \nmonth_February                       Discard           4  \nmonth_January                        Discard           4  \nmonth_July                           Discard           4  \nmonth_June                           Discard           4  \nmonth_March                          Discard           4  \nmonth_May                            Discard           4  \nmonth_November                       Discard           4  \nmonth_October                        Discard           4  \nmonth_September                      Discard           4  \nfollowers                               Keep           0  \nfollowing                               Keep           1  \nseniority                            Discard           2  \ntweet_count                             Keep           0  ",
      "text/html": "<div>\n<style scoped>\n    .dataframe tbody tr th:only-of-type {\n        vertical-align: middle;\n    }\n\n    .dataframe tbody tr th {\n        vertical-align: top;\n    }\n\n    .dataframe thead th {\n        text-align: right;\n    }\n</style>\n<table border=\"1\" class=\"dataframe\">\n  <thead>\n    <tr style=\"text-align: right;\">\n      <th></th>\n      <th>ANOVA</th>\n      <th>Trees</th>\n      <th>Lasso Regression</th>\n      <th>RFE</th>\n      <th>Discard Nr</th>\n    </tr>\n  </thead>\n  <tbody>\n    <tr>\n      <th>topics_cleaned_Brand</th>\n      <td>Discard</td>\n      <td>Discard</td>\n      <td>Discard</td>\n      <td>Discard</td>\n      <td>4</td>\n    </tr>\n    <tr>\n      <th>topics_cleaned_Entities</th>\n      <td>Discard</td>\n      <td>Discard</td>\n      <td>Discard</td>\n      <td>Discard</td>\n      <td>4</td>\n    </tr>\n    <tr>\n      <th>topics_cleaned_Holiday</th>\n      <td>Discard</td>\n      <td>Discard</td>\n      <td>Discard</td>\n      <td>Discard</td>\n      <td>4</td>\n    </tr>\n    <tr>\n      <th>topics_cleaned_Interest and Hobbies</th>\n      <td>Discard</td>\n      <td>Discard</td>\n      <td>Discard</td>\n      <td>Discard</td>\n      <td>4</td>\n    </tr>\n    <tr>\n      <th>topics_cleaned_Music</th>\n      <td>Discard</td>\n      <td>Discard</td>\n      <td>Discard</td>\n      <td>Discard</td>\n      <td>4</td>\n    </tr>\n    <tr>\n      <th>topics_cleaned_Other</th>\n      <td>Discard</td>\n      <td>Discard</td>\n      <td>Discard</td>\n      <td>Discard</td>\n      <td>4</td>\n    </tr>\n    <tr>\n      <th>topics_cleaned_Person</th>\n      <td>Discard</td>\n      <td>Discard</td>\n      <td>Discard</td>\n      <td>Discard</td>\n      <td>4</td>\n    </tr>\n    <tr>\n      <th>topics_cleaned_Political</th>\n      <td>Discard</td>\n      <td>Discard</td>\n      <td>Discard</td>\n      <td>Discard</td>\n      <td>4</td>\n    </tr>\n    <tr>\n      <th>topics_cleaned_Sport</th>\n      <td>Discard</td>\n      <td>Discard</td>\n      <td>Discard</td>\n      <td>Discard</td>\n      <td>4</td>\n    </tr>\n    <tr>\n      <th>topics_cleaned_TV and Movies</th>\n      <td>Discard</td>\n      <td>Discard</td>\n      <td>Discard</td>\n      <td>Discard</td>\n      <td>4</td>\n    </tr>\n    <tr>\n      <th>topics_cleaned_Video Game</th>\n      <td>Discard</td>\n      <td>Discard</td>\n      <td>Discard</td>\n      <td>Discard</td>\n      <td>4</td>\n    </tr>\n    <tr>\n      <th>topics_cleaned_None</th>\n      <td>Discard</td>\n      <td>Discard</td>\n      <td>Discard</td>\n      <td>Discard</td>\n      <td>4</td>\n    </tr>\n    <tr>\n      <th>topics_cleaned_News</th>\n      <td>Discard</td>\n      <td>Discard</td>\n      <td>Discard</td>\n      <td>Discard</td>\n      <td>4</td>\n    </tr>\n    <tr>\n      <th>sentiment_Neutral</th>\n      <td>Discard</td>\n      <td>Discard</td>\n      <td>Discard</td>\n      <td>Discard</td>\n      <td>4</td>\n    </tr>\n    <tr>\n      <th>sentiment_Positive</th>\n      <td>Discard</td>\n      <td>Discard</td>\n      <td>Discard</td>\n      <td>Discard</td>\n      <td>4</td>\n    </tr>\n    <tr>\n      <th>hashtags_True</th>\n      <td>Discard</td>\n      <td>Discard</td>\n      <td>Discard</td>\n      <td>Discard</td>\n      <td>4</td>\n    </tr>\n    <tr>\n      <th>verified_True</th>\n      <td>Discard</td>\n      <td>Discard</td>\n      <td>Discard</td>\n      <td>Discard</td>\n      <td>4</td>\n    </tr>\n    <tr>\n      <th>day_phase_Dusk</th>\n      <td>Discard</td>\n      <td>Discard</td>\n      <td>Discard</td>\n      <td>Discard</td>\n      <td>4</td>\n    </tr>\n    <tr>\n      <th>day_phase_Middle of the night</th>\n      <td>Discard</td>\n      <td>Discard</td>\n      <td>Discard</td>\n      <td>Discard</td>\n      <td>4</td>\n    </tr>\n    <tr>\n      <th>day_phase_Morning</th>\n      <td>Discard</td>\n      <td>Discard</td>\n      <td>Discard</td>\n      <td>Discard</td>\n      <td>4</td>\n    </tr>\n    <tr>\n      <th>day_phase_Night</th>\n      <td>Discard</td>\n      <td>Discard</td>\n      <td>Discard</td>\n      <td>Discard</td>\n      <td>4</td>\n    </tr>\n    <tr>\n      <th>day_of_week_Monday</th>\n      <td>Discard</td>\n      <td>Discard</td>\n      <td>Discard</td>\n      <td>Discard</td>\n      <td>4</td>\n    </tr>\n    <tr>\n      <th>day_of_week_Saturday</th>\n      <td>Discard</td>\n      <td>Discard</td>\n      <td>Discard</td>\n      <td>Discard</td>\n      <td>4</td>\n    </tr>\n    <tr>\n      <th>day_of_week_Sunday</th>\n      <td>Discard</td>\n      <td>Discard</td>\n      <td>Discard</td>\n      <td>Discard</td>\n      <td>4</td>\n    </tr>\n    <tr>\n      <th>day_of_week_Thursday</th>\n      <td>Discard</td>\n      <td>Discard</td>\n      <td>Discard</td>\n      <td>Discard</td>\n      <td>4</td>\n    </tr>\n    <tr>\n      <th>day_of_week_Tuesday</th>\n      <td>Discard</td>\n      <td>Discard</td>\n      <td>Discard</td>\n      <td>Discard</td>\n      <td>4</td>\n    </tr>\n    <tr>\n      <th>day_of_week_Wednesday</th>\n      <td>Discard</td>\n      <td>Discard</td>\n      <td>Discard</td>\n      <td>Discard</td>\n      <td>4</td>\n    </tr>\n    <tr>\n      <th>month_August</th>\n      <td>Discard</td>\n      <td>Discard</td>\n      <td>Discard</td>\n      <td>Discard</td>\n      <td>4</td>\n    </tr>\n    <tr>\n      <th>month_December</th>\n      <td>Discard</td>\n      <td>Discard</td>\n      <td>Discard</td>\n      <td>Discard</td>\n      <td>4</td>\n    </tr>\n    <tr>\n      <th>month_February</th>\n      <td>Discard</td>\n      <td>Discard</td>\n      <td>Discard</td>\n      <td>Discard</td>\n      <td>4</td>\n    </tr>\n    <tr>\n      <th>month_January</th>\n      <td>Discard</td>\n      <td>Discard</td>\n      <td>Discard</td>\n      <td>Discard</td>\n      <td>4</td>\n    </tr>\n    <tr>\n      <th>month_July</th>\n      <td>Discard</td>\n      <td>Discard</td>\n      <td>Discard</td>\n      <td>Discard</td>\n      <td>4</td>\n    </tr>\n    <tr>\n      <th>month_June</th>\n      <td>Discard</td>\n      <td>Discard</td>\n      <td>Discard</td>\n      <td>Discard</td>\n      <td>4</td>\n    </tr>\n    <tr>\n      <th>month_March</th>\n      <td>Discard</td>\n      <td>Discard</td>\n      <td>Discard</td>\n      <td>Discard</td>\n      <td>4</td>\n    </tr>\n    <tr>\n      <th>month_May</th>\n      <td>Discard</td>\n      <td>Discard</td>\n      <td>Discard</td>\n      <td>Discard</td>\n      <td>4</td>\n    </tr>\n    <tr>\n      <th>month_November</th>\n      <td>Discard</td>\n      <td>Discard</td>\n      <td>Discard</td>\n      <td>Discard</td>\n      <td>4</td>\n    </tr>\n    <tr>\n      <th>month_October</th>\n      <td>Discard</td>\n      <td>Discard</td>\n      <td>Discard</td>\n      <td>Discard</td>\n      <td>4</td>\n    </tr>\n    <tr>\n      <th>month_September</th>\n      <td>Discard</td>\n      <td>Discard</td>\n      <td>Discard</td>\n      <td>Discard</td>\n      <td>4</td>\n    </tr>\n    <tr>\n      <th>followers</th>\n      <td>Keep</td>\n      <td>Keep</td>\n      <td>Keep</td>\n      <td>Keep</td>\n      <td>0</td>\n    </tr>\n    <tr>\n      <th>following</th>\n      <td>Keep</td>\n      <td>Keep</td>\n      <td>Discard</td>\n      <td>Keep</td>\n      <td>1</td>\n    </tr>\n    <tr>\n      <th>seniority</th>\n      <td>Keep</td>\n      <td>Discard</td>\n      <td>Keep</td>\n      <td>Discard</td>\n      <td>2</td>\n    </tr>\n    <tr>\n      <th>tweet_count</th>\n      <td>NaN</td>\n      <td>Keep</td>\n      <td>Keep</td>\n      <td>Keep</td>\n      <td>0</td>\n    </tr>\n  </tbody>\n</table>\n</div>"
     },
     "execution_count": 18,
     "metadata": {},
     "output_type": "execute_result"
    }
   ],
   "source": [
    "num_feat_to_keep['Discard Nr'] = num_feat_to_keep.apply(lambda x: x.str.findall('Discard').str.len()).sum(axis = 1).astype(int)\n",
    "num_feat_to_keep"
   ],
   "metadata": {
    "collapsed": false,
    "pycharm": {
     "name": "#%%\n"
    }
   }
  },
  {
   "cell_type": "code",
   "execution_count": 19,
   "outputs": [
    {
     "data": {
      "text/plain": "                            Chi2  Discard Nr\nfollowers                Discard           1\nfollowing                Discard           1\ntweet_count              Discard           1\nseniority                Discard           1\ntopics_cleaned_Entities     Keep           0\ntopics_cleaned_Sport        Keep           0\ntopics_cleaned_News         Keep           0\nsentiment_Neutral           Keep           0\nsentiment_Positive          Keep           0\nhashtags_True               Keep           0\nverified_True               Keep           0\nday_phase_Dusk              Keep           0\nday_phase_Morning           Keep           0\nmonth_December              Keep           0",
      "text/html": "<div>\n<style scoped>\n    .dataframe tbody tr th:only-of-type {\n        vertical-align: middle;\n    }\n\n    .dataframe tbody tr th {\n        vertical-align: top;\n    }\n\n    .dataframe thead th {\n        text-align: right;\n    }\n</style>\n<table border=\"1\" class=\"dataframe\">\n  <thead>\n    <tr style=\"text-align: right;\">\n      <th></th>\n      <th>Chi2</th>\n      <th>Discard Nr</th>\n    </tr>\n  </thead>\n  <tbody>\n    <tr>\n      <th>followers</th>\n      <td>Discard</td>\n      <td>1</td>\n    </tr>\n    <tr>\n      <th>following</th>\n      <td>Discard</td>\n      <td>1</td>\n    </tr>\n    <tr>\n      <th>tweet_count</th>\n      <td>Discard</td>\n      <td>1</td>\n    </tr>\n    <tr>\n      <th>seniority</th>\n      <td>Discard</td>\n      <td>1</td>\n    </tr>\n    <tr>\n      <th>topics_cleaned_Entities</th>\n      <td>Keep</td>\n      <td>0</td>\n    </tr>\n    <tr>\n      <th>topics_cleaned_Sport</th>\n      <td>Keep</td>\n      <td>0</td>\n    </tr>\n    <tr>\n      <th>topics_cleaned_News</th>\n      <td>Keep</td>\n      <td>0</td>\n    </tr>\n    <tr>\n      <th>sentiment_Neutral</th>\n      <td>Keep</td>\n      <td>0</td>\n    </tr>\n    <tr>\n      <th>sentiment_Positive</th>\n      <td>Keep</td>\n      <td>0</td>\n    </tr>\n    <tr>\n      <th>hashtags_True</th>\n      <td>Keep</td>\n      <td>0</td>\n    </tr>\n    <tr>\n      <th>verified_True</th>\n      <td>Keep</td>\n      <td>0</td>\n    </tr>\n    <tr>\n      <th>day_phase_Dusk</th>\n      <td>Keep</td>\n      <td>0</td>\n    </tr>\n    <tr>\n      <th>day_phase_Morning</th>\n      <td>Keep</td>\n      <td>0</td>\n    </tr>\n    <tr>\n      <th>month_December</th>\n      <td>Keep</td>\n      <td>0</td>\n    </tr>\n  </tbody>\n</table>\n</div>"
     },
     "execution_count": 19,
     "metadata": {},
     "output_type": "execute_result"
    }
   ],
   "source": [
    "cat_feat_to_keep['Discard Nr'] = cat_feat_to_keep.apply(lambda x: x.str.findall('Discard').str.len()).sum(axis = 1).astype(int)\n",
    "cat_feat_to_keep"
   ],
   "metadata": {
    "collapsed": false,
    "pycharm": {
     "name": "#%%\n"
    }
   }
  },
  {
   "cell_type": "code",
   "execution_count": 20,
   "outputs": [
    {
     "name": "stdout",
     "output_type": "stream",
     "text": [
      "['topics_cleaned_Entities', 'topics_cleaned_Sport', 'topics_cleaned_News', 'sentiment_Neutral', 'sentiment_Positive', 'hashtags_True', 'verified_True', 'day_phase_Dusk', 'day_phase_Morning', 'month_December', 'followers', 'following', 'seniority', 'tweet_count']\n"
     ]
    }
   ],
   "source": [
    "cat_to_keep = cat_feat_to_keep[cat_feat_to_keep['Discard Nr'] < 1].index.tolist()\n",
    "num_to_keep = num_feat_to_keep[num_feat_to_keep['Discard Nr'] < 3].index.to_list()\n",
    "print(cat_to_keep + num_to_keep)"
   ],
   "metadata": {
    "collapsed": false,
    "pycharm": {
     "name": "#%%\n"
    }
   }
  },
  {
   "cell_type": "code",
   "execution_count": 21,
   "outputs": [],
   "source": [
    "X_train = X_train[cat_to_keep].copy()\n",
    "X_train[num_to_keep] = X_train_num_scaled[num_to_keep]"
   ],
   "metadata": {
    "collapsed": false,
    "pycharm": {
     "name": "#%%\n"
    }
   }
  },
  {
   "cell_type": "code",
   "execution_count": 22,
   "outputs": [],
   "source": [
    "X_test = X_test[cat_to_keep].copy()\n",
    "X_test[num_to_keep] = X_test_num_scaled[num_to_keep]"
   ],
   "metadata": {
    "collapsed": false,
    "pycharm": {
     "name": "#%%\n"
    }
   }
  },
  {
   "cell_type": "markdown",
   "source": [
    "## Balacing the dataset"
   ],
   "metadata": {
    "collapsed": false,
    "pycharm": {
     "name": "#%% md\n"
    }
   }
  },
  {
   "cell_type": "markdown",
   "source": [
    "### SMOTE Method"
   ],
   "metadata": {
    "collapsed": false,
    "pycharm": {
     "name": "#%% md\n"
    }
   }
  },
  {
   "cell_type": "code",
   "execution_count": 23,
   "outputs": [
    {
     "name": "stdout",
     "output_type": "stream",
     "text": [
      "Before over sampling:  Counter({0: 322530, 1: 60677})\n",
      "After over sampling:  Counter({1: 322530, 0: 322530})\n"
     ]
    }
   ],
   "source": [
    "X_train, y_train = balance_dataset(X_train, y_train)"
   ],
   "metadata": {
    "collapsed": false,
    "pycharm": {
     "name": "#%%\n"
    }
   }
  },
  {
   "cell_type": "markdown",
   "source": [
    "## Models"
   ],
   "metadata": {
    "collapsed": false,
    "pycharm": {
     "name": "#%% md\n"
    }
   }
  },
  {
   "cell_type": "code",
   "execution_count": 24,
   "outputs": [
    {
     "name": "stdout",
     "output_type": "stream",
     "text": [
      "LR: 0.339167 (0.112824)\n",
      "LDA: 0.292867 (0.093540)\n",
      "CART: 0.623052 (0.036662)\n",
      "NB: 0.566304 (0.261888)\n",
      "AB: 0.477887 (0.068491)\n",
      "GBM: 0.489810 (0.051305)\n",
      "RFC: 0.714309 (0.028483)\n",
      "ET: 0.747357 (0.030037)\n"
     ]
    },
    {
     "data": {
      "text/plain": "<Figure size 432x288 with 1 Axes>",
      "image/png": "[encoded data removed]"
     },
     "metadata": {
      "needs_background": "light"
     },
     "output_type": "display_data"
    },
    {
     "data": {
      "text/plain": "<Figure size 1800x1296 with 0 Axes>"
     },
     "metadata": {},
     "output_type": "display_data"
    }
   ],
   "source": [
    "models = [('LR', LogisticRegression(solver='lbfgs')), ('LDA', LinearDiscriminantAnalysis()), ('CART', DecisionTreeClassifier()), ('NB', GaussianNB()),\n",
    "          ('AB', AdaBoostClassifier()), ('GBM', GradientBoostingClassifier()), ('RFC', RandomForestClassifier(n_estimators=100)), ('ET', ExtraTreesClassifier())]\n",
    "num_folds = 5\n",
    "seed = 7\n",
    "scoring = 'accuracy'\n",
    "best_base_model, names, results = compare_base_models(models, X_train, y_train, scoring, num_folds)\n",
    "algorithm_comparison_chart('Comparação dos modelos base', 'modelos', 'precisão (0-1)', names, results, False)"
   ],
   "metadata": {
    "collapsed": false,
    "pycharm": {
     "name": "#%%\n"
    }
   }
  },
  {
   "cell_type": "markdown",
   "source": [
    "## Hyperparameter Optimization"
   ],
   "metadata": {
    "collapsed": false,
    "pycharm": {
     "name": "#%% md\n"
    }
   }
  },
  {
   "cell_type": "code",
   "execution_count": 26,
   "outputs": [],
   "source": [
    "optimized_model = get_optimized_model(ExtraTreesClassifier, False, X_train, y_train)"
   ],
   "metadata": {
    "collapsed": false,
    "pycharm": {
     "name": "#%%\n"
    }
   }
  },
  {
   "cell_type": "markdown",
   "source": [
    "## Test final model"
   ],
   "metadata": {
    "collapsed": false,
    "pycharm": {
     "name": "#%% md\n"
    }
   }
  },
  {
   "cell_type": "code",
   "execution_count": 27,
   "outputs": [
    {
     "name": "stdout",
     "output_type": "stream",
     "text": [
      "Model Performance\n",
      "Accuracy: 0.76%\n",
      "              precision    recall  f1-score   support\n",
      "\n",
      " Não popular       0.89      0.81      0.85    145295\n",
      "     Popular       0.34      0.51      0.41     28813\n",
      "\n",
      "    accuracy                           0.76    174108\n",
      "   macro avg       0.62      0.66      0.63    174108\n",
      "weighted avg       0.80      0.76      0.77    174108\n",
      "\n"
     ]
    },
    {
     "ename": "FileNotFoundError",
     "evalue": "[Errno 2] No such file or directory: '../data/models/popularity.joblib'",
     "output_type": "error",
     "traceback": [
      "\u001B[1;31m---------------------------------------------------------------------------\u001B[0m",
      "\u001B[1;31mFileNotFoundError\u001B[0m                         Traceback (most recent call last)",
      "Input \u001B[1;32mIn [27]\u001B[0m, in \u001B[0;36m<cell line: 1>\u001B[1;34m()\u001B[0m\n\u001B[1;32m----> 1\u001B[0m \u001B[43mtrain_evaluate_save\u001B[49m\u001B[43m(\u001B[49m\u001B[43moptimized_model\u001B[49m\u001B[43m,\u001B[49m\u001B[43m \u001B[49m\u001B[43mX_train\u001B[49m\u001B[43m,\u001B[49m\u001B[43m \u001B[49m\u001B[43my_train\u001B[49m\u001B[43m,\u001B[49m\u001B[43m \u001B[49m\u001B[43mX_test\u001B[49m\u001B[43m,\u001B[49m\u001B[43m \u001B[49m\u001B[43my_test\u001B[49m\u001B[43m)\u001B[49m\n",
      "File \u001B[1;32m~\\PycharmProjects\\InformationFlow\\Twitter\\analysis_v2\\data_prediction_ml.py:240\u001B[0m, in \u001B[0;36mtrain_evaluate_save\u001B[1;34m(model, X_train, y_train, X_test, y_test)\u001B[0m\n\u001B[0;32m    238\u001B[0m labels \u001B[38;5;241m=\u001B[39m [\u001B[38;5;124m\"\u001B[39m\u001B[38;5;124mNão popular\u001B[39m\u001B[38;5;124m\"\u001B[39m, \u001B[38;5;124m\"\u001B[39m\u001B[38;5;124mPopular\u001B[39m\u001B[38;5;124m\"\u001B[39m]\n\u001B[0;32m    239\u001B[0m \u001B[38;5;28mprint\u001B[39m(classification_report(y_test, predictions, target_names\u001B[38;5;241m=\u001B[39mlabels))\n\u001B[1;32m--> 240\u001B[0m \u001B[43mjoblib\u001B[49m\u001B[38;5;241;43m.\u001B[39;49m\u001B[43mdump\u001B[49m\u001B[43m(\u001B[49m\u001B[43mmodel\u001B[49m\u001B[43m,\u001B[49m\u001B[43m \u001B[49m\u001B[38;5;124;43m'\u001B[39;49m\u001B[38;5;124;43m../data/models/popularity.joblib\u001B[39;49m\u001B[38;5;124;43m'\u001B[39;49m\u001B[43m)\u001B[49m\n\u001B[0;32m    241\u001B[0m \u001B[38;5;28;01mreturn\u001B[39;00m accuracy\n",
      "File \u001B[1;32m~\\PycharmProjects\\maleOrFemaleEyes\\venv\\lib\\site-packages\\joblib\\numpy_pickle.py:481\u001B[0m, in \u001B[0;36mdump\u001B[1;34m(value, filename, compress, protocol, cache_size)\u001B[0m\n\u001B[0;32m    479\u001B[0m         NumpyPickler(f, protocol\u001B[38;5;241m=\u001B[39mprotocol)\u001B[38;5;241m.\u001B[39mdump(value)\n\u001B[0;32m    480\u001B[0m \u001B[38;5;28;01melif\u001B[39;00m is_filename:\n\u001B[1;32m--> 481\u001B[0m     \u001B[38;5;28;01mwith\u001B[39;00m \u001B[38;5;28;43mopen\u001B[39;49m\u001B[43m(\u001B[49m\u001B[43mfilename\u001B[49m\u001B[43m,\u001B[49m\u001B[43m \u001B[49m\u001B[38;5;124;43m'\u001B[39;49m\u001B[38;5;124;43mwb\u001B[39;49m\u001B[38;5;124;43m'\u001B[39;49m\u001B[43m)\u001B[49m \u001B[38;5;28;01mas\u001B[39;00m f:\n\u001B[0;32m    482\u001B[0m         NumpyPickler(f, protocol\u001B[38;5;241m=\u001B[39mprotocol)\u001B[38;5;241m.\u001B[39mdump(value)\n\u001B[0;32m    483\u001B[0m \u001B[38;5;28;01melse\u001B[39;00m:\n",
      "\u001B[1;31mFileNotFoundError\u001B[0m: [Errno 2] No such file or directory: '../data/models/popularity.joblib'"
     ]
    }
   ],
   "source": [
    "train_evaluate_save(optimized_model, X_train, y_train, X_test, y_test)"
   ],
   "metadata": {
    "collapsed": false,
    "pycharm": {
     "name": "#%%\n"
    }
   }
  },
  {
   "cell_type": "code",
   "execution_count": null,
   "outputs": [],
   "source": [],
   "metadata": {
    "collapsed": false,
    "pycharm": {
     "name": "#%%\n"
    }
   }
  }
 ],
 "metadata": {
  "kernelspec": {
   "display_name": "Python 3",
   "language": "python",
   "name": "python3"
  },
  "language_info": {
   "codemirror_mode": {
    "name": "ipython",
    "version": 2
   },
   "file_extension": ".py",
   "mimetype": "text/x-python",
   "name": "python",
   "nbconvert_exporter": "python",
   "pygments_lexer": "ipython2",
   "version": "2.7.6"
  }
 },
 "nbformat": 4,
 "nbformat_minor": 0
}