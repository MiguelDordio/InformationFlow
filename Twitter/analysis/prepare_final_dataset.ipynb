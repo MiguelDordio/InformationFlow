{
 "cells": [
  {
   "cell_type": "code",
   "execution_count": 1,
   "metadata": {
    "collapsed": true
   },
   "outputs": [],
   "source": [
    "import numpy as np\n",
    "import pandas as pd\n",
    "import gensim\n",
    "from gensim.corpora import Dictionary"
   ]
  },
  {
   "cell_type": "markdown",
   "source": [
    "### Files locations"
   ],
   "metadata": {
    "collapsed": false,
    "pycharm": {
     "name": "#%% md\n"
    }
   }
  },
  {
   "cell_type": "code",
   "execution_count": 2,
   "outputs": [],
   "source": [
    "FILE_USERS = \"../../data/users_2020_2021.csv\"\n",
    "FILE_USERS_TWEETS = \"../../data/tweets_2020_2021.csv\"\n",
    "FILE_RETWEETERS = \"../../data/retweets.csv\"\n",
    "FILE_RETWEETERS_USERS = \"../../data/retweets_users.csv\"\n",
    "POPULARITY = \"../../data/popularity_v2.csv\"\n",
    "\n",
    "# Topic analysis\n",
    "LDA_MODEL = \"../../data/models/simple_lda.model\"\n",
    "LDA_MODEL_DIC = \"../../data/models/simple_lda_dic\"\n",
    "IDF_LDA_MODEL = \"../../data/models/tf_idf_lda.model\"\n",
    "IDF_LDA_DIC = \"../../data/models/tf_idf_lda_dic\""
   ],
   "metadata": {
    "collapsed": false,
    "pycharm": {
     "name": "#%%\n"
    }
   }
  },
  {
   "cell_type": "markdown",
   "source": [
    "### Load Datasets"
   ],
   "metadata": {
    "collapsed": false,
    "pycharm": {
     "name": "#%% md\n"
    }
   }
  },
  {
   "cell_type": "code",
   "execution_count": 3,
   "outputs": [
    {
     "name": "stderr",
     "output_type": "stream",
     "text": [
      "/Users/migueloliveira/PycharmProjects/SocialInsight/venv/lib/python3.8/site-packages/IPython/core/interactiveshell.py:3251: DtypeWarning: Columns (2) have mixed types.Specify dtype option on import or set low_memory=False.\n",
      "  exec(code_obj, self.user_global_ns, self.user_ns)\n"
     ]
    }
   ],
   "source": [
    "users_df = pd.read_csv(filepath_or_buffer=FILE_USERS, sep=\",\")\n",
    "users_tweets_df = pd.read_csv(filepath_or_buffer=FILE_USERS_TWEETS, sep=\",\")\n",
    "\n",
    "# users_df = users_df[:100]\n",
    "# users_tweets_df = users_tweets_df[:100]"
   ],
   "metadata": {
    "collapsed": false,
    "pycharm": {
     "name": "#%%\n"
    }
   }
  },
  {
   "cell_type": "code",
   "execution_count": 4,
   "outputs": [
    {
     "data": {
      "text/plain": "         Unnamed: 0              user_id          name       username  \\\n0                 0  1384617512197783554         𝐋𝐘𝐀ᵛᵏ    dilftaegguk   \n1                 1           2268455894          ᄅᄅᄅ✨   RiqolivinLee   \n2                 2            782988768          kiki       kkyaraaa   \n3                 3   804025242410549250    Book Plots       aplotbot   \n4                 4   981788729130926080  Insightzclub   insightzclub   \n...             ...                  ...           ...            ...   \n1056257     1056257   718777835398307840       1040044    allpunkedup   \n1056258     1056258            900667362       1040045  WizzardOfTime   \n1056259     1056259            335363076       1040046    grumpyalget   \n1056260     1056260            146597135       1040047         flpwgr   \n1056261     1056261   969697777889546240       1040048      Aceonwrld   \n\n         followers  following  tweet_count  verified  \\\n0             2292       2351        25535     False   \n1             1258        718        35135     False   \n2              591        346        20208     False   \n3                2          0         7677     False   \n4               11         13          426     False   \n...            ...        ...          ...       ...   \n1056257       7102       4895        48933     False   \n1056258       9558        660        34899     False   \n1056259        649       1261         4422     False   \n1056260        287        611         9983     False   \n1056261         37        143          699     False   \n\n                        created_at  \n0        2021-04-20 21:18:48+00:00  \n1        2013-12-30 06:51:41+00:00  \n2        2012-08-26 18:54:03+00:00  \n3        2016-11-30 18:12:10+00:00  \n4        2018-04-05 07:00:48+00:00  \n...                            ...  \n1056257        2016-04-09 12:29:25  \n1056258        2012-10-23 22:04:21  \n1056259        2011-07-14 15:31:53  \n1056260        2010-05-21 21:22:51  \n1056261        2018-03-02 22:15:41  \n\n[1056262 rows x 9 columns]",
      "text/html": "<div>\n<style scoped>\n    .dataframe tbody tr th:only-of-type {\n        vertical-align: middle;\n    }\n\n    .dataframe tbody tr th {\n        vertical-align: top;\n    }\n\n    .dataframe thead th {\n        text-align: right;\n    }\n</style>\n<table border=\"1\" class=\"dataframe\">\n  <thead>\n    <tr style=\"text-align: right;\">\n      <th></th>\n      <th>Unnamed: 0</th>\n      <th>user_id</th>\n      <th>name</th>\n      <th>username</th>\n      <th>followers</th>\n      <th>following</th>\n      <th>tweet_count</th>\n      <th>verified</th>\n      <th>created_at</th>\n    </tr>\n  </thead>\n  <tbody>\n    <tr>\n      <th>0</th>\n      <td>0</td>\n      <td>1384617512197783554</td>\n      <td>𝐋𝐘𝐀ᵛᵏ</td>\n      <td>dilftaegguk</td>\n      <td>2292</td>\n      <td>2351</td>\n      <td>25535</td>\n      <td>False</td>\n      <td>2021-04-20 21:18:48+00:00</td>\n    </tr>\n    <tr>\n      <th>1</th>\n      <td>1</td>\n      <td>2268455894</td>\n      <td>ᄅᄅᄅ✨</td>\n      <td>RiqolivinLee</td>\n      <td>1258</td>\n      <td>718</td>\n      <td>35135</td>\n      <td>False</td>\n      <td>2013-12-30 06:51:41+00:00</td>\n    </tr>\n    <tr>\n      <th>2</th>\n      <td>2</td>\n      <td>782988768</td>\n      <td>kiki</td>\n      <td>kkyaraaa</td>\n      <td>591</td>\n      <td>346</td>\n      <td>20208</td>\n      <td>False</td>\n      <td>2012-08-26 18:54:03+00:00</td>\n    </tr>\n    <tr>\n      <th>3</th>\n      <td>3</td>\n      <td>804025242410549250</td>\n      <td>Book Plots</td>\n      <td>aplotbot</td>\n      <td>2</td>\n      <td>0</td>\n      <td>7677</td>\n      <td>False</td>\n      <td>2016-11-30 18:12:10+00:00</td>\n    </tr>\n    <tr>\n      <th>4</th>\n      <td>4</td>\n      <td>981788729130926080</td>\n      <td>Insightzclub</td>\n      <td>insightzclub</td>\n      <td>11</td>\n      <td>13</td>\n      <td>426</td>\n      <td>False</td>\n      <td>2018-04-05 07:00:48+00:00</td>\n    </tr>\n    <tr>\n      <th>...</th>\n      <td>...</td>\n      <td>...</td>\n      <td>...</td>\n      <td>...</td>\n      <td>...</td>\n      <td>...</td>\n      <td>...</td>\n      <td>...</td>\n      <td>...</td>\n    </tr>\n    <tr>\n      <th>1056257</th>\n      <td>1056257</td>\n      <td>718777835398307840</td>\n      <td>1040044</td>\n      <td>allpunkedup</td>\n      <td>7102</td>\n      <td>4895</td>\n      <td>48933</td>\n      <td>False</td>\n      <td>2016-04-09 12:29:25</td>\n    </tr>\n    <tr>\n      <th>1056258</th>\n      <td>1056258</td>\n      <td>900667362</td>\n      <td>1040045</td>\n      <td>WizzardOfTime</td>\n      <td>9558</td>\n      <td>660</td>\n      <td>34899</td>\n      <td>False</td>\n      <td>2012-10-23 22:04:21</td>\n    </tr>\n    <tr>\n      <th>1056259</th>\n      <td>1056259</td>\n      <td>335363076</td>\n      <td>1040046</td>\n      <td>grumpyalget</td>\n      <td>649</td>\n      <td>1261</td>\n      <td>4422</td>\n      <td>False</td>\n      <td>2011-07-14 15:31:53</td>\n    </tr>\n    <tr>\n      <th>1056260</th>\n      <td>1056260</td>\n      <td>146597135</td>\n      <td>1040047</td>\n      <td>flpwgr</td>\n      <td>287</td>\n      <td>611</td>\n      <td>9983</td>\n      <td>False</td>\n      <td>2010-05-21 21:22:51</td>\n    </tr>\n    <tr>\n      <th>1056261</th>\n      <td>1056261</td>\n      <td>969697777889546240</td>\n      <td>1040048</td>\n      <td>Aceonwrld</td>\n      <td>37</td>\n      <td>143</td>\n      <td>699</td>\n      <td>False</td>\n      <td>2018-03-02 22:15:41</td>\n    </tr>\n  </tbody>\n</table>\n<p>1056262 rows × 9 columns</p>\n</div>"
     },
     "execution_count": 4,
     "metadata": {},
     "output_type": "execute_result"
    }
   ],
   "source": [
    "users_df"
   ],
   "metadata": {
    "collapsed": false,
    "pycharm": {
     "name": "#%%\n"
    }
   }
  },
  {
   "cell_type": "code",
   "execution_count": 5,
   "outputs": [
    {
     "data": {
      "text/plain": "         Unnamed: 0             tweet_id  \\\n0                 0  1473095874767060995   \n1                 1  1473095874763005952   \n2                 2  1473095874762969090   \n3                 3  1473095874758598657   \n4                 4  1473095874754617344   \n...             ...                  ...   \n1056257     1056257  1277361122836791296   \n1056258     1056258  1277361122832789504   \n1056259     1056259  1277361122757271558   \n1056260     1056260  1277361122744680448   \n1056261     1056261  1277361122740404231   \n\n                                                      text  \\\n0                         Closed🙏🙏 https://t.co/PAQyzOLZhS   \n1              My feelings don’t be hurt just disappointed   \n2              Officially done with this semester 🥳🥳🥳🥳🥳🥳🥳🥳   \n3        A personified wolf discovers that their boy is...   \n4        As companies head into 2022 the future is hybr...   \n...                                                    ...   \n1056257  Bowling for Soup announce new song https://t.c...   \n1056258  Here’s the #Proposal💍👰🏼 stream from last night...   \n1056259       No one will miss you https://t.co/Oaw52bgtLH   \n1056260  How to use a Kolsch glass :trollface: https://...   \n1056261  My girl graduated y’all ‘ IM SO FUCKING PROUD ...   \n\n                     user_id                  timestamp      tweet_type  \\\n0        1384617512197783554  2021-12-21 00:59:59+00:00  Original Tweet   \n1                 2268455894  2021-12-21 00:59:59+00:00  Original Tweet   \n2                  782988768  2021-12-21 00:59:59+00:00  Original Tweet   \n3         804025242410549250  2021-12-21 00:59:59+00:00  Original Tweet   \n4         981788729130926080  2021-12-21 00:59:59+00:00  Original Tweet   \n...                      ...                        ...             ...   \n1056257   718777835398307840        2020-06-28 21:59:58  Original Tweet   \n1056258            900667362        2020-06-28 21:59:58  Original Tweet   \n1056259            335363076        2020-06-28 21:59:58  Original Tweet   \n1056260            146597135        2020-06-28 21:59:58  Original Tweet   \n1056261   969697777889546240        2020-06-28 21:59:58  Original Tweet   \n\n         like_count  reply_count  retweet_count  quote_count   device lang  \\\n0                 0            0              0            0  Android   en   \n1                 4            0              0            1   iPhone   en   \n2                 3            0              0            0   iPhone   en   \n3                 0            0              0            0      Bot   en   \n4                 0            0              0            0      NaN   en   \n...             ...          ...            ...          ...      ...  ...   \n1056257           4            0              2            0      NaN   en   \n1056258          13            0              3            0     iPad   en   \n1056259           0            0              0            0   iPhone   en   \n1056260           1            2              0            0   iPhone   en   \n1056261           1            0              0            0   iPhone   en   \n\n                 topics_ids                                     topics  \\\n0                        []                                         []   \n1                        []                                         []   \n2                        []                                         []   \n3                        []                                         []   \n4                        []                                         []   \n...                     ...                                        ...   \n1056257                  []                                         []   \n1056258  ['46', '47', '71']  ['Brand Category', 'Brand', 'Video Game']   \n1056259                  []                                         []   \n1056260                  []                                         []   \n1056261                  []                                         []   \n\n        referenced_tweets  \n0                     NaN  \n1                     NaN  \n2                     NaN  \n3                     NaN  \n4                     NaN  \n...                   ...  \n1056257               NaN  \n1056258               NaN  \n1056259               NaN  \n1056260               NaN  \n1056261               NaN  \n\n[1056262 rows x 15 columns]",
      "text/html": "<div>\n<style scoped>\n    .dataframe tbody tr th:only-of-type {\n        vertical-align: middle;\n    }\n\n    .dataframe tbody tr th {\n        vertical-align: top;\n    }\n\n    .dataframe thead th {\n        text-align: right;\n    }\n</style>\n<table border=\"1\" class=\"dataframe\">\n  <thead>\n    <tr style=\"text-align: right;\">\n      <th></th>\n      <th>Unnamed: 0</th>\n      <th>tweet_id</th>\n      <th>text</th>\n      <th>user_id</th>\n      <th>timestamp</th>\n      <th>tweet_type</th>\n      <th>like_count</th>\n      <th>reply_count</th>\n      <th>retweet_count</th>\n      <th>quote_count</th>\n      <th>device</th>\n      <th>lang</th>\n      <th>topics_ids</th>\n      <th>topics</th>\n      <th>referenced_tweets</th>\n    </tr>\n  </thead>\n  <tbody>\n    <tr>\n      <th>0</th>\n      <td>0</td>\n      <td>1473095874767060995</td>\n      <td>Closed🙏🙏 https://t.co/PAQyzOLZhS</td>\n      <td>1384617512197783554</td>\n      <td>2021-12-21 00:59:59+00:00</td>\n      <td>Original Tweet</td>\n      <td>0</td>\n      <td>0</td>\n      <td>0</td>\n      <td>0</td>\n      <td>Android</td>\n      <td>en</td>\n      <td>[]</td>\n      <td>[]</td>\n      <td>NaN</td>\n    </tr>\n    <tr>\n      <th>1</th>\n      <td>1</td>\n      <td>1473095874763005952</td>\n      <td>My feelings don’t be hurt just disappointed</td>\n      <td>2268455894</td>\n      <td>2021-12-21 00:59:59+00:00</td>\n      <td>Original Tweet</td>\n      <td>4</td>\n      <td>0</td>\n      <td>0</td>\n      <td>1</td>\n      <td>iPhone</td>\n      <td>en</td>\n      <td>[]</td>\n      <td>[]</td>\n      <td>NaN</td>\n    </tr>\n    <tr>\n      <th>2</th>\n      <td>2</td>\n      <td>1473095874762969090</td>\n      <td>Officially done with this semester 🥳🥳🥳🥳🥳🥳🥳🥳</td>\n      <td>782988768</td>\n      <td>2021-12-21 00:59:59+00:00</td>\n      <td>Original Tweet</td>\n      <td>3</td>\n      <td>0</td>\n      <td>0</td>\n      <td>0</td>\n      <td>iPhone</td>\n      <td>en</td>\n      <td>[]</td>\n      <td>[]</td>\n      <td>NaN</td>\n    </tr>\n    <tr>\n      <th>3</th>\n      <td>3</td>\n      <td>1473095874758598657</td>\n      <td>A personified wolf discovers that their boy is...</td>\n      <td>804025242410549250</td>\n      <td>2021-12-21 00:59:59+00:00</td>\n      <td>Original Tweet</td>\n      <td>0</td>\n      <td>0</td>\n      <td>0</td>\n      <td>0</td>\n      <td>Bot</td>\n      <td>en</td>\n      <td>[]</td>\n      <td>[]</td>\n      <td>NaN</td>\n    </tr>\n    <tr>\n      <th>4</th>\n      <td>4</td>\n      <td>1473095874754617344</td>\n      <td>As companies head into 2022 the future is hybr...</td>\n      <td>981788729130926080</td>\n      <td>2021-12-21 00:59:59+00:00</td>\n      <td>Original Tweet</td>\n      <td>0</td>\n      <td>0</td>\n      <td>0</td>\n      <td>0</td>\n      <td>NaN</td>\n      <td>en</td>\n      <td>[]</td>\n      <td>[]</td>\n      <td>NaN</td>\n    </tr>\n    <tr>\n      <th>...</th>\n      <td>...</td>\n      <td>...</td>\n      <td>...</td>\n      <td>...</td>\n      <td>...</td>\n      <td>...</td>\n      <td>...</td>\n      <td>...</td>\n      <td>...</td>\n      <td>...</td>\n      <td>...</td>\n      <td>...</td>\n      <td>...</td>\n      <td>...</td>\n      <td>...</td>\n    </tr>\n    <tr>\n      <th>1056257</th>\n      <td>1056257</td>\n      <td>1277361122836791296</td>\n      <td>Bowling for Soup announce new song https://t.c...</td>\n      <td>718777835398307840</td>\n      <td>2020-06-28 21:59:58</td>\n      <td>Original Tweet</td>\n      <td>4</td>\n      <td>0</td>\n      <td>2</td>\n      <td>0</td>\n      <td>NaN</td>\n      <td>en</td>\n      <td>[]</td>\n      <td>[]</td>\n      <td>NaN</td>\n    </tr>\n    <tr>\n      <th>1056258</th>\n      <td>1056258</td>\n      <td>1277361122832789504</td>\n      <td>Here’s the #Proposal💍👰🏼 stream from last night...</td>\n      <td>900667362</td>\n      <td>2020-06-28 21:59:58</td>\n      <td>Original Tweet</td>\n      <td>13</td>\n      <td>0</td>\n      <td>3</td>\n      <td>0</td>\n      <td>iPad</td>\n      <td>en</td>\n      <td>['46', '47', '71']</td>\n      <td>['Brand Category', 'Brand', 'Video Game']</td>\n      <td>NaN</td>\n    </tr>\n    <tr>\n      <th>1056259</th>\n      <td>1056259</td>\n      <td>1277361122757271558</td>\n      <td>No one will miss you https://t.co/Oaw52bgtLH</td>\n      <td>335363076</td>\n      <td>2020-06-28 21:59:58</td>\n      <td>Original Tweet</td>\n      <td>0</td>\n      <td>0</td>\n      <td>0</td>\n      <td>0</td>\n      <td>iPhone</td>\n      <td>en</td>\n      <td>[]</td>\n      <td>[]</td>\n      <td>NaN</td>\n    </tr>\n    <tr>\n      <th>1056260</th>\n      <td>1056260</td>\n      <td>1277361122744680448</td>\n      <td>How to use a Kolsch glass :trollface: https://...</td>\n      <td>146597135</td>\n      <td>2020-06-28 21:59:58</td>\n      <td>Original Tweet</td>\n      <td>1</td>\n      <td>2</td>\n      <td>0</td>\n      <td>0</td>\n      <td>iPhone</td>\n      <td>en</td>\n      <td>[]</td>\n      <td>[]</td>\n      <td>NaN</td>\n    </tr>\n    <tr>\n      <th>1056261</th>\n      <td>1056261</td>\n      <td>1277361122740404231</td>\n      <td>My girl graduated y’all ‘ IM SO FUCKING PROUD ...</td>\n      <td>969697777889546240</td>\n      <td>2020-06-28 21:59:58</td>\n      <td>Original Tweet</td>\n      <td>1</td>\n      <td>0</td>\n      <td>0</td>\n      <td>0</td>\n      <td>iPhone</td>\n      <td>en</td>\n      <td>[]</td>\n      <td>[]</td>\n      <td>NaN</td>\n    </tr>\n  </tbody>\n</table>\n<p>1056262 rows × 15 columns</p>\n</div>"
     },
     "execution_count": 5,
     "metadata": {},
     "output_type": "execute_result"
    }
   ],
   "source": [
    "users_tweets_df"
   ],
   "metadata": {
    "collapsed": false,
    "pycharm": {
     "name": "#%%\n"
    }
   }
  },
  {
   "cell_type": "markdown",
   "source": [
    "### Sort tweets by timestamp"
   ],
   "metadata": {
    "collapsed": false,
    "pycharm": {
     "name": "#%% md\n"
    }
   }
  },
  {
   "cell_type": "code",
   "execution_count": 6,
   "outputs": [
    {
     "data": {
      "text/plain": "        Unnamed: 0             tweet_id  \\\n794525      794525  1212176606699180032   \n794528      794528  1212176606678044674   \n794529      794529  1212176606677979136   \n794530      794530  1212176606627815431   \n794531      794531  1212176606619480064   \n\n                                                     text  \\\n794525                                   IM READY FOR BTS   \n794528  I have over 50 cousins i found out about and t...   \n794529  What/who do you miss the most from your childh...   \n794530  Where is that same 70' Degree weather that we ...   \n794531  Lmao the way I screamed!!! 😂😂😂😂 https://t.co/1...   \n\n                    user_id            timestamp      tweet_type  like_count  \\\n794525  1078318888851513347  2020-01-01 00:59:58  Original Tweet           0   \n794528            591385371  2020-01-01 00:59:58  Original Tweet           2   \n794529  1103804603877871616  2020-01-01 00:59:58  Original Tweet           0   \n794530             32706756  2020-01-01 00:59:58  Original Tweet           0   \n794531             42065215  2020-01-01 00:59:58  Original Tweet           0   \n\n        reply_count  retweet_count  quote_count  device lang  \\\n794525            0              0            0  iPhone   en   \n794528            0              0            0  iPhone   en   \n794529            1              0            0     NaN   en   \n794530            0              0            0     NaN   en   \n794531            0              0            0  iPhone   en   \n\n                             topics_ids  \\\n794525                               []   \n794528                               []   \n794529                               []   \n794530  ['65', '66', '119', '65', '66']   \n794531                               []   \n\n                                                   topics referenced_tweets  \n794525                                                 []               NaN  \n794528                                                 []               NaN  \n794529                                                 []               NaN  \n794530  ['Interests and Hobbies Vertical', 'Interests ...               NaN  \n794531                                                 []               NaN  ",
      "text/html": "<div>\n<style scoped>\n    .dataframe tbody tr th:only-of-type {\n        vertical-align: middle;\n    }\n\n    .dataframe tbody tr th {\n        vertical-align: top;\n    }\n\n    .dataframe thead th {\n        text-align: right;\n    }\n</style>\n<table border=\"1\" class=\"dataframe\">\n  <thead>\n    <tr style=\"text-align: right;\">\n      <th></th>\n      <th>Unnamed: 0</th>\n      <th>tweet_id</th>\n      <th>text</th>\n      <th>user_id</th>\n      <th>timestamp</th>\n      <th>tweet_type</th>\n      <th>like_count</th>\n      <th>reply_count</th>\n      <th>retweet_count</th>\n      <th>quote_count</th>\n      <th>device</th>\n      <th>lang</th>\n      <th>topics_ids</th>\n      <th>topics</th>\n      <th>referenced_tweets</th>\n    </tr>\n  </thead>\n  <tbody>\n    <tr>\n      <th>794525</th>\n      <td>794525</td>\n      <td>1212176606699180032</td>\n      <td>IM READY FOR BTS</td>\n      <td>1078318888851513347</td>\n      <td>2020-01-01 00:59:58</td>\n      <td>Original Tweet</td>\n      <td>0</td>\n      <td>0</td>\n      <td>0</td>\n      <td>0</td>\n      <td>iPhone</td>\n      <td>en</td>\n      <td>[]</td>\n      <td>[]</td>\n      <td>NaN</td>\n    </tr>\n    <tr>\n      <th>794528</th>\n      <td>794528</td>\n      <td>1212176606678044674</td>\n      <td>I have over 50 cousins i found out about and t...</td>\n      <td>591385371</td>\n      <td>2020-01-01 00:59:58</td>\n      <td>Original Tweet</td>\n      <td>2</td>\n      <td>0</td>\n      <td>0</td>\n      <td>0</td>\n      <td>iPhone</td>\n      <td>en</td>\n      <td>[]</td>\n      <td>[]</td>\n      <td>NaN</td>\n    </tr>\n    <tr>\n      <th>794529</th>\n      <td>794529</td>\n      <td>1212176606677979136</td>\n      <td>What/who do you miss the most from your childh...</td>\n      <td>1103804603877871616</td>\n      <td>2020-01-01 00:59:58</td>\n      <td>Original Tweet</td>\n      <td>0</td>\n      <td>1</td>\n      <td>0</td>\n      <td>0</td>\n      <td>NaN</td>\n      <td>en</td>\n      <td>[]</td>\n      <td>[]</td>\n      <td>NaN</td>\n    </tr>\n    <tr>\n      <th>794530</th>\n      <td>794530</td>\n      <td>1212176606627815431</td>\n      <td>Where is that same 70' Degree weather that we ...</td>\n      <td>32706756</td>\n      <td>2020-01-01 00:59:58</td>\n      <td>Original Tweet</td>\n      <td>0</td>\n      <td>0</td>\n      <td>0</td>\n      <td>0</td>\n      <td>NaN</td>\n      <td>en</td>\n      <td>['65', '66', '119', '65', '66']</td>\n      <td>['Interests and Hobbies Vertical', 'Interests ...</td>\n      <td>NaN</td>\n    </tr>\n    <tr>\n      <th>794531</th>\n      <td>794531</td>\n      <td>1212176606619480064</td>\n      <td>Lmao the way I screamed!!! 😂😂😂😂 https://t.co/1...</td>\n      <td>42065215</td>\n      <td>2020-01-01 00:59:58</td>\n      <td>Original Tweet</td>\n      <td>0</td>\n      <td>0</td>\n      <td>0</td>\n      <td>0</td>\n      <td>iPhone</td>\n      <td>en</td>\n      <td>[]</td>\n      <td>[]</td>\n      <td>NaN</td>\n    </tr>\n  </tbody>\n</table>\n</div>"
     },
     "execution_count": 6,
     "metadata": {},
     "output_type": "execute_result"
    }
   ],
   "source": [
    "users_tweets_df = users_tweets_df.sort_values(by='timestamp', ascending=True)\n",
    "users_tweets_df.head(5)"
   ],
   "metadata": {
    "collapsed": false,
    "pycharm": {
     "name": "#%%\n"
    }
   }
  },
  {
   "cell_type": "markdown",
   "source": [
    "### Delete duplicate users"
   ],
   "metadata": {
    "collapsed": false,
    "pycharm": {
     "name": "#%% md\n"
    }
   }
  },
  {
   "cell_type": "code",
   "execution_count": 7,
   "outputs": [
    {
     "data": {
      "text/plain": "         Unnamed: 0              user_id          name         username  \\\n0                 0  1384617512197783554         𝐋𝐘𝐀ᵛᵏ      dilftaegguk   \n1                 1           2268455894          ᄅᄅᄅ✨     RiqolivinLee   \n2                 2            782988768          kiki         kkyaraaa   \n3                 3   804025242410549250    Book Plots         aplotbot   \n4                 4   981788729130926080  Insightzclub     insightzclub   \n...             ...                  ...           ...              ...   \n1056255     1056255           2679084948       1040042  BerlinMusicStat   \n1056256     1056256             17710576       1040043     diegosalazar   \n1056259     1056259            335363076       1040046      grumpyalget   \n1056260     1056260            146597135       1040047           flpwgr   \n1056261     1056261   969697777889546240       1040048        Aceonwrld   \n\n         followers  following  tweet_count  verified  \\\n0             2292       2351        25535     False   \n1             1258        718        35135     False   \n2              591        346        20208     False   \n3                2          0         7677     False   \n4               11         13          426     False   \n...            ...        ...          ...       ...   \n1056255        936        266         7474     False   \n1056256        760       3090         6411     False   \n1056259        649       1261         4422     False   \n1056260        287        611         9983     False   \n1056261         37        143          699     False   \n\n                        created_at  \n0        2021-04-20 21:18:48+00:00  \n1        2013-12-30 06:51:41+00:00  \n2        2012-08-26 18:54:03+00:00  \n3        2016-11-30 18:12:10+00:00  \n4        2018-04-05 07:00:48+00:00  \n...                            ...  \n1056255        2014-07-25 08:53:43  \n1056256        2008-11-28 15:31:04  \n1056259        2011-07-14 15:31:53  \n1056260        2010-05-21 21:22:51  \n1056261        2018-03-02 22:15:41  \n\n[833807 rows x 9 columns]",
      "text/html": "<div>\n<style scoped>\n    .dataframe tbody tr th:only-of-type {\n        vertical-align: middle;\n    }\n\n    .dataframe tbody tr th {\n        vertical-align: top;\n    }\n\n    .dataframe thead th {\n        text-align: right;\n    }\n</style>\n<table border=\"1\" class=\"dataframe\">\n  <thead>\n    <tr style=\"text-align: right;\">\n      <th></th>\n      <th>Unnamed: 0</th>\n      <th>user_id</th>\n      <th>name</th>\n      <th>username</th>\n      <th>followers</th>\n      <th>following</th>\n      <th>tweet_count</th>\n      <th>verified</th>\n      <th>created_at</th>\n    </tr>\n  </thead>\n  <tbody>\n    <tr>\n      <th>0</th>\n      <td>0</td>\n      <td>1384617512197783554</td>\n      <td>𝐋𝐘𝐀ᵛᵏ</td>\n      <td>dilftaegguk</td>\n      <td>2292</td>\n      <td>2351</td>\n      <td>25535</td>\n      <td>False</td>\n      <td>2021-04-20 21:18:48+00:00</td>\n    </tr>\n    <tr>\n      <th>1</th>\n      <td>1</td>\n      <td>2268455894</td>\n      <td>ᄅᄅᄅ✨</td>\n      <td>RiqolivinLee</td>\n      <td>1258</td>\n      <td>718</td>\n      <td>35135</td>\n      <td>False</td>\n      <td>2013-12-30 06:51:41+00:00</td>\n    </tr>\n    <tr>\n      <th>2</th>\n      <td>2</td>\n      <td>782988768</td>\n      <td>kiki</td>\n      <td>kkyaraaa</td>\n      <td>591</td>\n      <td>346</td>\n      <td>20208</td>\n      <td>False</td>\n      <td>2012-08-26 18:54:03+00:00</td>\n    </tr>\n    <tr>\n      <th>3</th>\n      <td>3</td>\n      <td>804025242410549250</td>\n      <td>Book Plots</td>\n      <td>aplotbot</td>\n      <td>2</td>\n      <td>0</td>\n      <td>7677</td>\n      <td>False</td>\n      <td>2016-11-30 18:12:10+00:00</td>\n    </tr>\n    <tr>\n      <th>4</th>\n      <td>4</td>\n      <td>981788729130926080</td>\n      <td>Insightzclub</td>\n      <td>insightzclub</td>\n      <td>11</td>\n      <td>13</td>\n      <td>426</td>\n      <td>False</td>\n      <td>2018-04-05 07:00:48+00:00</td>\n    </tr>\n    <tr>\n      <th>...</th>\n      <td>...</td>\n      <td>...</td>\n      <td>...</td>\n      <td>...</td>\n      <td>...</td>\n      <td>...</td>\n      <td>...</td>\n      <td>...</td>\n      <td>...</td>\n    </tr>\n    <tr>\n      <th>1056255</th>\n      <td>1056255</td>\n      <td>2679084948</td>\n      <td>1040042</td>\n      <td>BerlinMusicStat</td>\n      <td>936</td>\n      <td>266</td>\n      <td>7474</td>\n      <td>False</td>\n      <td>2014-07-25 08:53:43</td>\n    </tr>\n    <tr>\n      <th>1056256</th>\n      <td>1056256</td>\n      <td>17710576</td>\n      <td>1040043</td>\n      <td>diegosalazar</td>\n      <td>760</td>\n      <td>3090</td>\n      <td>6411</td>\n      <td>False</td>\n      <td>2008-11-28 15:31:04</td>\n    </tr>\n    <tr>\n      <th>1056259</th>\n      <td>1056259</td>\n      <td>335363076</td>\n      <td>1040046</td>\n      <td>grumpyalget</td>\n      <td>649</td>\n      <td>1261</td>\n      <td>4422</td>\n      <td>False</td>\n      <td>2011-07-14 15:31:53</td>\n    </tr>\n    <tr>\n      <th>1056260</th>\n      <td>1056260</td>\n      <td>146597135</td>\n      <td>1040047</td>\n      <td>flpwgr</td>\n      <td>287</td>\n      <td>611</td>\n      <td>9983</td>\n      <td>False</td>\n      <td>2010-05-21 21:22:51</td>\n    </tr>\n    <tr>\n      <th>1056261</th>\n      <td>1056261</td>\n      <td>969697777889546240</td>\n      <td>1040048</td>\n      <td>Aceonwrld</td>\n      <td>37</td>\n      <td>143</td>\n      <td>699</td>\n      <td>False</td>\n      <td>2018-03-02 22:15:41</td>\n    </tr>\n  </tbody>\n</table>\n<p>833807 rows × 9 columns</p>\n</div>"
     },
     "execution_count": 7,
     "metadata": {},
     "output_type": "execute_result"
    }
   ],
   "source": [
    "users_df = users_df.drop_duplicates(subset=['user_id'], keep=\"first\")\n",
    "users_df"
   ],
   "metadata": {
    "collapsed": false,
    "pycharm": {
     "name": "#%%\n"
    }
   }
  },
  {
   "cell_type": "markdown",
   "source": [
    "### Calculate tweet reach\n",
    "\n",
    "#### These values indicate the maximum possible of people that could have seen a given tweet\n",
    "\n",
    "To do this, a sum of all the original tweet user's followers is made with the followers from all the users that retweeted/quoted the tweet\n",
    "\n",
    "Note: this assumes that if a retweet is then shared by retweet again, those next audiences are not taken into account"
   ],
   "metadata": {
    "collapsed": false,
    "pycharm": {
     "name": "#%% md\n"
    }
   }
  },
  {
   "cell_type": "code",
   "execution_count": 8,
   "outputs": [],
   "source": [
    "t_retweeters = pd.read_csv(filepath_or_buffer=FILE_RETWEETERS_USERS, sep=\",\")\n",
    "t_retweeters_tweets = pd.read_csv(filepath_or_buffer=FILE_RETWEETERS, sep=\",\")"
   ],
   "metadata": {
    "collapsed": false,
    "pycharm": {
     "name": "#%%\n"
    }
   }
  },
  {
   "cell_type": "code",
   "execution_count": 9,
   "outputs": [
    {
     "data": {
      "text/plain": "   Unnamed: 0             tweet_id  \\\n0           0  1353629005497458688   \n1           1  1351668710201819138   \n2           2  1351175296083488768   \n3           3  1350669195399323648   \n4           4  1350261759446114307   \n\n                                                text              user_id  \\\n0  RT @DriaPustaka: “I have always imagined that ...  1191025207709974530   \n1  RT @DriaPustaka: “Take no heed of her.... She ...   975687478534340610   \n2  RT @DriaPustaka: “I have always imagined that ...  1191025207709974530   \n3  RT @DriaPustaka: “Books are mirrors: you only ...  1318998016620154881   \n4  RT @DriaPustaka: “If you have enough book spac...            305408199   \n\n                   timestamp     tweet_type  like_count  reply_count  \\\n0  2021-01-25 09:01:18+00:00  Retweet Tweet           0            0   \n1  2021-01-19 23:11:47+00:00  Retweet Tweet           0            0   \n2  2021-01-18 14:31:08+00:00  Retweet Tweet           0            0   \n3  2021-01-17 05:00:05+00:00  Retweet Tweet           0            0   \n4  2021-01-16 02:01:04+00:00  Retweet Tweet           0            0   \n\n   retweet_count  quote_count   device lang topics_ids topics  \\\n0              1            0      Bot   en         []     []   \n1              1            0   iPhone   en         []     []   \n2              1            0      Bot   en         []     []   \n3              1            0      NaN   en         []     []   \n4              1            0  Android   en         []     []   \n\n                                   referenced_tweets  \n0  [ReferencedTweet(id: 1353628732087361537, type...  \n1  [ReferencedTweet(id: 1351499686033571840, type...  \n2  [ReferencedTweet(id: 1351175042260983813, type...  \n3  [ReferencedTweet(id: 1350669173727260676, type...  \n4  [ReferencedTweet(id: 1349989721372413952, type...  ",
      "text/html": "<div>\n<style scoped>\n    .dataframe tbody tr th:only-of-type {\n        vertical-align: middle;\n    }\n\n    .dataframe tbody tr th {\n        vertical-align: top;\n    }\n\n    .dataframe thead th {\n        text-align: right;\n    }\n</style>\n<table border=\"1\" class=\"dataframe\">\n  <thead>\n    <tr style=\"text-align: right;\">\n      <th></th>\n      <th>Unnamed: 0</th>\n      <th>tweet_id</th>\n      <th>text</th>\n      <th>user_id</th>\n      <th>timestamp</th>\n      <th>tweet_type</th>\n      <th>like_count</th>\n      <th>reply_count</th>\n      <th>retweet_count</th>\n      <th>quote_count</th>\n      <th>device</th>\n      <th>lang</th>\n      <th>topics_ids</th>\n      <th>topics</th>\n      <th>referenced_tweets</th>\n    </tr>\n  </thead>\n  <tbody>\n    <tr>\n      <th>0</th>\n      <td>0</td>\n      <td>1353629005497458688</td>\n      <td>RT @DriaPustaka: “I have always imagined that ...</td>\n      <td>1191025207709974530</td>\n      <td>2021-01-25 09:01:18+00:00</td>\n      <td>Retweet Tweet</td>\n      <td>0</td>\n      <td>0</td>\n      <td>1</td>\n      <td>0</td>\n      <td>Bot</td>\n      <td>en</td>\n      <td>[]</td>\n      <td>[]</td>\n      <td>[ReferencedTweet(id: 1353628732087361537, type...</td>\n    </tr>\n    <tr>\n      <th>1</th>\n      <td>1</td>\n      <td>1351668710201819138</td>\n      <td>RT @DriaPustaka: “Take no heed of her.... She ...</td>\n      <td>975687478534340610</td>\n      <td>2021-01-19 23:11:47+00:00</td>\n      <td>Retweet Tweet</td>\n      <td>0</td>\n      <td>0</td>\n      <td>1</td>\n      <td>0</td>\n      <td>iPhone</td>\n      <td>en</td>\n      <td>[]</td>\n      <td>[]</td>\n      <td>[ReferencedTweet(id: 1351499686033571840, type...</td>\n    </tr>\n    <tr>\n      <th>2</th>\n      <td>2</td>\n      <td>1351175296083488768</td>\n      <td>RT @DriaPustaka: “I have always imagined that ...</td>\n      <td>1191025207709974530</td>\n      <td>2021-01-18 14:31:08+00:00</td>\n      <td>Retweet Tweet</td>\n      <td>0</td>\n      <td>0</td>\n      <td>1</td>\n      <td>0</td>\n      <td>Bot</td>\n      <td>en</td>\n      <td>[]</td>\n      <td>[]</td>\n      <td>[ReferencedTweet(id: 1351175042260983813, type...</td>\n    </tr>\n    <tr>\n      <th>3</th>\n      <td>3</td>\n      <td>1350669195399323648</td>\n      <td>RT @DriaPustaka: “Books are mirrors: you only ...</td>\n      <td>1318998016620154881</td>\n      <td>2021-01-17 05:00:05+00:00</td>\n      <td>Retweet Tweet</td>\n      <td>0</td>\n      <td>0</td>\n      <td>1</td>\n      <td>0</td>\n      <td>NaN</td>\n      <td>en</td>\n      <td>[]</td>\n      <td>[]</td>\n      <td>[ReferencedTweet(id: 1350669173727260676, type...</td>\n    </tr>\n    <tr>\n      <th>4</th>\n      <td>4</td>\n      <td>1350261759446114307</td>\n      <td>RT @DriaPustaka: “If you have enough book spac...</td>\n      <td>305408199</td>\n      <td>2021-01-16 02:01:04+00:00</td>\n      <td>Retweet Tweet</td>\n      <td>0</td>\n      <td>0</td>\n      <td>1</td>\n      <td>0</td>\n      <td>Android</td>\n      <td>en</td>\n      <td>[]</td>\n      <td>[]</td>\n      <td>[ReferencedTweet(id: 1349989721372413952, type...</td>\n    </tr>\n  </tbody>\n</table>\n</div>"
     },
     "execution_count": 9,
     "metadata": {},
     "output_type": "execute_result"
    }
   ],
   "source": [
    "t_retweeters_tweets.head()"
   ],
   "metadata": {
    "collapsed": false,
    "pycharm": {
     "name": "#%%\n"
    }
   }
  },
  {
   "cell_type": "code",
   "execution_count": 10,
   "outputs": [],
   "source": [
    "def get_ref_tweet_id(ref_tweets):\n",
    "    g = str(ref_tweets)\n",
    "    if isinstance(g, str) and g != 'nan':\n",
    "        return g.split()[1].replace(',', '')\n",
    "    else: return None"
   ],
   "metadata": {
    "collapsed": false,
    "pycharm": {
     "name": "#%%\n"
    }
   }
  },
  {
   "cell_type": "code",
   "execution_count": 11,
   "outputs": [],
   "source": [
    "t_retweeters_tweets['ref_tweed_id'] = t_retweeters_tweets['referenced_tweets'].apply(lambda ref_tweet: get_ref_tweet_id(ref_tweet))"
   ],
   "metadata": {
    "collapsed": false,
    "pycharm": {
     "name": "#%%\n"
    }
   }
  },
  {
   "cell_type": "code",
   "execution_count": 12,
   "outputs": [],
   "source": [
    "def get_retweeters_reach(tweet_id, total_reach):\n",
    "    retweets_users_ids = t_retweeters_tweets[t_retweeters_tweets['ref_tweed_id'] == tweet_id]['user_id'].tolist()\n",
    "    for user_id in retweets_users_ids:\n",
    "        total_reach += t_retweeters[t_retweeters['user_id'] == user_id]['followers'].sum()\n"
   ],
   "metadata": {
    "collapsed": false,
    "pycharm": {
     "name": "#%%\n"
    }
   }
  },
  {
   "cell_type": "code",
   "execution_count": 13,
   "outputs": [],
   "source": [
    "def calculate_tweet_reach(tweet_id, user_id):\n",
    "    total_reach = 0\n",
    "    total_reach += users_df[users_df['user_id'] == user_id]['followers'].sum()\n",
    "    get_retweeters_reach(tweet_id, total_reach)\n",
    "    return total_reach"
   ],
   "metadata": {
    "collapsed": false,
    "pycharm": {
     "name": "#%%\n"
    }
   }
  },
  {
   "cell_type": "code",
   "execution_count": 14,
   "outputs": [
    {
     "data": {
      "text/plain": "        Unnamed: 0             tweet_id  \\\n794525      794525  1212176606699180032   \n794528      794528  1212176606678044674   \n794529      794529  1212176606677979136   \n794530      794530  1212176606627815431   \n794531      794531  1212176606619480064   \n\n                                                     text  \\\n794525                                   IM READY FOR BTS   \n794528  I have over 50 cousins i found out about and t...   \n794529  What/who do you miss the most from your childh...   \n794530  Where is that same 70' Degree weather that we ...   \n794531  Lmao the way I screamed!!! 😂😂😂😂 https://t.co/1...   \n\n                    user_id            timestamp      tweet_type  like_count  \\\n794525  1078318888851513347  2020-01-01 00:59:58  Original Tweet           0   \n794528            591385371  2020-01-01 00:59:58  Original Tweet           2   \n794529  1103804603877871616  2020-01-01 00:59:58  Original Tweet           0   \n794530             32706756  2020-01-01 00:59:58  Original Tweet           0   \n794531             42065215  2020-01-01 00:59:58  Original Tweet           0   \n\n        reply_count  retweet_count  quote_count  device lang  \\\n794525            0              0            0  iPhone   en   \n794528            0              0            0  iPhone   en   \n794529            1              0            0     NaN   en   \n794530            0              0            0     NaN   en   \n794531            0              0            0  iPhone   en   \n\n                             topics_ids  \\\n794525                               []   \n794528                               []   \n794529                               []   \n794530  ['65', '66', '119', '65', '66']   \n794531                               []   \n\n                                                   topics referenced_tweets  \\\n794525                                                 []               NaN   \n794528                                                 []               NaN   \n794529                                                 []               NaN   \n794530  ['Interests and Hobbies Vertical', 'Interests ...               NaN   \n794531                                                 []               NaN   \n\n        reach  \n794525    100  \n794528    366  \n794529   1131  \n794530    145  \n794531  23168  ",
      "text/html": "<div>\n<style scoped>\n    .dataframe tbody tr th:only-of-type {\n        vertical-align: middle;\n    }\n\n    .dataframe tbody tr th {\n        vertical-align: top;\n    }\n\n    .dataframe thead th {\n        text-align: right;\n    }\n</style>\n<table border=\"1\" class=\"dataframe\">\n  <thead>\n    <tr style=\"text-align: right;\">\n      <th></th>\n      <th>Unnamed: 0</th>\n      <th>tweet_id</th>\n      <th>text</th>\n      <th>user_id</th>\n      <th>timestamp</th>\n      <th>tweet_type</th>\n      <th>like_count</th>\n      <th>reply_count</th>\n      <th>retweet_count</th>\n      <th>quote_count</th>\n      <th>device</th>\n      <th>lang</th>\n      <th>topics_ids</th>\n      <th>topics</th>\n      <th>referenced_tweets</th>\n      <th>reach</th>\n    </tr>\n  </thead>\n  <tbody>\n    <tr>\n      <th>794525</th>\n      <td>794525</td>\n      <td>1212176606699180032</td>\n      <td>IM READY FOR BTS</td>\n      <td>1078318888851513347</td>\n      <td>2020-01-01 00:59:58</td>\n      <td>Original Tweet</td>\n      <td>0</td>\n      <td>0</td>\n      <td>0</td>\n      <td>0</td>\n      <td>iPhone</td>\n      <td>en</td>\n      <td>[]</td>\n      <td>[]</td>\n      <td>NaN</td>\n      <td>100</td>\n    </tr>\n    <tr>\n      <th>794528</th>\n      <td>794528</td>\n      <td>1212176606678044674</td>\n      <td>I have over 50 cousins i found out about and t...</td>\n      <td>591385371</td>\n      <td>2020-01-01 00:59:58</td>\n      <td>Original Tweet</td>\n      <td>2</td>\n      <td>0</td>\n      <td>0</td>\n      <td>0</td>\n      <td>iPhone</td>\n      <td>en</td>\n      <td>[]</td>\n      <td>[]</td>\n      <td>NaN</td>\n      <td>366</td>\n    </tr>\n    <tr>\n      <th>794529</th>\n      <td>794529</td>\n      <td>1212176606677979136</td>\n      <td>What/who do you miss the most from your childh...</td>\n      <td>1103804603877871616</td>\n      <td>2020-01-01 00:59:58</td>\n      <td>Original Tweet</td>\n      <td>0</td>\n      <td>1</td>\n      <td>0</td>\n      <td>0</td>\n      <td>NaN</td>\n      <td>en</td>\n      <td>[]</td>\n      <td>[]</td>\n      <td>NaN</td>\n      <td>1131</td>\n    </tr>\n    <tr>\n      <th>794530</th>\n      <td>794530</td>\n      <td>1212176606627815431</td>\n      <td>Where is that same 70' Degree weather that we ...</td>\n      <td>32706756</td>\n      <td>2020-01-01 00:59:58</td>\n      <td>Original Tweet</td>\n      <td>0</td>\n      <td>0</td>\n      <td>0</td>\n      <td>0</td>\n      <td>NaN</td>\n      <td>en</td>\n      <td>['65', '66', '119', '65', '66']</td>\n      <td>['Interests and Hobbies Vertical', 'Interests ...</td>\n      <td>NaN</td>\n      <td>145</td>\n    </tr>\n    <tr>\n      <th>794531</th>\n      <td>794531</td>\n      <td>1212176606619480064</td>\n      <td>Lmao the way I screamed!!! 😂😂😂😂 https://t.co/1...</td>\n      <td>42065215</td>\n      <td>2020-01-01 00:59:58</td>\n      <td>Original Tweet</td>\n      <td>0</td>\n      <td>0</td>\n      <td>0</td>\n      <td>0</td>\n      <td>iPhone</td>\n      <td>en</td>\n      <td>[]</td>\n      <td>[]</td>\n      <td>NaN</td>\n      <td>23168</td>\n    </tr>\n  </tbody>\n</table>\n</div>"
     },
     "execution_count": 14,
     "metadata": {},
     "output_type": "execute_result"
    }
   ],
   "source": [
    "users_tweets_df['reach'] = users_tweets_df.apply(lambda tweet_row: calculate_tweet_reach(tweet_row['tweet_id'], tweet_row['user_id']), axis=1)\n",
    "users_tweets_df.head(5)"
   ],
   "metadata": {
    "collapsed": false,
    "pycharm": {
     "name": "#%%\n"
    }
   }
  },
  {
   "cell_type": "markdown",
   "source": [
    "### Topic analysis\n",
    "\n",
    "#### Loading the previously trained topic analysis model and it's evaluations of each tweet text"
   ],
   "metadata": {
    "collapsed": false,
    "pycharm": {
     "name": "#%% md\n"
    }
   }
  },
  {
   "cell_type": "code",
   "execution_count": 15,
   "outputs": [
    {
     "data": {
      "text/plain": "        Unnamed: 0             tweet_id  \\\n794525      794525  1212176606699180032   \n794528      794528  1212176606678044674   \n794529      794529  1212176606677979136   \n794530      794530  1212176606627815431   \n794531      794531  1212176606619480064   \n\n                                                     text  \\\n794525                                   IM READY FOR BTS   \n794528  I have over 50 cousins i found out about and t...   \n794529  What/who do you miss the most from your childh...   \n794530  Where is that same 70' Degree weather that we ...   \n794531  Lmao the way I screamed!!! 😂😂😂😂 https://t.co/1...   \n\n                    user_id            timestamp      tweet_type  like_count  \\\n794525  1078318888851513347  2020-01-01 00:59:58  Original Tweet           0   \n794528            591385371  2020-01-01 00:59:58  Original Tweet           2   \n794529  1103804603877871616  2020-01-01 00:59:58  Original Tweet           0   \n794530             32706756  2020-01-01 00:59:58  Original Tweet           0   \n794531             42065215  2020-01-01 00:59:58  Original Tweet           0   \n\n        reply_count  retweet_count  quote_count  device lang  \\\n794525            0              0            0  iPhone   en   \n794528            0              0            0  iPhone   en   \n794529            1              0            0     NaN   en   \n794530            0              0            0     NaN   en   \n794531            0              0            0  iPhone   en   \n\n                             topics_ids  \\\n794525                               []   \n794528                               []   \n794529                               []   \n794530  ['65', '66', '119', '65', '66']   \n794531                               []   \n\n                                                   topics referenced_tweets  \\\n794525                                                 []               NaN   \n794528                                                 []               NaN   \n794529                                                 []               NaN   \n794530  ['Interests and Hobbies Vertical', 'Interests ...               NaN   \n794531                                                 []               NaN   \n\n        reach  \n794525    100  \n794528    366  \n794529   1131  \n794530    145  \n794531  23168  ",
      "text/html": "<div>\n<style scoped>\n    .dataframe tbody tr th:only-of-type {\n        vertical-align: middle;\n    }\n\n    .dataframe tbody tr th {\n        vertical-align: top;\n    }\n\n    .dataframe thead th {\n        text-align: right;\n    }\n</style>\n<table border=\"1\" class=\"dataframe\">\n  <thead>\n    <tr style=\"text-align: right;\">\n      <th></th>\n      <th>Unnamed: 0</th>\n      <th>tweet_id</th>\n      <th>text</th>\n      <th>user_id</th>\n      <th>timestamp</th>\n      <th>tweet_type</th>\n      <th>like_count</th>\n      <th>reply_count</th>\n      <th>retweet_count</th>\n      <th>quote_count</th>\n      <th>device</th>\n      <th>lang</th>\n      <th>topics_ids</th>\n      <th>topics</th>\n      <th>referenced_tweets</th>\n      <th>reach</th>\n    </tr>\n  </thead>\n  <tbody>\n    <tr>\n      <th>794525</th>\n      <td>794525</td>\n      <td>1212176606699180032</td>\n      <td>IM READY FOR BTS</td>\n      <td>1078318888851513347</td>\n      <td>2020-01-01 00:59:58</td>\n      <td>Original Tweet</td>\n      <td>0</td>\n      <td>0</td>\n      <td>0</td>\n      <td>0</td>\n      <td>iPhone</td>\n      <td>en</td>\n      <td>[]</td>\n      <td>[]</td>\n      <td>NaN</td>\n      <td>100</td>\n    </tr>\n    <tr>\n      <th>794528</th>\n      <td>794528</td>\n      <td>1212176606678044674</td>\n      <td>I have over 50 cousins i found out about and t...</td>\n      <td>591385371</td>\n      <td>2020-01-01 00:59:58</td>\n      <td>Original Tweet</td>\n      <td>2</td>\n      <td>0</td>\n      <td>0</td>\n      <td>0</td>\n      <td>iPhone</td>\n      <td>en</td>\n      <td>[]</td>\n      <td>[]</td>\n      <td>NaN</td>\n      <td>366</td>\n    </tr>\n    <tr>\n      <th>794529</th>\n      <td>794529</td>\n      <td>1212176606677979136</td>\n      <td>What/who do you miss the most from your childh...</td>\n      <td>1103804603877871616</td>\n      <td>2020-01-01 00:59:58</td>\n      <td>Original Tweet</td>\n      <td>0</td>\n      <td>1</td>\n      <td>0</td>\n      <td>0</td>\n      <td>NaN</td>\n      <td>en</td>\n      <td>[]</td>\n      <td>[]</td>\n      <td>NaN</td>\n      <td>1131</td>\n    </tr>\n    <tr>\n      <th>794530</th>\n      <td>794530</td>\n      <td>1212176606627815431</td>\n      <td>Where is that same 70' Degree weather that we ...</td>\n      <td>32706756</td>\n      <td>2020-01-01 00:59:58</td>\n      <td>Original Tweet</td>\n      <td>0</td>\n      <td>0</td>\n      <td>0</td>\n      <td>0</td>\n      <td>NaN</td>\n      <td>en</td>\n      <td>['65', '66', '119', '65', '66']</td>\n      <td>['Interests and Hobbies Vertical', 'Interests ...</td>\n      <td>NaN</td>\n      <td>145</td>\n    </tr>\n    <tr>\n      <th>794531</th>\n      <td>794531</td>\n      <td>1212176606619480064</td>\n      <td>Lmao the way I screamed!!! 😂😂😂😂 https://t.co/1...</td>\n      <td>42065215</td>\n      <td>2020-01-01 00:59:58</td>\n      <td>Original Tweet</td>\n      <td>0</td>\n      <td>0</td>\n      <td>0</td>\n      <td>0</td>\n      <td>iPhone</td>\n      <td>en</td>\n      <td>[]</td>\n      <td>[]</td>\n      <td>NaN</td>\n      <td>23168</td>\n    </tr>\n  </tbody>\n</table>\n</div>"
     },
     "execution_count": 15,
     "metadata": {},
     "output_type": "execute_result"
    }
   ],
   "source": [
    "users_tweets_df.head(5)"
   ],
   "metadata": {
    "collapsed": false,
    "pycharm": {
     "name": "#%%\n"
    }
   }
  },
  {
   "cell_type": "code",
   "execution_count": 16,
   "outputs": [],
   "source": [
    "import json\n",
    "\n",
    "def process_topic(topics:str):\n",
    "    s = topics\n",
    "    for i in range(topics.count('\\'')):\n",
    "        s = s.replace('\\'', '\"')\n",
    "    t = json.loads(s)\n",
    "    if len(t) > 0:\n",
    "        return t[0]\n",
    "    return None"
   ],
   "metadata": {
    "collapsed": false,
    "pycharm": {
     "name": "#%%\n"
    }
   }
  },
  {
   "cell_type": "code",
   "execution_count": 17,
   "outputs": [
    {
     "data": {
      "text/plain": "        Unnamed: 0             tweet_id  \\\n794525      794525  1212176606699180032   \n794528      794528  1212176606678044674   \n794529      794529  1212176606677979136   \n794530      794530  1212176606627815431   \n794531      794531  1212176606619480064   \n\n                                                     text  \\\n794525                                   IM READY FOR BTS   \n794528  I have over 50 cousins i found out about and t...   \n794529  What/who do you miss the most from your childh...   \n794530  Where is that same 70' Degree weather that we ...   \n794531  Lmao the way I screamed!!! 😂😂😂😂 https://t.co/1...   \n\n                    user_id            timestamp      tweet_type  like_count  \\\n794525  1078318888851513347  2020-01-01 00:59:58  Original Tweet           0   \n794528            591385371  2020-01-01 00:59:58  Original Tweet           2   \n794529  1103804603877871616  2020-01-01 00:59:58  Original Tweet           0   \n794530             32706756  2020-01-01 00:59:58  Original Tweet           0   \n794531             42065215  2020-01-01 00:59:58  Original Tweet           0   \n\n        reply_count  retweet_count  quote_count  device lang topics_ids  \\\n794525            0              0            0  iPhone   en       None   \n794528            0              0            0  iPhone   en       None   \n794529            1              0            0     NaN   en       None   \n794530            0              0            0     NaN   en         65   \n794531            0              0            0  iPhone   en       None   \n\n                                topics referenced_tweets  reach  \n794525                            None               NaN    100  \n794528                            None               NaN    366  \n794529                            None               NaN   1131  \n794530  Interests and Hobbies Vertical               NaN    145  \n794531                            None               NaN  23168  ",
      "text/html": "<div>\n<style scoped>\n    .dataframe tbody tr th:only-of-type {\n        vertical-align: middle;\n    }\n\n    .dataframe tbody tr th {\n        vertical-align: top;\n    }\n\n    .dataframe thead th {\n        text-align: right;\n    }\n</style>\n<table border=\"1\" class=\"dataframe\">\n  <thead>\n    <tr style=\"text-align: right;\">\n      <th></th>\n      <th>Unnamed: 0</th>\n      <th>tweet_id</th>\n      <th>text</th>\n      <th>user_id</th>\n      <th>timestamp</th>\n      <th>tweet_type</th>\n      <th>like_count</th>\n      <th>reply_count</th>\n      <th>retweet_count</th>\n      <th>quote_count</th>\n      <th>device</th>\n      <th>lang</th>\n      <th>topics_ids</th>\n      <th>topics</th>\n      <th>referenced_tweets</th>\n      <th>reach</th>\n    </tr>\n  </thead>\n  <tbody>\n    <tr>\n      <th>794525</th>\n      <td>794525</td>\n      <td>1212176606699180032</td>\n      <td>IM READY FOR BTS</td>\n      <td>1078318888851513347</td>\n      <td>2020-01-01 00:59:58</td>\n      <td>Original Tweet</td>\n      <td>0</td>\n      <td>0</td>\n      <td>0</td>\n      <td>0</td>\n      <td>iPhone</td>\n      <td>en</td>\n      <td>None</td>\n      <td>None</td>\n      <td>NaN</td>\n      <td>100</td>\n    </tr>\n    <tr>\n      <th>794528</th>\n      <td>794528</td>\n      <td>1212176606678044674</td>\n      <td>I have over 50 cousins i found out about and t...</td>\n      <td>591385371</td>\n      <td>2020-01-01 00:59:58</td>\n      <td>Original Tweet</td>\n      <td>2</td>\n      <td>0</td>\n      <td>0</td>\n      <td>0</td>\n      <td>iPhone</td>\n      <td>en</td>\n      <td>None</td>\n      <td>None</td>\n      <td>NaN</td>\n      <td>366</td>\n    </tr>\n    <tr>\n      <th>794529</th>\n      <td>794529</td>\n      <td>1212176606677979136</td>\n      <td>What/who do you miss the most from your childh...</td>\n      <td>1103804603877871616</td>\n      <td>2020-01-01 00:59:58</td>\n      <td>Original Tweet</td>\n      <td>0</td>\n      <td>1</td>\n      <td>0</td>\n      <td>0</td>\n      <td>NaN</td>\n      <td>en</td>\n      <td>None</td>\n      <td>None</td>\n      <td>NaN</td>\n      <td>1131</td>\n    </tr>\n    <tr>\n      <th>794530</th>\n      <td>794530</td>\n      <td>1212176606627815431</td>\n      <td>Where is that same 70' Degree weather that we ...</td>\n      <td>32706756</td>\n      <td>2020-01-01 00:59:58</td>\n      <td>Original Tweet</td>\n      <td>0</td>\n      <td>0</td>\n      <td>0</td>\n      <td>0</td>\n      <td>NaN</td>\n      <td>en</td>\n      <td>65</td>\n      <td>Interests and Hobbies Vertical</td>\n      <td>NaN</td>\n      <td>145</td>\n    </tr>\n    <tr>\n      <th>794531</th>\n      <td>794531</td>\n      <td>1212176606619480064</td>\n      <td>Lmao the way I screamed!!! 😂😂😂😂 https://t.co/1...</td>\n      <td>42065215</td>\n      <td>2020-01-01 00:59:58</td>\n      <td>Original Tweet</td>\n      <td>0</td>\n      <td>0</td>\n      <td>0</td>\n      <td>0</td>\n      <td>iPhone</td>\n      <td>en</td>\n      <td>None</td>\n      <td>None</td>\n      <td>NaN</td>\n      <td>23168</td>\n    </tr>\n  </tbody>\n</table>\n</div>"
     },
     "execution_count": 17,
     "metadata": {},
     "output_type": "execute_result"
    }
   ],
   "source": [
    "users_tweets_df['topics'] = users_tweets_df['topics'].apply(lambda topics: process_topic(topics))\n",
    "users_tweets_df['topics_ids'] = users_tweets_df['topics_ids'].apply(lambda topics: process_topic(topics))\n",
    "users_tweets_df.head(5)"
   ],
   "metadata": {
    "collapsed": false,
    "pycharm": {
     "name": "#%%\n"
    }
   }
  },
  {
   "cell_type": "markdown",
   "source": [
    "### Sentiment analysis"
   ],
   "metadata": {
    "collapsed": false,
    "pycharm": {
     "name": "#%% md\n"
    }
   }
  },
  {
   "cell_type": "code",
   "execution_count": 18,
   "outputs": [],
   "source": [
    "from vaderSentiment.vaderSentiment import SentimentIntensityAnalyzer\n",
    "\n",
    "def sentiment_scores(sentence, prints):\n",
    "    if prints: print(\"\\nSentence:\", sentence)\n",
    "\n",
    "    sid_obj = SentimentIntensityAnalyzer()\n",
    "    sentiment_dict = sid_obj.polarity_scores(sentence)\n",
    "\n",
    "    if sentiment_dict['compound'] >= 0.05:\n",
    "        if prints: print(\"Positive\")\n",
    "        return \"Positive\"\n",
    "    elif sentiment_dict['compound'] <= - 0.05:\n",
    "        if prints: print(\"Positive\")\n",
    "        return \"Negative\"\n",
    "    else:\n",
    "        if prints: print(\"Neutral\")\n",
    "        return \"Neutral\""
   ],
   "metadata": {
    "collapsed": false,
    "pycharm": {
     "name": "#%%\n"
    }
   }
  },
  {
   "cell_type": "code",
   "execution_count": 19,
   "outputs": [],
   "source": [
    "users_tweets_df['sentiment'] = users_tweets_df['text'].apply(lambda tweet_text: sentiment_scores(tweet_text, False))"
   ],
   "metadata": {
    "collapsed": false,
    "pycharm": {
     "name": "#%%\n"
    }
   }
  },
  {
   "cell_type": "code",
   "execution_count": 20,
   "outputs": [
    {
     "data": {
      "text/plain": "        Unnamed: 0             tweet_id  \\\n794525      794525  1212176606699180032   \n794528      794528  1212176606678044674   \n794529      794529  1212176606677979136   \n794530      794530  1212176606627815431   \n794531      794531  1212176606619480064   \n\n                                                     text  \\\n794525                                   IM READY FOR BTS   \n794528  I have over 50 cousins i found out about and t...   \n794529  What/who do you miss the most from your childh...   \n794530  Where is that same 70' Degree weather that we ...   \n794531  Lmao the way I screamed!!! 😂😂😂😂 https://t.co/1...   \n\n                    user_id            timestamp      tweet_type  like_count  \\\n794525  1078318888851513347  2020-01-01 00:59:58  Original Tweet           0   \n794528            591385371  2020-01-01 00:59:58  Original Tweet           2   \n794529  1103804603877871616  2020-01-01 00:59:58  Original Tweet           0   \n794530             32706756  2020-01-01 00:59:58  Original Tweet           0   \n794531             42065215  2020-01-01 00:59:58  Original Tweet           0   \n\n        reply_count  retweet_count  quote_count  device lang topics_ids  \\\n794525            0              0            0  iPhone   en       None   \n794528            0              0            0  iPhone   en       None   \n794529            1              0            0     NaN   en       None   \n794530            0              0            0     NaN   en         65   \n794531            0              0            0  iPhone   en       None   \n\n                                topics referenced_tweets  reach sentiment  \n794525                            None               NaN    100  Positive  \n794528                            None               NaN    366   Neutral  \n794529                            None               NaN   1131  Negative  \n794530  Interests and Hobbies Vertical               NaN    145  Negative  \n794531                            None               NaN  23168  Positive  ",
      "text/html": "<div>\n<style scoped>\n    .dataframe tbody tr th:only-of-type {\n        vertical-align: middle;\n    }\n\n    .dataframe tbody tr th {\n        vertical-align: top;\n    }\n\n    .dataframe thead th {\n        text-align: right;\n    }\n</style>\n<table border=\"1\" class=\"dataframe\">\n  <thead>\n    <tr style=\"text-align: right;\">\n      <th></th>\n      <th>Unnamed: 0</th>\n      <th>tweet_id</th>\n      <th>text</th>\n      <th>user_id</th>\n      <th>timestamp</th>\n      <th>tweet_type</th>\n      <th>like_count</th>\n      <th>reply_count</th>\n      <th>retweet_count</th>\n      <th>quote_count</th>\n      <th>device</th>\n      <th>lang</th>\n      <th>topics_ids</th>\n      <th>topics</th>\n      <th>referenced_tweets</th>\n      <th>reach</th>\n      <th>sentiment</th>\n    </tr>\n  </thead>\n  <tbody>\n    <tr>\n      <th>794525</th>\n      <td>794525</td>\n      <td>1212176606699180032</td>\n      <td>IM READY FOR BTS</td>\n      <td>1078318888851513347</td>\n      <td>2020-01-01 00:59:58</td>\n      <td>Original Tweet</td>\n      <td>0</td>\n      <td>0</td>\n      <td>0</td>\n      <td>0</td>\n      <td>iPhone</td>\n      <td>en</td>\n      <td>None</td>\n      <td>None</td>\n      <td>NaN</td>\n      <td>100</td>\n      <td>Positive</td>\n    </tr>\n    <tr>\n      <th>794528</th>\n      <td>794528</td>\n      <td>1212176606678044674</td>\n      <td>I have over 50 cousins i found out about and t...</td>\n      <td>591385371</td>\n      <td>2020-01-01 00:59:58</td>\n      <td>Original Tweet</td>\n      <td>2</td>\n      <td>0</td>\n      <td>0</td>\n      <td>0</td>\n      <td>iPhone</td>\n      <td>en</td>\n      <td>None</td>\n      <td>None</td>\n      <td>NaN</td>\n      <td>366</td>\n      <td>Neutral</td>\n    </tr>\n    <tr>\n      <th>794529</th>\n      <td>794529</td>\n      <td>1212176606677979136</td>\n      <td>What/who do you miss the most from your childh...</td>\n      <td>1103804603877871616</td>\n      <td>2020-01-01 00:59:58</td>\n      <td>Original Tweet</td>\n      <td>0</td>\n      <td>1</td>\n      <td>0</td>\n      <td>0</td>\n      <td>NaN</td>\n      <td>en</td>\n      <td>None</td>\n      <td>None</td>\n      <td>NaN</td>\n      <td>1131</td>\n      <td>Negative</td>\n    </tr>\n    <tr>\n      <th>794530</th>\n      <td>794530</td>\n      <td>1212176606627815431</td>\n      <td>Where is that same 70' Degree weather that we ...</td>\n      <td>32706756</td>\n      <td>2020-01-01 00:59:58</td>\n      <td>Original Tweet</td>\n      <td>0</td>\n      <td>0</td>\n      <td>0</td>\n      <td>0</td>\n      <td>NaN</td>\n      <td>en</td>\n      <td>65</td>\n      <td>Interests and Hobbies Vertical</td>\n      <td>NaN</td>\n      <td>145</td>\n      <td>Negative</td>\n    </tr>\n    <tr>\n      <th>794531</th>\n      <td>794531</td>\n      <td>1212176606619480064</td>\n      <td>Lmao the way I screamed!!! 😂😂😂😂 https://t.co/1...</td>\n      <td>42065215</td>\n      <td>2020-01-01 00:59:58</td>\n      <td>Original Tweet</td>\n      <td>0</td>\n      <td>0</td>\n      <td>0</td>\n      <td>0</td>\n      <td>iPhone</td>\n      <td>en</td>\n      <td>None</td>\n      <td>None</td>\n      <td>NaN</td>\n      <td>23168</td>\n      <td>Positive</td>\n    </tr>\n  </tbody>\n</table>\n</div>"
     },
     "execution_count": 20,
     "metadata": {},
     "output_type": "execute_result"
    }
   ],
   "source": [
    "users_tweets_df.head(5)"
   ],
   "metadata": {
    "collapsed": false,
    "pycharm": {
     "name": "#%%\n"
    }
   }
  },
  {
   "cell_type": "markdown",
   "source": [
    "### Tweet popularity\n",
    "\n",
    "To define tweet popularity, each tweet with at least 1 retweet or 1 quote tweet was considered popular (1)\n",
    "if the criteria wasn't met it was marked as unpopular (0)"
   ],
   "metadata": {
    "collapsed": false,
    "pycharm": {
     "name": "#%% md\n"
    }
   }
  },
  {
   "cell_type": "code",
   "execution_count": 21,
   "outputs": [],
   "source": [
    "def tweet_popularity_label(retweet_count, quote_count):\n",
    "    if retweet_count > 0 or quote_count > 0:\n",
    "        return 1\n",
    "    else:\n",
    "        return 0"
   ],
   "metadata": {
    "collapsed": false,
    "pycharm": {
     "name": "#%%\n"
    }
   }
  },
  {
   "cell_type": "code",
   "execution_count": 22,
   "outputs": [],
   "source": [
    "users_tweets_df['popularity'] = users_tweets_df.apply(lambda row: tweet_popularity_label(row['retweet_count'], row['quote_count']), axis=1)"
   ],
   "metadata": {
    "collapsed": false,
    "pycharm": {
     "name": "#%%\n"
    }
   }
  },
  {
   "cell_type": "code",
   "execution_count": 23,
   "outputs": [
    {
     "data": {
      "text/plain": "0    853120\n1    203142\nName: popularity, dtype: int64"
     },
     "execution_count": 23,
     "metadata": {},
     "output_type": "execute_result"
    }
   ],
   "source": [
    "users_tweets_df['popularity'].value_counts()"
   ],
   "metadata": {
    "collapsed": false,
    "pycharm": {
     "name": "#%%\n"
    }
   }
  },
  {
   "cell_type": "code",
   "execution_count": 24,
   "outputs": [
    {
     "data": {
      "text/plain": "              tweet_id                                               text  \\\n0  1212176606699180032                                   IM READY FOR BTS   \n1  1212176606678044674  I have over 50 cousins i found out about and t...   \n2  1212176606677979136  What/who do you miss the most from your childh...   \n3  1212538995021713410  What is your best advice for living a happy life?   \n4  1212176606627815431  Where is that same 70' Degree weather that we ...   \n\n             timestamp              user_id  like_count  retweet_count  \\\n0  2020-01-01 00:59:58  1078318888851513347           0              0   \n1  2020-01-01 00:59:58            591385371           2              0   \n2  2020-01-01 00:59:58  1103804603877871616           0              0   \n3  2020-01-02 00:59:58  1103804603877871616           0              0   \n4  2020-01-01 00:59:58             32706756           0              0   \n\n   quote_count  reply_count  reach topics_ids                          topics  \\\n0            0            0    100       None                            None   \n1            0            0    366       None                            None   \n2            0            1   1131       None                            None   \n3            1            0   1131       None                            None   \n4            0            0    145         65  Interests and Hobbies Vertical   \n\n  sentiment  popularity  followers  following  tweet_count  verified  \\\n0  Positive           0        100        390         3961     False   \n1   Neutral           0        366        134        34882     False   \n2  Negative           0       1131        714         2212     False   \n3  Positive           1       1131        714         2212     False   \n4  Negative           0        145        293         2860     False   \n\n            created_at  \n0  2018-12-27 15:57:12  \n1  2012-05-26 22:28:16  \n2  2019-03-07 23:48:20  \n3  2019-03-07 23:48:20  \n4  2009-04-18 01:22:32  ",
      "text/html": "<div>\n<style scoped>\n    .dataframe tbody tr th:only-of-type {\n        vertical-align: middle;\n    }\n\n    .dataframe tbody tr th {\n        vertical-align: top;\n    }\n\n    .dataframe thead th {\n        text-align: right;\n    }\n</style>\n<table border=\"1\" class=\"dataframe\">\n  <thead>\n    <tr style=\"text-align: right;\">\n      <th></th>\n      <th>tweet_id</th>\n      <th>text</th>\n      <th>timestamp</th>\n      <th>user_id</th>\n      <th>like_count</th>\n      <th>retweet_count</th>\n      <th>quote_count</th>\n      <th>reply_count</th>\n      <th>reach</th>\n      <th>topics_ids</th>\n      <th>topics</th>\n      <th>sentiment</th>\n      <th>popularity</th>\n      <th>followers</th>\n      <th>following</th>\n      <th>tweet_count</th>\n      <th>verified</th>\n      <th>created_at</th>\n    </tr>\n  </thead>\n  <tbody>\n    <tr>\n      <th>0</th>\n      <td>1212176606699180032</td>\n      <td>IM READY FOR BTS</td>\n      <td>2020-01-01 00:59:58</td>\n      <td>1078318888851513347</td>\n      <td>0</td>\n      <td>0</td>\n      <td>0</td>\n      <td>0</td>\n      <td>100</td>\n      <td>None</td>\n      <td>None</td>\n      <td>Positive</td>\n      <td>0</td>\n      <td>100</td>\n      <td>390</td>\n      <td>3961</td>\n      <td>False</td>\n      <td>2018-12-27 15:57:12</td>\n    </tr>\n    <tr>\n      <th>1</th>\n      <td>1212176606678044674</td>\n      <td>I have over 50 cousins i found out about and t...</td>\n      <td>2020-01-01 00:59:58</td>\n      <td>591385371</td>\n      <td>2</td>\n      <td>0</td>\n      <td>0</td>\n      <td>0</td>\n      <td>366</td>\n      <td>None</td>\n      <td>None</td>\n      <td>Neutral</td>\n      <td>0</td>\n      <td>366</td>\n      <td>134</td>\n      <td>34882</td>\n      <td>False</td>\n      <td>2012-05-26 22:28:16</td>\n    </tr>\n    <tr>\n      <th>2</th>\n      <td>1212176606677979136</td>\n      <td>What/who do you miss the most from your childh...</td>\n      <td>2020-01-01 00:59:58</td>\n      <td>1103804603877871616</td>\n      <td>0</td>\n      <td>0</td>\n      <td>0</td>\n      <td>1</td>\n      <td>1131</td>\n      <td>None</td>\n      <td>None</td>\n      <td>Negative</td>\n      <td>0</td>\n      <td>1131</td>\n      <td>714</td>\n      <td>2212</td>\n      <td>False</td>\n      <td>2019-03-07 23:48:20</td>\n    </tr>\n    <tr>\n      <th>3</th>\n      <td>1212538995021713410</td>\n      <td>What is your best advice for living a happy life?</td>\n      <td>2020-01-02 00:59:58</td>\n      <td>1103804603877871616</td>\n      <td>0</td>\n      <td>0</td>\n      <td>1</td>\n      <td>0</td>\n      <td>1131</td>\n      <td>None</td>\n      <td>None</td>\n      <td>Positive</td>\n      <td>1</td>\n      <td>1131</td>\n      <td>714</td>\n      <td>2212</td>\n      <td>False</td>\n      <td>2019-03-07 23:48:20</td>\n    </tr>\n    <tr>\n      <th>4</th>\n      <td>1212176606627815431</td>\n      <td>Where is that same 70' Degree weather that we ...</td>\n      <td>2020-01-01 00:59:58</td>\n      <td>32706756</td>\n      <td>0</td>\n      <td>0</td>\n      <td>0</td>\n      <td>0</td>\n      <td>145</td>\n      <td>65</td>\n      <td>Interests and Hobbies Vertical</td>\n      <td>Negative</td>\n      <td>0</td>\n      <td>145</td>\n      <td>293</td>\n      <td>2860</td>\n      <td>False</td>\n      <td>2009-04-18 01:22:32</td>\n    </tr>\n  </tbody>\n</table>\n</div>"
     },
     "execution_count": 24,
     "metadata": {},
     "output_type": "execute_result"
    }
   ],
   "source": [
    "popularity_df = pd.merge(users_tweets_df[['tweet_id', 'text', 'timestamp', 'user_id', 'like_count', 'retweet_count', 'quote_count', 'reply_count', 'reach', 'topics_ids', 'topics', 'sentiment', 'popularity']],\n",
    "                   users_df[['user_id', 'followers', 'following', 'tweet_count', 'verified', 'created_at']],\n",
    "                   on=\"user_id\")\n",
    "popularity_df.head(5)"
   ],
   "metadata": {
    "collapsed": false,
    "pycharm": {
     "name": "#%%\n"
    }
   }
  },
  {
   "cell_type": "markdown",
   "source": [
    "### Combine the two datasets into the final one\n",
    "\n",
    "For every tweet select the relevant columns and merge the corresponding information from the original user"
   ],
   "metadata": {
    "collapsed": false
   }
  },
  {
   "cell_type": "code",
   "execution_count": 25,
   "outputs": [],
   "source": [
    "popularity_df.to_csv(POPULARITY, sep=',', date_format='%Y-%m-%d %H:%M:%S')"
   ],
   "metadata": {
    "collapsed": false,
    "pycharm": {
     "name": "#%%\n"
    }
   }
  },
  {
   "cell_type": "code",
   "execution_count": 26,
   "outputs": [
    {
     "data": {
      "text/plain": "                    tweet_id  \\\n0        1212176606699180032   \n1        1212176606678044674   \n2        1212176606677979136   \n3        1212538995021713410   \n4        1212176606627815431   \n...                      ...   \n1056257  1477036841400520704   \n1056258  1477036841429716992   \n1056259  1477036841429782531   \n1056260  1477036841429872644   \n1056261  1477036842704797697   \n\n                                                      text  \\\n0                                         IM READY FOR BTS   \n1        I have over 50 cousins i found out about and t...   \n2        What/who do you miss the most from your childh...   \n3        What is your best advice for living a happy life?   \n4        Where is that same 70' Degree weather that we ...   \n...                                                    ...   \n1056257        WE KEEP ALL THE PARTY IN THE ROOM ALL NIGHT   \n1056258  wasn't the dispatch couple reveal a dud for 20...   \n1056259                          Jaymes joung - infinite 🎵   \n1056260            2022 y’all gonna see a fucking monster.   \n1056261  It looks Amazing!!! ヽ(´∀`。)ﾉ To see this on th...   \n\n                         timestamp              user_id  like_count  \\\n0              2020-01-01 00:59:58  1078318888851513347           0   \n1              2020-01-01 00:59:58            591385371           2   \n2              2020-01-01 00:59:58  1103804603877871616           0   \n3              2020-01-02 00:59:58  1103804603877871616           0   \n4              2020-01-01 00:59:58             32706756           0   \n...                            ...                  ...         ...   \n1056257  2021-12-31 21:59:59+00:00  1404228064062722051           0   \n1056258  2021-12-31 21:59:59+00:00  1214674663126646785           0   \n1056259  2021-12-31 21:59:59+00:00            283225511           0   \n1056260  2021-12-31 21:59:59+00:00            602195855           0   \n1056261  2021-12-31 21:59:59+00:00  1364878549937651714           1   \n\n         retweet_count  quote_count  reply_count  reach topics_ids  \\\n0                    0            0            0    100       None   \n1                    0            0            0    366       None   \n2                    0            0            1   1131       None   \n3                    0            1            0   1131       None   \n4                    0            0            0    145         65   \n...                ...          ...          ...    ...        ...   \n1056257              0            0            0    181       None   \n1056258              0            0            1    127       None   \n1056259              0            0            0   1352       None   \n1056260              1            0            0   1082       None   \n1056261              0            0            1     59        119   \n\n                                 topics sentiment  popularity  followers  \\\n0                                  None  Positive           0        100   \n1                                  None   Neutral           0        366   \n2                                  None  Negative           0       1131   \n3                                  None  Positive           1       1131   \n4        Interests and Hobbies Vertical  Negative           0        145   \n...                                 ...       ...         ...        ...   \n1056257                            None  Positive           0        181   \n1056258                            None  Negative           0        127   \n1056259                            None   Neutral           0       1352   \n1056260                            None   Neutral           1       1082   \n1056261                         Holiday  Positive           0         59   \n\n         following  tweet_count  verified                 created_at  \n0              390         3961     False        2018-12-27 15:57:12  \n1              134        34882     False        2012-05-26 22:28:16  \n2              714         2212     False        2019-03-07 23:48:20  \n3              714         2212     False        2019-03-07 23:48:20  \n4              293         2860     False        2009-04-18 01:22:32  \n...            ...          ...       ...                        ...  \n1056257        482         5561     False  2021-06-14 00:04:08+00:00  \n1056258         63        29566     False  2020-01-07 22:26:27+00:00  \n1056259       1914        34181     False  2011-04-16 21:15:42+00:00  \n1056260       1325        18474     False  2012-06-07 20:59:09+00:00  \n1056261        183         3252     False  2021-02-25 10:03:18+00:00  \n\n[1056262 rows x 18 columns]",
      "text/html": "<div>\n<style scoped>\n    .dataframe tbody tr th:only-of-type {\n        vertical-align: middle;\n    }\n\n    .dataframe tbody tr th {\n        vertical-align: top;\n    }\n\n    .dataframe thead th {\n        text-align: right;\n    }\n</style>\n<table border=\"1\" class=\"dataframe\">\n  <thead>\n    <tr style=\"text-align: right;\">\n      <th></th>\n      <th>tweet_id</th>\n      <th>text</th>\n      <th>timestamp</th>\n      <th>user_id</th>\n      <th>like_count</th>\n      <th>retweet_count</th>\n      <th>quote_count</th>\n      <th>reply_count</th>\n      <th>reach</th>\n      <th>topics_ids</th>\n      <th>topics</th>\n      <th>sentiment</th>\n      <th>popularity</th>\n      <th>followers</th>\n      <th>following</th>\n      <th>tweet_count</th>\n      <th>verified</th>\n      <th>created_at</th>\n    </tr>\n  </thead>\n  <tbody>\n    <tr>\n      <th>0</th>\n      <td>1212176606699180032</td>\n      <td>IM READY FOR BTS</td>\n      <td>2020-01-01 00:59:58</td>\n      <td>1078318888851513347</td>\n      <td>0</td>\n      <td>0</td>\n      <td>0</td>\n      <td>0</td>\n      <td>100</td>\n      <td>None</td>\n      <td>None</td>\n      <td>Positive</td>\n      <td>0</td>\n      <td>100</td>\n      <td>390</td>\n      <td>3961</td>\n      <td>False</td>\n      <td>2018-12-27 15:57:12</td>\n    </tr>\n    <tr>\n      <th>1</th>\n      <td>1212176606678044674</td>\n      <td>I have over 50 cousins i found out about and t...</td>\n      <td>2020-01-01 00:59:58</td>\n      <td>591385371</td>\n      <td>2</td>\n      <td>0</td>\n      <td>0</td>\n      <td>0</td>\n      <td>366</td>\n      <td>None</td>\n      <td>None</td>\n      <td>Neutral</td>\n      <td>0</td>\n      <td>366</td>\n      <td>134</td>\n      <td>34882</td>\n      <td>False</td>\n      <td>2012-05-26 22:28:16</td>\n    </tr>\n    <tr>\n      <th>2</th>\n      <td>1212176606677979136</td>\n      <td>What/who do you miss the most from your childh...</td>\n      <td>2020-01-01 00:59:58</td>\n      <td>1103804603877871616</td>\n      <td>0</td>\n      <td>0</td>\n      <td>0</td>\n      <td>1</td>\n      <td>1131</td>\n      <td>None</td>\n      <td>None</td>\n      <td>Negative</td>\n      <td>0</td>\n      <td>1131</td>\n      <td>714</td>\n      <td>2212</td>\n      <td>False</td>\n      <td>2019-03-07 23:48:20</td>\n    </tr>\n    <tr>\n      <th>3</th>\n      <td>1212538995021713410</td>\n      <td>What is your best advice for living a happy life?</td>\n      <td>2020-01-02 00:59:58</td>\n      <td>1103804603877871616</td>\n      <td>0</td>\n      <td>0</td>\n      <td>1</td>\n      <td>0</td>\n      <td>1131</td>\n      <td>None</td>\n      <td>None</td>\n      <td>Positive</td>\n      <td>1</td>\n      <td>1131</td>\n      <td>714</td>\n      <td>2212</td>\n      <td>False</td>\n      <td>2019-03-07 23:48:20</td>\n    </tr>\n    <tr>\n      <th>4</th>\n      <td>1212176606627815431</td>\n      <td>Where is that same 70' Degree weather that we ...</td>\n      <td>2020-01-01 00:59:58</td>\n      <td>32706756</td>\n      <td>0</td>\n      <td>0</td>\n      <td>0</td>\n      <td>0</td>\n      <td>145</td>\n      <td>65</td>\n      <td>Interests and Hobbies Vertical</td>\n      <td>Negative</td>\n      <td>0</td>\n      <td>145</td>\n      <td>293</td>\n      <td>2860</td>\n      <td>False</td>\n      <td>2009-04-18 01:22:32</td>\n    </tr>\n    <tr>\n      <th>...</th>\n      <td>...</td>\n      <td>...</td>\n      <td>...</td>\n      <td>...</td>\n      <td>...</td>\n      <td>...</td>\n      <td>...</td>\n      <td>...</td>\n      <td>...</td>\n      <td>...</td>\n      <td>...</td>\n      <td>...</td>\n      <td>...</td>\n      <td>...</td>\n      <td>...</td>\n      <td>...</td>\n      <td>...</td>\n      <td>...</td>\n    </tr>\n    <tr>\n      <th>1056257</th>\n      <td>1477036841400520704</td>\n      <td>WE KEEP ALL THE PARTY IN THE ROOM ALL NIGHT</td>\n      <td>2021-12-31 21:59:59+00:00</td>\n      <td>1404228064062722051</td>\n      <td>0</td>\n      <td>0</td>\n      <td>0</td>\n      <td>0</td>\n      <td>181</td>\n      <td>None</td>\n      <td>None</td>\n      <td>Positive</td>\n      <td>0</td>\n      <td>181</td>\n      <td>482</td>\n      <td>5561</td>\n      <td>False</td>\n      <td>2021-06-14 00:04:08+00:00</td>\n    </tr>\n    <tr>\n      <th>1056258</th>\n      <td>1477036841429716992</td>\n      <td>wasn't the dispatch couple reveal a dud for 20...</td>\n      <td>2021-12-31 21:59:59+00:00</td>\n      <td>1214674663126646785</td>\n      <td>0</td>\n      <td>0</td>\n      <td>0</td>\n      <td>1</td>\n      <td>127</td>\n      <td>None</td>\n      <td>None</td>\n      <td>Negative</td>\n      <td>0</td>\n      <td>127</td>\n      <td>63</td>\n      <td>29566</td>\n      <td>False</td>\n      <td>2020-01-07 22:26:27+00:00</td>\n    </tr>\n    <tr>\n      <th>1056259</th>\n      <td>1477036841429782531</td>\n      <td>Jaymes joung - infinite 🎵</td>\n      <td>2021-12-31 21:59:59+00:00</td>\n      <td>283225511</td>\n      <td>0</td>\n      <td>0</td>\n      <td>0</td>\n      <td>0</td>\n      <td>1352</td>\n      <td>None</td>\n      <td>None</td>\n      <td>Neutral</td>\n      <td>0</td>\n      <td>1352</td>\n      <td>1914</td>\n      <td>34181</td>\n      <td>False</td>\n      <td>2011-04-16 21:15:42+00:00</td>\n    </tr>\n    <tr>\n      <th>1056260</th>\n      <td>1477036841429872644</td>\n      <td>2022 y’all gonna see a fucking monster.</td>\n      <td>2021-12-31 21:59:59+00:00</td>\n      <td>602195855</td>\n      <td>0</td>\n      <td>1</td>\n      <td>0</td>\n      <td>0</td>\n      <td>1082</td>\n      <td>None</td>\n      <td>None</td>\n      <td>Neutral</td>\n      <td>1</td>\n      <td>1082</td>\n      <td>1325</td>\n      <td>18474</td>\n      <td>False</td>\n      <td>2012-06-07 20:59:09+00:00</td>\n    </tr>\n    <tr>\n      <th>1056261</th>\n      <td>1477036842704797697</td>\n      <td>It looks Amazing!!! ヽ(´∀`。)ﾉ To see this on th...</td>\n      <td>2021-12-31 21:59:59+00:00</td>\n      <td>1364878549937651714</td>\n      <td>1</td>\n      <td>0</td>\n      <td>0</td>\n      <td>1</td>\n      <td>59</td>\n      <td>119</td>\n      <td>Holiday</td>\n      <td>Positive</td>\n      <td>0</td>\n      <td>59</td>\n      <td>183</td>\n      <td>3252</td>\n      <td>False</td>\n      <td>2021-02-25 10:03:18+00:00</td>\n    </tr>\n  </tbody>\n</table>\n<p>1056262 rows × 18 columns</p>\n</div>"
     },
     "execution_count": 26,
     "metadata": {},
     "output_type": "execute_result"
    }
   ],
   "source": [
    "popularity_df"
   ],
   "metadata": {
    "collapsed": false,
    "pycharm": {
     "name": "#%%\n"
    }
   }
  },
  {
   "cell_type": "code",
   "execution_count": null,
   "outputs": [],
   "source": [],
   "metadata": {
    "collapsed": false,
    "pycharm": {
     "name": "#%%\n"
    }
   }
  }
 ],
 "metadata": {
  "kernelspec": {
   "display_name": "Python 3",
   "language": "python",
   "name": "python3"
  },
  "language_info": {
   "codemirror_mode": {
    "name": "ipython",
    "version": 2
   },
   "file_extension": ".py",
   "mimetype": "text/x-python",
   "name": "python",
   "nbconvert_exporter": "python",
   "pygments_lexer": "ipython2",
   "version": "2.7.6"
  }
 },
 "nbformat": 4,
 "nbformat_minor": 0
}