{
 "cells": [
  {
   "cell_type": "code",
   "execution_count": 2,
   "metadata": {
    "collapsed": true
   },
   "outputs": [],
   "source": [
    "import numpy as np\n",
    "import pandas as pd\n",
    "import gensim\n",
    "from gensim.corpora import Dictionary"
   ]
  },
  {
   "cell_type": "markdown",
   "source": [
    "### Files locations"
   ],
   "metadata": {
    "collapsed": false,
    "pycharm": {
     "name": "#%% md\n"
    }
   }
  },
  {
   "cell_type": "code",
   "execution_count": 1,
   "outputs": [],
   "source": [
    "FILE_USERS = \"../../data/raw_users.csv\"\n",
    "FILE_USERS_TWEETS = \"../../data/raw_tweets.csv\"\n",
    "FILE_RETWEETERS = \"../../data/retweets.csv\"\n",
    "FILE_RETWEETERS_USERS = \"../../data/retweets_users.csv\"\n",
    "POPULARITY = \"../../data/popularity_v2.csv\""
   ],
   "metadata": {
    "collapsed": false,
    "pycharm": {
     "name": "#%%\n"
    }
   }
  },
  {
   "cell_type": "markdown",
   "source": [
    "### Load Datasets"
   ],
   "metadata": {
    "collapsed": false,
    "pycharm": {
     "name": "#%% md\n"
    }
   }
  },
  {
   "cell_type": "code",
   "execution_count": 3,
   "outputs": [
    {
     "name": "stderr",
     "output_type": "stream",
     "text": [
      "/var/folders/7r/g2lhjv3x7bb_lgcnhj7_q9hr0000gn/T/ipykernel_3299/2831473434.py:1: DtypeWarning: Columns (2) have mixed types. Specify dtype option on import or set low_memory=False.\n",
      "  users_df = pd.read_csv(filepath_or_buffer=FILE_USERS, sep=\",\")\n"
     ]
    }
   ],
   "source": [
    "users_df = pd.read_csv(filepath_or_buffer=FILE_USERS, sep=\",\")\n",
    "users_tweets_df = pd.read_csv(filepath_or_buffer=FILE_USERS_TWEETS, sep=\",\")\n",
    "\n",
    "# users_df = users_df[:100]\n",
    "# users_tweets_df = users_tweets_df[:100]"
   ],
   "metadata": {
    "collapsed": false,
    "pycharm": {
     "name": "#%%\n"
    }
   }
  },
  {
   "cell_type": "code",
   "execution_count": 4,
   "outputs": [
    {
     "data": {
      "text/plain": "         Unnamed: 0              user_id                               name  \\\n0                 0            874735375                            ARobles   \n1                 1           2331261888                     James Smith Jr   \n2                 2  1043073024092766208  STOP SAYING POC, IT’s A CUSS WORD   \n3                 3  1350969232897552385                   Pure Rap Podcast   \n4                 4   811604288443187200                  April Showers ⛈🌪💫   \n...             ...                  ...                                ...   \n1072382     1072382            608420462                            1056050   \n1072383     1072383   786792941658382339                            1056051   \n1072384     1072384            497947909                            1056052   \n1072385     1072385             50706690                            1056053   \n1072386     1072386             72356014                            1056054   \n\n                username  followers  following  tweet_count  verified  \\\n0        anthonysradical        278        203         3844     False   \n1        iamjamesnumber1       2292       4490        96610     False   \n2              ADOSALLY1       1076       1190        13969     False   \n3         PureRapPodcast       2465       2111        27373     False   \n4           moonlitefire       1570        874        27642     False   \n...                  ...        ...        ...          ...       ...   \n1072382  Skeeter_Bentley        388          0         5846     False   \n1072383        billybr61        503        504        32684     False   \n1072384         BobGoble       2754       3176       117664     False   \n1072385            511NY       3579        193      5447942     False   \n1072386        deafheron       2066        926        19027     False   \n\n                        created_at  \n0        2012-10-12 01:55:26+00:00  \n1        2014-02-07 04:06:30+00:00  \n2        2018-09-21 09:42:43+00:00  \n3        2021-01-18 00:52:30+00:00  \n4        2016-12-21 16:08:36+00:00  \n...                            ...  \n1072382        2012-06-14 19:30:38  \n1072383        2016-10-14 04:57:10  \n1072384        2012-02-20 14:46:48  \n1072385        2009-06-25 17:22:38  \n1072386        2009-09-07 19:07:16  \n\n[1072387 rows x 9 columns]",
      "text/html": "<div>\n<style scoped>\n    .dataframe tbody tr th:only-of-type {\n        vertical-align: middle;\n    }\n\n    .dataframe tbody tr th {\n        vertical-align: top;\n    }\n\n    .dataframe thead th {\n        text-align: right;\n    }\n</style>\n<table border=\"1\" class=\"dataframe\">\n  <thead>\n    <tr style=\"text-align: right;\">\n      <th></th>\n      <th>Unnamed: 0</th>\n      <th>user_id</th>\n      <th>name</th>\n      <th>username</th>\n      <th>followers</th>\n      <th>following</th>\n      <th>tweet_count</th>\n      <th>verified</th>\n      <th>created_at</th>\n    </tr>\n  </thead>\n  <tbody>\n    <tr>\n      <th>0</th>\n      <td>0</td>\n      <td>874735375</td>\n      <td>ARobles</td>\n      <td>anthonysradical</td>\n      <td>278</td>\n      <td>203</td>\n      <td>3844</td>\n      <td>False</td>\n      <td>2012-10-12 01:55:26+00:00</td>\n    </tr>\n    <tr>\n      <th>1</th>\n      <td>1</td>\n      <td>2331261888</td>\n      <td>James Smith Jr</td>\n      <td>iamjamesnumber1</td>\n      <td>2292</td>\n      <td>4490</td>\n      <td>96610</td>\n      <td>False</td>\n      <td>2014-02-07 04:06:30+00:00</td>\n    </tr>\n    <tr>\n      <th>2</th>\n      <td>2</td>\n      <td>1043073024092766208</td>\n      <td>STOP SAYING POC, IT’s A CUSS WORD</td>\n      <td>ADOSALLY1</td>\n      <td>1076</td>\n      <td>1190</td>\n      <td>13969</td>\n      <td>False</td>\n      <td>2018-09-21 09:42:43+00:00</td>\n    </tr>\n    <tr>\n      <th>3</th>\n      <td>3</td>\n      <td>1350969232897552385</td>\n      <td>Pure Rap Podcast</td>\n      <td>PureRapPodcast</td>\n      <td>2465</td>\n      <td>2111</td>\n      <td>27373</td>\n      <td>False</td>\n      <td>2021-01-18 00:52:30+00:00</td>\n    </tr>\n    <tr>\n      <th>4</th>\n      <td>4</td>\n      <td>811604288443187200</td>\n      <td>April Showers ⛈🌪💫</td>\n      <td>moonlitefire</td>\n      <td>1570</td>\n      <td>874</td>\n      <td>27642</td>\n      <td>False</td>\n      <td>2016-12-21 16:08:36+00:00</td>\n    </tr>\n    <tr>\n      <th>...</th>\n      <td>...</td>\n      <td>...</td>\n      <td>...</td>\n      <td>...</td>\n      <td>...</td>\n      <td>...</td>\n      <td>...</td>\n      <td>...</td>\n      <td>...</td>\n    </tr>\n    <tr>\n      <th>1072382</th>\n      <td>1072382</td>\n      <td>608420462</td>\n      <td>1056050</td>\n      <td>Skeeter_Bentley</td>\n      <td>388</td>\n      <td>0</td>\n      <td>5846</td>\n      <td>False</td>\n      <td>2012-06-14 19:30:38</td>\n    </tr>\n    <tr>\n      <th>1072383</th>\n      <td>1072383</td>\n      <td>786792941658382339</td>\n      <td>1056051</td>\n      <td>billybr61</td>\n      <td>503</td>\n      <td>504</td>\n      <td>32684</td>\n      <td>False</td>\n      <td>2016-10-14 04:57:10</td>\n    </tr>\n    <tr>\n      <th>1072384</th>\n      <td>1072384</td>\n      <td>497947909</td>\n      <td>1056052</td>\n      <td>BobGoble</td>\n      <td>2754</td>\n      <td>3176</td>\n      <td>117664</td>\n      <td>False</td>\n      <td>2012-02-20 14:46:48</td>\n    </tr>\n    <tr>\n      <th>1072385</th>\n      <td>1072385</td>\n      <td>50706690</td>\n      <td>1056053</td>\n      <td>511NY</td>\n      <td>3579</td>\n      <td>193</td>\n      <td>5447942</td>\n      <td>False</td>\n      <td>2009-06-25 17:22:38</td>\n    </tr>\n    <tr>\n      <th>1072386</th>\n      <td>1072386</td>\n      <td>72356014</td>\n      <td>1056054</td>\n      <td>deafheron</td>\n      <td>2066</td>\n      <td>926</td>\n      <td>19027</td>\n      <td>False</td>\n      <td>2009-09-07 19:07:16</td>\n    </tr>\n  </tbody>\n</table>\n<p>1072387 rows × 9 columns</p>\n</div>"
     },
     "execution_count": 4,
     "metadata": {},
     "output_type": "execute_result"
    }
   ],
   "source": [
    "users_df"
   ],
   "metadata": {
    "collapsed": false,
    "pycharm": {
     "name": "#%%\n"
    }
   }
  },
  {
   "cell_type": "code",
   "execution_count": 5,
   "outputs": [
    {
     "data": {
      "text/plain": "         Unnamed: 0             tweet_id  \\\n0                 0  1473095873357746185   \n1                 1  1473095873118806021   \n2                 2  1473095869780180994   \n3                 3  1473095868546879489   \n4                 4  1473095868534431744   \n...             ...                  ...   \n1072382     1072382  1223002761480101890   \n1072383     1072383  1223002761387814912   \n1072384     1072384  1223002759601016834   \n1072385     1072385  1223002759147982851   \n1072386     1072386  1223002759118585857   \n\n                                                      text  \\\n0        Bullshit ass holding call right now bro agains...   \n1        Me at parties when my social meter has reached...   \n2        ❤️❤️❤️❤️❤️❤️❤️Oh My!!!! Today is a good day!!!...   \n3        Giveaway entry has ended! 🚨 https://t.co/WcVKk...   \n4        Heard it was @MillerLite Monday.. drink respon...   \n...                                                    ...   \n1072382  Yep, that’s usually how it goes😂 https://t.co/...   \n1072383  If you don't know Adam ant Dirty bag Schiff-le...   \n1072384  Make no mistake, because of republican rules a...   \n1072385  Cleared: Incident on #I287 NB at North of Exit...   \n1072386  Soul Blind full set live @ First Unitarian Chu...   \n\n                     user_id                  timestamp      tweet_type  \\\n0                  874735375  2021-12-21 00:59:59+00:00  Original Tweet   \n1                 2331261888  2021-12-21 00:59:59+00:00  Original Tweet   \n2        1043073024092766208  2021-12-21 00:59:58+00:00  Original Tweet   \n3        1350969232897552385  2021-12-21 00:59:58+00:00     Quote Tweet   \n4         811604288443187200  2021-12-21 00:59:58+00:00  Original Tweet   \n...                      ...                        ...             ...   \n1072382            608420462        2020-01-30 21:59:15  Original Tweet   \n1072383   786792941658382339        2020-01-30 21:59:15     Quote Tweet   \n1072384            497947909        2020-01-30 21:59:14  Original Tweet   \n1072385             50706690        2020-01-30 21:59:14  Original Tweet   \n1072386             72356014        2020-01-30 21:59:14  Original Tweet   \n\n         like_count  reply_count  retweet_count  quote_count   device lang  \\\n0                 0            0              0            0   iPhone   en   \n1                 5            0              4            1   iPhone   en   \n2                 9            0              3            0   iPhone   en   \n3                 3            0              1            0   iPhone   en   \n4                35           10              0            0  Android   en   \n...             ...          ...            ...          ...      ...  ...   \n1072382           1            0              0            0   iPhone   en   \n1072383           0            0              1            0  Android   en   \n1072384           0            0              0            0  Android   en   \n1072385           0            0              0            0      NaN   en   \n1072386          73            1             31            7   iPhone   en   \n\n                                   topics_ids  \\\n0          ['3', '6', '11', '26', '27', '28']   \n1                                          []   \n2                                     ['123']   \n3                                ['46', '47']   \n4        ['45', '46', '47', '65', '66', '67']   \n...                                       ...   \n1072382                                    []   \n1072383                          ['10', '35']   \n1072384                    ['45', '46', '47']   \n1072385                                    []   \n1072386                                    []   \n\n                                                    topics  \\\n0        ['TV Shows', 'Sports Event', 'Sport', 'Sports ...   \n1                                                       []   \n2                                   ['Ongoing News Story']   \n3                              ['Brand Category', 'Brand']   \n4        ['Brand Vertical', 'Brand Category', 'Brand', ...   \n...                                                    ...   \n1072382                                                 []   \n1072383                           ['Person', 'Politician']   \n1072384      ['Brand Vertical', 'Brand Category', 'Brand']   \n1072385                                                 []   \n1072386                                                 []   \n\n                                         referenced_tweets  \n0                                                      NaN  \n1                                                      NaN  \n2                                                      NaN  \n3        [ReferencedTweet(id: 1468043149188632583, type...  \n4                                                      NaN  \n...                                                    ...  \n1072382                                                NaN  \n1072383  [ReferencedTweet(id: 1223000963356790784, type...  \n1072384                                                NaN  \n1072385                                                NaN  \n1072386                                                NaN  \n\n[1072387 rows x 15 columns]",
      "text/html": "<div>\n<style scoped>\n    .dataframe tbody tr th:only-of-type {\n        vertical-align: middle;\n    }\n\n    .dataframe tbody tr th {\n        vertical-align: top;\n    }\n\n    .dataframe thead th {\n        text-align: right;\n    }\n</style>\n<table border=\"1\" class=\"dataframe\">\n  <thead>\n    <tr style=\"text-align: right;\">\n      <th></th>\n      <th>Unnamed: 0</th>\n      <th>tweet_id</th>\n      <th>text</th>\n      <th>user_id</th>\n      <th>timestamp</th>\n      <th>tweet_type</th>\n      <th>like_count</th>\n      <th>reply_count</th>\n      <th>retweet_count</th>\n      <th>quote_count</th>\n      <th>device</th>\n      <th>lang</th>\n      <th>topics_ids</th>\n      <th>topics</th>\n      <th>referenced_tweets</th>\n    </tr>\n  </thead>\n  <tbody>\n    <tr>\n      <th>0</th>\n      <td>0</td>\n      <td>1473095873357746185</td>\n      <td>Bullshit ass holding call right now bro agains...</td>\n      <td>874735375</td>\n      <td>2021-12-21 00:59:59+00:00</td>\n      <td>Original Tweet</td>\n      <td>0</td>\n      <td>0</td>\n      <td>0</td>\n      <td>0</td>\n      <td>iPhone</td>\n      <td>en</td>\n      <td>['3', '6', '11', '26', '27', '28']</td>\n      <td>['TV Shows', 'Sports Event', 'Sport', 'Sports ...</td>\n      <td>NaN</td>\n    </tr>\n    <tr>\n      <th>1</th>\n      <td>1</td>\n      <td>1473095873118806021</td>\n      <td>Me at parties when my social meter has reached...</td>\n      <td>2331261888</td>\n      <td>2021-12-21 00:59:59+00:00</td>\n      <td>Original Tweet</td>\n      <td>5</td>\n      <td>0</td>\n      <td>4</td>\n      <td>1</td>\n      <td>iPhone</td>\n      <td>en</td>\n      <td>[]</td>\n      <td>[]</td>\n      <td>NaN</td>\n    </tr>\n    <tr>\n      <th>2</th>\n      <td>2</td>\n      <td>1473095869780180994</td>\n      <td>❤️❤️❤️❤️❤️❤️❤️Oh My!!!! Today is a good day!!!...</td>\n      <td>1043073024092766208</td>\n      <td>2021-12-21 00:59:58+00:00</td>\n      <td>Original Tweet</td>\n      <td>9</td>\n      <td>0</td>\n      <td>3</td>\n      <td>0</td>\n      <td>iPhone</td>\n      <td>en</td>\n      <td>['123']</td>\n      <td>['Ongoing News Story']</td>\n      <td>NaN</td>\n    </tr>\n    <tr>\n      <th>3</th>\n      <td>3</td>\n      <td>1473095868546879489</td>\n      <td>Giveaway entry has ended! 🚨 https://t.co/WcVKk...</td>\n      <td>1350969232897552385</td>\n      <td>2021-12-21 00:59:58+00:00</td>\n      <td>Quote Tweet</td>\n      <td>3</td>\n      <td>0</td>\n      <td>1</td>\n      <td>0</td>\n      <td>iPhone</td>\n      <td>en</td>\n      <td>['46', '47']</td>\n      <td>['Brand Category', 'Brand']</td>\n      <td>[ReferencedTweet(id: 1468043149188632583, type...</td>\n    </tr>\n    <tr>\n      <th>4</th>\n      <td>4</td>\n      <td>1473095868534431744</td>\n      <td>Heard it was @MillerLite Monday.. drink respon...</td>\n      <td>811604288443187200</td>\n      <td>2021-12-21 00:59:58+00:00</td>\n      <td>Original Tweet</td>\n      <td>35</td>\n      <td>10</td>\n      <td>0</td>\n      <td>0</td>\n      <td>Android</td>\n      <td>en</td>\n      <td>['45', '46', '47', '65', '66', '67']</td>\n      <td>['Brand Vertical', 'Brand Category', 'Brand', ...</td>\n      <td>NaN</td>\n    </tr>\n    <tr>\n      <th>...</th>\n      <td>...</td>\n      <td>...</td>\n      <td>...</td>\n      <td>...</td>\n      <td>...</td>\n      <td>...</td>\n      <td>...</td>\n      <td>...</td>\n      <td>...</td>\n      <td>...</td>\n      <td>...</td>\n      <td>...</td>\n      <td>...</td>\n      <td>...</td>\n      <td>...</td>\n    </tr>\n    <tr>\n      <th>1072382</th>\n      <td>1072382</td>\n      <td>1223002761480101890</td>\n      <td>Yep, that’s usually how it goes😂 https://t.co/...</td>\n      <td>608420462</td>\n      <td>2020-01-30 21:59:15</td>\n      <td>Original Tweet</td>\n      <td>1</td>\n      <td>0</td>\n      <td>0</td>\n      <td>0</td>\n      <td>iPhone</td>\n      <td>en</td>\n      <td>[]</td>\n      <td>[]</td>\n      <td>NaN</td>\n    </tr>\n    <tr>\n      <th>1072383</th>\n      <td>1072383</td>\n      <td>1223002761387814912</td>\n      <td>If you don't know Adam ant Dirty bag Schiff-le...</td>\n      <td>786792941658382339</td>\n      <td>2020-01-30 21:59:15</td>\n      <td>Quote Tweet</td>\n      <td>0</td>\n      <td>0</td>\n      <td>1</td>\n      <td>0</td>\n      <td>Android</td>\n      <td>en</td>\n      <td>['10', '35']</td>\n      <td>['Person', 'Politician']</td>\n      <td>[ReferencedTweet(id: 1223000963356790784, type...</td>\n    </tr>\n    <tr>\n      <th>1072384</th>\n      <td>1072384</td>\n      <td>1223002759601016834</td>\n      <td>Make no mistake, because of republican rules a...</td>\n      <td>497947909</td>\n      <td>2020-01-30 21:59:14</td>\n      <td>Original Tweet</td>\n      <td>0</td>\n      <td>0</td>\n      <td>0</td>\n      <td>0</td>\n      <td>Android</td>\n      <td>en</td>\n      <td>['45', '46', '47']</td>\n      <td>['Brand Vertical', 'Brand Category', 'Brand']</td>\n      <td>NaN</td>\n    </tr>\n    <tr>\n      <th>1072385</th>\n      <td>1072385</td>\n      <td>1223002759147982851</td>\n      <td>Cleared: Incident on #I287 NB at North of Exit...</td>\n      <td>50706690</td>\n      <td>2020-01-30 21:59:14</td>\n      <td>Original Tweet</td>\n      <td>0</td>\n      <td>0</td>\n      <td>0</td>\n      <td>0</td>\n      <td>NaN</td>\n      <td>en</td>\n      <td>[]</td>\n      <td>[]</td>\n      <td>NaN</td>\n    </tr>\n    <tr>\n      <th>1072386</th>\n      <td>1072386</td>\n      <td>1223002759118585857</td>\n      <td>Soul Blind full set live @ First Unitarian Chu...</td>\n      <td>72356014</td>\n      <td>2020-01-30 21:59:14</td>\n      <td>Original Tweet</td>\n      <td>73</td>\n      <td>1</td>\n      <td>31</td>\n      <td>7</td>\n      <td>iPhone</td>\n      <td>en</td>\n      <td>[]</td>\n      <td>[]</td>\n      <td>NaN</td>\n    </tr>\n  </tbody>\n</table>\n<p>1072387 rows × 15 columns</p>\n</div>"
     },
     "execution_count": 5,
     "metadata": {},
     "output_type": "execute_result"
    }
   ],
   "source": [
    "users_tweets_df"
   ],
   "metadata": {
    "collapsed": false,
    "pycharm": {
     "name": "#%%\n"
    }
   }
  },
  {
   "cell_type": "markdown",
   "source": [
    "### Sort tweets by timestamp"
   ],
   "metadata": {
    "collapsed": false,
    "pycharm": {
     "name": "#%% md\n"
    }
   }
  },
  {
   "cell_type": "code",
   "execution_count": 7,
   "outputs": [
    {
     "data": {
      "text/plain": "     index  Unnamed: 0             tweet_id  \\\n0  1028700     1028700  1212176422770544641   \n1  1028701     1028701  1212176421659062274   \n2  1028698     1028698  1212176423189909506   \n3  1028697     1028697  1212176425916280833   \n4  1028696     1028696  1212176426088181760   \n\n                                                text              user_id  \\\n0  2️⃣0️⃣1️⃣9️⃣ WHAT. A. YEAR. 🌟 #bestnine2019 #t...             29885607   \n1               Gold N Hot 🤪 https://t.co/VeO2k4Mq4h  1130217871286636545   \n2      and he still cheating https://t.co/zYAQ8wc6Vg           3322006549   \n3  Got my hot coco bc it cold out siiiiide boii h...             18707915   \n4  Disgruntled Pope Francis pulls himself free fr...            858762062   \n\n             timestamp      tweet_type  like_count  reply_count  \\\n0  2020-01-01 00:59:14  Original Tweet          35            0   \n1  2020-01-01 00:59:14     Quote Tweet           0            0   \n2  2020-01-01 00:59:15     Quote Tweet           2            2   \n3  2020-01-01 00:59:15  Original Tweet           1            1   \n4  2020-01-01 00:59:15  Original Tweet           0            0   \n\n   retweet_count  quote_count   device lang          topics_ids  \\\n0              1            0   iPhone   en                  []   \n1              0            0   iPhone   en                  []   \n2              1            7   iPhone   en        ['10', '60']   \n3              0            0   iPhone   en                  []   \n4              0            0  Android   en  ['10', '46', '47']   \n\n                                  topics  \\\n0                                     []   \n1                                     []   \n2                  ['Person', 'Athlete']   \n3                                     []   \n4  ['Person', 'Brand Category', 'Brand']   \n\n                                   referenced_tweets  \n0                                                NaN  \n1  [ReferencedTweet(id: 1212167212120920072, type...  \n2  [ReferencedTweet(id: 1211878384961228802, type...  \n3                                                NaN  \n4                                                NaN  ",
      "text/html": "<div>\n<style scoped>\n    .dataframe tbody tr th:only-of-type {\n        vertical-align: middle;\n    }\n\n    .dataframe tbody tr th {\n        vertical-align: top;\n    }\n\n    .dataframe thead th {\n        text-align: right;\n    }\n</style>\n<table border=\"1\" class=\"dataframe\">\n  <thead>\n    <tr style=\"text-align: right;\">\n      <th></th>\n      <th>index</th>\n      <th>Unnamed: 0</th>\n      <th>tweet_id</th>\n      <th>text</th>\n      <th>user_id</th>\n      <th>timestamp</th>\n      <th>tweet_type</th>\n      <th>like_count</th>\n      <th>reply_count</th>\n      <th>retweet_count</th>\n      <th>quote_count</th>\n      <th>device</th>\n      <th>lang</th>\n      <th>topics_ids</th>\n      <th>topics</th>\n      <th>referenced_tweets</th>\n    </tr>\n  </thead>\n  <tbody>\n    <tr>\n      <th>0</th>\n      <td>1028700</td>\n      <td>1028700</td>\n      <td>1212176422770544641</td>\n      <td>2️⃣0️⃣1️⃣9️⃣ WHAT. A. YEAR. 🌟 #bestnine2019 #t...</td>\n      <td>29885607</td>\n      <td>2020-01-01 00:59:14</td>\n      <td>Original Tweet</td>\n      <td>35</td>\n      <td>0</td>\n      <td>1</td>\n      <td>0</td>\n      <td>iPhone</td>\n      <td>en</td>\n      <td>[]</td>\n      <td>[]</td>\n      <td>NaN</td>\n    </tr>\n    <tr>\n      <th>1</th>\n      <td>1028701</td>\n      <td>1028701</td>\n      <td>1212176421659062274</td>\n      <td>Gold N Hot 🤪 https://t.co/VeO2k4Mq4h</td>\n      <td>1130217871286636545</td>\n      <td>2020-01-01 00:59:14</td>\n      <td>Quote Tweet</td>\n      <td>0</td>\n      <td>0</td>\n      <td>0</td>\n      <td>0</td>\n      <td>iPhone</td>\n      <td>en</td>\n      <td>[]</td>\n      <td>[]</td>\n      <td>[ReferencedTweet(id: 1212167212120920072, type...</td>\n    </tr>\n    <tr>\n      <th>2</th>\n      <td>1028698</td>\n      <td>1028698</td>\n      <td>1212176423189909506</td>\n      <td>and he still cheating https://t.co/zYAQ8wc6Vg</td>\n      <td>3322006549</td>\n      <td>2020-01-01 00:59:15</td>\n      <td>Quote Tweet</td>\n      <td>2</td>\n      <td>2</td>\n      <td>1</td>\n      <td>7</td>\n      <td>iPhone</td>\n      <td>en</td>\n      <td>['10', '60']</td>\n      <td>['Person', 'Athlete']</td>\n      <td>[ReferencedTweet(id: 1211878384961228802, type...</td>\n    </tr>\n    <tr>\n      <th>3</th>\n      <td>1028697</td>\n      <td>1028697</td>\n      <td>1212176425916280833</td>\n      <td>Got my hot coco bc it cold out siiiiide boii h...</td>\n      <td>18707915</td>\n      <td>2020-01-01 00:59:15</td>\n      <td>Original Tweet</td>\n      <td>1</td>\n      <td>1</td>\n      <td>0</td>\n      <td>0</td>\n      <td>iPhone</td>\n      <td>en</td>\n      <td>[]</td>\n      <td>[]</td>\n      <td>NaN</td>\n    </tr>\n    <tr>\n      <th>4</th>\n      <td>1028696</td>\n      <td>1028696</td>\n      <td>1212176426088181760</td>\n      <td>Disgruntled Pope Francis pulls himself free fr...</td>\n      <td>858762062</td>\n      <td>2020-01-01 00:59:15</td>\n      <td>Original Tweet</td>\n      <td>0</td>\n      <td>0</td>\n      <td>0</td>\n      <td>0</td>\n      <td>Android</td>\n      <td>en</td>\n      <td>['10', '46', '47']</td>\n      <td>['Person', 'Brand Category', 'Brand']</td>\n      <td>NaN</td>\n    </tr>\n  </tbody>\n</table>\n</div>"
     },
     "execution_count": 7,
     "metadata": {},
     "output_type": "execute_result"
    }
   ],
   "source": [
    "users_tweets_df = users_tweets_df.sort_values(by='timestamp', ascending=True).reset_index()\n",
    "users_tweets_df.head(5)"
   ],
   "metadata": {
    "collapsed": false,
    "pycharm": {
     "name": "#%%\n"
    }
   }
  },
  {
   "cell_type": "markdown",
   "source": [
    "### Delete duplicate users"
   ],
   "metadata": {
    "collapsed": false,
    "pycharm": {
     "name": "#%% md\n"
    }
   }
  },
  {
   "cell_type": "code",
   "execution_count": 8,
   "outputs": [
    {
     "data": {
      "text/plain": "(1072387, 9)"
     },
     "execution_count": 8,
     "metadata": {},
     "output_type": "execute_result"
    }
   ],
   "source": [
    "users_df.shape"
   ],
   "metadata": {
    "collapsed": false,
    "pycharm": {
     "name": "#%%\n"
    }
   }
  },
  {
   "cell_type": "code",
   "execution_count": 9,
   "outputs": [
    {
     "data": {
      "text/plain": "         Unnamed: 0              user_id                               name  \\\n0                 0            874735375                            ARobles   \n1                 1           2331261888                     James Smith Jr   \n2                 2  1043073024092766208  STOP SAYING POC, IT’s A CUSS WORD   \n3                 3  1350969232897552385                   Pure Rap Podcast   \n4                 4   811604288443187200                  April Showers ⛈🌪💫   \n...             ...                  ...                                ...   \n1072375     1072375            324616347                            1056043   \n1072376     1072376            249105428                            1056044   \n1072381     1072381            395058107                            1056049   \n1072382     1072382            608420462                            1056050   \n1072386     1072386             72356014                            1056054   \n\n                username  followers  following  tweet_count  verified  \\\n0        anthonysradical        278        203         3844     False   \n1        iamjamesnumber1       2292       4490        96610     False   \n2              ADOSALLY1       1076       1190        13969     False   \n3         PureRapPodcast       2465       2111        27373     False   \n4           moonlitefire       1570        874        27642     False   \n...                  ...        ...        ...          ...       ...   \n1072375      TwitTitty10        388        251        38688     False   \n1072376     gwarmothwftv      10598        189        17492      True   \n1072381         sgeezy99        572        773         6236     False   \n1072382  Skeeter_Bentley        388          0         5846     False   \n1072386        deafheron       2066        926        19027     False   \n\n                        created_at  \n0        2012-10-12 01:55:26+00:00  \n1        2014-02-07 04:06:30+00:00  \n2        2018-09-21 09:42:43+00:00  \n3        2021-01-18 00:52:30+00:00  \n4        2016-12-21 16:08:36+00:00  \n...                            ...  \n1072375        2011-06-26 23:10:32  \n1072376        2011-02-08 11:19:53  \n1072381        2011-10-21 02:06:15  \n1072382        2012-06-14 19:30:38  \n1072386        2009-09-07 19:07:16  \n\n[438940 rows x 9 columns]",
      "text/html": "<div>\n<style scoped>\n    .dataframe tbody tr th:only-of-type {\n        vertical-align: middle;\n    }\n\n    .dataframe tbody tr th {\n        vertical-align: top;\n    }\n\n    .dataframe thead th {\n        text-align: right;\n    }\n</style>\n<table border=\"1\" class=\"dataframe\">\n  <thead>\n    <tr style=\"text-align: right;\">\n      <th></th>\n      <th>Unnamed: 0</th>\n      <th>user_id</th>\n      <th>name</th>\n      <th>username</th>\n      <th>followers</th>\n      <th>following</th>\n      <th>tweet_count</th>\n      <th>verified</th>\n      <th>created_at</th>\n    </tr>\n  </thead>\n  <tbody>\n    <tr>\n      <th>0</th>\n      <td>0</td>\n      <td>874735375</td>\n      <td>ARobles</td>\n      <td>anthonysradical</td>\n      <td>278</td>\n      <td>203</td>\n      <td>3844</td>\n      <td>False</td>\n      <td>2012-10-12 01:55:26+00:00</td>\n    </tr>\n    <tr>\n      <th>1</th>\n      <td>1</td>\n      <td>2331261888</td>\n      <td>James Smith Jr</td>\n      <td>iamjamesnumber1</td>\n      <td>2292</td>\n      <td>4490</td>\n      <td>96610</td>\n      <td>False</td>\n      <td>2014-02-07 04:06:30+00:00</td>\n    </tr>\n    <tr>\n      <th>2</th>\n      <td>2</td>\n      <td>1043073024092766208</td>\n      <td>STOP SAYING POC, IT’s A CUSS WORD</td>\n      <td>ADOSALLY1</td>\n      <td>1076</td>\n      <td>1190</td>\n      <td>13969</td>\n      <td>False</td>\n      <td>2018-09-21 09:42:43+00:00</td>\n    </tr>\n    <tr>\n      <th>3</th>\n      <td>3</td>\n      <td>1350969232897552385</td>\n      <td>Pure Rap Podcast</td>\n      <td>PureRapPodcast</td>\n      <td>2465</td>\n      <td>2111</td>\n      <td>27373</td>\n      <td>False</td>\n      <td>2021-01-18 00:52:30+00:00</td>\n    </tr>\n    <tr>\n      <th>4</th>\n      <td>4</td>\n      <td>811604288443187200</td>\n      <td>April Showers ⛈🌪💫</td>\n      <td>moonlitefire</td>\n      <td>1570</td>\n      <td>874</td>\n      <td>27642</td>\n      <td>False</td>\n      <td>2016-12-21 16:08:36+00:00</td>\n    </tr>\n    <tr>\n      <th>...</th>\n      <td>...</td>\n      <td>...</td>\n      <td>...</td>\n      <td>...</td>\n      <td>...</td>\n      <td>...</td>\n      <td>...</td>\n      <td>...</td>\n      <td>...</td>\n    </tr>\n    <tr>\n      <th>1072375</th>\n      <td>1072375</td>\n      <td>324616347</td>\n      <td>1056043</td>\n      <td>TwitTitty10</td>\n      <td>388</td>\n      <td>251</td>\n      <td>38688</td>\n      <td>False</td>\n      <td>2011-06-26 23:10:32</td>\n    </tr>\n    <tr>\n      <th>1072376</th>\n      <td>1072376</td>\n      <td>249105428</td>\n      <td>1056044</td>\n      <td>gwarmothwftv</td>\n      <td>10598</td>\n      <td>189</td>\n      <td>17492</td>\n      <td>True</td>\n      <td>2011-02-08 11:19:53</td>\n    </tr>\n    <tr>\n      <th>1072381</th>\n      <td>1072381</td>\n      <td>395058107</td>\n      <td>1056049</td>\n      <td>sgeezy99</td>\n      <td>572</td>\n      <td>773</td>\n      <td>6236</td>\n      <td>False</td>\n      <td>2011-10-21 02:06:15</td>\n    </tr>\n    <tr>\n      <th>1072382</th>\n      <td>1072382</td>\n      <td>608420462</td>\n      <td>1056050</td>\n      <td>Skeeter_Bentley</td>\n      <td>388</td>\n      <td>0</td>\n      <td>5846</td>\n      <td>False</td>\n      <td>2012-06-14 19:30:38</td>\n    </tr>\n    <tr>\n      <th>1072386</th>\n      <td>1072386</td>\n      <td>72356014</td>\n      <td>1056054</td>\n      <td>deafheron</td>\n      <td>2066</td>\n      <td>926</td>\n      <td>19027</td>\n      <td>False</td>\n      <td>2009-09-07 19:07:16</td>\n    </tr>\n  </tbody>\n</table>\n<p>438940 rows × 9 columns</p>\n</div>"
     },
     "execution_count": 9,
     "metadata": {},
     "output_type": "execute_result"
    }
   ],
   "source": [
    "users_df = users_df.drop_duplicates(subset=['user_id'], keep=\"first\")\n",
    "users_df"
   ],
   "metadata": {
    "collapsed": false,
    "pycharm": {
     "name": "#%%\n"
    }
   }
  },
  {
   "cell_type": "markdown",
   "source": [
    "### Calculate tweet reach\n",
    "\n",
    "#### These values indicate the maximum possible of people that could have seen a given tweet\n",
    "\n",
    "To do this, a sum of all the original tweet user's followers is made with the followers from all the users that retweeted/quoted the tweet\n",
    "\n",
    "Note: this assumes that if a retweet is then shared by retweet again, those next audiences are not taken into account"
   ],
   "metadata": {
    "collapsed": false,
    "pycharm": {
     "name": "#%% md\n"
    }
   }
  },
  {
   "cell_type": "code",
   "execution_count": 10,
   "outputs": [],
   "source": [
    "t_retweeters = pd.read_csv(filepath_or_buffer=FILE_RETWEETERS_USERS, sep=\",\")\n",
    "t_retweeters_tweets = pd.read_csv(filepath_or_buffer=FILE_RETWEETERS, sep=\",\")"
   ],
   "metadata": {
    "collapsed": false,
    "pycharm": {
     "name": "#%%\n"
    }
   }
  },
  {
   "cell_type": "code",
   "execution_count": 11,
   "outputs": [
    {
     "data": {
      "text/plain": "   Unnamed: 0             tweet_id  \\\n0           0  1475758320568971271   \n1           1  1473588933883801601   \n2           2  1473588921749573635   \n3           3  1473430854680838144   \n4           4  1473324608963100679   \n\n                                                text              user_id  \\\n0  RT @Keiththebat: Zack Snyder's back must be so...           3457095793   \n1  RT @Keiththebat: Zack Snyder's back must be so...  1206541010408333313   \n2  RT @Keiththebat: Zack Snyder's back must be so...  1369228958739263488   \n3  RT @gameallniteshow: Getting in some Coffee Tr...           3223132542   \n4  RT @Tails7354: Sonic X: FIU Eye-Catch Card: Fl...  1256240643258671105   \n\n             timestamp     tweet_type  like_count  reply_count  retweet_count  \\\n0  2021-12-28 09:19:36  Retweet Tweet           0            0              4   \n1  2021-12-22 09:39:14  Retweet Tweet           0            0              4   \n2  2021-12-22 09:39:11  Retweet Tweet           0            0              4   \n3  2021-12-21 23:11:05  Retweet Tweet           0            0              2   \n4  2021-12-21 16:08:54  Retweet Tweet           0            0              2   \n\n   quote_count   device lang topics_ids topics  \\\n0            0  Android   en         []     []   \n1            0      Bot   en         []     []   \n2            0  Android   en         []     []   \n3            0  Android   en         []     []   \n4            0   iPhone   en         []     []   \n\n                                   referenced_tweets  \n0  [ReferencedTweet(id: 1473095800364351490, type...  \n1  [ReferencedTweet(id: 1473095800364351490, type...  \n2  [ReferencedTweet(id: 1473095800364351490, type...  \n3  [ReferencedTweet(id: 1473095644709535745, type...  \n4  [ReferencedTweet(id: 1473200836071329793, type...  ",
      "text/html": "<div>\n<style scoped>\n    .dataframe tbody tr th:only-of-type {\n        vertical-align: middle;\n    }\n\n    .dataframe tbody tr th {\n        vertical-align: top;\n    }\n\n    .dataframe thead th {\n        text-align: right;\n    }\n</style>\n<table border=\"1\" class=\"dataframe\">\n  <thead>\n    <tr style=\"text-align: right;\">\n      <th></th>\n      <th>Unnamed: 0</th>\n      <th>tweet_id</th>\n      <th>text</th>\n      <th>user_id</th>\n      <th>timestamp</th>\n      <th>tweet_type</th>\n      <th>like_count</th>\n      <th>reply_count</th>\n      <th>retweet_count</th>\n      <th>quote_count</th>\n      <th>device</th>\n      <th>lang</th>\n      <th>topics_ids</th>\n      <th>topics</th>\n      <th>referenced_tweets</th>\n    </tr>\n  </thead>\n  <tbody>\n    <tr>\n      <th>0</th>\n      <td>0</td>\n      <td>1475758320568971271</td>\n      <td>RT @Keiththebat: Zack Snyder's back must be so...</td>\n      <td>3457095793</td>\n      <td>2021-12-28 09:19:36</td>\n      <td>Retweet Tweet</td>\n      <td>0</td>\n      <td>0</td>\n      <td>4</td>\n      <td>0</td>\n      <td>Android</td>\n      <td>en</td>\n      <td>[]</td>\n      <td>[]</td>\n      <td>[ReferencedTweet(id: 1473095800364351490, type...</td>\n    </tr>\n    <tr>\n      <th>1</th>\n      <td>1</td>\n      <td>1473588933883801601</td>\n      <td>RT @Keiththebat: Zack Snyder's back must be so...</td>\n      <td>1206541010408333313</td>\n      <td>2021-12-22 09:39:14</td>\n      <td>Retweet Tweet</td>\n      <td>0</td>\n      <td>0</td>\n      <td>4</td>\n      <td>0</td>\n      <td>Bot</td>\n      <td>en</td>\n      <td>[]</td>\n      <td>[]</td>\n      <td>[ReferencedTweet(id: 1473095800364351490, type...</td>\n    </tr>\n    <tr>\n      <th>2</th>\n      <td>2</td>\n      <td>1473588921749573635</td>\n      <td>RT @Keiththebat: Zack Snyder's back must be so...</td>\n      <td>1369228958739263488</td>\n      <td>2021-12-22 09:39:11</td>\n      <td>Retweet Tweet</td>\n      <td>0</td>\n      <td>0</td>\n      <td>4</td>\n      <td>0</td>\n      <td>Android</td>\n      <td>en</td>\n      <td>[]</td>\n      <td>[]</td>\n      <td>[ReferencedTweet(id: 1473095800364351490, type...</td>\n    </tr>\n    <tr>\n      <th>3</th>\n      <td>3</td>\n      <td>1473430854680838144</td>\n      <td>RT @gameallniteshow: Getting in some Coffee Tr...</td>\n      <td>3223132542</td>\n      <td>2021-12-21 23:11:05</td>\n      <td>Retweet Tweet</td>\n      <td>0</td>\n      <td>0</td>\n      <td>2</td>\n      <td>0</td>\n      <td>Android</td>\n      <td>en</td>\n      <td>[]</td>\n      <td>[]</td>\n      <td>[ReferencedTweet(id: 1473095644709535745, type...</td>\n    </tr>\n    <tr>\n      <th>4</th>\n      <td>4</td>\n      <td>1473324608963100679</td>\n      <td>RT @Tails7354: Sonic X: FIU Eye-Catch Card: Fl...</td>\n      <td>1256240643258671105</td>\n      <td>2021-12-21 16:08:54</td>\n      <td>Retweet Tweet</td>\n      <td>0</td>\n      <td>0</td>\n      <td>2</td>\n      <td>0</td>\n      <td>iPhone</td>\n      <td>en</td>\n      <td>[]</td>\n      <td>[]</td>\n      <td>[ReferencedTweet(id: 1473200836071329793, type...</td>\n    </tr>\n  </tbody>\n</table>\n</div>"
     },
     "execution_count": 11,
     "metadata": {},
     "output_type": "execute_result"
    }
   ],
   "source": [
    "t_retweeters_tweets.head()"
   ],
   "metadata": {
    "collapsed": false,
    "pycharm": {
     "name": "#%%\n"
    }
   }
  },
  {
   "cell_type": "code",
   "execution_count": 12,
   "outputs": [],
   "source": [
    "def get_ref_tweet_id(ref_tweets):\n",
    "    g = str(ref_tweets)\n",
    "    if isinstance(g, str) and g != 'nan':\n",
    "        return g.split()[1].replace(',', '')\n",
    "    else: return None"
   ],
   "metadata": {
    "collapsed": false,
    "pycharm": {
     "name": "#%%\n"
    }
   }
  },
  {
   "cell_type": "code",
   "execution_count": 13,
   "outputs": [],
   "source": [
    "t_retweeters_tweets['ref_tweed_id'] = t_retweeters_tweets['referenced_tweets'].apply(lambda ref_tweet: get_ref_tweet_id(ref_tweet))"
   ],
   "metadata": {
    "collapsed": false,
    "pycharm": {
     "name": "#%%\n"
    }
   }
  },
  {
   "cell_type": "code",
   "execution_count": 14,
   "outputs": [],
   "source": [
    "def get_retweeters_reach(tweet_id, total_reach):\n",
    "    retweets_users_ids = t_retweeters_tweets[t_retweeters_tweets['ref_tweed_id'] == tweet_id]['user_id'].tolist()\n",
    "    for user_id in retweets_users_ids:\n",
    "        total_reach += t_retweeters[t_retweeters['user_id'] == user_id]['followers'].sum()\n"
   ],
   "metadata": {
    "collapsed": false,
    "pycharm": {
     "name": "#%%\n"
    }
   }
  },
  {
   "cell_type": "code",
   "execution_count": 15,
   "outputs": [],
   "source": [
    "def calculate_tweet_reach(tweet_id, user_id):\n",
    "    total_reach = 0\n",
    "    total_reach += users_df[users_df['user_id'] == user_id]['followers'].sum()\n",
    "    get_retweeters_reach(tweet_id, total_reach)\n",
    "    return total_reach"
   ],
   "metadata": {
    "collapsed": false,
    "pycharm": {
     "name": "#%%\n"
    }
   }
  },
  {
   "cell_type": "code",
   "execution_count": null,
   "outputs": [],
   "source": [
    "users_tweets_df['reach'] = users_tweets_df.apply(lambda tweet_row: calculate_tweet_reach(tweet_row['tweet_id'], tweet_row['user_id']), axis=1)\n",
    "users_tweets_df.head(5)"
   ],
   "metadata": {
    "collapsed": false,
    "pycharm": {
     "name": "#%%\n",
     "is_executing": true
    }
   }
  },
  {
   "cell_type": "markdown",
   "source": [
    "### Topic analysis\n",
    "\n",
    "#### Loading the previously trained topic analysis model and it's evaluations of each tweet text"
   ],
   "metadata": {
    "collapsed": false,
    "pycharm": {
     "name": "#%% md\n"
    }
   }
  },
  {
   "cell_type": "code",
   "execution_count": 15,
   "outputs": [
    {
     "data": {
      "text/plain": "        Unnamed: 0             tweet_id  \\\n794525      794525  1212176606699180032   \n794528      794528  1212176606678044674   \n794529      794529  1212176606677979136   \n794530      794530  1212176606627815431   \n794531      794531  1212176606619480064   \n\n                                                     text  \\\n794525                                   IM READY FOR BTS   \n794528  I have over 50 cousins i found out about and t...   \n794529  What/who do you miss the most from your childh...   \n794530  Where is that same 70' Degree weather that we ...   \n794531  Lmao the way I screamed!!! 😂😂😂😂 https://t.co/1...   \n\n                    user_id            timestamp      tweet_type  like_count  \\\n794525  1078318888851513347  2020-01-01 00:59:58  Original Tweet           0   \n794528            591385371  2020-01-01 00:59:58  Original Tweet           2   \n794529  1103804603877871616  2020-01-01 00:59:58  Original Tweet           0   \n794530             32706756  2020-01-01 00:59:58  Original Tweet           0   \n794531             42065215  2020-01-01 00:59:58  Original Tweet           0   \n\n        reply_count  retweet_count  quote_count  device lang  \\\n794525            0              0            0  iPhone   en   \n794528            0              0            0  iPhone   en   \n794529            1              0            0     NaN   en   \n794530            0              0            0     NaN   en   \n794531            0              0            0  iPhone   en   \n\n                             topics_ids  \\\n794525                               []   \n794528                               []   \n794529                               []   \n794530  ['65', '66', '119', '65', '66']   \n794531                               []   \n\n                                                   topics referenced_tweets  \\\n794525                                                 []               NaN   \n794528                                                 []               NaN   \n794529                                                 []               NaN   \n794530  ['Interests and Hobbies Vertical', 'Interests ...               NaN   \n794531                                                 []               NaN   \n\n        reach  \n794525    100  \n794528    366  \n794529   1131  \n794530    145  \n794531  23168  ",
      "text/html": "<div>\n<style scoped>\n    .dataframe tbody tr th:only-of-type {\n        vertical-align: middle;\n    }\n\n    .dataframe tbody tr th {\n        vertical-align: top;\n    }\n\n    .dataframe thead th {\n        text-align: right;\n    }\n</style>\n<table border=\"1\" class=\"dataframe\">\n  <thead>\n    <tr style=\"text-align: right;\">\n      <th></th>\n      <th>Unnamed: 0</th>\n      <th>tweet_id</th>\n      <th>text</th>\n      <th>user_id</th>\n      <th>timestamp</th>\n      <th>tweet_type</th>\n      <th>like_count</th>\n      <th>reply_count</th>\n      <th>retweet_count</th>\n      <th>quote_count</th>\n      <th>device</th>\n      <th>lang</th>\n      <th>topics_ids</th>\n      <th>topics</th>\n      <th>referenced_tweets</th>\n      <th>reach</th>\n    </tr>\n  </thead>\n  <tbody>\n    <tr>\n      <th>794525</th>\n      <td>794525</td>\n      <td>1212176606699180032</td>\n      <td>IM READY FOR BTS</td>\n      <td>1078318888851513347</td>\n      <td>2020-01-01 00:59:58</td>\n      <td>Original Tweet</td>\n      <td>0</td>\n      <td>0</td>\n      <td>0</td>\n      <td>0</td>\n      <td>iPhone</td>\n      <td>en</td>\n      <td>[]</td>\n      <td>[]</td>\n      <td>NaN</td>\n      <td>100</td>\n    </tr>\n    <tr>\n      <th>794528</th>\n      <td>794528</td>\n      <td>1212176606678044674</td>\n      <td>I have over 50 cousins i found out about and t...</td>\n      <td>591385371</td>\n      <td>2020-01-01 00:59:58</td>\n      <td>Original Tweet</td>\n      <td>2</td>\n      <td>0</td>\n      <td>0</td>\n      <td>0</td>\n      <td>iPhone</td>\n      <td>en</td>\n      <td>[]</td>\n      <td>[]</td>\n      <td>NaN</td>\n      <td>366</td>\n    </tr>\n    <tr>\n      <th>794529</th>\n      <td>794529</td>\n      <td>1212176606677979136</td>\n      <td>What/who do you miss the most from your childh...</td>\n      <td>1103804603877871616</td>\n      <td>2020-01-01 00:59:58</td>\n      <td>Original Tweet</td>\n      <td>0</td>\n      <td>1</td>\n      <td>0</td>\n      <td>0</td>\n      <td>NaN</td>\n      <td>en</td>\n      <td>[]</td>\n      <td>[]</td>\n      <td>NaN</td>\n      <td>1131</td>\n    </tr>\n    <tr>\n      <th>794530</th>\n      <td>794530</td>\n      <td>1212176606627815431</td>\n      <td>Where is that same 70' Degree weather that we ...</td>\n      <td>32706756</td>\n      <td>2020-01-01 00:59:58</td>\n      <td>Original Tweet</td>\n      <td>0</td>\n      <td>0</td>\n      <td>0</td>\n      <td>0</td>\n      <td>NaN</td>\n      <td>en</td>\n      <td>['65', '66', '119', '65', '66']</td>\n      <td>['Interests and Hobbies Vertical', 'Interests ...</td>\n      <td>NaN</td>\n      <td>145</td>\n    </tr>\n    <tr>\n      <th>794531</th>\n      <td>794531</td>\n      <td>1212176606619480064</td>\n      <td>Lmao the way I screamed!!! 😂😂😂😂 https://t.co/1...</td>\n      <td>42065215</td>\n      <td>2020-01-01 00:59:58</td>\n      <td>Original Tweet</td>\n      <td>0</td>\n      <td>0</td>\n      <td>0</td>\n      <td>0</td>\n      <td>iPhone</td>\n      <td>en</td>\n      <td>[]</td>\n      <td>[]</td>\n      <td>NaN</td>\n      <td>23168</td>\n    </tr>\n  </tbody>\n</table>\n</div>"
     },
     "execution_count": 15,
     "metadata": {},
     "output_type": "execute_result"
    }
   ],
   "source": [
    "users_tweets_df.head(5)"
   ],
   "metadata": {
    "collapsed": false,
    "pycharm": {
     "name": "#%%\n"
    }
   }
  },
  {
   "cell_type": "code",
   "execution_count": 16,
   "outputs": [],
   "source": [
    "import json\n",
    "\n",
    "def process_topic(topics:str):\n",
    "    s = topics\n",
    "    for i in range(topics.count('\\'')):\n",
    "        s = s.replace('\\'', '\"')\n",
    "    t = json.loads(s)\n",
    "    if len(t) > 0:\n",
    "        return t[0]\n",
    "    return None"
   ],
   "metadata": {
    "collapsed": false,
    "pycharm": {
     "name": "#%%\n"
    }
   }
  },
  {
   "cell_type": "code",
   "execution_count": 17,
   "outputs": [
    {
     "data": {
      "text/plain": "        Unnamed: 0             tweet_id  \\\n794525      794525  1212176606699180032   \n794528      794528  1212176606678044674   \n794529      794529  1212176606677979136   \n794530      794530  1212176606627815431   \n794531      794531  1212176606619480064   \n\n                                                     text  \\\n794525                                   IM READY FOR BTS   \n794528  I have over 50 cousins i found out about and t...   \n794529  What/who do you miss the most from your childh...   \n794530  Where is that same 70' Degree weather that we ...   \n794531  Lmao the way I screamed!!! 😂😂😂😂 https://t.co/1...   \n\n                    user_id            timestamp      tweet_type  like_count  \\\n794525  1078318888851513347  2020-01-01 00:59:58  Original Tweet           0   \n794528            591385371  2020-01-01 00:59:58  Original Tweet           2   \n794529  1103804603877871616  2020-01-01 00:59:58  Original Tweet           0   \n794530             32706756  2020-01-01 00:59:58  Original Tweet           0   \n794531             42065215  2020-01-01 00:59:58  Original Tweet           0   \n\n        reply_count  retweet_count  quote_count  device lang topics_ids  \\\n794525            0              0            0  iPhone   en       None   \n794528            0              0            0  iPhone   en       None   \n794529            1              0            0     NaN   en       None   \n794530            0              0            0     NaN   en         65   \n794531            0              0            0  iPhone   en       None   \n\n                                topics referenced_tweets  reach  \n794525                            None               NaN    100  \n794528                            None               NaN    366  \n794529                            None               NaN   1131  \n794530  Interests and Hobbies Vertical               NaN    145  \n794531                            None               NaN  23168  ",
      "text/html": "<div>\n<style scoped>\n    .dataframe tbody tr th:only-of-type {\n        vertical-align: middle;\n    }\n\n    .dataframe tbody tr th {\n        vertical-align: top;\n    }\n\n    .dataframe thead th {\n        text-align: right;\n    }\n</style>\n<table border=\"1\" class=\"dataframe\">\n  <thead>\n    <tr style=\"text-align: right;\">\n      <th></th>\n      <th>Unnamed: 0</th>\n      <th>tweet_id</th>\n      <th>text</th>\n      <th>user_id</th>\n      <th>timestamp</th>\n      <th>tweet_type</th>\n      <th>like_count</th>\n      <th>reply_count</th>\n      <th>retweet_count</th>\n      <th>quote_count</th>\n      <th>device</th>\n      <th>lang</th>\n      <th>topics_ids</th>\n      <th>topics</th>\n      <th>referenced_tweets</th>\n      <th>reach</th>\n    </tr>\n  </thead>\n  <tbody>\n    <tr>\n      <th>794525</th>\n      <td>794525</td>\n      <td>1212176606699180032</td>\n      <td>IM READY FOR BTS</td>\n      <td>1078318888851513347</td>\n      <td>2020-01-01 00:59:58</td>\n      <td>Original Tweet</td>\n      <td>0</td>\n      <td>0</td>\n      <td>0</td>\n      <td>0</td>\n      <td>iPhone</td>\n      <td>en</td>\n      <td>None</td>\n      <td>None</td>\n      <td>NaN</td>\n      <td>100</td>\n    </tr>\n    <tr>\n      <th>794528</th>\n      <td>794528</td>\n      <td>1212176606678044674</td>\n      <td>I have over 50 cousins i found out about and t...</td>\n      <td>591385371</td>\n      <td>2020-01-01 00:59:58</td>\n      <td>Original Tweet</td>\n      <td>2</td>\n      <td>0</td>\n      <td>0</td>\n      <td>0</td>\n      <td>iPhone</td>\n      <td>en</td>\n      <td>None</td>\n      <td>None</td>\n      <td>NaN</td>\n      <td>366</td>\n    </tr>\n    <tr>\n      <th>794529</th>\n      <td>794529</td>\n      <td>1212176606677979136</td>\n      <td>What/who do you miss the most from your childh...</td>\n      <td>1103804603877871616</td>\n      <td>2020-01-01 00:59:58</td>\n      <td>Original Tweet</td>\n      <td>0</td>\n      <td>1</td>\n      <td>0</td>\n      <td>0</td>\n      <td>NaN</td>\n      <td>en</td>\n      <td>None</td>\n      <td>None</td>\n      <td>NaN</td>\n      <td>1131</td>\n    </tr>\n    <tr>\n      <th>794530</th>\n      <td>794530</td>\n      <td>1212176606627815431</td>\n      <td>Where is that same 70' Degree weather that we ...</td>\n      <td>32706756</td>\n      <td>2020-01-01 00:59:58</td>\n      <td>Original Tweet</td>\n      <td>0</td>\n      <td>0</td>\n      <td>0</td>\n      <td>0</td>\n      <td>NaN</td>\n      <td>en</td>\n      <td>65</td>\n      <td>Interests and Hobbies Vertical</td>\n      <td>NaN</td>\n      <td>145</td>\n    </tr>\n    <tr>\n      <th>794531</th>\n      <td>794531</td>\n      <td>1212176606619480064</td>\n      <td>Lmao the way I screamed!!! 😂😂😂😂 https://t.co/1...</td>\n      <td>42065215</td>\n      <td>2020-01-01 00:59:58</td>\n      <td>Original Tweet</td>\n      <td>0</td>\n      <td>0</td>\n      <td>0</td>\n      <td>0</td>\n      <td>iPhone</td>\n      <td>en</td>\n      <td>None</td>\n      <td>None</td>\n      <td>NaN</td>\n      <td>23168</td>\n    </tr>\n  </tbody>\n</table>\n</div>"
     },
     "execution_count": 17,
     "metadata": {},
     "output_type": "execute_result"
    }
   ],
   "source": [
    "users_tweets_df['topics'] = users_tweets_df['topics'].apply(lambda topics: process_topic(topics))\n",
    "users_tweets_df['topics_ids'] = users_tweets_df['topics_ids'].apply(lambda topics: process_topic(topics))\n",
    "users_tweets_df.head(5)"
   ],
   "metadata": {
    "collapsed": false,
    "pycharm": {
     "name": "#%%\n"
    }
   }
  },
  {
   "cell_type": "markdown",
   "source": [
    "### Sentiment analysis"
   ],
   "metadata": {
    "collapsed": false,
    "pycharm": {
     "name": "#%% md\n"
    }
   }
  },
  {
   "cell_type": "code",
   "execution_count": 18,
   "outputs": [],
   "source": [
    "from vaderSentiment.vaderSentiment import SentimentIntensityAnalyzer\n",
    "\n",
    "def sentiment_scores(sentence, prints):\n",
    "    if prints: print(\"\\nSentence:\", sentence)\n",
    "\n",
    "    sid_obj = SentimentIntensityAnalyzer()\n",
    "    sentiment_dict = sid_obj.polarity_scores(sentence)\n",
    "\n",
    "    if sentiment_dict['compound'] >= 0.05:\n",
    "        if prints: print(\"Positive\")\n",
    "        return \"Positive\"\n",
    "    elif sentiment_dict['compound'] <= - 0.05:\n",
    "        if prints: print(\"Positive\")\n",
    "        return \"Negative\"\n",
    "    else:\n",
    "        if prints: print(\"Neutral\")\n",
    "        return \"Neutral\""
   ],
   "metadata": {
    "collapsed": false,
    "pycharm": {
     "name": "#%%\n"
    }
   }
  },
  {
   "cell_type": "code",
   "execution_count": 19,
   "outputs": [],
   "source": [
    "users_tweets_df['sentiment'] = users_tweets_df['text'].apply(lambda tweet_text: sentiment_scores(tweet_text, False))"
   ],
   "metadata": {
    "collapsed": false,
    "pycharm": {
     "name": "#%%\n"
    }
   }
  },
  {
   "cell_type": "code",
   "execution_count": 20,
   "outputs": [
    {
     "data": {
      "text/plain": "        Unnamed: 0             tweet_id  \\\n794525      794525  1212176606699180032   \n794528      794528  1212176606678044674   \n794529      794529  1212176606677979136   \n794530      794530  1212176606627815431   \n794531      794531  1212176606619480064   \n\n                                                     text  \\\n794525                                   IM READY FOR BTS   \n794528  I have over 50 cousins i found out about and t...   \n794529  What/who do you miss the most from your childh...   \n794530  Where is that same 70' Degree weather that we ...   \n794531  Lmao the way I screamed!!! 😂😂😂😂 https://t.co/1...   \n\n                    user_id            timestamp      tweet_type  like_count  \\\n794525  1078318888851513347  2020-01-01 00:59:58  Original Tweet           0   \n794528            591385371  2020-01-01 00:59:58  Original Tweet           2   \n794529  1103804603877871616  2020-01-01 00:59:58  Original Tweet           0   \n794530             32706756  2020-01-01 00:59:58  Original Tweet           0   \n794531             42065215  2020-01-01 00:59:58  Original Tweet           0   \n\n        reply_count  retweet_count  quote_count  device lang topics_ids  \\\n794525            0              0            0  iPhone   en       None   \n794528            0              0            0  iPhone   en       None   \n794529            1              0            0     NaN   en       None   \n794530            0              0            0     NaN   en         65   \n794531            0              0            0  iPhone   en       None   \n\n                                topics referenced_tweets  reach sentiment  \n794525                            None               NaN    100  Positive  \n794528                            None               NaN    366   Neutral  \n794529                            None               NaN   1131  Negative  \n794530  Interests and Hobbies Vertical               NaN    145  Negative  \n794531                            None               NaN  23168  Positive  ",
      "text/html": "<div>\n<style scoped>\n    .dataframe tbody tr th:only-of-type {\n        vertical-align: middle;\n    }\n\n    .dataframe tbody tr th {\n        vertical-align: top;\n    }\n\n    .dataframe thead th {\n        text-align: right;\n    }\n</style>\n<table border=\"1\" class=\"dataframe\">\n  <thead>\n    <tr style=\"text-align: right;\">\n      <th></th>\n      <th>Unnamed: 0</th>\n      <th>tweet_id</th>\n      <th>text</th>\n      <th>user_id</th>\n      <th>timestamp</th>\n      <th>tweet_type</th>\n      <th>like_count</th>\n      <th>reply_count</th>\n      <th>retweet_count</th>\n      <th>quote_count</th>\n      <th>device</th>\n      <th>lang</th>\n      <th>topics_ids</th>\n      <th>topics</th>\n      <th>referenced_tweets</th>\n      <th>reach</th>\n      <th>sentiment</th>\n    </tr>\n  </thead>\n  <tbody>\n    <tr>\n      <th>794525</th>\n      <td>794525</td>\n      <td>1212176606699180032</td>\n      <td>IM READY FOR BTS</td>\n      <td>1078318888851513347</td>\n      <td>2020-01-01 00:59:58</td>\n      <td>Original Tweet</td>\n      <td>0</td>\n      <td>0</td>\n      <td>0</td>\n      <td>0</td>\n      <td>iPhone</td>\n      <td>en</td>\n      <td>None</td>\n      <td>None</td>\n      <td>NaN</td>\n      <td>100</td>\n      <td>Positive</td>\n    </tr>\n    <tr>\n      <th>794528</th>\n      <td>794528</td>\n      <td>1212176606678044674</td>\n      <td>I have over 50 cousins i found out about and t...</td>\n      <td>591385371</td>\n      <td>2020-01-01 00:59:58</td>\n      <td>Original Tweet</td>\n      <td>2</td>\n      <td>0</td>\n      <td>0</td>\n      <td>0</td>\n      <td>iPhone</td>\n      <td>en</td>\n      <td>None</td>\n      <td>None</td>\n      <td>NaN</td>\n      <td>366</td>\n      <td>Neutral</td>\n    </tr>\n    <tr>\n      <th>794529</th>\n      <td>794529</td>\n      <td>1212176606677979136</td>\n      <td>What/who do you miss the most from your childh...</td>\n      <td>1103804603877871616</td>\n      <td>2020-01-01 00:59:58</td>\n      <td>Original Tweet</td>\n      <td>0</td>\n      <td>1</td>\n      <td>0</td>\n      <td>0</td>\n      <td>NaN</td>\n      <td>en</td>\n      <td>None</td>\n      <td>None</td>\n      <td>NaN</td>\n      <td>1131</td>\n      <td>Negative</td>\n    </tr>\n    <tr>\n      <th>794530</th>\n      <td>794530</td>\n      <td>1212176606627815431</td>\n      <td>Where is that same 70' Degree weather that we ...</td>\n      <td>32706756</td>\n      <td>2020-01-01 00:59:58</td>\n      <td>Original Tweet</td>\n      <td>0</td>\n      <td>0</td>\n      <td>0</td>\n      <td>0</td>\n      <td>NaN</td>\n      <td>en</td>\n      <td>65</td>\n      <td>Interests and Hobbies Vertical</td>\n      <td>NaN</td>\n      <td>145</td>\n      <td>Negative</td>\n    </tr>\n    <tr>\n      <th>794531</th>\n      <td>794531</td>\n      <td>1212176606619480064</td>\n      <td>Lmao the way I screamed!!! 😂😂😂😂 https://t.co/1...</td>\n      <td>42065215</td>\n      <td>2020-01-01 00:59:58</td>\n      <td>Original Tweet</td>\n      <td>0</td>\n      <td>0</td>\n      <td>0</td>\n      <td>0</td>\n      <td>iPhone</td>\n      <td>en</td>\n      <td>None</td>\n      <td>None</td>\n      <td>NaN</td>\n      <td>23168</td>\n      <td>Positive</td>\n    </tr>\n  </tbody>\n</table>\n</div>"
     },
     "execution_count": 20,
     "metadata": {},
     "output_type": "execute_result"
    }
   ],
   "source": [
    "users_tweets_df.head(5)"
   ],
   "metadata": {
    "collapsed": false,
    "pycharm": {
     "name": "#%%\n"
    }
   }
  },
  {
   "cell_type": "markdown",
   "source": [
    "### Tweet popularity\n",
    "\n",
    "To define tweet popularity, each tweet with at least 1 retweet or 1 quote tweet was considered popular (1)\n",
    "if the criteria wasn't met it was marked as unpopular (0)"
   ],
   "metadata": {
    "collapsed": false,
    "pycharm": {
     "name": "#%% md\n"
    }
   }
  },
  {
   "cell_type": "code",
   "execution_count": 21,
   "outputs": [],
   "source": [
    "def tweet_popularity_label(retweet_count, quote_count):\n",
    "    if retweet_count > 0 or quote_count > 0:\n",
    "        return 1\n",
    "    else:\n",
    "        return 0"
   ],
   "metadata": {
    "collapsed": false,
    "pycharm": {
     "name": "#%%\n"
    }
   }
  },
  {
   "cell_type": "code",
   "execution_count": 22,
   "outputs": [],
   "source": [
    "users_tweets_df['popularity'] = users_tweets_df.apply(lambda row: tweet_popularity_label(row['retweet_count'], row['quote_count']), axis=1)"
   ],
   "metadata": {
    "collapsed": false,
    "pycharm": {
     "name": "#%%\n"
    }
   }
  },
  {
   "cell_type": "code",
   "execution_count": 23,
   "outputs": [
    {
     "data": {
      "text/plain": "0    853120\n1    203142\nName: popularity, dtype: int64"
     },
     "execution_count": 23,
     "metadata": {},
     "output_type": "execute_result"
    }
   ],
   "source": [
    "users_tweets_df['popularity'].value_counts()"
   ],
   "metadata": {
    "collapsed": false,
    "pycharm": {
     "name": "#%%\n"
    }
   }
  },
  {
   "cell_type": "code",
   "execution_count": 24,
   "outputs": [
    {
     "data": {
      "text/plain": "              tweet_id                                               text  \\\n0  1212176606699180032                                   IM READY FOR BTS   \n1  1212176606678044674  I have over 50 cousins i found out about and t...   \n2  1212176606677979136  What/who do you miss the most from your childh...   \n3  1212538995021713410  What is your best advice for living a happy life?   \n4  1212176606627815431  Where is that same 70' Degree weather that we ...   \n\n             timestamp              user_id  like_count  retweet_count  \\\n0  2020-01-01 00:59:58  1078318888851513347           0              0   \n1  2020-01-01 00:59:58            591385371           2              0   \n2  2020-01-01 00:59:58  1103804603877871616           0              0   \n3  2020-01-02 00:59:58  1103804603877871616           0              0   \n4  2020-01-01 00:59:58             32706756           0              0   \n\n   quote_count  reply_count  reach topics_ids                          topics  \\\n0            0            0    100       None                            None   \n1            0            0    366       None                            None   \n2            0            1   1131       None                            None   \n3            1            0   1131       None                            None   \n4            0            0    145         65  Interests and Hobbies Vertical   \n\n  sentiment  popularity  followers  following  tweet_count  verified  \\\n0  Positive           0        100        390         3961     False   \n1   Neutral           0        366        134        34882     False   \n2  Negative           0       1131        714         2212     False   \n3  Positive           1       1131        714         2212     False   \n4  Negative           0        145        293         2860     False   \n\n            created_at  \n0  2018-12-27 15:57:12  \n1  2012-05-26 22:28:16  \n2  2019-03-07 23:48:20  \n3  2019-03-07 23:48:20  \n4  2009-04-18 01:22:32  ",
      "text/html": "<div>\n<style scoped>\n    .dataframe tbody tr th:only-of-type {\n        vertical-align: middle;\n    }\n\n    .dataframe tbody tr th {\n        vertical-align: top;\n    }\n\n    .dataframe thead th {\n        text-align: right;\n    }\n</style>\n<table border=\"1\" class=\"dataframe\">\n  <thead>\n    <tr style=\"text-align: right;\">\n      <th></th>\n      <th>tweet_id</th>\n      <th>text</th>\n      <th>timestamp</th>\n      <th>user_id</th>\n      <th>like_count</th>\n      <th>retweet_count</th>\n      <th>quote_count</th>\n      <th>reply_count</th>\n      <th>reach</th>\n      <th>topics_ids</th>\n      <th>topics</th>\n      <th>sentiment</th>\n      <th>popularity</th>\n      <th>followers</th>\n      <th>following</th>\n      <th>tweet_count</th>\n      <th>verified</th>\n      <th>created_at</th>\n    </tr>\n  </thead>\n  <tbody>\n    <tr>\n      <th>0</th>\n      <td>1212176606699180032</td>\n      <td>IM READY FOR BTS</td>\n      <td>2020-01-01 00:59:58</td>\n      <td>1078318888851513347</td>\n      <td>0</td>\n      <td>0</td>\n      <td>0</td>\n      <td>0</td>\n      <td>100</td>\n      <td>None</td>\n      <td>None</td>\n      <td>Positive</td>\n      <td>0</td>\n      <td>100</td>\n      <td>390</td>\n      <td>3961</td>\n      <td>False</td>\n      <td>2018-12-27 15:57:12</td>\n    </tr>\n    <tr>\n      <th>1</th>\n      <td>1212176606678044674</td>\n      <td>I have over 50 cousins i found out about and t...</td>\n      <td>2020-01-01 00:59:58</td>\n      <td>591385371</td>\n      <td>2</td>\n      <td>0</td>\n      <td>0</td>\n      <td>0</td>\n      <td>366</td>\n      <td>None</td>\n      <td>None</td>\n      <td>Neutral</td>\n      <td>0</td>\n      <td>366</td>\n      <td>134</td>\n      <td>34882</td>\n      <td>False</td>\n      <td>2012-05-26 22:28:16</td>\n    </tr>\n    <tr>\n      <th>2</th>\n      <td>1212176606677979136</td>\n      <td>What/who do you miss the most from your childh...</td>\n      <td>2020-01-01 00:59:58</td>\n      <td>1103804603877871616</td>\n      <td>0</td>\n      <td>0</td>\n      <td>0</td>\n      <td>1</td>\n      <td>1131</td>\n      <td>None</td>\n      <td>None</td>\n      <td>Negative</td>\n      <td>0</td>\n      <td>1131</td>\n      <td>714</td>\n      <td>2212</td>\n      <td>False</td>\n      <td>2019-03-07 23:48:20</td>\n    </tr>\n    <tr>\n      <th>3</th>\n      <td>1212538995021713410</td>\n      <td>What is your best advice for living a happy life?</td>\n      <td>2020-01-02 00:59:58</td>\n      <td>1103804603877871616</td>\n      <td>0</td>\n      <td>0</td>\n      <td>1</td>\n      <td>0</td>\n      <td>1131</td>\n      <td>None</td>\n      <td>None</td>\n      <td>Positive</td>\n      <td>1</td>\n      <td>1131</td>\n      <td>714</td>\n      <td>2212</td>\n      <td>False</td>\n      <td>2019-03-07 23:48:20</td>\n    </tr>\n    <tr>\n      <th>4</th>\n      <td>1212176606627815431</td>\n      <td>Where is that same 70' Degree weather that we ...</td>\n      <td>2020-01-01 00:59:58</td>\n      <td>32706756</td>\n      <td>0</td>\n      <td>0</td>\n      <td>0</td>\n      <td>0</td>\n      <td>145</td>\n      <td>65</td>\n      <td>Interests and Hobbies Vertical</td>\n      <td>Negative</td>\n      <td>0</td>\n      <td>145</td>\n      <td>293</td>\n      <td>2860</td>\n      <td>False</td>\n      <td>2009-04-18 01:22:32</td>\n    </tr>\n  </tbody>\n</table>\n</div>"
     },
     "execution_count": 24,
     "metadata": {},
     "output_type": "execute_result"
    }
   ],
   "source": [
    "popularity_df = pd.merge(users_tweets_df[['tweet_id', 'text', 'timestamp', 'user_id', 'like_count', 'retweet_count', 'quote_count', 'reply_count', 'reach', 'topics_ids', 'topics', 'sentiment', 'popularity']],\n",
    "                   users_df[['user_id', 'followers', 'following', 'tweet_count', 'verified', 'created_at']],\n",
    "                   on=\"user_id\")\n",
    "popularity_df.head(5)"
   ],
   "metadata": {
    "collapsed": false,
    "pycharm": {
     "name": "#%%\n"
    }
   }
  },
  {
   "cell_type": "markdown",
   "source": [
    "### Combine the two datasets into the final one\n",
    "\n",
    "For every tweet select the relevant columns and merge the corresponding information from the original user"
   ],
   "metadata": {
    "collapsed": false
   }
  },
  {
   "cell_type": "code",
   "execution_count": 25,
   "outputs": [],
   "source": [
    "popularity_df.to_csv(POPULARITY, sep=',', date_format='%Y-%m-%d %H:%M:%S')"
   ],
   "metadata": {
    "collapsed": false,
    "pycharm": {
     "name": "#%%\n"
    }
   }
  },
  {
   "cell_type": "code",
   "execution_count": 26,
   "outputs": [
    {
     "data": {
      "text/plain": "                    tweet_id  \\\n0        1212176606699180032   \n1        1212176606678044674   \n2        1212176606677979136   \n3        1212538995021713410   \n4        1212176606627815431   \n...                      ...   \n1056257  1477036841400520704   \n1056258  1477036841429716992   \n1056259  1477036841429782531   \n1056260  1477036841429872644   \n1056261  1477036842704797697   \n\n                                                      text  \\\n0                                         IM READY FOR BTS   \n1        I have over 50 cousins i found out about and t...   \n2        What/who do you miss the most from your childh...   \n3        What is your best advice for living a happy life?   \n4        Where is that same 70' Degree weather that we ...   \n...                                                    ...   \n1056257        WE KEEP ALL THE PARTY IN THE ROOM ALL NIGHT   \n1056258  wasn't the dispatch couple reveal a dud for 20...   \n1056259                          Jaymes joung - infinite 🎵   \n1056260            2022 y’all gonna see a fucking monster.   \n1056261  It looks Amazing!!! ヽ(´∀`。)ﾉ To see this on th...   \n\n                         timestamp              user_id  like_count  \\\n0              2020-01-01 00:59:58  1078318888851513347           0   \n1              2020-01-01 00:59:58            591385371           2   \n2              2020-01-01 00:59:58  1103804603877871616           0   \n3              2020-01-02 00:59:58  1103804603877871616           0   \n4              2020-01-01 00:59:58             32706756           0   \n...                            ...                  ...         ...   \n1056257  2021-12-31 21:59:59+00:00  1404228064062722051           0   \n1056258  2021-12-31 21:59:59+00:00  1214674663126646785           0   \n1056259  2021-12-31 21:59:59+00:00            283225511           0   \n1056260  2021-12-31 21:59:59+00:00            602195855           0   \n1056261  2021-12-31 21:59:59+00:00  1364878549937651714           1   \n\n         retweet_count  quote_count  reply_count  reach topics_ids  \\\n0                    0            0            0    100       None   \n1                    0            0            0    366       None   \n2                    0            0            1   1131       None   \n3                    0            1            0   1131       None   \n4                    0            0            0    145         65   \n...                ...          ...          ...    ...        ...   \n1056257              0            0            0    181       None   \n1056258              0            0            1    127       None   \n1056259              0            0            0   1352       None   \n1056260              1            0            0   1082       None   \n1056261              0            0            1     59        119   \n\n                                 topics sentiment  popularity  followers  \\\n0                                  None  Positive           0        100   \n1                                  None   Neutral           0        366   \n2                                  None  Negative           0       1131   \n3                                  None  Positive           1       1131   \n4        Interests and Hobbies Vertical  Negative           0        145   \n...                                 ...       ...         ...        ...   \n1056257                            None  Positive           0        181   \n1056258                            None  Negative           0        127   \n1056259                            None   Neutral           0       1352   \n1056260                            None   Neutral           1       1082   \n1056261                         Holiday  Positive           0         59   \n\n         following  tweet_count  verified                 created_at  \n0              390         3961     False        2018-12-27 15:57:12  \n1              134        34882     False        2012-05-26 22:28:16  \n2              714         2212     False        2019-03-07 23:48:20  \n3              714         2212     False        2019-03-07 23:48:20  \n4              293         2860     False        2009-04-18 01:22:32  \n...            ...          ...       ...                        ...  \n1056257        482         5561     False  2021-06-14 00:04:08+00:00  \n1056258         63        29566     False  2020-01-07 22:26:27+00:00  \n1056259       1914        34181     False  2011-04-16 21:15:42+00:00  \n1056260       1325        18474     False  2012-06-07 20:59:09+00:00  \n1056261        183         3252     False  2021-02-25 10:03:18+00:00  \n\n[1056262 rows x 18 columns]",
      "text/html": "<div>\n<style scoped>\n    .dataframe tbody tr th:only-of-type {\n        vertical-align: middle;\n    }\n\n    .dataframe tbody tr th {\n        vertical-align: top;\n    }\n\n    .dataframe thead th {\n        text-align: right;\n    }\n</style>\n<table border=\"1\" class=\"dataframe\">\n  <thead>\n    <tr style=\"text-align: right;\">\n      <th></th>\n      <th>tweet_id</th>\n      <th>text</th>\n      <th>timestamp</th>\n      <th>user_id</th>\n      <th>like_count</th>\n      <th>retweet_count</th>\n      <th>quote_count</th>\n      <th>reply_count</th>\n      <th>reach</th>\n      <th>topics_ids</th>\n      <th>topics</th>\n      <th>sentiment</th>\n      <th>popularity</th>\n      <th>followers</th>\n      <th>following</th>\n      <th>tweet_count</th>\n      <th>verified</th>\n      <th>created_at</th>\n    </tr>\n  </thead>\n  <tbody>\n    <tr>\n      <th>0</th>\n      <td>1212176606699180032</td>\n      <td>IM READY FOR BTS</td>\n      <td>2020-01-01 00:59:58</td>\n      <td>1078318888851513347</td>\n      <td>0</td>\n      <td>0</td>\n      <td>0</td>\n      <td>0</td>\n      <td>100</td>\n      <td>None</td>\n      <td>None</td>\n      <td>Positive</td>\n      <td>0</td>\n      <td>100</td>\n      <td>390</td>\n      <td>3961</td>\n      <td>False</td>\n      <td>2018-12-27 15:57:12</td>\n    </tr>\n    <tr>\n      <th>1</th>\n      <td>1212176606678044674</td>\n      <td>I have over 50 cousins i found out about and t...</td>\n      <td>2020-01-01 00:59:58</td>\n      <td>591385371</td>\n      <td>2</td>\n      <td>0</td>\n      <td>0</td>\n      <td>0</td>\n      <td>366</td>\n      <td>None</td>\n      <td>None</td>\n      <td>Neutral</td>\n      <td>0</td>\n      <td>366</td>\n      <td>134</td>\n      <td>34882</td>\n      <td>False</td>\n      <td>2012-05-26 22:28:16</td>\n    </tr>\n    <tr>\n      <th>2</th>\n      <td>1212176606677979136</td>\n      <td>What/who do you miss the most from your childh...</td>\n      <td>2020-01-01 00:59:58</td>\n      <td>1103804603877871616</td>\n      <td>0</td>\n      <td>0</td>\n      <td>0</td>\n      <td>1</td>\n      <td>1131</td>\n      <td>None</td>\n      <td>None</td>\n      <td>Negative</td>\n      <td>0</td>\n      <td>1131</td>\n      <td>714</td>\n      <td>2212</td>\n      <td>False</td>\n      <td>2019-03-07 23:48:20</td>\n    </tr>\n    <tr>\n      <th>3</th>\n      <td>1212538995021713410</td>\n      <td>What is your best advice for living a happy life?</td>\n      <td>2020-01-02 00:59:58</td>\n      <td>1103804603877871616</td>\n      <td>0</td>\n      <td>0</td>\n      <td>1</td>\n      <td>0</td>\n      <td>1131</td>\n      <td>None</td>\n      <td>None</td>\n      <td>Positive</td>\n      <td>1</td>\n      <td>1131</td>\n      <td>714</td>\n      <td>2212</td>\n      <td>False</td>\n      <td>2019-03-07 23:48:20</td>\n    </tr>\n    <tr>\n      <th>4</th>\n      <td>1212176606627815431</td>\n      <td>Where is that same 70' Degree weather that we ...</td>\n      <td>2020-01-01 00:59:58</td>\n      <td>32706756</td>\n      <td>0</td>\n      <td>0</td>\n      <td>0</td>\n      <td>0</td>\n      <td>145</td>\n      <td>65</td>\n      <td>Interests and Hobbies Vertical</td>\n      <td>Negative</td>\n      <td>0</td>\n      <td>145</td>\n      <td>293</td>\n      <td>2860</td>\n      <td>False</td>\n      <td>2009-04-18 01:22:32</td>\n    </tr>\n    <tr>\n      <th>...</th>\n      <td>...</td>\n      <td>...</td>\n      <td>...</td>\n      <td>...</td>\n      <td>...</td>\n      <td>...</td>\n      <td>...</td>\n      <td>...</td>\n      <td>...</td>\n      <td>...</td>\n      <td>...</td>\n      <td>...</td>\n      <td>...</td>\n      <td>...</td>\n      <td>...</td>\n      <td>...</td>\n      <td>...</td>\n      <td>...</td>\n    </tr>\n    <tr>\n      <th>1056257</th>\n      <td>1477036841400520704</td>\n      <td>WE KEEP ALL THE PARTY IN THE ROOM ALL NIGHT</td>\n      <td>2021-12-31 21:59:59+00:00</td>\n      <td>1404228064062722051</td>\n      <td>0</td>\n      <td>0</td>\n      <td>0</td>\n      <td>0</td>\n      <td>181</td>\n      <td>None</td>\n      <td>None</td>\n      <td>Positive</td>\n      <td>0</td>\n      <td>181</td>\n      <td>482</td>\n      <td>5561</td>\n      <td>False</td>\n      <td>2021-06-14 00:04:08+00:00</td>\n    </tr>\n    <tr>\n      <th>1056258</th>\n      <td>1477036841429716992</td>\n      <td>wasn't the dispatch couple reveal a dud for 20...</td>\n      <td>2021-12-31 21:59:59+00:00</td>\n      <td>1214674663126646785</td>\n      <td>0</td>\n      <td>0</td>\n      <td>0</td>\n      <td>1</td>\n      <td>127</td>\n      <td>None</td>\n      <td>None</td>\n      <td>Negative</td>\n      <td>0</td>\n      <td>127</td>\n      <td>63</td>\n      <td>29566</td>\n      <td>False</td>\n      <td>2020-01-07 22:26:27+00:00</td>\n    </tr>\n    <tr>\n      <th>1056259</th>\n      <td>1477036841429782531</td>\n      <td>Jaymes joung - infinite 🎵</td>\n      <td>2021-12-31 21:59:59+00:00</td>\n      <td>283225511</td>\n      <td>0</td>\n      <td>0</td>\n      <td>0</td>\n      <td>0</td>\n      <td>1352</td>\n      <td>None</td>\n      <td>None</td>\n      <td>Neutral</td>\n      <td>0</td>\n      <td>1352</td>\n      <td>1914</td>\n      <td>34181</td>\n      <td>False</td>\n      <td>2011-04-16 21:15:42+00:00</td>\n    </tr>\n    <tr>\n      <th>1056260</th>\n      <td>1477036841429872644</td>\n      <td>2022 y’all gonna see a fucking monster.</td>\n      <td>2021-12-31 21:59:59+00:00</td>\n      <td>602195855</td>\n      <td>0</td>\n      <td>1</td>\n      <td>0</td>\n      <td>0</td>\n      <td>1082</td>\n      <td>None</td>\n      <td>None</td>\n      <td>Neutral</td>\n      <td>1</td>\n      <td>1082</td>\n      <td>1325</td>\n      <td>18474</td>\n      <td>False</td>\n      <td>2012-06-07 20:59:09+00:00</td>\n    </tr>\n    <tr>\n      <th>1056261</th>\n      <td>1477036842704797697</td>\n      <td>It looks Amazing!!! ヽ(´∀`。)ﾉ To see this on th...</td>\n      <td>2021-12-31 21:59:59+00:00</td>\n      <td>1364878549937651714</td>\n      <td>1</td>\n      <td>0</td>\n      <td>0</td>\n      <td>1</td>\n      <td>59</td>\n      <td>119</td>\n      <td>Holiday</td>\n      <td>Positive</td>\n      <td>0</td>\n      <td>59</td>\n      <td>183</td>\n      <td>3252</td>\n      <td>False</td>\n      <td>2021-02-25 10:03:18+00:00</td>\n    </tr>\n  </tbody>\n</table>\n<p>1056262 rows × 18 columns</p>\n</div>"
     },
     "execution_count": 26,
     "metadata": {},
     "output_type": "execute_result"
    }
   ],
   "source": [
    "popularity_df"
   ],
   "metadata": {
    "collapsed": false,
    "pycharm": {
     "name": "#%%\n"
    }
   }
  },
  {
   "cell_type": "code",
   "execution_count": null,
   "outputs": [],
   "source": [],
   "metadata": {
    "collapsed": false,
    "pycharm": {
     "name": "#%%\n"
    }
   }
  }
 ],
 "metadata": {
  "kernelspec": {
   "display_name": "Python 3",
   "language": "python",
   "name": "python3"
  },
  "language_info": {
   "codemirror_mode": {
    "name": "ipython",
    "version": 2
   },
   "file_extension": ".py",
   "mimetype": "text/x-python",
   "name": "python",
   "nbconvert_exporter": "python",
   "pygments_lexer": "ipython2",
   "version": "2.7.6"
  }
 },
 "nbformat": 4,
 "nbformat_minor": 0
}