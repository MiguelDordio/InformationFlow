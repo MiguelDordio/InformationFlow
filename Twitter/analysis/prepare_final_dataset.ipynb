{
 "cells": [
  {
   "cell_type": "code",
   "execution_count": 199,
   "metadata": {
    "collapsed": true
   },
   "outputs": [],
   "source": [
    "import pandas as pd\n",
    "import numpy as np\n",
    "import json"
   ]
  },
  {
   "cell_type": "markdown",
   "source": [
    "### Files locations"
   ],
   "metadata": {
    "collapsed": false,
    "pycharm": {
     "name": "#%% md\n"
    }
   }
  },
  {
   "cell_type": "code",
   "execution_count": 31,
   "outputs": [],
   "source": [
    "FILE_USERS = \"../../data/raw_users.csv\"\n",
    "FILE_USERS_TWEETS = \"../../data/raw_tweets.csv\"\n",
    "FILE_RETWEETERS = \"../../data/retweets.csv\"\n",
    "FILE_RETWEETERS_USERS = \"../../data/retweets_users.csv\"\n",
    "POPULARITY = \"../../data/popularity_v2.csv\""
   ],
   "metadata": {
    "collapsed": false,
    "pycharm": {
     "name": "#%%\n"
    }
   }
  },
  {
   "cell_type": "markdown",
   "source": [
    "### Load Datasets"
   ],
   "metadata": {
    "collapsed": false,
    "pycharm": {
     "name": "#%% md\n"
    }
   }
  },
  {
   "cell_type": "code",
   "execution_count": 32,
   "outputs": [
    {
     "name": "stderr",
     "output_type": "stream",
     "text": [
      "/var/folders/7r/g2lhjv3x7bb_lgcnhj7_q9hr0000gn/T/ipykernel_21207/1493569851.py:1: DtypeWarning: Columns (2) have mixed types. Specify dtype option on import or set low_memory=False.\n",
      "  df_users = pd.read_csv(filepath_or_buffer=FILE_USERS, sep=\",\")\n"
     ]
    }
   ],
   "source": [
    "df_users = pd.read_csv(filepath_or_buffer=FILE_USERS, sep=\",\")\n",
    "df_tweets = pd.read_csv(filepath_or_buffer=FILE_USERS_TWEETS, sep=\",\")\n",
    "\n",
    "# df_users = df_users[:100]\n",
    "# df_tweets = df_tweets[:100]"
   ],
   "metadata": {
    "collapsed": false,
    "pycharm": {
     "name": "#%%\n"
    }
   }
  },
  {
   "cell_type": "code",
   "execution_count": 33,
   "outputs": [
    {
     "data": {
      "text/plain": "         Unnamed: 0              user_id                               name  \\\n0                 0            874735375                            ARobles   \n1                 1           2331261888                     James Smith Jr   \n2                 2  1043073024092766208  STOP SAYING POC, IT’s A CUSS WORD   \n3                 3  1350969232897552385                   Pure Rap Podcast   \n4                 4   811604288443187200                  April Showers ⛈🌪💫   \n...             ...                  ...                                ...   \n1072382     1072382            608420462                            1056050   \n1072383     1072383   786792941658382339                            1056051   \n1072384     1072384            497947909                            1056052   \n1072385     1072385             50706690                            1056053   \n1072386     1072386             72356014                            1056054   \n\n                username  followers  following  tweet_count  verified  \\\n0        anthonysradical        278        203         3844     False   \n1        iamjamesnumber1       2292       4490        96610     False   \n2              ADOSALLY1       1076       1190        13969     False   \n3         PureRapPodcast       2465       2111        27373     False   \n4           moonlitefire       1570        874        27642     False   \n...                  ...        ...        ...          ...       ...   \n1072382  Skeeter_Bentley        388          0         5846     False   \n1072383        billybr61        503        504        32684     False   \n1072384         BobGoble       2754       3176       117664     False   \n1072385            511NY       3579        193      5447942     False   \n1072386        deafheron       2066        926        19027     False   \n\n                        created_at  \n0        2012-10-12 01:55:26+00:00  \n1        2014-02-07 04:06:30+00:00  \n2        2018-09-21 09:42:43+00:00  \n3        2021-01-18 00:52:30+00:00  \n4        2016-12-21 16:08:36+00:00  \n...                            ...  \n1072382        2012-06-14 19:30:38  \n1072383        2016-10-14 04:57:10  \n1072384        2012-02-20 14:46:48  \n1072385        2009-06-25 17:22:38  \n1072386        2009-09-07 19:07:16  \n\n[1072387 rows x 9 columns]",
      "text/html": "<div>\n<style scoped>\n    .dataframe tbody tr th:only-of-type {\n        vertical-align: middle;\n    }\n\n    .dataframe tbody tr th {\n        vertical-align: top;\n    }\n\n    .dataframe thead th {\n        text-align: right;\n    }\n</style>\n<table border=\"1\" class=\"dataframe\">\n  <thead>\n    <tr style=\"text-align: right;\">\n      <th></th>\n      <th>Unnamed: 0</th>\n      <th>user_id</th>\n      <th>name</th>\n      <th>username</th>\n      <th>followers</th>\n      <th>following</th>\n      <th>tweet_count</th>\n      <th>verified</th>\n      <th>created_at</th>\n    </tr>\n  </thead>\n  <tbody>\n    <tr>\n      <th>0</th>\n      <td>0</td>\n      <td>874735375</td>\n      <td>ARobles</td>\n      <td>anthonysradical</td>\n      <td>278</td>\n      <td>203</td>\n      <td>3844</td>\n      <td>False</td>\n      <td>2012-10-12 01:55:26+00:00</td>\n    </tr>\n    <tr>\n      <th>1</th>\n      <td>1</td>\n      <td>2331261888</td>\n      <td>James Smith Jr</td>\n      <td>iamjamesnumber1</td>\n      <td>2292</td>\n      <td>4490</td>\n      <td>96610</td>\n      <td>False</td>\n      <td>2014-02-07 04:06:30+00:00</td>\n    </tr>\n    <tr>\n      <th>2</th>\n      <td>2</td>\n      <td>1043073024092766208</td>\n      <td>STOP SAYING POC, IT’s A CUSS WORD</td>\n      <td>ADOSALLY1</td>\n      <td>1076</td>\n      <td>1190</td>\n      <td>13969</td>\n      <td>False</td>\n      <td>2018-09-21 09:42:43+00:00</td>\n    </tr>\n    <tr>\n      <th>3</th>\n      <td>3</td>\n      <td>1350969232897552385</td>\n      <td>Pure Rap Podcast</td>\n      <td>PureRapPodcast</td>\n      <td>2465</td>\n      <td>2111</td>\n      <td>27373</td>\n      <td>False</td>\n      <td>2021-01-18 00:52:30+00:00</td>\n    </tr>\n    <tr>\n      <th>4</th>\n      <td>4</td>\n      <td>811604288443187200</td>\n      <td>April Showers ⛈🌪💫</td>\n      <td>moonlitefire</td>\n      <td>1570</td>\n      <td>874</td>\n      <td>27642</td>\n      <td>False</td>\n      <td>2016-12-21 16:08:36+00:00</td>\n    </tr>\n    <tr>\n      <th>...</th>\n      <td>...</td>\n      <td>...</td>\n      <td>...</td>\n      <td>...</td>\n      <td>...</td>\n      <td>...</td>\n      <td>...</td>\n      <td>...</td>\n      <td>...</td>\n    </tr>\n    <tr>\n      <th>1072382</th>\n      <td>1072382</td>\n      <td>608420462</td>\n      <td>1056050</td>\n      <td>Skeeter_Bentley</td>\n      <td>388</td>\n      <td>0</td>\n      <td>5846</td>\n      <td>False</td>\n      <td>2012-06-14 19:30:38</td>\n    </tr>\n    <tr>\n      <th>1072383</th>\n      <td>1072383</td>\n      <td>786792941658382339</td>\n      <td>1056051</td>\n      <td>billybr61</td>\n      <td>503</td>\n      <td>504</td>\n      <td>32684</td>\n      <td>False</td>\n      <td>2016-10-14 04:57:10</td>\n    </tr>\n    <tr>\n      <th>1072384</th>\n      <td>1072384</td>\n      <td>497947909</td>\n      <td>1056052</td>\n      <td>BobGoble</td>\n      <td>2754</td>\n      <td>3176</td>\n      <td>117664</td>\n      <td>False</td>\n      <td>2012-02-20 14:46:48</td>\n    </tr>\n    <tr>\n      <th>1072385</th>\n      <td>1072385</td>\n      <td>50706690</td>\n      <td>1056053</td>\n      <td>511NY</td>\n      <td>3579</td>\n      <td>193</td>\n      <td>5447942</td>\n      <td>False</td>\n      <td>2009-06-25 17:22:38</td>\n    </tr>\n    <tr>\n      <th>1072386</th>\n      <td>1072386</td>\n      <td>72356014</td>\n      <td>1056054</td>\n      <td>deafheron</td>\n      <td>2066</td>\n      <td>926</td>\n      <td>19027</td>\n      <td>False</td>\n      <td>2009-09-07 19:07:16</td>\n    </tr>\n  </tbody>\n</table>\n<p>1072387 rows × 9 columns</p>\n</div>"
     },
     "execution_count": 33,
     "metadata": {},
     "output_type": "execute_result"
    }
   ],
   "source": [
    "df_users"
   ],
   "metadata": {
    "collapsed": false,
    "pycharm": {
     "name": "#%%\n"
    }
   }
  },
  {
   "cell_type": "code",
   "execution_count": 34,
   "outputs": [
    {
     "data": {
      "text/plain": "         Unnamed: 0             tweet_id  \\\n0                 0  1473095873357746185   \n1                 1  1473095873118806021   \n2                 2  1473095869780180994   \n3                 3  1473095868546879489   \n4                 4  1473095868534431744   \n...             ...                  ...   \n1072382     1072382  1223002761480101890   \n1072383     1072383  1223002761387814912   \n1072384     1072384  1223002759601016834   \n1072385     1072385  1223002759147982851   \n1072386     1072386  1223002759118585857   \n\n                                                      text  \\\n0        Bullshit ass holding call right now bro agains...   \n1        Me at parties when my social meter has reached...   \n2        ❤️❤️❤️❤️❤️❤️❤️Oh My!!!! Today is a good day!!!...   \n3        Giveaway entry has ended! 🚨 https://t.co/WcVKk...   \n4        Heard it was @MillerLite Monday.. drink respon...   \n...                                                    ...   \n1072382  Yep, that’s usually how it goes😂 https://t.co/...   \n1072383  If you don't know Adam ant Dirty bag Schiff-le...   \n1072384  Make no mistake, because of republican rules a...   \n1072385  Cleared: Incident on #I287 NB at North of Exit...   \n1072386  Soul Blind full set live @ First Unitarian Chu...   \n\n                     user_id                  timestamp      tweet_type  \\\n0                  874735375  2021-12-21 00:59:59+00:00  Original Tweet   \n1                 2331261888  2021-12-21 00:59:59+00:00  Original Tweet   \n2        1043073024092766208  2021-12-21 00:59:58+00:00  Original Tweet   \n3        1350969232897552385  2021-12-21 00:59:58+00:00     Quote Tweet   \n4         811604288443187200  2021-12-21 00:59:58+00:00  Original Tweet   \n...                      ...                        ...             ...   \n1072382            608420462        2020-01-30 21:59:15  Original Tweet   \n1072383   786792941658382339        2020-01-30 21:59:15     Quote Tweet   \n1072384            497947909        2020-01-30 21:59:14  Original Tweet   \n1072385             50706690        2020-01-30 21:59:14  Original Tweet   \n1072386             72356014        2020-01-30 21:59:14  Original Tweet   \n\n         like_count  reply_count  retweet_count  quote_count   device lang  \\\n0                 0            0              0            0   iPhone   en   \n1                 5            0              4            1   iPhone   en   \n2                 9            0              3            0   iPhone   en   \n3                 3            0              1            0   iPhone   en   \n4                35           10              0            0  Android   en   \n...             ...          ...            ...          ...      ...  ...   \n1072382           1            0              0            0   iPhone   en   \n1072383           0            0              1            0  Android   en   \n1072384           0            0              0            0  Android   en   \n1072385           0            0              0            0      NaN   en   \n1072386          73            1             31            7   iPhone   en   \n\n                                   topics_ids  \\\n0          ['3', '6', '11', '26', '27', '28']   \n1                                          []   \n2                                     ['123']   \n3                                ['46', '47']   \n4        ['45', '46', '47', '65', '66', '67']   \n...                                       ...   \n1072382                                    []   \n1072383                          ['10', '35']   \n1072384                    ['45', '46', '47']   \n1072385                                    []   \n1072386                                    []   \n\n                                                    topics  \\\n0        ['TV Shows', 'Sports Event', 'Sport', 'Sports ...   \n1                                                       []   \n2                                   ['Ongoing News Story']   \n3                              ['Brand Category', 'Brand']   \n4        ['Brand Vertical', 'Brand Category', 'Brand', ...   \n...                                                    ...   \n1072382                                                 []   \n1072383                           ['Person', 'Politician']   \n1072384      ['Brand Vertical', 'Brand Category', 'Brand']   \n1072385                                                 []   \n1072386                                                 []   \n\n                                         referenced_tweets  \n0                                                      NaN  \n1                                                      NaN  \n2                                                      NaN  \n3        [ReferencedTweet(id: 1468043149188632583, type...  \n4                                                      NaN  \n...                                                    ...  \n1072382                                                NaN  \n1072383  [ReferencedTweet(id: 1223000963356790784, type...  \n1072384                                                NaN  \n1072385                                                NaN  \n1072386                                                NaN  \n\n[1072387 rows x 15 columns]",
      "text/html": "<div>\n<style scoped>\n    .dataframe tbody tr th:only-of-type {\n        vertical-align: middle;\n    }\n\n    .dataframe tbody tr th {\n        vertical-align: top;\n    }\n\n    .dataframe thead th {\n        text-align: right;\n    }\n</style>\n<table border=\"1\" class=\"dataframe\">\n  <thead>\n    <tr style=\"text-align: right;\">\n      <th></th>\n      <th>Unnamed: 0</th>\n      <th>tweet_id</th>\n      <th>text</th>\n      <th>user_id</th>\n      <th>timestamp</th>\n      <th>tweet_type</th>\n      <th>like_count</th>\n      <th>reply_count</th>\n      <th>retweet_count</th>\n      <th>quote_count</th>\n      <th>device</th>\n      <th>lang</th>\n      <th>topics_ids</th>\n      <th>topics</th>\n      <th>referenced_tweets</th>\n    </tr>\n  </thead>\n  <tbody>\n    <tr>\n      <th>0</th>\n      <td>0</td>\n      <td>1473095873357746185</td>\n      <td>Bullshit ass holding call right now bro agains...</td>\n      <td>874735375</td>\n      <td>2021-12-21 00:59:59+00:00</td>\n      <td>Original Tweet</td>\n      <td>0</td>\n      <td>0</td>\n      <td>0</td>\n      <td>0</td>\n      <td>iPhone</td>\n      <td>en</td>\n      <td>['3', '6', '11', '26', '27', '28']</td>\n      <td>['TV Shows', 'Sports Event', 'Sport', 'Sports ...</td>\n      <td>NaN</td>\n    </tr>\n    <tr>\n      <th>1</th>\n      <td>1</td>\n      <td>1473095873118806021</td>\n      <td>Me at parties when my social meter has reached...</td>\n      <td>2331261888</td>\n      <td>2021-12-21 00:59:59+00:00</td>\n      <td>Original Tweet</td>\n      <td>5</td>\n      <td>0</td>\n      <td>4</td>\n      <td>1</td>\n      <td>iPhone</td>\n      <td>en</td>\n      <td>[]</td>\n      <td>[]</td>\n      <td>NaN</td>\n    </tr>\n    <tr>\n      <th>2</th>\n      <td>2</td>\n      <td>1473095869780180994</td>\n      <td>❤️❤️❤️❤️❤️❤️❤️Oh My!!!! Today is a good day!!!...</td>\n      <td>1043073024092766208</td>\n      <td>2021-12-21 00:59:58+00:00</td>\n      <td>Original Tweet</td>\n      <td>9</td>\n      <td>0</td>\n      <td>3</td>\n      <td>0</td>\n      <td>iPhone</td>\n      <td>en</td>\n      <td>['123']</td>\n      <td>['Ongoing News Story']</td>\n      <td>NaN</td>\n    </tr>\n    <tr>\n      <th>3</th>\n      <td>3</td>\n      <td>1473095868546879489</td>\n      <td>Giveaway entry has ended! 🚨 https://t.co/WcVKk...</td>\n      <td>1350969232897552385</td>\n      <td>2021-12-21 00:59:58+00:00</td>\n      <td>Quote Tweet</td>\n      <td>3</td>\n      <td>0</td>\n      <td>1</td>\n      <td>0</td>\n      <td>iPhone</td>\n      <td>en</td>\n      <td>['46', '47']</td>\n      <td>['Brand Category', 'Brand']</td>\n      <td>[ReferencedTweet(id: 1468043149188632583, type...</td>\n    </tr>\n    <tr>\n      <th>4</th>\n      <td>4</td>\n      <td>1473095868534431744</td>\n      <td>Heard it was @MillerLite Monday.. drink respon...</td>\n      <td>811604288443187200</td>\n      <td>2021-12-21 00:59:58+00:00</td>\n      <td>Original Tweet</td>\n      <td>35</td>\n      <td>10</td>\n      <td>0</td>\n      <td>0</td>\n      <td>Android</td>\n      <td>en</td>\n      <td>['45', '46', '47', '65', '66', '67']</td>\n      <td>['Brand Vertical', 'Brand Category', 'Brand', ...</td>\n      <td>NaN</td>\n    </tr>\n    <tr>\n      <th>...</th>\n      <td>...</td>\n      <td>...</td>\n      <td>...</td>\n      <td>...</td>\n      <td>...</td>\n      <td>...</td>\n      <td>...</td>\n      <td>...</td>\n      <td>...</td>\n      <td>...</td>\n      <td>...</td>\n      <td>...</td>\n      <td>...</td>\n      <td>...</td>\n      <td>...</td>\n    </tr>\n    <tr>\n      <th>1072382</th>\n      <td>1072382</td>\n      <td>1223002761480101890</td>\n      <td>Yep, that’s usually how it goes😂 https://t.co/...</td>\n      <td>608420462</td>\n      <td>2020-01-30 21:59:15</td>\n      <td>Original Tweet</td>\n      <td>1</td>\n      <td>0</td>\n      <td>0</td>\n      <td>0</td>\n      <td>iPhone</td>\n      <td>en</td>\n      <td>[]</td>\n      <td>[]</td>\n      <td>NaN</td>\n    </tr>\n    <tr>\n      <th>1072383</th>\n      <td>1072383</td>\n      <td>1223002761387814912</td>\n      <td>If you don't know Adam ant Dirty bag Schiff-le...</td>\n      <td>786792941658382339</td>\n      <td>2020-01-30 21:59:15</td>\n      <td>Quote Tweet</td>\n      <td>0</td>\n      <td>0</td>\n      <td>1</td>\n      <td>0</td>\n      <td>Android</td>\n      <td>en</td>\n      <td>['10', '35']</td>\n      <td>['Person', 'Politician']</td>\n      <td>[ReferencedTweet(id: 1223000963356790784, type...</td>\n    </tr>\n    <tr>\n      <th>1072384</th>\n      <td>1072384</td>\n      <td>1223002759601016834</td>\n      <td>Make no mistake, because of republican rules a...</td>\n      <td>497947909</td>\n      <td>2020-01-30 21:59:14</td>\n      <td>Original Tweet</td>\n      <td>0</td>\n      <td>0</td>\n      <td>0</td>\n      <td>0</td>\n      <td>Android</td>\n      <td>en</td>\n      <td>['45', '46', '47']</td>\n      <td>['Brand Vertical', 'Brand Category', 'Brand']</td>\n      <td>NaN</td>\n    </tr>\n    <tr>\n      <th>1072385</th>\n      <td>1072385</td>\n      <td>1223002759147982851</td>\n      <td>Cleared: Incident on #I287 NB at North of Exit...</td>\n      <td>50706690</td>\n      <td>2020-01-30 21:59:14</td>\n      <td>Original Tweet</td>\n      <td>0</td>\n      <td>0</td>\n      <td>0</td>\n      <td>0</td>\n      <td>NaN</td>\n      <td>en</td>\n      <td>[]</td>\n      <td>[]</td>\n      <td>NaN</td>\n    </tr>\n    <tr>\n      <th>1072386</th>\n      <td>1072386</td>\n      <td>1223002759118585857</td>\n      <td>Soul Blind full set live @ First Unitarian Chu...</td>\n      <td>72356014</td>\n      <td>2020-01-30 21:59:14</td>\n      <td>Original Tweet</td>\n      <td>73</td>\n      <td>1</td>\n      <td>31</td>\n      <td>7</td>\n      <td>iPhone</td>\n      <td>en</td>\n      <td>[]</td>\n      <td>[]</td>\n      <td>NaN</td>\n    </tr>\n  </tbody>\n</table>\n<p>1072387 rows × 15 columns</p>\n</div>"
     },
     "execution_count": 34,
     "metadata": {},
     "output_type": "execute_result"
    }
   ],
   "source": [
    "df_tweets"
   ],
   "metadata": {
    "collapsed": false,
    "pycharm": {
     "name": "#%%\n"
    }
   }
  },
  {
   "cell_type": "markdown",
   "source": [
    "### Sort tweets by timestamp"
   ],
   "metadata": {
    "collapsed": false,
    "pycharm": {
     "name": "#%% md\n"
    }
   }
  },
  {
   "cell_type": "code",
   "execution_count": 35,
   "outputs": [
    {
     "data": {
      "text/plain": "     index  Unnamed: 0             tweet_id  \\\n0  1028700     1028700  1212176422770544641   \n1  1028701     1028701  1212176421659062274   \n2  1028698     1028698  1212176423189909506   \n3  1028697     1028697  1212176425916280833   \n4  1028696     1028696  1212176426088181760   \n\n                                                text              user_id  \\\n0  2️⃣0️⃣1️⃣9️⃣ WHAT. A. YEAR. 🌟 #bestnine2019 #t...             29885607   \n1               Gold N Hot 🤪 https://t.co/VeO2k4Mq4h  1130217871286636545   \n2      and he still cheating https://t.co/zYAQ8wc6Vg           3322006549   \n3  Got my hot coco bc it cold out siiiiide boii h...             18707915   \n4  Disgruntled Pope Francis pulls himself free fr...            858762062   \n\n             timestamp      tweet_type  like_count  reply_count  \\\n0  2020-01-01 00:59:14  Original Tweet          35            0   \n1  2020-01-01 00:59:14     Quote Tweet           0            0   \n2  2020-01-01 00:59:15     Quote Tweet           2            2   \n3  2020-01-01 00:59:15  Original Tweet           1            1   \n4  2020-01-01 00:59:15  Original Tweet           0            0   \n\n   retweet_count  quote_count   device lang          topics_ids  \\\n0              1            0   iPhone   en                  []   \n1              0            0   iPhone   en                  []   \n2              1            7   iPhone   en        ['10', '60']   \n3              0            0   iPhone   en                  []   \n4              0            0  Android   en  ['10', '46', '47']   \n\n                                  topics  \\\n0                                     []   \n1                                     []   \n2                  ['Person', 'Athlete']   \n3                                     []   \n4  ['Person', 'Brand Category', 'Brand']   \n\n                                   referenced_tweets  \n0                                                NaN  \n1  [ReferencedTweet(id: 1212167212120920072, type...  \n2  [ReferencedTweet(id: 1211878384961228802, type...  \n3                                                NaN  \n4                                                NaN  ",
      "text/html": "<div>\n<style scoped>\n    .dataframe tbody tr th:only-of-type {\n        vertical-align: middle;\n    }\n\n    .dataframe tbody tr th {\n        vertical-align: top;\n    }\n\n    .dataframe thead th {\n        text-align: right;\n    }\n</style>\n<table border=\"1\" class=\"dataframe\">\n  <thead>\n    <tr style=\"text-align: right;\">\n      <th></th>\n      <th>index</th>\n      <th>Unnamed: 0</th>\n      <th>tweet_id</th>\n      <th>text</th>\n      <th>user_id</th>\n      <th>timestamp</th>\n      <th>tweet_type</th>\n      <th>like_count</th>\n      <th>reply_count</th>\n      <th>retweet_count</th>\n      <th>quote_count</th>\n      <th>device</th>\n      <th>lang</th>\n      <th>topics_ids</th>\n      <th>topics</th>\n      <th>referenced_tweets</th>\n    </tr>\n  </thead>\n  <tbody>\n    <tr>\n      <th>0</th>\n      <td>1028700</td>\n      <td>1028700</td>\n      <td>1212176422770544641</td>\n      <td>2️⃣0️⃣1️⃣9️⃣ WHAT. A. YEAR. 🌟 #bestnine2019 #t...</td>\n      <td>29885607</td>\n      <td>2020-01-01 00:59:14</td>\n      <td>Original Tweet</td>\n      <td>35</td>\n      <td>0</td>\n      <td>1</td>\n      <td>0</td>\n      <td>iPhone</td>\n      <td>en</td>\n      <td>[]</td>\n      <td>[]</td>\n      <td>NaN</td>\n    </tr>\n    <tr>\n      <th>1</th>\n      <td>1028701</td>\n      <td>1028701</td>\n      <td>1212176421659062274</td>\n      <td>Gold N Hot 🤪 https://t.co/VeO2k4Mq4h</td>\n      <td>1130217871286636545</td>\n      <td>2020-01-01 00:59:14</td>\n      <td>Quote Tweet</td>\n      <td>0</td>\n      <td>0</td>\n      <td>0</td>\n      <td>0</td>\n      <td>iPhone</td>\n      <td>en</td>\n      <td>[]</td>\n      <td>[]</td>\n      <td>[ReferencedTweet(id: 1212167212120920072, type...</td>\n    </tr>\n    <tr>\n      <th>2</th>\n      <td>1028698</td>\n      <td>1028698</td>\n      <td>1212176423189909506</td>\n      <td>and he still cheating https://t.co/zYAQ8wc6Vg</td>\n      <td>3322006549</td>\n      <td>2020-01-01 00:59:15</td>\n      <td>Quote Tweet</td>\n      <td>2</td>\n      <td>2</td>\n      <td>1</td>\n      <td>7</td>\n      <td>iPhone</td>\n      <td>en</td>\n      <td>['10', '60']</td>\n      <td>['Person', 'Athlete']</td>\n      <td>[ReferencedTweet(id: 1211878384961228802, type...</td>\n    </tr>\n    <tr>\n      <th>3</th>\n      <td>1028697</td>\n      <td>1028697</td>\n      <td>1212176425916280833</td>\n      <td>Got my hot coco bc it cold out siiiiide boii h...</td>\n      <td>18707915</td>\n      <td>2020-01-01 00:59:15</td>\n      <td>Original Tweet</td>\n      <td>1</td>\n      <td>1</td>\n      <td>0</td>\n      <td>0</td>\n      <td>iPhone</td>\n      <td>en</td>\n      <td>[]</td>\n      <td>[]</td>\n      <td>NaN</td>\n    </tr>\n    <tr>\n      <th>4</th>\n      <td>1028696</td>\n      <td>1028696</td>\n      <td>1212176426088181760</td>\n      <td>Disgruntled Pope Francis pulls himself free fr...</td>\n      <td>858762062</td>\n      <td>2020-01-01 00:59:15</td>\n      <td>Original Tweet</td>\n      <td>0</td>\n      <td>0</td>\n      <td>0</td>\n      <td>0</td>\n      <td>Android</td>\n      <td>en</td>\n      <td>['10', '46', '47']</td>\n      <td>['Person', 'Brand Category', 'Brand']</td>\n      <td>NaN</td>\n    </tr>\n  </tbody>\n</table>\n</div>"
     },
     "execution_count": 35,
     "metadata": {},
     "output_type": "execute_result"
    }
   ],
   "source": [
    "df_tweets = df_tweets.sort_values(by='timestamp', ascending=True).reset_index()\n",
    "df_tweets.head(5)"
   ],
   "metadata": {
    "collapsed": false,
    "pycharm": {
     "name": "#%%\n"
    }
   }
  },
  {
   "cell_type": "markdown",
   "source": [
    "### Delete duplicate users"
   ],
   "metadata": {
    "collapsed": false,
    "pycharm": {
     "name": "#%% md\n"
    }
   }
  },
  {
   "cell_type": "code",
   "execution_count": 36,
   "outputs": [
    {
     "data": {
      "text/plain": "(1072387, 9)"
     },
     "execution_count": 36,
     "metadata": {},
     "output_type": "execute_result"
    }
   ],
   "source": [
    "df_users.shape"
   ],
   "metadata": {
    "collapsed": false,
    "pycharm": {
     "name": "#%%\n"
    }
   }
  },
  {
   "cell_type": "code",
   "execution_count": 37,
   "outputs": [
    {
     "data": {
      "text/plain": "         Unnamed: 0              user_id                               name  \\\n0                 0            874735375                            ARobles   \n1                 1           2331261888                     James Smith Jr   \n2                 2  1043073024092766208  STOP SAYING POC, IT’s A CUSS WORD   \n3                 3  1350969232897552385                   Pure Rap Podcast   \n4                 4   811604288443187200                  April Showers ⛈🌪💫   \n...             ...                  ...                                ...   \n1072375     1072375            324616347                            1056043   \n1072376     1072376            249105428                            1056044   \n1072381     1072381            395058107                            1056049   \n1072382     1072382            608420462                            1056050   \n1072386     1072386             72356014                            1056054   \n\n                username  followers  following  tweet_count  verified  \\\n0        anthonysradical        278        203         3844     False   \n1        iamjamesnumber1       2292       4490        96610     False   \n2              ADOSALLY1       1076       1190        13969     False   \n3         PureRapPodcast       2465       2111        27373     False   \n4           moonlitefire       1570        874        27642     False   \n...                  ...        ...        ...          ...       ...   \n1072375      TwitTitty10        388        251        38688     False   \n1072376     gwarmothwftv      10598        189        17492      True   \n1072381         sgeezy99        572        773         6236     False   \n1072382  Skeeter_Bentley        388          0         5846     False   \n1072386        deafheron       2066        926        19027     False   \n\n                        created_at  \n0        2012-10-12 01:55:26+00:00  \n1        2014-02-07 04:06:30+00:00  \n2        2018-09-21 09:42:43+00:00  \n3        2021-01-18 00:52:30+00:00  \n4        2016-12-21 16:08:36+00:00  \n...                            ...  \n1072375        2011-06-26 23:10:32  \n1072376        2011-02-08 11:19:53  \n1072381        2011-10-21 02:06:15  \n1072382        2012-06-14 19:30:38  \n1072386        2009-09-07 19:07:16  \n\n[438940 rows x 9 columns]",
      "text/html": "<div>\n<style scoped>\n    .dataframe tbody tr th:only-of-type {\n        vertical-align: middle;\n    }\n\n    .dataframe tbody tr th {\n        vertical-align: top;\n    }\n\n    .dataframe thead th {\n        text-align: right;\n    }\n</style>\n<table border=\"1\" class=\"dataframe\">\n  <thead>\n    <tr style=\"text-align: right;\">\n      <th></th>\n      <th>Unnamed: 0</th>\n      <th>user_id</th>\n      <th>name</th>\n      <th>username</th>\n      <th>followers</th>\n      <th>following</th>\n      <th>tweet_count</th>\n      <th>verified</th>\n      <th>created_at</th>\n    </tr>\n  </thead>\n  <tbody>\n    <tr>\n      <th>0</th>\n      <td>0</td>\n      <td>874735375</td>\n      <td>ARobles</td>\n      <td>anthonysradical</td>\n      <td>278</td>\n      <td>203</td>\n      <td>3844</td>\n      <td>False</td>\n      <td>2012-10-12 01:55:26+00:00</td>\n    </tr>\n    <tr>\n      <th>1</th>\n      <td>1</td>\n      <td>2331261888</td>\n      <td>James Smith Jr</td>\n      <td>iamjamesnumber1</td>\n      <td>2292</td>\n      <td>4490</td>\n      <td>96610</td>\n      <td>False</td>\n      <td>2014-02-07 04:06:30+00:00</td>\n    </tr>\n    <tr>\n      <th>2</th>\n      <td>2</td>\n      <td>1043073024092766208</td>\n      <td>STOP SAYING POC, IT’s A CUSS WORD</td>\n      <td>ADOSALLY1</td>\n      <td>1076</td>\n      <td>1190</td>\n      <td>13969</td>\n      <td>False</td>\n      <td>2018-09-21 09:42:43+00:00</td>\n    </tr>\n    <tr>\n      <th>3</th>\n      <td>3</td>\n      <td>1350969232897552385</td>\n      <td>Pure Rap Podcast</td>\n      <td>PureRapPodcast</td>\n      <td>2465</td>\n      <td>2111</td>\n      <td>27373</td>\n      <td>False</td>\n      <td>2021-01-18 00:52:30+00:00</td>\n    </tr>\n    <tr>\n      <th>4</th>\n      <td>4</td>\n      <td>811604288443187200</td>\n      <td>April Showers ⛈🌪💫</td>\n      <td>moonlitefire</td>\n      <td>1570</td>\n      <td>874</td>\n      <td>27642</td>\n      <td>False</td>\n      <td>2016-12-21 16:08:36+00:00</td>\n    </tr>\n    <tr>\n      <th>...</th>\n      <td>...</td>\n      <td>...</td>\n      <td>...</td>\n      <td>...</td>\n      <td>...</td>\n      <td>...</td>\n      <td>...</td>\n      <td>...</td>\n      <td>...</td>\n    </tr>\n    <tr>\n      <th>1072375</th>\n      <td>1072375</td>\n      <td>324616347</td>\n      <td>1056043</td>\n      <td>TwitTitty10</td>\n      <td>388</td>\n      <td>251</td>\n      <td>38688</td>\n      <td>False</td>\n      <td>2011-06-26 23:10:32</td>\n    </tr>\n    <tr>\n      <th>1072376</th>\n      <td>1072376</td>\n      <td>249105428</td>\n      <td>1056044</td>\n      <td>gwarmothwftv</td>\n      <td>10598</td>\n      <td>189</td>\n      <td>17492</td>\n      <td>True</td>\n      <td>2011-02-08 11:19:53</td>\n    </tr>\n    <tr>\n      <th>1072381</th>\n      <td>1072381</td>\n      <td>395058107</td>\n      <td>1056049</td>\n      <td>sgeezy99</td>\n      <td>572</td>\n      <td>773</td>\n      <td>6236</td>\n      <td>False</td>\n      <td>2011-10-21 02:06:15</td>\n    </tr>\n    <tr>\n      <th>1072382</th>\n      <td>1072382</td>\n      <td>608420462</td>\n      <td>1056050</td>\n      <td>Skeeter_Bentley</td>\n      <td>388</td>\n      <td>0</td>\n      <td>5846</td>\n      <td>False</td>\n      <td>2012-06-14 19:30:38</td>\n    </tr>\n    <tr>\n      <th>1072386</th>\n      <td>1072386</td>\n      <td>72356014</td>\n      <td>1056054</td>\n      <td>deafheron</td>\n      <td>2066</td>\n      <td>926</td>\n      <td>19027</td>\n      <td>False</td>\n      <td>2009-09-07 19:07:16</td>\n    </tr>\n  </tbody>\n</table>\n<p>438940 rows × 9 columns</p>\n</div>"
     },
     "execution_count": 37,
     "metadata": {},
     "output_type": "execute_result"
    }
   ],
   "source": [
    "df_users = df_users.drop_duplicates(subset=['user_id'], keep=\"first\")\n",
    "df_users"
   ],
   "metadata": {
    "collapsed": false,
    "pycharm": {
     "name": "#%%\n"
    }
   }
  },
  {
   "cell_type": "markdown",
   "source": [
    "## Calculate tweet reach\n",
    "\n",
    "#### These values indicate the maximum possible of people that could have seen a given tweet\n",
    "\n",
    "To do this, a sum of all the original tweet user's followers is made with the followers from all the users that retweeted/quoted the tweet\n",
    "\n",
    "Note: this assumes that if a retweet is then shared by retweet again, those next audiences are not taken into account"
   ],
   "metadata": {
    "collapsed": false,
    "pycharm": {
     "name": "#%% md\n"
    }
   }
  },
  {
   "cell_type": "code",
   "execution_count": 133,
   "outputs": [],
   "source": [
    "df_retweeters = pd.read_csv(filepath_or_buffer=FILE_RETWEETERS_USERS, sep=\",\")\n",
    "df_retweets = pd.read_csv(filepath_or_buffer=FILE_RETWEETERS, sep=\",\")"
   ],
   "metadata": {
    "collapsed": false,
    "pycharm": {
     "name": "#%%\n"
    }
   }
  },
  {
   "cell_type": "code",
   "execution_count": 134,
   "outputs": [
    {
     "data": {
      "text/plain": "   Unnamed: 0             tweet_id  \\\n0           0  1475758320568971271   \n1           1  1473588933883801601   \n2           2  1473588921749573635   \n3           3  1473430854680838144   \n4           4  1473324608963100679   \n\n                                                text              user_id  \\\n0  RT @Keiththebat: Zack Snyder's back must be so...           3457095793   \n1  RT @Keiththebat: Zack Snyder's back must be so...  1206541010408333313   \n2  RT @Keiththebat: Zack Snyder's back must be so...  1369228958739263488   \n3  RT @gameallniteshow: Getting in some Coffee Tr...           3223132542   \n4  RT @Tails7354: Sonic X: FIU Eye-Catch Card: Fl...  1256240643258671105   \n\n             timestamp     tweet_type  like_count  reply_count  retweet_count  \\\n0  2021-12-28 09:19:36  Retweet Tweet           0            0              4   \n1  2021-12-22 09:39:14  Retweet Tweet           0            0              4   \n2  2021-12-22 09:39:11  Retweet Tweet           0            0              4   \n3  2021-12-21 23:11:05  Retweet Tweet           0            0              2   \n4  2021-12-21 16:08:54  Retweet Tweet           0            0              2   \n\n   quote_count   device lang topics_ids topics  \\\n0            0  Android   en         []     []   \n1            0      Bot   en         []     []   \n2            0  Android   en         []     []   \n3            0  Android   en         []     []   \n4            0   iPhone   en         []     []   \n\n                                   referenced_tweets  \n0  [ReferencedTweet(id: 1473095800364351490, type...  \n1  [ReferencedTweet(id: 1473095800364351490, type...  \n2  [ReferencedTweet(id: 1473095800364351490, type...  \n3  [ReferencedTweet(id: 1473095644709535745, type...  \n4  [ReferencedTweet(id: 1473200836071329793, type...  ",
      "text/html": "<div>\n<style scoped>\n    .dataframe tbody tr th:only-of-type {\n        vertical-align: middle;\n    }\n\n    .dataframe tbody tr th {\n        vertical-align: top;\n    }\n\n    .dataframe thead th {\n        text-align: right;\n    }\n</style>\n<table border=\"1\" class=\"dataframe\">\n  <thead>\n    <tr style=\"text-align: right;\">\n      <th></th>\n      <th>Unnamed: 0</th>\n      <th>tweet_id</th>\n      <th>text</th>\n      <th>user_id</th>\n      <th>timestamp</th>\n      <th>tweet_type</th>\n      <th>like_count</th>\n      <th>reply_count</th>\n      <th>retweet_count</th>\n      <th>quote_count</th>\n      <th>device</th>\n      <th>lang</th>\n      <th>topics_ids</th>\n      <th>topics</th>\n      <th>referenced_tweets</th>\n    </tr>\n  </thead>\n  <tbody>\n    <tr>\n      <th>0</th>\n      <td>0</td>\n      <td>1475758320568971271</td>\n      <td>RT @Keiththebat: Zack Snyder's back must be so...</td>\n      <td>3457095793</td>\n      <td>2021-12-28 09:19:36</td>\n      <td>Retweet Tweet</td>\n      <td>0</td>\n      <td>0</td>\n      <td>4</td>\n      <td>0</td>\n      <td>Android</td>\n      <td>en</td>\n      <td>[]</td>\n      <td>[]</td>\n      <td>[ReferencedTweet(id: 1473095800364351490, type...</td>\n    </tr>\n    <tr>\n      <th>1</th>\n      <td>1</td>\n      <td>1473588933883801601</td>\n      <td>RT @Keiththebat: Zack Snyder's back must be so...</td>\n      <td>1206541010408333313</td>\n      <td>2021-12-22 09:39:14</td>\n      <td>Retweet Tweet</td>\n      <td>0</td>\n      <td>0</td>\n      <td>4</td>\n      <td>0</td>\n      <td>Bot</td>\n      <td>en</td>\n      <td>[]</td>\n      <td>[]</td>\n      <td>[ReferencedTweet(id: 1473095800364351490, type...</td>\n    </tr>\n    <tr>\n      <th>2</th>\n      <td>2</td>\n      <td>1473588921749573635</td>\n      <td>RT @Keiththebat: Zack Snyder's back must be so...</td>\n      <td>1369228958739263488</td>\n      <td>2021-12-22 09:39:11</td>\n      <td>Retweet Tweet</td>\n      <td>0</td>\n      <td>0</td>\n      <td>4</td>\n      <td>0</td>\n      <td>Android</td>\n      <td>en</td>\n      <td>[]</td>\n      <td>[]</td>\n      <td>[ReferencedTweet(id: 1473095800364351490, type...</td>\n    </tr>\n    <tr>\n      <th>3</th>\n      <td>3</td>\n      <td>1473430854680838144</td>\n      <td>RT @gameallniteshow: Getting in some Coffee Tr...</td>\n      <td>3223132542</td>\n      <td>2021-12-21 23:11:05</td>\n      <td>Retweet Tweet</td>\n      <td>0</td>\n      <td>0</td>\n      <td>2</td>\n      <td>0</td>\n      <td>Android</td>\n      <td>en</td>\n      <td>[]</td>\n      <td>[]</td>\n      <td>[ReferencedTweet(id: 1473095644709535745, type...</td>\n    </tr>\n    <tr>\n      <th>4</th>\n      <td>4</td>\n      <td>1473324608963100679</td>\n      <td>RT @Tails7354: Sonic X: FIU Eye-Catch Card: Fl...</td>\n      <td>1256240643258671105</td>\n      <td>2021-12-21 16:08:54</td>\n      <td>Retweet Tweet</td>\n      <td>0</td>\n      <td>0</td>\n      <td>2</td>\n      <td>0</td>\n      <td>iPhone</td>\n      <td>en</td>\n      <td>[]</td>\n      <td>[]</td>\n      <td>[ReferencedTweet(id: 1473200836071329793, type...</td>\n    </tr>\n  </tbody>\n</table>\n</div>"
     },
     "execution_count": 134,
     "metadata": {},
     "output_type": "execute_result"
    }
   ],
   "source": [
    "df_retweets.head()"
   ],
   "metadata": {
    "collapsed": false,
    "pycharm": {
     "name": "#%%\n"
    }
   }
  },
  {
   "cell_type": "code",
   "execution_count": 135,
   "outputs": [
    {
     "data": {
      "text/plain": "   Unnamed: 0              user_id                               name  \\\n0           0           3457095793                     SALEH ALOTAIBI   \n1           1  1206541010408333313                          DC Tweets   \n2           2  1369228958739263488                        Cottencandy   \n3           3           3223132542                                アマノ   \n4           4  1256240643258671105  💙Sonic The Dragonhog🌙 (On hiatus)   \n\n          username  followers  following  tweet_count  verified  \\\n0  SALEHAL49202807         29          0         7473     False   \n1        RetweetDc       7851         40       406311     False   \n2  Cottenc57931689        100        309        30127     False   \n3     sikkoukakari       3383       4707        10649     False   \n4       SDragonhog        657       1017       121701     False   \n\n            created_at  \n0  2015-09-05 07:49:00  \n1  2019-12-16 11:47:16  \n2  2021-03-09 10:10:16  \n3  2015-05-22 10:48:05  \n4  2020-05-01 15:15:05  ",
      "text/html": "<div>\n<style scoped>\n    .dataframe tbody tr th:only-of-type {\n        vertical-align: middle;\n    }\n\n    .dataframe tbody tr th {\n        vertical-align: top;\n    }\n\n    .dataframe thead th {\n        text-align: right;\n    }\n</style>\n<table border=\"1\" class=\"dataframe\">\n  <thead>\n    <tr style=\"text-align: right;\">\n      <th></th>\n      <th>Unnamed: 0</th>\n      <th>user_id</th>\n      <th>name</th>\n      <th>username</th>\n      <th>followers</th>\n      <th>following</th>\n      <th>tweet_count</th>\n      <th>verified</th>\n      <th>created_at</th>\n    </tr>\n  </thead>\n  <tbody>\n    <tr>\n      <th>0</th>\n      <td>0</td>\n      <td>3457095793</td>\n      <td>SALEH ALOTAIBI</td>\n      <td>SALEHAL49202807</td>\n      <td>29</td>\n      <td>0</td>\n      <td>7473</td>\n      <td>False</td>\n      <td>2015-09-05 07:49:00</td>\n    </tr>\n    <tr>\n      <th>1</th>\n      <td>1</td>\n      <td>1206541010408333313</td>\n      <td>DC Tweets</td>\n      <td>RetweetDc</td>\n      <td>7851</td>\n      <td>40</td>\n      <td>406311</td>\n      <td>False</td>\n      <td>2019-12-16 11:47:16</td>\n    </tr>\n    <tr>\n      <th>2</th>\n      <td>2</td>\n      <td>1369228958739263488</td>\n      <td>Cottencandy</td>\n      <td>Cottenc57931689</td>\n      <td>100</td>\n      <td>309</td>\n      <td>30127</td>\n      <td>False</td>\n      <td>2021-03-09 10:10:16</td>\n    </tr>\n    <tr>\n      <th>3</th>\n      <td>3</td>\n      <td>3223132542</td>\n      <td>アマノ</td>\n      <td>sikkoukakari</td>\n      <td>3383</td>\n      <td>4707</td>\n      <td>10649</td>\n      <td>False</td>\n      <td>2015-05-22 10:48:05</td>\n    </tr>\n    <tr>\n      <th>4</th>\n      <td>4</td>\n      <td>1256240643258671105</td>\n      <td>💙Sonic The Dragonhog🌙 (On hiatus)</td>\n      <td>SDragonhog</td>\n      <td>657</td>\n      <td>1017</td>\n      <td>121701</td>\n      <td>False</td>\n      <td>2020-05-01 15:15:05</td>\n    </tr>\n  </tbody>\n</table>\n</div>"
     },
     "execution_count": 135,
     "metadata": {},
     "output_type": "execute_result"
    }
   ],
   "source": [
    "df_retweeters.head()"
   ],
   "metadata": {
    "collapsed": false,
    "pycharm": {
     "name": "#%%\n"
    }
   }
  },
  {
   "cell_type": "markdown",
   "source": [
    "### Removing duplicated retweeters\n",
    "\n",
    "37432 retweeters will be removed"
   ],
   "metadata": {
    "collapsed": false,
    "pycharm": {
     "name": "#%% md\n"
    }
   }
  },
  {
   "cell_type": "code",
   "execution_count": 136,
   "outputs": [
    {
     "data": {
      "text/plain": "(278349, 9)"
     },
     "execution_count": 136,
     "metadata": {},
     "output_type": "execute_result"
    }
   ],
   "source": [
    "df_retweeters.shape"
   ],
   "metadata": {
    "collapsed": false,
    "pycharm": {
     "name": "#%%\n"
    }
   }
  },
  {
   "cell_type": "code",
   "execution_count": 137,
   "outputs": [
    {
     "data": {
      "text/plain": "        Unnamed: 0              user_id                               name  \\\n0                0           3457095793                     SALEH ALOTAIBI   \n1                1  1206541010408333313                          DC Tweets   \n2                2  1369228958739263488                        Cottencandy   \n3                3           3223132542                                アマノ   \n4                4  1256240643258671105  💙Sonic The Dragonhog🌙 (On hiatus)   \n...            ...                  ...                                ...   \n278344      278344           3736161195                                 ‏َ   \n278345      278345  1220520282017976320         Ju Quer Abraçar O Josh🇨🇦♥️   \n278346      278346             42664231               Gilbert Economic Dev   \n278347      278347             86356349                   Gilbert, Arizona   \n278348      278348             19893170                  Brigette Peterson   \n\n               username  followers  following  tweet_count  verified  \\\n0       SALEHAL49202807         29          0         7473     False   \n1             RetweetDc       7851         40       406311     False   \n2       Cottenc57931689        100        309        30127     False   \n3          sikkoukakari       3383       4707        10649     False   \n4            SDragonhog        657       1017       121701     False   \n...                 ...        ...        ...          ...       ...   \n278344         noahsoIo       4020        290        29116     False   \n278345      uniter_juju         11         79           57     False   \n278346  GilbertAZEcoDev       3215        557         3657      True   \n278347  GilbertYourTown      25992       2666        22969      True   \n278348       BrigetteDP       1573       1103        13235     False   \n\n                 created_at  \n0       2015-09-05 07:49:00  \n1       2019-12-16 11:47:16  \n2       2021-03-09 10:10:16  \n3       2015-05-22 10:48:05  \n4       2020-05-01 15:15:05  \n...                     ...  \n278344  2015-09-22 06:42:48  \n278345  2020-01-24 01:35:01  \n278346  2009-05-26 16:51:49  \n278347  2009-10-30 17:18:49  \n278348  2009-02-02 04:32:22  \n\n[240917 rows x 9 columns]",
      "text/html": "<div>\n<style scoped>\n    .dataframe tbody tr th:only-of-type {\n        vertical-align: middle;\n    }\n\n    .dataframe tbody tr th {\n        vertical-align: top;\n    }\n\n    .dataframe thead th {\n        text-align: right;\n    }\n</style>\n<table border=\"1\" class=\"dataframe\">\n  <thead>\n    <tr style=\"text-align: right;\">\n      <th></th>\n      <th>Unnamed: 0</th>\n      <th>user_id</th>\n      <th>name</th>\n      <th>username</th>\n      <th>followers</th>\n      <th>following</th>\n      <th>tweet_count</th>\n      <th>verified</th>\n      <th>created_at</th>\n    </tr>\n  </thead>\n  <tbody>\n    <tr>\n      <th>0</th>\n      <td>0</td>\n      <td>3457095793</td>\n      <td>SALEH ALOTAIBI</td>\n      <td>SALEHAL49202807</td>\n      <td>29</td>\n      <td>0</td>\n      <td>7473</td>\n      <td>False</td>\n      <td>2015-09-05 07:49:00</td>\n    </tr>\n    <tr>\n      <th>1</th>\n      <td>1</td>\n      <td>1206541010408333313</td>\n      <td>DC Tweets</td>\n      <td>RetweetDc</td>\n      <td>7851</td>\n      <td>40</td>\n      <td>406311</td>\n      <td>False</td>\n      <td>2019-12-16 11:47:16</td>\n    </tr>\n    <tr>\n      <th>2</th>\n      <td>2</td>\n      <td>1369228958739263488</td>\n      <td>Cottencandy</td>\n      <td>Cottenc57931689</td>\n      <td>100</td>\n      <td>309</td>\n      <td>30127</td>\n      <td>False</td>\n      <td>2021-03-09 10:10:16</td>\n    </tr>\n    <tr>\n      <th>3</th>\n      <td>3</td>\n      <td>3223132542</td>\n      <td>アマノ</td>\n      <td>sikkoukakari</td>\n      <td>3383</td>\n      <td>4707</td>\n      <td>10649</td>\n      <td>False</td>\n      <td>2015-05-22 10:48:05</td>\n    </tr>\n    <tr>\n      <th>4</th>\n      <td>4</td>\n      <td>1256240643258671105</td>\n      <td>💙Sonic The Dragonhog🌙 (On hiatus)</td>\n      <td>SDragonhog</td>\n      <td>657</td>\n      <td>1017</td>\n      <td>121701</td>\n      <td>False</td>\n      <td>2020-05-01 15:15:05</td>\n    </tr>\n    <tr>\n      <th>...</th>\n      <td>...</td>\n      <td>...</td>\n      <td>...</td>\n      <td>...</td>\n      <td>...</td>\n      <td>...</td>\n      <td>...</td>\n      <td>...</td>\n      <td>...</td>\n    </tr>\n    <tr>\n      <th>278344</th>\n      <td>278344</td>\n      <td>3736161195</td>\n      <td>‏َ</td>\n      <td>noahsoIo</td>\n      <td>4020</td>\n      <td>290</td>\n      <td>29116</td>\n      <td>False</td>\n      <td>2015-09-22 06:42:48</td>\n    </tr>\n    <tr>\n      <th>278345</th>\n      <td>278345</td>\n      <td>1220520282017976320</td>\n      <td>Ju Quer Abraçar O Josh🇨🇦♥️</td>\n      <td>uniter_juju</td>\n      <td>11</td>\n      <td>79</td>\n      <td>57</td>\n      <td>False</td>\n      <td>2020-01-24 01:35:01</td>\n    </tr>\n    <tr>\n      <th>278346</th>\n      <td>278346</td>\n      <td>42664231</td>\n      <td>Gilbert Economic Dev</td>\n      <td>GilbertAZEcoDev</td>\n      <td>3215</td>\n      <td>557</td>\n      <td>3657</td>\n      <td>True</td>\n      <td>2009-05-26 16:51:49</td>\n    </tr>\n    <tr>\n      <th>278347</th>\n      <td>278347</td>\n      <td>86356349</td>\n      <td>Gilbert, Arizona</td>\n      <td>GilbertYourTown</td>\n      <td>25992</td>\n      <td>2666</td>\n      <td>22969</td>\n      <td>True</td>\n      <td>2009-10-30 17:18:49</td>\n    </tr>\n    <tr>\n      <th>278348</th>\n      <td>278348</td>\n      <td>19893170</td>\n      <td>Brigette Peterson</td>\n      <td>BrigetteDP</td>\n      <td>1573</td>\n      <td>1103</td>\n      <td>13235</td>\n      <td>False</td>\n      <td>2009-02-02 04:32:22</td>\n    </tr>\n  </tbody>\n</table>\n<p>240917 rows × 9 columns</p>\n</div>"
     },
     "execution_count": 137,
     "metadata": {},
     "output_type": "execute_result"
    }
   ],
   "source": [
    "df_retweeters = df_retweeters.drop_duplicates(subset=['user_id'], keep=\"first\")\n",
    "df_retweeters"
   ],
   "metadata": {
    "collapsed": false,
    "pycharm": {
     "name": "#%%\n"
    }
   }
  },
  {
   "cell_type": "code",
   "execution_count": 138,
   "outputs": [
    {
     "data": {
      "text/plain": "(278349, 15)"
     },
     "execution_count": 138,
     "metadata": {},
     "output_type": "execute_result"
    }
   ],
   "source": [
    "df_retweets.shape"
   ],
   "metadata": {
    "collapsed": false,
    "pycharm": {
     "name": "#%%\n"
    }
   }
  },
  {
   "cell_type": "code",
   "execution_count": 139,
   "outputs": [
    {
     "data": {
      "text/plain": "    index  Unnamed: 0             tweet_id  \\\n0  267872      267872  1212176450679377921   \n1  267871      267871  1212176611627458560   \n2  267870      267870  1212176685002571776   \n3  267869      267869  1212176700861227009   \n4  267868      267868  1212176835603288064   \n\n                                                text              user_id  \\\n0  This is the way and only way Jay Armstrong Cut...   833382201785978882   \n1  RT @LexingtonPD: TRAFFIC ALERT - A collision o...           3028245479   \n2  RT @alsilicaniyours: This is the way and only ...   833382201785978882   \n3                  Let’s not https://t.co/gMH6UWVB6q             27785930   \n4  RT @LexingtonPD: TRAFFIC ALERT - A collision o...  1012475880248143873   \n\n             timestamp     tweet_type  like_count  reply_count  retweet_count  \\\n0  2020-01-01 00:59:21    Quote Tweet           1            0              1   \n1  2020-01-01 01:00:00  Retweet Tweet           0            0              4   \n2  2020-01-01 01:00:17  Retweet Tweet           0            0              1   \n3  2020-01-01 01:00:21    Quote Tweet           0            3              0   \n4  2020-01-01 01:00:53  Retweet Tweet           0            0              4   \n\n   quote_count   device lang topics_ids topics  \\\n0            0  Android   en         []     []   \n1            0   iPhone   en         []     []   \n2            0  Android   en         []     []   \n3            0   iPhone   en         []     []   \n4            0  Android   en         []     []   \n\n                                   referenced_tweets  \n0  [ReferencedTweet(id: 1212175890785996801, type...  \n1  [ReferencedTweet(id: 1212176549769830401, type...  \n2  [ReferencedTweet(id: 1212176450679377921, type...  \n3  [ReferencedTweet(id: 1212176423189909506, type...  \n4  [ReferencedTweet(id: 1212176549769830401, type...  ",
      "text/html": "<div>\n<style scoped>\n    .dataframe tbody tr th:only-of-type {\n        vertical-align: middle;\n    }\n\n    .dataframe tbody tr th {\n        vertical-align: top;\n    }\n\n    .dataframe thead th {\n        text-align: right;\n    }\n</style>\n<table border=\"1\" class=\"dataframe\">\n  <thead>\n    <tr style=\"text-align: right;\">\n      <th></th>\n      <th>index</th>\n      <th>Unnamed: 0</th>\n      <th>tweet_id</th>\n      <th>text</th>\n      <th>user_id</th>\n      <th>timestamp</th>\n      <th>tweet_type</th>\n      <th>like_count</th>\n      <th>reply_count</th>\n      <th>retweet_count</th>\n      <th>quote_count</th>\n      <th>device</th>\n      <th>lang</th>\n      <th>topics_ids</th>\n      <th>topics</th>\n      <th>referenced_tweets</th>\n    </tr>\n  </thead>\n  <tbody>\n    <tr>\n      <th>0</th>\n      <td>267872</td>\n      <td>267872</td>\n      <td>1212176450679377921</td>\n      <td>This is the way and only way Jay Armstrong Cut...</td>\n      <td>833382201785978882</td>\n      <td>2020-01-01 00:59:21</td>\n      <td>Quote Tweet</td>\n      <td>1</td>\n      <td>0</td>\n      <td>1</td>\n      <td>0</td>\n      <td>Android</td>\n      <td>en</td>\n      <td>[]</td>\n      <td>[]</td>\n      <td>[ReferencedTweet(id: 1212175890785996801, type...</td>\n    </tr>\n    <tr>\n      <th>1</th>\n      <td>267871</td>\n      <td>267871</td>\n      <td>1212176611627458560</td>\n      <td>RT @LexingtonPD: TRAFFIC ALERT - A collision o...</td>\n      <td>3028245479</td>\n      <td>2020-01-01 01:00:00</td>\n      <td>Retweet Tweet</td>\n      <td>0</td>\n      <td>0</td>\n      <td>4</td>\n      <td>0</td>\n      <td>iPhone</td>\n      <td>en</td>\n      <td>[]</td>\n      <td>[]</td>\n      <td>[ReferencedTweet(id: 1212176549769830401, type...</td>\n    </tr>\n    <tr>\n      <th>2</th>\n      <td>267870</td>\n      <td>267870</td>\n      <td>1212176685002571776</td>\n      <td>RT @alsilicaniyours: This is the way and only ...</td>\n      <td>833382201785978882</td>\n      <td>2020-01-01 01:00:17</td>\n      <td>Retweet Tweet</td>\n      <td>0</td>\n      <td>0</td>\n      <td>1</td>\n      <td>0</td>\n      <td>Android</td>\n      <td>en</td>\n      <td>[]</td>\n      <td>[]</td>\n      <td>[ReferencedTweet(id: 1212176450679377921, type...</td>\n    </tr>\n    <tr>\n      <th>3</th>\n      <td>267869</td>\n      <td>267869</td>\n      <td>1212176700861227009</td>\n      <td>Let’s not https://t.co/gMH6UWVB6q</td>\n      <td>27785930</td>\n      <td>2020-01-01 01:00:21</td>\n      <td>Quote Tweet</td>\n      <td>0</td>\n      <td>3</td>\n      <td>0</td>\n      <td>0</td>\n      <td>iPhone</td>\n      <td>en</td>\n      <td>[]</td>\n      <td>[]</td>\n      <td>[ReferencedTweet(id: 1212176423189909506, type...</td>\n    </tr>\n    <tr>\n      <th>4</th>\n      <td>267868</td>\n      <td>267868</td>\n      <td>1212176835603288064</td>\n      <td>RT @LexingtonPD: TRAFFIC ALERT - A collision o...</td>\n      <td>1012475880248143873</td>\n      <td>2020-01-01 01:00:53</td>\n      <td>Retweet Tweet</td>\n      <td>0</td>\n      <td>0</td>\n      <td>4</td>\n      <td>0</td>\n      <td>Android</td>\n      <td>en</td>\n      <td>[]</td>\n      <td>[]</td>\n      <td>[ReferencedTweet(id: 1212176549769830401, type...</td>\n    </tr>\n  </tbody>\n</table>\n</div>"
     },
     "execution_count": 139,
     "metadata": {},
     "output_type": "execute_result"
    }
   ],
   "source": [
    "df_retweets = df_retweets.sort_values(by='timestamp', ascending=True).reset_index()\n",
    "df_retweets.head(5)"
   ],
   "metadata": {
    "collapsed": false,
    "pycharm": {
     "name": "#%%\n"
    }
   }
  },
  {
   "cell_type": "markdown",
   "source": [
    "### Merge retweets datasets"
   ],
   "metadata": {
    "collapsed": false,
    "pycharm": {
     "name": "#%% md\n"
    }
   }
  },
  {
   "cell_type": "code",
   "execution_count": 140,
   "outputs": [
    {
     "data": {
      "text/plain": "              tweet_id              user_id topics  \\\n0  1212176450679377921   833382201785978882     []   \n1  1212176611627458560           3028245479     []   \n2  1212176685002571776   833382201785978882     []   \n3  1212176700861227009             27785930     []   \n4  1212176835603288064  1012475880248143873     []   \n\n                                   referenced_tweets  followers  following  \n0  [ReferencedTweet(id: 1212175890785996801, type...         20        622  \n1  [ReferencedTweet(id: 1212176549769830401, type...      11059       4125  \n2  [ReferencedTweet(id: 1212176450679377921, type...         20        622  \n3  [ReferencedTweet(id: 1212176423189909506, type...      10230       6114  \n4  [ReferencedTweet(id: 1212176549769830401, type...       9685      10633  ",
      "text/html": "<div>\n<style scoped>\n    .dataframe tbody tr th:only-of-type {\n        vertical-align: middle;\n    }\n\n    .dataframe tbody tr th {\n        vertical-align: top;\n    }\n\n    .dataframe thead th {\n        text-align: right;\n    }\n</style>\n<table border=\"1\" class=\"dataframe\">\n  <thead>\n    <tr style=\"text-align: right;\">\n      <th></th>\n      <th>tweet_id</th>\n      <th>user_id</th>\n      <th>topics</th>\n      <th>referenced_tweets</th>\n      <th>followers</th>\n      <th>following</th>\n    </tr>\n  </thead>\n  <tbody>\n    <tr>\n      <th>0</th>\n      <td>1212176450679377921</td>\n      <td>833382201785978882</td>\n      <td>[]</td>\n      <td>[ReferencedTweet(id: 1212175890785996801, type...</td>\n      <td>20</td>\n      <td>622</td>\n    </tr>\n    <tr>\n      <th>1</th>\n      <td>1212176611627458560</td>\n      <td>3028245479</td>\n      <td>[]</td>\n      <td>[ReferencedTweet(id: 1212176549769830401, type...</td>\n      <td>11059</td>\n      <td>4125</td>\n    </tr>\n    <tr>\n      <th>2</th>\n      <td>1212176685002571776</td>\n      <td>833382201785978882</td>\n      <td>[]</td>\n      <td>[ReferencedTweet(id: 1212176450679377921, type...</td>\n      <td>20</td>\n      <td>622</td>\n    </tr>\n    <tr>\n      <th>3</th>\n      <td>1212176700861227009</td>\n      <td>27785930</td>\n      <td>[]</td>\n      <td>[ReferencedTweet(id: 1212176423189909506, type...</td>\n      <td>10230</td>\n      <td>6114</td>\n    </tr>\n    <tr>\n      <th>4</th>\n      <td>1212176835603288064</td>\n      <td>1012475880248143873</td>\n      <td>[]</td>\n      <td>[ReferencedTweet(id: 1212176549769830401, type...</td>\n      <td>9685</td>\n      <td>10633</td>\n    </tr>\n  </tbody>\n</table>\n</div>"
     },
     "execution_count": 140,
     "metadata": {},
     "output_type": "execute_result"
    }
   ],
   "source": [
    "df_retweets_info = pd.merge(df_retweets[['tweet_id', 'user_id', 'topics', 'referenced_tweets']], df_retweeters[['user_id', 'followers', 'following']], how='left', on=\"user_id\")\n",
    "df_retweets_info.head(5)"
   ],
   "metadata": {
    "collapsed": false,
    "pycharm": {
     "name": "#%%\n"
    }
   }
  },
  {
   "cell_type": "markdown",
   "source": [
    "### Removing non-direct retweets\n",
    "\n",
    "When colecting the retweets some tweets that mencioned the url of the original tweet and because of that were also collected as \"retweets\".\n",
    "Since this tipe of tweets don't count to the retweet count of the original tweet and they only represent 0,0012% of the retweets collected they will be removed"
   ],
   "metadata": {
    "collapsed": false,
    "pycharm": {
     "name": "#%% md\n"
    }
   }
  },
  {
   "cell_type": "code",
   "execution_count": 141,
   "outputs": [
    {
     "name": "stdout",
     "output_type": "stream",
     "text": [
      "<class 'pandas.core.frame.DataFrame'>\n",
      "Int64Index: 278349 entries, 0 to 278348\n",
      "Data columns (total 6 columns):\n",
      " #   Column             Non-Null Count   Dtype \n",
      "---  ------             --------------   ----- \n",
      " 0   tweet_id           278349 non-null  int64 \n",
      " 1   user_id            278349 non-null  int64 \n",
      " 2   topics             278349 non-null  object\n",
      " 3   referenced_tweets  278019 non-null  object\n",
      " 4   followers          278349 non-null  int64 \n",
      " 5   following          278349 non-null  int64 \n",
      "dtypes: int64(4), object(2)\n",
      "memory usage: 14.9+ MB\n"
     ]
    }
   ],
   "source": [
    "df_retweets_info.info()"
   ],
   "metadata": {
    "collapsed": false,
    "pycharm": {
     "name": "#%%\n"
    }
   }
  },
  {
   "cell_type": "code",
   "execution_count": 142,
   "outputs": [
    {
     "data": {
      "text/plain": "                   tweet_id              user_id topics referenced_tweets  \\\n465     1213173157735141376   786792941658382339     []               NaN   \n635     1213652399782604806   876320380792844292     []               NaN   \n645     1213731859131064320           3315742299     []               NaN   \n685     1213908969183424513           3215222674     []               NaN   \n2325    1216434627549847555  1089894708208373761     []               NaN   \n...                     ...                  ...    ...               ...   \n277556  1489616172404420614   838245040858222592     []               NaN   \n277584  1490216196716875780  1456396368361279492     []               NaN   \n277593  1490692560209207298  1468588637415944192     []               NaN   \n277759  1492506389503254537  1328709172423249921     []               NaN   \n278001  1501938999199363086            309268913     []               NaN   \n\n        followers  following  \n465           503        504  \n635           539        398  \n645           326        464  \n685           405        446  \n2325         1017       1244  \n...           ...        ...  \n277556       1214       2244  \n277584        715        386  \n277593        109        193  \n277759         99        538  \n278001       1889       3823  \n\n[330 rows x 6 columns]",
      "text/html": "<div>\n<style scoped>\n    .dataframe tbody tr th:only-of-type {\n        vertical-align: middle;\n    }\n\n    .dataframe tbody tr th {\n        vertical-align: top;\n    }\n\n    .dataframe thead th {\n        text-align: right;\n    }\n</style>\n<table border=\"1\" class=\"dataframe\">\n  <thead>\n    <tr style=\"text-align: right;\">\n      <th></th>\n      <th>tweet_id</th>\n      <th>user_id</th>\n      <th>topics</th>\n      <th>referenced_tweets</th>\n      <th>followers</th>\n      <th>following</th>\n    </tr>\n  </thead>\n  <tbody>\n    <tr>\n      <th>465</th>\n      <td>1213173157735141376</td>\n      <td>786792941658382339</td>\n      <td>[]</td>\n      <td>NaN</td>\n      <td>503</td>\n      <td>504</td>\n    </tr>\n    <tr>\n      <th>635</th>\n      <td>1213652399782604806</td>\n      <td>876320380792844292</td>\n      <td>[]</td>\n      <td>NaN</td>\n      <td>539</td>\n      <td>398</td>\n    </tr>\n    <tr>\n      <th>645</th>\n      <td>1213731859131064320</td>\n      <td>3315742299</td>\n      <td>[]</td>\n      <td>NaN</td>\n      <td>326</td>\n      <td>464</td>\n    </tr>\n    <tr>\n      <th>685</th>\n      <td>1213908969183424513</td>\n      <td>3215222674</td>\n      <td>[]</td>\n      <td>NaN</td>\n      <td>405</td>\n      <td>446</td>\n    </tr>\n    <tr>\n      <th>2325</th>\n      <td>1216434627549847555</td>\n      <td>1089894708208373761</td>\n      <td>[]</td>\n      <td>NaN</td>\n      <td>1017</td>\n      <td>1244</td>\n    </tr>\n    <tr>\n      <th>...</th>\n      <td>...</td>\n      <td>...</td>\n      <td>...</td>\n      <td>...</td>\n      <td>...</td>\n      <td>...</td>\n    </tr>\n    <tr>\n      <th>277556</th>\n      <td>1489616172404420614</td>\n      <td>838245040858222592</td>\n      <td>[]</td>\n      <td>NaN</td>\n      <td>1214</td>\n      <td>2244</td>\n    </tr>\n    <tr>\n      <th>277584</th>\n      <td>1490216196716875780</td>\n      <td>1456396368361279492</td>\n      <td>[]</td>\n      <td>NaN</td>\n      <td>715</td>\n      <td>386</td>\n    </tr>\n    <tr>\n      <th>277593</th>\n      <td>1490692560209207298</td>\n      <td>1468588637415944192</td>\n      <td>[]</td>\n      <td>NaN</td>\n      <td>109</td>\n      <td>193</td>\n    </tr>\n    <tr>\n      <th>277759</th>\n      <td>1492506389503254537</td>\n      <td>1328709172423249921</td>\n      <td>[]</td>\n      <td>NaN</td>\n      <td>99</td>\n      <td>538</td>\n    </tr>\n    <tr>\n      <th>278001</th>\n      <td>1501938999199363086</td>\n      <td>309268913</td>\n      <td>[]</td>\n      <td>NaN</td>\n      <td>1889</td>\n      <td>3823</td>\n    </tr>\n  </tbody>\n</table>\n<p>330 rows × 6 columns</p>\n</div>"
     },
     "execution_count": 142,
     "metadata": {},
     "output_type": "execute_result"
    }
   ],
   "source": [
    "df_retweets_info[pd.isna(df_retweets_info['referenced_tweets'])]"
   ],
   "metadata": {
    "collapsed": false,
    "pycharm": {
     "name": "#%%\n"
    }
   }
  },
  {
   "cell_type": "code",
   "execution_count": 143,
   "outputs": [
    {
     "data": {
      "text/plain": "635    #FlyEaglesFly #PhillyvsEveryone https://t.co/G...\nName: text, dtype: object"
     },
     "execution_count": 143,
     "metadata": {},
     "output_type": "execute_result"
    }
   ],
   "source": [
    "df_retweets[df_retweets['tweet_id'] == 1213652399782604806]['text']"
   ],
   "metadata": {
    "collapsed": false,
    "pycharm": {
     "name": "#%%\n"
    }
   }
  },
  {
   "cell_type": "code",
   "execution_count": 144,
   "outputs": [],
   "source": [
    "df_retweets_info = df_retweets_info[df_retweets_info['referenced_tweets'].notna()]"
   ],
   "metadata": {
    "collapsed": false,
    "pycharm": {
     "name": "#%%\n"
    }
   }
  },
  {
   "cell_type": "code",
   "execution_count": 153,
   "outputs": [],
   "source": [
    "def get_ref_tweet_id(ref_tweets):\n",
    "    g = str(ref_tweets)\n",
    "    if isinstance(g, str) and g != 'nan' and not pd.isna(g):\n",
    "        return int(g.split()[1].replace(',', ''))\n",
    "    else: return None"
   ],
   "metadata": {
    "collapsed": false,
    "pycharm": {
     "name": "#%%\n"
    }
   }
  },
  {
   "cell_type": "code",
   "execution_count": 154,
   "outputs": [
    {
     "data": {
      "text/plain": "              tweet_id              user_id topics  \\\n0  1212176450679377921   833382201785978882     []   \n1  1212176611627458560           3028245479     []   \n2  1212176685002571776   833382201785978882     []   \n3  1212176700861227009             27785930     []   \n4  1212176835603288064  1012475880248143873     []   \n\n                                   referenced_tweets  followers  following  \\\n0  [ReferencedTweet(id: 1212175890785996801, type...         20        622   \n1  [ReferencedTweet(id: 1212176549769830401, type...      11059       4125   \n2  [ReferencedTweet(id: 1212176450679377921, type...         20        622   \n3  [ReferencedTweet(id: 1212176423189909506, type...      10230       6114   \n4  [ReferencedTweet(id: 1212176549769830401, type...       9685      10633   \n\n          ref_tweed_id  \n0  1212175890785996801  \n1  1212176549769830401  \n2  1212176450679377921  \n3  1212176423189909506  \n4  1212176549769830401  ",
      "text/html": "<div>\n<style scoped>\n    .dataframe tbody tr th:only-of-type {\n        vertical-align: middle;\n    }\n\n    .dataframe tbody tr th {\n        vertical-align: top;\n    }\n\n    .dataframe thead th {\n        text-align: right;\n    }\n</style>\n<table border=\"1\" class=\"dataframe\">\n  <thead>\n    <tr style=\"text-align: right;\">\n      <th></th>\n      <th>tweet_id</th>\n      <th>user_id</th>\n      <th>topics</th>\n      <th>referenced_tweets</th>\n      <th>followers</th>\n      <th>following</th>\n      <th>ref_tweed_id</th>\n    </tr>\n  </thead>\n  <tbody>\n    <tr>\n      <th>0</th>\n      <td>1212176450679377921</td>\n      <td>833382201785978882</td>\n      <td>[]</td>\n      <td>[ReferencedTweet(id: 1212175890785996801, type...</td>\n      <td>20</td>\n      <td>622</td>\n      <td>1212175890785996801</td>\n    </tr>\n    <tr>\n      <th>1</th>\n      <td>1212176611627458560</td>\n      <td>3028245479</td>\n      <td>[]</td>\n      <td>[ReferencedTweet(id: 1212176549769830401, type...</td>\n      <td>11059</td>\n      <td>4125</td>\n      <td>1212176549769830401</td>\n    </tr>\n    <tr>\n      <th>2</th>\n      <td>1212176685002571776</td>\n      <td>833382201785978882</td>\n      <td>[]</td>\n      <td>[ReferencedTweet(id: 1212176450679377921, type...</td>\n      <td>20</td>\n      <td>622</td>\n      <td>1212176450679377921</td>\n    </tr>\n    <tr>\n      <th>3</th>\n      <td>1212176700861227009</td>\n      <td>27785930</td>\n      <td>[]</td>\n      <td>[ReferencedTweet(id: 1212176423189909506, type...</td>\n      <td>10230</td>\n      <td>6114</td>\n      <td>1212176423189909506</td>\n    </tr>\n    <tr>\n      <th>4</th>\n      <td>1212176835603288064</td>\n      <td>1012475880248143873</td>\n      <td>[]</td>\n      <td>[ReferencedTweet(id: 1212176549769830401, type...</td>\n      <td>9685</td>\n      <td>10633</td>\n      <td>1212176549769830401</td>\n    </tr>\n  </tbody>\n</table>\n</div>"
     },
     "execution_count": 154,
     "metadata": {},
     "output_type": "execute_result"
    }
   ],
   "source": [
    "df_retweets_info['ref_tweed_id'] = df_retweets_info['referenced_tweets'].apply(lambda ref_tweet: get_ref_tweet_id(ref_tweet))\n",
    "df_retweets_info.head()"
   ],
   "metadata": {
    "collapsed": false,
    "pycharm": {
     "name": "#%%\n"
    }
   }
  },
  {
   "cell_type": "code",
   "execution_count": 179,
   "outputs": [
    {
     "data": {
      "text/plain": "     index  Unnamed: 0             tweet_id  \\\n0  1028700     1028700  1212176422770544641   \n1  1028701     1028701  1212176421659062274   \n2  1028698     1028698  1212176423189909506   \n3  1028697     1028697  1212176425916280833   \n4  1028696     1028696  1212176426088181760   \n\n                                                text              user_id  \\\n0  2️⃣0️⃣1️⃣9️⃣ WHAT. A. YEAR. 🌟 #bestnine2019 #t...             29885607   \n1               Gold N Hot 🤪 https://t.co/VeO2k4Mq4h  1130217871286636545   \n2      and he still cheating https://t.co/zYAQ8wc6Vg           3322006549   \n3  Got my hot coco bc it cold out siiiiide boii h...             18707915   \n4  Disgruntled Pope Francis pulls himself free fr...            858762062   \n\n             timestamp      tweet_type  like_count  reply_count  \\\n0  2020-01-01 00:59:14  Original Tweet          35            0   \n1  2020-01-01 00:59:14     Quote Tweet           0            0   \n2  2020-01-01 00:59:15     Quote Tweet           2            2   \n3  2020-01-01 00:59:15  Original Tweet           1            1   \n4  2020-01-01 00:59:15  Original Tweet           0            0   \n\n   retweet_count  quote_count   device lang          topics_ids  \\\n0              1            0   iPhone   en                  []   \n1              0            0   iPhone   en                  []   \n2              1            7   iPhone   en        ['10', '60']   \n3              0            0   iPhone   en                  []   \n4              0            0  Android   en  ['10', '46', '47']   \n\n                                  topics  \\\n0                                     []   \n1                                     []   \n2                  ['Person', 'Athlete']   \n3                                     []   \n4  ['Person', 'Brand Category', 'Brand']   \n\n                                   referenced_tweets         ref_tweed_id  \n0                                                NaN                    0  \n1  [ReferencedTweet(id: 1212167212120920072, type...  1212167212120920064  \n2  [ReferencedTweet(id: 1211878384961228802, type...  1211878384961228800  \n3                                                NaN                    0  \n4                                                NaN                    0  ",
      "text/html": "<div>\n<style scoped>\n    .dataframe tbody tr th:only-of-type {\n        vertical-align: middle;\n    }\n\n    .dataframe tbody tr th {\n        vertical-align: top;\n    }\n\n    .dataframe thead th {\n        text-align: right;\n    }\n</style>\n<table border=\"1\" class=\"dataframe\">\n  <thead>\n    <tr style=\"text-align: right;\">\n      <th></th>\n      <th>index</th>\n      <th>Unnamed: 0</th>\n      <th>tweet_id</th>\n      <th>text</th>\n      <th>user_id</th>\n      <th>timestamp</th>\n      <th>tweet_type</th>\n      <th>like_count</th>\n      <th>reply_count</th>\n      <th>retweet_count</th>\n      <th>quote_count</th>\n      <th>device</th>\n      <th>lang</th>\n      <th>topics_ids</th>\n      <th>topics</th>\n      <th>referenced_tweets</th>\n      <th>ref_tweed_id</th>\n    </tr>\n  </thead>\n  <tbody>\n    <tr>\n      <th>0</th>\n      <td>1028700</td>\n      <td>1028700</td>\n      <td>1212176422770544641</td>\n      <td>2️⃣0️⃣1️⃣9️⃣ WHAT. A. YEAR. 🌟 #bestnine2019 #t...</td>\n      <td>29885607</td>\n      <td>2020-01-01 00:59:14</td>\n      <td>Original Tweet</td>\n      <td>35</td>\n      <td>0</td>\n      <td>1</td>\n      <td>0</td>\n      <td>iPhone</td>\n      <td>en</td>\n      <td>[]</td>\n      <td>[]</td>\n      <td>NaN</td>\n      <td>0</td>\n    </tr>\n    <tr>\n      <th>1</th>\n      <td>1028701</td>\n      <td>1028701</td>\n      <td>1212176421659062274</td>\n      <td>Gold N Hot 🤪 https://t.co/VeO2k4Mq4h</td>\n      <td>1130217871286636545</td>\n      <td>2020-01-01 00:59:14</td>\n      <td>Quote Tweet</td>\n      <td>0</td>\n      <td>0</td>\n      <td>0</td>\n      <td>0</td>\n      <td>iPhone</td>\n      <td>en</td>\n      <td>[]</td>\n      <td>[]</td>\n      <td>[ReferencedTweet(id: 1212167212120920072, type...</td>\n      <td>1212167212120920064</td>\n    </tr>\n    <tr>\n      <th>2</th>\n      <td>1028698</td>\n      <td>1028698</td>\n      <td>1212176423189909506</td>\n      <td>and he still cheating https://t.co/zYAQ8wc6Vg</td>\n      <td>3322006549</td>\n      <td>2020-01-01 00:59:15</td>\n      <td>Quote Tweet</td>\n      <td>2</td>\n      <td>2</td>\n      <td>1</td>\n      <td>7</td>\n      <td>iPhone</td>\n      <td>en</td>\n      <td>['10', '60']</td>\n      <td>['Person', 'Athlete']</td>\n      <td>[ReferencedTweet(id: 1211878384961228802, type...</td>\n      <td>1211878384961228800</td>\n    </tr>\n    <tr>\n      <th>3</th>\n      <td>1028697</td>\n      <td>1028697</td>\n      <td>1212176425916280833</td>\n      <td>Got my hot coco bc it cold out siiiiide boii h...</td>\n      <td>18707915</td>\n      <td>2020-01-01 00:59:15</td>\n      <td>Original Tweet</td>\n      <td>1</td>\n      <td>1</td>\n      <td>0</td>\n      <td>0</td>\n      <td>iPhone</td>\n      <td>en</td>\n      <td>[]</td>\n      <td>[]</td>\n      <td>NaN</td>\n      <td>0</td>\n    </tr>\n    <tr>\n      <th>4</th>\n      <td>1028696</td>\n      <td>1028696</td>\n      <td>1212176426088181760</td>\n      <td>Disgruntled Pope Francis pulls himself free fr...</td>\n      <td>858762062</td>\n      <td>2020-01-01 00:59:15</td>\n      <td>Original Tweet</td>\n      <td>0</td>\n      <td>0</td>\n      <td>0</td>\n      <td>0</td>\n      <td>Android</td>\n      <td>en</td>\n      <td>['10', '46', '47']</td>\n      <td>['Person', 'Brand Category', 'Brand']</td>\n      <td>NaN</td>\n      <td>0</td>\n    </tr>\n  </tbody>\n</table>\n</div>"
     },
     "execution_count": 179,
     "metadata": {},
     "output_type": "execute_result"
    }
   ],
   "source": [
    "df_tweets['ref_tweed_id'] = df_tweets['referenced_tweets'].apply(lambda ref_tweet: get_ref_tweet_id(ref_tweet))\n",
    "# converting the reference ids that exist to int\n",
    "df_tweets['ref_tweed_id'] = pd.to_numeric(df_tweets['ref_tweed_id'], errors='coerce').fillna(0).astype(np.int64)\n",
    "df_tweets.head()"
   ],
   "metadata": {
    "collapsed": false,
    "pycharm": {
     "name": "#%%\n"
    }
   }
  },
  {
   "cell_type": "code",
   "execution_count": 195,
   "outputs": [],
   "source": [
    "def calculate_tweet_reach(tweet_id, user_id, topics, retweets_count, ref_tweed_id):\n",
    "    total_reach = 0\n",
    "    total_reach += df_users[df_users['user_id'] == user_id]['followers'].sum()\n",
    "    if topics != '[]' and retweets_count > 0:\n",
    "        if ref_tweed_id is not None and ref_tweed_id != 0:\n",
    "            total_reach += df_retweets_info[(df_retweets_info['ref_tweed_id'] == tweet_id) | (df_retweets_info['ref_tweed_id'] == ref_tweed_id)]['followers'].sum()\n",
    "        else:\n",
    "            total_reach += df_retweets_info[df_retweets_info['ref_tweed_id'] == tweet_id]['followers'].sum()\n",
    "    return total_reach"
   ],
   "metadata": {
    "collapsed": false,
    "pycharm": {
     "name": "#%%\n"
    }
   }
  },
  {
   "cell_type": "code",
   "execution_count": 198,
   "outputs": [
    {
     "name": "stdout",
     "output_type": "stream",
     "text": [
      "tweet_id 1212176423189909506\n",
      "ref_tweed_id 1211878384961228800\n",
      "default 653\n",
      "after search 13837 \n",
      "\n",
      "tweet_id 1212176429053550593\n",
      "ref_tweed_id 0\n",
      "default 2636\n",
      "basic search 3322 \n",
      "\n",
      "tweet_id 1212176436783656960\n",
      "ref_tweed_id 0\n",
      "default 2528\n",
      "basic search 2528 \n",
      "\n",
      "tweet_id 1212176450679377921\n",
      "ref_tweed_id 1212175890785996800\n",
      "default 20\n",
      "after search 40 \n",
      "\n",
      "tweet_id 1212176465560657921\n",
      "ref_tweed_id 0\n",
      "default 366\n",
      "basic search 366 \n",
      "\n",
      "tweet_id 1212176474158977029\n",
      "ref_tweed_id 0\n",
      "default 2352\n",
      "basic search 2352 \n",
      "\n",
      "tweet_id 1212176484938506240\n",
      "ref_tweed_id 0\n",
      "default 1856\n",
      "basic search 1856 \n",
      "\n",
      "tweet_id 1212176491649339392\n",
      "ref_tweed_id 1212174934308524032\n",
      "default 5516\n",
      "after search 5516 \n",
      "\n",
      "tweet_id 1212176495201927168\n",
      "ref_tweed_id 0\n",
      "default 137\n",
      "basic search 4833 \n",
      "\n",
      "tweet_id 1212176506060828672\n",
      "ref_tweed_id 0\n",
      "default 894\n",
      "basic search 894 \n",
      "\n",
      "tweet_id 1212176514311184386\n",
      "ref_tweed_id 0\n",
      "default 707\n",
      "basic search 804 \n",
      "\n",
      "tweet_id 1212176515590434816\n",
      "ref_tweed_id 1212121574901313536\n",
      "default 62081\n",
      "after search 62081 \n",
      "\n",
      "tweet_id 1212176527900729345\n",
      "ref_tweed_id 0\n",
      "default 1714\n",
      "basic search 1714 \n",
      "\n",
      "tweet_id 1212176548620636160\n",
      "ref_tweed_id 1212083225700556800\n",
      "default 3362\n",
      "after search 3362 \n",
      "\n",
      "tweet_id 1212176547731378183\n",
      "ref_tweed_id 0\n",
      "default 596\n",
      "basic search 596 \n",
      "\n",
      "tweet_id 1212176549769830401\n",
      "ref_tweed_id 0\n",
      "default 12273\n",
      "basic search 80338 \n",
      "\n",
      "tweet_id 1212176570502266885\n",
      "ref_tweed_id 0\n",
      "default 923\n",
      "basic search 207699 \n",
      "\n",
      "tweet_id 1212176582435061762\n",
      "ref_tweed_id 0\n",
      "default 131\n",
      "basic search 3325 \n",
      "\n",
      "tweet_id 1212176585123647489\n",
      "ref_tweed_id 0\n",
      "default 268\n",
      "basic search 479629 \n",
      "\n",
      "tweet_id 1212176593600286720\n",
      "ref_tweed_id 0\n",
      "default 13791\n",
      "basic search 13791 \n",
      "\n",
      "tweet_id 1212176594992848898\n",
      "ref_tweed_id 1212173820645261312\n",
      "default 384\n",
      "after search 384 \n",
      "\n",
      "tweet_id 1212176602404151297\n",
      "ref_tweed_id 0\n",
      "default 101\n",
      "basic search 101 \n",
      "\n",
      "tweet_id 1212282078085054464\n",
      "ref_tweed_id 0\n",
      "default 1968\n",
      "basic search 2353 \n",
      "\n",
      "tweet_id 1212282086536761345\n",
      "ref_tweed_id 1212237712863961088\n",
      "default 578\n",
      "after search 578 \n",
      "\n",
      "tweet_id 1212282093339758592\n",
      "ref_tweed_id 0\n",
      "default 21204\n",
      "basic search 29746 \n",
      "\n",
      "tweet_id 1212282119239680001\n",
      "ref_tweed_id 1212252170441154560\n",
      "default 1195\n",
      "after search 1195 \n",
      "\n",
      "tweet_id 1212282121596784640\n",
      "ref_tweed_id 0\n",
      "default 9364\n",
      "basic search 9364 \n",
      "\n",
      "tweet_id 1212282134112563200\n",
      "ref_tweed_id 0\n",
      "default 588\n",
      "basic search 1164 \n",
      "\n",
      "tweet_id 1212282151703437312\n",
      "ref_tweed_id 0\n",
      "default 600\n",
      "basic search 864 \n",
      "\n",
      "tweet_id 1212282179050450944\n",
      "ref_tweed_id 1212275555816620032\n",
      "default 1512\n",
      "after search 1512 \n",
      "\n",
      "tweet_id 1212282210453204993\n",
      "ref_tweed_id 0\n",
      "default 497\n",
      "basic search 497 \n",
      "\n",
      "tweet_id 1212282219412279298\n",
      "ref_tweed_id 0\n",
      "default 410\n",
      "basic search 2541 \n",
      "\n",
      "tweet_id 1212282235996360705\n",
      "ref_tweed_id 0\n",
      "default 513\n",
      "basic search 513 \n",
      "\n",
      "tweet_id 1212282235547791360\n",
      "ref_tweed_id 0\n",
      "default 497\n",
      "basic search 497 \n",
      "\n",
      "tweet_id 1212282247325179905\n",
      "ref_tweed_id 0\n",
      "default 18532\n",
      "basic search 18532 \n",
      "\n",
      "tweet_id 1212282303566798848\n",
      "ref_tweed_id 0\n",
      "default 30687\n",
      "basic search 30687 \n",
      "\n",
      "tweet_id 1212372399175426048\n",
      "ref_tweed_id 0\n",
      "default 258\n",
      "basic search 258 \n",
      "\n",
      "tweet_id 1212372400773455880\n",
      "ref_tweed_id 1211474938894438400\n",
      "default 881\n",
      "after search 881 \n",
      "\n",
      "tweet_id 1212372437452705797\n",
      "ref_tweed_id 0\n",
      "default 6947\n",
      "basic search 46745 \n",
      "\n",
      "tweet_id 1212372473217536001\n",
      "ref_tweed_id 1212167554048892928\n",
      "default 5222\n",
      "after search 5222 \n",
      "\n",
      "tweet_id 1212372501277360128\n",
      "ref_tweed_id 0\n",
      "default 1097\n",
      "basic search 1097 \n",
      "\n",
      "tweet_id 1212372522601193473\n",
      "ref_tweed_id 0\n",
      "default 2822\n",
      "basic search 3616 \n",
      "\n",
      "tweet_id 1212372558672269313\n",
      "ref_tweed_id 0\n",
      "default 423\n",
      "basic search 423 \n",
      "\n",
      "tweet_id 1212372575789162497\n",
      "ref_tweed_id 0\n",
      "default 623\n",
      "basic search 719 \n",
      "\n",
      "tweet_id 1212372596454559744\n",
      "ref_tweed_id 0\n",
      "default 23593\n",
      "basic search 56548 \n",
      "\n",
      "tweet_id 1212372598966947840\n",
      "ref_tweed_id 0\n",
      "default 3143\n",
      "basic search 3143 \n",
      "\n",
      "tweet_id 1212372620588531713\n",
      "ref_tweed_id 0\n",
      "default 7981\n",
      "basic search 8096 \n",
      "\n",
      "tweet_id 1212372647666995200\n",
      "ref_tweed_id 0\n",
      "default 12372\n",
      "basic search 13182 \n",
      "\n",
      "tweet_id 1212372665308262401\n",
      "ref_tweed_id 0\n",
      "default 244\n",
      "basic search 1157 \n",
      "\n",
      "tweet_id 1212372677190672384\n",
      "ref_tweed_id 0\n",
      "default 8560\n",
      "basic search 9271 \n",
      "\n",
      "tweet_id 1212372707246870534\n",
      "ref_tweed_id 0\n",
      "default 3754\n",
      "basic search 27058 \n",
      "\n",
      "tweet_id 1212372710682169348\n",
      "ref_tweed_id 0\n",
      "default 9026\n",
      "basic search 9174 \n",
      "\n",
      "tweet_id 1212372721771929600\n",
      "ref_tweed_id 0\n",
      "default 437\n",
      "basic search 437 \n",
      "\n",
      "tweet_id 1212372724175245312\n",
      "ref_tweed_id 1212355541571448832\n",
      "default 29642\n",
      "after search 29642 \n",
      "\n",
      "tweet_id 1212372725869826049\n",
      "ref_tweed_id 0\n",
      "default 64200\n",
      "basic search 223675 \n",
      "\n",
      "tweet_id 1212372755905208320\n",
      "ref_tweed_id 1212225231143755776\n",
      "default 243\n",
      "after search 243 \n",
      "\n",
      "tweet_id 1212372759759773706\n",
      "ref_tweed_id 0\n",
      "default 29619\n",
      "basic search 29619 \n",
      "\n",
      "tweet_id 1212372775656198145\n",
      "ref_tweed_id 0\n",
      "default 324\n",
      "basic search 428 \n",
      "\n",
      "tweet_id 1212372787744120832\n",
      "ref_tweed_id 0\n",
      "default 1014\n",
      "basic search 1014 \n",
      "\n",
      "tweet_id 1212372796594106379\n",
      "ref_tweed_id 0\n",
      "default 421\n",
      "basic search 421 \n",
      "\n",
      "tweet_id 1212372830123364352\n",
      "ref_tweed_id 0\n",
      "default 964\n",
      "basic search 964 \n",
      "\n",
      "tweet_id 1212372858485321730\n",
      "ref_tweed_id 0\n",
      "default 1739\n",
      "basic search 1739 \n",
      "\n",
      "tweet_id 1212372863891705856\n",
      "ref_tweed_id 0\n",
      "default 5817\n",
      "basic search 6269 \n",
      "\n",
      "tweet_id 1212372873815478272\n",
      "ref_tweed_id 0\n",
      "default 306107\n",
      "basic search 324985 \n",
      "\n",
      "tweet_id 1212372879074922496\n",
      "ref_tweed_id 0\n",
      "default 10986\n",
      "basic search 11141 \n",
      "\n",
      "tweet_id 1212448223102586880\n",
      "ref_tweed_id 0\n",
      "default 5276\n",
      "basic search 5276 \n",
      "\n",
      "tweet_id 1212448247236747265\n",
      "ref_tweed_id 0\n",
      "default 575\n",
      "basic search 575 \n",
      "\n",
      "tweet_id 1212448269307142145\n",
      "ref_tweed_id 1212431271110070272\n",
      "default 1384\n",
      "after search 6353 \n",
      "\n",
      "tweet_id 1212448283471306753\n",
      "ref_tweed_id 1212077226608545792\n",
      "default 3506\n",
      "after search 4588 \n",
      "\n",
      "tweet_id 1212448291574693889\n",
      "ref_tweed_id 0\n",
      "default 18118\n",
      "basic search 32192 \n",
      "\n",
      "tweet_id 1212448301330644998\n",
      "ref_tweed_id 1212445089349455872\n",
      "default 5266\n",
      "after search 5266 \n",
      "\n",
      "tweet_id 1212448327016632321\n",
      "ref_tweed_id 0\n",
      "default 5624\n",
      "basic search 15053 \n",
      "\n",
      "tweet_id 1212448335656673281\n",
      "ref_tweed_id 1212403363326779392\n",
      "default 5111\n",
      "after search 5111 \n",
      "\n",
      "tweet_id 1212448340748722178\n",
      "ref_tweed_id 1210725669388210176\n",
      "default 233\n",
      "after search 233 \n",
      "\n",
      "tweet_id 1212448342040600576\n",
      "ref_tweed_id 0\n",
      "default 90\n",
      "basic search 90 \n",
      "\n",
      "tweet_id 1212448346188763143\n",
      "ref_tweed_id 0\n",
      "default 2112\n",
      "basic search 3654 \n",
      "\n",
      "tweet_id 1212448351028944898\n",
      "ref_tweed_id 1212422416716247040\n",
      "default 173836\n",
      "after search 173836 \n",
      "\n",
      "tweet_id 1212448349791477760\n",
      "ref_tweed_id 1212447525258612736\n",
      "default 18461\n",
      "after search 18461 \n",
      "\n",
      "tweet_id 1212448358721187841\n",
      "ref_tweed_id 1212203693677801472\n",
      "default 13902\n",
      "after search 14598 \n",
      "\n",
      "tweet_id 1212448359329521670\n",
      "ref_tweed_id 1212173904824934400\n",
      "default 171\n",
      "after search 171 \n",
      "\n",
      "tweet_id 1212448368779288578\n",
      "ref_tweed_id 0\n",
      "default 291\n",
      "basic search 1616 \n",
      "\n",
      "tweet_id 1212448366124314624\n",
      "ref_tweed_id 0\n",
      "default 3349\n",
      "basic search 3349 \n",
      "\n",
      "tweet_id 1212448370872266753\n",
      "ref_tweed_id 0\n",
      "default 7166\n",
      "basic search 7182 \n",
      "\n",
      "tweet_id 1212448376937054208\n",
      "ref_tweed_id 0\n",
      "default 1857\n",
      "basic search 1857 \n",
      "\n",
      "tweet_id 1212448384402898944\n",
      "ref_tweed_id 0\n",
      "default 209\n",
      "basic search 868 \n",
      "\n",
      "tweet_id 1212448390069534721\n",
      "ref_tweed_id 0\n",
      "default 183\n",
      "basic search 183 \n",
      "\n",
      "tweet_id 1212448392300941317\n",
      "ref_tweed_id 1212447068406648832\n",
      "default 1059\n",
      "after search 1059 \n",
      "\n",
      "tweet_id 1212448395908075521\n",
      "ref_tweed_id 0\n",
      "default 2501\n",
      "basic search 2501 \n",
      "\n",
      "tweet_id 1212493518372913152\n",
      "ref_tweed_id 0\n",
      "default 2189\n",
      "basic search 2293 \n",
      "\n",
      "tweet_id 1212493521791410183\n",
      "ref_tweed_id 1212448431047946240\n",
      "default 10650\n",
      "after search 10650 \n",
      "\n",
      "tweet_id 1212493535070638080\n",
      "ref_tweed_id 0\n",
      "default 933\n",
      "basic search 3747 \n",
      "\n",
      "tweet_id 1212493539495436288\n",
      "ref_tweed_id 1212490099771920384\n",
      "default 12142\n",
      "after search 12142 \n",
      "\n",
      "tweet_id 1212493539176636416\n",
      "ref_tweed_id 0\n",
      "default 7191\n",
      "basic search 8487 \n",
      "\n",
      "tweet_id 1212493551201742848\n",
      "ref_tweed_id 0\n",
      "default 63\n",
      "basic search 63 \n",
      "\n",
      "tweet_id 1212493553563127808\n",
      "ref_tweed_id 0\n",
      "default 1107\n",
      "basic search 42302 \n",
      "\n",
      "tweet_id 1212493554595053572\n",
      "ref_tweed_id 1212478977052479488\n",
      "default 1389\n",
      "after search 1389 \n",
      "\n",
      "tweet_id 1212493556968935424\n",
      "ref_tweed_id 0\n",
      "default 91\n",
      "basic search 1571 \n",
      "\n",
      "tweet_id 1212493570533449729\n",
      "ref_tweed_id 1212267522709319680\n",
      "default 114\n",
      "after search 114 \n",
      "\n",
      "tweet_id 1212493569530970116\n",
      "ref_tweed_id 1212489459347972096\n",
      "default 2340\n",
      "after search 2340 \n",
      "\n",
      "tweet_id 1212493573750509579\n",
      "ref_tweed_id 0\n",
      "default 6394\n",
      "basic search 6562 \n",
      "\n",
      "tweet_id 1212493581698490368\n",
      "ref_tweed_id 0\n",
      "default 101\n",
      "basic search 101 \n",
      "\n",
      "tweet_id 1212493585867608066\n",
      "ref_tweed_id 1211870891962966016\n",
      "default 330\n",
      "after search 330 \n",
      "\n",
      "tweet_id 1212493590540279810\n",
      "ref_tweed_id 0\n",
      "default 591\n",
      "basic search 591 \n",
      "\n",
      "tweet_id 1212493590695469063\n",
      "ref_tweed_id 0\n",
      "default 18866\n",
      "basic search 53200 \n",
      "\n",
      "tweet_id 1212493604956114949\n",
      "ref_tweed_id 1212424999098671104\n",
      "default 51\n",
      "after search 51 \n",
      "\n",
      "tweet_id 1212493609250877441\n",
      "ref_tweed_id 0\n",
      "default 455\n",
      "basic search 455 \n",
      "\n",
      "tweet_id 1212493609477529600\n",
      "ref_tweed_id 1211893396215910400\n",
      "default 23924\n",
      "after search 31210 \n",
      "\n",
      "tweet_id 1212493630721671170\n",
      "ref_tweed_id 0\n",
      "default 25803\n",
      "basic search 48040 \n",
      "\n",
      "tweet_id 1212493665328861184\n",
      "ref_tweed_id 0\n",
      "default 600\n",
      "basic search 600 \n",
      "\n",
      "tweet_id 1212493663458205701\n",
      "ref_tweed_id 0\n",
      "default 3643\n",
      "basic search 4063 \n",
      "\n",
      "tweet_id 1212493673272872960\n",
      "ref_tweed_id 0\n",
      "default 352\n",
      "basic search 352 \n",
      "\n",
      "tweet_id 1212493678561955840\n",
      "ref_tweed_id 0\n",
      "default 1166\n",
      "basic search 1166 \n",
      "\n",
      "tweet_id 1212493679476133888\n",
      "ref_tweed_id 0\n",
      "default 43105\n",
      "basic search 86238 \n",
      "\n",
      "tweet_id 1212493683985145857\n",
      "ref_tweed_id 0\n",
      "default 6122\n",
      "basic search 6122 \n",
      "\n",
      "tweet_id 1212493686426284032\n",
      "ref_tweed_id 0\n",
      "default 1913\n",
      "basic search 4001 \n",
      "\n",
      "tweet_id 1212493692231176192\n",
      "ref_tweed_id 0\n",
      "default 88306\n",
      "basic search 88629 \n",
      "\n",
      "tweet_id 1212493694273761281\n",
      "ref_tweed_id 0\n",
      "default 498\n",
      "basic search 498 \n",
      "\n",
      "tweet_id 1212493697847365632\n",
      "ref_tweed_id 1212057530832228352\n",
      "default 1400\n",
      "after search 1400 \n",
      "\n",
      "tweet_id 1212493697981530112\n",
      "ref_tweed_id 0\n",
      "default 83\n",
      "basic search 83 \n",
      "\n",
      "tweet_id 1212538803203772416\n",
      "ref_tweed_id 0\n",
      "default 312\n",
      "basic search 1933 \n",
      "\n",
      "tweet_id 1212538804734693376\n",
      "ref_tweed_id 0\n",
      "default 4711\n",
      "basic search 33813 \n",
      "\n",
      "tweet_id 1212538806865399810\n",
      "ref_tweed_id 0\n",
      "default 729\n",
      "basic search 729 \n",
      "\n",
      "tweet_id 1212538813274370048\n",
      "ref_tweed_id 0\n",
      "default 174\n",
      "basic search 174 \n",
      "\n",
      "tweet_id 1212538817086930944\n",
      "ref_tweed_id 0\n",
      "default 6504\n",
      "basic search 8232 \n",
      "\n",
      "tweet_id 1212538821767815168\n",
      "ref_tweed_id 0\n",
      "default 1085\n",
      "basic search 1085 \n",
      "\n",
      "tweet_id 1212538861781430272\n",
      "ref_tweed_id 1212483054985457664\n",
      "default 54370\n",
      "after search 54370 \n",
      "\n",
      "tweet_id 1212538874829967365\n",
      "ref_tweed_id 1212437410811916288\n",
      "default 7332\n",
      "after search 7332 \n",
      "\n",
      "tweet_id 1212538886695444481\n",
      "ref_tweed_id 0\n",
      "default 351\n",
      "basic search 351 \n",
      "\n",
      "tweet_id 1212538909097385984\n",
      "ref_tweed_id 0\n",
      "default 511\n",
      "basic search 1237 \n",
      "\n",
      "tweet_id 1212538931704561665\n",
      "ref_tweed_id 0\n",
      "default 420\n",
      "basic search 420 \n",
      "\n",
      "tweet_id 1212538929422823424\n",
      "ref_tweed_id 0\n",
      "default 62\n",
      "basic search 327 \n",
      "\n",
      "tweet_id 1212538931629187073\n",
      "ref_tweed_id 0\n",
      "default 430\n",
      "basic search 789 \n",
      "\n",
      "tweet_id 1212538932493193216\n",
      "ref_tweed_id 0\n",
      "default 41\n",
      "basic search 22580 \n",
      "\n",
      "tweet_id 1212538957239476224\n",
      "ref_tweed_id 0\n",
      "default 6879\n",
      "basic search 6879 \n",
      "\n",
      "tweet_id 1212538967654125568\n",
      "ref_tweed_id 0\n",
      "default 489\n",
      "basic search 16940 \n",
      "\n",
      "tweet_id 1212538969088516097\n",
      "ref_tweed_id 0\n",
      "default 596\n",
      "basic search 3460 \n",
      "\n",
      "tweet_id 1212538996926099462\n",
      "ref_tweed_id 0\n",
      "default 144\n",
      "basic search 144 \n",
      "\n",
      "tweet_id 1212644105257226242\n",
      "ref_tweed_id 0\n",
      "default 567\n",
      "basic search 749 \n",
      "\n",
      "tweet_id 1212644128082812928\n",
      "ref_tweed_id 0\n",
      "default 886\n",
      "basic search 886 \n",
      "\n",
      "tweet_id 1212644275831242758\n",
      "ref_tweed_id 0\n",
      "default 5776\n",
      "basic search 5776 \n",
      "\n",
      "tweet_id 1212644280264728576\n",
      "ref_tweed_id 0\n",
      "default 301\n",
      "basic search 301 \n",
      "\n",
      "tweet_id 1212644290544967681\n",
      "ref_tweed_id 0\n",
      "default 158\n",
      "basic search 341 \n",
      "\n",
      "tweet_id 1212644295531843589\n",
      "ref_tweed_id 1212256918061961216\n",
      "default 1376\n",
      "after search 1376 \n",
      "\n",
      "tweet_id 1212644314918084609\n",
      "ref_tweed_id 0\n",
      "default 1651\n",
      "basic search 5139 \n",
      "\n",
      "tweet_id 1212644492680949761\n",
      "ref_tweed_id 0\n",
      "default 3590\n",
      "basic search 3590 \n",
      "\n",
      "tweet_id 1212644506992041984\n",
      "ref_tweed_id 0\n",
      "default 110120\n",
      "basic search 110120 \n",
      "\n",
      "tweet_id 1212644517821714432\n",
      "ref_tweed_id 0\n",
      "default 186\n",
      "basic search 186 \n",
      "\n",
      "tweet_id 1212644565091586049\n",
      "ref_tweed_id 1212601196290215936\n",
      "default 552\n",
      "after search 552 \n",
      "\n",
      "tweet_id 1212644570514653184\n",
      "ref_tweed_id 0\n",
      "default 2190\n",
      "basic search 2190 \n",
      "\n",
      "tweet_id 1212644600885792768\n",
      "ref_tweed_id 1212642075549806592\n",
      "default 325\n",
      "after search 2506 \n",
      "\n",
      "tweet_id 1212644655923441664\n",
      "ref_tweed_id 0\n",
      "default 1588\n",
      "basic search 1588 \n",
      "\n",
      "tweet_id 1212734876325228544\n",
      "ref_tweed_id 0\n",
      "default 97\n",
      "basic search 97 \n",
      "\n",
      "tweet_id 1212734988996816896\n",
      "ref_tweed_id 0\n",
      "default 1671\n",
      "basic search 1671 \n",
      "\n",
      "tweet_id 1212735014410031104\n",
      "ref_tweed_id 0\n",
      "default 435\n",
      "basic search 435 \n",
      "\n",
      "tweet_id 1212735030813843457\n",
      "ref_tweed_id 0\n",
      "default 189\n",
      "basic search 189 \n",
      "\n",
      "tweet_id 1212735047167594497\n",
      "ref_tweed_id 1212492165844291584\n",
      "default 766\n",
      "after search 766 \n",
      "\n",
      "tweet_id 1212735094298959872\n",
      "ref_tweed_id 0\n",
      "default 1057\n",
      "basic search 2114 \n",
      "\n",
      "tweet_id 1212735119045386242\n",
      "ref_tweed_id 0\n",
      "default 720\n",
      "basic search 720 \n",
      "\n",
      "tweet_id 1212735162980741120\n",
      "ref_tweed_id 0\n",
      "default 8703\n",
      "basic search 8703 \n",
      "\n",
      "tweet_id 1212735179506307072\n",
      "ref_tweed_id 1212235605184303104\n",
      "default 13308\n",
      "after search 13308 \n",
      "\n",
      "tweet_id 1212735186653401088\n",
      "ref_tweed_id 0\n",
      "default 322708\n",
      "basic search 826989 \n",
      "\n",
      "tweet_id 1212735197382402048\n",
      "ref_tweed_id 0\n",
      "default 251\n",
      "basic search 646 \n",
      "\n",
      "tweet_id 1212735240269189121\n",
      "ref_tweed_id 0\n",
      "default 377\n",
      "basic search 2625 \n",
      "\n",
      "tweet_id 1212735246870994944\n",
      "ref_tweed_id 1212731503815413760\n",
      "default 10214\n",
      "after search 10214 \n",
      "\n",
      "tweet_id 1212735274712584192\n",
      "ref_tweed_id 0\n",
      "default 1176\n",
      "basic search 1176 \n",
      "\n",
      "tweet_id 1212735280240906242\n",
      "ref_tweed_id 0\n",
      "default 260\n",
      "basic search 2530 \n",
      "\n",
      "tweet_id 1212810591468969986\n",
      "ref_tweed_id 0\n",
      "default 299\n",
      "basic search 299 \n",
      "\n",
      "tweet_id 1212810594107166721\n",
      "ref_tweed_id 1212799699725496320\n",
      "default 1415\n",
      "after search 1415 \n",
      "\n",
      "tweet_id 1212810594765737985\n",
      "ref_tweed_id 0\n",
      "default 684\n",
      "basic search 684 \n",
      "\n",
      "tweet_id 1212810600394264576\n",
      "ref_tweed_id 0\n",
      "default 74294\n",
      "basic search 74294 \n",
      "\n",
      "tweet_id 1212810613765922819\n",
      "ref_tweed_id 0\n",
      "default 252\n",
      "basic search 1602 \n",
      "\n",
      "tweet_id 1212810633839669253\n",
      "ref_tweed_id 0\n",
      "default 1567\n",
      "basic search 1567 \n",
      "\n",
      "tweet_id 1212810638864650241\n",
      "ref_tweed_id 0\n",
      "default 303\n",
      "basic search 303 \n",
      "\n",
      "tweet_id 1212810642941300736\n",
      "ref_tweed_id 0\n",
      "default 350\n",
      "basic search 350 \n",
      "\n",
      "tweet_id 1212810646129008641\n",
      "ref_tweed_id 0\n",
      "default 1569\n",
      "basic search 20147 \n",
      "\n",
      "tweet_id 1212810670829273088\n",
      "ref_tweed_id 0\n",
      "default 467\n",
      "basic search 2663 \n",
      "\n",
      "tweet_id 1212810679616327680\n",
      "ref_tweed_id 0\n",
      "default 4868\n",
      "basic search 29775 \n",
      "\n",
      "tweet_id 1212810691012263937\n",
      "ref_tweed_id 0\n",
      "default 239\n",
      "basic search 239 \n",
      "\n",
      "tweet_id 1212810698297876480\n",
      "ref_tweed_id 1212765492995350528\n",
      "default 201607\n",
      "after search 201607 \n",
      "\n",
      "tweet_id 1212810713426726913\n",
      "ref_tweed_id 0\n",
      "default 450\n",
      "basic search 617 \n",
      "\n",
      "tweet_id 1212810717180547072\n",
      "ref_tweed_id 0\n",
      "default 1462\n",
      "basic search 2197 \n",
      "\n",
      "tweet_id 1212810730321465344\n",
      "ref_tweed_id 0\n",
      "default 335\n",
      "basic search 335 \n",
      "\n",
      "tweet_id 1212810735748816898\n",
      "ref_tweed_id 0\n",
      "default 13391\n",
      "basic search 18765 \n",
      "\n",
      "tweet_id 1212810739255304193\n",
      "ref_tweed_id 1212709953410129920\n",
      "default 48704\n",
      "after search 48704 \n",
      "\n",
      "tweet_id 1212810766736384006\n",
      "ref_tweed_id 0\n",
      "default 1600\n",
      "basic search 1643 \n",
      "\n",
      "tweet_id 1212810783308046339\n",
      "ref_tweed_id 0\n",
      "default 5954\n",
      "basic search 11908 \n",
      "\n",
      "tweet_id 1212810790064906240\n",
      "ref_tweed_id 0\n",
      "default 169\n",
      "basic search 169 \n",
      "\n",
      "tweet_id 1212855900005896192\n",
      "ref_tweed_id 0\n",
      "default 40239\n",
      "basic search 40614 \n",
      "\n",
      "tweet_id 1212855910059528192\n",
      "ref_tweed_id 1212851566857687040\n",
      "default 339\n",
      "after search 339 \n",
      "\n",
      "tweet_id 1212855909480882176\n",
      "ref_tweed_id 0\n",
      "default 18039\n",
      "basic search 18039 \n",
      "\n",
      "tweet_id 1212855917018001409\n",
      "ref_tweed_id 0\n",
      "default 4506\n",
      "basic search 8761 \n",
      "\n",
      "tweet_id 1212855918221824001\n",
      "ref_tweed_id 1212850181315674112\n",
      "default 30587\n",
      "after search 30587 \n",
      "\n",
      "tweet_id 1212855943333064704\n",
      "ref_tweed_id 0\n",
      "default 192245\n",
      "basic search 198507 \n",
      "\n",
      "tweet_id 1212855960030588931\n",
      "ref_tweed_id 0\n",
      "default 909\n",
      "basic search 1747 \n",
      "\n",
      "tweet_id 1212855963163746304\n",
      "ref_tweed_id 0\n",
      "default 171\n",
      "basic search 232 \n",
      "\n",
      "tweet_id 1212855964145246214\n",
      "ref_tweed_id 0\n",
      "default 5086\n",
      "basic search 5086 \n",
      "\n",
      "tweet_id 1212855976103165953\n",
      "ref_tweed_id 0\n",
      "default 288\n",
      "basic search 6345 \n",
      "\n",
      "tweet_id 1212855980519821313\n",
      "ref_tweed_id 0\n",
      "default 670\n",
      "basic search 670 \n",
      "\n",
      "tweet_id 1212855990267211779\n",
      "ref_tweed_id 0\n",
      "default 406\n",
      "basic search 406 \n",
      "\n",
      "tweet_id 1212855999226417152\n",
      "ref_tweed_id 1212568099062517760\n",
      "default 670\n",
      "after search 670 \n",
      "\n",
      "tweet_id 1212856015668031490\n",
      "ref_tweed_id 0\n",
      "default 787\n",
      "basic search 787 \n",
      "\n",
      "tweet_id 1212856038166278144\n",
      "ref_tweed_id 1212421673628119040\n",
      "default 1132\n",
      "after search 1132 \n",
      "\n",
      "tweet_id 1212856036219969536\n",
      "ref_tweed_id 0\n",
      "default 1639\n",
      "basic search 2250 \n",
      "\n",
      "tweet_id 1212856034936655872\n",
      "ref_tweed_id 0\n",
      "default 1157\n",
      "basic search 1157 \n",
      "\n",
      "tweet_id 1212856049063071744\n",
      "ref_tweed_id 0\n",
      "default 1854\n",
      "basic search 11465 \n",
      "\n",
      "tweet_id 1212856067681599488\n",
      "ref_tweed_id 1024291642222817280\n",
      "default 4272\n",
      "after search 20438 \n",
      "\n",
      "tweet_id 1212856079044038658\n",
      "ref_tweed_id 0\n",
      "default 6445\n",
      "basic search 6445 \n",
      "\n",
      "tweet_id 1212856077064253440\n",
      "ref_tweed_id 1212793020866842624\n",
      "default 2640\n",
      "after search 2640 \n",
      "\n",
      "tweet_id 1212901180063584262\n",
      "ref_tweed_id 0\n",
      "default 1977\n",
      "basic search 9355 \n",
      "\n",
      "tweet_id 1212901191757127680\n",
      "ref_tweed_id 1212786686238740480\n",
      "default 35269\n",
      "after search 35269 \n",
      "\n",
      "tweet_id 1212901190553554945\n",
      "ref_tweed_id 0\n",
      "default 3517\n",
      "basic search 10275 \n",
      "\n",
      "tweet_id 1212901214523801600\n",
      "ref_tweed_id 1212867036411392000\n",
      "default 807\n",
      "after search 807 \n",
      "\n",
      "tweet_id 1212901220823764992\n",
      "ref_tweed_id 0\n",
      "default 406\n",
      "basic search 8675 \n",
      "\n",
      "tweet_id 1212901235164172288\n",
      "ref_tweed_id 0\n",
      "default 3494\n",
      "basic search 123125 \n",
      "\n",
      "tweet_id 1212901241493307392\n",
      "ref_tweed_id 0\n",
      "default 30119\n",
      "basic search 30119 \n",
      "\n",
      "tweet_id 1212901246388047873\n",
      "ref_tweed_id 1212856022404157440\n",
      "default 2568\n",
      "after search 2568 \n",
      "\n",
      "tweet_id 1212901248971591680\n",
      "ref_tweed_id 0\n",
      "default 547\n",
      "basic search 547 \n",
      "\n",
      "tweet_id 1212901258157285388\n",
      "ref_tweed_id 0\n",
      "default 75\n",
      "basic search 75 \n",
      "\n",
      "tweet_id 1212901263551188994\n",
      "ref_tweed_id 0\n",
      "default 1044\n",
      "basic search 1044 \n",
      "\n",
      "tweet_id 1212901262473084928\n",
      "ref_tweed_id 0\n",
      "default 3993\n",
      "basic search 4139 \n",
      "\n",
      "tweet_id 1212901265941897216\n",
      "ref_tweed_id 0\n",
      "default 7128\n",
      "basic search 7128 \n",
      "\n",
      "tweet_id 1212901272564703232\n",
      "ref_tweed_id 0\n",
      "default 6193\n",
      "basic search 6193 \n",
      "\n",
      "tweet_id 1212901339447078913\n",
      "ref_tweed_id 0\n",
      "default 169\n",
      "basic search 236 \n",
      "\n",
      "tweet_id 1212901383378210816\n",
      "ref_tweed_id 0\n",
      "default 1174\n",
      "basic search 3889 \n",
      "\n",
      "tweet_id 1213006601797292032\n",
      "ref_tweed_id 0\n",
      "default 55256\n",
      "basic search 55256 \n",
      "\n",
      "tweet_id 1213006614233407488\n",
      "ref_tweed_id 0\n",
      "default 155\n",
      "basic search 155 \n",
      "\n",
      "tweet_id 1213006636975054848\n",
      "ref_tweed_id 0\n",
      "default 26533\n",
      "basic search 26533 \n",
      "\n",
      "tweet_id 1213006661092290560\n",
      "ref_tweed_id 0\n",
      "default 14473\n",
      "basic search 14473 \n",
      "\n",
      "tweet_id 1213006670558744576\n",
      "ref_tweed_id 0\n",
      "default 470\n",
      "basic search 470 \n",
      "\n",
      "tweet_id 1213006700803788801\n",
      "ref_tweed_id 0\n",
      "default 3183\n",
      "basic search 5523 \n",
      "\n",
      "tweet_id 1213006738384920576\n",
      "ref_tweed_id 1212949253217247232\n",
      "default 4212\n",
      "after search 4212 \n",
      "\n",
      "tweet_id 1213006922330312704\n",
      "ref_tweed_id 0\n",
      "default 866\n",
      "basic search 3867 \n",
      "\n",
      "tweet_id 1213006962721357824\n",
      "ref_tweed_id 0\n",
      "default 18880\n",
      "basic search 22994 \n",
      "\n",
      "tweet_id 1213006966622060545\n",
      "ref_tweed_id 1212846316281311232\n",
      "default 2503\n",
      "after search 2503 \n",
      "\n",
      "tweet_id 1213006987157495809\n",
      "ref_tweed_id 0\n",
      "default 8219\n",
      "basic search 8219 \n",
      "\n",
      "tweet_id 1213007041775706113\n",
      "ref_tweed_id 0\n",
      "default 3969\n",
      "basic search 3969 \n",
      "\n",
      "tweet_id 1213007049208082432\n",
      "ref_tweed_id 0\n",
      "default 513\n",
      "basic search 513 \n",
      "\n",
      "tweet_id 1213097346084540416\n",
      "ref_tweed_id 0\n",
      "default 800\n",
      "basic search 800 \n",
      "\n",
      "tweet_id 1213097355886682113\n",
      "ref_tweed_id 1212978103007535104\n",
      "default 1529\n",
      "after search 1529 \n",
      "\n",
      "tweet_id 1213097362333294592\n",
      "ref_tweed_id 0\n",
      "default 2297\n",
      "basic search 2654 \n",
      "\n",
      "tweet_id 1213097369421647873\n",
      "ref_tweed_id 0\n",
      "default 1208\n",
      "basic search 1208 \n",
      "\n",
      "tweet_id 1213097377353084928\n",
      "ref_tweed_id 1212761465704370176\n",
      "default 7122\n",
      "after search 7122 \n",
      "\n",
      "tweet_id 1213097379848769536\n",
      "ref_tweed_id 0\n",
      "default 16534\n",
      "basic search 50077 \n",
      "\n",
      "tweet_id 1213097393153093634\n",
      "ref_tweed_id 0\n",
      "default 7379\n",
      "basic search 7379 \n",
      "\n",
      "tweet_id 1213097427164684289\n",
      "ref_tweed_id 0\n",
      "default 46\n",
      "basic search 105 \n",
      "\n",
      "tweet_id 1213097440594857984\n",
      "ref_tweed_id 0\n",
      "default 973\n",
      "basic search 973 \n",
      "\n",
      "tweet_id 1213097446936600578\n",
      "ref_tweed_id 1213097073857445888\n",
      "default 9314\n",
      "after search 9314 \n",
      "\n",
      "tweet_id 1213097450870857728\n",
      "ref_tweed_id 0\n",
      "default 23\n",
      "basic search 292 \n",
      "\n",
      "tweet_id 1213097454725476354\n",
      "ref_tweed_id 0\n",
      "default 144\n",
      "basic search 1109 \n",
      "\n",
      "tweet_id 1213097471334707200\n",
      "ref_tweed_id 1212376543101517824\n",
      "default 10665\n",
      "after search 10665 \n",
      "\n",
      "tweet_id 1213097497704517632\n",
      "ref_tweed_id 0\n",
      "default 1041\n",
      "basic search 1041 \n",
      "\n",
      "tweet_id 1213097502347534337\n",
      "ref_tweed_id 0\n",
      "default 1038\n",
      "basic search 2102 \n",
      "\n",
      "tweet_id 1213097509435908096\n",
      "ref_tweed_id 1212840467156459520\n",
      "default 1387\n",
      "after search 1387 \n",
      "\n",
      "tweet_id 1213097531388911616\n",
      "ref_tweed_id 0\n",
      "default 871\n",
      "basic search 871 \n",
      "\n",
      "tweet_id 1213097566117740544\n",
      "ref_tweed_id 0\n",
      "default 689\n",
      "basic search 889 \n",
      "\n",
      "tweet_id 1213097565740261382\n",
      "ref_tweed_id 0\n",
      "default 295\n",
      "basic search 295 \n",
      "\n",
      "tweet_id 1213097612095574016\n",
      "ref_tweed_id 0\n",
      "default 796\n",
      "basic search 796 \n",
      "\n",
      "tweet_id 1213097625987276802\n",
      "ref_tweed_id 0\n",
      "default 96\n",
      "basic search 649 \n",
      "\n",
      "tweet_id 1213097674368520193\n",
      "ref_tweed_id 0\n",
      "default 652\n",
      "basic search 652 \n",
      "\n",
      "tweet_id 1213097679728914433\n",
      "ref_tweed_id 0\n",
      "default 2721\n",
      "basic search 5442 \n",
      "\n",
      "tweet_id 1213172968886620160\n",
      "ref_tweed_id 1213168637839912960\n",
      "default 1386\n",
      "after search 1386 \n",
      "\n",
      "tweet_id 1213172974519500800\n",
      "ref_tweed_id 0\n",
      "default 6513\n",
      "basic search 6513 \n",
      "\n",
      "tweet_id 1213172977858154496\n",
      "ref_tweed_id 1210781229580079104\n",
      "default 937\n",
      "after search 937 \n",
      "\n",
      "tweet_id 1213172983780372480\n",
      "ref_tweed_id 1212910962715455488\n",
      "default 30544\n",
      "after search 30544 \n",
      "\n",
      "tweet_id 1213173026004574208\n",
      "ref_tweed_id 0\n",
      "default 23632\n",
      "basic search 23632 \n",
      "\n",
      "tweet_id 1213173027203993600\n",
      "ref_tweed_id 0\n",
      "default 277\n",
      "basic search 277 \n",
      "\n",
      "tweet_id 1213173041099870208\n",
      "ref_tweed_id 1212832301983436800\n",
      "default 5751\n",
      "after search 16437 \n",
      "\n",
      "tweet_id 1213173051346436097\n",
      "ref_tweed_id 0\n",
      "default 137\n",
      "basic search 137 \n",
      "\n",
      "tweet_id 1213173050587246592\n",
      "ref_tweed_id 1213163128093052928\n",
      "default 2116\n",
      "after search 2116 \n",
      "\n",
      "tweet_id 1213173071554732032\n",
      "ref_tweed_id 0\n",
      "default 4915\n",
      "basic search 35492 \n",
      "\n",
      "tweet_id 1213173075589636096\n",
      "ref_tweed_id 0\n",
      "default 11359\n",
      "basic search 11402 \n",
      "\n",
      "tweet_id 1213173074809511941\n",
      "ref_tweed_id 1213135967630041088\n",
      "default 5609\n",
      "after search 5609 \n",
      "\n",
      "tweet_id 1213173086830440450\n",
      "ref_tweed_id 0\n",
      "default 481\n",
      "basic search 481 \n",
      "\n",
      "tweet_id 1213173089615384581\n",
      "ref_tweed_id 1213171785866170368\n",
      "default 868207\n",
      "after search 868207 \n",
      "\n",
      "tweet_id 1213173094107533319\n",
      "ref_tweed_id 0\n",
      "default 38622\n",
      "basic search 38622 \n",
      "\n",
      "tweet_id 1213173091326545920\n",
      "ref_tweed_id 1213160075252121600\n",
      "default 22751\n",
      "after search 22751 \n",
      "\n",
      "tweet_id 1213173102760333315\n",
      "ref_tweed_id 1212961930446438400\n",
      "default 1561\n",
      "after search 1561 \n",
      "\n",
      "tweet_id 1213173113195827201\n",
      "ref_tweed_id 0\n",
      "default 20393\n",
      "basic search 26612 \n",
      "\n",
      "tweet_id 1213173141452861441\n",
      "ref_tweed_id 0\n",
      "default 1830\n",
      "basic search 3660 \n",
      "\n",
      "tweet_id 1213173157735141376\n",
      "ref_tweed_id 0\n",
      "default 503\n",
      "basic search 1006 \n",
      "\n",
      "tweet_id 1213173170854912008\n",
      "ref_tweed_id 1213172203744845824\n",
      "default 63538\n",
      "after search 63538 \n",
      "\n",
      "tweet_id 1213218262240116736\n",
      "ref_tweed_id 1212893839154962432\n",
      "default 1065\n",
      "after search 1065 \n",
      "\n",
      "tweet_id 1213218281076805633\n",
      "ref_tweed_id 0\n",
      "default 1115\n",
      "basic search 1132 \n",
      "\n",
      "tweet_id 1213218285371756552\n",
      "ref_tweed_id 1213203974653767680\n",
      "default 1847\n",
      "after search 1847 \n",
      "\n",
      "tweet_id 1213218292011339780\n",
      "ref_tweed_id 0\n",
      "default 1802\n",
      "basic search 1802 \n",
      "\n"
     ]
    },
    {
     "ename": "KeyboardInterrupt",
     "evalue": "",
     "output_type": "error",
     "traceback": [
      "\u001B[0;31m---------------------------------------------------------------------------\u001B[0m",
      "\u001B[0;31mKeyboardInterrupt\u001B[0m                         Traceback (most recent call last)",
      "Input \u001B[0;32mIn [198]\u001B[0m, in \u001B[0;36m<cell line: 1>\u001B[0;34m()\u001B[0m\n\u001B[0;32m----> 1\u001B[0m df_tweets[\u001B[38;5;124m'\u001B[39m\u001B[38;5;124mreach\u001B[39m\u001B[38;5;124m'\u001B[39m] \u001B[38;5;241m=\u001B[39m \u001B[43mdf_tweets\u001B[49m\u001B[38;5;241;43m.\u001B[39;49m\u001B[43mapply\u001B[49m\u001B[43m(\u001B[49m\u001B[38;5;28;43;01mlambda\u001B[39;49;00m\u001B[43m \u001B[49m\u001B[43mtweet_row\u001B[49m\u001B[43m:\u001B[49m\u001B[43m \u001B[49m\u001B[43mcalculate_tweet_reach\u001B[49m\u001B[43m(\u001B[49m\u001B[43mtweet_row\u001B[49m\u001B[43m[\u001B[49m\u001B[38;5;124;43m'\u001B[39;49m\u001B[38;5;124;43mtweet_id\u001B[39;49m\u001B[38;5;124;43m'\u001B[39;49m\u001B[43m]\u001B[49m\u001B[43m,\u001B[49m\u001B[43m \u001B[49m\u001B[43mtweet_row\u001B[49m\u001B[43m[\u001B[49m\u001B[38;5;124;43m'\u001B[39;49m\u001B[38;5;124;43muser_id\u001B[39;49m\u001B[38;5;124;43m'\u001B[39;49m\u001B[43m]\u001B[49m\u001B[43m,\u001B[49m\u001B[43m \u001B[49m\u001B[43mtweet_row\u001B[49m\u001B[43m[\u001B[49m\u001B[38;5;124;43m'\u001B[39;49m\u001B[38;5;124;43mtopics\u001B[39;49m\u001B[38;5;124;43m'\u001B[39;49m\u001B[43m]\u001B[49m\u001B[43m,\u001B[49m\u001B[43m \u001B[49m\u001B[43mtweet_row\u001B[49m\u001B[43m[\u001B[49m\u001B[38;5;124;43m'\u001B[39;49m\u001B[38;5;124;43mretweet_count\u001B[39;49m\u001B[38;5;124;43m'\u001B[39;49m\u001B[43m]\u001B[49m\u001B[43m,\u001B[49m\u001B[43m \u001B[49m\u001B[43mtweet_row\u001B[49m\u001B[43m[\u001B[49m\u001B[38;5;124;43m'\u001B[39;49m\u001B[38;5;124;43mref_tweed_id\u001B[39;49m\u001B[38;5;124;43m'\u001B[39;49m\u001B[43m]\u001B[49m\u001B[43m)\u001B[49m\u001B[43m,\u001B[49m\u001B[43m \u001B[49m\u001B[43maxis\u001B[49m\u001B[38;5;241;43m=\u001B[39;49m\u001B[38;5;241;43m1\u001B[39;49m\u001B[43m)\u001B[49m\n\u001B[1;32m      2\u001B[0m df_tweets\u001B[38;5;241m.\u001B[39mhead(\u001B[38;5;241m5\u001B[39m)\n",
      "File \u001B[0;32m~/PycharmProjects/InformationFlow/venv/lib/python3.8/site-packages/pandas/core/frame.py:8839\u001B[0m, in \u001B[0;36mDataFrame.apply\u001B[0;34m(self, func, axis, raw, result_type, args, **kwargs)\u001B[0m\n\u001B[1;32m   8828\u001B[0m \u001B[38;5;28;01mfrom\u001B[39;00m \u001B[38;5;21;01mpandas\u001B[39;00m\u001B[38;5;21;01m.\u001B[39;00m\u001B[38;5;21;01mcore\u001B[39;00m\u001B[38;5;21;01m.\u001B[39;00m\u001B[38;5;21;01mapply\u001B[39;00m \u001B[38;5;28;01mimport\u001B[39;00m frame_apply\n\u001B[1;32m   8830\u001B[0m op \u001B[38;5;241m=\u001B[39m frame_apply(\n\u001B[1;32m   8831\u001B[0m     \u001B[38;5;28mself\u001B[39m,\n\u001B[1;32m   8832\u001B[0m     func\u001B[38;5;241m=\u001B[39mfunc,\n\u001B[0;32m   (...)\u001B[0m\n\u001B[1;32m   8837\u001B[0m     kwargs\u001B[38;5;241m=\u001B[39mkwargs,\n\u001B[1;32m   8838\u001B[0m )\n\u001B[0;32m-> 8839\u001B[0m \u001B[38;5;28;01mreturn\u001B[39;00m \u001B[43mop\u001B[49m\u001B[38;5;241;43m.\u001B[39;49m\u001B[43mapply\u001B[49m\u001B[43m(\u001B[49m\u001B[43m)\u001B[49m\u001B[38;5;241m.\u001B[39m__finalize__(\u001B[38;5;28mself\u001B[39m, method\u001B[38;5;241m=\u001B[39m\u001B[38;5;124m\"\u001B[39m\u001B[38;5;124mapply\u001B[39m\u001B[38;5;124m\"\u001B[39m)\n",
      "File \u001B[0;32m~/PycharmProjects/InformationFlow/venv/lib/python3.8/site-packages/pandas/core/apply.py:727\u001B[0m, in \u001B[0;36mFrameApply.apply\u001B[0;34m(self)\u001B[0m\n\u001B[1;32m    724\u001B[0m \u001B[38;5;28;01melif\u001B[39;00m \u001B[38;5;28mself\u001B[39m\u001B[38;5;241m.\u001B[39mraw:\n\u001B[1;32m    725\u001B[0m     \u001B[38;5;28;01mreturn\u001B[39;00m \u001B[38;5;28mself\u001B[39m\u001B[38;5;241m.\u001B[39mapply_raw()\n\u001B[0;32m--> 727\u001B[0m \u001B[38;5;28;01mreturn\u001B[39;00m \u001B[38;5;28;43mself\u001B[39;49m\u001B[38;5;241;43m.\u001B[39;49m\u001B[43mapply_standard\u001B[49m\u001B[43m(\u001B[49m\u001B[43m)\u001B[49m\n",
      "File \u001B[0;32m~/PycharmProjects/InformationFlow/venv/lib/python3.8/site-packages/pandas/core/apply.py:851\u001B[0m, in \u001B[0;36mFrameApply.apply_standard\u001B[0;34m(self)\u001B[0m\n\u001B[1;32m    850\u001B[0m \u001B[38;5;28;01mdef\u001B[39;00m \u001B[38;5;21mapply_standard\u001B[39m(\u001B[38;5;28mself\u001B[39m):\n\u001B[0;32m--> 851\u001B[0m     results, res_index \u001B[38;5;241m=\u001B[39m \u001B[38;5;28;43mself\u001B[39;49m\u001B[38;5;241;43m.\u001B[39;49m\u001B[43mapply_series_generator\u001B[49m\u001B[43m(\u001B[49m\u001B[43m)\u001B[49m\n\u001B[1;32m    853\u001B[0m     \u001B[38;5;66;03m# wrap results\u001B[39;00m\n\u001B[1;32m    854\u001B[0m     \u001B[38;5;28;01mreturn\u001B[39;00m \u001B[38;5;28mself\u001B[39m\u001B[38;5;241m.\u001B[39mwrap_results(results, res_index)\n",
      "File \u001B[0;32m~/PycharmProjects/InformationFlow/venv/lib/python3.8/site-packages/pandas/core/apply.py:867\u001B[0m, in \u001B[0;36mFrameApply.apply_series_generator\u001B[0;34m(self)\u001B[0m\n\u001B[1;32m    864\u001B[0m \u001B[38;5;28;01mwith\u001B[39;00m option_context(\u001B[38;5;124m\"\u001B[39m\u001B[38;5;124mmode.chained_assignment\u001B[39m\u001B[38;5;124m\"\u001B[39m, \u001B[38;5;28;01mNone\u001B[39;00m):\n\u001B[1;32m    865\u001B[0m     \u001B[38;5;28;01mfor\u001B[39;00m i, v \u001B[38;5;129;01min\u001B[39;00m \u001B[38;5;28menumerate\u001B[39m(series_gen):\n\u001B[1;32m    866\u001B[0m         \u001B[38;5;66;03m# ignore SettingWithCopy here in case the user mutates\u001B[39;00m\n\u001B[0;32m--> 867\u001B[0m         results[i] \u001B[38;5;241m=\u001B[39m \u001B[38;5;28;43mself\u001B[39;49m\u001B[38;5;241;43m.\u001B[39;49m\u001B[43mf\u001B[49m\u001B[43m(\u001B[49m\u001B[43mv\u001B[49m\u001B[43m)\u001B[49m\n\u001B[1;32m    868\u001B[0m         \u001B[38;5;28;01mif\u001B[39;00m \u001B[38;5;28misinstance\u001B[39m(results[i], ABCSeries):\n\u001B[1;32m    869\u001B[0m             \u001B[38;5;66;03m# If we have a view on v, we need to make a copy because\u001B[39;00m\n\u001B[1;32m    870\u001B[0m             \u001B[38;5;66;03m#  series_generator will swap out the underlying data\u001B[39;00m\n\u001B[1;32m    871\u001B[0m             results[i] \u001B[38;5;241m=\u001B[39m results[i]\u001B[38;5;241m.\u001B[39mcopy(deep\u001B[38;5;241m=\u001B[39m\u001B[38;5;28;01mFalse\u001B[39;00m)\n",
      "Input \u001B[0;32mIn [198]\u001B[0m, in \u001B[0;36m<lambda>\u001B[0;34m(tweet_row)\u001B[0m\n\u001B[0;32m----> 1\u001B[0m df_tweets[\u001B[38;5;124m'\u001B[39m\u001B[38;5;124mreach\u001B[39m\u001B[38;5;124m'\u001B[39m] \u001B[38;5;241m=\u001B[39m df_tweets\u001B[38;5;241m.\u001B[39mapply(\u001B[38;5;28;01mlambda\u001B[39;00m tweet_row: \u001B[43mcalculate_tweet_reach\u001B[49m\u001B[43m(\u001B[49m\u001B[43mtweet_row\u001B[49m\u001B[43m[\u001B[49m\u001B[38;5;124;43m'\u001B[39;49m\u001B[38;5;124;43mtweet_id\u001B[39;49m\u001B[38;5;124;43m'\u001B[39;49m\u001B[43m]\u001B[49m\u001B[43m,\u001B[49m\u001B[43m \u001B[49m\u001B[43mtweet_row\u001B[49m\u001B[43m[\u001B[49m\u001B[38;5;124;43m'\u001B[39;49m\u001B[38;5;124;43muser_id\u001B[39;49m\u001B[38;5;124;43m'\u001B[39;49m\u001B[43m]\u001B[49m\u001B[43m,\u001B[49m\u001B[43m \u001B[49m\u001B[43mtweet_row\u001B[49m\u001B[43m[\u001B[49m\u001B[38;5;124;43m'\u001B[39;49m\u001B[38;5;124;43mtopics\u001B[39;49m\u001B[38;5;124;43m'\u001B[39;49m\u001B[43m]\u001B[49m\u001B[43m,\u001B[49m\u001B[43m \u001B[49m\u001B[43mtweet_row\u001B[49m\u001B[43m[\u001B[49m\u001B[38;5;124;43m'\u001B[39;49m\u001B[38;5;124;43mretweet_count\u001B[39;49m\u001B[38;5;124;43m'\u001B[39;49m\u001B[43m]\u001B[49m\u001B[43m,\u001B[49m\u001B[43m \u001B[49m\u001B[43mtweet_row\u001B[49m\u001B[43m[\u001B[49m\u001B[38;5;124;43m'\u001B[39;49m\u001B[38;5;124;43mref_tweed_id\u001B[39;49m\u001B[38;5;124;43m'\u001B[39;49m\u001B[43m]\u001B[49m\u001B[43m)\u001B[49m, axis\u001B[38;5;241m=\u001B[39m\u001B[38;5;241m1\u001B[39m)\n\u001B[1;32m      2\u001B[0m df_tweets\u001B[38;5;241m.\u001B[39mhead(\u001B[38;5;241m5\u001B[39m)\n",
      "Input \u001B[0;32mIn [195]\u001B[0m, in \u001B[0;36mcalculate_tweet_reach\u001B[0;34m(tweet_id, user_id, topics, retweets_count, ref_tweed_id)\u001B[0m\n\u001B[1;32m      1\u001B[0m \u001B[38;5;28;01mdef\u001B[39;00m \u001B[38;5;21mcalculate_tweet_reach\u001B[39m(tweet_id, user_id, topics, retweets_count, ref_tweed_id):\n\u001B[1;32m      2\u001B[0m     total_reach \u001B[38;5;241m=\u001B[39m \u001B[38;5;241m0\u001B[39m\n\u001B[0;32m----> 3\u001B[0m     total_reach \u001B[38;5;241m+\u001B[39m\u001B[38;5;241m=\u001B[39m df_users[\u001B[43mdf_users\u001B[49m\u001B[43m[\u001B[49m\u001B[38;5;124;43m'\u001B[39;49m\u001B[38;5;124;43muser_id\u001B[39;49m\u001B[38;5;124;43m'\u001B[39;49m\u001B[43m]\u001B[49m\u001B[43m \u001B[49m\u001B[38;5;241;43m==\u001B[39;49m\u001B[43m \u001B[49m\u001B[43muser_id\u001B[49m][\u001B[38;5;124m'\u001B[39m\u001B[38;5;124mfollowers\u001B[39m\u001B[38;5;124m'\u001B[39m]\u001B[38;5;241m.\u001B[39msum()\n\u001B[1;32m      4\u001B[0m     \u001B[38;5;28;01mif\u001B[39;00m topics \u001B[38;5;241m!=\u001B[39m \u001B[38;5;124m'\u001B[39m\u001B[38;5;124m[]\u001B[39m\u001B[38;5;124m'\u001B[39m \u001B[38;5;129;01mand\u001B[39;00m retweets_count \u001B[38;5;241m>\u001B[39m \u001B[38;5;241m0\u001B[39m:\n\u001B[1;32m      5\u001B[0m         \u001B[38;5;28mprint\u001B[39m(\u001B[38;5;124m\"\u001B[39m\u001B[38;5;124mtweet_id\u001B[39m\u001B[38;5;124m\"\u001B[39m, tweet_id)\n",
      "File \u001B[0;32m~/PycharmProjects/InformationFlow/venv/lib/python3.8/site-packages/pandas/core/ops/common.py:70\u001B[0m, in \u001B[0;36m_unpack_zerodim_and_defer.<locals>.new_method\u001B[0;34m(self, other)\u001B[0m\n\u001B[1;32m     66\u001B[0m             \u001B[38;5;28;01mreturn\u001B[39;00m \u001B[38;5;28mNotImplemented\u001B[39m\n\u001B[1;32m     68\u001B[0m other \u001B[38;5;241m=\u001B[39m item_from_zerodim(other)\n\u001B[0;32m---> 70\u001B[0m \u001B[38;5;28;01mreturn\u001B[39;00m \u001B[43mmethod\u001B[49m\u001B[43m(\u001B[49m\u001B[38;5;28;43mself\u001B[39;49m\u001B[43m,\u001B[49m\u001B[43m \u001B[49m\u001B[43mother\u001B[49m\u001B[43m)\u001B[49m\n",
      "File \u001B[0;32m~/PycharmProjects/InformationFlow/venv/lib/python3.8/site-packages/pandas/core/arraylike.py:40\u001B[0m, in \u001B[0;36mOpsMixin.__eq__\u001B[0;34m(self, other)\u001B[0m\n\u001B[1;32m     38\u001B[0m \u001B[38;5;129m@unpack_zerodim_and_defer\u001B[39m(\u001B[38;5;124m\"\u001B[39m\u001B[38;5;124m__eq__\u001B[39m\u001B[38;5;124m\"\u001B[39m)\n\u001B[1;32m     39\u001B[0m \u001B[38;5;28;01mdef\u001B[39;00m \u001B[38;5;21m__eq__\u001B[39m(\u001B[38;5;28mself\u001B[39m, other):\n\u001B[0;32m---> 40\u001B[0m     \u001B[38;5;28;01mreturn\u001B[39;00m \u001B[38;5;28;43mself\u001B[39;49m\u001B[38;5;241;43m.\u001B[39;49m\u001B[43m_cmp_method\u001B[49m\u001B[43m(\u001B[49m\u001B[43mother\u001B[49m\u001B[43m,\u001B[49m\u001B[43m \u001B[49m\u001B[43moperator\u001B[49m\u001B[38;5;241;43m.\u001B[39;49m\u001B[43meq\u001B[49m\u001B[43m)\u001B[49m\n",
      "File \u001B[0;32m~/PycharmProjects/InformationFlow/venv/lib/python3.8/site-packages/pandas/core/series.py:5623\u001B[0m, in \u001B[0;36mSeries._cmp_method\u001B[0;34m(self, other, op)\u001B[0m\n\u001B[1;32m   5620\u001B[0m rvalues \u001B[38;5;241m=\u001B[39m extract_array(other, extract_numpy\u001B[38;5;241m=\u001B[39m\u001B[38;5;28;01mTrue\u001B[39;00m, extract_range\u001B[38;5;241m=\u001B[39m\u001B[38;5;28;01mTrue\u001B[39;00m)\n\u001B[1;32m   5622\u001B[0m \u001B[38;5;28;01mwith\u001B[39;00m np\u001B[38;5;241m.\u001B[39merrstate(\u001B[38;5;28mall\u001B[39m\u001B[38;5;241m=\u001B[39m\u001B[38;5;124m\"\u001B[39m\u001B[38;5;124mignore\u001B[39m\u001B[38;5;124m\"\u001B[39m):\n\u001B[0;32m-> 5623\u001B[0m     res_values \u001B[38;5;241m=\u001B[39m \u001B[43mops\u001B[49m\u001B[38;5;241;43m.\u001B[39;49m\u001B[43mcomparison_op\u001B[49m\u001B[43m(\u001B[49m\u001B[43mlvalues\u001B[49m\u001B[43m,\u001B[49m\u001B[43m \u001B[49m\u001B[43mrvalues\u001B[49m\u001B[43m,\u001B[49m\u001B[43m \u001B[49m\u001B[43mop\u001B[49m\u001B[43m)\u001B[49m\n\u001B[1;32m   5625\u001B[0m \u001B[38;5;28;01mreturn\u001B[39;00m \u001B[38;5;28mself\u001B[39m\u001B[38;5;241m.\u001B[39m_construct_result(res_values, name\u001B[38;5;241m=\u001B[39mres_name)\n",
      "File \u001B[0;32m~/PycharmProjects/InformationFlow/venv/lib/python3.8/site-packages/pandas/core/ops/array_ops.py:286\u001B[0m, in \u001B[0;36mcomparison_op\u001B[0;34m(left, right, op)\u001B[0m\n\u001B[1;32m    283\u001B[0m     res_values \u001B[38;5;241m=\u001B[39m comp_method_OBJECT_ARRAY(op, lvalues, rvalues)\n\u001B[1;32m    285\u001B[0m \u001B[38;5;28;01melse\u001B[39;00m:\n\u001B[0;32m--> 286\u001B[0m     res_values \u001B[38;5;241m=\u001B[39m \u001B[43m_na_arithmetic_op\u001B[49m\u001B[43m(\u001B[49m\u001B[43mlvalues\u001B[49m\u001B[43m,\u001B[49m\u001B[43m \u001B[49m\u001B[43mrvalues\u001B[49m\u001B[43m,\u001B[49m\u001B[43m \u001B[49m\u001B[43mop\u001B[49m\u001B[43m,\u001B[49m\u001B[43m \u001B[49m\u001B[43mis_cmp\u001B[49m\u001B[38;5;241;43m=\u001B[39;49m\u001B[38;5;28;43;01mTrue\u001B[39;49;00m\u001B[43m)\u001B[49m\n\u001B[1;32m    288\u001B[0m \u001B[38;5;28;01mreturn\u001B[39;00m res_values\n",
      "File \u001B[0;32m~/PycharmProjects/InformationFlow/venv/lib/python3.8/site-packages/pandas/core/ops/array_ops.py:163\u001B[0m, in \u001B[0;36m_na_arithmetic_op\u001B[0;34m(left, right, op, is_cmp)\u001B[0m\n\u001B[1;32m    160\u001B[0m     func \u001B[38;5;241m=\u001B[39m partial(expressions\u001B[38;5;241m.\u001B[39mevaluate, op)\n\u001B[1;32m    162\u001B[0m \u001B[38;5;28;01mtry\u001B[39;00m:\n\u001B[0;32m--> 163\u001B[0m     result \u001B[38;5;241m=\u001B[39m \u001B[43mfunc\u001B[49m\u001B[43m(\u001B[49m\u001B[43mleft\u001B[49m\u001B[43m,\u001B[49m\u001B[43m \u001B[49m\u001B[43mright\u001B[49m\u001B[43m)\u001B[49m\n\u001B[1;32m    164\u001B[0m \u001B[38;5;28;01mexcept\u001B[39;00m \u001B[38;5;167;01mTypeError\u001B[39;00m:\n\u001B[1;32m    165\u001B[0m     \u001B[38;5;28;01mif\u001B[39;00m \u001B[38;5;129;01mnot\u001B[39;00m is_cmp \u001B[38;5;129;01mand\u001B[39;00m (is_object_dtype(left\u001B[38;5;241m.\u001B[39mdtype) \u001B[38;5;129;01mor\u001B[39;00m is_object_dtype(right)):\n\u001B[1;32m    166\u001B[0m         \u001B[38;5;66;03m# For object dtype, fallback to a masked operation (only operating\u001B[39;00m\n\u001B[1;32m    167\u001B[0m         \u001B[38;5;66;03m#  on the non-missing values)\u001B[39;00m\n\u001B[1;32m    168\u001B[0m         \u001B[38;5;66;03m# Don't do this for comparisons, as that will handle complex numbers\u001B[39;00m\n\u001B[1;32m    169\u001B[0m         \u001B[38;5;66;03m#  incorrectly, see GH#32047\u001B[39;00m\n",
      "File \u001B[0;32m~/PycharmProjects/InformationFlow/venv/lib/python3.8/site-packages/pandas/core/computation/expressions.py:239\u001B[0m, in \u001B[0;36mevaluate\u001B[0;34m(op, a, b, use_numexpr)\u001B[0m\n\u001B[1;32m    236\u001B[0m \u001B[38;5;28;01mif\u001B[39;00m op_str \u001B[38;5;129;01mis\u001B[39;00m \u001B[38;5;129;01mnot\u001B[39;00m \u001B[38;5;28;01mNone\u001B[39;00m:\n\u001B[1;32m    237\u001B[0m     \u001B[38;5;28;01mif\u001B[39;00m use_numexpr:\n\u001B[1;32m    238\u001B[0m         \u001B[38;5;66;03m# error: \"None\" not callable\u001B[39;00m\n\u001B[0;32m--> 239\u001B[0m         \u001B[38;5;28;01mreturn\u001B[39;00m \u001B[43m_evaluate\u001B[49m\u001B[43m(\u001B[49m\u001B[43mop\u001B[49m\u001B[43m,\u001B[49m\u001B[43m \u001B[49m\u001B[43mop_str\u001B[49m\u001B[43m,\u001B[49m\u001B[43m \u001B[49m\u001B[43ma\u001B[49m\u001B[43m,\u001B[49m\u001B[43m \u001B[49m\u001B[43mb\u001B[49m\u001B[43m)\u001B[49m  \u001B[38;5;66;03m# type: ignore[misc]\u001B[39;00m\n\u001B[1;32m    240\u001B[0m \u001B[38;5;28;01mreturn\u001B[39;00m _evaluate_standard(op, op_str, a, b)\n",
      "File \u001B[0;32m~/PycharmProjects/InformationFlow/venv/lib/python3.8/site-packages/pandas/core/computation/expressions.py:69\u001B[0m, in \u001B[0;36m_evaluate_standard\u001B[0;34m(op, op_str, a, b)\u001B[0m\n\u001B[1;32m     67\u001B[0m \u001B[38;5;28;01mif\u001B[39;00m _TEST_MODE:\n\u001B[1;32m     68\u001B[0m     _store_test_result(\u001B[38;5;28;01mFalse\u001B[39;00m)\n\u001B[0;32m---> 69\u001B[0m \u001B[38;5;28;01mreturn\u001B[39;00m \u001B[43mop\u001B[49m\u001B[43m(\u001B[49m\u001B[43ma\u001B[49m\u001B[43m,\u001B[49m\u001B[43m \u001B[49m\u001B[43mb\u001B[49m\u001B[43m)\u001B[49m\n",
      "\u001B[0;31mKeyboardInterrupt\u001B[0m: "
     ]
    }
   ],
   "source": [
    "df_tweets['reach'] = df_tweets.apply(lambda tweet_row: calculate_tweet_reach(tweet_row['tweet_id'], tweet_row['user_id'], tweet_row['topics'], tweet_row['retweet_count'], tweet_row['ref_tweed_id']), axis=1)\n",
    "df_tweets.head(5)"
   ],
   "metadata": {
    "collapsed": false,
    "pycharm": {
     "name": "#%%\n"
    }
   }
  },
  {
   "cell_type": "markdown",
   "source": [
    "## Topic analysis\n",
    "\n",
    "### Loading the previously trained topic analysis model and it's evaluations of each tweet text"
   ],
   "metadata": {
    "collapsed": false,
    "pycharm": {
     "name": "#%% md\n"
    }
   }
  },
  {
   "cell_type": "code",
   "execution_count": null,
   "outputs": [],
   "source": [
    "df_tweets.head(5)"
   ],
   "metadata": {
    "collapsed": false,
    "pycharm": {
     "name": "#%%\n"
    }
   }
  },
  {
   "cell_type": "code",
   "execution_count": null,
   "outputs": [],
   "source": [
    "def process_topic(topics:str):\n",
    "    s = topics\n",
    "    for i in range(topics.count('\\'')):\n",
    "        s = s.replace('\\'', '\"')\n",
    "    t = json.loads(s)\n",
    "    if len(t) > 0:\n",
    "        return t[0]\n",
    "    return None"
   ],
   "metadata": {
    "collapsed": false,
    "pycharm": {
     "name": "#%%\n"
    }
   }
  },
  {
   "cell_type": "code",
   "execution_count": null,
   "outputs": [],
   "source": [
    "df_tweets['topics'] = df_tweets['topics'].apply(lambda topics: process_topic(topics))\n",
    "df_tweets['topics_ids'] = df_tweets['topics_ids'].apply(lambda topics: process_topic(topics))\n",
    "df_tweets.head(5)"
   ],
   "metadata": {
    "collapsed": false,
    "pycharm": {
     "name": "#%%\n"
    }
   }
  },
  {
   "cell_type": "markdown",
   "source": [
    "### Sentiment analysis"
   ],
   "metadata": {
    "collapsed": false,
    "pycharm": {
     "name": "#%% md\n"
    }
   }
  },
  {
   "cell_type": "code",
   "execution_count": null,
   "outputs": [],
   "source": [
    "from vaderSentiment.vaderSentiment import SentimentIntensityAnalyzer\n",
    "\n",
    "def sentiment_scores(sentence, prints):\n",
    "    if prints: print(\"\\nSentence:\", sentence)\n",
    "\n",
    "    sid_obj = SentimentIntensityAnalyzer()\n",
    "    sentiment_dict = sid_obj.polarity_scores(sentence)\n",
    "\n",
    "    if sentiment_dict['compound'] >= 0.05:\n",
    "        if prints: print(\"Positive\")\n",
    "        return \"Positive\"\n",
    "    elif sentiment_dict['compound'] <= - 0.05:\n",
    "        if prints: print(\"Positive\")\n",
    "        return \"Negative\"\n",
    "    else:\n",
    "        if prints: print(\"Neutral\")\n",
    "        return \"Neutral\""
   ],
   "metadata": {
    "collapsed": false,
    "pycharm": {
     "name": "#%%\n"
    }
   }
  },
  {
   "cell_type": "code",
   "execution_count": null,
   "outputs": [],
   "source": [
    "df_tweets['sentiment'] = df_tweets['text'].apply(lambda tweet_text: sentiment_scores(tweet_text, False))"
   ],
   "metadata": {
    "collapsed": false,
    "pycharm": {
     "name": "#%%\n"
    }
   }
  },
  {
   "cell_type": "code",
   "execution_count": null,
   "outputs": [],
   "source": [
    "df_tweets.head(5)"
   ],
   "metadata": {
    "collapsed": false,
    "pycharm": {
     "name": "#%%\n"
    }
   }
  },
  {
   "cell_type": "markdown",
   "source": [
    "### Tweet popularity\n",
    "\n",
    "To define tweet popularity, each tweet with at least 1 retweet or 1 quote tweet was considered popular (1)\n",
    "if the criteria wasn't met it was marked as unpopular (0)"
   ],
   "metadata": {
    "collapsed": false,
    "pycharm": {
     "name": "#%% md\n"
    }
   }
  },
  {
   "cell_type": "code",
   "execution_count": null,
   "outputs": [],
   "source": [
    "def tweet_popularity_label(retweet_count, quote_count):\n",
    "    if retweet_count > 0 or quote_count > 0:\n",
    "        return 1\n",
    "    else:\n",
    "        return 0"
   ],
   "metadata": {
    "collapsed": false,
    "pycharm": {
     "name": "#%%\n"
    }
   }
  },
  {
   "cell_type": "code",
   "execution_count": null,
   "outputs": [],
   "source": [
    "df_tweets['popularity'] = df_tweets.apply(lambda row: tweet_popularity_label(row['retweet_count'], row['quote_count']), axis=1)"
   ],
   "metadata": {
    "collapsed": false,
    "pycharm": {
     "name": "#%%\n"
    }
   }
  },
  {
   "cell_type": "code",
   "execution_count": null,
   "outputs": [],
   "source": [
    "df_tweets['popularity'].value_counts()"
   ],
   "metadata": {
    "collapsed": false,
    "pycharm": {
     "name": "#%%\n"
    }
   }
  },
  {
   "cell_type": "markdown",
   "source": [
    "## Combine the two datasets into the final one\n",
    "\n",
    "For every tweet select the relevant columns and merge the corresponding information from the original user"
   ],
   "metadata": {
    "collapsed": false,
    "pycharm": {
     "name": "#%% md\n"
    }
   }
  },
  {
   "cell_type": "code",
   "execution_count": null,
   "outputs": [],
   "source": [
    "df_popularity = pd.merge(df_tweets[['tweet_id', 'text', 'timestamp', 'user_id', 'like_count', 'retweet_count', 'quote_count', 'reply_count', 'reach', 'topics_ids', 'topics', 'sentiment', 'popularity']],\n",
    "                   df_users[['user_id', 'followers', 'following', 'tweet_count', 'verified', 'created_at']],\n",
    "                   on=\"user_id\")\n",
    "df_popularity.head(5)"
   ],
   "metadata": {
    "collapsed": false,
    "pycharm": {
     "name": "#%%\n"
    }
   }
  },
  {
   "cell_type": "markdown",
   "source": [
    "## Save the final version of the dataset"
   ],
   "metadata": {
    "collapsed": false,
    "pycharm": {
     "name": "#%% md\n"
    }
   }
  },
  {
   "cell_type": "code",
   "execution_count": null,
   "outputs": [],
   "source": [
    "df_popularity.to_csv(POPULARITY, sep=',', date_format='%Y-%m-%d %H:%M:%S')"
   ],
   "metadata": {
    "collapsed": false,
    "pycharm": {
     "name": "#%%\n"
    }
   }
  },
  {
   "cell_type": "code",
   "execution_count": null,
   "outputs": [],
   "source": [
    "df_popularity"
   ],
   "metadata": {
    "collapsed": false,
    "pycharm": {
     "name": "#%%\n"
    }
   }
  }
 ],
 "metadata": {
  "kernelspec": {
   "display_name": "Python 3",
   "language": "python",
   "name": "python3"
  },
  "language_info": {
   "codemirror_mode": {
    "name": "ipython",
    "version": 2
   },
   "file_extension": ".py",
   "mimetype": "text/x-python",
   "name": "python",
   "nbconvert_exporter": "python",
   "pygments_lexer": "ipython2",
   "version": "2.7.6"
  }
 },
 "nbformat": 4,
 "nbformat_minor": 0
}