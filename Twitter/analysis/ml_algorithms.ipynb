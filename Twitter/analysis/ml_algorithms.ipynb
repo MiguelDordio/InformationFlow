{
 "cells": [
  {
   "cell_type": "code",
   "execution_count": 1,
   "outputs": [],
   "source": [
    "import math\n",
    "import numpy\n",
    "import numpy as np\n",
    "import pandas as pd\n",
    "import seaborn as sns\n",
    "import matplotlib.pyplot as plt\n",
    "from itertools import cycle\n",
    "import plotly.express as px\n",
    "import plotly.graph_objects as go\n",
    "from plotly.subplots import make_subplots\n",
    "import datetime\n",
    "import sys\n",
    "import joblib\n",
    "import warnings\n",
    "from sklearn.ensemble import RandomForestClassifier, AdaBoostClassifier, GradientBoostingClassifier, ExtraTreesClassifier\n",
    "from sklearn.model_selection import train_test_split, GridSearchCV, KFold, cross_val_score\n",
    "from sklearn.preprocessing import StandardScaler\n",
    "from sklearn.metrics import classification_report, confusion_matrix, accuracy_score\n",
    "from sklearn.preprocessing import LabelEncoder\n",
    "from imblearn.under_sampling import RandomUnderSampler\n",
    "from sklearn.feature_selection import RFE\n",
    "from mlxtend.feature_selection import SequentialFeatureSelector as Sfs\n",
    "from sklearn.feature_selection import chi2\n",
    "from sklearn.linear_model import LassoCV\n",
    "from sklearn.linear_model import RidgeCV\n",
    "from sklearn.feature_selection import f_classif\n",
    "from sklearn.feature_selection import SelectKBest\n",
    "from sklearn.discriminant_analysis import LinearDiscriminantAnalysis\n",
    "from sklearn.linear_model import LogisticRegression\n",
    "from sklearn.naive_bayes import GaussianNB\n",
    "from sklearn.tree import DecisionTreeClassifier\n",
    "from dateutil.relativedelta import relativedelta\n",
    "from imblearn.over_sampling import SMOTE\n",
    "from sklearn.neighbors import KNeighborsClassifier\n",
    "from collections import Counter\n",
    "import plotly.express as px"
   ],
   "metadata": {
    "collapsed": false,
    "pycharm": {
     "name": "#%%\n"
    }
   }
  },
  {
   "cell_type": "code",
   "execution_count": 2,
   "outputs": [],
   "source": [
    "sns.set()"
   ],
   "metadata": {
    "collapsed": false,
    "pycharm": {
     "name": "#%%\n"
    }
   }
  },
  {
   "cell_type": "code",
   "execution_count": 3,
   "outputs": [
    {
     "data": {
      "text/plain": "         Unnamed: 0.2  Unnamed: 0.1  Unnamed: 0    index             tweet_id  \\\n612261         612261        612261      612261   612261  1477036834261770241   \n98252           98252         98252       98252    98252  1477036835603836932   \n1072384       1072384       1072384     1072384  1072384  1477036838217035777   \n1072385       1072385       1072385     1072385  1072385  1477036840024567809   \n1072386       1072386       1072386     1072386  1072386  1477036841933185025   \n\n                                                      text  \\\n612261             …. them crawfish was so good yall lmfao   \n98252    Damn all the freaks are at the New Bev right n...   \n1072384  Fast And Professional Vehicle Lockout Service ...   \n1072385             Very much this https://t.co/b3bgtstLfr   \n1072386           Best thread ever https://t.co/EBo4JkTCx4   \n\n                         timestamp             user_id  like_count  \\\n612261   2021-12-31 21:59:57+00:00  795707439219884037           0   \n98252    2021-12-31 21:59:58+00:00            34679503          26   \n1072384  2021-12-31 21:59:58+00:00           210241982           0   \n1072385  2021-12-31 21:59:59+00:00           883576549           3   \n1072386  2021-12-31 21:59:59+00:00           131371694           0   \n\n         retweet_count  ...  day_phase  week_idx  day_phase_enc  \\\n612261               0  ...      Night   2021-52              4   \n98252                0  ...      Night   2021-52              4   \n1072384              0  ...      Night   2021-52              4   \n1072385              0  ...      Night   2021-52              4   \n1072386              0  ...      Night   2021-52              4   \n\n         day_of_week_enc month_enc year_enc  sentiment_enc  verified_enc  \\\n612261                 0         2        1              2             0   \n98252                  0         2        1              1             0   \n1072384                0         2        1              0             0   \n1072385                0         2        1              1             0   \n1072386                0         2        1              2             0   \n\n         seniority  topics_cleaned  \n612261           5             NaN  \n98252           13             NaN  \n1072384         11             NaN  \n1072385          9             NaN  \n1072386         12             NaN  \n\n[5 rows x 35 columns]",
      "text/html": "<div>\n<style scoped>\n    .dataframe tbody tr th:only-of-type {\n        vertical-align: middle;\n    }\n\n    .dataframe tbody tr th {\n        vertical-align: top;\n    }\n\n    .dataframe thead th {\n        text-align: right;\n    }\n</style>\n<table border=\"1\" class=\"dataframe\">\n  <thead>\n    <tr style=\"text-align: right;\">\n      <th></th>\n      <th>Unnamed: 0.2</th>\n      <th>Unnamed: 0.1</th>\n      <th>Unnamed: 0</th>\n      <th>index</th>\n      <th>tweet_id</th>\n      <th>text</th>\n      <th>timestamp</th>\n      <th>user_id</th>\n      <th>like_count</th>\n      <th>retweet_count</th>\n      <th>...</th>\n      <th>day_phase</th>\n      <th>week_idx</th>\n      <th>day_phase_enc</th>\n      <th>day_of_week_enc</th>\n      <th>month_enc</th>\n      <th>year_enc</th>\n      <th>sentiment_enc</th>\n      <th>verified_enc</th>\n      <th>seniority</th>\n      <th>topics_cleaned</th>\n    </tr>\n  </thead>\n  <tbody>\n    <tr>\n      <th>612261</th>\n      <td>612261</td>\n      <td>612261</td>\n      <td>612261</td>\n      <td>612261</td>\n      <td>1477036834261770241</td>\n      <td>…. them crawfish was so good yall lmfao</td>\n      <td>2021-12-31 21:59:57+00:00</td>\n      <td>795707439219884037</td>\n      <td>0</td>\n      <td>0</td>\n      <td>...</td>\n      <td>Night</td>\n      <td>2021-52</td>\n      <td>4</td>\n      <td>0</td>\n      <td>2</td>\n      <td>1</td>\n      <td>2</td>\n      <td>0</td>\n      <td>5</td>\n      <td>NaN</td>\n    </tr>\n    <tr>\n      <th>98252</th>\n      <td>98252</td>\n      <td>98252</td>\n      <td>98252</td>\n      <td>98252</td>\n      <td>1477036835603836932</td>\n      <td>Damn all the freaks are at the New Bev right n...</td>\n      <td>2021-12-31 21:59:58+00:00</td>\n      <td>34679503</td>\n      <td>26</td>\n      <td>0</td>\n      <td>...</td>\n      <td>Night</td>\n      <td>2021-52</td>\n      <td>4</td>\n      <td>0</td>\n      <td>2</td>\n      <td>1</td>\n      <td>1</td>\n      <td>0</td>\n      <td>13</td>\n      <td>NaN</td>\n    </tr>\n    <tr>\n      <th>1072384</th>\n      <td>1072384</td>\n      <td>1072384</td>\n      <td>1072384</td>\n      <td>1072384</td>\n      <td>1477036838217035777</td>\n      <td>Fast And Professional Vehicle Lockout Service ...</td>\n      <td>2021-12-31 21:59:58+00:00</td>\n      <td>210241982</td>\n      <td>0</td>\n      <td>0</td>\n      <td>...</td>\n      <td>Night</td>\n      <td>2021-52</td>\n      <td>4</td>\n      <td>0</td>\n      <td>2</td>\n      <td>1</td>\n      <td>0</td>\n      <td>0</td>\n      <td>11</td>\n      <td>NaN</td>\n    </tr>\n    <tr>\n      <th>1072385</th>\n      <td>1072385</td>\n      <td>1072385</td>\n      <td>1072385</td>\n      <td>1072385</td>\n      <td>1477036840024567809</td>\n      <td>Very much this https://t.co/b3bgtstLfr</td>\n      <td>2021-12-31 21:59:59+00:00</td>\n      <td>883576549</td>\n      <td>3</td>\n      <td>0</td>\n      <td>...</td>\n      <td>Night</td>\n      <td>2021-52</td>\n      <td>4</td>\n      <td>0</td>\n      <td>2</td>\n      <td>1</td>\n      <td>1</td>\n      <td>0</td>\n      <td>9</td>\n      <td>NaN</td>\n    </tr>\n    <tr>\n      <th>1072386</th>\n      <td>1072386</td>\n      <td>1072386</td>\n      <td>1072386</td>\n      <td>1072386</td>\n      <td>1477036841933185025</td>\n      <td>Best thread ever https://t.co/EBo4JkTCx4</td>\n      <td>2021-12-31 21:59:59+00:00</td>\n      <td>131371694</td>\n      <td>0</td>\n      <td>0</td>\n      <td>...</td>\n      <td>Night</td>\n      <td>2021-52</td>\n      <td>4</td>\n      <td>0</td>\n      <td>2</td>\n      <td>1</td>\n      <td>2</td>\n      <td>0</td>\n      <td>12</td>\n      <td>NaN</td>\n    </tr>\n  </tbody>\n</table>\n<p>5 rows × 35 columns</p>\n</div>"
     },
     "execution_count": 3,
     "metadata": {},
     "output_type": "execute_result"
    }
   ],
   "source": [
    "# Data Import and overview\n",
    "DATASET_PATH = \"../../data/tweets_2020_2021_v2.csv\"\n",
    "df = pd.read_csv(filepath_or_buffer=DATASET_PATH, sep=\",\")\n",
    "df = df.sort_values(by='timestamp', ascending=True)\n",
    "df.tail()"
   ],
   "metadata": {
    "collapsed": false,
    "pycharm": {
     "name": "#%%\n"
    }
   }
  },
  {
   "cell_type": "code",
   "execution_count": 4,
   "outputs": [],
   "source": [
    "vars = ['like_count', 'retweet_count', 'quote_count', 'reply_count', 'reach', 'topics_ids', 'sentiment_enc', 'day_phase_enc', 'day_of_week_enc', 'month_enc', 'popularity', 'followers', 'following', 'tweet_count', 'verified_enc', 'seniority']\n",
    "tweet_vars = ['like_count', 'retweet_count', 'quote_count', 'reply_count', 'reach', 'sentiment_enc', 'day_phase_enc', 'day_of_week_enc', 'month_enc', 'topics_ids']\n",
    "users_vars = ['followers', 'following', 'tweet_count', 'verified_enc', 'seniority']\n",
    "num_vars = ['like_count', 'retweet_count', 'quote_count', 'reply_count', 'reach', 'followers', 'following', 'tweet_count', 'seniority']\n",
    "cat_vars = ['sentiment_enc', 'verified_enc', 'day_of_week_enc', 'day_phase_enc', 'month_enc']"
   ],
   "metadata": {
    "collapsed": false,
    "pycharm": {
     "name": "#%%\n"
    }
   }
  },
  {
   "cell_type": "markdown",
   "source": [
    "## Spliting the data by year"
   ],
   "metadata": {
    "collapsed": false,
    "pycharm": {
     "name": "#%% md\n"
    }
   }
  },
  {
   "cell_type": "code",
   "execution_count": 5,
   "outputs": [],
   "source": [
    "df_2020 = df[df['year'] == 2020]\n",
    "df_2021 = df[df['year'] == 2021]"
   ],
   "metadata": {
    "collapsed": false,
    "pycharm": {
     "name": "#%%\n"
    }
   }
  },
  {
   "cell_type": "code",
   "execution_count": 6,
   "outputs": [
    {
     "data": {
      "text/plain": "(534942, 35)"
     },
     "execution_count": 6,
     "metadata": {},
     "output_type": "execute_result"
    }
   ],
   "source": [
    "df_2020.shape"
   ],
   "metadata": {
    "collapsed": false,
    "pycharm": {
     "name": "#%%\n"
    }
   }
  },
  {
   "cell_type": "code",
   "execution_count": 7,
   "outputs": [
    {
     "data": {
      "text/plain": "(537445, 35)"
     },
     "execution_count": 7,
     "metadata": {},
     "output_type": "execute_result"
    }
   ],
   "source": [
    "df_2021.shape"
   ],
   "metadata": {
    "collapsed": false,
    "pycharm": {
     "name": "#%%\n"
    }
   }
  },
  {
   "cell_type": "markdown",
   "source": [
    "# Machine Learning\n",
    "\n",
    "### Predicting tweet popularity in 2021 using 2020 data with topics"
   ],
   "metadata": {
    "collapsed": false,
    "pycharm": {
     "name": "#%% md\n"
    }
   }
  },
  {
   "cell_type": "markdown",
   "source": [
    "## Data spliting"
   ],
   "metadata": {
    "collapsed": false,
    "pycharm": {
     "name": "#%% md\n"
    }
   }
  },
  {
   "cell_type": "code",
   "execution_count": 8,
   "outputs": [],
   "source": [
    "num_folds = 7\n",
    "seed = 7\n",
    "scoring = 'accuracy'\n",
    "validation_size = 0.70"
   ],
   "metadata": {
    "collapsed": false,
    "pycharm": {
     "name": "#%%\n"
    }
   }
  },
  {
   "cell_type": "code",
   "execution_count": 9,
   "outputs": [
    {
     "data": {
      "text/plain": "        Unnamed: 0.2  Unnamed: 0.1  Unnamed: 0   index             tweet_id  \\\n44                44            44          44      44  1212176426587303936   \n46                46            46          46      46  1212176422896193537   \n35                35            35          35      35  1212176423189909506   \n41                41            41          41      41  1212176426088181760   \n52                52            52          52      52  1212176427845607426   \n...              ...           ...         ...     ...                  ...   \n154051        154051        154051      154051  154051  1344765260260020224   \n679919        679919        679919      679919  679919  1344765260151066624   \n736687        736687        736687      736687  736687  1344765262147575808   \n803046        803046        803046      803046  803046  1344765266530590722   \n803045        803045        803045      803045  803045  1344765267591778304   \n\n                                                     text  \\\n44      New Year’s Eve was created by the sun to sell ...   \n46      Looking at all 0 replies to my very sad \"who's...   \n35          and he still cheating https://t.co/zYAQ8wc6Vg   \n41      Disgruntled Pope Francis pulls himself free fr...   \n52      My NASA engineer sister..... I would tell you ...   \n...                                                   ...   \n154051  This might be more devastating than \"n****r na...   \n679919  2020 YOURE a real son of a bitch https://t.co/...   \n736687  Happy New Year from FreeBikes4KidzMN! Everyone...   \n803046  Wanna give a shoutout to whom ever invented co...   \n803045                                     medium pork 😋🥰   \n\n                        timestamp              user_id  like_count  \\\n44            2020-01-01 00:59:15   735991364635217921          10   \n46            2020-01-01 00:59:15   857462622920339456           3   \n35            2020-01-01 00:59:15           3322006549           2   \n41            2020-01-01 00:59:15            858762062           0   \n52            2020-01-01 00:59:16  1057480999943032832          11   \n...                           ...                  ...         ...   \n154051  2020-12-31 21:59:57+00:00            206374653           1   \n679919  2020-12-31 21:59:57+00:00            387676464           2   \n736687  2020-12-31 21:59:57+00:00            193418595           2   \n803046  2020-12-31 21:59:58+00:00            988833535           0   \n803045  2020-12-31 21:59:58+00:00            503678476           2   \n\n        retweet_count  ...  day_phase  week_idx  day_phase_enc  \\\n44                  0  ...       Dawn   2020-01              1   \n46                  0  ...       Dawn   2020-01              1   \n35                  1  ...       Dawn   2020-01              1   \n41                  0  ...       Dawn   2020-01              1   \n52                  0  ...       Dawn   2020-01              1   \n...               ...  ...        ...       ...            ...   \n154051              0  ...      Night   2020-53              4   \n679919              1  ...      Night   2020-53              4   \n736687              2  ...      Night   2020-53              4   \n803046              0  ...      Night   2020-53              4   \n803045              1  ...      Night   2020-53              4   \n\n        day_of_week_enc month_enc year_enc  sentiment_enc  verified_enc  \\\n44                    6         4        0              2             0   \n46                    6         4        0              0             0   \n35                    6         4        0              0             0   \n41                    6         4        0              2             0   \n52                    6         4        0              2             0   \n...                 ...       ...      ...            ...           ...   \n154051                4         2        0              0             0   \n679919                4         2        0              0             0   \n736687                4         2        0              2             0   \n803046                4         2        0              2             0   \n803045                4         2        0              2             0   \n\n        seniority        topics_cleaned  \n44              5               Holiday  \n46              4                 Brand  \n35              6                Person  \n41              9                Person  \n52              3                 Brand  \n...           ...                   ...  \n154051         11                 Brand  \n679919         10                 Music  \n736687         11               Holiday  \n803046          9  Interest and Hobbies  \n803045         10              Entities  \n\n[190923 rows x 35 columns]",
      "text/html": "<div>\n<style scoped>\n    .dataframe tbody tr th:only-of-type {\n        vertical-align: middle;\n    }\n\n    .dataframe tbody tr th {\n        vertical-align: top;\n    }\n\n    .dataframe thead th {\n        text-align: right;\n    }\n</style>\n<table border=\"1\" class=\"dataframe\">\n  <thead>\n    <tr style=\"text-align: right;\">\n      <th></th>\n      <th>Unnamed: 0.2</th>\n      <th>Unnamed: 0.1</th>\n      <th>Unnamed: 0</th>\n      <th>index</th>\n      <th>tweet_id</th>\n      <th>text</th>\n      <th>timestamp</th>\n      <th>user_id</th>\n      <th>like_count</th>\n      <th>retweet_count</th>\n      <th>...</th>\n      <th>day_phase</th>\n      <th>week_idx</th>\n      <th>day_phase_enc</th>\n      <th>day_of_week_enc</th>\n      <th>month_enc</th>\n      <th>year_enc</th>\n      <th>sentiment_enc</th>\n      <th>verified_enc</th>\n      <th>seniority</th>\n      <th>topics_cleaned</th>\n    </tr>\n  </thead>\n  <tbody>\n    <tr>\n      <th>44</th>\n      <td>44</td>\n      <td>44</td>\n      <td>44</td>\n      <td>44</td>\n      <td>1212176426587303936</td>\n      <td>New Year’s Eve was created by the sun to sell ...</td>\n      <td>2020-01-01 00:59:15</td>\n      <td>735991364635217921</td>\n      <td>10</td>\n      <td>0</td>\n      <td>...</td>\n      <td>Dawn</td>\n      <td>2020-01</td>\n      <td>1</td>\n      <td>6</td>\n      <td>4</td>\n      <td>0</td>\n      <td>2</td>\n      <td>0</td>\n      <td>5</td>\n      <td>Holiday</td>\n    </tr>\n    <tr>\n      <th>46</th>\n      <td>46</td>\n      <td>46</td>\n      <td>46</td>\n      <td>46</td>\n      <td>1212176422896193537</td>\n      <td>Looking at all 0 replies to my very sad \"who's...</td>\n      <td>2020-01-01 00:59:15</td>\n      <td>857462622920339456</td>\n      <td>3</td>\n      <td>0</td>\n      <td>...</td>\n      <td>Dawn</td>\n      <td>2020-01</td>\n      <td>1</td>\n      <td>6</td>\n      <td>4</td>\n      <td>0</td>\n      <td>0</td>\n      <td>0</td>\n      <td>4</td>\n      <td>Brand</td>\n    </tr>\n    <tr>\n      <th>35</th>\n      <td>35</td>\n      <td>35</td>\n      <td>35</td>\n      <td>35</td>\n      <td>1212176423189909506</td>\n      <td>and he still cheating https://t.co/zYAQ8wc6Vg</td>\n      <td>2020-01-01 00:59:15</td>\n      <td>3322006549</td>\n      <td>2</td>\n      <td>1</td>\n      <td>...</td>\n      <td>Dawn</td>\n      <td>2020-01</td>\n      <td>1</td>\n      <td>6</td>\n      <td>4</td>\n      <td>0</td>\n      <td>0</td>\n      <td>0</td>\n      <td>6</td>\n      <td>Person</td>\n    </tr>\n    <tr>\n      <th>41</th>\n      <td>41</td>\n      <td>41</td>\n      <td>41</td>\n      <td>41</td>\n      <td>1212176426088181760</td>\n      <td>Disgruntled Pope Francis pulls himself free fr...</td>\n      <td>2020-01-01 00:59:15</td>\n      <td>858762062</td>\n      <td>0</td>\n      <td>0</td>\n      <td>...</td>\n      <td>Dawn</td>\n      <td>2020-01</td>\n      <td>1</td>\n      <td>6</td>\n      <td>4</td>\n      <td>0</td>\n      <td>2</td>\n      <td>0</td>\n      <td>9</td>\n      <td>Person</td>\n    </tr>\n    <tr>\n      <th>52</th>\n      <td>52</td>\n      <td>52</td>\n      <td>52</td>\n      <td>52</td>\n      <td>1212176427845607426</td>\n      <td>My NASA engineer sister..... I would tell you ...</td>\n      <td>2020-01-01 00:59:16</td>\n      <td>1057480999943032832</td>\n      <td>11</td>\n      <td>0</td>\n      <td>...</td>\n      <td>Dawn</td>\n      <td>2020-01</td>\n      <td>1</td>\n      <td>6</td>\n      <td>4</td>\n      <td>0</td>\n      <td>2</td>\n      <td>0</td>\n      <td>3</td>\n      <td>Brand</td>\n    </tr>\n    <tr>\n      <th>...</th>\n      <td>...</td>\n      <td>...</td>\n      <td>...</td>\n      <td>...</td>\n      <td>...</td>\n      <td>...</td>\n      <td>...</td>\n      <td>...</td>\n      <td>...</td>\n      <td>...</td>\n      <td>...</td>\n      <td>...</td>\n      <td>...</td>\n      <td>...</td>\n      <td>...</td>\n      <td>...</td>\n      <td>...</td>\n      <td>...</td>\n      <td>...</td>\n      <td>...</td>\n      <td>...</td>\n    </tr>\n    <tr>\n      <th>154051</th>\n      <td>154051</td>\n      <td>154051</td>\n      <td>154051</td>\n      <td>154051</td>\n      <td>1344765260260020224</td>\n      <td>This might be more devastating than \"n****r na...</td>\n      <td>2020-12-31 21:59:57+00:00</td>\n      <td>206374653</td>\n      <td>1</td>\n      <td>0</td>\n      <td>...</td>\n      <td>Night</td>\n      <td>2020-53</td>\n      <td>4</td>\n      <td>4</td>\n      <td>2</td>\n      <td>0</td>\n      <td>0</td>\n      <td>0</td>\n      <td>11</td>\n      <td>Brand</td>\n    </tr>\n    <tr>\n      <th>679919</th>\n      <td>679919</td>\n      <td>679919</td>\n      <td>679919</td>\n      <td>679919</td>\n      <td>1344765260151066624</td>\n      <td>2020 YOURE a real son of a bitch https://t.co/...</td>\n      <td>2020-12-31 21:59:57+00:00</td>\n      <td>387676464</td>\n      <td>2</td>\n      <td>1</td>\n      <td>...</td>\n      <td>Night</td>\n      <td>2020-53</td>\n      <td>4</td>\n      <td>4</td>\n      <td>2</td>\n      <td>0</td>\n      <td>0</td>\n      <td>0</td>\n      <td>10</td>\n      <td>Music</td>\n    </tr>\n    <tr>\n      <th>736687</th>\n      <td>736687</td>\n      <td>736687</td>\n      <td>736687</td>\n      <td>736687</td>\n      <td>1344765262147575808</td>\n      <td>Happy New Year from FreeBikes4KidzMN! Everyone...</td>\n      <td>2020-12-31 21:59:57+00:00</td>\n      <td>193418595</td>\n      <td>2</td>\n      <td>2</td>\n      <td>...</td>\n      <td>Night</td>\n      <td>2020-53</td>\n      <td>4</td>\n      <td>4</td>\n      <td>2</td>\n      <td>0</td>\n      <td>2</td>\n      <td>0</td>\n      <td>11</td>\n      <td>Holiday</td>\n    </tr>\n    <tr>\n      <th>803046</th>\n      <td>803046</td>\n      <td>803046</td>\n      <td>803046</td>\n      <td>803046</td>\n      <td>1344765266530590722</td>\n      <td>Wanna give a shoutout to whom ever invented co...</td>\n      <td>2020-12-31 21:59:58+00:00</td>\n      <td>988833535</td>\n      <td>0</td>\n      <td>0</td>\n      <td>...</td>\n      <td>Night</td>\n      <td>2020-53</td>\n      <td>4</td>\n      <td>4</td>\n      <td>2</td>\n      <td>0</td>\n      <td>2</td>\n      <td>0</td>\n      <td>9</td>\n      <td>Interest and Hobbies</td>\n    </tr>\n    <tr>\n      <th>803045</th>\n      <td>803045</td>\n      <td>803045</td>\n      <td>803045</td>\n      <td>803045</td>\n      <td>1344765267591778304</td>\n      <td>medium pork 😋🥰</td>\n      <td>2020-12-31 21:59:58+00:00</td>\n      <td>503678476</td>\n      <td>2</td>\n      <td>1</td>\n      <td>...</td>\n      <td>Night</td>\n      <td>2020-53</td>\n      <td>4</td>\n      <td>4</td>\n      <td>2</td>\n      <td>0</td>\n      <td>2</td>\n      <td>0</td>\n      <td>10</td>\n      <td>Entities</td>\n    </tr>\n  </tbody>\n</table>\n<p>190923 rows × 35 columns</p>\n</div>"
     },
     "execution_count": 9,
     "metadata": {},
     "output_type": "execute_result"
    }
   ],
   "source": [
    "df_2020_topics = df_2020[(~df_2020['topics'].isnull()) & (df_2020['topics'] != '')]\n",
    "df_2020_topics"
   ],
   "metadata": {
    "collapsed": false,
    "pycharm": {
     "name": "#%%\n"
    }
   }
  },
  {
   "cell_type": "code",
   "execution_count": 10,
   "outputs": [
    {
     "data": {
      "text/plain": "         Unnamed: 0.2  Unnamed: 0.1  Unnamed: 0    index             tweet_id  \\\n803053         803053        803053      803053   803053  1344810321270202369   \n803052         803052        803052      803052   803052  1344810320485728256   \n803058         803058        803058      803058   803058  1344810324223025152   \n803061         803061        803061      803061   803061  1344810324587905025   \n803060         803060        803060      803060   803060  1344810323350614016   \n...               ...           ...         ...      ...                  ...   \n120623         120623        120623      120623   120623  1477036814653440006   \n1072303       1072303       1072303     1072303  1072303  1477036815085363202   \n1072380       1072380       1072380     1072380  1072380  1477036820130975745   \n1072383       1072383       1072383     1072383  1072383  1477036825579507714   \n336561         336561        336561      336561   336561  1477036830046539785   \n\n                                                      text  \\\n803053   This guy voted for a tax breaks for the riches...   \n803052   Watching my last sunset of 2020 and anticipati...   \n803058   the entire sixers team is on absolute fire and...   \n803061   Happy New Years Eve🎆 All of our locations will...   \n803060                   5, Cancer https://t.co/2BwiZ1FsU3   \n...                                                    ...   \n120623   this is how im coming in 2022 https://t.co/PMS...   \n1072303                 They need a one51 in ATL @cjxbanks   \n1072380    ISO @GemandJamFest car camping pass !!!! Pls RT   \n1072383  No one told me I’d have a real life princess. ...   \n336561             G hell naw lmao https://t.co/9GVpEO8Z9C   \n\n                         timestamp              user_id  like_count  \\\n803053   2021-01-01 00:59:00+00:00             93440753          18   \n803052   2021-01-01 00:59:00+00:00   720858537446879232          16   \n803058   2021-01-01 00:59:01+00:00            749805553           3   \n803061   2021-01-01 00:59:01+00:00             27752921           0   \n803060   2021-01-01 00:59:01+00:00   898665696107909120           0   \n...                            ...                  ...         ...   \n120623   2021-12-31 21:59:53+00:00            623803642           1   \n1072303  2021-12-31 21:59:53+00:00  1066856094033559553           2   \n1072380  2021-12-31 21:59:54+00:00            220200906           3   \n1072383  2021-12-31 21:59:55+00:00             38572410           0   \n336561   2021-12-31 21:59:56+00:00             48836966           0   \n\n         retweet_count  ...  day_phase  week_idx  day_phase_enc  \\\n803053               3  ...       Dawn   2021-53              1   \n803052               0  ...       Dawn   2021-53              1   \n803058               0  ...       Dawn   2021-53              1   \n803061               0  ...       Dawn   2021-53              1   \n803060               0  ...       Dawn   2021-53              1   \n...                ...  ...        ...       ...            ...   \n120623               0  ...      Night   2021-52              4   \n1072303              0  ...      Night   2021-52              4   \n1072380              2  ...      Night   2021-52              4   \n1072383              0  ...      Night   2021-52              4   \n336561               0  ...      Night   2021-52              4   \n\n         day_of_week_enc month_enc year_enc  sentiment_enc  verified_enc  \\\n803053                 0         4        1              2             1   \n803052                 0         4        1              2             0   \n803058                 0         4        1              0             0   \n803061                 0         4        1              2             0   \n803060                 0         4        1              0             0   \n...                  ...       ...      ...            ...           ...   \n120623                 0         2        1              1             0   \n1072303                0         2        1              1             0   \n1072380                0         2        1              2             0   \n1072383                0         2        1              2             0   \n336561                 0         2        1              0             0   \n\n         seniority        topics_cleaned  \n803053          12                 Brand  \n803052           6               Holiday  \n803058           9         TV and Movies  \n803061          13               Holiday  \n803060           4  Interest and Hobbies  \n...            ...                   ...  \n120623           9            Video Game  \n1072303          3                Person  \n1072380         11              Entities  \n1072383         12  Interest and Hobbies  \n336561          12                 Brand  \n\n[175763 rows x 35 columns]",
      "text/html": "<div>\n<style scoped>\n    .dataframe tbody tr th:only-of-type {\n        vertical-align: middle;\n    }\n\n    .dataframe tbody tr th {\n        vertical-align: top;\n    }\n\n    .dataframe thead th {\n        text-align: right;\n    }\n</style>\n<table border=\"1\" class=\"dataframe\">\n  <thead>\n    <tr style=\"text-align: right;\">\n      <th></th>\n      <th>Unnamed: 0.2</th>\n      <th>Unnamed: 0.1</th>\n      <th>Unnamed: 0</th>\n      <th>index</th>\n      <th>tweet_id</th>\n      <th>text</th>\n      <th>timestamp</th>\n      <th>user_id</th>\n      <th>like_count</th>\n      <th>retweet_count</th>\n      <th>...</th>\n      <th>day_phase</th>\n      <th>week_idx</th>\n      <th>day_phase_enc</th>\n      <th>day_of_week_enc</th>\n      <th>month_enc</th>\n      <th>year_enc</th>\n      <th>sentiment_enc</th>\n      <th>verified_enc</th>\n      <th>seniority</th>\n      <th>topics_cleaned</th>\n    </tr>\n  </thead>\n  <tbody>\n    <tr>\n      <th>803053</th>\n      <td>803053</td>\n      <td>803053</td>\n      <td>803053</td>\n      <td>803053</td>\n      <td>1344810321270202369</td>\n      <td>This guy voted for a tax breaks for the riches...</td>\n      <td>2021-01-01 00:59:00+00:00</td>\n      <td>93440753</td>\n      <td>18</td>\n      <td>3</td>\n      <td>...</td>\n      <td>Dawn</td>\n      <td>2021-53</td>\n      <td>1</td>\n      <td>0</td>\n      <td>4</td>\n      <td>1</td>\n      <td>2</td>\n      <td>1</td>\n      <td>12</td>\n      <td>Brand</td>\n    </tr>\n    <tr>\n      <th>803052</th>\n      <td>803052</td>\n      <td>803052</td>\n      <td>803052</td>\n      <td>803052</td>\n      <td>1344810320485728256</td>\n      <td>Watching my last sunset of 2020 and anticipati...</td>\n      <td>2021-01-01 00:59:00+00:00</td>\n      <td>720858537446879232</td>\n      <td>16</td>\n      <td>0</td>\n      <td>...</td>\n      <td>Dawn</td>\n      <td>2021-53</td>\n      <td>1</td>\n      <td>0</td>\n      <td>4</td>\n      <td>1</td>\n      <td>2</td>\n      <td>0</td>\n      <td>6</td>\n      <td>Holiday</td>\n    </tr>\n    <tr>\n      <th>803058</th>\n      <td>803058</td>\n      <td>803058</td>\n      <td>803058</td>\n      <td>803058</td>\n      <td>1344810324223025152</td>\n      <td>the entire sixers team is on absolute fire and...</td>\n      <td>2021-01-01 00:59:01+00:00</td>\n      <td>749805553</td>\n      <td>3</td>\n      <td>0</td>\n      <td>...</td>\n      <td>Dawn</td>\n      <td>2021-53</td>\n      <td>1</td>\n      <td>0</td>\n      <td>4</td>\n      <td>1</td>\n      <td>0</td>\n      <td>0</td>\n      <td>9</td>\n      <td>TV and Movies</td>\n    </tr>\n    <tr>\n      <th>803061</th>\n      <td>803061</td>\n      <td>803061</td>\n      <td>803061</td>\n      <td>803061</td>\n      <td>1344810324587905025</td>\n      <td>Happy New Years Eve🎆 All of our locations will...</td>\n      <td>2021-01-01 00:59:01+00:00</td>\n      <td>27752921</td>\n      <td>0</td>\n      <td>0</td>\n      <td>...</td>\n      <td>Dawn</td>\n      <td>2021-53</td>\n      <td>1</td>\n      <td>0</td>\n      <td>4</td>\n      <td>1</td>\n      <td>2</td>\n      <td>0</td>\n      <td>13</td>\n      <td>Holiday</td>\n    </tr>\n    <tr>\n      <th>803060</th>\n      <td>803060</td>\n      <td>803060</td>\n      <td>803060</td>\n      <td>803060</td>\n      <td>1344810323350614016</td>\n      <td>5, Cancer https://t.co/2BwiZ1FsU3</td>\n      <td>2021-01-01 00:59:01+00:00</td>\n      <td>898665696107909120</td>\n      <td>0</td>\n      <td>0</td>\n      <td>...</td>\n      <td>Dawn</td>\n      <td>2021-53</td>\n      <td>1</td>\n      <td>0</td>\n      <td>4</td>\n      <td>1</td>\n      <td>0</td>\n      <td>0</td>\n      <td>4</td>\n      <td>Interest and Hobbies</td>\n    </tr>\n    <tr>\n      <th>...</th>\n      <td>...</td>\n      <td>...</td>\n      <td>...</td>\n      <td>...</td>\n      <td>...</td>\n      <td>...</td>\n      <td>...</td>\n      <td>...</td>\n      <td>...</td>\n      <td>...</td>\n      <td>...</td>\n      <td>...</td>\n      <td>...</td>\n      <td>...</td>\n      <td>...</td>\n      <td>...</td>\n      <td>...</td>\n      <td>...</td>\n      <td>...</td>\n      <td>...</td>\n      <td>...</td>\n    </tr>\n    <tr>\n      <th>120623</th>\n      <td>120623</td>\n      <td>120623</td>\n      <td>120623</td>\n      <td>120623</td>\n      <td>1477036814653440006</td>\n      <td>this is how im coming in 2022 https://t.co/PMS...</td>\n      <td>2021-12-31 21:59:53+00:00</td>\n      <td>623803642</td>\n      <td>1</td>\n      <td>0</td>\n      <td>...</td>\n      <td>Night</td>\n      <td>2021-52</td>\n      <td>4</td>\n      <td>0</td>\n      <td>2</td>\n      <td>1</td>\n      <td>1</td>\n      <td>0</td>\n      <td>9</td>\n      <td>Video Game</td>\n    </tr>\n    <tr>\n      <th>1072303</th>\n      <td>1072303</td>\n      <td>1072303</td>\n      <td>1072303</td>\n      <td>1072303</td>\n      <td>1477036815085363202</td>\n      <td>They need a one51 in ATL @cjxbanks</td>\n      <td>2021-12-31 21:59:53+00:00</td>\n      <td>1066856094033559553</td>\n      <td>2</td>\n      <td>0</td>\n      <td>...</td>\n      <td>Night</td>\n      <td>2021-52</td>\n      <td>4</td>\n      <td>0</td>\n      <td>2</td>\n      <td>1</td>\n      <td>1</td>\n      <td>0</td>\n      <td>3</td>\n      <td>Person</td>\n    </tr>\n    <tr>\n      <th>1072380</th>\n      <td>1072380</td>\n      <td>1072380</td>\n      <td>1072380</td>\n      <td>1072380</td>\n      <td>1477036820130975745</td>\n      <td>ISO @GemandJamFest car camping pass !!!! Pls RT</td>\n      <td>2021-12-31 21:59:54+00:00</td>\n      <td>220200906</td>\n      <td>3</td>\n      <td>2</td>\n      <td>...</td>\n      <td>Night</td>\n      <td>2021-52</td>\n      <td>4</td>\n      <td>0</td>\n      <td>2</td>\n      <td>1</td>\n      <td>2</td>\n      <td>0</td>\n      <td>11</td>\n      <td>Entities</td>\n    </tr>\n    <tr>\n      <th>1072383</th>\n      <td>1072383</td>\n      <td>1072383</td>\n      <td>1072383</td>\n      <td>1072383</td>\n      <td>1477036825579507714</td>\n      <td>No one told me I’d have a real life princess. ...</td>\n      <td>2021-12-31 21:59:55+00:00</td>\n      <td>38572410</td>\n      <td>0</td>\n      <td>0</td>\n      <td>...</td>\n      <td>Night</td>\n      <td>2021-52</td>\n      <td>4</td>\n      <td>0</td>\n      <td>2</td>\n      <td>1</td>\n      <td>2</td>\n      <td>0</td>\n      <td>12</td>\n      <td>Interest and Hobbies</td>\n    </tr>\n    <tr>\n      <th>336561</th>\n      <td>336561</td>\n      <td>336561</td>\n      <td>336561</td>\n      <td>336561</td>\n      <td>1477036830046539785</td>\n      <td>G hell naw lmao https://t.co/9GVpEO8Z9C</td>\n      <td>2021-12-31 21:59:56+00:00</td>\n      <td>48836966</td>\n      <td>0</td>\n      <td>0</td>\n      <td>...</td>\n      <td>Night</td>\n      <td>2021-52</td>\n      <td>4</td>\n      <td>0</td>\n      <td>2</td>\n      <td>1</td>\n      <td>0</td>\n      <td>0</td>\n      <td>12</td>\n      <td>Brand</td>\n    </tr>\n  </tbody>\n</table>\n<p>175763 rows × 35 columns</p>\n</div>"
     },
     "execution_count": 10,
     "metadata": {},
     "output_type": "execute_result"
    }
   ],
   "source": [
    "df_2021_topics = df_2021[(~df_2021['topics'].isnull()) & (df_2021['topics'] != '')]\n",
    "df_2021_topics"
   ],
   "metadata": {
    "collapsed": false,
    "pycharm": {
     "name": "#%%\n"
    }
   }
  },
  {
   "cell_type": "code",
   "execution_count": 11,
   "outputs": [
    {
     "data": {
      "text/plain": "Index(['like_count', 'retweet_count', 'quote_count', 'reply_count', 'reach',\n       'sentiment_enc', 'day_phase_enc', 'day_of_week_enc', 'month_enc',\n       'topics_ids', 'followers', 'following', 'tweet_count', 'verified_enc',\n       'seniority'],\n      dtype='object')"
     },
     "execution_count": 11,
     "metadata": {},
     "output_type": "execute_result"
    }
   ],
   "source": [
    "inputs = df_2020_topics[tweet_vars + users_vars]\n",
    "inputs.columns"
   ],
   "metadata": {
    "collapsed": false,
    "pycharm": {
     "name": "#%%\n"
    }
   }
  },
  {
   "cell_type": "code",
   "execution_count": 12,
   "outputs": [
    {
     "data": {
      "text/plain": "        like_count  retweet_count  quote_count  reply_count  reach  \\\n754046           2              0            0            0   1567   \n794722           1              0            0            0    131   \n715602           0              0            0            0    547   \n429640           1              0            0            0    172   \n226031           2              0            0            1     13   \n...            ...            ...          ...          ...    ...   \n399609           0              0            0            0   1411   \n156096           0              0            0            0   1028   \n387888           3              0            0            1    199   \n800667           0              0            0            0    116   \n137216           5              0            0            0    441   \n\n        sentiment_enc  day_phase_enc  day_of_week_enc  month_enc  topics_ids  \\\n754046              1              4                1          9          11   \n794722              0              0                6          2           3   \n715602              2              4                0         10           6   \n429640              1              1                1          5          30   \n226031              0              2                2          3          88   \n...               ...            ...              ...        ...         ...   \n399609              2              1                2          0          30   \n156096              1              0                6          4          10   \n387888              2              3                2          0          30   \n800667              0              2                5          2          10   \n137216              2              1                3          0          10   \n\n        followers  following  tweet_count  verified_enc  seniority  \n754046       1567         37        14893             0         13  \n794722        131         92         3423             0          8  \n715602        547       1294        18962             0         10  \n429640        172        481         3522             0         13  \n226031         13         99          119             0          3  \n...           ...        ...          ...           ...        ...  \n399609       1411       2820        53863             0         10  \n156096       1028       1612        46242             0         10  \n387888        199        338         5131             0          3  \n800667        116        612         6017             0          5  \n137216        441        744        50226             0         12  \n\n[57276 rows x 15 columns]",
      "text/html": "<div>\n<style scoped>\n    .dataframe tbody tr th:only-of-type {\n        vertical-align: middle;\n    }\n\n    .dataframe tbody tr th {\n        vertical-align: top;\n    }\n\n    .dataframe thead th {\n        text-align: right;\n    }\n</style>\n<table border=\"1\" class=\"dataframe\">\n  <thead>\n    <tr style=\"text-align: right;\">\n      <th></th>\n      <th>like_count</th>\n      <th>retweet_count</th>\n      <th>quote_count</th>\n      <th>reply_count</th>\n      <th>reach</th>\n      <th>sentiment_enc</th>\n      <th>day_phase_enc</th>\n      <th>day_of_week_enc</th>\n      <th>month_enc</th>\n      <th>topics_ids</th>\n      <th>followers</th>\n      <th>following</th>\n      <th>tweet_count</th>\n      <th>verified_enc</th>\n      <th>seniority</th>\n    </tr>\n  </thead>\n  <tbody>\n    <tr>\n      <th>754046</th>\n      <td>2</td>\n      <td>0</td>\n      <td>0</td>\n      <td>0</td>\n      <td>1567</td>\n      <td>1</td>\n      <td>4</td>\n      <td>1</td>\n      <td>9</td>\n      <td>11</td>\n      <td>1567</td>\n      <td>37</td>\n      <td>14893</td>\n      <td>0</td>\n      <td>13</td>\n    </tr>\n    <tr>\n      <th>794722</th>\n      <td>1</td>\n      <td>0</td>\n      <td>0</td>\n      <td>0</td>\n      <td>131</td>\n      <td>0</td>\n      <td>0</td>\n      <td>6</td>\n      <td>2</td>\n      <td>3</td>\n      <td>131</td>\n      <td>92</td>\n      <td>3423</td>\n      <td>0</td>\n      <td>8</td>\n    </tr>\n    <tr>\n      <th>715602</th>\n      <td>0</td>\n      <td>0</td>\n      <td>0</td>\n      <td>0</td>\n      <td>547</td>\n      <td>2</td>\n      <td>4</td>\n      <td>0</td>\n      <td>10</td>\n      <td>6</td>\n      <td>547</td>\n      <td>1294</td>\n      <td>18962</td>\n      <td>0</td>\n      <td>10</td>\n    </tr>\n    <tr>\n      <th>429640</th>\n      <td>1</td>\n      <td>0</td>\n      <td>0</td>\n      <td>0</td>\n      <td>172</td>\n      <td>1</td>\n      <td>1</td>\n      <td>1</td>\n      <td>5</td>\n      <td>30</td>\n      <td>172</td>\n      <td>481</td>\n      <td>3522</td>\n      <td>0</td>\n      <td>13</td>\n    </tr>\n    <tr>\n      <th>226031</th>\n      <td>2</td>\n      <td>0</td>\n      <td>0</td>\n      <td>1</td>\n      <td>13</td>\n      <td>0</td>\n      <td>2</td>\n      <td>2</td>\n      <td>3</td>\n      <td>88</td>\n      <td>13</td>\n      <td>99</td>\n      <td>119</td>\n      <td>0</td>\n      <td>3</td>\n    </tr>\n    <tr>\n      <th>...</th>\n      <td>...</td>\n      <td>...</td>\n      <td>...</td>\n      <td>...</td>\n      <td>...</td>\n      <td>...</td>\n      <td>...</td>\n      <td>...</td>\n      <td>...</td>\n      <td>...</td>\n      <td>...</td>\n      <td>...</td>\n      <td>...</td>\n      <td>...</td>\n      <td>...</td>\n    </tr>\n    <tr>\n      <th>399609</th>\n      <td>0</td>\n      <td>0</td>\n      <td>0</td>\n      <td>0</td>\n      <td>1411</td>\n      <td>2</td>\n      <td>1</td>\n      <td>2</td>\n      <td>0</td>\n      <td>30</td>\n      <td>1411</td>\n      <td>2820</td>\n      <td>53863</td>\n      <td>0</td>\n      <td>10</td>\n    </tr>\n    <tr>\n      <th>156096</th>\n      <td>0</td>\n      <td>0</td>\n      <td>0</td>\n      <td>0</td>\n      <td>1028</td>\n      <td>1</td>\n      <td>0</td>\n      <td>6</td>\n      <td>4</td>\n      <td>10</td>\n      <td>1028</td>\n      <td>1612</td>\n      <td>46242</td>\n      <td>0</td>\n      <td>10</td>\n    </tr>\n    <tr>\n      <th>387888</th>\n      <td>3</td>\n      <td>0</td>\n      <td>0</td>\n      <td>1</td>\n      <td>199</td>\n      <td>2</td>\n      <td>3</td>\n      <td>2</td>\n      <td>0</td>\n      <td>30</td>\n      <td>199</td>\n      <td>338</td>\n      <td>5131</td>\n      <td>0</td>\n      <td>3</td>\n    </tr>\n    <tr>\n      <th>800667</th>\n      <td>0</td>\n      <td>0</td>\n      <td>0</td>\n      <td>0</td>\n      <td>116</td>\n      <td>0</td>\n      <td>2</td>\n      <td>5</td>\n      <td>2</td>\n      <td>10</td>\n      <td>116</td>\n      <td>612</td>\n      <td>6017</td>\n      <td>0</td>\n      <td>5</td>\n    </tr>\n    <tr>\n      <th>137216</th>\n      <td>5</td>\n      <td>0</td>\n      <td>0</td>\n      <td>0</td>\n      <td>441</td>\n      <td>2</td>\n      <td>1</td>\n      <td>3</td>\n      <td>0</td>\n      <td>10</td>\n      <td>441</td>\n      <td>744</td>\n      <td>50226</td>\n      <td>0</td>\n      <td>12</td>\n    </tr>\n  </tbody>\n</table>\n<p>57276 rows × 15 columns</p>\n</div>"
     },
     "execution_count": 12,
     "metadata": {},
     "output_type": "execute_result"
    }
   ],
   "source": [
    "targets = df_2020_topics['popularity']\n",
    "X_train, X_validation, y_train, y_validation = train_test_split(inputs, targets, test_size=validation_size, random_state=seed, shuffle=True)\n",
    "X_train"
   ],
   "metadata": {
    "collapsed": false,
    "pycharm": {
     "name": "#%%\n"
    }
   }
  },
  {
   "cell_type": "markdown",
   "source": [
    "#### Partition of numeric and categorical datasets"
   ],
   "metadata": {
    "collapsed": false,
    "pycharm": {
     "name": "#%% md\n"
    }
   }
  },
  {
   "cell_type": "code",
   "execution_count": 13,
   "outputs": [],
   "source": [
    "X_train_num = X_train[num_vars].set_index(X_train.index)\n",
    "X_train_cat = X_train[cat_vars].set_index(X_train.index)\n",
    "\n",
    "X_val_num = X_validation[num_vars].set_index(X_validation.index)\n",
    "X_val_cat = X_validation[cat_vars].set_index(X_validation.index)"
   ],
   "metadata": {
    "collapsed": false,
    "pycharm": {
     "name": "#%%\n"
    }
   }
  },
  {
   "cell_type": "markdown",
   "source": [
    "## Standardization"
   ],
   "metadata": {
    "collapsed": false,
    "pycharm": {
     "name": "#%% md\n"
    }
   }
  },
  {
   "cell_type": "code",
   "execution_count": 14,
   "outputs": [],
   "source": [
    "scaler = StandardScaler()\n",
    "X_train_scaled = scaler.fit_transform(X_train)\n",
    "X_train_scaled = pd.DataFrame(X_train_scaled , columns = X_train.columns)\n",
    "\n",
    "X_val_scaled = scaler.fit_transform(X_validation)\n",
    "X_val_scaled = pd.DataFrame(X_val_scaled , columns = X_validation.columns)"
   ],
   "metadata": {
    "collapsed": false,
    "pycharm": {
     "name": "#%%\n"
    }
   }
  },
  {
   "cell_type": "code",
   "execution_count": 15,
   "outputs": [],
   "source": [
    "scaler = StandardScaler().fit(X_train_num)\n",
    "X_train_num_scaled = scaler.transform(X_train_num)\n",
    "X_train_num_scaled = pd.DataFrame(X_train_num_scaled, columns = X_train_num.columns).set_index(X_train.index)\n",
    "\n",
    "X_val_num_scaled = scaler.transform(X_val_num)\n",
    "X_val_num_scaled = pd.DataFrame(X_val_num_scaled, columns = X_val_num.columns).set_index(X_validation.index)"
   ],
   "metadata": {
    "collapsed": false,
    "pycharm": {
     "name": "#%%\n"
    }
   }
  },
  {
   "cell_type": "markdown",
   "source": [
    "## Feature Selection"
   ],
   "metadata": {
    "collapsed": false,
    "pycharm": {
     "name": "#%% md\n"
    }
   }
  },
  {
   "cell_type": "code",
   "execution_count": 16,
   "outputs": [],
   "source": [
    "variables_to_keep = ['like_count', 'reply_count', 'followers', 'month_enc', 'verified_enc', 'day_phase_enc', 'topics_ids', 'sentiment_enc']"
   ],
   "metadata": {
    "collapsed": false,
    "pycharm": {
     "name": "#%%\n"
    }
   }
  },
  {
   "cell_type": "code",
   "execution_count": 17,
   "outputs": [
    {
     "data": {
      "text/plain": "0    0.808243\n1    0.191757\nName: popularity, dtype: float64"
     },
     "execution_count": 17,
     "metadata": {},
     "output_type": "execute_result"
    }
   ],
   "source": [
    "X_train_scaled = X_train_scaled[variables_to_keep]\n",
    "X_val_scaled = X_val_scaled[variables_to_keep]\n",
    "df_2020['popularity'].value_counts(normalize=True)"
   ],
   "metadata": {
    "collapsed": false,
    "pycharm": {
     "name": "#%%\n"
    }
   }
  },
  {
   "cell_type": "markdown",
   "source": [
    "## Balacing the dataset"
   ],
   "metadata": {
    "collapsed": false,
    "pycharm": {
     "name": "#%% md\n"
    }
   }
  },
  {
   "cell_type": "markdown",
   "source": [
    "#### SMOTE method"
   ],
   "metadata": {
    "collapsed": false,
    "pycharm": {
     "name": "#%% md\n"
    }
   }
  },
  {
   "cell_type": "code",
   "execution_count": 18,
   "outputs": [
    {
     "name": "stdout",
     "output_type": "stream",
     "text": [
      "Before over sampling:  Counter({0: 46533, 1: 10743})\n",
      "After over sampling:  Counter({0: 46533, 1: 46533})\n"
     ]
    }
   ],
   "source": [
    "# summarize class distribution\n",
    "print(\"Before over sampling: \", Counter(y_train))\n",
    "over_sample = SMOTE(random_state=seed)\n",
    "X_train_over, y_train_over = over_sample.fit_resample(X_train_scaled, y_train)\n",
    "# summarize class distribution\n",
    "print(\"After over sampling: \", Counter(y_train_over))"
   ],
   "metadata": {
    "collapsed": false,
    "pycharm": {
     "name": "#%%\n"
    }
   }
  },
  {
   "cell_type": "markdown",
   "source": [
    "## Models"
   ],
   "metadata": {
    "collapsed": false,
    "pycharm": {
     "name": "#%% md\n"
    }
   }
  },
  {
   "cell_type": "markdown",
   "source": [
    "### Defining the algorithms"
   ],
   "metadata": {
    "collapsed": false,
    "pycharm": {
     "name": "#%% md\n"
    }
   }
  },
  {
   "cell_type": "code",
   "execution_count": 19,
   "outputs": [],
   "source": [
    "models = [('LR', LogisticRegression(solver='lbfgs')), ('LDA', LinearDiscriminantAnalysis()),\n",
    "          ('KNN', KNeighborsClassifier()), ('CART', DecisionTreeClassifier()), ('NB', GaussianNB())]\n",
    "          #('SVM', SVC(gamma='scale'))]"
   ],
   "metadata": {
    "collapsed": false,
    "pycharm": {
     "name": "#%%\n"
    }
   }
  },
  {
   "cell_type": "code",
   "execution_count": 20,
   "outputs": [],
   "source": [
    "def algorithm_comparison(title):\n",
    "    fig = plt.figure()\n",
    "    fig.suptitle(title)\n",
    "    ax = fig.add_subplot(111)\n",
    "    plt.boxplot(results)\n",
    "    ax.set_xticklabels(names)\n",
    "    plt.figure(figsize=(16, 9))\n",
    "    plt.show()"
   ],
   "metadata": {
    "collapsed": false,
    "pycharm": {
     "name": "#%%\n"
    }
   }
  },
  {
   "cell_type": "markdown",
   "source": [
    "#### Algorithm benchmark with Under Sampling"
   ],
   "metadata": {
    "collapsed": false,
    "pycharm": {
     "name": "#%% md\n"
    }
   }
  },
  {
   "cell_type": "code",
   "execution_count": 21,
   "outputs": [
    {
     "name": "stdout",
     "output_type": "stream",
     "text": [
      "LR: 0.684900 (0.150400)\n",
      "LDA: 0.247254 (0.083613)\n",
      "KNN: 0.777051 (0.021218)\n",
      "CART: 0.839233 (0.083118)\n",
      "NB: 0.606664 (0.272147)\n"
     ]
    }
   ],
   "source": [
    "results = []\n",
    "names = []\n",
    "for name, model in models:\n",
    "\tkfold = KFold(n_splits=num_folds)\n",
    "\tcv_results = cross_val_score(model, X_train_over, y_train_over, cv=kfold, scoring=scoring)\n",
    "\tresults.append(cv_results)\n",
    "\tnames.append(name)\n",
    "\tmsg = \"%s: %f (%f)\" % (name, cv_results.mean(), cv_results.std())\n",
    "\tprint(msg)"
   ],
   "metadata": {
    "collapsed": false,
    "pycharm": {
     "name": "#%%\n"
    }
   }
  },
  {
   "cell_type": "code",
   "execution_count": 22,
   "outputs": [
    {
     "data": {
      "text/plain": "<Figure size 432x288 with 1 Axes>",
      "image/png": "[encoded data removed]"
     },
     "metadata": {},
     "output_type": "display_data"
    },
    {
     "data": {
      "text/plain": "<Figure size 1152x648 with 0 Axes>"
     },
     "metadata": {},
     "output_type": "display_data"
    }
   ],
   "source": [
    "algorithm_comparison('Algorithm performance with under sampling')"
   ],
   "metadata": {
    "collapsed": false,
    "pycharm": {
     "name": "#%%\n"
    }
   }
  },
  {
   "cell_type": "markdown",
   "source": [
    "### Ensemble methods"
   ],
   "metadata": {
    "collapsed": false,
    "pycharm": {
     "name": "#%% md\n"
    }
   }
  },
  {
   "cell_type": "markdown",
   "source": [
    "#### Algorithm benchmark with Under Sampling"
   ],
   "metadata": {
    "collapsed": false,
    "pycharm": {
     "name": "#%% md\n"
    }
   }
  },
  {
   "cell_type": "code",
   "execution_count": 23,
   "outputs": [
    {
     "name": "stdout",
     "output_type": "stream",
     "text": [
      "AB: 0.844530 (0.056167)\n",
      "GBM: 0.873757 (0.041386)\n",
      "RFC: 0.881805 (0.061042)\n",
      "ET: 0.866310 (0.046291)\n"
     ]
    }
   ],
   "source": [
    "warnings.filterwarnings(\"ignore\", category=DeprecationWarning)\n",
    "warnings.filterwarnings(\"ignore\", category=FutureWarning)\n",
    "\n",
    "ensembles = [('AB', AdaBoostClassifier()), ('GBM', GradientBoostingClassifier()),\n",
    "             ('RFC', RandomForestClassifier(n_estimators=100)), ('ET', ExtraTreesClassifier())]\n",
    "results = []\n",
    "names = []\n",
    "for name, model in ensembles:\n",
    "    kfold = KFold(n_splits=num_folds)\n",
    "    cv_results = cross_val_score(model, X_train_over, y_train_over, cv=kfold, scoring=scoring)\n",
    "    results.append(cv_results)\n",
    "    names.append(name)\n",
    "    msg = \"%s: %f (%f)\" % (name, cv_results.mean(), cv_results.std())\n",
    "    print(msg)"
   ],
   "metadata": {
    "collapsed": false,
    "pycharm": {
     "name": "#%%\n"
    }
   }
  },
  {
   "cell_type": "code",
   "execution_count": 24,
   "outputs": [
    {
     "data": {
      "text/plain": "<Figure size 432x288 with 1 Axes>",
      "image/png": "[encoded data removed]"
     },
     "metadata": {},
     "output_type": "display_data"
    },
    {
     "data": {
      "text/plain": "<Figure size 1152x648 with 0 Axes>"
     },
     "metadata": {},
     "output_type": "display_data"
    }
   ],
   "source": [
    "algorithm_comparison('Ensemble Algorithm Performance with under sampling')"
   ],
   "metadata": {
    "collapsed": false,
    "pycharm": {
     "name": "#%%\n"
    }
   }
  },
  {
   "cell_type": "markdown",
   "source": [
    "## Selecting the best model"
   ],
   "metadata": {
    "collapsed": false,
    "pycharm": {
     "name": "#%% md\n"
    }
   }
  },
  {
   "cell_type": "code",
   "execution_count": 25,
   "outputs": [],
   "source": [
    "def run_tuned_random_forest(x_train, x_test, y_train, y_test):\n",
    "    model = RandomForestClassifier(random_state=seed, n_estimators=100)\n",
    "    model.fit(x_train, y_train)\n",
    "    predictions = model.predict(x_test)\n",
    "    print(accuracy_score(y_test, predictions))\n",
    "    print(confusion_matrix(y_test, predictions))\n",
    "    print(classification_report(y_test, predictions))\n",
    "    joblib.dump(model, '../../data/models/popularity.joblib')"
   ],
   "metadata": {
    "collapsed": false,
    "pycharm": {
     "name": "#%%\n"
    }
   }
  },
  {
   "cell_type": "code",
   "execution_count": 26,
   "outputs": [
    {
     "name": "stdout",
     "output_type": "stream",
     "text": [
      "0.18604981780361698\n",
      "[[     1 108782]\n",
      " [     0  24864]]\n",
      "              precision    recall  f1-score   support\n",
      "\n",
      "           0       1.00      0.00      0.00    108783\n",
      "           1       0.19      1.00      0.31     24864\n",
      "\n",
      "    accuracy                           0.19    133647\n",
      "   macro avg       0.59      0.50      0.16    133647\n",
      "weighted avg       0.85      0.19      0.06    133647\n",
      "\n"
     ]
    }
   ],
   "source": [
    "run_tuned_random_forest(X_train_over, X_val_scaled, y_train_over, y_validation)"
   ],
   "metadata": {
    "collapsed": false,
    "pycharm": {
     "name": "#%%\n"
    }
   }
  },
  {
   "cell_type": "code",
   "execution_count": 27,
   "outputs": [],
   "source": [
    "def run_tuned_gradient_boosting(x_train, x_test, y_train, y_test):\n",
    "    model = GradientBoostingClassifier(learning_rate=0.05, n_estimators=80, max_depth=9, min_samples_split=1200, min_samples_leaf=40, subsample=0.85, max_features=7, random_state=seed)\n",
    "    model.fit(x_train, y_train)\n",
    "    predictions = model.predict(x_test)\n",
    "    print(accuracy_score(y_test, predictions))\n",
    "    print(confusion_matrix(y_test, predictions))\n",
    "    print(classification_report(y_test, predictions))\n",
    "    joblib.dump(model, '../../data/models/popularity.joblib')"
   ],
   "metadata": {
    "collapsed": false,
    "pycharm": {
     "name": "#%%\n"
    }
   }
  },
  {
   "cell_type": "code",
   "execution_count": 28,
   "outputs": [
    {
     "name": "stdout",
     "output_type": "stream",
     "text": [
      "0.1860423354059575\n",
      "[[     0 108783]\n",
      " [     0  24864]]\n",
      "              precision    recall  f1-score   support\n",
      "\n",
      "           0       0.00      0.00      0.00    108783\n",
      "           1       0.19      1.00      0.31     24864\n",
      "\n",
      "    accuracy                           0.19    133647\n",
      "   macro avg       0.09      0.50      0.16    133647\n",
      "weighted avg       0.03      0.19      0.06    133647\n",
      "\n"
     ]
    },
    {
     "name": "stderr",
     "output_type": "stream",
     "text": [
      "/Users/migueloliveira/opt/anaconda3/envs/pythonProject2/lib/python3.10/site-packages/sklearn/metrics/_classification.py:1318: UndefinedMetricWarning: Precision and F-score are ill-defined and being set to 0.0 in labels with no predicted samples. Use `zero_division` parameter to control this behavior.\n",
      "  _warn_prf(average, modifier, msg_start, len(result))\n",
      "/Users/migueloliveira/opt/anaconda3/envs/pythonProject2/lib/python3.10/site-packages/sklearn/metrics/_classification.py:1318: UndefinedMetricWarning: Precision and F-score are ill-defined and being set to 0.0 in labels with no predicted samples. Use `zero_division` parameter to control this behavior.\n",
      "  _warn_prf(average, modifier, msg_start, len(result))\n",
      "/Users/migueloliveira/opt/anaconda3/envs/pythonProject2/lib/python3.10/site-packages/sklearn/metrics/_classification.py:1318: UndefinedMetricWarning: Precision and F-score are ill-defined and being set to 0.0 in labels with no predicted samples. Use `zero_division` parameter to control this behavior.\n",
      "  _warn_prf(average, modifier, msg_start, len(result))\n"
     ]
    }
   ],
   "source": [
    "run_tuned_gradient_boosting(X_train_over, X_val_scaled, y_train_over, y_validation)"
   ],
   "metadata": {
    "collapsed": false,
    "pycharm": {
     "name": "#%%\n"
    }
   }
  },
  {
   "cell_type": "markdown",
   "source": [
    "## Testing the created model to predict 2021 tweets popularity"
   ],
   "metadata": {
    "collapsed": false,
    "pycharm": {
     "name": "#%% md\n"
    }
   }
  },
  {
   "cell_type": "code",
   "execution_count": 29,
   "outputs": [],
   "source": [
    "test_2021 = df_2021_topics[variables_to_keep]\n",
    "target = df_2021_topics['popularity']"
   ],
   "metadata": {
    "collapsed": false,
    "pycharm": {
     "name": "#%%\n"
    }
   }
  },
  {
   "cell_type": "code",
   "execution_count": 30,
   "outputs": [
    {
     "name": "stdout",
     "output_type": "stream",
     "text": [
      "0.19368126397478422\n",
      "[[     0 141721]\n",
      " [     0  34042]]\n",
      "              precision    recall  f1-score   support\n",
      "\n",
      "           0       0.00      0.00      0.00    141721\n",
      "           1       0.19      1.00      0.32     34042\n",
      "\n",
      "    accuracy                           0.19    175763\n",
      "   macro avg       0.10      0.50      0.16    175763\n",
      "weighted avg       0.04      0.19      0.06    175763\n",
      "\n"
     ]
    },
    {
     "name": "stderr",
     "output_type": "stream",
     "text": [
      "/Users/migueloliveira/opt/anaconda3/envs/pythonProject2/lib/python3.10/site-packages/sklearn/metrics/_classification.py:1318: UndefinedMetricWarning: Precision and F-score are ill-defined and being set to 0.0 in labels with no predicted samples. Use `zero_division` parameter to control this behavior.\n",
      "  _warn_prf(average, modifier, msg_start, len(result))\n",
      "/Users/migueloliveira/opt/anaconda3/envs/pythonProject2/lib/python3.10/site-packages/sklearn/metrics/_classification.py:1318: UndefinedMetricWarning: Precision and F-score are ill-defined and being set to 0.0 in labels with no predicted samples. Use `zero_division` parameter to control this behavior.\n",
      "  _warn_prf(average, modifier, msg_start, len(result))\n",
      "/Users/migueloliveira/opt/anaconda3/envs/pythonProject2/lib/python3.10/site-packages/sklearn/metrics/_classification.py:1318: UndefinedMetricWarning: Precision and F-score are ill-defined and being set to 0.0 in labels with no predicted samples. Use `zero_division` parameter to control this behavior.\n",
      "  _warn_prf(average, modifier, msg_start, len(result))\n"
     ]
    }
   ],
   "source": [
    "popularity_model = joblib.load('../../data/models/popularity.joblib')\n",
    "predictions = popularity_model.predict(test_2021)\n",
    "print(accuracy_score(target, predictions))\n",
    "print(confusion_matrix(target, predictions))\n",
    "print(classification_report(target, predictions))"
   ],
   "metadata": {
    "collapsed": false,
    "pycharm": {
     "name": "#%%\n"
    }
   }
  },
  {
   "cell_type": "code",
   "execution_count": 30,
   "outputs": [],
   "source": [],
   "metadata": {
    "collapsed": false,
    "pycharm": {
     "name": "#%%\n"
    }
   }
  }
 ],
 "metadata": {
  "kernelspec": {
   "display_name": "Python 3",
   "language": "python",
   "name": "python3"
  },
  "language_info": {
   "codemirror_mode": {
    "name": "ipython",
    "version": 2
   },
   "file_extension": ".py",
   "mimetype": "text/x-python",
   "name": "python",
   "nbconvert_exporter": "python",
   "pygments_lexer": "ipython2",
   "version": "2.7.6"
  }
 },
 "nbformat": 4,
 "nbformat_minor": 0
}