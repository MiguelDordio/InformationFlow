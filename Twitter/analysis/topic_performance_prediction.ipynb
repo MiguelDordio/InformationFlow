{
 "cells": [
  {
   "cell_type": "code",
   "execution_count": 47,
   "outputs": [],
   "source": [
    "import math\n",
    "import numpy\n",
    "import numpy as np\n",
    "import pandas as pd\n",
    "import seaborn as sns\n",
    "import matplotlib.pyplot as plt\n",
    "from itertools import cycle\n",
    "import plotly.express as px\n",
    "import plotly.graph_objects as go\n",
    "from plotly.subplots import make_subplots\n",
    "import datetime\n",
    "import sys\n",
    "import joblib\n",
    "import warnings\n",
    "from sklearn.ensemble import RandomForestClassifier, AdaBoostClassifier, GradientBoostingClassifier, ExtraTreesClassifier\n",
    "from sklearn.model_selection import train_test_split, GridSearchCV, KFold, cross_val_score\n",
    "from sklearn.preprocessing import StandardScaler\n",
    "from sklearn.metrics import classification_report, confusion_matrix, accuracy_score\n",
    "from sklearn.preprocessing import LabelEncoder\n",
    "from imblearn.under_sampling import RandomUnderSampler\n",
    "from sklearn.feature_selection import RFE\n",
    "from mlxtend.feature_selection import SequentialFeatureSelector as Sfs\n",
    "from sklearn.feature_selection import chi2\n",
    "from sklearn.linear_model import LassoCV\n",
    "from sklearn.linear_model import RidgeCV\n",
    "from sklearn.feature_selection import f_classif\n",
    "from sklearn.feature_selection import SelectKBest\n",
    "from sklearn.discriminant_analysis import LinearDiscriminantAnalysis\n",
    "from sklearn.linear_model import LogisticRegression\n",
    "from sklearn.naive_bayes import GaussianNB\n",
    "from sklearn.tree import DecisionTreeClassifier\n",
    "from dateutil.relativedelta import relativedelta\n",
    "from imblearn.over_sampling import SMOTE\n",
    "from sklearn.neighbors import KNeighborsClassifier\n",
    "from sklearn.metrics import mean_absolute_error\n",
    "from collections import Counter\n",
    "import plotly.express as px\n",
    "from lightgbm import LGBMRegressor\n",
    "from sklearn.ensemble import GradientBoostingRegressor"
   ],
   "metadata": {
    "collapsed": false,
    "pycharm": {
     "name": "#%%\n"
    }
   }
  },
  {
   "cell_type": "code",
   "execution_count": 48,
   "outputs": [],
   "source": [
    "sns.set()"
   ],
   "metadata": {
    "collapsed": false,
    "pycharm": {
     "name": "#%%\n"
    }
   }
  },
  {
   "cell_type": "code",
   "execution_count": 49,
   "outputs": [
    {
     "data": {
      "text/plain": "         Unnamed: 0.2  Unnamed: 0.1  Unnamed: 0    index             tweet_id  \\\n612261         612261        612261      612261   612261  1477036834261770241   \n98252           98252         98252       98252    98252  1477036835603836932   \n1072384       1072384       1072384     1072384  1072384  1477036838217035777   \n1072385       1072385       1072385     1072385  1072385  1477036840024567809   \n1072386       1072386       1072386     1072386  1072386  1477036841933185025   \n\n                                                      text  \\\n612261             …. them crawfish was so good yall lmfao   \n98252    Damn all the freaks are at the New Bev right n...   \n1072384  Fast And Professional Vehicle Lockout Service ...   \n1072385             Very much this https://t.co/b3bgtstLfr   \n1072386           Best thread ever https://t.co/EBo4JkTCx4   \n\n                         timestamp             user_id  like_count  \\\n612261   2021-12-31 21:59:57+00:00  795707439219884037           0   \n98252    2021-12-31 21:59:58+00:00            34679503          26   \n1072384  2021-12-31 21:59:58+00:00           210241982           0   \n1072385  2021-12-31 21:59:59+00:00           883576549           3   \n1072386  2021-12-31 21:59:59+00:00           131371694           0   \n\n         retweet_count  ...  day_phase  week_idx  day_phase_enc  \\\n612261               0  ...      Night   2021-52              4   \n98252                0  ...      Night   2021-52              4   \n1072384              0  ...      Night   2021-52              4   \n1072385              0  ...      Night   2021-52              4   \n1072386              0  ...      Night   2021-52              4   \n\n         day_of_week_enc month_enc year_enc  sentiment_enc  verified_enc  \\\n612261                 0         2        1              2             0   \n98252                  0         2        1              1             0   \n1072384                0         2        1              0             0   \n1072385                0         2        1              1             0   \n1072386                0         2        1              2             0   \n\n         seniority  topics_cleaned  \n612261           5             NaN  \n98252           13             NaN  \n1072384         11             NaN  \n1072385          9             NaN  \n1072386         12             NaN  \n\n[5 rows x 35 columns]",
      "text/html": "<div>\n<style scoped>\n    .dataframe tbody tr th:only-of-type {\n        vertical-align: middle;\n    }\n\n    .dataframe tbody tr th {\n        vertical-align: top;\n    }\n\n    .dataframe thead th {\n        text-align: right;\n    }\n</style>\n<table border=\"1\" class=\"dataframe\">\n  <thead>\n    <tr style=\"text-align: right;\">\n      <th></th>\n      <th>Unnamed: 0.2</th>\n      <th>Unnamed: 0.1</th>\n      <th>Unnamed: 0</th>\n      <th>index</th>\n      <th>tweet_id</th>\n      <th>text</th>\n      <th>timestamp</th>\n      <th>user_id</th>\n      <th>like_count</th>\n      <th>retweet_count</th>\n      <th>...</th>\n      <th>day_phase</th>\n      <th>week_idx</th>\n      <th>day_phase_enc</th>\n      <th>day_of_week_enc</th>\n      <th>month_enc</th>\n      <th>year_enc</th>\n      <th>sentiment_enc</th>\n      <th>verified_enc</th>\n      <th>seniority</th>\n      <th>topics_cleaned</th>\n    </tr>\n  </thead>\n  <tbody>\n    <tr>\n      <th>612261</th>\n      <td>612261</td>\n      <td>612261</td>\n      <td>612261</td>\n      <td>612261</td>\n      <td>1477036834261770241</td>\n      <td>…. them crawfish was so good yall lmfao</td>\n      <td>2021-12-31 21:59:57+00:00</td>\n      <td>795707439219884037</td>\n      <td>0</td>\n      <td>0</td>\n      <td>...</td>\n      <td>Night</td>\n      <td>2021-52</td>\n      <td>4</td>\n      <td>0</td>\n      <td>2</td>\n      <td>1</td>\n      <td>2</td>\n      <td>0</td>\n      <td>5</td>\n      <td>NaN</td>\n    </tr>\n    <tr>\n      <th>98252</th>\n      <td>98252</td>\n      <td>98252</td>\n      <td>98252</td>\n      <td>98252</td>\n      <td>1477036835603836932</td>\n      <td>Damn all the freaks are at the New Bev right n...</td>\n      <td>2021-12-31 21:59:58+00:00</td>\n      <td>34679503</td>\n      <td>26</td>\n      <td>0</td>\n      <td>...</td>\n      <td>Night</td>\n      <td>2021-52</td>\n      <td>4</td>\n      <td>0</td>\n      <td>2</td>\n      <td>1</td>\n      <td>1</td>\n      <td>0</td>\n      <td>13</td>\n      <td>NaN</td>\n    </tr>\n    <tr>\n      <th>1072384</th>\n      <td>1072384</td>\n      <td>1072384</td>\n      <td>1072384</td>\n      <td>1072384</td>\n      <td>1477036838217035777</td>\n      <td>Fast And Professional Vehicle Lockout Service ...</td>\n      <td>2021-12-31 21:59:58+00:00</td>\n      <td>210241982</td>\n      <td>0</td>\n      <td>0</td>\n      <td>...</td>\n      <td>Night</td>\n      <td>2021-52</td>\n      <td>4</td>\n      <td>0</td>\n      <td>2</td>\n      <td>1</td>\n      <td>0</td>\n      <td>0</td>\n      <td>11</td>\n      <td>NaN</td>\n    </tr>\n    <tr>\n      <th>1072385</th>\n      <td>1072385</td>\n      <td>1072385</td>\n      <td>1072385</td>\n      <td>1072385</td>\n      <td>1477036840024567809</td>\n      <td>Very much this https://t.co/b3bgtstLfr</td>\n      <td>2021-12-31 21:59:59+00:00</td>\n      <td>883576549</td>\n      <td>3</td>\n      <td>0</td>\n      <td>...</td>\n      <td>Night</td>\n      <td>2021-52</td>\n      <td>4</td>\n      <td>0</td>\n      <td>2</td>\n      <td>1</td>\n      <td>1</td>\n      <td>0</td>\n      <td>9</td>\n      <td>NaN</td>\n    </tr>\n    <tr>\n      <th>1072386</th>\n      <td>1072386</td>\n      <td>1072386</td>\n      <td>1072386</td>\n      <td>1072386</td>\n      <td>1477036841933185025</td>\n      <td>Best thread ever https://t.co/EBo4JkTCx4</td>\n      <td>2021-12-31 21:59:59+00:00</td>\n      <td>131371694</td>\n      <td>0</td>\n      <td>0</td>\n      <td>...</td>\n      <td>Night</td>\n      <td>2021-52</td>\n      <td>4</td>\n      <td>0</td>\n      <td>2</td>\n      <td>1</td>\n      <td>2</td>\n      <td>0</td>\n      <td>12</td>\n      <td>NaN</td>\n    </tr>\n  </tbody>\n</table>\n<p>5 rows × 35 columns</p>\n</div>"
     },
     "execution_count": 49,
     "metadata": {},
     "output_type": "execute_result"
    }
   ],
   "source": [
    "# Data Import and overview\n",
    "DATASET_PATH = \"../../data/tweets_2020_2021_v2.csv\"\n",
    "df = pd.read_csv(filepath_or_buffer=DATASET_PATH, sep=\",\")\n",
    "df = df.sort_values(by='timestamp', ascending=True)\n",
    "df.tail()"
   ],
   "metadata": {
    "collapsed": false,
    "pycharm": {
     "name": "#%%\n"
    }
   }
  },
  {
   "cell_type": "code",
   "execution_count": 110,
   "outputs": [],
   "source": [
    "vars = ['like_count', 'retweet_count', 'quote_count', 'reply_count', 'reach', 'topics_ids', 'sentiment_enc', 'day_phase_enc', 'day_of_week_enc', 'month_enc', 'popularity', 'followers', 'following', 'tweet_count', 'verified_enc', 'seniority']\n",
    "tweet_vars = ['like_count', 'retweet_count', 'quote_count', 'reply_count', 'reach', 'sentiment_enc', 'day_phase_enc', 'day_of_week_enc', 'month_enc', 'topics_ids']\n",
    "users_vars = ['followers', 'following', 'tweet_count', 'verified_enc', 'seniority']\n",
    "num_vars = ['like_count', 'retweet_count', 'quote_count', 'reply_count', 'reach', 'followers', 'following', 'tweet_count', 'seniority']\n",
    "cat_vars = ['sentiment_enc', 'verified_enc', 'day_of_week_enc', 'day_phase_enc', 'month_enc']\n",
    "variables_to_keep = ['like_count', 'reply_count', 'reach', 'followers', 'month_enc', 'verified_enc', 'day_phase_enc', 'proc_time', 'retweet_count']"
   ],
   "metadata": {
    "collapsed": false,
    "pycharm": {
     "name": "#%%\n"
    }
   }
  },
  {
   "cell_type": "code",
   "execution_count": 51,
   "outputs": [],
   "source": [
    "df_2020 = df[df['year'] == 2020]\n",
    "df_2021 = df[df['year'] == 2021]"
   ],
   "metadata": {
    "collapsed": false,
    "pycharm": {
     "name": "#%%\n"
    }
   }
  },
  {
   "cell_type": "code",
   "execution_count": 52,
   "outputs": [
    {
     "data": {
      "text/plain": "(534942, 35)"
     },
     "execution_count": 52,
     "metadata": {},
     "output_type": "execute_result"
    }
   ],
   "source": [
    "df_2020.shape"
   ],
   "metadata": {
    "collapsed": false,
    "pycharm": {
     "name": "#%%\n"
    }
   }
  },
  {
   "cell_type": "code",
   "execution_count": 53,
   "outputs": [
    {
     "data": {
      "text/plain": "(537445, 35)"
     },
     "execution_count": 53,
     "metadata": {},
     "output_type": "execute_result"
    }
   ],
   "source": [
    "df_2021.shape"
   ],
   "metadata": {
    "collapsed": false,
    "pycharm": {
     "name": "#%%\n"
    }
   }
  },
  {
   "cell_type": "markdown",
   "source": [
    "# Machine Learning\n",
    "\n",
    "### Predicting tweet popularity in 2021 using 2020 data with topics"
   ],
   "metadata": {
    "collapsed": false,
    "pycharm": {
     "name": "#%% md\n"
    }
   }
  },
  {
   "cell_type": "markdown",
   "source": [
    "## Data spliting"
   ],
   "metadata": {
    "collapsed": false,
    "pycharm": {
     "name": "#%% md\n"
    }
   }
  },
  {
   "cell_type": "code",
   "execution_count": 54,
   "outputs": [],
   "source": [
    "num_folds = 7\n",
    "seed = 7\n",
    "scoring = 'accuracy'\n",
    "validation_size = 0.70"
   ],
   "metadata": {
    "collapsed": false,
    "pycharm": {
     "name": "#%%\n"
    }
   }
  },
  {
   "cell_type": "markdown",
   "source": [
    "### Only data from selected topic"
   ],
   "metadata": {
    "collapsed": false,
    "pycharm": {
     "name": "#%% md\n"
    }
   }
  },
  {
   "cell_type": "code",
   "execution_count": 95,
   "outputs": [
    {
     "data": {
      "text/plain": "(48349, 35)"
     },
     "execution_count": 95,
     "metadata": {},
     "output_type": "execute_result"
    }
   ],
   "source": [
    "df_2020_topic = df_2020[(~df_2020['topics'].isnull()) & (df_2020['topics_cleaned'] == 'Person')]\n",
    "#df_2020_topic = df_2020_topic[:100]\n",
    "df_2020_topic.shape"
   ],
   "metadata": {
    "collapsed": false,
    "pycharm": {
     "name": "#%%\n"
    }
   }
  },
  {
   "cell_type": "code",
   "execution_count": 96,
   "outputs": [
    {
     "data": {
      "text/plain": "(31801, 35)"
     },
     "execution_count": 96,
     "metadata": {},
     "output_type": "execute_result"
    }
   ],
   "source": [
    "df_2021_topic = df_2021[(~df_2021['topics'].isnull()) & (df_2021['topics_cleaned'] == 'Person')]\n",
    "#df_2021_topic = df_2021_topic[:100]\n",
    "df_2021_topic.shape"
   ],
   "metadata": {
    "collapsed": false,
    "pycharm": {
     "name": "#%%\n"
    }
   }
  },
  {
   "cell_type": "code",
   "execution_count": 97,
   "outputs": [
    {
     "name": "stderr",
     "output_type": "stream",
     "text": [
      "/var/folders/7r/g2lhjv3x7bb_lgcnhj7_q9hr0000gn/T/ipykernel_1067/4105467309.py:1: SettingWithCopyWarning:\n",
      "\n",
      "\n",
      "A value is trying to be set on a copy of a slice from a DataFrame.\n",
      "Try using .loc[row_indexer,col_indexer] = value instead\n",
      "\n",
      "See the caveats in the documentation: https://pandas.pydata.org/pandas-docs/stable/user_guide/indexing.html#returning-a-view-versus-a-copy\n",
      "\n",
      "/var/folders/7r/g2lhjv3x7bb_lgcnhj7_q9hr0000gn/T/ipykernel_1067/4105467309.py:2: SettingWithCopyWarning:\n",
      "\n",
      "\n",
      "A value is trying to be set on a copy of a slice from a DataFrame.\n",
      "Try using .loc[row_indexer,col_indexer] = value instead\n",
      "\n",
      "See the caveats in the documentation: https://pandas.pydata.org/pandas-docs/stable/user_guide/indexing.html#returning-a-view-versus-a-copy\n",
      "\n"
     ]
    },
    {
     "data": {
      "text/plain": "        Unnamed: 0.2  Unnamed: 0.1  Unnamed: 0   index             tweet_id  \\\n35                35            35          35      35  1212176423189909506   \n41                41            41          41      41  1212176426088181760   \n92                92            92          92      92  1212176433457569799   \n103              103           103         103     103  1212176432794722304   \n1753            1753          1753        1753    1753  1212176455507034112   \n...              ...           ...         ...     ...                  ...   \n522751        522751        522751      522751  522751  1344765232649003011   \n68748          68748         68748       68748   68748  1344765245307326465   \n737164        737164        737164      737164  737164  1344765245701697536   \n505196        505196        505196      505196  505196  1344765243201880066   \n803041        803041        803041      803041  803041  1344765250898452488   \n\n                                                     text  \\\n35          and he still cheating https://t.co/zYAQ8wc6Vg   \n41      Disgruntled Pope Francis pulls himself free fr...   \n92      Rihanna will be named the Petty Queen of the D...   \n103     #phish stream locked and loaded. No FOMO here....   \n1753        I’m 5’ 10” very hot 🤣 https://t.co/PhR4kLUeJz   \n...                                                   ...   \n522751  A black cop supporting trump, bro. Find the ne...   \n68748   This judge speaks the truth. Donald Trump is a...   \n737164  I ain’t gonna hold y’all but Tory Lanez have s...   \n505196  Yes this vote via Electoral College must b rev...   \n803041         i love them lmaooo https://t.co/ZN8AJnLddg   \n\n                        timestamp              user_id  like_count  \\\n35            2020-01-01 00:59:15           3322006549           2   \n41            2020-01-01 00:59:15            858762062           0   \n92            2020-01-01 00:59:17             95088762           0   \n103           2020-01-01 00:59:17            153245307           0   \n1753          2020-01-01 00:59:22            281482400           0   \n...                           ...                  ...         ...   \n522751  2020-12-31 21:59:50+00:00   913269161073299456           0   \n68748   2020-12-31 21:59:53+00:00           4745216682           0   \n737164  2020-12-31 21:59:53+00:00           3072562841           0   \n505196  2020-12-31 21:59:53+00:00   899380600506920961           0   \n803041  2020-12-31 21:59:55+00:00  1103253407182262272           1   \n\n        retweet_count  ...  week_idx  day_phase_enc  day_of_week_enc  \\\n35                  1  ...   2020-01              1                6   \n41                  0  ...   2020-01              1                6   \n92                  0  ...   2020-01              1                6   \n103                 0  ...   2020-01              1                6   \n1753                0  ...   2020-01              1                6   \n...               ...  ...       ...            ...              ...   \n522751              0  ...   2020-53              4                4   \n68748               0  ...   2020-53              4                4   \n737164              0  ...   2020-53              4                4   \n505196              0  ...   2020-53              4                4   \n803041              0  ...   2020-53              4                4   \n\n        month_enc year_enc sentiment_enc  verified_enc  seniority  \\\n35              4        0             0             0          6   \n41              4        0             2             0          9   \n92              4        0             2             0         12   \n103             4        0             0             0         11   \n1753            4        0             2             0         11   \n...           ...      ...           ...           ...        ...   \n522751          2        0             2             0          4   \n68748           2        0             0             0          6   \n737164          2        0             0             0          7   \n505196          2        0             2             0          4   \n803041          2        0             2             0          3   \n\n        topics_cleaned                 proc_time  \n35              Person 2020-01-01 00:59:15+00:00  \n41              Person 2020-01-01 00:59:15+00:00  \n92              Person 2020-01-01 00:59:17+00:00  \n103             Person 2020-01-01 00:59:17+00:00  \n1753            Person 2020-01-01 00:59:22+00:00  \n...                ...                       ...  \n522751          Person 2020-12-31 21:59:50+00:00  \n68748           Person 2020-12-31 21:59:53+00:00  \n737164          Person 2020-12-31 21:59:53+00:00  \n505196          Person 2020-12-31 21:59:53+00:00  \n803041          Person 2020-12-31 21:59:55+00:00  \n\n[48349 rows x 36 columns]",
      "text/html": "<div>\n<style scoped>\n    .dataframe tbody tr th:only-of-type {\n        vertical-align: middle;\n    }\n\n    .dataframe tbody tr th {\n        vertical-align: top;\n    }\n\n    .dataframe thead th {\n        text-align: right;\n    }\n</style>\n<table border=\"1\" class=\"dataframe\">\n  <thead>\n    <tr style=\"text-align: right;\">\n      <th></th>\n      <th>Unnamed: 0.2</th>\n      <th>Unnamed: 0.1</th>\n      <th>Unnamed: 0</th>\n      <th>index</th>\n      <th>tweet_id</th>\n      <th>text</th>\n      <th>timestamp</th>\n      <th>user_id</th>\n      <th>like_count</th>\n      <th>retweet_count</th>\n      <th>...</th>\n      <th>week_idx</th>\n      <th>day_phase_enc</th>\n      <th>day_of_week_enc</th>\n      <th>month_enc</th>\n      <th>year_enc</th>\n      <th>sentiment_enc</th>\n      <th>verified_enc</th>\n      <th>seniority</th>\n      <th>topics_cleaned</th>\n      <th>proc_time</th>\n    </tr>\n  </thead>\n  <tbody>\n    <tr>\n      <th>35</th>\n      <td>35</td>\n      <td>35</td>\n      <td>35</td>\n      <td>35</td>\n      <td>1212176423189909506</td>\n      <td>and he still cheating https://t.co/zYAQ8wc6Vg</td>\n      <td>2020-01-01 00:59:15</td>\n      <td>3322006549</td>\n      <td>2</td>\n      <td>1</td>\n      <td>...</td>\n      <td>2020-01</td>\n      <td>1</td>\n      <td>6</td>\n      <td>4</td>\n      <td>0</td>\n      <td>0</td>\n      <td>0</td>\n      <td>6</td>\n      <td>Person</td>\n      <td>2020-01-01 00:59:15+00:00</td>\n    </tr>\n    <tr>\n      <th>41</th>\n      <td>41</td>\n      <td>41</td>\n      <td>41</td>\n      <td>41</td>\n      <td>1212176426088181760</td>\n      <td>Disgruntled Pope Francis pulls himself free fr...</td>\n      <td>2020-01-01 00:59:15</td>\n      <td>858762062</td>\n      <td>0</td>\n      <td>0</td>\n      <td>...</td>\n      <td>2020-01</td>\n      <td>1</td>\n      <td>6</td>\n      <td>4</td>\n      <td>0</td>\n      <td>2</td>\n      <td>0</td>\n      <td>9</td>\n      <td>Person</td>\n      <td>2020-01-01 00:59:15+00:00</td>\n    </tr>\n    <tr>\n      <th>92</th>\n      <td>92</td>\n      <td>92</td>\n      <td>92</td>\n      <td>92</td>\n      <td>1212176433457569799</td>\n      <td>Rihanna will be named the Petty Queen of the D...</td>\n      <td>2020-01-01 00:59:17</td>\n      <td>95088762</td>\n      <td>0</td>\n      <td>0</td>\n      <td>...</td>\n      <td>2020-01</td>\n      <td>1</td>\n      <td>6</td>\n      <td>4</td>\n      <td>0</td>\n      <td>2</td>\n      <td>0</td>\n      <td>12</td>\n      <td>Person</td>\n      <td>2020-01-01 00:59:17+00:00</td>\n    </tr>\n    <tr>\n      <th>103</th>\n      <td>103</td>\n      <td>103</td>\n      <td>103</td>\n      <td>103</td>\n      <td>1212176432794722304</td>\n      <td>#phish stream locked and loaded. No FOMO here....</td>\n      <td>2020-01-01 00:59:17</td>\n      <td>153245307</td>\n      <td>0</td>\n      <td>0</td>\n      <td>...</td>\n      <td>2020-01</td>\n      <td>1</td>\n      <td>6</td>\n      <td>4</td>\n      <td>0</td>\n      <td>0</td>\n      <td>0</td>\n      <td>11</td>\n      <td>Person</td>\n      <td>2020-01-01 00:59:17+00:00</td>\n    </tr>\n    <tr>\n      <th>1753</th>\n      <td>1753</td>\n      <td>1753</td>\n      <td>1753</td>\n      <td>1753</td>\n      <td>1212176455507034112</td>\n      <td>I’m 5’ 10” very hot 🤣 https://t.co/PhR4kLUeJz</td>\n      <td>2020-01-01 00:59:22</td>\n      <td>281482400</td>\n      <td>0</td>\n      <td>0</td>\n      <td>...</td>\n      <td>2020-01</td>\n      <td>1</td>\n      <td>6</td>\n      <td>4</td>\n      <td>0</td>\n      <td>2</td>\n      <td>0</td>\n      <td>11</td>\n      <td>Person</td>\n      <td>2020-01-01 00:59:22+00:00</td>\n    </tr>\n    <tr>\n      <th>...</th>\n      <td>...</td>\n      <td>...</td>\n      <td>...</td>\n      <td>...</td>\n      <td>...</td>\n      <td>...</td>\n      <td>...</td>\n      <td>...</td>\n      <td>...</td>\n      <td>...</td>\n      <td>...</td>\n      <td>...</td>\n      <td>...</td>\n      <td>...</td>\n      <td>...</td>\n      <td>...</td>\n      <td>...</td>\n      <td>...</td>\n      <td>...</td>\n      <td>...</td>\n      <td>...</td>\n    </tr>\n    <tr>\n      <th>522751</th>\n      <td>522751</td>\n      <td>522751</td>\n      <td>522751</td>\n      <td>522751</td>\n      <td>1344765232649003011</td>\n      <td>A black cop supporting trump, bro. Find the ne...</td>\n      <td>2020-12-31 21:59:50+00:00</td>\n      <td>913269161073299456</td>\n      <td>0</td>\n      <td>0</td>\n      <td>...</td>\n      <td>2020-53</td>\n      <td>4</td>\n      <td>4</td>\n      <td>2</td>\n      <td>0</td>\n      <td>2</td>\n      <td>0</td>\n      <td>4</td>\n      <td>Person</td>\n      <td>2020-12-31 21:59:50+00:00</td>\n    </tr>\n    <tr>\n      <th>68748</th>\n      <td>68748</td>\n      <td>68748</td>\n      <td>68748</td>\n      <td>68748</td>\n      <td>1344765245307326465</td>\n      <td>This judge speaks the truth. Donald Trump is a...</td>\n      <td>2020-12-31 21:59:53+00:00</td>\n      <td>4745216682</td>\n      <td>0</td>\n      <td>0</td>\n      <td>...</td>\n      <td>2020-53</td>\n      <td>4</td>\n      <td>4</td>\n      <td>2</td>\n      <td>0</td>\n      <td>0</td>\n      <td>0</td>\n      <td>6</td>\n      <td>Person</td>\n      <td>2020-12-31 21:59:53+00:00</td>\n    </tr>\n    <tr>\n      <th>737164</th>\n      <td>737164</td>\n      <td>737164</td>\n      <td>737164</td>\n      <td>737164</td>\n      <td>1344765245701697536</td>\n      <td>I ain’t gonna hold y’all but Tory Lanez have s...</td>\n      <td>2020-12-31 21:59:53+00:00</td>\n      <td>3072562841</td>\n      <td>0</td>\n      <td>0</td>\n      <td>...</td>\n      <td>2020-53</td>\n      <td>4</td>\n      <td>4</td>\n      <td>2</td>\n      <td>0</td>\n      <td>0</td>\n      <td>0</td>\n      <td>7</td>\n      <td>Person</td>\n      <td>2020-12-31 21:59:53+00:00</td>\n    </tr>\n    <tr>\n      <th>505196</th>\n      <td>505196</td>\n      <td>505196</td>\n      <td>505196</td>\n      <td>505196</td>\n      <td>1344765243201880066</td>\n      <td>Yes this vote via Electoral College must b rev...</td>\n      <td>2020-12-31 21:59:53+00:00</td>\n      <td>899380600506920961</td>\n      <td>0</td>\n      <td>0</td>\n      <td>...</td>\n      <td>2020-53</td>\n      <td>4</td>\n      <td>4</td>\n      <td>2</td>\n      <td>0</td>\n      <td>2</td>\n      <td>0</td>\n      <td>4</td>\n      <td>Person</td>\n      <td>2020-12-31 21:59:53+00:00</td>\n    </tr>\n    <tr>\n      <th>803041</th>\n      <td>803041</td>\n      <td>803041</td>\n      <td>803041</td>\n      <td>803041</td>\n      <td>1344765250898452488</td>\n      <td>i love them lmaooo https://t.co/ZN8AJnLddg</td>\n      <td>2020-12-31 21:59:55+00:00</td>\n      <td>1103253407182262272</td>\n      <td>1</td>\n      <td>0</td>\n      <td>...</td>\n      <td>2020-53</td>\n      <td>4</td>\n      <td>4</td>\n      <td>2</td>\n      <td>0</td>\n      <td>2</td>\n      <td>0</td>\n      <td>3</td>\n      <td>Person</td>\n      <td>2020-12-31 21:59:55+00:00</td>\n    </tr>\n  </tbody>\n</table>\n<p>48349 rows × 36 columns</p>\n</div>"
     },
     "execution_count": 97,
     "metadata": {},
     "output_type": "execute_result"
    }
   ],
   "source": [
    "df_2020_topic['timestamp'] = pd.to_datetime(df_2020_topic['timestamp'])\n",
    "df_2020_topic['proc_time'] = [i.replace(tzinfo=datetime.timezone.utc) for i in df_2020_topic['timestamp']]\n",
    "df_2020_topic"
   ],
   "metadata": {
    "collapsed": false,
    "pycharm": {
     "name": "#%%\n"
    }
   }
  },
  {
   "cell_type": "code",
   "execution_count": 111,
   "outputs": [
    {
     "data": {
      "text/plain": "                           like_count  reply_count         reach  \\\nproc_time                                                          \n2020-01-01 00:00:00+00:00   50.026316     1.513158   5888.105263   \n2020-01-02 00:00:00+00:00    3.098901     0.318681   5963.934066   \n2020-01-03 00:00:00+00:00    4.536000     0.696000   9264.904000   \n2020-01-04 00:00:00+00:00    5.108696     0.413043   4946.467391   \n2020-01-05 00:00:00+00:00    2.804348     0.195652   3024.217391   \n...                               ...          ...           ...   \n2020-12-27 00:00:00+00:00    2.121622     0.216216  12038.162162   \n2020-12-28 00:00:00+00:00   36.297872     1.765957  18040.797872   \n2020-12-29 00:00:00+00:00    9.181102     0.417323   6991.606299   \n2020-12-30 00:00:00+00:00    2.036364     0.390909   7166.445455   \n2020-12-31 00:00:00+00:00    7.244444     0.633333   6230.844444   \n\n                              followers  month_enc  verified_enc  \\\nproc_time                                                          \n2020-01-01 00:00:00+00:00   3592.684211        4.0      0.039474   \n2020-01-02 00:00:00+00:00   5823.604396        4.0      0.032967   \n2020-01-03 00:00:00+00:00   8985.808000        4.0      0.040000   \n2020-01-04 00:00:00+00:00   3480.369565        4.0      0.032609   \n2020-01-05 00:00:00+00:00   3007.260870        4.0      0.010870   \n...                                 ...        ...           ...   \n2020-12-27 00:00:00+00:00  11939.162162        2.0      0.040541   \n2020-12-28 00:00:00+00:00   3527.244681        2.0      0.042553   \n2020-12-29 00:00:00+00:00   6804.795276        2.0      0.062992   \n2020-12-30 00:00:00+00:00   4109.027273        2.0      0.045455   \n2020-12-31 00:00:00+00:00   3563.400000        2.0      0.033333   \n\n                           day_phase_enc  retweet_count  \nproc_time                                                \n2020-01-01 00:00:00+00:00       1.486842       9.539474  \n2020-01-02 00:00:00+00:00       2.010989       0.483516  \n2020-01-03 00:00:00+00:00       2.016000       0.528000  \n2020-01-04 00:00:00+00:00       1.652174       0.760870  \n2020-01-05 00:00:00+00:00       2.086957       0.858696  \n...                                  ...            ...  \n2020-12-27 00:00:00+00:00       2.013514       0.162162  \n2020-12-28 00:00:00+00:00       2.021277       1.393617  \n2020-12-29 00:00:00+00:00       2.070866       1.031496  \n2020-12-30 00:00:00+00:00       1.990909       0.363636  \n2020-12-31 00:00:00+00:00       2.000000       1.188889  \n\n[366 rows x 8 columns]",
      "text/html": "<div>\n<style scoped>\n    .dataframe tbody tr th:only-of-type {\n        vertical-align: middle;\n    }\n\n    .dataframe tbody tr th {\n        vertical-align: top;\n    }\n\n    .dataframe thead th {\n        text-align: right;\n    }\n</style>\n<table border=\"1\" class=\"dataframe\">\n  <thead>\n    <tr style=\"text-align: right;\">\n      <th></th>\n      <th>like_count</th>\n      <th>reply_count</th>\n      <th>reach</th>\n      <th>followers</th>\n      <th>month_enc</th>\n      <th>verified_enc</th>\n      <th>day_phase_enc</th>\n      <th>retweet_count</th>\n    </tr>\n    <tr>\n      <th>proc_time</th>\n      <th></th>\n      <th></th>\n      <th></th>\n      <th></th>\n      <th></th>\n      <th></th>\n      <th></th>\n      <th></th>\n    </tr>\n  </thead>\n  <tbody>\n    <tr>\n      <th>2020-01-01 00:00:00+00:00</th>\n      <td>50.026316</td>\n      <td>1.513158</td>\n      <td>5888.105263</td>\n      <td>3592.684211</td>\n      <td>4.0</td>\n      <td>0.039474</td>\n      <td>1.486842</td>\n      <td>9.539474</td>\n    </tr>\n    <tr>\n      <th>2020-01-02 00:00:00+00:00</th>\n      <td>3.098901</td>\n      <td>0.318681</td>\n      <td>5963.934066</td>\n      <td>5823.604396</td>\n      <td>4.0</td>\n      <td>0.032967</td>\n      <td>2.010989</td>\n      <td>0.483516</td>\n    </tr>\n    <tr>\n      <th>2020-01-03 00:00:00+00:00</th>\n      <td>4.536000</td>\n      <td>0.696000</td>\n      <td>9264.904000</td>\n      <td>8985.808000</td>\n      <td>4.0</td>\n      <td>0.040000</td>\n      <td>2.016000</td>\n      <td>0.528000</td>\n    </tr>\n    <tr>\n      <th>2020-01-04 00:00:00+00:00</th>\n      <td>5.108696</td>\n      <td>0.413043</td>\n      <td>4946.467391</td>\n      <td>3480.369565</td>\n      <td>4.0</td>\n      <td>0.032609</td>\n      <td>1.652174</td>\n      <td>0.760870</td>\n    </tr>\n    <tr>\n      <th>2020-01-05 00:00:00+00:00</th>\n      <td>2.804348</td>\n      <td>0.195652</td>\n      <td>3024.217391</td>\n      <td>3007.260870</td>\n      <td>4.0</td>\n      <td>0.010870</td>\n      <td>2.086957</td>\n      <td>0.858696</td>\n    </tr>\n    <tr>\n      <th>...</th>\n      <td>...</td>\n      <td>...</td>\n      <td>...</td>\n      <td>...</td>\n      <td>...</td>\n      <td>...</td>\n      <td>...</td>\n      <td>...</td>\n    </tr>\n    <tr>\n      <th>2020-12-27 00:00:00+00:00</th>\n      <td>2.121622</td>\n      <td>0.216216</td>\n      <td>12038.162162</td>\n      <td>11939.162162</td>\n      <td>2.0</td>\n      <td>0.040541</td>\n      <td>2.013514</td>\n      <td>0.162162</td>\n    </tr>\n    <tr>\n      <th>2020-12-28 00:00:00+00:00</th>\n      <td>36.297872</td>\n      <td>1.765957</td>\n      <td>18040.797872</td>\n      <td>3527.244681</td>\n      <td>2.0</td>\n      <td>0.042553</td>\n      <td>2.021277</td>\n      <td>1.393617</td>\n    </tr>\n    <tr>\n      <th>2020-12-29 00:00:00+00:00</th>\n      <td>9.181102</td>\n      <td>0.417323</td>\n      <td>6991.606299</td>\n      <td>6804.795276</td>\n      <td>2.0</td>\n      <td>0.062992</td>\n      <td>2.070866</td>\n      <td>1.031496</td>\n    </tr>\n    <tr>\n      <th>2020-12-30 00:00:00+00:00</th>\n      <td>2.036364</td>\n      <td>0.390909</td>\n      <td>7166.445455</td>\n      <td>4109.027273</td>\n      <td>2.0</td>\n      <td>0.045455</td>\n      <td>1.990909</td>\n      <td>0.363636</td>\n    </tr>\n    <tr>\n      <th>2020-12-31 00:00:00+00:00</th>\n      <td>7.244444</td>\n      <td>0.633333</td>\n      <td>6230.844444</td>\n      <td>3563.400000</td>\n      <td>2.0</td>\n      <td>0.033333</td>\n      <td>2.000000</td>\n      <td>1.188889</td>\n    </tr>\n  </tbody>\n</table>\n<p>366 rows × 8 columns</p>\n</div>"
     },
     "execution_count": 111,
     "metadata": {},
     "output_type": "execute_result"
    }
   ],
   "source": [
    "topic_performance_2020 = df_2020_topic[variables_to_keep].resample('D', on='proc_time').mean()\n",
    "topic_performance_2020"
   ],
   "metadata": {
    "collapsed": false,
    "pycharm": {
     "name": "#%%\n"
    }
   }
  },
  {
   "cell_type": "code",
   "execution_count": 112,
   "outputs": [
    {
     "name": "stderr",
     "output_type": "stream",
     "text": [
      "/var/folders/7r/g2lhjv3x7bb_lgcnhj7_q9hr0000gn/T/ipykernel_1067/2796613702.py:1: SettingWithCopyWarning:\n",
      "\n",
      "\n",
      "A value is trying to be set on a copy of a slice from a DataFrame.\n",
      "Try using .loc[row_indexer,col_indexer] = value instead\n",
      "\n",
      "See the caveats in the documentation: https://pandas.pydata.org/pandas-docs/stable/user_guide/indexing.html#returning-a-view-versus-a-copy\n",
      "\n",
      "/var/folders/7r/g2lhjv3x7bb_lgcnhj7_q9hr0000gn/T/ipykernel_1067/2796613702.py:2: SettingWithCopyWarning:\n",
      "\n",
      "\n",
      "A value is trying to be set on a copy of a slice from a DataFrame.\n",
      "Try using .loc[row_indexer,col_indexer] = value instead\n",
      "\n",
      "See the caveats in the documentation: https://pandas.pydata.org/pandas-docs/stable/user_guide/indexing.html#returning-a-view-versus-a-copy\n",
      "\n"
     ]
    }
   ],
   "source": [
    "df_2021_topic['timestamp'] = pd.to_datetime(df_2021_topic['timestamp'])\n",
    "df_2021_topic['proc_time'] = [i.replace(tzinfo=datetime.timezone.utc) for i in df_2021_topic['timestamp']]\n",
    "#df_2021_topic = df_2021_topic.set_index(df.timestamp)"
   ],
   "metadata": {
    "collapsed": false,
    "pycharm": {
     "name": "#%%\n"
    }
   }
  },
  {
   "cell_type": "code",
   "execution_count": 113,
   "outputs": [
    {
     "data": {
      "text/plain": "                           like_count  reply_count         reach    followers  \\\nproc_time                                                                       \n2021-01-01 00:00:00+00:00    3.384615     0.384615   3621.707692  3395.384615   \n2021-01-02 00:00:00+00:00    3.548387     0.387097   2305.182796  2043.580645   \n2021-01-03 00:00:00+00:00    2.880000     0.464000   2805.648000  2076.752000   \n2021-01-04 00:00:00+00:00   31.873950     1.428571  15234.991597  5803.210084   \n2021-01-05 00:00:00+00:00    2.253968     0.468254   2760.126984  2514.198413   \n...                               ...          ...           ...          ...   \n2021-12-27 00:00:00+00:00    2.634921     0.301587   2847.301587  2842.238095   \n2021-12-28 00:00:00+00:00    3.671233     0.301370   4335.082192  3839.534247   \n2021-12-29 00:00:00+00:00    8.849315     0.424658   3592.821918  3352.465753   \n2021-12-30 00:00:00+00:00    9.233766     0.402597   3831.181818  2082.090909   \n2021-12-31 00:00:00+00:00    2.962025     0.354430   2386.746835  2137.974684   \n\n                           month_enc  verified_enc  day_phase_enc  \\\nproc_time                                                           \n2021-01-01 00:00:00+00:00        4.0      0.046154       1.984615   \n2021-01-02 00:00:00+00:00        4.0      0.043011       1.827957   \n2021-01-03 00:00:00+00:00        4.0      0.016000       2.328000   \n2021-01-04 00:00:00+00:00        4.0      0.033613       1.983193   \n2021-01-05 00:00:00+00:00        4.0      0.015873       2.277778   \n...                              ...           ...            ...   \n2021-12-27 00:00:00+00:00        2.0      0.047619       2.079365   \n2021-12-28 00:00:00+00:00        2.0      0.041096       2.054795   \n2021-12-29 00:00:00+00:00        2.0      0.054795       2.219178   \n2021-12-30 00:00:00+00:00        2.0      0.000000       2.038961   \n2021-12-31 00:00:00+00:00        2.0      0.037975       2.253165   \n\n                           retweet_count  \nproc_time                                 \n2021-01-01 00:00:00+00:00       0.476923  \n2021-01-02 00:00:00+00:00       1.043011  \n2021-01-03 00:00:00+00:00       0.400000  \n2021-01-04 00:00:00+00:00       8.436975  \n2021-01-05 00:00:00+00:00       0.365079  \n...                                  ...  \n2021-12-27 00:00:00+00:00       0.253968  \n2021-12-28 00:00:00+00:00       0.561644  \n2021-12-29 00:00:00+00:00       0.602740  \n2021-12-30 00:00:00+00:00       1.389610  \n2021-12-31 00:00:00+00:00       0.518987  \n\n[365 rows x 8 columns]",
      "text/html": "<div>\n<style scoped>\n    .dataframe tbody tr th:only-of-type {\n        vertical-align: middle;\n    }\n\n    .dataframe tbody tr th {\n        vertical-align: top;\n    }\n\n    .dataframe thead th {\n        text-align: right;\n    }\n</style>\n<table border=\"1\" class=\"dataframe\">\n  <thead>\n    <tr style=\"text-align: right;\">\n      <th></th>\n      <th>like_count</th>\n      <th>reply_count</th>\n      <th>reach</th>\n      <th>followers</th>\n      <th>month_enc</th>\n      <th>verified_enc</th>\n      <th>day_phase_enc</th>\n      <th>retweet_count</th>\n    </tr>\n    <tr>\n      <th>proc_time</th>\n      <th></th>\n      <th></th>\n      <th></th>\n      <th></th>\n      <th></th>\n      <th></th>\n      <th></th>\n      <th></th>\n    </tr>\n  </thead>\n  <tbody>\n    <tr>\n      <th>2021-01-01 00:00:00+00:00</th>\n      <td>3.384615</td>\n      <td>0.384615</td>\n      <td>3621.707692</td>\n      <td>3395.384615</td>\n      <td>4.0</td>\n      <td>0.046154</td>\n      <td>1.984615</td>\n      <td>0.476923</td>\n    </tr>\n    <tr>\n      <th>2021-01-02 00:00:00+00:00</th>\n      <td>3.548387</td>\n      <td>0.387097</td>\n      <td>2305.182796</td>\n      <td>2043.580645</td>\n      <td>4.0</td>\n      <td>0.043011</td>\n      <td>1.827957</td>\n      <td>1.043011</td>\n    </tr>\n    <tr>\n      <th>2021-01-03 00:00:00+00:00</th>\n      <td>2.880000</td>\n      <td>0.464000</td>\n      <td>2805.648000</td>\n      <td>2076.752000</td>\n      <td>4.0</td>\n      <td>0.016000</td>\n      <td>2.328000</td>\n      <td>0.400000</td>\n    </tr>\n    <tr>\n      <th>2021-01-04 00:00:00+00:00</th>\n      <td>31.873950</td>\n      <td>1.428571</td>\n      <td>15234.991597</td>\n      <td>5803.210084</td>\n      <td>4.0</td>\n      <td>0.033613</td>\n      <td>1.983193</td>\n      <td>8.436975</td>\n    </tr>\n    <tr>\n      <th>2021-01-05 00:00:00+00:00</th>\n      <td>2.253968</td>\n      <td>0.468254</td>\n      <td>2760.126984</td>\n      <td>2514.198413</td>\n      <td>4.0</td>\n      <td>0.015873</td>\n      <td>2.277778</td>\n      <td>0.365079</td>\n    </tr>\n    <tr>\n      <th>...</th>\n      <td>...</td>\n      <td>...</td>\n      <td>...</td>\n      <td>...</td>\n      <td>...</td>\n      <td>...</td>\n      <td>...</td>\n      <td>...</td>\n    </tr>\n    <tr>\n      <th>2021-12-27 00:00:00+00:00</th>\n      <td>2.634921</td>\n      <td>0.301587</td>\n      <td>2847.301587</td>\n      <td>2842.238095</td>\n      <td>2.0</td>\n      <td>0.047619</td>\n      <td>2.079365</td>\n      <td>0.253968</td>\n    </tr>\n    <tr>\n      <th>2021-12-28 00:00:00+00:00</th>\n      <td>3.671233</td>\n      <td>0.301370</td>\n      <td>4335.082192</td>\n      <td>3839.534247</td>\n      <td>2.0</td>\n      <td>0.041096</td>\n      <td>2.054795</td>\n      <td>0.561644</td>\n    </tr>\n    <tr>\n      <th>2021-12-29 00:00:00+00:00</th>\n      <td>8.849315</td>\n      <td>0.424658</td>\n      <td>3592.821918</td>\n      <td>3352.465753</td>\n      <td>2.0</td>\n      <td>0.054795</td>\n      <td>2.219178</td>\n      <td>0.602740</td>\n    </tr>\n    <tr>\n      <th>2021-12-30 00:00:00+00:00</th>\n      <td>9.233766</td>\n      <td>0.402597</td>\n      <td>3831.181818</td>\n      <td>2082.090909</td>\n      <td>2.0</td>\n      <td>0.000000</td>\n      <td>2.038961</td>\n      <td>1.389610</td>\n    </tr>\n    <tr>\n      <th>2021-12-31 00:00:00+00:00</th>\n      <td>2.962025</td>\n      <td>0.354430</td>\n      <td>2386.746835</td>\n      <td>2137.974684</td>\n      <td>2.0</td>\n      <td>0.037975</td>\n      <td>2.253165</td>\n      <td>0.518987</td>\n    </tr>\n  </tbody>\n</table>\n<p>365 rows × 8 columns</p>\n</div>"
     },
     "execution_count": 113,
     "metadata": {},
     "output_type": "execute_result"
    }
   ],
   "source": [
    "topic_performance_2021 = df_2021_topic[variables_to_keep].resample('D', on='proc_time').mean()\n",
    "topic_performance_2021"
   ],
   "metadata": {
    "collapsed": false,
    "pycharm": {
     "name": "#%%\n"
    }
   }
  },
  {
   "cell_type": "code",
   "execution_count": 142,
   "outputs": [
    {
     "name": "stdout",
     "output_type": "stream",
     "text": [
      "(366, 7)\n",
      "(366,)\n"
     ]
    }
   ],
   "source": [
    "X_train = topic_performance_2020.drop('retweet_count', axis=1)\n",
    "y_train = topic_performance_2020['retweet_count']\n",
    "print(X_train.shape)\n",
    "print(y_train.shape)"
   ],
   "metadata": {
    "collapsed": false,
    "pycharm": {
     "name": "#%%\n"
    }
   }
  },
  {
   "cell_type": "code",
   "execution_count": 143,
   "outputs": [
    {
     "name": "stdout",
     "output_type": "stream",
     "text": [
      "(365, 7)\n",
      "(365,)\n"
     ]
    }
   ],
   "source": [
    "X_test = topic_performance_2021.drop('retweet_count', axis=1)\n",
    "y_test = topic_performance_2021['retweet_count']\n",
    "print(X_test.shape)\n",
    "print(y_test.shape)"
   ],
   "metadata": {
    "collapsed": false,
    "pycharm": {
     "name": "#%%\n"
    }
   }
  },
  {
   "cell_type": "code",
   "execution_count": 144,
   "outputs": [],
   "source": [
    "def train_time_series_with_folds(X_train, X_test, y_train, y_test):\n",
    "    #create, train and do inference of the model\n",
    "    model = GradientBoostingRegressor(random_state=42)\n",
    "    model.fit(X_train, y_train)\n",
    "\n",
    "    print(\"model trained\")\n",
    "\n",
    "    predictions = model.predict(X_test)\n",
    "\n",
    "    print(\"model done\")\n",
    "\n",
    "    #calculate MAE\n",
    "    mae = np.round(mean_absolute_error(y_test, predictions), 3)\n",
    "\n",
    "    res = []\n",
    "    for i in range(365):\n",
    "        d = dict()\n",
    "        d['timestamp'] = topic_performance_2021.index[i]\n",
    "        d['type'] = 'real'\n",
    "        d['value'] = y_test.iloc[i]\n",
    "        res.append(d)\n",
    "\n",
    "        d = dict()\n",
    "        d['timestamp'] = topic_performance_2021.index[i]\n",
    "        d['type'] = 'prediction'\n",
    "        d['value'] = predictions[i]\n",
    "        res.append(d)\n",
    "\n",
    "    df_results = pd.DataFrame(res)\n",
    "\n",
    "    fig = px.line(df_results, x=\"timestamp\", y=\"value\", color='type', title=(\"Predictions of topic retweet count average for 2021 with MAE:\" + str(mae)),\n",
    "             color_discrete_sequence=px.colors.qualitative.Safe, width=900, height=500)\n",
    "    #fig.add_trace()\n",
    "    fig.update_xaxes(title_text=\"Time\")\n",
    "    fig.update_yaxes(title_text=\"Retweet count\")\n",
    "    fig.show()\n",
    "\n",
    "\n",
    "    #create a dataframe with the variable importances of the model\n",
    "    df_importances = pd.DataFrame({\n",
    "        'feature': model.feature_names_in_,\n",
    "        'importance': model.feature_importances_\n",
    "    }).sort_values(by='importance', ascending=False)\n",
    "\n",
    "    fig = px.bar(df_importances, x=\"feature\", y=\"importance\", title=(\"Variable Importances\"),\n",
    "             color_discrete_sequence=px.colors.qualitative.Safe, width=900, height=500)\n",
    "    fig.show()"
   ],
   "metadata": {
    "collapsed": false,
    "pycharm": {
     "name": "#%%\n"
    }
   }
  },
  {
   "cell_type": "code",
   "execution_count": 145,
   "outputs": [
    {
     "name": "stdout",
     "output_type": "stream",
     "text": [
      "model trained\n",
      "model done\n"
     ]
    },
    {
     "data": {
      "application/vnd.plotly.v1+json": {
       "data": [
        {
         "hovertemplate": "type=real<br>timestamp=%{x}<br>value=%{y}<extra></extra>",
         "legendgroup": "real",
         "line": {
          "color": "rgb(136, 204, 238)",
          "dash": "solid"
         },
         "marker": {
          "symbol": "circle"
         },
         "mode": "lines",
         "name": "real",
         "orientation": "v",
         "showlegend": true,
         "x": [
          "2021-01-01T00:00:00+00:00",
          "2021-01-02T00:00:00+00:00",
          "2021-01-03T00:00:00+00:00",
          "2021-01-04T00:00:00+00:00",
          "2021-01-05T00:00:00+00:00",
          "2021-01-06T00:00:00+00:00",
          "2021-01-07T00:00:00+00:00",
          "2021-01-08T00:00:00+00:00",
          "2021-01-09T00:00:00+00:00",
          "2021-01-10T00:00:00+00:00",
          "2021-01-11T00:00:00+00:00",
          "2021-01-12T00:00:00+00:00",
          "2021-01-13T00:00:00+00:00",
          "2021-01-14T00:00:00+00:00",
          "2021-01-15T00:00:00+00:00",
          "2021-01-16T00:00:00+00:00",
          "2021-01-17T00:00:00+00:00",
          "2021-01-18T00:00:00+00:00",
          "2021-01-19T00:00:00+00:00",
          "2021-01-20T00:00:00+00:00",
          "2021-01-21T00:00:00+00:00",
          "2021-01-22T00:00:00+00:00",
          "2021-01-23T00:00:00+00:00",
          "2021-01-24T00:00:00+00:00",
          "2021-01-25T00:00:00+00:00",
          "2021-01-26T00:00:00+00:00",
          "2021-01-27T00:00:00+00:00",
          "2021-01-28T00:00:00+00:00",
          "2021-01-29T00:00:00+00:00",
          "2021-01-30T00:00:00+00:00",
          "2021-01-31T00:00:00+00:00",
          "2021-02-01T00:00:00+00:00",
          "2021-02-02T00:00:00+00:00",
          "2021-02-03T00:00:00+00:00",
          "2021-02-04T00:00:00+00:00",
          "2021-02-05T00:00:00+00:00",
          "2021-02-06T00:00:00+00:00",
          "2021-02-07T00:00:00+00:00",
          "2021-02-08T00:00:00+00:00",
          "2021-02-09T00:00:00+00:00",
          "2021-02-10T00:00:00+00:00",
          "2021-02-11T00:00:00+00:00",
          "2021-02-12T00:00:00+00:00",
          "2021-02-13T00:00:00+00:00",
          "2021-02-14T00:00:00+00:00",
          "2021-02-15T00:00:00+00:00",
          "2021-02-16T00:00:00+00:00",
          "2021-02-17T00:00:00+00:00",
          "2021-02-18T00:00:00+00:00",
          "2021-02-19T00:00:00+00:00",
          "2021-02-20T00:00:00+00:00",
          "2021-02-21T00:00:00+00:00",
          "2021-02-22T00:00:00+00:00",
          "2021-02-23T00:00:00+00:00",
          "2021-02-24T00:00:00+00:00",
          "2021-02-25T00:00:00+00:00",
          "2021-02-26T00:00:00+00:00",
          "2021-02-27T00:00:00+00:00",
          "2021-02-28T00:00:00+00:00",
          "2021-03-01T00:00:00+00:00",
          "2021-03-02T00:00:00+00:00",
          "2021-03-03T00:00:00+00:00",
          "2021-03-04T00:00:00+00:00",
          "2021-03-05T00:00:00+00:00",
          "2021-03-06T00:00:00+00:00",
          "2021-03-07T00:00:00+00:00",
          "2021-03-08T00:00:00+00:00",
          "2021-03-09T00:00:00+00:00",
          "2021-03-10T00:00:00+00:00",
          "2021-03-11T00:00:00+00:00",
          "2021-03-12T00:00:00+00:00",
          "2021-03-13T00:00:00+00:00",
          "2021-03-14T00:00:00+00:00",
          "2021-03-15T00:00:00+00:00",
          "2021-03-16T00:00:00+00:00",
          "2021-03-17T00:00:00+00:00",
          "2021-03-18T00:00:00+00:00",
          "2021-03-19T00:00:00+00:00",
          "2021-03-20T00:00:00+00:00",
          "2021-03-21T00:00:00+00:00",
          "2021-03-22T00:00:00+00:00",
          "2021-03-23T00:00:00+00:00",
          "2021-03-24T00:00:00+00:00",
          "2021-03-25T00:00:00+00:00",
          "2021-03-26T00:00:00+00:00",
          "2021-03-27T00:00:00+00:00",
          "2021-03-28T00:00:00+00:00",
          "2021-03-29T00:00:00+00:00",
          "2021-03-30T00:00:00+00:00",
          "2021-03-31T00:00:00+00:00",
          "2021-04-01T00:00:00+00:00",
          "2021-04-02T00:00:00+00:00",
          "2021-04-03T00:00:00+00:00",
          "2021-04-04T00:00:00+00:00",
          "2021-04-05T00:00:00+00:00",
          "2021-04-06T00:00:00+00:00",
          "2021-04-07T00:00:00+00:00",
          "2021-04-08T00:00:00+00:00",
          "2021-04-09T00:00:00+00:00",
          "2021-04-10T00:00:00+00:00",
          "2021-04-11T00:00:00+00:00",
          "2021-04-12T00:00:00+00:00",
          "2021-04-13T00:00:00+00:00",
          "2021-04-14T00:00:00+00:00",
          "2021-04-15T00:00:00+00:00",
          "2021-04-16T00:00:00+00:00",
          "2021-04-17T00:00:00+00:00",
          "2021-04-18T00:00:00+00:00",
          "2021-04-19T00:00:00+00:00",
          "2021-04-20T00:00:00+00:00",
          "2021-04-21T00:00:00+00:00",
          "2021-04-22T00:00:00+00:00",
          "2021-04-23T00:00:00+00:00",
          "2021-04-24T00:00:00+00:00",
          "2021-04-25T00:00:00+00:00",
          "2021-04-26T00:00:00+00:00",
          "2021-04-27T00:00:00+00:00",
          "2021-04-28T00:00:00+00:00",
          "2021-04-29T00:00:00+00:00",
          "2021-04-30T00:00:00+00:00",
          "2021-05-01T00:00:00+00:00",
          "2021-05-02T00:00:00+00:00",
          "2021-05-03T00:00:00+00:00",
          "2021-05-04T00:00:00+00:00",
          "2021-05-05T00:00:00+00:00",
          "2021-05-06T00:00:00+00:00",
          "2021-05-07T00:00:00+00:00",
          "2021-05-08T00:00:00+00:00",
          "2021-05-09T00:00:00+00:00",
          "2021-05-10T00:00:00+00:00",
          "2021-05-11T00:00:00+00:00",
          "2021-05-12T00:00:00+00:00",
          "2021-05-13T00:00:00+00:00",
          "2021-05-14T00:00:00+00:00",
          "2021-05-15T00:00:00+00:00",
          "2021-05-16T00:00:00+00:00",
          "2021-05-17T00:00:00+00:00",
          "2021-05-18T00:00:00+00:00",
          "2021-05-19T00:00:00+00:00",
          "2021-05-20T00:00:00+00:00",
          "2021-05-21T00:00:00+00:00",
          "2021-05-22T00:00:00+00:00",
          "2021-05-23T00:00:00+00:00",
          "2021-05-24T00:00:00+00:00",
          "2021-05-25T00:00:00+00:00",
          "2021-05-26T00:00:00+00:00",
          "2021-05-27T00:00:00+00:00",
          "2021-05-28T00:00:00+00:00",
          "2021-05-29T00:00:00+00:00",
          "2021-05-30T00:00:00+00:00",
          "2021-05-31T00:00:00+00:00",
          "2021-06-01T00:00:00+00:00",
          "2021-06-02T00:00:00+00:00",
          "2021-06-03T00:00:00+00:00",
          "2021-06-04T00:00:00+00:00",
          "2021-06-05T00:00:00+00:00",
          "2021-06-06T00:00:00+00:00",
          "2021-06-07T00:00:00+00:00",
          "2021-06-08T00:00:00+00:00",
          "2021-06-09T00:00:00+00:00",
          "2021-06-10T00:00:00+00:00",
          "2021-06-11T00:00:00+00:00",
          "2021-06-12T00:00:00+00:00",
          "2021-06-13T00:00:00+00:00",
          "2021-06-14T00:00:00+00:00",
          "2021-06-15T00:00:00+00:00",
          "2021-06-16T00:00:00+00:00",
          "2021-06-17T00:00:00+00:00",
          "2021-06-18T00:00:00+00:00",
          "2021-06-19T00:00:00+00:00",
          "2021-06-20T00:00:00+00:00",
          "2021-06-21T00:00:00+00:00",
          "2021-06-22T00:00:00+00:00",
          "2021-06-23T00:00:00+00:00",
          "2021-06-24T00:00:00+00:00",
          "2021-06-25T00:00:00+00:00",
          "2021-06-26T00:00:00+00:00",
          "2021-06-27T00:00:00+00:00",
          "2021-06-28T00:00:00+00:00",
          "2021-06-29T00:00:00+00:00",
          "2021-06-30T00:00:00+00:00",
          "2021-07-01T00:00:00+00:00",
          "2021-07-02T00:00:00+00:00",
          "2021-07-03T00:00:00+00:00",
          "2021-07-04T00:00:00+00:00",
          "2021-07-05T00:00:00+00:00",
          "2021-07-06T00:00:00+00:00",
          "2021-07-07T00:00:00+00:00",
          "2021-07-08T00:00:00+00:00",
          "2021-07-09T00:00:00+00:00",
          "2021-07-10T00:00:00+00:00",
          "2021-07-11T00:00:00+00:00",
          "2021-07-12T00:00:00+00:00",
          "2021-07-13T00:00:00+00:00",
          "2021-07-14T00:00:00+00:00",
          "2021-07-15T00:00:00+00:00",
          "2021-07-16T00:00:00+00:00",
          "2021-07-17T00:00:00+00:00",
          "2021-07-18T00:00:00+00:00",
          "2021-07-19T00:00:00+00:00",
          "2021-07-20T00:00:00+00:00",
          "2021-07-21T00:00:00+00:00",
          "2021-07-22T00:00:00+00:00",
          "2021-07-23T00:00:00+00:00",
          "2021-07-24T00:00:00+00:00",
          "2021-07-25T00:00:00+00:00",
          "2021-07-26T00:00:00+00:00",
          "2021-07-27T00:00:00+00:00",
          "2021-07-28T00:00:00+00:00",
          "2021-07-29T00:00:00+00:00",
          "2021-07-30T00:00:00+00:00",
          "2021-07-31T00:00:00+00:00",
          "2021-08-01T00:00:00+00:00",
          "2021-08-02T00:00:00+00:00",
          "2021-08-03T00:00:00+00:00",
          "2021-08-04T00:00:00+00:00",
          "2021-08-05T00:00:00+00:00",
          "2021-08-06T00:00:00+00:00",
          "2021-08-07T00:00:00+00:00",
          "2021-08-08T00:00:00+00:00",
          "2021-08-09T00:00:00+00:00",
          "2021-08-10T00:00:00+00:00",
          "2021-08-11T00:00:00+00:00",
          "2021-08-12T00:00:00+00:00",
          "2021-08-13T00:00:00+00:00",
          "2021-08-14T00:00:00+00:00",
          "2021-08-15T00:00:00+00:00",
          "2021-08-16T00:00:00+00:00",
          "2021-08-17T00:00:00+00:00",
          "2021-08-18T00:00:00+00:00",
          "2021-08-19T00:00:00+00:00",
          "2021-08-20T00:00:00+00:00",
          "2021-08-21T00:00:00+00:00",
          "2021-08-22T00:00:00+00:00",
          "2021-08-23T00:00:00+00:00",
          "2021-08-24T00:00:00+00:00",
          "2021-08-25T00:00:00+00:00",
          "2021-08-26T00:00:00+00:00",
          "2021-08-27T00:00:00+00:00",
          "2021-08-28T00:00:00+00:00",
          "2021-08-29T00:00:00+00:00",
          "2021-08-30T00:00:00+00:00",
          "2021-08-31T00:00:00+00:00",
          "2021-09-01T00:00:00+00:00",
          "2021-09-02T00:00:00+00:00",
          "2021-09-03T00:00:00+00:00",
          "2021-09-04T00:00:00+00:00",
          "2021-09-05T00:00:00+00:00",
          "2021-09-06T00:00:00+00:00",
          "2021-09-07T00:00:00+00:00",
          "2021-09-08T00:00:00+00:00",
          "2021-09-09T00:00:00+00:00",
          "2021-09-10T00:00:00+00:00",
          "2021-09-11T00:00:00+00:00",
          "2021-09-12T00:00:00+00:00",
          "2021-09-13T00:00:00+00:00",
          "2021-09-14T00:00:00+00:00",
          "2021-09-15T00:00:00+00:00",
          "2021-09-16T00:00:00+00:00",
          "2021-09-17T00:00:00+00:00",
          "2021-09-18T00:00:00+00:00",
          "2021-09-19T00:00:00+00:00",
          "2021-09-20T00:00:00+00:00",
          "2021-09-21T00:00:00+00:00",
          "2021-09-22T00:00:00+00:00",
          "2021-09-23T00:00:00+00:00",
          "2021-09-24T00:00:00+00:00",
          "2021-09-25T00:00:00+00:00",
          "2021-09-26T00:00:00+00:00",
          "2021-09-27T00:00:00+00:00",
          "2021-09-28T00:00:00+00:00",
          "2021-09-29T00:00:00+00:00",
          "2021-09-30T00:00:00+00:00",
          "2021-10-01T00:00:00+00:00",
          "2021-10-02T00:00:00+00:00",
          "2021-10-03T00:00:00+00:00",
          "2021-10-04T00:00:00+00:00",
          "2021-10-05T00:00:00+00:00",
          "2021-10-06T00:00:00+00:00",
          "2021-10-07T00:00:00+00:00",
          "2021-10-08T00:00:00+00:00",
          "2021-10-09T00:00:00+00:00",
          "2021-10-10T00:00:00+00:00",
          "2021-10-11T00:00:00+00:00",
          "2021-10-12T00:00:00+00:00",
          "2021-10-13T00:00:00+00:00",
          "2021-10-14T00:00:00+00:00",
          "2021-10-15T00:00:00+00:00",
          "2021-10-16T00:00:00+00:00",
          "2021-10-17T00:00:00+00:00",
          "2021-10-18T00:00:00+00:00",
          "2021-10-19T00:00:00+00:00",
          "2021-10-20T00:00:00+00:00",
          "2021-10-21T00:00:00+00:00",
          "2021-10-22T00:00:00+00:00",
          "2021-10-23T00:00:00+00:00",
          "2021-10-24T00:00:00+00:00",
          "2021-10-25T00:00:00+00:00",
          "2021-10-26T00:00:00+00:00",
          "2021-10-27T00:00:00+00:00",
          "2021-10-28T00:00:00+00:00",
          "2021-10-29T00:00:00+00:00",
          "2021-10-30T00:00:00+00:00",
          "2021-10-31T00:00:00+00:00",
          "2021-11-01T00:00:00+00:00",
          "2021-11-02T00:00:00+00:00",
          "2021-11-03T00:00:00+00:00",
          "2021-11-04T00:00:00+00:00",
          "2021-11-05T00:00:00+00:00",
          "2021-11-06T00:00:00+00:00",
          "2021-11-07T00:00:00+00:00",
          "2021-11-08T00:00:00+00:00",
          "2021-11-09T00:00:00+00:00",
          "2021-11-10T00:00:00+00:00",
          "2021-11-11T00:00:00+00:00",
          "2021-11-12T00:00:00+00:00",
          "2021-11-13T00:00:00+00:00",
          "2021-11-14T00:00:00+00:00",
          "2021-11-15T00:00:00+00:00",
          "2021-11-16T00:00:00+00:00",
          "2021-11-17T00:00:00+00:00",
          "2021-11-18T00:00:00+00:00",
          "2021-11-19T00:00:00+00:00",
          "2021-11-20T00:00:00+00:00",
          "2021-11-21T00:00:00+00:00",
          "2021-11-22T00:00:00+00:00",
          "2021-11-23T00:00:00+00:00",
          "2021-11-24T00:00:00+00:00",
          "2021-11-25T00:00:00+00:00",
          "2021-11-26T00:00:00+00:00",
          "2021-11-27T00:00:00+00:00",
          "2021-11-28T00:00:00+00:00",
          "2021-11-29T00:00:00+00:00",
          "2021-11-30T00:00:00+00:00",
          "2021-12-01T00:00:00+00:00",
          "2021-12-02T00:00:00+00:00",
          "2021-12-03T00:00:00+00:00",
          "2021-12-04T00:00:00+00:00",
          "2021-12-05T00:00:00+00:00",
          "2021-12-06T00:00:00+00:00",
          "2021-12-07T00:00:00+00:00",
          "2021-12-08T00:00:00+00:00",
          "2021-12-09T00:00:00+00:00",
          "2021-12-10T00:00:00+00:00",
          "2021-12-11T00:00:00+00:00",
          "2021-12-12T00:00:00+00:00",
          "2021-12-13T00:00:00+00:00",
          "2021-12-14T00:00:00+00:00",
          "2021-12-15T00:00:00+00:00",
          "2021-12-16T00:00:00+00:00",
          "2021-12-17T00:00:00+00:00",
          "2021-12-18T00:00:00+00:00",
          "2021-12-19T00:00:00+00:00",
          "2021-12-20T00:00:00+00:00",
          "2021-12-21T00:00:00+00:00",
          "2021-12-22T00:00:00+00:00",
          "2021-12-23T00:00:00+00:00",
          "2021-12-24T00:00:00+00:00",
          "2021-12-25T00:00:00+00:00",
          "2021-12-26T00:00:00+00:00",
          "2021-12-27T00:00:00+00:00",
          "2021-12-28T00:00:00+00:00",
          "2021-12-29T00:00:00+00:00",
          "2021-12-30T00:00:00+00:00",
          "2021-12-31T00:00:00+00:00"
         ],
         "xaxis": "x",
         "y": [
          0.47692307692307695,
          1.043010752688172,
          0.4,
          8.436974789915967,
          0.36507936507936506,
          0.7165354330708661,
          1.1237785016286646,
          0.5990783410138248,
          0.375,
          1.9617834394904459,
          1.1363636363636365,
          0.84,
          1.005128205128205,
          0.2484472049689441,
          0.3153846153846154,
          0.4188034188034188,
          1.368,
          0.46875,
          0.3258426966292135,
          0.3484848484848485,
          1.3959390862944163,
          5.067073170731708,
          0.44525547445255476,
          0.33884297520661155,
          0.18705035971223022,
          4.427536231884058,
          0.6814814814814815,
          4.279569892473118,
          1.2777777777777777,
          0.20987654320987653,
          0.5789473684210527,
          0.3402061855670103,
          1.3636363636363635,
          0.5188679245283019,
          0.6666666666666666,
          0.6581196581196581,
          0.35185185185185186,
          1.9684210526315788,
          0.3382352941176471,
          0.7522935779816514,
          0.22413793103448276,
          0.36752136752136755,
          0.5867768595041323,
          1.0888888888888888,
          0.2831858407079646,
          0.375,
          0.5465116279069767,
          0.3695652173913043,
          1.404040404040404,
          0.4,
          1.797752808988764,
          1.8,
          3.5046728971962615,
          0.36363636363636365,
          1.1020408163265305,
          0.4367816091954023,
          0.5157894736842106,
          0.37681159420289856,
          1.5,
          1.7191011235955056,
          0.3157894736842105,
          3.989130434782609,
          0.5925925925925926,
          2.0721649484536084,
          1.1647058823529413,
          0.3492063492063492,
          1.5975609756097562,
          1.7924528301886793,
          2.9,
          0.5813953488372093,
          0.7008547008547008,
          0.463768115942029,
          22.59259259259259,
          0.23711340206185566,
          1.0,
          0.7808219178082192,
          1.0297029702970297,
          0.9090909090909091,
          0.9166666666666666,
          1.626865671641791,
          3.85,
          0.33766233766233766,
          2.9166666666666665,
          0.391304347826087,
          0.7159090909090909,
          0.20253164556962025,
          0.2028985507246377,
          0.7619047619047619,
          0.40229885057471265,
          0.5851063829787234,
          1.8170731707317074,
          0.68,
          0.3181818181818182,
          0.22916666666666666,
          0.2835820895522388,
          0.7738095238095238,
          0.7534246575342466,
          0.18666666666666668,
          1.8617886178861789,
          24.378048780487806,
          0.5396825396825397,
          1.3733333333333333,
          0.5675675675675675,
          3.0617283950617282,
          0.5625,
          1.3186813186813187,
          0.9058823529411765,
          1.45,
          0.2875,
          1.9074074074074074,
          6.675,
          0.1794871794871795,
          0.2465753424657534,
          0.6268656716417911,
          1.7702702702702702,
          1.619047619047619,
          0.5789473684210527,
          0.75,
          0.1590909090909091,
          0.4166666666666667,
          2.1875,
          0.5254237288135594,
          0.36764705882352944,
          8.19277108433735,
          0.3424657534246575,
          0.32051282051282054,
          0.25,
          1.0377358490566038,
          0.18867924528301888,
          0.6274509803921569,
          0.3684210526315789,
          2.0,
          1.9090909090909092,
          1.5897435897435896,
          0.45454545454545453,
          0.4117647058823529,
          0.9322033898305084,
          0.8395061728395061,
          1.0705882352941176,
          0.24242424242424243,
          0.44871794871794873,
          1.4776119402985075,
          0.8653846153846154,
          0.49382716049382713,
          2.956043956043956,
          0.7096774193548387,
          0.8214285714285714,
          0.25882352941176473,
          0.18181818181818182,
          0.48214285714285715,
          0.5777777777777777,
          0.25,
          4.661290322580645,
          0.4117647058823529,
          0.7368421052631579,
          6.807017543859649,
          1.0972222222222223,
          0.9367088607594937,
          0.3717948717948718,
          1.4705882352941178,
          0.7272727272727273,
          1.2906976744186047,
          3.183098591549296,
          0.640625,
          0.4864864864864865,
          0.26153846153846155,
          1.8108108108108107,
          0.4603174603174603,
          1.0886075949367089,
          0.55,
          0.5238095238095238,
          0.46153846153846156,
          9.342465753424657,
          0.7777777777777778,
          0.5779816513761468,
          1.0705882352941176,
          1.4576271186440677,
          0.35443037974683544,
          0.3380281690140845,
          0.9722222222222222,
          0.5612244897959183,
          0.6095238095238096,
          0.9859154929577465,
          2.6666666666666665,
          1.0655737704918034,
          2.625,
          0.8769230769230769,
          1.1846153846153846,
          1.1728395061728396,
          0.8229166666666666,
          1.0,
          0.36923076923076925,
          0.2236842105263158,
          0.5180722891566265,
          0.5315315315315315,
          0.9012345679012346,
          0.5168539325842697,
          0.22950819672131148,
          7.016949152542373,
          1.7466666666666666,
          2.4727272727272727,
          0.26506024096385544,
          0.49382716049382713,
          0.21794871794871795,
          1.0533333333333332,
          0.6231884057971014,
          0.3382352941176471,
          0.573170731707317,
          0.6355140186915887,
          0.7407407407407407,
          2.064516129032258,
          1.4175824175824177,
          1.6029411764705883,
          0.6119402985074627,
          0.7922077922077922,
          0.2828282828282828,
          7.0,
          0.4716981132075472,
          0.6527777777777778,
          0.38235294117647056,
          1.6,
          0.4642857142857143,
          1.0864197530864197,
          0.7816091954022989,
          0.654320987654321,
          20.323076923076922,
          31.94871794871795,
          1.8295454545454546,
          0.5729166666666666,
          2.686046511627907,
          1.9545454545454546,
          1.6634615384615385,
          0.7945205479452054,
          1.3766233766233766,
          0.675,
          1.1333333333333333,
          0.3595505617977528,
          0.7065217391304348,
          8.409638554216867,
          0.9375,
          0.28888888888888886,
          1.835164835164835,
          1.3660714285714286,
          0.35353535353535354,
          1.6601941747572815,
          2.780141843971631,
          0.984375,
          3.0606060606060606,
          1.5813953488372092,
          0.6133333333333333,
          1.5151515151515151,
          0.41304347826086957,
          0.5510204081632653,
          0.31666666666666665,
          0.9508196721311475,
          0.3888888888888889,
          0.29850746268656714,
          27.8,
          0.5473684210526316,
          1.035294117647059,
          0.46774193548387094,
          0.2857142857142857,
          1.1022727272727273,
          24.294871794871796,
          0.3076923076923077,
          1.0810810810810811,
          1.4594594594594594,
          5.688524590163935,
          3.3943661971830985,
          0.5333333333333333,
          1.7567567567567568,
          0.5061728395061729,
          0.4069767441860465,
          0.14864864864864866,
          1.1764705882352942,
          0.4406779661016949,
          0.32857142857142857,
          1.103896103896104,
          0.36486486486486486,
          1.2352941176470589,
          0.1566265060240964,
          1.0,
          1.0517241379310345,
          0.410958904109589,
          1.904109589041096,
          13.125,
          3.4886363636363638,
          0.425531914893617,
          15.121212121212121,
          0.6486486486486487,
          0.6823529411764706,
          16.1046511627907,
          1.075268817204301,
          0.8904109589041096,
          0.5436893203883495,
          1.721311475409836,
          0.3888888888888889,
          0.7922077922077922,
          0.7419354838709677,
          2.282051282051282,
          1.3229166666666667,
          27.83783783783784,
          0.8,
          0.5957446808510638,
          0.5,
          0.6463414634146342,
          1.5473684210526315,
          7.114285714285714,
          4.818181818181818,
          0.1686746987951807,
          1.1794871794871795,
          3.1125,
          1.4642857142857142,
          0.23333333333333334,
          1.9019607843137254,
          2.5436893203883497,
          1.5789473684210527,
          0.8088235294117647,
          0.8431372549019608,
          3.044943820224719,
          0.23809523809523808,
          1.5393258426966292,
          12.60377358490566,
          3.7162162162162162,
          0.2459016393442623,
          1.5857142857142856,
          1.302325581395349,
          0.6197183098591549,
          2.0,
          6.916666666666667,
          0.546875,
          1.8059701492537314,
          1.1041666666666667,
          0.18478260869565216,
          0.7078651685393258,
          0.3157894736842105,
          0.4791666666666667,
          0.3918918918918919,
          0.68,
          1.876543209876543,
          0.625,
          1.3048780487804879,
          0.6707317073170732,
          0.6095238095238096,
          1.6582278481012658,
          0.6847826086956522,
          1.3465346534653466,
          1.8979591836734695,
          42.4367816091954,
          0.2358490566037736,
          0.5232558139534884,
          1.7777777777777777,
          0.3424657534246575,
          21.255555555555556,
          0.6707317073170732,
          0.5263157894736842,
          0.3411764705882353,
          0.8505747126436781,
          1.1265822784810127,
          0.42592592592592593,
          0.25396825396825395,
          0.5616438356164384,
          0.6027397260273972,
          1.3896103896103895,
          0.5189873417721519
         ],
         "yaxis": "y",
         "type": "scatter"
        },
        {
         "hovertemplate": "type=prediction<br>timestamp=%{x}<br>value=%{y}<extra></extra>",
         "legendgroup": "prediction",
         "line": {
          "color": "rgb(204, 102, 119)",
          "dash": "solid"
         },
         "marker": {
          "symbol": "circle"
         },
         "mode": "lines",
         "name": "prediction",
         "orientation": "v",
         "showlegend": true,
         "x": [
          "2021-01-01T00:00:00+00:00",
          "2021-01-02T00:00:00+00:00",
          "2021-01-03T00:00:00+00:00",
          "2021-01-04T00:00:00+00:00",
          "2021-01-05T00:00:00+00:00",
          "2021-01-06T00:00:00+00:00",
          "2021-01-07T00:00:00+00:00",
          "2021-01-08T00:00:00+00:00",
          "2021-01-09T00:00:00+00:00",
          "2021-01-10T00:00:00+00:00",
          "2021-01-11T00:00:00+00:00",
          "2021-01-12T00:00:00+00:00",
          "2021-01-13T00:00:00+00:00",
          "2021-01-14T00:00:00+00:00",
          "2021-01-15T00:00:00+00:00",
          "2021-01-16T00:00:00+00:00",
          "2021-01-17T00:00:00+00:00",
          "2021-01-18T00:00:00+00:00",
          "2021-01-19T00:00:00+00:00",
          "2021-01-20T00:00:00+00:00",
          "2021-01-21T00:00:00+00:00",
          "2021-01-22T00:00:00+00:00",
          "2021-01-23T00:00:00+00:00",
          "2021-01-24T00:00:00+00:00",
          "2021-01-25T00:00:00+00:00",
          "2021-01-26T00:00:00+00:00",
          "2021-01-27T00:00:00+00:00",
          "2021-01-28T00:00:00+00:00",
          "2021-01-29T00:00:00+00:00",
          "2021-01-30T00:00:00+00:00",
          "2021-01-31T00:00:00+00:00",
          "2021-02-01T00:00:00+00:00",
          "2021-02-02T00:00:00+00:00",
          "2021-02-03T00:00:00+00:00",
          "2021-02-04T00:00:00+00:00",
          "2021-02-05T00:00:00+00:00",
          "2021-02-06T00:00:00+00:00",
          "2021-02-07T00:00:00+00:00",
          "2021-02-08T00:00:00+00:00",
          "2021-02-09T00:00:00+00:00",
          "2021-02-10T00:00:00+00:00",
          "2021-02-11T00:00:00+00:00",
          "2021-02-12T00:00:00+00:00",
          "2021-02-13T00:00:00+00:00",
          "2021-02-14T00:00:00+00:00",
          "2021-02-15T00:00:00+00:00",
          "2021-02-16T00:00:00+00:00",
          "2021-02-17T00:00:00+00:00",
          "2021-02-18T00:00:00+00:00",
          "2021-02-19T00:00:00+00:00",
          "2021-02-20T00:00:00+00:00",
          "2021-02-21T00:00:00+00:00",
          "2021-02-22T00:00:00+00:00",
          "2021-02-23T00:00:00+00:00",
          "2021-02-24T00:00:00+00:00",
          "2021-02-25T00:00:00+00:00",
          "2021-02-26T00:00:00+00:00",
          "2021-02-27T00:00:00+00:00",
          "2021-02-28T00:00:00+00:00",
          "2021-03-01T00:00:00+00:00",
          "2021-03-02T00:00:00+00:00",
          "2021-03-03T00:00:00+00:00",
          "2021-03-04T00:00:00+00:00",
          "2021-03-05T00:00:00+00:00",
          "2021-03-06T00:00:00+00:00",
          "2021-03-07T00:00:00+00:00",
          "2021-03-08T00:00:00+00:00",
          "2021-03-09T00:00:00+00:00",
          "2021-03-10T00:00:00+00:00",
          "2021-03-11T00:00:00+00:00",
          "2021-03-12T00:00:00+00:00",
          "2021-03-13T00:00:00+00:00",
          "2021-03-14T00:00:00+00:00",
          "2021-03-15T00:00:00+00:00",
          "2021-03-16T00:00:00+00:00",
          "2021-03-17T00:00:00+00:00",
          "2021-03-18T00:00:00+00:00",
          "2021-03-19T00:00:00+00:00",
          "2021-03-20T00:00:00+00:00",
          "2021-03-21T00:00:00+00:00",
          "2021-03-22T00:00:00+00:00",
          "2021-03-23T00:00:00+00:00",
          "2021-03-24T00:00:00+00:00",
          "2021-03-25T00:00:00+00:00",
          "2021-03-26T00:00:00+00:00",
          "2021-03-27T00:00:00+00:00",
          "2021-03-28T00:00:00+00:00",
          "2021-03-29T00:00:00+00:00",
          "2021-03-30T00:00:00+00:00",
          "2021-03-31T00:00:00+00:00",
          "2021-04-01T00:00:00+00:00",
          "2021-04-02T00:00:00+00:00",
          "2021-04-03T00:00:00+00:00",
          "2021-04-04T00:00:00+00:00",
          "2021-04-05T00:00:00+00:00",
          "2021-04-06T00:00:00+00:00",
          "2021-04-07T00:00:00+00:00",
          "2021-04-08T00:00:00+00:00",
          "2021-04-09T00:00:00+00:00",
          "2021-04-10T00:00:00+00:00",
          "2021-04-11T00:00:00+00:00",
          "2021-04-12T00:00:00+00:00",
          "2021-04-13T00:00:00+00:00",
          "2021-04-14T00:00:00+00:00",
          "2021-04-15T00:00:00+00:00",
          "2021-04-16T00:00:00+00:00",
          "2021-04-17T00:00:00+00:00",
          "2021-04-18T00:00:00+00:00",
          "2021-04-19T00:00:00+00:00",
          "2021-04-20T00:00:00+00:00",
          "2021-04-21T00:00:00+00:00",
          "2021-04-22T00:00:00+00:00",
          "2021-04-23T00:00:00+00:00",
          "2021-04-24T00:00:00+00:00",
          "2021-04-25T00:00:00+00:00",
          "2021-04-26T00:00:00+00:00",
          "2021-04-27T00:00:00+00:00",
          "2021-04-28T00:00:00+00:00",
          "2021-04-29T00:00:00+00:00",
          "2021-04-30T00:00:00+00:00",
          "2021-05-01T00:00:00+00:00",
          "2021-05-02T00:00:00+00:00",
          "2021-05-03T00:00:00+00:00",
          "2021-05-04T00:00:00+00:00",
          "2021-05-05T00:00:00+00:00",
          "2021-05-06T00:00:00+00:00",
          "2021-05-07T00:00:00+00:00",
          "2021-05-08T00:00:00+00:00",
          "2021-05-09T00:00:00+00:00",
          "2021-05-10T00:00:00+00:00",
          "2021-05-11T00:00:00+00:00",
          "2021-05-12T00:00:00+00:00",
          "2021-05-13T00:00:00+00:00",
          "2021-05-14T00:00:00+00:00",
          "2021-05-15T00:00:00+00:00",
          "2021-05-16T00:00:00+00:00",
          "2021-05-17T00:00:00+00:00",
          "2021-05-18T00:00:00+00:00",
          "2021-05-19T00:00:00+00:00",
          "2021-05-20T00:00:00+00:00",
          "2021-05-21T00:00:00+00:00",
          "2021-05-22T00:00:00+00:00",
          "2021-05-23T00:00:00+00:00",
          "2021-05-24T00:00:00+00:00",
          "2021-05-25T00:00:00+00:00",
          "2021-05-26T00:00:00+00:00",
          "2021-05-27T00:00:00+00:00",
          "2021-05-28T00:00:00+00:00",
          "2021-05-29T00:00:00+00:00",
          "2021-05-30T00:00:00+00:00",
          "2021-05-31T00:00:00+00:00",
          "2021-06-01T00:00:00+00:00",
          "2021-06-02T00:00:00+00:00",
          "2021-06-03T00:00:00+00:00",
          "2021-06-04T00:00:00+00:00",
          "2021-06-05T00:00:00+00:00",
          "2021-06-06T00:00:00+00:00",
          "2021-06-07T00:00:00+00:00",
          "2021-06-08T00:00:00+00:00",
          "2021-06-09T00:00:00+00:00",
          "2021-06-10T00:00:00+00:00",
          "2021-06-11T00:00:00+00:00",
          "2021-06-12T00:00:00+00:00",
          "2021-06-13T00:00:00+00:00",
          "2021-06-14T00:00:00+00:00",
          "2021-06-15T00:00:00+00:00",
          "2021-06-16T00:00:00+00:00",
          "2021-06-17T00:00:00+00:00",
          "2021-06-18T00:00:00+00:00",
          "2021-06-19T00:00:00+00:00",
          "2021-06-20T00:00:00+00:00",
          "2021-06-21T00:00:00+00:00",
          "2021-06-22T00:00:00+00:00",
          "2021-06-23T00:00:00+00:00",
          "2021-06-24T00:00:00+00:00",
          "2021-06-25T00:00:00+00:00",
          "2021-06-26T00:00:00+00:00",
          "2021-06-27T00:00:00+00:00",
          "2021-06-28T00:00:00+00:00",
          "2021-06-29T00:00:00+00:00",
          "2021-06-30T00:00:00+00:00",
          "2021-07-01T00:00:00+00:00",
          "2021-07-02T00:00:00+00:00",
          "2021-07-03T00:00:00+00:00",
          "2021-07-04T00:00:00+00:00",
          "2021-07-05T00:00:00+00:00",
          "2021-07-06T00:00:00+00:00",
          "2021-07-07T00:00:00+00:00",
          "2021-07-08T00:00:00+00:00",
          "2021-07-09T00:00:00+00:00",
          "2021-07-10T00:00:00+00:00",
          "2021-07-11T00:00:00+00:00",
          "2021-07-12T00:00:00+00:00",
          "2021-07-13T00:00:00+00:00",
          "2021-07-14T00:00:00+00:00",
          "2021-07-15T00:00:00+00:00",
          "2021-07-16T00:00:00+00:00",
          "2021-07-17T00:00:00+00:00",
          "2021-07-18T00:00:00+00:00",
          "2021-07-19T00:00:00+00:00",
          "2021-07-20T00:00:00+00:00",
          "2021-07-21T00:00:00+00:00",
          "2021-07-22T00:00:00+00:00",
          "2021-07-23T00:00:00+00:00",
          "2021-07-24T00:00:00+00:00",
          "2021-07-25T00:00:00+00:00",
          "2021-07-26T00:00:00+00:00",
          "2021-07-27T00:00:00+00:00",
          "2021-07-28T00:00:00+00:00",
          "2021-07-29T00:00:00+00:00",
          "2021-07-30T00:00:00+00:00",
          "2021-07-31T00:00:00+00:00",
          "2021-08-01T00:00:00+00:00",
          "2021-08-02T00:00:00+00:00",
          "2021-08-03T00:00:00+00:00",
          "2021-08-04T00:00:00+00:00",
          "2021-08-05T00:00:00+00:00",
          "2021-08-06T00:00:00+00:00",
          "2021-08-07T00:00:00+00:00",
          "2021-08-08T00:00:00+00:00",
          "2021-08-09T00:00:00+00:00",
          "2021-08-10T00:00:00+00:00",
          "2021-08-11T00:00:00+00:00",
          "2021-08-12T00:00:00+00:00",
          "2021-08-13T00:00:00+00:00",
          "2021-08-14T00:00:00+00:00",
          "2021-08-15T00:00:00+00:00",
          "2021-08-16T00:00:00+00:00",
          "2021-08-17T00:00:00+00:00",
          "2021-08-18T00:00:00+00:00",
          "2021-08-19T00:00:00+00:00",
          "2021-08-20T00:00:00+00:00",
          "2021-08-21T00:00:00+00:00",
          "2021-08-22T00:00:00+00:00",
          "2021-08-23T00:00:00+00:00",
          "2021-08-24T00:00:00+00:00",
          "2021-08-25T00:00:00+00:00",
          "2021-08-26T00:00:00+00:00",
          "2021-08-27T00:00:00+00:00",
          "2021-08-28T00:00:00+00:00",
          "2021-08-29T00:00:00+00:00",
          "2021-08-30T00:00:00+00:00",
          "2021-08-31T00:00:00+00:00",
          "2021-09-01T00:00:00+00:00",
          "2021-09-02T00:00:00+00:00",
          "2021-09-03T00:00:00+00:00",
          "2021-09-04T00:00:00+00:00",
          "2021-09-05T00:00:00+00:00",
          "2021-09-06T00:00:00+00:00",
          "2021-09-07T00:00:00+00:00",
          "2021-09-08T00:00:00+00:00",
          "2021-09-09T00:00:00+00:00",
          "2021-09-10T00:00:00+00:00",
          "2021-09-11T00:00:00+00:00",
          "2021-09-12T00:00:00+00:00",
          "2021-09-13T00:00:00+00:00",
          "2021-09-14T00:00:00+00:00",
          "2021-09-15T00:00:00+00:00",
          "2021-09-16T00:00:00+00:00",
          "2021-09-17T00:00:00+00:00",
          "2021-09-18T00:00:00+00:00",
          "2021-09-19T00:00:00+00:00",
          "2021-09-20T00:00:00+00:00",
          "2021-09-21T00:00:00+00:00",
          "2021-09-22T00:00:00+00:00",
          "2021-09-23T00:00:00+00:00",
          "2021-09-24T00:00:00+00:00",
          "2021-09-25T00:00:00+00:00",
          "2021-09-26T00:00:00+00:00",
          "2021-09-27T00:00:00+00:00",
          "2021-09-28T00:00:00+00:00",
          "2021-09-29T00:00:00+00:00",
          "2021-09-30T00:00:00+00:00",
          "2021-10-01T00:00:00+00:00",
          "2021-10-02T00:00:00+00:00",
          "2021-10-03T00:00:00+00:00",
          "2021-10-04T00:00:00+00:00",
          "2021-10-05T00:00:00+00:00",
          "2021-10-06T00:00:00+00:00",
          "2021-10-07T00:00:00+00:00",
          "2021-10-08T00:00:00+00:00",
          "2021-10-09T00:00:00+00:00",
          "2021-10-10T00:00:00+00:00",
          "2021-10-11T00:00:00+00:00",
          "2021-10-12T00:00:00+00:00",
          "2021-10-13T00:00:00+00:00",
          "2021-10-14T00:00:00+00:00",
          "2021-10-15T00:00:00+00:00",
          "2021-10-16T00:00:00+00:00",
          "2021-10-17T00:00:00+00:00",
          "2021-10-18T00:00:00+00:00",
          "2021-10-19T00:00:00+00:00",
          "2021-10-20T00:00:00+00:00",
          "2021-10-21T00:00:00+00:00",
          "2021-10-22T00:00:00+00:00",
          "2021-10-23T00:00:00+00:00",
          "2021-10-24T00:00:00+00:00",
          "2021-10-25T00:00:00+00:00",
          "2021-10-26T00:00:00+00:00",
          "2021-10-27T00:00:00+00:00",
          "2021-10-28T00:00:00+00:00",
          "2021-10-29T00:00:00+00:00",
          "2021-10-30T00:00:00+00:00",
          "2021-10-31T00:00:00+00:00",
          "2021-11-01T00:00:00+00:00",
          "2021-11-02T00:00:00+00:00",
          "2021-11-03T00:00:00+00:00",
          "2021-11-04T00:00:00+00:00",
          "2021-11-05T00:00:00+00:00",
          "2021-11-06T00:00:00+00:00",
          "2021-11-07T00:00:00+00:00",
          "2021-11-08T00:00:00+00:00",
          "2021-11-09T00:00:00+00:00",
          "2021-11-10T00:00:00+00:00",
          "2021-11-11T00:00:00+00:00",
          "2021-11-12T00:00:00+00:00",
          "2021-11-13T00:00:00+00:00",
          "2021-11-14T00:00:00+00:00",
          "2021-11-15T00:00:00+00:00",
          "2021-11-16T00:00:00+00:00",
          "2021-11-17T00:00:00+00:00",
          "2021-11-18T00:00:00+00:00",
          "2021-11-19T00:00:00+00:00",
          "2021-11-20T00:00:00+00:00",
          "2021-11-21T00:00:00+00:00",
          "2021-11-22T00:00:00+00:00",
          "2021-11-23T00:00:00+00:00",
          "2021-11-24T00:00:00+00:00",
          "2021-11-25T00:00:00+00:00",
          "2021-11-26T00:00:00+00:00",
          "2021-11-27T00:00:00+00:00",
          "2021-11-28T00:00:00+00:00",
          "2021-11-29T00:00:00+00:00",
          "2021-11-30T00:00:00+00:00",
          "2021-12-01T00:00:00+00:00",
          "2021-12-02T00:00:00+00:00",
          "2021-12-03T00:00:00+00:00",
          "2021-12-04T00:00:00+00:00",
          "2021-12-05T00:00:00+00:00",
          "2021-12-06T00:00:00+00:00",
          "2021-12-07T00:00:00+00:00",
          "2021-12-08T00:00:00+00:00",
          "2021-12-09T00:00:00+00:00",
          "2021-12-10T00:00:00+00:00",
          "2021-12-11T00:00:00+00:00",
          "2021-12-12T00:00:00+00:00",
          "2021-12-13T00:00:00+00:00",
          "2021-12-14T00:00:00+00:00",
          "2021-12-15T00:00:00+00:00",
          "2021-12-16T00:00:00+00:00",
          "2021-12-17T00:00:00+00:00",
          "2021-12-18T00:00:00+00:00",
          "2021-12-19T00:00:00+00:00",
          "2021-12-20T00:00:00+00:00",
          "2021-12-21T00:00:00+00:00",
          "2021-12-22T00:00:00+00:00",
          "2021-12-23T00:00:00+00:00",
          "2021-12-24T00:00:00+00:00",
          "2021-12-25T00:00:00+00:00",
          "2021-12-26T00:00:00+00:00",
          "2021-12-27T00:00:00+00:00",
          "2021-12-28T00:00:00+00:00",
          "2021-12-29T00:00:00+00:00",
          "2021-12-30T00:00:00+00:00",
          "2021-12-31T00:00:00+00:00"
         ],
         "xaxis": "x",
         "y": [
          0.6101132051647952,
          0.5985836788218608,
          0.5304915718279677,
          5.0515986135473705,
          0.7788762149472388,
          0.7996842429745455,
          0.8479407824433363,
          0.9096836867637981,
          0.5236751705340159,
          0.7182367327098929,
          1.39321006042949,
          1.2634268095607746,
          1.7294857888673059,
          0.5825337668812031,
          0.5023691961946903,
          0.7969489703835813,
          1.5129714634211788,
          0.25940157621459564,
          0.5076282723292345,
          0.4638946995477424,
          2.2898815867555657,
          2.4810644957721784,
          1.397813039593913,
          3.9868115197737657,
          0.5446696534513019,
          11.061311662134603,
          0.9440221095926203,
          4.216453108244035,
          1.539950987309928,
          0.5019792948012137,
          0.5516638690474596,
          0.5062103124055299,
          1.4185310429247415,
          0.48080314434022486,
          1.1571964202267757,
          0.945315612248904,
          0.4632887917379311,
          2.2817172402738906,
          0.5116518672285936,
          0.6544194924964055,
          0.7160953547786937,
          0.6768819629564418,
          0.8211201220053003,
          0.9180077178247308,
          0.4642593120979553,
          0.4128347734299303,
          0.9550659599767212,
          0.8138211666176927,
          5.6078714282241355,
          0.9342270252431389,
          1.8195933158100803,
          1.1940497943305561,
          2.9884355877782567,
          0.757555359617961,
          1.401509339975679,
          1.1334884380615513,
          0.7693001119814222,
          0.4927815929656023,
          2.9962081755333023,
          2.251326331395929,
          0.7684084372196428,
          8.490030862282879,
          0.6229511650428927,
          1.5385703950533929,
          2.299189063114147,
          0.6070907533457759,
          1.4621753063169551,
          1.4302031120056535,
          5.778224013342662,
          0.6375953893944148,
          1.243925973338332,
          0.5493971025241983,
          18.516358435397894,
          0.4836254091098037,
          1.2381373656640655,
          1.3011437920528093,
          2.577007008796995,
          2.382304489170852,
          1.6869282171708813,
          5.417536088741776,
          3.0790352381474677,
          1.1653844072588166,
          4.105318708874252,
          2.7719085341335985,
          0.6620263447144515,
          0.6001989611435886,
          0.5414568919068158,
          0.7736476090586026,
          2.0590653334042663,
          0.9860692667956579,
          2.8358336770073453,
          1.495021259704191,
          0.4667242232557959,
          0.6146905468030675,
          0.40893883701870465,
          1.159821195944157,
          0.6615173830354297,
          0.4783318527664766,
          2.792649550223174,
          9.783248024849946,
          0.8243023333039231,
          2.8517404319128365,
          1.2756895185266084,
          3.2388167528618834,
          0.7834810337147871,
          0.9540646155878367,
          1.0836929685561323,
          1.55142885549135,
          0.3965247982204695,
          3.0866752090656884,
          4.879803733775473,
          0.32844227200101256,
          0.476161573850623,
          1.0220747553461798,
          1.724135979947272,
          1.2532867960881455,
          0.33354251800717566,
          0.3893992638563002,
          0.3964389095695727,
          0.6598819761546817,
          2.478680653162591,
          0.3457482278673432,
          0.7276628087574312,
          6.449578131187121,
          0.3530366804759047,
          0.5613554509170458,
          0.320244998603468,
          4.834541155096609,
          0.3861766041462439,
          1.9499652360062025,
          0.43199566708147646,
          1.12596510589684,
          2.5701122934792546,
          1.2917869043951473,
          1.9550052038071506,
          0.7516693779485069,
          1.0569872556275615,
          1.1413837159198241,
          0.8183610160457975,
          0.40651554603860474,
          0.43764289758821123,
          1.0623412830850116,
          2.397780372746369,
          0.5908755290451034,
          3.5529881566357964,
          0.6648462320195121,
          2.209698264310691,
          0.5664299285991532,
          0.3578085991379889,
          0.5068824254794185,
          0.7927009144312704,
          0.3254412643903366,
          4.587238209873819,
          0.465238582775536,
          0.8985990022155371,
          17.505806004350465,
          0.9225885127417023,
          0.8991316253123283,
          0.6670845527175057,
          1.91753338154659,
          2.172780022254244,
          1.2776741380842322,
          5.495320266101134,
          0.9292503758485426,
          0.40637429801935343,
          0.4638170417464774,
          4.192862335874928,
          0.5050830279224543,
          1.0696400872569143,
          0.7501983615027086,
          2.8245343326648293,
          1.3402841989173684,
          9.1917471196892,
          0.8926758546983483,
          0.8790476725487153,
          1.0092479584598797,
          2.6460442702212976,
          0.42240044852445086,
          0.7181254247155069,
          0.7323184208304205,
          0.7247994699494957,
          0.6898047888435106,
          1.809677784419134,
          2.7648807573797307,
          2.682581806736481,
          1.9376156571313001,
          0.9876946933190798,
          1.0483396187094212,
          2.3644784646648658,
          0.872136667928043,
          1.1501204027381728,
          0.6066216769488191,
          0.4200335179309541,
          1.1379139948174497,
          0.6204676047521355,
          1.5752877618194334,
          0.7104816672520828,
          0.48437805630256714,
          4.0101232183682525,
          1.9327276273497187,
          3.080944932421639,
          0.5945287242244556,
          0.5018544569896572,
          0.502060576103435,
          1.2218503161351069,
          1.9363205403388573,
          0.40358051963066427,
          0.7267881107103795,
          0.8719227147819337,
          0.23956741304866241,
          5.355015030370857,
          3.0991884121324067,
          2.0213554496392265,
          0.7965377597866878,
          0.5341775502488654,
          0.9190406753651298,
          4.096131075016603,
          0.370299068851499,
          0.5855887939809304,
          0.601708477547717,
          1.5017275178368088,
          0.48668104240705307,
          1.271431531008442,
          0.850767241959561,
          0.6458542417217914,
          50.88697285277526,
          37.954314788391066,
          6.297186953665516,
          0.9674229674390531,
          4.553178536963508,
          1.0794992863650406,
          2.764795091771815,
          0.9198188145855776,
          2.7191220688558877,
          0.24158109482768375,
          0.8119527659868151,
          0.651067975255141,
          0.5359292952059286,
          5.616930820604085,
          2.185197914962862,
          0.3980208371137583,
          1.8142867931940705,
          0.735153322356751,
          0.7623938835690793,
          1.4378063765647289,
          6.267232779618055,
          1.7562188386795328,
          4.362915338655664,
          5.5445581336333625,
          0.6865271563643298,
          7.471958457750871,
          0.8684220490233922,
          1.1303707860618708,
          0.6857107593034337,
          2.2213395565337177,
          0.5657910180472,
          0.48252348136810314,
          22.395628053331425,
          0.8114854691027411,
          5.409567065714646,
          0.4865712891184652,
          0.30923874418025454,
          2.750412351745948,
          14.950325881188688,
          0.3519804966934773,
          2.2680160584427234,
          8.040748287754331,
          7.6418100970206595,
          6.584243511610554,
          0.4988550565938876,
          3.1538090749887195,
          0.2777005179362456,
          0.3958140123033014,
          0.36933768991915794,
          2.5057218915161865,
          1.2199614773077665,
          0.2910544341652463,
          1.889397483958095,
          0.7032605666095368,
          1.5894735074391901,
          0.32296375224483453,
          1.04704723626644,
          0.7825777584922093,
          0.4130896296264978,
          2.1884001050523487,
          12.050305725111734,
          4.694481598423126,
          0.8033005516706817,
          9.696578392388584,
          0.7825663596007328,
          1.1040425814922934,
          17.280904620183655,
          0.8207012086456086,
          1.3738500328756909,
          0.3534226631264689,
          3.0200256968644195,
          0.885342261634457,
          0.9014869507956262,
          1.2780429990699638,
          6.671788730831824,
          2.1181302165945857,
          13.94893186375185,
          0.6926801921584942,
          1.9156162665562926,
          1.63668429787522,
          0.2910940487818788,
          6.0785992840418555,
          12.24249169384489,
          16.575843365096535,
          0.8709795362372134,
          1.8920979633069317,
          4.944954693460798,
          1.2248316318399917,
          0.5346075335250182,
          2.2592440663707203,
          9.733747931667603,
          1.6305280235619102,
          1.2386137747103911,
          1.1327915882419024,
          1.97184468486774,
          0.3364299086017563,
          0.987267955814427,
          41.37884324609022,
          4.516176237708868,
          0.409236103997008,
          2.459329828666565,
          1.0168119355307428,
          0.9144652131243107,
          22.856291104896126,
          4.1374702960170895,
          1.957592121549767,
          4.789112363180371,
          1.4210444458657103,
          0.41879057302412304,
          4.501529071752241,
          0.4184469048519145,
          0.49570652699800316,
          0.7132969725727188,
          1.05337356029428,
          4.438947347526639,
          0.6296438349801055,
          4.94872294828193,
          0.5358659534624256,
          1.082427295313468,
          2.5991668899965337,
          1.0220747553461798,
          1.8371246798887468,
          1.073602962977192,
          25.145888770886867,
          0.37356720182679104,
          0.46257903256551514,
          2.196603416144825,
          0.5142246800734803,
          11.454906203864303,
          0.45268302308705943,
          1.025239002091698,
          0.46378494140155735,
          0.4980738474807551,
          1.3169321748601504,
          0.7453217452185499,
          0.4129149587851655,
          0.47753801008458685,
          0.8499828074407357,
          0.9538870846352117,
          0.3618505469222602
         ],
         "yaxis": "y",
         "type": "scatter"
        }
       ],
       "layout": {
        "template": {
         "data": {
          "bar": [
           {
            "error_x": {
             "color": "#2a3f5f"
            },
            "error_y": {
             "color": "#2a3f5f"
            },
            "marker": {
             "line": {
              "color": "#E5ECF6",
              "width": 0.5
             },
             "pattern": {
              "fillmode": "overlay",
              "size": 10,
              "solidity": 0.2
             }
            },
            "type": "bar"
           }
          ],
          "barpolar": [
           {
            "marker": {
             "line": {
              "color": "#E5ECF6",
              "width": 0.5
             },
             "pattern": {
              "fillmode": "overlay",
              "size": 10,
              "solidity": 0.2
             }
            },
            "type": "barpolar"
           }
          ],
          "carpet": [
           {
            "aaxis": {
             "endlinecolor": "#2a3f5f",
             "gridcolor": "white",
             "linecolor": "white",
             "minorgridcolor": "white",
             "startlinecolor": "#2a3f5f"
            },
            "baxis": {
             "endlinecolor": "#2a3f5f",
             "gridcolor": "white",
             "linecolor": "white",
             "minorgridcolor": "white",
             "startlinecolor": "#2a3f5f"
            },
            "type": "carpet"
           }
          ],
          "choropleth": [
           {
            "colorbar": {
             "outlinewidth": 0,
             "ticks": ""
            },
            "type": "choropleth"
           }
          ],
          "contour": [
           {
            "colorbar": {
             "outlinewidth": 0,
             "ticks": ""
            },
            "colorscale": [
             [
              0.0,
              "#0d0887"
             ],
             [
              0.1111111111111111,
              "#46039f"
             ],
             [
              0.2222222222222222,
              "#7201a8"
             ],
             [
              0.3333333333333333,
              "#9c179e"
             ],
             [
              0.4444444444444444,
              "#bd3786"
             ],
             [
              0.5555555555555556,
              "#d8576b"
             ],
             [
              0.6666666666666666,
              "#ed7953"
             ],
             [
              0.7777777777777778,
              "#fb9f3a"
             ],
             [
              0.8888888888888888,
              "#fdca26"
             ],
             [
              1.0,
              "#f0f921"
             ]
            ],
            "type": "contour"
           }
          ],
          "contourcarpet": [
           {
            "colorbar": {
             "outlinewidth": 0,
             "ticks": ""
            },
            "type": "contourcarpet"
           }
          ],
          "heatmap": [
           {
            "colorbar": {
             "outlinewidth": 0,
             "ticks": ""
            },
            "colorscale": [
             [
              0.0,
              "#0d0887"
             ],
             [
              0.1111111111111111,
              "#46039f"
             ],
             [
              0.2222222222222222,
              "#7201a8"
             ],
             [
              0.3333333333333333,
              "#9c179e"
             ],
             [
              0.4444444444444444,
              "#bd3786"
             ],
             [
              0.5555555555555556,
              "#d8576b"
             ],
             [
              0.6666666666666666,
              "#ed7953"
             ],
             [
              0.7777777777777778,
              "#fb9f3a"
             ],
             [
              0.8888888888888888,
              "#fdca26"
             ],
             [
              1.0,
              "#f0f921"
             ]
            ],
            "type": "heatmap"
           }
          ],
          "heatmapgl": [
           {
            "colorbar": {
             "outlinewidth": 0,
             "ticks": ""
            },
            "colorscale": [
             [
              0.0,
              "#0d0887"
             ],
             [
              0.1111111111111111,
              "#46039f"
             ],
             [
              0.2222222222222222,
              "#7201a8"
             ],
             [
              0.3333333333333333,
              "#9c179e"
             ],
             [
              0.4444444444444444,
              "#bd3786"
             ],
             [
              0.5555555555555556,
              "#d8576b"
             ],
             [
              0.6666666666666666,
              "#ed7953"
             ],
             [
              0.7777777777777778,
              "#fb9f3a"
             ],
             [
              0.8888888888888888,
              "#fdca26"
             ],
             [
              1.0,
              "#f0f921"
             ]
            ],
            "type": "heatmapgl"
           }
          ],
          "histogram": [
           {
            "marker": {
             "pattern": {
              "fillmode": "overlay",
              "size": 10,
              "solidity": 0.2
             }
            },
            "type": "histogram"
           }
          ],
          "histogram2d": [
           {
            "colorbar": {
             "outlinewidth": 0,
             "ticks": ""
            },
            "colorscale": [
             [
              0.0,
              "#0d0887"
             ],
             [
              0.1111111111111111,
              "#46039f"
             ],
             [
              0.2222222222222222,
              "#7201a8"
             ],
             [
              0.3333333333333333,
              "#9c179e"
             ],
             [
              0.4444444444444444,
              "#bd3786"
             ],
             [
              0.5555555555555556,
              "#d8576b"
             ],
             [
              0.6666666666666666,
              "#ed7953"
             ],
             [
              0.7777777777777778,
              "#fb9f3a"
             ],
             [
              0.8888888888888888,
              "#fdca26"
             ],
             [
              1.0,
              "#f0f921"
             ]
            ],
            "type": "histogram2d"
           }
          ],
          "histogram2dcontour": [
           {
            "colorbar": {
             "outlinewidth": 0,
             "ticks": ""
            },
            "colorscale": [
             [
              0.0,
              "#0d0887"
             ],
             [
              0.1111111111111111,
              "#46039f"
             ],
             [
              0.2222222222222222,
              "#7201a8"
             ],
             [
              0.3333333333333333,
              "#9c179e"
             ],
             [
              0.4444444444444444,
              "#bd3786"
             ],
             [
              0.5555555555555556,
              "#d8576b"
             ],
             [
              0.6666666666666666,
              "#ed7953"
             ],
             [
              0.7777777777777778,
              "#fb9f3a"
             ],
             [
              0.8888888888888888,
              "#fdca26"
             ],
             [
              1.0,
              "#f0f921"
             ]
            ],
            "type": "histogram2dcontour"
           }
          ],
          "mesh3d": [
           {
            "colorbar": {
             "outlinewidth": 0,
             "ticks": ""
            },
            "type": "mesh3d"
           }
          ],
          "parcoords": [
           {
            "line": {
             "colorbar": {
              "outlinewidth": 0,
              "ticks": ""
             }
            },
            "type": "parcoords"
           }
          ],
          "pie": [
           {
            "automargin": true,
            "type": "pie"
           }
          ],
          "scatter": [
           {
            "marker": {
             "colorbar": {
              "outlinewidth": 0,
              "ticks": ""
             }
            },
            "type": "scatter"
           }
          ],
          "scatter3d": [
           {
            "line": {
             "colorbar": {
              "outlinewidth": 0,
              "ticks": ""
             }
            },
            "marker": {
             "colorbar": {
              "outlinewidth": 0,
              "ticks": ""
             }
            },
            "type": "scatter3d"
           }
          ],
          "scattercarpet": [
           {
            "marker": {
             "colorbar": {
              "outlinewidth": 0,
              "ticks": ""
             }
            },
            "type": "scattercarpet"
           }
          ],
          "scattergeo": [
           {
            "marker": {
             "colorbar": {
              "outlinewidth": 0,
              "ticks": ""
             }
            },
            "type": "scattergeo"
           }
          ],
          "scattergl": [
           {
            "marker": {
             "colorbar": {
              "outlinewidth": 0,
              "ticks": ""
             }
            },
            "type": "scattergl"
           }
          ],
          "scattermapbox": [
           {
            "marker": {
             "colorbar": {
              "outlinewidth": 0,
              "ticks": ""
             }
            },
            "type": "scattermapbox"
           }
          ],
          "scatterpolar": [
           {
            "marker": {
             "colorbar": {
              "outlinewidth": 0,
              "ticks": ""
             }
            },
            "type": "scatterpolar"
           }
          ],
          "scatterpolargl": [
           {
            "marker": {
             "colorbar": {
              "outlinewidth": 0,
              "ticks": ""
             }
            },
            "type": "scatterpolargl"
           }
          ],
          "scatterternary": [
           {
            "marker": {
             "colorbar": {
              "outlinewidth": 0,
              "ticks": ""
             }
            },
            "type": "scatterternary"
           }
          ],
          "surface": [
           {
            "colorbar": {
             "outlinewidth": 0,
             "ticks": ""
            },
            "colorscale": [
             [
              0.0,
              "#0d0887"
             ],
             [
              0.1111111111111111,
              "#46039f"
             ],
             [
              0.2222222222222222,
              "#7201a8"
             ],
             [
              0.3333333333333333,
              "#9c179e"
             ],
             [
              0.4444444444444444,
              "#bd3786"
             ],
             [
              0.5555555555555556,
              "#d8576b"
             ],
             [
              0.6666666666666666,
              "#ed7953"
             ],
             [
              0.7777777777777778,
              "#fb9f3a"
             ],
             [
              0.8888888888888888,
              "#fdca26"
             ],
             [
              1.0,
              "#f0f921"
             ]
            ],
            "type": "surface"
           }
          ],
          "table": [
           {
            "cells": {
             "fill": {
              "color": "#EBF0F8"
             },
             "line": {
              "color": "white"
             }
            },
            "header": {
             "fill": {
              "color": "#C8D4E3"
             },
             "line": {
              "color": "white"
             }
            },
            "type": "table"
           }
          ]
         },
         "layout": {
          "annotationdefaults": {
           "arrowcolor": "#2a3f5f",
           "arrowhead": 0,
           "arrowwidth": 1
          },
          "autotypenumbers": "strict",
          "coloraxis": {
           "colorbar": {
            "outlinewidth": 0,
            "ticks": ""
           }
          },
          "colorscale": {
           "diverging": [
            [
             0,
             "#8e0152"
            ],
            [
             0.1,
             "#c51b7d"
            ],
            [
             0.2,
             "#de77ae"
            ],
            [
             0.3,
             "#f1b6da"
            ],
            [
             0.4,
             "#fde0ef"
            ],
            [
             0.5,
             "#f7f7f7"
            ],
            [
             0.6,
             "#e6f5d0"
            ],
            [
             0.7,
             "#b8e186"
            ],
            [
             0.8,
             "#7fbc41"
            ],
            [
             0.9,
             "#4d9221"
            ],
            [
             1,
             "#276419"
            ]
           ],
           "sequential": [
            [
             0.0,
             "#0d0887"
            ],
            [
             0.1111111111111111,
             "#46039f"
            ],
            [
             0.2222222222222222,
             "#7201a8"
            ],
            [
             0.3333333333333333,
             "#9c179e"
            ],
            [
             0.4444444444444444,
             "#bd3786"
            ],
            [
             0.5555555555555556,
             "#d8576b"
            ],
            [
             0.6666666666666666,
             "#ed7953"
            ],
            [
             0.7777777777777778,
             "#fb9f3a"
            ],
            [
             0.8888888888888888,
             "#fdca26"
            ],
            [
             1.0,
             "#f0f921"
            ]
           ],
           "sequentialminus": [
            [
             0.0,
             "#0d0887"
            ],
            [
             0.1111111111111111,
             "#46039f"
            ],
            [
             0.2222222222222222,
             "#7201a8"
            ],
            [
             0.3333333333333333,
             "#9c179e"
            ],
            [
             0.4444444444444444,
             "#bd3786"
            ],
            [
             0.5555555555555556,
             "#d8576b"
            ],
            [
             0.6666666666666666,
             "#ed7953"
            ],
            [
             0.7777777777777778,
             "#fb9f3a"
            ],
            [
             0.8888888888888888,
             "#fdca26"
            ],
            [
             1.0,
             "#f0f921"
            ]
           ]
          },
          "colorway": [
           "#636efa",
           "#EF553B",
           "#00cc96",
           "#ab63fa",
           "#FFA15A",
           "#19d3f3",
           "#FF6692",
           "#B6E880",
           "#FF97FF",
           "#FECB52"
          ],
          "font": {
           "color": "#2a3f5f"
          },
          "geo": {
           "bgcolor": "white",
           "lakecolor": "white",
           "landcolor": "#E5ECF6",
           "showlakes": true,
           "showland": true,
           "subunitcolor": "white"
          },
          "hoverlabel": {
           "align": "left"
          },
          "hovermode": "closest",
          "mapbox": {
           "style": "light"
          },
          "paper_bgcolor": "white",
          "plot_bgcolor": "#E5ECF6",
          "polar": {
           "angularaxis": {
            "gridcolor": "white",
            "linecolor": "white",
            "ticks": ""
           },
           "bgcolor": "#E5ECF6",
           "radialaxis": {
            "gridcolor": "white",
            "linecolor": "white",
            "ticks": ""
           }
          },
          "scene": {
           "xaxis": {
            "backgroundcolor": "#E5ECF6",
            "gridcolor": "white",
            "gridwidth": 2,
            "linecolor": "white",
            "showbackground": true,
            "ticks": "",
            "zerolinecolor": "white"
           },
           "yaxis": {
            "backgroundcolor": "#E5ECF6",
            "gridcolor": "white",
            "gridwidth": 2,
            "linecolor": "white",
            "showbackground": true,
            "ticks": "",
            "zerolinecolor": "white"
           },
           "zaxis": {
            "backgroundcolor": "#E5ECF6",
            "gridcolor": "white",
            "gridwidth": 2,
            "linecolor": "white",
            "showbackground": true,
            "ticks": "",
            "zerolinecolor": "white"
           }
          },
          "shapedefaults": {
           "line": {
            "color": "#2a3f5f"
           }
          },
          "ternary": {
           "aaxis": {
            "gridcolor": "white",
            "linecolor": "white",
            "ticks": ""
           },
           "baxis": {
            "gridcolor": "white",
            "linecolor": "white",
            "ticks": ""
           },
           "bgcolor": "#E5ECF6",
           "caxis": {
            "gridcolor": "white",
            "linecolor": "white",
            "ticks": ""
           }
          },
          "title": {
           "x": 0.05
          },
          "xaxis": {
           "automargin": true,
           "gridcolor": "white",
           "linecolor": "white",
           "ticks": "",
           "title": {
            "standoff": 15
           },
           "zerolinecolor": "white",
           "zerolinewidth": 2
          },
          "yaxis": {
           "automargin": true,
           "gridcolor": "white",
           "linecolor": "white",
           "ticks": "",
           "title": {
            "standoff": 15
           },
           "zerolinecolor": "white",
           "zerolinewidth": 2
          }
         }
        },
        "xaxis": {
         "anchor": "y",
         "domain": [
          0.0,
          1.0
         ],
         "title": {
          "text": "Time"
         }
        },
        "yaxis": {
         "anchor": "x",
         "domain": [
          0.0,
          1.0
         ],
         "title": {
          "text": "Retweet count"
         }
        },
        "legend": {
         "title": {
          "text": "type"
         },
         "tracegroupgap": 0
        },
        "title": {
         "text": "Predictions of topic retweet count average for 2021 with MAE:1.239"
        },
        "height": 500,
        "width": 900
       },
       "config": {
        "plotlyServerURL": "https://plot.ly"
       }
      },
      "text/html": "<div>                            <div id=\"28da331b-6fe2-42ad-98c9-d3c10422997e\" class=\"plotly-graph-div\" style=\"height:500px; width:900px;\"></div>            <script type=\"text/javascript\">                require([\"plotly\"], function(Plotly) {                    window.PLOTLYENV=window.PLOTLYENV || {};                                    if (document.getElementById(\"28da331b-6fe2-42ad-98c9-d3c10422997e\")) {                    Plotly.newPlot(                        \"28da331b-6fe2-42ad-98c9-d3c10422997e\",                        [{\"hovertemplate\":\"type=real<br>timestamp=%{x}<br>value=%{y}<extra></extra>\",\"legendgroup\":\"real\",\"line\":{\"color\":\"rgb(136, 204, 238)\",\"dash\":\"solid\"},\"marker\":{\"symbol\":\"circle\"},\"mode\":\"lines\",\"name\":\"real\",\"orientation\":\"v\",\"showlegend\":true,\"x\":[\"2021-01-01T00:00:00+00:00\",\"2021-01-02T00:00:00+00:00\",\"2021-01-03T00:00:00+00:00\",\"2021-01-04T00:00:00+00:00\",\"2021-01-05T00:00:00+00:00\",\"2021-01-06T00:00:00+00:00\",\"2021-01-07T00:00:00+00:00\",\"2021-01-08T00:00:00+00:00\",\"2021-01-09T00:00:00+00:00\",\"2021-01-10T00:00:00+00:00\",\"2021-01-11T00:00:00+00:00\",\"2021-01-12T00:00:00+00:00\",\"2021-01-13T00:00:00+00:00\",\"2021-01-14T00:00:00+00:00\",\"2021-01-15T00:00:00+00:00\",\"2021-01-16T00:00:00+00:00\",\"2021-01-17T00:00:00+00:00\",\"2021-01-18T00:00:00+00:00\",\"2021-01-19T00:00:00+00:00\",\"2021-01-20T00:00:00+00:00\",\"2021-01-21T00:00:00+00:00\",\"2021-01-22T00:00:00+00:00\",\"2021-01-23T00:00:00+00:00\",\"2021-01-24T00:00:00+00:00\",\"2021-01-25T00:00:00+00:00\",\"2021-01-26T00:00:00+00:00\",\"2021-01-27T00:00:00+00:00\",\"2021-01-28T00:00:00+00:00\",\"2021-01-29T00:00:00+00:00\",\"2021-01-30T00:00:00+00:00\",\"2021-01-31T00:00:00+00:00\",\"2021-02-01T00:00:00+00:00\",\"2021-02-02T00:00:00+00:00\",\"2021-02-03T00:00:00+00:00\",\"2021-02-04T00:00:00+00:00\",\"2021-02-05T00:00:00+00:00\",\"2021-02-06T00:00:00+00:00\",\"2021-02-07T00:00:00+00:00\",\"2021-02-08T00:00:00+00:00\",\"2021-02-09T00:00:00+00:00\",\"2021-02-10T00:00:00+00:00\",\"2021-02-11T00:00:00+00:00\",\"2021-02-12T00:00:00+00:00\",\"2021-02-13T00:00:00+00:00\",\"2021-02-14T00:00:00+00:00\",\"2021-02-15T00:00:00+00:00\",\"2021-02-16T00:00:00+00:00\",\"2021-02-17T00:00:00+00:00\",\"2021-02-18T00:00:00+00:00\",\"2021-02-19T00:00:00+00:00\",\"2021-02-20T00:00:00+00:00\",\"2021-02-21T00:00:00+00:00\",\"2021-02-22T00:00:00+00:00\",\"2021-02-23T00:00:00+00:00\",\"2021-02-24T00:00:00+00:00\",\"2021-02-25T00:00:00+00:00\",\"2021-02-26T00:00:00+00:00\",\"2021-02-27T00:00:00+00:00\",\"2021-02-28T00:00:00+00:00\",\"2021-03-01T00:00:00+00:00\",\"2021-03-02T00:00:00+00:00\",\"2021-03-03T00:00:00+00:00\",\"2021-03-04T00:00:00+00:00\",\"2021-03-05T00:00:00+00:00\",\"2021-03-06T00:00:00+00:00\",\"2021-03-07T00:00:00+00:00\",\"2021-03-08T00:00:00+00:00\",\"2021-03-09T00:00:00+00:00\",\"2021-03-10T00:00:00+00:00\",\"2021-03-11T00:00:00+00:00\",\"2021-03-12T00:00:00+00:00\",\"2021-03-13T00:00:00+00:00\",\"2021-03-14T00:00:00+00:00\",\"2021-03-15T00:00:00+00:00\",\"2021-03-16T00:00:00+00:00\",\"2021-03-17T00:00:00+00:00\",\"2021-03-18T00:00:00+00:00\",\"2021-03-19T00:00:00+00:00\",\"2021-03-20T00:00:00+00:00\",\"2021-03-21T00:00:00+00:00\",\"2021-03-22T00:00:00+00:00\",\"2021-03-23T00:00:00+00:00\",\"2021-03-24T00:00:00+00:00\",\"2021-03-25T00:00:00+00:00\",\"2021-03-26T00:00:00+00:00\",\"2021-03-27T00:00:00+00:00\",\"2021-03-28T00:00:00+00:00\",\"2021-03-29T00:00:00+00:00\",\"2021-03-30T00:00:00+00:00\",\"2021-03-31T00:00:00+00:00\",\"2021-04-01T00:00:00+00:00\",\"2021-04-02T00:00:00+00:00\",\"2021-04-03T00:00:00+00:00\",\"2021-04-04T00:00:00+00:00\",\"2021-04-05T00:00:00+00:00\",\"2021-04-06T00:00:00+00:00\",\"2021-04-07T00:00:00+00:00\",\"2021-04-08T00:00:00+00:00\",\"2021-04-09T00:00:00+00:00\",\"2021-04-10T00:00:00+00:00\",\"2021-04-11T00:00:00+00:00\",\"2021-04-12T00:00:00+00:00\",\"2021-04-13T00:00:00+00:00\",\"2021-04-14T00:00:00+00:00\",\"2021-04-15T00:00:00+00:00\",\"2021-04-16T00:00:00+00:00\",\"2021-04-17T00:00:00+00:00\",\"2021-04-18T00:00:00+00:00\",\"2021-04-19T00:00:00+00:00\",\"2021-04-20T00:00:00+00:00\",\"2021-04-21T00:00:00+00:00\",\"2021-04-22T00:00:00+00:00\",\"2021-04-23T00:00:00+00:00\",\"2021-04-24T00:00:00+00:00\",\"2021-04-25T00:00:00+00:00\",\"2021-04-26T00:00:00+00:00\",\"2021-04-27T00:00:00+00:00\",\"2021-04-28T00:00:00+00:00\",\"2021-04-29T00:00:00+00:00\",\"2021-04-30T00:00:00+00:00\",\"2021-05-01T00:00:00+00:00\",\"2021-05-02T00:00:00+00:00\",\"2021-05-03T00:00:00+00:00\",\"2021-05-04T00:00:00+00:00\",\"2021-05-05T00:00:00+00:00\",\"2021-05-06T00:00:00+00:00\",\"2021-05-07T00:00:00+00:00\",\"2021-05-08T00:00:00+00:00\",\"2021-05-09T00:00:00+00:00\",\"2021-05-10T00:00:00+00:00\",\"2021-05-11T00:00:00+00:00\",\"2021-05-12T00:00:00+00:00\",\"2021-05-13T00:00:00+00:00\",\"2021-05-14T00:00:00+00:00\",\"2021-05-15T00:00:00+00:00\",\"2021-05-16T00:00:00+00:00\",\"2021-05-17T00:00:00+00:00\",\"2021-05-18T00:00:00+00:00\",\"2021-05-19T00:00:00+00:00\",\"2021-05-20T00:00:00+00:00\",\"2021-05-21T00:00:00+00:00\",\"2021-05-22T00:00:00+00:00\",\"2021-05-23T00:00:00+00:00\",\"2021-05-24T00:00:00+00:00\",\"2021-05-25T00:00:00+00:00\",\"2021-05-26T00:00:00+00:00\",\"2021-05-27T00:00:00+00:00\",\"2021-05-28T00:00:00+00:00\",\"2021-05-29T00:00:00+00:00\",\"2021-05-30T00:00:00+00:00\",\"2021-05-31T00:00:00+00:00\",\"2021-06-01T00:00:00+00:00\",\"2021-06-02T00:00:00+00:00\",\"2021-06-03T00:00:00+00:00\",\"2021-06-04T00:00:00+00:00\",\"2021-06-05T00:00:00+00:00\",\"2021-06-06T00:00:00+00:00\",\"2021-06-07T00:00:00+00:00\",\"2021-06-08T00:00:00+00:00\",\"2021-06-09T00:00:00+00:00\",\"2021-06-10T00:00:00+00:00\",\"2021-06-11T00:00:00+00:00\",\"2021-06-12T00:00:00+00:00\",\"2021-06-13T00:00:00+00:00\",\"2021-06-14T00:00:00+00:00\",\"2021-06-15T00:00:00+00:00\",\"2021-06-16T00:00:00+00:00\",\"2021-06-17T00:00:00+00:00\",\"2021-06-18T00:00:00+00:00\",\"2021-06-19T00:00:00+00:00\",\"2021-06-20T00:00:00+00:00\",\"2021-06-21T00:00:00+00:00\",\"2021-06-22T00:00:00+00:00\",\"2021-06-23T00:00:00+00:00\",\"2021-06-24T00:00:00+00:00\",\"2021-06-25T00:00:00+00:00\",\"2021-06-26T00:00:00+00:00\",\"2021-06-27T00:00:00+00:00\",\"2021-06-28T00:00:00+00:00\",\"2021-06-29T00:00:00+00:00\",\"2021-06-30T00:00:00+00:00\",\"2021-07-01T00:00:00+00:00\",\"2021-07-02T00:00:00+00:00\",\"2021-07-03T00:00:00+00:00\",\"2021-07-04T00:00:00+00:00\",\"2021-07-05T00:00:00+00:00\",\"2021-07-06T00:00:00+00:00\",\"2021-07-07T00:00:00+00:00\",\"2021-07-08T00:00:00+00:00\",\"2021-07-09T00:00:00+00:00\",\"2021-07-10T00:00:00+00:00\",\"2021-07-11T00:00:00+00:00\",\"2021-07-12T00:00:00+00:00\",\"2021-07-13T00:00:00+00:00\",\"2021-07-14T00:00:00+00:00\",\"2021-07-15T00:00:00+00:00\",\"2021-07-16T00:00:00+00:00\",\"2021-07-17T00:00:00+00:00\",\"2021-07-18T00:00:00+00:00\",\"2021-07-19T00:00:00+00:00\",\"2021-07-20T00:00:00+00:00\",\"2021-07-21T00:00:00+00:00\",\"2021-07-22T00:00:00+00:00\",\"2021-07-23T00:00:00+00:00\",\"2021-07-24T00:00:00+00:00\",\"2021-07-25T00:00:00+00:00\",\"2021-07-26T00:00:00+00:00\",\"2021-07-27T00:00:00+00:00\",\"2021-07-28T00:00:00+00:00\",\"2021-07-29T00:00:00+00:00\",\"2021-07-30T00:00:00+00:00\",\"2021-07-31T00:00:00+00:00\",\"2021-08-01T00:00:00+00:00\",\"2021-08-02T00:00:00+00:00\",\"2021-08-03T00:00:00+00:00\",\"2021-08-04T00:00:00+00:00\",\"2021-08-05T00:00:00+00:00\",\"2021-08-06T00:00:00+00:00\",\"2021-08-07T00:00:00+00:00\",\"2021-08-08T00:00:00+00:00\",\"2021-08-09T00:00:00+00:00\",\"2021-08-10T00:00:00+00:00\",\"2021-08-11T00:00:00+00:00\",\"2021-08-12T00:00:00+00:00\",\"2021-08-13T00:00:00+00:00\",\"2021-08-14T00:00:00+00:00\",\"2021-08-15T00:00:00+00:00\",\"2021-08-16T00:00:00+00:00\",\"2021-08-17T00:00:00+00:00\",\"2021-08-18T00:00:00+00:00\",\"2021-08-19T00:00:00+00:00\",\"2021-08-20T00:00:00+00:00\",\"2021-08-21T00:00:00+00:00\",\"2021-08-22T00:00:00+00:00\",\"2021-08-23T00:00:00+00:00\",\"2021-08-24T00:00:00+00:00\",\"2021-08-25T00:00:00+00:00\",\"2021-08-26T00:00:00+00:00\",\"2021-08-27T00:00:00+00:00\",\"2021-08-28T00:00:00+00:00\",\"2021-08-29T00:00:00+00:00\",\"2021-08-30T00:00:00+00:00\",\"2021-08-31T00:00:00+00:00\",\"2021-09-01T00:00:00+00:00\",\"2021-09-02T00:00:00+00:00\",\"2021-09-03T00:00:00+00:00\",\"2021-09-04T00:00:00+00:00\",\"2021-09-05T00:00:00+00:00\",\"2021-09-06T00:00:00+00:00\",\"2021-09-07T00:00:00+00:00\",\"2021-09-08T00:00:00+00:00\",\"2021-09-09T00:00:00+00:00\",\"2021-09-10T00:00:00+00:00\",\"2021-09-11T00:00:00+00:00\",\"2021-09-12T00:00:00+00:00\",\"2021-09-13T00:00:00+00:00\",\"2021-09-14T00:00:00+00:00\",\"2021-09-15T00:00:00+00:00\",\"2021-09-16T00:00:00+00:00\",\"2021-09-17T00:00:00+00:00\",\"2021-09-18T00:00:00+00:00\",\"2021-09-19T00:00:00+00:00\",\"2021-09-20T00:00:00+00:00\",\"2021-09-21T00:00:00+00:00\",\"2021-09-22T00:00:00+00:00\",\"2021-09-23T00:00:00+00:00\",\"2021-09-24T00:00:00+00:00\",\"2021-09-25T00:00:00+00:00\",\"2021-09-26T00:00:00+00:00\",\"2021-09-27T00:00:00+00:00\",\"2021-09-28T00:00:00+00:00\",\"2021-09-29T00:00:00+00:00\",\"2021-09-30T00:00:00+00:00\",\"2021-10-01T00:00:00+00:00\",\"2021-10-02T00:00:00+00:00\",\"2021-10-03T00:00:00+00:00\",\"2021-10-04T00:00:00+00:00\",\"2021-10-05T00:00:00+00:00\",\"2021-10-06T00:00:00+00:00\",\"2021-10-07T00:00:00+00:00\",\"2021-10-08T00:00:00+00:00\",\"2021-10-09T00:00:00+00:00\",\"2021-10-10T00:00:00+00:00\",\"2021-10-11T00:00:00+00:00\",\"2021-10-12T00:00:00+00:00\",\"2021-10-13T00:00:00+00:00\",\"2021-10-14T00:00:00+00:00\",\"2021-10-15T00:00:00+00:00\",\"2021-10-16T00:00:00+00:00\",\"2021-10-17T00:00:00+00:00\",\"2021-10-18T00:00:00+00:00\",\"2021-10-19T00:00:00+00:00\",\"2021-10-20T00:00:00+00:00\",\"2021-10-21T00:00:00+00:00\",\"2021-10-22T00:00:00+00:00\",\"2021-10-23T00:00:00+00:00\",\"2021-10-24T00:00:00+00:00\",\"2021-10-25T00:00:00+00:00\",\"2021-10-26T00:00:00+00:00\",\"2021-10-27T00:00:00+00:00\",\"2021-10-28T00:00:00+00:00\",\"2021-10-29T00:00:00+00:00\",\"2021-10-30T00:00:00+00:00\",\"2021-10-31T00:00:00+00:00\",\"2021-11-01T00:00:00+00:00\",\"2021-11-02T00:00:00+00:00\",\"2021-11-03T00:00:00+00:00\",\"2021-11-04T00:00:00+00:00\",\"2021-11-05T00:00:00+00:00\",\"2021-11-06T00:00:00+00:00\",\"2021-11-07T00:00:00+00:00\",\"2021-11-08T00:00:00+00:00\",\"2021-11-09T00:00:00+00:00\",\"2021-11-10T00:00:00+00:00\",\"2021-11-11T00:00:00+00:00\",\"2021-11-12T00:00:00+00:00\",\"2021-11-13T00:00:00+00:00\",\"2021-11-14T00:00:00+00:00\",\"2021-11-15T00:00:00+00:00\",\"2021-11-16T00:00:00+00:00\",\"2021-11-17T00:00:00+00:00\",\"2021-11-18T00:00:00+00:00\",\"2021-11-19T00:00:00+00:00\",\"2021-11-20T00:00:00+00:00\",\"2021-11-21T00:00:00+00:00\",\"2021-11-22T00:00:00+00:00\",\"2021-11-23T00:00:00+00:00\",\"2021-11-24T00:00:00+00:00\",\"2021-11-25T00:00:00+00:00\",\"2021-11-26T00:00:00+00:00\",\"2021-11-27T00:00:00+00:00\",\"2021-11-28T00:00:00+00:00\",\"2021-11-29T00:00:00+00:00\",\"2021-11-30T00:00:00+00:00\",\"2021-12-01T00:00:00+00:00\",\"2021-12-02T00:00:00+00:00\",\"2021-12-03T00:00:00+00:00\",\"2021-12-04T00:00:00+00:00\",\"2021-12-05T00:00:00+00:00\",\"2021-12-06T00:00:00+00:00\",\"2021-12-07T00:00:00+00:00\",\"2021-12-08T00:00:00+00:00\",\"2021-12-09T00:00:00+00:00\",\"2021-12-10T00:00:00+00:00\",\"2021-12-11T00:00:00+00:00\",\"2021-12-12T00:00:00+00:00\",\"2021-12-13T00:00:00+00:00\",\"2021-12-14T00:00:00+00:00\",\"2021-12-15T00:00:00+00:00\",\"2021-12-16T00:00:00+00:00\",\"2021-12-17T00:00:00+00:00\",\"2021-12-18T00:00:00+00:00\",\"2021-12-19T00:00:00+00:00\",\"2021-12-20T00:00:00+00:00\",\"2021-12-21T00:00:00+00:00\",\"2021-12-22T00:00:00+00:00\",\"2021-12-23T00:00:00+00:00\",\"2021-12-24T00:00:00+00:00\",\"2021-12-25T00:00:00+00:00\",\"2021-12-26T00:00:00+00:00\",\"2021-12-27T00:00:00+00:00\",\"2021-12-28T00:00:00+00:00\",\"2021-12-29T00:00:00+00:00\",\"2021-12-30T00:00:00+00:00\",\"2021-12-31T00:00:00+00:00\"],\"xaxis\":\"x\",\"y\":[0.47692307692307695,1.043010752688172,0.4,8.436974789915967,0.36507936507936506,0.7165354330708661,1.1237785016286646,0.5990783410138248,0.375,1.9617834394904459,1.1363636363636365,0.84,1.005128205128205,0.2484472049689441,0.3153846153846154,0.4188034188034188,1.368,0.46875,0.3258426966292135,0.3484848484848485,1.3959390862944163,5.067073170731708,0.44525547445255476,0.33884297520661155,0.18705035971223022,4.427536231884058,0.6814814814814815,4.279569892473118,1.2777777777777777,0.20987654320987653,0.5789473684210527,0.3402061855670103,1.3636363636363635,0.5188679245283019,0.6666666666666666,0.6581196581196581,0.35185185185185186,1.9684210526315788,0.3382352941176471,0.7522935779816514,0.22413793103448276,0.36752136752136755,0.5867768595041323,1.0888888888888888,0.2831858407079646,0.375,0.5465116279069767,0.3695652173913043,1.404040404040404,0.4,1.797752808988764,1.8,3.5046728971962615,0.36363636363636365,1.1020408163265305,0.4367816091954023,0.5157894736842106,0.37681159420289856,1.5,1.7191011235955056,0.3157894736842105,3.989130434782609,0.5925925925925926,2.0721649484536084,1.1647058823529413,0.3492063492063492,1.5975609756097562,1.7924528301886793,2.9,0.5813953488372093,0.7008547008547008,0.463768115942029,22.59259259259259,0.23711340206185566,1.0,0.7808219178082192,1.0297029702970297,0.9090909090909091,0.9166666666666666,1.626865671641791,3.85,0.33766233766233766,2.9166666666666665,0.391304347826087,0.7159090909090909,0.20253164556962025,0.2028985507246377,0.7619047619047619,0.40229885057471265,0.5851063829787234,1.8170731707317074,0.68,0.3181818181818182,0.22916666666666666,0.2835820895522388,0.7738095238095238,0.7534246575342466,0.18666666666666668,1.8617886178861789,24.378048780487806,0.5396825396825397,1.3733333333333333,0.5675675675675675,3.0617283950617282,0.5625,1.3186813186813187,0.9058823529411765,1.45,0.2875,1.9074074074074074,6.675,0.1794871794871795,0.2465753424657534,0.6268656716417911,1.7702702702702702,1.619047619047619,0.5789473684210527,0.75,0.1590909090909091,0.4166666666666667,2.1875,0.5254237288135594,0.36764705882352944,8.19277108433735,0.3424657534246575,0.32051282051282054,0.25,1.0377358490566038,0.18867924528301888,0.6274509803921569,0.3684210526315789,2.0,1.9090909090909092,1.5897435897435896,0.45454545454545453,0.4117647058823529,0.9322033898305084,0.8395061728395061,1.0705882352941176,0.24242424242424243,0.44871794871794873,1.4776119402985075,0.8653846153846154,0.49382716049382713,2.956043956043956,0.7096774193548387,0.8214285714285714,0.25882352941176473,0.18181818181818182,0.48214285714285715,0.5777777777777777,0.25,4.661290322580645,0.4117647058823529,0.7368421052631579,6.807017543859649,1.0972222222222223,0.9367088607594937,0.3717948717948718,1.4705882352941178,0.7272727272727273,1.2906976744186047,3.183098591549296,0.640625,0.4864864864864865,0.26153846153846155,1.8108108108108107,0.4603174603174603,1.0886075949367089,0.55,0.5238095238095238,0.46153846153846156,9.342465753424657,0.7777777777777778,0.5779816513761468,1.0705882352941176,1.4576271186440677,0.35443037974683544,0.3380281690140845,0.9722222222222222,0.5612244897959183,0.6095238095238096,0.9859154929577465,2.6666666666666665,1.0655737704918034,2.625,0.8769230769230769,1.1846153846153846,1.1728395061728396,0.8229166666666666,1.0,0.36923076923076925,0.2236842105263158,0.5180722891566265,0.5315315315315315,0.9012345679012346,0.5168539325842697,0.22950819672131148,7.016949152542373,1.7466666666666666,2.4727272727272727,0.26506024096385544,0.49382716049382713,0.21794871794871795,1.0533333333333332,0.6231884057971014,0.3382352941176471,0.573170731707317,0.6355140186915887,0.7407407407407407,2.064516129032258,1.4175824175824177,1.6029411764705883,0.6119402985074627,0.7922077922077922,0.2828282828282828,7.0,0.4716981132075472,0.6527777777777778,0.38235294117647056,1.6,0.4642857142857143,1.0864197530864197,0.7816091954022989,0.654320987654321,20.323076923076922,31.94871794871795,1.8295454545454546,0.5729166666666666,2.686046511627907,1.9545454545454546,1.6634615384615385,0.7945205479452054,1.3766233766233766,0.675,1.1333333333333333,0.3595505617977528,0.7065217391304348,8.409638554216867,0.9375,0.28888888888888886,1.835164835164835,1.3660714285714286,0.35353535353535354,1.6601941747572815,2.780141843971631,0.984375,3.0606060606060606,1.5813953488372092,0.6133333333333333,1.5151515151515151,0.41304347826086957,0.5510204081632653,0.31666666666666665,0.9508196721311475,0.3888888888888889,0.29850746268656714,27.8,0.5473684210526316,1.035294117647059,0.46774193548387094,0.2857142857142857,1.1022727272727273,24.294871794871796,0.3076923076923077,1.0810810810810811,1.4594594594594594,5.688524590163935,3.3943661971830985,0.5333333333333333,1.7567567567567568,0.5061728395061729,0.4069767441860465,0.14864864864864866,1.1764705882352942,0.4406779661016949,0.32857142857142857,1.103896103896104,0.36486486486486486,1.2352941176470589,0.1566265060240964,1.0,1.0517241379310345,0.410958904109589,1.904109589041096,13.125,3.4886363636363638,0.425531914893617,15.121212121212121,0.6486486486486487,0.6823529411764706,16.1046511627907,1.075268817204301,0.8904109589041096,0.5436893203883495,1.721311475409836,0.3888888888888889,0.7922077922077922,0.7419354838709677,2.282051282051282,1.3229166666666667,27.83783783783784,0.8,0.5957446808510638,0.5,0.6463414634146342,1.5473684210526315,7.114285714285714,4.818181818181818,0.1686746987951807,1.1794871794871795,3.1125,1.4642857142857142,0.23333333333333334,1.9019607843137254,2.5436893203883497,1.5789473684210527,0.8088235294117647,0.8431372549019608,3.044943820224719,0.23809523809523808,1.5393258426966292,12.60377358490566,3.7162162162162162,0.2459016393442623,1.5857142857142856,1.302325581395349,0.6197183098591549,2.0,6.916666666666667,0.546875,1.8059701492537314,1.1041666666666667,0.18478260869565216,0.7078651685393258,0.3157894736842105,0.4791666666666667,0.3918918918918919,0.68,1.876543209876543,0.625,1.3048780487804879,0.6707317073170732,0.6095238095238096,1.6582278481012658,0.6847826086956522,1.3465346534653466,1.8979591836734695,42.4367816091954,0.2358490566037736,0.5232558139534884,1.7777777777777777,0.3424657534246575,21.255555555555556,0.6707317073170732,0.5263157894736842,0.3411764705882353,0.8505747126436781,1.1265822784810127,0.42592592592592593,0.25396825396825395,0.5616438356164384,0.6027397260273972,1.3896103896103895,0.5189873417721519],\"yaxis\":\"y\",\"type\":\"scatter\"},{\"hovertemplate\":\"type=prediction<br>timestamp=%{x}<br>value=%{y}<extra></extra>\",\"legendgroup\":\"prediction\",\"line\":{\"color\":\"rgb(204, 102, 119)\",\"dash\":\"solid\"},\"marker\":{\"symbol\":\"circle\"},\"mode\":\"lines\",\"name\":\"prediction\",\"orientation\":\"v\",\"showlegend\":true,\"x\":[\"2021-01-01T00:00:00+00:00\",\"2021-01-02T00:00:00+00:00\",\"2021-01-03T00:00:00+00:00\",\"2021-01-04T00:00:00+00:00\",\"2021-01-05T00:00:00+00:00\",\"2021-01-06T00:00:00+00:00\",\"2021-01-07T00:00:00+00:00\",\"2021-01-08T00:00:00+00:00\",\"2021-01-09T00:00:00+00:00\",\"2021-01-10T00:00:00+00:00\",\"2021-01-11T00:00:00+00:00\",\"2021-01-12T00:00:00+00:00\",\"2021-01-13T00:00:00+00:00\",\"2021-01-14T00:00:00+00:00\",\"2021-01-15T00:00:00+00:00\",\"2021-01-16T00:00:00+00:00\",\"2021-01-17T00:00:00+00:00\",\"2021-01-18T00:00:00+00:00\",\"2021-01-19T00:00:00+00:00\",\"2021-01-20T00:00:00+00:00\",\"2021-01-21T00:00:00+00:00\",\"2021-01-22T00:00:00+00:00\",\"2021-01-23T00:00:00+00:00\",\"2021-01-24T00:00:00+00:00\",\"2021-01-25T00:00:00+00:00\",\"2021-01-26T00:00:00+00:00\",\"2021-01-27T00:00:00+00:00\",\"2021-01-28T00:00:00+00:00\",\"2021-01-29T00:00:00+00:00\",\"2021-01-30T00:00:00+00:00\",\"2021-01-31T00:00:00+00:00\",\"2021-02-01T00:00:00+00:00\",\"2021-02-02T00:00:00+00:00\",\"2021-02-03T00:00:00+00:00\",\"2021-02-04T00:00:00+00:00\",\"2021-02-05T00:00:00+00:00\",\"2021-02-06T00:00:00+00:00\",\"2021-02-07T00:00:00+00:00\",\"2021-02-08T00:00:00+00:00\",\"2021-02-09T00:00:00+00:00\",\"2021-02-10T00:00:00+00:00\",\"2021-02-11T00:00:00+00:00\",\"2021-02-12T00:00:00+00:00\",\"2021-02-13T00:00:00+00:00\",\"2021-02-14T00:00:00+00:00\",\"2021-02-15T00:00:00+00:00\",\"2021-02-16T00:00:00+00:00\",\"2021-02-17T00:00:00+00:00\",\"2021-02-18T00:00:00+00:00\",\"2021-02-19T00:00:00+00:00\",\"2021-02-20T00:00:00+00:00\",\"2021-02-21T00:00:00+00:00\",\"2021-02-22T00:00:00+00:00\",\"2021-02-23T00:00:00+00:00\",\"2021-02-24T00:00:00+00:00\",\"2021-02-25T00:00:00+00:00\",\"2021-02-26T00:00:00+00:00\",\"2021-02-27T00:00:00+00:00\",\"2021-02-28T00:00:00+00:00\",\"2021-03-01T00:00:00+00:00\",\"2021-03-02T00:00:00+00:00\",\"2021-03-03T00:00:00+00:00\",\"2021-03-04T00:00:00+00:00\",\"2021-03-05T00:00:00+00:00\",\"2021-03-06T00:00:00+00:00\",\"2021-03-07T00:00:00+00:00\",\"2021-03-08T00:00:00+00:00\",\"2021-03-09T00:00:00+00:00\",\"2021-03-10T00:00:00+00:00\",\"2021-03-11T00:00:00+00:00\",\"2021-03-12T00:00:00+00:00\",\"2021-03-13T00:00:00+00:00\",\"2021-03-14T00:00:00+00:00\",\"2021-03-15T00:00:00+00:00\",\"2021-03-16T00:00:00+00:00\",\"2021-03-17T00:00:00+00:00\",\"2021-03-18T00:00:00+00:00\",\"2021-03-19T00:00:00+00:00\",\"2021-03-20T00:00:00+00:00\",\"2021-03-21T00:00:00+00:00\",\"2021-03-22T00:00:00+00:00\",\"2021-03-23T00:00:00+00:00\",\"2021-03-24T00:00:00+00:00\",\"2021-03-25T00:00:00+00:00\",\"2021-03-26T00:00:00+00:00\",\"2021-03-27T00:00:00+00:00\",\"2021-03-28T00:00:00+00:00\",\"2021-03-29T00:00:00+00:00\",\"2021-03-30T00:00:00+00:00\",\"2021-03-31T00:00:00+00:00\",\"2021-04-01T00:00:00+00:00\",\"2021-04-02T00:00:00+00:00\",\"2021-04-03T00:00:00+00:00\",\"2021-04-04T00:00:00+00:00\",\"2021-04-05T00:00:00+00:00\",\"2021-04-06T00:00:00+00:00\",\"2021-04-07T00:00:00+00:00\",\"2021-04-08T00:00:00+00:00\",\"2021-04-09T00:00:00+00:00\",\"2021-04-10T00:00:00+00:00\",\"2021-04-11T00:00:00+00:00\",\"2021-04-12T00:00:00+00:00\",\"2021-04-13T00:00:00+00:00\",\"2021-04-14T00:00:00+00:00\",\"2021-04-15T00:00:00+00:00\",\"2021-04-16T00:00:00+00:00\",\"2021-04-17T00:00:00+00:00\",\"2021-04-18T00:00:00+00:00\",\"2021-04-19T00:00:00+00:00\",\"2021-04-20T00:00:00+00:00\",\"2021-04-21T00:00:00+00:00\",\"2021-04-22T00:00:00+00:00\",\"2021-04-23T00:00:00+00:00\",\"2021-04-24T00:00:00+00:00\",\"2021-04-25T00:00:00+00:00\",\"2021-04-26T00:00:00+00:00\",\"2021-04-27T00:00:00+00:00\",\"2021-04-28T00:00:00+00:00\",\"2021-04-29T00:00:00+00:00\",\"2021-04-30T00:00:00+00:00\",\"2021-05-01T00:00:00+00:00\",\"2021-05-02T00:00:00+00:00\",\"2021-05-03T00:00:00+00:00\",\"2021-05-04T00:00:00+00:00\",\"2021-05-05T00:00:00+00:00\",\"2021-05-06T00:00:00+00:00\",\"2021-05-07T00:00:00+00:00\",\"2021-05-08T00:00:00+00:00\",\"2021-05-09T00:00:00+00:00\",\"2021-05-10T00:00:00+00:00\",\"2021-05-11T00:00:00+00:00\",\"2021-05-12T00:00:00+00:00\",\"2021-05-13T00:00:00+00:00\",\"2021-05-14T00:00:00+00:00\",\"2021-05-15T00:00:00+00:00\",\"2021-05-16T00:00:00+00:00\",\"2021-05-17T00:00:00+00:00\",\"2021-05-18T00:00:00+00:00\",\"2021-05-19T00:00:00+00:00\",\"2021-05-20T00:00:00+00:00\",\"2021-05-21T00:00:00+00:00\",\"2021-05-22T00:00:00+00:00\",\"2021-05-23T00:00:00+00:00\",\"2021-05-24T00:00:00+00:00\",\"2021-05-25T00:00:00+00:00\",\"2021-05-26T00:00:00+00:00\",\"2021-05-27T00:00:00+00:00\",\"2021-05-28T00:00:00+00:00\",\"2021-05-29T00:00:00+00:00\",\"2021-05-30T00:00:00+00:00\",\"2021-05-31T00:00:00+00:00\",\"2021-06-01T00:00:00+00:00\",\"2021-06-02T00:00:00+00:00\",\"2021-06-03T00:00:00+00:00\",\"2021-06-04T00:00:00+00:00\",\"2021-06-05T00:00:00+00:00\",\"2021-06-06T00:00:00+00:00\",\"2021-06-07T00:00:00+00:00\",\"2021-06-08T00:00:00+00:00\",\"2021-06-09T00:00:00+00:00\",\"2021-06-10T00:00:00+00:00\",\"2021-06-11T00:00:00+00:00\",\"2021-06-12T00:00:00+00:00\",\"2021-06-13T00:00:00+00:00\",\"2021-06-14T00:00:00+00:00\",\"2021-06-15T00:00:00+00:00\",\"2021-06-16T00:00:00+00:00\",\"2021-06-17T00:00:00+00:00\",\"2021-06-18T00:00:00+00:00\",\"2021-06-19T00:00:00+00:00\",\"2021-06-20T00:00:00+00:00\",\"2021-06-21T00:00:00+00:00\",\"2021-06-22T00:00:00+00:00\",\"2021-06-23T00:00:00+00:00\",\"2021-06-24T00:00:00+00:00\",\"2021-06-25T00:00:00+00:00\",\"2021-06-26T00:00:00+00:00\",\"2021-06-27T00:00:00+00:00\",\"2021-06-28T00:00:00+00:00\",\"2021-06-29T00:00:00+00:00\",\"2021-06-30T00:00:00+00:00\",\"2021-07-01T00:00:00+00:00\",\"2021-07-02T00:00:00+00:00\",\"2021-07-03T00:00:00+00:00\",\"2021-07-04T00:00:00+00:00\",\"2021-07-05T00:00:00+00:00\",\"2021-07-06T00:00:00+00:00\",\"2021-07-07T00:00:00+00:00\",\"2021-07-08T00:00:00+00:00\",\"2021-07-09T00:00:00+00:00\",\"2021-07-10T00:00:00+00:00\",\"2021-07-11T00:00:00+00:00\",\"2021-07-12T00:00:00+00:00\",\"2021-07-13T00:00:00+00:00\",\"2021-07-14T00:00:00+00:00\",\"2021-07-15T00:00:00+00:00\",\"2021-07-16T00:00:00+00:00\",\"2021-07-17T00:00:00+00:00\",\"2021-07-18T00:00:00+00:00\",\"2021-07-19T00:00:00+00:00\",\"2021-07-20T00:00:00+00:00\",\"2021-07-21T00:00:00+00:00\",\"2021-07-22T00:00:00+00:00\",\"2021-07-23T00:00:00+00:00\",\"2021-07-24T00:00:00+00:00\",\"2021-07-25T00:00:00+00:00\",\"2021-07-26T00:00:00+00:00\",\"2021-07-27T00:00:00+00:00\",\"2021-07-28T00:00:00+00:00\",\"2021-07-29T00:00:00+00:00\",\"2021-07-30T00:00:00+00:00\",\"2021-07-31T00:00:00+00:00\",\"2021-08-01T00:00:00+00:00\",\"2021-08-02T00:00:00+00:00\",\"2021-08-03T00:00:00+00:00\",\"2021-08-04T00:00:00+00:00\",\"2021-08-05T00:00:00+00:00\",\"2021-08-06T00:00:00+00:00\",\"2021-08-07T00:00:00+00:00\",\"2021-08-08T00:00:00+00:00\",\"2021-08-09T00:00:00+00:00\",\"2021-08-10T00:00:00+00:00\",\"2021-08-11T00:00:00+00:00\",\"2021-08-12T00:00:00+00:00\",\"2021-08-13T00:00:00+00:00\",\"2021-08-14T00:00:00+00:00\",\"2021-08-15T00:00:00+00:00\",\"2021-08-16T00:00:00+00:00\",\"2021-08-17T00:00:00+00:00\",\"2021-08-18T00:00:00+00:00\",\"2021-08-19T00:00:00+00:00\",\"2021-08-20T00:00:00+00:00\",\"2021-08-21T00:00:00+00:00\",\"2021-08-22T00:00:00+00:00\",\"2021-08-23T00:00:00+00:00\",\"2021-08-24T00:00:00+00:00\",\"2021-08-25T00:00:00+00:00\",\"2021-08-26T00:00:00+00:00\",\"2021-08-27T00:00:00+00:00\",\"2021-08-28T00:00:00+00:00\",\"2021-08-29T00:00:00+00:00\",\"2021-08-30T00:00:00+00:00\",\"2021-08-31T00:00:00+00:00\",\"2021-09-01T00:00:00+00:00\",\"2021-09-02T00:00:00+00:00\",\"2021-09-03T00:00:00+00:00\",\"2021-09-04T00:00:00+00:00\",\"2021-09-05T00:00:00+00:00\",\"2021-09-06T00:00:00+00:00\",\"2021-09-07T00:00:00+00:00\",\"2021-09-08T00:00:00+00:00\",\"2021-09-09T00:00:00+00:00\",\"2021-09-10T00:00:00+00:00\",\"2021-09-11T00:00:00+00:00\",\"2021-09-12T00:00:00+00:00\",\"2021-09-13T00:00:00+00:00\",\"2021-09-14T00:00:00+00:00\",\"2021-09-15T00:00:00+00:00\",\"2021-09-16T00:00:00+00:00\",\"2021-09-17T00:00:00+00:00\",\"2021-09-18T00:00:00+00:00\",\"2021-09-19T00:00:00+00:00\",\"2021-09-20T00:00:00+00:00\",\"2021-09-21T00:00:00+00:00\",\"2021-09-22T00:00:00+00:00\",\"2021-09-23T00:00:00+00:00\",\"2021-09-24T00:00:00+00:00\",\"2021-09-25T00:00:00+00:00\",\"2021-09-26T00:00:00+00:00\",\"2021-09-27T00:00:00+00:00\",\"2021-09-28T00:00:00+00:00\",\"2021-09-29T00:00:00+00:00\",\"2021-09-30T00:00:00+00:00\",\"2021-10-01T00:00:00+00:00\",\"2021-10-02T00:00:00+00:00\",\"2021-10-03T00:00:00+00:00\",\"2021-10-04T00:00:00+00:00\",\"2021-10-05T00:00:00+00:00\",\"2021-10-06T00:00:00+00:00\",\"2021-10-07T00:00:00+00:00\",\"2021-10-08T00:00:00+00:00\",\"2021-10-09T00:00:00+00:00\",\"2021-10-10T00:00:00+00:00\",\"2021-10-11T00:00:00+00:00\",\"2021-10-12T00:00:00+00:00\",\"2021-10-13T00:00:00+00:00\",\"2021-10-14T00:00:00+00:00\",\"2021-10-15T00:00:00+00:00\",\"2021-10-16T00:00:00+00:00\",\"2021-10-17T00:00:00+00:00\",\"2021-10-18T00:00:00+00:00\",\"2021-10-19T00:00:00+00:00\",\"2021-10-20T00:00:00+00:00\",\"2021-10-21T00:00:00+00:00\",\"2021-10-22T00:00:00+00:00\",\"2021-10-23T00:00:00+00:00\",\"2021-10-24T00:00:00+00:00\",\"2021-10-25T00:00:00+00:00\",\"2021-10-26T00:00:00+00:00\",\"2021-10-27T00:00:00+00:00\",\"2021-10-28T00:00:00+00:00\",\"2021-10-29T00:00:00+00:00\",\"2021-10-30T00:00:00+00:00\",\"2021-10-31T00:00:00+00:00\",\"2021-11-01T00:00:00+00:00\",\"2021-11-02T00:00:00+00:00\",\"2021-11-03T00:00:00+00:00\",\"2021-11-04T00:00:00+00:00\",\"2021-11-05T00:00:00+00:00\",\"2021-11-06T00:00:00+00:00\",\"2021-11-07T00:00:00+00:00\",\"2021-11-08T00:00:00+00:00\",\"2021-11-09T00:00:00+00:00\",\"2021-11-10T00:00:00+00:00\",\"2021-11-11T00:00:00+00:00\",\"2021-11-12T00:00:00+00:00\",\"2021-11-13T00:00:00+00:00\",\"2021-11-14T00:00:00+00:00\",\"2021-11-15T00:00:00+00:00\",\"2021-11-16T00:00:00+00:00\",\"2021-11-17T00:00:00+00:00\",\"2021-11-18T00:00:00+00:00\",\"2021-11-19T00:00:00+00:00\",\"2021-11-20T00:00:00+00:00\",\"2021-11-21T00:00:00+00:00\",\"2021-11-22T00:00:00+00:00\",\"2021-11-23T00:00:00+00:00\",\"2021-11-24T00:00:00+00:00\",\"2021-11-25T00:00:00+00:00\",\"2021-11-26T00:00:00+00:00\",\"2021-11-27T00:00:00+00:00\",\"2021-11-28T00:00:00+00:00\",\"2021-11-29T00:00:00+00:00\",\"2021-11-30T00:00:00+00:00\",\"2021-12-01T00:00:00+00:00\",\"2021-12-02T00:00:00+00:00\",\"2021-12-03T00:00:00+00:00\",\"2021-12-04T00:00:00+00:00\",\"2021-12-05T00:00:00+00:00\",\"2021-12-06T00:00:00+00:00\",\"2021-12-07T00:00:00+00:00\",\"2021-12-08T00:00:00+00:00\",\"2021-12-09T00:00:00+00:00\",\"2021-12-10T00:00:00+00:00\",\"2021-12-11T00:00:00+00:00\",\"2021-12-12T00:00:00+00:00\",\"2021-12-13T00:00:00+00:00\",\"2021-12-14T00:00:00+00:00\",\"2021-12-15T00:00:00+00:00\",\"2021-12-16T00:00:00+00:00\",\"2021-12-17T00:00:00+00:00\",\"2021-12-18T00:00:00+00:00\",\"2021-12-19T00:00:00+00:00\",\"2021-12-20T00:00:00+00:00\",\"2021-12-21T00:00:00+00:00\",\"2021-12-22T00:00:00+00:00\",\"2021-12-23T00:00:00+00:00\",\"2021-12-24T00:00:00+00:00\",\"2021-12-25T00:00:00+00:00\",\"2021-12-26T00:00:00+00:00\",\"2021-12-27T00:00:00+00:00\",\"2021-12-28T00:00:00+00:00\",\"2021-12-29T00:00:00+00:00\",\"2021-12-30T00:00:00+00:00\",\"2021-12-31T00:00:00+00:00\"],\"xaxis\":\"x\",\"y\":[0.6101132051647952,0.5985836788218608,0.5304915718279677,5.0515986135473705,0.7788762149472388,0.7996842429745455,0.8479407824433363,0.9096836867637981,0.5236751705340159,0.7182367327098929,1.39321006042949,1.2634268095607746,1.7294857888673059,0.5825337668812031,0.5023691961946903,0.7969489703835813,1.5129714634211788,0.25940157621459564,0.5076282723292345,0.4638946995477424,2.2898815867555657,2.4810644957721784,1.397813039593913,3.9868115197737657,0.5446696534513019,11.061311662134603,0.9440221095926203,4.216453108244035,1.539950987309928,0.5019792948012137,0.5516638690474596,0.5062103124055299,1.4185310429247415,0.48080314434022486,1.1571964202267757,0.945315612248904,0.4632887917379311,2.2817172402738906,0.5116518672285936,0.6544194924964055,0.7160953547786937,0.6768819629564418,0.8211201220053003,0.9180077178247308,0.4642593120979553,0.4128347734299303,0.9550659599767212,0.8138211666176927,5.6078714282241355,0.9342270252431389,1.8195933158100803,1.1940497943305561,2.9884355877782567,0.757555359617961,1.401509339975679,1.1334884380615513,0.7693001119814222,0.4927815929656023,2.9962081755333023,2.251326331395929,0.7684084372196428,8.490030862282879,0.6229511650428927,1.5385703950533929,2.299189063114147,0.6070907533457759,1.4621753063169551,1.4302031120056535,5.778224013342662,0.6375953893944148,1.243925973338332,0.5493971025241983,18.516358435397894,0.4836254091098037,1.2381373656640655,1.3011437920528093,2.577007008796995,2.382304489170852,1.6869282171708813,5.417536088741776,3.0790352381474677,1.1653844072588166,4.105318708874252,2.7719085341335985,0.6620263447144515,0.6001989611435886,0.5414568919068158,0.7736476090586026,2.0590653334042663,0.9860692667956579,2.8358336770073453,1.495021259704191,0.4667242232557959,0.6146905468030675,0.40893883701870465,1.159821195944157,0.6615173830354297,0.4783318527664766,2.792649550223174,9.783248024849946,0.8243023333039231,2.8517404319128365,1.2756895185266084,3.2388167528618834,0.7834810337147871,0.9540646155878367,1.0836929685561323,1.55142885549135,0.3965247982204695,3.0866752090656884,4.879803733775473,0.32844227200101256,0.476161573850623,1.0220747553461798,1.724135979947272,1.2532867960881455,0.33354251800717566,0.3893992638563002,0.3964389095695727,0.6598819761546817,2.478680653162591,0.3457482278673432,0.7276628087574312,6.449578131187121,0.3530366804759047,0.5613554509170458,0.320244998603468,4.834541155096609,0.3861766041462439,1.9499652360062025,0.43199566708147646,1.12596510589684,2.5701122934792546,1.2917869043951473,1.9550052038071506,0.7516693779485069,1.0569872556275615,1.1413837159198241,0.8183610160457975,0.40651554603860474,0.43764289758821123,1.0623412830850116,2.397780372746369,0.5908755290451034,3.5529881566357964,0.6648462320195121,2.209698264310691,0.5664299285991532,0.3578085991379889,0.5068824254794185,0.7927009144312704,0.3254412643903366,4.587238209873819,0.465238582775536,0.8985990022155371,17.505806004350465,0.9225885127417023,0.8991316253123283,0.6670845527175057,1.91753338154659,2.172780022254244,1.2776741380842322,5.495320266101134,0.9292503758485426,0.40637429801935343,0.4638170417464774,4.192862335874928,0.5050830279224543,1.0696400872569143,0.7501983615027086,2.8245343326648293,1.3402841989173684,9.1917471196892,0.8926758546983483,0.8790476725487153,1.0092479584598797,2.6460442702212976,0.42240044852445086,0.7181254247155069,0.7323184208304205,0.7247994699494957,0.6898047888435106,1.809677784419134,2.7648807573797307,2.682581806736481,1.9376156571313001,0.9876946933190798,1.0483396187094212,2.3644784646648658,0.872136667928043,1.1501204027381728,0.6066216769488191,0.4200335179309541,1.1379139948174497,0.6204676047521355,1.5752877618194334,0.7104816672520828,0.48437805630256714,4.0101232183682525,1.9327276273497187,3.080944932421639,0.5945287242244556,0.5018544569896572,0.502060576103435,1.2218503161351069,1.9363205403388573,0.40358051963066427,0.7267881107103795,0.8719227147819337,0.23956741304866241,5.355015030370857,3.0991884121324067,2.0213554496392265,0.7965377597866878,0.5341775502488654,0.9190406753651298,4.096131075016603,0.370299068851499,0.5855887939809304,0.601708477547717,1.5017275178368088,0.48668104240705307,1.271431531008442,0.850767241959561,0.6458542417217914,50.88697285277526,37.954314788391066,6.297186953665516,0.9674229674390531,4.553178536963508,1.0794992863650406,2.764795091771815,0.9198188145855776,2.7191220688558877,0.24158109482768375,0.8119527659868151,0.651067975255141,0.5359292952059286,5.616930820604085,2.185197914962862,0.3980208371137583,1.8142867931940705,0.735153322356751,0.7623938835690793,1.4378063765647289,6.267232779618055,1.7562188386795328,4.362915338655664,5.5445581336333625,0.6865271563643298,7.471958457750871,0.8684220490233922,1.1303707860618708,0.6857107593034337,2.2213395565337177,0.5657910180472,0.48252348136810314,22.395628053331425,0.8114854691027411,5.409567065714646,0.4865712891184652,0.30923874418025454,2.750412351745948,14.950325881188688,0.3519804966934773,2.2680160584427234,8.040748287754331,7.6418100970206595,6.584243511610554,0.4988550565938876,3.1538090749887195,0.2777005179362456,0.3958140123033014,0.36933768991915794,2.5057218915161865,1.2199614773077665,0.2910544341652463,1.889397483958095,0.7032605666095368,1.5894735074391901,0.32296375224483453,1.04704723626644,0.7825777584922093,0.4130896296264978,2.1884001050523487,12.050305725111734,4.694481598423126,0.8033005516706817,9.696578392388584,0.7825663596007328,1.1040425814922934,17.280904620183655,0.8207012086456086,1.3738500328756909,0.3534226631264689,3.0200256968644195,0.885342261634457,0.9014869507956262,1.2780429990699638,6.671788730831824,2.1181302165945857,13.94893186375185,0.6926801921584942,1.9156162665562926,1.63668429787522,0.2910940487818788,6.0785992840418555,12.24249169384489,16.575843365096535,0.8709795362372134,1.8920979633069317,4.944954693460798,1.2248316318399917,0.5346075335250182,2.2592440663707203,9.733747931667603,1.6305280235619102,1.2386137747103911,1.1327915882419024,1.97184468486774,0.3364299086017563,0.987267955814427,41.37884324609022,4.516176237708868,0.409236103997008,2.459329828666565,1.0168119355307428,0.9144652131243107,22.856291104896126,4.1374702960170895,1.957592121549767,4.789112363180371,1.4210444458657103,0.41879057302412304,4.501529071752241,0.4184469048519145,0.49570652699800316,0.7132969725727188,1.05337356029428,4.438947347526639,0.6296438349801055,4.94872294828193,0.5358659534624256,1.082427295313468,2.5991668899965337,1.0220747553461798,1.8371246798887468,1.073602962977192,25.145888770886867,0.37356720182679104,0.46257903256551514,2.196603416144825,0.5142246800734803,11.454906203864303,0.45268302308705943,1.025239002091698,0.46378494140155735,0.4980738474807551,1.3169321748601504,0.7453217452185499,0.4129149587851655,0.47753801008458685,0.8499828074407357,0.9538870846352117,0.3618505469222602],\"yaxis\":\"y\",\"type\":\"scatter\"}],                        {\"template\":{\"data\":{\"bar\":[{\"error_x\":{\"color\":\"#2a3f5f\"},\"error_y\":{\"color\":\"#2a3f5f\"},\"marker\":{\"line\":{\"color\":\"#E5ECF6\",\"width\":0.5},\"pattern\":{\"fillmode\":\"overlay\",\"size\":10,\"solidity\":0.2}},\"type\":\"bar\"}],\"barpolar\":[{\"marker\":{\"line\":{\"color\":\"#E5ECF6\",\"width\":0.5},\"pattern\":{\"fillmode\":\"overlay\",\"size\":10,\"solidity\":0.2}},\"type\":\"barpolar\"}],\"carpet\":[{\"aaxis\":{\"endlinecolor\":\"#2a3f5f\",\"gridcolor\":\"white\",\"linecolor\":\"white\",\"minorgridcolor\":\"white\",\"startlinecolor\":\"#2a3f5f\"},\"baxis\":{\"endlinecolor\":\"#2a3f5f\",\"gridcolor\":\"white\",\"linecolor\":\"white\",\"minorgridcolor\":\"white\",\"startlinecolor\":\"#2a3f5f\"},\"type\":\"carpet\"}],\"choropleth\":[{\"colorbar\":{\"outlinewidth\":0,\"ticks\":\"\"},\"type\":\"choropleth\"}],\"contour\":[{\"colorbar\":{\"outlinewidth\":0,\"ticks\":\"\"},\"colorscale\":[[0.0,\"#0d0887\"],[0.1111111111111111,\"#46039f\"],[0.2222222222222222,\"#7201a8\"],[0.3333333333333333,\"#9c179e\"],[0.4444444444444444,\"#bd3786\"],[0.5555555555555556,\"#d8576b\"],[0.6666666666666666,\"#ed7953\"],[0.7777777777777778,\"#fb9f3a\"],[0.8888888888888888,\"#fdca26\"],[1.0,\"#f0f921\"]],\"type\":\"contour\"}],\"contourcarpet\":[{\"colorbar\":{\"outlinewidth\":0,\"ticks\":\"\"},\"type\":\"contourcarpet\"}],\"heatmap\":[{\"colorbar\":{\"outlinewidth\":0,\"ticks\":\"\"},\"colorscale\":[[0.0,\"#0d0887\"],[0.1111111111111111,\"#46039f\"],[0.2222222222222222,\"#7201a8\"],[0.3333333333333333,\"#9c179e\"],[0.4444444444444444,\"#bd3786\"],[0.5555555555555556,\"#d8576b\"],[0.6666666666666666,\"#ed7953\"],[0.7777777777777778,\"#fb9f3a\"],[0.8888888888888888,\"#fdca26\"],[1.0,\"#f0f921\"]],\"type\":\"heatmap\"}],\"heatmapgl\":[{\"colorbar\":{\"outlinewidth\":0,\"ticks\":\"\"},\"colorscale\":[[0.0,\"#0d0887\"],[0.1111111111111111,\"#46039f\"],[0.2222222222222222,\"#7201a8\"],[0.3333333333333333,\"#9c179e\"],[0.4444444444444444,\"#bd3786\"],[0.5555555555555556,\"#d8576b\"],[0.6666666666666666,\"#ed7953\"],[0.7777777777777778,\"#fb9f3a\"],[0.8888888888888888,\"#fdca26\"],[1.0,\"#f0f921\"]],\"type\":\"heatmapgl\"}],\"histogram\":[{\"marker\":{\"pattern\":{\"fillmode\":\"overlay\",\"size\":10,\"solidity\":0.2}},\"type\":\"histogram\"}],\"histogram2d\":[{\"colorbar\":{\"outlinewidth\":0,\"ticks\":\"\"},\"colorscale\":[[0.0,\"#0d0887\"],[0.1111111111111111,\"#46039f\"],[0.2222222222222222,\"#7201a8\"],[0.3333333333333333,\"#9c179e\"],[0.4444444444444444,\"#bd3786\"],[0.5555555555555556,\"#d8576b\"],[0.6666666666666666,\"#ed7953\"],[0.7777777777777778,\"#fb9f3a\"],[0.8888888888888888,\"#fdca26\"],[1.0,\"#f0f921\"]],\"type\":\"histogram2d\"}],\"histogram2dcontour\":[{\"colorbar\":{\"outlinewidth\":0,\"ticks\":\"\"},\"colorscale\":[[0.0,\"#0d0887\"],[0.1111111111111111,\"#46039f\"],[0.2222222222222222,\"#7201a8\"],[0.3333333333333333,\"#9c179e\"],[0.4444444444444444,\"#bd3786\"],[0.5555555555555556,\"#d8576b\"],[0.6666666666666666,\"#ed7953\"],[0.7777777777777778,\"#fb9f3a\"],[0.8888888888888888,\"#fdca26\"],[1.0,\"#f0f921\"]],\"type\":\"histogram2dcontour\"}],\"mesh3d\":[{\"colorbar\":{\"outlinewidth\":0,\"ticks\":\"\"},\"type\":\"mesh3d\"}],\"parcoords\":[{\"line\":{\"colorbar\":{\"outlinewidth\":0,\"ticks\":\"\"}},\"type\":\"parcoords\"}],\"pie\":[{\"automargin\":true,\"type\":\"pie\"}],\"scatter\":[{\"marker\":{\"colorbar\":{\"outlinewidth\":0,\"ticks\":\"\"}},\"type\":\"scatter\"}],\"scatter3d\":[{\"line\":{\"colorbar\":{\"outlinewidth\":0,\"ticks\":\"\"}},\"marker\":{\"colorbar\":{\"outlinewidth\":0,\"ticks\":\"\"}},\"type\":\"scatter3d\"}],\"scattercarpet\":[{\"marker\":{\"colorbar\":{\"outlinewidth\":0,\"ticks\":\"\"}},\"type\":\"scattercarpet\"}],\"scattergeo\":[{\"marker\":{\"colorbar\":{\"outlinewidth\":0,\"ticks\":\"\"}},\"type\":\"scattergeo\"}],\"scattergl\":[{\"marker\":{\"colorbar\":{\"outlinewidth\":0,\"ticks\":\"\"}},\"type\":\"scattergl\"}],\"scattermapbox\":[{\"marker\":{\"colorbar\":{\"outlinewidth\":0,\"ticks\":\"\"}},\"type\":\"scattermapbox\"}],\"scatterpolar\":[{\"marker\":{\"colorbar\":{\"outlinewidth\":0,\"ticks\":\"\"}},\"type\":\"scatterpolar\"}],\"scatterpolargl\":[{\"marker\":{\"colorbar\":{\"outlinewidth\":0,\"ticks\":\"\"}},\"type\":\"scatterpolargl\"}],\"scatterternary\":[{\"marker\":{\"colorbar\":{\"outlinewidth\":0,\"ticks\":\"\"}},\"type\":\"scatterternary\"}],\"surface\":[{\"colorbar\":{\"outlinewidth\":0,\"ticks\":\"\"},\"colorscale\":[[0.0,\"#0d0887\"],[0.1111111111111111,\"#46039f\"],[0.2222222222222222,\"#7201a8\"],[0.3333333333333333,\"#9c179e\"],[0.4444444444444444,\"#bd3786\"],[0.5555555555555556,\"#d8576b\"],[0.6666666666666666,\"#ed7953\"],[0.7777777777777778,\"#fb9f3a\"],[0.8888888888888888,\"#fdca26\"],[1.0,\"#f0f921\"]],\"type\":\"surface\"}],\"table\":[{\"cells\":{\"fill\":{\"color\":\"#EBF0F8\"},\"line\":{\"color\":\"white\"}},\"header\":{\"fill\":{\"color\":\"#C8D4E3\"},\"line\":{\"color\":\"white\"}},\"type\":\"table\"}]},\"layout\":{\"annotationdefaults\":{\"arrowcolor\":\"#2a3f5f\",\"arrowhead\":0,\"arrowwidth\":1},\"autotypenumbers\":\"strict\",\"coloraxis\":{\"colorbar\":{\"outlinewidth\":0,\"ticks\":\"\"}},\"colorscale\":{\"diverging\":[[0,\"#8e0152\"],[0.1,\"#c51b7d\"],[0.2,\"#de77ae\"],[0.3,\"#f1b6da\"],[0.4,\"#fde0ef\"],[0.5,\"#f7f7f7\"],[0.6,\"#e6f5d0\"],[0.7,\"#b8e186\"],[0.8,\"#7fbc41\"],[0.9,\"#4d9221\"],[1,\"#276419\"]],\"sequential\":[[0.0,\"#0d0887\"],[0.1111111111111111,\"#46039f\"],[0.2222222222222222,\"#7201a8\"],[0.3333333333333333,\"#9c179e\"],[0.4444444444444444,\"#bd3786\"],[0.5555555555555556,\"#d8576b\"],[0.6666666666666666,\"#ed7953\"],[0.7777777777777778,\"#fb9f3a\"],[0.8888888888888888,\"#fdca26\"],[1.0,\"#f0f921\"]],\"sequentialminus\":[[0.0,\"#0d0887\"],[0.1111111111111111,\"#46039f\"],[0.2222222222222222,\"#7201a8\"],[0.3333333333333333,\"#9c179e\"],[0.4444444444444444,\"#bd3786\"],[0.5555555555555556,\"#d8576b\"],[0.6666666666666666,\"#ed7953\"],[0.7777777777777778,\"#fb9f3a\"],[0.8888888888888888,\"#fdca26\"],[1.0,\"#f0f921\"]]},\"colorway\":[\"#636efa\",\"#EF553B\",\"#00cc96\",\"#ab63fa\",\"#FFA15A\",\"#19d3f3\",\"#FF6692\",\"#B6E880\",\"#FF97FF\",\"#FECB52\"],\"font\":{\"color\":\"#2a3f5f\"},\"geo\":{\"bgcolor\":\"white\",\"lakecolor\":\"white\",\"landcolor\":\"#E5ECF6\",\"showlakes\":true,\"showland\":true,\"subunitcolor\":\"white\"},\"hoverlabel\":{\"align\":\"left\"},\"hovermode\":\"closest\",\"mapbox\":{\"style\":\"light\"},\"paper_bgcolor\":\"white\",\"plot_bgcolor\":\"#E5ECF6\",\"polar\":{\"angularaxis\":{\"gridcolor\":\"white\",\"linecolor\":\"white\",\"ticks\":\"\"},\"bgcolor\":\"#E5ECF6\",\"radialaxis\":{\"gridcolor\":\"white\",\"linecolor\":\"white\",\"ticks\":\"\"}},\"scene\":{\"xaxis\":{\"backgroundcolor\":\"#E5ECF6\",\"gridcolor\":\"white\",\"gridwidth\":2,\"linecolor\":\"white\",\"showbackground\":true,\"ticks\":\"\",\"zerolinecolor\":\"white\"},\"yaxis\":{\"backgroundcolor\":\"#E5ECF6\",\"gridcolor\":\"white\",\"gridwidth\":2,\"linecolor\":\"white\",\"showbackground\":true,\"ticks\":\"\",\"zerolinecolor\":\"white\"},\"zaxis\":{\"backgroundcolor\":\"#E5ECF6\",\"gridcolor\":\"white\",\"gridwidth\":2,\"linecolor\":\"white\",\"showbackground\":true,\"ticks\":\"\",\"zerolinecolor\":\"white\"}},\"shapedefaults\":{\"line\":{\"color\":\"#2a3f5f\"}},\"ternary\":{\"aaxis\":{\"gridcolor\":\"white\",\"linecolor\":\"white\",\"ticks\":\"\"},\"baxis\":{\"gridcolor\":\"white\",\"linecolor\":\"white\",\"ticks\":\"\"},\"bgcolor\":\"#E5ECF6\",\"caxis\":{\"gridcolor\":\"white\",\"linecolor\":\"white\",\"ticks\":\"\"}},\"title\":{\"x\":0.05},\"xaxis\":{\"automargin\":true,\"gridcolor\":\"white\",\"linecolor\":\"white\",\"ticks\":\"\",\"title\":{\"standoff\":15},\"zerolinecolor\":\"white\",\"zerolinewidth\":2},\"yaxis\":{\"automargin\":true,\"gridcolor\":\"white\",\"linecolor\":\"white\",\"ticks\":\"\",\"title\":{\"standoff\":15},\"zerolinecolor\":\"white\",\"zerolinewidth\":2}}},\"xaxis\":{\"anchor\":\"y\",\"domain\":[0.0,1.0],\"title\":{\"text\":\"Time\"}},\"yaxis\":{\"anchor\":\"x\",\"domain\":[0.0,1.0],\"title\":{\"text\":\"Retweet count\"}},\"legend\":{\"title\":{\"text\":\"type\"},\"tracegroupgap\":0},\"title\":{\"text\":\"Predictions of topic retweet count average for 2021 with MAE:1.239\"},\"height\":500,\"width\":900},                        {\"responsive\": true}                    ).then(function(){\n                            \nvar gd = document.getElementById('28da331b-6fe2-42ad-98c9-d3c10422997e');\nvar x = new MutationObserver(function (mutations, observer) {{\n        var display = window.getComputedStyle(gd).display;\n        if (!display || display === 'none') {{\n            console.log([gd, 'removed!']);\n            Plotly.purge(gd);\n            observer.disconnect();\n        }}\n}});\n\n// Listen for the removal of the full notebook cells\nvar notebookContainer = gd.closest('#notebook-container');\nif (notebookContainer) {{\n    x.observe(notebookContainer, {childList: true});\n}}\n\n// Listen for the clearing of the current output cell\nvar outputEl = gd.closest('.output');\nif (outputEl) {{\n    x.observe(outputEl, {childList: true});\n}}\n\n                        })                };                });            </script>        </div>"
     },
     "metadata": {},
     "output_type": "display_data"
    },
    {
     "data": {
      "application/vnd.plotly.v1+json": {
       "data": [
        {
         "alignmentgroup": "True",
         "hovertemplate": "feature=%{x}<br>importance=%{y}<extra></extra>",
         "legendgroup": "",
         "marker": {
          "color": "rgb(136, 204, 238)",
          "pattern": {
           "shape": ""
          }
         },
         "name": "",
         "offsetgroup": "",
         "orientation": "v",
         "showlegend": false,
         "textposition": "auto",
         "x": [
          "like_count",
          "reply_count",
          "followers",
          "month_enc",
          "day_phase_enc",
          "reach",
          "verified_enc"
         ],
         "xaxis": "x",
         "y": [
          0.731356059189237,
          0.1615919018147751,
          0.04369959480971063,
          0.029272786106922508,
          0.01844579235397866,
          0.01174124323050759,
          0.0038926224948686154
         ],
         "yaxis": "y",
         "type": "bar"
        }
       ],
       "layout": {
        "template": {
         "data": {
          "bar": [
           {
            "error_x": {
             "color": "#2a3f5f"
            },
            "error_y": {
             "color": "#2a3f5f"
            },
            "marker": {
             "line": {
              "color": "#E5ECF6",
              "width": 0.5
             },
             "pattern": {
              "fillmode": "overlay",
              "size": 10,
              "solidity": 0.2
             }
            },
            "type": "bar"
           }
          ],
          "barpolar": [
           {
            "marker": {
             "line": {
              "color": "#E5ECF6",
              "width": 0.5
             },
             "pattern": {
              "fillmode": "overlay",
              "size": 10,
              "solidity": 0.2
             }
            },
            "type": "barpolar"
           }
          ],
          "carpet": [
           {
            "aaxis": {
             "endlinecolor": "#2a3f5f",
             "gridcolor": "white",
             "linecolor": "white",
             "minorgridcolor": "white",
             "startlinecolor": "#2a3f5f"
            },
            "baxis": {
             "endlinecolor": "#2a3f5f",
             "gridcolor": "white",
             "linecolor": "white",
             "minorgridcolor": "white",
             "startlinecolor": "#2a3f5f"
            },
            "type": "carpet"
           }
          ],
          "choropleth": [
           {
            "colorbar": {
             "outlinewidth": 0,
             "ticks": ""
            },
            "type": "choropleth"
           }
          ],
          "contour": [
           {
            "colorbar": {
             "outlinewidth": 0,
             "ticks": ""
            },
            "colorscale": [
             [
              0.0,
              "#0d0887"
             ],
             [
              0.1111111111111111,
              "#46039f"
             ],
             [
              0.2222222222222222,
              "#7201a8"
             ],
             [
              0.3333333333333333,
              "#9c179e"
             ],
             [
              0.4444444444444444,
              "#bd3786"
             ],
             [
              0.5555555555555556,
              "#d8576b"
             ],
             [
              0.6666666666666666,
              "#ed7953"
             ],
             [
              0.7777777777777778,
              "#fb9f3a"
             ],
             [
              0.8888888888888888,
              "#fdca26"
             ],
             [
              1.0,
              "#f0f921"
             ]
            ],
            "type": "contour"
           }
          ],
          "contourcarpet": [
           {
            "colorbar": {
             "outlinewidth": 0,
             "ticks": ""
            },
            "type": "contourcarpet"
           }
          ],
          "heatmap": [
           {
            "colorbar": {
             "outlinewidth": 0,
             "ticks": ""
            },
            "colorscale": [
             [
              0.0,
              "#0d0887"
             ],
             [
              0.1111111111111111,
              "#46039f"
             ],
             [
              0.2222222222222222,
              "#7201a8"
             ],
             [
              0.3333333333333333,
              "#9c179e"
             ],
             [
              0.4444444444444444,
              "#bd3786"
             ],
             [
              0.5555555555555556,
              "#d8576b"
             ],
             [
              0.6666666666666666,
              "#ed7953"
             ],
             [
              0.7777777777777778,
              "#fb9f3a"
             ],
             [
              0.8888888888888888,
              "#fdca26"
             ],
             [
              1.0,
              "#f0f921"
             ]
            ],
            "type": "heatmap"
           }
          ],
          "heatmapgl": [
           {
            "colorbar": {
             "outlinewidth": 0,
             "ticks": ""
            },
            "colorscale": [
             [
              0.0,
              "#0d0887"
             ],
             [
              0.1111111111111111,
              "#46039f"
             ],
             [
              0.2222222222222222,
              "#7201a8"
             ],
             [
              0.3333333333333333,
              "#9c179e"
             ],
             [
              0.4444444444444444,
              "#bd3786"
             ],
             [
              0.5555555555555556,
              "#d8576b"
             ],
             [
              0.6666666666666666,
              "#ed7953"
             ],
             [
              0.7777777777777778,
              "#fb9f3a"
             ],
             [
              0.8888888888888888,
              "#fdca26"
             ],
             [
              1.0,
              "#f0f921"
             ]
            ],
            "type": "heatmapgl"
           }
          ],
          "histogram": [
           {
            "marker": {
             "pattern": {
              "fillmode": "overlay",
              "size": 10,
              "solidity": 0.2
             }
            },
            "type": "histogram"
           }
          ],
          "histogram2d": [
           {
            "colorbar": {
             "outlinewidth": 0,
             "ticks": ""
            },
            "colorscale": [
             [
              0.0,
              "#0d0887"
             ],
             [
              0.1111111111111111,
              "#46039f"
             ],
             [
              0.2222222222222222,
              "#7201a8"
             ],
             [
              0.3333333333333333,
              "#9c179e"
             ],
             [
              0.4444444444444444,
              "#bd3786"
             ],
             [
              0.5555555555555556,
              "#d8576b"
             ],
             [
              0.6666666666666666,
              "#ed7953"
             ],
             [
              0.7777777777777778,
              "#fb9f3a"
             ],
             [
              0.8888888888888888,
              "#fdca26"
             ],
             [
              1.0,
              "#f0f921"
             ]
            ],
            "type": "histogram2d"
           }
          ],
          "histogram2dcontour": [
           {
            "colorbar": {
             "outlinewidth": 0,
             "ticks": ""
            },
            "colorscale": [
             [
              0.0,
              "#0d0887"
             ],
             [
              0.1111111111111111,
              "#46039f"
             ],
             [
              0.2222222222222222,
              "#7201a8"
             ],
             [
              0.3333333333333333,
              "#9c179e"
             ],
             [
              0.4444444444444444,
              "#bd3786"
             ],
             [
              0.5555555555555556,
              "#d8576b"
             ],
             [
              0.6666666666666666,
              "#ed7953"
             ],
             [
              0.7777777777777778,
              "#fb9f3a"
             ],
             [
              0.8888888888888888,
              "#fdca26"
             ],
             [
              1.0,
              "#f0f921"
             ]
            ],
            "type": "histogram2dcontour"
           }
          ],
          "mesh3d": [
           {
            "colorbar": {
             "outlinewidth": 0,
             "ticks": ""
            },
            "type": "mesh3d"
           }
          ],
          "parcoords": [
           {
            "line": {
             "colorbar": {
              "outlinewidth": 0,
              "ticks": ""
             }
            },
            "type": "parcoords"
           }
          ],
          "pie": [
           {
            "automargin": true,
            "type": "pie"
           }
          ],
          "scatter": [
           {
            "marker": {
             "colorbar": {
              "outlinewidth": 0,
              "ticks": ""
             }
            },
            "type": "scatter"
           }
          ],
          "scatter3d": [
           {
            "line": {
             "colorbar": {
              "outlinewidth": 0,
              "ticks": ""
             }
            },
            "marker": {
             "colorbar": {
              "outlinewidth": 0,
              "ticks": ""
             }
            },
            "type": "scatter3d"
           }
          ],
          "scattercarpet": [
           {
            "marker": {
             "colorbar": {
              "outlinewidth": 0,
              "ticks": ""
             }
            },
            "type": "scattercarpet"
           }
          ],
          "scattergeo": [
           {
            "marker": {
             "colorbar": {
              "outlinewidth": 0,
              "ticks": ""
             }
            },
            "type": "scattergeo"
           }
          ],
          "scattergl": [
           {
            "marker": {
             "colorbar": {
              "outlinewidth": 0,
              "ticks": ""
             }
            },
            "type": "scattergl"
           }
          ],
          "scattermapbox": [
           {
            "marker": {
             "colorbar": {
              "outlinewidth": 0,
              "ticks": ""
             }
            },
            "type": "scattermapbox"
           }
          ],
          "scatterpolar": [
           {
            "marker": {
             "colorbar": {
              "outlinewidth": 0,
              "ticks": ""
             }
            },
            "type": "scatterpolar"
           }
          ],
          "scatterpolargl": [
           {
            "marker": {
             "colorbar": {
              "outlinewidth": 0,
              "ticks": ""
             }
            },
            "type": "scatterpolargl"
           }
          ],
          "scatterternary": [
           {
            "marker": {
             "colorbar": {
              "outlinewidth": 0,
              "ticks": ""
             }
            },
            "type": "scatterternary"
           }
          ],
          "surface": [
           {
            "colorbar": {
             "outlinewidth": 0,
             "ticks": ""
            },
            "colorscale": [
             [
              0.0,
              "#0d0887"
             ],
             [
              0.1111111111111111,
              "#46039f"
             ],
             [
              0.2222222222222222,
              "#7201a8"
             ],
             [
              0.3333333333333333,
              "#9c179e"
             ],
             [
              0.4444444444444444,
              "#bd3786"
             ],
             [
              0.5555555555555556,
              "#d8576b"
             ],
             [
              0.6666666666666666,
              "#ed7953"
             ],
             [
              0.7777777777777778,
              "#fb9f3a"
             ],
             [
              0.8888888888888888,
              "#fdca26"
             ],
             [
              1.0,
              "#f0f921"
             ]
            ],
            "type": "surface"
           }
          ],
          "table": [
           {
            "cells": {
             "fill": {
              "color": "#EBF0F8"
             },
             "line": {
              "color": "white"
             }
            },
            "header": {
             "fill": {
              "color": "#C8D4E3"
             },
             "line": {
              "color": "white"
             }
            },
            "type": "table"
           }
          ]
         },
         "layout": {
          "annotationdefaults": {
           "arrowcolor": "#2a3f5f",
           "arrowhead": 0,
           "arrowwidth": 1
          },
          "autotypenumbers": "strict",
          "coloraxis": {
           "colorbar": {
            "outlinewidth": 0,
            "ticks": ""
           }
          },
          "colorscale": {
           "diverging": [
            [
             0,
             "#8e0152"
            ],
            [
             0.1,
             "#c51b7d"
            ],
            [
             0.2,
             "#de77ae"
            ],
            [
             0.3,
             "#f1b6da"
            ],
            [
             0.4,
             "#fde0ef"
            ],
            [
             0.5,
             "#f7f7f7"
            ],
            [
             0.6,
             "#e6f5d0"
            ],
            [
             0.7,
             "#b8e186"
            ],
            [
             0.8,
             "#7fbc41"
            ],
            [
             0.9,
             "#4d9221"
            ],
            [
             1,
             "#276419"
            ]
           ],
           "sequential": [
            [
             0.0,
             "#0d0887"
            ],
            [
             0.1111111111111111,
             "#46039f"
            ],
            [
             0.2222222222222222,
             "#7201a8"
            ],
            [
             0.3333333333333333,
             "#9c179e"
            ],
            [
             0.4444444444444444,
             "#bd3786"
            ],
            [
             0.5555555555555556,
             "#d8576b"
            ],
            [
             0.6666666666666666,
             "#ed7953"
            ],
            [
             0.7777777777777778,
             "#fb9f3a"
            ],
            [
             0.8888888888888888,
             "#fdca26"
            ],
            [
             1.0,
             "#f0f921"
            ]
           ],
           "sequentialminus": [
            [
             0.0,
             "#0d0887"
            ],
            [
             0.1111111111111111,
             "#46039f"
            ],
            [
             0.2222222222222222,
             "#7201a8"
            ],
            [
             0.3333333333333333,
             "#9c179e"
            ],
            [
             0.4444444444444444,
             "#bd3786"
            ],
            [
             0.5555555555555556,
             "#d8576b"
            ],
            [
             0.6666666666666666,
             "#ed7953"
            ],
            [
             0.7777777777777778,
             "#fb9f3a"
            ],
            [
             0.8888888888888888,
             "#fdca26"
            ],
            [
             1.0,
             "#f0f921"
            ]
           ]
          },
          "colorway": [
           "#636efa",
           "#EF553B",
           "#00cc96",
           "#ab63fa",
           "#FFA15A",
           "#19d3f3",
           "#FF6692",
           "#B6E880",
           "#FF97FF",
           "#FECB52"
          ],
          "font": {
           "color": "#2a3f5f"
          },
          "geo": {
           "bgcolor": "white",
           "lakecolor": "white",
           "landcolor": "#E5ECF6",
           "showlakes": true,
           "showland": true,
           "subunitcolor": "white"
          },
          "hoverlabel": {
           "align": "left"
          },
          "hovermode": "closest",
          "mapbox": {
           "style": "light"
          },
          "paper_bgcolor": "white",
          "plot_bgcolor": "#E5ECF6",
          "polar": {
           "angularaxis": {
            "gridcolor": "white",
            "linecolor": "white",
            "ticks": ""
           },
           "bgcolor": "#E5ECF6",
           "radialaxis": {
            "gridcolor": "white",
            "linecolor": "white",
            "ticks": ""
           }
          },
          "scene": {
           "xaxis": {
            "backgroundcolor": "#E5ECF6",
            "gridcolor": "white",
            "gridwidth": 2,
            "linecolor": "white",
            "showbackground": true,
            "ticks": "",
            "zerolinecolor": "white"
           },
           "yaxis": {
            "backgroundcolor": "#E5ECF6",
            "gridcolor": "white",
            "gridwidth": 2,
            "linecolor": "white",
            "showbackground": true,
            "ticks": "",
            "zerolinecolor": "white"
           },
           "zaxis": {
            "backgroundcolor": "#E5ECF6",
            "gridcolor": "white",
            "gridwidth": 2,
            "linecolor": "white",
            "showbackground": true,
            "ticks": "",
            "zerolinecolor": "white"
           }
          },
          "shapedefaults": {
           "line": {
            "color": "#2a3f5f"
           }
          },
          "ternary": {
           "aaxis": {
            "gridcolor": "white",
            "linecolor": "white",
            "ticks": ""
           },
           "baxis": {
            "gridcolor": "white",
            "linecolor": "white",
            "ticks": ""
           },
           "bgcolor": "#E5ECF6",
           "caxis": {
            "gridcolor": "white",
            "linecolor": "white",
            "ticks": ""
           }
          },
          "title": {
           "x": 0.05
          },
          "xaxis": {
           "automargin": true,
           "gridcolor": "white",
           "linecolor": "white",
           "ticks": "",
           "title": {
            "standoff": 15
           },
           "zerolinecolor": "white",
           "zerolinewidth": 2
          },
          "yaxis": {
           "automargin": true,
           "gridcolor": "white",
           "linecolor": "white",
           "ticks": "",
           "title": {
            "standoff": 15
           },
           "zerolinecolor": "white",
           "zerolinewidth": 2
          }
         }
        },
        "xaxis": {
         "anchor": "y",
         "domain": [
          0.0,
          1.0
         ],
         "title": {
          "text": "feature"
         }
        },
        "yaxis": {
         "anchor": "x",
         "domain": [
          0.0,
          1.0
         ],
         "title": {
          "text": "importance"
         }
        },
        "legend": {
         "tracegroupgap": 0
        },
        "title": {
         "text": "Variable Importances"
        },
        "barmode": "relative",
        "height": 500,
        "width": 900
       },
       "config": {
        "plotlyServerURL": "https://plot.ly"
       }
      },
      "text/html": "<div>                            <div id=\"187c9647-d792-4608-a31d-35bf56a08e1c\" class=\"plotly-graph-div\" style=\"height:500px; width:900px;\"></div>            <script type=\"text/javascript\">                require([\"plotly\"], function(Plotly) {                    window.PLOTLYENV=window.PLOTLYENV || {};                                    if (document.getElementById(\"187c9647-d792-4608-a31d-35bf56a08e1c\")) {                    Plotly.newPlot(                        \"187c9647-d792-4608-a31d-35bf56a08e1c\",                        [{\"alignmentgroup\":\"True\",\"hovertemplate\":\"feature=%{x}<br>importance=%{y}<extra></extra>\",\"legendgroup\":\"\",\"marker\":{\"color\":\"rgb(136, 204, 238)\",\"pattern\":{\"shape\":\"\"}},\"name\":\"\",\"offsetgroup\":\"\",\"orientation\":\"v\",\"showlegend\":false,\"textposition\":\"auto\",\"x\":[\"like_count\",\"reply_count\",\"followers\",\"month_enc\",\"day_phase_enc\",\"reach\",\"verified_enc\"],\"xaxis\":\"x\",\"y\":[0.731356059189237,0.1615919018147751,0.04369959480971063,0.029272786106922508,0.01844579235397866,0.01174124323050759,0.0038926224948686154],\"yaxis\":\"y\",\"type\":\"bar\"}],                        {\"template\":{\"data\":{\"bar\":[{\"error_x\":{\"color\":\"#2a3f5f\"},\"error_y\":{\"color\":\"#2a3f5f\"},\"marker\":{\"line\":{\"color\":\"#E5ECF6\",\"width\":0.5},\"pattern\":{\"fillmode\":\"overlay\",\"size\":10,\"solidity\":0.2}},\"type\":\"bar\"}],\"barpolar\":[{\"marker\":{\"line\":{\"color\":\"#E5ECF6\",\"width\":0.5},\"pattern\":{\"fillmode\":\"overlay\",\"size\":10,\"solidity\":0.2}},\"type\":\"barpolar\"}],\"carpet\":[{\"aaxis\":{\"endlinecolor\":\"#2a3f5f\",\"gridcolor\":\"white\",\"linecolor\":\"white\",\"minorgridcolor\":\"white\",\"startlinecolor\":\"#2a3f5f\"},\"baxis\":{\"endlinecolor\":\"#2a3f5f\",\"gridcolor\":\"white\",\"linecolor\":\"white\",\"minorgridcolor\":\"white\",\"startlinecolor\":\"#2a3f5f\"},\"type\":\"carpet\"}],\"choropleth\":[{\"colorbar\":{\"outlinewidth\":0,\"ticks\":\"\"},\"type\":\"choropleth\"}],\"contour\":[{\"colorbar\":{\"outlinewidth\":0,\"ticks\":\"\"},\"colorscale\":[[0.0,\"#0d0887\"],[0.1111111111111111,\"#46039f\"],[0.2222222222222222,\"#7201a8\"],[0.3333333333333333,\"#9c179e\"],[0.4444444444444444,\"#bd3786\"],[0.5555555555555556,\"#d8576b\"],[0.6666666666666666,\"#ed7953\"],[0.7777777777777778,\"#fb9f3a\"],[0.8888888888888888,\"#fdca26\"],[1.0,\"#f0f921\"]],\"type\":\"contour\"}],\"contourcarpet\":[{\"colorbar\":{\"outlinewidth\":0,\"ticks\":\"\"},\"type\":\"contourcarpet\"}],\"heatmap\":[{\"colorbar\":{\"outlinewidth\":0,\"ticks\":\"\"},\"colorscale\":[[0.0,\"#0d0887\"],[0.1111111111111111,\"#46039f\"],[0.2222222222222222,\"#7201a8\"],[0.3333333333333333,\"#9c179e\"],[0.4444444444444444,\"#bd3786\"],[0.5555555555555556,\"#d8576b\"],[0.6666666666666666,\"#ed7953\"],[0.7777777777777778,\"#fb9f3a\"],[0.8888888888888888,\"#fdca26\"],[1.0,\"#f0f921\"]],\"type\":\"heatmap\"}],\"heatmapgl\":[{\"colorbar\":{\"outlinewidth\":0,\"ticks\":\"\"},\"colorscale\":[[0.0,\"#0d0887\"],[0.1111111111111111,\"#46039f\"],[0.2222222222222222,\"#7201a8\"],[0.3333333333333333,\"#9c179e\"],[0.4444444444444444,\"#bd3786\"],[0.5555555555555556,\"#d8576b\"],[0.6666666666666666,\"#ed7953\"],[0.7777777777777778,\"#fb9f3a\"],[0.8888888888888888,\"#fdca26\"],[1.0,\"#f0f921\"]],\"type\":\"heatmapgl\"}],\"histogram\":[{\"marker\":{\"pattern\":{\"fillmode\":\"overlay\",\"size\":10,\"solidity\":0.2}},\"type\":\"histogram\"}],\"histogram2d\":[{\"colorbar\":{\"outlinewidth\":0,\"ticks\":\"\"},\"colorscale\":[[0.0,\"#0d0887\"],[0.1111111111111111,\"#46039f\"],[0.2222222222222222,\"#7201a8\"],[0.3333333333333333,\"#9c179e\"],[0.4444444444444444,\"#bd3786\"],[0.5555555555555556,\"#d8576b\"],[0.6666666666666666,\"#ed7953\"],[0.7777777777777778,\"#fb9f3a\"],[0.8888888888888888,\"#fdca26\"],[1.0,\"#f0f921\"]],\"type\":\"histogram2d\"}],\"histogram2dcontour\":[{\"colorbar\":{\"outlinewidth\":0,\"ticks\":\"\"},\"colorscale\":[[0.0,\"#0d0887\"],[0.1111111111111111,\"#46039f\"],[0.2222222222222222,\"#7201a8\"],[0.3333333333333333,\"#9c179e\"],[0.4444444444444444,\"#bd3786\"],[0.5555555555555556,\"#d8576b\"],[0.6666666666666666,\"#ed7953\"],[0.7777777777777778,\"#fb9f3a\"],[0.8888888888888888,\"#fdca26\"],[1.0,\"#f0f921\"]],\"type\":\"histogram2dcontour\"}],\"mesh3d\":[{\"colorbar\":{\"outlinewidth\":0,\"ticks\":\"\"},\"type\":\"mesh3d\"}],\"parcoords\":[{\"line\":{\"colorbar\":{\"outlinewidth\":0,\"ticks\":\"\"}},\"type\":\"parcoords\"}],\"pie\":[{\"automargin\":true,\"type\":\"pie\"}],\"scatter\":[{\"marker\":{\"colorbar\":{\"outlinewidth\":0,\"ticks\":\"\"}},\"type\":\"scatter\"}],\"scatter3d\":[{\"line\":{\"colorbar\":{\"outlinewidth\":0,\"ticks\":\"\"}},\"marker\":{\"colorbar\":{\"outlinewidth\":0,\"ticks\":\"\"}},\"type\":\"scatter3d\"}],\"scattercarpet\":[{\"marker\":{\"colorbar\":{\"outlinewidth\":0,\"ticks\":\"\"}},\"type\":\"scattercarpet\"}],\"scattergeo\":[{\"marker\":{\"colorbar\":{\"outlinewidth\":0,\"ticks\":\"\"}},\"type\":\"scattergeo\"}],\"scattergl\":[{\"marker\":{\"colorbar\":{\"outlinewidth\":0,\"ticks\":\"\"}},\"type\":\"scattergl\"}],\"scattermapbox\":[{\"marker\":{\"colorbar\":{\"outlinewidth\":0,\"ticks\":\"\"}},\"type\":\"scattermapbox\"}],\"scatterpolar\":[{\"marker\":{\"colorbar\":{\"outlinewidth\":0,\"ticks\":\"\"}},\"type\":\"scatterpolar\"}],\"scatterpolargl\":[{\"marker\":{\"colorbar\":{\"outlinewidth\":0,\"ticks\":\"\"}},\"type\":\"scatterpolargl\"}],\"scatterternary\":[{\"marker\":{\"colorbar\":{\"outlinewidth\":0,\"ticks\":\"\"}},\"type\":\"scatterternary\"}],\"surface\":[{\"colorbar\":{\"outlinewidth\":0,\"ticks\":\"\"},\"colorscale\":[[0.0,\"#0d0887\"],[0.1111111111111111,\"#46039f\"],[0.2222222222222222,\"#7201a8\"],[0.3333333333333333,\"#9c179e\"],[0.4444444444444444,\"#bd3786\"],[0.5555555555555556,\"#d8576b\"],[0.6666666666666666,\"#ed7953\"],[0.7777777777777778,\"#fb9f3a\"],[0.8888888888888888,\"#fdca26\"],[1.0,\"#f0f921\"]],\"type\":\"surface\"}],\"table\":[{\"cells\":{\"fill\":{\"color\":\"#EBF0F8\"},\"line\":{\"color\":\"white\"}},\"header\":{\"fill\":{\"color\":\"#C8D4E3\"},\"line\":{\"color\":\"white\"}},\"type\":\"table\"}]},\"layout\":{\"annotationdefaults\":{\"arrowcolor\":\"#2a3f5f\",\"arrowhead\":0,\"arrowwidth\":1},\"autotypenumbers\":\"strict\",\"coloraxis\":{\"colorbar\":{\"outlinewidth\":0,\"ticks\":\"\"}},\"colorscale\":{\"diverging\":[[0,\"#8e0152\"],[0.1,\"#c51b7d\"],[0.2,\"#de77ae\"],[0.3,\"#f1b6da\"],[0.4,\"#fde0ef\"],[0.5,\"#f7f7f7\"],[0.6,\"#e6f5d0\"],[0.7,\"#b8e186\"],[0.8,\"#7fbc41\"],[0.9,\"#4d9221\"],[1,\"#276419\"]],\"sequential\":[[0.0,\"#0d0887\"],[0.1111111111111111,\"#46039f\"],[0.2222222222222222,\"#7201a8\"],[0.3333333333333333,\"#9c179e\"],[0.4444444444444444,\"#bd3786\"],[0.5555555555555556,\"#d8576b\"],[0.6666666666666666,\"#ed7953\"],[0.7777777777777778,\"#fb9f3a\"],[0.8888888888888888,\"#fdca26\"],[1.0,\"#f0f921\"]],\"sequentialminus\":[[0.0,\"#0d0887\"],[0.1111111111111111,\"#46039f\"],[0.2222222222222222,\"#7201a8\"],[0.3333333333333333,\"#9c179e\"],[0.4444444444444444,\"#bd3786\"],[0.5555555555555556,\"#d8576b\"],[0.6666666666666666,\"#ed7953\"],[0.7777777777777778,\"#fb9f3a\"],[0.8888888888888888,\"#fdca26\"],[1.0,\"#f0f921\"]]},\"colorway\":[\"#636efa\",\"#EF553B\",\"#00cc96\",\"#ab63fa\",\"#FFA15A\",\"#19d3f3\",\"#FF6692\",\"#B6E880\",\"#FF97FF\",\"#FECB52\"],\"font\":{\"color\":\"#2a3f5f\"},\"geo\":{\"bgcolor\":\"white\",\"lakecolor\":\"white\",\"landcolor\":\"#E5ECF6\",\"showlakes\":true,\"showland\":true,\"subunitcolor\":\"white\"},\"hoverlabel\":{\"align\":\"left\"},\"hovermode\":\"closest\",\"mapbox\":{\"style\":\"light\"},\"paper_bgcolor\":\"white\",\"plot_bgcolor\":\"#E5ECF6\",\"polar\":{\"angularaxis\":{\"gridcolor\":\"white\",\"linecolor\":\"white\",\"ticks\":\"\"},\"bgcolor\":\"#E5ECF6\",\"radialaxis\":{\"gridcolor\":\"white\",\"linecolor\":\"white\",\"ticks\":\"\"}},\"scene\":{\"xaxis\":{\"backgroundcolor\":\"#E5ECF6\",\"gridcolor\":\"white\",\"gridwidth\":2,\"linecolor\":\"white\",\"showbackground\":true,\"ticks\":\"\",\"zerolinecolor\":\"white\"},\"yaxis\":{\"backgroundcolor\":\"#E5ECF6\",\"gridcolor\":\"white\",\"gridwidth\":2,\"linecolor\":\"white\",\"showbackground\":true,\"ticks\":\"\",\"zerolinecolor\":\"white\"},\"zaxis\":{\"backgroundcolor\":\"#E5ECF6\",\"gridcolor\":\"white\",\"gridwidth\":2,\"linecolor\":\"white\",\"showbackground\":true,\"ticks\":\"\",\"zerolinecolor\":\"white\"}},\"shapedefaults\":{\"line\":{\"color\":\"#2a3f5f\"}},\"ternary\":{\"aaxis\":{\"gridcolor\":\"white\",\"linecolor\":\"white\",\"ticks\":\"\"},\"baxis\":{\"gridcolor\":\"white\",\"linecolor\":\"white\",\"ticks\":\"\"},\"bgcolor\":\"#E5ECF6\",\"caxis\":{\"gridcolor\":\"white\",\"linecolor\":\"white\",\"ticks\":\"\"}},\"title\":{\"x\":0.05},\"xaxis\":{\"automargin\":true,\"gridcolor\":\"white\",\"linecolor\":\"white\",\"ticks\":\"\",\"title\":{\"standoff\":15},\"zerolinecolor\":\"white\",\"zerolinewidth\":2},\"yaxis\":{\"automargin\":true,\"gridcolor\":\"white\",\"linecolor\":\"white\",\"ticks\":\"\",\"title\":{\"standoff\":15},\"zerolinecolor\":\"white\",\"zerolinewidth\":2}}},\"xaxis\":{\"anchor\":\"y\",\"domain\":[0.0,1.0],\"title\":{\"text\":\"feature\"}},\"yaxis\":{\"anchor\":\"x\",\"domain\":[0.0,1.0],\"title\":{\"text\":\"importance\"}},\"legend\":{\"tracegroupgap\":0},\"title\":{\"text\":\"Variable Importances\"},\"barmode\":\"relative\",\"height\":500,\"width\":900},                        {\"responsive\": true}                    ).then(function(){\n                            \nvar gd = document.getElementById('187c9647-d792-4608-a31d-35bf56a08e1c');\nvar x = new MutationObserver(function (mutations, observer) {{\n        var display = window.getComputedStyle(gd).display;\n        if (!display || display === 'none') {{\n            console.log([gd, 'removed!']);\n            Plotly.purge(gd);\n            observer.disconnect();\n        }}\n}});\n\n// Listen for the removal of the full notebook cells\nvar notebookContainer = gd.closest('#notebook-container');\nif (notebookContainer) {{\n    x.observe(notebookContainer, {childList: true});\n}}\n\n// Listen for the clearing of the current output cell\nvar outputEl = gd.closest('.output');\nif (outputEl) {{\n    x.observe(outputEl, {childList: true});\n}}\n\n                        })                };                });            </script>        </div>"
     },
     "metadata": {},
     "output_type": "display_data"
    }
   ],
   "source": [
    "train_time_series_with_folds(X_train, X_test, y_train, y_test)"
   ],
   "metadata": {
    "collapsed": false,
    "pycharm": {
     "name": "#%%\n"
    }
   }
  },
  {
   "cell_type": "code",
   "execution_count": null,
   "outputs": [],
   "source": [],
   "metadata": {
    "collapsed": false,
    "pycharm": {
     "name": "#%%\n"
    }
   }
  }
 ],
 "metadata": {
  "kernelspec": {
   "display_name": "Python 3",
   "language": "python",
   "name": "python3"
  },
  "language_info": {
   "codemirror_mode": {
    "name": "ipython",
    "version": 2
   },
   "file_extension": ".py",
   "mimetype": "text/x-python",
   "name": "python",
   "nbconvert_exporter": "python",
   "pygments_lexer": "ipython2",
   "version": "2.7.6"
  }
 },
 "nbformat": 4,
 "nbformat_minor": 0
}