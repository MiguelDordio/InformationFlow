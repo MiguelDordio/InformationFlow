{
 "cells": [
  {
   "cell_type": "code",
   "execution_count": 227,
   "outputs": [],
   "source": [
    "import math\n",
    "import numpy as np\n",
    "import pandas as pd\n",
    "from itertools import cycle\n",
    "import plotly.express as px\n",
    "import plotly.graph_objects as go\n",
    "from plotly.subplots import make_subplots\n",
    "import datetime\n",
    "from sklearn.metrics import mean_absolute_error\n",
    "import plotly.express as px\n",
    "from sklearn.ensemble import GradientBoostingRegressor\n",
    "from sklearn.preprocessing import StandardScaler\n",
    "import plotly"
   ],
   "metadata": {
    "collapsed": false,
    "pycharm": {
     "name": "#%%\n"
    }
   }
  },
  {
   "cell_type": "code",
   "execution_count": 228,
   "outputs": [
    {
     "data": {
      "text/plain": "         Unnamed: 0.2  Unnamed: 0.1  Unnamed: 0    index             tweet_id  \\\n612261         612261        612261      612261   612261  1477036834261770241   \n98252           98252         98252       98252    98252  1477036835603836932   \n1072384       1072384       1072384     1072384  1072384  1477036838217035777   \n1072385       1072385       1072385     1072385  1072385  1477036840024567809   \n1072386       1072386       1072386     1072386  1072386  1477036841933185025   \n\n                                                      text  \\\n612261             …. them crawfish was so good yall lmfao   \n98252    Damn all the freaks are at the New Bev right n...   \n1072384  Fast And Professional Vehicle Lockout Service ...   \n1072385             Very much this https://t.co/b3bgtstLfr   \n1072386           Best thread ever https://t.co/EBo4JkTCx4   \n\n                        timestamp             user_id  like_count  \\\n612261  2021-12-31 21:59:57+00:00  795707439219884037           0   \n98252   2021-12-31 21:59:58+00:00            34679503          26   \n1072384 2021-12-31 21:59:58+00:00           210241982           0   \n1072385 2021-12-31 21:59:59+00:00           883576549           3   \n1072386 2021-12-31 21:59:59+00:00           131371694           0   \n\n         retweet_count  ...  day_phase  week_idx  day_phase_enc  \\\n612261               0  ...      Night   2021-52              4   \n98252                0  ...      Night   2021-52              4   \n1072384              0  ...      Night   2021-52              4   \n1072385              0  ...      Night   2021-52              4   \n1072386              0  ...      Night   2021-52              4   \n\n         day_of_week_enc month_enc year_enc  sentiment_enc  verified_enc  \\\n612261                 0         2        1              2             0   \n98252                  0         2        1              1             0   \n1072384                0         2        1              0             0   \n1072385                0         2        1              1             0   \n1072386                0         2        1              2             0   \n\n         seniority  topics_cleaned  \n612261           5             NaN  \n98252           13             NaN  \n1072384         11             NaN  \n1072385          9             NaN  \n1072386         12             NaN  \n\n[5 rows x 35 columns]",
      "text/html": "<div>\n<style scoped>\n    .dataframe tbody tr th:only-of-type {\n        vertical-align: middle;\n    }\n\n    .dataframe tbody tr th {\n        vertical-align: top;\n    }\n\n    .dataframe thead th {\n        text-align: right;\n    }\n</style>\n<table border=\"1\" class=\"dataframe\">\n  <thead>\n    <tr style=\"text-align: right;\">\n      <th></th>\n      <th>Unnamed: 0.2</th>\n      <th>Unnamed: 0.1</th>\n      <th>Unnamed: 0</th>\n      <th>index</th>\n      <th>tweet_id</th>\n      <th>text</th>\n      <th>timestamp</th>\n      <th>user_id</th>\n      <th>like_count</th>\n      <th>retweet_count</th>\n      <th>...</th>\n      <th>day_phase</th>\n      <th>week_idx</th>\n      <th>day_phase_enc</th>\n      <th>day_of_week_enc</th>\n      <th>month_enc</th>\n      <th>year_enc</th>\n      <th>sentiment_enc</th>\n      <th>verified_enc</th>\n      <th>seniority</th>\n      <th>topics_cleaned</th>\n    </tr>\n  </thead>\n  <tbody>\n    <tr>\n      <th>612261</th>\n      <td>612261</td>\n      <td>612261</td>\n      <td>612261</td>\n      <td>612261</td>\n      <td>1477036834261770241</td>\n      <td>…. them crawfish was so good yall lmfao</td>\n      <td>2021-12-31 21:59:57+00:00</td>\n      <td>795707439219884037</td>\n      <td>0</td>\n      <td>0</td>\n      <td>...</td>\n      <td>Night</td>\n      <td>2021-52</td>\n      <td>4</td>\n      <td>0</td>\n      <td>2</td>\n      <td>1</td>\n      <td>2</td>\n      <td>0</td>\n      <td>5</td>\n      <td>NaN</td>\n    </tr>\n    <tr>\n      <th>98252</th>\n      <td>98252</td>\n      <td>98252</td>\n      <td>98252</td>\n      <td>98252</td>\n      <td>1477036835603836932</td>\n      <td>Damn all the freaks are at the New Bev right n...</td>\n      <td>2021-12-31 21:59:58+00:00</td>\n      <td>34679503</td>\n      <td>26</td>\n      <td>0</td>\n      <td>...</td>\n      <td>Night</td>\n      <td>2021-52</td>\n      <td>4</td>\n      <td>0</td>\n      <td>2</td>\n      <td>1</td>\n      <td>1</td>\n      <td>0</td>\n      <td>13</td>\n      <td>NaN</td>\n    </tr>\n    <tr>\n      <th>1072384</th>\n      <td>1072384</td>\n      <td>1072384</td>\n      <td>1072384</td>\n      <td>1072384</td>\n      <td>1477036838217035777</td>\n      <td>Fast And Professional Vehicle Lockout Service ...</td>\n      <td>2021-12-31 21:59:58+00:00</td>\n      <td>210241982</td>\n      <td>0</td>\n      <td>0</td>\n      <td>...</td>\n      <td>Night</td>\n      <td>2021-52</td>\n      <td>4</td>\n      <td>0</td>\n      <td>2</td>\n      <td>1</td>\n      <td>0</td>\n      <td>0</td>\n      <td>11</td>\n      <td>NaN</td>\n    </tr>\n    <tr>\n      <th>1072385</th>\n      <td>1072385</td>\n      <td>1072385</td>\n      <td>1072385</td>\n      <td>1072385</td>\n      <td>1477036840024567809</td>\n      <td>Very much this https://t.co/b3bgtstLfr</td>\n      <td>2021-12-31 21:59:59+00:00</td>\n      <td>883576549</td>\n      <td>3</td>\n      <td>0</td>\n      <td>...</td>\n      <td>Night</td>\n      <td>2021-52</td>\n      <td>4</td>\n      <td>0</td>\n      <td>2</td>\n      <td>1</td>\n      <td>1</td>\n      <td>0</td>\n      <td>9</td>\n      <td>NaN</td>\n    </tr>\n    <tr>\n      <th>1072386</th>\n      <td>1072386</td>\n      <td>1072386</td>\n      <td>1072386</td>\n      <td>1072386</td>\n      <td>1477036841933185025</td>\n      <td>Best thread ever https://t.co/EBo4JkTCx4</td>\n      <td>2021-12-31 21:59:59+00:00</td>\n      <td>131371694</td>\n      <td>0</td>\n      <td>0</td>\n      <td>...</td>\n      <td>Night</td>\n      <td>2021-52</td>\n      <td>4</td>\n      <td>0</td>\n      <td>2</td>\n      <td>1</td>\n      <td>2</td>\n      <td>0</td>\n      <td>12</td>\n      <td>NaN</td>\n    </tr>\n  </tbody>\n</table>\n<p>5 rows × 35 columns</p>\n</div>"
     },
     "execution_count": 228,
     "metadata": {},
     "output_type": "execute_result"
    }
   ],
   "source": [
    "# Data Import and overview\n",
    "DATASET_PATH = \"../../data/tweets_2020_2021_v2.csv\"\n",
    "df = pd.read_csv(filepath_or_buffer=DATASET_PATH, sep=\",\")\n",
    "df['timestamp'] = pd.to_datetime(df['timestamp'])\n",
    "df['timestamp'] = [i.replace(tzinfo=datetime.timezone.utc) for i in df['timestamp']]\n",
    "df = df.sort_values(by='timestamp', ascending=True)\n",
    "df.tail()"
   ],
   "metadata": {
    "collapsed": false,
    "pycharm": {
     "name": "#%%\n"
    }
   }
  },
  {
   "cell_type": "code",
   "execution_count": 229,
   "outputs": [],
   "source": [
    "variables_to_keep = ['followers', 'following', 'tweet_count', 'seniority', 'verified_enc', 'day_phase_enc', 'day_of_week_enc', 'month_enc', 'topics_ids', 'sentiment_enc', 'timestamp', 'retweet_count']\n",
    "variables_to_predict = ['followers', 'following', 'tweet_count', 'seniority', 'verified_enc', 'day_phase_enc', 'day_of_week_enc', 'month_enc', 'topics_ids', 'sentiment_enc', 'timestamp', 'retweet_count', 'popularity', 'year']"
   ],
   "metadata": {
    "collapsed": false,
    "pycharm": {
     "name": "#%%\n"
    }
   }
  },
  {
   "cell_type": "code",
   "execution_count": 230,
   "outputs": [],
   "source": [
    "df = df[(~df['topics'].isnull()) & (df['topics_cleaned'] == 'Person')]\n",
    "df = df[variables_to_predict]"
   ],
   "metadata": {
    "collapsed": false,
    "pycharm": {
     "name": "#%%\n"
    }
   }
  },
  {
   "cell_type": "code",
   "execution_count": 231,
   "outputs": [],
   "source": [
    "df_2020 = df[df['year'] == 2020]\n",
    "df_2021 = df[df['year'] == 2021]"
   ],
   "metadata": {
    "collapsed": false,
    "pycharm": {
     "name": "#%%\n"
    }
   }
  },
  {
   "cell_type": "code",
   "execution_count": 232,
   "outputs": [
    {
     "data": {
      "text/plain": "(48349, 14)"
     },
     "execution_count": 232,
     "metadata": {},
     "output_type": "execute_result"
    }
   ],
   "source": [
    "df_2020.shape"
   ],
   "metadata": {
    "collapsed": false,
    "pycharm": {
     "name": "#%%\n"
    }
   }
  },
  {
   "cell_type": "code",
   "execution_count": 233,
   "outputs": [
    {
     "data": {
      "text/plain": "(31801, 14)"
     },
     "execution_count": 233,
     "metadata": {},
     "output_type": "execute_result"
    }
   ],
   "source": [
    "df_2021.shape"
   ],
   "metadata": {
    "collapsed": false,
    "pycharm": {
     "name": "#%%\n"
    }
   }
  },
  {
   "cell_type": "markdown",
   "source": [
    "# Machine Learning\n",
    "\n",
    "### Predicting tweet popularity in 2021 using 2020 data with topics"
   ],
   "metadata": {
    "collapsed": false,
    "pycharm": {
     "name": "#%% md\n"
    }
   }
  },
  {
   "cell_type": "markdown",
   "source": [
    "## Data spliting"
   ],
   "metadata": {
    "collapsed": false,
    "pycharm": {
     "name": "#%% md\n"
    }
   }
  },
  {
   "cell_type": "code",
   "execution_count": 234,
   "outputs": [],
   "source": [
    "num_folds = 7\n",
    "seed = 7\n",
    "scoring = 'accuracy'\n",
    "validation_size = 0.70"
   ],
   "metadata": {
    "collapsed": false,
    "pycharm": {
     "name": "#%%\n"
    }
   }
  },
  {
   "cell_type": "code",
   "execution_count": 235,
   "outputs": [
    {
     "data": {
      "text/plain": "        followers  following  tweet_count  seniority  verified_enc  \\\n35            653        732        33826          6             0   \n41          26108      20584        83121          9             0   \n92           2070       2932       102563         12             0   \n103           477        737        15717         11             0   \n1753         2372       2124       148383         11             0   \n...           ...        ...          ...        ...           ...   \n522751       1993       3349        29050          4             0   \n68748         267        401        25757          6             0   \n737164        822        261        39834          7             0   \n505196        294        120        22251          4             0   \n803041        256        509        19032          3             0   \n\n        day_phase_enc  day_of_week_enc  month_enc  topics_ids  sentiment_enc  \\\n35                  1                6          4          10              0   \n41                  1                6          4          10              2   \n92                  1                6          4          10              2   \n103                 1                6          4          10              0   \n1753                1                6          4          10              2   \n...               ...              ...        ...         ...            ...   \n522751              4                4          2          10              2   \n68748               4                4          2          10              0   \n737164              4                4          2          10              0   \n505196              4                4          2          10              2   \n803041              4                4          2          10              2   \n\n                       timestamp  retweet_count  popularity  year  \n35     2020-01-01 00:59:15+00:00              1           1  2020  \n41     2020-01-01 00:59:15+00:00              0           0  2020  \n92     2020-01-01 00:59:17+00:00              0           0  2020  \n103    2020-01-01 00:59:17+00:00              0           0  2020  \n1753   2020-01-01 00:59:22+00:00              0           0  2020  \n...                          ...            ...         ...   ...  \n522751 2020-12-31 21:59:50+00:00              0           0  2020  \n68748  2020-12-31 21:59:53+00:00              0           0  2020  \n737164 2020-12-31 21:59:53+00:00              0           0  2020  \n505196 2020-12-31 21:59:53+00:00              0           0  2020  \n803041 2020-12-31 21:59:55+00:00              0           0  2020  \n\n[48349 rows x 14 columns]",
      "text/html": "<div>\n<style scoped>\n    .dataframe tbody tr th:only-of-type {\n        vertical-align: middle;\n    }\n\n    .dataframe tbody tr th {\n        vertical-align: top;\n    }\n\n    .dataframe thead th {\n        text-align: right;\n    }\n</style>\n<table border=\"1\" class=\"dataframe\">\n  <thead>\n    <tr style=\"text-align: right;\">\n      <th></th>\n      <th>followers</th>\n      <th>following</th>\n      <th>tweet_count</th>\n      <th>seniority</th>\n      <th>verified_enc</th>\n      <th>day_phase_enc</th>\n      <th>day_of_week_enc</th>\n      <th>month_enc</th>\n      <th>topics_ids</th>\n      <th>sentiment_enc</th>\n      <th>timestamp</th>\n      <th>retweet_count</th>\n      <th>popularity</th>\n      <th>year</th>\n    </tr>\n  </thead>\n  <tbody>\n    <tr>\n      <th>35</th>\n      <td>653</td>\n      <td>732</td>\n      <td>33826</td>\n      <td>6</td>\n      <td>0</td>\n      <td>1</td>\n      <td>6</td>\n      <td>4</td>\n      <td>10</td>\n      <td>0</td>\n      <td>2020-01-01 00:59:15+00:00</td>\n      <td>1</td>\n      <td>1</td>\n      <td>2020</td>\n    </tr>\n    <tr>\n      <th>41</th>\n      <td>26108</td>\n      <td>20584</td>\n      <td>83121</td>\n      <td>9</td>\n      <td>0</td>\n      <td>1</td>\n      <td>6</td>\n      <td>4</td>\n      <td>10</td>\n      <td>2</td>\n      <td>2020-01-01 00:59:15+00:00</td>\n      <td>0</td>\n      <td>0</td>\n      <td>2020</td>\n    </tr>\n    <tr>\n      <th>92</th>\n      <td>2070</td>\n      <td>2932</td>\n      <td>102563</td>\n      <td>12</td>\n      <td>0</td>\n      <td>1</td>\n      <td>6</td>\n      <td>4</td>\n      <td>10</td>\n      <td>2</td>\n      <td>2020-01-01 00:59:17+00:00</td>\n      <td>0</td>\n      <td>0</td>\n      <td>2020</td>\n    </tr>\n    <tr>\n      <th>103</th>\n      <td>477</td>\n      <td>737</td>\n      <td>15717</td>\n      <td>11</td>\n      <td>0</td>\n      <td>1</td>\n      <td>6</td>\n      <td>4</td>\n      <td>10</td>\n      <td>0</td>\n      <td>2020-01-01 00:59:17+00:00</td>\n      <td>0</td>\n      <td>0</td>\n      <td>2020</td>\n    </tr>\n    <tr>\n      <th>1753</th>\n      <td>2372</td>\n      <td>2124</td>\n      <td>148383</td>\n      <td>11</td>\n      <td>0</td>\n      <td>1</td>\n      <td>6</td>\n      <td>4</td>\n      <td>10</td>\n      <td>2</td>\n      <td>2020-01-01 00:59:22+00:00</td>\n      <td>0</td>\n      <td>0</td>\n      <td>2020</td>\n    </tr>\n    <tr>\n      <th>...</th>\n      <td>...</td>\n      <td>...</td>\n      <td>...</td>\n      <td>...</td>\n      <td>...</td>\n      <td>...</td>\n      <td>...</td>\n      <td>...</td>\n      <td>...</td>\n      <td>...</td>\n      <td>...</td>\n      <td>...</td>\n      <td>...</td>\n      <td>...</td>\n    </tr>\n    <tr>\n      <th>522751</th>\n      <td>1993</td>\n      <td>3349</td>\n      <td>29050</td>\n      <td>4</td>\n      <td>0</td>\n      <td>4</td>\n      <td>4</td>\n      <td>2</td>\n      <td>10</td>\n      <td>2</td>\n      <td>2020-12-31 21:59:50+00:00</td>\n      <td>0</td>\n      <td>0</td>\n      <td>2020</td>\n    </tr>\n    <tr>\n      <th>68748</th>\n      <td>267</td>\n      <td>401</td>\n      <td>25757</td>\n      <td>6</td>\n      <td>0</td>\n      <td>4</td>\n      <td>4</td>\n      <td>2</td>\n      <td>10</td>\n      <td>0</td>\n      <td>2020-12-31 21:59:53+00:00</td>\n      <td>0</td>\n      <td>0</td>\n      <td>2020</td>\n    </tr>\n    <tr>\n      <th>737164</th>\n      <td>822</td>\n      <td>261</td>\n      <td>39834</td>\n      <td>7</td>\n      <td>0</td>\n      <td>4</td>\n      <td>4</td>\n      <td>2</td>\n      <td>10</td>\n      <td>0</td>\n      <td>2020-12-31 21:59:53+00:00</td>\n      <td>0</td>\n      <td>0</td>\n      <td>2020</td>\n    </tr>\n    <tr>\n      <th>505196</th>\n      <td>294</td>\n      <td>120</td>\n      <td>22251</td>\n      <td>4</td>\n      <td>0</td>\n      <td>4</td>\n      <td>4</td>\n      <td>2</td>\n      <td>10</td>\n      <td>2</td>\n      <td>2020-12-31 21:59:53+00:00</td>\n      <td>0</td>\n      <td>0</td>\n      <td>2020</td>\n    </tr>\n    <tr>\n      <th>803041</th>\n      <td>256</td>\n      <td>509</td>\n      <td>19032</td>\n      <td>3</td>\n      <td>0</td>\n      <td>4</td>\n      <td>4</td>\n      <td>2</td>\n      <td>10</td>\n      <td>2</td>\n      <td>2020-12-31 21:59:55+00:00</td>\n      <td>0</td>\n      <td>0</td>\n      <td>2020</td>\n    </tr>\n  </tbody>\n</table>\n<p>48349 rows × 14 columns</p>\n</div>"
     },
     "execution_count": 235,
     "metadata": {},
     "output_type": "execute_result"
    }
   ],
   "source": [
    "df_2020"
   ],
   "metadata": {
    "collapsed": false,
    "pycharm": {
     "name": "#%%\n"
    }
   }
  },
  {
   "cell_type": "markdown",
   "source": [
    "### Only data from selected topic"
   ],
   "metadata": {
    "collapsed": false,
    "pycharm": {
     "name": "#%% md\n"
    }
   }
  },
  {
   "cell_type": "code",
   "execution_count": 236,
   "outputs": [
    {
     "data": {
      "text/plain": "                              followers    following   tweet_count  seniority  \\\ntimestamp                                                                       \n2020-01-01 00:00:00+00:00   3592.684211  1980.960526  38844.802632   8.763158   \n2020-01-02 00:00:00+00:00   5823.604396  1921.208791  51005.384615   8.857143   \n2020-01-03 00:00:00+00:00   8985.808000  1539.608000  39222.360000   8.680000   \n2020-01-04 00:00:00+00:00   3480.369565  2265.652174  56841.021739   9.119565   \n2020-01-05 00:00:00+00:00   3007.260870  2804.934783  49752.010870   9.076087   \n...                                 ...          ...           ...        ...   \n2020-12-27 00:00:00+00:00  11939.162162  2716.594595  42720.675676   8.837838   \n2020-12-28 00:00:00+00:00   3527.244681  2320.234043  67314.393617   8.510638   \n2020-12-29 00:00:00+00:00   6804.795276  1938.133858  52752.771654   8.251969   \n2020-12-30 00:00:00+00:00   4109.027273  2044.700000  47877.227273   8.272727   \n2020-12-31 00:00:00+00:00   3563.400000  2320.600000  40373.566667   7.911111   \n\n                           verified_enc  day_phase_enc  day_of_week_enc  \\\ntimestamp                                                                 \n2020-01-01 00:00:00+00:00      0.039474       1.486842              6.0   \n2020-01-02 00:00:00+00:00      0.032967       2.010989              4.0   \n2020-01-03 00:00:00+00:00      0.040000       2.016000              0.0   \n2020-01-04 00:00:00+00:00      0.032609       1.652174              2.0   \n2020-01-05 00:00:00+00:00      0.010870       2.086957              3.0   \n...                                 ...            ...              ...   \n2020-12-27 00:00:00+00:00      0.040541       2.013514              3.0   \n2020-12-28 00:00:00+00:00      0.042553       2.021277              1.0   \n2020-12-29 00:00:00+00:00      0.062992       2.070866              5.0   \n2020-12-30 00:00:00+00:00      0.045455       1.990909              6.0   \n2020-12-31 00:00:00+00:00      0.033333       2.000000              4.0   \n\n                           month_enc  topics_ids  sentiment_enc  retweet_count  \ntimestamp                                                                       \n2020-01-01 00:00:00+00:00        4.0        10.0       1.197368       9.539474  \n2020-01-02 00:00:00+00:00        4.0        10.0       1.384615       0.483516  \n2020-01-03 00:00:00+00:00        4.0        10.0       0.904000       0.528000  \n2020-01-04 00:00:00+00:00        4.0        10.0       1.097826       0.760870  \n2020-01-05 00:00:00+00:00        4.0        10.0       0.978261       0.858696  \n...                              ...         ...            ...            ...  \n2020-12-27 00:00:00+00:00        2.0        10.0       1.108108       0.162162  \n2020-12-28 00:00:00+00:00        2.0        10.0       1.148936       1.393617  \n2020-12-29 00:00:00+00:00        2.0        10.0       1.039370       1.031496  \n2020-12-30 00:00:00+00:00        2.0        10.0       1.127273       0.363636  \n2020-12-31 00:00:00+00:00        2.0        10.0       1.188889       1.188889  \n\n[366 rows x 11 columns]",
      "text/html": "<div>\n<style scoped>\n    .dataframe tbody tr th:only-of-type {\n        vertical-align: middle;\n    }\n\n    .dataframe tbody tr th {\n        vertical-align: top;\n    }\n\n    .dataframe thead th {\n        text-align: right;\n    }\n</style>\n<table border=\"1\" class=\"dataframe\">\n  <thead>\n    <tr style=\"text-align: right;\">\n      <th></th>\n      <th>followers</th>\n      <th>following</th>\n      <th>tweet_count</th>\n      <th>seniority</th>\n      <th>verified_enc</th>\n      <th>day_phase_enc</th>\n      <th>day_of_week_enc</th>\n      <th>month_enc</th>\n      <th>topics_ids</th>\n      <th>sentiment_enc</th>\n      <th>retweet_count</th>\n    </tr>\n    <tr>\n      <th>timestamp</th>\n      <th></th>\n      <th></th>\n      <th></th>\n      <th></th>\n      <th></th>\n      <th></th>\n      <th></th>\n      <th></th>\n      <th></th>\n      <th></th>\n      <th></th>\n    </tr>\n  </thead>\n  <tbody>\n    <tr>\n      <th>2020-01-01 00:00:00+00:00</th>\n      <td>3592.684211</td>\n      <td>1980.960526</td>\n      <td>38844.802632</td>\n      <td>8.763158</td>\n      <td>0.039474</td>\n      <td>1.486842</td>\n      <td>6.0</td>\n      <td>4.0</td>\n      <td>10.0</td>\n      <td>1.197368</td>\n      <td>9.539474</td>\n    </tr>\n    <tr>\n      <th>2020-01-02 00:00:00+00:00</th>\n      <td>5823.604396</td>\n      <td>1921.208791</td>\n      <td>51005.384615</td>\n      <td>8.857143</td>\n      <td>0.032967</td>\n      <td>2.010989</td>\n      <td>4.0</td>\n      <td>4.0</td>\n      <td>10.0</td>\n      <td>1.384615</td>\n      <td>0.483516</td>\n    </tr>\n    <tr>\n      <th>2020-01-03 00:00:00+00:00</th>\n      <td>8985.808000</td>\n      <td>1539.608000</td>\n      <td>39222.360000</td>\n      <td>8.680000</td>\n      <td>0.040000</td>\n      <td>2.016000</td>\n      <td>0.0</td>\n      <td>4.0</td>\n      <td>10.0</td>\n      <td>0.904000</td>\n      <td>0.528000</td>\n    </tr>\n    <tr>\n      <th>2020-01-04 00:00:00+00:00</th>\n      <td>3480.369565</td>\n      <td>2265.652174</td>\n      <td>56841.021739</td>\n      <td>9.119565</td>\n      <td>0.032609</td>\n      <td>1.652174</td>\n      <td>2.0</td>\n      <td>4.0</td>\n      <td>10.0</td>\n      <td>1.097826</td>\n      <td>0.760870</td>\n    </tr>\n    <tr>\n      <th>2020-01-05 00:00:00+00:00</th>\n      <td>3007.260870</td>\n      <td>2804.934783</td>\n      <td>49752.010870</td>\n      <td>9.076087</td>\n      <td>0.010870</td>\n      <td>2.086957</td>\n      <td>3.0</td>\n      <td>4.0</td>\n      <td>10.0</td>\n      <td>0.978261</td>\n      <td>0.858696</td>\n    </tr>\n    <tr>\n      <th>...</th>\n      <td>...</td>\n      <td>...</td>\n      <td>...</td>\n      <td>...</td>\n      <td>...</td>\n      <td>...</td>\n      <td>...</td>\n      <td>...</td>\n      <td>...</td>\n      <td>...</td>\n      <td>...</td>\n    </tr>\n    <tr>\n      <th>2020-12-27 00:00:00+00:00</th>\n      <td>11939.162162</td>\n      <td>2716.594595</td>\n      <td>42720.675676</td>\n      <td>8.837838</td>\n      <td>0.040541</td>\n      <td>2.013514</td>\n      <td>3.0</td>\n      <td>2.0</td>\n      <td>10.0</td>\n      <td>1.108108</td>\n      <td>0.162162</td>\n    </tr>\n    <tr>\n      <th>2020-12-28 00:00:00+00:00</th>\n      <td>3527.244681</td>\n      <td>2320.234043</td>\n      <td>67314.393617</td>\n      <td>8.510638</td>\n      <td>0.042553</td>\n      <td>2.021277</td>\n      <td>1.0</td>\n      <td>2.0</td>\n      <td>10.0</td>\n      <td>1.148936</td>\n      <td>1.393617</td>\n    </tr>\n    <tr>\n      <th>2020-12-29 00:00:00+00:00</th>\n      <td>6804.795276</td>\n      <td>1938.133858</td>\n      <td>52752.771654</td>\n      <td>8.251969</td>\n      <td>0.062992</td>\n      <td>2.070866</td>\n      <td>5.0</td>\n      <td>2.0</td>\n      <td>10.0</td>\n      <td>1.039370</td>\n      <td>1.031496</td>\n    </tr>\n    <tr>\n      <th>2020-12-30 00:00:00+00:00</th>\n      <td>4109.027273</td>\n      <td>2044.700000</td>\n      <td>47877.227273</td>\n      <td>8.272727</td>\n      <td>0.045455</td>\n      <td>1.990909</td>\n      <td>6.0</td>\n      <td>2.0</td>\n      <td>10.0</td>\n      <td>1.127273</td>\n      <td>0.363636</td>\n    </tr>\n    <tr>\n      <th>2020-12-31 00:00:00+00:00</th>\n      <td>3563.400000</td>\n      <td>2320.600000</td>\n      <td>40373.566667</td>\n      <td>7.911111</td>\n      <td>0.033333</td>\n      <td>2.000000</td>\n      <td>4.0</td>\n      <td>2.0</td>\n      <td>10.0</td>\n      <td>1.188889</td>\n      <td>1.188889</td>\n    </tr>\n  </tbody>\n</table>\n<p>366 rows × 11 columns</p>\n</div>"
     },
     "execution_count": 236,
     "metadata": {},
     "output_type": "execute_result"
    }
   ],
   "source": [
    "topic_performance_2020 = df_2020[variables_to_keep].resample('D', on='timestamp').mean()\n",
    "topic_performance_2020"
   ],
   "metadata": {
    "collapsed": false,
    "pycharm": {
     "name": "#%%\n"
    }
   }
  },
  {
   "cell_type": "code",
   "execution_count": 237,
   "outputs": [
    {
     "data": {
      "text/plain": "                             followers    following   tweet_count  seniority  \\\ntimestamp                                                                      \n2021-01-01 00:00:00+00:00  3395.384615  2900.615385  33079.446154   7.138462   \n2021-01-02 00:00:00+00:00  2043.580645  1757.666667  47857.537634   8.129032   \n2021-01-03 00:00:00+00:00  2076.752000  2079.456000  74253.472000   8.776000   \n2021-01-04 00:00:00+00:00  5803.210084  2826.512605  49427.084034   8.974790   \n2021-01-05 00:00:00+00:00  2514.198413  2185.119048  44411.126984   8.349206   \n...                                ...          ...           ...        ...   \n2021-12-27 00:00:00+00:00  2842.238095  1692.730159  90983.841270   8.539683   \n2021-12-28 00:00:00+00:00  3839.534247  2171.082192  55867.397260   7.150685   \n2021-12-29 00:00:00+00:00  3352.465753  1841.931507  38750.547945   7.698630   \n2021-12-30 00:00:00+00:00  2082.090909  2174.506494  62405.415584   8.584416   \n2021-12-31 00:00:00+00:00  2137.974684  1975.822785  65639.113924   8.329114   \n\n                           verified_enc  day_phase_enc  day_of_week_enc  \\\ntimestamp                                                                 \n2021-01-01 00:00:00+00:00      0.046154       1.984615              0.0   \n2021-01-02 00:00:00+00:00      0.043011       1.827957              2.0   \n2021-01-03 00:00:00+00:00      0.016000       2.328000              3.0   \n2021-01-04 00:00:00+00:00      0.033613       1.983193              1.0   \n2021-01-05 00:00:00+00:00      0.015873       2.277778              5.0   \n...                                 ...            ...              ...   \n2021-12-27 00:00:00+00:00      0.047619       2.079365              1.0   \n2021-12-28 00:00:00+00:00      0.041096       2.054795              5.0   \n2021-12-29 00:00:00+00:00      0.054795       2.219178              6.0   \n2021-12-30 00:00:00+00:00      0.000000       2.038961              4.0   \n2021-12-31 00:00:00+00:00      0.037975       2.253165              0.0   \n\n                           month_enc  topics_ids  sentiment_enc  retweet_count  \ntimestamp                                                                       \n2021-01-01 00:00:00+00:00        4.0        10.0       1.092308       0.476923  \n2021-01-02 00:00:00+00:00        4.0        10.0       1.204301       1.043011  \n2021-01-03 00:00:00+00:00        4.0        10.0       1.120000       0.400000  \n2021-01-04 00:00:00+00:00        4.0        10.0       1.159664       8.436975  \n2021-01-05 00:00:00+00:00        4.0        10.0       1.150794       0.365079  \n...                              ...         ...            ...            ...  \n2021-12-27 00:00:00+00:00        2.0        10.0       1.142857       0.253968  \n2021-12-28 00:00:00+00:00        2.0        10.0       1.054795       0.561644  \n2021-12-29 00:00:00+00:00        2.0        10.0       1.369863       0.602740  \n2021-12-30 00:00:00+00:00        2.0        10.0       1.194805       1.389610  \n2021-12-31 00:00:00+00:00        2.0        10.0       1.278481       0.518987  \n\n[365 rows x 11 columns]",
      "text/html": "<div>\n<style scoped>\n    .dataframe tbody tr th:only-of-type {\n        vertical-align: middle;\n    }\n\n    .dataframe tbody tr th {\n        vertical-align: top;\n    }\n\n    .dataframe thead th {\n        text-align: right;\n    }\n</style>\n<table border=\"1\" class=\"dataframe\">\n  <thead>\n    <tr style=\"text-align: right;\">\n      <th></th>\n      <th>followers</th>\n      <th>following</th>\n      <th>tweet_count</th>\n      <th>seniority</th>\n      <th>verified_enc</th>\n      <th>day_phase_enc</th>\n      <th>day_of_week_enc</th>\n      <th>month_enc</th>\n      <th>topics_ids</th>\n      <th>sentiment_enc</th>\n      <th>retweet_count</th>\n    </tr>\n    <tr>\n      <th>timestamp</th>\n      <th></th>\n      <th></th>\n      <th></th>\n      <th></th>\n      <th></th>\n      <th></th>\n      <th></th>\n      <th></th>\n      <th></th>\n      <th></th>\n      <th></th>\n    </tr>\n  </thead>\n  <tbody>\n    <tr>\n      <th>2021-01-01 00:00:00+00:00</th>\n      <td>3395.384615</td>\n      <td>2900.615385</td>\n      <td>33079.446154</td>\n      <td>7.138462</td>\n      <td>0.046154</td>\n      <td>1.984615</td>\n      <td>0.0</td>\n      <td>4.0</td>\n      <td>10.0</td>\n      <td>1.092308</td>\n      <td>0.476923</td>\n    </tr>\n    <tr>\n      <th>2021-01-02 00:00:00+00:00</th>\n      <td>2043.580645</td>\n      <td>1757.666667</td>\n      <td>47857.537634</td>\n      <td>8.129032</td>\n      <td>0.043011</td>\n      <td>1.827957</td>\n      <td>2.0</td>\n      <td>4.0</td>\n      <td>10.0</td>\n      <td>1.204301</td>\n      <td>1.043011</td>\n    </tr>\n    <tr>\n      <th>2021-01-03 00:00:00+00:00</th>\n      <td>2076.752000</td>\n      <td>2079.456000</td>\n      <td>74253.472000</td>\n      <td>8.776000</td>\n      <td>0.016000</td>\n      <td>2.328000</td>\n      <td>3.0</td>\n      <td>4.0</td>\n      <td>10.0</td>\n      <td>1.120000</td>\n      <td>0.400000</td>\n    </tr>\n    <tr>\n      <th>2021-01-04 00:00:00+00:00</th>\n      <td>5803.210084</td>\n      <td>2826.512605</td>\n      <td>49427.084034</td>\n      <td>8.974790</td>\n      <td>0.033613</td>\n      <td>1.983193</td>\n      <td>1.0</td>\n      <td>4.0</td>\n      <td>10.0</td>\n      <td>1.159664</td>\n      <td>8.436975</td>\n    </tr>\n    <tr>\n      <th>2021-01-05 00:00:00+00:00</th>\n      <td>2514.198413</td>\n      <td>2185.119048</td>\n      <td>44411.126984</td>\n      <td>8.349206</td>\n      <td>0.015873</td>\n      <td>2.277778</td>\n      <td>5.0</td>\n      <td>4.0</td>\n      <td>10.0</td>\n      <td>1.150794</td>\n      <td>0.365079</td>\n    </tr>\n    <tr>\n      <th>...</th>\n      <td>...</td>\n      <td>...</td>\n      <td>...</td>\n      <td>...</td>\n      <td>...</td>\n      <td>...</td>\n      <td>...</td>\n      <td>...</td>\n      <td>...</td>\n      <td>...</td>\n      <td>...</td>\n    </tr>\n    <tr>\n      <th>2021-12-27 00:00:00+00:00</th>\n      <td>2842.238095</td>\n      <td>1692.730159</td>\n      <td>90983.841270</td>\n      <td>8.539683</td>\n      <td>0.047619</td>\n      <td>2.079365</td>\n      <td>1.0</td>\n      <td>2.0</td>\n      <td>10.0</td>\n      <td>1.142857</td>\n      <td>0.253968</td>\n    </tr>\n    <tr>\n      <th>2021-12-28 00:00:00+00:00</th>\n      <td>3839.534247</td>\n      <td>2171.082192</td>\n      <td>55867.397260</td>\n      <td>7.150685</td>\n      <td>0.041096</td>\n      <td>2.054795</td>\n      <td>5.0</td>\n      <td>2.0</td>\n      <td>10.0</td>\n      <td>1.054795</td>\n      <td>0.561644</td>\n    </tr>\n    <tr>\n      <th>2021-12-29 00:00:00+00:00</th>\n      <td>3352.465753</td>\n      <td>1841.931507</td>\n      <td>38750.547945</td>\n      <td>7.698630</td>\n      <td>0.054795</td>\n      <td>2.219178</td>\n      <td>6.0</td>\n      <td>2.0</td>\n      <td>10.0</td>\n      <td>1.369863</td>\n      <td>0.602740</td>\n    </tr>\n    <tr>\n      <th>2021-12-30 00:00:00+00:00</th>\n      <td>2082.090909</td>\n      <td>2174.506494</td>\n      <td>62405.415584</td>\n      <td>8.584416</td>\n      <td>0.000000</td>\n      <td>2.038961</td>\n      <td>4.0</td>\n      <td>2.0</td>\n      <td>10.0</td>\n      <td>1.194805</td>\n      <td>1.389610</td>\n    </tr>\n    <tr>\n      <th>2021-12-31 00:00:00+00:00</th>\n      <td>2137.974684</td>\n      <td>1975.822785</td>\n      <td>65639.113924</td>\n      <td>8.329114</td>\n      <td>0.037975</td>\n      <td>2.253165</td>\n      <td>0.0</td>\n      <td>2.0</td>\n      <td>10.0</td>\n      <td>1.278481</td>\n      <td>0.518987</td>\n    </tr>\n  </tbody>\n</table>\n<p>365 rows × 11 columns</p>\n</div>"
     },
     "execution_count": 237,
     "metadata": {},
     "output_type": "execute_result"
    }
   ],
   "source": [
    "topic_performance_2021 = df_2021[variables_to_keep].resample('D', on='timestamp').mean()\n",
    "topic_performance_2021"
   ],
   "metadata": {
    "collapsed": false,
    "pycharm": {
     "name": "#%%\n"
    }
   }
  },
  {
   "cell_type": "code",
   "execution_count": 238,
   "outputs": [
    {
     "name": "stdout",
     "output_type": "stream",
     "text": [
      "(366, 10)\n",
      "(366,)\n"
     ]
    }
   ],
   "source": [
    "X_train = topic_performance_2020.drop('retweet_count', axis=1)\n",
    "y_train = topic_performance_2020['retweet_count']\n",
    "print(X_train.shape)\n",
    "print(y_train.shape)"
   ],
   "metadata": {
    "collapsed": false,
    "pycharm": {
     "name": "#%%\n"
    }
   }
  },
  {
   "cell_type": "code",
   "execution_count": 239,
   "outputs": [
    {
     "name": "stdout",
     "output_type": "stream",
     "text": [
      "(365, 10)\n",
      "(365,)\n"
     ]
    }
   ],
   "source": [
    "X_test = topic_performance_2021.drop('retweet_count', axis=1)\n",
    "y_test = topic_performance_2021['retweet_count']\n",
    "print(X_test.shape)\n",
    "print(y_test.shape)"
   ],
   "metadata": {
    "collapsed": false,
    "pycharm": {
     "name": "#%%\n"
    }
   }
  },
  {
   "cell_type": "code",
   "execution_count": 249,
   "outputs": [],
   "source": [
    "def train_time_series_with_folds(X_train, X_test, y_train, y_test):\n",
    "    #create, train and do inference of the model\n",
    "    model = GradientBoostingRegressor(random_state=42)\n",
    "    model.fit(X_train, y_train)\n",
    "\n",
    "    predictions = model.predict(X_test)\n",
    "\n",
    "    #calculate MAE\n",
    "    mae = np.round(mean_absolute_error(y_test, predictions), 3)\n",
    "\n",
    "    res = []\n",
    "    for i in range(365):\n",
    "        d = dict()\n",
    "        d['timestamp'] = topic_performance_2021.index[i]\n",
    "        d['type'] = 'real'\n",
    "        d['value'] = y_test.iloc[i]\n",
    "        res.append(d)\n",
    "\n",
    "        d = dict()\n",
    "        d['timestamp'] = topic_performance_2021.index[i]\n",
    "        d['type'] = 'prediction'\n",
    "        d['value'] = predictions[i]\n",
    "        res.append(d)\n",
    "\n",
    "    df_results = pd.DataFrame(res)\n",
    "\n",
    "    fig = px.line(df_results, x=\"timestamp\", y=\"value\", color='type', title=(\"Predictions of topic retweet count average for 2021 with MAE:\" + str(mae)),\n",
    "             color_discrete_sequence=px.colors.qualitative.Safe, width=900, height=500)\n",
    "    #fig.add_trace()\n",
    "    fig.update_xaxes(title_text=\"Time\")\n",
    "    fig.update_yaxes(title_text=\"Average retweet count\")\n",
    "    fig.show()\n",
    "    plotly.offline.plot(fig, filename='../../data/charts/Predictions of topic retweet count average for 2021 with MAE.html')\n",
    "\n",
    "\n",
    "    #create a dataframe with the variable importances of the model\n",
    "    df_importances = pd.DataFrame({\n",
    "        'feature': model.feature_names_in_,\n",
    "        'importance': model.feature_importances_\n",
    "    }).sort_values(by='importance', ascending=False)\n",
    "\n",
    "    fig = px.bar(df_importances, x=\"feature\", y=\"importance\", title=(\"Variable Importances\"),\n",
    "             color_discrete_sequence=px.colors.qualitative.Safe, width=900, height=500)\n",
    "    fig.show()"
   ],
   "metadata": {
    "collapsed": false,
    "pycharm": {
     "name": "#%%\n"
    }
   }
  },
  {
   "cell_type": "code",
   "execution_count": 250,
   "outputs": [
    {
     "data": {
      "application/vnd.plotly.v1+json": {
       "data": [
        {
         "hovertemplate": "type=real<br>timestamp=%{x}<br>value=%{y}<extra></extra>",
         "legendgroup": "real",
         "line": {
          "color": "rgb(136, 204, 238)",
          "dash": "solid"
         },
         "marker": {
          "symbol": "circle"
         },
         "mode": "lines",
         "name": "real",
         "orientation": "v",
         "showlegend": true,
         "x": [
          "2021-01-01T00:00:00+00:00",
          "2021-01-02T00:00:00+00:00",
          "2021-01-03T00:00:00+00:00",
          "2021-01-04T00:00:00+00:00",
          "2021-01-05T00:00:00+00:00",
          "2021-01-06T00:00:00+00:00",
          "2021-01-07T00:00:00+00:00",
          "2021-01-08T00:00:00+00:00",
          "2021-01-09T00:00:00+00:00",
          "2021-01-10T00:00:00+00:00",
          "2021-01-11T00:00:00+00:00",
          "2021-01-12T00:00:00+00:00",
          "2021-01-13T00:00:00+00:00",
          "2021-01-14T00:00:00+00:00",
          "2021-01-15T00:00:00+00:00",
          "2021-01-16T00:00:00+00:00",
          "2021-01-17T00:00:00+00:00",
          "2021-01-18T00:00:00+00:00",
          "2021-01-19T00:00:00+00:00",
          "2021-01-20T00:00:00+00:00",
          "2021-01-21T00:00:00+00:00",
          "2021-01-22T00:00:00+00:00",
          "2021-01-23T00:00:00+00:00",
          "2021-01-24T00:00:00+00:00",
          "2021-01-25T00:00:00+00:00",
          "2021-01-26T00:00:00+00:00",
          "2021-01-27T00:00:00+00:00",
          "2021-01-28T00:00:00+00:00",
          "2021-01-29T00:00:00+00:00",
          "2021-01-30T00:00:00+00:00",
          "2021-01-31T00:00:00+00:00",
          "2021-02-01T00:00:00+00:00",
          "2021-02-02T00:00:00+00:00",
          "2021-02-03T00:00:00+00:00",
          "2021-02-04T00:00:00+00:00",
          "2021-02-05T00:00:00+00:00",
          "2021-02-06T00:00:00+00:00",
          "2021-02-07T00:00:00+00:00",
          "2021-02-08T00:00:00+00:00",
          "2021-02-09T00:00:00+00:00",
          "2021-02-10T00:00:00+00:00",
          "2021-02-11T00:00:00+00:00",
          "2021-02-12T00:00:00+00:00",
          "2021-02-13T00:00:00+00:00",
          "2021-02-14T00:00:00+00:00",
          "2021-02-15T00:00:00+00:00",
          "2021-02-16T00:00:00+00:00",
          "2021-02-17T00:00:00+00:00",
          "2021-02-18T00:00:00+00:00",
          "2021-02-19T00:00:00+00:00",
          "2021-02-20T00:00:00+00:00",
          "2021-02-21T00:00:00+00:00",
          "2021-02-22T00:00:00+00:00",
          "2021-02-23T00:00:00+00:00",
          "2021-02-24T00:00:00+00:00",
          "2021-02-25T00:00:00+00:00",
          "2021-02-26T00:00:00+00:00",
          "2021-02-27T00:00:00+00:00",
          "2021-02-28T00:00:00+00:00",
          "2021-03-01T00:00:00+00:00",
          "2021-03-02T00:00:00+00:00",
          "2021-03-03T00:00:00+00:00",
          "2021-03-04T00:00:00+00:00",
          "2021-03-05T00:00:00+00:00",
          "2021-03-06T00:00:00+00:00",
          "2021-03-07T00:00:00+00:00",
          "2021-03-08T00:00:00+00:00",
          "2021-03-09T00:00:00+00:00",
          "2021-03-10T00:00:00+00:00",
          "2021-03-11T00:00:00+00:00",
          "2021-03-12T00:00:00+00:00",
          "2021-03-13T00:00:00+00:00",
          "2021-03-14T00:00:00+00:00",
          "2021-03-15T00:00:00+00:00",
          "2021-03-16T00:00:00+00:00",
          "2021-03-17T00:00:00+00:00",
          "2021-03-18T00:00:00+00:00",
          "2021-03-19T00:00:00+00:00",
          "2021-03-20T00:00:00+00:00",
          "2021-03-21T00:00:00+00:00",
          "2021-03-22T00:00:00+00:00",
          "2021-03-23T00:00:00+00:00",
          "2021-03-24T00:00:00+00:00",
          "2021-03-25T00:00:00+00:00",
          "2021-03-26T00:00:00+00:00",
          "2021-03-27T00:00:00+00:00",
          "2021-03-28T00:00:00+00:00",
          "2021-03-29T00:00:00+00:00",
          "2021-03-30T00:00:00+00:00",
          "2021-03-31T00:00:00+00:00",
          "2021-04-01T00:00:00+00:00",
          "2021-04-02T00:00:00+00:00",
          "2021-04-03T00:00:00+00:00",
          "2021-04-04T00:00:00+00:00",
          "2021-04-05T00:00:00+00:00",
          "2021-04-06T00:00:00+00:00",
          "2021-04-07T00:00:00+00:00",
          "2021-04-08T00:00:00+00:00",
          "2021-04-09T00:00:00+00:00",
          "2021-04-10T00:00:00+00:00",
          "2021-04-11T00:00:00+00:00",
          "2021-04-12T00:00:00+00:00",
          "2021-04-13T00:00:00+00:00",
          "2021-04-14T00:00:00+00:00",
          "2021-04-15T00:00:00+00:00",
          "2021-04-16T00:00:00+00:00",
          "2021-04-17T00:00:00+00:00",
          "2021-04-18T00:00:00+00:00",
          "2021-04-19T00:00:00+00:00",
          "2021-04-20T00:00:00+00:00",
          "2021-04-21T00:00:00+00:00",
          "2021-04-22T00:00:00+00:00",
          "2021-04-23T00:00:00+00:00",
          "2021-04-24T00:00:00+00:00",
          "2021-04-25T00:00:00+00:00",
          "2021-04-26T00:00:00+00:00",
          "2021-04-27T00:00:00+00:00",
          "2021-04-28T00:00:00+00:00",
          "2021-04-29T00:00:00+00:00",
          "2021-04-30T00:00:00+00:00",
          "2021-05-01T00:00:00+00:00",
          "2021-05-02T00:00:00+00:00",
          "2021-05-03T00:00:00+00:00",
          "2021-05-04T00:00:00+00:00",
          "2021-05-05T00:00:00+00:00",
          "2021-05-06T00:00:00+00:00",
          "2021-05-07T00:00:00+00:00",
          "2021-05-08T00:00:00+00:00",
          "2021-05-09T00:00:00+00:00",
          "2021-05-10T00:00:00+00:00",
          "2021-05-11T00:00:00+00:00",
          "2021-05-12T00:00:00+00:00",
          "2021-05-13T00:00:00+00:00",
          "2021-05-14T00:00:00+00:00",
          "2021-05-15T00:00:00+00:00",
          "2021-05-16T00:00:00+00:00",
          "2021-05-17T00:00:00+00:00",
          "2021-05-18T00:00:00+00:00",
          "2021-05-19T00:00:00+00:00",
          "2021-05-20T00:00:00+00:00",
          "2021-05-21T00:00:00+00:00",
          "2021-05-22T00:00:00+00:00",
          "2021-05-23T00:00:00+00:00",
          "2021-05-24T00:00:00+00:00",
          "2021-05-25T00:00:00+00:00",
          "2021-05-26T00:00:00+00:00",
          "2021-05-27T00:00:00+00:00",
          "2021-05-28T00:00:00+00:00",
          "2021-05-29T00:00:00+00:00",
          "2021-05-30T00:00:00+00:00",
          "2021-05-31T00:00:00+00:00",
          "2021-06-01T00:00:00+00:00",
          "2021-06-02T00:00:00+00:00",
          "2021-06-03T00:00:00+00:00",
          "2021-06-04T00:00:00+00:00",
          "2021-06-05T00:00:00+00:00",
          "2021-06-06T00:00:00+00:00",
          "2021-06-07T00:00:00+00:00",
          "2021-06-08T00:00:00+00:00",
          "2021-06-09T00:00:00+00:00",
          "2021-06-10T00:00:00+00:00",
          "2021-06-11T00:00:00+00:00",
          "2021-06-12T00:00:00+00:00",
          "2021-06-13T00:00:00+00:00",
          "2021-06-14T00:00:00+00:00",
          "2021-06-15T00:00:00+00:00",
          "2021-06-16T00:00:00+00:00",
          "2021-06-17T00:00:00+00:00",
          "2021-06-18T00:00:00+00:00",
          "2021-06-19T00:00:00+00:00",
          "2021-06-20T00:00:00+00:00",
          "2021-06-21T00:00:00+00:00",
          "2021-06-22T00:00:00+00:00",
          "2021-06-23T00:00:00+00:00",
          "2021-06-24T00:00:00+00:00",
          "2021-06-25T00:00:00+00:00",
          "2021-06-26T00:00:00+00:00",
          "2021-06-27T00:00:00+00:00",
          "2021-06-28T00:00:00+00:00",
          "2021-06-29T00:00:00+00:00",
          "2021-06-30T00:00:00+00:00",
          "2021-07-01T00:00:00+00:00",
          "2021-07-02T00:00:00+00:00",
          "2021-07-03T00:00:00+00:00",
          "2021-07-04T00:00:00+00:00",
          "2021-07-05T00:00:00+00:00",
          "2021-07-06T00:00:00+00:00",
          "2021-07-07T00:00:00+00:00",
          "2021-07-08T00:00:00+00:00",
          "2021-07-09T00:00:00+00:00",
          "2021-07-10T00:00:00+00:00",
          "2021-07-11T00:00:00+00:00",
          "2021-07-12T00:00:00+00:00",
          "2021-07-13T00:00:00+00:00",
          "2021-07-14T00:00:00+00:00",
          "2021-07-15T00:00:00+00:00",
          "2021-07-16T00:00:00+00:00",
          "2021-07-17T00:00:00+00:00",
          "2021-07-18T00:00:00+00:00",
          "2021-07-19T00:00:00+00:00",
          "2021-07-20T00:00:00+00:00",
          "2021-07-21T00:00:00+00:00",
          "2021-07-22T00:00:00+00:00",
          "2021-07-23T00:00:00+00:00",
          "2021-07-24T00:00:00+00:00",
          "2021-07-25T00:00:00+00:00",
          "2021-07-26T00:00:00+00:00",
          "2021-07-27T00:00:00+00:00",
          "2021-07-28T00:00:00+00:00",
          "2021-07-29T00:00:00+00:00",
          "2021-07-30T00:00:00+00:00",
          "2021-07-31T00:00:00+00:00",
          "2021-08-01T00:00:00+00:00",
          "2021-08-02T00:00:00+00:00",
          "2021-08-03T00:00:00+00:00",
          "2021-08-04T00:00:00+00:00",
          "2021-08-05T00:00:00+00:00",
          "2021-08-06T00:00:00+00:00",
          "2021-08-07T00:00:00+00:00",
          "2021-08-08T00:00:00+00:00",
          "2021-08-09T00:00:00+00:00",
          "2021-08-10T00:00:00+00:00",
          "2021-08-11T00:00:00+00:00",
          "2021-08-12T00:00:00+00:00",
          "2021-08-13T00:00:00+00:00",
          "2021-08-14T00:00:00+00:00",
          "2021-08-15T00:00:00+00:00",
          "2021-08-16T00:00:00+00:00",
          "2021-08-17T00:00:00+00:00",
          "2021-08-18T00:00:00+00:00",
          "2021-08-19T00:00:00+00:00",
          "2021-08-20T00:00:00+00:00",
          "2021-08-21T00:00:00+00:00",
          "2021-08-22T00:00:00+00:00",
          "2021-08-23T00:00:00+00:00",
          "2021-08-24T00:00:00+00:00",
          "2021-08-25T00:00:00+00:00",
          "2021-08-26T00:00:00+00:00",
          "2021-08-27T00:00:00+00:00",
          "2021-08-28T00:00:00+00:00",
          "2021-08-29T00:00:00+00:00",
          "2021-08-30T00:00:00+00:00",
          "2021-08-31T00:00:00+00:00",
          "2021-09-01T00:00:00+00:00",
          "2021-09-02T00:00:00+00:00",
          "2021-09-03T00:00:00+00:00",
          "2021-09-04T00:00:00+00:00",
          "2021-09-05T00:00:00+00:00",
          "2021-09-06T00:00:00+00:00",
          "2021-09-07T00:00:00+00:00",
          "2021-09-08T00:00:00+00:00",
          "2021-09-09T00:00:00+00:00",
          "2021-09-10T00:00:00+00:00",
          "2021-09-11T00:00:00+00:00",
          "2021-09-12T00:00:00+00:00",
          "2021-09-13T00:00:00+00:00",
          "2021-09-14T00:00:00+00:00",
          "2021-09-15T00:00:00+00:00",
          "2021-09-16T00:00:00+00:00",
          "2021-09-17T00:00:00+00:00",
          "2021-09-18T00:00:00+00:00",
          "2021-09-19T00:00:00+00:00",
          "2021-09-20T00:00:00+00:00",
          "2021-09-21T00:00:00+00:00",
          "2021-09-22T00:00:00+00:00",
          "2021-09-23T00:00:00+00:00",
          "2021-09-24T00:00:00+00:00",
          "2021-09-25T00:00:00+00:00",
          "2021-09-26T00:00:00+00:00",
          "2021-09-27T00:00:00+00:00",
          "2021-09-28T00:00:00+00:00",
          "2021-09-29T00:00:00+00:00",
          "2021-09-30T00:00:00+00:00",
          "2021-10-01T00:00:00+00:00",
          "2021-10-02T00:00:00+00:00",
          "2021-10-03T00:00:00+00:00",
          "2021-10-04T00:00:00+00:00",
          "2021-10-05T00:00:00+00:00",
          "2021-10-06T00:00:00+00:00",
          "2021-10-07T00:00:00+00:00",
          "2021-10-08T00:00:00+00:00",
          "2021-10-09T00:00:00+00:00",
          "2021-10-10T00:00:00+00:00",
          "2021-10-11T00:00:00+00:00",
          "2021-10-12T00:00:00+00:00",
          "2021-10-13T00:00:00+00:00",
          "2021-10-14T00:00:00+00:00",
          "2021-10-15T00:00:00+00:00",
          "2021-10-16T00:00:00+00:00",
          "2021-10-17T00:00:00+00:00",
          "2021-10-18T00:00:00+00:00",
          "2021-10-19T00:00:00+00:00",
          "2021-10-20T00:00:00+00:00",
          "2021-10-21T00:00:00+00:00",
          "2021-10-22T00:00:00+00:00",
          "2021-10-23T00:00:00+00:00",
          "2021-10-24T00:00:00+00:00",
          "2021-10-25T00:00:00+00:00",
          "2021-10-26T00:00:00+00:00",
          "2021-10-27T00:00:00+00:00",
          "2021-10-28T00:00:00+00:00",
          "2021-10-29T00:00:00+00:00",
          "2021-10-30T00:00:00+00:00",
          "2021-10-31T00:00:00+00:00",
          "2021-11-01T00:00:00+00:00",
          "2021-11-02T00:00:00+00:00",
          "2021-11-03T00:00:00+00:00",
          "2021-11-04T00:00:00+00:00",
          "2021-11-05T00:00:00+00:00",
          "2021-11-06T00:00:00+00:00",
          "2021-11-07T00:00:00+00:00",
          "2021-11-08T00:00:00+00:00",
          "2021-11-09T00:00:00+00:00",
          "2021-11-10T00:00:00+00:00",
          "2021-11-11T00:00:00+00:00",
          "2021-11-12T00:00:00+00:00",
          "2021-11-13T00:00:00+00:00",
          "2021-11-14T00:00:00+00:00",
          "2021-11-15T00:00:00+00:00",
          "2021-11-16T00:00:00+00:00",
          "2021-11-17T00:00:00+00:00",
          "2021-11-18T00:00:00+00:00",
          "2021-11-19T00:00:00+00:00",
          "2021-11-20T00:00:00+00:00",
          "2021-11-21T00:00:00+00:00",
          "2021-11-22T00:00:00+00:00",
          "2021-11-23T00:00:00+00:00",
          "2021-11-24T00:00:00+00:00",
          "2021-11-25T00:00:00+00:00",
          "2021-11-26T00:00:00+00:00",
          "2021-11-27T00:00:00+00:00",
          "2021-11-28T00:00:00+00:00",
          "2021-11-29T00:00:00+00:00",
          "2021-11-30T00:00:00+00:00",
          "2021-12-01T00:00:00+00:00",
          "2021-12-02T00:00:00+00:00",
          "2021-12-03T00:00:00+00:00",
          "2021-12-04T00:00:00+00:00",
          "2021-12-05T00:00:00+00:00",
          "2021-12-06T00:00:00+00:00",
          "2021-12-07T00:00:00+00:00",
          "2021-12-08T00:00:00+00:00",
          "2021-12-09T00:00:00+00:00",
          "2021-12-10T00:00:00+00:00",
          "2021-12-11T00:00:00+00:00",
          "2021-12-12T00:00:00+00:00",
          "2021-12-13T00:00:00+00:00",
          "2021-12-14T00:00:00+00:00",
          "2021-12-15T00:00:00+00:00",
          "2021-12-16T00:00:00+00:00",
          "2021-12-17T00:00:00+00:00",
          "2021-12-18T00:00:00+00:00",
          "2021-12-19T00:00:00+00:00",
          "2021-12-20T00:00:00+00:00",
          "2021-12-21T00:00:00+00:00",
          "2021-12-22T00:00:00+00:00",
          "2021-12-23T00:00:00+00:00",
          "2021-12-24T00:00:00+00:00",
          "2021-12-25T00:00:00+00:00",
          "2021-12-26T00:00:00+00:00",
          "2021-12-27T00:00:00+00:00",
          "2021-12-28T00:00:00+00:00",
          "2021-12-29T00:00:00+00:00",
          "2021-12-30T00:00:00+00:00",
          "2021-12-31T00:00:00+00:00"
         ],
         "xaxis": "x",
         "y": [
          0.47692307692307695,
          1.043010752688172,
          0.4,
          8.436974789915967,
          0.36507936507936506,
          0.7165354330708661,
          1.1237785016286646,
          0.5990783410138248,
          0.375,
          1.9617834394904459,
          1.1363636363636365,
          0.84,
          1.005128205128205,
          0.2484472049689441,
          0.3153846153846154,
          0.4188034188034188,
          1.368,
          0.46875,
          0.3258426966292135,
          0.3484848484848485,
          1.3959390862944163,
          5.067073170731708,
          0.44525547445255476,
          0.33884297520661155,
          0.18705035971223022,
          4.427536231884058,
          0.6814814814814815,
          4.279569892473118,
          1.2777777777777777,
          0.20987654320987653,
          0.5789473684210527,
          0.3402061855670103,
          1.3636363636363635,
          0.5188679245283019,
          0.6666666666666666,
          0.6581196581196581,
          0.35185185185185186,
          1.9684210526315788,
          0.3382352941176471,
          0.7522935779816514,
          0.22413793103448276,
          0.36752136752136755,
          0.5867768595041323,
          1.0888888888888888,
          0.2831858407079646,
          0.375,
          0.5465116279069767,
          0.3695652173913043,
          1.404040404040404,
          0.4,
          1.797752808988764,
          1.8,
          3.5046728971962615,
          0.36363636363636365,
          1.1020408163265305,
          0.4367816091954023,
          0.5157894736842106,
          0.37681159420289856,
          1.5,
          1.7191011235955056,
          0.3157894736842105,
          3.989130434782609,
          0.5925925925925926,
          2.0721649484536084,
          1.1647058823529413,
          0.3492063492063492,
          1.5975609756097562,
          1.7924528301886793,
          2.9,
          0.5813953488372093,
          0.7008547008547008,
          0.463768115942029,
          22.59259259259259,
          0.23711340206185566,
          1.0,
          0.7808219178082192,
          1.0297029702970297,
          0.9090909090909091,
          0.9166666666666666,
          1.626865671641791,
          3.85,
          0.33766233766233766,
          2.9166666666666665,
          0.391304347826087,
          0.7159090909090909,
          0.20253164556962025,
          0.2028985507246377,
          0.7619047619047619,
          0.40229885057471265,
          0.5851063829787234,
          1.8170731707317074,
          0.68,
          0.3181818181818182,
          0.22916666666666666,
          0.2835820895522388,
          0.7738095238095238,
          0.7534246575342466,
          0.18666666666666668,
          1.8617886178861789,
          24.378048780487806,
          0.5396825396825397,
          1.3733333333333333,
          0.5675675675675675,
          3.0617283950617282,
          0.5625,
          1.3186813186813187,
          0.9058823529411765,
          1.45,
          0.2875,
          1.9074074074074074,
          6.675,
          0.1794871794871795,
          0.2465753424657534,
          0.6268656716417911,
          1.7702702702702702,
          1.619047619047619,
          0.5789473684210527,
          0.75,
          0.1590909090909091,
          0.4166666666666667,
          2.1875,
          0.5254237288135594,
          0.36764705882352944,
          8.19277108433735,
          0.3424657534246575,
          0.32051282051282054,
          0.25,
          1.0377358490566038,
          0.18867924528301888,
          0.6274509803921569,
          0.3684210526315789,
          2.0,
          1.9090909090909092,
          1.5897435897435896,
          0.45454545454545453,
          0.4117647058823529,
          0.9322033898305084,
          0.8395061728395061,
          1.0705882352941176,
          0.24242424242424243,
          0.44871794871794873,
          1.4776119402985075,
          0.8653846153846154,
          0.49382716049382713,
          2.956043956043956,
          0.7096774193548387,
          0.8214285714285714,
          0.25882352941176473,
          0.18181818181818182,
          0.48214285714285715,
          0.5777777777777777,
          0.25,
          4.661290322580645,
          0.4117647058823529,
          0.7368421052631579,
          6.807017543859649,
          1.0972222222222223,
          0.9367088607594937,
          0.3717948717948718,
          1.4705882352941178,
          0.7272727272727273,
          1.2906976744186047,
          3.183098591549296,
          0.640625,
          0.4864864864864865,
          0.26153846153846155,
          1.8108108108108107,
          0.4603174603174603,
          1.0886075949367089,
          0.55,
          0.5238095238095238,
          0.46153846153846156,
          9.342465753424657,
          0.7777777777777778,
          0.5779816513761468,
          1.0705882352941176,
          1.4576271186440677,
          0.35443037974683544,
          0.3380281690140845,
          0.9722222222222222,
          0.5612244897959183,
          0.6095238095238096,
          0.9859154929577465,
          2.6666666666666665,
          1.0655737704918034,
          2.625,
          0.8769230769230769,
          1.1846153846153846,
          1.1728395061728396,
          0.8229166666666666,
          1.0,
          0.36923076923076925,
          0.2236842105263158,
          0.5180722891566265,
          0.5315315315315315,
          0.9012345679012346,
          0.5168539325842697,
          0.22950819672131148,
          7.016949152542373,
          1.7466666666666666,
          2.4727272727272727,
          0.26506024096385544,
          0.49382716049382713,
          0.21794871794871795,
          1.0533333333333332,
          0.6231884057971014,
          0.3382352941176471,
          0.573170731707317,
          0.6355140186915887,
          0.7407407407407407,
          2.064516129032258,
          1.4175824175824177,
          1.6029411764705883,
          0.6119402985074627,
          0.7922077922077922,
          0.2828282828282828,
          7.0,
          0.4716981132075472,
          0.6527777777777778,
          0.38235294117647056,
          1.6,
          0.4642857142857143,
          1.0864197530864197,
          0.7816091954022989,
          0.654320987654321,
          20.323076923076922,
          31.94871794871795,
          1.8295454545454546,
          0.5729166666666666,
          2.686046511627907,
          1.9545454545454546,
          1.6634615384615385,
          0.7945205479452054,
          1.3766233766233766,
          0.675,
          1.1333333333333333,
          0.3595505617977528,
          0.7065217391304348,
          8.409638554216867,
          0.9375,
          0.28888888888888886,
          1.835164835164835,
          1.3660714285714286,
          0.35353535353535354,
          1.6601941747572815,
          2.780141843971631,
          0.984375,
          3.0606060606060606,
          1.5813953488372092,
          0.6133333333333333,
          1.5151515151515151,
          0.41304347826086957,
          0.5510204081632653,
          0.31666666666666665,
          0.9508196721311475,
          0.3888888888888889,
          0.29850746268656714,
          27.8,
          0.5473684210526316,
          1.035294117647059,
          0.46774193548387094,
          0.2857142857142857,
          1.1022727272727273,
          24.294871794871796,
          0.3076923076923077,
          1.0810810810810811,
          1.4594594594594594,
          5.688524590163935,
          3.3943661971830985,
          0.5333333333333333,
          1.7567567567567568,
          0.5061728395061729,
          0.4069767441860465,
          0.14864864864864866,
          1.1764705882352942,
          0.4406779661016949,
          0.32857142857142857,
          1.103896103896104,
          0.36486486486486486,
          1.2352941176470589,
          0.1566265060240964,
          1.0,
          1.0517241379310345,
          0.410958904109589,
          1.904109589041096,
          13.125,
          3.4886363636363638,
          0.425531914893617,
          15.121212121212121,
          0.6486486486486487,
          0.6823529411764706,
          16.1046511627907,
          1.075268817204301,
          0.8904109589041096,
          0.5436893203883495,
          1.721311475409836,
          0.3888888888888889,
          0.7922077922077922,
          0.7419354838709677,
          2.282051282051282,
          1.3229166666666667,
          27.83783783783784,
          0.8,
          0.5957446808510638,
          0.5,
          0.6463414634146342,
          1.5473684210526315,
          7.114285714285714,
          4.818181818181818,
          0.1686746987951807,
          1.1794871794871795,
          3.1125,
          1.4642857142857142,
          0.23333333333333334,
          1.9019607843137254,
          2.5436893203883497,
          1.5789473684210527,
          0.8088235294117647,
          0.8431372549019608,
          3.044943820224719,
          0.23809523809523808,
          1.5393258426966292,
          12.60377358490566,
          3.7162162162162162,
          0.2459016393442623,
          1.5857142857142856,
          1.302325581395349,
          0.6197183098591549,
          2.0,
          6.916666666666667,
          0.546875,
          1.8059701492537314,
          1.1041666666666667,
          0.18478260869565216,
          0.7078651685393258,
          0.3157894736842105,
          0.4791666666666667,
          0.3918918918918919,
          0.68,
          1.876543209876543,
          0.625,
          1.3048780487804879,
          0.6707317073170732,
          0.6095238095238096,
          1.6582278481012658,
          0.6847826086956522,
          1.3465346534653466,
          1.8979591836734695,
          42.4367816091954,
          0.2358490566037736,
          0.5232558139534884,
          1.7777777777777777,
          0.3424657534246575,
          21.255555555555556,
          0.6707317073170732,
          0.5263157894736842,
          0.3411764705882353,
          0.8505747126436781,
          1.1265822784810127,
          0.42592592592592593,
          0.25396825396825395,
          0.5616438356164384,
          0.6027397260273972,
          1.3896103896103895,
          0.5189873417721519
         ],
         "yaxis": "y",
         "type": "scatter"
        },
        {
         "hovertemplate": "type=prediction<br>timestamp=%{x}<br>value=%{y}<extra></extra>",
         "legendgroup": "prediction",
         "line": {
          "color": "rgb(204, 102, 119)",
          "dash": "solid"
         },
         "marker": {
          "symbol": "circle"
         },
         "mode": "lines",
         "name": "prediction",
         "orientation": "v",
         "showlegend": true,
         "x": [
          "2021-01-01T00:00:00+00:00",
          "2021-01-02T00:00:00+00:00",
          "2021-01-03T00:00:00+00:00",
          "2021-01-04T00:00:00+00:00",
          "2021-01-05T00:00:00+00:00",
          "2021-01-06T00:00:00+00:00",
          "2021-01-07T00:00:00+00:00",
          "2021-01-08T00:00:00+00:00",
          "2021-01-09T00:00:00+00:00",
          "2021-01-10T00:00:00+00:00",
          "2021-01-11T00:00:00+00:00",
          "2021-01-12T00:00:00+00:00",
          "2021-01-13T00:00:00+00:00",
          "2021-01-14T00:00:00+00:00",
          "2021-01-15T00:00:00+00:00",
          "2021-01-16T00:00:00+00:00",
          "2021-01-17T00:00:00+00:00",
          "2021-01-18T00:00:00+00:00",
          "2021-01-19T00:00:00+00:00",
          "2021-01-20T00:00:00+00:00",
          "2021-01-21T00:00:00+00:00",
          "2021-01-22T00:00:00+00:00",
          "2021-01-23T00:00:00+00:00",
          "2021-01-24T00:00:00+00:00",
          "2021-01-25T00:00:00+00:00",
          "2021-01-26T00:00:00+00:00",
          "2021-01-27T00:00:00+00:00",
          "2021-01-28T00:00:00+00:00",
          "2021-01-29T00:00:00+00:00",
          "2021-01-30T00:00:00+00:00",
          "2021-01-31T00:00:00+00:00",
          "2021-02-01T00:00:00+00:00",
          "2021-02-02T00:00:00+00:00",
          "2021-02-03T00:00:00+00:00",
          "2021-02-04T00:00:00+00:00",
          "2021-02-05T00:00:00+00:00",
          "2021-02-06T00:00:00+00:00",
          "2021-02-07T00:00:00+00:00",
          "2021-02-08T00:00:00+00:00",
          "2021-02-09T00:00:00+00:00",
          "2021-02-10T00:00:00+00:00",
          "2021-02-11T00:00:00+00:00",
          "2021-02-12T00:00:00+00:00",
          "2021-02-13T00:00:00+00:00",
          "2021-02-14T00:00:00+00:00",
          "2021-02-15T00:00:00+00:00",
          "2021-02-16T00:00:00+00:00",
          "2021-02-17T00:00:00+00:00",
          "2021-02-18T00:00:00+00:00",
          "2021-02-19T00:00:00+00:00",
          "2021-02-20T00:00:00+00:00",
          "2021-02-21T00:00:00+00:00",
          "2021-02-22T00:00:00+00:00",
          "2021-02-23T00:00:00+00:00",
          "2021-02-24T00:00:00+00:00",
          "2021-02-25T00:00:00+00:00",
          "2021-02-26T00:00:00+00:00",
          "2021-02-27T00:00:00+00:00",
          "2021-02-28T00:00:00+00:00",
          "2021-03-01T00:00:00+00:00",
          "2021-03-02T00:00:00+00:00",
          "2021-03-03T00:00:00+00:00",
          "2021-03-04T00:00:00+00:00",
          "2021-03-05T00:00:00+00:00",
          "2021-03-06T00:00:00+00:00",
          "2021-03-07T00:00:00+00:00",
          "2021-03-08T00:00:00+00:00",
          "2021-03-09T00:00:00+00:00",
          "2021-03-10T00:00:00+00:00",
          "2021-03-11T00:00:00+00:00",
          "2021-03-12T00:00:00+00:00",
          "2021-03-13T00:00:00+00:00",
          "2021-03-14T00:00:00+00:00",
          "2021-03-15T00:00:00+00:00",
          "2021-03-16T00:00:00+00:00",
          "2021-03-17T00:00:00+00:00",
          "2021-03-18T00:00:00+00:00",
          "2021-03-19T00:00:00+00:00",
          "2021-03-20T00:00:00+00:00",
          "2021-03-21T00:00:00+00:00",
          "2021-03-22T00:00:00+00:00",
          "2021-03-23T00:00:00+00:00",
          "2021-03-24T00:00:00+00:00",
          "2021-03-25T00:00:00+00:00",
          "2021-03-26T00:00:00+00:00",
          "2021-03-27T00:00:00+00:00",
          "2021-03-28T00:00:00+00:00",
          "2021-03-29T00:00:00+00:00",
          "2021-03-30T00:00:00+00:00",
          "2021-03-31T00:00:00+00:00",
          "2021-04-01T00:00:00+00:00",
          "2021-04-02T00:00:00+00:00",
          "2021-04-03T00:00:00+00:00",
          "2021-04-04T00:00:00+00:00",
          "2021-04-05T00:00:00+00:00",
          "2021-04-06T00:00:00+00:00",
          "2021-04-07T00:00:00+00:00",
          "2021-04-08T00:00:00+00:00",
          "2021-04-09T00:00:00+00:00",
          "2021-04-10T00:00:00+00:00",
          "2021-04-11T00:00:00+00:00",
          "2021-04-12T00:00:00+00:00",
          "2021-04-13T00:00:00+00:00",
          "2021-04-14T00:00:00+00:00",
          "2021-04-15T00:00:00+00:00",
          "2021-04-16T00:00:00+00:00",
          "2021-04-17T00:00:00+00:00",
          "2021-04-18T00:00:00+00:00",
          "2021-04-19T00:00:00+00:00",
          "2021-04-20T00:00:00+00:00",
          "2021-04-21T00:00:00+00:00",
          "2021-04-22T00:00:00+00:00",
          "2021-04-23T00:00:00+00:00",
          "2021-04-24T00:00:00+00:00",
          "2021-04-25T00:00:00+00:00",
          "2021-04-26T00:00:00+00:00",
          "2021-04-27T00:00:00+00:00",
          "2021-04-28T00:00:00+00:00",
          "2021-04-29T00:00:00+00:00",
          "2021-04-30T00:00:00+00:00",
          "2021-05-01T00:00:00+00:00",
          "2021-05-02T00:00:00+00:00",
          "2021-05-03T00:00:00+00:00",
          "2021-05-04T00:00:00+00:00",
          "2021-05-05T00:00:00+00:00",
          "2021-05-06T00:00:00+00:00",
          "2021-05-07T00:00:00+00:00",
          "2021-05-08T00:00:00+00:00",
          "2021-05-09T00:00:00+00:00",
          "2021-05-10T00:00:00+00:00",
          "2021-05-11T00:00:00+00:00",
          "2021-05-12T00:00:00+00:00",
          "2021-05-13T00:00:00+00:00",
          "2021-05-14T00:00:00+00:00",
          "2021-05-15T00:00:00+00:00",
          "2021-05-16T00:00:00+00:00",
          "2021-05-17T00:00:00+00:00",
          "2021-05-18T00:00:00+00:00",
          "2021-05-19T00:00:00+00:00",
          "2021-05-20T00:00:00+00:00",
          "2021-05-21T00:00:00+00:00",
          "2021-05-22T00:00:00+00:00",
          "2021-05-23T00:00:00+00:00",
          "2021-05-24T00:00:00+00:00",
          "2021-05-25T00:00:00+00:00",
          "2021-05-26T00:00:00+00:00",
          "2021-05-27T00:00:00+00:00",
          "2021-05-28T00:00:00+00:00",
          "2021-05-29T00:00:00+00:00",
          "2021-05-30T00:00:00+00:00",
          "2021-05-31T00:00:00+00:00",
          "2021-06-01T00:00:00+00:00",
          "2021-06-02T00:00:00+00:00",
          "2021-06-03T00:00:00+00:00",
          "2021-06-04T00:00:00+00:00",
          "2021-06-05T00:00:00+00:00",
          "2021-06-06T00:00:00+00:00",
          "2021-06-07T00:00:00+00:00",
          "2021-06-08T00:00:00+00:00",
          "2021-06-09T00:00:00+00:00",
          "2021-06-10T00:00:00+00:00",
          "2021-06-11T00:00:00+00:00",
          "2021-06-12T00:00:00+00:00",
          "2021-06-13T00:00:00+00:00",
          "2021-06-14T00:00:00+00:00",
          "2021-06-15T00:00:00+00:00",
          "2021-06-16T00:00:00+00:00",
          "2021-06-17T00:00:00+00:00",
          "2021-06-18T00:00:00+00:00",
          "2021-06-19T00:00:00+00:00",
          "2021-06-20T00:00:00+00:00",
          "2021-06-21T00:00:00+00:00",
          "2021-06-22T00:00:00+00:00",
          "2021-06-23T00:00:00+00:00",
          "2021-06-24T00:00:00+00:00",
          "2021-06-25T00:00:00+00:00",
          "2021-06-26T00:00:00+00:00",
          "2021-06-27T00:00:00+00:00",
          "2021-06-28T00:00:00+00:00",
          "2021-06-29T00:00:00+00:00",
          "2021-06-30T00:00:00+00:00",
          "2021-07-01T00:00:00+00:00",
          "2021-07-02T00:00:00+00:00",
          "2021-07-03T00:00:00+00:00",
          "2021-07-04T00:00:00+00:00",
          "2021-07-05T00:00:00+00:00",
          "2021-07-06T00:00:00+00:00",
          "2021-07-07T00:00:00+00:00",
          "2021-07-08T00:00:00+00:00",
          "2021-07-09T00:00:00+00:00",
          "2021-07-10T00:00:00+00:00",
          "2021-07-11T00:00:00+00:00",
          "2021-07-12T00:00:00+00:00",
          "2021-07-13T00:00:00+00:00",
          "2021-07-14T00:00:00+00:00",
          "2021-07-15T00:00:00+00:00",
          "2021-07-16T00:00:00+00:00",
          "2021-07-17T00:00:00+00:00",
          "2021-07-18T00:00:00+00:00",
          "2021-07-19T00:00:00+00:00",
          "2021-07-20T00:00:00+00:00",
          "2021-07-21T00:00:00+00:00",
          "2021-07-22T00:00:00+00:00",
          "2021-07-23T00:00:00+00:00",
          "2021-07-24T00:00:00+00:00",
          "2021-07-25T00:00:00+00:00",
          "2021-07-26T00:00:00+00:00",
          "2021-07-27T00:00:00+00:00",
          "2021-07-28T00:00:00+00:00",
          "2021-07-29T00:00:00+00:00",
          "2021-07-30T00:00:00+00:00",
          "2021-07-31T00:00:00+00:00",
          "2021-08-01T00:00:00+00:00",
          "2021-08-02T00:00:00+00:00",
          "2021-08-03T00:00:00+00:00",
          "2021-08-04T00:00:00+00:00",
          "2021-08-05T00:00:00+00:00",
          "2021-08-06T00:00:00+00:00",
          "2021-08-07T00:00:00+00:00",
          "2021-08-08T00:00:00+00:00",
          "2021-08-09T00:00:00+00:00",
          "2021-08-10T00:00:00+00:00",
          "2021-08-11T00:00:00+00:00",
          "2021-08-12T00:00:00+00:00",
          "2021-08-13T00:00:00+00:00",
          "2021-08-14T00:00:00+00:00",
          "2021-08-15T00:00:00+00:00",
          "2021-08-16T00:00:00+00:00",
          "2021-08-17T00:00:00+00:00",
          "2021-08-18T00:00:00+00:00",
          "2021-08-19T00:00:00+00:00",
          "2021-08-20T00:00:00+00:00",
          "2021-08-21T00:00:00+00:00",
          "2021-08-22T00:00:00+00:00",
          "2021-08-23T00:00:00+00:00",
          "2021-08-24T00:00:00+00:00",
          "2021-08-25T00:00:00+00:00",
          "2021-08-26T00:00:00+00:00",
          "2021-08-27T00:00:00+00:00",
          "2021-08-28T00:00:00+00:00",
          "2021-08-29T00:00:00+00:00",
          "2021-08-30T00:00:00+00:00",
          "2021-08-31T00:00:00+00:00",
          "2021-09-01T00:00:00+00:00",
          "2021-09-02T00:00:00+00:00",
          "2021-09-03T00:00:00+00:00",
          "2021-09-04T00:00:00+00:00",
          "2021-09-05T00:00:00+00:00",
          "2021-09-06T00:00:00+00:00",
          "2021-09-07T00:00:00+00:00",
          "2021-09-08T00:00:00+00:00",
          "2021-09-09T00:00:00+00:00",
          "2021-09-10T00:00:00+00:00",
          "2021-09-11T00:00:00+00:00",
          "2021-09-12T00:00:00+00:00",
          "2021-09-13T00:00:00+00:00",
          "2021-09-14T00:00:00+00:00",
          "2021-09-15T00:00:00+00:00",
          "2021-09-16T00:00:00+00:00",
          "2021-09-17T00:00:00+00:00",
          "2021-09-18T00:00:00+00:00",
          "2021-09-19T00:00:00+00:00",
          "2021-09-20T00:00:00+00:00",
          "2021-09-21T00:00:00+00:00",
          "2021-09-22T00:00:00+00:00",
          "2021-09-23T00:00:00+00:00",
          "2021-09-24T00:00:00+00:00",
          "2021-09-25T00:00:00+00:00",
          "2021-09-26T00:00:00+00:00",
          "2021-09-27T00:00:00+00:00",
          "2021-09-28T00:00:00+00:00",
          "2021-09-29T00:00:00+00:00",
          "2021-09-30T00:00:00+00:00",
          "2021-10-01T00:00:00+00:00",
          "2021-10-02T00:00:00+00:00",
          "2021-10-03T00:00:00+00:00",
          "2021-10-04T00:00:00+00:00",
          "2021-10-05T00:00:00+00:00",
          "2021-10-06T00:00:00+00:00",
          "2021-10-07T00:00:00+00:00",
          "2021-10-08T00:00:00+00:00",
          "2021-10-09T00:00:00+00:00",
          "2021-10-10T00:00:00+00:00",
          "2021-10-11T00:00:00+00:00",
          "2021-10-12T00:00:00+00:00",
          "2021-10-13T00:00:00+00:00",
          "2021-10-14T00:00:00+00:00",
          "2021-10-15T00:00:00+00:00",
          "2021-10-16T00:00:00+00:00",
          "2021-10-17T00:00:00+00:00",
          "2021-10-18T00:00:00+00:00",
          "2021-10-19T00:00:00+00:00",
          "2021-10-20T00:00:00+00:00",
          "2021-10-21T00:00:00+00:00",
          "2021-10-22T00:00:00+00:00",
          "2021-10-23T00:00:00+00:00",
          "2021-10-24T00:00:00+00:00",
          "2021-10-25T00:00:00+00:00",
          "2021-10-26T00:00:00+00:00",
          "2021-10-27T00:00:00+00:00",
          "2021-10-28T00:00:00+00:00",
          "2021-10-29T00:00:00+00:00",
          "2021-10-30T00:00:00+00:00",
          "2021-10-31T00:00:00+00:00",
          "2021-11-01T00:00:00+00:00",
          "2021-11-02T00:00:00+00:00",
          "2021-11-03T00:00:00+00:00",
          "2021-11-04T00:00:00+00:00",
          "2021-11-05T00:00:00+00:00",
          "2021-11-06T00:00:00+00:00",
          "2021-11-07T00:00:00+00:00",
          "2021-11-08T00:00:00+00:00",
          "2021-11-09T00:00:00+00:00",
          "2021-11-10T00:00:00+00:00",
          "2021-11-11T00:00:00+00:00",
          "2021-11-12T00:00:00+00:00",
          "2021-11-13T00:00:00+00:00",
          "2021-11-14T00:00:00+00:00",
          "2021-11-15T00:00:00+00:00",
          "2021-11-16T00:00:00+00:00",
          "2021-11-17T00:00:00+00:00",
          "2021-11-18T00:00:00+00:00",
          "2021-11-19T00:00:00+00:00",
          "2021-11-20T00:00:00+00:00",
          "2021-11-21T00:00:00+00:00",
          "2021-11-22T00:00:00+00:00",
          "2021-11-23T00:00:00+00:00",
          "2021-11-24T00:00:00+00:00",
          "2021-11-25T00:00:00+00:00",
          "2021-11-26T00:00:00+00:00",
          "2021-11-27T00:00:00+00:00",
          "2021-11-28T00:00:00+00:00",
          "2021-11-29T00:00:00+00:00",
          "2021-11-30T00:00:00+00:00",
          "2021-12-01T00:00:00+00:00",
          "2021-12-02T00:00:00+00:00",
          "2021-12-03T00:00:00+00:00",
          "2021-12-04T00:00:00+00:00",
          "2021-12-05T00:00:00+00:00",
          "2021-12-06T00:00:00+00:00",
          "2021-12-07T00:00:00+00:00",
          "2021-12-08T00:00:00+00:00",
          "2021-12-09T00:00:00+00:00",
          "2021-12-10T00:00:00+00:00",
          "2021-12-11T00:00:00+00:00",
          "2021-12-12T00:00:00+00:00",
          "2021-12-13T00:00:00+00:00",
          "2021-12-14T00:00:00+00:00",
          "2021-12-15T00:00:00+00:00",
          "2021-12-16T00:00:00+00:00",
          "2021-12-17T00:00:00+00:00",
          "2021-12-18T00:00:00+00:00",
          "2021-12-19T00:00:00+00:00",
          "2021-12-20T00:00:00+00:00",
          "2021-12-21T00:00:00+00:00",
          "2021-12-22T00:00:00+00:00",
          "2021-12-23T00:00:00+00:00",
          "2021-12-24T00:00:00+00:00",
          "2021-12-25T00:00:00+00:00",
          "2021-12-26T00:00:00+00:00",
          "2021-12-27T00:00:00+00:00",
          "2021-12-28T00:00:00+00:00",
          "2021-12-29T00:00:00+00:00",
          "2021-12-30T00:00:00+00:00",
          "2021-12-31T00:00:00+00:00"
         ],
         "xaxis": "x",
         "y": [
          2.1463470953853836,
          0.6450311916375954,
          3.2714202274996764,
          1.793185312477569,
          2.532027419643682,
          1.9333291684336666,
          2.207980637886256,
          2.3330427307598267,
          4.931359044675116,
          1.9758215135450121,
          3.0978563560376697,
          1.707351658316002,
          1.2119615602092968,
          1.4107008008654907,
          1.480088423439701,
          1.9623807362460266,
          14.752683227675679,
          0.8368474660596771,
          1.3464592290742157,
          10.650606063222297,
          0.48471713609725325,
          2.17368913828103,
          13.921305240649755,
          33.05743276883089,
          1.0366414614904884,
          13.161073757042125,
          2.2262826697488496,
          1.4866585781467656,
          1.3151563216292783,
          1.5622673353360759,
          1.110339076600237,
          1.5506539262323917,
          0.7442211671866761,
          1.0498810695029293,
          0.4785328093508741,
          1.5119423175078688,
          1.6319081037845247,
          2.7554708371892933,
          0.2705963934676329,
          1.7115935970410823,
          0.896621883054073,
          1.266522117314175,
          0.8247730364945625,
          1.8840523008100143,
          1.3512144682005103,
          3.3738133673642325,
          1.305015269057263,
          2.115071012053381,
          1.2686468388102667,
          6.633399232234575,
          1.4485588842370367,
          1.4130277998737966,
          0.9229084548704563,
          8.585166556435093,
          1.8093578896869764,
          9.056878247052635,
          1.8186901460854197,
          1.0172405453054214,
          0.01617114387370966,
          5.306837197791427,
          0.2783702042169704,
          5.53257013866006,
          0.7849240654308209,
          3.916363918271212,
          2.8689218178829563,
          0.3991368953441546,
          -1.1865182181725469,
          0.9405317367495587,
          2.9319685536351145,
          1.3791961589282216,
          1.5714617543506078,
          1.0456857669986055,
          2.4777533032376535,
          0.3934282335292031,
          0.8485921898171261,
          1.7231108533008117,
          4.4671516683903745,
          50.32309366425712,
          3.5694192489402448,
          11.18972956031444,
          5.0710876155919005,
          5.657425307406079,
          1.214121536586483,
          2.6040757270930275,
          0.8732625262694603,
          0.7461774217042778,
          3.122801313142248,
          0.7896604470054458,
          11.654714826842195,
          1.709809174587916,
          1.9089095754818661,
          2.8500314381006113,
          0.6147683254613733,
          2.258978845408407,
          1.3642102961328757,
          0.7662282506960723,
          0.9058413797589944,
          0.5481561827460713,
          1.3869269911565016,
          1.2174321194695263,
          0.9834542976381951,
          1.6750988230983943,
          0.7963123731072983,
          1.3496273039626294,
          0.8462168583020226,
          1.702451960310328,
          0.9826818597676193,
          5.007234510843231,
          1.8659201087335893,
          43.94218642927844,
          8.723426009622926,
          0.45996202891991916,
          1.536443011593624,
          2.0030822870821337,
          1.0690865897879638,
          7.136269119957259,
          0.9555340808144828,
          28.05101765654916,
          1.6625619336027768,
          0.7210629008754428,
          -1.9167886764896958,
          1.2790385801453488,
          0.9564658187549167,
          1.648253230164693,
          0.8863815716024074,
          0.6680371686789427,
          0.3370561513417366,
          3.284156511239257,
          5.763974906466569,
          1.5528887651384027,
          1.0985577633017205,
          4.175905356344577,
          0.5809085625193072,
          1.3573162619911834,
          5.166214259873151,
          -0.6600007859155709,
          0.9751121323960562,
          0.19961712841311877,
          0.6111110484804116,
          1.3211276948362352,
          3.5023602226118244,
          0.16909351355577357,
          0.6630807501157452,
          1.8158703860130032,
          10.726641277097325,
          6.449383931134544,
          3.7804130703153347,
          1.2925042607357629,
          0.4304266239514611,
          1.7543848675160907,
          -0.18990912066814536,
          -1.6761994170227894,
          2.8791953759788185,
          0.029460413891793446,
          0.6873279753656932,
          2.139336598179511,
          8.312968489318694,
          2.1579070891827072,
          2.6542422937488404,
          1.4002644467885572,
          16.3426451487598,
          0.6925509134290899,
          0.9619244073170363,
          0.21691136750644516,
          18.63758402492994,
          3.829715569051365,
          5.5850743566653875,
          0.43817431798401296,
          0.6140925998298722,
          0.6451995672448282,
          1.2380820247883977,
          3.4310425809777962,
          0.8712063383897541,
          1.7296930178725973,
          2.43509754172557,
          5.616529598640927,
          2.082065735868149,
          1.2961618576679048,
          0.04305571976489864,
          1.0694385534253203,
          0.9470134037777311,
          3.1989506330980837,
          18.311813624175443,
          0.9200412593724373,
          13.16168218937617,
          0.6958265228828135,
          0.38005173929552355,
          12.97067429632094,
          4.420982150391849,
          1.2392922968483553,
          7.743025251639206,
          2.2871228299206487,
          1.7502115172181503,
          1.309130748719633,
          3.2472085447348578,
          3.0579382284856553,
          1.6736798847536998,
          1.619716350451647,
          1.1397954036507412,
          6.654726018359767,
          2.0826533924072876,
          0.18872005099108494,
          1.2912956633875643,
          7.579234645350915,
          2.0073545735970213,
          2.4309779384676187,
          0.9374494499544046,
          1.5400343123944202,
          1.3932678534480487,
          0.3065854378873956,
          2.513862789470008,
          1.3050966492415887,
          2.1006122101519855,
          1.4175321689919858,
          0.9568038784376929,
          0.6323731952913026,
          1.993614389829844,
          0.5807582222538199,
          0.7575784521977115,
          1.8458389741986623,
          1.9894729908271425,
          1.6580085415592047,
          0.788748850717191,
          4.391039570820163,
          0.2622419423531518,
          1.571364395131807,
          6.780780107192424,
          3.2323496899091086,
          1.8038346296194037,
          8.975227573191747,
          0.5317716790389786,
          1.4432377004813777,
          0.2776753957292889,
          2.121334304720763,
          1.5195088370639767,
          0.9720059481521055,
          0.7211853753489444,
          4.516916041498741,
          1.5506943551346895,
          -2.1209070498739226,
          1.1249750636845837,
          0.9376963088122741,
          1.82311224166218,
          5.9998923846487315,
          7.293016719631264,
          10.995068770437204,
          2.038403354429101,
          2.5819985798921206,
          6.734826514753675,
          1.9903715759425398,
          2.261992035126842,
          1.8807331275705492,
          17.696566855609984,
          32.84846640959826,
          27.09111838836307,
          3.5045564304089316,
          2.1871235060732097,
          7.9284857679536005,
          2.8291491495438073,
          21.764593071778595,
          20.009069921218035,
          1.7407820083751184,
          2.0272764939888295,
          6.378780996957243,
          2.4389500377186,
          2.51585667306501,
          22.445133019362565,
          2.3768035453619643,
          12.290228493711304,
          -1.6720085347007703,
          4.629521649823678,
          5.204317514957591,
          3.2963908689062777,
          2.5569045934739476,
          0.7862118604876641,
          0.11998249373339104,
          0.35492683514497975,
          1.967434615871871,
          2.779724710629011,
          2.0191902918168187,
          0.505362970060583,
          5.7667438714939525,
          1.1389144022944298,
          0.3349735137559679,
          1.8711079681682816,
          15.229219719101168,
          3.1215850667493044,
          1.2947905854196184,
          1.086248696562907,
          0.08321228974550143,
          0.3995649899969328,
          22.82790314104426,
          2.0730164236568513,
          3.535734764898739,
          0.5496395044714301,
          6.378654023140894,
          0.19961712841311877,
          1.1003693225530393,
          1.4675421017282195,
          -1.5131286211523176,
          1.420796844241516,
          8.132766753037785,
          1.4757887197271995,
          -0.8330930086752334,
          -1.2564451123758584,
          0.5211173526007538,
          2.1509546314513686,
          3.288939486005451,
          33.04941809897287,
          0.6248694029347555,
          1.0660019744753002,
          -0.3901477351621739,
          0.3112434295010436,
          0.6456864165000966,
          1.7915851898570043,
          3.2864160459106184,
          1.7394973699881466,
          0.8607088555854675,
          0.29291765434273404,
          0.0767980283743532,
          0.733451568445612,
          1.5035112023534485,
          1.5015354650944104,
          0.4059097433032018,
          1.0680825632157347,
          0.5419776346288856,
          11.445477186085093,
          1.0883328650475996,
          3.3646537312922877,
          8.386517783723313,
          11.370284488389524,
          0.42296089409739057,
          2.7711831028268556,
          1.6617935569064455,
          32.59510975214455,
          1.3601372093367752,
          1.748592722375537,
          1.0230731942979703,
          7.778991005644313,
          12.76065105080041,
          4.425379440149123,
          17.634069422399566,
          1.211325668076623,
          8.526088551121774,
          1.7459326214568458,
          1.5248852726432616,
          2.696131866290301,
          1.2690014917352241,
          12.184749804204346,
          1.0556211139181169,
          0.4807601040356993,
          2.005527945889245,
          0.5950358497741159,
          2.0828963619990124,
          -1.0763671704205147,
          0.8574490407512435,
          1.0463504822970942,
          0.3775727718378435,
          1.303971947731296,
          0.8546549921528825,
          0.7771784868431894,
          1.0674429478677712,
          7.444748899319301,
          2.100239832503508,
          2.5037884964891655
         ],
         "yaxis": "y",
         "type": "scatter"
        }
       ],
       "layout": {
        "template": {
         "data": {
          "bar": [
           {
            "error_x": {
             "color": "#2a3f5f"
            },
            "error_y": {
             "color": "#2a3f5f"
            },
            "marker": {
             "line": {
              "color": "#E5ECF6",
              "width": 0.5
             },
             "pattern": {
              "fillmode": "overlay",
              "size": 10,
              "solidity": 0.2
             }
            },
            "type": "bar"
           }
          ],
          "barpolar": [
           {
            "marker": {
             "line": {
              "color": "#E5ECF6",
              "width": 0.5
             },
             "pattern": {
              "fillmode": "overlay",
              "size": 10,
              "solidity": 0.2
             }
            },
            "type": "barpolar"
           }
          ],
          "carpet": [
           {
            "aaxis": {
             "endlinecolor": "#2a3f5f",
             "gridcolor": "white",
             "linecolor": "white",
             "minorgridcolor": "white",
             "startlinecolor": "#2a3f5f"
            },
            "baxis": {
             "endlinecolor": "#2a3f5f",
             "gridcolor": "white",
             "linecolor": "white",
             "minorgridcolor": "white",
             "startlinecolor": "#2a3f5f"
            },
            "type": "carpet"
           }
          ],
          "choropleth": [
           {
            "colorbar": {
             "outlinewidth": 0,
             "ticks": ""
            },
            "type": "choropleth"
           }
          ],
          "contour": [
           {
            "colorbar": {
             "outlinewidth": 0,
             "ticks": ""
            },
            "colorscale": [
             [
              0.0,
              "#0d0887"
             ],
             [
              0.1111111111111111,
              "#46039f"
             ],
             [
              0.2222222222222222,
              "#7201a8"
             ],
             [
              0.3333333333333333,
              "#9c179e"
             ],
             [
              0.4444444444444444,
              "#bd3786"
             ],
             [
              0.5555555555555556,
              "#d8576b"
             ],
             [
              0.6666666666666666,
              "#ed7953"
             ],
             [
              0.7777777777777778,
              "#fb9f3a"
             ],
             [
              0.8888888888888888,
              "#fdca26"
             ],
             [
              1.0,
              "#f0f921"
             ]
            ],
            "type": "contour"
           }
          ],
          "contourcarpet": [
           {
            "colorbar": {
             "outlinewidth": 0,
             "ticks": ""
            },
            "type": "contourcarpet"
           }
          ],
          "heatmap": [
           {
            "colorbar": {
             "outlinewidth": 0,
             "ticks": ""
            },
            "colorscale": [
             [
              0.0,
              "#0d0887"
             ],
             [
              0.1111111111111111,
              "#46039f"
             ],
             [
              0.2222222222222222,
              "#7201a8"
             ],
             [
              0.3333333333333333,
              "#9c179e"
             ],
             [
              0.4444444444444444,
              "#bd3786"
             ],
             [
              0.5555555555555556,
              "#d8576b"
             ],
             [
              0.6666666666666666,
              "#ed7953"
             ],
             [
              0.7777777777777778,
              "#fb9f3a"
             ],
             [
              0.8888888888888888,
              "#fdca26"
             ],
             [
              1.0,
              "#f0f921"
             ]
            ],
            "type": "heatmap"
           }
          ],
          "heatmapgl": [
           {
            "colorbar": {
             "outlinewidth": 0,
             "ticks": ""
            },
            "colorscale": [
             [
              0.0,
              "#0d0887"
             ],
             [
              0.1111111111111111,
              "#46039f"
             ],
             [
              0.2222222222222222,
              "#7201a8"
             ],
             [
              0.3333333333333333,
              "#9c179e"
             ],
             [
              0.4444444444444444,
              "#bd3786"
             ],
             [
              0.5555555555555556,
              "#d8576b"
             ],
             [
              0.6666666666666666,
              "#ed7953"
             ],
             [
              0.7777777777777778,
              "#fb9f3a"
             ],
             [
              0.8888888888888888,
              "#fdca26"
             ],
             [
              1.0,
              "#f0f921"
             ]
            ],
            "type": "heatmapgl"
           }
          ],
          "histogram": [
           {
            "marker": {
             "pattern": {
              "fillmode": "overlay",
              "size": 10,
              "solidity": 0.2
             }
            },
            "type": "histogram"
           }
          ],
          "histogram2d": [
           {
            "colorbar": {
             "outlinewidth": 0,
             "ticks": ""
            },
            "colorscale": [
             [
              0.0,
              "#0d0887"
             ],
             [
              0.1111111111111111,
              "#46039f"
             ],
             [
              0.2222222222222222,
              "#7201a8"
             ],
             [
              0.3333333333333333,
              "#9c179e"
             ],
             [
              0.4444444444444444,
              "#bd3786"
             ],
             [
              0.5555555555555556,
              "#d8576b"
             ],
             [
              0.6666666666666666,
              "#ed7953"
             ],
             [
              0.7777777777777778,
              "#fb9f3a"
             ],
             [
              0.8888888888888888,
              "#fdca26"
             ],
             [
              1.0,
              "#f0f921"
             ]
            ],
            "type": "histogram2d"
           }
          ],
          "histogram2dcontour": [
           {
            "colorbar": {
             "outlinewidth": 0,
             "ticks": ""
            },
            "colorscale": [
             [
              0.0,
              "#0d0887"
             ],
             [
              0.1111111111111111,
              "#46039f"
             ],
             [
              0.2222222222222222,
              "#7201a8"
             ],
             [
              0.3333333333333333,
              "#9c179e"
             ],
             [
              0.4444444444444444,
              "#bd3786"
             ],
             [
              0.5555555555555556,
              "#d8576b"
             ],
             [
              0.6666666666666666,
              "#ed7953"
             ],
             [
              0.7777777777777778,
              "#fb9f3a"
             ],
             [
              0.8888888888888888,
              "#fdca26"
             ],
             [
              1.0,
              "#f0f921"
             ]
            ],
            "type": "histogram2dcontour"
           }
          ],
          "mesh3d": [
           {
            "colorbar": {
             "outlinewidth": 0,
             "ticks": ""
            },
            "type": "mesh3d"
           }
          ],
          "parcoords": [
           {
            "line": {
             "colorbar": {
              "outlinewidth": 0,
              "ticks": ""
             }
            },
            "type": "parcoords"
           }
          ],
          "pie": [
           {
            "automargin": true,
            "type": "pie"
           }
          ],
          "scatter": [
           {
            "marker": {
             "colorbar": {
              "outlinewidth": 0,
              "ticks": ""
             }
            },
            "type": "scatter"
           }
          ],
          "scatter3d": [
           {
            "line": {
             "colorbar": {
              "outlinewidth": 0,
              "ticks": ""
             }
            },
            "marker": {
             "colorbar": {
              "outlinewidth": 0,
              "ticks": ""
             }
            },
            "type": "scatter3d"
           }
          ],
          "scattercarpet": [
           {
            "marker": {
             "colorbar": {
              "outlinewidth": 0,
              "ticks": ""
             }
            },
            "type": "scattercarpet"
           }
          ],
          "scattergeo": [
           {
            "marker": {
             "colorbar": {
              "outlinewidth": 0,
              "ticks": ""
             }
            },
            "type": "scattergeo"
           }
          ],
          "scattergl": [
           {
            "marker": {
             "colorbar": {
              "outlinewidth": 0,
              "ticks": ""
             }
            },
            "type": "scattergl"
           }
          ],
          "scattermapbox": [
           {
            "marker": {
             "colorbar": {
              "outlinewidth": 0,
              "ticks": ""
             }
            },
            "type": "scattermapbox"
           }
          ],
          "scatterpolar": [
           {
            "marker": {
             "colorbar": {
              "outlinewidth": 0,
              "ticks": ""
             }
            },
            "type": "scatterpolar"
           }
          ],
          "scatterpolargl": [
           {
            "marker": {
             "colorbar": {
              "outlinewidth": 0,
              "ticks": ""
             }
            },
            "type": "scatterpolargl"
           }
          ],
          "scatterternary": [
           {
            "marker": {
             "colorbar": {
              "outlinewidth": 0,
              "ticks": ""
             }
            },
            "type": "scatterternary"
           }
          ],
          "surface": [
           {
            "colorbar": {
             "outlinewidth": 0,
             "ticks": ""
            },
            "colorscale": [
             [
              0.0,
              "#0d0887"
             ],
             [
              0.1111111111111111,
              "#46039f"
             ],
             [
              0.2222222222222222,
              "#7201a8"
             ],
             [
              0.3333333333333333,
              "#9c179e"
             ],
             [
              0.4444444444444444,
              "#bd3786"
             ],
             [
              0.5555555555555556,
              "#d8576b"
             ],
             [
              0.6666666666666666,
              "#ed7953"
             ],
             [
              0.7777777777777778,
              "#fb9f3a"
             ],
             [
              0.8888888888888888,
              "#fdca26"
             ],
             [
              1.0,
              "#f0f921"
             ]
            ],
            "type": "surface"
           }
          ],
          "table": [
           {
            "cells": {
             "fill": {
              "color": "#EBF0F8"
             },
             "line": {
              "color": "white"
             }
            },
            "header": {
             "fill": {
              "color": "#C8D4E3"
             },
             "line": {
              "color": "white"
             }
            },
            "type": "table"
           }
          ]
         },
         "layout": {
          "annotationdefaults": {
           "arrowcolor": "#2a3f5f",
           "arrowhead": 0,
           "arrowwidth": 1
          },
          "autotypenumbers": "strict",
          "coloraxis": {
           "colorbar": {
            "outlinewidth": 0,
            "ticks": ""
           }
          },
          "colorscale": {
           "diverging": [
            [
             0,
             "#8e0152"
            ],
            [
             0.1,
             "#c51b7d"
            ],
            [
             0.2,
             "#de77ae"
            ],
            [
             0.3,
             "#f1b6da"
            ],
            [
             0.4,
             "#fde0ef"
            ],
            [
             0.5,
             "#f7f7f7"
            ],
            [
             0.6,
             "#e6f5d0"
            ],
            [
             0.7,
             "#b8e186"
            ],
            [
             0.8,
             "#7fbc41"
            ],
            [
             0.9,
             "#4d9221"
            ],
            [
             1,
             "#276419"
            ]
           ],
           "sequential": [
            [
             0.0,
             "#0d0887"
            ],
            [
             0.1111111111111111,
             "#46039f"
            ],
            [
             0.2222222222222222,
             "#7201a8"
            ],
            [
             0.3333333333333333,
             "#9c179e"
            ],
            [
             0.4444444444444444,
             "#bd3786"
            ],
            [
             0.5555555555555556,
             "#d8576b"
            ],
            [
             0.6666666666666666,
             "#ed7953"
            ],
            [
             0.7777777777777778,
             "#fb9f3a"
            ],
            [
             0.8888888888888888,
             "#fdca26"
            ],
            [
             1.0,
             "#f0f921"
            ]
           ],
           "sequentialminus": [
            [
             0.0,
             "#0d0887"
            ],
            [
             0.1111111111111111,
             "#46039f"
            ],
            [
             0.2222222222222222,
             "#7201a8"
            ],
            [
             0.3333333333333333,
             "#9c179e"
            ],
            [
             0.4444444444444444,
             "#bd3786"
            ],
            [
             0.5555555555555556,
             "#d8576b"
            ],
            [
             0.6666666666666666,
             "#ed7953"
            ],
            [
             0.7777777777777778,
             "#fb9f3a"
            ],
            [
             0.8888888888888888,
             "#fdca26"
            ],
            [
             1.0,
             "#f0f921"
            ]
           ]
          },
          "colorway": [
           "#636efa",
           "#EF553B",
           "#00cc96",
           "#ab63fa",
           "#FFA15A",
           "#19d3f3",
           "#FF6692",
           "#B6E880",
           "#FF97FF",
           "#FECB52"
          ],
          "font": {
           "color": "#2a3f5f"
          },
          "geo": {
           "bgcolor": "white",
           "lakecolor": "white",
           "landcolor": "#E5ECF6",
           "showlakes": true,
           "showland": true,
           "subunitcolor": "white"
          },
          "hoverlabel": {
           "align": "left"
          },
          "hovermode": "closest",
          "mapbox": {
           "style": "light"
          },
          "paper_bgcolor": "white",
          "plot_bgcolor": "#E5ECF6",
          "polar": {
           "angularaxis": {
            "gridcolor": "white",
            "linecolor": "white",
            "ticks": ""
           },
           "bgcolor": "#E5ECF6",
           "radialaxis": {
            "gridcolor": "white",
            "linecolor": "white",
            "ticks": ""
           }
          },
          "scene": {
           "xaxis": {
            "backgroundcolor": "#E5ECF6",
            "gridcolor": "white",
            "gridwidth": 2,
            "linecolor": "white",
            "showbackground": true,
            "ticks": "",
            "zerolinecolor": "white"
           },
           "yaxis": {
            "backgroundcolor": "#E5ECF6",
            "gridcolor": "white",
            "gridwidth": 2,
            "linecolor": "white",
            "showbackground": true,
            "ticks": "",
            "zerolinecolor": "white"
           },
           "zaxis": {
            "backgroundcolor": "#E5ECF6",
            "gridcolor": "white",
            "gridwidth": 2,
            "linecolor": "white",
            "showbackground": true,
            "ticks": "",
            "zerolinecolor": "white"
           }
          },
          "shapedefaults": {
           "line": {
            "color": "#2a3f5f"
           }
          },
          "ternary": {
           "aaxis": {
            "gridcolor": "white",
            "linecolor": "white",
            "ticks": ""
           },
           "baxis": {
            "gridcolor": "white",
            "linecolor": "white",
            "ticks": ""
           },
           "bgcolor": "#E5ECF6",
           "caxis": {
            "gridcolor": "white",
            "linecolor": "white",
            "ticks": ""
           }
          },
          "title": {
           "x": 0.05
          },
          "xaxis": {
           "automargin": true,
           "gridcolor": "white",
           "linecolor": "white",
           "ticks": "",
           "title": {
            "standoff": 15
           },
           "zerolinecolor": "white",
           "zerolinewidth": 2
          },
          "yaxis": {
           "automargin": true,
           "gridcolor": "white",
           "linecolor": "white",
           "ticks": "",
           "title": {
            "standoff": 15
           },
           "zerolinecolor": "white",
           "zerolinewidth": 2
          }
         }
        },
        "xaxis": {
         "anchor": "y",
         "domain": [
          0.0,
          1.0
         ],
         "title": {
          "text": "Time"
         }
        },
        "yaxis": {
         "anchor": "x",
         "domain": [
          0.0,
          1.0
         ],
         "title": {
          "text": "Average retweet count"
         }
        },
        "legend": {
         "title": {
          "text": "type"
         },
         "tracegroupgap": 0
        },
        "title": {
         "text": "Predictions of topic retweet count average for 2021 with MAE:3.561"
        },
        "height": 500,
        "width": 900
       },
       "config": {
        "plotlyServerURL": "https://plot.ly"
       }
      },
      "text/html": "<div>                            <div id=\"642aeae8-cb46-433e-9509-fc00728c4b68\" class=\"plotly-graph-div\" style=\"height:500px; width:900px;\"></div>            <script type=\"text/javascript\">                require([\"plotly\"], function(Plotly) {                    window.PLOTLYENV=window.PLOTLYENV || {};                                    if (document.getElementById(\"642aeae8-cb46-433e-9509-fc00728c4b68\")) {                    Plotly.newPlot(                        \"642aeae8-cb46-433e-9509-fc00728c4b68\",                        [{\"hovertemplate\":\"type=real<br>timestamp=%{x}<br>value=%{y}<extra></extra>\",\"legendgroup\":\"real\",\"line\":{\"color\":\"rgb(136, 204, 238)\",\"dash\":\"solid\"},\"marker\":{\"symbol\":\"circle\"},\"mode\":\"lines\",\"name\":\"real\",\"orientation\":\"v\",\"showlegend\":true,\"x\":[\"2021-01-01T00:00:00+00:00\",\"2021-01-02T00:00:00+00:00\",\"2021-01-03T00:00:00+00:00\",\"2021-01-04T00:00:00+00:00\",\"2021-01-05T00:00:00+00:00\",\"2021-01-06T00:00:00+00:00\",\"2021-01-07T00:00:00+00:00\",\"2021-01-08T00:00:00+00:00\",\"2021-01-09T00:00:00+00:00\",\"2021-01-10T00:00:00+00:00\",\"2021-01-11T00:00:00+00:00\",\"2021-01-12T00:00:00+00:00\",\"2021-01-13T00:00:00+00:00\",\"2021-01-14T00:00:00+00:00\",\"2021-01-15T00:00:00+00:00\",\"2021-01-16T00:00:00+00:00\",\"2021-01-17T00:00:00+00:00\",\"2021-01-18T00:00:00+00:00\",\"2021-01-19T00:00:00+00:00\",\"2021-01-20T00:00:00+00:00\",\"2021-01-21T00:00:00+00:00\",\"2021-01-22T00:00:00+00:00\",\"2021-01-23T00:00:00+00:00\",\"2021-01-24T00:00:00+00:00\",\"2021-01-25T00:00:00+00:00\",\"2021-01-26T00:00:00+00:00\",\"2021-01-27T00:00:00+00:00\",\"2021-01-28T00:00:00+00:00\",\"2021-01-29T00:00:00+00:00\",\"2021-01-30T00:00:00+00:00\",\"2021-01-31T00:00:00+00:00\",\"2021-02-01T00:00:00+00:00\",\"2021-02-02T00:00:00+00:00\",\"2021-02-03T00:00:00+00:00\",\"2021-02-04T00:00:00+00:00\",\"2021-02-05T00:00:00+00:00\",\"2021-02-06T00:00:00+00:00\",\"2021-02-07T00:00:00+00:00\",\"2021-02-08T00:00:00+00:00\",\"2021-02-09T00:00:00+00:00\",\"2021-02-10T00:00:00+00:00\",\"2021-02-11T00:00:00+00:00\",\"2021-02-12T00:00:00+00:00\",\"2021-02-13T00:00:00+00:00\",\"2021-02-14T00:00:00+00:00\",\"2021-02-15T00:00:00+00:00\",\"2021-02-16T00:00:00+00:00\",\"2021-02-17T00:00:00+00:00\",\"2021-02-18T00:00:00+00:00\",\"2021-02-19T00:00:00+00:00\",\"2021-02-20T00:00:00+00:00\",\"2021-02-21T00:00:00+00:00\",\"2021-02-22T00:00:00+00:00\",\"2021-02-23T00:00:00+00:00\",\"2021-02-24T00:00:00+00:00\",\"2021-02-25T00:00:00+00:00\",\"2021-02-26T00:00:00+00:00\",\"2021-02-27T00:00:00+00:00\",\"2021-02-28T00:00:00+00:00\",\"2021-03-01T00:00:00+00:00\",\"2021-03-02T00:00:00+00:00\",\"2021-03-03T00:00:00+00:00\",\"2021-03-04T00:00:00+00:00\",\"2021-03-05T00:00:00+00:00\",\"2021-03-06T00:00:00+00:00\",\"2021-03-07T00:00:00+00:00\",\"2021-03-08T00:00:00+00:00\",\"2021-03-09T00:00:00+00:00\",\"2021-03-10T00:00:00+00:00\",\"2021-03-11T00:00:00+00:00\",\"2021-03-12T00:00:00+00:00\",\"2021-03-13T00:00:00+00:00\",\"2021-03-14T00:00:00+00:00\",\"2021-03-15T00:00:00+00:00\",\"2021-03-16T00:00:00+00:00\",\"2021-03-17T00:00:00+00:00\",\"2021-03-18T00:00:00+00:00\",\"2021-03-19T00:00:00+00:00\",\"2021-03-20T00:00:00+00:00\",\"2021-03-21T00:00:00+00:00\",\"2021-03-22T00:00:00+00:00\",\"2021-03-23T00:00:00+00:00\",\"2021-03-24T00:00:00+00:00\",\"2021-03-25T00:00:00+00:00\",\"2021-03-26T00:00:00+00:00\",\"2021-03-27T00:00:00+00:00\",\"2021-03-28T00:00:00+00:00\",\"2021-03-29T00:00:00+00:00\",\"2021-03-30T00:00:00+00:00\",\"2021-03-31T00:00:00+00:00\",\"2021-04-01T00:00:00+00:00\",\"2021-04-02T00:00:00+00:00\",\"2021-04-03T00:00:00+00:00\",\"2021-04-04T00:00:00+00:00\",\"2021-04-05T00:00:00+00:00\",\"2021-04-06T00:00:00+00:00\",\"2021-04-07T00:00:00+00:00\",\"2021-04-08T00:00:00+00:00\",\"2021-04-09T00:00:00+00:00\",\"2021-04-10T00:00:00+00:00\",\"2021-04-11T00:00:00+00:00\",\"2021-04-12T00:00:00+00:00\",\"2021-04-13T00:00:00+00:00\",\"2021-04-14T00:00:00+00:00\",\"2021-04-15T00:00:00+00:00\",\"2021-04-16T00:00:00+00:00\",\"2021-04-17T00:00:00+00:00\",\"2021-04-18T00:00:00+00:00\",\"2021-04-19T00:00:00+00:00\",\"2021-04-20T00:00:00+00:00\",\"2021-04-21T00:00:00+00:00\",\"2021-04-22T00:00:00+00:00\",\"2021-04-23T00:00:00+00:00\",\"2021-04-24T00:00:00+00:00\",\"2021-04-25T00:00:00+00:00\",\"2021-04-26T00:00:00+00:00\",\"2021-04-27T00:00:00+00:00\",\"2021-04-28T00:00:00+00:00\",\"2021-04-29T00:00:00+00:00\",\"2021-04-30T00:00:00+00:00\",\"2021-05-01T00:00:00+00:00\",\"2021-05-02T00:00:00+00:00\",\"2021-05-03T00:00:00+00:00\",\"2021-05-04T00:00:00+00:00\",\"2021-05-05T00:00:00+00:00\",\"2021-05-06T00:00:00+00:00\",\"2021-05-07T00:00:00+00:00\",\"2021-05-08T00:00:00+00:00\",\"2021-05-09T00:00:00+00:00\",\"2021-05-10T00:00:00+00:00\",\"2021-05-11T00:00:00+00:00\",\"2021-05-12T00:00:00+00:00\",\"2021-05-13T00:00:00+00:00\",\"2021-05-14T00:00:00+00:00\",\"2021-05-15T00:00:00+00:00\",\"2021-05-16T00:00:00+00:00\",\"2021-05-17T00:00:00+00:00\",\"2021-05-18T00:00:00+00:00\",\"2021-05-19T00:00:00+00:00\",\"2021-05-20T00:00:00+00:00\",\"2021-05-21T00:00:00+00:00\",\"2021-05-22T00:00:00+00:00\",\"2021-05-23T00:00:00+00:00\",\"2021-05-24T00:00:00+00:00\",\"2021-05-25T00:00:00+00:00\",\"2021-05-26T00:00:00+00:00\",\"2021-05-27T00:00:00+00:00\",\"2021-05-28T00:00:00+00:00\",\"2021-05-29T00:00:00+00:00\",\"2021-05-30T00:00:00+00:00\",\"2021-05-31T00:00:00+00:00\",\"2021-06-01T00:00:00+00:00\",\"2021-06-02T00:00:00+00:00\",\"2021-06-03T00:00:00+00:00\",\"2021-06-04T00:00:00+00:00\",\"2021-06-05T00:00:00+00:00\",\"2021-06-06T00:00:00+00:00\",\"2021-06-07T00:00:00+00:00\",\"2021-06-08T00:00:00+00:00\",\"2021-06-09T00:00:00+00:00\",\"2021-06-10T00:00:00+00:00\",\"2021-06-11T00:00:00+00:00\",\"2021-06-12T00:00:00+00:00\",\"2021-06-13T00:00:00+00:00\",\"2021-06-14T00:00:00+00:00\",\"2021-06-15T00:00:00+00:00\",\"2021-06-16T00:00:00+00:00\",\"2021-06-17T00:00:00+00:00\",\"2021-06-18T00:00:00+00:00\",\"2021-06-19T00:00:00+00:00\",\"2021-06-20T00:00:00+00:00\",\"2021-06-21T00:00:00+00:00\",\"2021-06-22T00:00:00+00:00\",\"2021-06-23T00:00:00+00:00\",\"2021-06-24T00:00:00+00:00\",\"2021-06-25T00:00:00+00:00\",\"2021-06-26T00:00:00+00:00\",\"2021-06-27T00:00:00+00:00\",\"2021-06-28T00:00:00+00:00\",\"2021-06-29T00:00:00+00:00\",\"2021-06-30T00:00:00+00:00\",\"2021-07-01T00:00:00+00:00\",\"2021-07-02T00:00:00+00:00\",\"2021-07-03T00:00:00+00:00\",\"2021-07-04T00:00:00+00:00\",\"2021-07-05T00:00:00+00:00\",\"2021-07-06T00:00:00+00:00\",\"2021-07-07T00:00:00+00:00\",\"2021-07-08T00:00:00+00:00\",\"2021-07-09T00:00:00+00:00\",\"2021-07-10T00:00:00+00:00\",\"2021-07-11T00:00:00+00:00\",\"2021-07-12T00:00:00+00:00\",\"2021-07-13T00:00:00+00:00\",\"2021-07-14T00:00:00+00:00\",\"2021-07-15T00:00:00+00:00\",\"2021-07-16T00:00:00+00:00\",\"2021-07-17T00:00:00+00:00\",\"2021-07-18T00:00:00+00:00\",\"2021-07-19T00:00:00+00:00\",\"2021-07-20T00:00:00+00:00\",\"2021-07-21T00:00:00+00:00\",\"2021-07-22T00:00:00+00:00\",\"2021-07-23T00:00:00+00:00\",\"2021-07-24T00:00:00+00:00\",\"2021-07-25T00:00:00+00:00\",\"2021-07-26T00:00:00+00:00\",\"2021-07-27T00:00:00+00:00\",\"2021-07-28T00:00:00+00:00\",\"2021-07-29T00:00:00+00:00\",\"2021-07-30T00:00:00+00:00\",\"2021-07-31T00:00:00+00:00\",\"2021-08-01T00:00:00+00:00\",\"2021-08-02T00:00:00+00:00\",\"2021-08-03T00:00:00+00:00\",\"2021-08-04T00:00:00+00:00\",\"2021-08-05T00:00:00+00:00\",\"2021-08-06T00:00:00+00:00\",\"2021-08-07T00:00:00+00:00\",\"2021-08-08T00:00:00+00:00\",\"2021-08-09T00:00:00+00:00\",\"2021-08-10T00:00:00+00:00\",\"2021-08-11T00:00:00+00:00\",\"2021-08-12T00:00:00+00:00\",\"2021-08-13T00:00:00+00:00\",\"2021-08-14T00:00:00+00:00\",\"2021-08-15T00:00:00+00:00\",\"2021-08-16T00:00:00+00:00\",\"2021-08-17T00:00:00+00:00\",\"2021-08-18T00:00:00+00:00\",\"2021-08-19T00:00:00+00:00\",\"2021-08-20T00:00:00+00:00\",\"2021-08-21T00:00:00+00:00\",\"2021-08-22T00:00:00+00:00\",\"2021-08-23T00:00:00+00:00\",\"2021-08-24T00:00:00+00:00\",\"2021-08-25T00:00:00+00:00\",\"2021-08-26T00:00:00+00:00\",\"2021-08-27T00:00:00+00:00\",\"2021-08-28T00:00:00+00:00\",\"2021-08-29T00:00:00+00:00\",\"2021-08-30T00:00:00+00:00\",\"2021-08-31T00:00:00+00:00\",\"2021-09-01T00:00:00+00:00\",\"2021-09-02T00:00:00+00:00\",\"2021-09-03T00:00:00+00:00\",\"2021-09-04T00:00:00+00:00\",\"2021-09-05T00:00:00+00:00\",\"2021-09-06T00:00:00+00:00\",\"2021-09-07T00:00:00+00:00\",\"2021-09-08T00:00:00+00:00\",\"2021-09-09T00:00:00+00:00\",\"2021-09-10T00:00:00+00:00\",\"2021-09-11T00:00:00+00:00\",\"2021-09-12T00:00:00+00:00\",\"2021-09-13T00:00:00+00:00\",\"2021-09-14T00:00:00+00:00\",\"2021-09-15T00:00:00+00:00\",\"2021-09-16T00:00:00+00:00\",\"2021-09-17T00:00:00+00:00\",\"2021-09-18T00:00:00+00:00\",\"2021-09-19T00:00:00+00:00\",\"2021-09-20T00:00:00+00:00\",\"2021-09-21T00:00:00+00:00\",\"2021-09-22T00:00:00+00:00\",\"2021-09-23T00:00:00+00:00\",\"2021-09-24T00:00:00+00:00\",\"2021-09-25T00:00:00+00:00\",\"2021-09-26T00:00:00+00:00\",\"2021-09-27T00:00:00+00:00\",\"2021-09-28T00:00:00+00:00\",\"2021-09-29T00:00:00+00:00\",\"2021-09-30T00:00:00+00:00\",\"2021-10-01T00:00:00+00:00\",\"2021-10-02T00:00:00+00:00\",\"2021-10-03T00:00:00+00:00\",\"2021-10-04T00:00:00+00:00\",\"2021-10-05T00:00:00+00:00\",\"2021-10-06T00:00:00+00:00\",\"2021-10-07T00:00:00+00:00\",\"2021-10-08T00:00:00+00:00\",\"2021-10-09T00:00:00+00:00\",\"2021-10-10T00:00:00+00:00\",\"2021-10-11T00:00:00+00:00\",\"2021-10-12T00:00:00+00:00\",\"2021-10-13T00:00:00+00:00\",\"2021-10-14T00:00:00+00:00\",\"2021-10-15T00:00:00+00:00\",\"2021-10-16T00:00:00+00:00\",\"2021-10-17T00:00:00+00:00\",\"2021-10-18T00:00:00+00:00\",\"2021-10-19T00:00:00+00:00\",\"2021-10-20T00:00:00+00:00\",\"2021-10-21T00:00:00+00:00\",\"2021-10-22T00:00:00+00:00\",\"2021-10-23T00:00:00+00:00\",\"2021-10-24T00:00:00+00:00\",\"2021-10-25T00:00:00+00:00\",\"2021-10-26T00:00:00+00:00\",\"2021-10-27T00:00:00+00:00\",\"2021-10-28T00:00:00+00:00\",\"2021-10-29T00:00:00+00:00\",\"2021-10-30T00:00:00+00:00\",\"2021-10-31T00:00:00+00:00\",\"2021-11-01T00:00:00+00:00\",\"2021-11-02T00:00:00+00:00\",\"2021-11-03T00:00:00+00:00\",\"2021-11-04T00:00:00+00:00\",\"2021-11-05T00:00:00+00:00\",\"2021-11-06T00:00:00+00:00\",\"2021-11-07T00:00:00+00:00\",\"2021-11-08T00:00:00+00:00\",\"2021-11-09T00:00:00+00:00\",\"2021-11-10T00:00:00+00:00\",\"2021-11-11T00:00:00+00:00\",\"2021-11-12T00:00:00+00:00\",\"2021-11-13T00:00:00+00:00\",\"2021-11-14T00:00:00+00:00\",\"2021-11-15T00:00:00+00:00\",\"2021-11-16T00:00:00+00:00\",\"2021-11-17T00:00:00+00:00\",\"2021-11-18T00:00:00+00:00\",\"2021-11-19T00:00:00+00:00\",\"2021-11-20T00:00:00+00:00\",\"2021-11-21T00:00:00+00:00\",\"2021-11-22T00:00:00+00:00\",\"2021-11-23T00:00:00+00:00\",\"2021-11-24T00:00:00+00:00\",\"2021-11-25T00:00:00+00:00\",\"2021-11-26T00:00:00+00:00\",\"2021-11-27T00:00:00+00:00\",\"2021-11-28T00:00:00+00:00\",\"2021-11-29T00:00:00+00:00\",\"2021-11-30T00:00:00+00:00\",\"2021-12-01T00:00:00+00:00\",\"2021-12-02T00:00:00+00:00\",\"2021-12-03T00:00:00+00:00\",\"2021-12-04T00:00:00+00:00\",\"2021-12-05T00:00:00+00:00\",\"2021-12-06T00:00:00+00:00\",\"2021-12-07T00:00:00+00:00\",\"2021-12-08T00:00:00+00:00\",\"2021-12-09T00:00:00+00:00\",\"2021-12-10T00:00:00+00:00\",\"2021-12-11T00:00:00+00:00\",\"2021-12-12T00:00:00+00:00\",\"2021-12-13T00:00:00+00:00\",\"2021-12-14T00:00:00+00:00\",\"2021-12-15T00:00:00+00:00\",\"2021-12-16T00:00:00+00:00\",\"2021-12-17T00:00:00+00:00\",\"2021-12-18T00:00:00+00:00\",\"2021-12-19T00:00:00+00:00\",\"2021-12-20T00:00:00+00:00\",\"2021-12-21T00:00:00+00:00\",\"2021-12-22T00:00:00+00:00\",\"2021-12-23T00:00:00+00:00\",\"2021-12-24T00:00:00+00:00\",\"2021-12-25T00:00:00+00:00\",\"2021-12-26T00:00:00+00:00\",\"2021-12-27T00:00:00+00:00\",\"2021-12-28T00:00:00+00:00\",\"2021-12-29T00:00:00+00:00\",\"2021-12-30T00:00:00+00:00\",\"2021-12-31T00:00:00+00:00\"],\"xaxis\":\"x\",\"y\":[0.47692307692307695,1.043010752688172,0.4,8.436974789915967,0.36507936507936506,0.7165354330708661,1.1237785016286646,0.5990783410138248,0.375,1.9617834394904459,1.1363636363636365,0.84,1.005128205128205,0.2484472049689441,0.3153846153846154,0.4188034188034188,1.368,0.46875,0.3258426966292135,0.3484848484848485,1.3959390862944163,5.067073170731708,0.44525547445255476,0.33884297520661155,0.18705035971223022,4.427536231884058,0.6814814814814815,4.279569892473118,1.2777777777777777,0.20987654320987653,0.5789473684210527,0.3402061855670103,1.3636363636363635,0.5188679245283019,0.6666666666666666,0.6581196581196581,0.35185185185185186,1.9684210526315788,0.3382352941176471,0.7522935779816514,0.22413793103448276,0.36752136752136755,0.5867768595041323,1.0888888888888888,0.2831858407079646,0.375,0.5465116279069767,0.3695652173913043,1.404040404040404,0.4,1.797752808988764,1.8,3.5046728971962615,0.36363636363636365,1.1020408163265305,0.4367816091954023,0.5157894736842106,0.37681159420289856,1.5,1.7191011235955056,0.3157894736842105,3.989130434782609,0.5925925925925926,2.0721649484536084,1.1647058823529413,0.3492063492063492,1.5975609756097562,1.7924528301886793,2.9,0.5813953488372093,0.7008547008547008,0.463768115942029,22.59259259259259,0.23711340206185566,1.0,0.7808219178082192,1.0297029702970297,0.9090909090909091,0.9166666666666666,1.626865671641791,3.85,0.33766233766233766,2.9166666666666665,0.391304347826087,0.7159090909090909,0.20253164556962025,0.2028985507246377,0.7619047619047619,0.40229885057471265,0.5851063829787234,1.8170731707317074,0.68,0.3181818181818182,0.22916666666666666,0.2835820895522388,0.7738095238095238,0.7534246575342466,0.18666666666666668,1.8617886178861789,24.378048780487806,0.5396825396825397,1.3733333333333333,0.5675675675675675,3.0617283950617282,0.5625,1.3186813186813187,0.9058823529411765,1.45,0.2875,1.9074074074074074,6.675,0.1794871794871795,0.2465753424657534,0.6268656716417911,1.7702702702702702,1.619047619047619,0.5789473684210527,0.75,0.1590909090909091,0.4166666666666667,2.1875,0.5254237288135594,0.36764705882352944,8.19277108433735,0.3424657534246575,0.32051282051282054,0.25,1.0377358490566038,0.18867924528301888,0.6274509803921569,0.3684210526315789,2.0,1.9090909090909092,1.5897435897435896,0.45454545454545453,0.4117647058823529,0.9322033898305084,0.8395061728395061,1.0705882352941176,0.24242424242424243,0.44871794871794873,1.4776119402985075,0.8653846153846154,0.49382716049382713,2.956043956043956,0.7096774193548387,0.8214285714285714,0.25882352941176473,0.18181818181818182,0.48214285714285715,0.5777777777777777,0.25,4.661290322580645,0.4117647058823529,0.7368421052631579,6.807017543859649,1.0972222222222223,0.9367088607594937,0.3717948717948718,1.4705882352941178,0.7272727272727273,1.2906976744186047,3.183098591549296,0.640625,0.4864864864864865,0.26153846153846155,1.8108108108108107,0.4603174603174603,1.0886075949367089,0.55,0.5238095238095238,0.46153846153846156,9.342465753424657,0.7777777777777778,0.5779816513761468,1.0705882352941176,1.4576271186440677,0.35443037974683544,0.3380281690140845,0.9722222222222222,0.5612244897959183,0.6095238095238096,0.9859154929577465,2.6666666666666665,1.0655737704918034,2.625,0.8769230769230769,1.1846153846153846,1.1728395061728396,0.8229166666666666,1.0,0.36923076923076925,0.2236842105263158,0.5180722891566265,0.5315315315315315,0.9012345679012346,0.5168539325842697,0.22950819672131148,7.016949152542373,1.7466666666666666,2.4727272727272727,0.26506024096385544,0.49382716049382713,0.21794871794871795,1.0533333333333332,0.6231884057971014,0.3382352941176471,0.573170731707317,0.6355140186915887,0.7407407407407407,2.064516129032258,1.4175824175824177,1.6029411764705883,0.6119402985074627,0.7922077922077922,0.2828282828282828,7.0,0.4716981132075472,0.6527777777777778,0.38235294117647056,1.6,0.4642857142857143,1.0864197530864197,0.7816091954022989,0.654320987654321,20.323076923076922,31.94871794871795,1.8295454545454546,0.5729166666666666,2.686046511627907,1.9545454545454546,1.6634615384615385,0.7945205479452054,1.3766233766233766,0.675,1.1333333333333333,0.3595505617977528,0.7065217391304348,8.409638554216867,0.9375,0.28888888888888886,1.835164835164835,1.3660714285714286,0.35353535353535354,1.6601941747572815,2.780141843971631,0.984375,3.0606060606060606,1.5813953488372092,0.6133333333333333,1.5151515151515151,0.41304347826086957,0.5510204081632653,0.31666666666666665,0.9508196721311475,0.3888888888888889,0.29850746268656714,27.8,0.5473684210526316,1.035294117647059,0.46774193548387094,0.2857142857142857,1.1022727272727273,24.294871794871796,0.3076923076923077,1.0810810810810811,1.4594594594594594,5.688524590163935,3.3943661971830985,0.5333333333333333,1.7567567567567568,0.5061728395061729,0.4069767441860465,0.14864864864864866,1.1764705882352942,0.4406779661016949,0.32857142857142857,1.103896103896104,0.36486486486486486,1.2352941176470589,0.1566265060240964,1.0,1.0517241379310345,0.410958904109589,1.904109589041096,13.125,3.4886363636363638,0.425531914893617,15.121212121212121,0.6486486486486487,0.6823529411764706,16.1046511627907,1.075268817204301,0.8904109589041096,0.5436893203883495,1.721311475409836,0.3888888888888889,0.7922077922077922,0.7419354838709677,2.282051282051282,1.3229166666666667,27.83783783783784,0.8,0.5957446808510638,0.5,0.6463414634146342,1.5473684210526315,7.114285714285714,4.818181818181818,0.1686746987951807,1.1794871794871795,3.1125,1.4642857142857142,0.23333333333333334,1.9019607843137254,2.5436893203883497,1.5789473684210527,0.8088235294117647,0.8431372549019608,3.044943820224719,0.23809523809523808,1.5393258426966292,12.60377358490566,3.7162162162162162,0.2459016393442623,1.5857142857142856,1.302325581395349,0.6197183098591549,2.0,6.916666666666667,0.546875,1.8059701492537314,1.1041666666666667,0.18478260869565216,0.7078651685393258,0.3157894736842105,0.4791666666666667,0.3918918918918919,0.68,1.876543209876543,0.625,1.3048780487804879,0.6707317073170732,0.6095238095238096,1.6582278481012658,0.6847826086956522,1.3465346534653466,1.8979591836734695,42.4367816091954,0.2358490566037736,0.5232558139534884,1.7777777777777777,0.3424657534246575,21.255555555555556,0.6707317073170732,0.5263157894736842,0.3411764705882353,0.8505747126436781,1.1265822784810127,0.42592592592592593,0.25396825396825395,0.5616438356164384,0.6027397260273972,1.3896103896103895,0.5189873417721519],\"yaxis\":\"y\",\"type\":\"scatter\"},{\"hovertemplate\":\"type=prediction<br>timestamp=%{x}<br>value=%{y}<extra></extra>\",\"legendgroup\":\"prediction\",\"line\":{\"color\":\"rgb(204, 102, 119)\",\"dash\":\"solid\"},\"marker\":{\"symbol\":\"circle\"},\"mode\":\"lines\",\"name\":\"prediction\",\"orientation\":\"v\",\"showlegend\":true,\"x\":[\"2021-01-01T00:00:00+00:00\",\"2021-01-02T00:00:00+00:00\",\"2021-01-03T00:00:00+00:00\",\"2021-01-04T00:00:00+00:00\",\"2021-01-05T00:00:00+00:00\",\"2021-01-06T00:00:00+00:00\",\"2021-01-07T00:00:00+00:00\",\"2021-01-08T00:00:00+00:00\",\"2021-01-09T00:00:00+00:00\",\"2021-01-10T00:00:00+00:00\",\"2021-01-11T00:00:00+00:00\",\"2021-01-12T00:00:00+00:00\",\"2021-01-13T00:00:00+00:00\",\"2021-01-14T00:00:00+00:00\",\"2021-01-15T00:00:00+00:00\",\"2021-01-16T00:00:00+00:00\",\"2021-01-17T00:00:00+00:00\",\"2021-01-18T00:00:00+00:00\",\"2021-01-19T00:00:00+00:00\",\"2021-01-20T00:00:00+00:00\",\"2021-01-21T00:00:00+00:00\",\"2021-01-22T00:00:00+00:00\",\"2021-01-23T00:00:00+00:00\",\"2021-01-24T00:00:00+00:00\",\"2021-01-25T00:00:00+00:00\",\"2021-01-26T00:00:00+00:00\",\"2021-01-27T00:00:00+00:00\",\"2021-01-28T00:00:00+00:00\",\"2021-01-29T00:00:00+00:00\",\"2021-01-30T00:00:00+00:00\",\"2021-01-31T00:00:00+00:00\",\"2021-02-01T00:00:00+00:00\",\"2021-02-02T00:00:00+00:00\",\"2021-02-03T00:00:00+00:00\",\"2021-02-04T00:00:00+00:00\",\"2021-02-05T00:00:00+00:00\",\"2021-02-06T00:00:00+00:00\",\"2021-02-07T00:00:00+00:00\",\"2021-02-08T00:00:00+00:00\",\"2021-02-09T00:00:00+00:00\",\"2021-02-10T00:00:00+00:00\",\"2021-02-11T00:00:00+00:00\",\"2021-02-12T00:00:00+00:00\",\"2021-02-13T00:00:00+00:00\",\"2021-02-14T00:00:00+00:00\",\"2021-02-15T00:00:00+00:00\",\"2021-02-16T00:00:00+00:00\",\"2021-02-17T00:00:00+00:00\",\"2021-02-18T00:00:00+00:00\",\"2021-02-19T00:00:00+00:00\",\"2021-02-20T00:00:00+00:00\",\"2021-02-21T00:00:00+00:00\",\"2021-02-22T00:00:00+00:00\",\"2021-02-23T00:00:00+00:00\",\"2021-02-24T00:00:00+00:00\",\"2021-02-25T00:00:00+00:00\",\"2021-02-26T00:00:00+00:00\",\"2021-02-27T00:00:00+00:00\",\"2021-02-28T00:00:00+00:00\",\"2021-03-01T00:00:00+00:00\",\"2021-03-02T00:00:00+00:00\",\"2021-03-03T00:00:00+00:00\",\"2021-03-04T00:00:00+00:00\",\"2021-03-05T00:00:00+00:00\",\"2021-03-06T00:00:00+00:00\",\"2021-03-07T00:00:00+00:00\",\"2021-03-08T00:00:00+00:00\",\"2021-03-09T00:00:00+00:00\",\"2021-03-10T00:00:00+00:00\",\"2021-03-11T00:00:00+00:00\",\"2021-03-12T00:00:00+00:00\",\"2021-03-13T00:00:00+00:00\",\"2021-03-14T00:00:00+00:00\",\"2021-03-15T00:00:00+00:00\",\"2021-03-16T00:00:00+00:00\",\"2021-03-17T00:00:00+00:00\",\"2021-03-18T00:00:00+00:00\",\"2021-03-19T00:00:00+00:00\",\"2021-03-20T00:00:00+00:00\",\"2021-03-21T00:00:00+00:00\",\"2021-03-22T00:00:00+00:00\",\"2021-03-23T00:00:00+00:00\",\"2021-03-24T00:00:00+00:00\",\"2021-03-25T00:00:00+00:00\",\"2021-03-26T00:00:00+00:00\",\"2021-03-27T00:00:00+00:00\",\"2021-03-28T00:00:00+00:00\",\"2021-03-29T00:00:00+00:00\",\"2021-03-30T00:00:00+00:00\",\"2021-03-31T00:00:00+00:00\",\"2021-04-01T00:00:00+00:00\",\"2021-04-02T00:00:00+00:00\",\"2021-04-03T00:00:00+00:00\",\"2021-04-04T00:00:00+00:00\",\"2021-04-05T00:00:00+00:00\",\"2021-04-06T00:00:00+00:00\",\"2021-04-07T00:00:00+00:00\",\"2021-04-08T00:00:00+00:00\",\"2021-04-09T00:00:00+00:00\",\"2021-04-10T00:00:00+00:00\",\"2021-04-11T00:00:00+00:00\",\"2021-04-12T00:00:00+00:00\",\"2021-04-13T00:00:00+00:00\",\"2021-04-14T00:00:00+00:00\",\"2021-04-15T00:00:00+00:00\",\"2021-04-16T00:00:00+00:00\",\"2021-04-17T00:00:00+00:00\",\"2021-04-18T00:00:00+00:00\",\"2021-04-19T00:00:00+00:00\",\"2021-04-20T00:00:00+00:00\",\"2021-04-21T00:00:00+00:00\",\"2021-04-22T00:00:00+00:00\",\"2021-04-23T00:00:00+00:00\",\"2021-04-24T00:00:00+00:00\",\"2021-04-25T00:00:00+00:00\",\"2021-04-26T00:00:00+00:00\",\"2021-04-27T00:00:00+00:00\",\"2021-04-28T00:00:00+00:00\",\"2021-04-29T00:00:00+00:00\",\"2021-04-30T00:00:00+00:00\",\"2021-05-01T00:00:00+00:00\",\"2021-05-02T00:00:00+00:00\",\"2021-05-03T00:00:00+00:00\",\"2021-05-04T00:00:00+00:00\",\"2021-05-05T00:00:00+00:00\",\"2021-05-06T00:00:00+00:00\",\"2021-05-07T00:00:00+00:00\",\"2021-05-08T00:00:00+00:00\",\"2021-05-09T00:00:00+00:00\",\"2021-05-10T00:00:00+00:00\",\"2021-05-11T00:00:00+00:00\",\"2021-05-12T00:00:00+00:00\",\"2021-05-13T00:00:00+00:00\",\"2021-05-14T00:00:00+00:00\",\"2021-05-15T00:00:00+00:00\",\"2021-05-16T00:00:00+00:00\",\"2021-05-17T00:00:00+00:00\",\"2021-05-18T00:00:00+00:00\",\"2021-05-19T00:00:00+00:00\",\"2021-05-20T00:00:00+00:00\",\"2021-05-21T00:00:00+00:00\",\"2021-05-22T00:00:00+00:00\",\"2021-05-23T00:00:00+00:00\",\"2021-05-24T00:00:00+00:00\",\"2021-05-25T00:00:00+00:00\",\"2021-05-26T00:00:00+00:00\",\"2021-05-27T00:00:00+00:00\",\"2021-05-28T00:00:00+00:00\",\"2021-05-29T00:00:00+00:00\",\"2021-05-30T00:00:00+00:00\",\"2021-05-31T00:00:00+00:00\",\"2021-06-01T00:00:00+00:00\",\"2021-06-02T00:00:00+00:00\",\"2021-06-03T00:00:00+00:00\",\"2021-06-04T00:00:00+00:00\",\"2021-06-05T00:00:00+00:00\",\"2021-06-06T00:00:00+00:00\",\"2021-06-07T00:00:00+00:00\",\"2021-06-08T00:00:00+00:00\",\"2021-06-09T00:00:00+00:00\",\"2021-06-10T00:00:00+00:00\",\"2021-06-11T00:00:00+00:00\",\"2021-06-12T00:00:00+00:00\",\"2021-06-13T00:00:00+00:00\",\"2021-06-14T00:00:00+00:00\",\"2021-06-15T00:00:00+00:00\",\"2021-06-16T00:00:00+00:00\",\"2021-06-17T00:00:00+00:00\",\"2021-06-18T00:00:00+00:00\",\"2021-06-19T00:00:00+00:00\",\"2021-06-20T00:00:00+00:00\",\"2021-06-21T00:00:00+00:00\",\"2021-06-22T00:00:00+00:00\",\"2021-06-23T00:00:00+00:00\",\"2021-06-24T00:00:00+00:00\",\"2021-06-25T00:00:00+00:00\",\"2021-06-26T00:00:00+00:00\",\"2021-06-27T00:00:00+00:00\",\"2021-06-28T00:00:00+00:00\",\"2021-06-29T00:00:00+00:00\",\"2021-06-30T00:00:00+00:00\",\"2021-07-01T00:00:00+00:00\",\"2021-07-02T00:00:00+00:00\",\"2021-07-03T00:00:00+00:00\",\"2021-07-04T00:00:00+00:00\",\"2021-07-05T00:00:00+00:00\",\"2021-07-06T00:00:00+00:00\",\"2021-07-07T00:00:00+00:00\",\"2021-07-08T00:00:00+00:00\",\"2021-07-09T00:00:00+00:00\",\"2021-07-10T00:00:00+00:00\",\"2021-07-11T00:00:00+00:00\",\"2021-07-12T00:00:00+00:00\",\"2021-07-13T00:00:00+00:00\",\"2021-07-14T00:00:00+00:00\",\"2021-07-15T00:00:00+00:00\",\"2021-07-16T00:00:00+00:00\",\"2021-07-17T00:00:00+00:00\",\"2021-07-18T00:00:00+00:00\",\"2021-07-19T00:00:00+00:00\",\"2021-07-20T00:00:00+00:00\",\"2021-07-21T00:00:00+00:00\",\"2021-07-22T00:00:00+00:00\",\"2021-07-23T00:00:00+00:00\",\"2021-07-24T00:00:00+00:00\",\"2021-07-25T00:00:00+00:00\",\"2021-07-26T00:00:00+00:00\",\"2021-07-27T00:00:00+00:00\",\"2021-07-28T00:00:00+00:00\",\"2021-07-29T00:00:00+00:00\",\"2021-07-30T00:00:00+00:00\",\"2021-07-31T00:00:00+00:00\",\"2021-08-01T00:00:00+00:00\",\"2021-08-02T00:00:00+00:00\",\"2021-08-03T00:00:00+00:00\",\"2021-08-04T00:00:00+00:00\",\"2021-08-05T00:00:00+00:00\",\"2021-08-06T00:00:00+00:00\",\"2021-08-07T00:00:00+00:00\",\"2021-08-08T00:00:00+00:00\",\"2021-08-09T00:00:00+00:00\",\"2021-08-10T00:00:00+00:00\",\"2021-08-11T00:00:00+00:00\",\"2021-08-12T00:00:00+00:00\",\"2021-08-13T00:00:00+00:00\",\"2021-08-14T00:00:00+00:00\",\"2021-08-15T00:00:00+00:00\",\"2021-08-16T00:00:00+00:00\",\"2021-08-17T00:00:00+00:00\",\"2021-08-18T00:00:00+00:00\",\"2021-08-19T00:00:00+00:00\",\"2021-08-20T00:00:00+00:00\",\"2021-08-21T00:00:00+00:00\",\"2021-08-22T00:00:00+00:00\",\"2021-08-23T00:00:00+00:00\",\"2021-08-24T00:00:00+00:00\",\"2021-08-25T00:00:00+00:00\",\"2021-08-26T00:00:00+00:00\",\"2021-08-27T00:00:00+00:00\",\"2021-08-28T00:00:00+00:00\",\"2021-08-29T00:00:00+00:00\",\"2021-08-30T00:00:00+00:00\",\"2021-08-31T00:00:00+00:00\",\"2021-09-01T00:00:00+00:00\",\"2021-09-02T00:00:00+00:00\",\"2021-09-03T00:00:00+00:00\",\"2021-09-04T00:00:00+00:00\",\"2021-09-05T00:00:00+00:00\",\"2021-09-06T00:00:00+00:00\",\"2021-09-07T00:00:00+00:00\",\"2021-09-08T00:00:00+00:00\",\"2021-09-09T00:00:00+00:00\",\"2021-09-10T00:00:00+00:00\",\"2021-09-11T00:00:00+00:00\",\"2021-09-12T00:00:00+00:00\",\"2021-09-13T00:00:00+00:00\",\"2021-09-14T00:00:00+00:00\",\"2021-09-15T00:00:00+00:00\",\"2021-09-16T00:00:00+00:00\",\"2021-09-17T00:00:00+00:00\",\"2021-09-18T00:00:00+00:00\",\"2021-09-19T00:00:00+00:00\",\"2021-09-20T00:00:00+00:00\",\"2021-09-21T00:00:00+00:00\",\"2021-09-22T00:00:00+00:00\",\"2021-09-23T00:00:00+00:00\",\"2021-09-24T00:00:00+00:00\",\"2021-09-25T00:00:00+00:00\",\"2021-09-26T00:00:00+00:00\",\"2021-09-27T00:00:00+00:00\",\"2021-09-28T00:00:00+00:00\",\"2021-09-29T00:00:00+00:00\",\"2021-09-30T00:00:00+00:00\",\"2021-10-01T00:00:00+00:00\",\"2021-10-02T00:00:00+00:00\",\"2021-10-03T00:00:00+00:00\",\"2021-10-04T00:00:00+00:00\",\"2021-10-05T00:00:00+00:00\",\"2021-10-06T00:00:00+00:00\",\"2021-10-07T00:00:00+00:00\",\"2021-10-08T00:00:00+00:00\",\"2021-10-09T00:00:00+00:00\",\"2021-10-10T00:00:00+00:00\",\"2021-10-11T00:00:00+00:00\",\"2021-10-12T00:00:00+00:00\",\"2021-10-13T00:00:00+00:00\",\"2021-10-14T00:00:00+00:00\",\"2021-10-15T00:00:00+00:00\",\"2021-10-16T00:00:00+00:00\",\"2021-10-17T00:00:00+00:00\",\"2021-10-18T00:00:00+00:00\",\"2021-10-19T00:00:00+00:00\",\"2021-10-20T00:00:00+00:00\",\"2021-10-21T00:00:00+00:00\",\"2021-10-22T00:00:00+00:00\",\"2021-10-23T00:00:00+00:00\",\"2021-10-24T00:00:00+00:00\",\"2021-10-25T00:00:00+00:00\",\"2021-10-26T00:00:00+00:00\",\"2021-10-27T00:00:00+00:00\",\"2021-10-28T00:00:00+00:00\",\"2021-10-29T00:00:00+00:00\",\"2021-10-30T00:00:00+00:00\",\"2021-10-31T00:00:00+00:00\",\"2021-11-01T00:00:00+00:00\",\"2021-11-02T00:00:00+00:00\",\"2021-11-03T00:00:00+00:00\",\"2021-11-04T00:00:00+00:00\",\"2021-11-05T00:00:00+00:00\",\"2021-11-06T00:00:00+00:00\",\"2021-11-07T00:00:00+00:00\",\"2021-11-08T00:00:00+00:00\",\"2021-11-09T00:00:00+00:00\",\"2021-11-10T00:00:00+00:00\",\"2021-11-11T00:00:00+00:00\",\"2021-11-12T00:00:00+00:00\",\"2021-11-13T00:00:00+00:00\",\"2021-11-14T00:00:00+00:00\",\"2021-11-15T00:00:00+00:00\",\"2021-11-16T00:00:00+00:00\",\"2021-11-17T00:00:00+00:00\",\"2021-11-18T00:00:00+00:00\",\"2021-11-19T00:00:00+00:00\",\"2021-11-20T00:00:00+00:00\",\"2021-11-21T00:00:00+00:00\",\"2021-11-22T00:00:00+00:00\",\"2021-11-23T00:00:00+00:00\",\"2021-11-24T00:00:00+00:00\",\"2021-11-25T00:00:00+00:00\",\"2021-11-26T00:00:00+00:00\",\"2021-11-27T00:00:00+00:00\",\"2021-11-28T00:00:00+00:00\",\"2021-11-29T00:00:00+00:00\",\"2021-11-30T00:00:00+00:00\",\"2021-12-01T00:00:00+00:00\",\"2021-12-02T00:00:00+00:00\",\"2021-12-03T00:00:00+00:00\",\"2021-12-04T00:00:00+00:00\",\"2021-12-05T00:00:00+00:00\",\"2021-12-06T00:00:00+00:00\",\"2021-12-07T00:00:00+00:00\",\"2021-12-08T00:00:00+00:00\",\"2021-12-09T00:00:00+00:00\",\"2021-12-10T00:00:00+00:00\",\"2021-12-11T00:00:00+00:00\",\"2021-12-12T00:00:00+00:00\",\"2021-12-13T00:00:00+00:00\",\"2021-12-14T00:00:00+00:00\",\"2021-12-15T00:00:00+00:00\",\"2021-12-16T00:00:00+00:00\",\"2021-12-17T00:00:00+00:00\",\"2021-12-18T00:00:00+00:00\",\"2021-12-19T00:00:00+00:00\",\"2021-12-20T00:00:00+00:00\",\"2021-12-21T00:00:00+00:00\",\"2021-12-22T00:00:00+00:00\",\"2021-12-23T00:00:00+00:00\",\"2021-12-24T00:00:00+00:00\",\"2021-12-25T00:00:00+00:00\",\"2021-12-26T00:00:00+00:00\",\"2021-12-27T00:00:00+00:00\",\"2021-12-28T00:00:00+00:00\",\"2021-12-29T00:00:00+00:00\",\"2021-12-30T00:00:00+00:00\",\"2021-12-31T00:00:00+00:00\"],\"xaxis\":\"x\",\"y\":[2.1463470953853836,0.6450311916375954,3.2714202274996764,1.793185312477569,2.532027419643682,1.9333291684336666,2.207980637886256,2.3330427307598267,4.931359044675116,1.9758215135450121,3.0978563560376697,1.707351658316002,1.2119615602092968,1.4107008008654907,1.480088423439701,1.9623807362460266,14.752683227675679,0.8368474660596771,1.3464592290742157,10.650606063222297,0.48471713609725325,2.17368913828103,13.921305240649755,33.05743276883089,1.0366414614904884,13.161073757042125,2.2262826697488496,1.4866585781467656,1.3151563216292783,1.5622673353360759,1.110339076600237,1.5506539262323917,0.7442211671866761,1.0498810695029293,0.4785328093508741,1.5119423175078688,1.6319081037845247,2.7554708371892933,0.2705963934676329,1.7115935970410823,0.896621883054073,1.266522117314175,0.8247730364945625,1.8840523008100143,1.3512144682005103,3.3738133673642325,1.305015269057263,2.115071012053381,1.2686468388102667,6.633399232234575,1.4485588842370367,1.4130277998737966,0.9229084548704563,8.585166556435093,1.8093578896869764,9.056878247052635,1.8186901460854197,1.0172405453054214,0.01617114387370966,5.306837197791427,0.2783702042169704,5.53257013866006,0.7849240654308209,3.916363918271212,2.8689218178829563,0.3991368953441546,-1.1865182181725469,0.9405317367495587,2.9319685536351145,1.3791961589282216,1.5714617543506078,1.0456857669986055,2.4777533032376535,0.3934282335292031,0.8485921898171261,1.7231108533008117,4.4671516683903745,50.32309366425712,3.5694192489402448,11.18972956031444,5.0710876155919005,5.657425307406079,1.214121536586483,2.6040757270930275,0.8732625262694603,0.7461774217042778,3.122801313142248,0.7896604470054458,11.654714826842195,1.709809174587916,1.9089095754818661,2.8500314381006113,0.6147683254613733,2.258978845408407,1.3642102961328757,0.7662282506960723,0.9058413797589944,0.5481561827460713,1.3869269911565016,1.2174321194695263,0.9834542976381951,1.6750988230983943,0.7963123731072983,1.3496273039626294,0.8462168583020226,1.702451960310328,0.9826818597676193,5.007234510843231,1.8659201087335893,43.94218642927844,8.723426009622926,0.45996202891991916,1.536443011593624,2.0030822870821337,1.0690865897879638,7.136269119957259,0.9555340808144828,28.05101765654916,1.6625619336027768,0.7210629008754428,-1.9167886764896958,1.2790385801453488,0.9564658187549167,1.648253230164693,0.8863815716024074,0.6680371686789427,0.3370561513417366,3.284156511239257,5.763974906466569,1.5528887651384027,1.0985577633017205,4.175905356344577,0.5809085625193072,1.3573162619911834,5.166214259873151,-0.6600007859155709,0.9751121323960562,0.19961712841311877,0.6111110484804116,1.3211276948362352,3.5023602226118244,0.16909351355577357,0.6630807501157452,1.8158703860130032,10.726641277097325,6.449383931134544,3.7804130703153347,1.2925042607357629,0.4304266239514611,1.7543848675160907,-0.18990912066814536,-1.6761994170227894,2.8791953759788185,0.029460413891793446,0.6873279753656932,2.139336598179511,8.312968489318694,2.1579070891827072,2.6542422937488404,1.4002644467885572,16.3426451487598,0.6925509134290899,0.9619244073170363,0.21691136750644516,18.63758402492994,3.829715569051365,5.5850743566653875,0.43817431798401296,0.6140925998298722,0.6451995672448282,1.2380820247883977,3.4310425809777962,0.8712063383897541,1.7296930178725973,2.43509754172557,5.616529598640927,2.082065735868149,1.2961618576679048,0.04305571976489864,1.0694385534253203,0.9470134037777311,3.1989506330980837,18.311813624175443,0.9200412593724373,13.16168218937617,0.6958265228828135,0.38005173929552355,12.97067429632094,4.420982150391849,1.2392922968483553,7.743025251639206,2.2871228299206487,1.7502115172181503,1.309130748719633,3.2472085447348578,3.0579382284856553,1.6736798847536998,1.619716350451647,1.1397954036507412,6.654726018359767,2.0826533924072876,0.18872005099108494,1.2912956633875643,7.579234645350915,2.0073545735970213,2.4309779384676187,0.9374494499544046,1.5400343123944202,1.3932678534480487,0.3065854378873956,2.513862789470008,1.3050966492415887,2.1006122101519855,1.4175321689919858,0.9568038784376929,0.6323731952913026,1.993614389829844,0.5807582222538199,0.7575784521977115,1.8458389741986623,1.9894729908271425,1.6580085415592047,0.788748850717191,4.391039570820163,0.2622419423531518,1.571364395131807,6.780780107192424,3.2323496899091086,1.8038346296194037,8.975227573191747,0.5317716790389786,1.4432377004813777,0.2776753957292889,2.121334304720763,1.5195088370639767,0.9720059481521055,0.7211853753489444,4.516916041498741,1.5506943551346895,-2.1209070498739226,1.1249750636845837,0.9376963088122741,1.82311224166218,5.9998923846487315,7.293016719631264,10.995068770437204,2.038403354429101,2.5819985798921206,6.734826514753675,1.9903715759425398,2.261992035126842,1.8807331275705492,17.696566855609984,32.84846640959826,27.09111838836307,3.5045564304089316,2.1871235060732097,7.9284857679536005,2.8291491495438073,21.764593071778595,20.009069921218035,1.7407820083751184,2.0272764939888295,6.378780996957243,2.4389500377186,2.51585667306501,22.445133019362565,2.3768035453619643,12.290228493711304,-1.6720085347007703,4.629521649823678,5.204317514957591,3.2963908689062777,2.5569045934739476,0.7862118604876641,0.11998249373339104,0.35492683514497975,1.967434615871871,2.779724710629011,2.0191902918168187,0.505362970060583,5.7667438714939525,1.1389144022944298,0.3349735137559679,1.8711079681682816,15.229219719101168,3.1215850667493044,1.2947905854196184,1.086248696562907,0.08321228974550143,0.3995649899969328,22.82790314104426,2.0730164236568513,3.535734764898739,0.5496395044714301,6.378654023140894,0.19961712841311877,1.1003693225530393,1.4675421017282195,-1.5131286211523176,1.420796844241516,8.132766753037785,1.4757887197271995,-0.8330930086752334,-1.2564451123758584,0.5211173526007538,2.1509546314513686,3.288939486005451,33.04941809897287,0.6248694029347555,1.0660019744753002,-0.3901477351621739,0.3112434295010436,0.6456864165000966,1.7915851898570043,3.2864160459106184,1.7394973699881466,0.8607088555854675,0.29291765434273404,0.0767980283743532,0.733451568445612,1.5035112023534485,1.5015354650944104,0.4059097433032018,1.0680825632157347,0.5419776346288856,11.445477186085093,1.0883328650475996,3.3646537312922877,8.386517783723313,11.370284488389524,0.42296089409739057,2.7711831028268556,1.6617935569064455,32.59510975214455,1.3601372093367752,1.748592722375537,1.0230731942979703,7.778991005644313,12.76065105080041,4.425379440149123,17.634069422399566,1.211325668076623,8.526088551121774,1.7459326214568458,1.5248852726432616,2.696131866290301,1.2690014917352241,12.184749804204346,1.0556211139181169,0.4807601040356993,2.005527945889245,0.5950358497741159,2.0828963619990124,-1.0763671704205147,0.8574490407512435,1.0463504822970942,0.3775727718378435,1.303971947731296,0.8546549921528825,0.7771784868431894,1.0674429478677712,7.444748899319301,2.100239832503508,2.5037884964891655],\"yaxis\":\"y\",\"type\":\"scatter\"}],                        {\"template\":{\"data\":{\"bar\":[{\"error_x\":{\"color\":\"#2a3f5f\"},\"error_y\":{\"color\":\"#2a3f5f\"},\"marker\":{\"line\":{\"color\":\"#E5ECF6\",\"width\":0.5},\"pattern\":{\"fillmode\":\"overlay\",\"size\":10,\"solidity\":0.2}},\"type\":\"bar\"}],\"barpolar\":[{\"marker\":{\"line\":{\"color\":\"#E5ECF6\",\"width\":0.5},\"pattern\":{\"fillmode\":\"overlay\",\"size\":10,\"solidity\":0.2}},\"type\":\"barpolar\"}],\"carpet\":[{\"aaxis\":{\"endlinecolor\":\"#2a3f5f\",\"gridcolor\":\"white\",\"linecolor\":\"white\",\"minorgridcolor\":\"white\",\"startlinecolor\":\"#2a3f5f\"},\"baxis\":{\"endlinecolor\":\"#2a3f5f\",\"gridcolor\":\"white\",\"linecolor\":\"white\",\"minorgridcolor\":\"white\",\"startlinecolor\":\"#2a3f5f\"},\"type\":\"carpet\"}],\"choropleth\":[{\"colorbar\":{\"outlinewidth\":0,\"ticks\":\"\"},\"type\":\"choropleth\"}],\"contour\":[{\"colorbar\":{\"outlinewidth\":0,\"ticks\":\"\"},\"colorscale\":[[0.0,\"#0d0887\"],[0.1111111111111111,\"#46039f\"],[0.2222222222222222,\"#7201a8\"],[0.3333333333333333,\"#9c179e\"],[0.4444444444444444,\"#bd3786\"],[0.5555555555555556,\"#d8576b\"],[0.6666666666666666,\"#ed7953\"],[0.7777777777777778,\"#fb9f3a\"],[0.8888888888888888,\"#fdca26\"],[1.0,\"#f0f921\"]],\"type\":\"contour\"}],\"contourcarpet\":[{\"colorbar\":{\"outlinewidth\":0,\"ticks\":\"\"},\"type\":\"contourcarpet\"}],\"heatmap\":[{\"colorbar\":{\"outlinewidth\":0,\"ticks\":\"\"},\"colorscale\":[[0.0,\"#0d0887\"],[0.1111111111111111,\"#46039f\"],[0.2222222222222222,\"#7201a8\"],[0.3333333333333333,\"#9c179e\"],[0.4444444444444444,\"#bd3786\"],[0.5555555555555556,\"#d8576b\"],[0.6666666666666666,\"#ed7953\"],[0.7777777777777778,\"#fb9f3a\"],[0.8888888888888888,\"#fdca26\"],[1.0,\"#f0f921\"]],\"type\":\"heatmap\"}],\"heatmapgl\":[{\"colorbar\":{\"outlinewidth\":0,\"ticks\":\"\"},\"colorscale\":[[0.0,\"#0d0887\"],[0.1111111111111111,\"#46039f\"],[0.2222222222222222,\"#7201a8\"],[0.3333333333333333,\"#9c179e\"],[0.4444444444444444,\"#bd3786\"],[0.5555555555555556,\"#d8576b\"],[0.6666666666666666,\"#ed7953\"],[0.7777777777777778,\"#fb9f3a\"],[0.8888888888888888,\"#fdca26\"],[1.0,\"#f0f921\"]],\"type\":\"heatmapgl\"}],\"histogram\":[{\"marker\":{\"pattern\":{\"fillmode\":\"overlay\",\"size\":10,\"solidity\":0.2}},\"type\":\"histogram\"}],\"histogram2d\":[{\"colorbar\":{\"outlinewidth\":0,\"ticks\":\"\"},\"colorscale\":[[0.0,\"#0d0887\"],[0.1111111111111111,\"#46039f\"],[0.2222222222222222,\"#7201a8\"],[0.3333333333333333,\"#9c179e\"],[0.4444444444444444,\"#bd3786\"],[0.5555555555555556,\"#d8576b\"],[0.6666666666666666,\"#ed7953\"],[0.7777777777777778,\"#fb9f3a\"],[0.8888888888888888,\"#fdca26\"],[1.0,\"#f0f921\"]],\"type\":\"histogram2d\"}],\"histogram2dcontour\":[{\"colorbar\":{\"outlinewidth\":0,\"ticks\":\"\"},\"colorscale\":[[0.0,\"#0d0887\"],[0.1111111111111111,\"#46039f\"],[0.2222222222222222,\"#7201a8\"],[0.3333333333333333,\"#9c179e\"],[0.4444444444444444,\"#bd3786\"],[0.5555555555555556,\"#d8576b\"],[0.6666666666666666,\"#ed7953\"],[0.7777777777777778,\"#fb9f3a\"],[0.8888888888888888,\"#fdca26\"],[1.0,\"#f0f921\"]],\"type\":\"histogram2dcontour\"}],\"mesh3d\":[{\"colorbar\":{\"outlinewidth\":0,\"ticks\":\"\"},\"type\":\"mesh3d\"}],\"parcoords\":[{\"line\":{\"colorbar\":{\"outlinewidth\":0,\"ticks\":\"\"}},\"type\":\"parcoords\"}],\"pie\":[{\"automargin\":true,\"type\":\"pie\"}],\"scatter\":[{\"marker\":{\"colorbar\":{\"outlinewidth\":0,\"ticks\":\"\"}},\"type\":\"scatter\"}],\"scatter3d\":[{\"line\":{\"colorbar\":{\"outlinewidth\":0,\"ticks\":\"\"}},\"marker\":{\"colorbar\":{\"outlinewidth\":0,\"ticks\":\"\"}},\"type\":\"scatter3d\"}],\"scattercarpet\":[{\"marker\":{\"colorbar\":{\"outlinewidth\":0,\"ticks\":\"\"}},\"type\":\"scattercarpet\"}],\"scattergeo\":[{\"marker\":{\"colorbar\":{\"outlinewidth\":0,\"ticks\":\"\"}},\"type\":\"scattergeo\"}],\"scattergl\":[{\"marker\":{\"colorbar\":{\"outlinewidth\":0,\"ticks\":\"\"}},\"type\":\"scattergl\"}],\"scattermapbox\":[{\"marker\":{\"colorbar\":{\"outlinewidth\":0,\"ticks\":\"\"}},\"type\":\"scattermapbox\"}],\"scatterpolar\":[{\"marker\":{\"colorbar\":{\"outlinewidth\":0,\"ticks\":\"\"}},\"type\":\"scatterpolar\"}],\"scatterpolargl\":[{\"marker\":{\"colorbar\":{\"outlinewidth\":0,\"ticks\":\"\"}},\"type\":\"scatterpolargl\"}],\"scatterternary\":[{\"marker\":{\"colorbar\":{\"outlinewidth\":0,\"ticks\":\"\"}},\"type\":\"scatterternary\"}],\"surface\":[{\"colorbar\":{\"outlinewidth\":0,\"ticks\":\"\"},\"colorscale\":[[0.0,\"#0d0887\"],[0.1111111111111111,\"#46039f\"],[0.2222222222222222,\"#7201a8\"],[0.3333333333333333,\"#9c179e\"],[0.4444444444444444,\"#bd3786\"],[0.5555555555555556,\"#d8576b\"],[0.6666666666666666,\"#ed7953\"],[0.7777777777777778,\"#fb9f3a\"],[0.8888888888888888,\"#fdca26\"],[1.0,\"#f0f921\"]],\"type\":\"surface\"}],\"table\":[{\"cells\":{\"fill\":{\"color\":\"#EBF0F8\"},\"line\":{\"color\":\"white\"}},\"header\":{\"fill\":{\"color\":\"#C8D4E3\"},\"line\":{\"color\":\"white\"}},\"type\":\"table\"}]},\"layout\":{\"annotationdefaults\":{\"arrowcolor\":\"#2a3f5f\",\"arrowhead\":0,\"arrowwidth\":1},\"autotypenumbers\":\"strict\",\"coloraxis\":{\"colorbar\":{\"outlinewidth\":0,\"ticks\":\"\"}},\"colorscale\":{\"diverging\":[[0,\"#8e0152\"],[0.1,\"#c51b7d\"],[0.2,\"#de77ae\"],[0.3,\"#f1b6da\"],[0.4,\"#fde0ef\"],[0.5,\"#f7f7f7\"],[0.6,\"#e6f5d0\"],[0.7,\"#b8e186\"],[0.8,\"#7fbc41\"],[0.9,\"#4d9221\"],[1,\"#276419\"]],\"sequential\":[[0.0,\"#0d0887\"],[0.1111111111111111,\"#46039f\"],[0.2222222222222222,\"#7201a8\"],[0.3333333333333333,\"#9c179e\"],[0.4444444444444444,\"#bd3786\"],[0.5555555555555556,\"#d8576b\"],[0.6666666666666666,\"#ed7953\"],[0.7777777777777778,\"#fb9f3a\"],[0.8888888888888888,\"#fdca26\"],[1.0,\"#f0f921\"]],\"sequentialminus\":[[0.0,\"#0d0887\"],[0.1111111111111111,\"#46039f\"],[0.2222222222222222,\"#7201a8\"],[0.3333333333333333,\"#9c179e\"],[0.4444444444444444,\"#bd3786\"],[0.5555555555555556,\"#d8576b\"],[0.6666666666666666,\"#ed7953\"],[0.7777777777777778,\"#fb9f3a\"],[0.8888888888888888,\"#fdca26\"],[1.0,\"#f0f921\"]]},\"colorway\":[\"#636efa\",\"#EF553B\",\"#00cc96\",\"#ab63fa\",\"#FFA15A\",\"#19d3f3\",\"#FF6692\",\"#B6E880\",\"#FF97FF\",\"#FECB52\"],\"font\":{\"color\":\"#2a3f5f\"},\"geo\":{\"bgcolor\":\"white\",\"lakecolor\":\"white\",\"landcolor\":\"#E5ECF6\",\"showlakes\":true,\"showland\":true,\"subunitcolor\":\"white\"},\"hoverlabel\":{\"align\":\"left\"},\"hovermode\":\"closest\",\"mapbox\":{\"style\":\"light\"},\"paper_bgcolor\":\"white\",\"plot_bgcolor\":\"#E5ECF6\",\"polar\":{\"angularaxis\":{\"gridcolor\":\"white\",\"linecolor\":\"white\",\"ticks\":\"\"},\"bgcolor\":\"#E5ECF6\",\"radialaxis\":{\"gridcolor\":\"white\",\"linecolor\":\"white\",\"ticks\":\"\"}},\"scene\":{\"xaxis\":{\"backgroundcolor\":\"#E5ECF6\",\"gridcolor\":\"white\",\"gridwidth\":2,\"linecolor\":\"white\",\"showbackground\":true,\"ticks\":\"\",\"zerolinecolor\":\"white\"},\"yaxis\":{\"backgroundcolor\":\"#E5ECF6\",\"gridcolor\":\"white\",\"gridwidth\":2,\"linecolor\":\"white\",\"showbackground\":true,\"ticks\":\"\",\"zerolinecolor\":\"white\"},\"zaxis\":{\"backgroundcolor\":\"#E5ECF6\",\"gridcolor\":\"white\",\"gridwidth\":2,\"linecolor\":\"white\",\"showbackground\":true,\"ticks\":\"\",\"zerolinecolor\":\"white\"}},\"shapedefaults\":{\"line\":{\"color\":\"#2a3f5f\"}},\"ternary\":{\"aaxis\":{\"gridcolor\":\"white\",\"linecolor\":\"white\",\"ticks\":\"\"},\"baxis\":{\"gridcolor\":\"white\",\"linecolor\":\"white\",\"ticks\":\"\"},\"bgcolor\":\"#E5ECF6\",\"caxis\":{\"gridcolor\":\"white\",\"linecolor\":\"white\",\"ticks\":\"\"}},\"title\":{\"x\":0.05},\"xaxis\":{\"automargin\":true,\"gridcolor\":\"white\",\"linecolor\":\"white\",\"ticks\":\"\",\"title\":{\"standoff\":15},\"zerolinecolor\":\"white\",\"zerolinewidth\":2},\"yaxis\":{\"automargin\":true,\"gridcolor\":\"white\",\"linecolor\":\"white\",\"ticks\":\"\",\"title\":{\"standoff\":15},\"zerolinecolor\":\"white\",\"zerolinewidth\":2}}},\"xaxis\":{\"anchor\":\"y\",\"domain\":[0.0,1.0],\"title\":{\"text\":\"Time\"}},\"yaxis\":{\"anchor\":\"x\",\"domain\":[0.0,1.0],\"title\":{\"text\":\"Average retweet count\"}},\"legend\":{\"title\":{\"text\":\"type\"},\"tracegroupgap\":0},\"title\":{\"text\":\"Predictions of topic retweet count average for 2021 with MAE:3.561\"},\"height\":500,\"width\":900},                        {\"responsive\": true}                    ).then(function(){\n                            \nvar gd = document.getElementById('642aeae8-cb46-433e-9509-fc00728c4b68');\nvar x = new MutationObserver(function (mutations, observer) {{\n        var display = window.getComputedStyle(gd).display;\n        if (!display || display === 'none') {{\n            console.log([gd, 'removed!']);\n            Plotly.purge(gd);\n            observer.disconnect();\n        }}\n}});\n\n// Listen for the removal of the full notebook cells\nvar notebookContainer = gd.closest('#notebook-container');\nif (notebookContainer) {{\n    x.observe(notebookContainer, {childList: true});\n}}\n\n// Listen for the clearing of the current output cell\nvar outputEl = gd.closest('.output');\nif (outputEl) {{\n    x.observe(outputEl, {childList: true});\n}}\n\n                        })                };                });            </script>        </div>"
     },
     "metadata": {},
     "output_type": "display_data"
    },
    {
     "data": {
      "application/vnd.plotly.v1+json": {
       "data": [
        {
         "alignmentgroup": "True",
         "hovertemplate": "feature=%{x}<br>importance=%{y}<extra></extra>",
         "legendgroup": "",
         "marker": {
          "color": "rgb(136, 204, 238)",
          "pattern": {
           "shape": ""
          }
         },
         "name": "",
         "offsetgroup": "",
         "orientation": "v",
         "showlegend": false,
         "textposition": "auto",
         "x": [
          "day_phase_enc",
          "day_of_week_enc",
          "verified_enc",
          "followers",
          "month_enc",
          "tweet_count",
          "following",
          "sentiment_enc",
          "seniority",
          "topics_ids"
         ],
         "xaxis": "x",
         "y": [
          0.2701038193838782,
          0.14182574652327296,
          0.12234941492249608,
          0.11925920449611804,
          0.11194674127866054,
          0.09330091019059943,
          0.05756707290716544,
          0.04682716463276737,
          0.03681992566504194,
          0.0
         ],
         "yaxis": "y",
         "type": "bar"
        }
       ],
       "layout": {
        "template": {
         "data": {
          "bar": [
           {
            "error_x": {
             "color": "#2a3f5f"
            },
            "error_y": {
             "color": "#2a3f5f"
            },
            "marker": {
             "line": {
              "color": "#E5ECF6",
              "width": 0.5
             },
             "pattern": {
              "fillmode": "overlay",
              "size": 10,
              "solidity": 0.2
             }
            },
            "type": "bar"
           }
          ],
          "barpolar": [
           {
            "marker": {
             "line": {
              "color": "#E5ECF6",
              "width": 0.5
             },
             "pattern": {
              "fillmode": "overlay",
              "size": 10,
              "solidity": 0.2
             }
            },
            "type": "barpolar"
           }
          ],
          "carpet": [
           {
            "aaxis": {
             "endlinecolor": "#2a3f5f",
             "gridcolor": "white",
             "linecolor": "white",
             "minorgridcolor": "white",
             "startlinecolor": "#2a3f5f"
            },
            "baxis": {
             "endlinecolor": "#2a3f5f",
             "gridcolor": "white",
             "linecolor": "white",
             "minorgridcolor": "white",
             "startlinecolor": "#2a3f5f"
            },
            "type": "carpet"
           }
          ],
          "choropleth": [
           {
            "colorbar": {
             "outlinewidth": 0,
             "ticks": ""
            },
            "type": "choropleth"
           }
          ],
          "contour": [
           {
            "colorbar": {
             "outlinewidth": 0,
             "ticks": ""
            },
            "colorscale": [
             [
              0.0,
              "#0d0887"
             ],
             [
              0.1111111111111111,
              "#46039f"
             ],
             [
              0.2222222222222222,
              "#7201a8"
             ],
             [
              0.3333333333333333,
              "#9c179e"
             ],
             [
              0.4444444444444444,
              "#bd3786"
             ],
             [
              0.5555555555555556,
              "#d8576b"
             ],
             [
              0.6666666666666666,
              "#ed7953"
             ],
             [
              0.7777777777777778,
              "#fb9f3a"
             ],
             [
              0.8888888888888888,
              "#fdca26"
             ],
             [
              1.0,
              "#f0f921"
             ]
            ],
            "type": "contour"
           }
          ],
          "contourcarpet": [
           {
            "colorbar": {
             "outlinewidth": 0,
             "ticks": ""
            },
            "type": "contourcarpet"
           }
          ],
          "heatmap": [
           {
            "colorbar": {
             "outlinewidth": 0,
             "ticks": ""
            },
            "colorscale": [
             [
              0.0,
              "#0d0887"
             ],
             [
              0.1111111111111111,
              "#46039f"
             ],
             [
              0.2222222222222222,
              "#7201a8"
             ],
             [
              0.3333333333333333,
              "#9c179e"
             ],
             [
              0.4444444444444444,
              "#bd3786"
             ],
             [
              0.5555555555555556,
              "#d8576b"
             ],
             [
              0.6666666666666666,
              "#ed7953"
             ],
             [
              0.7777777777777778,
              "#fb9f3a"
             ],
             [
              0.8888888888888888,
              "#fdca26"
             ],
             [
              1.0,
              "#f0f921"
             ]
            ],
            "type": "heatmap"
           }
          ],
          "heatmapgl": [
           {
            "colorbar": {
             "outlinewidth": 0,
             "ticks": ""
            },
            "colorscale": [
             [
              0.0,
              "#0d0887"
             ],
             [
              0.1111111111111111,
              "#46039f"
             ],
             [
              0.2222222222222222,
              "#7201a8"
             ],
             [
              0.3333333333333333,
              "#9c179e"
             ],
             [
              0.4444444444444444,
              "#bd3786"
             ],
             [
              0.5555555555555556,
              "#d8576b"
             ],
             [
              0.6666666666666666,
              "#ed7953"
             ],
             [
              0.7777777777777778,
              "#fb9f3a"
             ],
             [
              0.8888888888888888,
              "#fdca26"
             ],
             [
              1.0,
              "#f0f921"
             ]
            ],
            "type": "heatmapgl"
           }
          ],
          "histogram": [
           {
            "marker": {
             "pattern": {
              "fillmode": "overlay",
              "size": 10,
              "solidity": 0.2
             }
            },
            "type": "histogram"
           }
          ],
          "histogram2d": [
           {
            "colorbar": {
             "outlinewidth": 0,
             "ticks": ""
            },
            "colorscale": [
             [
              0.0,
              "#0d0887"
             ],
             [
              0.1111111111111111,
              "#46039f"
             ],
             [
              0.2222222222222222,
              "#7201a8"
             ],
             [
              0.3333333333333333,
              "#9c179e"
             ],
             [
              0.4444444444444444,
              "#bd3786"
             ],
             [
              0.5555555555555556,
              "#d8576b"
             ],
             [
              0.6666666666666666,
              "#ed7953"
             ],
             [
              0.7777777777777778,
              "#fb9f3a"
             ],
             [
              0.8888888888888888,
              "#fdca26"
             ],
             [
              1.0,
              "#f0f921"
             ]
            ],
            "type": "histogram2d"
           }
          ],
          "histogram2dcontour": [
           {
            "colorbar": {
             "outlinewidth": 0,
             "ticks": ""
            },
            "colorscale": [
             [
              0.0,
              "#0d0887"
             ],
             [
              0.1111111111111111,
              "#46039f"
             ],
             [
              0.2222222222222222,
              "#7201a8"
             ],
             [
              0.3333333333333333,
              "#9c179e"
             ],
             [
              0.4444444444444444,
              "#bd3786"
             ],
             [
              0.5555555555555556,
              "#d8576b"
             ],
             [
              0.6666666666666666,
              "#ed7953"
             ],
             [
              0.7777777777777778,
              "#fb9f3a"
             ],
             [
              0.8888888888888888,
              "#fdca26"
             ],
             [
              1.0,
              "#f0f921"
             ]
            ],
            "type": "histogram2dcontour"
           }
          ],
          "mesh3d": [
           {
            "colorbar": {
             "outlinewidth": 0,
             "ticks": ""
            },
            "type": "mesh3d"
           }
          ],
          "parcoords": [
           {
            "line": {
             "colorbar": {
              "outlinewidth": 0,
              "ticks": ""
             }
            },
            "type": "parcoords"
           }
          ],
          "pie": [
           {
            "automargin": true,
            "type": "pie"
           }
          ],
          "scatter": [
           {
            "marker": {
             "colorbar": {
              "outlinewidth": 0,
              "ticks": ""
             }
            },
            "type": "scatter"
           }
          ],
          "scatter3d": [
           {
            "line": {
             "colorbar": {
              "outlinewidth": 0,
              "ticks": ""
             }
            },
            "marker": {
             "colorbar": {
              "outlinewidth": 0,
              "ticks": ""
             }
            },
            "type": "scatter3d"
           }
          ],
          "scattercarpet": [
           {
            "marker": {
             "colorbar": {
              "outlinewidth": 0,
              "ticks": ""
             }
            },
            "type": "scattercarpet"
           }
          ],
          "scattergeo": [
           {
            "marker": {
             "colorbar": {
              "outlinewidth": 0,
              "ticks": ""
             }
            },
            "type": "scattergeo"
           }
          ],
          "scattergl": [
           {
            "marker": {
             "colorbar": {
              "outlinewidth": 0,
              "ticks": ""
             }
            },
            "type": "scattergl"
           }
          ],
          "scattermapbox": [
           {
            "marker": {
             "colorbar": {
              "outlinewidth": 0,
              "ticks": ""
             }
            },
            "type": "scattermapbox"
           }
          ],
          "scatterpolar": [
           {
            "marker": {
             "colorbar": {
              "outlinewidth": 0,
              "ticks": ""
             }
            },
            "type": "scatterpolar"
           }
          ],
          "scatterpolargl": [
           {
            "marker": {
             "colorbar": {
              "outlinewidth": 0,
              "ticks": ""
             }
            },
            "type": "scatterpolargl"
           }
          ],
          "scatterternary": [
           {
            "marker": {
             "colorbar": {
              "outlinewidth": 0,
              "ticks": ""
             }
            },
            "type": "scatterternary"
           }
          ],
          "surface": [
           {
            "colorbar": {
             "outlinewidth": 0,
             "ticks": ""
            },
            "colorscale": [
             [
              0.0,
              "#0d0887"
             ],
             [
              0.1111111111111111,
              "#46039f"
             ],
             [
              0.2222222222222222,
              "#7201a8"
             ],
             [
              0.3333333333333333,
              "#9c179e"
             ],
             [
              0.4444444444444444,
              "#bd3786"
             ],
             [
              0.5555555555555556,
              "#d8576b"
             ],
             [
              0.6666666666666666,
              "#ed7953"
             ],
             [
              0.7777777777777778,
              "#fb9f3a"
             ],
             [
              0.8888888888888888,
              "#fdca26"
             ],
             [
              1.0,
              "#f0f921"
             ]
            ],
            "type": "surface"
           }
          ],
          "table": [
           {
            "cells": {
             "fill": {
              "color": "#EBF0F8"
             },
             "line": {
              "color": "white"
             }
            },
            "header": {
             "fill": {
              "color": "#C8D4E3"
             },
             "line": {
              "color": "white"
             }
            },
            "type": "table"
           }
          ]
         },
         "layout": {
          "annotationdefaults": {
           "arrowcolor": "#2a3f5f",
           "arrowhead": 0,
           "arrowwidth": 1
          },
          "autotypenumbers": "strict",
          "coloraxis": {
           "colorbar": {
            "outlinewidth": 0,
            "ticks": ""
           }
          },
          "colorscale": {
           "diverging": [
            [
             0,
             "#8e0152"
            ],
            [
             0.1,
             "#c51b7d"
            ],
            [
             0.2,
             "#de77ae"
            ],
            [
             0.3,
             "#f1b6da"
            ],
            [
             0.4,
             "#fde0ef"
            ],
            [
             0.5,
             "#f7f7f7"
            ],
            [
             0.6,
             "#e6f5d0"
            ],
            [
             0.7,
             "#b8e186"
            ],
            [
             0.8,
             "#7fbc41"
            ],
            [
             0.9,
             "#4d9221"
            ],
            [
             1,
             "#276419"
            ]
           ],
           "sequential": [
            [
             0.0,
             "#0d0887"
            ],
            [
             0.1111111111111111,
             "#46039f"
            ],
            [
             0.2222222222222222,
             "#7201a8"
            ],
            [
             0.3333333333333333,
             "#9c179e"
            ],
            [
             0.4444444444444444,
             "#bd3786"
            ],
            [
             0.5555555555555556,
             "#d8576b"
            ],
            [
             0.6666666666666666,
             "#ed7953"
            ],
            [
             0.7777777777777778,
             "#fb9f3a"
            ],
            [
             0.8888888888888888,
             "#fdca26"
            ],
            [
             1.0,
             "#f0f921"
            ]
           ],
           "sequentialminus": [
            [
             0.0,
             "#0d0887"
            ],
            [
             0.1111111111111111,
             "#46039f"
            ],
            [
             0.2222222222222222,
             "#7201a8"
            ],
            [
             0.3333333333333333,
             "#9c179e"
            ],
            [
             0.4444444444444444,
             "#bd3786"
            ],
            [
             0.5555555555555556,
             "#d8576b"
            ],
            [
             0.6666666666666666,
             "#ed7953"
            ],
            [
             0.7777777777777778,
             "#fb9f3a"
            ],
            [
             0.8888888888888888,
             "#fdca26"
            ],
            [
             1.0,
             "#f0f921"
            ]
           ]
          },
          "colorway": [
           "#636efa",
           "#EF553B",
           "#00cc96",
           "#ab63fa",
           "#FFA15A",
           "#19d3f3",
           "#FF6692",
           "#B6E880",
           "#FF97FF",
           "#FECB52"
          ],
          "font": {
           "color": "#2a3f5f"
          },
          "geo": {
           "bgcolor": "white",
           "lakecolor": "white",
           "landcolor": "#E5ECF6",
           "showlakes": true,
           "showland": true,
           "subunitcolor": "white"
          },
          "hoverlabel": {
           "align": "left"
          },
          "hovermode": "closest",
          "mapbox": {
           "style": "light"
          },
          "paper_bgcolor": "white",
          "plot_bgcolor": "#E5ECF6",
          "polar": {
           "angularaxis": {
            "gridcolor": "white",
            "linecolor": "white",
            "ticks": ""
           },
           "bgcolor": "#E5ECF6",
           "radialaxis": {
            "gridcolor": "white",
            "linecolor": "white",
            "ticks": ""
           }
          },
          "scene": {
           "xaxis": {
            "backgroundcolor": "#E5ECF6",
            "gridcolor": "white",
            "gridwidth": 2,
            "linecolor": "white",
            "showbackground": true,
            "ticks": "",
            "zerolinecolor": "white"
           },
           "yaxis": {
            "backgroundcolor": "#E5ECF6",
            "gridcolor": "white",
            "gridwidth": 2,
            "linecolor": "white",
            "showbackground": true,
            "ticks": "",
            "zerolinecolor": "white"
           },
           "zaxis": {
            "backgroundcolor": "#E5ECF6",
            "gridcolor": "white",
            "gridwidth": 2,
            "linecolor": "white",
            "showbackground": true,
            "ticks": "",
            "zerolinecolor": "white"
           }
          },
          "shapedefaults": {
           "line": {
            "color": "#2a3f5f"
           }
          },
          "ternary": {
           "aaxis": {
            "gridcolor": "white",
            "linecolor": "white",
            "ticks": ""
           },
           "baxis": {
            "gridcolor": "white",
            "linecolor": "white",
            "ticks": ""
           },
           "bgcolor": "#E5ECF6",
           "caxis": {
            "gridcolor": "white",
            "linecolor": "white",
            "ticks": ""
           }
          },
          "title": {
           "x": 0.05
          },
          "xaxis": {
           "automargin": true,
           "gridcolor": "white",
           "linecolor": "white",
           "ticks": "",
           "title": {
            "standoff": 15
           },
           "zerolinecolor": "white",
           "zerolinewidth": 2
          },
          "yaxis": {
           "automargin": true,
           "gridcolor": "white",
           "linecolor": "white",
           "ticks": "",
           "title": {
            "standoff": 15
           },
           "zerolinecolor": "white",
           "zerolinewidth": 2
          }
         }
        },
        "xaxis": {
         "anchor": "y",
         "domain": [
          0.0,
          1.0
         ],
         "title": {
          "text": "feature"
         }
        },
        "yaxis": {
         "anchor": "x",
         "domain": [
          0.0,
          1.0
         ],
         "title": {
          "text": "importance"
         }
        },
        "legend": {
         "tracegroupgap": 0
        },
        "title": {
         "text": "Variable Importances"
        },
        "barmode": "relative",
        "height": 500,
        "width": 900
       },
       "config": {
        "plotlyServerURL": "https://plot.ly"
       }
      },
      "text/html": "<div>                            <div id=\"f523e6bf-3880-44d8-8213-aab086d1113f\" class=\"plotly-graph-div\" style=\"height:500px; width:900px;\"></div>            <script type=\"text/javascript\">                require([\"plotly\"], function(Plotly) {                    window.PLOTLYENV=window.PLOTLYENV || {};                                    if (document.getElementById(\"f523e6bf-3880-44d8-8213-aab086d1113f\")) {                    Plotly.newPlot(                        \"f523e6bf-3880-44d8-8213-aab086d1113f\",                        [{\"alignmentgroup\":\"True\",\"hovertemplate\":\"feature=%{x}<br>importance=%{y}<extra></extra>\",\"legendgroup\":\"\",\"marker\":{\"color\":\"rgb(136, 204, 238)\",\"pattern\":{\"shape\":\"\"}},\"name\":\"\",\"offsetgroup\":\"\",\"orientation\":\"v\",\"showlegend\":false,\"textposition\":\"auto\",\"x\":[\"day_phase_enc\",\"day_of_week_enc\",\"verified_enc\",\"followers\",\"month_enc\",\"tweet_count\",\"following\",\"sentiment_enc\",\"seniority\",\"topics_ids\"],\"xaxis\":\"x\",\"y\":[0.2701038193838782,0.14182574652327296,0.12234941492249608,0.11925920449611804,0.11194674127866054,0.09330091019059943,0.05756707290716544,0.04682716463276737,0.03681992566504194,0.0],\"yaxis\":\"y\",\"type\":\"bar\"}],                        {\"template\":{\"data\":{\"bar\":[{\"error_x\":{\"color\":\"#2a3f5f\"},\"error_y\":{\"color\":\"#2a3f5f\"},\"marker\":{\"line\":{\"color\":\"#E5ECF6\",\"width\":0.5},\"pattern\":{\"fillmode\":\"overlay\",\"size\":10,\"solidity\":0.2}},\"type\":\"bar\"}],\"barpolar\":[{\"marker\":{\"line\":{\"color\":\"#E5ECF6\",\"width\":0.5},\"pattern\":{\"fillmode\":\"overlay\",\"size\":10,\"solidity\":0.2}},\"type\":\"barpolar\"}],\"carpet\":[{\"aaxis\":{\"endlinecolor\":\"#2a3f5f\",\"gridcolor\":\"white\",\"linecolor\":\"white\",\"minorgridcolor\":\"white\",\"startlinecolor\":\"#2a3f5f\"},\"baxis\":{\"endlinecolor\":\"#2a3f5f\",\"gridcolor\":\"white\",\"linecolor\":\"white\",\"minorgridcolor\":\"white\",\"startlinecolor\":\"#2a3f5f\"},\"type\":\"carpet\"}],\"choropleth\":[{\"colorbar\":{\"outlinewidth\":0,\"ticks\":\"\"},\"type\":\"choropleth\"}],\"contour\":[{\"colorbar\":{\"outlinewidth\":0,\"ticks\":\"\"},\"colorscale\":[[0.0,\"#0d0887\"],[0.1111111111111111,\"#46039f\"],[0.2222222222222222,\"#7201a8\"],[0.3333333333333333,\"#9c179e\"],[0.4444444444444444,\"#bd3786\"],[0.5555555555555556,\"#d8576b\"],[0.6666666666666666,\"#ed7953\"],[0.7777777777777778,\"#fb9f3a\"],[0.8888888888888888,\"#fdca26\"],[1.0,\"#f0f921\"]],\"type\":\"contour\"}],\"contourcarpet\":[{\"colorbar\":{\"outlinewidth\":0,\"ticks\":\"\"},\"type\":\"contourcarpet\"}],\"heatmap\":[{\"colorbar\":{\"outlinewidth\":0,\"ticks\":\"\"},\"colorscale\":[[0.0,\"#0d0887\"],[0.1111111111111111,\"#46039f\"],[0.2222222222222222,\"#7201a8\"],[0.3333333333333333,\"#9c179e\"],[0.4444444444444444,\"#bd3786\"],[0.5555555555555556,\"#d8576b\"],[0.6666666666666666,\"#ed7953\"],[0.7777777777777778,\"#fb9f3a\"],[0.8888888888888888,\"#fdca26\"],[1.0,\"#f0f921\"]],\"type\":\"heatmap\"}],\"heatmapgl\":[{\"colorbar\":{\"outlinewidth\":0,\"ticks\":\"\"},\"colorscale\":[[0.0,\"#0d0887\"],[0.1111111111111111,\"#46039f\"],[0.2222222222222222,\"#7201a8\"],[0.3333333333333333,\"#9c179e\"],[0.4444444444444444,\"#bd3786\"],[0.5555555555555556,\"#d8576b\"],[0.6666666666666666,\"#ed7953\"],[0.7777777777777778,\"#fb9f3a\"],[0.8888888888888888,\"#fdca26\"],[1.0,\"#f0f921\"]],\"type\":\"heatmapgl\"}],\"histogram\":[{\"marker\":{\"pattern\":{\"fillmode\":\"overlay\",\"size\":10,\"solidity\":0.2}},\"type\":\"histogram\"}],\"histogram2d\":[{\"colorbar\":{\"outlinewidth\":0,\"ticks\":\"\"},\"colorscale\":[[0.0,\"#0d0887\"],[0.1111111111111111,\"#46039f\"],[0.2222222222222222,\"#7201a8\"],[0.3333333333333333,\"#9c179e\"],[0.4444444444444444,\"#bd3786\"],[0.5555555555555556,\"#d8576b\"],[0.6666666666666666,\"#ed7953\"],[0.7777777777777778,\"#fb9f3a\"],[0.8888888888888888,\"#fdca26\"],[1.0,\"#f0f921\"]],\"type\":\"histogram2d\"}],\"histogram2dcontour\":[{\"colorbar\":{\"outlinewidth\":0,\"ticks\":\"\"},\"colorscale\":[[0.0,\"#0d0887\"],[0.1111111111111111,\"#46039f\"],[0.2222222222222222,\"#7201a8\"],[0.3333333333333333,\"#9c179e\"],[0.4444444444444444,\"#bd3786\"],[0.5555555555555556,\"#d8576b\"],[0.6666666666666666,\"#ed7953\"],[0.7777777777777778,\"#fb9f3a\"],[0.8888888888888888,\"#fdca26\"],[1.0,\"#f0f921\"]],\"type\":\"histogram2dcontour\"}],\"mesh3d\":[{\"colorbar\":{\"outlinewidth\":0,\"ticks\":\"\"},\"type\":\"mesh3d\"}],\"parcoords\":[{\"line\":{\"colorbar\":{\"outlinewidth\":0,\"ticks\":\"\"}},\"type\":\"parcoords\"}],\"pie\":[{\"automargin\":true,\"type\":\"pie\"}],\"scatter\":[{\"marker\":{\"colorbar\":{\"outlinewidth\":0,\"ticks\":\"\"}},\"type\":\"scatter\"}],\"scatter3d\":[{\"line\":{\"colorbar\":{\"outlinewidth\":0,\"ticks\":\"\"}},\"marker\":{\"colorbar\":{\"outlinewidth\":0,\"ticks\":\"\"}},\"type\":\"scatter3d\"}],\"scattercarpet\":[{\"marker\":{\"colorbar\":{\"outlinewidth\":0,\"ticks\":\"\"}},\"type\":\"scattercarpet\"}],\"scattergeo\":[{\"marker\":{\"colorbar\":{\"outlinewidth\":0,\"ticks\":\"\"}},\"type\":\"scattergeo\"}],\"scattergl\":[{\"marker\":{\"colorbar\":{\"outlinewidth\":0,\"ticks\":\"\"}},\"type\":\"scattergl\"}],\"scattermapbox\":[{\"marker\":{\"colorbar\":{\"outlinewidth\":0,\"ticks\":\"\"}},\"type\":\"scattermapbox\"}],\"scatterpolar\":[{\"marker\":{\"colorbar\":{\"outlinewidth\":0,\"ticks\":\"\"}},\"type\":\"scatterpolar\"}],\"scatterpolargl\":[{\"marker\":{\"colorbar\":{\"outlinewidth\":0,\"ticks\":\"\"}},\"type\":\"scatterpolargl\"}],\"scatterternary\":[{\"marker\":{\"colorbar\":{\"outlinewidth\":0,\"ticks\":\"\"}},\"type\":\"scatterternary\"}],\"surface\":[{\"colorbar\":{\"outlinewidth\":0,\"ticks\":\"\"},\"colorscale\":[[0.0,\"#0d0887\"],[0.1111111111111111,\"#46039f\"],[0.2222222222222222,\"#7201a8\"],[0.3333333333333333,\"#9c179e\"],[0.4444444444444444,\"#bd3786\"],[0.5555555555555556,\"#d8576b\"],[0.6666666666666666,\"#ed7953\"],[0.7777777777777778,\"#fb9f3a\"],[0.8888888888888888,\"#fdca26\"],[1.0,\"#f0f921\"]],\"type\":\"surface\"}],\"table\":[{\"cells\":{\"fill\":{\"color\":\"#EBF0F8\"},\"line\":{\"color\":\"white\"}},\"header\":{\"fill\":{\"color\":\"#C8D4E3\"},\"line\":{\"color\":\"white\"}},\"type\":\"table\"}]},\"layout\":{\"annotationdefaults\":{\"arrowcolor\":\"#2a3f5f\",\"arrowhead\":0,\"arrowwidth\":1},\"autotypenumbers\":\"strict\",\"coloraxis\":{\"colorbar\":{\"outlinewidth\":0,\"ticks\":\"\"}},\"colorscale\":{\"diverging\":[[0,\"#8e0152\"],[0.1,\"#c51b7d\"],[0.2,\"#de77ae\"],[0.3,\"#f1b6da\"],[0.4,\"#fde0ef\"],[0.5,\"#f7f7f7\"],[0.6,\"#e6f5d0\"],[0.7,\"#b8e186\"],[0.8,\"#7fbc41\"],[0.9,\"#4d9221\"],[1,\"#276419\"]],\"sequential\":[[0.0,\"#0d0887\"],[0.1111111111111111,\"#46039f\"],[0.2222222222222222,\"#7201a8\"],[0.3333333333333333,\"#9c179e\"],[0.4444444444444444,\"#bd3786\"],[0.5555555555555556,\"#d8576b\"],[0.6666666666666666,\"#ed7953\"],[0.7777777777777778,\"#fb9f3a\"],[0.8888888888888888,\"#fdca26\"],[1.0,\"#f0f921\"]],\"sequentialminus\":[[0.0,\"#0d0887\"],[0.1111111111111111,\"#46039f\"],[0.2222222222222222,\"#7201a8\"],[0.3333333333333333,\"#9c179e\"],[0.4444444444444444,\"#bd3786\"],[0.5555555555555556,\"#d8576b\"],[0.6666666666666666,\"#ed7953\"],[0.7777777777777778,\"#fb9f3a\"],[0.8888888888888888,\"#fdca26\"],[1.0,\"#f0f921\"]]},\"colorway\":[\"#636efa\",\"#EF553B\",\"#00cc96\",\"#ab63fa\",\"#FFA15A\",\"#19d3f3\",\"#FF6692\",\"#B6E880\",\"#FF97FF\",\"#FECB52\"],\"font\":{\"color\":\"#2a3f5f\"},\"geo\":{\"bgcolor\":\"white\",\"lakecolor\":\"white\",\"landcolor\":\"#E5ECF6\",\"showlakes\":true,\"showland\":true,\"subunitcolor\":\"white\"},\"hoverlabel\":{\"align\":\"left\"},\"hovermode\":\"closest\",\"mapbox\":{\"style\":\"light\"},\"paper_bgcolor\":\"white\",\"plot_bgcolor\":\"#E5ECF6\",\"polar\":{\"angularaxis\":{\"gridcolor\":\"white\",\"linecolor\":\"white\",\"ticks\":\"\"},\"bgcolor\":\"#E5ECF6\",\"radialaxis\":{\"gridcolor\":\"white\",\"linecolor\":\"white\",\"ticks\":\"\"}},\"scene\":{\"xaxis\":{\"backgroundcolor\":\"#E5ECF6\",\"gridcolor\":\"white\",\"gridwidth\":2,\"linecolor\":\"white\",\"showbackground\":true,\"ticks\":\"\",\"zerolinecolor\":\"white\"},\"yaxis\":{\"backgroundcolor\":\"#E5ECF6\",\"gridcolor\":\"white\",\"gridwidth\":2,\"linecolor\":\"white\",\"showbackground\":true,\"ticks\":\"\",\"zerolinecolor\":\"white\"},\"zaxis\":{\"backgroundcolor\":\"#E5ECF6\",\"gridcolor\":\"white\",\"gridwidth\":2,\"linecolor\":\"white\",\"showbackground\":true,\"ticks\":\"\",\"zerolinecolor\":\"white\"}},\"shapedefaults\":{\"line\":{\"color\":\"#2a3f5f\"}},\"ternary\":{\"aaxis\":{\"gridcolor\":\"white\",\"linecolor\":\"white\",\"ticks\":\"\"},\"baxis\":{\"gridcolor\":\"white\",\"linecolor\":\"white\",\"ticks\":\"\"},\"bgcolor\":\"#E5ECF6\",\"caxis\":{\"gridcolor\":\"white\",\"linecolor\":\"white\",\"ticks\":\"\"}},\"title\":{\"x\":0.05},\"xaxis\":{\"automargin\":true,\"gridcolor\":\"white\",\"linecolor\":\"white\",\"ticks\":\"\",\"title\":{\"standoff\":15},\"zerolinecolor\":\"white\",\"zerolinewidth\":2},\"yaxis\":{\"automargin\":true,\"gridcolor\":\"white\",\"linecolor\":\"white\",\"ticks\":\"\",\"title\":{\"standoff\":15},\"zerolinecolor\":\"white\",\"zerolinewidth\":2}}},\"xaxis\":{\"anchor\":\"y\",\"domain\":[0.0,1.0],\"title\":{\"text\":\"feature\"}},\"yaxis\":{\"anchor\":\"x\",\"domain\":[0.0,1.0],\"title\":{\"text\":\"importance\"}},\"legend\":{\"tracegroupgap\":0},\"title\":{\"text\":\"Variable Importances\"},\"barmode\":\"relative\",\"height\":500,\"width\":900},                        {\"responsive\": true}                    ).then(function(){\n                            \nvar gd = document.getElementById('f523e6bf-3880-44d8-8213-aab086d1113f');\nvar x = new MutationObserver(function (mutations, observer) {{\n        var display = window.getComputedStyle(gd).display;\n        if (!display || display === 'none') {{\n            console.log([gd, 'removed!']);\n            Plotly.purge(gd);\n            observer.disconnect();\n        }}\n}});\n\n// Listen for the removal of the full notebook cells\nvar notebookContainer = gd.closest('#notebook-container');\nif (notebookContainer) {{\n    x.observe(notebookContainer, {childList: true});\n}}\n\n// Listen for the clearing of the current output cell\nvar outputEl = gd.closest('.output');\nif (outputEl) {{\n    x.observe(outputEl, {childList: true});\n}}\n\n                        })                };                });            </script>        </div>"
     },
     "metadata": {},
     "output_type": "display_data"
    }
   ],
   "source": [
    "train_time_series_with_folds(X_train, X_test, y_train, y_test)"
   ],
   "metadata": {
    "collapsed": false,
    "pycharm": {
     "name": "#%%\n"
    }
   }
  },
  {
   "cell_type": "code",
   "execution_count": 245,
   "outputs": [],
   "source": [
    "def train_time_series_with_folds_with_standartization(X_train, X_test, y_train, y_test):\n",
    "\n",
    "    scaler = StandardScaler()\n",
    "    X_train_scaled = scaler.fit_transform(X_train)\n",
    "    X_test_scaled = scaler.transform(X_test)\n",
    "\n",
    "\n",
    "    #create, train and do inference of the model\n",
    "    model = GradientBoostingRegressor(random_state=42)\n",
    "    model.fit(X_train_scaled, y_train)\n",
    "\n",
    "    predictions = model.predict(X_test_scaled)\n",
    "\n",
    "    #calculate MAE\n",
    "    mae = np.round(mean_absolute_error(y_test, predictions), 3)\n",
    "\n",
    "    res = []\n",
    "    for i in range(365):\n",
    "        d = dict()\n",
    "        d['timestamp'] = topic_performance_2021.index[i]\n",
    "        d['type'] = 'real'\n",
    "        d['value'] = y_test.iloc[i]\n",
    "        res.append(d)\n",
    "\n",
    "        d = dict()\n",
    "        d['timestamp'] = topic_performance_2021.index[i]\n",
    "        d['type'] = 'prediction'\n",
    "        d['value'] = predictions[i]\n",
    "        res.append(d)\n",
    "\n",
    "    df_results = pd.DataFrame(res)\n",
    "\n",
    "    fig = px.line(df_results, x=\"timestamp\", y=\"value\", color='type', title=(\"Predictions of topic retweet count average for 2021 with MAE:\" + str(mae)),\n",
    "             color_discrete_sequence=px.colors.qualitative.Safe, width=900, height=500)\n",
    "    #fig.add_trace()\n",
    "    fig.update_xaxes(title_text=\"Time\")\n",
    "    fig.update_yaxes(title_text=\"Average retweet count\")\n",
    "    fig.show()\n",
    "    plotly.offline.plot(fig, filename='../../data/charts/Predictions of topic retweet count average for 2021 with MAE.html')\n",
    "\n",
    "\n",
    "    #create a dataframe with the variable importances of the model\n",
    "    df_importances = pd.DataFrame({\n",
    "        'feature': model.feature_names_in_,\n",
    "        'importance': model.feature_importances_\n",
    "    }).sort_values(by='importance', ascending=False)\n",
    "\n",
    "    fig = px.bar(df_importances, x=\"feature\", y=\"importance\", title=(\"Variable Importances\"),\n",
    "             color_discrete_sequence=px.colors.qualitative.Safe, width=900, height=500)\n",
    "    fig.show()"
   ],
   "metadata": {
    "collapsed": false,
    "pycharm": {
     "name": "#%%\n"
    }
   }
  },
  {
   "cell_type": "code",
   "execution_count": 251,
   "outputs": [
    {
     "ename": "TypeError",
     "evalue": "'NoneType' object is not callable",
     "output_type": "error",
     "traceback": [
      "\u001B[0;31m---------------------------------------------------------------------------\u001B[0m",
      "\u001B[0;31mTypeError\u001B[0m                                 Traceback (most recent call last)",
      "File \u001B[0;32m~/opt/anaconda3/envs/pythonProject2/lib/python3.10/site-packages/numpy/core/getlimits.py:384\u001B[0m, in \u001B[0;36mfinfo.__new__\u001B[0;34m(cls, dtype)\u001B[0m\n\u001B[1;32m    383\u001B[0m \u001B[38;5;28;01mtry\u001B[39;00m:\n\u001B[0;32m--> 384\u001B[0m     dtype \u001B[38;5;241m=\u001B[39m \u001B[43mnumeric\u001B[49m\u001B[38;5;241;43m.\u001B[39;49m\u001B[43mdtype\u001B[49m\u001B[43m(\u001B[49m\u001B[43mdtype\u001B[49m\u001B[43m)\u001B[49m\n\u001B[1;32m    385\u001B[0m \u001B[38;5;28;01mexcept\u001B[39;00m \u001B[38;5;167;01mTypeError\u001B[39;00m:\n\u001B[1;32m    386\u001B[0m     \u001B[38;5;66;03m# In case a float instance was given\u001B[39;00m\n",
      "\u001B[0;31mTypeError\u001B[0m: 'NoneType' object is not callable",
      "\nDuring handling of the above exception, another exception occurred:\n",
      "\u001B[0;31mTypeError\u001B[0m                                 Traceback (most recent call last)",
      "Input \u001B[0;32mIn [251]\u001B[0m, in \u001B[0;36m<cell line: 1>\u001B[0;34m()\u001B[0m\n\u001B[0;32m----> 1\u001B[0m \u001B[43mtrain_time_series_with_folds_with_standartization\u001B[49m\u001B[43m(\u001B[49m\u001B[43mX_train\u001B[49m\u001B[43m,\u001B[49m\u001B[43m \u001B[49m\u001B[43mX_test\u001B[49m\u001B[43m,\u001B[49m\u001B[43m \u001B[49m\u001B[43my_train\u001B[49m\u001B[43m,\u001B[49m\u001B[43m \u001B[49m\u001B[43my_test\u001B[49m\u001B[43m)\u001B[49m\n",
      "Input \u001B[0;32mIn [245]\u001B[0m, in \u001B[0;36mtrain_time_series_with_folds_with_standartization\u001B[0;34m(X_train, X_test, y_train, y_test)\u001B[0m\n\u001B[1;32m      1\u001B[0m \u001B[38;5;28;01mdef\u001B[39;00m \u001B[38;5;21mtrain_time_series_with_folds_with_standartization\u001B[39m(X_train, X_test, y_train, y_test):\n\u001B[1;32m      3\u001B[0m     scaler \u001B[38;5;241m=\u001B[39m StandardScaler()\n\u001B[0;32m----> 4\u001B[0m     X_train_scaled \u001B[38;5;241m=\u001B[39m \u001B[43mscaler\u001B[49m\u001B[38;5;241;43m.\u001B[39;49m\u001B[43mfit_transform\u001B[49m\u001B[43m(\u001B[49m\u001B[43mX_train\u001B[49m\u001B[43m)\u001B[49m\n\u001B[1;32m      5\u001B[0m     X_test_scaled \u001B[38;5;241m=\u001B[39m scaler\u001B[38;5;241m.\u001B[39mtransform(X_test)\n\u001B[1;32m      8\u001B[0m     \u001B[38;5;66;03m#create, train and do inference of the model\u001B[39;00m\n",
      "File \u001B[0;32m~/opt/anaconda3/envs/pythonProject2/lib/python3.10/site-packages/sklearn/base.py:852\u001B[0m, in \u001B[0;36mTransformerMixin.fit_transform\u001B[0;34m(self, X, y, **fit_params)\u001B[0m\n\u001B[1;32m    848\u001B[0m \u001B[38;5;66;03m# non-optimized default implementation; override when a better\u001B[39;00m\n\u001B[1;32m    849\u001B[0m \u001B[38;5;66;03m# method is possible for a given clustering algorithm\u001B[39;00m\n\u001B[1;32m    850\u001B[0m \u001B[38;5;28;01mif\u001B[39;00m y \u001B[38;5;129;01mis\u001B[39;00m \u001B[38;5;28;01mNone\u001B[39;00m:\n\u001B[1;32m    851\u001B[0m     \u001B[38;5;66;03m# fit method of arity 1 (unsupervised transformation)\u001B[39;00m\n\u001B[0;32m--> 852\u001B[0m     \u001B[38;5;28;01mreturn\u001B[39;00m \u001B[38;5;28;43mself\u001B[39;49m\u001B[38;5;241;43m.\u001B[39;49m\u001B[43mfit\u001B[49m\u001B[43m(\u001B[49m\u001B[43mX\u001B[49m\u001B[43m,\u001B[49m\u001B[43m \u001B[49m\u001B[38;5;241;43m*\u001B[39;49m\u001B[38;5;241;43m*\u001B[39;49m\u001B[43mfit_params\u001B[49m\u001B[43m)\u001B[49m\u001B[38;5;241m.\u001B[39mtransform(X)\n\u001B[1;32m    853\u001B[0m \u001B[38;5;28;01melse\u001B[39;00m:\n\u001B[1;32m    854\u001B[0m     \u001B[38;5;66;03m# fit method of arity 2 (supervised transformation)\u001B[39;00m\n\u001B[1;32m    855\u001B[0m     \u001B[38;5;28;01mreturn\u001B[39;00m \u001B[38;5;28mself\u001B[39m\u001B[38;5;241m.\u001B[39mfit(X, y, \u001B[38;5;241m*\u001B[39m\u001B[38;5;241m*\u001B[39mfit_params)\u001B[38;5;241m.\u001B[39mtransform(X)\n",
      "File \u001B[0;32m~/opt/anaconda3/envs/pythonProject2/lib/python3.10/site-packages/sklearn/preprocessing/_data.py:806\u001B[0m, in \u001B[0;36mStandardScaler.fit\u001B[0;34m(self, X, y, sample_weight)\u001B[0m\n\u001B[1;32m    804\u001B[0m \u001B[38;5;66;03m# Reset internal state before fitting\u001B[39;00m\n\u001B[1;32m    805\u001B[0m \u001B[38;5;28mself\u001B[39m\u001B[38;5;241m.\u001B[39m_reset()\n\u001B[0;32m--> 806\u001B[0m \u001B[38;5;28;01mreturn\u001B[39;00m \u001B[38;5;28;43mself\u001B[39;49m\u001B[38;5;241;43m.\u001B[39;49m\u001B[43mpartial_fit\u001B[49m\u001B[43m(\u001B[49m\u001B[43mX\u001B[49m\u001B[43m,\u001B[49m\u001B[43m \u001B[49m\u001B[43my\u001B[49m\u001B[43m,\u001B[49m\u001B[43m \u001B[49m\u001B[43msample_weight\u001B[49m\u001B[43m)\u001B[49m\n",
      "File \u001B[0;32m~/opt/anaconda3/envs/pythonProject2/lib/python3.10/site-packages/sklearn/preprocessing/_data.py:944\u001B[0m, in \u001B[0;36mStandardScaler.partial_fit\u001B[0;34m(self, X, y, sample_weight)\u001B[0m\n\u001B[1;32m    939\u001B[0m     \u001B[38;5;28mself\u001B[39m\u001B[38;5;241m.\u001B[39mn_samples_seen_ \u001B[38;5;241m=\u001B[39m \u001B[38;5;28mself\u001B[39m\u001B[38;5;241m.\u001B[39mn_samples_seen_[\u001B[38;5;241m0\u001B[39m]\n\u001B[1;32m    941\u001B[0m \u001B[38;5;28;01mif\u001B[39;00m \u001B[38;5;28mself\u001B[39m\u001B[38;5;241m.\u001B[39mwith_std:\n\u001B[1;32m    942\u001B[0m     \u001B[38;5;66;03m# Extract the list of near constant features on the raw variances,\u001B[39;00m\n\u001B[1;32m    943\u001B[0m     \u001B[38;5;66;03m# before taking the square root.\u001B[39;00m\n\u001B[0;32m--> 944\u001B[0m     constant_mask \u001B[38;5;241m=\u001B[39m \u001B[43m_is_constant_feature\u001B[49m\u001B[43m(\u001B[49m\n\u001B[1;32m    945\u001B[0m \u001B[43m        \u001B[49m\u001B[38;5;28;43mself\u001B[39;49m\u001B[38;5;241;43m.\u001B[39;49m\u001B[43mvar_\u001B[49m\u001B[43m,\u001B[49m\u001B[43m \u001B[49m\u001B[38;5;28;43mself\u001B[39;49m\u001B[38;5;241;43m.\u001B[39;49m\u001B[43mmean_\u001B[49m\u001B[43m,\u001B[49m\u001B[43m \u001B[49m\u001B[38;5;28;43mself\u001B[39;49m\u001B[38;5;241;43m.\u001B[39;49m\u001B[43mn_samples_seen_\u001B[49m\n\u001B[1;32m    946\u001B[0m \u001B[43m    \u001B[49m\u001B[43m)\u001B[49m\n\u001B[1;32m    947\u001B[0m     \u001B[38;5;28mself\u001B[39m\u001B[38;5;241m.\u001B[39mscale_ \u001B[38;5;241m=\u001B[39m _handle_zeros_in_scale(\n\u001B[1;32m    948\u001B[0m         np\u001B[38;5;241m.\u001B[39msqrt(\u001B[38;5;28mself\u001B[39m\u001B[38;5;241m.\u001B[39mvar_), copy\u001B[38;5;241m=\u001B[39m\u001B[38;5;28;01mFalse\u001B[39;00m, constant_mask\u001B[38;5;241m=\u001B[39mconstant_mask\n\u001B[1;32m    949\u001B[0m     )\n\u001B[1;32m    950\u001B[0m \u001B[38;5;28;01melse\u001B[39;00m:\n",
      "File \u001B[0;32m~/opt/anaconda3/envs/pythonProject2/lib/python3.10/site-packages/sklearn/preprocessing/_data.py:78\u001B[0m, in \u001B[0;36m_is_constant_feature\u001B[0;34m(var, mean, n_samples)\u001B[0m\n\u001B[1;32m     69\u001B[0m \u001B[38;5;124;03m\"\"\"Detect if a feature is indistinguishable from a constant feature.\u001B[39;00m\n\u001B[1;32m     70\u001B[0m \n\u001B[1;32m     71\u001B[0m \u001B[38;5;124;03mThe detection is based on its computed variance and on the theoretical\u001B[39;00m\n\u001B[0;32m   (...)\u001B[0m\n\u001B[1;32m     75\u001B[0m \u001B[38;5;124;03mrecommendations\", by Chan, Golub, and LeVeque.\u001B[39;00m\n\u001B[1;32m     76\u001B[0m \u001B[38;5;124;03m\"\"\"\u001B[39;00m\n\u001B[1;32m     77\u001B[0m \u001B[38;5;66;03m# In scikit-learn, variance is always computed using float64 accumulators.\u001B[39;00m\n\u001B[0;32m---> 78\u001B[0m eps \u001B[38;5;241m=\u001B[39m \u001B[43mnp\u001B[49m\u001B[38;5;241;43m.\u001B[39;49m\u001B[43mfinfo\u001B[49m\u001B[43m(\u001B[49m\u001B[43mnp\u001B[49m\u001B[38;5;241;43m.\u001B[39;49m\u001B[43mfloat64\u001B[49m\u001B[43m)\u001B[49m\u001B[38;5;241m.\u001B[39meps\n\u001B[1;32m     80\u001B[0m upper_bound \u001B[38;5;241m=\u001B[39m n_samples \u001B[38;5;241m*\u001B[39m eps \u001B[38;5;241m*\u001B[39m var \u001B[38;5;241m+\u001B[39m (n_samples \u001B[38;5;241m*\u001B[39m mean \u001B[38;5;241m*\u001B[39m eps) \u001B[38;5;241m*\u001B[39m\u001B[38;5;241m*\u001B[39m \u001B[38;5;241m2\u001B[39m\n\u001B[1;32m     81\u001B[0m \u001B[38;5;28;01mreturn\u001B[39;00m var \u001B[38;5;241m<\u001B[39m\u001B[38;5;241m=\u001B[39m upper_bound\n",
      "File \u001B[0;32m~/opt/anaconda3/envs/pythonProject2/lib/python3.10/site-packages/numpy/core/getlimits.py:387\u001B[0m, in \u001B[0;36mfinfo.__new__\u001B[0;34m(cls, dtype)\u001B[0m\n\u001B[1;32m    384\u001B[0m     dtype \u001B[38;5;241m=\u001B[39m numeric\u001B[38;5;241m.\u001B[39mdtype(dtype)\n\u001B[1;32m    385\u001B[0m \u001B[38;5;28;01mexcept\u001B[39;00m \u001B[38;5;167;01mTypeError\u001B[39;00m:\n\u001B[1;32m    386\u001B[0m     \u001B[38;5;66;03m# In case a float instance was given\u001B[39;00m\n\u001B[0;32m--> 387\u001B[0m     dtype \u001B[38;5;241m=\u001B[39m \u001B[43mnumeric\u001B[49m\u001B[38;5;241;43m.\u001B[39;49m\u001B[43mdtype\u001B[49m\u001B[43m(\u001B[49m\u001B[38;5;28;43mtype\u001B[39;49m\u001B[43m(\u001B[49m\u001B[43mdtype\u001B[49m\u001B[43m)\u001B[49m\u001B[43m)\u001B[49m\n\u001B[1;32m    389\u001B[0m obj \u001B[38;5;241m=\u001B[39m \u001B[38;5;28mcls\u001B[39m\u001B[38;5;241m.\u001B[39m_finfo_cache\u001B[38;5;241m.\u001B[39mget(dtype, \u001B[38;5;28;01mNone\u001B[39;00m)\n\u001B[1;32m    390\u001B[0m \u001B[38;5;28;01mif\u001B[39;00m obj \u001B[38;5;129;01mis\u001B[39;00m \u001B[38;5;129;01mnot\u001B[39;00m \u001B[38;5;28;01mNone\u001B[39;00m:\n",
      "\u001B[0;31mTypeError\u001B[0m: 'NoneType' object is not callable"
     ]
    }
   ],
   "source": [
    "train_time_series_with_folds_with_standartization(X_train, X_test, y_train, y_test)"
   ],
   "metadata": {
    "collapsed": false,
    "pycharm": {
     "name": "#%%\n"
    }
   }
  },
  {
   "cell_type": "code",
   "execution_count": null,
   "outputs": [],
   "source": [],
   "metadata": {
    "collapsed": false,
    "pycharm": {
     "name": "#%%\n"
    }
   }
  }
 ],
 "metadata": {
  "kernelspec": {
   "display_name": "Python 3",
   "language": "python",
   "name": "python3"
  },
  "language_info": {
   "codemirror_mode": {
    "name": "ipython",
    "version": 2
   },
   "file_extension": ".py",
   "mimetype": "text/x-python",
   "name": "python",
   "nbconvert_exporter": "python",
   "pygments_lexer": "ipython2",
   "version": "2.7.6"
  }
 },
 "nbformat": 4,
 "nbformat_minor": 0
}